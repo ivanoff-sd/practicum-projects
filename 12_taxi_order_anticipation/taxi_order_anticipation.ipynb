{
 "cells": [
  {
   "cell_type": "markdown",
   "metadata": {},
   "source": [
    " <div class=\"alert alert-success\" style=\"border-color: green; border-radius: 5px\">\n",
    "    <font color='green'> <b><u>КОММЕНТАРИЙ РЕВЬЮЕРА</u></b><br>\n",
    "\n",
    "Дорогой коллега, доброго дня! рад приветствовать тебя) <br />\n",
    "(Как я могу называть тебя по имени, просто вижу вот это  только - streetlights = fatigue (streetlights.fatigue@yandex.ru))<br><br>\n",
    "<br />\n",
    "Меня зовут Николай Шавлюго. <br />И на этом этапе твоего движения к новой профессии от меня будут комментарии по написанному коду. <br />Чтобы меньше \"мусорить эфир\" и чтобы максимально наглядно отделяться от основного кода, есть предложение условиться в некоторых обозначениях:<br /> <br />\n",
    "<div class=\"alert alert-success\" style=\"border-color: green; border-radius: 5px\">\n",
    "    <p><u><b>✅ КОММЕНТАРИЙ РЕВЬЮЕРА</b></u></p>\n",
    "    <p>Всё хорошо.</p>\n",
    "</div>\n",
    "\n",
    "<div class=\"alert alert-warning\" style=\"border-color: darkorange; border-radius: 5px\">\n",
    "    <p><u><b>⚠️ КОММЕНТАРИЙ РЕВЬЮЕРА</b></u></p>\n",
    "    <p>Обрати внимание, есть потенциал</p>\n",
    "</div>\n",
    "\n",
    "<div class=\"alert alert-danger\" style=\"border-color: darkred; border-radius: 5px\">\n",
    "    <p><u><b>❌ КОММЕНТАРИЙ РЕВЬЮЕРА</b></u></p>\n",
    "    <p>Нужно ещё раз глянуть</p>\n",
    "</div>\n",
    "</font><br /><br />\n",
    "<font color='green'>Моей целью является не \"уличить\" в не знании, а просто высказать сверху твоих знаний - свой опыт, что бы тебе использовать его для своего дальнейшего успеха) И очень здорово будет, если удастся задавать вопросы, да и вообще - всячески доставать меня, если я по каким-то причинам не приму проект:) При этом, из своего опыта скажу, хорошо и важно, когда переписка ревьюера и студента - сохраняется на следующие проекты и даже на будущую практическую деятельность.<br>\n",
    "<br> Я сразу же начал общаться на ты:) но если это не очень удобно, то дай знать)) <BR> В ПУТЬ!<br></div>\n",
    "    \n",
    "    \n",
    "<div class=\"alert alert-info\" style=\"border-color: darkred; border-radius: 5px\">\n",
    "    <p><u><b> КОММЕНТАРИЙ СТУДЕНТА</b></u></p>\n",
    "    <p>Добрый день, Николай. \n",
    "        Меня зовут Сергей.\n",
    "        Прошу прощения за какую-то ерунду в личных данных =) раньше проблем с этим не было, я и не помнил что там написано (еще бы, почту регистрировал в 2010). Спасибо, поправил.\n",
    "    \n",
    "    \n",
    "Здесь укажу список своих исправлений, чтоб было проще искать\n",
    "    \n",
    "        - пункт 3.1. Убрал лишние фичи\n",
    "    \n",
    "        - пункт 3.2. Убрал скейлер\n",
    "    \n",
    "        - пункт 3.5. Добавил таблицу с результатами валидации моделей\n",
    "    \n",
    "        - пункт 4. Оставил лучшую модель, убрал скейлер и добавил график сравнения предсказаний с таргетом\n",
    "    \n",
    "</div>"
   ]
  },
  {
   "cell_type": "markdown",
   "metadata": {},
   "source": [
    "<div class=\"alert alert-success\" style=\"border-color: green; border-radius: 5px\">\n",
    "    <p><u><b>✅ КОММЕНТАРИЙ РЕВЬЮЕРА 2</b></u></p>\n",
    "    <p>Привет, Сергей! Рад знакомству. ОК, понял. Хорошо, спасибо.<br>\n",
    "Пошёл вниз смотреть...    \n",
    "</p>\n",
    "</div>"
   ]
  },
  {
   "cell_type": "code",
   "execution_count": null,
   "metadata": {},
   "outputs": [],
   "source": []
  },
  {
   "cell_type": "markdown",
   "metadata": {},
   "source": [
    "# Прогнозирование заказов такси"
   ]
  },
  {
   "cell_type": "markdown",
   "metadata": {},
   "source": [
    "## Описание проекта\n",
    "\n",
    "### Цель исследования:\n",
    "Спрогнозировать количество заказов такси в аэропорту на следующий час с помощью машинного обучения.\n",
    "\n",
    "### Задачи исследования:\n",
    "- Ресемплировать данные по одному часу;\n",
    "- Проанализировать данные;\n",
    "- Подготовить обучающую и тестовую выборки. Размер тестовой выборки - 10% от исходной;\n",
    "- Обучить ряд моделей с различными гиперпараметрами;\n",
    "- Достичь значений RMSE, не превышающих 48 на тестовой выборке.\n",
    "\n",
    "\n",
    "### Данные\n",
    "Историческая информация о заказах такси предоставлена заказчиком.\n",
    "- Количество заказов находится в столбце 'num_orders' (от англ. number of orders, «число заказов»)."
   ]
  },
  {
   "cell_type": "markdown",
   "metadata": {
    "toc": true
   },
   "source": [
    "<h1>Содержание<span class=\"tocSkip\"></span></h1>\n",
    "<div class=\"toc\"><ul class=\"toc-item\"><li><span><a href=\"#Описание-проекта\" data-toc-modified-id=\"Описание-проекта-1\"><span class=\"toc-item-num\">1&nbsp;&nbsp;</span>Описание проекта</a></span><ul class=\"toc-item\"><li><span><a href=\"#Цель-исследования:\" data-toc-modified-id=\"Цель-исследования:-1.1\"><span class=\"toc-item-num\">1.1&nbsp;&nbsp;</span>Цель исследования:</a></span></li><li><span><a href=\"#Задачи-исследования:\" data-toc-modified-id=\"Задачи-исследования:-1.2\"><span class=\"toc-item-num\">1.2&nbsp;&nbsp;</span>Задачи исследования:</a></span></li><li><span><a href=\"#Данные\" data-toc-modified-id=\"Данные-1.3\"><span class=\"toc-item-num\">1.3&nbsp;&nbsp;</span>Данные</a></span></li></ul></li><li><span><a href=\"#Подготовка-данных\" data-toc-modified-id=\"Подготовка-данных-2\"><span class=\"toc-item-num\">2&nbsp;&nbsp;</span>Подготовка данных</a></span><ul class=\"toc-item\"><li><span><a href=\"#Импорт-библиотек\" data-toc-modified-id=\"Импорт-библиотек-2.1\"><span class=\"toc-item-num\">2.1&nbsp;&nbsp;</span>Импорт библиотек</a></span></li><li><span><a href=\"#Загрузка-и-осмотр-датасета\" data-toc-modified-id=\"Загрузка-и-осмотр-датасета-2.2\"><span class=\"toc-item-num\">2.2&nbsp;&nbsp;</span>Загрузка и осмотр датасета</a></span><ul class=\"toc-item\"><li><span><a href=\"#Информация-о-данных\" data-toc-modified-id=\"Информация-о-данных-2.2.1\"><span class=\"toc-item-num\">2.2.1&nbsp;&nbsp;</span>Информация о данных</a></span></li><li><span><a href=\"#Индексация-по-времени-и-ресемплирование-данных\" data-toc-modified-id=\"Индексация-по-времени-и-ресемплирование-данных-2.2.2\"><span class=\"toc-item-num\">2.2.2&nbsp;&nbsp;</span>Индексация по времени и ресемплирование данных</a></span></li></ul></li><li><span><a href=\"#Анализ\" data-toc-modified-id=\"Анализ-2.3\"><span class=\"toc-item-num\">2.3&nbsp;&nbsp;</span>Анализ</a></span><ul class=\"toc-item\"><li><span><a href=\"#Исследование-статистических-показателей\" data-toc-modified-id=\"Исследование-статистических-показателей-2.3.1\"><span class=\"toc-item-num\">2.3.1&nbsp;&nbsp;</span>Исследование статистических показателей</a></span></li><li><span><a href=\"#Сезонная-декомпозиция\" data-toc-modified-id=\"Сезонная-декомпозиция-2.3.2\"><span class=\"toc-item-num\">2.3.2&nbsp;&nbsp;</span>Сезонная декомпозиция</a></span></li></ul></li></ul></li><li><span><a href=\"#Обучение\" data-toc-modified-id=\"Обучение-3\"><span class=\"toc-item-num\">3&nbsp;&nbsp;</span>Обучение</a></span><ul class=\"toc-item\"><li><span><a href=\"#Объявление-функций\" data-toc-modified-id=\"Объявление-функций-3.1\"><span class=\"toc-item-num\">3.1&nbsp;&nbsp;</span>Объявление функций</a></span></li><li><span><a href=\"#Линейная-регрессия\" data-toc-modified-id=\"Линейная-регрессия-3.2\"><span class=\"toc-item-num\">3.2&nbsp;&nbsp;</span>Линейная регрессия</a></span></li><li><span><a href=\"#RandomForestRegressor\" data-toc-modified-id=\"RandomForestRegressor-3.3\"><span class=\"toc-item-num\">3.3&nbsp;&nbsp;</span>RandomForestRegressor</a></span></li><li><span><a href=\"#Light-GBM-Regressor\" data-toc-modified-id=\"Light-GBM-Regressor-3.4\"><span class=\"toc-item-num\">3.4&nbsp;&nbsp;</span>Light GBM Regressor</a></span></li><li><span><a href=\"#Результирующая-таблица\" data-toc-modified-id=\"Результирующая-таблица-3.5\"><span class=\"toc-item-num\">3.5&nbsp;&nbsp;</span>Результирующая таблица</a></span></li></ul></li><li><span><a href=\"#Тестирование\" data-toc-modified-id=\"Тестирование-4\"><span class=\"toc-item-num\">4&nbsp;&nbsp;</span>Тестирование</a></span><ul class=\"toc-item\"><li><span><a href=\"#LinearRegression()\" data-toc-modified-id=\"LinearRegression()-4.1\"><span class=\"toc-item-num\">4.1&nbsp;&nbsp;</span>LinearRegression()</a></span></li><li><span><a href=\"#График-результатов-модели\" data-toc-modified-id=\"График-результатов-модели-4.2\"><span class=\"toc-item-num\">4.2&nbsp;&nbsp;</span>График результатов модели</a></span></li></ul></li><li><span><a href=\"#Вывод\" data-toc-modified-id=\"Вывод-5\"><span class=\"toc-item-num\">5&nbsp;&nbsp;</span>Вывод</a></span><ul class=\"toc-item\"><li><span><a href=\"#Цель-исследования:\" data-toc-modified-id=\"Цель-исследования:-5.1\"><span class=\"toc-item-num\">5.1&nbsp;&nbsp;</span>Цель исследования:</a></span></li><li><span><a href=\"#Задачи-исследования:\" data-toc-modified-id=\"Задачи-исследования:-5.2\"><span class=\"toc-item-num\">5.2&nbsp;&nbsp;</span>Задачи исследования:</a></span></li><li><span><a href=\"#Материалы-и-методы\" data-toc-modified-id=\"Материалы-и-методы-5.3\"><span class=\"toc-item-num\">5.3&nbsp;&nbsp;</span>Материалы и методы</a></span></li><li><span><a href=\"#Ход-исследования\" data-toc-modified-id=\"Ход-исследования-5.4\"><span class=\"toc-item-num\">5.4&nbsp;&nbsp;</span>Ход исследования</a></span></li><li><span><a href=\"#Результаты-исследования\" data-toc-modified-id=\"Результаты-исследования-5.5\"><span class=\"toc-item-num\">5.5&nbsp;&nbsp;</span>Результаты исследования</a></span></li><li><span><a href=\"#Вывод\" data-toc-modified-id=\"Вывод-5.6\"><span class=\"toc-item-num\">5.6&nbsp;&nbsp;</span>Вывод</a></span></li></ul></li><li><span><a href=\"#Чек-лист-проверки\" data-toc-modified-id=\"Чек-лист-проверки-6\"><span class=\"toc-item-num\">6&nbsp;&nbsp;</span>Чек-лист проверки</a></span></li></ul></div>"
   ]
  },
  {
   "cell_type": "markdown",
   "metadata": {},
   "source": [
    "## Подготовка данных\n",
    "### Импорт библиотек"
   ]
  },
  {
   "cell_type": "code",
   "execution_count": 1,
   "metadata": {},
   "outputs": [],
   "source": [
    "import pandas as pd\n",
    "\n",
    "import matplotlib.pyplot as plt\n",
    "\n",
    "from statsmodels.tsa.seasonal import seasonal_decompose\n",
    "\n",
    "from sklearn.model_selection import train_test_split, ParameterGrid\n",
    "from sklearn.preprocessing import StandardScaler\n",
    "from sklearn.linear_model import LinearRegression\n",
    "from sklearn.metrics import mean_squared_error\n",
    "from sklearn.ensemble import RandomForestRegressor\n",
    "\n",
    "from lightgbm import LGBMRegressor"
   ]
  },
  {
   "cell_type": "markdown",
   "metadata": {},
   "source": [
    "### Загрузка и осмотр датасета"
   ]
  },
  {
   "cell_type": "code",
   "execution_count": 2,
   "metadata": {},
   "outputs": [],
   "source": [
    "data = pd.read_csv('/datasets/taxi.csv')"
   ]
  },
  {
   "cell_type": "markdown",
   "metadata": {},
   "source": [
    "<div class=\"alert alert-success\" style=\"border-color: green; border-radius: 5px\">\n",
    "    <p><u><b>✅ КОММЕНТАРИЙ РЕВЬЮЕРА</b></u></p>\n",
    "    <p>ОК, данные на базе)</p>\n",
    "</div>"
   ]
  },
  {
   "cell_type": "markdown",
   "metadata": {},
   "source": [
    "#### Информация о данных"
   ]
  },
  {
   "cell_type": "code",
   "execution_count": 3,
   "metadata": {
    "scrolled": true
   },
   "outputs": [
    {
     "name": "stdout",
     "output_type": "stream",
     "text": [
      "<class 'pandas.core.frame.DataFrame'>\n",
      "RangeIndex: 26496 entries, 0 to 26495\n",
      "Data columns (total 2 columns):\n",
      " #   Column      Non-Null Count  Dtype \n",
      "---  ------      --------------  ----- \n",
      " 0   datetime    26496 non-null  object\n",
      " 1   num_orders  26496 non-null  int64 \n",
      "dtypes: int64(1), object(1)\n",
      "memory usage: 414.1+ KB\n"
     ]
    },
    {
     "data": {
      "text/html": [
       "<div>\n",
       "<style scoped>\n",
       "    .dataframe tbody tr th:only-of-type {\n",
       "        vertical-align: middle;\n",
       "    }\n",
       "\n",
       "    .dataframe tbody tr th {\n",
       "        vertical-align: top;\n",
       "    }\n",
       "\n",
       "    .dataframe thead th {\n",
       "        text-align: right;\n",
       "    }\n",
       "</style>\n",
       "<table border=\"1\" class=\"dataframe\">\n",
       "  <thead>\n",
       "    <tr style=\"text-align: right;\">\n",
       "      <th></th>\n",
       "      <th>datetime</th>\n",
       "      <th>num_orders</th>\n",
       "    </tr>\n",
       "  </thead>\n",
       "  <tbody>\n",
       "    <tr>\n",
       "      <th>0</th>\n",
       "      <td>2018-03-01 00:00:00</td>\n",
       "      <td>9</td>\n",
       "    </tr>\n",
       "    <tr>\n",
       "      <th>1</th>\n",
       "      <td>2018-03-01 00:10:00</td>\n",
       "      <td>14</td>\n",
       "    </tr>\n",
       "    <tr>\n",
       "      <th>2</th>\n",
       "      <td>2018-03-01 00:20:00</td>\n",
       "      <td>28</td>\n",
       "    </tr>\n",
       "    <tr>\n",
       "      <th>3</th>\n",
       "      <td>2018-03-01 00:30:00</td>\n",
       "      <td>20</td>\n",
       "    </tr>\n",
       "    <tr>\n",
       "      <th>4</th>\n",
       "      <td>2018-03-01 00:40:00</td>\n",
       "      <td>32</td>\n",
       "    </tr>\n",
       "  </tbody>\n",
       "</table>\n",
       "</div>"
      ],
      "text/plain": [
       "              datetime  num_orders\n",
       "0  2018-03-01 00:00:00           9\n",
       "1  2018-03-01 00:10:00          14\n",
       "2  2018-03-01 00:20:00          28\n",
       "3  2018-03-01 00:30:00          20\n",
       "4  2018-03-01 00:40:00          32"
      ]
     },
     "metadata": {},
     "output_type": "display_data"
    },
    {
     "data": {
      "text/html": [
       "<div>\n",
       "<style scoped>\n",
       "    .dataframe tbody tr th:only-of-type {\n",
       "        vertical-align: middle;\n",
       "    }\n",
       "\n",
       "    .dataframe tbody tr th {\n",
       "        vertical-align: top;\n",
       "    }\n",
       "\n",
       "    .dataframe thead th {\n",
       "        text-align: right;\n",
       "    }\n",
       "</style>\n",
       "<table border=\"1\" class=\"dataframe\">\n",
       "  <thead>\n",
       "    <tr style=\"text-align: right;\">\n",
       "      <th></th>\n",
       "      <th>num_orders</th>\n",
       "    </tr>\n",
       "  </thead>\n",
       "  <tbody>\n",
       "    <tr>\n",
       "      <th>count</th>\n",
       "      <td>26496.000000</td>\n",
       "    </tr>\n",
       "    <tr>\n",
       "      <th>mean</th>\n",
       "      <td>14.070463</td>\n",
       "    </tr>\n",
       "    <tr>\n",
       "      <th>std</th>\n",
       "      <td>9.211330</td>\n",
       "    </tr>\n",
       "    <tr>\n",
       "      <th>min</th>\n",
       "      <td>0.000000</td>\n",
       "    </tr>\n",
       "    <tr>\n",
       "      <th>25%</th>\n",
       "      <td>8.000000</td>\n",
       "    </tr>\n",
       "    <tr>\n",
       "      <th>50%</th>\n",
       "      <td>13.000000</td>\n",
       "    </tr>\n",
       "    <tr>\n",
       "      <th>75%</th>\n",
       "      <td>19.000000</td>\n",
       "    </tr>\n",
       "    <tr>\n",
       "      <th>max</th>\n",
       "      <td>119.000000</td>\n",
       "    </tr>\n",
       "  </tbody>\n",
       "</table>\n",
       "</div>"
      ],
      "text/plain": [
       "         num_orders\n",
       "count  26496.000000\n",
       "mean      14.070463\n",
       "std        9.211330\n",
       "min        0.000000\n",
       "25%        8.000000\n",
       "50%       13.000000\n",
       "75%       19.000000\n",
       "max      119.000000"
      ]
     },
     "metadata": {},
     "output_type": "display_data"
    }
   ],
   "source": [
    "data.info()\n",
    "display(data.head())\n",
    "display(data.describe())\n"
   ]
  },
  {
   "cell_type": "code",
   "execution_count": 4,
   "metadata": {
    "scrolled": false
   },
   "outputs": [
    {
     "data": {
      "text/plain": [
       "True"
      ]
     },
     "execution_count": 4,
     "metadata": {},
     "output_type": "execute_result"
    }
   ],
   "source": [
    "data.datetime.is_monotonic"
   ]
  },
  {
   "cell_type": "code",
   "execution_count": 5,
   "metadata": {
    "scrolled": false
   },
   "outputs": [
    {
     "data": {
      "text/plain": [
       "datetime      0\n",
       "num_orders    0\n",
       "dtype: int64"
      ]
     },
     "execution_count": 5,
     "metadata": {},
     "output_type": "execute_result"
    }
   ],
   "source": [
    "data.isna().sum()"
   ]
  },
  {
   "cell_type": "markdown",
   "metadata": {},
   "source": [
    "<div class=\"alert alert-success\" style=\"border-color: green; border-radius: 5px\">\n",
    "    <p><u><b>✅ КОММЕНТАРИЙ РЕВЬЮЕРА</b></u></p>\n",
    "    <p>ОК</p>\n",
    "</div>"
   ]
  },
  {
   "cell_type": "markdown",
   "metadata": {},
   "source": [
    "Пропусков в данных не обнаружено. Хронологический порядок в столбце datetime сохранён.\n",
    "#### Индексация по времени и ресемплирование данных"
   ]
  },
  {
   "cell_type": "code",
   "execution_count": 6,
   "metadata": {
    "scrolled": true
   },
   "outputs": [
    {
     "name": "stdout",
     "output_type": "stream",
     "text": [
      "<class 'pandas.core.frame.DataFrame'>\n",
      "RangeIndex: 26496 entries, 0 to 26495\n",
      "Data columns (total 2 columns):\n",
      " #   Column      Non-Null Count  Dtype         \n",
      "---  ------      --------------  -----         \n",
      " 0   datetime    26496 non-null  datetime64[ns]\n",
      " 1   num_orders  26496 non-null  int64         \n",
      "dtypes: datetime64[ns](1), int64(1)\n",
      "memory usage: 414.1 KB\n"
     ]
    }
   ],
   "source": [
    "data['datetime'] = pd.DatetimeIndex(data['datetime']) # Перевод столбца datetime в необходимый формат\n",
    "data.info()"
   ]
  },
  {
   "cell_type": "code",
   "execution_count": 7,
   "metadata": {
    "scrolled": true
   },
   "outputs": [],
   "source": [
    "data = data.set_index(['datetime']) # Установка datetime в качестве индекса"
   ]
  },
  {
   "cell_type": "code",
   "execution_count": 8,
   "metadata": {
    "scrolled": false
   },
   "outputs": [],
   "source": [
    "data = data.resample('1h').sum() # Ресемплирование"
   ]
  },
  {
   "cell_type": "code",
   "execution_count": 9,
   "metadata": {
    "scrolled": true
   },
   "outputs": [
    {
     "data": {
      "text/html": [
       "<div>\n",
       "<style scoped>\n",
       "    .dataframe tbody tr th:only-of-type {\n",
       "        vertical-align: middle;\n",
       "    }\n",
       "\n",
       "    .dataframe tbody tr th {\n",
       "        vertical-align: top;\n",
       "    }\n",
       "\n",
       "    .dataframe thead th {\n",
       "        text-align: right;\n",
       "    }\n",
       "</style>\n",
       "<table border=\"1\" class=\"dataframe\">\n",
       "  <thead>\n",
       "    <tr style=\"text-align: right;\">\n",
       "      <th></th>\n",
       "      <th>num_orders</th>\n",
       "    </tr>\n",
       "    <tr>\n",
       "      <th>datetime</th>\n",
       "      <th></th>\n",
       "    </tr>\n",
       "  </thead>\n",
       "  <tbody>\n",
       "    <tr>\n",
       "      <th>2018-03-01 00:00:00</th>\n",
       "      <td>124</td>\n",
       "    </tr>\n",
       "    <tr>\n",
       "      <th>2018-03-01 01:00:00</th>\n",
       "      <td>85</td>\n",
       "    </tr>\n",
       "    <tr>\n",
       "      <th>2018-03-01 02:00:00</th>\n",
       "      <td>71</td>\n",
       "    </tr>\n",
       "    <tr>\n",
       "      <th>2018-03-01 03:00:00</th>\n",
       "      <td>66</td>\n",
       "    </tr>\n",
       "    <tr>\n",
       "      <th>2018-03-01 04:00:00</th>\n",
       "      <td>43</td>\n",
       "    </tr>\n",
       "  </tbody>\n",
       "</table>\n",
       "</div>"
      ],
      "text/plain": [
       "                     num_orders\n",
       "datetime                       \n",
       "2018-03-01 00:00:00         124\n",
       "2018-03-01 01:00:00          85\n",
       "2018-03-01 02:00:00          71\n",
       "2018-03-01 03:00:00          66\n",
       "2018-03-01 04:00:00          43"
      ]
     },
     "execution_count": 9,
     "metadata": {},
     "output_type": "execute_result"
    }
   ],
   "source": [
    "data.head()"
   ]
  },
  {
   "cell_type": "markdown",
   "metadata": {},
   "source": [
    "<div class=\"alert alert-success\" style=\"border-color: green; border-radius: 5px\">\n",
    "    <p><u><b>✅ КОММЕНТАРИЙ РЕВЬЮЕРА</b></u></p>\n",
    "ресемплирование - ОК."
   ]
  },
  {
   "cell_type": "markdown",
   "metadata": {},
   "source": [
    "При осмотре полученной таблицы можно сделать вывод, что индекс изменен и данные ресемплированы корректно.\n",
    "### Анализ\n",
    "#### Исследование статистических показателей"
   ]
  },
  {
   "cell_type": "code",
   "execution_count": 10,
   "metadata": {
    "scrolled": false
   },
   "outputs": [
    {
     "data": {
      "image/png": "[encoded data removed]",
      "text/plain": [
       "<Figure size 1080x432 with 1 Axes>"
      ]
     },
     "metadata": {
      "needs_background": "light"
     },
     "output_type": "display_data"
    }
   ],
   "source": [
    "data['num_orders'].hist(bins=100, range=[0,300], figsize=[15,6])\n",
    "plt.title('Гистограмма распределения количества заказов в час')\n",
    "plt.show()"
   ]
  },
  {
   "cell_type": "markdown",
   "metadata": {},
   "source": [
    "Распределение данной величины близко к распределению Пуассона, как и ожидается от величины, изменяющейся со временем."
   ]
  },
  {
   "cell_type": "code",
   "execution_count": 11,
   "metadata": {
    "scrolled": false
   },
   "outputs": [
    {
     "data": {
      "image/png": "[encoded data removed]",
      "text/plain": [
       "<Figure size 576x720 with 1 Axes>"
      ]
     },
     "metadata": {
      "needs_background": "light"
     },
     "output_type": "display_data"
    }
   ],
   "source": [
    "data.plot(kind='box', title='Диаграмма размаха', figsize=[8, 10])\n",
    "plt.show()"
   ]
  },
  {
   "cell_type": "markdown",
   "metadata": {},
   "source": [
    "В данных есть выбросы, значительно превышающие 3й квартиль. Рассмотрим эти записи поближе:"
   ]
  },
  {
   "cell_type": "code",
   "execution_count": 12,
   "metadata": {
    "scrolled": false
   },
   "outputs": [
    {
     "data": {
      "text/plain": [
       "<bound method DataFrame.sort_values of                      num_orders\n",
       "datetime                       \n",
       "2018-04-24 00:00:00         253\n",
       "2018-07-19 10:00:00         251\n",
       "2018-08-13 01:00:00         273\n",
       "2018-08-13 02:00:00         437\n",
       "2018-08-18 00:00:00         281\n",
       "2018-08-18 02:00:00         254\n",
       "2018-08-20 01:00:00         272\n",
       "2018-08-20 02:00:00         462\n",
       "2018-08-20 04:00:00         273\n",
       "2018-08-25 00:00:00         273\n",
       "2018-08-26 00:00:00         281\n",
       "2018-08-26 03:00:00         267\n",
       "2018-08-27 00:00:00         263\n",
       "2018-08-27 02:00:00         408\n",
       "2018-08-27 04:00:00         295\n",
       "2018-08-29 23:00:00         265\n",
       "2018-08-30 16:00:00         254\n",
       "2018-08-30 17:00:00         342\n",
       "2018-08-31 00:00:00         276\n",
       "2018-08-31 04:00:00         268>"
      ]
     },
     "execution_count": 12,
     "metadata": {},
     "output_type": "execute_result"
    }
   ],
   "source": [
    "data[data['num_orders']>250].sort_values"
   ]
  },
  {
   "cell_type": "markdown",
   "metadata": {},
   "source": [
    "<div class=\"alert alert-success\" style=\"border-color: green; border-radius: 5px\">\n",
    "    <p><u><b>✅ КОММЕНТАРИЙ РЕВЬЮЕРА</b></u></p>\n",
    "Во временных рядах графиком гистограммы для исслдеования первичной информации лучше не пользоваться. Здесь применяем вот графики ниже!."
   ]
  },
  {
   "cell_type": "markdown",
   "metadata": {},
   "source": [
    "Все эти данные относятся ко второй половине августа и в основном отмечены в ночные часы. Можно предположить, что ошибки в данных нет.\n",
    "\n",
    "#### Сезонная декомпозиция"
   ]
  },
  {
   "cell_type": "code",
   "execution_count": 13,
   "metadata": {
    "scrolled": false
   },
   "outputs": [
    {
     "data": {
      "image/png": "[encoded data removed]",
      "text/plain": [
       "<Figure size 1080x504 with 1 Axes>"
      ]
     },
     "metadata": {
      "needs_background": "light"
     },
     "output_type": "display_data"
    }
   ],
   "source": [
    "decomposed = seasonal_decompose(data)\n",
    "plt.figure(figsize=[15,7])\n",
    "plt.title('seasonal decompose')\n",
    "plt.plot(data.rolling(12).mean(), label='rolling mean')\n",
    "plt.plot(decomposed.trend, label='trend')\n",
    "plt.plot(decomposed.seasonal, label='seasonal')\n",
    "plt.plot(decomposed.resid, label='residual')\n",
    "plt.ylim([-100, 300])\n",
    "\n",
    "plt.legend()\n",
    "plt.show()"
   ]
  },
  {
   "cell_type": "markdown",
   "metadata": {},
   "source": [
    "Судя по всему, наблюдается тренд к росту количества заказов на протяжении всего представленного времени. Сезонные колебания, вероятнее всего, носят суточный характер.\n",
    "\n",
    "Рассмотрим август 2018 года подробнее:"
   ]
  },
  {
   "cell_type": "code",
   "execution_count": 14,
   "metadata": {
    "scrolled": false
   },
   "outputs": [
    {
     "data": {
      "image/png": "[encoded data removed]",
      "text/plain": [
       "<Figure size 1080x504 with 1 Axes>"
      ]
     },
     "metadata": {
      "needs_background": "light"
     },
     "output_type": "display_data"
    }
   ],
   "source": [
    "plt.figure(figsize=[15,7])\n",
    "plt.title('seasonal decompose 2018/08')\n",
    "plt.plot(data.rolling(5).mean(), label='rolling mean')\n",
    "plt.plot(decomposed.trend, label='trend')\n",
    "plt.plot(decomposed.seasonal, label='seasonal')\n",
    "plt.plot(decomposed.resid, label='residual')\n",
    "plt.ylim([-100, 300])\n",
    "plt.xlim(pd.DatetimeIndex(['2018-08-01 00:00:00', '2018-09-01 00:00:00']))\n",
    "plt.legend()\n",
    "plt.show()"
   ]
  },
  {
   "cell_type": "markdown",
   "metadata": {},
   "source": [
    "С 13 августа наблюдаются пики с частотой приблизительно раз в неделю, за счёт остаточного компонента."
   ]
  },
  {
   "cell_type": "markdown",
   "metadata": {},
   "source": [
    "<div class=\"alert alert-success\" style=\"border-color: green; border-radius: 5px\">\n",
    "    <p><u><b>✅ КОММЕНТАРИЙ РЕВЬЮЕРА</b></u></p>\n",
    "    <p>\n",
    "Исследование - понятно.<br>\n",
    "Инструмент декомпозиции в частности, а графический анализ временных рядов как в принципе - важный этап моделирования рядов.<br> Позволяет увидеть продажи визуально, а это помогает сделать предвариетльные выводы<br>\n",
    "    \n",
    "Хочу озвучить ещё такой момент<br>\n",
    "В реальности бизнеса есть все три вида сезонности:<br>\n",
    "1) дневная сезонность -  данные собраны по дням, т.е. будни и выходные имеют разные продажи<br>\n",
    "2) внутрисуточная сезонность: когда продажи утром отличаются от продаж вечером <br>\n",
    "3) месячная сезонность: когда продажи лета и осени - разные.<br><br>\n",
    "И если строить прогноз на длительный период времени, то без учёта всех видов сезонности  - не обойтись<br>\n",
    "Например: есть в данных восходящий тренд. Но вопрос такой возникает: <br>\n",
    "этот подъём действительно за счёт роста компании (чаще всего тренд - это отражение роста компании) или есть ещё влияние месячной сезнности? (летом - продаж в рост, например, и именно этот момент мы наблюдаем в данных)<br>\n",
    "Ответ на вопрос - не протой на имеющихся данных - у нас данных меньше года. А это означает, что месячную сезонность нам не просто вычислить адекватно - т.е. не внести в модель корректтировки месяцев(<br>\n",
    "Поэтому, я бы дал такой совет:<br>\n",
    "на горизонте прогнозирования - несколько часов или дней - можно предположить что у нас тренд.<br>\n",
    "А если строить прогноз на несколько недель - вот тут утверждать наличие тренда надо с большой осторожностью))))<br><br>\n",
    "Ну, а если вернуться к постановке задаче - построить прогноз на час (очень маленький горизонт), то двух сезонности часовой и дневной - должно хватить.\n",
    "</font></p></div>"
   ]
  },
  {
   "cell_type": "markdown",
   "metadata": {},
   "source": [
    "## Обучение\n",
    "### Объявление функций\n",
    "\n",
    "Для задач ML необходимо получить дополнительные признаки: скользящее среднее и lags.\n",
    "Учитывая, что разные модели могут повести себя по-разному при одинаковом количестве признаков, будем подбирать оптимальную конфигурацию признаков для каждой модели. Для этого нам потребуются:\n",
    "- функция, которая будет \"достраивать\" датафрейм нужным размером скользящего среднего и нужным количеством лагов;\n",
    "- функция, которая будет самостоятельно разбивать полученные данные на трэйн, валид и тест."
   ]
  },
  {
   "cell_type": "code",
   "execution_count": 15,
   "metadata": {},
   "outputs": [],
   "source": [
    "def get_features(data, dict_parameters):  # функция, \"достраивающая\" признаки\n",
    "# на вход получает датафрейм и словарь с размером скользящего среднего и числом лагов\n",
    "    data_mod = data.copy(deep=True) # создаем копию, чтоб не \"испортить\" исходные данные\n",
    "    \n",
    "    \n",
    "    \n",
    "    data_mod['dayofweek'] = data.index.dayofweek # день недели\n",
    "    # добавляем rolling mean указанного размера\n",
    "    data_mod['rolling_mean'] = data['num_orders'].shift().rolling(dict_parameters['rolling_size']).mean()\n",
    "    for lag in range(1, dict_parameters['max_lag'] + 1): # добавляем лаги в запрошенном количества\n",
    "        data_mod['lag_{}'.format(lag)] = data_mod['num_orders'].shift(lag)\n",
    "    data_mod.dropna(inplace=True) # удаляем пропуски, возникшие в первых строках\n",
    "    return data_mod # возвращаем измененный датафрейм"
   ]
  },
  {
   "cell_type": "markdown",
   "metadata": {},
   "source": [
    "<div class=\"alert alert-danger\" style=\"border-color: darkred; border-radius: 5px\">\n",
    "    <p><u><b>❌ КОММЕНТАРИЙ РЕВЬЮЕРА</b></u></p>\n",
    "На мой взгляд: не все факторы подходят, чисто логически. Выскажу свою позицию:<br><br>\n",
    "\n",
    "1) Фактор год: НЕТ, однозначно не подходит. У нас данных меньше года. Поэтому будет просто константа.<br>\n",
    "2) Фактор месяц: НЕТ, аналогично году, у нас в истории всего один март, май.... Да и горизоно прогноза - часы. Поэтому сезонность времени года будет просто в тренде уже заложена.<br>\n",
    "3) Фактор день: НЕТ, также не подходит, будет просто последовательность чисел<br>\n",
    "4) Фактор день недели: ДА, т.к. у нас есть недельная сезонность<br>\n",
    "5) Фактор час: ДА, т.к. есть часовая (суточная) сезонность.<br>\n",
    "6) Факто lag: ДА, это параметр авторегрессии - учёт влияния вчерашних событий на сегодняшние.<br>\n",
    "7) Фактор rolling: ДА, это аналог тренда. Чем больше окно сглаживания, тем ровнее линия тренда <br>\n",
    "\n",
    "Как ты думаешь?</div>\n",
    "\n",
    "\n",
    "<div class=\"alert alert-info\" style=\"border-color: darkred; border-radius: 5px\">\n",
    "    <p><u><b> КОММЕНТАРИЙ СТУДЕНТА</b></u></p>\n",
    "Согласен, я лишнего добавил =) спасибо, убрал</div>"
   ]
  },
  {
   "cell_type": "markdown",
   "metadata": {},
   "source": [
    "<div class=\"alert alert-success\" style=\"border-color: green; border-radius: 5px\">\n",
    "    <p><u><b>✅ КОММЕНТАРИЙ РЕВЬЮЕРА 2</b></u></p>есть контакт)"
   ]
  },
  {
   "cell_type": "markdown",
   "metadata": {},
   "source": [
    "<div class=\"alert alert-success\" style=\"border-color: green; border-radius: 5px\">\n",
    "    <p><u><b>✅ КОММЕНТАРИЙ РЕВЬЮЕРА</b></u></p> Сразу пару строк о факторе месяц:<br>\n",
    "Если нам брать горизонт прогноза месяц или два , то фактор месяц - очень важне  это факт. А если брать горизонт прогноза несколько часов, то фактор времени года - на таком отрезке времени и не заметен. К тому же, он уже присутствует в тренде (скользящем среднем). Т.е. его участие локально как бы и есть.<br>\n",
    "\n",
    "То, что сейчас месяц может увеличивать точность - это случайно. Он ведь представлен как числа от 1 до 8 и ещё есть тренд, как раз. Т.е. произошло наложение тренда и номера месяца. А вот если продажи буду уходить вниз (или перестанут расти), а мы будем продолжать пользовться моделью, то модель будет предсказывать рост на сентябрь (цифра 9), на октябпрь (цифра 10)... т.е. чиссто числовая тенденция)<br>\n",
    "    \n",
    "Поэтому, рекомендация для будущих проетов на эту тему:<br>\n",
    "Учитывать горизонт прогноза: если задача стоит среднесрочного и долгосрочного прогноза, то месяц нам в помощь (при этом данных должно быть не меннее 2-х / 3-х лет). Если задача краткосрочного прогнозирования - месяц не надо использовать, он уже в тренде заложен.</div>"
   ]
  },
  {
   "cell_type": "markdown",
   "metadata": {},
   "source": [
    "<div class=\"alert alert-success\" style=\"border-color: green; border-radius: 5px\">\n",
    "    <p><u><b>✅ КОММЕНТАРИЙ РЕВЬЮЕРА</b></u></p>Пару строк по фактору лаг и скользящее среднее:<br>\n",
    "Lag: его называют ещё параметром авторегрессии. На бытовом уровне его можно понять так: допустим вчера мы собрались с друзьями и не много закусили.... повлияет ли это на сегодняшний настрой на жизнь? Скорее да)))) Так вот с авторегрессией также. Допустим lag=1 - учитывает (для удобства будем считать, что продажи собраны по дням) как вчерашние продажи - вчерашние события - воалияли на сегоняшние.Lag=2: учитывает как позавчерашние продажи влияютна сегодняшние.....<br>\n",
    "    \n",
    "По скользящему среднего:<br>\n",
    "Предположим rolling=10 - скользящее среднее. По сути, ищем среднее по 10 точкам, потом следующие 10 точек, и т.д. - это некое подобие тренда будет - средней линии. Т.е. - сглаживание колебаний/выбросов. Это легко увидеть на пределе: допустим длина ряда 100 дней. rolling(100) - это просто одно число - среднее всего ряда. <br>\n",
    "    \n",
    "Поэтому, если выставить сезонности - hour и деньНедели, то дополнительные факторы могут быть такие: лаг =1 (максимум 2), а скользящее среднее = 24 (среднее за сутки). Т.е. начинать с этого. В итоге модель будет приемлемая по точности и не много факторов.. а это значит и для бизнеса будет легче доносить решение)</div>"
   ]
  },
  {
   "cell_type": "code",
   "execution_count": 16,
   "metadata": {},
   "outputs": [],
   "source": [
    "def split_data(df): # функция, разделяющая на выборки\n",
    "    features = df.drop('num_orders', axis=1) \n",
    "    target = df['num_orders'] \n",
    "    features_train, features_test, target_train, target_test = train_test_split(features,\n",
    "                                                                                target,\n",
    "                                                                                test_size=0.1,\n",
    "                                                                                shuffle=False)\n",
    "    # размер тестовой выборки 0.1, как требуется заказчику\n",
    "    features_train, features_valid, target_train, target_valid = train_test_split(features_train,\n",
    "                                                                                 target_train,\n",
    "                                                                                 test_size=0.2,\n",
    "                                                                                 shuffle=False)\n",
    "    # размер валидационной выборки 0.2\n",
    "    return features_train, target_train, features_valid, target_valid, features_test, target_test"
   ]
  },
  {
   "cell_type": "markdown",
   "metadata": {},
   "source": [
    "<div class=\"alert alert-success\" style=\"border-color: green; border-radius: 5px\">\n",
    "    <p><u><b>✅ КОММЕНТАРИЙ РЕВЬЮЕРА</b></u></p>shuffle=False - это то, что надо. Посмотрел ниже - получается, что для каждой модели будет каждый раз вызываться эту функция. А зачем. Можно же раз только сделать. Это экономит машинное время."
   ]
  },
  {
   "cell_type": "markdown",
   "metadata": {},
   "source": [
    "<div class=\"alert alert-info\" style=\"border-color: green; border-radius: 5px\">\n",
    "    <p><u><b>✅ КОММЕНТАРИЙ СТУДЕНТА</b></u></p> Функция будет вызываться, т.к. нужной точности удалось добиться лишь подбирая количество ЛАГов и размер rolling mean под каждую модель. Таким образом, каждый раз на выборки режется новый датасет, записанный в старое имя data_mod"
   ]
  },
  {
   "cell_type": "markdown",
   "metadata": {},
   "source": [
    "<div class=\"alert alert-success\" style=\"border-color: green; border-radius: 5px\">\n",
    "    <p><u><b>✅ КОММЕНТАРИЙ РЕВЬЮЕРА 2</b></u></p>хорошо, обоснование понял. Спасибо."
   ]
  },
  {
   "cell_type": "markdown",
   "metadata": {},
   "source": [
    "### Линейная регрессия\n",
    "\n",
    "С использованием ParameterGrid подберем характеристики датафрейма, при которых линейная регрессия получит лучший результат:"
   ]
  },
  {
   "cell_type": "code",
   "execution_count": 17,
   "metadata": {},
   "outputs": [],
   "source": [
    "param_grid = list(ParameterGrid({'rolling_size':range(1,51), 'max_lag': range(1,31)})) \n",
    "# создаем список словарей параметров\n"
   ]
  },
  {
   "cell_type": "code",
   "execution_count": 18,
   "metadata": {
    "scrolled": false
   },
   "outputs": [
    {
     "name": "stdout",
     "output_type": "stream",
     "text": [
      "RMSE: 32.70715059090643 \n",
      "При параметрах датафрейма {'max_lag': 30, 'rolling_size': 50}\n",
      "CPU times: user 1min 24s, sys: 2min 26s, total: 3min 50s\n",
      "Wall time: 3min 50s\n"
     ]
    }
   ],
   "source": [
    "%%time\n",
    "list_linear = []\n",
    "best_params = {} # сюда будут записаны лучшие параметры\n",
    "rmse = 999999999 # rmse инициализирована большим числом, чтоб результат расчёта оказался меньше него.\n",
    "model = LinearRegression()\n",
    "#scaler = StandardScaler() # Масштабирование необходимо для линейной регрессии\n",
    "\n",
    "for i in param_grid:\n",
    "    df = get_features(data, i)  # в цикле создаем датафреймы с фичами, заданными словарем из param_grid\n",
    "\n",
    "    f_tr, t_tr, f_val, t_val, f_test, t_test = split_data(df) # получаем выборки\n",
    "    #f_tr = scaler.fit_transform(f_tr) # обучение скейлера и масштабирование\n",
    "    #f_val = scaler.transform(f_val)\n",
    "    model.fit(f_tr, t_tr) # обучение модели\n",
    "    rmse_iter = (mean_squared_error(t_val, model.predict(f_val)))**0.5 # получаем RMSE на данной итерации\n",
    "    \n",
    "    if rmse_iter < rmse: # условие: RMSE на итерации меньше, чем записано в переменную ранее\n",
    "        rmse = rmse_iter\n",
    "        best_params = i\n",
    "                \n",
    "print('RMSE:', rmse, '\\nПри параметрах датафрейма', best_params) # визуализация ответа\n",
    "list_linear.append(rmse)\n",
    "list_linear.append('inapplicable')\n",
    "list_linear.append(best_params)"
   ]
  },
  {
   "cell_type": "markdown",
   "metadata": {},
   "source": [
    "Оптимальные параметры датафрейма для линейной регрессии: 'max_lag': 30, 'rolling_size': 50.\n",
    "\n",
    "RMSE линейной регрессии на валидационной выборке: 33"
   ]
  },
  {
   "cell_type": "markdown",
   "metadata": {},
   "source": [
    "<div class=\"alert alert-warning\" style=\"border-color: darkorange; border-radius: 5px\">\n",
    "    <p><u><b>⚠️ КОММЕНТАРИЙ РЕВЬЮЕРА</b></u></p>\n",
    "    <p>Во временных рядах мы специально выделяем динамику ряда - тренд (скользящее среднее). А если стандартизировать его, то динамика может уйти. Поэтому именно временные параметры стараются не масштабировать!</p>\n",
    "</div>\n",
    "\n",
    "\n",
    "<div class=\"alert alert-info\" style=\"border-color: darkorange; border-radius: 5px\">\n",
    "    <p><u><b>⚠️ КОММЕНТАРИЙ СТУДЕНТА</b></u></p>\n",
    "    <p>Спасибо, скейлер убрал. На точности он не отразился!</p>\n",
    "</div>"
   ]
  },
  {
   "cell_type": "markdown",
   "metadata": {},
   "source": [
    "<div class=\"alert alert-success\" style=\"border-color: green; border-radius: 5px\">\n",
    "    <p><u><b>✅ КОММЕНТАРИЙ РЕВЬЮЕРА 2</b></u></p>В данном наборе не отразился, верно. Но если бы тренд был более явный на трайн периоде - мог повлиять."
   ]
  },
  {
   "cell_type": "markdown",
   "metadata": {},
   "source": [
    "### RandomForestRegressor"
   ]
  },
  {
   "cell_type": "code",
   "execution_count": 19,
   "metadata": {},
   "outputs": [],
   "source": [
    "param_grid = list(ParameterGrid({'rolling_size':range(1,31), 'max_lag': range(1,31)})) "
   ]
  },
  {
   "cell_type": "code",
   "execution_count": 20,
   "metadata": {
    "scrolled": true
   },
   "outputs": [
    {
     "name": "stdout",
     "output_type": "stream",
     "text": [
      "RMSE: 36.69464719802773 \n",
      "При параметрах датафрейма {'max_lag': 29, 'rolling_size': 5}\n",
      "CPU times: user 3min 3s, sys: 1.34 s, total: 3min 4s\n",
      "Wall time: 3min 4s\n"
     ]
    }
   ],
   "source": [
    "%%time\n",
    "list_forest = [0,0]\n",
    "best_params = {}\n",
    "rmse = 99999999999\n",
    "model = RandomForestRegressor(max_depth=5, n_estimators=20, random_state=13)\n",
    "\n",
    "\n",
    "for i in param_grid:\n",
    "    df = get_features(data, i)\n",
    "\n",
    "    f_tr, t_tr, f_val, t_val, f_test, t_test = split_data(df)\n",
    "\n",
    "    model.fit(f_tr, t_tr)\n",
    "    rmse_iter = (mean_squared_error(t_val, model.predict(f_val)))**0.5\n",
    "    \n",
    "    if rmse_iter < rmse:\n",
    "        rmse = rmse_iter\n",
    "        best_params = i\n",
    "                \n",
    "print('RMSE:', rmse, '\\nПри параметрах датафрейма', best_params)\n",
    "\n",
    "list_forest.append(best_params)"
   ]
  },
  {
   "cell_type": "markdown",
   "metadata": {},
   "source": [
    "Для регрессора случайного леса лучшие параметры датафрейма: {'max_lag': 29, 'rolling_size': 5}.\n",
    "\n",
    "Приступим к обучению:"
   ]
  },
  {
   "cell_type": "code",
   "execution_count": 21,
   "metadata": {},
   "outputs": [],
   "source": [
    "data_mod = get_features(data, {'max_lag': 29, 'rolling_size': 5}) # получаем нужный датафрейм"
   ]
  },
  {
   "cell_type": "code",
   "execution_count": 22,
   "metadata": {
    "scrolled": true
   },
   "outputs": [],
   "source": [
    "param_grid = list(ParameterGrid(   # Задаем parameter grid для модели\n",
    "    {'max_depth': range(1, 20),\n",
    "     'n_estimators': [20, 30, 50, 100, 150],\n",
    "     'random_state':[13]}))"
   ]
  },
  {
   "cell_type": "code",
   "execution_count": 23,
   "metadata": {},
   "outputs": [],
   "source": [
    "features_train, target_train, features_valid, target_valid, features_test, target_test = split_data(data_mod)"
   ]
  },
  {
   "cell_type": "code",
   "execution_count": 24,
   "metadata": {
    "scrolled": true
   },
   "outputs": [
    {
     "name": "stdout",
     "output_type": "stream",
     "text": [
      "Наименьшее значение RMSE 33.565135548680246 \n",
      "Оптимальные гиперпараметры:\n",
      " {'max_depth': 15, 'n_estimators': 20, 'random_state': 13}\n",
      "CPU times: user 2min 57s, sys: 778 ms, total: 2min 57s\n",
      "Wall time: 2min 58s\n"
     ]
    }
   ],
   "source": [
    "%%time\n",
    "rmse = 9999999\n",
    "best_parameters = {}\n",
    "for i in param_grid:\n",
    "\n",
    "    model = RandomForestRegressor(max_depth=i['max_depth'],\n",
    "                                  n_estimators=i['n_estimators'],\n",
    "                                  random_state=i['random_state'])\n",
    "\n",
    "    model.fit(features_train, target_train)\n",
    "    rmse_iter = (mean_squared_error(target_valid, model.predict(features_valid)))**0.5\n",
    "    if rmse_iter < rmse:\n",
    "        rmse = rmse_iter\n",
    "        best_parameters = i\n",
    "        \n",
    "        \n",
    "        \n",
    "print('Наименьшее значение RMSE', rmse, '\\nОптимальные гиперпараметры:\\n', best_parameters)\n",
    "list_forest[0]=rmse\n",
    "list_forest[1]=best_parameters"
   ]
  },
  {
   "cell_type": "markdown",
   "metadata": {},
   "source": [
    "При использовании регрессора случайного леса наименьшее значение RMSE при валидации составило 33.6;\n",
    "\n",
    "Оптимальные параметры датафрейма: {'max_lag': 29, 'rolling_size': 5};\n",
    "\n",
    "Оптимальные гиперпараметры модели: {'max_depth': 15, 'n_estimators': 20}.\n",
    "\n",
    "\n",
    "### Light GBM Regressor"
   ]
  },
  {
   "cell_type": "code",
   "execution_count": 25,
   "metadata": {},
   "outputs": [],
   "source": [
    "param_grid = list(ParameterGrid({'rolling_size':range(1,31), 'max_lag': range(1,31)})) "
   ]
  },
  {
   "cell_type": "code",
   "execution_count": 26,
   "metadata": {},
   "outputs": [
    {
     "name": "stdout",
     "output_type": "stream",
     "text": [
      "RMSE: 34.09078425290321 \n",
      "При параметрах датафрейма {'max_lag': 26, 'rolling_size': 11}\n",
      "CPU times: user 8min 40s, sys: 7.33 s, total: 8min 47s\n",
      "Wall time: 8min 51s\n"
     ]
    }
   ],
   "source": [
    "%%time\n",
    "list_lgbm=[0,0]\n",
    "best_params = {}\n",
    "rmse = 99999999999\n",
    "model = LGBMRegressor(num_leaves=6,max_depth=5, n_estimators=20, learning_rate=1, random_state=13)\n",
    "\n",
    "\n",
    "for i in param_grid:\n",
    "    df = get_features(data, i)\n",
    "\n",
    "    f_tr, t_tr, f_val, t_val, f_test, t_test = split_data(df)\n",
    "\n",
    "    model.fit(f_tr, t_tr)\n",
    "    rmse_iter = (mean_squared_error(t_val, model.predict(f_val)))**0.5\n",
    "    \n",
    "    if rmse_iter < rmse:\n",
    "        rmse = rmse_iter\n",
    "        best_params = i\n",
    "                \n",
    "print('RMSE:', rmse, '\\nПри параметрах датафрейма', best_params)\n",
    "list_lgbm.append(best_params)"
   ]
  },
  {
   "cell_type": "code",
   "execution_count": 27,
   "metadata": {},
   "outputs": [],
   "source": [
    "data_mod = get_features(data, {'max_lag': 26, 'rolling_size': 11})"
   ]
  },
  {
   "cell_type": "code",
   "execution_count": 28,
   "metadata": {},
   "outputs": [],
   "source": [
    "features_train, target_train, features_valid, target_valid, features_test, target_test = split_data(data_mod)"
   ]
  },
  {
   "cell_type": "markdown",
   "metadata": {},
   "source": [
    "Оптимальные параметры датафрейма получены: {'max_lag': 26, 'rolling_size': 11}. Перейдем к подбору гиперпараметров модели:"
   ]
  },
  {
   "cell_type": "code",
   "execution_count": 29,
   "metadata": {},
   "outputs": [],
   "source": [
    "param_grid = list(ParameterGrid(\n",
    "    {'num_leaves': [6, 11, 21, 31],\n",
    "     'max_depth': range(1, 10),\n",
    "     'n_estimators': [10, 20, 30],\n",
    "     'learning_rate':[1],\n",
    "     'random_state':[13]}))"
   ]
  },
  {
   "cell_type": "code",
   "execution_count": 30,
   "metadata": {},
   "outputs": [
    {
     "name": "stdout",
     "output_type": "stream",
     "text": [
      "Наименьшее значение RMSE 34.09078425290321 \n",
      "Оптимальные гиперпараметры:\n",
      " {'learning_rate': 1, 'max_depth': 5, 'n_estimators': 20, 'num_leaves': 6, 'random_state': 13}\n",
      "CPU times: user 1min 29s, sys: 1.42 s, total: 1min 30s\n",
      "Wall time: 1min 31s\n"
     ]
    }
   ],
   "source": [
    "%%time\n",
    "rmse = 9999999\n",
    "best_parameters = {}\n",
    "for i in param_grid:\n",
    "\n",
    "    model = LGBMRegressor(num_leaves=i['num_leaves'],\n",
    "                          max_depth=i['max_depth'],\n",
    "                          n_estimators=i['n_estimators'],\n",
    "                          learning_rate=i['learning_rate'],\n",
    "                          random_state=i['random_state'])\n",
    "\n",
    "    model.fit(features_train, target_train)\n",
    "    rmse_iter = (mean_squared_error(target_valid, model.predict(features_valid)))**0.5\n",
    "    if rmse_iter < rmse:\n",
    "        rmse = rmse_iter\n",
    "        best_parameters = i\n",
    "        \n",
    "        \n",
    "        \n",
    "print('Наименьшее значение RMSE', rmse, '\\nОптимальные гиперпараметры:\\n', best_parameters)\n",
    "list_lgbm[0] = rmse\n",
    "list_lgbm[1] = best_parameters"
   ]
  },
  {
   "cell_type": "code",
   "execution_count": null,
   "metadata": {},
   "outputs": [],
   "source": []
  },
  {
   "cell_type": "markdown",
   "metadata": {},
   "source": [
    "<div class=\"alert alert-warning\" style=\"border-color: darkorange; border-radius: 5px\">\n",
    "    <p><u><b>⚠️ КОММЕНТАРИЙ РЕВЬЮЕРА</b></u></p>\n",
    "    <p>Сообщество рекомендует так: сначала все модели изучаем на трайн-периоде. Потом вводим результирующую таблицу и выбираем лучшую. И ТОЛЬКО её и тестируем на тесте. Давай и здесь так сделаем, эт будет правильнее.</p>\n",
    "</div>\n",
    "\n",
    "<div class=\"alert alert-info\" style=\"border-color: darkorange; border-radius: 5px\">\n",
    "    <p><u><b>⚠️ КОММЕНТАРИЙ СТУДЕНТА</b></u></p>\n",
    "    <p>Так точно, создал списки результатов для каждой модели, ниже собрал в таблицу!</p>\n",
    "</div>"
   ]
  },
  {
   "cell_type": "markdown",
   "metadata": {},
   "source": [
    "<div class=\"alert alert-success\" style=\"border-color: green; border-radius: 5px\">\n",
    "    <p><u><b>✅ КОММЕНТАРИЙ РЕВЬЮЕРА 2</b></u></p>принято, спасибо."
   ]
  },
  {
   "cell_type": "markdown",
   "metadata": {},
   "source": [
    "При параметрах датафрейма {'max_lag': 26, 'rolling_size': 11}:\n",
    "\n",
    "Получено наименьшее значение RMSE при валидации: 34;\n",
    "\n",
    "Оптимальные гиперпараметры модели:\n",
    "\n",
    "{'learning_rate': 1, 'max_depth': 5, 'n_estimators': 20, 'num_leaves': 6, 'random_state': 13}.\n",
    "\n",
    "\n",
    "### Результирующая таблица"
   ]
  },
  {
   "cell_type": "code",
   "execution_count": 33,
   "metadata": {},
   "outputs": [
    {
     "data": {
      "text/html": [
       "<div>\n",
       "<style scoped>\n",
       "    .dataframe tbody tr th:only-of-type {\n",
       "        vertical-align: middle;\n",
       "    }\n",
       "\n",
       "    .dataframe tbody tr th {\n",
       "        vertical-align: top;\n",
       "    }\n",
       "\n",
       "    .dataframe thead th {\n",
       "        text-align: right;\n",
       "    }\n",
       "</style>\n",
       "<table border=\"1\" class=\"dataframe\">\n",
       "  <thead>\n",
       "    <tr style=\"text-align: right;\">\n",
       "      <th></th>\n",
       "      <th>RMSE_valid</th>\n",
       "      <th>model_parameters</th>\n",
       "      <th>dataset_parameters</th>\n",
       "    </tr>\n",
       "  </thead>\n",
       "  <tbody>\n",
       "    <tr>\n",
       "      <th>LinearRegression()</th>\n",
       "      <td>32.707151</td>\n",
       "      <td>inapplicable</td>\n",
       "      <td>{'max_lag': 30, 'rolling_size': 50}</td>\n",
       "    </tr>\n",
       "    <tr>\n",
       "      <th>RandomForestRegressor()</th>\n",
       "      <td>33.565136</td>\n",
       "      <td>{'max_depth': 15, 'n_estimators': 20, 'random_...</td>\n",
       "      <td>{'max_lag': 29, 'rolling_size': 5}</td>\n",
       "    </tr>\n",
       "    <tr>\n",
       "      <th>LGBMRegressor()</th>\n",
       "      <td>34.090784</td>\n",
       "      <td>{'learning_rate': 1, 'max_depth': 5, 'n_estima...</td>\n",
       "      <td>{'max_lag': 26, 'rolling_size': 11}</td>\n",
       "    </tr>\n",
       "  </tbody>\n",
       "</table>\n",
       "</div>"
      ],
      "text/plain": [
       "                         RMSE_valid  \\\n",
       "LinearRegression()        32.707151   \n",
       "RandomForestRegressor()   33.565136   \n",
       "LGBMRegressor()           34.090784   \n",
       "\n",
       "                                                          model_parameters  \\\n",
       "LinearRegression()                                            inapplicable   \n",
       "RandomForestRegressor()  {'max_depth': 15, 'n_estimators': 20, 'random_...   \n",
       "LGBMRegressor()          {'learning_rate': 1, 'max_depth': 5, 'n_estima...   \n",
       "\n",
       "                                          dataset_parameters  \n",
       "LinearRegression()       {'max_lag': 30, 'rolling_size': 50}  \n",
       "RandomForestRegressor()   {'max_lag': 29, 'rolling_size': 5}  \n",
       "LGBMRegressor()          {'max_lag': 26, 'rolling_size': 11}  "
      ]
     },
     "execution_count": 33,
     "metadata": {},
     "output_type": "execute_result"
    }
   ],
   "source": [
    "res_df = pd.DataFrame(data=[list_linear, list_forest, list_lgbm],\n",
    "                      columns=['RMSE_valid', 'model_parameters', 'dataset_parameters'],\n",
    "                     index=['LinearRegression()', 'RandomForestRegressor()', 'LGBMRegressor()'])\n",
    "res_df"
   ]
  },
  {
   "cell_type": "markdown",
   "metadata": {},
   "source": [
    "\n",
    "\n",
    "## Тестирование\n",
    "\n",
    "Модели будут тестироваться на данных, преобразованных оптимальным образом, с использованием лучших гиперпараметров, выявленных в предыдущем разделе.\n",
    "\n",
    "Объявим функцию для более быстрого получения выборок:\n",
    "\n"
   ]
  },
  {
   "cell_type": "markdown",
   "metadata": {},
   "source": [
    "<div class=\"alert alert-warning\" style=\"border-color: darkorange; border-radius: 5px\">\n",
    "    <p><u><b>⚠️ КОММЕНТАРИЙ РЕВЬЮЕРА</b></u></p>Тут ТОЛЬКО одну лучшую стоит тестировать!!!"
   ]
  },
  {
   "cell_type": "code",
   "execution_count": 35,
   "metadata": {},
   "outputs": [],
   "source": [
    "def modify_and_split(data, dict_parameters):\n",
    "    data_mod = data.copy(deep=True) # создаем копию, чтоб не \"испортить\" исходные данные\n",
    "    data_mod['year'] = data.index.year \n",
    "    data_mod['month'] = data.index.month \n",
    "    data_mod['day'] = data.index.day\n",
    "    data_mod['dayofweek'] = data.index.dayofweek\n",
    "    # добавляем rolling mean указанного размера\n",
    "    data_mod['rolling_mean'] = data['num_orders'].shift().rolling(dict_parameters['rolling_size']).mean()\n",
    "    for lag in range(1, dict_parameters['max_lag'] + 1): # добавляем лаги в запрошенном количества\n",
    "        data_mod['lag_{}'.format(lag)] = data_mod['num_orders'].shift(lag)\n",
    "    data_mod.dropna(inplace=True)\n",
    "    \n",
    "    features = data_mod.drop('num_orders', axis=1) \n",
    "    target = data_mod['num_orders'] \n",
    "    features_train, features_test, target_train, target_test = train_test_split(features,\n",
    "                                                                                target,\n",
    "                                                                                test_size=0.1,\n",
    "                                                                                shuffle=False)\n",
    "    return features_train, features_test, target_train, target_test\n",
    "    "
   ]
  },
  {
   "cell_type": "markdown",
   "metadata": {},
   "source": [
    "<div class=\"alert alert-warning\" style=\"border-color: darkorange; border-radius: 5px\">\n",
    "    <p><u><b>⚠️ КОММЕНТАРИЙ РЕВЬЮЕРА 2</b></u></p>Тут год и месяц тоже убираем) По прошлому комментарию увидел, что суть ты уловил. Обязательно стоит при добавлении факторов во временных рядах учитывать горизонт прогноза. У нас зада час/два вперёд. Тогда месяц/год - точно не нужен. Не буду сейчас разворачивать проект. Вижу, что просто тут забыл). На трайне было верно!!!!"
   ]
  },
  {
   "cell_type": "markdown",
   "metadata": {},
   "source": [
    "### LinearRegression()"
   ]
  },
  {
   "cell_type": "code",
   "execution_count": 44,
   "metadata": {},
   "outputs": [
    {
     "name": "stdout",
     "output_type": "stream",
     "text": [
      "45.91806528748518\n"
     ]
    }
   ],
   "source": [
    "features_train, features_test, target_train, target_test =\\\n",
    "modify_and_split(data, {'max_lag': 30, 'rolling_size': 50}) # Делим на выборки данные с оптимальным \n",
    "# количеством лагов и размером скользящего среднего.\n",
    "#features_train = scaler.fit_transform(features_train) # масштабирование данных\n",
    "#features_test = scaler.transform(features_test)\n",
    "\n",
    "linear_model = LinearRegression()\n",
    "\n",
    "linear_model.fit(features_train, target_train) # обучение модели\n",
    "print((mean_squared_error(target_test, linear_model.predict(features_test)))**0.5) # тестирование модели\n"
   ]
  },
  {
   "cell_type": "markdown",
   "metadata": {},
   "source": [
    "RMSE линейной регрессии составила 45.9 на тестовой выборке, что удовлетворяет критериям заказчика.\n",
    "\n",
    "\n",
    "### График результатов модели\n"
   ]
  },
  {
   "cell_type": "code",
   "execution_count": 60,
   "metadata": {},
   "outputs": [
    {
     "data": {
      "image/png": "[encoded data removed]",
      "text/plain": [
       "<Figure size 1080x360 with 1 Axes>"
      ]
     },
     "metadata": {
      "needs_background": "light"
     },
     "output_type": "display_data"
    }
   ],
   "source": [
    "predictions = pd.Series(data=linear_model.predict(features_test), index=target_test.index)\n",
    "plt.figure(figsize=[15, 5])\n",
    "plt.plot(target_test, label='target')\n",
    "plt.plot(predictions, label='predictions')\n",
    "plt.xlim(pd.DatetimeIndex(['2018-08-29', '2018-08-31']))\n",
    "plt.legend()\n",
    "plt.title('Результаты модели за 3 дня')\n",
    "plt.show()"
   ]
  },
  {
   "cell_type": "markdown",
   "metadata": {},
   "source": [
    "## Вывод\n",
    "\n",
    "### Цель исследования:\n",
    "Спрогнозировать количество заказов такси в аэропорту на следующий час с помощью машинного обучения.\n",
    "\n",
    "### Задачи исследования:\n",
    "- Ресемплировать данные по одному часу;\n",
    "- Проанализировать данные;\n",
    "- Подготовить обучающую и тестовую выборки. Размер тестовой выборки - 10% от исходной;\n",
    "- Обучить ряд моделей с различными гиперпараметрами;\n",
    "- Достичь значений RMSE, не превышающих 48 на тестовой выборке.\n",
    "\n",
    "### Материалы и методы\n",
    "Работа выполнена средствами Python с использованием библиотек Pandas, Matplotlib, Sklearn, Statsmodels, LightGBM на датасете, содержащем исторические данные о количестве вызовов такси, полученном от заказчика.\n",
    "\n",
    "### Ход исследования\n",
    "Выполнены следующие шаги:\n",
    "- Исследование и индексация данных;\n",
    "- Анализ статистических показателей;\n",
    "- Сезонная декомпозиция;\n",
    "- Подбор оптимального размера скользящего среднего, количества отстающих значений;\n",
    "- Обучение, подбор гиперпараметров и валидация моделей:\n",
    "    - LinearRegression()\n",
    "    - RandomForestRegressor()\n",
    "    - LGBMRegressor()\n",
    "- Выбор и тестирование лучшей модели.\n",
    "\n",
    "### Результаты исследования\n",
    "Лучшей моделью признана линейная регрессия:\n",
    "- RMSE 47.1;\n",
    "- Оптимальные параметры датасета: 'max_lag': 30, 'rolling_size': 50;\n",
    "    \n",
    "    \n",
    "    \n",
    "### Вывод\n",
    "\n",
    "В связи с получением требуемого значения RMSE можно рекомендовать модель LinearRegression() для практического применения в решении данной задачи."
   ]
  },
  {
   "cell_type": "markdown",
   "metadata": {},
   "source": [
    "<div class=\"alert alert-success\" style=\"border-color: green; border-radius: 5px\">\n",
    "    <p><u><b>✅ КОММЕНТАРИЙ РЕВЬЮЕРА</b></u></p>\n",
    "ОК, с модельной частью тебе удалось справиться хорошо!<br>\n",
    "Видно, что этот скил уже достаточно сильный.<br>\n",
    "Метрика - ОК. Но не понятно, если честно, а хороша ли эта модель в плане предсказания? Для этого лучше построить дополнительно график (чуть ниженаписал об этом).<br>\n",
    "    \n",
    "И если сутейно рассуждать, то временные ряды стоят особняком во всём курсе, я бы сказал. Тут чуть иная модельная философия. Имменно поэтому позволял себе оставлять большие рассуждения, чтобы как-то раскрыть её особенности.<br>\n",
    "<font color='red'>           \n",
    "Оставил несколько важных комментариев в тексте. Готов буду ответить на твои вопросы!<br>\n",
    " \n",
    "Также попрошу вот что:<br>\n",
    "Выведи, пожалуйста графики факт/предсказанное на одном рисунке (обычный линейный график). Чтобы увидеть где основные не \"попадалки\" модели. Это один из важнейших инструментов анализа результатов моделирования временных рядов.<br>\n",
    "Лучше выбрать масштаб, скажем, несколько дней, чтобы увиеть можо было и сравнить каждый час.<br>    \n",
    "<font color='green'>\n",
    "Спасибо)<BR>\n",
    "БУДУ ЖДАТЬ КОММЕНТАРИЕВ</div> \n",
    "    \n",
    "    \n",
    "<div class=\"alert alert-info\" style=\"border-color: black; border-radius: 5px\">\n",
    "    <p><u><b>✅ КОММЕНТАРИЙ СТУДЕНТА</b></u></p>\n",
    "Еще раз спасибо за комментарии, всё это мне полезно узнать!\n",
    "Постарался их учесть в меру своего понимания, график также нарисовал в разделе 4.\n",
    "\n",
    "    \n",
    "</div> "
   ]
  },
  {
   "cell_type": "markdown",
   "metadata": {},
   "source": [
    "<div class=\"alert alert-success\" style=\"border-color: green; border-radius: 5px\">\n",
    "    <p><u><b>✅ КОММЕНТАРИЙ РЕВЬЮЕРА 2</b></u></p>\n",
    "ОК, Сергей, увидел корректировки.  Принято. Молодец, что удалось тебе всё сделать. РАД, если смог ещё помочь подразобраться с этой темой.<br>\n",
    "Глядя на график, а также добавляя отдельный анализ остатков, можно будет хорошо порабоать над улучшением модели..<br>\n",
    "\n",
    "Тут много ещё что можно сказать по самой теме...<br>\n",
    "Если будет возможность тебе однозначно интересно посмотреть разные практические истории вот здесь:<br>\n",
    "https://ibf.org/knowledge - заморский институт бизнес-прогнозирования.<br>\n",
    "Там и статьи можно накопать, и методы посмомтерть...<br>\n",
    "\n",
    "Есть классический труд (он НЕ ML, а исключительно на эксель). Но для понимания сути временных рядов - то, что надо:<br>\n",
    "УИЧЕРН \"Бизнес-прогнозирование\"<br>\n",
    "\n",
    "Идеологически по системе прогнозирования, интересно почитать<br>\n",
    "ТОМАС УОЛЛАС, Р. СТАЛЬ \"планирование продаж и операций\" SO&P<br><br>     \n",
    "\n",
    "Спасибо за проект)<br>\n",
    "УСПЕШНОГО ДАЛЬНЕЙШЕГО ОБЧЕНИЯ!</div>"
   ]
  },
  {
   "cell_type": "code",
   "execution_count": null,
   "metadata": {},
   "outputs": [],
   "source": []
  },
  {
   "attachments": {
    "image.png": {
     "image/png": "[encoded data removed]"
    }
   },
   "cell_type": "markdown",
   "metadata": {},
   "source": [
    "![image.png](attachment:image.png)"
   ]
  },
  {
   "cell_type": "code",
   "execution_count": null,
   "metadata": {},
   "outputs": [],
   "source": []
  },
  {
   "cell_type": "code",
   "execution_count": null,
   "metadata": {},
   "outputs": [],
   "source": []
  },
  {
   "cell_type": "markdown",
   "metadata": {},
   "source": [
    "## Чек-лист проверки"
   ]
  },
  {
   "cell_type": "markdown",
   "metadata": {},
   "source": [
    "- [x]  Jupyter Notebook открыт\n",
    "- [ ]  Весь код выполняется без ошибок\n",
    "- [ ]  Ячейки с кодом расположены в порядке исполнения\n",
    "- [ ]  Данные загружены и подготовлены\n",
    "- [ ]  Данные проанализированы\n",
    "- [ ]  Модель обучена, гиперпараметры подобраны\n",
    "- [ ]  Качество моделей проверено, выводы сделаны\n",
    "- [ ]  Значение *RMSE* на тестовой выборке не больше 48"
   ]
  }
 ],
 "metadata": {
  "ExecuteTimeLog": [
   {
    "duration": 414,
    "start_time": "2023-01-21T23:38:50.269Z"
   },
   {
    "duration": 100,
    "start_time": "2023-01-21T23:40:37.506Z"
   },
   {
    "duration": 30,
    "start_time": "2023-01-21T23:40:42.772Z"
   },
   {
    "duration": 43,
    "start_time": "2023-01-21T23:40:57.938Z"
   },
   {
    "duration": 118,
    "start_time": "2023-01-21T23:41:32.523Z"
   },
   {
    "duration": 29,
    "start_time": "2023-01-21T23:41:34.307Z"
   },
   {
    "duration": 527,
    "start_time": "2023-01-21T23:42:03.850Z"
   },
   {
    "duration": 19,
    "start_time": "2023-01-21T23:42:52.291Z"
   },
   {
    "duration": 5,
    "start_time": "2023-01-21T23:42:56.484Z"
   },
   {
    "duration": 15,
    "start_time": "2023-01-21T23:43:09.626Z"
   },
   {
    "duration": 8,
    "start_time": "2023-01-21T23:43:41.515Z"
   },
   {
    "duration": 10,
    "start_time": "2023-01-21T23:45:17.604Z"
   },
   {
    "duration": 9,
    "start_time": "2023-01-21T23:45:19.907Z"
   },
   {
    "duration": 9,
    "start_time": "2023-01-21T23:45:37.084Z"
   },
   {
    "duration": 23,
    "start_time": "2023-01-21T23:46:12.364Z"
   },
   {
    "duration": 17,
    "start_time": "2023-01-21T23:46:17.035Z"
   },
   {
    "duration": 9,
    "start_time": "2023-01-21T23:46:24.220Z"
   },
   {
    "duration": 10,
    "start_time": "2023-01-21T23:46:26.851Z"
   },
   {
    "duration": 8,
    "start_time": "2023-01-21T23:47:33.733Z"
   },
   {
    "duration": 6,
    "start_time": "2023-01-21T23:47:52.021Z"
   },
   {
    "duration": 14,
    "start_time": "2023-01-21T23:47:56.260Z"
   },
   {
    "duration": 3,
    "start_time": "2023-01-21T23:48:05.468Z"
   },
   {
    "duration": 5,
    "start_time": "2023-01-21T23:48:10.515Z"
   },
   {
    "duration": 9,
    "start_time": "2023-01-21T23:48:26.252Z"
   },
   {
    "duration": 12,
    "start_time": "2023-01-21T23:49:05.204Z"
   },
   {
    "duration": 10,
    "start_time": "2023-01-21T23:49:27.589Z"
   },
   {
    "duration": 348,
    "start_time": "2023-01-21T23:49:54.688Z"
   },
   {
    "duration": 43,
    "start_time": "2023-01-21T23:49:55.037Z"
   },
   {
    "duration": 31,
    "start_time": "2023-01-21T23:49:55.082Z"
   },
   {
    "duration": 368,
    "start_time": "2023-01-21T23:49:55.115Z"
   },
   {
    "duration": 6,
    "start_time": "2023-01-21T23:49:55.485Z"
   },
   {
    "duration": 16,
    "start_time": "2023-01-21T23:49:57.917Z"
   },
   {
    "duration": 4,
    "start_time": "2023-01-21T23:50:08.301Z"
   },
   {
    "duration": 8,
    "start_time": "2023-01-21T23:50:10.756Z"
   },
   {
    "duration": 14,
    "start_time": "2023-01-21T23:50:13.621Z"
   },
   {
    "duration": 69,
    "start_time": "2023-01-21T23:50:59.524Z"
   },
   {
    "duration": 350,
    "start_time": "2023-01-21T23:51:28.914Z"
   },
   {
    "duration": 40,
    "start_time": "2023-01-21T23:51:29.266Z"
   },
   {
    "duration": 29,
    "start_time": "2023-01-21T23:51:29.307Z"
   },
   {
    "duration": 5,
    "start_time": "2023-01-21T23:51:29.337Z"
   },
   {
    "duration": 11,
    "start_time": "2023-01-21T23:51:29.344Z"
   },
   {
    "duration": 14,
    "start_time": "2023-01-21T23:51:29.356Z"
   },
   {
    "duration": 5,
    "start_time": "2023-01-21T23:51:29.373Z"
   },
   {
    "duration": 12,
    "start_time": "2023-01-21T23:51:29.380Z"
   },
   {
    "duration": 28,
    "start_time": "2023-01-21T23:51:29.394Z"
   },
   {
    "duration": 342,
    "start_time": "2023-01-21T23:51:31.372Z"
   },
   {
    "duration": 5,
    "start_time": "2023-01-21T23:51:47.957Z"
   },
   {
    "duration": 246,
    "start_time": "2023-01-21T23:52:20.837Z"
   },
   {
    "duration": 12,
    "start_time": "2023-01-21T23:52:45.213Z"
   },
   {
    "duration": 642,
    "start_time": "2023-01-21T23:53:22.469Z"
   },
   {
    "duration": 577,
    "start_time": "2023-01-21T23:53:47.781Z"
   },
   {
    "duration": 620,
    "start_time": "2023-01-21T23:53:52.861Z"
   },
   {
    "duration": 648,
    "start_time": "2023-01-21T23:53:57.766Z"
   },
   {
    "duration": 584,
    "start_time": "2023-01-21T23:54:21.078Z"
   },
   {
    "duration": 127,
    "start_time": "2023-01-21T23:54:33.477Z"
   },
   {
    "duration": 690,
    "start_time": "2023-01-21T23:54:41.012Z"
   },
   {
    "duration": 4,
    "start_time": "2023-01-22T00:02:43.647Z"
   },
   {
    "duration": 4,
    "start_time": "2023-01-22T00:03:10.855Z"
   },
   {
    "duration": 23,
    "start_time": "2023-01-22T00:03:25.575Z"
   },
   {
    "duration": 15,
    "start_time": "2023-01-22T00:03:28.647Z"
   },
   {
    "duration": 4,
    "start_time": "2023-01-22T00:03:44.783Z"
   },
   {
    "duration": 16,
    "start_time": "2023-01-22T00:03:46.743Z"
   },
   {
    "duration": 20,
    "start_time": "2023-01-22T00:03:52.064Z"
   },
   {
    "duration": 17,
    "start_time": "2023-01-22T00:03:58.543Z"
   },
   {
    "duration": 15,
    "start_time": "2023-01-22T00:04:00.760Z"
   },
   {
    "duration": 23,
    "start_time": "2023-01-22T00:04:05.095Z"
   },
   {
    "duration": 19,
    "start_time": "2023-01-22T00:04:06.887Z"
   },
   {
    "duration": 18,
    "start_time": "2023-01-22T00:04:38.327Z"
   },
   {
    "duration": 3,
    "start_time": "2023-01-22T00:04:42.575Z"
   },
   {
    "duration": 18,
    "start_time": "2023-01-22T00:04:45.463Z"
   },
   {
    "duration": 3,
    "start_time": "2023-01-22T00:04:47.486Z"
   },
   {
    "duration": 5,
    "start_time": "2023-01-22T00:04:59.422Z"
   },
   {
    "duration": 18,
    "start_time": "2023-01-22T00:05:00.999Z"
   },
   {
    "duration": 19,
    "start_time": "2023-01-22T00:05:02.552Z"
   },
   {
    "duration": 435,
    "start_time": "2023-01-22T00:07:57.839Z"
   },
   {
    "duration": 1961,
    "start_time": "2023-01-22T00:08:17.720Z"
   },
   {
    "duration": 1028,
    "start_time": "2023-01-22T00:08:33.775Z"
   },
   {
    "duration": 43,
    "start_time": "2023-01-22T00:08:34.805Z"
   },
   {
    "duration": 25,
    "start_time": "2023-01-22T00:08:34.850Z"
   },
   {
    "duration": 5,
    "start_time": "2023-01-22T00:08:34.877Z"
   },
   {
    "duration": 11,
    "start_time": "2023-01-22T00:08:34.884Z"
   },
   {
    "duration": 16,
    "start_time": "2023-01-22T00:08:34.896Z"
   },
   {
    "duration": 9,
    "start_time": "2023-01-22T00:08:34.914Z"
   },
   {
    "duration": 25,
    "start_time": "2023-01-22T00:08:34.924Z"
   },
   {
    "duration": 13,
    "start_time": "2023-01-22T00:08:34.950Z"
   },
   {
    "duration": 259,
    "start_time": "2023-01-22T00:08:34.965Z"
   },
   {
    "duration": 11,
    "start_time": "2023-01-22T00:08:35.225Z"
   },
   {
    "duration": 623,
    "start_time": "2023-01-22T00:08:39.513Z"
   },
   {
    "duration": 786,
    "start_time": "2023-01-22T00:12:06.023Z"
   },
   {
    "duration": 593,
    "start_time": "2023-01-22T00:12:11.168Z"
   },
   {
    "duration": 577,
    "start_time": "2023-01-22T00:12:25.639Z"
   },
   {
    "duration": 8,
    "start_time": "2023-01-22T00:13:19.063Z"
   },
   {
    "duration": 10,
    "start_time": "2023-01-22T00:13:32.327Z"
   },
   {
    "duration": 6,
    "start_time": "2023-01-22T00:14:47.927Z"
   },
   {
    "duration": 358,
    "start_time": "2023-01-22T00:14:50.006Z"
   },
   {
    "duration": 12,
    "start_time": "2023-01-22T00:14:54.959Z"
   },
   {
    "duration": 9,
    "start_time": "2023-01-22T00:14:57.663Z"
   },
   {
    "duration": 7,
    "start_time": "2023-01-22T00:15:01.231Z"
   },
   {
    "duration": 1059,
    "start_time": "2023-01-22T00:16:33.663Z"
   },
   {
    "duration": 195,
    "start_time": "2023-01-22T00:16:48.688Z"
   },
   {
    "duration": 207,
    "start_time": "2023-01-22T00:16:58.953Z"
   },
   {
    "duration": 198,
    "start_time": "2023-01-22T00:17:12.327Z"
   },
   {
    "duration": 228,
    "start_time": "2023-01-22T00:19:48.191Z"
   },
   {
    "duration": 4,
    "start_time": "2023-01-22T00:20:09.807Z"
   },
   {
    "duration": 971,
    "start_time": "2023-01-22T00:20:20.536Z"
   },
   {
    "duration": 13,
    "start_time": "2023-01-22T00:20:58.417Z"
   },
   {
    "duration": 1062,
    "start_time": "2023-01-22T00:21:02.263Z"
   },
   {
    "duration": 989,
    "start_time": "2023-01-22T00:21:26.080Z"
   },
   {
    "duration": 1014,
    "start_time": "2023-01-22T00:22:33.271Z"
   },
   {
    "duration": 945,
    "start_time": "2023-01-22T00:22:49.839Z"
   },
   {
    "duration": 983,
    "start_time": "2023-01-22T00:23:13.655Z"
   },
   {
    "duration": 1026,
    "start_time": "2023-01-22T00:23:33.727Z"
   },
   {
    "duration": 174,
    "start_time": "2023-01-22T00:23:39.816Z"
   },
   {
    "duration": 166,
    "start_time": "2023-01-22T00:25:19.128Z"
   },
   {
    "duration": 11,
    "start_time": "2023-01-22T00:25:47.921Z"
   },
   {
    "duration": 167,
    "start_time": "2023-01-22T00:25:53.144Z"
   },
   {
    "duration": 171,
    "start_time": "2023-01-22T00:26:05.457Z"
   },
   {
    "duration": 218,
    "start_time": "2023-01-22T00:26:11.697Z"
   },
   {
    "duration": 192,
    "start_time": "2023-01-22T00:26:16.744Z"
   },
   {
    "duration": 203,
    "start_time": "2023-01-22T00:26:42.624Z"
   },
   {
    "duration": 207,
    "start_time": "2023-01-22T00:27:38.873Z"
   },
   {
    "duration": 223,
    "start_time": "2023-01-22T00:29:03.881Z"
   },
   {
    "duration": 4,
    "start_time": "2023-01-22T00:30:12.337Z"
   },
   {
    "duration": 207,
    "start_time": "2023-01-22T00:30:20.544Z"
   },
   {
    "duration": 5,
    "start_time": "2023-01-22T00:30:36.959Z"
   },
   {
    "duration": 4,
    "start_time": "2023-01-22T00:31:39.977Z"
   },
   {
    "duration": 255,
    "start_time": "2023-01-22T00:32:03.833Z"
   },
   {
    "duration": 225,
    "start_time": "2023-01-22T00:32:11.233Z"
   },
   {
    "duration": 249,
    "start_time": "2023-01-22T00:32:22.937Z"
   },
   {
    "duration": 230,
    "start_time": "2023-01-22T00:32:52.689Z"
   },
   {
    "duration": 1271,
    "start_time": "2023-01-22T12:35:32.264Z"
   },
   {
    "duration": 126,
    "start_time": "2023-01-22T12:35:33.537Z"
   },
   {
    "duration": 31,
    "start_time": "2023-01-22T12:35:33.665Z"
   },
   {
    "duration": 6,
    "start_time": "2023-01-22T12:35:33.697Z"
   },
   {
    "duration": 8,
    "start_time": "2023-01-22T12:35:33.705Z"
   },
   {
    "duration": 33,
    "start_time": "2023-01-22T12:35:33.715Z"
   },
   {
    "duration": 6,
    "start_time": "2023-01-22T12:35:33.750Z"
   },
   {
    "duration": 11,
    "start_time": "2023-01-22T12:35:33.758Z"
   },
   {
    "duration": 10,
    "start_time": "2023-01-22T12:35:33.771Z"
   },
   {
    "duration": 271,
    "start_time": "2023-01-22T12:35:45.464Z"
   },
   {
    "duration": 11,
    "start_time": "2023-01-22T12:35:58.767Z"
   },
   {
    "duration": 8,
    "start_time": "2023-01-22T12:36:06.396Z"
   },
   {
    "duration": 380,
    "start_time": "2023-01-22T12:36:14.667Z"
   },
   {
    "duration": 207,
    "start_time": "2023-01-22T12:36:31.868Z"
   },
   {
    "duration": 235,
    "start_time": "2023-01-22T12:36:46.221Z"
   },
   {
    "duration": 227,
    "start_time": "2023-01-22T12:37:07.029Z"
   },
   {
    "duration": 211,
    "start_time": "2023-01-22T12:37:19.467Z"
   },
   {
    "duration": 324,
    "start_time": "2023-01-22T12:37:39.228Z"
   },
   {
    "duration": 374,
    "start_time": "2023-01-22T12:37:49.820Z"
   },
   {
    "duration": 5,
    "start_time": "2023-01-22T12:39:28.564Z"
   },
   {
    "duration": 4,
    "start_time": "2023-01-22T12:39:36.980Z"
   },
   {
    "duration": 14,
    "start_time": "2023-01-22T12:39:49.196Z"
   },
   {
    "duration": 5,
    "start_time": "2023-01-22T12:39:56.021Z"
   },
   {
    "duration": 266,
    "start_time": "2023-01-22T12:40:27.168Z"
   },
   {
    "duration": 324,
    "start_time": "2023-01-22T12:40:54.667Z"
   },
   {
    "duration": 223,
    "start_time": "2023-01-22T12:41:13.663Z"
   },
   {
    "duration": 275,
    "start_time": "2023-01-22T12:41:32.701Z"
   },
   {
    "duration": 312,
    "start_time": "2023-01-22T12:42:30.069Z"
   },
   {
    "duration": 5,
    "start_time": "2023-01-22T12:43:43.068Z"
   },
   {
    "duration": 4,
    "start_time": "2023-01-22T12:43:48.269Z"
   },
   {
    "duration": 6,
    "start_time": "2023-01-22T12:43:56.369Z"
   },
   {
    "duration": 10,
    "start_time": "2023-01-22T12:44:10.669Z"
   },
   {
    "duration": 5,
    "start_time": "2023-01-22T12:44:16.389Z"
   },
   {
    "duration": 9,
    "start_time": "2023-01-22T12:44:20.477Z"
   },
   {
    "duration": 4,
    "start_time": "2023-01-22T12:44:21.914Z"
   },
   {
    "duration": 6,
    "start_time": "2023-01-22T12:44:25.575Z"
   },
   {
    "duration": 10,
    "start_time": "2023-01-22T12:46:22.768Z"
   },
   {
    "duration": 10,
    "start_time": "2023-01-22T12:46:25.270Z"
   },
   {
    "duration": 6,
    "start_time": "2023-01-22T12:47:01.101Z"
   },
   {
    "duration": 5,
    "start_time": "2023-01-22T12:47:09.219Z"
   },
   {
    "duration": 6,
    "start_time": "2023-01-22T12:47:16.462Z"
   },
   {
    "duration": 931,
    "start_time": "2023-01-22T12:47:33.102Z"
   },
   {
    "duration": 8,
    "start_time": "2023-01-22T12:47:55.156Z"
   },
   {
    "duration": 5,
    "start_time": "2023-01-22T12:48:02.984Z"
   },
   {
    "duration": 273,
    "start_time": "2023-01-22T12:48:22.617Z"
   },
   {
    "duration": 290,
    "start_time": "2023-01-22T12:48:35.218Z"
   },
   {
    "duration": 5,
    "start_time": "2023-01-22T12:48:49.335Z"
   },
   {
    "duration": 275,
    "start_time": "2023-01-22T12:48:53.326Z"
   },
   {
    "duration": 263,
    "start_time": "2023-01-22T12:49:31.553Z"
   },
   {
    "duration": 8,
    "start_time": "2023-01-22T12:49:59.375Z"
   },
   {
    "duration": 10,
    "start_time": "2023-01-22T12:50:12.879Z"
   },
   {
    "duration": 5,
    "start_time": "2023-01-22T12:50:22.857Z"
   },
   {
    "duration": 380,
    "start_time": "2023-01-22T12:50:40.968Z"
   },
   {
    "duration": 366,
    "start_time": "2023-01-22T12:51:16.370Z"
   },
   {
    "duration": 379,
    "start_time": "2023-01-22T12:52:56.299Z"
   },
   {
    "duration": 409,
    "start_time": "2023-01-22T12:53:23.115Z"
   },
   {
    "duration": 376,
    "start_time": "2023-01-22T12:53:59.792Z"
   },
   {
    "duration": 331,
    "start_time": "2023-01-22T12:54:08.165Z"
   },
   {
    "duration": 330,
    "start_time": "2023-01-22T12:54:35.495Z"
   },
   {
    "duration": 7,
    "start_time": "2023-01-22T12:56:14.546Z"
   },
   {
    "duration": 18,
    "start_time": "2023-01-22T12:56:16.295Z"
   },
   {
    "duration": 21,
    "start_time": "2023-01-22T12:56:18.298Z"
   },
   {
    "duration": 62,
    "start_time": "2023-01-22T13:07:37.987Z"
   },
   {
    "duration": 3496,
    "start_time": "2023-01-22T13:07:44.462Z"
   },
   {
    "duration": 295,
    "start_time": "2023-01-22T13:08:00.675Z"
   },
   {
    "duration": 21,
    "start_time": "2023-01-22T13:09:07.571Z"
   },
   {
    "duration": 5,
    "start_time": "2023-01-22T13:09:58.475Z"
   },
   {
    "duration": 1222,
    "start_time": "2023-01-22T13:10:07.940Z"
   },
   {
    "duration": 45,
    "start_time": "2023-01-22T13:10:09.164Z"
   },
   {
    "duration": 39,
    "start_time": "2023-01-22T13:10:09.210Z"
   },
   {
    "duration": 8,
    "start_time": "2023-01-22T13:10:09.252Z"
   },
   {
    "duration": 11,
    "start_time": "2023-01-22T13:10:09.262Z"
   },
   {
    "duration": 47,
    "start_time": "2023-01-22T13:10:09.275Z"
   },
   {
    "duration": 8,
    "start_time": "2023-01-22T13:10:09.324Z"
   },
   {
    "duration": 13,
    "start_time": "2023-01-22T13:10:09.339Z"
   },
   {
    "duration": 10,
    "start_time": "2023-01-22T13:10:09.353Z"
   },
   {
    "duration": 342,
    "start_time": "2023-01-22T13:10:09.365Z"
   },
   {
    "duration": 13,
    "start_time": "2023-01-22T13:10:09.709Z"
   },
   {
    "duration": 464,
    "start_time": "2023-01-22T13:10:09.724Z"
   },
   {
    "duration": 6,
    "start_time": "2023-01-22T13:10:10.190Z"
   },
   {
    "duration": 344,
    "start_time": "2023-01-22T13:10:10.198Z"
   },
   {
    "duration": 5,
    "start_time": "2023-01-22T13:10:31.964Z"
   },
   {
    "duration": 20,
    "start_time": "2023-01-22T13:10:34.026Z"
   },
   {
    "duration": 22,
    "start_time": "2023-01-22T13:10:37.052Z"
   },
   {
    "duration": 22,
    "start_time": "2023-01-22T13:10:39.178Z"
   },
   {
    "duration": 4,
    "start_time": "2023-01-22T13:11:36.484Z"
   },
   {
    "duration": 1259,
    "start_time": "2023-01-22T13:11:46.071Z"
   },
   {
    "duration": 49,
    "start_time": "2023-01-22T13:11:47.333Z"
   },
   {
    "duration": 32,
    "start_time": "2023-01-22T13:11:47.384Z"
   },
   {
    "duration": 18,
    "start_time": "2023-01-22T13:11:47.419Z"
   },
   {
    "duration": 8,
    "start_time": "2023-01-22T13:11:47.439Z"
   },
   {
    "duration": 16,
    "start_time": "2023-01-22T13:11:47.449Z"
   },
   {
    "duration": 5,
    "start_time": "2023-01-22T13:11:47.467Z"
   },
   {
    "duration": 11,
    "start_time": "2023-01-22T13:11:47.473Z"
   },
   {
    "duration": 8,
    "start_time": "2023-01-22T13:11:47.486Z"
   },
   {
    "duration": 318,
    "start_time": "2023-01-22T13:11:47.529Z"
   },
   {
    "duration": 12,
    "start_time": "2023-01-22T13:11:47.849Z"
   },
   {
    "duration": 470,
    "start_time": "2023-01-22T13:11:47.863Z"
   },
   {
    "duration": 8,
    "start_time": "2023-01-22T13:11:48.335Z"
   },
   {
    "duration": 327,
    "start_time": "2023-01-22T13:11:48.345Z"
   },
   {
    "duration": 6,
    "start_time": "2023-01-22T13:11:58.634Z"
   },
   {
    "duration": 17,
    "start_time": "2023-01-22T13:12:00.460Z"
   },
   {
    "duration": 31,
    "start_time": "2023-01-22T13:12:02.805Z"
   },
   {
    "duration": 9,
    "start_time": "2023-01-22T13:12:05.155Z"
   },
   {
    "duration": 219,
    "start_time": "2023-01-22T13:19:40.303Z"
   },
   {
    "duration": 4,
    "start_time": "2023-01-22T13:26:05.296Z"
   },
   {
    "duration": 24,
    "start_time": "2023-01-22T13:28:16.352Z"
   },
   {
    "duration": 3,
    "start_time": "2023-01-22T13:28:50.761Z"
   },
   {
    "duration": 3,
    "start_time": "2023-01-22T13:33:23.817Z"
   },
   {
    "duration": 132,
    "start_time": "2023-01-22T13:33:35.041Z"
   },
   {
    "duration": 6,
    "start_time": "2023-01-22T13:33:48.326Z"
   },
   {
    "duration": 10,
    "start_time": "2023-01-22T13:33:54.658Z"
   },
   {
    "duration": 3,
    "start_time": "2023-01-22T13:34:18.515Z"
   },
   {
    "duration": 6,
    "start_time": "2023-01-22T13:34:41.354Z"
   },
   {
    "duration": 5,
    "start_time": "2023-01-22T13:35:36.130Z"
   },
   {
    "duration": 4,
    "start_time": "2023-01-22T13:35:38.321Z"
   },
   {
    "duration": 7,
    "start_time": "2023-01-22T13:35:39.668Z"
   },
   {
    "duration": 74,
    "start_time": "2023-01-22T13:36:28.027Z"
   },
   {
    "duration": 12,
    "start_time": "2023-01-22T13:36:34.595Z"
   },
   {
    "duration": 5,
    "start_time": "2023-01-22T13:36:59.396Z"
   },
   {
    "duration": 4,
    "start_time": "2023-01-22T13:37:24.042Z"
   },
   {
    "duration": 3,
    "start_time": "2023-01-22T13:37:29.819Z"
   },
   {
    "duration": 8,
    "start_time": "2023-01-22T13:37:39.627Z"
   },
   {
    "duration": 3,
    "start_time": "2023-01-22T13:38:02.076Z"
   },
   {
    "duration": 11,
    "start_time": "2023-01-22T13:38:03.675Z"
   },
   {
    "duration": 3,
    "start_time": "2023-01-22T13:38:27.498Z"
   },
   {
    "duration": 3,
    "start_time": "2023-01-22T13:38:29.339Z"
   },
   {
    "duration": 9,
    "start_time": "2023-01-22T13:38:35.691Z"
   },
   {
    "duration": 4,
    "start_time": "2023-01-22T13:38:39.003Z"
   },
   {
    "duration": 3,
    "start_time": "2023-01-22T13:39:14.299Z"
   },
   {
    "duration": 3,
    "start_time": "2023-01-22T13:39:16.978Z"
   },
   {
    "duration": 6,
    "start_time": "2023-01-22T13:39:18.559Z"
   },
   {
    "duration": 11,
    "start_time": "2023-01-22T13:39:59.180Z"
   },
   {
    "duration": 10,
    "start_time": "2023-01-22T13:40:04.835Z"
   },
   {
    "duration": 10,
    "start_time": "2023-01-22T13:40:16.165Z"
   },
   {
    "duration": 3,
    "start_time": "2023-01-22T13:40:23.740Z"
   },
   {
    "duration": 3,
    "start_time": "2023-01-22T13:40:25.277Z"
   },
   {
    "duration": 11,
    "start_time": "2023-01-22T13:40:32.363Z"
   },
   {
    "duration": 9,
    "start_time": "2023-01-22T13:40:34.801Z"
   },
   {
    "duration": 6,
    "start_time": "2023-01-22T13:40:40.574Z"
   },
   {
    "duration": 6,
    "start_time": "2023-01-22T13:41:10.116Z"
   },
   {
    "duration": 10,
    "start_time": "2023-01-22T13:41:16.203Z"
   },
   {
    "duration": 10,
    "start_time": "2023-01-22T13:41:20.867Z"
   },
   {
    "duration": 7,
    "start_time": "2023-01-22T13:41:23.258Z"
   },
   {
    "duration": 46,
    "start_time": "2023-01-22T13:41:35.856Z"
   },
   {
    "duration": 8,
    "start_time": "2023-01-22T13:41:38.165Z"
   },
   {
    "duration": 10,
    "start_time": "2023-01-22T13:41:45.331Z"
   },
   {
    "duration": 5,
    "start_time": "2023-01-22T13:41:52.859Z"
   },
   {
    "duration": 2,
    "start_time": "2023-01-22T13:43:10.861Z"
   },
   {
    "duration": 9,
    "start_time": "2023-01-22T13:43:18.804Z"
   },
   {
    "duration": 4,
    "start_time": "2023-01-22T13:43:25.740Z"
   },
   {
    "duration": 7,
    "start_time": "2023-01-22T13:44:05.068Z"
   },
   {
    "duration": 3,
    "start_time": "2023-01-22T13:44:28.437Z"
   },
   {
    "duration": 3,
    "start_time": "2023-01-22T13:44:30.065Z"
   },
   {
    "duration": 5,
    "start_time": "2023-01-22T13:44:31.853Z"
   },
   {
    "duration": 536,
    "start_time": "2023-01-22T13:44:43.829Z"
   },
   {
    "duration": 46,
    "start_time": "2023-01-22T13:46:37.264Z"
   },
   {
    "duration": 255,
    "start_time": "2023-01-22T13:46:40.860Z"
   },
   {
    "duration": 131,
    "start_time": "2023-01-22T13:53:06.663Z"
   },
   {
    "duration": 60,
    "start_time": "2023-01-22T13:53:22.519Z"
   },
   {
    "duration": 44,
    "start_time": "2023-01-22T13:53:42.076Z"
   },
   {
    "duration": 49,
    "start_time": "2023-01-22T13:53:45.557Z"
   },
   {
    "duration": 44,
    "start_time": "2023-01-22T13:53:49.431Z"
   },
   {
    "duration": 61,
    "start_time": "2023-01-22T13:54:00.258Z"
   },
   {
    "duration": 45,
    "start_time": "2023-01-22T13:54:13.560Z"
   },
   {
    "duration": 165,
    "start_time": "2023-01-22T13:55:02.360Z"
   },
   {
    "duration": 54,
    "start_time": "2023-01-22T13:55:24.416Z"
   },
   {
    "duration": 1300,
    "start_time": "2023-01-22T13:55:40.549Z"
   },
   {
    "duration": 45,
    "start_time": "2023-01-22T13:55:41.851Z"
   },
   {
    "duration": 34,
    "start_time": "2023-01-22T13:55:41.897Z"
   },
   {
    "duration": 6,
    "start_time": "2023-01-22T13:55:41.933Z"
   },
   {
    "duration": 9,
    "start_time": "2023-01-22T13:55:41.941Z"
   },
   {
    "duration": 15,
    "start_time": "2023-01-22T13:55:41.952Z"
   },
   {
    "duration": 4,
    "start_time": "2023-01-22T13:55:41.969Z"
   },
   {
    "duration": 10,
    "start_time": "2023-01-22T13:55:41.974Z"
   },
   {
    "duration": 40,
    "start_time": "2023-01-22T13:55:41.986Z"
   },
   {
    "duration": 277,
    "start_time": "2023-01-22T13:55:42.028Z"
   },
   {
    "duration": 19,
    "start_time": "2023-01-22T13:55:42.307Z"
   },
   {
    "duration": 373,
    "start_time": "2023-01-22T13:55:42.327Z"
   },
   {
    "duration": 5,
    "start_time": "2023-01-22T13:55:42.702Z"
   },
   {
    "duration": 276,
    "start_time": "2023-01-22T13:55:42.709Z"
   },
   {
    "duration": 4,
    "start_time": "2023-01-22T13:55:42.987Z"
   },
   {
    "duration": 6,
    "start_time": "2023-01-22T13:55:42.993Z"
   },
   {
    "duration": 21,
    "start_time": "2023-01-22T13:55:43.000Z"
   },
   {
    "duration": 101,
    "start_time": "2023-01-22T13:55:43.022Z"
   },
   {
    "duration": 0,
    "start_time": "2023-01-22T13:55:43.124Z"
   },
   {
    "duration": 0,
    "start_time": "2023-01-22T13:55:43.126Z"
   },
   {
    "duration": 0,
    "start_time": "2023-01-22T13:55:43.127Z"
   },
   {
    "duration": 0,
    "start_time": "2023-01-22T13:55:43.128Z"
   },
   {
    "duration": 0,
    "start_time": "2023-01-22T13:55:43.129Z"
   },
   {
    "duration": 4,
    "start_time": "2023-01-22T13:56:02.983Z"
   },
   {
    "duration": 3,
    "start_time": "2023-01-22T13:56:04.967Z"
   },
   {
    "duration": 3,
    "start_time": "2023-01-22T13:56:06.687Z"
   },
   {
    "duration": 7,
    "start_time": "2023-01-22T13:56:08.494Z"
   },
   {
    "duration": 59,
    "start_time": "2023-01-22T13:56:11.176Z"
   },
   {
    "duration": 46,
    "start_time": "2023-01-22T13:56:23.256Z"
   },
   {
    "duration": 51,
    "start_time": "2023-01-22T13:56:32.424Z"
   },
   {
    "duration": 30,
    "start_time": "2023-01-22T13:56:57.816Z"
   },
   {
    "duration": 4,
    "start_time": "2023-01-22T13:58:40.113Z"
   },
   {
    "duration": 111,
    "start_time": "2023-01-22T13:58:45.703Z"
   },
   {
    "duration": 4,
    "start_time": "2023-01-22T13:59:25.680Z"
   },
   {
    "duration": 25,
    "start_time": "2023-01-22T13:59:42.592Z"
   },
   {
    "duration": 17,
    "start_time": "2023-01-22T14:00:37.200Z"
   },
   {
    "duration": 5,
    "start_time": "2023-01-22T14:00:49.758Z"
   },
   {
    "duration": 75,
    "start_time": "2023-01-22T14:01:03.757Z"
   },
   {
    "duration": 6,
    "start_time": "2023-01-22T14:01:48.960Z"
   },
   {
    "duration": 11,
    "start_time": "2023-01-22T14:01:54.016Z"
   },
   {
    "duration": 6,
    "start_time": "2023-01-22T14:01:58.721Z"
   },
   {
    "duration": 76,
    "start_time": "2023-01-22T14:02:52.105Z"
   },
   {
    "duration": 11,
    "start_time": "2023-01-22T14:03:11.662Z"
   },
   {
    "duration": 16,
    "start_time": "2023-01-22T14:03:36.410Z"
   },
   {
    "duration": 11,
    "start_time": "2023-01-22T14:03:47.362Z"
   },
   {
    "duration": 90,
    "start_time": "2023-01-22T14:04:31.803Z"
   },
   {
    "duration": 3,
    "start_time": "2023-01-22T14:04:45.417Z"
   },
   {
    "duration": 11,
    "start_time": "2023-01-22T14:05:28.505Z"
   },
   {
    "duration": 15,
    "start_time": "2023-01-22T14:05:38.017Z"
   },
   {
    "duration": 29,
    "start_time": "2023-01-22T14:05:42.041Z"
   },
   {
    "duration": 28,
    "start_time": "2023-01-22T14:05:58.666Z"
   },
   {
    "duration": 3074,
    "start_time": "2023-01-22T14:06:44.202Z"
   },
   {
    "duration": 18,
    "start_time": "2023-01-22T14:06:53.662Z"
   },
   {
    "duration": 4,
    "start_time": "2023-01-22T14:07:26.298Z"
   },
   {
    "duration": 2,
    "start_time": "2023-01-22T14:07:33.317Z"
   },
   {
    "duration": 3,
    "start_time": "2023-01-22T14:07:34.843Z"
   },
   {
    "duration": 6,
    "start_time": "2023-01-22T14:07:36.416Z"
   },
   {
    "duration": 26,
    "start_time": "2023-01-22T14:07:38.415Z"
   },
   {
    "duration": 2584,
    "start_time": "2023-01-22T14:07:51.538Z"
   },
   {
    "duration": 10,
    "start_time": "2023-01-22T14:21:15.274Z"
   },
   {
    "duration": 5,
    "start_time": "2023-01-22T14:21:43.320Z"
   },
   {
    "duration": 5,
    "start_time": "2023-01-22T14:21:46.571Z"
   },
   {
    "duration": 5,
    "start_time": "2023-01-22T14:21:55.070Z"
   },
   {
    "duration": 4,
    "start_time": "2023-01-22T14:25:18.686Z"
   },
   {
    "duration": 5,
    "start_time": "2023-01-22T14:25:39.126Z"
   },
   {
    "duration": 4,
    "start_time": "2023-01-22T14:25:42.934Z"
   },
   {
    "duration": 14,
    "start_time": "2023-01-22T14:26:14.673Z"
   },
   {
    "duration": 29,
    "start_time": "2023-01-22T14:26:18.791Z"
   },
   {
    "duration": 3,
    "start_time": "2023-01-22T14:26:39.431Z"
   },
   {
    "duration": 3,
    "start_time": "2023-01-22T14:26:42.666Z"
   },
   {
    "duration": 3,
    "start_time": "2023-01-22T14:26:47.473Z"
   },
   {
    "duration": 6,
    "start_time": "2023-01-22T14:27:01.943Z"
   },
   {
    "duration": 3,
    "start_time": "2023-01-22T14:27:36.783Z"
   },
   {
    "duration": 4,
    "start_time": "2023-01-22T14:27:38.503Z"
   },
   {
    "duration": 49,
    "start_time": "2023-01-22T14:27:58.599Z"
   },
   {
    "duration": 44,
    "start_time": "2023-01-22T14:28:08.112Z"
   },
   {
    "duration": 4,
    "start_time": "2023-01-22T14:28:17.773Z"
   },
   {
    "duration": 12,
    "start_time": "2023-01-22T14:35:18.787Z"
   },
   {
    "duration": 13,
    "start_time": "2023-01-22T14:35:24.076Z"
   },
   {
    "duration": 3,
    "start_time": "2023-01-22T14:35:45.663Z"
   },
   {
    "duration": 10,
    "start_time": "2023-01-22T14:36:40.793Z"
   },
   {
    "duration": 7,
    "start_time": "2023-01-22T14:37:01.718Z"
   },
   {
    "duration": 3,
    "start_time": "2023-01-22T14:41:29.477Z"
   },
   {
    "duration": 7,
    "start_time": "2023-01-22T14:41:36.643Z"
   },
   {
    "duration": 4,
    "start_time": "2023-01-22T14:41:40.435Z"
   },
   {
    "duration": 1980,
    "start_time": "2023-01-22T15:20:03.341Z"
   },
   {
    "duration": 325,
    "start_time": "2023-01-22T15:20:05.324Z"
   },
   {
    "duration": 39,
    "start_time": "2023-01-22T15:20:05.652Z"
   },
   {
    "duration": 8,
    "start_time": "2023-01-22T15:20:05.692Z"
   },
   {
    "duration": 22,
    "start_time": "2023-01-22T15:20:05.703Z"
   },
   {
    "duration": 43,
    "start_time": "2023-01-22T15:20:05.728Z"
   },
   {
    "duration": 19,
    "start_time": "2023-01-22T15:20:05.774Z"
   },
   {
    "duration": 23,
    "start_time": "2023-01-22T15:20:05.795Z"
   },
   {
    "duration": 22,
    "start_time": "2023-01-22T15:20:05.819Z"
   },
   {
    "duration": 358,
    "start_time": "2023-01-22T15:20:05.843Z"
   },
   {
    "duration": 17,
    "start_time": "2023-01-22T15:20:06.204Z"
   },
   {
    "duration": 486,
    "start_time": "2023-01-22T15:20:06.224Z"
   },
   {
    "duration": 8,
    "start_time": "2023-01-22T15:20:06.712Z"
   },
   {
    "duration": 443,
    "start_time": "2023-01-22T15:20:06.723Z"
   },
   {
    "duration": 8,
    "start_time": "2023-01-22T15:20:13.388Z"
   },
   {
    "duration": 5,
    "start_time": "2023-01-22T15:20:17.280Z"
   },
   {
    "duration": 3,
    "start_time": "2023-01-22T15:20:21.932Z"
   },
   {
    "duration": 3,
    "start_time": "2023-01-22T15:20:25.212Z"
   },
   {
    "duration": 71,
    "start_time": "2023-01-22T15:20:58.628Z"
   },
   {
    "duration": 130,
    "start_time": "2023-01-22T15:21:01.287Z"
   },
   {
    "duration": 4,
    "start_time": "2023-01-22T15:21:19.453Z"
   },
   {
    "duration": 6,
    "start_time": "2023-01-22T15:21:21.037Z"
   },
   {
    "duration": 4,
    "start_time": "2023-01-22T15:21:32.108Z"
   },
   {
    "duration": 13,
    "start_time": "2023-01-22T15:21:36.436Z"
   },
   {
    "duration": 10,
    "start_time": "2023-01-22T15:21:49.804Z"
   },
   {
    "duration": 2594,
    "start_time": "2023-01-22T15:21:53.928Z"
   },
   {
    "duration": 13,
    "start_time": "2023-01-22T15:22:10.053Z"
   },
   {
    "duration": 4,
    "start_time": "2023-01-22T15:22:11.915Z"
   },
   {
    "duration": 5,
    "start_time": "2023-01-22T15:22:13.700Z"
   },
   {
    "duration": 4,
    "start_time": "2023-01-22T15:22:20.184Z"
   },
   {
    "duration": 4,
    "start_time": "2023-01-22T15:22:21.829Z"
   },
   {
    "duration": 4,
    "start_time": "2023-01-22T15:22:24.248Z"
   },
   {
    "duration": 7,
    "start_time": "2023-01-22T15:22:25.924Z"
   },
   {
    "duration": 9,
    "start_time": "2023-01-22T15:22:28.830Z"
   },
   {
    "duration": 13,
    "start_time": "2023-01-22T15:23:08.236Z"
   },
   {
    "duration": 43,
    "start_time": "2023-01-22T15:23:17.389Z"
   },
   {
    "duration": 13409,
    "start_time": "2023-01-22T15:23:22.074Z"
   },
   {
    "duration": 13543,
    "start_time": "2023-01-22T15:23:49.836Z"
   },
   {
    "duration": 11,
    "start_time": "2023-01-22T15:24:25.724Z"
   },
   {
    "duration": 13123,
    "start_time": "2023-01-22T15:25:02.278Z"
   },
   {
    "duration": 13681,
    "start_time": "2023-01-22T15:25:41.741Z"
   },
   {
    "duration": 4,
    "start_time": "2023-01-22T15:26:36.917Z"
   },
   {
    "duration": 13214,
    "start_time": "2023-01-22T15:26:53.575Z"
   },
   {
    "duration": 12837,
    "start_time": "2023-01-22T15:27:51.170Z"
   },
   {
    "duration": 13331,
    "start_time": "2023-01-22T15:28:11.453Z"
   },
   {
    "duration": 13405,
    "start_time": "2023-01-22T15:29:06.186Z"
   },
   {
    "duration": 13347,
    "start_time": "2023-01-22T15:30:03.520Z"
   },
   {
    "duration": 12589,
    "start_time": "2023-01-22T15:30:34.284Z"
   },
   {
    "duration": 13002,
    "start_time": "2023-01-22T15:31:35.598Z"
   },
   {
    "duration": 13096,
    "start_time": "2023-01-22T15:32:07.284Z"
   },
   {
    "duration": 12797,
    "start_time": "2023-01-22T15:32:50.560Z"
   },
   {
    "duration": 12686,
    "start_time": "2023-01-22T15:33:16.079Z"
   },
   {
    "duration": 3,
    "start_time": "2023-01-22T15:34:55.815Z"
   },
   {
    "duration": 7,
    "start_time": "2023-01-22T15:34:58.830Z"
   },
   {
    "duration": 4,
    "start_time": "2023-01-22T15:35:03.286Z"
   },
   {
    "duration": 7,
    "start_time": "2023-01-22T15:35:05.134Z"
   },
   {
    "duration": 51544,
    "start_time": "2023-01-22T15:35:06.622Z"
   },
   {
    "duration": 35,
    "start_time": "2023-01-22T15:40:05.699Z"
   },
   {
    "duration": 4,
    "start_time": "2023-01-22T15:40:29.943Z"
   },
   {
    "duration": 66,
    "start_time": "2023-01-22T15:41:14.712Z"
   },
   {
    "duration": 4,
    "start_time": "2023-01-22T15:41:18.504Z"
   },
   {
    "duration": 46,
    "start_time": "2023-01-22T15:43:51.160Z"
   },
   {
    "duration": 88,
    "start_time": "2023-01-22T15:43:59.545Z"
   },
   {
    "duration": 81,
    "start_time": "2023-01-22T15:44:44.383Z"
   },
   {
    "duration": 5,
    "start_time": "2023-01-22T15:44:56.129Z"
   },
   {
    "duration": 5863706,
    "start_time": "2023-01-22T15:44:59.904Z"
   },
   {
    "duration": 11,
    "start_time": "2023-01-22T17:25:29.879Z"
   },
   {
    "duration": 31,
    "start_time": "2023-01-22T17:25:44.514Z"
   },
   {
    "duration": 4,
    "start_time": "2023-01-22T17:26:06.080Z"
   },
   {
    "duration": 16,
    "start_time": "2023-01-22T17:27:24.707Z"
   },
   {
    "duration": 15,
    "start_time": "2023-01-22T17:27:38.333Z"
   },
   {
    "duration": 7,
    "start_time": "2023-01-22T17:27:44.046Z"
   },
   {
    "duration": 16,
    "start_time": "2023-01-22T17:30:06.706Z"
   },
   {
    "duration": 26,
    "start_time": "2023-01-22T17:30:27.588Z"
   },
   {
    "duration": 5,
    "start_time": "2023-01-22T17:30:40.212Z"
   },
   {
    "duration": 664,
    "start_time": "2023-01-22T17:30:42.979Z"
   },
   {
    "duration": 674,
    "start_time": "2023-01-22T17:31:07.886Z"
   },
   {
    "duration": 1123,
    "start_time": "2023-01-22T17:31:17.794Z"
   },
   {
    "duration": 493,
    "start_time": "2023-01-22T17:31:21.898Z"
   },
   {
    "duration": 307,
    "start_time": "2023-01-22T17:31:24.870Z"
   },
   {
    "duration": 661,
    "start_time": "2023-01-22T17:31:28.178Z"
   },
   {
    "duration": 1075,
    "start_time": "2023-01-22T17:31:32.122Z"
   },
   {
    "duration": 708,
    "start_time": "2023-01-22T17:31:37.183Z"
   },
   {
    "duration": 127048,
    "start_time": "2023-01-22T17:33:02.662Z"
   },
   {
    "duration": 12,
    "start_time": "2023-01-22T17:36:52.811Z"
   },
   {
    "duration": 3,
    "start_time": "2023-01-22T17:38:17.880Z"
   },
   {
    "duration": 12,
    "start_time": "2023-01-22T17:38:23.750Z"
   },
   {
    "duration": 7,
    "start_time": "2023-01-22T17:38:25.788Z"
   },
   {
    "duration": 57364,
    "start_time": "2023-01-22T17:38:30.582Z"
   },
   {
    "duration": 4,
    "start_time": "2023-01-22T17:40:16.683Z"
   },
   {
    "duration": 2210825,
    "start_time": "2023-01-22T17:40:20.684Z"
   },
   {
    "duration": 1924,
    "start_time": "2023-01-22T20:24:55.290Z"
   },
   {
    "duration": 1845,
    "start_time": "2023-01-22T20:25:00.001Z"
   },
   {
    "duration": 10,
    "start_time": "2023-01-22T20:25:09.545Z"
   },
   {
    "duration": 4,
    "start_time": "2023-01-22T20:25:51.922Z"
   },
   {
    "duration": 3,
    "start_time": "2023-01-22T20:25:54.321Z"
   },
   {
    "duration": 3,
    "start_time": "2023-01-22T20:25:57.001Z"
   },
   {
    "duration": 9866,
    "start_time": "2023-01-22T20:25:59.538Z"
   },
   {
    "duration": 19,
    "start_time": "2023-01-22T20:26:33.898Z"
   },
   {
    "duration": 3,
    "start_time": "2023-01-22T20:26:37.786Z"
   },
   {
    "duration": 7,
    "start_time": "2023-01-22T20:26:42.770Z"
   },
   {
    "duration": 88544,
    "start_time": "2023-01-22T20:26:50.890Z"
   },
   {
    "duration": 3,
    "start_time": "2023-01-22T20:29:28.683Z"
   },
   {
    "duration": 8143,
    "start_time": "2023-01-22T20:29:30.436Z"
   },
   {
    "duration": 3,
    "start_time": "2023-01-22T20:30:07.586Z"
   },
   {
    "duration": 8,
    "start_time": "2023-01-22T20:30:10.162Z"
   },
   {
    "duration": 17953,
    "start_time": "2023-01-22T20:30:12.083Z"
   },
   {
    "duration": 3,
    "start_time": "2023-01-22T20:31:58.635Z"
   },
   {
    "duration": 15618,
    "start_time": "2023-01-22T20:32:02.170Z"
   },
   {
    "duration": 4,
    "start_time": "2023-01-22T20:34:13.839Z"
   },
   {
    "duration": 309243,
    "start_time": "2023-01-22T20:34:17.875Z"
   },
   {
    "duration": 4,
    "start_time": "2023-01-22T20:43:56.332Z"
   },
   {
    "duration": 22134,
    "start_time": "2023-01-22T20:43:58.076Z"
   },
   {
    "duration": 3,
    "start_time": "2023-01-22T20:44:34.132Z"
   },
   {
    "duration": 3192,
    "start_time": "2023-01-22T20:44:36.318Z"
   },
   {
    "duration": 2843,
    "start_time": "2023-01-22T20:45:44.253Z"
   },
   {
    "duration": 58,
    "start_time": "2023-01-22T20:45:49.141Z"
   },
   {
    "duration": 12,
    "start_time": "2023-01-22T20:45:52.212Z"
   },
   {
    "duration": 3,
    "start_time": "2023-01-22T20:46:42.613Z"
   },
   {
    "duration": 9569,
    "start_time": "2023-01-22T20:46:45.037Z"
   },
   {
    "duration": 3,
    "start_time": "2023-01-22T20:47:09.413Z"
   },
   {
    "duration": 6242,
    "start_time": "2023-01-22T20:47:11.557Z"
   },
   {
    "duration": 3,
    "start_time": "2023-01-22T20:47:40.378Z"
   },
   {
    "duration": 23364,
    "start_time": "2023-01-22T20:47:42.157Z"
   },
   {
    "duration": 8007,
    "start_time": "2023-01-22T20:48:23.821Z"
   },
   {
    "duration": 3,
    "start_time": "2023-01-22T20:49:05.421Z"
   },
   {
    "duration": 3,
    "start_time": "2023-01-22T20:49:07.117Z"
   },
   {
    "duration": 25054,
    "start_time": "2023-01-22T20:49:09.045Z"
   },
   {
    "duration": 18,
    "start_time": "2023-01-22T20:50:00.670Z"
   },
   {
    "duration": 3,
    "start_time": "2023-01-22T20:50:17.933Z"
   },
   {
    "duration": 7,
    "start_time": "2023-01-22T20:50:20.878Z"
   },
   {
    "duration": 16319,
    "start_time": "2023-01-22T20:50:22.678Z"
   },
   {
    "duration": 3,
    "start_time": "2023-01-22T20:51:11.062Z"
   },
   {
    "duration": 8664,
    "start_time": "2023-01-22T20:51:13.438Z"
   },
   {
    "duration": 4,
    "start_time": "2023-01-22T20:52:11.294Z"
   },
   {
    "duration": 4,
    "start_time": "2023-01-22T20:52:13.837Z"
   },
   {
    "duration": 15149,
    "start_time": "2023-01-22T20:52:15.966Z"
   },
   {
    "duration": 56,
    "start_time": "2023-01-22T20:52:45.743Z"
   },
   {
    "duration": 11,
    "start_time": "2023-01-22T20:52:50.870Z"
   },
   {
    "duration": 9,
    "start_time": "2023-01-22T20:57:46.689Z"
   },
   {
    "duration": 11,
    "start_time": "2023-01-22T20:58:01.064Z"
   },
   {
    "duration": 4,
    "start_time": "2023-01-22T20:58:13.295Z"
   },
   {
    "duration": 4,
    "start_time": "2023-01-22T20:58:15.384Z"
   },
   {
    "duration": 17654,
    "start_time": "2023-01-22T20:58:17.622Z"
   },
   {
    "duration": 380,
    "start_time": "2023-01-22T20:58:44.119Z"
   },
   {
    "duration": 14,
    "start_time": "2023-01-22T20:58:50.199Z"
   },
   {
    "duration": 6,
    "start_time": "2023-01-22T21:06:45.721Z"
   },
   {
    "duration": 253,
    "start_time": "2023-01-22T21:09:10.450Z"
   },
   {
    "duration": 335,
    "start_time": "2023-01-22T21:09:37.346Z"
   },
   {
    "duration": 7,
    "start_time": "2023-01-22T21:10:19.401Z"
   },
   {
    "duration": 7,
    "start_time": "2023-01-22T21:10:34.289Z"
   },
   {
    "duration": 5,
    "start_time": "2023-01-22T21:10:41.770Z"
   },
   {
    "duration": 5,
    "start_time": "2023-01-22T21:10:45.801Z"
   },
   {
    "duration": 5,
    "start_time": "2023-01-22T21:10:52.481Z"
   },
   {
    "duration": 8,
    "start_time": "2023-01-22T21:10:56.074Z"
   },
   {
    "duration": 10,
    "start_time": "2023-01-22T21:11:31.226Z"
   },
   {
    "duration": 6,
    "start_time": "2023-01-22T21:11:39.643Z"
   },
   {
    "duration": 89,
    "start_time": "2023-01-22T21:25:59.852Z"
   },
   {
    "duration": 106,
    "start_time": "2023-01-22T21:26:44.084Z"
   },
   {
    "duration": 102,
    "start_time": "2023-01-22T21:26:53.020Z"
   },
   {
    "duration": 257,
    "start_time": "2023-01-22T21:36:08.582Z"
   },
   {
    "duration": 264,
    "start_time": "2023-01-22T21:36:20.758Z"
   },
   {
    "duration": 285,
    "start_time": "2023-01-22T21:38:25.150Z"
   },
   {
    "duration": 21,
    "start_time": "2023-01-22T21:49:03.871Z"
   },
   {
    "duration": 4,
    "start_time": "2023-01-22T21:49:57.976Z"
   },
   {
    "duration": 3,
    "start_time": "2023-01-22T21:49:59.399Z"
   },
   {
    "duration": 24738,
    "start_time": "2023-01-22T21:50:01.264Z"
   },
   {
    "duration": 2,
    "start_time": "2023-01-22T21:50:29.616Z"
   },
   {
    "duration": 3,
    "start_time": "2023-01-22T21:50:31.377Z"
   },
   {
    "duration": 246583,
    "start_time": "2023-01-22T21:50:33.280Z"
   },
   {
    "duration": 4,
    "start_time": "2023-01-22T22:08:21.267Z"
   },
   {
    "duration": 3,
    "start_time": "2023-01-22T22:11:31.652Z"
   },
   {
    "duration": 12,
    "start_time": "2023-01-22T22:11:42.668Z"
   },
   {
    "duration": 25217,
    "start_time": "2023-01-22T22:15:17.285Z"
   },
   {
    "duration": 34156,
    "start_time": "2023-01-22T22:23:32.598Z"
   },
   {
    "duration": 7,
    "start_time": "2023-01-22T22:26:50.159Z"
   },
   {
    "duration": 18,
    "start_time": "2023-01-22T22:26:52.758Z"
   },
   {
    "duration": 3,
    "start_time": "2023-01-22T22:26:54.446Z"
   },
   {
    "duration": 7,
    "start_time": "2023-01-22T22:26:56.294Z"
   },
   {
    "duration": 98908,
    "start_time": "2023-01-22T22:27:00.606Z"
   },
   {
    "duration": 3,
    "start_time": "2023-01-22T22:29:13.511Z"
   },
   {
    "duration": 17749,
    "start_time": "2023-01-22T22:29:20.983Z"
   },
   {
    "duration": 3,
    "start_time": "2023-01-22T22:30:08.551Z"
   },
   {
    "duration": 11194,
    "start_time": "2023-01-22T22:30:10.310Z"
   },
   {
    "duration": 3,
    "start_time": "2023-01-22T22:30:34.703Z"
   },
   {
    "duration": 4925,
    "start_time": "2023-01-22T22:30:43.735Z"
   },
   {
    "duration": 3,
    "start_time": "2023-01-22T22:31:02.350Z"
   },
   {
    "duration": 7985,
    "start_time": "2023-01-22T22:31:04.041Z"
   },
   {
    "duration": 3,
    "start_time": "2023-01-22T22:31:22.487Z"
   },
   {
    "duration": 7594,
    "start_time": "2023-01-22T22:31:24.824Z"
   },
   {
    "duration": 3,
    "start_time": "2023-01-22T22:34:36.936Z"
   },
   {
    "duration": 24648,
    "start_time": "2023-01-22T22:34:38.752Z"
   },
   {
    "duration": 2,
    "start_time": "2023-01-22T22:35:35.033Z"
   },
   {
    "duration": 4,
    "start_time": "2023-01-22T22:35:45.296Z"
   },
   {
    "duration": 2344,
    "start_time": "2023-01-22T22:35:47.463Z"
   },
   {
    "duration": 3,
    "start_time": "2023-01-22T22:36:17.840Z"
   },
   {
    "duration": 3,
    "start_time": "2023-01-22T22:37:11.520Z"
   },
   {
    "duration": 3,
    "start_time": "2023-01-22T22:37:51.673Z"
   },
   {
    "duration": 20614,
    "start_time": "2023-01-22T22:38:02.493Z"
   },
   {
    "duration": 3,
    "start_time": "2023-01-22T22:38:54.793Z"
   },
   {
    "duration": 3,
    "start_time": "2023-01-22T22:38:57.409Z"
   },
   {
    "duration": 9287,
    "start_time": "2023-01-22T22:38:59.721Z"
   },
   {
    "duration": 3,
    "start_time": "2023-01-22T22:39:54.305Z"
   },
   {
    "duration": 3,
    "start_time": "2023-01-22T22:39:58.585Z"
   },
   {
    "duration": 8674,
    "start_time": "2023-01-22T22:40:00.225Z"
   },
   {
    "duration": 17,
    "start_time": "2023-01-22T22:42:38.985Z"
   },
   {
    "duration": 6,
    "start_time": "2023-01-22T22:42:40.962Z"
   },
   {
    "duration": 3,
    "start_time": "2023-01-22T22:42:54.642Z"
   },
   {
    "duration": 4,
    "start_time": "2023-01-22T22:42:56.489Z"
   },
   {
    "duration": 22664,
    "start_time": "2023-01-22T22:42:59.145Z"
   },
   {
    "duration": 3,
    "start_time": "2023-01-22T22:44:47.586Z"
   },
   {
    "duration": 4,
    "start_time": "2023-01-22T22:44:51.906Z"
   },
   {
    "duration": 66945,
    "start_time": "2023-01-22T22:44:55.354Z"
   },
   {
    "duration": 3,
    "start_time": "2023-01-22T22:46:30.986Z"
   },
   {
    "duration": 3,
    "start_time": "2023-01-22T22:46:34.779Z"
   },
   {
    "duration": 4,
    "start_time": "2023-01-22T22:46:36.458Z"
   },
   {
    "duration": 3789,
    "start_time": "2023-01-22T22:46:39.826Z"
   },
   {
    "duration": 4,
    "start_time": "2023-01-22T22:47:11.283Z"
   },
   {
    "duration": 22,
    "start_time": "2023-01-22T22:51:21.147Z"
   },
   {
    "duration": 3,
    "start_time": "2023-01-22T22:51:30.155Z"
   },
   {
    "duration": 7,
    "start_time": "2023-01-22T22:51:33.883Z"
   },
   {
    "duration": 13746,
    "start_time": "2023-01-22T22:51:35.618Z"
   },
   {
    "duration": 3,
    "start_time": "2023-01-22T22:52:37.379Z"
   },
   {
    "duration": 107792,
    "start_time": "2023-01-22T22:52:41.867Z"
   },
   {
    "duration": 18,
    "start_time": "2023-01-22T22:56:45.308Z"
   },
   {
    "duration": 7,
    "start_time": "2023-01-22T22:56:47.468Z"
   },
   {
    "duration": 4,
    "start_time": "2023-01-22T22:56:52.043Z"
   },
   {
    "duration": 4,
    "start_time": "2023-01-22T22:57:16.236Z"
   },
   {
    "duration": 51775,
    "start_time": "2023-01-22T22:57:18.636Z"
   },
   {
    "duration": 21,
    "start_time": "2023-01-22T23:02:29.628Z"
   },
   {
    "duration": 5,
    "start_time": "2023-01-22T23:06:43.198Z"
   },
   {
    "duration": 21,
    "start_time": "2023-01-22T23:07:23.462Z"
   },
   {
    "duration": 27,
    "start_time": "2023-01-22T23:07:48.261Z"
   },
   {
    "duration": 29,
    "start_time": "2023-01-22T23:09:00.750Z"
   },
   {
    "duration": 29,
    "start_time": "2023-01-22T23:09:14.966Z"
   },
   {
    "duration": 28,
    "start_time": "2023-01-22T23:09:19.198Z"
   },
   {
    "duration": 1276,
    "start_time": "2023-01-22T23:11:41.215Z"
   },
   {
    "duration": 25,
    "start_time": "2023-01-22T23:12:06.718Z"
   },
   {
    "duration": 24,
    "start_time": "2023-01-22T23:12:09.566Z"
   },
   {
    "duration": 33,
    "start_time": "2023-01-22T23:12:12.462Z"
   },
   {
    "duration": 32,
    "start_time": "2023-01-22T23:12:14.910Z"
   },
   {
    "duration": 27,
    "start_time": "2023-01-22T23:12:17.390Z"
   },
   {
    "duration": 39,
    "start_time": "2023-01-22T23:12:20.462Z"
   },
   {
    "duration": 29,
    "start_time": "2023-01-22T23:12:24.510Z"
   },
   {
    "duration": 29,
    "start_time": "2023-01-22T23:12:30.142Z"
   },
   {
    "duration": 28,
    "start_time": "2023-01-22T23:12:33.438Z"
   },
   {
    "duration": 28,
    "start_time": "2023-01-22T23:12:35.702Z"
   },
   {
    "duration": 28,
    "start_time": "2023-01-22T23:12:38.870Z"
   },
   {
    "duration": 27,
    "start_time": "2023-01-22T23:12:41.574Z"
   },
   {
    "duration": 29,
    "start_time": "2023-01-22T23:12:43.549Z"
   },
   {
    "duration": 2,
    "start_time": "2023-01-22T23:12:59.574Z"
   },
   {
    "duration": 25018,
    "start_time": "2023-01-22T23:13:01.782Z"
   },
   {
    "duration": 544,
    "start_time": "2023-01-22T23:13:48.143Z"
   },
   {
    "duration": 1299,
    "start_time": "2023-01-22T23:13:52.550Z"
   },
   {
    "duration": 5374,
    "start_time": "2023-01-22T23:13:56.967Z"
   },
   {
    "duration": 1295,
    "start_time": "2023-01-22T23:14:06.742Z"
   },
   {
    "duration": 59,
    "start_time": "2023-01-22T23:16:09.743Z"
   },
   {
    "duration": 30,
    "start_time": "2023-01-22T23:16:45.199Z"
   },
   {
    "duration": 23,
    "start_time": "2023-01-22T23:16:54.095Z"
   },
   {
    "duration": 22,
    "start_time": "2023-01-22T23:16:57.479Z"
   },
   {
    "duration": 28,
    "start_time": "2023-01-22T23:16:59.935Z"
   },
   {
    "duration": 24,
    "start_time": "2023-01-22T23:17:02.456Z"
   },
   {
    "duration": 25,
    "start_time": "2023-01-22T23:17:06.143Z"
   },
   {
    "duration": 22,
    "start_time": "2023-01-22T23:17:08.959Z"
   },
   {
    "duration": 22,
    "start_time": "2023-01-22T23:17:11.975Z"
   },
   {
    "duration": 25,
    "start_time": "2023-01-22T23:17:14.847Z"
   },
   {
    "duration": 22,
    "start_time": "2023-01-22T23:17:18.007Z"
   },
   {
    "duration": 24,
    "start_time": "2023-01-22T23:17:20.502Z"
   },
   {
    "duration": 25,
    "start_time": "2023-01-22T23:17:23.015Z"
   },
   {
    "duration": 27,
    "start_time": "2023-01-22T23:17:25.463Z"
   },
   {
    "duration": 30,
    "start_time": "2023-01-22T23:17:30.423Z"
   },
   {
    "duration": 30,
    "start_time": "2023-01-22T23:17:33.414Z"
   },
   {
    "duration": 30,
    "start_time": "2023-01-22T23:17:35.879Z"
   },
   {
    "duration": 628,
    "start_time": "2023-01-22T23:19:14.480Z"
   },
   {
    "duration": 1272,
    "start_time": "2023-01-22T23:19:24.871Z"
   },
   {
    "duration": 1319,
    "start_time": "2023-01-22T23:19:42.832Z"
   },
   {
    "duration": 1462,
    "start_time": "2023-01-22T23:19:47.663Z"
   },
   {
    "duration": 1311,
    "start_time": "2023-01-22T23:19:51.335Z"
   },
   {
    "duration": 1357,
    "start_time": "2023-01-22T23:19:54.847Z"
   },
   {
    "duration": 1954,
    "start_time": "2023-01-22T23:19:59.791Z"
   },
   {
    "duration": 2702,
    "start_time": "2023-01-22T23:20:06.256Z"
   },
   {
    "duration": 4,
    "start_time": "2023-01-22T23:20:42.983Z"
   },
   {
    "duration": 3,
    "start_time": "2023-01-22T23:21:06.752Z"
   },
   {
    "duration": 159994,
    "start_time": "2023-01-22T23:21:10.208Z"
   },
   {
    "duration": 111,
    "start_time": "2023-01-22T23:24:34.992Z"
   },
   {
    "duration": 190280,
    "start_time": "2023-01-22T23:25:37.601Z"
   },
   {
    "duration": 3,
    "start_time": "2023-01-22T23:30:29.929Z"
   },
   {
    "duration": 7,
    "start_time": "2023-01-22T23:30:34.266Z"
   },
   {
    "duration": 13453,
    "start_time": "2023-01-22T23:30:37.561Z"
   },
   {
    "duration": 3,
    "start_time": "2023-01-22T23:31:18.986Z"
   },
   {
    "duration": 5635,
    "start_time": "2023-01-22T23:31:22.418Z"
   },
   {
    "duration": 2692,
    "start_time": "2023-01-22T23:32:50.074Z"
   },
   {
    "duration": 112,
    "start_time": "2023-01-22T23:34:00.170Z"
   },
   {
    "duration": 4,
    "start_time": "2023-01-22T23:34:05.681Z"
   },
   {
    "duration": 116468,
    "start_time": "2023-01-22T23:34:07.242Z"
   },
   {
    "duration": 28,
    "start_time": "2023-01-22T23:37:56.907Z"
   },
   {
    "duration": 8,
    "start_time": "2023-01-22T23:38:01.754Z"
   },
   {
    "duration": 4,
    "start_time": "2023-01-22T23:38:25.418Z"
   },
   {
    "duration": 17684,
    "start_time": "2023-01-22T23:38:31.716Z"
   },
   {
    "duration": 60,
    "start_time": "2023-01-22T23:39:48.547Z"
   },
   {
    "duration": 2363,
    "start_time": "2023-01-23T04:24:09.082Z"
   },
   {
    "duration": 42,
    "start_time": "2023-01-23T04:24:11.447Z"
   },
   {
    "duration": 43,
    "start_time": "2023-01-23T04:24:40.334Z"
   },
   {
    "duration": 8,
    "start_time": "2023-01-23T04:24:46.079Z"
   },
   {
    "duration": 7,
    "start_time": "2023-01-23T04:24:46.571Z"
   },
   {
    "duration": 17,
    "start_time": "2023-01-23T04:27:27.645Z"
   },
   {
    "duration": 12,
    "start_time": "2023-01-23T04:27:28.092Z"
   },
   {
    "duration": 9,
    "start_time": "2023-01-23T04:27:28.381Z"
   },
   {
    "duration": 7,
    "start_time": "2023-01-23T04:27:28.571Z"
   },
   {
    "duration": 302,
    "start_time": "2023-01-23T04:27:30.245Z"
   },
   {
    "duration": 129,
    "start_time": "2023-01-23T04:27:31.132Z"
   },
   {
    "duration": 9,
    "start_time": "2023-01-23T04:27:31.610Z"
   },
   {
    "duration": 466,
    "start_time": "2023-01-23T04:27:32.041Z"
   },
   {
    "duration": 286,
    "start_time": "2023-01-23T04:27:33.474Z"
   },
   {
    "duration": 4,
    "start_time": "2023-01-23T04:28:16.349Z"
   },
   {
    "duration": 7,
    "start_time": "2023-01-23T04:30:39.348Z"
   },
   {
    "duration": 4,
    "start_time": "2023-01-23T04:32:48.021Z"
   },
   {
    "duration": 172869,
    "start_time": "2023-01-23T04:32:52.134Z"
   },
   {
    "duration": 222149,
    "start_time": "2023-01-23T05:07:32.644Z"
   },
   {
    "duration": 3,
    "start_time": "2023-01-23T05:11:33.048Z"
   },
   {
    "duration": 114,
    "start_time": "2023-01-23T05:11:37.766Z"
   },
   {
    "duration": 40,
    "start_time": "2023-01-23T05:11:43.747Z"
   },
   {
    "duration": 5,
    "start_time": "2023-01-23T05:11:47.423Z"
   },
   {
    "duration": 8,
    "start_time": "2023-01-23T05:11:47.844Z"
   },
   {
    "duration": 37,
    "start_time": "2023-01-23T05:12:38.986Z"
   },
   {
    "duration": 10,
    "start_time": "2023-01-23T05:12:39.642Z"
   },
   {
    "duration": 4,
    "start_time": "2023-01-23T05:12:41.139Z"
   },
   {
    "duration": 406251,
    "start_time": "2023-01-23T05:12:46.072Z"
   },
   {
    "duration": 7,
    "start_time": "2023-01-23T05:19:32.326Z"
   },
   {
    "duration": 68,
    "start_time": "2023-01-23T05:19:32.335Z"
   },
   {
    "duration": 3260,
    "start_time": "2023-01-23T05:19:32.407Z"
   },
   {
    "duration": 14661,
    "start_time": "2023-01-23T05:19:35.669Z"
   },
   {
    "duration": 71,
    "start_time": "2023-01-23T13:53:41.278Z"
   },
   {
    "duration": 1442,
    "start_time": "2023-01-23T13:59:03.033Z"
   },
   {
    "duration": 145,
    "start_time": "2023-01-23T13:59:04.477Z"
   },
   {
    "duration": 26,
    "start_time": "2023-01-23T13:59:04.623Z"
   },
   {
    "duration": 14,
    "start_time": "2023-01-23T13:59:04.651Z"
   },
   {
    "duration": 23,
    "start_time": "2023-01-23T13:59:04.667Z"
   },
   {
    "duration": 43,
    "start_time": "2023-01-23T13:59:04.693Z"
   },
   {
    "duration": 13,
    "start_time": "2023-01-23T13:59:04.738Z"
   },
   {
    "duration": 37,
    "start_time": "2023-01-23T13:59:04.753Z"
   },
   {
    "duration": 16,
    "start_time": "2023-01-23T13:59:04.793Z"
   },
   {
    "duration": 300,
    "start_time": "2023-01-23T13:59:04.812Z"
   },
   {
    "duration": 110,
    "start_time": "2023-01-23T13:59:05.114Z"
   },
   {
    "duration": 13,
    "start_time": "2023-01-23T13:59:05.226Z"
   },
   {
    "duration": 432,
    "start_time": "2023-01-23T13:59:05.240Z"
   },
   {
    "duration": 266,
    "start_time": "2023-01-23T13:59:05.674Z"
   },
   {
    "duration": 5,
    "start_time": "2023-01-23T13:59:05.943Z"
   },
   {
    "duration": 11,
    "start_time": "2023-01-23T13:59:05.950Z"
   },
   {
    "duration": 17,
    "start_time": "2023-01-23T13:59:05.963Z"
   },
   {
    "duration": 1402,
    "start_time": "2023-01-23T14:21:44.192Z"
   },
   {
    "duration": 41,
    "start_time": "2023-01-23T14:21:45.596Z"
   },
   {
    "duration": 32,
    "start_time": "2023-01-23T14:21:45.639Z"
   },
   {
    "duration": 8,
    "start_time": "2023-01-23T14:21:45.674Z"
   },
   {
    "duration": 13,
    "start_time": "2023-01-23T14:21:45.684Z"
   },
   {
    "duration": 22,
    "start_time": "2023-01-23T14:21:45.699Z"
   },
   {
    "duration": 3,
    "start_time": "2023-01-23T14:21:45.739Z"
   },
   {
    "duration": 18,
    "start_time": "2023-01-23T14:21:45.744Z"
   },
   {
    "duration": 8,
    "start_time": "2023-01-23T14:21:45.763Z"
   },
   {
    "duration": 311,
    "start_time": "2023-01-23T14:21:45.773Z"
   },
   {
    "duration": 121,
    "start_time": "2023-01-23T14:21:46.086Z"
   },
   {
    "duration": 11,
    "start_time": "2023-01-23T14:21:46.209Z"
   },
   {
    "duration": 462,
    "start_time": "2023-01-23T14:21:46.222Z"
   },
   {
    "duration": 259,
    "start_time": "2023-01-23T14:21:46.685Z"
   },
   {
    "duration": 4,
    "start_time": "2023-01-23T14:21:46.945Z"
   },
   {
    "duration": 42,
    "start_time": "2023-01-23T14:21:46.951Z"
   },
   {
    "duration": 42,
    "start_time": "2023-01-23T14:21:46.995Z"
   },
   {
    "duration": 139842,
    "start_time": "2023-01-23T14:21:55.808Z"
   },
   {
    "duration": 3,
    "start_time": "2023-01-23T14:25:05.137Z"
   },
   {
    "duration": 10774,
    "start_time": "2023-01-23T14:25:09.481Z"
   },
   {
    "duration": 3,
    "start_time": "2023-01-23T14:25:32.499Z"
   },
   {
    "duration": 12050,
    "start_time": "2023-01-23T14:25:37.697Z"
   },
   {
    "duration": 3,
    "start_time": "2023-01-23T14:28:49.041Z"
   },
   {
    "duration": 180713,
    "start_time": "2023-01-23T14:28:54.577Z"
   },
   {
    "duration": 24,
    "start_time": "2023-01-23T14:32:10.360Z"
   },
   {
    "duration": 3,
    "start_time": "2023-01-23T14:32:15.362Z"
   },
   {
    "duration": 9,
    "start_time": "2023-01-23T14:32:17.626Z"
   },
   {
    "duration": 173105,
    "start_time": "2023-01-23T14:32:37.761Z"
   },
   {
    "duration": 4,
    "start_time": "2023-01-23T14:36:46.395Z"
   },
   {
    "duration": 658290,
    "start_time": "2023-01-23T14:36:53.954Z"
   },
   {
    "duration": 26,
    "start_time": "2023-01-23T14:48:16.132Z"
   },
   {
    "duration": 7,
    "start_time": "2023-01-23T14:48:24.620Z"
   },
   {
    "duration": 3,
    "start_time": "2023-01-23T14:48:31.376Z"
   },
   {
    "duration": 116501,
    "start_time": "2023-01-23T14:48:36.050Z"
   },
   {
    "duration": 3,
    "start_time": "2023-01-23T14:52:01.132Z"
   },
   {
    "duration": 108,
    "start_time": "2023-01-23T14:52:06.762Z"
   },
   {
    "duration": 9,
    "start_time": "2023-01-23T14:52:10.020Z"
   },
   {
    "duration": 10,
    "start_time": "2023-01-23T14:53:31.600Z"
   },
   {
    "duration": 8,
    "start_time": "2023-01-23T14:54:17.911Z"
   },
   {
    "duration": 1269,
    "start_time": "2023-01-23T14:54:40.203Z"
   },
   {
    "duration": 35,
    "start_time": "2023-01-23T14:54:41.474Z"
   },
   {
    "duration": 37,
    "start_time": "2023-01-23T14:54:41.510Z"
   },
   {
    "duration": 5,
    "start_time": "2023-01-23T14:54:41.551Z"
   },
   {
    "duration": 12,
    "start_time": "2023-01-23T14:54:41.557Z"
   },
   {
    "duration": 24,
    "start_time": "2023-01-23T14:54:41.570Z"
   },
   {
    "duration": 3,
    "start_time": "2023-01-23T14:54:41.596Z"
   },
   {
    "duration": 15,
    "start_time": "2023-01-23T14:54:41.600Z"
   },
   {
    "duration": 30,
    "start_time": "2023-01-23T14:54:41.616Z"
   },
   {
    "duration": 277,
    "start_time": "2023-01-23T14:54:41.649Z"
   },
   {
    "duration": 116,
    "start_time": "2023-01-23T14:54:41.928Z"
   },
   {
    "duration": 7,
    "start_time": "2023-01-23T14:54:42.047Z"
   },
   {
    "duration": 467,
    "start_time": "2023-01-23T14:54:42.055Z"
   },
   {
    "duration": 327,
    "start_time": "2023-01-23T14:54:42.524Z"
   },
   {
    "duration": 5,
    "start_time": "2023-01-23T14:54:42.852Z"
   },
   {
    "duration": 9,
    "start_time": "2023-01-23T14:54:42.858Z"
   },
   {
    "duration": 7,
    "start_time": "2023-01-23T14:54:42.868Z"
   },
   {
    "duration": 230364,
    "start_time": "2023-01-23T14:54:42.876Z"
   },
   {
    "duration": 98,
    "start_time": "2023-01-23T14:58:33.244Z"
   },
   {
    "duration": 184537,
    "start_time": "2023-01-23T14:58:33.344Z"
   },
   {
    "duration": 26,
    "start_time": "2023-01-23T15:01:37.883Z"
   },
   {
    "duration": 3,
    "start_time": "2023-01-23T15:01:37.910Z"
   },
   {
    "duration": 31,
    "start_time": "2023-01-23T15:01:37.915Z"
   },
   {
    "duration": 178107,
    "start_time": "2023-01-23T15:01:37.948Z"
   },
   {
    "duration": 4,
    "start_time": "2023-01-23T15:04:36.058Z"
   },
   {
    "duration": 531388,
    "start_time": "2023-01-23T15:04:36.064Z"
   },
   {
    "duration": 96,
    "start_time": "2023-01-23T15:13:27.454Z"
   },
   {
    "duration": 8,
    "start_time": "2023-01-23T15:13:27.554Z"
   },
   {
    "duration": 10,
    "start_time": "2023-01-23T15:13:27.563Z"
   },
   {
    "duration": 91264,
    "start_time": "2023-01-23T15:13:27.574Z"
   },
   {
    "duration": 12,
    "start_time": "2023-01-23T15:14:58.848Z"
   },
   {
    "duration": 7,
    "start_time": "2023-01-23T15:15:53.209Z"
   },
   {
    "duration": 10,
    "start_time": "2023-01-23T15:16:09.393Z"
   },
   {
    "duration": 135,
    "start_time": "2023-01-23T15:17:26.954Z"
   },
   {
    "duration": 5,
    "start_time": "2023-01-23T15:17:31.387Z"
   },
   {
    "duration": 97,
    "start_time": "2023-01-23T15:17:33.549Z"
   },
   {
    "duration": 1053,
    "start_time": "2023-01-23T15:18:57.538Z"
   },
   {
    "duration": 438,
    "start_time": "2023-01-23T15:20:07.418Z"
   },
   {
    "duration": 170,
    "start_time": "2023-01-23T15:22:32.858Z"
   },
   {
    "duration": 165,
    "start_time": "2023-01-23T15:22:38.363Z"
   },
   {
    "duration": 192,
    "start_time": "2023-01-23T15:22:57.490Z"
   },
   {
    "duration": 16,
    "start_time": "2023-01-23T15:23:21.788Z"
   },
   {
    "duration": 14,
    "start_time": "2023-01-23T15:23:31.576Z"
   },
   {
    "duration": 221,
    "start_time": "2023-01-23T15:23:50.020Z"
   },
   {
    "duration": 32,
    "start_time": "2023-01-23T15:23:53.131Z"
   },
   {
    "duration": 349,
    "start_time": "2023-01-23T15:23:58.131Z"
   },
   {
    "duration": 290,
    "start_time": "2023-01-23T15:24:09.426Z"
   },
   {
    "duration": 354,
    "start_time": "2023-01-23T15:24:19.931Z"
   },
   {
    "duration": 363,
    "start_time": "2023-01-23T15:24:58.453Z"
   },
   {
    "duration": 324,
    "start_time": "2023-01-23T15:25:10.570Z"
   },
   {
    "duration": 317,
    "start_time": "2023-01-23T15:26:03.875Z"
   },
   {
    "duration": 370,
    "start_time": "2023-01-23T15:26:27.451Z"
   },
   {
    "duration": 353,
    "start_time": "2023-01-23T15:27:14.796Z"
   },
   {
    "duration": 329,
    "start_time": "2023-01-23T15:27:32.580Z"
   },
   {
    "duration": 322,
    "start_time": "2023-01-23T15:27:51.748Z"
   },
   {
    "duration": 298,
    "start_time": "2023-01-23T15:28:01.771Z"
   },
   {
    "duration": 313,
    "start_time": "2023-01-23T15:28:25.812Z"
   },
   {
    "duration": 275,
    "start_time": "2023-01-23T15:28:47.404Z"
   },
   {
    "duration": 343,
    "start_time": "2023-01-23T15:29:41.049Z"
   },
   {
    "duration": 286,
    "start_time": "2023-01-23T15:29:51.100Z"
   }
  ],
  "kernelspec": {
   "display_name": "Python 3 (ipykernel)",
   "language": "python",
   "name": "python3"
  },
  "language_info": {
   "codemirror_mode": {
    "name": "ipython",
    "version": 3
   },
   "file_extension": ".py",
   "mimetype": "text/x-python",
   "name": "python",
   "nbconvert_exporter": "python",
   "pygments_lexer": "ipython3",
   "version": "3.9.5"
  },
  "toc": {
   "base_numbering": 1,
   "nav_menu": {},
   "number_sections": true,
   "sideBar": true,
   "skip_h1_title": true,
   "title_cell": "Содержание",
   "title_sidebar": "Contents",
   "toc_cell": true,
   "toc_position": {
    "height": "calc(100% - 180px)",
    "left": "10px",
    "top": "150px",
    "width": "255.391px"
   },
   "toc_section_display": true,
   "toc_window_display": true
  }
 },
 "nbformat": 4,
 "nbformat_minor": 2
}
