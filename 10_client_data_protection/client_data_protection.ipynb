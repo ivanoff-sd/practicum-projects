{
 "cells": [
  {
   "cell_type": "markdown",
   "metadata": {},
   "source": [
    "<b>Привет, Сергей!</b>\n",
    "\n",
    "Меня зовут Харочкина Екатерина, и я буду проверять твой проект. Давай общаться на «ты», но если это неудобно, пожалуйста, сообщи. Моя основная цель — не указать на совершенные тобою ошибки, а поделиться своим опытом и помочь тебе совершенствоваться как профессионалу.\n",
    "\n",
    "Ты подготовил замечательный проект, но есть аспекты, которые еще можно улучшить. Я буду использовать комментарии с цветовой разметкой. Пожалуйста, **не перемещай, не изменяй и не удаляй их**. Это поможет выполнить повторную проверку твоего проекта оперативнее.\n",
    "\n",
    "<div class=\"alert alert-danger\">\n",
    "<b>Комментарий ревьюера №1</b> ❌\n",
    "    \n",
    "Таким комментарием выделены самые важные замечания. Без их отработки проект не будет принят.\n",
    "</div>\n",
    "\n",
    "<div class=\"alert alert-warning\">\n",
    "<b>Комментарий ревьюера №1</b> ⚠️\n",
    "    \n",
    "Таким комментарием выделены небольшие замечания и рекомендации, которые будет хорошо учесть.\n",
    "</div>\n",
    "\n",
    "<div class=\"alert alert-success\">\n",
    "<b>Комментарий ревьюера №1</b> ✅\n",
    "    \n",
    "Таким комментарием выделены удачные решения🙂\n",
    "</div>\n",
    "\n",
    "Свои комментарии ты можешь помечать синим цветом.\n",
    "\n",
    "<div class=\"alert alert-info\">\n",
    "<b>Комментарий студента №1</b>\n",
    "    \n",
    "Так ты можешь оформить свой комментарий\n",
    "</div>\n",
    "\n",
    "Давай работать над проектом в диалоге: если ты **что-то меняешь** в проекте по моим рекомендациям — **пиши об этом**. После того, как ты все доработаешь, я смогу принять твой проект!) \n",
    "\n",
    "\n",
    "\n",
    "<div class=\"alert alert-info\">\n",
    "<b>Комментарий студента №1</b>\n",
    "    \n",
    "Добрый день, Екатерина. Спасибо большое за подробный разбор и комментарии. Ниже я постарался исправить всё согласно замечаниям! \n",
    "</div>"
   ]
  },
  {
   "cell_type": "markdown",
   "metadata": {
    "toc": true
   },
   "source": [
    "<h1>Содержание<span class=\"tocSkip\"></span></h1>\n",
    "<div class=\"toc\"><ul class=\"toc-item\"><li><span><a href=\"#Цель-работы\" data-toc-modified-id=\"Цель-работы-1\"><span class=\"toc-item-num\">1&nbsp;&nbsp;</span>Цель работы</a></span><ul class=\"toc-item\"><li><span><a href=\"#Задачи-работы\" data-toc-modified-id=\"Задачи-работы-1.1\"><span class=\"toc-item-num\">1.1&nbsp;&nbsp;</span>Задачи работы</a></span></li></ul></li><li><span><a href=\"#Загрузка-данных\" data-toc-modified-id=\"Загрузка-данных-2\"><span class=\"toc-item-num\">2&nbsp;&nbsp;</span>Загрузка данных</a></span><ul class=\"toc-item\"><li><span><a href=\"#Импорт-библиотек\" data-toc-modified-id=\"Импорт-библиотек-2.1\"><span class=\"toc-item-num\">2.1&nbsp;&nbsp;</span>Импорт библиотек</a></span></li><li><span><a href=\"#Загрузка-и-осмотр-датасета\" data-toc-modified-id=\"Загрузка-и-осмотр-датасета-2.2\"><span class=\"toc-item-num\">2.2&nbsp;&nbsp;</span>Загрузка и осмотр датасета</a></span></li></ul></li><li><span><a href=\"#Умножение-матриц\" data-toc-modified-id=\"Умножение-матриц-3\"><span class=\"toc-item-num\">3&nbsp;&nbsp;</span>Умножение матриц</a></span></li><li><span><a href=\"#Алгоритм-преобразования\" data-toc-modified-id=\"Алгоритм-преобразования-4\"><span class=\"toc-item-num\">4&nbsp;&nbsp;</span>Алгоритм преобразования</a></span></li><li><span><a href=\"#Применение-алгоритма\" data-toc-modified-id=\"Применение-алгоритма-5\"><span class=\"toc-item-num\">5&nbsp;&nbsp;</span>Применение алгоритма</a></span><ul class=\"toc-item\"><li><span><a href=\"#Генерация-шифра-и-ключа\" data-toc-modified-id=\"Генерация-шифра-и-ключа-5.1\"><span class=\"toc-item-num\">5.1&nbsp;&nbsp;</span>Генерация шифра и ключа</a></span></li><li><span><a href=\"#Шифрование-данных\" data-toc-modified-id=\"Шифрование-данных-5.2\"><span class=\"toc-item-num\">5.2&nbsp;&nbsp;</span>Шифрование данных</a></span></li><li><span><a href=\"#Проверка-шифра-и-ключа\" data-toc-modified-id=\"Проверка-шифра-и-ключа-5.3\"><span class=\"toc-item-num\">5.3&nbsp;&nbsp;</span>Проверка шифра и ключа</a></span></li><li><span><a href=\"#Обучение-линейной-регрессии-на-исходных-и-зашифрованных-данных\" data-toc-modified-id=\"Обучение-линейной-регрессии-на-исходных-и-зашифрованных-данных-5.4\"><span class=\"toc-item-num\">5.4&nbsp;&nbsp;</span>Обучение линейной регрессии на исходных и зашифрованных данных</a></span></li><li><span><a href=\"#Расчёт-векторов-весов-и-векторов-предсказаний\" data-toc-modified-id=\"Расчёт-векторов-весов-и-векторов-предсказаний-5.5\"><span class=\"toc-item-num\">5.5&nbsp;&nbsp;</span>Расчёт векторов весов и векторов предсказаний</a></span></li></ul></li><li><span><a href=\"#Вывод\" data-toc-modified-id=\"Вывод-6\"><span class=\"toc-item-num\">6&nbsp;&nbsp;</span>Вывод</a></span></li><li><span><a href=\"#Чек-лист-проверки\" data-toc-modified-id=\"Чек-лист-проверки-7\"><span class=\"toc-item-num\">7&nbsp;&nbsp;</span>Чек-лист проверки</a></span></li></ul></div>"
   ]
  },
  {
   "cell_type": "markdown",
   "metadata": {},
   "source": [
    "# Защита персональных данных клиентов"
   ]
  },
  {
   "cell_type": "markdown",
   "metadata": {},
   "source": [
    "Вам нужно защитить данные клиентов страховой компании «Хоть потоп». Разработайте такой метод преобразования данных, чтобы по ним было сложно восстановить персональную информацию. Обоснуйте корректность его работы.\n",
    "\n",
    "Нужно защитить данные, чтобы при преобразовании качество моделей машинного обучения не ухудшилось. Подбирать наилучшую модель не требуется."
   ]
  },
  {
   "cell_type": "markdown",
   "metadata": {},
   "source": [
    "## Цель работы\n",
    "Разработать алгоритм шифрования данных с помощью матричного умножения, позволяющий использовать машинное обучение без потери качества.\n",
    "\n",
    "### Задачи работы\n",
    "- Изучить предоставленный заказчиком датасет;\n",
    "- Разработать и обосновать алгоритм шифрования данных;\n",
    "- Применить алгоритм для шифрования датасета;\n",
    "- Оценить качество машинного обучения на исходных и зашифрованных данных."
   ]
  },
  {
   "cell_type": "markdown",
   "metadata": {},
   "source": [
    "<div class=\"alert alert-success\">\n",
    "<b>Комментарий ревьюера №1</b> ✅\n",
    "    \n",
    "Хорошее начало! С содержанием ориентироваться в проекте намного проще👍 Можно также добавить описание имеющихся данных.\n",
    "</div>"
   ]
  },
  {
   "cell_type": "markdown",
   "metadata": {},
   "source": [
    "## Загрузка данных\n",
    "### Импорт библиотек"
   ]
  },
  {
   "cell_type": "code",
   "execution_count": 1,
   "metadata": {},
   "outputs": [],
   "source": [
    "import pandas as pd\n",
    "import numpy as np\n",
    "import matplotlib.pyplot as plt\n",
    "from sklearn.linear_model import LinearRegression\n",
    "from sklearn.model_selection import train_test_split\n",
    "from sklearn.preprocessing import StandardScaler"
   ]
  },
  {
   "cell_type": "markdown",
   "metadata": {},
   "source": [
    "### Загрузка и осмотр датасета"
   ]
  },
  {
   "cell_type": "code",
   "execution_count": 2,
   "metadata": {},
   "outputs": [
    {
     "name": "stdout",
     "output_type": "stream",
     "text": [
      "Информация о датафрейме\n",
      "<class 'pandas.core.frame.DataFrame'>\n",
      "RangeIndex: 5000 entries, 0 to 4999\n",
      "Data columns (total 5 columns):\n",
      " #   Column             Non-Null Count  Dtype  \n",
      "---  ------             --------------  -----  \n",
      " 0   Пол                5000 non-null   int64  \n",
      " 1   Возраст            5000 non-null   float64\n",
      " 2   Зарплата           5000 non-null   float64\n",
      " 3   Члены семьи        5000 non-null   int64  \n",
      " 4   Страховые выплаты  5000 non-null   int64  \n",
      "dtypes: float64(2), int64(3)\n",
      "memory usage: 195.4 KB\n",
      "\n",
      "Первые строки датасета\n"
     ]
    },
    {
     "data": {
      "text/html": [
       "<div>\n",
       "<style scoped>\n",
       "    .dataframe tbody tr th:only-of-type {\n",
       "        vertical-align: middle;\n",
       "    }\n",
       "\n",
       "    .dataframe tbody tr th {\n",
       "        vertical-align: top;\n",
       "    }\n",
       "\n",
       "    .dataframe thead th {\n",
       "        text-align: right;\n",
       "    }\n",
       "</style>\n",
       "<table border=\"1\" class=\"dataframe\">\n",
       "  <thead>\n",
       "    <tr style=\"text-align: right;\">\n",
       "      <th></th>\n",
       "      <th>Пол</th>\n",
       "      <th>Возраст</th>\n",
       "      <th>Зарплата</th>\n",
       "      <th>Члены семьи</th>\n",
       "      <th>Страховые выплаты</th>\n",
       "    </tr>\n",
       "  </thead>\n",
       "  <tbody>\n",
       "    <tr>\n",
       "      <th>0</th>\n",
       "      <td>1</td>\n",
       "      <td>41.0</td>\n",
       "      <td>49600.0</td>\n",
       "      <td>1</td>\n",
       "      <td>0</td>\n",
       "    </tr>\n",
       "    <tr>\n",
       "      <th>1</th>\n",
       "      <td>0</td>\n",
       "      <td>46.0</td>\n",
       "      <td>38000.0</td>\n",
       "      <td>1</td>\n",
       "      <td>1</td>\n",
       "    </tr>\n",
       "    <tr>\n",
       "      <th>2</th>\n",
       "      <td>0</td>\n",
       "      <td>29.0</td>\n",
       "      <td>21000.0</td>\n",
       "      <td>0</td>\n",
       "      <td>0</td>\n",
       "    </tr>\n",
       "    <tr>\n",
       "      <th>3</th>\n",
       "      <td>0</td>\n",
       "      <td>21.0</td>\n",
       "      <td>41700.0</td>\n",
       "      <td>2</td>\n",
       "      <td>0</td>\n",
       "    </tr>\n",
       "    <tr>\n",
       "      <th>4</th>\n",
       "      <td>1</td>\n",
       "      <td>28.0</td>\n",
       "      <td>26100.0</td>\n",
       "      <td>0</td>\n",
       "      <td>0</td>\n",
       "    </tr>\n",
       "  </tbody>\n",
       "</table>\n",
       "</div>"
      ],
      "text/plain": [
       "   Пол  Возраст  Зарплата  Члены семьи  Страховые выплаты\n",
       "0    1     41.0   49600.0            1                  0\n",
       "1    0     46.0   38000.0            1                  1\n",
       "2    0     29.0   21000.0            0                  0\n",
       "3    0     21.0   41700.0            2                  0\n",
       "4    1     28.0   26100.0            0                  0"
      ]
     },
     "metadata": {},
     "output_type": "display_data"
    },
    {
     "name": "stdout",
     "output_type": "stream",
     "text": [
      "\n",
      "Статистики\n"
     ]
    },
    {
     "data": {
      "text/html": [
       "<div>\n",
       "<style scoped>\n",
       "    .dataframe tbody tr th:only-of-type {\n",
       "        vertical-align: middle;\n",
       "    }\n",
       "\n",
       "    .dataframe tbody tr th {\n",
       "        vertical-align: top;\n",
       "    }\n",
       "\n",
       "    .dataframe thead th {\n",
       "        text-align: right;\n",
       "    }\n",
       "</style>\n",
       "<table border=\"1\" class=\"dataframe\">\n",
       "  <thead>\n",
       "    <tr style=\"text-align: right;\">\n",
       "      <th></th>\n",
       "      <th>Пол</th>\n",
       "      <th>Возраст</th>\n",
       "      <th>Зарплата</th>\n",
       "      <th>Члены семьи</th>\n",
       "      <th>Страховые выплаты</th>\n",
       "    </tr>\n",
       "  </thead>\n",
       "  <tbody>\n",
       "    <tr>\n",
       "      <th>count</th>\n",
       "      <td>5000.000000</td>\n",
       "      <td>5000.000000</td>\n",
       "      <td>5000.000000</td>\n",
       "      <td>5000.000000</td>\n",
       "      <td>5000.000000</td>\n",
       "    </tr>\n",
       "    <tr>\n",
       "      <th>mean</th>\n",
       "      <td>0.499000</td>\n",
       "      <td>30.952800</td>\n",
       "      <td>39916.360000</td>\n",
       "      <td>1.194200</td>\n",
       "      <td>0.148000</td>\n",
       "    </tr>\n",
       "    <tr>\n",
       "      <th>std</th>\n",
       "      <td>0.500049</td>\n",
       "      <td>8.440807</td>\n",
       "      <td>9900.083569</td>\n",
       "      <td>1.091387</td>\n",
       "      <td>0.463183</td>\n",
       "    </tr>\n",
       "    <tr>\n",
       "      <th>min</th>\n",
       "      <td>0.000000</td>\n",
       "      <td>18.000000</td>\n",
       "      <td>5300.000000</td>\n",
       "      <td>0.000000</td>\n",
       "      <td>0.000000</td>\n",
       "    </tr>\n",
       "    <tr>\n",
       "      <th>25%</th>\n",
       "      <td>0.000000</td>\n",
       "      <td>24.000000</td>\n",
       "      <td>33300.000000</td>\n",
       "      <td>0.000000</td>\n",
       "      <td>0.000000</td>\n",
       "    </tr>\n",
       "    <tr>\n",
       "      <th>50%</th>\n",
       "      <td>0.000000</td>\n",
       "      <td>30.000000</td>\n",
       "      <td>40200.000000</td>\n",
       "      <td>1.000000</td>\n",
       "      <td>0.000000</td>\n",
       "    </tr>\n",
       "    <tr>\n",
       "      <th>75%</th>\n",
       "      <td>1.000000</td>\n",
       "      <td>37.000000</td>\n",
       "      <td>46600.000000</td>\n",
       "      <td>2.000000</td>\n",
       "      <td>0.000000</td>\n",
       "    </tr>\n",
       "    <tr>\n",
       "      <th>max</th>\n",
       "      <td>1.000000</td>\n",
       "      <td>65.000000</td>\n",
       "      <td>79000.000000</td>\n",
       "      <td>6.000000</td>\n",
       "      <td>5.000000</td>\n",
       "    </tr>\n",
       "  </tbody>\n",
       "</table>\n",
       "</div>"
      ],
      "text/plain": [
       "               Пол      Возраст      Зарплата  Члены семьи  Страховые выплаты\n",
       "count  5000.000000  5000.000000   5000.000000  5000.000000        5000.000000\n",
       "mean      0.499000    30.952800  39916.360000     1.194200           0.148000\n",
       "std       0.500049     8.440807   9900.083569     1.091387           0.463183\n",
       "min       0.000000    18.000000   5300.000000     0.000000           0.000000\n",
       "25%       0.000000    24.000000  33300.000000     0.000000           0.000000\n",
       "50%       0.000000    30.000000  40200.000000     1.000000           0.000000\n",
       "75%       1.000000    37.000000  46600.000000     2.000000           0.000000\n",
       "max       1.000000    65.000000  79000.000000     6.000000           5.000000"
      ]
     },
     "metadata": {},
     "output_type": "display_data"
    },
    {
     "name": "stdout",
     "output_type": "stream",
     "text": [
      "\n",
      "Гистограммы распределения значений признаков\n"
     ]
    },
    {
     "data": {
      "image/png": "[encoded data removed]",
      "text/plain": [
       "<Figure size 1080x1080 with 6 Axes>"
      ]
     },
     "metadata": {
      "needs_background": "light"
     },
     "output_type": "display_data"
    },
    {
     "name": "stdout",
     "output_type": "stream",
     "text": [
      "\n",
      "\n",
      "Количество пропусков в данных\n"
     ]
    },
    {
     "data": {
      "text/plain": [
       "Пол                  0\n",
       "Возраст              0\n",
       "Зарплата             0\n",
       "Члены семьи          0\n",
       "Страховые выплаты    0\n",
       "dtype: int64"
      ]
     },
     "metadata": {},
     "output_type": "display_data"
    },
    {
     "name": "stdout",
     "output_type": "stream",
     "text": [
      "Количество дубликатов в данных\n"
     ]
    },
    {
     "data": {
      "text/plain": [
       "153"
      ]
     },
     "execution_count": 2,
     "metadata": {},
     "output_type": "execute_result"
    }
   ],
   "source": [
    "data = pd.read_csv('/datasets/insurance.csv')\n",
    "print('Информация о датафрейме')\n",
    "data.info()\n",
    "print()\n",
    "print('Первые строки датасета')\n",
    "display(data.head())\n",
    "print()\n",
    "print('Статистики')\n",
    "display(data.describe())\n",
    "print()\n",
    "print('Гистограммы распределения значений признаков')\n",
    "data.hist(figsize=[15,15], bins=30)\n",
    "plt.show()\n",
    "print()\n",
    "\n",
    "print()\n",
    "print('Количество пропусков в данных')\n",
    "display(data.isna().sum())\n",
    "print('Количество дубликатов в данных')\n",
    "data.duplicated().sum()"
   ]
  },
  {
   "cell_type": "markdown",
   "metadata": {},
   "source": [
    "<div class=\"alert alert-warning\">\n",
    "<b>Комментарий ревьюера №1</b> ⚠️\n",
    "    \n",
    "Часть признаков содержат количественные значения, а часть качественные + есть ненормальное распределение, поэтому матрица корреляции Пирсона здесь не подойдет.\n",
    "</div>"
   ]
  },
  {
   "cell_type": "markdown",
   "metadata": {},
   "source": [
    "<div class=\"alert alert-info\">\n",
    "<b>Комментарий студента №1</b> ⚠️\n",
    " \n",
    "Спасибо! убрал.\n",
    "</div>\n",
    "\n",
    "Дубликатов в данных 153. Учитывая, что клиенты в наборе данных не имеют идентификационного номера, можно предположить, что это совпадения. Удалять эти данные мы не будем, в том числе с целью сохранить выборку для машинного обучения.\n",
    "\n",
    "## Умножение матриц"
   ]
  },
  {
   "cell_type": "markdown",
   "metadata": {},
   "source": [
    "Ответьте на вопрос и обоснуйте решение.\n",
    "\n",
    "Признаки умножают на обратимую матрицу. Изменится ли качество линейной регрессии? (Её можно обучить заново.)\n",
    "- a. Изменится. Приведите примеры матриц.\n",
    "- b. Не изменится. Укажите, как связаны параметры линейной регрессии в исходной задаче и в преобразованной.\n",
    "\n",
    "**Ответ:** Качество машинного обучения не изменится\n",
    "\n",
    "**Обоснование:** \n",
    "\n",
    "Предсказания:\n",
    "\n",
    "$$\n",
    "a = Xw\n",
    "$$\n",
    "\n",
    "Формула обучения для зашифрованной матрицы:\n",
    "\n",
    "$$\n",
    "w = ((XP)^T XP)^{-1} (XP)^T y\n",
    "$$\n",
    "\n",
    "Запишем формулу предсказаний для зашифрованной матрицы.\n",
    "\n",
    "Валидационные признаки обозначим Xval\n",
    "\n",
    "$$\n",
    "a = Xval P ((XP)^T XP)^{-1} (XP)^T y\n",
    "$$\n",
    "\n",
    "Раскроем скобки в выражениях XP^T:\n",
    "\n",
    "$$\n",
    "a = Xval P (P^T X^T XP)^{-1} P^T X^T y\n",
    "$$\n",
    "\n",
    "Далее в выражении обратной матрицы вынесем за скобки элементы, являющиеся квадратными матрицами - последний элемент P:\n",
    "\n",
    "$$\n",
    "a = Xval P P^{-1}(P^T X^T X)^{-1} P^T X^T y\n",
    "$$\n",
    "\n",
    "Теперь вынесем за скобки первый элемент P^T\n",
    "\n",
    "$$\n",
    "a = Xval P P^{-1}(X^T X)^{-1} (P^T)^{-1} P^T X^T y\n",
    "$$\n",
    "\n",
    "Произведения взаимно обратных матриц представим как E\n",
    "\n",
    "$$\n",
    "a = Xval E (X^T X)^{-1} E X^T y\n",
    "$$\n",
    "\n",
    "Учитывая, что единичная матрица не влияет на результат произведения, удалим Е:\n",
    "\n",
    "$$\n",
    "a = Xval (X^T X)^{-1} X^T y\n",
    "$$\n",
    "\n",
    "Таким образом, при расчёте вектора предсказаний матрица-шифр P умножается на обратную матрицу и ввиду этого не влияет на результат: вектор предсказаний не будет зависеть от P. \n",
    "\n",
    "В пункте 5.5 будет продемонстрировано сравнение вектора предсказаний для исходной и зашифрованной выборок. "
   ]
  },
  {
   "cell_type": "markdown",
   "metadata": {},
   "source": [
    "<div class=\"alert alert-danger\">\n",
    "<b>Комментарий ревьюера №1</b> ❌\n",
    "    \n",
    "Обратимая матрица = квадратная матрица => первый случай не подходит. Во втором случае качество линейной регрессии не изменится. Предлагаю тебе это доказать математическими формулами. Нужно взять вместо матрицы $X$ новую матрицу $XP$ (это матрица $X$, умноженная на обратимую квадратную матрицу $P$) и подставить ее в формулу обучения. После необходимых преобразований нужно сравнить выражения для предсказания $a$ для исходных и зашифрованных данных\n",
    "</div>"
   ]
  },
  {
   "cell_type": "markdown",
   "metadata": {},
   "source": [
    "<div class=\"alert alert-info\">\n",
    "<b>Комментарий студента №1</b>\n",
    "    \n",
    "Спасибо! Исправлено, см выше.\n",
    "</div>\n",
    "\n"
   ]
  },
  {
   "cell_type": "markdown",
   "metadata": {},
   "source": [
    "<div class=\"alert alert-danger\">\n",
    "<b>Комментарий ревьюера №2</b> ❌\n",
    "    \n",
    "Нужно правильно раскрыть скобки. Обрати внимание, в случае матриц порядок множителей является принципиальным. Оставлю ниже необходимые для доказательства свойства:\n",
    "$$\n",
    "(AB)^T=B^T A^T\n",
    "$$\n",
    "$$\n",
    "(AB)^{-1} = B^{-1} A^{-1}\n",
    "$$\n",
    "$$\n",
    "A A^{-1} = A^{-1} A = E\n",
    "$$\n",
    "$$\n",
    "AE = EA = A\n",
    "$$\n",
    "    \n",
    "Также оставлю теорию по обратным матрицам: https://www.berdov.com/works/matrix/obratnaya-matrica/.\n",
    "</div>\n",
    "\n",
    "\n",
    "\n",
    "<div class=\"alert alert-info\">\n",
    "<b>Комментарий студента 2</b>\n",
    "    \n",
    "Благодарю, ознакомился. Выше исправлено!\n",
    "</div>\n",
    "\n"
   ]
  },
  {
   "cell_type": "markdown",
   "metadata": {},
   "source": [
    "<div class=\"alert alert-danger\">\n",
    "<b>Комментарий ревьюера №3</b> ❌\n",
    "    \n",
    "Для неквадратных матриц  $X$, $X^{T}$, $XP$, $(XP)^{T}$  обратных матриц не существует, поэтому так раскрывать $((XP)^T (XP))^{-1}$ нельзя\n",
    "</div>\n",
    "\n",
    "<div class=\"alert alert-info\">\n",
    "<b>Комментарий студента №3</b> ❌\n",
    "    \n",
    "Прошу прощения =) понял. Исправил.\n",
    "</div>\n"
   ]
  },
  {
   "cell_type": "markdown",
   "metadata": {},
   "source": [
    "<div class=\"alert alert-success\">\n",
    "<b>Комментарий ревьюера №4</b> ✅\n",
    "    \n",
    "Здорово! Теперь верно)\n",
    "</div>"
   ]
  },
  {
   "cell_type": "markdown",
   "metadata": {},
   "source": [
    "## Алгоритм преобразования"
   ]
  },
  {
   "cell_type": "markdown",
   "metadata": {},
   "source": [
    "**Алгоритм**\n",
    "\n",
    "Ниже предложен алгоритм генерации шифра и ключа и сравнения эффективности машинного обучения.\n",
    "- Создание шифра и ключа:\n",
    "    - Генерация квадратной матрицы-шифра, размер совпадает с шириной исходного датасета;\n",
    "    - Проверка шифра на обратимость. В случае необратимости повторная генерация;\n",
    "    - В случае обратимости генерация обратной матрицы - ключа к шифру.\n",
    "- Шифрование данных:\n",
    "    - Умножение данных на шифр;\n",
    "    - Пробное применение ключа, убеждаемся что данные восстановлены.\n",
    "- Машинное обучение:\n",
    "    - Разделение исходного и зашифрованного датасетов на обучающие и валидационные выборки;\n",
    "    - Обучение scaler на обучающих выборках и масштабирование датасетов;\n",
    "    - Расчёт r2-score на валидационных выборках, сравнение результатов.\n"
   ]
  },
  {
   "cell_type": "markdown",
   "metadata": {},
   "source": [
    "<div class=\"alert alert-danger\">\n",
    "<b>Комментарий ревьюера №1</b> ❌\n",
    "    \n",
    "Здесь нужно описать свои дальнейшие шаги по пунктам. Алгоритм должен содержать создание обратимой квадратной матрицы, проверку ее обратимости, шифрование данных, а также обучение моделей на исходных и закодированных данных, сравнение для них метрик R2 \n",
    "</div>\n",
    "\n",
    "<div class=\"alert alert-info\">\n",
    "<b>Комментарий студента №1</b> ❌\n",
    "    \n",
    "Алгоритм исправлен (см выше) и функция генерации шифра исправлена (см ниже)\n",
    "    Спасибо!\n",
    "</div>"
   ]
  },
  {
   "cell_type": "markdown",
   "metadata": {},
   "source": [
    "<div class=\"alert alert-success\">\n",
    "<b>Комментарий ревьюера №2</b> ✅\n",
    "    \n",
    "Ок\n",
    "</div>"
   ]
  },
  {
   "cell_type": "markdown",
   "metadata": {},
   "source": [
    "**Обоснование**\n",
    "\n",
    "Предложенный алгоритм позволяет сгенерировать матрицу-шифр необходимого размера, проверить ее на обратимость, сгенерировать ключ и применить модель машинного обучения к исходным и закодированным данным для сравнения эффективности.\n"
   ]
  },
  {
   "cell_type": "markdown",
   "metadata": {},
   "source": [
    "## Применение алгоритма\n",
    "\n",
    "### Генерация шифра и ключа\n",
    "\n",
    "Объявим функцию для генерации шифра и ключа:"
   ]
  },
  {
   "cell_type": "code",
   "execution_count": 3,
   "metadata": {},
   "outputs": [],
   "source": [
    "def key_generator(matrix): # подаём на вход матрицу для определения необходимой ширины\n",
    "    while True: # бесконечный цикл, в котором генерация матрицы-шифра будет повторяться, пока не получится обратимая матрица.\n",
    "        cipher = np.random.randint(1, 100, size=[matrix.shape[1], matrix.shape[1]]) # получаем матрицу из случайных чисел\n",
    "        try: # проверка на обратимость\n",
    "            key = np.linalg.inv(cipher)\n",
    "            break #  в случае обратимости выходим из цикла\n",
    "        except:\n",
    "            pass # в противном случае повторяем цикл\n",
    "    return cipher, key # возвращаем шифр и ключ"
   ]
  },
  {
   "cell_type": "markdown",
   "metadata": {},
   "source": [
    "### Шифрование данных\n",
    "Выделим features из исходного датасета и применим к ним алгоритм."
   ]
  },
  {
   "cell_type": "code",
   "execution_count": 4,
   "metadata": {
    "scrolled": false
   },
   "outputs": [
    {
     "name": "stdout",
     "output_type": "stream",
     "text": [
      "features до преобразования\n"
     ]
    },
    {
     "data": {
      "text/html": [
       "<div>\n",
       "<style scoped>\n",
       "    .dataframe tbody tr th:only-of-type {\n",
       "        vertical-align: middle;\n",
       "    }\n",
       "\n",
       "    .dataframe tbody tr th {\n",
       "        vertical-align: top;\n",
       "    }\n",
       "\n",
       "    .dataframe thead th {\n",
       "        text-align: right;\n",
       "    }\n",
       "</style>\n",
       "<table border=\"1\" class=\"dataframe\">\n",
       "  <thead>\n",
       "    <tr style=\"text-align: right;\">\n",
       "      <th></th>\n",
       "      <th>Пол</th>\n",
       "      <th>Возраст</th>\n",
       "      <th>Зарплата</th>\n",
       "      <th>Члены семьи</th>\n",
       "    </tr>\n",
       "  </thead>\n",
       "  <tbody>\n",
       "    <tr>\n",
       "      <th>0</th>\n",
       "      <td>1</td>\n",
       "      <td>41.0</td>\n",
       "      <td>49600.0</td>\n",
       "      <td>1</td>\n",
       "    </tr>\n",
       "    <tr>\n",
       "      <th>1</th>\n",
       "      <td>0</td>\n",
       "      <td>46.0</td>\n",
       "      <td>38000.0</td>\n",
       "      <td>1</td>\n",
       "    </tr>\n",
       "    <tr>\n",
       "      <th>2</th>\n",
       "      <td>0</td>\n",
       "      <td>29.0</td>\n",
       "      <td>21000.0</td>\n",
       "      <td>0</td>\n",
       "    </tr>\n",
       "    <tr>\n",
       "      <th>3</th>\n",
       "      <td>0</td>\n",
       "      <td>21.0</td>\n",
       "      <td>41700.0</td>\n",
       "      <td>2</td>\n",
       "    </tr>\n",
       "    <tr>\n",
       "      <th>4</th>\n",
       "      <td>1</td>\n",
       "      <td>28.0</td>\n",
       "      <td>26100.0</td>\n",
       "      <td>0</td>\n",
       "    </tr>\n",
       "  </tbody>\n",
       "</table>\n",
       "</div>"
      ],
      "text/plain": [
       "   Пол  Возраст  Зарплата  Члены семьи\n",
       "0    1     41.0   49600.0            1\n",
       "1    0     46.0   38000.0            1\n",
       "2    0     29.0   21000.0            0\n",
       "3    0     21.0   41700.0            2\n",
       "4    1     28.0   26100.0            0"
      ]
     },
     "metadata": {},
     "output_type": "display_data"
    },
    {
     "name": "stdout",
     "output_type": "stream",
     "text": [
      "размер таблицы\n"
     ]
    },
    {
     "data": {
      "text/plain": [
       "(5000, 4)"
      ]
     },
     "execution_count": 4,
     "metadata": {},
     "output_type": "execute_result"
    }
   ],
   "source": [
    "features = data.drop('Страховые выплаты', axis = 1)\n",
    "target = data['Страховые выплаты']\n",
    "print('features до преобразования')\n",
    "display(features.head())\n",
    "print('размер таблицы')\n",
    "features.values.shape"
   ]
  },
  {
   "cell_type": "code",
   "execution_count": 5,
   "metadata": {
    "scrolled": true
   },
   "outputs": [],
   "source": [
    "cipher, key = key_generator(features.values)\n",
    "# генерируем шифр и ключ"
   ]
  },
  {
   "cell_type": "code",
   "execution_count": 6,
   "metadata": {
    "scrolled": true
   },
   "outputs": [
    {
     "name": "stdout",
     "output_type": "stream",
     "text": [
      "Шифр\n",
      "[[42 33 64 93]\n",
      " [ 9 90 54  4]\n",
      " [44 78 62 80]\n",
      " [ 1 92 12 42]]\n",
      "\n",
      "Ключ\n",
      "[[-0.05555898 -0.02031977  0.08056485 -0.02849818]\n",
      " [-0.01253124  0.0001218   0.01181795  0.00522575]\n",
      " [ 0.02861966  0.02215497 -0.03173609 -0.0050324 ]\n",
      " [ 0.02059516 -0.00611298 -0.01873771  0.01447901]]\n"
     ]
    }
   ],
   "source": [
    "print('Шифр')\n",
    "print(cipher)\n",
    "print()\n",
    "print('Ключ')\n",
    "print(key)"
   ]
  },
  {
   "cell_type": "markdown",
   "metadata": {},
   "source": [
    "### Проверка шифра и ключа"
   ]
  },
  {
   "cell_type": "code",
   "execution_count": 7,
   "metadata": {
    "scrolled": false
   },
   "outputs": [
    {
     "name": "stdout",
     "output_type": "stream",
     "text": [
      "Исходные данные:\n"
     ]
    },
    {
     "data": {
      "text/html": [
       "<div>\n",
       "<style scoped>\n",
       "    .dataframe tbody tr th:only-of-type {\n",
       "        vertical-align: middle;\n",
       "    }\n",
       "\n",
       "    .dataframe tbody tr th {\n",
       "        vertical-align: top;\n",
       "    }\n",
       "\n",
       "    .dataframe thead th {\n",
       "        text-align: right;\n",
       "    }\n",
       "</style>\n",
       "<table border=\"1\" class=\"dataframe\">\n",
       "  <thead>\n",
       "    <tr style=\"text-align: right;\">\n",
       "      <th></th>\n",
       "      <th>Пол</th>\n",
       "      <th>Возраст</th>\n",
       "      <th>Зарплата</th>\n",
       "      <th>Члены семьи</th>\n",
       "    </tr>\n",
       "  </thead>\n",
       "  <tbody>\n",
       "    <tr>\n",
       "      <th>0</th>\n",
       "      <td>1</td>\n",
       "      <td>41.0</td>\n",
       "      <td>49600.0</td>\n",
       "      <td>1</td>\n",
       "    </tr>\n",
       "    <tr>\n",
       "      <th>1</th>\n",
       "      <td>0</td>\n",
       "      <td>46.0</td>\n",
       "      <td>38000.0</td>\n",
       "      <td>1</td>\n",
       "    </tr>\n",
       "    <tr>\n",
       "      <th>2</th>\n",
       "      <td>0</td>\n",
       "      <td>29.0</td>\n",
       "      <td>21000.0</td>\n",
       "      <td>0</td>\n",
       "    </tr>\n",
       "    <tr>\n",
       "      <th>3</th>\n",
       "      <td>0</td>\n",
       "      <td>21.0</td>\n",
       "      <td>41700.0</td>\n",
       "      <td>2</td>\n",
       "    </tr>\n",
       "    <tr>\n",
       "      <th>4</th>\n",
       "      <td>1</td>\n",
       "      <td>28.0</td>\n",
       "      <td>26100.0</td>\n",
       "      <td>0</td>\n",
       "    </tr>\n",
       "  </tbody>\n",
       "</table>\n",
       "</div>"
      ],
      "text/plain": [
       "   Пол  Возраст  Зарплата  Члены семьи\n",
       "0    1     41.0   49600.0            1\n",
       "1    0     46.0   38000.0            1\n",
       "2    0     29.0   21000.0            0\n",
       "3    0     21.0   41700.0            2\n",
       "4    1     28.0   26100.0            0"
      ]
     },
     "metadata": {},
     "output_type": "display_data"
    },
    {
     "name": "stdout",
     "output_type": "stream",
     "text": [
      "\n",
      "\n",
      "\n",
      "Зашифрованные данные:\n"
     ]
    },
    {
     "data": {
      "text/html": [
       "<div>\n",
       "<style scoped>\n",
       "    .dataframe tbody tr th:only-of-type {\n",
       "        vertical-align: middle;\n",
       "    }\n",
       "\n",
       "    .dataframe tbody tr th {\n",
       "        vertical-align: top;\n",
       "    }\n",
       "\n",
       "    .dataframe thead th {\n",
       "        text-align: right;\n",
       "    }\n",
       "</style>\n",
       "<table border=\"1\" class=\"dataframe\">\n",
       "  <thead>\n",
       "    <tr style=\"text-align: right;\">\n",
       "      <th></th>\n",
       "      <th>0</th>\n",
       "      <th>1</th>\n",
       "      <th>2</th>\n",
       "      <th>3</th>\n",
       "    </tr>\n",
       "  </thead>\n",
       "  <tbody>\n",
       "    <tr>\n",
       "      <th>0</th>\n",
       "      <td>2182812.0</td>\n",
       "      <td>3872615.0</td>\n",
       "      <td>3077490.0</td>\n",
       "      <td>3968299.0</td>\n",
       "    </tr>\n",
       "    <tr>\n",
       "      <th>1</th>\n",
       "      <td>1672415.0</td>\n",
       "      <td>2968232.0</td>\n",
       "      <td>2358496.0</td>\n",
       "      <td>3040226.0</td>\n",
       "    </tr>\n",
       "    <tr>\n",
       "      <th>2</th>\n",
       "      <td>924261.0</td>\n",
       "      <td>1640610.0</td>\n",
       "      <td>1303566.0</td>\n",
       "      <td>1680116.0</td>\n",
       "    </tr>\n",
       "    <tr>\n",
       "      <th>3</th>\n",
       "      <td>1834991.0</td>\n",
       "      <td>3254674.0</td>\n",
       "      <td>2586558.0</td>\n",
       "      <td>3336168.0</td>\n",
       "    </tr>\n",
       "    <tr>\n",
       "      <th>4</th>\n",
       "      <td>1148694.0</td>\n",
       "      <td>2038353.0</td>\n",
       "      <td>1619776.0</td>\n",
       "      <td>2088205.0</td>\n",
       "    </tr>\n",
       "  </tbody>\n",
       "</table>\n",
       "</div>"
      ],
      "text/plain": [
       "           0          1          2          3\n",
       "0  2182812.0  3872615.0  3077490.0  3968299.0\n",
       "1  1672415.0  2968232.0  2358496.0  3040226.0\n",
       "2   924261.0  1640610.0  1303566.0  1680116.0\n",
       "3  1834991.0  3254674.0  2586558.0  3336168.0\n",
       "4  1148694.0  2038353.0  1619776.0  2088205.0"
      ]
     },
     "metadata": {},
     "output_type": "display_data"
    },
    {
     "name": "stdout",
     "output_type": "stream",
     "text": [
      "\n",
      "\n",
      "\n",
      "Зашифрованные данные после применения ключа:\n"
     ]
    },
    {
     "data": {
      "text/html": [
       "<div>\n",
       "<style scoped>\n",
       "    .dataframe tbody tr th:only-of-type {\n",
       "        vertical-align: middle;\n",
       "    }\n",
       "\n",
       "    .dataframe tbody tr th {\n",
       "        vertical-align: top;\n",
       "    }\n",
       "\n",
       "    .dataframe thead th {\n",
       "        text-align: right;\n",
       "    }\n",
       "</style>\n",
       "<table border=\"1\" class=\"dataframe\">\n",
       "  <thead>\n",
       "    <tr style=\"text-align: right;\">\n",
       "      <th></th>\n",
       "      <th>0</th>\n",
       "      <th>1</th>\n",
       "      <th>2</th>\n",
       "      <th>3</th>\n",
       "    </tr>\n",
       "  </thead>\n",
       "  <tbody>\n",
       "    <tr>\n",
       "      <th>0</th>\n",
       "      <td>1.000000e+00</td>\n",
       "      <td>41.0</td>\n",
       "      <td>49600.0</td>\n",
       "      <td>1.000000e+00</td>\n",
       "    </tr>\n",
       "    <tr>\n",
       "      <th>1</th>\n",
       "      <td>3.218384e-12</td>\n",
       "      <td>46.0</td>\n",
       "      <td>38000.0</td>\n",
       "      <td>1.000000e+00</td>\n",
       "    </tr>\n",
       "    <tr>\n",
       "      <th>2</th>\n",
       "      <td>-2.230188e-12</td>\n",
       "      <td>29.0</td>\n",
       "      <td>21000.0</td>\n",
       "      <td>4.819832e-12</td>\n",
       "    </tr>\n",
       "    <tr>\n",
       "      <th>3</th>\n",
       "      <td>-1.058170e-11</td>\n",
       "      <td>21.0</td>\n",
       "      <td>41700.0</td>\n",
       "      <td>2.000000e+00</td>\n",
       "    </tr>\n",
       "    <tr>\n",
       "      <th>4</th>\n",
       "      <td>1.000000e+00</td>\n",
       "      <td>28.0</td>\n",
       "      <td>26100.0</td>\n",
       "      <td>7.665873e-12</td>\n",
       "    </tr>\n",
       "  </tbody>\n",
       "</table>\n",
       "</div>"
      ],
      "text/plain": [
       "              0     1        2             3\n",
       "0  1.000000e+00  41.0  49600.0  1.000000e+00\n",
       "1  3.218384e-12  46.0  38000.0  1.000000e+00\n",
       "2 -2.230188e-12  29.0  21000.0  4.819832e-12\n",
       "3 -1.058170e-11  21.0  41700.0  2.000000e+00\n",
       "4  1.000000e+00  28.0  26100.0  7.665873e-12"
      ]
     },
     "metadata": {},
     "output_type": "display_data"
    }
   ],
   "source": [
    "print('Исходные данные:')\n",
    "display(features.head())\n",
    "\n",
    "print('\\n\\n\\nЗашифрованные данные:')\n",
    "features_mod = features @ cipher\n",
    "display(features_mod.head())\n",
    "\n",
    "print('\\n\\n\\nЗашифрованные данные после применения ключа:')\n",
    "display((features_mod@key).head())"
   ]
  },
  {
   "cell_type": "markdown",
   "metadata": {},
   "source": [
    "После дешифровки данные не изменились.\n",
    "\n",
    "<div class=\"alert alert-success\">\n",
    "<b>Комментарий ревьюера №1</b> ✅\n",
    "    \n",
    "Здорово, что попробовал дешифровать данные\n",
    "</div>"
   ]
  },
  {
   "cell_type": "markdown",
   "metadata": {},
   "source": [
    "Построим гистограммы значений признаков в исходном датасете и зашифрованном:"
   ]
  },
  {
   "cell_type": "code",
   "execution_count": 8,
   "metadata": {
    "scrolled": true
   },
   "outputs": [
    {
     "name": "stdout",
     "output_type": "stream",
     "text": [
      "Исходные данные\n"
     ]
    },
    {
     "data": {
      "image/png": "[encoded data removed]",
      "text/plain": [
       "<Figure size 1008x504 with 4 Axes>"
      ]
     },
     "metadata": {
      "needs_background": "light"
     },
     "output_type": "display_data"
    }
   ],
   "source": [
    "print('Исходные данные')\n",
    "features.hist(figsize=[14,7], bins=30);"
   ]
  },
  {
   "cell_type": "code",
   "execution_count": 9,
   "metadata": {
    "scrolled": false
   },
   "outputs": [
    {
     "name": "stdout",
     "output_type": "stream",
     "text": [
      "Зашифрованные данные\n"
     ]
    },
    {
     "data": {
      "image/png": "[encoded data removed]",
      "text/plain": [
       "<Figure size 1008x504 with 4 Axes>"
      ]
     },
     "metadata": {
      "needs_background": "light"
     },
     "output_type": "display_data"
    }
   ],
   "source": [
    "print('Зашифрованные данные')\n",
    "features_mod.hist(figsize=[14,7], bins=30);"
   ]
  },
  {
   "cell_type": "markdown",
   "metadata": {},
   "source": [
    "Как видно из гистограмм, распределение величин в зашифрованной матрице близко к нормальному и отличается от распределения признаков в исходной выборке.\n",
    "\n"
   ]
  },
  {
   "cell_type": "markdown",
   "metadata": {},
   "source": [
    "<div class=\"alert alert-success\">\n",
    "<b>Комментарий ревьюера №1</b> ✅\n",
    "    \n",
    "Если распределения величин не поменялись, то данные плохо защищены. Их легко восстановить, если знать, что матрица диагональная \n",
    "</div>\n",
    "\n",
    "<div class=\"alert alert-info\">\n",
    "<b>Комментарий студента №1</b> ✅\n",
    "    \n",
    "исправил на не диагональную матрицу\n",
    "</div>"
   ]
  },
  {
   "cell_type": "markdown",
   "metadata": {},
   "source": [
    "### Обучение линейной регрессии на исходных и зашифрованных данных"
   ]
  },
  {
   "cell_type": "code",
   "execution_count": 10,
   "metadata": {},
   "outputs": [],
   "source": [
    "# Разделение исходных features и target на обучающую и валидационную выборки\n",
    "features_train, features_valid, target_train, target_valid = train_test_split(\n",
    "    features,\n",
    "    target,\n",
    "    test_size=0.25,\n",
    "    random_state=13)"
   ]
  },
  {
   "cell_type": "code",
   "execution_count": 11,
   "metadata": {},
   "outputs": [],
   "source": [
    "# Разделение зашифрованных features\n",
    "features_mod_train, features_mod_valid = train_test_split(\n",
    "features_mod,\n",
    "test_size=0.25,\n",
    "random_state=13)"
   ]
  },
  {
   "cell_type": "code",
   "execution_count": 12,
   "metadata": {},
   "outputs": [],
   "source": [
    "# Подготовка данных с помощью StandardScaler\n",
    "scaler = StandardScaler()\n",
    "features_train = scaler.fit_transform(features_train)\n",
    "features_valid = scaler.transform(features_valid)\n",
    "features_mod_train = scaler.fit_transform(features_mod_train)\n",
    "features_mod_valid = scaler.transform(features_mod_valid)"
   ]
  },
  {
   "cell_type": "code",
   "execution_count": 13,
   "metadata": {},
   "outputs": [
    {
     "name": "stdout",
     "output_type": "stream",
     "text": [
      "R2-критерий при обучении линейной регрессии на исходных данных\n"
     ]
    },
    {
     "data": {
      "text/plain": [
       "0.43994910649131025"
      ]
     },
     "execution_count": 13,
     "metadata": {},
     "output_type": "execute_result"
    }
   ],
   "source": [
    "print('R2-критерий при обучении линейной регрессии на исходных данных')\n",
    "model = LinearRegression() # cоздаем инстанцию модели\n",
    "model.fit(features_train, target_train) # обучаем модель на исходных данных\n",
    "model.score(features_valid, target_valid) # получаем R2-значение"
   ]
  },
  {
   "cell_type": "code",
   "execution_count": 14,
   "metadata": {
    "scrolled": false
   },
   "outputs": [
    {
     "name": "stdout",
     "output_type": "stream",
     "text": [
      "R2-критерий при обучении линейной регрессии на зашифрованных данных\n"
     ]
    },
    {
     "data": {
      "text/plain": [
       "0.43994910649132024"
      ]
     },
     "execution_count": 14,
     "metadata": {},
     "output_type": "execute_result"
    }
   ],
   "source": [
    "print('R2-критерий при обучении линейной регрессии на зашифрованных данных')\n",
    "model.fit(features_mod_train, target_train) # обучаем модель на зашифрованных данных\n",
    "model.score(features_mod_valid, target_valid) # получаем R2-значение"
   ]
  },
  {
   "cell_type": "markdown",
   "metadata": {},
   "source": [
    "Таким образом, при шифровании матрицы предложенным методом качество машинного обучения не изменилось.\n"
   ]
  },
  {
   "cell_type": "markdown",
   "metadata": {},
   "source": [
    "### Расчёт векторов весов и векторов предсказаний\n",
    "\n",
    "Вектор весов для линейной регрессии, обученной на исходной выборке, обозначим w_before.\n",
    "\n",
    "Аналогичный вектор для зашифрованных данных обозначим w_after"
   ]
  },
  {
   "cell_type": "code",
   "execution_count": 15,
   "metadata": {},
   "outputs": [
    {
     "data": {
      "text/plain": [
       "array([ 0.00212027,  0.29365243, -0.00372012, -0.01530821])"
      ]
     },
     "execution_count": 15,
     "metadata": {},
     "output_type": "execute_result"
    }
   ],
   "source": [
    "w_before = ((np.linalg.inv(features_train.T @ features_train))@features_train.T)@target_train\n",
    "w_before"
   ]
  },
  {
   "cell_type": "code",
   "execution_count": 16,
   "metadata": {
    "scrolled": true
   },
   "outputs": [
    {
     "data": {
      "text/plain": [
       "array([-239.81749129,  -94.50307864,  596.73836265, -262.42958673])"
      ]
     },
     "execution_count": 16,
     "metadata": {},
     "output_type": "execute_result"
    }
   ],
   "source": [
    "w_after = ((np.linalg.inv(features_mod_train.T @ features_mod_train))@features_mod_train.T)@target_train\n",
    "w_after"
   ]
  },
  {
   "cell_type": "markdown",
   "metadata": {},
   "source": [
    "Теперь получим векторы предсказаний для валидационной выборки по формуле:\n",
    "\n",
    "$$\n",
    "a=Xw\n",
    "$$"
   ]
  },
  {
   "cell_type": "code",
   "execution_count": 17,
   "metadata": {
    "scrolled": true
   },
   "outputs": [
    {
     "data": {
      "text/plain": [
       "array([ 0.52415199, -0.4035234 , -0.04804462, ...,  0.39165349,\n",
       "       -0.2678962 , -0.01781098])"
      ]
     },
     "execution_count": 17,
     "metadata": {},
     "output_type": "execute_result"
    }
   ],
   "source": [
    "features_train @ w_before"
   ]
  },
  {
   "cell_type": "code",
   "execution_count": 18,
   "metadata": {
    "scrolled": true
   },
   "outputs": [
    {
     "data": {
      "text/plain": [
       "array([ 0.52415198, -0.4035234 , -0.04804462, ...,  0.39165349,\n",
       "       -0.2678962 , -0.01781099])"
      ]
     },
     "execution_count": 18,
     "metadata": {},
     "output_type": "execute_result"
    }
   ],
   "source": [
    "features_mod_train @ w_after"
   ]
  },
  {
   "cell_type": "markdown",
   "metadata": {},
   "source": [
    "Таким образом, как было сказано в пункте 3 данной работы, векторы предсказаний для исходных и зашифрованных данных равны. \n",
    "\n",
    "## Вывод\n",
    "Метод, предложенный в данной работе, пригоден для шифрования данных при использовании линейной регрессии без потери качества машинного обучения."
   ]
  },
  {
   "cell_type": "markdown",
   "metadata": {},
   "source": [
    "<div class=\"alert alert-block alert-success\">\n",
    "    \n",
    "**Комментарий от ревьюера №1** ✅\n",
    "\n",
    "Верно, качество предсказания действительно не изменяется. В случае домножения матрицы признаков на случайную обратимую матрицу можно обеспечить защиту данных\n",
    "</div>"
   ]
  },
  {
   "cell_type": "markdown",
   "metadata": {},
   "source": [
    "## Чек-лист проверки"
   ]
  },
  {
   "cell_type": "markdown",
   "metadata": {},
   "source": [
    "Поставьте 'x' в выполненных пунктах. Далее нажмите Shift+Enter."
   ]
  },
  {
   "cell_type": "markdown",
   "metadata": {},
   "source": [
    "- [x]  Jupyter Notebook открыт\n",
    "- [x]  Весь код выполняется без ошибок\n",
    "- [x]  Ячейки с кодом расположены в порядке исполнения\n",
    "- [x]  Выполнен шаг 1: данные загружены\n",
    "- [x]  Выполнен шаг 2: получен ответ на вопрос об умножении матриц\n",
    "    - [x]  Указан правильный вариант ответа\n",
    "    - [x]  Вариант обоснован\n",
    "- [x]  Выполнен шаг 3: предложен алгоритм преобразования\n",
    "    - [x]  Алгоритм описан\n",
    "    - [x]  Алгоритм обоснован\n",
    "- [x]  Выполнен шаг 4: алгоритм проверен\n",
    "    - [x]  Алгоритм реализован\n",
    "    - [x]  Проведено сравнение качества моделей до и после преобразования"
   ]
  },
  {
   "cell_type": "markdown",
   "metadata": {},
   "source": [
    "<div style=\"border:solid purple 2px; padding: 20px\"> \n",
    "<b> <font color='purple' >   \n",
    "В целом, работа хорошая. Ты молодец! Остались небольшие доработки. Нужно исправить теоретическое доказательство и алгоритм преобразования. Доделывай и присылай на повторную проверку.\n",
    "\n",
    "Жду твоих исправлений 😊\n",
    "</font></b>\n",
    "</div>\n",
    "\n",
    "\n",
    "\n",
    "\n",
    "<div class=\"alert alert-block alert-info\">\n",
    "    \n",
    "**Комментарий студента №1** ✅\n",
    "\n",
    "Екатерина, еще раз хочу выразить тебе благодарность, т.к. я с помощью твоих комментариев понял, в чём именно не разобрался. И, кажется, удалось это исправить. Жду результатов. =)\n",
    "</div>\n",
    "\n"
   ]
  },
  {
   "cell_type": "markdown",
   "metadata": {},
   "source": [
    "<div style=\"border:solid purple 2px; padding: 20px\"> \n",
    "<b> <font color='purple' >   \n",
    "    \n",
    "Отлично! Критических замечаний больше нет. Проект принят! 👏 Поздравляю и желаю удачи!\n",
    "    \n",
    "Оставлю несколько дополнительных материалов. Обзоры по применению криптографии в машинном обучении: https://arxiv.org/pdf/1902.04109.pdf, https://www.researchgate.net/publication/342746786_Some_Applications_of_Machine_Learning_in_Cryptography Подробнее про аналогичный алгоритм: https://www.cs.cmu.edu/~rjhall/JOS_revised_May_31a.pdf\n",
    "</font></b>\n",
    "</div>"
   ]
  }
 ],
 "metadata": {
  "ExecuteTimeLog": [
   {
    "duration": 498,
    "start_time": "2022-12-12T16:19:54.291Z"
   },
   {
    "duration": 677,
    "start_time": "2022-12-12T16:19:58.656Z"
   },
   {
    "duration": 75,
    "start_time": "2022-12-12T16:20:16.038Z"
   },
   {
    "duration": 1019,
    "start_time": "2022-12-12T16:20:42.094Z"
   },
   {
    "duration": 4,
    "start_time": "2022-12-12T16:21:09.349Z"
   },
   {
    "duration": 513,
    "start_time": "2022-12-12T16:21:59.407Z"
   },
   {
    "duration": 1529,
    "start_time": "2022-12-12T16:22:56.736Z"
   },
   {
    "duration": 979,
    "start_time": "2022-12-12T16:23:19.367Z"
   },
   {
    "duration": 971,
    "start_time": "2022-12-12T16:24:31.766Z"
   },
   {
    "duration": 6,
    "start_time": "2022-12-12T16:41:01.178Z"
   },
   {
    "duration": 235,
    "start_time": "2022-12-12T16:41:20.809Z"
   },
   {
    "duration": 210,
    "start_time": "2022-12-12T16:41:40.129Z"
   },
   {
    "duration": 4,
    "start_time": "2022-12-12T16:42:11.034Z"
   },
   {
    "duration": 7,
    "start_time": "2022-12-12T16:42:16.562Z"
   },
   {
    "duration": 53,
    "start_time": "2022-12-12T16:43:01.458Z"
   },
   {
    "duration": 5,
    "start_time": "2022-12-12T16:43:23.210Z"
   },
   {
    "duration": 5,
    "start_time": "2022-12-12T16:43:30.690Z"
   },
   {
    "duration": 11,
    "start_time": "2022-12-12T16:43:47.346Z"
   },
   {
    "duration": 7,
    "start_time": "2022-12-12T16:43:55.922Z"
   },
   {
    "duration": 5,
    "start_time": "2022-12-12T16:44:00.498Z"
   },
   {
    "duration": 6,
    "start_time": "2022-12-12T16:44:06.978Z"
   },
   {
    "duration": 4,
    "start_time": "2022-12-12T16:52:06.833Z"
   },
   {
    "duration": 15,
    "start_time": "2022-12-12T16:52:15.267Z"
   },
   {
    "duration": 20,
    "start_time": "2022-12-12T16:52:19.131Z"
   },
   {
    "duration": 857,
    "start_time": "2022-12-12T16:54:44.181Z"
   },
   {
    "duration": 50,
    "start_time": "2022-12-21T21:04:22.764Z"
   },
   {
    "duration": 1496,
    "start_time": "2022-12-21T21:04:26.371Z"
   },
   {
    "duration": 870,
    "start_time": "2022-12-21T21:04:27.869Z"
   },
   {
    "duration": 12,
    "start_time": "2022-12-21T21:04:33.122Z"
   },
   {
    "duration": 3,
    "start_time": "2022-12-21T21:05:32.507Z"
   },
   {
    "duration": 3,
    "start_time": "2022-12-21T21:05:35.410Z"
   },
   {
    "duration": 3,
    "start_time": "2022-12-21T21:06:12.347Z"
   },
   {
    "duration": 5,
    "start_time": "2022-12-21T21:07:14.555Z"
   },
   {
    "duration": 3,
    "start_time": "2022-12-21T21:08:02.756Z"
   },
   {
    "duration": 4,
    "start_time": "2022-12-21T21:08:15.859Z"
   },
   {
    "duration": 7,
    "start_time": "2022-12-21T21:08:55.107Z"
   },
   {
    "duration": 13,
    "start_time": "2022-12-21T21:09:07.947Z"
   },
   {
    "duration": 4,
    "start_time": "2022-12-21T21:11:13.355Z"
   },
   {
    "duration": 72,
    "start_time": "2022-12-21T21:15:46.068Z"
   },
   {
    "duration": 5,
    "start_time": "2022-12-21T21:15:54.100Z"
   },
   {
    "duration": 3,
    "start_time": "2022-12-21T21:16:05.283Z"
   },
   {
    "duration": 71,
    "start_time": "2022-12-21T21:16:32.116Z"
   },
   {
    "duration": 4,
    "start_time": "2022-12-21T21:17:01.523Z"
   },
   {
    "duration": 1129,
    "start_time": "2022-12-21T21:17:03.900Z"
   },
   {
    "duration": 3,
    "start_time": "2022-12-21T21:18:20.924Z"
   },
   {
    "duration": 1197,
    "start_time": "2022-12-21T21:18:22.963Z"
   },
   {
    "duration": 7,
    "start_time": "2022-12-21T21:18:53.604Z"
   },
   {
    "duration": 4,
    "start_time": "2022-12-21T21:20:00.141Z"
   },
   {
    "duration": 9,
    "start_time": "2022-12-21T21:20:02.507Z"
   },
   {
    "duration": 4,
    "start_time": "2022-12-21T21:20:06.556Z"
   },
   {
    "duration": 3,
    "start_time": "2022-12-21T21:20:27.124Z"
   },
   {
    "duration": 4,
    "start_time": "2022-12-21T21:20:33.084Z"
   },
   {
    "duration": 4,
    "start_time": "2022-12-21T21:20:37.788Z"
   },
   {
    "duration": 4,
    "start_time": "2022-12-21T21:20:55.300Z"
   },
   {
    "duration": 13,
    "start_time": "2022-12-21T21:21:01.684Z"
   },
   {
    "duration": 11,
    "start_time": "2022-12-21T21:21:12.564Z"
   },
   {
    "duration": 5,
    "start_time": "2022-12-21T21:21:21.965Z"
   },
   {
    "duration": 5,
    "start_time": "2022-12-21T21:21:34.668Z"
   },
   {
    "duration": 11,
    "start_time": "2022-12-21T21:21:51.165Z"
   },
   {
    "duration": 4,
    "start_time": "2022-12-21T21:21:55.725Z"
   },
   {
    "duration": 5,
    "start_time": "2022-12-21T21:27:16.557Z"
   },
   {
    "duration": 4,
    "start_time": "2022-12-21T21:28:17.638Z"
   },
   {
    "duration": 14,
    "start_time": "2022-12-21T21:33:20.094Z"
   },
   {
    "duration": 8,
    "start_time": "2022-12-21T21:34:40.078Z"
   },
   {
    "duration": 7,
    "start_time": "2022-12-21T21:34:48.798Z"
   },
   {
    "duration": 5,
    "start_time": "2022-12-21T21:35:10.926Z"
   },
   {
    "duration": 396,
    "start_time": "2022-12-21T21:42:00.767Z"
   },
   {
    "duration": 583,
    "start_time": "2022-12-21T21:42:32.507Z"
   },
   {
    "duration": 570,
    "start_time": "2022-12-21T21:42:55.519Z"
   },
   {
    "duration": 546,
    "start_time": "2022-12-21T21:43:38.232Z"
   },
   {
    "duration": 680,
    "start_time": "2022-12-21T21:43:42.560Z"
   },
   {
    "duration": 4,
    "start_time": "2022-12-21T21:47:56.057Z"
   },
   {
    "duration": 310,
    "start_time": "2022-12-21T21:48:02.753Z"
   },
   {
    "duration": 4,
    "start_time": "2022-12-21T21:48:09.376Z"
   },
   {
    "duration": 4,
    "start_time": "2022-12-21T21:48:20.640Z"
   },
   {
    "duration": 3,
    "start_time": "2022-12-21T21:48:35.065Z"
   },
   {
    "duration": 4,
    "start_time": "2022-12-21T21:48:37.369Z"
   },
   {
    "duration": 4,
    "start_time": "2022-12-21T21:48:39.129Z"
   },
   {
    "duration": 5,
    "start_time": "2022-12-21T21:49:09.522Z"
   },
   {
    "duration": 3,
    "start_time": "2022-12-21T21:49:11.849Z"
   },
   {
    "duration": 5,
    "start_time": "2022-12-21T21:49:13.560Z"
   },
   {
    "duration": 6,
    "start_time": "2022-12-21T21:49:34.623Z"
   },
   {
    "duration": 3,
    "start_time": "2022-12-21T21:49:49.196Z"
   },
   {
    "duration": 789,
    "start_time": "2022-12-21T21:49:49.203Z"
   },
   {
    "duration": 12,
    "start_time": "2022-12-21T21:49:49.994Z"
   },
   {
    "duration": 9,
    "start_time": "2022-12-21T21:49:50.008Z"
   },
   {
    "duration": 7,
    "start_time": "2022-12-21T21:49:50.018Z"
   },
   {
    "duration": 16,
    "start_time": "2022-12-21T21:49:50.027Z"
   },
   {
    "duration": 43,
    "start_time": "2022-12-21T21:49:50.045Z"
   },
   {
    "duration": 90,
    "start_time": "2022-12-21T21:49:50.090Z"
   },
   {
    "duration": 13,
    "start_time": "2022-12-21T21:49:50.182Z"
   },
   {
    "duration": 13,
    "start_time": "2022-12-21T21:49:50.196Z"
   },
   {
    "duration": 18,
    "start_time": "2022-12-21T21:49:50.210Z"
   },
   {
    "duration": 603,
    "start_time": "2022-12-21T21:49:50.230Z"
   },
   {
    "duration": 692,
    "start_time": "2022-12-21T21:49:50.835Z"
   },
   {
    "duration": 6,
    "start_time": "2022-12-21T21:50:01.224Z"
   },
   {
    "duration": 6,
    "start_time": "2022-12-21T21:50:03.081Z"
   },
   {
    "duration": 16,
    "start_time": "2022-12-21T21:50:05.354Z"
   },
   {
    "duration": 7,
    "start_time": "2022-12-21T21:50:07.361Z"
   },
   {
    "duration": 8,
    "start_time": "2022-12-21T21:50:09.793Z"
   },
   {
    "duration": 5,
    "start_time": "2022-12-21T21:50:14.233Z"
   },
   {
    "duration": 4,
    "start_time": "2022-12-21T21:50:39.896Z"
   },
   {
    "duration": 4,
    "start_time": "2022-12-21T21:50:42.264Z"
   },
   {
    "duration": 4,
    "start_time": "2022-12-21T21:50:44.196Z"
   },
   {
    "duration": 4,
    "start_time": "2022-12-21T21:50:46.737Z"
   },
   {
    "duration": 5,
    "start_time": "2022-12-21T21:50:48.593Z"
   },
   {
    "duration": 5,
    "start_time": "2022-12-21T21:50:50.600Z"
   },
   {
    "duration": 5,
    "start_time": "2022-12-21T21:50:54.493Z"
   },
   {
    "duration": 621,
    "start_time": "2022-12-21T21:50:56.945Z"
   },
   {
    "duration": 575,
    "start_time": "2022-12-21T21:51:00.002Z"
   },
   {
    "duration": 582,
    "start_time": "2022-12-21T21:51:20.073Z"
   },
   {
    "duration": 5,
    "start_time": "2022-12-21T21:51:27.529Z"
   },
   {
    "duration": 5,
    "start_time": "2022-12-21T21:51:29.065Z"
   },
   {
    "duration": 13,
    "start_time": "2022-12-21T21:51:30.953Z"
   },
   {
    "duration": 7,
    "start_time": "2022-12-21T21:51:32.704Z"
   },
   {
    "duration": 6,
    "start_time": "2022-12-21T21:51:34.752Z"
   },
   {
    "duration": 49,
    "start_time": "2022-12-29T17:20:01.888Z"
   },
   {
    "duration": 1397,
    "start_time": "2022-12-29T17:20:05.887Z"
   },
   {
    "duration": 814,
    "start_time": "2022-12-29T17:20:07.286Z"
   },
   {
    "duration": 4,
    "start_time": "2022-12-29T17:20:10.517Z"
   },
   {
    "duration": 4,
    "start_time": "2022-12-29T17:22:31.333Z"
   },
   {
    "duration": 4,
    "start_time": "2022-12-29T17:22:56.257Z"
   },
   {
    "duration": 4,
    "start_time": "2022-12-29T17:28:35.951Z"
   },
   {
    "duration": 4,
    "start_time": "2022-12-29T17:28:53.111Z"
   },
   {
    "duration": 4,
    "start_time": "2022-12-29T17:29:10.831Z"
   },
   {
    "duration": 63,
    "start_time": "2023-01-03T20:58:35.215Z"
   },
   {
    "duration": 1353,
    "start_time": "2023-01-03T20:58:40.768Z"
   },
   {
    "duration": 637,
    "start_time": "2023-01-03T20:58:49.765Z"
   },
   {
    "duration": 820,
    "start_time": "2023-01-03T20:59:54.051Z"
   },
   {
    "duration": 743,
    "start_time": "2023-01-03T21:00:11.083Z"
   },
   {
    "duration": 836,
    "start_time": "2023-01-03T21:00:52.038Z"
   },
   {
    "duration": 860,
    "start_time": "2023-01-03T21:01:03.516Z"
   },
   {
    "duration": 5,
    "start_time": "2023-01-03T22:00:49.272Z"
   },
   {
    "duration": 15,
    "start_time": "2023-01-03T22:01:27.333Z"
   },
   {
    "duration": 9,
    "start_time": "2023-01-03T22:01:42.333Z"
   },
   {
    "duration": 12,
    "start_time": "2023-01-03T22:02:44.736Z"
   },
   {
    "duration": 11,
    "start_time": "2023-01-03T22:03:55.408Z"
   },
   {
    "duration": 4,
    "start_time": "2023-01-03T22:04:14.353Z"
   },
   {
    "duration": 5,
    "start_time": "2023-01-03T22:04:15.848Z"
   },
   {
    "duration": 5,
    "start_time": "2023-01-03T22:04:25.384Z"
   },
   {
    "duration": 7,
    "start_time": "2023-01-03T22:06:46.793Z"
   },
   {
    "duration": 21,
    "start_time": "2023-01-03T22:07:41.778Z"
   },
   {
    "duration": 22,
    "start_time": "2023-01-03T22:07:57.954Z"
   },
   {
    "duration": 17,
    "start_time": "2023-01-03T22:08:15.042Z"
   },
   {
    "duration": 25,
    "start_time": "2023-01-03T22:08:58.842Z"
   },
   {
    "duration": 32,
    "start_time": "2023-01-03T22:09:26.146Z"
   },
   {
    "duration": 499,
    "start_time": "2023-01-03T22:10:20.970Z"
   },
   {
    "duration": 464,
    "start_time": "2023-01-03T22:10:27.794Z"
   },
   {
    "duration": 526,
    "start_time": "2023-01-03T22:21:53.318Z"
   },
   {
    "duration": 698,
    "start_time": "2023-01-03T22:22:03.943Z"
   },
   {
    "duration": 604,
    "start_time": "2023-01-03T22:22:10.716Z"
   },
   {
    "duration": 495,
    "start_time": "2023-01-03T22:22:20.630Z"
   },
   {
    "duration": 606,
    "start_time": "2023-01-03T22:22:53.086Z"
   },
   {
    "duration": 9,
    "start_time": "2023-01-03T22:27:06.183Z"
   },
   {
    "duration": 9,
    "start_time": "2023-01-03T22:28:15.159Z"
   },
   {
    "duration": 2,
    "start_time": "2023-01-03T22:34:27.854Z"
   },
   {
    "duration": 732,
    "start_time": "2023-01-03T22:34:27.861Z"
   },
   {
    "duration": 4,
    "start_time": "2023-01-03T22:34:28.595Z"
   },
   {
    "duration": 25,
    "start_time": "2023-01-03T22:34:28.600Z"
   },
   {
    "duration": 9,
    "start_time": "2023-01-03T22:34:28.627Z"
   },
   {
    "duration": 8,
    "start_time": "2023-01-03T22:34:28.639Z"
   },
   {
    "duration": 169,
    "start_time": "2023-01-03T22:34:28.648Z"
   },
   {
    "duration": 509,
    "start_time": "2023-01-03T22:34:28.818Z"
   },
   {
    "duration": 599,
    "start_time": "2023-01-03T22:34:29.329Z"
   },
   {
    "duration": 5,
    "start_time": "2023-01-03T22:34:29.930Z"
   },
   {
    "duration": 6,
    "start_time": "2023-01-03T22:34:29.937Z"
   },
   {
    "duration": 14,
    "start_time": "2023-01-03T22:34:29.944Z"
   },
   {
    "duration": 7,
    "start_time": "2023-01-03T22:34:29.959Z"
   },
   {
    "duration": 9,
    "start_time": "2023-01-03T22:34:29.967Z"
   },
   {
    "duration": 1955,
    "start_time": "2023-01-03T22:59:40.891Z"
   },
   {
    "duration": 888,
    "start_time": "2023-01-03T22:59:42.848Z"
   },
   {
    "duration": 4,
    "start_time": "2023-01-03T22:59:43.738Z"
   },
   {
    "duration": 14,
    "start_time": "2023-01-03T22:59:43.744Z"
   },
   {
    "duration": 52,
    "start_time": "2023-01-03T22:59:43.760Z"
   },
   {
    "duration": 6,
    "start_time": "2023-01-03T22:59:43.814Z"
   },
   {
    "duration": 28,
    "start_time": "2023-01-03T22:59:43.913Z"
   },
   {
    "duration": 658,
    "start_time": "2023-01-03T22:59:43.943Z"
   },
   {
    "duration": 569,
    "start_time": "2023-01-03T22:59:44.602Z"
   },
   {
    "duration": 6,
    "start_time": "2023-01-03T22:59:45.173Z"
   },
   {
    "duration": 6,
    "start_time": "2023-01-03T22:59:45.180Z"
   },
   {
    "duration": 27,
    "start_time": "2023-01-03T22:59:45.187Z"
   },
   {
    "duration": 7,
    "start_time": "2023-01-03T22:59:45.216Z"
   },
   {
    "duration": 9,
    "start_time": "2023-01-03T22:59:45.224Z"
   },
   {
    "duration": 3,
    "start_time": "2023-01-04T01:41:13.101Z"
   },
   {
    "duration": 4,
    "start_time": "2023-01-04T01:41:23.389Z"
   },
   {
    "duration": 4,
    "start_time": "2023-01-04T01:41:35.330Z"
   },
   {
    "duration": 4,
    "start_time": "2023-01-04T01:41:48.046Z"
   },
   {
    "duration": 4,
    "start_time": "2023-01-04T01:43:25.374Z"
   },
   {
    "duration": 4,
    "start_time": "2023-01-04T01:43:35.732Z"
   },
   {
    "duration": 4,
    "start_time": "2023-01-04T01:47:50.041Z"
   },
   {
    "duration": 4,
    "start_time": "2023-01-04T01:49:18.428Z"
   },
   {
    "duration": 13,
    "start_time": "2023-01-04T01:49:29.752Z"
   },
   {
    "duration": 6,
    "start_time": "2023-01-04T01:49:54.876Z"
   },
   {
    "duration": 13,
    "start_time": "2023-01-04T01:49:57.094Z"
   },
   {
    "duration": 5,
    "start_time": "2023-01-04T01:50:03.199Z"
   },
   {
    "duration": 11,
    "start_time": "2023-01-04T01:50:06.475Z"
   },
   {
    "duration": 4,
    "start_time": "2023-01-04T01:50:13.985Z"
   },
   {
    "duration": 12,
    "start_time": "2023-01-04T01:50:23.444Z"
   },
   {
    "duration": 5,
    "start_time": "2023-01-04T01:51:09.998Z"
   },
   {
    "duration": 11,
    "start_time": "2023-01-04T01:51:12.359Z"
   },
   {
    "duration": 1610,
    "start_time": "2023-01-04T01:56:02.049Z"
   },
   {
    "duration": 786,
    "start_time": "2023-01-04T01:56:03.661Z"
   },
   {
    "duration": 3,
    "start_time": "2023-01-04T01:56:04.449Z"
   },
   {
    "duration": 19,
    "start_time": "2023-01-04T01:56:04.454Z"
   },
   {
    "duration": 37,
    "start_time": "2023-01-04T01:56:04.475Z"
   },
   {
    "duration": 5,
    "start_time": "2023-01-04T01:56:04.514Z"
   },
   {
    "duration": 111,
    "start_time": "2023-01-04T01:56:04.521Z"
   },
   {
    "duration": 622,
    "start_time": "2023-01-04T01:56:04.633Z"
   },
   {
    "duration": 499,
    "start_time": "2023-01-04T01:56:05.256Z"
   },
   {
    "duration": 5,
    "start_time": "2023-01-04T01:56:05.757Z"
   },
   {
    "duration": 13,
    "start_time": "2023-01-04T01:56:05.764Z"
   },
   {
    "duration": 15,
    "start_time": "2023-01-04T01:56:05.779Z"
   },
   {
    "duration": 18,
    "start_time": "2023-01-04T01:56:05.795Z"
   },
   {
    "duration": 7,
    "start_time": "2023-01-04T01:56:05.814Z"
   },
   {
    "duration": 42,
    "start_time": "2023-01-05T22:32:48.328Z"
   },
   {
    "duration": 1298,
    "start_time": "2023-01-05T22:32:52.268Z"
   },
   {
    "duration": 849,
    "start_time": "2023-01-05T22:32:53.567Z"
   },
   {
    "duration": 5,
    "start_time": "2023-01-05T22:32:54.418Z"
   },
   {
    "duration": 15,
    "start_time": "2023-01-05T22:32:54.425Z"
   },
   {
    "duration": 5,
    "start_time": "2023-01-05T22:32:54.441Z"
   },
   {
    "duration": 172,
    "start_time": "2023-01-05T22:32:54.448Z"
   },
   {
    "duration": 24,
    "start_time": "2023-01-05T22:32:54.622Z"
   },
   {
    "duration": 613,
    "start_time": "2023-01-05T22:32:54.647Z"
   },
   {
    "duration": 548,
    "start_time": "2023-01-05T22:32:55.262Z"
   },
   {
    "duration": 6,
    "start_time": "2023-01-05T22:32:55.815Z"
   },
   {
    "duration": 6,
    "start_time": "2023-01-05T22:32:55.822Z"
   },
   {
    "duration": 16,
    "start_time": "2023-01-05T22:32:55.829Z"
   },
   {
    "duration": 7,
    "start_time": "2023-01-05T22:32:55.846Z"
   },
   {
    "duration": 10,
    "start_time": "2023-01-05T22:32:55.854Z"
   },
   {
    "duration": 12,
    "start_time": "2023-01-05T22:33:01.579Z"
   },
   {
    "duration": 66,
    "start_time": "2023-01-05T22:34:52.199Z"
   },
   {
    "duration": 3,
    "start_time": "2023-01-05T22:35:04.621Z"
   },
   {
    "duration": 5,
    "start_time": "2023-01-05T22:35:10.221Z"
   },
   {
    "duration": 12,
    "start_time": "2023-01-05T22:35:31.235Z"
   },
   {
    "duration": 5,
    "start_time": "2023-01-05T22:36:22.316Z"
   },
   {
    "duration": 8,
    "start_time": "2023-01-05T22:37:09.380Z"
   },
   {
    "duration": 7,
    "start_time": "2023-01-05T22:37:31.156Z"
   },
   {
    "duration": 5,
    "start_time": "2023-01-05T22:37:48.436Z"
   },
   {
    "duration": 50,
    "start_time": "2023-01-08T22:22:06.845Z"
   },
   {
    "duration": 1677,
    "start_time": "2023-01-08T22:22:11.740Z"
   },
   {
    "duration": 976,
    "start_time": "2023-01-08T22:22:13.420Z"
   },
   {
    "duration": 8,
    "start_time": "2023-01-08T22:22:21.676Z"
   },
   {
    "duration": 5,
    "start_time": "2023-01-08T22:22:29.924Z"
   },
   {
    "duration": 5,
    "start_time": "2023-01-08T22:22:33.756Z"
   },
   {
    "duration": 4,
    "start_time": "2023-01-08T22:22:37.165Z"
   },
   {
    "duration": 95,
    "start_time": "2023-01-08T22:23:58.973Z"
   },
   {
    "duration": 9,
    "start_time": "2023-01-08T22:24:08.614Z"
   },
   {
    "duration": 194,
    "start_time": "2023-01-08T22:24:17.940Z"
   },
   {
    "duration": 4,
    "start_time": "2023-01-08T22:24:25.325Z"
   },
   {
    "duration": 4,
    "start_time": "2023-01-08T22:24:29.624Z"
   },
   {
    "duration": 3,
    "start_time": "2023-01-08T22:24:36.141Z"
   },
   {
    "duration": 5,
    "start_time": "2023-01-08T22:24:40.989Z"
   },
   {
    "duration": 4,
    "start_time": "2023-01-08T22:24:47.718Z"
   },
   {
    "duration": 216,
    "start_time": "2023-01-08T22:25:01.334Z"
   },
   {
    "duration": 4,
    "start_time": "2023-01-08T22:25:13.941Z"
   },
   {
    "duration": 4,
    "start_time": "2023-01-08T22:25:15.805Z"
   },
   {
    "duration": 6,
    "start_time": "2023-01-08T22:25:18.877Z"
   },
   {
    "duration": 192,
    "start_time": "2023-01-08T22:25:45.813Z"
   },
   {
    "duration": 195,
    "start_time": "2023-01-08T22:26:34.214Z"
   },
   {
    "duration": 4,
    "start_time": "2023-01-08T22:26:39.805Z"
   },
   {
    "duration": 5,
    "start_time": "2023-01-08T22:26:42.181Z"
   },
   {
    "duration": 4,
    "start_time": "2023-01-08T22:27:04.941Z"
   },
   {
    "duration": 5,
    "start_time": "2023-01-08T22:27:06.694Z"
   },
   {
    "duration": 4,
    "start_time": "2023-01-08T22:27:08.509Z"
   },
   {
    "duration": 3,
    "start_time": "2023-01-08T22:27:08.654Z"
   },
   {
    "duration": 4,
    "start_time": "2023-01-08T22:27:10.638Z"
   },
   {
    "duration": 3,
    "start_time": "2023-01-08T22:27:19.871Z"
   },
   {
    "duration": 4,
    "start_time": "2023-01-08T22:27:21.557Z"
   },
   {
    "duration": 3,
    "start_time": "2023-01-08T22:27:26.830Z"
   },
   {
    "duration": 4,
    "start_time": "2023-01-08T22:27:28.398Z"
   },
   {
    "duration": 85,
    "start_time": "2023-01-08T22:30:03.292Z"
   },
   {
    "duration": 68,
    "start_time": "2023-01-08T22:30:33.959Z"
   },
   {
    "duration": 12,
    "start_time": "2023-01-08T22:30:46.015Z"
   },
   {
    "duration": 15,
    "start_time": "2023-01-08T22:30:52.319Z"
   },
   {
    "duration": 14,
    "start_time": "2023-01-08T22:31:04.775Z"
   },
   {
    "duration": 9,
    "start_time": "2023-01-08T22:31:23.992Z"
   },
   {
    "duration": 10,
    "start_time": "2023-01-08T22:31:28.575Z"
   },
   {
    "duration": 13,
    "start_time": "2023-01-08T22:31:44.238Z"
   },
   {
    "duration": 4,
    "start_time": "2023-01-08T22:32:25.079Z"
   },
   {
    "duration": 4,
    "start_time": "2023-01-08T22:32:29.903Z"
   },
   {
    "duration": 65,
    "start_time": "2023-01-08T22:32:41.134Z"
   },
   {
    "duration": 46,
    "start_time": "2023-01-08T22:33:10.991Z"
   },
   {
    "duration": 3,
    "start_time": "2023-01-08T22:33:40.231Z"
   },
   {
    "duration": 3,
    "start_time": "2023-01-08T22:33:45.791Z"
   },
   {
    "duration": 7,
    "start_time": "2023-01-08T22:33:47.463Z"
   },
   {
    "duration": 4,
    "start_time": "2023-01-08T22:33:57.994Z"
   },
   {
    "duration": 3,
    "start_time": "2023-01-08T22:34:03.263Z"
   },
   {
    "duration": 4,
    "start_time": "2023-01-08T22:34:04.531Z"
   },
   {
    "duration": 4,
    "start_time": "2023-01-08T22:38:35.338Z"
   },
   {
    "duration": 3,
    "start_time": "2023-01-08T22:38:39.105Z"
   },
   {
    "duration": 4,
    "start_time": "2023-01-08T22:38:40.457Z"
   },
   {
    "duration": 10,
    "start_time": "2023-01-08T22:39:14.865Z"
   },
   {
    "duration": 49,
    "start_time": "2023-01-08T22:39:19.761Z"
   },
   {
    "duration": 41,
    "start_time": "2023-01-08T22:39:36.769Z"
   },
   {
    "duration": 43,
    "start_time": "2023-01-08T22:39:42.176Z"
   },
   {
    "duration": 49,
    "start_time": "2023-01-08T22:40:07.705Z"
   },
   {
    "duration": 46,
    "start_time": "2023-01-08T22:40:38.953Z"
   },
   {
    "duration": 57,
    "start_time": "2023-01-08T22:41:00.233Z"
   },
   {
    "duration": 4,
    "start_time": "2023-01-08T22:42:37.649Z"
   },
   {
    "duration": 4,
    "start_time": "2023-01-08T22:42:39.633Z"
   },
   {
    "duration": 3,
    "start_time": "2023-01-08T22:42:42.449Z"
   },
   {
    "duration": 4,
    "start_time": "2023-01-08T22:42:49.169Z"
   },
   {
    "duration": 5,
    "start_time": "2023-01-08T22:42:52.513Z"
   },
   {
    "duration": 4,
    "start_time": "2023-01-08T22:42:59.554Z"
   },
   {
    "duration": 14,
    "start_time": "2023-01-08T23:16:53.393Z"
   },
   {
    "duration": 3,
    "start_time": "2023-01-08T23:16:56.728Z"
   },
   {
    "duration": 4,
    "start_time": "2023-01-08T23:16:58.776Z"
   },
   {
    "duration": 23,
    "start_time": "2023-01-08T23:17:04.313Z"
   },
   {
    "duration": 642,
    "start_time": "2023-01-08T23:17:36.825Z"
   },
   {
    "duration": 515,
    "start_time": "2023-01-08T23:17:42.336Z"
   },
   {
    "duration": 6,
    "start_time": "2023-01-08T23:18:58.120Z"
   },
   {
    "duration": 4,
    "start_time": "2023-01-08T23:18:59.512Z"
   },
   {
    "duration": 14,
    "start_time": "2023-01-08T23:19:01.184Z"
   },
   {
    "duration": 7,
    "start_time": "2023-01-08T23:19:02.905Z"
   },
   {
    "duration": 7,
    "start_time": "2023-01-08T23:19:04.849Z"
   },
   {
    "duration": 4,
    "start_time": "2023-01-09T00:12:20.381Z"
   },
   {
    "duration": 5,
    "start_time": "2023-01-09T00:12:31.061Z"
   },
   {
    "duration": 5,
    "start_time": "2023-01-09T00:12:43.909Z"
   },
   {
    "duration": 5,
    "start_time": "2023-01-09T00:13:11.661Z"
   },
   {
    "duration": 5,
    "start_time": "2023-01-09T00:13:22.533Z"
   },
   {
    "duration": 5,
    "start_time": "2023-01-09T00:13:47.157Z"
   },
   {
    "duration": 4,
    "start_time": "2023-01-09T00:13:55.805Z"
   },
   {
    "duration": 4,
    "start_time": "2023-01-09T00:14:08.022Z"
   },
   {
    "duration": 5,
    "start_time": "2023-01-09T00:14:11.573Z"
   },
   {
    "duration": 5,
    "start_time": "2023-01-09T00:15:24.414Z"
   },
   {
    "duration": 4,
    "start_time": "2023-01-09T00:15:31.430Z"
   },
   {
    "duration": 4,
    "start_time": "2023-01-09T00:15:47.334Z"
   },
   {
    "duration": 7,
    "start_time": "2023-01-09T00:17:41.433Z"
   },
   {
    "duration": 14,
    "start_time": "2023-01-09T00:17:48.471Z"
   },
   {
    "duration": 13,
    "start_time": "2023-01-09T00:17:56.587Z"
   },
   {
    "duration": 12,
    "start_time": "2023-01-09T00:18:13.919Z"
   },
   {
    "duration": 11,
    "start_time": "2023-01-09T00:18:30.183Z"
   },
   {
    "duration": 8,
    "start_time": "2023-01-09T00:20:57.440Z"
   },
   {
    "duration": 6,
    "start_time": "2023-01-09T00:21:04.343Z"
   },
   {
    "duration": 309,
    "start_time": "2023-01-09T00:21:35.000Z"
   },
   {
    "duration": 46,
    "start_time": "2023-01-09T00:21:47.232Z"
   },
   {
    "duration": 50,
    "start_time": "2023-01-09T00:22:03.031Z"
   },
   {
    "duration": 10,
    "start_time": "2023-01-09T00:23:02.592Z"
   },
   {
    "duration": 9,
    "start_time": "2023-01-09T00:23:13.168Z"
   },
   {
    "duration": 257,
    "start_time": "2023-01-09T00:23:42.143Z"
   },
   {
    "duration": 250,
    "start_time": "2023-01-09T00:23:52.440Z"
   },
   {
    "duration": 313,
    "start_time": "2023-01-09T00:24:00.752Z"
   },
   {
    "duration": 273,
    "start_time": "2023-01-09T00:24:10.328Z"
   },
   {
    "duration": 10,
    "start_time": "2023-01-09T00:24:31.728Z"
   },
   {
    "duration": 11,
    "start_time": "2023-01-09T00:24:33.848Z"
   },
   {
    "duration": 18,
    "start_time": "2023-01-09T00:25:02.440Z"
   },
   {
    "duration": 11,
    "start_time": "2023-01-09T00:25:22.369Z"
   },
   {
    "duration": 17,
    "start_time": "2023-01-09T00:27:01.033Z"
   },
   {
    "duration": 12,
    "start_time": "2023-01-09T00:27:02.920Z"
   },
   {
    "duration": 11,
    "start_time": "2023-01-09T00:27:13.272Z"
   },
   {
    "duration": 10,
    "start_time": "2023-01-09T00:27:16.512Z"
   },
   {
    "duration": 294,
    "start_time": "2023-01-09T00:27:45.169Z"
   },
   {
    "duration": 292,
    "start_time": "2023-01-09T00:28:14.857Z"
   },
   {
    "duration": 356,
    "start_time": "2023-01-09T00:28:48.809Z"
   },
   {
    "duration": 258,
    "start_time": "2023-01-09T00:28:55.297Z"
   },
   {
    "duration": 255,
    "start_time": "2023-01-09T00:29:15.209Z"
   },
   {
    "duration": 8,
    "start_time": "2023-01-09T00:29:28.850Z"
   },
   {
    "duration": 13,
    "start_time": "2023-01-09T00:29:43.328Z"
   },
   {
    "duration": 10,
    "start_time": "2023-01-09T00:30:04.209Z"
   },
   {
    "duration": 11,
    "start_time": "2023-01-09T00:30:09.865Z"
   },
   {
    "duration": 10,
    "start_time": "2023-01-09T00:30:18.745Z"
   },
   {
    "duration": 283,
    "start_time": "2023-01-09T00:30:24.681Z"
   },
   {
    "duration": 231,
    "start_time": "2023-01-09T00:30:45.034Z"
   },
   {
    "duration": 53,
    "start_time": "2023-01-09T00:31:40.209Z"
   },
   {
    "duration": 47,
    "start_time": "2023-01-09T00:31:46.634Z"
   },
   {
    "duration": 6,
    "start_time": "2023-01-09T00:31:59.699Z"
   },
   {
    "duration": 6,
    "start_time": "2023-01-09T00:32:26.249Z"
   },
   {
    "duration": 286,
    "start_time": "2023-01-09T00:32:52.394Z"
   },
   {
    "duration": 14,
    "start_time": "2023-01-09T00:33:01.868Z"
   },
   {
    "duration": 4,
    "start_time": "2023-01-09T00:33:23.403Z"
   },
   {
    "duration": 4,
    "start_time": "2023-01-09T00:33:27.258Z"
   },
   {
    "duration": 9,
    "start_time": "2023-01-09T00:33:32.282Z"
   },
   {
    "duration": 9,
    "start_time": "2023-01-09T00:33:34.505Z"
   },
   {
    "duration": 5,
    "start_time": "2023-01-09T00:33:39.674Z"
   },
   {
    "duration": 115,
    "start_time": "2023-01-09T00:33:51.105Z"
   },
   {
    "duration": 102,
    "start_time": "2023-01-09T00:33:59.506Z"
   },
   {
    "duration": 103,
    "start_time": "2023-01-09T00:34:13.107Z"
   },
   {
    "duration": 105,
    "start_time": "2023-01-09T00:34:20.498Z"
   },
   {
    "duration": 9,
    "start_time": "2023-01-09T00:34:45.210Z"
   },
   {
    "duration": 4,
    "start_time": "2023-01-09T00:34:48.946Z"
   },
   {
    "duration": 109,
    "start_time": "2023-01-09T00:34:50.490Z"
   },
   {
    "duration": 110,
    "start_time": "2023-01-09T00:34:55.899Z"
   },
   {
    "duration": 124,
    "start_time": "2023-01-09T00:35:05.857Z"
   },
   {
    "duration": 4,
    "start_time": "2023-01-09T00:35:36.131Z"
   },
   {
    "duration": 3,
    "start_time": "2023-01-09T00:35:49.738Z"
   },
   {
    "duration": 4,
    "start_time": "2023-01-09T00:35:56.434Z"
   },
   {
    "duration": 5,
    "start_time": "2023-01-09T00:36:15.587Z"
   },
   {
    "duration": 4,
    "start_time": "2023-01-09T00:36:33.266Z"
   },
   {
    "duration": 4,
    "start_time": "2023-01-09T00:36:56.516Z"
   },
   {
    "duration": 3,
    "start_time": "2023-01-09T00:37:09.115Z"
   },
   {
    "duration": 7,
    "start_time": "2023-01-09T00:41:43.644Z"
   },
   {
    "duration": 13,
    "start_time": "2023-01-09T00:41:50.755Z"
   },
   {
    "duration": 11,
    "start_time": "2023-01-09T00:42:04.126Z"
   },
   {
    "duration": 12,
    "start_time": "2023-01-09T00:42:24.828Z"
   },
   {
    "duration": 7,
    "start_time": "2023-01-09T00:43:20.173Z"
   },
   {
    "duration": 6,
    "start_time": "2023-01-09T00:43:25.724Z"
   },
   {
    "duration": 94,
    "start_time": "2023-01-09T00:43:55.485Z"
   },
   {
    "duration": 33,
    "start_time": "2023-01-09T00:44:04.748Z"
   },
   {
    "duration": 17,
    "start_time": "2023-01-09T00:44:31.021Z"
   },
   {
    "duration": 9,
    "start_time": "2023-01-09T00:44:40.029Z"
   },
   {
    "duration": 8,
    "start_time": "2023-01-09T00:45:23.357Z"
   },
   {
    "duration": 8,
    "start_time": "2023-01-09T00:45:25.085Z"
   },
   {
    "duration": 18,
    "start_time": "2023-01-09T00:45:34.629Z"
   },
   {
    "duration": 17,
    "start_time": "2023-01-09T00:45:37.461Z"
   },
   {
    "duration": 10,
    "start_time": "2023-01-09T00:45:43.509Z"
   },
   {
    "duration": 12,
    "start_time": "2023-01-09T00:45:54.341Z"
   },
   {
    "duration": 11,
    "start_time": "2023-01-09T00:46:30.541Z"
   },
   {
    "duration": 10,
    "start_time": "2023-01-09T00:46:33.053Z"
   },
   {
    "duration": 14,
    "start_time": "2023-01-09T00:46:57.861Z"
   },
   {
    "duration": 13,
    "start_time": "2023-01-09T00:47:00.221Z"
   },
   {
    "duration": 6,
    "start_time": "2023-01-09T00:47:39.926Z"
   },
   {
    "duration": 5,
    "start_time": "2023-01-09T00:47:52.637Z"
   },
   {
    "duration": 5,
    "start_time": "2023-01-09T00:48:00.606Z"
   },
   {
    "duration": 4,
    "start_time": "2023-01-09T00:48:04.845Z"
   },
   {
    "duration": 4,
    "start_time": "2023-01-09T00:48:11.117Z"
   },
   {
    "duration": 10,
    "start_time": "2023-01-09T00:48:35.701Z"
   },
   {
    "duration": 5,
    "start_time": "2023-01-09T00:48:52.053Z"
   },
   {
    "duration": 4,
    "start_time": "2023-01-09T00:48:56.750Z"
   },
   {
    "duration": 5,
    "start_time": "2023-01-09T00:48:58.982Z"
   },
   {
    "duration": 5,
    "start_time": "2023-01-09T00:49:01.398Z"
   },
   {
    "duration": 4,
    "start_time": "2023-01-09T00:49:03.630Z"
   },
   {
    "duration": 4,
    "start_time": "2023-01-09T00:49:06.238Z"
   },
   {
    "duration": 4,
    "start_time": "2023-01-09T00:49:11.406Z"
   },
   {
    "duration": 5,
    "start_time": "2023-01-09T00:49:14.030Z"
   },
   {
    "duration": 83,
    "start_time": "2023-01-09T00:49:30.397Z"
   },
   {
    "duration": 10,
    "start_time": "2023-01-09T00:50:08.045Z"
   },
   {
    "duration": 14,
    "start_time": "2023-01-09T00:50:25.429Z"
   },
   {
    "duration": 12,
    "start_time": "2023-01-09T00:50:35.085Z"
   },
   {
    "duration": 10,
    "start_time": "2023-01-09T00:51:02.390Z"
   },
   {
    "duration": 11,
    "start_time": "2023-01-09T00:51:12.334Z"
   },
   {
    "duration": 10,
    "start_time": "2023-01-09T00:51:15.166Z"
   },
   {
    "duration": 248,
    "start_time": "2023-01-09T00:51:32.007Z"
   },
   {
    "duration": 326,
    "start_time": "2023-01-09T00:51:46.240Z"
   },
   {
    "duration": 228,
    "start_time": "2023-01-09T00:52:07.135Z"
   },
   {
    "duration": 255,
    "start_time": "2023-01-09T00:52:14.607Z"
   },
   {
    "duration": 239,
    "start_time": "2023-01-09T00:52:18.526Z"
   },
   {
    "duration": 245,
    "start_time": "2023-01-09T00:53:05.934Z"
   },
   {
    "duration": 297,
    "start_time": "2023-01-09T00:53:09.486Z"
   },
   {
    "duration": 10,
    "start_time": "2023-01-09T00:54:07.455Z"
   },
   {
    "duration": 8,
    "start_time": "2023-01-09T00:54:16.527Z"
   },
   {
    "duration": 11,
    "start_time": "2023-01-09T00:54:23.071Z"
   },
   {
    "duration": 11,
    "start_time": "2023-01-09T00:54:32.632Z"
   },
   {
    "duration": 9,
    "start_time": "2023-01-09T00:54:43.479Z"
   },
   {
    "duration": 11,
    "start_time": "2023-01-09T00:54:52.999Z"
   },
   {
    "duration": 8,
    "start_time": "2023-01-09T00:55:09.215Z"
   },
   {
    "duration": 10,
    "start_time": "2023-01-09T00:55:14.816Z"
   },
   {
    "duration": 10,
    "start_time": "2023-01-09T00:55:37.520Z"
   },
   {
    "duration": 9,
    "start_time": "2023-01-09T00:55:53.728Z"
   },
   {
    "duration": 11,
    "start_time": "2023-01-09T00:56:02.830Z"
   },
   {
    "duration": 9,
    "start_time": "2023-01-09T00:56:35.368Z"
   },
   {
    "duration": 13,
    "start_time": "2023-01-09T00:56:40.471Z"
   },
   {
    "duration": 8,
    "start_time": "2023-01-09T00:56:59.479Z"
   },
   {
    "duration": 13,
    "start_time": "2023-01-09T00:57:04.847Z"
   },
   {
    "duration": 11,
    "start_time": "2023-01-09T00:57:48.113Z"
   },
   {
    "duration": 11,
    "start_time": "2023-01-09T00:57:52.920Z"
   },
   {
    "duration": 1524,
    "start_time": "2023-01-09T12:29:30.689Z"
   },
   {
    "duration": 873,
    "start_time": "2023-01-09T12:29:32.215Z"
   },
   {
    "duration": 49,
    "start_time": "2023-01-09T12:29:33.090Z"
   },
   {
    "duration": 0,
    "start_time": "2023-01-09T12:29:33.141Z"
   },
   {
    "duration": 0,
    "start_time": "2023-01-09T12:29:33.143Z"
   },
   {
    "duration": 0,
    "start_time": "2023-01-09T12:29:33.144Z"
   },
   {
    "duration": 0,
    "start_time": "2023-01-09T12:29:33.146Z"
   },
   {
    "duration": 0,
    "start_time": "2023-01-09T12:29:33.147Z"
   },
   {
    "duration": 0,
    "start_time": "2023-01-09T12:29:33.148Z"
   },
   {
    "duration": 0,
    "start_time": "2023-01-09T12:29:33.150Z"
   },
   {
    "duration": 0,
    "start_time": "2023-01-09T12:29:33.150Z"
   },
   {
    "duration": 0,
    "start_time": "2023-01-09T12:29:33.152Z"
   },
   {
    "duration": 0,
    "start_time": "2023-01-09T12:29:33.153Z"
   },
   {
    "duration": 0,
    "start_time": "2023-01-09T12:29:33.154Z"
   },
   {
    "duration": 111,
    "start_time": "2023-01-09T12:32:50.034Z"
   },
   {
    "duration": 3,
    "start_time": "2023-01-09T12:32:55.543Z"
   },
   {
    "duration": 873,
    "start_time": "2023-01-09T12:32:55.550Z"
   },
   {
    "duration": 53,
    "start_time": "2023-01-09T12:32:56.426Z"
   },
   {
    "duration": 0,
    "start_time": "2023-01-09T12:32:56.481Z"
   },
   {
    "duration": 0,
    "start_time": "2023-01-09T12:32:56.482Z"
   },
   {
    "duration": 0,
    "start_time": "2023-01-09T12:32:56.484Z"
   },
   {
    "duration": 0,
    "start_time": "2023-01-09T12:32:56.486Z"
   },
   {
    "duration": 0,
    "start_time": "2023-01-09T12:32:56.487Z"
   },
   {
    "duration": 0,
    "start_time": "2023-01-09T12:32:56.488Z"
   },
   {
    "duration": 0,
    "start_time": "2023-01-09T12:32:56.490Z"
   },
   {
    "duration": 0,
    "start_time": "2023-01-09T12:32:56.491Z"
   },
   {
    "duration": 0,
    "start_time": "2023-01-09T12:32:56.492Z"
   },
   {
    "duration": 0,
    "start_time": "2023-01-09T12:32:56.494Z"
   },
   {
    "duration": 0,
    "start_time": "2023-01-09T12:32:56.495Z"
   },
   {
    "duration": 9,
    "start_time": "2023-01-09T12:33:02.274Z"
   },
   {
    "duration": 3,
    "start_time": "2023-01-09T12:33:11.822Z"
   },
   {
    "duration": 809,
    "start_time": "2023-01-09T12:33:11.843Z"
   },
   {
    "duration": 58,
    "start_time": "2023-01-09T12:33:12.654Z"
   },
   {
    "duration": 0,
    "start_time": "2023-01-09T12:33:12.714Z"
   },
   {
    "duration": 0,
    "start_time": "2023-01-09T12:33:12.715Z"
   },
   {
    "duration": 0,
    "start_time": "2023-01-09T12:33:12.716Z"
   },
   {
    "duration": 0,
    "start_time": "2023-01-09T12:33:12.717Z"
   },
   {
    "duration": 0,
    "start_time": "2023-01-09T12:33:12.718Z"
   },
   {
    "duration": 0,
    "start_time": "2023-01-09T12:33:12.719Z"
   },
   {
    "duration": 4,
    "start_time": "2023-01-09T12:33:19.597Z"
   },
   {
    "duration": 800,
    "start_time": "2023-01-09T12:33:19.605Z"
   },
   {
    "duration": 46,
    "start_time": "2023-01-09T12:33:20.416Z"
   },
   {
    "duration": 0,
    "start_time": "2023-01-09T12:33:20.463Z"
   },
   {
    "duration": 0,
    "start_time": "2023-01-09T12:33:20.465Z"
   },
   {
    "duration": 0,
    "start_time": "2023-01-09T12:33:20.466Z"
   },
   {
    "duration": 0,
    "start_time": "2023-01-09T12:33:20.467Z"
   },
   {
    "duration": 0,
    "start_time": "2023-01-09T12:33:20.468Z"
   },
   {
    "duration": 0,
    "start_time": "2023-01-09T12:33:20.469Z"
   },
   {
    "duration": 0,
    "start_time": "2023-01-09T12:33:20.470Z"
   },
   {
    "duration": 0,
    "start_time": "2023-01-09T12:33:20.471Z"
   },
   {
    "duration": 0,
    "start_time": "2023-01-09T12:33:20.472Z"
   },
   {
    "duration": 0,
    "start_time": "2023-01-09T12:33:20.473Z"
   },
   {
    "duration": 0,
    "start_time": "2023-01-09T12:33:20.474Z"
   },
   {
    "duration": 0,
    "start_time": "2023-01-09T12:33:20.475Z"
   },
   {
    "duration": 0,
    "start_time": "2023-01-09T12:33:20.477Z"
   },
   {
    "duration": 72,
    "start_time": "2023-01-09T12:33:49.420Z"
   },
   {
    "duration": 4,
    "start_time": "2023-01-09T12:33:57.947Z"
   },
   {
    "duration": 3,
    "start_time": "2023-01-09T12:34:08.927Z"
   },
   {
    "duration": 861,
    "start_time": "2023-01-09T12:34:08.938Z"
   },
   {
    "duration": 15,
    "start_time": "2023-01-09T12:34:09.801Z"
   },
   {
    "duration": 16,
    "start_time": "2023-01-09T12:34:09.818Z"
   },
   {
    "duration": 188,
    "start_time": "2023-01-09T12:34:09.836Z"
   },
   {
    "duration": 189,
    "start_time": "2023-01-09T12:34:10.027Z"
   },
   {
    "duration": 30,
    "start_time": "2023-01-09T12:34:10.218Z"
   },
   {
    "duration": 576,
    "start_time": "2023-01-09T12:34:10.250Z"
   },
   {
    "duration": 481,
    "start_time": "2023-01-09T12:34:10.827Z"
   },
   {
    "duration": 8,
    "start_time": "2023-01-09T12:34:11.310Z"
   },
   {
    "duration": 7,
    "start_time": "2023-01-09T12:34:11.319Z"
   },
   {
    "duration": 38,
    "start_time": "2023-01-09T12:34:11.327Z"
   },
   {
    "duration": 7,
    "start_time": "2023-01-09T12:34:11.367Z"
   },
   {
    "duration": 8,
    "start_time": "2023-01-09T12:34:11.375Z"
   },
   {
    "duration": 4,
    "start_time": "2023-01-09T12:34:13.290Z"
   },
   {
    "duration": 3,
    "start_time": "2023-01-09T12:34:15.098Z"
   },
   {
    "duration": 2,
    "start_time": "2023-01-09T12:35:16.148Z"
   },
   {
    "duration": 5,
    "start_time": "2023-01-09T12:35:19.066Z"
   },
   {
    "duration": 5,
    "start_time": "2023-01-09T12:35:34.531Z"
   },
   {
    "duration": 8,
    "start_time": "2023-01-09T12:35:53.563Z"
   },
   {
    "duration": 5,
    "start_time": "2023-01-09T12:35:57.626Z"
   },
   {
    "duration": 7,
    "start_time": "2023-01-09T12:58:22.144Z"
   },
   {
    "duration": 6,
    "start_time": "2023-01-09T12:58:26.920Z"
   },
   {
    "duration": 1856,
    "start_time": "2023-01-09T13:58:36.683Z"
   },
   {
    "duration": 826,
    "start_time": "2023-01-09T13:58:38.541Z"
   },
   {
    "duration": 3,
    "start_time": "2023-01-09T13:58:39.369Z"
   },
   {
    "duration": 19,
    "start_time": "2023-01-09T13:58:39.374Z"
   },
   {
    "duration": 32,
    "start_time": "2023-01-09T13:58:39.395Z"
   },
   {
    "duration": 101,
    "start_time": "2023-01-09T13:58:39.428Z"
   },
   {
    "duration": 27,
    "start_time": "2023-01-09T13:58:39.531Z"
   },
   {
    "duration": 619,
    "start_time": "2023-01-09T13:58:39.559Z"
   },
   {
    "duration": 515,
    "start_time": "2023-01-09T13:58:40.180Z"
   },
   {
    "duration": 6,
    "start_time": "2023-01-09T13:58:40.697Z"
   },
   {
    "duration": 14,
    "start_time": "2023-01-09T13:58:40.704Z"
   },
   {
    "duration": 21,
    "start_time": "2023-01-09T13:58:40.719Z"
   },
   {
    "duration": 8,
    "start_time": "2023-01-09T13:58:40.741Z"
   },
   {
    "duration": 8,
    "start_time": "2023-01-09T13:58:40.751Z"
   },
   {
    "duration": 8,
    "start_time": "2023-01-09T13:58:40.761Z"
   },
   {
    "duration": 60,
    "start_time": "2023-01-09T13:58:40.770Z"
   },
   {
    "duration": 8,
    "start_time": "2023-01-09T13:58:40.831Z"
   },
   {
    "duration": 105,
    "start_time": "2023-01-09T13:58:40.927Z"
   },
   {
    "duration": 45,
    "start_time": "2023-01-10T00:59:10.884Z"
   },
   {
    "duration": 1513,
    "start_time": "2023-01-10T00:59:15.449Z"
   },
   {
    "duration": 840,
    "start_time": "2023-01-10T00:59:16.964Z"
   },
   {
    "duration": 4,
    "start_time": "2023-01-10T00:59:17.805Z"
   },
   {
    "duration": 16,
    "start_time": "2023-01-10T00:59:17.811Z"
   },
   {
    "duration": 4,
    "start_time": "2023-01-10T00:59:17.828Z"
   },
   {
    "duration": 176,
    "start_time": "2023-01-10T00:59:17.834Z"
   },
   {
    "duration": 31,
    "start_time": "2023-01-10T00:59:18.011Z"
   },
   {
    "duration": 625,
    "start_time": "2023-01-10T00:59:18.043Z"
   },
   {
    "duration": 509,
    "start_time": "2023-01-10T00:59:18.669Z"
   },
   {
    "duration": 5,
    "start_time": "2023-01-10T00:59:19.180Z"
   },
   {
    "duration": 13,
    "start_time": "2023-01-10T00:59:19.187Z"
   },
   {
    "duration": 31,
    "start_time": "2023-01-10T00:59:19.201Z"
   },
   {
    "duration": 15,
    "start_time": "2023-01-10T00:59:19.234Z"
   },
   {
    "duration": 21,
    "start_time": "2023-01-10T00:59:19.251Z"
   },
   {
    "duration": 43,
    "start_time": "2023-01-10T00:59:19.274Z"
   },
   {
    "duration": 13,
    "start_time": "2023-01-10T00:59:19.319Z"
   },
   {
    "duration": 64,
    "start_time": "2023-01-10T00:59:19.335Z"
   },
   {
    "duration": 100,
    "start_time": "2023-01-10T00:59:19.400Z"
   },
   {
    "duration": 66,
    "start_time": "2023-01-10T00:59:20.984Z"
   },
   {
    "duration": 4,
    "start_time": "2023-01-10T00:59:32.240Z"
   },
   {
    "duration": 11,
    "start_time": "2023-01-10T00:59:44.656Z"
   },
   {
    "duration": 5,
    "start_time": "2023-01-10T00:59:54.360Z"
   },
   {
    "duration": 10,
    "start_time": "2023-01-10T01:00:04.569Z"
   },
   {
    "duration": 5,
    "start_time": "2023-01-10T01:00:12.313Z"
   },
   {
    "duration": 9,
    "start_time": "2023-01-10T01:00:19.521Z"
   },
   {
    "duration": 5,
    "start_time": "2023-01-10T01:00:31.641Z"
   },
   {
    "duration": 5,
    "start_time": "2023-01-10T01:00:37.289Z"
   },
   {
    "duration": 4,
    "start_time": "2023-01-10T01:00:50.889Z"
   },
   {
    "duration": 5,
    "start_time": "2023-01-10T01:00:55.344Z"
   },
   {
    "duration": 5,
    "start_time": "2023-01-10T01:01:08.729Z"
   },
   {
    "duration": 5,
    "start_time": "2023-01-10T01:01:12.369Z"
   },
   {
    "duration": 4,
    "start_time": "2023-01-10T01:01:18.249Z"
   },
   {
    "duration": 5,
    "start_time": "2023-01-10T01:01:23.305Z"
   },
   {
    "duration": 7,
    "start_time": "2023-01-10T01:01:26.761Z"
   },
   {
    "duration": 5,
    "start_time": "2023-01-10T01:01:52.114Z"
   },
   {
    "duration": 1437,
    "start_time": "2023-01-10T14:37:38.833Z"
   },
   {
    "duration": 806,
    "start_time": "2023-01-10T14:37:40.273Z"
   },
   {
    "duration": 3,
    "start_time": "2023-01-10T14:37:41.081Z"
   },
   {
    "duration": 27,
    "start_time": "2023-01-10T14:37:41.086Z"
   },
   {
    "duration": 3,
    "start_time": "2023-01-10T14:37:41.115Z"
   },
   {
    "duration": 97,
    "start_time": "2023-01-10T14:37:41.119Z"
   },
   {
    "duration": 117,
    "start_time": "2023-01-10T14:37:41.218Z"
   },
   {
    "duration": 576,
    "start_time": "2023-01-10T14:37:41.337Z"
   },
   {
    "duration": 436,
    "start_time": "2023-01-10T14:37:41.915Z"
   },
   {
    "duration": 5,
    "start_time": "2023-01-10T14:37:42.353Z"
   },
   {
    "duration": 25,
    "start_time": "2023-01-10T14:37:42.360Z"
   },
   {
    "duration": 14,
    "start_time": "2023-01-10T14:37:42.386Z"
   },
   {
    "duration": 10,
    "start_time": "2023-01-10T14:37:42.402Z"
   },
   {
    "duration": 31,
    "start_time": "2023-01-10T14:37:42.413Z"
   },
   {
    "duration": 33,
    "start_time": "2023-01-10T14:37:42.446Z"
   },
   {
    "duration": 35,
    "start_time": "2023-01-10T14:37:42.480Z"
   },
   {
    "duration": 102,
    "start_time": "2023-01-10T14:37:42.517Z"
   },
   {
    "duration": 195,
    "start_time": "2023-01-10T14:37:42.621Z"
   },
   {
    "duration": 99,
    "start_time": "2023-01-10T14:37:42.819Z"
   },
   {
    "duration": 121,
    "start_time": "2023-01-10T14:37:42.920Z"
   },
   {
    "duration": 26,
    "start_time": "2023-01-10T14:37:43.043Z"
   },
   {
    "duration": 4,
    "start_time": "2023-01-10T14:37:54.709Z"
   },
   {
    "duration": 5,
    "start_time": "2023-01-10T14:37:58.125Z"
   },
   {
    "duration": 4,
    "start_time": "2023-01-10T14:38:10.518Z"
   },
   {
    "duration": 3,
    "start_time": "2023-01-10T14:38:16.046Z"
   },
   {
    "duration": 5,
    "start_time": "2023-01-10T14:38:19.045Z"
   },
   {
    "duration": 4,
    "start_time": "2023-01-10T14:40:04.533Z"
   },
   {
    "duration": 4,
    "start_time": "2023-01-10T14:40:10.431Z"
   },
   {
    "duration": 5,
    "start_time": "2023-01-10T14:40:16.678Z"
   },
   {
    "duration": 4,
    "start_time": "2023-01-10T14:40:19.479Z"
   },
   {
    "duration": 4,
    "start_time": "2023-01-10T14:40:25.919Z"
   },
   {
    "duration": 5,
    "start_time": "2023-01-10T14:44:16.893Z"
   },
   {
    "duration": 4,
    "start_time": "2023-01-10T14:44:23.706Z"
   },
   {
    "duration": 163,
    "start_time": "2023-01-10T14:57:53.006Z"
   },
   {
    "duration": 10,
    "start_time": "2023-01-10T14:59:58.720Z"
   },
   {
    "duration": 5,
    "start_time": "2023-01-10T15:01:02.938Z"
   },
   {
    "duration": 8,
    "start_time": "2023-01-10T15:01:42.241Z"
   },
   {
    "duration": 5,
    "start_time": "2023-01-10T15:02:52.080Z"
   },
   {
    "duration": 5,
    "start_time": "2023-01-10T15:03:02.144Z"
   },
   {
    "duration": 97,
    "start_time": "2023-01-10T15:03:12.639Z"
   },
   {
    "duration": 9,
    "start_time": "2023-01-10T15:03:21.232Z"
   },
   {
    "duration": 9,
    "start_time": "2023-01-10T15:03:24.337Z"
   },
   {
    "duration": 4,
    "start_time": "2023-01-10T15:03:41.122Z"
   },
   {
    "duration": 1797,
    "start_time": "2023-01-10T17:46:13.069Z"
   },
   {
    "duration": 971,
    "start_time": "2023-01-10T17:46:14.868Z"
   },
   {
    "duration": 15,
    "start_time": "2023-01-10T17:46:15.840Z"
   },
   {
    "duration": 13,
    "start_time": "2023-01-10T17:46:15.857Z"
   },
   {
    "duration": 11,
    "start_time": "2023-01-10T17:46:15.872Z"
   },
   {
    "duration": 72,
    "start_time": "2023-01-10T17:46:15.885Z"
   },
   {
    "duration": 109,
    "start_time": "2023-01-10T17:46:15.959Z"
   },
   {
    "duration": 694,
    "start_time": "2023-01-10T17:46:16.070Z"
   },
   {
    "duration": 554,
    "start_time": "2023-01-10T17:46:16.766Z"
   },
   {
    "duration": 5,
    "start_time": "2023-01-10T17:46:17.323Z"
   },
   {
    "duration": 8,
    "start_time": "2023-01-10T17:46:17.330Z"
   },
   {
    "duration": 22,
    "start_time": "2023-01-10T17:46:17.340Z"
   },
   {
    "duration": 7,
    "start_time": "2023-01-10T17:46:17.364Z"
   },
   {
    "duration": 7,
    "start_time": "2023-01-10T17:46:17.373Z"
   },
   {
    "duration": 8,
    "start_time": "2023-01-10T17:46:17.381Z"
   },
   {
    "duration": 66,
    "start_time": "2023-01-10T17:46:17.390Z"
   },
   {
    "duration": 100,
    "start_time": "2023-01-10T17:46:17.459Z"
   },
   {
    "duration": 97,
    "start_time": "2023-01-10T17:46:17.563Z"
   },
   {
    "duration": 1671,
    "start_time": "2023-01-10T22:38:27.701Z"
   },
   {
    "duration": 852,
    "start_time": "2023-01-10T22:38:29.374Z"
   },
   {
    "duration": 3,
    "start_time": "2023-01-10T22:38:30.228Z"
   },
   {
    "duration": 33,
    "start_time": "2023-01-10T22:38:30.233Z"
   },
   {
    "duration": 19,
    "start_time": "2023-01-10T22:38:30.267Z"
   },
   {
    "duration": 15,
    "start_time": "2023-01-10T22:38:30.288Z"
   },
   {
    "duration": 182,
    "start_time": "2023-01-10T22:38:30.305Z"
   },
   {
    "duration": 634,
    "start_time": "2023-01-10T22:38:30.489Z"
   },
   {
    "duration": 496,
    "start_time": "2023-01-10T22:38:31.125Z"
   },
   {
    "duration": 5,
    "start_time": "2023-01-10T22:38:31.623Z"
   },
   {
    "duration": 19,
    "start_time": "2023-01-10T22:38:31.630Z"
   },
   {
    "duration": 23,
    "start_time": "2023-01-10T22:38:31.651Z"
   },
   {
    "duration": 7,
    "start_time": "2023-01-10T22:38:31.676Z"
   },
   {
    "duration": 6,
    "start_time": "2023-01-10T22:38:31.684Z"
   },
   {
    "duration": 5,
    "start_time": "2023-01-10T22:38:31.692Z"
   },
   {
    "duration": 83,
    "start_time": "2023-01-10T22:38:31.698Z"
   },
   {
    "duration": 9,
    "start_time": "2023-01-10T22:38:31.783Z"
   },
   {
    "duration": 103,
    "start_time": "2023-01-10T22:38:31.882Z"
   }
  ],
  "celltoolbar": "Отсутствует",
  "kernelspec": {
   "display_name": "Python 3 (ipykernel)",
   "language": "python",
   "name": "python3"
  },
  "language_info": {
   "codemirror_mode": {
    "name": "ipython",
    "version": 3
   },
   "file_extension": ".py",
   "mimetype": "text/x-python",
   "name": "python",
   "nbconvert_exporter": "python",
   "pygments_lexer": "ipython3",
   "version": "3.9.5"
  },
  "toc": {
   "base_numbering": 1,
   "nav_menu": {},
   "number_sections": true,
   "sideBar": true,
   "skip_h1_title": true,
   "title_cell": "Содержание",
   "title_sidebar": "Contents",
   "toc_cell": true,
   "toc_position": {},
   "toc_section_display": true,
   "toc_window_display": true
  }
 },
 "nbformat": 4,
 "nbformat_minor": 2
}
