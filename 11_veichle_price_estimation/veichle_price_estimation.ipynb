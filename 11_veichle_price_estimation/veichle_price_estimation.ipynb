{
 "cells": [
  {
   "cell_type": "markdown",
   "metadata": {},
   "source": [
    "Привет!) Меня зовут Дуолан 👋 Буду проверять твой проект. Давай вместе доведем его до идеала 😉\n",
    "<br> Дальнейшее общение будет происходить на «ты», если это не вызывает никаких проблем.\n",
    "<br> Желательно реагировать на каждый мой комментарий («исправил», «не понятно как исправить ошибку», ...)\n",
    "<br> Пожалуйста, не удаляй мои комментарии, они будут необходимы для повторного ревью.\n",
    "\n",
    "Комментарии будут в <font color='green'>зеленой</font>, <font color='blue'>синей</font> или <font color='red'>красной</font> рамках:\n",
    "\n",
    "<div class=\"alert alert-block alert-success\">\n",
    "<b>✔️ Успех:</b> Если все сделано отлично\n",
    "</div>\n",
    "\n",
    "<div class=\"alert alert-block alert-warning\">\n",
    "<b>⚠️ Совет:</b> Если можно немного улучшить\n",
    "</div>\n",
    "\n",
    "<div class=\"alert alert-block alert-danger\">\n",
    "<b>❌ Замечание:</b> Если требуются исправления\n",
    "</div>\n",
    "\n",
    "Работа не может быть принята с красными комментариями.\n",
    "\n",
    "-------------------\n",
    "\n",
    "Будет очень хорошо, если ты будешь помечать свои действия следующим образом:\n",
    "\n",
    "<div class=\"alert alert-block alert-info\">\n",
    "<b>Комментарий студента:</b> ...\n",
    "</div>\n",
    "\n",
    "<div class=\"alert alert-block alert-info\">\n",
    "<b>Изменения:</b> Были внесены следующие изменения ...\n",
    "</div>\n",
    "\n",
    "\n",
    "\n",
    "<div class=\"alert alert-block alert-info\">\n",
    "<b>Комментарий студента:</b> \n",
    "Добрый день, Дуолан) Рад слышать тебя снова. Мы ранее общались на одном из предыдущих проектов.\n",
    "    \n",
    "Благодарю за подробный разбор и комментарии.\n",
    "    \n",
    "Под каждым комментарием я написал, что исправил и в каком пункте искать.\n",
    "    \n",
    "Здесь также перечислю:\n",
    "    \n",
    "    - 3.1.1. OHE заменил на OrdinalEncoder, обученный только на трэйне.\n",
    "    - 3.2.1. Для LightGBM использовал перевод категориальных признаков в тип category\n",
    "    - 3.3.1. StandardScaler был мною использован изначально, возможно там что-то не так? \n",
    "    - И естественно вывод скорректирован в соответствии с изменением полученных значений.\n",
    "\n",
    "\n",
    "</div>"
   ]
  },
  {
   "cell_type": "markdown",
   "metadata": {},
   "source": [
    "<div class=\"alert alert-block alert-success\">\n",
    "<b>V2 ✔️</b>\n",
    "    \n",
    "Привет! Тоже рад тебя видеть)\n",
    "</div>"
   ]
  },
  {
   "cell_type": "markdown",
   "metadata": {},
   "source": [
    "# Определение стоимости автомобилей"
   ]
  },
  {
   "cell_type": "markdown",
   "metadata": {},
   "source": [
    "Сервис по продаже автомобилей с пробегом «Не бит, не крашен» разрабатывает приложение для привлечения новых клиентов. В нём можно быстро узнать рыночную стоимость своего автомобиля. В вашем распоряжении исторические данные: технические характеристики, комплектации и цены автомобилей. Вам нужно построить модель для определения стоимости. \n",
    "\n",
    "Заказчику важны:\n",
    "\n",
    "- качество предсказания;\n",
    "- скорость предсказания;\n",
    "- время обучения."
   ]
  },
  {
   "cell_type": "markdown",
   "metadata": {},
   "source": [
    "## Описание проекта\n",
    "Сервис по продаже автомобилей с пробегом «Не бит, не крашен» разрабатывает приложение, чтобы привлечь новых клиентов. В нём можно будет узнать рыночную стоимость своего автомобиля. \n",
    "\n",
    "Постройте модель, которая умеет её определять. В вашем распоряжении данные о технических характеристиках, комплектации и ценах других автомобилей.\n",
    "\n",
    "Критерии, которые важны заказчику:\n",
    "- качество предсказания;\n",
    "- время обучения модели;\n",
    "- время предсказания модели.\n",
    "\n",
    "\n",
    "### Цель исследования:\n",
    "- Построить модель, способную определять рыночную стоимость автомобиля.\n",
    "\n",
    "### Задачи исследования:\n",
    "- Изучить предоставленные данные и произвести предварительную обработку;\n",
    "- Подготовить выюорки для обучения и тестирования моделей;\n",
    "- Обучить модели ML, в том числе LightGBM.\n",
    "- Проанализировать время обучения, время предсказания и качество моделей по показателю RMSE;\n",
    "- Выбрать лучшую модель.\n",
    "\n",
    "\n",
    "### Описание данных\n",
    "- Данные находятся в файле /datasets/autos.csv\n",
    "- Признаки\n",
    "    - DateCrawled — дата скачивания анкеты из базы;\n",
    "    - VehicleType — тип автомобильного кузова;\n",
    "    - RegistrationYear — год регистрации автомобиля;\n",
    "    - Gearbox — тип коробки передач;\n",
    "    - Power — мощность (л. с.);\n",
    "    - Model — модель автомобиля;\n",
    "    - Kilometer — пробег (км);\n",
    "    - RegistrationMonth — месяц регистрации автомобиля;\n",
    "    - FuelType — тип топлива;\n",
    "    - Brand — марка автомобиля;\n",
    "    - Repaired — была машина в ремонте или нет;\n",
    "    - DateCreated — дата создания анкеты;\n",
    "    - NumberOfPictures — количество фотографий автомобиля;\n",
    "    - PostalCode — почтовый индекс владельца анкеты (пользователя);\n",
    "    - LastSeen — дата последней активности пользователя.\n",
    "\n",
    "- Целевой признак\n",
    "    - Price — цена (евро)."
   ]
  },
  {
   "cell_type": "markdown",
   "metadata": {},
   "source": [
    "<div class=\"alert alert-block alert-success\">\n",
    "<b>Успех:</b> \n",
    "\n",
    "Отличное введение 👍 Важно чтобы в проектах было подробное описание: когда потенциальные работодатели будут смотреть твой проект в портфолио, им нужно будет понимать задачу, чтобы можно было оценить её решение :)\n",
    "</div>"
   ]
  },
  {
   "cell_type": "markdown",
   "metadata": {},
   "source": [
    "## Подготовка данных\n",
    "### Импорт библиотек"
   ]
  },
  {
   "cell_type": "code",
   "execution_count": 55,
   "metadata": {},
   "outputs": [],
   "source": [
    "import pandas as pd\n",
    "import numpy as np\n",
    "from sklearn.metrics import mean_squared_error\n",
    "from sklearn.ensemble import RandomForestRegressor\n",
    "from sklearn.model_selection import GridSearchCV, train_test_split, cross_validate\n",
    "from sklearn.preprocessing import StandardScaler, OrdinalEncoder\n",
    "from sklearn.linear_model import LinearRegression\n",
    "\n",
    "from lightgbm import LGBMRegressor"
   ]
  },
  {
   "cell_type": "markdown",
   "metadata": {},
   "source": [
    "### Загрузка датасета"
   ]
  },
  {
   "cell_type": "code",
   "execution_count": 56,
   "metadata": {
    "scrolled": true
   },
   "outputs": [],
   "source": [
    "data = pd.read_csv('/datasets/autos.csv')\n"
   ]
  },
  {
   "cell_type": "markdown",
   "metadata": {},
   "source": [
    "### Предварительная обработка данных\n",
    "#### Информация и осмотр датасета"
   ]
  },
  {
   "cell_type": "code",
   "execution_count": 57,
   "metadata": {
    "scrolled": false
   },
   "outputs": [
    {
     "name": "stdout",
     "output_type": "stream",
     "text": [
      "<class 'pandas.core.frame.DataFrame'>\n",
      "RangeIndex: 354369 entries, 0 to 354368\n",
      "Data columns (total 16 columns):\n",
      " #   Column             Non-Null Count   Dtype \n",
      "---  ------             --------------   ----- \n",
      " 0   DateCrawled        354369 non-null  object\n",
      " 1   Price              354369 non-null  int64 \n",
      " 2   VehicleType        316879 non-null  object\n",
      " 3   RegistrationYear   354369 non-null  int64 \n",
      " 4   Gearbox            334536 non-null  object\n",
      " 5   Power              354369 non-null  int64 \n",
      " 6   Model              334664 non-null  object\n",
      " 7   Kilometer          354369 non-null  int64 \n",
      " 8   RegistrationMonth  354369 non-null  int64 \n",
      " 9   FuelType           321474 non-null  object\n",
      " 10  Brand              354369 non-null  object\n",
      " 11  Repaired           283215 non-null  object\n",
      " 12  DateCreated        354369 non-null  object\n",
      " 13  NumberOfPictures   354369 non-null  int64 \n",
      " 14  PostalCode         354369 non-null  int64 \n",
      " 15  LastSeen           354369 non-null  object\n",
      "dtypes: int64(7), object(9)\n",
      "memory usage: 43.3+ MB\n"
     ]
    },
    {
     "data": {
      "text/html": [
       "<div>\n",
       "<style scoped>\n",
       "    .dataframe tbody tr th:only-of-type {\n",
       "        vertical-align: middle;\n",
       "    }\n",
       "\n",
       "    .dataframe tbody tr th {\n",
       "        vertical-align: top;\n",
       "    }\n",
       "\n",
       "    .dataframe thead th {\n",
       "        text-align: right;\n",
       "    }\n",
       "</style>\n",
       "<table border=\"1\" class=\"dataframe\">\n",
       "  <thead>\n",
       "    <tr style=\"text-align: right;\">\n",
       "      <th></th>\n",
       "      <th>DateCrawled</th>\n",
       "      <th>Price</th>\n",
       "      <th>VehicleType</th>\n",
       "      <th>RegistrationYear</th>\n",
       "      <th>Gearbox</th>\n",
       "      <th>Power</th>\n",
       "      <th>Model</th>\n",
       "      <th>Kilometer</th>\n",
       "      <th>RegistrationMonth</th>\n",
       "      <th>FuelType</th>\n",
       "      <th>Brand</th>\n",
       "      <th>Repaired</th>\n",
       "      <th>DateCreated</th>\n",
       "      <th>NumberOfPictures</th>\n",
       "      <th>PostalCode</th>\n",
       "      <th>LastSeen</th>\n",
       "    </tr>\n",
       "  </thead>\n",
       "  <tbody>\n",
       "    <tr>\n",
       "      <th>0</th>\n",
       "      <td>2016-03-24 11:52:17</td>\n",
       "      <td>480</td>\n",
       "      <td>NaN</td>\n",
       "      <td>1993</td>\n",
       "      <td>manual</td>\n",
       "      <td>0</td>\n",
       "      <td>golf</td>\n",
       "      <td>150000</td>\n",
       "      <td>0</td>\n",
       "      <td>petrol</td>\n",
       "      <td>volkswagen</td>\n",
       "      <td>NaN</td>\n",
       "      <td>2016-03-24 00:00:00</td>\n",
       "      <td>0</td>\n",
       "      <td>70435</td>\n",
       "      <td>2016-04-07 03:16:57</td>\n",
       "    </tr>\n",
       "    <tr>\n",
       "      <th>1</th>\n",
       "      <td>2016-03-24 10:58:45</td>\n",
       "      <td>18300</td>\n",
       "      <td>coupe</td>\n",
       "      <td>2011</td>\n",
       "      <td>manual</td>\n",
       "      <td>190</td>\n",
       "      <td>NaN</td>\n",
       "      <td>125000</td>\n",
       "      <td>5</td>\n",
       "      <td>gasoline</td>\n",
       "      <td>audi</td>\n",
       "      <td>yes</td>\n",
       "      <td>2016-03-24 00:00:00</td>\n",
       "      <td>0</td>\n",
       "      <td>66954</td>\n",
       "      <td>2016-04-07 01:46:50</td>\n",
       "    </tr>\n",
       "    <tr>\n",
       "      <th>2</th>\n",
       "      <td>2016-03-14 12:52:21</td>\n",
       "      <td>9800</td>\n",
       "      <td>suv</td>\n",
       "      <td>2004</td>\n",
       "      <td>auto</td>\n",
       "      <td>163</td>\n",
       "      <td>grand</td>\n",
       "      <td>125000</td>\n",
       "      <td>8</td>\n",
       "      <td>gasoline</td>\n",
       "      <td>jeep</td>\n",
       "      <td>NaN</td>\n",
       "      <td>2016-03-14 00:00:00</td>\n",
       "      <td>0</td>\n",
       "      <td>90480</td>\n",
       "      <td>2016-04-05 12:47:46</td>\n",
       "    </tr>\n",
       "    <tr>\n",
       "      <th>3</th>\n",
       "      <td>2016-03-17 16:54:04</td>\n",
       "      <td>1500</td>\n",
       "      <td>small</td>\n",
       "      <td>2001</td>\n",
       "      <td>manual</td>\n",
       "      <td>75</td>\n",
       "      <td>golf</td>\n",
       "      <td>150000</td>\n",
       "      <td>6</td>\n",
       "      <td>petrol</td>\n",
       "      <td>volkswagen</td>\n",
       "      <td>no</td>\n",
       "      <td>2016-03-17 00:00:00</td>\n",
       "      <td>0</td>\n",
       "      <td>91074</td>\n",
       "      <td>2016-03-17 17:40:17</td>\n",
       "    </tr>\n",
       "    <tr>\n",
       "      <th>4</th>\n",
       "      <td>2016-03-31 17:25:20</td>\n",
       "      <td>3600</td>\n",
       "      <td>small</td>\n",
       "      <td>2008</td>\n",
       "      <td>manual</td>\n",
       "      <td>69</td>\n",
       "      <td>fabia</td>\n",
       "      <td>90000</td>\n",
       "      <td>7</td>\n",
       "      <td>gasoline</td>\n",
       "      <td>skoda</td>\n",
       "      <td>no</td>\n",
       "      <td>2016-03-31 00:00:00</td>\n",
       "      <td>0</td>\n",
       "      <td>60437</td>\n",
       "      <td>2016-04-06 10:17:21</td>\n",
       "    </tr>\n",
       "  </tbody>\n",
       "</table>\n",
       "</div>"
      ],
      "text/plain": [
       "           DateCrawled  Price VehicleType  RegistrationYear Gearbox  Power  \\\n",
       "0  2016-03-24 11:52:17    480         NaN              1993  manual      0   \n",
       "1  2016-03-24 10:58:45  18300       coupe              2011  manual    190   \n",
       "2  2016-03-14 12:52:21   9800         suv              2004    auto    163   \n",
       "3  2016-03-17 16:54:04   1500       small              2001  manual     75   \n",
       "4  2016-03-31 17:25:20   3600       small              2008  manual     69   \n",
       "\n",
       "   Model  Kilometer  RegistrationMonth  FuelType       Brand Repaired  \\\n",
       "0   golf     150000                  0    petrol  volkswagen      NaN   \n",
       "1    NaN     125000                  5  gasoline        audi      yes   \n",
       "2  grand     125000                  8  gasoline        jeep      NaN   \n",
       "3   golf     150000                  6    petrol  volkswagen       no   \n",
       "4  fabia      90000                  7  gasoline       skoda       no   \n",
       "\n",
       "           DateCreated  NumberOfPictures  PostalCode             LastSeen  \n",
       "0  2016-03-24 00:00:00                 0       70435  2016-04-07 03:16:57  \n",
       "1  2016-03-24 00:00:00                 0       66954  2016-04-07 01:46:50  \n",
       "2  2016-03-14 00:00:00                 0       90480  2016-04-05 12:47:46  \n",
       "3  2016-03-17 00:00:00                 0       91074  2016-03-17 17:40:17  \n",
       "4  2016-03-31 00:00:00                 0       60437  2016-04-06 10:17:21  "
      ]
     },
     "execution_count": 57,
     "metadata": {},
     "output_type": "execute_result"
    }
   ],
   "source": [
    "data.info()\n",
    "data.head()"
   ]
  },
  {
   "cell_type": "markdown",
   "metadata": {},
   "source": [
    "#### Преобразование типа данных\n",
    "Дата публикации объявления получена в формате object. Приведём её к типу datetime чтоб обеспечить возможность сравнения дат.\n",
    "\n",
    "Прочие даты (а именно - активности пользователя и скачивания объявления) в исследовании не участвуют, будут удалены ниже."
   ]
  },
  {
   "cell_type": "code",
   "execution_count": 58,
   "metadata": {},
   "outputs": [],
   "source": [
    "data['DateCreated'] = pd.to_datetime(data['DateCreated'])"
   ]
  },
  {
   "cell_type": "markdown",
   "metadata": {},
   "source": [
    "#### Выявление дубликатов"
   ]
  },
  {
   "cell_type": "code",
   "execution_count": 59,
   "metadata": {
    "scrolled": true
   },
   "outputs": [
    {
     "data": {
      "text/plain": [
       "4"
      ]
     },
     "execution_count": 59,
     "metadata": {},
     "output_type": "execute_result"
    }
   ],
   "source": [
    "data.duplicated().sum()"
   ]
  },
  {
   "cell_type": "markdown",
   "metadata": {},
   "source": [
    "Обнаружено 4 дубликата, которые не помешают процессу ML, удалять их не будем.\n",
    "\n",
    "#### Осмотр категориальных признаков и поиск неявных дубликатов"
   ]
  },
  {
   "cell_type": "code",
   "execution_count": 60,
   "metadata": {},
   "outputs": [],
   "source": [
    "categorial = ['Brand', 'Model', 'VehicleType', 'Gearbox', 'FuelType', 'Repaired']"
   ]
  },
  {
   "cell_type": "code",
   "execution_count": 61,
   "metadata": {
    "scrolled": true
   },
   "outputs": [
    {
     "name": "stdout",
     "output_type": "stream",
     "text": [
      "Brand\n",
      "length: 40\n"
     ]
    },
    {
     "data": {
      "text/plain": [
       "volkswagen        77013\n",
       "opel              39931\n",
       "bmw               36914\n",
       "mercedes_benz     32046\n",
       "audi              29456\n",
       "ford              25179\n",
       "renault           17927\n",
       "peugeot           10998\n",
       "fiat               9643\n",
       "seat               6907\n",
       "mazda              5615\n",
       "skoda              5500\n",
       "smart              5246\n",
       "citroen            5148\n",
       "nissan             4941\n",
       "toyota             4606\n",
       "hyundai            3587\n",
       "sonstige_autos     3374\n",
       "volvo              3210\n",
       "mini               3202\n",
       "mitsubishi         3022\n",
       "honda              2817\n",
       "kia                2465\n",
       "suzuki             2323\n",
       "alfa_romeo         2314\n",
       "chevrolet          1754\n",
       "chrysler           1439\n",
       "dacia               900\n",
       "daihatsu            806\n",
       "subaru              762\n",
       "porsche             758\n",
       "jeep                677\n",
       "trabant             589\n",
       "land_rover          545\n",
       "daewoo              542\n",
       "saab                526\n",
       "jaguar              505\n",
       "rover               486\n",
       "lancia              471\n",
       "lada                225\n",
       "Name: Brand, dtype: int64"
      ]
     },
     "metadata": {},
     "output_type": "display_data"
    },
    {
     "name": "stdout",
     "output_type": "stream",
     "text": [
      "Model\n",
      "length: 250\n"
     ]
    },
    {
     "data": {
      "text/plain": [
       "golf                  29232\n",
       "other                 24421\n",
       "3er                   19761\n",
       "polo                  13066\n",
       "corsa                 12570\n",
       "                      ...  \n",
       "serie_2                   8\n",
       "rangerover                4\n",
       "serie_3                   4\n",
       "serie_1                   2\n",
       "range_rover_evoque        2\n",
       "Name: Model, Length: 250, dtype: int64"
      ]
     },
     "metadata": {},
     "output_type": "display_data"
    },
    {
     "name": "stdout",
     "output_type": "stream",
     "text": [
      "VehicleType\n",
      "length: 8\n"
     ]
    },
    {
     "data": {
      "text/plain": [
       "sedan          91457\n",
       "small          79831\n",
       "wagon          65166\n",
       "bus            28775\n",
       "convertible    20203\n",
       "coupe          16163\n",
       "suv            11996\n",
       "other           3288\n",
       "Name: VehicleType, dtype: int64"
      ]
     },
     "metadata": {},
     "output_type": "display_data"
    },
    {
     "name": "stdout",
     "output_type": "stream",
     "text": [
      "Gearbox\n",
      "length: 2\n"
     ]
    },
    {
     "data": {
      "text/plain": [
       "manual    268251\n",
       "auto       66285\n",
       "Name: Gearbox, dtype: int64"
      ]
     },
     "metadata": {},
     "output_type": "display_data"
    },
    {
     "name": "stdout",
     "output_type": "stream",
     "text": [
      "FuelType\n",
      "length: 7\n"
     ]
    },
    {
     "data": {
      "text/plain": [
       "petrol      216352\n",
       "gasoline     98720\n",
       "lpg           5310\n",
       "cng            565\n",
       "hybrid         233\n",
       "other          204\n",
       "electric        90\n",
       "Name: FuelType, dtype: int64"
      ]
     },
     "metadata": {},
     "output_type": "display_data"
    },
    {
     "name": "stdout",
     "output_type": "stream",
     "text": [
      "Repaired\n",
      "length: 2\n"
     ]
    },
    {
     "data": {
      "text/plain": [
       "no     247161\n",
       "yes     36054\n",
       "Name: Repaired, dtype: int64"
      ]
     },
     "metadata": {},
     "output_type": "display_data"
    }
   ],
   "source": [
    "for column in categorial:\n",
    "    print(column)\n",
    "    print('length:', len(data[column].value_counts()))\n",
    "    display(data[column].sort_values().value_counts())\n",
    "    "
   ]
  },
  {
   "cell_type": "markdown",
   "metadata": {},
   "source": [
    "В признаке 'Brand' значение sonstige_autos - с немецкого \"прочие автомобили\". \n",
    "Марка автомобиля - весьма важный фактор, определяющий стоимость.\n",
    "С целью повышения качества машинного обучения все sonstige_autos будут удалены."
   ]
  },
  {
   "cell_type": "code",
   "execution_count": 62,
   "metadata": {},
   "outputs": [],
   "source": [
    "data = data.drop(data[data['Brand']=='sonstige_autos'].index).reset_index(drop=True)"
   ]
  },
  {
   "cell_type": "markdown",
   "metadata": {},
   "source": [
    "Дополнительно выведем полный отсортированный список моделей автомобилей с целью поиска ошибочных значений и неявных дубликатов."
   ]
  },
  {
   "cell_type": "code",
   "execution_count": 63,
   "metadata": {
    "scrolled": true
   },
   "outputs": [
    {
     "data": {
      "text/plain": [
       "['100',\n",
       " '145',\n",
       " '147',\n",
       " '156',\n",
       " '159',\n",
       " '1_reihe',\n",
       " '1er',\n",
       " '200',\n",
       " '2_reihe',\n",
       " '300c',\n",
       " '3_reihe',\n",
       " '3er',\n",
       " '4_reihe',\n",
       " '500',\n",
       " '5_reihe',\n",
       " '5er',\n",
       " '601',\n",
       " '6_reihe',\n",
       " '6er',\n",
       " '7er',\n",
       " '80',\n",
       " '850',\n",
       " '90',\n",
       " '900',\n",
       " '9000',\n",
       " '911',\n",
       " 'a1',\n",
       " 'a2',\n",
       " 'a3',\n",
       " 'a4',\n",
       " 'a5',\n",
       " 'a6',\n",
       " 'a8',\n",
       " 'a_klasse',\n",
       " 'accord',\n",
       " 'agila',\n",
       " 'alhambra',\n",
       " 'almera',\n",
       " 'altea',\n",
       " 'amarok',\n",
       " 'antara',\n",
       " 'arosa',\n",
       " 'astra',\n",
       " 'auris',\n",
       " 'avensis',\n",
       " 'aveo',\n",
       " 'aygo',\n",
       " 'b_klasse',\n",
       " 'b_max',\n",
       " 'beetle',\n",
       " 'berlingo',\n",
       " 'bora',\n",
       " 'boxster',\n",
       " 'bravo',\n",
       " 'c1',\n",
       " 'c2',\n",
       " 'c3',\n",
       " 'c4',\n",
       " 'c5',\n",
       " 'c_klasse',\n",
       " 'c_max',\n",
       " 'c_reihe',\n",
       " 'caddy',\n",
       " 'calibra',\n",
       " 'captiva',\n",
       " 'carisma',\n",
       " 'carnival',\n",
       " 'cayenne',\n",
       " 'cc',\n",
       " 'ceed',\n",
       " 'charade',\n",
       " 'cherokee',\n",
       " 'citigo',\n",
       " 'civic',\n",
       " 'cl',\n",
       " 'clio',\n",
       " 'clk',\n",
       " 'clubman',\n",
       " 'colt',\n",
       " 'combo',\n",
       " 'cooper',\n",
       " 'cordoba',\n",
       " 'corolla',\n",
       " 'corsa',\n",
       " 'cr_reihe',\n",
       " 'croma',\n",
       " 'crossfire',\n",
       " 'cuore',\n",
       " 'cx_reihe',\n",
       " 'defender',\n",
       " 'delta',\n",
       " 'discovery',\n",
       " 'doblo',\n",
       " 'ducato',\n",
       " 'duster',\n",
       " 'e_klasse',\n",
       " 'elefantino',\n",
       " 'eos',\n",
       " 'escort',\n",
       " 'espace',\n",
       " 'exeo',\n",
       " 'fabia',\n",
       " 'fiesta',\n",
       " 'focus',\n",
       " 'forester',\n",
       " 'forfour',\n",
       " 'fortwo',\n",
       " 'fox',\n",
       " 'freelander',\n",
       " 'fusion',\n",
       " 'g_klasse',\n",
       " 'galant',\n",
       " 'galaxy',\n",
       " 'getz',\n",
       " 'gl',\n",
       " 'glk',\n",
       " 'golf',\n",
       " 'grand',\n",
       " 'i3',\n",
       " 'i_reihe',\n",
       " 'ibiza',\n",
       " 'impreza',\n",
       " 'insignia',\n",
       " 'jazz',\n",
       " 'jetta',\n",
       " 'jimny',\n",
       " 'juke',\n",
       " 'justy',\n",
       " 'ka',\n",
       " 'kadett',\n",
       " 'kaefer',\n",
       " 'kalina',\n",
       " 'kalos',\n",
       " 'kangoo',\n",
       " 'kappa',\n",
       " 'kuga',\n",
       " 'laguna',\n",
       " 'lancer',\n",
       " 'lanos',\n",
       " 'legacy',\n",
       " 'leon',\n",
       " 'lodgy',\n",
       " 'logan',\n",
       " 'lupo',\n",
       " 'lybra',\n",
       " 'm_klasse',\n",
       " 'm_reihe',\n",
       " 'materia',\n",
       " 'matiz',\n",
       " 'megane',\n",
       " 'meriva',\n",
       " 'micra',\n",
       " 'mii',\n",
       " 'modus',\n",
       " 'mondeo',\n",
       " 'move',\n",
       " 'musa',\n",
       " 'mustang',\n",
       " 'mx_reihe',\n",
       " 'nan',\n",
       " 'navara',\n",
       " 'niva',\n",
       " 'note',\n",
       " 'nubira',\n",
       " 'octavia',\n",
       " 'omega',\n",
       " 'one',\n",
       " 'other',\n",
       " 'outlander',\n",
       " 'pajero',\n",
       " 'panda',\n",
       " 'passat',\n",
       " 'phaeton',\n",
       " 'picanto',\n",
       " 'polo',\n",
       " 'primera',\n",
       " 'ptcruiser',\n",
       " 'punto',\n",
       " 'q3',\n",
       " 'q5',\n",
       " 'q7',\n",
       " 'qashqai',\n",
       " 'r19',\n",
       " 'range_rover',\n",
       " 'range_rover_evoque',\n",
       " 'range_rover_sport',\n",
       " 'rangerover',\n",
       " 'rav',\n",
       " 'rio',\n",
       " 'roadster',\n",
       " 'roomster',\n",
       " 'rx_reihe',\n",
       " 's60',\n",
       " 's_klasse',\n",
       " 's_max',\n",
       " 's_type',\n",
       " 'samara',\n",
       " 'sandero',\n",
       " 'santa',\n",
       " 'scenic',\n",
       " 'scirocco',\n",
       " 'seicento',\n",
       " 'serie_1',\n",
       " 'serie_2',\n",
       " 'serie_3',\n",
       " 'sharan',\n",
       " 'signum',\n",
       " 'sirion',\n",
       " 'sl',\n",
       " 'slk',\n",
       " 'sorento',\n",
       " 'spark',\n",
       " 'spider',\n",
       " 'sportage',\n",
       " 'sprinter',\n",
       " 'stilo',\n",
       " 'superb',\n",
       " 'swift',\n",
       " 'terios',\n",
       " 'tigra',\n",
       " 'tiguan',\n",
       " 'toledo',\n",
       " 'touareg',\n",
       " 'touran',\n",
       " 'transit',\n",
       " 'transporter',\n",
       " 'tt',\n",
       " 'tucson',\n",
       " 'twingo',\n",
       " 'up',\n",
       " 'v40',\n",
       " 'v50',\n",
       " 'v60',\n",
       " 'v70',\n",
       " 'v_klasse',\n",
       " 'vectra',\n",
       " 'verso',\n",
       " 'viano',\n",
       " 'vito',\n",
       " 'vivaro',\n",
       " 'voyager',\n",
       " 'wrangler',\n",
       " 'x_reihe',\n",
       " 'x_trail',\n",
       " 'x_type',\n",
       " 'xc_reihe',\n",
       " 'yaris',\n",
       " 'yeti',\n",
       " 'ypsilon',\n",
       " 'z_reihe',\n",
       " 'zafira']"
      ]
     },
     "execution_count": 63,
     "metadata": {},
     "output_type": "execute_result"
    }
   ],
   "source": [
    "sorted(data['Model'].unique().astype(str))"
   ]
  },
  {
   "cell_type": "markdown",
   "metadata": {},
   "source": [
    "Обращают на себя внимание модели other. Посмотрим отдельно на записи с таким значением:"
   ]
  },
  {
   "cell_type": "code",
   "execution_count": 64,
   "metadata": {},
   "outputs": [
    {
     "data": {
      "text/html": [
       "<div>\n",
       "<style scoped>\n",
       "    .dataframe tbody tr th:only-of-type {\n",
       "        vertical-align: middle;\n",
       "    }\n",
       "\n",
       "    .dataframe tbody tr th {\n",
       "        vertical-align: top;\n",
       "    }\n",
       "\n",
       "    .dataframe thead th {\n",
       "        text-align: right;\n",
       "    }\n",
       "</style>\n",
       "<table border=\"1\" class=\"dataframe\">\n",
       "  <thead>\n",
       "    <tr style=\"text-align: right;\">\n",
       "      <th></th>\n",
       "      <th>DateCrawled</th>\n",
       "      <th>Price</th>\n",
       "      <th>VehicleType</th>\n",
       "      <th>RegistrationYear</th>\n",
       "      <th>Gearbox</th>\n",
       "      <th>Power</th>\n",
       "      <th>Model</th>\n",
       "      <th>Kilometer</th>\n",
       "      <th>RegistrationMonth</th>\n",
       "      <th>FuelType</th>\n",
       "      <th>Brand</th>\n",
       "      <th>Repaired</th>\n",
       "      <th>DateCreated</th>\n",
       "      <th>NumberOfPictures</th>\n",
       "      <th>PostalCode</th>\n",
       "      <th>LastSeen</th>\n",
       "    </tr>\n",
       "  </thead>\n",
       "  <tbody>\n",
       "    <tr>\n",
       "      <th>7</th>\n",
       "      <td>2016-03-21 18:54:38</td>\n",
       "      <td>0</td>\n",
       "      <td>sedan</td>\n",
       "      <td>1980</td>\n",
       "      <td>manual</td>\n",
       "      <td>50</td>\n",
       "      <td>other</td>\n",
       "      <td>40000</td>\n",
       "      <td>7</td>\n",
       "      <td>petrol</td>\n",
       "      <td>volkswagen</td>\n",
       "      <td>no</td>\n",
       "      <td>2016-03-21</td>\n",
       "      <td>0</td>\n",
       "      <td>19348</td>\n",
       "      <td>2016-03-25 16:47:58</td>\n",
       "    </tr>\n",
       "    <tr>\n",
       "      <th>24</th>\n",
       "      <td>2016-03-13 20:40:49</td>\n",
       "      <td>500</td>\n",
       "      <td>sedan</td>\n",
       "      <td>1990</td>\n",
       "      <td>manual</td>\n",
       "      <td>118</td>\n",
       "      <td>other</td>\n",
       "      <td>150000</td>\n",
       "      <td>10</td>\n",
       "      <td>petrol</td>\n",
       "      <td>mercedes_benz</td>\n",
       "      <td>yes</td>\n",
       "      <td>2016-03-13</td>\n",
       "      <td>0</td>\n",
       "      <td>35390</td>\n",
       "      <td>2016-03-13 20:40:49</td>\n",
       "    </tr>\n",
       "    <tr>\n",
       "      <th>38</th>\n",
       "      <td>2016-04-01 17:45:07</td>\n",
       "      <td>11900</td>\n",
       "      <td>other</td>\n",
       "      <td>2002</td>\n",
       "      <td>manual</td>\n",
       "      <td>129</td>\n",
       "      <td>other</td>\n",
       "      <td>150000</td>\n",
       "      <td>11</td>\n",
       "      <td>gasoline</td>\n",
       "      <td>volkswagen</td>\n",
       "      <td>no</td>\n",
       "      <td>2016-04-01</td>\n",
       "      <td>0</td>\n",
       "      <td>10551</td>\n",
       "      <td>2016-04-05 12:47:30</td>\n",
       "    </tr>\n",
       "    <tr>\n",
       "      <th>39</th>\n",
       "      <td>2016-03-25 15:50:30</td>\n",
       "      <td>1500</td>\n",
       "      <td>bus</td>\n",
       "      <td>1984</td>\n",
       "      <td>manual</td>\n",
       "      <td>70</td>\n",
       "      <td>other</td>\n",
       "      <td>150000</td>\n",
       "      <td>8</td>\n",
       "      <td>gasoline</td>\n",
       "      <td>mercedes_benz</td>\n",
       "      <td>no</td>\n",
       "      <td>2016-03-25</td>\n",
       "      <td>0</td>\n",
       "      <td>22767</td>\n",
       "      <td>2016-03-27 03:17:02</td>\n",
       "    </tr>\n",
       "    <tr>\n",
       "      <th>52</th>\n",
       "      <td>2016-04-04 10:57:36</td>\n",
       "      <td>1400</td>\n",
       "      <td>NaN</td>\n",
       "      <td>2016</td>\n",
       "      <td>manual</td>\n",
       "      <td>55</td>\n",
       "      <td>other</td>\n",
       "      <td>5000</td>\n",
       "      <td>1</td>\n",
       "      <td>NaN</td>\n",
       "      <td>hyundai</td>\n",
       "      <td>NaN</td>\n",
       "      <td>2016-04-04</td>\n",
       "      <td>0</td>\n",
       "      <td>34454</td>\n",
       "      <td>2016-04-06 12:45:43</td>\n",
       "    </tr>\n",
       "    <tr>\n",
       "      <th>...</th>\n",
       "      <td>...</td>\n",
       "      <td>...</td>\n",
       "      <td>...</td>\n",
       "      <td>...</td>\n",
       "      <td>...</td>\n",
       "      <td>...</td>\n",
       "      <td>...</td>\n",
       "      <td>...</td>\n",
       "      <td>...</td>\n",
       "      <td>...</td>\n",
       "      <td>...</td>\n",
       "      <td>...</td>\n",
       "      <td>...</td>\n",
       "      <td>...</td>\n",
       "      <td>...</td>\n",
       "      <td>...</td>\n",
       "    </tr>\n",
       "    <tr>\n",
       "      <th>350918</th>\n",
       "      <td>2016-03-11 14:45:44</td>\n",
       "      <td>2500</td>\n",
       "      <td>small</td>\n",
       "      <td>2007</td>\n",
       "      <td>manual</td>\n",
       "      <td>60</td>\n",
       "      <td>other</td>\n",
       "      <td>125000</td>\n",
       "      <td>3</td>\n",
       "      <td>petrol</td>\n",
       "      <td>hyundai</td>\n",
       "      <td>NaN</td>\n",
       "      <td>2016-03-11</td>\n",
       "      <td>0</td>\n",
       "      <td>18107</td>\n",
       "      <td>2016-03-17 21:46:52</td>\n",
       "    </tr>\n",
       "    <tr>\n",
       "      <th>350930</th>\n",
       "      <td>2016-03-12 08:37:15</td>\n",
       "      <td>5990</td>\n",
       "      <td>bus</td>\n",
       "      <td>1984</td>\n",
       "      <td>auto</td>\n",
       "      <td>0</td>\n",
       "      <td>other</td>\n",
       "      <td>70000</td>\n",
       "      <td>4</td>\n",
       "      <td>petrol</td>\n",
       "      <td>chevrolet</td>\n",
       "      <td>NaN</td>\n",
       "      <td>2016-03-12</td>\n",
       "      <td>0</td>\n",
       "      <td>87600</td>\n",
       "      <td>2016-03-24 23:47:48</td>\n",
       "    </tr>\n",
       "    <tr>\n",
       "      <th>350944</th>\n",
       "      <td>2016-03-07 19:58:44</td>\n",
       "      <td>3300</td>\n",
       "      <td>coupe</td>\n",
       "      <td>1957</td>\n",
       "      <td>manual</td>\n",
       "      <td>40</td>\n",
       "      <td>other</td>\n",
       "      <td>100000</td>\n",
       "      <td>11</td>\n",
       "      <td>petrol</td>\n",
       "      <td>trabant</td>\n",
       "      <td>no</td>\n",
       "      <td>2016-03-07</td>\n",
       "      <td>0</td>\n",
       "      <td>10317</td>\n",
       "      <td>2016-03-08 06:45:48</td>\n",
       "    </tr>\n",
       "    <tr>\n",
       "      <th>350952</th>\n",
       "      <td>2016-03-12 16:48:14</td>\n",
       "      <td>12800</td>\n",
       "      <td>convertible</td>\n",
       "      <td>1991</td>\n",
       "      <td>manual</td>\n",
       "      <td>211</td>\n",
       "      <td>other</td>\n",
       "      <td>150000</td>\n",
       "      <td>7</td>\n",
       "      <td>petrol</td>\n",
       "      <td>porsche</td>\n",
       "      <td>no</td>\n",
       "      <td>2016-03-12</td>\n",
       "      <td>0</td>\n",
       "      <td>21147</td>\n",
       "      <td>2016-04-07 06:46:00</td>\n",
       "    </tr>\n",
       "    <tr>\n",
       "      <th>350958</th>\n",
       "      <td>2016-03-15 01:51:20</td>\n",
       "      <td>2999</td>\n",
       "      <td>coupe</td>\n",
       "      <td>2003</td>\n",
       "      <td>manual</td>\n",
       "      <td>143</td>\n",
       "      <td>other</td>\n",
       "      <td>150000</td>\n",
       "      <td>3</td>\n",
       "      <td>petrol</td>\n",
       "      <td>mercedes_benz</td>\n",
       "      <td>yes</td>\n",
       "      <td>2016-03-14</td>\n",
       "      <td>0</td>\n",
       "      <td>72766</td>\n",
       "      <td>2016-04-05 13:17:05</td>\n",
       "    </tr>\n",
       "  </tbody>\n",
       "</table>\n",
       "<p>24421 rows × 16 columns</p>\n",
       "</div>"
      ],
      "text/plain": [
       "                DateCrawled  Price  VehicleType  RegistrationYear Gearbox  \\\n",
       "7       2016-03-21 18:54:38      0        sedan              1980  manual   \n",
       "24      2016-03-13 20:40:49    500        sedan              1990  manual   \n",
       "38      2016-04-01 17:45:07  11900        other              2002  manual   \n",
       "39      2016-03-25 15:50:30   1500          bus              1984  manual   \n",
       "52      2016-04-04 10:57:36   1400          NaN              2016  manual   \n",
       "...                     ...    ...          ...               ...     ...   \n",
       "350918  2016-03-11 14:45:44   2500        small              2007  manual   \n",
       "350930  2016-03-12 08:37:15   5990          bus              1984    auto   \n",
       "350944  2016-03-07 19:58:44   3300        coupe              1957  manual   \n",
       "350952  2016-03-12 16:48:14  12800  convertible              1991  manual   \n",
       "350958  2016-03-15 01:51:20   2999        coupe              2003  manual   \n",
       "\n",
       "        Power  Model  Kilometer  RegistrationMonth  FuelType          Brand  \\\n",
       "7          50  other      40000                  7    petrol     volkswagen   \n",
       "24        118  other     150000                 10    petrol  mercedes_benz   \n",
       "38        129  other     150000                 11  gasoline     volkswagen   \n",
       "39         70  other     150000                  8  gasoline  mercedes_benz   \n",
       "52         55  other       5000                  1       NaN        hyundai   \n",
       "...       ...    ...        ...                ...       ...            ...   \n",
       "350918     60  other     125000                  3    petrol        hyundai   \n",
       "350930      0  other      70000                  4    petrol      chevrolet   \n",
       "350944     40  other     100000                 11    petrol        trabant   \n",
       "350952    211  other     150000                  7    petrol        porsche   \n",
       "350958    143  other     150000                  3    petrol  mercedes_benz   \n",
       "\n",
       "       Repaired DateCreated  NumberOfPictures  PostalCode             LastSeen  \n",
       "7            no  2016-03-21                 0       19348  2016-03-25 16:47:58  \n",
       "24          yes  2016-03-13                 0       35390  2016-03-13 20:40:49  \n",
       "38           no  2016-04-01                 0       10551  2016-04-05 12:47:30  \n",
       "39           no  2016-03-25                 0       22767  2016-03-27 03:17:02  \n",
       "52          NaN  2016-04-04                 0       34454  2016-04-06 12:45:43  \n",
       "...         ...         ...               ...         ...                  ...  \n",
       "350918      NaN  2016-03-11                 0       18107  2016-03-17 21:46:52  \n",
       "350930      NaN  2016-03-12                 0       87600  2016-03-24 23:47:48  \n",
       "350944       no  2016-03-07                 0       10317  2016-03-08 06:45:48  \n",
       "350952       no  2016-03-12                 0       21147  2016-04-07 06:46:00  \n",
       "350958      yes  2016-03-14                 0       72766  2016-04-05 13:17:05  \n",
       "\n",
       "[24421 rows x 16 columns]"
      ]
     },
     "execution_count": 64,
     "metadata": {},
     "output_type": "execute_result"
    }
   ],
   "source": [
    "data[data['Model']=='other']"
   ]
  },
  {
   "cell_type": "markdown",
   "metadata": {},
   "source": [
    "Этих данных достаточно много, возможно они получены в результате ошибок пользователей или того что данные модели отсутствовали в списке для выбора. Сохраним  эти данные.\n",
    "\n",
    "Неявных дубликатов в категориальных признаках не выявлено\n",
    "#### Поиск пропущенных значений."
   ]
  },
  {
   "cell_type": "code",
   "execution_count": 65,
   "metadata": {
    "scrolled": true
   },
   "outputs": [
    {
     "data": {
      "text/plain": [
       "DateCrawled              0\n",
       "Price                    0\n",
       "VehicleType          36449\n",
       "RegistrationYear         0\n",
       "Gearbox              18730\n",
       "Power                    0\n",
       "Model                16331\n",
       "Kilometer                0\n",
       "RegistrationMonth        0\n",
       "FuelType             31791\n",
       "Brand                    0\n",
       "Repaired             69831\n",
       "DateCreated              0\n",
       "NumberOfPictures         0\n",
       "PostalCode               0\n",
       "LastSeen                 0\n",
       "dtype: int64"
      ]
     },
     "execution_count": 65,
     "metadata": {},
     "output_type": "execute_result"
    }
   ],
   "source": [
    "data.isna().sum()"
   ]
  },
  {
   "cell_type": "markdown",
   "metadata": {},
   "source": [
    "Выявлено от 16 до 70 тыс. пропусков в 5 категориальных признаках.\n",
    "Учитывая, что размер датасета достаточно велик - более 354 тысяч записей, предложено посчитать записи с 4 и более пропусками и удалить их для повышения информативности данных для ML. На оставшиеся пропуски поставим заглушку unknown."
   ]
  },
  {
   "cell_type": "code",
   "execution_count": 66,
   "metadata": {
    "scrolled": false
   },
   "outputs": [
    {
     "data": {
      "text/plain": [
       "['VehicleType', 'Gearbox', 'Model', 'FuelType', 'Repaired']"
      ]
     },
     "execution_count": 66,
     "metadata": {},
     "output_type": "execute_result"
    }
   ],
   "source": [
    "is_na = list(data.isna().sum()[data.isna().sum()>0].index)\n",
    "is_na"
   ]
  },
  {
   "cell_type": "code",
   "execution_count": 67,
   "metadata": {
    "scrolled": false
   },
   "outputs": [
    {
     "data": {
      "text/plain": [
       "7101"
      ]
     },
     "execution_count": 67,
     "metadata": {},
     "output_type": "execute_result"
    }
   ],
   "source": [
    "index_to_drop = data[data[is_na].isna().sum(axis=1)>=4].index\n",
    "len(index_to_drop)"
   ]
  },
  {
   "cell_type": "markdown",
   "metadata": {},
   "source": [
    "#### Удаление пропусков\n",
    "Выявлено 7101 записей с пропущенными 4 или 5 полями. Размер датасета позволяет нам удалить эти данные.\n"
   ]
  },
  {
   "cell_type": "code",
   "execution_count": 68,
   "metadata": {},
   "outputs": [],
   "source": [
    "data = data.drop(index_to_drop).reset_index(drop=True)"
   ]
  },
  {
   "cell_type": "code",
   "execution_count": 69,
   "metadata": {
    "scrolled": false
   },
   "outputs": [
    {
     "name": "stdout",
     "output_type": "stream",
     "text": [
      "<class 'pandas.core.frame.DataFrame'>\n",
      "RangeIndex: 343894 entries, 0 to 343893\n",
      "Data columns (total 16 columns):\n",
      " #   Column             Non-Null Count   Dtype         \n",
      "---  ------             --------------   -----         \n",
      " 0   DateCrawled        343894 non-null  object        \n",
      " 1   Price              343894 non-null  int64         \n",
      " 2   VehicleType        314259 non-null  object        \n",
      " 3   RegistrationYear   343894 non-null  int64         \n",
      " 4   Gearbox            331452 non-null  object        \n",
      " 5   Power              343894 non-null  int64         \n",
      " 6   Model              330690 non-null  object        \n",
      " 7   Kilometer          343894 non-null  int64         \n",
      " 8   RegistrationMonth  343894 non-null  int64         \n",
      " 9   FuelType           318818 non-null  object        \n",
      " 10  Brand              343894 non-null  object        \n",
      " 11  Repaired           281063 non-null  object        \n",
      " 12  DateCreated        343894 non-null  datetime64[ns]\n",
      " 13  NumberOfPictures   343894 non-null  int64         \n",
      " 14  PostalCode         343894 non-null  int64         \n",
      " 15  LastSeen           343894 non-null  object        \n",
      "dtypes: datetime64[ns](1), int64(7), object(8)\n",
      "memory usage: 42.0+ MB\n"
     ]
    }
   ],
   "source": [
    "data.info()"
   ]
  },
  {
   "cell_type": "markdown",
   "metadata": {},
   "source": [
    "#### Заполнение оставшихся пропусков\n",
    "Записи с 4 и более пропущенными категориальными полями удалены. На прочие пропуски поставим заглушку 'unknown'."
   ]
  },
  {
   "cell_type": "code",
   "execution_count": 70,
   "metadata": {
    "scrolled": true
   },
   "outputs": [],
   "source": [
    "data.fillna('unknown', inplace=True)"
   ]
  },
  {
   "cell_type": "code",
   "execution_count": 71,
   "metadata": {
    "scrolled": false
   },
   "outputs": [
    {
     "name": "stdout",
     "output_type": "stream",
     "text": [
      "DateCrawled          0\n",
      "Price                0\n",
      "VehicleType          0\n",
      "RegistrationYear     0\n",
      "Gearbox              0\n",
      "Power                0\n",
      "Model                0\n",
      "Kilometer            0\n",
      "RegistrationMonth    0\n",
      "FuelType             0\n",
      "Brand                0\n",
      "Repaired             0\n",
      "DateCreated          0\n",
      "NumberOfPictures     0\n",
      "PostalCode           0\n",
      "LastSeen             0\n",
      "dtype: int64\n"
     ]
    }
   ],
   "source": [
    "print(data.isna().sum()) # проверяем количество пропусков\n"
   ]
  },
  {
   "cell_type": "markdown",
   "metadata": {},
   "source": [
    "В результате все пропуски устранены."
   ]
  },
  {
   "cell_type": "markdown",
   "metadata": {},
   "source": [
    "<div class=\"alert alert-block alert-success\">\n",
    "<b>✔️ Успех:</b>\n",
    "\n",
    "Пропуски успешно заполнены 👍 Модели теперь не будут капризничать)\n",
    "</div>"
   ]
  },
  {
   "cell_type": "markdown",
   "metadata": {},
   "source": [
    "\n",
    "\n",
    "\n",
    "#### Обработка количественных признаков\n",
    "\n",
    "Рассмотрим статистики по количественным признакам и гистограммы их распределения:"
   ]
  },
  {
   "cell_type": "code",
   "execution_count": 72,
   "metadata": {
    "scrolled": true
   },
   "outputs": [
    {
     "data": {
      "text/html": [
       "<div>\n",
       "<style scoped>\n",
       "    .dataframe tbody tr th:only-of-type {\n",
       "        vertical-align: middle;\n",
       "    }\n",
       "\n",
       "    .dataframe tbody tr th {\n",
       "        vertical-align: top;\n",
       "    }\n",
       "\n",
       "    .dataframe thead th {\n",
       "        text-align: right;\n",
       "    }\n",
       "</style>\n",
       "<table border=\"1\" class=\"dataframe\">\n",
       "  <thead>\n",
       "    <tr style=\"text-align: right;\">\n",
       "      <th></th>\n",
       "      <th>Price</th>\n",
       "      <th>RegistrationYear</th>\n",
       "      <th>Power</th>\n",
       "      <th>Kilometer</th>\n",
       "      <th>RegistrationMonth</th>\n",
       "      <th>NumberOfPictures</th>\n",
       "      <th>PostalCode</th>\n",
       "    </tr>\n",
       "  </thead>\n",
       "  <tbody>\n",
       "    <tr>\n",
       "      <th>count</th>\n",
       "      <td>343894.000000</td>\n",
       "      <td>343894.000000</td>\n",
       "      <td>343894.000000</td>\n",
       "      <td>343894.000000</td>\n",
       "      <td>343894.000000</td>\n",
       "      <td>343894.0</td>\n",
       "      <td>343894.000000</td>\n",
       "    </tr>\n",
       "    <tr>\n",
       "      <th>mean</th>\n",
       "      <td>4470.404311</td>\n",
       "      <td>2003.522335</td>\n",
       "      <td>111.992024</td>\n",
       "      <td>128940.981814</td>\n",
       "      <td>5.817473</td>\n",
       "      <td>0.0</td>\n",
       "      <td>50584.995432</td>\n",
       "    </tr>\n",
       "    <tr>\n",
       "      <th>std</th>\n",
       "      <td>4513.516910</td>\n",
       "      <td>43.801900</td>\n",
       "      <td>190.362529</td>\n",
       "      <td>36842.566748</td>\n",
       "      <td>3.681452</td>\n",
       "      <td>0.0</td>\n",
       "      <td>25760.446398</td>\n",
       "    </tr>\n",
       "    <tr>\n",
       "      <th>min</th>\n",
       "      <td>0.000000</td>\n",
       "      <td>1000.000000</td>\n",
       "      <td>0.000000</td>\n",
       "      <td>5000.000000</td>\n",
       "      <td>0.000000</td>\n",
       "      <td>0.0</td>\n",
       "      <td>1067.000000</td>\n",
       "    </tr>\n",
       "    <tr>\n",
       "      <th>25%</th>\n",
       "      <td>1100.000000</td>\n",
       "      <td>1999.000000</td>\n",
       "      <td>71.000000</td>\n",
       "      <td>125000.000000</td>\n",
       "      <td>3.000000</td>\n",
       "      <td>0.0</td>\n",
       "      <td>30177.000000</td>\n",
       "    </tr>\n",
       "    <tr>\n",
       "      <th>50%</th>\n",
       "      <td>2800.000000</td>\n",
       "      <td>2003.000000</td>\n",
       "      <td>105.000000</td>\n",
       "      <td>150000.000000</td>\n",
       "      <td>6.000000</td>\n",
       "      <td>0.0</td>\n",
       "      <td>49477.000000</td>\n",
       "    </tr>\n",
       "    <tr>\n",
       "      <th>75%</th>\n",
       "      <td>6499.000000</td>\n",
       "      <td>2008.000000</td>\n",
       "      <td>143.000000</td>\n",
       "      <td>150000.000000</td>\n",
       "      <td>9.000000</td>\n",
       "      <td>0.0</td>\n",
       "      <td>71116.000000</td>\n",
       "    </tr>\n",
       "    <tr>\n",
       "      <th>max</th>\n",
       "      <td>20000.000000</td>\n",
       "      <td>9999.000000</td>\n",
       "      <td>20000.000000</td>\n",
       "      <td>150000.000000</td>\n",
       "      <td>12.000000</td>\n",
       "      <td>0.0</td>\n",
       "      <td>99998.000000</td>\n",
       "    </tr>\n",
       "  </tbody>\n",
       "</table>\n",
       "</div>"
      ],
      "text/plain": [
       "               Price  RegistrationYear          Power      Kilometer  \\\n",
       "count  343894.000000     343894.000000  343894.000000  343894.000000   \n",
       "mean     4470.404311       2003.522335     111.992024  128940.981814   \n",
       "std      4513.516910         43.801900     190.362529   36842.566748   \n",
       "min         0.000000       1000.000000       0.000000    5000.000000   \n",
       "25%      1100.000000       1999.000000      71.000000  125000.000000   \n",
       "50%      2800.000000       2003.000000     105.000000  150000.000000   \n",
       "75%      6499.000000       2008.000000     143.000000  150000.000000   \n",
       "max     20000.000000       9999.000000   20000.000000  150000.000000   \n",
       "\n",
       "       RegistrationMonth  NumberOfPictures     PostalCode  \n",
       "count      343894.000000          343894.0  343894.000000  \n",
       "mean            5.817473               0.0   50584.995432  \n",
       "std             3.681452               0.0   25760.446398  \n",
       "min             0.000000               0.0    1067.000000  \n",
       "25%             3.000000               0.0   30177.000000  \n",
       "50%             6.000000               0.0   49477.000000  \n",
       "75%             9.000000               0.0   71116.000000  \n",
       "max            12.000000               0.0   99998.000000  "
      ]
     },
     "execution_count": 72,
     "metadata": {},
     "output_type": "execute_result"
    }
   ],
   "source": [
    "data.describe()"
   ]
  },
  {
   "cell_type": "code",
   "execution_count": 73,
   "metadata": {
    "scrolled": false
   },
   "outputs": [
    {
     "data": {
      "image/png": "[encoded data removed]",
      "text/plain": [
       "<Figure size 1080x576 with 9 Axes>"
      ]
     },
     "metadata": {
      "needs_background": "light"
     },
     "output_type": "display_data"
    }
   ],
   "source": [
    "data.hist(figsize=[15,8]);"
   ]
  },
  {
   "cell_type": "markdown",
   "metadata": {},
   "source": [
    "На основании гистограмм распределения признаков обнаружены аномалии в данных:\n",
    "- максимальный обозначенный пробег - 150 000 км;\n",
    "- в годе регистрации присутствуют значения от 1000 до 9999\n",
    "- выбросы в показателе мощности: присутствуют нулевые значения и неестественно высокие - до 20000\n",
    "- в цене присутствуют нулевые значения.\n",
    "\n",
    "Обнаружены данные, не содержащие выбросов:\n",
    "- Дата публикации объявления: не раньше 2014 и не позже 2016 года.\n",
    "\n",
    "Также присутствуют данные, которые не будут участвовать в исследовании:\n",
    "- месяц регистрации транспортного средства, т.к. для наших целей достаточно года;\n",
    "- почтовый код;\n",
    "- количество картинок, т.к. оно вообще не заполнено;\n",
    "- дата скачивания объявления для датасета;\n",
    "- дата появления автора объявления в сети.\n",
    "\n",
    "##### Удаление неиспользуемых признаков\n",
    "Ниже удалим неиспользуемые признаки:"
   ]
  },
  {
   "cell_type": "code",
   "execution_count": 74,
   "metadata": {
    "scrolled": true
   },
   "outputs": [],
   "source": [
    "data = data.drop(['PostalCode', 'NumberOfPictures', 'RegistrationMonth', 'DateCrawled', 'LastSeen'], axis=1)"
   ]
  },
  {
   "cell_type": "code",
   "execution_count": 75,
   "metadata": {
    "scrolled": true
   },
   "outputs": [
    {
     "name": "stdout",
     "output_type": "stream",
     "text": [
      "<class 'pandas.core.frame.DataFrame'>\n",
      "RangeIndex: 343894 entries, 0 to 343893\n",
      "Data columns (total 11 columns):\n",
      " #   Column            Non-Null Count   Dtype         \n",
      "---  ------            --------------   -----         \n",
      " 0   Price             343894 non-null  int64         \n",
      " 1   VehicleType       343894 non-null  object        \n",
      " 2   RegistrationYear  343894 non-null  int64         \n",
      " 3   Gearbox           343894 non-null  object        \n",
      " 4   Power             343894 non-null  int64         \n",
      " 5   Model             343894 non-null  object        \n",
      " 6   Kilometer         343894 non-null  int64         \n",
      " 7   FuelType          343894 non-null  object        \n",
      " 8   Brand             343894 non-null  object        \n",
      " 9   Repaired          343894 non-null  object        \n",
      " 10  DateCreated       343894 non-null  datetime64[ns]\n",
      "dtypes: datetime64[ns](1), int64(4), object(6)\n",
      "memory usage: 28.9+ MB\n"
     ]
    }
   ],
   "source": [
    "data.info()"
   ]
  },
  {
   "cell_type": "markdown",
   "metadata": {},
   "source": [
    "<div class=\"alert alert-block alert-success\">\n",
    "<b>✔️ Успех:</b>\n",
    "\n",
    "Удалить неинформативные признаки - хорошее решение 👍\n",
    "</div>"
   ]
  },
  {
   "cell_type": "markdown",
   "metadata": {},
   "source": [
    "##### Исследование целевого признака"
   ]
  },
  {
   "cell_type": "code",
   "execution_count": 76,
   "metadata": {},
   "outputs": [
    {
     "data": {
      "text/plain": [
       "<AxesSubplot:>"
      ]
     },
     "execution_count": 76,
     "metadata": {},
     "output_type": "execute_result"
    },
    {
     "data": {
      "image/png": "[encoded data removed]",
      "text/plain": [
       "<Figure size 1080x576 with 1 Axes>"
      ]
     },
     "metadata": {
      "needs_background": "light"
     },
     "output_type": "display_data"
    }
   ],
   "source": [
    "data['Price'].hist(bins=100, figsize=[15,8])"
   ]
  },
  {
   "cell_type": "markdown",
   "metadata": {},
   "source": [
    "На гистограмме видно, что есть ряд записей с целевым признаком, равным 0. Машины стоимостью менее 50 евро удалим из датасета - вероятно, эти значения ошибочны."
   ]
  },
  {
   "cell_type": "code",
   "execution_count": 77,
   "metadata": {},
   "outputs": [],
   "source": [
    "data = data.drop(data[data['Price']<50].index).reset_index(drop=True)\n"
   ]
  },
  {
   "cell_type": "code",
   "execution_count": 78,
   "metadata": {
    "scrolled": false
   },
   "outputs": [
    {
     "data": {
      "text/plain": [
       "<AxesSubplot:>"
      ]
     },
     "execution_count": 78,
     "metadata": {},
     "output_type": "execute_result"
    },
    {
     "data": {
      "image/png": "[encoded data removed]",
      "text/plain": [
       "<Figure size 1080x576 with 1 Axes>"
      ]
     },
     "metadata": {
      "needs_background": "light"
     },
     "output_type": "display_data"
    }
   ],
   "source": [
    "data['Price'].hist(bins=100, range=[50,500], figsize=[15,8])"
   ]
  },
  {
   "cell_type": "markdown",
   "metadata": {},
   "source": [
    "Ниже подробно рассмотрим значения признаков для автомобилей дешевле 200 евро:"
   ]
  },
  {
   "cell_type": "code",
   "execution_count": 79,
   "metadata": {
    "scrolled": true
   },
   "outputs": [
    {
     "data": {
      "text/plain": [
       "Price\n",
       "150      1478\n",
       "100       871\n",
       "199       261\n",
       "50        248\n",
       "180       229\n",
       "         ... \n",
       "106         1\n",
       "142         1\n",
       "108         1\n",
       "112         1\n",
       "128         1\n",
       "Length: 73, dtype: int64"
      ]
     },
     "metadata": {},
     "output_type": "display_data"
    },
    {
     "data": {
      "text/plain": [
       "RegistrationYear\n",
       "1997                578\n",
       "1995                517\n",
       "2000                498\n",
       "1998                494\n",
       "1996                453\n",
       "1999                363\n",
       "2016                340\n",
       "1994                242\n",
       "1993                168\n",
       "2001                106\n",
       "1992                102\n",
       "1991                 89\n",
       "1990                 69\n",
       "2005                 54\n",
       "2017                 54\n",
       "2002                 41\n",
       "1989                 25\n",
       "2004                 18\n",
       "2015                 14\n",
       "2003                 14\n",
       "2014                 14\n",
       "2012                 10\n",
       "1988                  8\n",
       "2007                  7\n",
       "2009                  7\n",
       "2006                  6\n",
       "1985                  6\n",
       "2013                  6\n",
       "2010                  5\n",
       "1910                  5\n",
       "2018                  4\n",
       "1987                  4\n",
       "1986                  4\n",
       "1980                  4\n",
       "1960                  3\n",
       "1976                  3\n",
       "1983                  3\n",
       "1970                  3\n",
       "1969                  2\n",
       "2011                  2\n",
       "2008                  2\n",
       "1961                  2\n",
       "1981                  2\n",
       "2019                  2\n",
       "1234                  1\n",
       "1956                  1\n",
       "1950                  1\n",
       "3000                  1\n",
       "dtype: int64"
      ]
     },
     "metadata": {},
     "output_type": "display_data"
    },
    {
     "data": {
      "text/plain": [
       "Model   \n",
       "corsa       542\n",
       "polo        427\n",
       "golf        347\n",
       "unknown     331\n",
       "other       289\n",
       "           ... \n",
       "lybra         1\n",
       "agila         1\n",
       "scirocco      1\n",
       "fabia         1\n",
       "a5            1\n",
       "Length: 133, dtype: int64"
      ]
     },
     "metadata": {},
     "output_type": "display_data"
    },
    {
     "data": {
      "text/plain": [
       "Repaired\n",
       "unknown     1755\n",
       "yes         1750\n",
       "no           852\n",
       "dtype: int64"
      ]
     },
     "metadata": {},
     "output_type": "display_data"
    }
   ],
   "source": [
    "for column in ['Price', 'RegistrationYear', 'Model', 'Repaired']:\n",
    "\n",
    "    \n",
    "    display(data.loc[data['Price']<200][[column]].value_counts())\n"
   ]
  },
  {
   "cell_type": "markdown",
   "metadata": {},
   "source": [
    "<div class=\"alert alert-block alert-success\">\n",
    "<b>✔️ Успех:</b>\n",
    "\n",
    "В данных остались машины только с адекватной ценой 👍\n",
    "</div>"
   ]
  },
  {
   "cell_type": "markdown",
   "metadata": {},
   "source": [
    "Таким образом, среди \"подозрительно дешевых\" автомобилей преобладают автомобили после аварий и с неизвестной историей, а также относительно старые. Достоверно счесть эти данные ошибкой не представляется возможным, поэтому оставим их как есть.\n",
    "\n",
    "##### Аномалии в признаке 'Kilometer'"
   ]
  },
  {
   "cell_type": "code",
   "execution_count": 80,
   "metadata": {
    "scrolled": false
   },
   "outputs": [
    {
     "data": {
      "text/plain": [
       "[5000,\n",
       " 10000,\n",
       " 20000,\n",
       " 30000,\n",
       " 40000,\n",
       " 50000,\n",
       " 60000,\n",
       " 70000,\n",
       " 80000,\n",
       " 90000,\n",
       " 100000,\n",
       " 125000,\n",
       " 150000]"
      ]
     },
     "execution_count": 80,
     "metadata": {},
     "output_type": "execute_result"
    },
    {
     "data": {
      "image/png": "[encoded data removed]",
      "text/plain": [
       "<Figure size 432x288 with 1 Axes>"
      ]
     },
     "metadata": {
      "needs_background": "light"
     },
     "output_type": "display_data"
    }
   ],
   "source": [
    "data['Kilometer'].hist(bins=30)\n",
    "sorted(data['Kilometer'].unique())"
   ]
  },
  {
   "cell_type": "markdown",
   "metadata": {},
   "source": [
    "Данный столбец содержит ряд особенностей:\n",
    "- представлено небольшое количество уникальных значений;\n",
    "- с ростом пробега увеличивается шаг между приближенными значениями;\n",
    "- максимальное значение - 150 тыс. км - является самым часто встречемым. Вероятно, автомобили с пробегом более 150 тыс. км также отнесены к этой категории.\n",
    "\n",
    "Для нужд ML при необходимости данный признак можно перевести в категориальный. Однако, в настоящее время такой необходимости нет. \n",
    "\n",
    "##### Аномалии в признаке 'RegistrationYear'\n",
    "\n",
    "Сперва рассмотрим наиболее старые автомобили (до 1950 года)"
   ]
  },
  {
   "cell_type": "code",
   "execution_count": 81,
   "metadata": {
    "scrolled": true
   },
   "outputs": [
    {
     "data": {
      "text/plain": [
       "1910    17\n",
       "1950    11\n",
       "1937     7\n",
       "1945     3\n",
       "1943     3\n",
       "1938     3\n",
       "1936     3\n",
       "1932     3\n",
       "1929     3\n",
       "1933     2\n",
       "1000     2\n",
       "1935     2\n",
       "1930     2\n",
       "1500     2\n",
       "1942     2\n",
       "1928     2\n",
       "1947     2\n",
       "1923     2\n",
       "1800     1\n",
       "1234     1\n",
       "1602     1\n",
       "1941     1\n",
       "1600     1\n",
       "1949     1\n",
       "1927     1\n",
       "1940     1\n",
       "1934     1\n",
       "1931     1\n",
       "1400     1\n",
       "Name: RegistrationYear, dtype: int64"
      ]
     },
     "execution_count": 81,
     "metadata": {},
     "output_type": "execute_result"
    }
   ],
   "source": [
    "data.loc[(data['RegistrationYear']<=1950)]['RegistrationYear'].value_counts() # | (data['RegistrationYear']>2016)]"
   ]
  },
  {
   "cell_type": "markdown",
   "metadata": {},
   "source": [
    "Выявлены явно ошибочные значения года регистрации и сравнительно небольшое количество машин с 1910 по 1950.\n",
    "\n",
    "Чтобы разобраться, все ли данные ошибочны, рассмотрим полный список автомобилей, выпущенных до 1930 года включительно:"
   ]
  },
  {
   "cell_type": "code",
   "execution_count": 82,
   "metadata": {
    "scrolled": false
   },
   "outputs": [
    {
     "data": {
      "text/html": [
       "<div>\n",
       "<style scoped>\n",
       "    .dataframe tbody tr th:only-of-type {\n",
       "        vertical-align: middle;\n",
       "    }\n",
       "\n",
       "    .dataframe tbody tr th {\n",
       "        vertical-align: top;\n",
       "    }\n",
       "\n",
       "    .dataframe thead th {\n",
       "        text-align: right;\n",
       "    }\n",
       "</style>\n",
       "<table border=\"1\" class=\"dataframe\">\n",
       "  <thead>\n",
       "    <tr style=\"text-align: right;\">\n",
       "      <th></th>\n",
       "      <th>Price</th>\n",
       "      <th>VehicleType</th>\n",
       "      <th>RegistrationYear</th>\n",
       "      <th>Gearbox</th>\n",
       "      <th>Power</th>\n",
       "      <th>Model</th>\n",
       "      <th>Kilometer</th>\n",
       "      <th>FuelType</th>\n",
       "      <th>Brand</th>\n",
       "      <th>Repaired</th>\n",
       "      <th>DateCreated</th>\n",
       "    </tr>\n",
       "  </thead>\n",
       "  <tbody>\n",
       "    <tr>\n",
       "      <th>14</th>\n",
       "      <td>450</td>\n",
       "      <td>small</td>\n",
       "      <td>1910</td>\n",
       "      <td>unknown</td>\n",
       "      <td>0</td>\n",
       "      <td>ka</td>\n",
       "      <td>5000</td>\n",
       "      <td>petrol</td>\n",
       "      <td>ford</td>\n",
       "      <td>unknown</td>\n",
       "      <td>2016-03-11</td>\n",
       "    </tr>\n",
       "    <tr>\n",
       "      <th>17194</th>\n",
       "      <td>7999</td>\n",
       "      <td>unknown</td>\n",
       "      <td>1500</td>\n",
       "      <td>manual</td>\n",
       "      <td>224</td>\n",
       "      <td>impreza</td>\n",
       "      <td>5000</td>\n",
       "      <td>unknown</td>\n",
       "      <td>subaru</td>\n",
       "      <td>unknown</td>\n",
       "      <td>2016-03-09</td>\n",
       "    </tr>\n",
       "    <tr>\n",
       "      <th>22375</th>\n",
       "      <td>3900</td>\n",
       "      <td>wagon</td>\n",
       "      <td>1910</td>\n",
       "      <td>manual</td>\n",
       "      <td>90</td>\n",
       "      <td>passat</td>\n",
       "      <td>150000</td>\n",
       "      <td>petrol</td>\n",
       "      <td>volkswagen</td>\n",
       "      <td>unknown</td>\n",
       "      <td>2016-03-16</td>\n",
       "    </tr>\n",
       "    <tr>\n",
       "      <th>23052</th>\n",
       "      <td>50</td>\n",
       "      <td>small</td>\n",
       "      <td>1910</td>\n",
       "      <td>manual</td>\n",
       "      <td>0</td>\n",
       "      <td>unknown</td>\n",
       "      <td>5000</td>\n",
       "      <td>unknown</td>\n",
       "      <td>volkswagen</td>\n",
       "      <td>yes</td>\n",
       "      <td>2016-03-29</td>\n",
       "    </tr>\n",
       "    <tr>\n",
       "      <th>27789</th>\n",
       "      <td>80</td>\n",
       "      <td>small</td>\n",
       "      <td>1910</td>\n",
       "      <td>unknown</td>\n",
       "      <td>0</td>\n",
       "      <td>punto</td>\n",
       "      <td>150000</td>\n",
       "      <td>unknown</td>\n",
       "      <td>fiat</td>\n",
       "      <td>unknown</td>\n",
       "      <td>2016-03-22</td>\n",
       "    </tr>\n",
       "    <tr>\n",
       "      <th>33832</th>\n",
       "      <td>200</td>\n",
       "      <td>other</td>\n",
       "      <td>1910</td>\n",
       "      <td>unknown</td>\n",
       "      <td>0</td>\n",
       "      <td>caddy</td>\n",
       "      <td>150000</td>\n",
       "      <td>gasoline</td>\n",
       "      <td>volkswagen</td>\n",
       "      <td>unknown</td>\n",
       "      <td>2016-03-19</td>\n",
       "    </tr>\n",
       "    <tr>\n",
       "      <th>46103</th>\n",
       "      <td>600</td>\n",
       "      <td>small</td>\n",
       "      <td>1910</td>\n",
       "      <td>manual</td>\n",
       "      <td>0</td>\n",
       "      <td>agila</td>\n",
       "      <td>5000</td>\n",
       "      <td>unknown</td>\n",
       "      <td>opel</td>\n",
       "      <td>yes</td>\n",
       "      <td>2016-03-09</td>\n",
       "    </tr>\n",
       "    <tr>\n",
       "      <th>52952</th>\n",
       "      <td>950</td>\n",
       "      <td>unknown</td>\n",
       "      <td>1400</td>\n",
       "      <td>manual</td>\n",
       "      <td>1400</td>\n",
       "      <td>golf</td>\n",
       "      <td>125000</td>\n",
       "      <td>petrol</td>\n",
       "      <td>volkswagen</td>\n",
       "      <td>unknown</td>\n",
       "      <td>2016-03-30</td>\n",
       "    </tr>\n",
       "    <tr>\n",
       "      <th>59114</th>\n",
       "      <td>3400</td>\n",
       "      <td>small</td>\n",
       "      <td>1910</td>\n",
       "      <td>manual</td>\n",
       "      <td>90</td>\n",
       "      <td>beetle</td>\n",
       "      <td>90000</td>\n",
       "      <td>unknown</td>\n",
       "      <td>volkswagen</td>\n",
       "      <td>no</td>\n",
       "      <td>2016-03-07</td>\n",
       "    </tr>\n",
       "    <tr>\n",
       "      <th>70427</th>\n",
       "      <td>400</td>\n",
       "      <td>unknown</td>\n",
       "      <td>1910</td>\n",
       "      <td>unknown</td>\n",
       "      <td>60</td>\n",
       "      <td>golf</td>\n",
       "      <td>150000</td>\n",
       "      <td>petrol</td>\n",
       "      <td>volkswagen</td>\n",
       "      <td>unknown</td>\n",
       "      <td>2016-03-21</td>\n",
       "    </tr>\n",
       "    <tr>\n",
       "      <th>98573</th>\n",
       "      <td>100</td>\n",
       "      <td>unknown</td>\n",
       "      <td>1234</td>\n",
       "      <td>unknown</td>\n",
       "      <td>0</td>\n",
       "      <td>156</td>\n",
       "      <td>5000</td>\n",
       "      <td>petrol</td>\n",
       "      <td>alfa_romeo</td>\n",
       "      <td>unknown</td>\n",
       "      <td>2016-03-27</td>\n",
       "    </tr>\n",
       "    <tr>\n",
       "      <th>110455</th>\n",
       "      <td>599</td>\n",
       "      <td>small</td>\n",
       "      <td>1910</td>\n",
       "      <td>manual</td>\n",
       "      <td>0</td>\n",
       "      <td>unknown</td>\n",
       "      <td>5000</td>\n",
       "      <td>petrol</td>\n",
       "      <td>renault</td>\n",
       "      <td>unknown</td>\n",
       "      <td>2016-03-22</td>\n",
       "    </tr>\n",
       "    <tr>\n",
       "      <th>110531</th>\n",
       "      <td>8750</td>\n",
       "      <td>convertible</td>\n",
       "      <td>1923</td>\n",
       "      <td>manual</td>\n",
       "      <td>11</td>\n",
       "      <td>c3</td>\n",
       "      <td>5000</td>\n",
       "      <td>petrol</td>\n",
       "      <td>citroen</td>\n",
       "      <td>no</td>\n",
       "      <td>2016-03-14</td>\n",
       "    </tr>\n",
       "    <tr>\n",
       "      <th>115703</th>\n",
       "      <td>8000</td>\n",
       "      <td>other</td>\n",
       "      <td>1930</td>\n",
       "      <td>manual</td>\n",
       "      <td>23</td>\n",
       "      <td>other</td>\n",
       "      <td>150000</td>\n",
       "      <td>petrol</td>\n",
       "      <td>peugeot</td>\n",
       "      <td>unknown</td>\n",
       "      <td>2016-03-08</td>\n",
       "    </tr>\n",
       "    <tr>\n",
       "      <th>129296</th>\n",
       "      <td>11500</td>\n",
       "      <td>convertible</td>\n",
       "      <td>1929</td>\n",
       "      <td>manual</td>\n",
       "      <td>15</td>\n",
       "      <td>other</td>\n",
       "      <td>5000</td>\n",
       "      <td>unknown</td>\n",
       "      <td>bmw</td>\n",
       "      <td>yes</td>\n",
       "      <td>2016-03-09</td>\n",
       "    </tr>\n",
       "    <tr>\n",
       "      <th>135213</th>\n",
       "      <td>550</td>\n",
       "      <td>unknown</td>\n",
       "      <td>1000</td>\n",
       "      <td>unknown</td>\n",
       "      <td>1000</td>\n",
       "      <td>golf</td>\n",
       "      <td>5000</td>\n",
       "      <td>petrol</td>\n",
       "      <td>volkswagen</td>\n",
       "      <td>unknown</td>\n",
       "      <td>2016-03-17</td>\n",
       "    </tr>\n",
       "    <tr>\n",
       "      <th>142427</th>\n",
       "      <td>300</td>\n",
       "      <td>unknown</td>\n",
       "      <td>1910</td>\n",
       "      <td>manual</td>\n",
       "      <td>0</td>\n",
       "      <td>golf</td>\n",
       "      <td>150000</td>\n",
       "      <td>petrol</td>\n",
       "      <td>volkswagen</td>\n",
       "      <td>unknown</td>\n",
       "      <td>2016-04-04</td>\n",
       "    </tr>\n",
       "    <tr>\n",
       "      <th>168732</th>\n",
       "      <td>5200</td>\n",
       "      <td>sedan</td>\n",
       "      <td>1928</td>\n",
       "      <td>unknown</td>\n",
       "      <td>0</td>\n",
       "      <td>other</td>\n",
       "      <td>5000</td>\n",
       "      <td>unknown</td>\n",
       "      <td>citroen</td>\n",
       "      <td>unknown</td>\n",
       "      <td>2016-03-15</td>\n",
       "    </tr>\n",
       "    <tr>\n",
       "      <th>178630</th>\n",
       "      <td>1500</td>\n",
       "      <td>unknown</td>\n",
       "      <td>1000</td>\n",
       "      <td>manual</td>\n",
       "      <td>0</td>\n",
       "      <td>kaefer</td>\n",
       "      <td>5000</td>\n",
       "      <td>petrol</td>\n",
       "      <td>volkswagen</td>\n",
       "      <td>unknown</td>\n",
       "      <td>2016-03-29</td>\n",
       "    </tr>\n",
       "    <tr>\n",
       "      <th>191347</th>\n",
       "      <td>400</td>\n",
       "      <td>unknown</td>\n",
       "      <td>1910</td>\n",
       "      <td>manual</td>\n",
       "      <td>170</td>\n",
       "      <td>3er</td>\n",
       "      <td>5000</td>\n",
       "      <td>unknown</td>\n",
       "      <td>bmw</td>\n",
       "      <td>unknown</td>\n",
       "      <td>2016-04-01</td>\n",
       "    </tr>\n",
       "    <tr>\n",
       "      <th>191856</th>\n",
       "      <td>180</td>\n",
       "      <td>unknown</td>\n",
       "      <td>1910</td>\n",
       "      <td>manual</td>\n",
       "      <td>0</td>\n",
       "      <td>mondeo</td>\n",
       "      <td>150000</td>\n",
       "      <td>petrol</td>\n",
       "      <td>ford</td>\n",
       "      <td>yes</td>\n",
       "      <td>2016-03-10</td>\n",
       "    </tr>\n",
       "    <tr>\n",
       "      <th>192055</th>\n",
       "      <td>222</td>\n",
       "      <td>unknown</td>\n",
       "      <td>1910</td>\n",
       "      <td>manual</td>\n",
       "      <td>0</td>\n",
       "      <td>golf</td>\n",
       "      <td>5000</td>\n",
       "      <td>petrol</td>\n",
       "      <td>volkswagen</td>\n",
       "      <td>unknown</td>\n",
       "      <td>2016-03-07</td>\n",
       "    </tr>\n",
       "    <tr>\n",
       "      <th>210850</th>\n",
       "      <td>1500</td>\n",
       "      <td>bus</td>\n",
       "      <td>1910</td>\n",
       "      <td>manual</td>\n",
       "      <td>999</td>\n",
       "      <td>espace</td>\n",
       "      <td>150000</td>\n",
       "      <td>unknown</td>\n",
       "      <td>renault</td>\n",
       "      <td>unknown</td>\n",
       "      <td>2016-03-20</td>\n",
       "    </tr>\n",
       "    <tr>\n",
       "      <th>216619</th>\n",
       "      <td>11500</td>\n",
       "      <td>convertible</td>\n",
       "      <td>1929</td>\n",
       "      <td>manual</td>\n",
       "      <td>15</td>\n",
       "      <td>other</td>\n",
       "      <td>5000</td>\n",
       "      <td>petrol</td>\n",
       "      <td>bmw</td>\n",
       "      <td>yes</td>\n",
       "      <td>2016-03-09</td>\n",
       "    </tr>\n",
       "    <tr>\n",
       "      <th>221757</th>\n",
       "      <td>9999</td>\n",
       "      <td>convertible</td>\n",
       "      <td>1928</td>\n",
       "      <td>manual</td>\n",
       "      <td>40</td>\n",
       "      <td>other</td>\n",
       "      <td>150000</td>\n",
       "      <td>petrol</td>\n",
       "      <td>ford</td>\n",
       "      <td>unknown</td>\n",
       "      <td>2016-03-17</td>\n",
       "    </tr>\n",
       "    <tr>\n",
       "      <th>225191</th>\n",
       "      <td>220</td>\n",
       "      <td>sedan</td>\n",
       "      <td>1910</td>\n",
       "      <td>manual</td>\n",
       "      <td>0</td>\n",
       "      <td>unknown</td>\n",
       "      <td>150000</td>\n",
       "      <td>unknown</td>\n",
       "      <td>renault</td>\n",
       "      <td>unknown</td>\n",
       "      <td>2016-03-17</td>\n",
       "    </tr>\n",
       "    <tr>\n",
       "      <th>262379</th>\n",
       "      <td>450</td>\n",
       "      <td>unknown</td>\n",
       "      <td>1500</td>\n",
       "      <td>manual</td>\n",
       "      <td>0</td>\n",
       "      <td>unknown</td>\n",
       "      <td>5000</td>\n",
       "      <td>unknown</td>\n",
       "      <td>volkswagen</td>\n",
       "      <td>yes</td>\n",
       "      <td>2016-03-09</td>\n",
       "    </tr>\n",
       "    <tr>\n",
       "      <th>270668</th>\n",
       "      <td>500</td>\n",
       "      <td>unknown</td>\n",
       "      <td>1602</td>\n",
       "      <td>manual</td>\n",
       "      <td>0</td>\n",
       "      <td>other</td>\n",
       "      <td>5000</td>\n",
       "      <td>unknown</td>\n",
       "      <td>bmw</td>\n",
       "      <td>yes</td>\n",
       "      <td>2016-03-09</td>\n",
       "    </tr>\n",
       "    <tr>\n",
       "      <th>282514</th>\n",
       "      <td>16500</td>\n",
       "      <td>convertible</td>\n",
       "      <td>1927</td>\n",
       "      <td>manual</td>\n",
       "      <td>40</td>\n",
       "      <td>other</td>\n",
       "      <td>5000</td>\n",
       "      <td>petrol</td>\n",
       "      <td>ford</td>\n",
       "      <td>unknown</td>\n",
       "      <td>2016-03-12</td>\n",
       "    </tr>\n",
       "    <tr>\n",
       "      <th>286596</th>\n",
       "      <td>150</td>\n",
       "      <td>unknown</td>\n",
       "      <td>1910</td>\n",
       "      <td>manual</td>\n",
       "      <td>0</td>\n",
       "      <td>ka</td>\n",
       "      <td>5000</td>\n",
       "      <td>petrol</td>\n",
       "      <td>ford</td>\n",
       "      <td>yes</td>\n",
       "      <td>2016-03-26</td>\n",
       "    </tr>\n",
       "    <tr>\n",
       "      <th>288671</th>\n",
       "      <td>16800</td>\n",
       "      <td>other</td>\n",
       "      <td>1930</td>\n",
       "      <td>manual</td>\n",
       "      <td>24</td>\n",
       "      <td>other</td>\n",
       "      <td>150000</td>\n",
       "      <td>petrol</td>\n",
       "      <td>ford</td>\n",
       "      <td>no</td>\n",
       "      <td>2016-03-29</td>\n",
       "    </tr>\n",
       "    <tr>\n",
       "      <th>303371</th>\n",
       "      <td>180</td>\n",
       "      <td>unknown</td>\n",
       "      <td>1910</td>\n",
       "      <td>manual</td>\n",
       "      <td>0</td>\n",
       "      <td>mondeo</td>\n",
       "      <td>150000</td>\n",
       "      <td>petrol</td>\n",
       "      <td>ford</td>\n",
       "      <td>yes</td>\n",
       "      <td>2016-03-10</td>\n",
       "    </tr>\n",
       "    <tr>\n",
       "      <th>305320</th>\n",
       "      <td>8750</td>\n",
       "      <td>convertible</td>\n",
       "      <td>1923</td>\n",
       "      <td>manual</td>\n",
       "      <td>8</td>\n",
       "      <td>c3</td>\n",
       "      <td>5000</td>\n",
       "      <td>petrol</td>\n",
       "      <td>citroen</td>\n",
       "      <td>no</td>\n",
       "      <td>2016-03-16</td>\n",
       "    </tr>\n",
       "    <tr>\n",
       "      <th>316684</th>\n",
       "      <td>20000</td>\n",
       "      <td>coupe</td>\n",
       "      <td>1929</td>\n",
       "      <td>manual</td>\n",
       "      <td>12</td>\n",
       "      <td>other</td>\n",
       "      <td>10000</td>\n",
       "      <td>petrol</td>\n",
       "      <td>bmw</td>\n",
       "      <td>unknown</td>\n",
       "      <td>2016-03-11</td>\n",
       "    </tr>\n",
       "    <tr>\n",
       "      <th>321072</th>\n",
       "      <td>700</td>\n",
       "      <td>unknown</td>\n",
       "      <td>1600</td>\n",
       "      <td>manual</td>\n",
       "      <td>1600</td>\n",
       "      <td>a3</td>\n",
       "      <td>150000</td>\n",
       "      <td>petrol</td>\n",
       "      <td>audi</td>\n",
       "      <td>no</td>\n",
       "      <td>2016-04-04</td>\n",
       "    </tr>\n",
       "    <tr>\n",
       "      <th>331368</th>\n",
       "      <td>11500</td>\n",
       "      <td>unknown</td>\n",
       "      <td>1800</td>\n",
       "      <td>unknown</td>\n",
       "      <td>16</td>\n",
       "      <td>other</td>\n",
       "      <td>5000</td>\n",
       "      <td>petrol</td>\n",
       "      <td>fiat</td>\n",
       "      <td>unknown</td>\n",
       "      <td>2016-03-11</td>\n",
       "    </tr>\n",
       "  </tbody>\n",
       "</table>\n",
       "</div>"
      ],
      "text/plain": [
       "        Price  VehicleType  RegistrationYear  Gearbox  Power    Model  \\\n",
       "14        450        small              1910  unknown      0       ka   \n",
       "17194    7999      unknown              1500   manual    224  impreza   \n",
       "22375    3900        wagon              1910   manual     90   passat   \n",
       "23052      50        small              1910   manual      0  unknown   \n",
       "27789      80        small              1910  unknown      0    punto   \n",
       "33832     200        other              1910  unknown      0    caddy   \n",
       "46103     600        small              1910   manual      0    agila   \n",
       "52952     950      unknown              1400   manual   1400     golf   \n",
       "59114    3400        small              1910   manual     90   beetle   \n",
       "70427     400      unknown              1910  unknown     60     golf   \n",
       "98573     100      unknown              1234  unknown      0      156   \n",
       "110455    599        small              1910   manual      0  unknown   \n",
       "110531   8750  convertible              1923   manual     11       c3   \n",
       "115703   8000        other              1930   manual     23    other   \n",
       "129296  11500  convertible              1929   manual     15    other   \n",
       "135213    550      unknown              1000  unknown   1000     golf   \n",
       "142427    300      unknown              1910   manual      0     golf   \n",
       "168732   5200        sedan              1928  unknown      0    other   \n",
       "178630   1500      unknown              1000   manual      0   kaefer   \n",
       "191347    400      unknown              1910   manual    170      3er   \n",
       "191856    180      unknown              1910   manual      0   mondeo   \n",
       "192055    222      unknown              1910   manual      0     golf   \n",
       "210850   1500          bus              1910   manual    999   espace   \n",
       "216619  11500  convertible              1929   manual     15    other   \n",
       "221757   9999  convertible              1928   manual     40    other   \n",
       "225191    220        sedan              1910   manual      0  unknown   \n",
       "262379    450      unknown              1500   manual      0  unknown   \n",
       "270668    500      unknown              1602   manual      0    other   \n",
       "282514  16500  convertible              1927   manual     40    other   \n",
       "286596    150      unknown              1910   manual      0       ka   \n",
       "288671  16800        other              1930   manual     24    other   \n",
       "303371    180      unknown              1910   manual      0   mondeo   \n",
       "305320   8750  convertible              1923   manual      8       c3   \n",
       "316684  20000        coupe              1929   manual     12    other   \n",
       "321072    700      unknown              1600   manual   1600       a3   \n",
       "331368  11500      unknown              1800  unknown     16    other   \n",
       "\n",
       "        Kilometer  FuelType       Brand Repaired DateCreated  \n",
       "14           5000    petrol        ford  unknown  2016-03-11  \n",
       "17194        5000   unknown      subaru  unknown  2016-03-09  \n",
       "22375      150000    petrol  volkswagen  unknown  2016-03-16  \n",
       "23052        5000   unknown  volkswagen      yes  2016-03-29  \n",
       "27789      150000   unknown        fiat  unknown  2016-03-22  \n",
       "33832      150000  gasoline  volkswagen  unknown  2016-03-19  \n",
       "46103        5000   unknown        opel      yes  2016-03-09  \n",
       "52952      125000    petrol  volkswagen  unknown  2016-03-30  \n",
       "59114       90000   unknown  volkswagen       no  2016-03-07  \n",
       "70427      150000    petrol  volkswagen  unknown  2016-03-21  \n",
       "98573        5000    petrol  alfa_romeo  unknown  2016-03-27  \n",
       "110455       5000    petrol     renault  unknown  2016-03-22  \n",
       "110531       5000    petrol     citroen       no  2016-03-14  \n",
       "115703     150000    petrol     peugeot  unknown  2016-03-08  \n",
       "129296       5000   unknown         bmw      yes  2016-03-09  \n",
       "135213       5000    petrol  volkswagen  unknown  2016-03-17  \n",
       "142427     150000    petrol  volkswagen  unknown  2016-04-04  \n",
       "168732       5000   unknown     citroen  unknown  2016-03-15  \n",
       "178630       5000    petrol  volkswagen  unknown  2016-03-29  \n",
       "191347       5000   unknown         bmw  unknown  2016-04-01  \n",
       "191856     150000    petrol        ford      yes  2016-03-10  \n",
       "192055       5000    petrol  volkswagen  unknown  2016-03-07  \n",
       "210850     150000   unknown     renault  unknown  2016-03-20  \n",
       "216619       5000    petrol         bmw      yes  2016-03-09  \n",
       "221757     150000    petrol        ford  unknown  2016-03-17  \n",
       "225191     150000   unknown     renault  unknown  2016-03-17  \n",
       "262379       5000   unknown  volkswagen      yes  2016-03-09  \n",
       "270668       5000   unknown         bmw      yes  2016-03-09  \n",
       "282514       5000    petrol        ford  unknown  2016-03-12  \n",
       "286596       5000    petrol        ford      yes  2016-03-26  \n",
       "288671     150000    petrol        ford       no  2016-03-29  \n",
       "303371     150000    petrol        ford      yes  2016-03-10  \n",
       "305320       5000    petrol     citroen       no  2016-03-16  \n",
       "316684      10000    petrol         bmw  unknown  2016-03-11  \n",
       "321072     150000    petrol        audi       no  2016-04-04  \n",
       "331368       5000    petrol        fiat  unknown  2016-03-11  "
      ]
     },
     "metadata": {},
     "output_type": "display_data"
    },
    {
     "data": {
      "text/plain": [
       "(36, 11)"
      ]
     },
     "execution_count": 82,
     "metadata": {},
     "output_type": "execute_result"
    }
   ],
   "source": [
    "display(data.loc[(data['RegistrationYear']<=1930)])\n",
    "data.loc[(data['RegistrationYear']<=1930)].shape"
   ]
  },
  {
   "cell_type": "markdown",
   "metadata": {},
   "source": [
    "Данные 36 записей вполне реально оценить самостоятельно. Можно сделать вывод, что среди них присутствуют как реальные дорогие ретро-автомобили с подобающими характеристиками, так и ошибочные записи. Среди записей до 1927 года не выявлено ни одной правдоподобной, так что они будут удалены."
   ]
  },
  {
   "cell_type": "code",
   "execution_count": 83,
   "metadata": {},
   "outputs": [],
   "source": [
    "data = data.drop(data[data['RegistrationYear']<1927].index).reset_index(drop=True)\n"
   ]
  },
  {
   "cell_type": "markdown",
   "metadata": {},
   "source": [
    "Ниже рассмотрим записи, в которых год регистрации автомобиля превышает год публикации объявления."
   ]
  },
  {
   "cell_type": "code",
   "execution_count": 84,
   "metadata": {
    "scrolled": false
   },
   "outputs": [],
   "source": [
    "index_to_drop = data.loc[(data['DateCreated'].dt.year) < (data['RegistrationYear'])].index"
   ]
  },
  {
   "cell_type": "code",
   "execution_count": 85,
   "metadata": {
    "scrolled": false
   },
   "outputs": [
    {
     "data": {
      "text/html": [
       "<div>\n",
       "<style scoped>\n",
       "    .dataframe tbody tr th:only-of-type {\n",
       "        vertical-align: middle;\n",
       "    }\n",
       "\n",
       "    .dataframe tbody tr th {\n",
       "        vertical-align: top;\n",
       "    }\n",
       "\n",
       "    .dataframe thead th {\n",
       "        text-align: right;\n",
       "    }\n",
       "</style>\n",
       "<table border=\"1\" class=\"dataframe\">\n",
       "  <thead>\n",
       "    <tr style=\"text-align: right;\">\n",
       "      <th></th>\n",
       "      <th>Price</th>\n",
       "      <th>VehicleType</th>\n",
       "      <th>RegistrationYear</th>\n",
       "      <th>Gearbox</th>\n",
       "      <th>Power</th>\n",
       "      <th>Model</th>\n",
       "      <th>Kilometer</th>\n",
       "      <th>FuelType</th>\n",
       "      <th>Brand</th>\n",
       "      <th>Repaired</th>\n",
       "      <th>DateCreated</th>\n",
       "    </tr>\n",
       "  </thead>\n",
       "  <tbody>\n",
       "    <tr>\n",
       "      <th>20</th>\n",
       "      <td>2900</td>\n",
       "      <td>unknown</td>\n",
       "      <td>2018</td>\n",
       "      <td>manual</td>\n",
       "      <td>90</td>\n",
       "      <td>meriva</td>\n",
       "      <td>150000</td>\n",
       "      <td>petrol</td>\n",
       "      <td>opel</td>\n",
       "      <td>no</td>\n",
       "      <td>2016-03-23</td>\n",
       "    </tr>\n",
       "    <tr>\n",
       "      <th>24</th>\n",
       "      <td>5555</td>\n",
       "      <td>unknown</td>\n",
       "      <td>2017</td>\n",
       "      <td>manual</td>\n",
       "      <td>125</td>\n",
       "      <td>c4</td>\n",
       "      <td>125000</td>\n",
       "      <td>unknown</td>\n",
       "      <td>citroen</td>\n",
       "      <td>no</td>\n",
       "      <td>2016-03-10</td>\n",
       "    </tr>\n",
       "    <tr>\n",
       "      <th>45</th>\n",
       "      <td>7750</td>\n",
       "      <td>unknown</td>\n",
       "      <td>2017</td>\n",
       "      <td>manual</td>\n",
       "      <td>80</td>\n",
       "      <td>golf</td>\n",
       "      <td>100000</td>\n",
       "      <td>petrol</td>\n",
       "      <td>volkswagen</td>\n",
       "      <td>unknown</td>\n",
       "      <td>2016-03-25</td>\n",
       "    </tr>\n",
       "    <tr>\n",
       "      <th>48</th>\n",
       "      <td>2000</td>\n",
       "      <td>unknown</td>\n",
       "      <td>2017</td>\n",
       "      <td>manual</td>\n",
       "      <td>90</td>\n",
       "      <td>punto</td>\n",
       "      <td>150000</td>\n",
       "      <td>gasoline</td>\n",
       "      <td>fiat</td>\n",
       "      <td>yes</td>\n",
       "      <td>2016-03-07</td>\n",
       "    </tr>\n",
       "    <tr>\n",
       "      <th>54</th>\n",
       "      <td>2399</td>\n",
       "      <td>unknown</td>\n",
       "      <td>2018</td>\n",
       "      <td>manual</td>\n",
       "      <td>64</td>\n",
       "      <td>other</td>\n",
       "      <td>125000</td>\n",
       "      <td>unknown</td>\n",
       "      <td>seat</td>\n",
       "      <td>no</td>\n",
       "      <td>2016-03-10</td>\n",
       "    </tr>\n",
       "    <tr>\n",
       "      <th>...</th>\n",
       "      <td>...</td>\n",
       "      <td>...</td>\n",
       "      <td>...</td>\n",
       "      <td>...</td>\n",
       "      <td>...</td>\n",
       "      <td>...</td>\n",
       "      <td>...</td>\n",
       "      <td>...</td>\n",
       "      <td>...</td>\n",
       "      <td>...</td>\n",
       "      <td>...</td>\n",
       "    </tr>\n",
       "    <tr>\n",
       "      <th>333639</th>\n",
       "      <td>3600</td>\n",
       "      <td>unknown</td>\n",
       "      <td>2017</td>\n",
       "      <td>manual</td>\n",
       "      <td>86</td>\n",
       "      <td>transit</td>\n",
       "      <td>150000</td>\n",
       "      <td>gasoline</td>\n",
       "      <td>ford</td>\n",
       "      <td>unknown</td>\n",
       "      <td>2016-03-11</td>\n",
       "    </tr>\n",
       "    <tr>\n",
       "      <th>333664</th>\n",
       "      <td>1000</td>\n",
       "      <td>unknown</td>\n",
       "      <td>2017</td>\n",
       "      <td>manual</td>\n",
       "      <td>101</td>\n",
       "      <td>a4</td>\n",
       "      <td>150000</td>\n",
       "      <td>unknown</td>\n",
       "      <td>audi</td>\n",
       "      <td>unknown</td>\n",
       "      <td>2016-03-29</td>\n",
       "    </tr>\n",
       "    <tr>\n",
       "      <th>333724</th>\n",
       "      <td>2140</td>\n",
       "      <td>unknown</td>\n",
       "      <td>2018</td>\n",
       "      <td>manual</td>\n",
       "      <td>80</td>\n",
       "      <td>fiesta</td>\n",
       "      <td>150000</td>\n",
       "      <td>unknown</td>\n",
       "      <td>ford</td>\n",
       "      <td>no</td>\n",
       "      <td>2016-03-17</td>\n",
       "    </tr>\n",
       "    <tr>\n",
       "      <th>333770</th>\n",
       "      <td>1250</td>\n",
       "      <td>unknown</td>\n",
       "      <td>2018</td>\n",
       "      <td>unknown</td>\n",
       "      <td>0</td>\n",
       "      <td>corsa</td>\n",
       "      <td>150000</td>\n",
       "      <td>petrol</td>\n",
       "      <td>opel</td>\n",
       "      <td>unknown</td>\n",
       "      <td>2016-03-25</td>\n",
       "    </tr>\n",
       "    <tr>\n",
       "      <th>333805</th>\n",
       "      <td>5000</td>\n",
       "      <td>unknown</td>\n",
       "      <td>2017</td>\n",
       "      <td>manual</td>\n",
       "      <td>120</td>\n",
       "      <td>other</td>\n",
       "      <td>150000</td>\n",
       "      <td>unknown</td>\n",
       "      <td>citroen</td>\n",
       "      <td>yes</td>\n",
       "      <td>2016-03-05</td>\n",
       "    </tr>\n",
       "  </tbody>\n",
       "</table>\n",
       "<p>12676 rows × 11 columns</p>\n",
       "</div>"
      ],
      "text/plain": [
       "        Price VehicleType  RegistrationYear  Gearbox  Power    Model  \\\n",
       "20       2900     unknown              2018   manual     90   meriva   \n",
       "24       5555     unknown              2017   manual    125       c4   \n",
       "45       7750     unknown              2017   manual     80     golf   \n",
       "48       2000     unknown              2017   manual     90    punto   \n",
       "54       2399     unknown              2018   manual     64    other   \n",
       "...       ...         ...               ...      ...    ...      ...   \n",
       "333639   3600     unknown              2017   manual     86  transit   \n",
       "333664   1000     unknown              2017   manual    101       a4   \n",
       "333724   2140     unknown              2018   manual     80   fiesta   \n",
       "333770   1250     unknown              2018  unknown      0    corsa   \n",
       "333805   5000     unknown              2017   manual    120    other   \n",
       "\n",
       "        Kilometer  FuelType       Brand Repaired DateCreated  \n",
       "20         150000    petrol        opel       no  2016-03-23  \n",
       "24         125000   unknown     citroen       no  2016-03-10  \n",
       "45         100000    petrol  volkswagen  unknown  2016-03-25  \n",
       "48         150000  gasoline        fiat      yes  2016-03-07  \n",
       "54         125000   unknown        seat       no  2016-03-10  \n",
       "...           ...       ...         ...      ...         ...  \n",
       "333639     150000  gasoline        ford  unknown  2016-03-11  \n",
       "333664     150000   unknown        audi  unknown  2016-03-29  \n",
       "333724     150000   unknown        ford       no  2016-03-17  \n",
       "333770     150000    petrol        opel  unknown  2016-03-25  \n",
       "333805     150000   unknown     citroen      yes  2016-03-05  \n",
       "\n",
       "[12676 rows x 11 columns]"
      ]
     },
     "execution_count": 85,
     "metadata": {},
     "output_type": "execute_result"
    }
   ],
   "source": [
    "data.loc[index_to_drop,:]"
   ]
  },
  {
   "cell_type": "code",
   "execution_count": 86,
   "metadata": {},
   "outputs": [
    {
     "data": {
      "text/html": [
       "<div>\n",
       "<style scoped>\n",
       "    .dataframe tbody tr th:only-of-type {\n",
       "        vertical-align: middle;\n",
       "    }\n",
       "\n",
       "    .dataframe tbody tr th {\n",
       "        vertical-align: top;\n",
       "    }\n",
       "\n",
       "    .dataframe thead th {\n",
       "        text-align: right;\n",
       "    }\n",
       "</style>\n",
       "<table border=\"1\" class=\"dataframe\">\n",
       "  <thead>\n",
       "    <tr style=\"text-align: right;\">\n",
       "      <th></th>\n",
       "      <th>Price</th>\n",
       "      <th>RegistrationYear</th>\n",
       "      <th>Power</th>\n",
       "      <th>Kilometer</th>\n",
       "    </tr>\n",
       "  </thead>\n",
       "  <tbody>\n",
       "    <tr>\n",
       "      <th>count</th>\n",
       "      <td>12676.000000</td>\n",
       "      <td>12676.000000</td>\n",
       "      <td>12676.000000</td>\n",
       "      <td>12676.000000</td>\n",
       "    </tr>\n",
       "    <tr>\n",
       "      <th>mean</th>\n",
       "      <td>3395.015620</td>\n",
       "      <td>2025.006232</td>\n",
       "      <td>91.039524</td>\n",
       "      <td>132916.929631</td>\n",
       "    </tr>\n",
       "    <tr>\n",
       "      <th>std</th>\n",
       "      <td>3480.645069</td>\n",
       "      <td>195.757382</td>\n",
       "      <td>258.128050</td>\n",
       "      <td>34820.386156</td>\n",
       "    </tr>\n",
       "    <tr>\n",
       "      <th>min</th>\n",
       "      <td>50.000000</td>\n",
       "      <td>2017.000000</td>\n",
       "      <td>0.000000</td>\n",
       "      <td>5000.000000</td>\n",
       "    </tr>\n",
       "    <tr>\n",
       "      <th>25%</th>\n",
       "      <td>1100.000000</td>\n",
       "      <td>2017.000000</td>\n",
       "      <td>50.000000</td>\n",
       "      <td>125000.000000</td>\n",
       "    </tr>\n",
       "    <tr>\n",
       "      <th>50%</th>\n",
       "      <td>2000.000000</td>\n",
       "      <td>2017.000000</td>\n",
       "      <td>82.000000</td>\n",
       "      <td>150000.000000</td>\n",
       "    </tr>\n",
       "    <tr>\n",
       "      <th>75%</th>\n",
       "      <td>4360.000000</td>\n",
       "      <td>2018.000000</td>\n",
       "      <td>120.000000</td>\n",
       "      <td>150000.000000</td>\n",
       "    </tr>\n",
       "    <tr>\n",
       "      <th>max</th>\n",
       "      <td>20000.000000</td>\n",
       "      <td>9999.000000</td>\n",
       "      <td>16011.000000</td>\n",
       "      <td>150000.000000</td>\n",
       "    </tr>\n",
       "  </tbody>\n",
       "</table>\n",
       "</div>"
      ],
      "text/plain": [
       "              Price  RegistrationYear         Power      Kilometer\n",
       "count  12676.000000      12676.000000  12676.000000   12676.000000\n",
       "mean    3395.015620       2025.006232     91.039524  132916.929631\n",
       "std     3480.645069        195.757382    258.128050   34820.386156\n",
       "min       50.000000       2017.000000      0.000000    5000.000000\n",
       "25%     1100.000000       2017.000000     50.000000  125000.000000\n",
       "50%     2000.000000       2017.000000     82.000000  150000.000000\n",
       "75%     4360.000000       2018.000000    120.000000  150000.000000\n",
       "max    20000.000000       9999.000000  16011.000000  150000.000000"
      ]
     },
     "execution_count": 86,
     "metadata": {},
     "output_type": "execute_result"
    }
   ],
   "source": [
    "data.loc[index_to_drop,:].describe()"
   ]
  },
  {
   "cell_type": "markdown",
   "metadata": {},
   "source": [
    "В полученной таблице доминируют автомобили с большим пробегом, а также присутствуют явно неверные значения года выпуска. \n",
    "Сделаем вывод, что год регистрации после года публикации объявления - ошибка.\n",
    "\n",
    "Истинный год регистрации достоверно не известен, в то же время использовать заглушку \"0\" мы не можем, чтоб не нарушить веса признаков при ML.\n",
    "\n",
    "В соответствии с этим, планируется данные значения заменить на медианные по модели автомобиля."
   ]
  },
  {
   "cell_type": "code",
   "execution_count": 87,
   "metadata": {},
   "outputs": [],
   "source": [
    "data.loc[index_to_drop, 'RegistrationYear'] = np.nan\n",
    "# заменяем недостоверные значения на пропуски"
   ]
  },
  {
   "cell_type": "markdown",
   "metadata": {},
   "source": [
    "Объявим функцию для группировки записей по выбранному признаку и заполнения пропусков медианным значением. "
   ]
  },
  {
   "cell_type": "code",
   "execution_count": 88,
   "metadata": {},
   "outputs": [],
   "source": [
    "def fill_median(df, groupby_feature, filled_feature): # на вход подаём датафрейм, подлежащий изменению,\n",
    "                                                    # признак по которому группируем\n",
    "                                                    # и признак, для которого будем рассчитывать медиану\n",
    "    median_table = df.groupby(groupby_feature)[filled_feature].median()\n",
    "    # эта таблица будет содержать медианы заполняемого признака, а индексом будут значения признака, по которому группируем\n",
    "    for value in df[groupby_feature].unique():  \n",
    "        df.loc[(df[groupby_feature]==value) & (df[filled_feature].isna()), filled_feature] = median_table[value]\n",
    "    # отбираем строки, в которых заполняемый признак пропущен, заполняем.\n",
    "\n",
    "    "
   ]
  },
  {
   "cell_type": "code",
   "execution_count": 89,
   "metadata": {
    "scrolled": false
   },
   "outputs": [],
   "source": [
    "fill_median(data, 'Model', 'RegistrationYear')\n",
    "\n",
    "# вызываем функцию - заполняем пропуски в годе регистрации медианным значением по модели"
   ]
  },
  {
   "cell_type": "code",
   "execution_count": 90,
   "metadata": {
    "scrolled": true
   },
   "outputs": [
    {
     "data": {
      "text/html": [
       "<div>\n",
       "<style scoped>\n",
       "    .dataframe tbody tr th:only-of-type {\n",
       "        vertical-align: middle;\n",
       "    }\n",
       "\n",
       "    .dataframe tbody tr th {\n",
       "        vertical-align: top;\n",
       "    }\n",
       "\n",
       "    .dataframe thead th {\n",
       "        text-align: right;\n",
       "    }\n",
       "</style>\n",
       "<table border=\"1\" class=\"dataframe\">\n",
       "  <thead>\n",
       "    <tr style=\"text-align: right;\">\n",
       "      <th></th>\n",
       "      <th>Price</th>\n",
       "      <th>VehicleType</th>\n",
       "      <th>RegistrationYear</th>\n",
       "      <th>Gearbox</th>\n",
       "      <th>Power</th>\n",
       "      <th>Model</th>\n",
       "      <th>Kilometer</th>\n",
       "      <th>FuelType</th>\n",
       "      <th>Brand</th>\n",
       "      <th>Repaired</th>\n",
       "      <th>DateCreated</th>\n",
       "    </tr>\n",
       "  </thead>\n",
       "  <tbody>\n",
       "  </tbody>\n",
       "</table>\n",
       "</div>"
      ],
      "text/plain": [
       "Empty DataFrame\n",
       "Columns: [Price, VehicleType, RegistrationYear, Gearbox, Power, Model, Kilometer, FuelType, Brand, Repaired, DateCreated]\n",
       "Index: []"
      ]
     },
     "execution_count": 90,
     "metadata": {},
     "output_type": "execute_result"
    }
   ],
   "source": [
    "data.loc[(data['DateCreated'].dt.year) < (data['RegistrationYear'])]\n",
    "\n",
    "# проверяем, что ошибок в годе регистрации не осталось"
   ]
  },
  {
   "cell_type": "code",
   "execution_count": 91,
   "metadata": {},
   "outputs": [
    {
     "data": {
      "text/plain": [
       "Price               0\n",
       "VehicleType         0\n",
       "RegistrationYear    0\n",
       "Gearbox             0\n",
       "Power               0\n",
       "Model               0\n",
       "Kilometer           0\n",
       "FuelType            0\n",
       "Brand               0\n",
       "Repaired            0\n",
       "DateCreated         0\n",
       "dtype: int64"
      ]
     },
     "execution_count": 91,
     "metadata": {},
     "output_type": "execute_result"
    }
   ],
   "source": [
    "data.isna().sum()\n",
    "# проверяем оставшиеся пропуски"
   ]
  },
  {
   "cell_type": "markdown",
   "metadata": {},
   "source": [
    "<div class=\"alert alert-block alert-success\">\n",
    "<b>✔️ Успех:</b>\n",
    "\n",
    "Молодец, что для верхней границы используешь дату скачивания анкеты 👍\n",
    "</div>"
   ]
  },
  {
   "cell_type": "markdown",
   "metadata": {},
   "source": [
    "Таким образом, ошибки в годе регистрации удалены или заменены медианой.\n",
    "\n",
    "##### Изучение выбросов в столбце 'Power'"
   ]
  },
  {
   "cell_type": "code",
   "execution_count": 92,
   "metadata": {
    "scrolled": false
   },
   "outputs": [
    {
     "data": {
      "text/plain": [
       "<AxesSubplot:>"
      ]
     },
     "execution_count": 92,
     "metadata": {},
     "output_type": "execute_result"
    },
    {
     "data": {
      "image/png": "[encoded data removed]",
      "text/plain": [
       "<Figure size 720x504 with 1 Axes>"
      ]
     },
     "metadata": {
      "needs_background": "light"
     },
     "output_type": "display_data"
    }
   ],
   "source": [
    "data['Power'].hist(figsize=[10,7], bins = 100)"
   ]
  },
  {
   "cell_type": "markdown",
   "metadata": {},
   "source": [
    "Как видно из гистограммы, в этом признаке присутствуют значимые выбросы. Рассмотрим их ближе."
   ]
  },
  {
   "cell_type": "code",
   "execution_count": 93,
   "metadata": {
    "scrolled": false
   },
   "outputs": [
    {
     "data": {
      "text/plain": [
       "<AxesSubplot:>"
      ]
     },
     "execution_count": 93,
     "metadata": {},
     "output_type": "execute_result"
    },
    {
     "data": {
      "image/png": "[encoded data removed]",
      "text/plain": [
       "<Figure size 720x360 with 1 Axes>"
      ]
     },
     "metadata": {
      "needs_background": "light"
     },
     "output_type": "display_data"
    }
   ],
   "source": [
    "data[(data['Power']<50) & (data['Power']>10)]['Power'].hist(bins=20, figsize=[10,5])"
   ]
  },
  {
   "cell_type": "markdown",
   "metadata": {},
   "source": [
    "Выведем информацию и количество автомобилей мощностью менее 30л.с. и более 10."
   ]
  },
  {
   "cell_type": "code",
   "execution_count": 94,
   "metadata": {
    "scrolled": false
   },
   "outputs": [
    {
     "data": {
      "text/html": [
       "<div>\n",
       "<style scoped>\n",
       "    .dataframe tbody tr th:only-of-type {\n",
       "        vertical-align: middle;\n",
       "    }\n",
       "\n",
       "    .dataframe tbody tr th {\n",
       "        vertical-align: top;\n",
       "    }\n",
       "\n",
       "    .dataframe thead th {\n",
       "        text-align: right;\n",
       "    }\n",
       "</style>\n",
       "<table border=\"1\" class=\"dataframe\">\n",
       "  <thead>\n",
       "    <tr style=\"text-align: right;\">\n",
       "      <th></th>\n",
       "      <th>Price</th>\n",
       "      <th>VehicleType</th>\n",
       "      <th>RegistrationYear</th>\n",
       "      <th>Gearbox</th>\n",
       "      <th>Power</th>\n",
       "      <th>Model</th>\n",
       "      <th>Kilometer</th>\n",
       "      <th>FuelType</th>\n",
       "      <th>Brand</th>\n",
       "      <th>Repaired</th>\n",
       "      <th>DateCreated</th>\n",
       "    </tr>\n",
       "  </thead>\n",
       "  <tbody>\n",
       "    <tr>\n",
       "      <th>1168</th>\n",
       "      <td>4450</td>\n",
       "      <td>small</td>\n",
       "      <td>1971.0</td>\n",
       "      <td>manual</td>\n",
       "      <td>23</td>\n",
       "      <td>500</td>\n",
       "      <td>70000</td>\n",
       "      <td>petrol</td>\n",
       "      <td>fiat</td>\n",
       "      <td>no</td>\n",
       "      <td>2016-03-08</td>\n",
       "    </tr>\n",
       "    <tr>\n",
       "      <th>3215</th>\n",
       "      <td>2300</td>\n",
       "      <td>unknown</td>\n",
       "      <td>1987.0</td>\n",
       "      <td>manual</td>\n",
       "      <td>26</td>\n",
       "      <td>601</td>\n",
       "      <td>70000</td>\n",
       "      <td>unknown</td>\n",
       "      <td>trabant</td>\n",
       "      <td>no</td>\n",
       "      <td>2016-03-27</td>\n",
       "    </tr>\n",
       "    <tr>\n",
       "      <th>4359</th>\n",
       "      <td>870</td>\n",
       "      <td>wagon</td>\n",
       "      <td>2000.0</td>\n",
       "      <td>manual</td>\n",
       "      <td>16</td>\n",
       "      <td>focus</td>\n",
       "      <td>150000</td>\n",
       "      <td>unknown</td>\n",
       "      <td>ford</td>\n",
       "      <td>no</td>\n",
       "      <td>2016-03-21</td>\n",
       "    </tr>\n",
       "    <tr>\n",
       "      <th>5343</th>\n",
       "      <td>650</td>\n",
       "      <td>sedan</td>\n",
       "      <td>1985.0</td>\n",
       "      <td>manual</td>\n",
       "      <td>26</td>\n",
       "      <td>601</td>\n",
       "      <td>30000</td>\n",
       "      <td>petrol</td>\n",
       "      <td>trabant</td>\n",
       "      <td>yes</td>\n",
       "      <td>2016-03-16</td>\n",
       "    </tr>\n",
       "    <tr>\n",
       "      <th>5435</th>\n",
       "      <td>10000</td>\n",
       "      <td>unknown</td>\n",
       "      <td>1980.0</td>\n",
       "      <td>manual</td>\n",
       "      <td>26</td>\n",
       "      <td>601</td>\n",
       "      <td>40000</td>\n",
       "      <td>unknown</td>\n",
       "      <td>trabant</td>\n",
       "      <td>no</td>\n",
       "      <td>2016-03-10</td>\n",
       "    </tr>\n",
       "    <tr>\n",
       "      <th>...</th>\n",
       "      <td>...</td>\n",
       "      <td>...</td>\n",
       "      <td>...</td>\n",
       "      <td>...</td>\n",
       "      <td>...</td>\n",
       "      <td>...</td>\n",
       "      <td>...</td>\n",
       "      <td>...</td>\n",
       "      <td>...</td>\n",
       "      <td>...</td>\n",
       "      <td>...</td>\n",
       "    </tr>\n",
       "    <tr>\n",
       "      <th>328557</th>\n",
       "      <td>3500</td>\n",
       "      <td>sedan</td>\n",
       "      <td>1984.0</td>\n",
       "      <td>manual</td>\n",
       "      <td>26</td>\n",
       "      <td>601</td>\n",
       "      <td>70000</td>\n",
       "      <td>petrol</td>\n",
       "      <td>trabant</td>\n",
       "      <td>unknown</td>\n",
       "      <td>2016-03-13</td>\n",
       "    </tr>\n",
       "    <tr>\n",
       "      <th>328718</th>\n",
       "      <td>5690</td>\n",
       "      <td>small</td>\n",
       "      <td>2014.0</td>\n",
       "      <td>auto</td>\n",
       "      <td>18</td>\n",
       "      <td>other</td>\n",
       "      <td>10000</td>\n",
       "      <td>electric</td>\n",
       "      <td>renault</td>\n",
       "      <td>no</td>\n",
       "      <td>2016-03-07</td>\n",
       "    </tr>\n",
       "    <tr>\n",
       "      <th>328848</th>\n",
       "      <td>1000</td>\n",
       "      <td>sedan</td>\n",
       "      <td>1989.0</td>\n",
       "      <td>manual</td>\n",
       "      <td>26</td>\n",
       "      <td>601</td>\n",
       "      <td>80000</td>\n",
       "      <td>petrol</td>\n",
       "      <td>trabant</td>\n",
       "      <td>unknown</td>\n",
       "      <td>2016-03-25</td>\n",
       "    </tr>\n",
       "    <tr>\n",
       "      <th>333009</th>\n",
       "      <td>2900</td>\n",
       "      <td>small</td>\n",
       "      <td>1969.0</td>\n",
       "      <td>manual</td>\n",
       "      <td>18</td>\n",
       "      <td>500</td>\n",
       "      <td>5000</td>\n",
       "      <td>petrol</td>\n",
       "      <td>fiat</td>\n",
       "      <td>no</td>\n",
       "      <td>2016-03-26</td>\n",
       "    </tr>\n",
       "    <tr>\n",
       "      <th>333062</th>\n",
       "      <td>11300</td>\n",
       "      <td>sedan</td>\n",
       "      <td>1988.0</td>\n",
       "      <td>manual</td>\n",
       "      <td>29</td>\n",
       "      <td>other</td>\n",
       "      <td>150000</td>\n",
       "      <td>petrol</td>\n",
       "      <td>citroen</td>\n",
       "      <td>no</td>\n",
       "      <td>2016-03-27</td>\n",
       "    </tr>\n",
       "  </tbody>\n",
       "</table>\n",
       "<p>545 rows × 11 columns</p>\n",
       "</div>"
      ],
      "text/plain": [
       "        Price VehicleType  RegistrationYear Gearbox  Power  Model  Kilometer  \\\n",
       "1168     4450       small            1971.0  manual     23    500      70000   \n",
       "3215     2300     unknown            1987.0  manual     26    601      70000   \n",
       "4359      870       wagon            2000.0  manual     16  focus     150000   \n",
       "5343      650       sedan            1985.0  manual     26    601      30000   \n",
       "5435    10000     unknown            1980.0  manual     26    601      40000   \n",
       "...       ...         ...               ...     ...    ...    ...        ...   \n",
       "328557   3500       sedan            1984.0  manual     26    601      70000   \n",
       "328718   5690       small            2014.0    auto     18  other      10000   \n",
       "328848   1000       sedan            1989.0  manual     26    601      80000   \n",
       "333009   2900       small            1969.0  manual     18    500       5000   \n",
       "333062  11300       sedan            1988.0  manual     29  other     150000   \n",
       "\n",
       "        FuelType    Brand Repaired DateCreated  \n",
       "1168      petrol     fiat       no  2016-03-08  \n",
       "3215     unknown  trabant       no  2016-03-27  \n",
       "4359     unknown     ford       no  2016-03-21  \n",
       "5343      petrol  trabant      yes  2016-03-16  \n",
       "5435     unknown  trabant       no  2016-03-10  \n",
       "...          ...      ...      ...         ...  \n",
       "328557    petrol  trabant  unknown  2016-03-13  \n",
       "328718  electric  renault       no  2016-03-07  \n",
       "328848    petrol  trabant  unknown  2016-03-25  \n",
       "333009    petrol     fiat       no  2016-03-26  \n",
       "333062    petrol  citroen       no  2016-03-27  \n",
       "\n",
       "[545 rows x 11 columns]"
      ]
     },
     "execution_count": 94,
     "metadata": {},
     "output_type": "execute_result"
    }
   ],
   "source": [
    "data[(data['Power']<30) & (data['Power']>10)]"
   ]
  },
  {
   "cell_type": "markdown",
   "metadata": {},
   "source": [
    "Как видно из полученной таблицы, существует немалое количество таких записей, среди которых присутствуют реально существующие малолитражные автомобили с низкой мощностью - малые электромобили Рено, старинные малолитражки Трабант, Фиат и пр., а также ряд ошибок - возможно, вместо мощности указан объем двигателя.\n",
    "\n",
    "Для получения более подробных сведений рассмотрим данные по автомобилям с мощностью менее 12 л.с."
   ]
  },
  {
   "cell_type": "code",
   "execution_count": 95,
   "metadata": {
    "scrolled": false
   },
   "outputs": [
    {
     "data": {
      "text/html": [
       "<div>\n",
       "<style scoped>\n",
       "    .dataframe tbody tr th:only-of-type {\n",
       "        vertical-align: middle;\n",
       "    }\n",
       "\n",
       "    .dataframe tbody tr th {\n",
       "        vertical-align: top;\n",
       "    }\n",
       "\n",
       "    .dataframe thead th {\n",
       "        text-align: right;\n",
       "    }\n",
       "</style>\n",
       "<table border=\"1\" class=\"dataframe\">\n",
       "  <thead>\n",
       "    <tr style=\"text-align: right;\">\n",
       "      <th></th>\n",
       "      <th>Price</th>\n",
       "      <th>VehicleType</th>\n",
       "      <th>RegistrationYear</th>\n",
       "      <th>Gearbox</th>\n",
       "      <th>Power</th>\n",
       "      <th>Model</th>\n",
       "      <th>Kilometer</th>\n",
       "      <th>FuelType</th>\n",
       "      <th>Brand</th>\n",
       "      <th>Repaired</th>\n",
       "      <th>DateCreated</th>\n",
       "    </tr>\n",
       "  </thead>\n",
       "  <tbody>\n",
       "    <tr>\n",
       "      <th>3148</th>\n",
       "      <td>1990</td>\n",
       "      <td>small</td>\n",
       "      <td>2004.0</td>\n",
       "      <td>unknown</td>\n",
       "      <td>7</td>\n",
       "      <td>polo</td>\n",
       "      <td>150000</td>\n",
       "      <td>gasoline</td>\n",
       "      <td>volkswagen</td>\n",
       "      <td>no</td>\n",
       "      <td>2016-03-29</td>\n",
       "    </tr>\n",
       "    <tr>\n",
       "      <th>9027</th>\n",
       "      <td>9000</td>\n",
       "      <td>sedan</td>\n",
       "      <td>2009.0</td>\n",
       "      <td>manual</td>\n",
       "      <td>2</td>\n",
       "      <td>a4</td>\n",
       "      <td>5000</td>\n",
       "      <td>gasoline</td>\n",
       "      <td>audi</td>\n",
       "      <td>unknown</td>\n",
       "      <td>2016-04-04</td>\n",
       "    </tr>\n",
       "    <tr>\n",
       "      <th>19078</th>\n",
       "      <td>4999</td>\n",
       "      <td>sedan</td>\n",
       "      <td>2003.0</td>\n",
       "      <td>manual</td>\n",
       "      <td>1</td>\n",
       "      <td>e_klasse</td>\n",
       "      <td>150000</td>\n",
       "      <td>gasoline</td>\n",
       "      <td>mercedes_benz</td>\n",
       "      <td>unknown</td>\n",
       "      <td>2016-03-17</td>\n",
       "    </tr>\n",
       "    <tr>\n",
       "      <th>27067</th>\n",
       "      <td>700</td>\n",
       "      <td>unknown</td>\n",
       "      <td>2016.0</td>\n",
       "      <td>manual</td>\n",
       "      <td>10</td>\n",
       "      <td>vectra</td>\n",
       "      <td>150000</td>\n",
       "      <td>unknown</td>\n",
       "      <td>opel</td>\n",
       "      <td>unknown</td>\n",
       "      <td>2016-03-30</td>\n",
       "    </tr>\n",
       "    <tr>\n",
       "      <th>27299</th>\n",
       "      <td>5299</td>\n",
       "      <td>small</td>\n",
       "      <td>2012.0</td>\n",
       "      <td>auto</td>\n",
       "      <td>11</td>\n",
       "      <td>other</td>\n",
       "      <td>30000</td>\n",
       "      <td>electric</td>\n",
       "      <td>renault</td>\n",
       "      <td>no</td>\n",
       "      <td>2016-03-31</td>\n",
       "    </tr>\n",
       "    <tr>\n",
       "      <th>...</th>\n",
       "      <td>...</td>\n",
       "      <td>...</td>\n",
       "      <td>...</td>\n",
       "      <td>...</td>\n",
       "      <td>...</td>\n",
       "      <td>...</td>\n",
       "      <td>...</td>\n",
       "      <td>...</td>\n",
       "      <td>...</td>\n",
       "      <td>...</td>\n",
       "      <td>...</td>\n",
       "    </tr>\n",
       "    <tr>\n",
       "      <th>316129</th>\n",
       "      <td>9000</td>\n",
       "      <td>sedan</td>\n",
       "      <td>1938.0</td>\n",
       "      <td>manual</td>\n",
       "      <td>1</td>\n",
       "      <td>kadett</td>\n",
       "      <td>5000</td>\n",
       "      <td>petrol</td>\n",
       "      <td>opel</td>\n",
       "      <td>unknown</td>\n",
       "      <td>2016-03-27</td>\n",
       "    </tr>\n",
       "    <tr>\n",
       "      <th>316658</th>\n",
       "      <td>20000</td>\n",
       "      <td>coupe</td>\n",
       "      <td>1929.0</td>\n",
       "      <td>manual</td>\n",
       "      <td>12</td>\n",
       "      <td>other</td>\n",
       "      <td>10000</td>\n",
       "      <td>petrol</td>\n",
       "      <td>bmw</td>\n",
       "      <td>unknown</td>\n",
       "      <td>2016-03-11</td>\n",
       "    </tr>\n",
       "    <tr>\n",
       "      <th>316802</th>\n",
       "      <td>9299</td>\n",
       "      <td>wagon</td>\n",
       "      <td>2011.0</td>\n",
       "      <td>manual</td>\n",
       "      <td>8</td>\n",
       "      <td>golf</td>\n",
       "      <td>125000</td>\n",
       "      <td>gasoline</td>\n",
       "      <td>volkswagen</td>\n",
       "      <td>no</td>\n",
       "      <td>2016-03-27</td>\n",
       "    </tr>\n",
       "    <tr>\n",
       "      <th>323426</th>\n",
       "      <td>5250</td>\n",
       "      <td>small</td>\n",
       "      <td>2012.0</td>\n",
       "      <td>auto</td>\n",
       "      <td>11</td>\n",
       "      <td>other</td>\n",
       "      <td>50000</td>\n",
       "      <td>electric</td>\n",
       "      <td>renault</td>\n",
       "      <td>no</td>\n",
       "      <td>2016-04-03</td>\n",
       "    </tr>\n",
       "    <tr>\n",
       "      <th>333873</th>\n",
       "      <td>3999</td>\n",
       "      <td>wagon</td>\n",
       "      <td>2005.0</td>\n",
       "      <td>manual</td>\n",
       "      <td>3</td>\n",
       "      <td>3er</td>\n",
       "      <td>150000</td>\n",
       "      <td>gasoline</td>\n",
       "      <td>bmw</td>\n",
       "      <td>no</td>\n",
       "      <td>2016-04-02</td>\n",
       "    </tr>\n",
       "  </tbody>\n",
       "</table>\n",
       "<p>102 rows × 11 columns</p>\n",
       "</div>"
      ],
      "text/plain": [
       "        Price VehicleType  RegistrationYear  Gearbox  Power     Model  \\\n",
       "3148     1990       small            2004.0  unknown      7      polo   \n",
       "9027     9000       sedan            2009.0   manual      2        a4   \n",
       "19078    4999       sedan            2003.0   manual      1  e_klasse   \n",
       "27067     700     unknown            2016.0   manual     10    vectra   \n",
       "27299    5299       small            2012.0     auto     11     other   \n",
       "...       ...         ...               ...      ...    ...       ...   \n",
       "316129   9000       sedan            1938.0   manual      1    kadett   \n",
       "316658  20000       coupe            1929.0   manual     12     other   \n",
       "316802   9299       wagon            2011.0   manual      8      golf   \n",
       "323426   5250       small            2012.0     auto     11     other   \n",
       "333873   3999       wagon            2005.0   manual      3       3er   \n",
       "\n",
       "        Kilometer  FuelType          Brand Repaired DateCreated  \n",
       "3148       150000  gasoline     volkswagen       no  2016-03-29  \n",
       "9027         5000  gasoline           audi  unknown  2016-04-04  \n",
       "19078      150000  gasoline  mercedes_benz  unknown  2016-03-17  \n",
       "27067      150000   unknown           opel  unknown  2016-03-30  \n",
       "27299       30000  electric        renault       no  2016-03-31  \n",
       "...           ...       ...            ...      ...         ...  \n",
       "316129       5000    petrol           opel  unknown  2016-03-27  \n",
       "316658      10000    petrol            bmw  unknown  2016-03-11  \n",
       "316802     125000  gasoline     volkswagen       no  2016-03-27  \n",
       "323426      50000  electric        renault       no  2016-04-03  \n",
       "333873     150000  gasoline            bmw       no  2016-04-02  \n",
       "\n",
       "[102 rows x 11 columns]"
      ]
     },
     "execution_count": 95,
     "metadata": {},
     "output_type": "execute_result"
    }
   ],
   "source": [
    "data[(data['Power']<=12) & (data['Power']>0)]"
   ]
  },
  {
   "cell_type": "markdown",
   "metadata": {},
   "source": [
    "Данные по авто с мощностью менее 12 л.с. содержат большое количество ошибок. Значение мощности для этих строк будет заменено медианой по модели (см. ниже).\n",
    "\n",
    "Далее рассмотрим автомобили с мощностью более 400 л.с."
   ]
  },
  {
   "cell_type": "code",
   "execution_count": 96,
   "metadata": {
    "scrolled": true
   },
   "outputs": [
    {
     "data": {
      "text/plain": [
       "<AxesSubplot:>"
      ]
     },
     "execution_count": 96,
     "metadata": {},
     "output_type": "execute_result"
    },
    {
     "data": {
      "image/png": "[encoded data removed]",
      "text/plain": [
       "<Figure size 720x360 with 1 Axes>"
      ]
     },
     "metadata": {
      "needs_background": "light"
     },
     "output_type": "display_data"
    }
   ],
   "source": [
    "data[data['Power']>400]['Power'].hist(bins=20, figsize=[10,5])"
   ]
  },
  {
   "cell_type": "markdown",
   "metadata": {},
   "source": [
    "В представленном списке моделей отсутствуют крупные пассажирские автобусы и грузовики, соответственно значения более 500 л.с. сочтены ошибочными. Аномальные значения мощности заменим на NaN и заполним полученные пропуски медианой по модели. "
   ]
  },
  {
   "cell_type": "code",
   "execution_count": 97,
   "metadata": {},
   "outputs": [],
   "source": [
    "data.loc[(data['Power']>500) | (data['Power']<=12), 'Power'] = np.nan\n",
    "# замена аномалий пропусками"
   ]
  },
  {
   "cell_type": "code",
   "execution_count": 98,
   "metadata": {},
   "outputs": [],
   "source": [
    "fill_median(data, 'Model', 'Power')\n",
    "# заполнение с помощью объявленной выше функции"
   ]
  },
  {
   "cell_type": "code",
   "execution_count": 99,
   "metadata": {
    "scrolled": false
   },
   "outputs": [
    {
     "data": {
      "text/plain": [
       "Price               0\n",
       "VehicleType         0\n",
       "RegistrationYear    0\n",
       "Gearbox             0\n",
       "Power               1\n",
       "Model               0\n",
       "Kilometer           0\n",
       "FuelType            0\n",
       "Brand               0\n",
       "Repaired            0\n",
       "DateCreated         0\n",
       "dtype: int64"
      ]
     },
     "execution_count": 99,
     "metadata": {},
     "output_type": "execute_result"
    }
   ],
   "source": [
    "data.isna().sum()\n",
    "# проверка оставшихся пропусков"
   ]
  },
  {
   "cell_type": "markdown",
   "metadata": {},
   "source": [
    "Для одной из записей медиану по модели получить не удалось. Эта запись будет удалена. Также будут осмотрены оставшиеся записи со значением мощности более 400 л.с."
   ]
  },
  {
   "cell_type": "code",
   "execution_count": 100,
   "metadata": {},
   "outputs": [],
   "source": [
    "data = data.dropna().reset_index(drop=True)"
   ]
  },
  {
   "cell_type": "code",
   "execution_count": 101,
   "metadata": {
    "scrolled": true
   },
   "outputs": [
    {
     "data": {
      "text/html": [
       "<div>\n",
       "<style scoped>\n",
       "    .dataframe tbody tr th:only-of-type {\n",
       "        vertical-align: middle;\n",
       "    }\n",
       "\n",
       "    .dataframe tbody tr th {\n",
       "        vertical-align: top;\n",
       "    }\n",
       "\n",
       "    .dataframe thead th {\n",
       "        text-align: right;\n",
       "    }\n",
       "</style>\n",
       "<table border=\"1\" class=\"dataframe\">\n",
       "  <thead>\n",
       "    <tr style=\"text-align: right;\">\n",
       "      <th></th>\n",
       "      <th>Price</th>\n",
       "      <th>VehicleType</th>\n",
       "      <th>RegistrationYear</th>\n",
       "      <th>Gearbox</th>\n",
       "      <th>Power</th>\n",
       "      <th>Model</th>\n",
       "      <th>Kilometer</th>\n",
       "      <th>FuelType</th>\n",
       "      <th>Brand</th>\n",
       "      <th>Repaired</th>\n",
       "      <th>DateCreated</th>\n",
       "    </tr>\n",
       "  </thead>\n",
       "  <tbody>\n",
       "    <tr>\n",
       "      <th>2616</th>\n",
       "      <td>19500</td>\n",
       "      <td>suv</td>\n",
       "      <td>2004.0</td>\n",
       "      <td>auto</td>\n",
       "      <td>450.0</td>\n",
       "      <td>cayenne</td>\n",
       "      <td>125000</td>\n",
       "      <td>petrol</td>\n",
       "      <td>porsche</td>\n",
       "      <td>no</td>\n",
       "      <td>2016-03-16</td>\n",
       "    </tr>\n",
       "    <tr>\n",
       "      <th>3092</th>\n",
       "      <td>16899</td>\n",
       "      <td>wagon</td>\n",
       "      <td>2003.0</td>\n",
       "      <td>auto</td>\n",
       "      <td>476.0</td>\n",
       "      <td>e_klasse</td>\n",
       "      <td>150000</td>\n",
       "      <td>petrol</td>\n",
       "      <td>mercedes_benz</td>\n",
       "      <td>no</td>\n",
       "      <td>2016-03-10</td>\n",
       "    </tr>\n",
       "    <tr>\n",
       "      <th>4400</th>\n",
       "      <td>13900</td>\n",
       "      <td>sedan</td>\n",
       "      <td>2006.0</td>\n",
       "      <td>auto</td>\n",
       "      <td>476.0</td>\n",
       "      <td>e_klasse</td>\n",
       "      <td>150000</td>\n",
       "      <td>petrol</td>\n",
       "      <td>mercedes_benz</td>\n",
       "      <td>no</td>\n",
       "      <td>2016-03-25</td>\n",
       "    </tr>\n",
       "    <tr>\n",
       "      <th>5003</th>\n",
       "      <td>10999</td>\n",
       "      <td>wagon</td>\n",
       "      <td>2006.0</td>\n",
       "      <td>auto</td>\n",
       "      <td>435.0</td>\n",
       "      <td>other</td>\n",
       "      <td>150000</td>\n",
       "      <td>petrol</td>\n",
       "      <td>audi</td>\n",
       "      <td>yes</td>\n",
       "      <td>2016-03-27</td>\n",
       "    </tr>\n",
       "    <tr>\n",
       "      <th>9779</th>\n",
       "      <td>18900</td>\n",
       "      <td>wagon</td>\n",
       "      <td>2007.0</td>\n",
       "      <td>auto</td>\n",
       "      <td>420.0</td>\n",
       "      <td>3er</td>\n",
       "      <td>150000</td>\n",
       "      <td>petrol</td>\n",
       "      <td>bmw</td>\n",
       "      <td>no</td>\n",
       "      <td>2016-03-27</td>\n",
       "    </tr>\n",
       "    <tr>\n",
       "      <th>...</th>\n",
       "      <td>...</td>\n",
       "      <td>...</td>\n",
       "      <td>...</td>\n",
       "      <td>...</td>\n",
       "      <td>...</td>\n",
       "      <td>...</td>\n",
       "      <td>...</td>\n",
       "      <td>...</td>\n",
       "      <td>...</td>\n",
       "      <td>...</td>\n",
       "      <td>...</td>\n",
       "    </tr>\n",
       "    <tr>\n",
       "      <th>328618</th>\n",
       "      <td>19780</td>\n",
       "      <td>wagon</td>\n",
       "      <td>2003.0</td>\n",
       "      <td>auto</td>\n",
       "      <td>500.0</td>\n",
       "      <td>e_klasse</td>\n",
       "      <td>150000</td>\n",
       "      <td>petrol</td>\n",
       "      <td>mercedes_benz</td>\n",
       "      <td>no</td>\n",
       "      <td>2016-03-25</td>\n",
       "    </tr>\n",
       "    <tr>\n",
       "      <th>331484</th>\n",
       "      <td>10500</td>\n",
       "      <td>sedan</td>\n",
       "      <td>2003.0</td>\n",
       "      <td>auto</td>\n",
       "      <td>445.0</td>\n",
       "      <td>7er</td>\n",
       "      <td>150000</td>\n",
       "      <td>petrol</td>\n",
       "      <td>bmw</td>\n",
       "      <td>no</td>\n",
       "      <td>2016-03-11</td>\n",
       "    </tr>\n",
       "    <tr>\n",
       "      <th>331952</th>\n",
       "      <td>15999</td>\n",
       "      <td>wagon</td>\n",
       "      <td>2007.0</td>\n",
       "      <td>auto</td>\n",
       "      <td>435.0</td>\n",
       "      <td>other</td>\n",
       "      <td>150000</td>\n",
       "      <td>petrol</td>\n",
       "      <td>audi</td>\n",
       "      <td>no</td>\n",
       "      <td>2016-03-29</td>\n",
       "    </tr>\n",
       "    <tr>\n",
       "      <th>333575</th>\n",
       "      <td>20000</td>\n",
       "      <td>coupe</td>\n",
       "      <td>2006.0</td>\n",
       "      <td>auto</td>\n",
       "      <td>476.0</td>\n",
       "      <td>other</td>\n",
       "      <td>125000</td>\n",
       "      <td>petrol</td>\n",
       "      <td>mercedes_benz</td>\n",
       "      <td>no</td>\n",
       "      <td>2016-03-22</td>\n",
       "    </tr>\n",
       "    <tr>\n",
       "      <th>333850</th>\n",
       "      <td>11500</td>\n",
       "      <td>sedan</td>\n",
       "      <td>2004.0</td>\n",
       "      <td>auto</td>\n",
       "      <td>445.0</td>\n",
       "      <td>7er</td>\n",
       "      <td>125000</td>\n",
       "      <td>petrol</td>\n",
       "      <td>bmw</td>\n",
       "      <td>unknown</td>\n",
       "      <td>2016-03-26</td>\n",
       "    </tr>\n",
       "  </tbody>\n",
       "</table>\n",
       "<p>262 rows × 11 columns</p>\n",
       "</div>"
      ],
      "text/plain": [
       "        Price VehicleType  RegistrationYear Gearbox  Power     Model  \\\n",
       "2616    19500         suv            2004.0    auto  450.0   cayenne   \n",
       "3092    16899       wagon            2003.0    auto  476.0  e_klasse   \n",
       "4400    13900       sedan            2006.0    auto  476.0  e_klasse   \n",
       "5003    10999       wagon            2006.0    auto  435.0     other   \n",
       "9779    18900       wagon            2007.0    auto  420.0       3er   \n",
       "...       ...         ...               ...     ...    ...       ...   \n",
       "328618  19780       wagon            2003.0    auto  500.0  e_klasse   \n",
       "331484  10500       sedan            2003.0    auto  445.0       7er   \n",
       "331952  15999       wagon            2007.0    auto  435.0     other   \n",
       "333575  20000       coupe            2006.0    auto  476.0     other   \n",
       "333850  11500       sedan            2004.0    auto  445.0       7er   \n",
       "\n",
       "        Kilometer FuelType          Brand Repaired DateCreated  \n",
       "2616       125000   petrol        porsche       no  2016-03-16  \n",
       "3092       150000   petrol  mercedes_benz       no  2016-03-10  \n",
       "4400       150000   petrol  mercedes_benz       no  2016-03-25  \n",
       "5003       150000   petrol           audi      yes  2016-03-27  \n",
       "9779       150000   petrol            bmw       no  2016-03-27  \n",
       "...           ...      ...            ...      ...         ...  \n",
       "328618     150000   petrol  mercedes_benz       no  2016-03-25  \n",
       "331484     150000   petrol            bmw       no  2016-03-11  \n",
       "331952     150000   petrol           audi       no  2016-03-29  \n",
       "333575     125000   petrol  mercedes_benz       no  2016-03-22  \n",
       "333850     125000   petrol            bmw  unknown  2016-03-26  \n",
       "\n",
       "[262 rows x 11 columns]"
      ]
     },
     "execution_count": 101,
     "metadata": {},
     "output_type": "execute_result"
    }
   ],
   "source": [
    "data[data['Power']>400]"
   ]
  },
  {
   "cell_type": "markdown",
   "metadata": {},
   "source": [
    "<div class=\"alert alert-block alert-success\">\n",
    "<b>✔️ Успех:</b>\n",
    "\n",
    "Мощность ограничили 👍\n",
    "</div>"
   ]
  },
  {
   "cell_type": "markdown",
   "metadata": {},
   "source": [
    "Полученные данные содержат информацию о реально существующих премиальных автомобилях. Большая часть аномальных значений исправлена.\n",
    "\n",
    "Таким образом, пропуски устранены, аномальные значения обработаны. Можно разбить датасет на обучающие признаки и целевой признак и приступать к машинному обучению."
   ]
  },
  {
   "cell_type": "code",
   "execution_count": 102,
   "metadata": {},
   "outputs": [],
   "source": [
    "features = data.drop('Price', axis=1)\n",
    "target = data['Price']"
   ]
  },
  {
   "cell_type": "markdown",
   "metadata": {},
   "source": [
    "Для целей ML год регистрации будет преобразован в числовое значение - количество секунд от точки от счёта."
   ]
  },
  {
   "cell_type": "code",
   "execution_count": 103,
   "metadata": {},
   "outputs": [],
   "source": [
    "features[\"DateCreated\"] = features[\"DateCreated\"].astype(int)/10**9"
   ]
  },
  {
   "cell_type": "code",
   "execution_count": 104,
   "metadata": {},
   "outputs": [
    {
     "data": {
      "text/plain": [
       "0         1.458778e+09\n",
       "1         1.458778e+09\n",
       "2         1.457914e+09\n",
       "3         1.458173e+09\n",
       "4         1.459382e+09\n",
       "              ...     \n",
       "333874    1.458346e+09\n",
       "333875    1.459037e+09\n",
       "333876    1.457136e+09\n",
       "333877    1.458346e+09\n",
       "333878    1.458432e+09\n",
       "Name: DateCreated, Length: 333879, dtype: float64"
      ]
     },
     "execution_count": 104,
     "metadata": {},
     "output_type": "execute_result"
    }
   ],
   "source": [
    "features['DateCreated']"
   ]
  },
  {
   "cell_type": "code",
   "execution_count": 105,
   "metadata": {},
   "outputs": [],
   "source": [
    "features_train, features_test, target_train, target_test = train_test_split(features,\n",
    "                                                                              target,\n",
    "                                                                              test_size=0.25,\n",
    "                                                                             random_state=13)"
   ]
  },
  {
   "cell_type": "markdown",
   "metadata": {},
   "source": [
    "## Обучение моделей"
   ]
  },
  {
   "cell_type": "markdown",
   "metadata": {},
   "source": [
    "### RandomForestRegerssor\n",
    "\n",
    "Перед обучением данной модели закодируем категориальные признаки способом ordinal encoding, подбор гиперпараметров и валидацию произведем с помощью GridSearchCV. \n",
    "#### Кодирование"
   ]
  },
  {
   "cell_type": "code",
   "execution_count": 106,
   "metadata": {},
   "outputs": [],
   "source": [
    "\n",
    "encoder = OrdinalEncoder()\n",
    "\n",
    "features_enc_train = encoder.fit_transform(features_train[categorial])\n",
    "features_enc_train = pd.DataFrame(data=features_enc_train, index=features_train.index)\n",
    "features_enc_train = features_enc_train.join(features_train.drop(categorial, axis=1), how='left')"
   ]
  },
  {
   "cell_type": "code",
   "execution_count": 107,
   "metadata": {},
   "outputs": [],
   "source": [
    "features_enc_test = encoder.transform(features_test[categorial])\n",
    "features_enc_test = pd.DataFrame(data=features_enc_test, index=features_test.index)\n",
    "features_enc_test = features_enc_test.join(features_test.drop(categorial, axis=1), how='left')"
   ]
  },
  {
   "cell_type": "markdown",
   "metadata": {},
   "source": [
    "<div class=\"alert alert-block alert-danger\">\n",
    "<b>❌ Замечание:</b>\n",
    "\n",
    "Кодировать данные стоит после разбиения. Так у нас не будет утечки данных.\n",
    "\n",
    "Подробнее об этом можно прочитать здесь https://datascience.stackexchange.com/questions/108663/why-label-encoding-before-split-is-data-leakage\n",
    "  \n",
    "Суть в том, что в предобработке данных мы не должны заглядывать в тестовую выборку. Когда кодировщик fit-ится на всей выборке, там ведь есть и тестовая выборка, поэтому это называют утечкой или подглядыванием. \n",
    "\n",
    "P.S. после прямого кодирования кол-во столбцов в выборках может отличаться. Тогда лишние признаки можно удалить\n",
    "</div>\n",
    "\n",
    "\n",
    "<div class=\"alert alert-block alert-info\">\n",
    "<b>❌ Комментарий студента:</b>\n",
    "\n",
    "Исправлено! см. выше. Применён ОрдиналЭнкодинг, обученный только на трейне. спасибо =)\n",
    "</div>"
   ]
  },
  {
   "cell_type": "markdown",
   "metadata": {},
   "source": [
    "<div class=\"alert alert-block alert-success\">\n",
    "<b>V2 ✔️ Успешно исправлено</b>\n",
    "</div>"
   ]
  },
  {
   "cell_type": "markdown",
   "metadata": {},
   "source": [
    "<div class=\"alert alert-block alert-warning\">\n",
    "<b>⚠️ Совет:</b>\n",
    "\n",
    "Для прямого кодирования также есть вариант с fit и transform - OneHotEncoder из sklearn.\n",
    "  \n",
    "Вот блокнот с объяснением OneHotEncoder, make_column_transformer и make_pipeline:\n",
    "\n",
    "https://colab.research.google.com/drive/1_gAMXcQKoCShB_l8FNtYEejMnosm9mvt?usp=sharing\n",
    "</div>"
   ]
  },
  {
   "cell_type": "markdown",
   "metadata": {},
   "source": [
    "<div class=\"alert alert-block alert-success\">\n",
    "<b>✔️ Успех:</b> \n",
    "\n",
    "Данные поделены верно, пропорции выбраны адекватные 👍\n",
    "</div>"
   ]
  },
  {
   "cell_type": "markdown",
   "metadata": {},
   "source": [
    "#### Обучение GridSearchCV() с эстиматором RandomForestRegressor() "
   ]
  },
  {
   "cell_type": "code",
   "execution_count": 108,
   "metadata": {},
   "outputs": [],
   "source": [
    "# При подборе гиперпараметров использовался этот param_grid, впоследствии закомментирован \n",
    "#для более быстрого выполнения ячейки.\n",
    "# param_grid_forest = {'max_depth': list(range(1,15)),\n",
    "# 'n_estimators': [30, 40, 50, 90, 100, 110],\n",
    "#    'random_state': [13]}"
   ]
  },
  {
   "cell_type": "code",
   "execution_count": 109,
   "metadata": {},
   "outputs": [],
   "source": [
    "# Здесь записаны лучшие полученные гиперпараметры - для быстродействия кода.\n",
    " param_grid_forest = {'max_depth': [14], 'n_estimators': [110], 'random_state': [13]}\n",
    " # best params\n"
   ]
  },
  {
   "cell_type": "code",
   "execution_count": 110,
   "metadata": {},
   "outputs": [],
   "source": [
    "# объявляем инстанцию GridSearchCV с моделью случайного леса, param_grid заполненным выше и scoring \n",
    "# RMSE согласно требованиям заказчика. Число выборок кросс-валидации ограничим до 3х для ускорения работы кода.\n",
    "grid_search_forest = GridSearchCV(estimator=RandomForestRegressor(),\n",
    "                           param_grid=param_grid_forest,\n",
    "                           scoring='neg_root_mean_squared_error',\n",
    "                           n_jobs=-1,\n",
    "                           verbose=1,\n",
    "                           cv=3)"
   ]
  },
  {
   "cell_type": "code",
   "execution_count": 111,
   "metadata": {
    "scrolled": false
   },
   "outputs": [
    {
     "name": "stdout",
     "output_type": "stream",
     "text": [
      "Fitting 3 folds for each of 84 candidates, totalling 252 fits\n",
      "{'max_depth': 14, 'n_estimators': 110, 'random_state': 13}\n",
      "-1705.4489685313504\n",
      "CPU times: user 54min 16s, sys: 6.65 s, total: 54min 23s\n",
      "Wall time: 54min 25s\n"
     ]
    }
   ],
   "source": [
    "%%time\n",
    "grid_search_forest.fit(features_enc_train, target_train) # обучение и кросс-валидация модели\n",
    "print(grid_search_forest.best_params_) # выводим лучшие гиперпараметры\n",
    "print(grid_search_forest.best_score_) # выводим наилучшее значение функции потерь"
   ]
  },
  {
   "cell_type": "markdown",
   "metadata": {},
   "source": [
    "Наилучшее значение RMSE при валидации - 1705\n",
    "\n",
    "#### Проверка модели"
   ]
  },
  {
   "cell_type": "code",
   "execution_count": 112,
   "metadata": {
    "scrolled": true
   },
   "outputs": [
    {
     "name": "stdout",
     "output_type": "stream",
     "text": [
      "RMSE модели GridSearchCV с эстиматором RandomForestRegressor на тестовой выборке: 1686.840181917091\n",
      "CPU times: user 1.34 s, sys: 7.97 ms, total: 1.34 s\n",
      "Wall time: 1.35 s\n"
     ]
    }
   ],
   "source": [
    "%%time\n",
    "print('RMSE модели GridSearchCV с эстиматором RandomForestRegressor на тестовой выборке:',\n",
    "      (mean_squared_error(target_test, grid_search_forest.predict(features_enc_test)))**0.5)"
   ]
  },
  {
   "cell_type": "markdown",
   "metadata": {},
   "source": [
    "Модель RandomForestRegressor() показала метрику RMSE на тестовой выборке 1686.8, что соответствует критериям заказчика.\n",
    "\n",
    "Процесс обучения и перебора гиперпараметров занял 54 минуты при обработке 252 вариантов.\n",
    "Процесс тестирования занял менее полутора секунд.\n",
    "\n",
    "Подобраны лучшие гиперпараметры: 'max_depth': 14, 'n_estimators': 110"
   ]
  },
  {
   "cell_type": "markdown",
   "metadata": {},
   "source": [
    "<div class=\"alert alert-block alert-success\">\n",
    "<b>✔️ Успех:</b> \n",
    "\n",
    "Модель обучена корректно 👍\n",
    "</div>"
   ]
  },
  {
   "cell_type": "markdown",
   "metadata": {},
   "source": [
    "<div class=\"alert alert-block alert-danger\">\n",
    "<b>❌ Замечание:</b>\n",
    "\n",
    "Для моделей, основанных на деревьях решений, лучше использовать порядковое кодирование (OrdinalEncoder). Это должно ускорить их работу. Так как при большом количестве признаков, модель будет долго искать оптимальный сплит.\n",
    "</div>\n",
    "\n",
    "\n",
    "<div class=\"alert alert-block alert-info\">\n",
    "<b>❌ Комментарий студента:</b>\n",
    "\n",
    "Исправлено - см пункт 3.1.1. Использован OrdinalEncoder, который обучен только на трэйне. \n",
    "</div>\n"
   ]
  },
  {
   "cell_type": "markdown",
   "metadata": {},
   "source": [
    "<div class=\"alert alert-block alert-success\">\n",
    "<b>V2 ✔️ Успешно исправлено</b>\n",
    "</div>"
   ]
  },
  {
   "cell_type": "markdown",
   "metadata": {},
   "source": [
    "### LightGBM Regressor\n",
    "#### Приведение типов данных\n",
    "\n",
    "Для LightGBMRegressor переведём категориальные признаки в тип данных category."
   ]
  },
  {
   "cell_type": "code",
   "execution_count": 113,
   "metadata": {
    "scrolled": false
   },
   "outputs": [
    {
     "name": "stdout",
     "output_type": "stream",
     "text": [
      "<class 'pandas.core.frame.DataFrame'>\n",
      "Int64Index: 250409 entries, 120015 to 178352\n",
      "Data columns (total 10 columns):\n",
      " #   Column            Non-Null Count   Dtype   \n",
      "---  ------            --------------   -----   \n",
      " 0   VehicleType       250409 non-null  category\n",
      " 1   RegistrationYear  250409 non-null  float64 \n",
      " 2   Gearbox           250409 non-null  category\n",
      " 3   Power             250409 non-null  float64 \n",
      " 4   Model             250409 non-null  category\n",
      " 5   Kilometer         250409 non-null  int64   \n",
      " 6   FuelType          250409 non-null  category\n",
      " 7   Brand             250409 non-null  category\n",
      " 8   Repaired          250409 non-null  category\n",
      " 9   DateCreated       250409 non-null  float64 \n",
      "dtypes: category(6), float64(3), int64(1)\n",
      "memory usage: 19.3 MB\n",
      "<class 'pandas.core.frame.DataFrame'>\n",
      "Int64Index: 83470 entries, 62500 to 26826\n",
      "Data columns (total 10 columns):\n",
      " #   Column            Non-Null Count  Dtype   \n",
      "---  ------            --------------  -----   \n",
      " 0   VehicleType       83470 non-null  category\n",
      " 1   RegistrationYear  83470 non-null  float64 \n",
      " 2   Gearbox           83470 non-null  category\n",
      " 3   Power             83470 non-null  float64 \n",
      " 4   Model             83470 non-null  category\n",
      " 5   Kilometer         83470 non-null  int64   \n",
      " 6   FuelType          83470 non-null  category\n",
      " 7   Brand             83470 non-null  category\n",
      " 8   Repaired          83470 non-null  category\n",
      " 9   DateCreated       83470 non-null  float64 \n",
      "dtypes: category(6), float64(3), int64(1)\n",
      "memory usage: 5.8 MB\n"
     ]
    },
    {
     "name": "stderr",
     "output_type": "stream",
     "text": [
      "/opt/conda/lib/python3.9/site-packages/pandas/core/indexing.py:1676: SettingWithCopyWarning: \n",
      "A value is trying to be set on a copy of a slice from a DataFrame.\n",
      "Try using .loc[row_indexer,col_indexer] = value instead\n",
      "\n",
      "See the caveats in the documentation: https://pandas.pydata.org/pandas-docs/stable/user_guide/indexing.html#returning-a-view-versus-a-copy\n",
      "  self._setitem_single_column(ilocs[0], value, pi)\n"
     ]
    }
   ],
   "source": [
    "features_cat_train = features_train\n",
    "features_cat_test = features_test\n",
    "for column in categorial:\n",
    "    features_cat_train.loc[:, column] = features_cat_train.loc[:, column].astype('category')\n",
    "    features_cat_test.loc[:, column] = features_cat_test.loc[:, column].astype('category')\n",
    "    \n",
    "features_cat_train.info()\n",
    "features_cat_test.info()"
   ]
  },
  {
   "cell_type": "markdown",
   "metadata": {},
   "source": [
    "Как видно из информации о данных, типы данных приведены.\n",
    "\n",
    "#### Обучение и кросс-валидация модели"
   ]
  },
  {
   "cell_type": "code",
   "execution_count": 114,
   "metadata": {},
   "outputs": [],
   "source": [
    "# Эти гиперпараметры использовались при подборе лучших. Закомментированы для быстродействия кода.\n",
    "# param_grid_lgbm = {'max_depth': [1, 2, 3, 5, 10, 15, 20],\n",
    "#                    'num_leaves': [10, 20, 31, 41, 51],\n",
    "#                    'n_estimators': [10, 20, 30, 50, 100, 150],\n",
    "#                    'random_state': [13]}"
   ]
  },
  {
   "cell_type": "code",
   "execution_count": 115,
   "metadata": {},
   "outputs": [],
   "source": [
    "# Это лучшие подобранные гиперпараметры, записаны в переменную для быстродействия кода.\n",
    "param_grid_lgbm = {'max_depth': [-1],\n",
    "                   'num_leaves': [51],\n",
    "                    'n_estimators': [150],\n",
    "                   'random_state': [13]}"
   ]
  },
  {
   "cell_type": "code",
   "execution_count": 116,
   "metadata": {},
   "outputs": [],
   "source": [
    "# Объявляем инстанцию GridSearchCV с эстиматором LGBMRegressor\n",
    "grid_search_lgbm = GridSearchCV(estimator=LGBMRegressor(),\n",
    "                           param_grid=param_grid_lgbm,\n",
    "                           scoring='neg_root_mean_squared_error',\n",
    "                           n_jobs=-1,\n",
    "                           verbose=1,\n",
    "                           cv=3)"
   ]
  },
  {
   "cell_type": "code",
   "execution_count": 117,
   "metadata": {},
   "outputs": [
    {
     "name": "stdout",
     "output_type": "stream",
     "text": [
      "Fitting 3 folds for each of 210 candidates, totalling 630 fits\n",
      "{'max_depth': 15, 'n_estimators': 150, 'num_leaves': 51, 'random_state': 13}\n",
      "-1592.1037853764344\n",
      "CPU times: user 33min 20s, sys: 10.1 s, total: 33min 31s\n",
      "Wall time: 33min 46s\n"
     ]
    }
   ],
   "source": [
    "%%time\n",
    "grid_search_lgbm.fit(features_cat_train, target_train)\n",
    "print(grid_search_lgbm.best_params_)\n",
    "print(grid_search_lgbm.best_score_)"
   ]
  },
  {
   "cell_type": "markdown",
   "metadata": {},
   "source": [
    "Данная модель при кросс-валидации показала RMSE 1592.\n",
    "\n",
    "Процесс подбора гиперпараметров и кросс-валидации занял менее 34 минут.\n",
    "#### Тестирование модели"
   ]
  },
  {
   "cell_type": "code",
   "execution_count": 118,
   "metadata": {},
   "outputs": [
    {
     "name": "stdout",
     "output_type": "stream",
     "text": [
      "RMSE модели GridSearchCV с эстиматором LightGBM Regressor на тестовой выборке: 1591.0467486203884\n",
      "CPU times: user 1.32 s, sys: 0 ns, total: 1.32 s\n",
      "Wall time: 1.32 s\n"
     ]
    }
   ],
   "source": [
    "%%time\n",
    "print('RMSE модели GridSearchCV с эстиматором LightGBM Regressor на тестовой выборке:',\n",
    "      (mean_squared_error(target_test, grid_search_lgbm.predict(features_cat_test)))**0.5)"
   ]
  },
  {
   "cell_type": "markdown",
   "metadata": {},
   "source": [
    "Модель LGBMRegressor() получила RMSE 1592 при валидации и 1591 при тестировании, что соответствует требованиям заказчика. \n",
    "\n",
    "Процесс обучения и кросс-валидации модели занял менее 34 минут.\n",
    "Процесс тестирования - менее 2х секунд.\n",
    "\n",
    "Оптимальные гиперпараметры: 'max_depth': 15, 'n_estimators': 150, 'num_leaves': 51"
   ]
  },
  {
   "cell_type": "markdown",
   "metadata": {},
   "source": [
    "<div class=\"alert alert-block alert-success\">\n",
    "<b>✔️ Успех:</b> \n",
    "\n",
    "Модель обучена корректно 👍\n",
    "</div>"
   ]
  },
  {
   "cell_type": "markdown",
   "metadata": {},
   "source": [
    "<div class=\"alert alert-block alert-warning\">\n",
    "<b>⚠️ Совет:</b>\n",
    "\n",
    "У бустингов под капотом есть возможность кодировать категориальные признаки:\n",
    " \n",
    "1. CatBoost. Нужно категориальные признаки передать в параметр `cat_features`.\n",
    "2. LightGBM. Нужно изменить тип данных категориальных признаков с `object` на `category`.\n",
    "</div>\n",
    "\n",
    "\n",
    "<div class=\"alert alert-block alert-info\">\n",
    "<b>⚠️Комментарий студента</b>\n",
    "Тип данных изменен, см пункт 3.2.1.\n",
    "</div>"
   ]
  },
  {
   "cell_type": "markdown",
   "metadata": {},
   "source": [
    "<div class=\"alert alert-block alert-success\">\n",
    "<b>V2 ✔️ Успешно исправлено</b>\n",
    "</div>"
   ]
  },
  {
   "cell_type": "markdown",
   "metadata": {},
   "source": [
    "### Линейная регрессия\n",
    "#### Подготовка датасета\n",
    "Для обучения линейной регрессии трансформируем данные с помощью StandardScaler()"
   ]
  },
  {
   "cell_type": "code",
   "execution_count": 119,
   "metadata": {
    "scrolled": false
   },
   "outputs": [
    {
     "name": "stdout",
     "output_type": "stream",
     "text": [
      "CPU times: user 60.8 ms, sys: 4 µs, total: 60.8 ms\n",
      "Wall time: 118 ms\n"
     ]
    }
   ],
   "source": [
    "%%time\n",
    "scaler = StandardScaler()\n",
    "\n",
    "features_scal_train = scaler.fit_transform(features_enc_train)\n",
    "features_scal_test = scaler.transform(features_enc_test)\n"
   ]
  },
  {
   "cell_type": "markdown",
   "metadata": {},
   "source": [
    "#### Обучение и кросс-валидация модели"
   ]
  },
  {
   "cell_type": "code",
   "execution_count": 120,
   "metadata": {},
   "outputs": [
    {
     "name": "stdout",
     "output_type": "stream",
     "text": [
      "CPU times: user 248 ms, sys: 251 ms, total: 499 ms\n",
      "Wall time: 474 ms\n"
     ]
    }
   ],
   "source": [
    "%%time\n",
    "# кросс-валидация на обучающей выборке\n",
    "linear_model = LinearRegression()\n",
    "cv = cross_validate(estimator=linear_model,\n",
    "                   X=features_scal_train,\n",
    "                   y=target_train,\n",
    "                    scoring='neg_root_mean_squared_error',\n",
    "                    cv=3)"
   ]
  },
  {
   "cell_type": "code",
   "execution_count": 121,
   "metadata": {},
   "outputs": [
    {
     "data": {
      "text/plain": [
       "-2894.4200615080313"
      ]
     },
     "execution_count": 121,
     "metadata": {},
     "output_type": "execute_result"
    }
   ],
   "source": [
    "cv['test_score'].mean()"
   ]
  },
  {
   "cell_type": "markdown",
   "metadata": {},
   "source": [
    "Время обучения и кросс-валидации линейной регрессии составило менее секунды, при этом среднее значение RMSE при кросс-валидации превышает заданный порог."
   ]
  },
  {
   "cell_type": "markdown",
   "metadata": {},
   "source": [
    "#### Тестирование модели\n",
    "При кросс-валидации RMSE модели оказалась слишком высокой. Протестируем модель на тестовой выборке."
   ]
  },
  {
   "cell_type": "code",
   "execution_count": 122,
   "metadata": {},
   "outputs": [
    {
     "name": "stdout",
     "output_type": "stream",
     "text": [
      "CPU times: user 69.1 ms, sys: 18.7 ms, total: 87.8 ms\n",
      "Wall time: 53.5 ms\n"
     ]
    },
    {
     "data": {
      "text/plain": [
       "LinearRegression()"
      ]
     },
     "execution_count": 122,
     "metadata": {},
     "output_type": "execute_result"
    }
   ],
   "source": [
    "%%time\n",
    "linear_model.fit(features_enc_train, target_train)\n"
   ]
  },
  {
   "cell_type": "code",
   "execution_count": 123,
   "metadata": {
    "scrolled": true
   },
   "outputs": [
    {
     "name": "stdout",
     "output_type": "stream",
     "text": [
      "RMSE модели LinearRegression на тестовой выборке: 2904.107325588452\n",
      "CPU times: user 8.79 ms, sys: 29.9 ms, total: 38.7 ms\n",
      "Wall time: 7.49 ms\n"
     ]
    }
   ],
   "source": [
    "%%time\n",
    "print('RMSE модели LinearRegression на тестовой выборке:',\n",
    "      (mean_squared_error(target_test, linear_model.predict(features_enc_test)))**0.5)"
   ]
  },
  {
   "cell_type": "markdown",
   "metadata": {},
   "source": [
    "Обучение модели заняло менее секунды. Выполнение предсказаний на тестовой выборке заняло менее 0.1 с, однако RMSE 2904 превышает заданный заказчиком порог 2500. "
   ]
  },
  {
   "cell_type": "markdown",
   "metadata": {},
   "source": [
    "<div class=\"alert alert-block alert-success\">\n",
    "<b>✔️ Успех:</b> \n",
    "\n",
    "Модель обучена корректно 👍\n",
    "</div>"
   ]
  },
  {
   "cell_type": "markdown",
   "metadata": {},
   "source": [
    "<div class=\"alert alert-block alert-danger\">\n",
    "<b>❌ Замечание:</b>\n",
    "\n",
    "Для линейных моделей стоит масштабировать численные признаки\n",
    "</div>\n",
    "\n",
    "\n",
    "<div class=\"alert alert-block alert-info\">\n",
    "<b>❌ Комментарий студента:</b>\n",
    "\n",
    "Пожалуйста, посмотри еще раз пункт 3.3.1 - там есть ошибка в применении скейлера? На данном этапе не знаю, что в нем надо менять =(\n",
    "</div>"
   ]
  },
  {
   "cell_type": "markdown",
   "metadata": {},
   "source": [
    "<div class=\"alert alert-block alert-success\">\n",
    "<b>V2 ✔️ Успешно исправлено</b>\n",
    "    \n",
    "Нет, все верно)\n",
    "</div>"
   ]
  },
  {
   "cell_type": "markdown",
   "metadata": {},
   "source": [
    "## Анализ моделей\n",
    "В рамках данной работы были исследованы модели RandomForestRegressor(), LightGBMResressor(), LinearRegression().\n",
    "### RandomForestRegressor\n",
    "- Обучение и кросс-валидация с помощью GridSearchCV заняла 54 минуты;\n",
    "- Оптимальные гиперпараметры: 'max_depth': 14, 'n_estimators': 110;\n",
    "- RMSE при кросс-валидации 1705.4;\n",
    "- RMSE на тестовой выборке 1686.8;\n",
    "- Время предсказания на тестовой выборке менее 2 с.\n",
    "\n",
    "\n",
    "### LightGBMResressor\n",
    "- Обучение и кросс-валидация с помощью GridSearchCV заняла менее 34 минут;\n",
    "- Оптимальные гиперпараметры: 'max_depth': 15, 'n_estimators': 150, 'num_leaves': 51;\n",
    "- RMSE при кросс-валидации 1592;\n",
    "- RMSE на тестовой выборке 1591;\n",
    "- Время предсказания на тестовой выборке менее 2 с.\n",
    "\n",
    "\n",
    "### LnearResression\n",
    "- Кросс-валидация с помощью cross_validation заняла менее секунды;\n",
    "- Обучение заняло менее секунды;\n",
    "- RMSE при кросс-валидации 2894;\n",
    "- RMSE на тестовой выборке 2904;\n",
    "- Время предсказания на тестовой выборке - менее секунды.\n",
    "\n",
    "### Лучшая модель\n",
    "\n",
    "- Необходимой точности предсказаний достигли модели RandomForestRegressor и LGBMRegressor.\n",
    "- Из них более низкое RMSE (1591) получено при тестировании LGBMRegressor.\n",
    "- Время обучения, подбора гиперпараметров и кросс-валидации RandomForestRegressor - около часа.\n",
    "- Время обучения, подбора гиперпараметров и кросс-валидации LGBMRegressor - около получаса.\n",
    "- Время предсказания RandomForestRegressor и LGBMRegressor - приблизительно одинаково, составило около 1.5 с.\n",
    "\n",
    "На основании полученных данных лучшей моделью признана LGBMRegressor в связи с наиболее высокой точностью предсказаний и приемлемым временем обучения.\n",
    "\n",
    "\n",
    "\n",
    "\n"
   ]
  },
  {
   "cell_type": "markdown",
   "metadata": {},
   "source": [
    "<div class=\"alert alert-block alert-success\">\n",
    "<b>✔️ Успех:</b>\n",
    "\n",
    "Вывод соответствует анализу 👍 Значит рекомендуем заказчику LGBM\n",
    "</div>"
   ]
  },
  {
   "cell_type": "markdown",
   "metadata": {},
   "source": [
    "## Вывод\n",
    "\n",
    "### Цель исследования:\n",
    "- Построить модель, способную определять рыночную стоимость автомобиля.\n",
    "\n",
    "### Задачи исследования:\n",
    "- Изучить предоставленные данные и произвести предварительную обработку;\n",
    "- Подготовить выюорки для обучения и тестирования моделей;\n",
    "- Обучить модели ML, в том числе LightGBM.\n",
    "- Проанализировать время обучения, время предсказания и качество моделей по показателю RMSE (не должен превышать 2500);\n",
    "- Выбрать лучшую модель.\n",
    "\n",
    "### Материалы и методы:\n",
    "Работа выполнена с помощью программного обеспечения JupiterHub средствами Python, библиотек pandas, numpy, sklearn, lightgbm. Использовался датасет объявлений о продажах автомобилей с 2014 по 2016гг, предоставленный заказчиком.\n",
    "\n",
    "### Ход исследования:\n",
    "Выполнены следующие шаги:\n",
    "- Предварительная обработка данных:\n",
    "    - Исследование информации о данных;\n",
    "    - Приведение типов данных;\n",
    "    - Поиск дубликатов;\n",
    "    - Поиск и обработка пропусков;\n",
    "    - Выявление и обработка аномальных значений;\n",
    "    - Подготовка выборок для ML;\n",
    "    - Кодирование и масштабирование выборок.\n",
    "- Обучение, кросс-валидация и тестирование моделей:\n",
    "    - GridSearchCV с эстиматором RandomForestRegressor;\n",
    "    - GridSearchCV с эстиматором LGBMRegressor;\n",
    "    - Линейная регрессия.\n",
    "- Анализ результатов машинного обучения.\n",
    "\n",
    "### Результаты исследования:\n",
    "\n",
    "Лучшей моделью признан LGBMRegressor:\n",
    "- Обучение и кросс-валидация с помощью GridSearchCV заняла 33 минуты;\n",
    "- Оптимальные гиперпараметры: 'max_depth': 15, 'n_estimators': 150, 'num_leaves': 51;\n",
    "- RMSE при кросс-валидации 1592;\n",
    "- RMSE на тестовой выборке 1591;\n",
    "- Время предсказания на тестовой выборке менее 2 с.\n",
    "\n",
    "\n",
    "Данная модель может быть рекомендована для практического применения.\n"
   ]
  },
  {
   "cell_type": "markdown",
   "metadata": {},
   "source": [
    "<div class=\"alert alert-block alert-success\">\n",
    "<b>✔️ Успех:</b>\n",
    "\n",
    "Отличный результат 👍 \n",
    "</div>"
   ]
  },
  {
   "cell_type": "markdown",
   "metadata": {},
   "source": [
    "# <font color='orange'>Общее впечатление</font>\n",
    "* Этот проект выполнен очень хорошо\n",
    "* Видно, что приложено много усилий\n",
    "* Молодец, что структурируешь ноутбук, приятно проверять такие работы\n",
    "* У тебя чистый и лаконичный код\n",
    "* Мне было интересно читать твои промежуточные выводы\n",
    "* Твой уровень подачи материала находится на высоком уровне\n",
    "* Исправь, пожалуйста, мои замечания. Затем отправляй на повторную проверку\n",
    "* Жду новую версию проекта 👋"
   ]
  },
  {
   "cell_type": "markdown",
   "metadata": {},
   "source": [
    "# <font color='orange'>2. Общее впечатление</font>\n",
    "* Спасибо за быстрое внесение правок\n",
    "* Теперь проект выглядит лучше )\n",
    "* Критических замечаний нет\n",
    "* Молодец, отличная работа!\n",
    "* Надеюсь, ревью было полезным\n",
    "* Удачи в дальнейшем обучении 👋"
   ]
  },
  {
   "cell_type": "markdown",
   "metadata": {},
   "source": [
    "# <font color='orange'>Рекомендации 🔥</font>\n",
    "* Доступное объяснение про работу градиентного бустинга https://www.youtube.com/watch?v=ZNJ3lKyI-EY&t=995s\n",
    "* После просмотра видео можешь почитать статью про ансамбли и бустинги https://habr.com/ru/company/ods/blog/645887/\n",
    "* Подбор гиперпараметров для CatBoost https://habr.com/ru/company/otus/blog/527554/\n",
    "* Подбор гиперпараметров для LightGBM https://programmersought.com/article/40776531516/\n",
    "* Разумные способы кодирования категориальных данных для машинного обучения https://machinelearningmastery.ru/smarter-ways-to-encode-categorical-data-for-machine-learning-part-1-of-3-6dca2f71b159/\n",
    "* Статья про \"непонятную\" метрику ROC-AUC https://dyakonov.org/2017/07/28/auc-roc-площадь-под-кривой-ошибок/\n",
    "* Хочешь подтянуть математику для DS?) https://academy.stepik.org/math-for-data-science\n",
    "* Результы обучения моделей можно визуализировать 😎 https://www.datatechnotes.com/2019/08/elasticnet-regression-example-in-python.html\n",
    "* В нашем деле нужно быть всегда в курсе всех новинок, новостей и тд, вот тут публикуют новости в области DS: https://www.infoq.com/data-analysis/news/\n",
    "* Всем аналитикам данных рекомендую книгу Даниела Канемана \"Думай медленно, решай быстро\"\n",
    "\n",
    "\n",
    "\n",
    "<div class=\"alert alert-block alert-info\">\n",
    "<b>Комментарий студента:</b> \n",
    "Еще раз спасибо =) теперь модели обучаются во много раз быстрее. С рекомендованной литературой ознакомлюсь!\n",
    "</div>"
   ]
  }
 ],
 "metadata": {
  "ExecuteTimeLog": [
   {
    "duration": 366,
    "start_time": "2023-01-13T23:44:15.151Z"
   },
   {
    "duration": 1128,
    "start_time": "2023-01-13T23:44:17.128Z"
   },
   {
    "duration": 858,
    "start_time": "2023-01-13T23:44:26.028Z"
   },
   {
    "duration": 920,
    "start_time": "2023-01-13T23:44:37.348Z"
   },
   {
    "duration": 13,
    "start_time": "2023-01-13T23:45:09.939Z"
   },
   {
    "duration": 3,
    "start_time": "2023-01-13T23:48:16.512Z"
   },
   {
    "duration": 22,
    "start_time": "2023-01-13T23:48:26.853Z"
   },
   {
    "duration": 74,
    "start_time": "2023-01-13T23:48:34.670Z"
   },
   {
    "duration": 147,
    "start_time": "2023-01-13T23:49:26.609Z"
   },
   {
    "duration": 66,
    "start_time": "2023-01-13T23:49:53.396Z"
   },
   {
    "duration": 101,
    "start_time": "2023-01-13T23:49:58.444Z"
   },
   {
    "duration": 47,
    "start_time": "2023-01-13T23:50:09.429Z"
   },
   {
    "duration": 389,
    "start_time": "2023-01-13T23:50:16.996Z"
   },
   {
    "duration": 231,
    "start_time": "2023-01-13T23:50:35.623Z"
   },
   {
    "duration": 233,
    "start_time": "2023-01-13T23:50:54.740Z"
   },
   {
    "duration": 1754,
    "start_time": "2023-01-13T23:51:16.247Z"
   },
   {
    "duration": 9,
    "start_time": "2023-01-13T23:51:39.756Z"
   },
   {
    "duration": 10,
    "start_time": "2023-01-13T23:51:44.580Z"
   },
   {
    "duration": 1506,
    "start_time": "2023-01-13T23:52:05.033Z"
   },
   {
    "duration": 1595,
    "start_time": "2023-01-13T23:52:14.868Z"
   },
   {
    "duration": 0,
    "start_time": "2023-01-13T23:52:43.961Z"
   },
   {
    "duration": 3,
    "start_time": "2023-01-13T23:52:46.766Z"
   },
   {
    "duration": 958,
    "start_time": "2023-01-13T23:52:46.791Z"
   },
   {
    "duration": 13,
    "start_time": "2023-01-13T23:52:47.751Z"
   },
   {
    "duration": 8,
    "start_time": "2023-01-13T23:52:47.765Z"
   },
   {
    "duration": 1642,
    "start_time": "2023-01-13T23:52:49.740Z"
   },
   {
    "duration": 1707,
    "start_time": "2023-01-13T23:53:33.357Z"
   },
   {
    "duration": 1805,
    "start_time": "2023-01-13T23:54:15.676Z"
   },
   {
    "duration": 785,
    "start_time": "2023-01-13T23:55:42.626Z"
   },
   {
    "duration": 27,
    "start_time": "2023-01-13T23:55:52.236Z"
   },
   {
    "duration": 23,
    "start_time": "2023-01-13T23:56:07.668Z"
   },
   {
    "duration": 34,
    "start_time": "2023-01-13T23:56:12.660Z"
   },
   {
    "duration": 22,
    "start_time": "2023-01-13T23:56:25.328Z"
   },
   {
    "duration": 22,
    "start_time": "2023-01-13T23:57:02.229Z"
   },
   {
    "duration": 44,
    "start_time": "2023-01-13T23:57:18.613Z"
   },
   {
    "duration": 29,
    "start_time": "2023-01-13T23:57:21.916Z"
   },
   {
    "duration": 23,
    "start_time": "2023-01-13T23:57:40.469Z"
   },
   {
    "duration": 115,
    "start_time": "2023-01-13T23:58:35.733Z"
   },
   {
    "duration": 117,
    "start_time": "2023-01-13T23:59:52.607Z"
   },
   {
    "duration": 8,
    "start_time": "2023-01-14T00:00:20.822Z"
   },
   {
    "duration": 7,
    "start_time": "2023-01-14T00:00:42.822Z"
   },
   {
    "duration": 7,
    "start_time": "2023-01-14T00:00:49.574Z"
   },
   {
    "duration": 118,
    "start_time": "2023-01-14T00:00:55.942Z"
   },
   {
    "duration": 228,
    "start_time": "2023-01-14T00:01:07.326Z"
   },
   {
    "duration": 226,
    "start_time": "2023-01-14T00:01:17.262Z"
   },
   {
    "duration": 232,
    "start_time": "2023-01-14T00:01:22.974Z"
   },
   {
    "duration": 228,
    "start_time": "2023-01-14T00:01:33.308Z"
   },
   {
    "duration": 232,
    "start_time": "2023-01-14T00:01:53.014Z"
   },
   {
    "duration": 7,
    "start_time": "2023-01-14T00:03:42.984Z"
   },
   {
    "duration": 251,
    "start_time": "2023-01-14T00:03:47.991Z"
   },
   {
    "duration": 109,
    "start_time": "2023-01-14T00:03:51.463Z"
   },
   {
    "duration": 126,
    "start_time": "2023-01-14T00:04:01.023Z"
   },
   {
    "duration": 190,
    "start_time": "2023-01-14T00:04:07.640Z"
   },
   {
    "duration": 209,
    "start_time": "2023-01-14T00:04:21.823Z"
   },
   {
    "duration": 182,
    "start_time": "2023-01-14T00:04:44.424Z"
   },
   {
    "duration": 299,
    "start_time": "2023-01-14T00:07:21.449Z"
   },
   {
    "duration": 254,
    "start_time": "2023-01-14T00:08:00.691Z"
   },
   {
    "duration": 310,
    "start_time": "2023-01-14T00:08:16.323Z"
   },
   {
    "duration": 83,
    "start_time": "2023-01-14T00:09:50.561Z"
   },
   {
    "duration": 88,
    "start_time": "2023-01-14T00:12:04.891Z"
   },
   {
    "duration": 70,
    "start_time": "2023-01-14T00:12:23.923Z"
   },
   {
    "duration": 70,
    "start_time": "2023-01-14T00:12:27.530Z"
   },
   {
    "duration": 369,
    "start_time": "2023-01-14T00:12:48.690Z"
   },
   {
    "duration": 87,
    "start_time": "2023-01-14T00:13:02.634Z"
   },
   {
    "duration": 1039,
    "start_time": "2023-01-14T00:13:42.867Z"
   },
   {
    "duration": 798,
    "start_time": "2023-01-14T00:14:05.716Z"
   },
   {
    "duration": 795,
    "start_time": "2023-01-14T00:28:05.494Z"
   },
   {
    "duration": 130,
    "start_time": "2023-01-14T00:28:07.654Z"
   },
   {
    "duration": 206,
    "start_time": "2023-01-14T00:30:56.331Z"
   },
   {
    "duration": 245,
    "start_time": "2023-01-14T00:31:12.118Z"
   },
   {
    "duration": 77,
    "start_time": "2023-01-14T00:39:51.016Z"
   },
   {
    "duration": 77,
    "start_time": "2023-01-14T00:39:57.271Z"
   },
   {
    "duration": 79,
    "start_time": "2023-01-14T00:40:02.310Z"
   },
   {
    "duration": 77,
    "start_time": "2023-01-14T00:40:05.151Z"
   },
   {
    "duration": 77,
    "start_time": "2023-01-14T00:40:18.943Z"
   },
   {
    "duration": 95,
    "start_time": "2023-01-14T00:40:51.807Z"
   },
   {
    "duration": 95,
    "start_time": "2023-01-14T00:40:57.800Z"
   },
   {
    "duration": 85,
    "start_time": "2023-01-14T00:42:15.624Z"
   },
   {
    "duration": 26,
    "start_time": "2023-01-14T00:42:56.295Z"
   },
   {
    "duration": 372,
    "start_time": "2023-01-14T00:43:07.112Z"
   },
   {
    "duration": 372,
    "start_time": "2023-01-14T00:43:14.392Z"
   },
   {
    "duration": 11,
    "start_time": "2023-01-14T00:43:27.968Z"
   },
   {
    "duration": 92,
    "start_time": "2023-01-14T00:43:37.856Z"
   },
   {
    "duration": 80,
    "start_time": "2023-01-14T00:43:59.175Z"
   },
   {
    "duration": 14,
    "start_time": "2023-01-14T00:44:03.975Z"
   },
   {
    "duration": 400,
    "start_time": "2023-01-14T00:44:12.088Z"
   },
   {
    "duration": 112,
    "start_time": "2023-01-14T00:44:54.064Z"
   },
   {
    "duration": 23,
    "start_time": "2023-01-14T00:44:56.808Z"
   },
   {
    "duration": 428,
    "start_time": "2023-01-14T00:45:03.271Z"
   },
   {
    "duration": 28,
    "start_time": "2023-01-14T00:45:08.921Z"
   },
   {
    "duration": 50,
    "start_time": "2023-01-14T00:45:31.029Z"
   },
   {
    "duration": 29,
    "start_time": "2023-01-14T00:45:45.248Z"
   },
   {
    "duration": 9,
    "start_time": "2023-01-14T00:46:05.192Z"
   },
   {
    "duration": 37,
    "start_time": "2023-01-14T00:46:13.143Z"
   },
   {
    "duration": 143,
    "start_time": "2023-01-14T00:46:22.976Z"
   },
   {
    "duration": 57,
    "start_time": "2023-01-14T00:46:48.583Z"
   },
   {
    "duration": 144,
    "start_time": "2023-01-14T00:46:50.332Z"
   },
   {
    "duration": 385,
    "start_time": "2023-01-14T00:48:07.341Z"
   },
   {
    "duration": 827,
    "start_time": "2023-01-14T00:48:07.728Z"
   },
   {
    "duration": 152,
    "start_time": "2023-01-14T00:48:08.557Z"
   },
   {
    "duration": 11,
    "start_time": "2023-01-14T00:48:08.718Z"
   },
   {
    "duration": 1874,
    "start_time": "2023-01-14T00:48:08.730Z"
   },
   {
    "duration": 40,
    "start_time": "2023-01-14T00:48:10.605Z"
   },
   {
    "duration": 134,
    "start_time": "2023-01-14T00:48:10.647Z"
   },
   {
    "duration": 265,
    "start_time": "2023-01-14T00:48:10.783Z"
   },
   {
    "duration": 106,
    "start_time": "2023-01-14T00:48:11.050Z"
   },
   {
    "duration": 75,
    "start_time": "2023-01-14T00:48:14.216Z"
   },
   {
    "duration": 121,
    "start_time": "2023-01-14T00:48:33.497Z"
   },
   {
    "duration": 136,
    "start_time": "2023-01-14T00:48:35.913Z"
   },
   {
    "duration": 502,
    "start_time": "2023-01-14T00:48:56.177Z"
   },
   {
    "duration": 199,
    "start_time": "2023-01-14T00:50:28.185Z"
   },
   {
    "duration": 432,
    "start_time": "2023-01-14T00:50:37.193Z"
   },
   {
    "duration": 526,
    "start_time": "2023-01-14T00:51:02.985Z"
   },
   {
    "duration": 111,
    "start_time": "2023-01-14T00:51:14.769Z"
   },
   {
    "duration": 508,
    "start_time": "2023-01-14T00:51:16.769Z"
   },
   {
    "duration": 7,
    "start_time": "2023-01-14T00:56:29.498Z"
   },
   {
    "duration": 36,
    "start_time": "2023-01-14T00:56:37.987Z"
   },
   {
    "duration": 145,
    "start_time": "2023-01-14T00:56:52.074Z"
   },
   {
    "duration": 127,
    "start_time": "2023-01-14T00:57:04.978Z"
   },
   {
    "duration": 117,
    "start_time": "2023-01-14T00:57:07.178Z"
   },
   {
    "duration": 796,
    "start_time": "2023-01-14T01:01:00.203Z"
   },
   {
    "duration": 19,
    "start_time": "2023-01-14T01:01:34.219Z"
   },
   {
    "duration": 120,
    "start_time": "2023-01-14T01:01:37.059Z"
   },
   {
    "duration": 376,
    "start_time": "2023-01-14T01:01:49.429Z"
   },
   {
    "duration": 785,
    "start_time": "2023-01-14T01:01:49.807Z"
   },
   {
    "duration": 147,
    "start_time": "2023-01-14T01:01:50.593Z"
   },
   {
    "duration": 2,
    "start_time": "2023-01-14T01:01:50.742Z"
   },
   {
    "duration": 1745,
    "start_time": "2023-01-14T01:01:50.746Z"
   },
   {
    "duration": 26,
    "start_time": "2023-01-14T01:01:52.493Z"
   },
   {
    "duration": 130,
    "start_time": "2023-01-14T01:01:52.521Z"
   },
   {
    "duration": 241,
    "start_time": "2023-01-14T01:01:52.653Z"
   },
   {
    "duration": 90,
    "start_time": "2023-01-14T01:01:52.895Z"
   },
   {
    "duration": 124,
    "start_time": "2023-01-14T01:01:52.987Z"
   },
   {
    "duration": 128,
    "start_time": "2023-01-14T01:01:53.116Z"
   },
   {
    "duration": 146,
    "start_time": "2023-01-14T01:01:53.246Z"
   },
   {
    "duration": 519,
    "start_time": "2023-01-14T01:01:53.393Z"
   },
   {
    "duration": 140,
    "start_time": "2023-01-14T01:01:53.915Z"
   },
   {
    "duration": 1064,
    "start_time": "2023-01-14T01:01:54.057Z"
   },
   {
    "duration": 26,
    "start_time": "2023-01-14T01:01:55.123Z"
   },
   {
    "duration": 94,
    "start_time": "2023-01-14T01:01:57.475Z"
   },
   {
    "duration": 357,
    "start_time": "2023-01-14T01:03:23.758Z"
   },
   {
    "duration": 797,
    "start_time": "2023-01-14T01:03:24.117Z"
   },
   {
    "duration": 134,
    "start_time": "2023-01-14T01:03:24.915Z"
   },
   {
    "duration": 3,
    "start_time": "2023-01-14T01:03:25.050Z"
   },
   {
    "duration": 1710,
    "start_time": "2023-01-14T01:03:25.054Z"
   },
   {
    "duration": 23,
    "start_time": "2023-01-14T01:03:26.765Z"
   },
   {
    "duration": 127,
    "start_time": "2023-01-14T01:03:26.789Z"
   },
   {
    "duration": 228,
    "start_time": "2023-01-14T01:03:26.918Z"
   },
   {
    "duration": 88,
    "start_time": "2023-01-14T01:03:27.148Z"
   },
   {
    "duration": 125,
    "start_time": "2023-01-14T01:03:27.239Z"
   },
   {
    "duration": 122,
    "start_time": "2023-01-14T01:03:27.366Z"
   },
   {
    "duration": 127,
    "start_time": "2023-01-14T01:03:27.490Z"
   },
   {
    "duration": 550,
    "start_time": "2023-01-14T01:03:27.619Z"
   },
   {
    "duration": 183,
    "start_time": "2023-01-14T01:03:28.174Z"
   },
   {
    "duration": 946,
    "start_time": "2023-01-14T01:03:28.359Z"
   },
   {
    "duration": 31,
    "start_time": "2023-01-14T01:03:29.306Z"
   },
   {
    "duration": 100,
    "start_time": "2023-01-14T01:03:39.715Z"
   },
   {
    "duration": 764,
    "start_time": "2023-01-14T01:04:23.532Z"
   },
   {
    "duration": 7,
    "start_time": "2023-01-14T01:04:28.172Z"
   },
   {
    "duration": 16,
    "start_time": "2023-01-14T01:04:38.044Z"
   },
   {
    "duration": 216,
    "start_time": "2023-01-14T01:04:49.228Z"
   },
   {
    "duration": 103,
    "start_time": "2023-01-14T01:05:05.589Z"
   },
   {
    "duration": 59,
    "start_time": "2023-01-14T01:05:20.108Z"
   },
   {
    "duration": 60,
    "start_time": "2023-01-14T01:05:29.901Z"
   },
   {
    "duration": 51,
    "start_time": "2023-01-14T01:05:47.533Z"
   },
   {
    "duration": 53,
    "start_time": "2023-01-14T01:09:31.421Z"
   },
   {
    "duration": 90,
    "start_time": "2023-01-14T01:09:44.045Z"
   },
   {
    "duration": 56,
    "start_time": "2023-01-14T01:09:51.821Z"
   },
   {
    "duration": 659,
    "start_time": "2023-01-14T01:09:59.597Z"
   },
   {
    "duration": 13,
    "start_time": "2023-01-14T01:10:37.126Z"
   },
   {
    "duration": 13,
    "start_time": "2023-01-14T01:11:57.582Z"
   },
   {
    "duration": 7,
    "start_time": "2023-01-14T01:12:27.382Z"
   },
   {
    "duration": 25,
    "start_time": "2023-01-14T01:12:37.502Z"
   },
   {
    "duration": 186,
    "start_time": "2023-01-14T01:13:09.046Z"
   },
   {
    "duration": 6,
    "start_time": "2023-01-14T01:13:20.078Z"
   },
   {
    "duration": 5,
    "start_time": "2023-01-14T01:13:26.151Z"
   },
   {
    "duration": 292,
    "start_time": "2023-01-14T01:13:37.551Z"
   },
   {
    "duration": 309,
    "start_time": "2023-01-14T01:14:05.062Z"
   },
   {
    "duration": 8,
    "start_time": "2023-01-14T01:15:05.647Z"
   },
   {
    "duration": 13,
    "start_time": "2023-01-14T01:15:11.583Z"
   },
   {
    "duration": 320,
    "start_time": "2023-01-14T01:16:33.384Z"
   },
   {
    "duration": 241,
    "start_time": "2023-01-14T01:17:13.103Z"
   },
   {
    "duration": 267,
    "start_time": "2023-01-14T01:17:49.456Z"
   },
   {
    "duration": 8,
    "start_time": "2023-01-14T01:19:46.287Z"
   },
   {
    "duration": 58,
    "start_time": "2023-01-14T01:20:23.208Z"
   },
   {
    "duration": 7,
    "start_time": "2023-01-14T01:20:41.993Z"
   },
   {
    "duration": 37,
    "start_time": "2023-01-14T01:20:45.792Z"
   },
   {
    "duration": 20,
    "start_time": "2023-01-14T01:21:09.569Z"
   },
   {
    "duration": 10,
    "start_time": "2023-01-14T01:21:22.136Z"
   },
   {
    "duration": 66,
    "start_time": "2023-01-14T01:21:41.224Z"
   },
   {
    "duration": 225,
    "start_time": "2023-01-14T01:21:47.216Z"
   },
   {
    "duration": 7,
    "start_time": "2023-01-14T01:22:13.856Z"
   },
   {
    "duration": 27,
    "start_time": "2023-01-14T01:22:20.728Z"
   },
   {
    "duration": 16,
    "start_time": "2023-01-14T01:22:55.449Z"
   },
   {
    "duration": 17,
    "start_time": "2023-01-14T01:22:58.111Z"
   },
   {
    "duration": 10,
    "start_time": "2023-01-14T01:23:09.712Z"
   },
   {
    "duration": 10,
    "start_time": "2023-01-14T01:23:14.672Z"
   },
   {
    "duration": 9,
    "start_time": "2023-01-14T01:23:26.921Z"
   },
   {
    "duration": 65,
    "start_time": "2023-01-14T01:23:39.498Z"
   },
   {
    "duration": 244,
    "start_time": "2023-01-14T01:23:42.425Z"
   },
   {
    "duration": 233,
    "start_time": "2023-01-14T01:23:50.353Z"
   },
   {
    "duration": 15,
    "start_time": "2023-01-14T01:24:54.632Z"
   },
   {
    "duration": 692,
    "start_time": "2023-01-14T01:25:29.202Z"
   },
   {
    "duration": 737,
    "start_time": "2023-01-14T01:25:34.785Z"
   },
   {
    "duration": 17,
    "start_time": "2023-01-14T01:26:02.649Z"
   },
   {
    "duration": 17,
    "start_time": "2023-01-14T01:26:06.793Z"
   },
   {
    "duration": 672,
    "start_time": "2023-01-14T01:26:15.610Z"
   },
   {
    "duration": 360,
    "start_time": "2023-01-14T01:26:24.921Z"
   },
   {
    "duration": 16,
    "start_time": "2023-01-14T01:26:33.170Z"
   },
   {
    "duration": 23,
    "start_time": "2023-01-14T01:26:41.538Z"
   },
   {
    "duration": 13,
    "start_time": "2023-01-14T01:27:39.530Z"
   },
   {
    "duration": 739,
    "start_time": "2023-01-14T01:28:02.065Z"
   },
   {
    "duration": 17,
    "start_time": "2023-01-14T01:28:12.243Z"
   },
   {
    "duration": 97,
    "start_time": "2023-01-14T01:28:39.338Z"
   },
   {
    "duration": 18,
    "start_time": "2023-01-14T01:28:52.783Z"
   },
   {
    "duration": 12,
    "start_time": "2023-01-14T01:29:21.193Z"
   },
   {
    "duration": 11,
    "start_time": "2023-01-14T01:29:44.299Z"
   },
   {
    "duration": 9,
    "start_time": "2023-01-14T01:30:21.082Z"
   },
   {
    "duration": 32,
    "start_time": "2023-01-14T01:32:41.482Z"
   },
   {
    "duration": 30,
    "start_time": "2023-01-14T01:32:46.428Z"
   },
   {
    "duration": 26,
    "start_time": "2023-01-14T01:33:36.548Z"
   },
   {
    "duration": 43,
    "start_time": "2023-01-14T01:35:06.748Z"
   },
   {
    "duration": 32,
    "start_time": "2023-01-14T01:35:08.843Z"
   },
   {
    "duration": 438,
    "start_time": "2023-01-14T21:11:18.407Z"
   },
   {
    "duration": 575,
    "start_time": "2023-01-14T21:12:22.732Z"
   },
   {
    "duration": 915,
    "start_time": "2023-01-14T21:12:29.047Z"
   },
   {
    "duration": 100,
    "start_time": "2023-01-14T21:12:52.670Z"
   },
   {
    "duration": 3472,
    "start_time": "2023-01-14T21:13:02.637Z"
   },
   {
    "duration": 136,
    "start_time": "2023-01-14T21:13:08.199Z"
   },
   {
    "duration": 86,
    "start_time": "2023-01-14T21:13:41.517Z"
   },
   {
    "duration": 3,
    "start_time": "2023-01-14T21:13:47.126Z"
   },
   {
    "duration": 1786,
    "start_time": "2023-01-14T21:13:52.950Z"
   },
   {
    "duration": 3,
    "start_time": "2023-01-14T21:16:13.582Z"
   },
   {
    "duration": 989,
    "start_time": "2023-01-14T21:16:13.592Z"
   },
   {
    "duration": 151,
    "start_time": "2023-01-14T21:16:14.584Z"
   },
   {
    "duration": 111,
    "start_time": "2023-01-14T21:16:14.737Z"
   },
   {
    "duration": 4,
    "start_time": "2023-01-14T21:16:14.850Z"
   },
   {
    "duration": 1863,
    "start_time": "2023-01-14T21:16:14.856Z"
   },
   {
    "duration": 24,
    "start_time": "2023-01-14T21:16:16.721Z"
   },
   {
    "duration": 140,
    "start_time": "2023-01-14T21:16:16.747Z"
   },
   {
    "duration": 292,
    "start_time": "2023-01-14T21:16:16.890Z"
   },
   {
    "duration": 109,
    "start_time": "2023-01-14T21:16:17.185Z"
   },
   {
    "duration": 119,
    "start_time": "2023-01-14T21:16:17.295Z"
   },
   {
    "duration": 99,
    "start_time": "2023-01-14T21:16:17.416Z"
   },
   {
    "duration": 100,
    "start_time": "2023-01-14T21:16:17.517Z"
   },
   {
    "duration": 124,
    "start_time": "2023-01-14T21:16:26.661Z"
   },
   {
    "duration": 486,
    "start_time": "2023-01-14T21:16:28.293Z"
   },
   {
    "duration": 3,
    "start_time": "2023-01-14T21:16:40.155Z"
   },
   {
    "duration": 763,
    "start_time": "2023-01-14T21:16:40.175Z"
   },
   {
    "duration": 160,
    "start_time": "2023-01-14T21:16:40.940Z"
   },
   {
    "duration": 90,
    "start_time": "2023-01-14T21:16:41.102Z"
   },
   {
    "duration": 3,
    "start_time": "2023-01-14T21:16:41.194Z"
   },
   {
    "duration": 1624,
    "start_time": "2023-01-14T21:16:41.201Z"
   },
   {
    "duration": 21,
    "start_time": "2023-01-14T21:16:42.827Z"
   },
   {
    "duration": 128,
    "start_time": "2023-01-14T21:16:42.849Z"
   },
   {
    "duration": 186,
    "start_time": "2023-01-14T21:16:42.979Z"
   },
   {
    "duration": 78,
    "start_time": "2023-01-14T21:16:43.167Z"
   },
   {
    "duration": 84,
    "start_time": "2023-01-14T21:16:43.246Z"
   },
   {
    "duration": 97,
    "start_time": "2023-01-14T21:16:43.332Z"
   },
   {
    "duration": 87,
    "start_time": "2023-01-14T21:16:43.430Z"
   },
   {
    "duration": 512,
    "start_time": "2023-01-14T21:16:45.207Z"
   },
   {
    "duration": 137,
    "start_time": "2023-01-14T21:33:00.345Z"
   },
   {
    "duration": 1281,
    "start_time": "2023-01-14T21:35:17.644Z"
   },
   {
    "duration": 164,
    "start_time": "2023-01-14T21:35:27.739Z"
   },
   {
    "duration": 271,
    "start_time": "2023-01-14T21:35:44.756Z"
   },
   {
    "duration": 227,
    "start_time": "2023-01-14T21:35:53.636Z"
   },
   {
    "duration": 197,
    "start_time": "2023-01-14T21:35:57.837Z"
   },
   {
    "duration": 273,
    "start_time": "2023-01-14T21:36:18.196Z"
   },
   {
    "duration": 207,
    "start_time": "2023-01-14T21:36:35.708Z"
   },
   {
    "duration": 176,
    "start_time": "2023-01-14T21:36:46.188Z"
   },
   {
    "duration": 183,
    "start_time": "2023-01-14T21:37:02.597Z"
   },
   {
    "duration": 228,
    "start_time": "2023-01-14T21:37:30.763Z"
   },
   {
    "duration": 190,
    "start_time": "2023-01-14T21:37:41.180Z"
   },
   {
    "duration": 177,
    "start_time": "2023-01-14T21:37:51.819Z"
   },
   {
    "duration": 173,
    "start_time": "2023-01-14T21:38:01.916Z"
   },
   {
    "duration": 152,
    "start_time": "2023-01-14T21:44:43.678Z"
   },
   {
    "duration": 14,
    "start_time": "2023-01-14T21:45:18.950Z"
   },
   {
    "duration": 151,
    "start_time": "2023-01-14T21:45:30.815Z"
   },
   {
    "duration": 14,
    "start_time": "2023-01-14T21:46:28.303Z"
   },
   {
    "duration": 14,
    "start_time": "2023-01-14T21:46:47.848Z"
   },
   {
    "duration": 44,
    "start_time": "2023-01-14T21:46:54.936Z"
   },
   {
    "duration": 70,
    "start_time": "2023-01-14T21:47:04.427Z"
   },
   {
    "duration": 68,
    "start_time": "2023-01-14T21:47:06.903Z"
   },
   {
    "duration": 10,
    "start_time": "2023-01-14T21:47:11.559Z"
   },
   {
    "duration": 11,
    "start_time": "2023-01-14T21:47:36.494Z"
   },
   {
    "duration": 13,
    "start_time": "2023-01-14T21:47:47.535Z"
   },
   {
    "duration": 16,
    "start_time": "2023-01-14T21:48:58.816Z"
   },
   {
    "duration": 12,
    "start_time": "2023-01-14T21:49:12.873Z"
   },
   {
    "duration": 35,
    "start_time": "2023-01-14T21:50:29.528Z"
   },
   {
    "duration": 30,
    "start_time": "2023-01-14T21:51:01.635Z"
   },
   {
    "duration": 28,
    "start_time": "2023-01-14T21:51:18.139Z"
   },
   {
    "duration": 23,
    "start_time": "2023-01-14T21:53:09.715Z"
   },
   {
    "duration": 27,
    "start_time": "2023-01-14T21:55:37.444Z"
   },
   {
    "duration": 11,
    "start_time": "2023-01-14T21:55:46.762Z"
   },
   {
    "duration": 10,
    "start_time": "2023-01-14T21:56:11.435Z"
   },
   {
    "duration": 21,
    "start_time": "2023-01-14T21:56:54.043Z"
   },
   {
    "duration": 4,
    "start_time": "2023-01-14T21:57:14.976Z"
   },
   {
    "duration": 781,
    "start_time": "2023-01-14T21:57:14.986Z"
   },
   {
    "duration": 137,
    "start_time": "2023-01-14T21:57:15.770Z"
   },
   {
    "duration": 86,
    "start_time": "2023-01-14T21:57:15.909Z"
   },
   {
    "duration": 3,
    "start_time": "2023-01-14T21:57:15.997Z"
   },
   {
    "duration": 1643,
    "start_time": "2023-01-14T21:57:16.003Z"
   },
   {
    "duration": 51,
    "start_time": "2023-01-14T21:57:17.648Z"
   },
   {
    "duration": 140,
    "start_time": "2023-01-14T21:57:17.702Z"
   },
   {
    "duration": 272,
    "start_time": "2023-01-14T21:57:17.845Z"
   },
   {
    "duration": 82,
    "start_time": "2023-01-14T21:57:18.118Z"
   },
   {
    "duration": 115,
    "start_time": "2023-01-14T21:57:18.202Z"
   },
   {
    "duration": 107,
    "start_time": "2023-01-14T21:57:18.320Z"
   },
   {
    "duration": 96,
    "start_time": "2023-01-14T21:57:18.429Z"
   },
   {
    "duration": 476,
    "start_time": "2023-01-14T21:57:18.526Z"
   },
   {
    "duration": 135,
    "start_time": "2023-01-14T21:57:19.005Z"
   },
   {
    "duration": 1263,
    "start_time": "2023-01-14T21:57:19.143Z"
   },
   {
    "duration": 41,
    "start_time": "2023-01-14T21:57:20.408Z"
   },
   {
    "duration": 77,
    "start_time": "2023-01-14T21:57:20.451Z"
   },
   {
    "duration": 302,
    "start_time": "2023-01-14T21:57:20.530Z"
   },
   {
    "duration": 57,
    "start_time": "2023-01-14T21:57:20.834Z"
   },
   {
    "duration": 304,
    "start_time": "2023-01-14T21:57:20.892Z"
   },
   {
    "duration": 43,
    "start_time": "2023-01-14T21:57:21.198Z"
   },
   {
    "duration": 203,
    "start_time": "2023-01-14T21:57:21.242Z"
   },
   {
    "duration": 7,
    "start_time": "2023-01-14T21:57:36.675Z"
   },
   {
    "duration": 9,
    "start_time": "2023-01-14T21:57:43.467Z"
   },
   {
    "duration": 7,
    "start_time": "2023-01-14T21:58:03.779Z"
   },
   {
    "duration": 8,
    "start_time": "2023-01-14T21:58:08.235Z"
   },
   {
    "duration": 11,
    "start_time": "2023-01-14T21:58:25.469Z"
   },
   {
    "duration": 15,
    "start_time": "2023-01-14T21:58:31.219Z"
   },
   {
    "duration": 15,
    "start_time": "2023-01-14T21:58:46.011Z"
   },
   {
    "duration": 16,
    "start_time": "2023-01-14T21:59:00.445Z"
   },
   {
    "duration": 7,
    "start_time": "2023-01-14T21:59:16.628Z"
   },
   {
    "duration": 9,
    "start_time": "2023-01-14T21:59:26.741Z"
   },
   {
    "duration": 19,
    "start_time": "2023-01-14T21:59:50.707Z"
   },
   {
    "duration": 13,
    "start_time": "2023-01-14T22:00:22.973Z"
   },
   {
    "duration": 50,
    "start_time": "2023-01-14T22:11:45.575Z"
   },
   {
    "duration": 93,
    "start_time": "2023-01-14T22:12:06.207Z"
   },
   {
    "duration": 76,
    "start_time": "2023-01-14T22:12:25.600Z"
   },
   {
    "duration": 52,
    "start_time": "2023-01-14T22:12:44.961Z"
   },
   {
    "duration": 34,
    "start_time": "2023-01-14T22:12:56.552Z"
   },
   {
    "duration": 25,
    "start_time": "2023-01-14T22:13:05.319Z"
   },
   {
    "duration": 26,
    "start_time": "2023-01-14T22:13:13.232Z"
   },
   {
    "duration": 22,
    "start_time": "2023-01-14T22:26:40.203Z"
   },
   {
    "duration": 88,
    "start_time": "2023-01-14T22:27:04.067Z"
   },
   {
    "duration": 59,
    "start_time": "2023-01-14T22:27:28.773Z"
   },
   {
    "duration": 24,
    "start_time": "2023-01-14T22:27:47.314Z"
   },
   {
    "duration": 4,
    "start_time": "2023-01-14T22:28:21.826Z"
   },
   {
    "duration": 50,
    "start_time": "2023-01-14T22:28:29.203Z"
   },
   {
    "duration": 62,
    "start_time": "2023-01-14T22:30:12.036Z"
   },
   {
    "duration": 1400,
    "start_time": "2023-01-14T22:30:23.784Z"
   },
   {
    "duration": 826,
    "start_time": "2023-01-14T22:30:25.186Z"
   },
   {
    "duration": 132,
    "start_time": "2023-01-14T22:30:26.013Z"
   },
   {
    "duration": 93,
    "start_time": "2023-01-14T22:30:26.147Z"
   },
   {
    "duration": 3,
    "start_time": "2023-01-14T22:30:26.241Z"
   },
   {
    "duration": 1468,
    "start_time": "2023-01-14T22:30:26.246Z"
   },
   {
    "duration": 151,
    "start_time": "2023-01-14T22:30:27.715Z"
   },
   {
    "duration": 22,
    "start_time": "2023-01-14T22:30:27.867Z"
   },
   {
    "duration": 52,
    "start_time": "2023-01-14T22:30:27.891Z"
   },
   {
    "duration": 85,
    "start_time": "2023-01-14T22:30:36.620Z"
   },
   {
    "duration": 196,
    "start_time": "2023-01-14T22:30:56.132Z"
   },
   {
    "duration": 75,
    "start_time": "2023-01-14T22:30:58.675Z"
   },
   {
    "duration": 120,
    "start_time": "2023-01-14T22:31:10.717Z"
   },
   {
    "duration": 95,
    "start_time": "2023-01-14T22:31:12.548Z"
   },
   {
    "duration": 82,
    "start_time": "2023-01-14T22:31:24.733Z"
   },
   {
    "duration": 449,
    "start_time": "2023-01-14T22:31:27.299Z"
   },
   {
    "duration": 110,
    "start_time": "2023-01-14T22:31:45.683Z"
   },
   {
    "duration": 151,
    "start_time": "2023-01-14T22:33:37.590Z"
   },
   {
    "duration": 280,
    "start_time": "2023-01-14T22:33:49.964Z"
   },
   {
    "duration": 52,
    "start_time": "2023-01-14T22:35:09.341Z"
   },
   {
    "duration": 27,
    "start_time": "2023-01-14T22:36:37.633Z"
   },
   {
    "duration": 6,
    "start_time": "2023-01-14T22:36:50.177Z"
   },
   {
    "duration": 26,
    "start_time": "2023-01-14T22:36:54.533Z"
   },
   {
    "duration": 1249,
    "start_time": "2023-01-14T22:37:22.639Z"
   },
   {
    "duration": 819,
    "start_time": "2023-01-14T22:37:23.890Z"
   },
   {
    "duration": 129,
    "start_time": "2023-01-14T22:37:24.711Z"
   },
   {
    "duration": 96,
    "start_time": "2023-01-14T22:37:24.841Z"
   },
   {
    "duration": 3,
    "start_time": "2023-01-14T22:37:24.939Z"
   },
   {
    "duration": 1497,
    "start_time": "2023-01-14T22:37:24.944Z"
   },
   {
    "duration": 146,
    "start_time": "2023-01-14T22:37:26.443Z"
   },
   {
    "duration": 22,
    "start_time": "2023-01-14T22:37:26.590Z"
   },
   {
    "duration": 51,
    "start_time": "2023-01-14T22:37:26.613Z"
   },
   {
    "duration": 87,
    "start_time": "2023-01-14T22:37:26.677Z"
   },
   {
    "duration": 191,
    "start_time": "2023-01-14T22:37:26.765Z"
   },
   {
    "duration": 80,
    "start_time": "2023-01-14T22:37:26.958Z"
   },
   {
    "duration": 120,
    "start_time": "2023-01-14T22:37:27.040Z"
   },
   {
    "duration": 96,
    "start_time": "2023-01-14T22:37:27.162Z"
   },
   {
    "duration": 90,
    "start_time": "2023-01-14T22:37:27.260Z"
   },
   {
    "duration": 96,
    "start_time": "2023-01-14T22:37:27.352Z"
   },
   {
    "duration": 141,
    "start_time": "2023-01-14T22:37:27.450Z"
   },
   {
    "duration": 1157,
    "start_time": "2023-01-14T22:37:27.592Z"
   },
   {
    "duration": 39,
    "start_time": "2023-01-14T22:37:28.751Z"
   },
   {
    "duration": 72,
    "start_time": "2023-01-14T22:37:28.792Z"
   },
   {
    "duration": 326,
    "start_time": "2023-01-14T22:37:28.866Z"
   },
   {
    "duration": 60,
    "start_time": "2023-01-14T22:37:29.193Z"
   },
   {
    "duration": 293,
    "start_time": "2023-01-14T22:37:29.255Z"
   },
   {
    "duration": 52,
    "start_time": "2023-01-14T22:37:29.549Z"
   },
   {
    "duration": 197,
    "start_time": "2023-01-14T22:37:29.603Z"
   },
   {
    "duration": 8,
    "start_time": "2023-01-14T22:37:29.803Z"
   },
   {
    "duration": 22,
    "start_time": "2023-01-14T22:37:38.536Z"
   },
   {
    "duration": 18,
    "start_time": "2023-01-14T22:40:01.744Z"
   },
   {
    "duration": 20,
    "start_time": "2023-01-14T22:41:25.976Z"
   },
   {
    "duration": 56,
    "start_time": "2023-01-14T22:44:34.064Z"
   },
   {
    "duration": 7,
    "start_time": "2023-01-14T22:51:48.466Z"
   },
   {
    "duration": 107,
    "start_time": "2023-01-14T22:51:52.881Z"
   },
   {
    "duration": 10,
    "start_time": "2023-01-14T22:51:59.089Z"
   },
   {
    "duration": 5,
    "start_time": "2023-01-14T22:52:02.162Z"
   },
   {
    "duration": 9,
    "start_time": "2023-01-14T22:52:41.050Z"
   },
   {
    "duration": 32,
    "start_time": "2023-01-14T22:52:55.098Z"
   },
   {
    "duration": 60,
    "start_time": "2023-01-14T22:53:40.835Z"
   },
   {
    "duration": 52,
    "start_time": "2023-01-14T22:53:57.163Z"
   },
   {
    "duration": 56,
    "start_time": "2023-01-14T22:54:30.395Z"
   },
   {
    "duration": 39,
    "start_time": "2023-01-14T23:09:29.983Z"
   },
   {
    "duration": 34,
    "start_time": "2023-01-14T23:09:41.566Z"
   },
   {
    "duration": 35,
    "start_time": "2023-01-14T23:10:02.702Z"
   },
   {
    "duration": 44,
    "start_time": "2023-01-14T23:10:13.479Z"
   },
   {
    "duration": 584,
    "start_time": "2023-01-14T23:10:34.559Z"
   },
   {
    "duration": 49,
    "start_time": "2023-01-14T23:10:44.383Z"
   },
   {
    "duration": 37,
    "start_time": "2023-01-14T23:11:12.513Z"
   },
   {
    "duration": 47,
    "start_time": "2023-01-14T23:11:24.407Z"
   },
   {
    "duration": 35,
    "start_time": "2023-01-14T23:11:39.751Z"
   },
   {
    "duration": 46,
    "start_time": "2023-01-14T23:11:43.031Z"
   },
   {
    "duration": 1395,
    "start_time": "2023-01-14T23:12:19.741Z"
   },
   {
    "duration": 2799,
    "start_time": "2023-01-14T23:12:21.138Z"
   },
   {
    "duration": 150,
    "start_time": "2023-01-14T23:12:23.939Z"
   },
   {
    "duration": 100,
    "start_time": "2023-01-14T23:12:24.092Z"
   },
   {
    "duration": 4,
    "start_time": "2023-01-14T23:12:24.194Z"
   },
   {
    "duration": 1506,
    "start_time": "2023-01-14T23:12:24.200Z"
   },
   {
    "duration": 153,
    "start_time": "2023-01-14T23:12:25.708Z"
   },
   {
    "duration": 24,
    "start_time": "2023-01-14T23:12:25.863Z"
   },
   {
    "duration": 50,
    "start_time": "2023-01-14T23:12:25.889Z"
   },
   {
    "duration": 96,
    "start_time": "2023-01-14T23:12:25.941Z"
   },
   {
    "duration": 175,
    "start_time": "2023-01-14T23:12:26.038Z"
   },
   {
    "duration": 78,
    "start_time": "2023-01-14T23:12:26.215Z"
   },
   {
    "duration": 115,
    "start_time": "2023-01-14T23:12:26.294Z"
   },
   {
    "duration": 97,
    "start_time": "2023-01-14T23:12:26.410Z"
   },
   {
    "duration": 90,
    "start_time": "2023-01-14T23:12:26.508Z"
   },
   {
    "duration": 93,
    "start_time": "2023-01-14T23:12:26.600Z"
   },
   {
    "duration": 140,
    "start_time": "2023-01-14T23:12:26.694Z"
   },
   {
    "duration": 1112,
    "start_time": "2023-01-14T23:12:26.835Z"
   },
   {
    "duration": 31,
    "start_time": "2023-01-14T23:12:27.948Z"
   },
   {
    "duration": 64,
    "start_time": "2023-01-14T23:12:27.981Z"
   },
   {
    "duration": 272,
    "start_time": "2023-01-14T23:12:28.046Z"
   },
   {
    "duration": 61,
    "start_time": "2023-01-14T23:12:28.320Z"
   },
   {
    "duration": 254,
    "start_time": "2023-01-14T23:12:28.382Z"
   },
   {
    "duration": 50,
    "start_time": "2023-01-14T23:12:28.637Z"
   },
   {
    "duration": 171,
    "start_time": "2023-01-14T23:12:28.688Z"
   },
   {
    "duration": 7,
    "start_time": "2023-01-14T23:12:28.861Z"
   },
   {
    "duration": 21,
    "start_time": "2023-01-14T23:12:28.879Z"
   },
   {
    "duration": 75,
    "start_time": "2023-01-14T23:12:28.903Z"
   },
   {
    "duration": 49,
    "start_time": "2023-01-14T23:12:28.980Z"
   },
   {
    "duration": 70,
    "start_time": "2023-01-14T23:12:29.031Z"
   },
   {
    "duration": 47,
    "start_time": "2023-01-14T23:12:59.488Z"
   },
   {
    "duration": 1311,
    "start_time": "2023-01-14T23:13:05.525Z"
   },
   {
    "duration": 2755,
    "start_time": "2023-01-14T23:13:06.838Z"
   },
   {
    "duration": 114,
    "start_time": "2023-01-14T23:13:09.595Z"
   },
   {
    "duration": 91,
    "start_time": "2023-01-14T23:13:09.711Z"
   },
   {
    "duration": 3,
    "start_time": "2023-01-14T23:13:09.803Z"
   },
   {
    "duration": 1382,
    "start_time": "2023-01-14T23:13:09.807Z"
   },
   {
    "duration": 141,
    "start_time": "2023-01-14T23:13:11.191Z"
   },
   {
    "duration": 20,
    "start_time": "2023-01-14T23:13:11.334Z"
   },
   {
    "duration": 56,
    "start_time": "2023-01-14T23:13:11.356Z"
   },
   {
    "duration": 86,
    "start_time": "2023-01-14T23:13:11.414Z"
   },
   {
    "duration": 184,
    "start_time": "2023-01-14T23:13:11.502Z"
   },
   {
    "duration": 74,
    "start_time": "2023-01-14T23:13:11.688Z"
   },
   {
    "duration": 123,
    "start_time": "2023-01-14T23:13:11.764Z"
   },
   {
    "duration": 96,
    "start_time": "2023-01-14T23:13:11.889Z"
   },
   {
    "duration": 82,
    "start_time": "2023-01-14T23:13:11.987Z"
   },
   {
    "duration": 82,
    "start_time": "2023-01-14T23:13:12.079Z"
   },
   {
    "duration": 161,
    "start_time": "2023-01-14T23:13:12.163Z"
   },
   {
    "duration": 1158,
    "start_time": "2023-01-14T23:13:12.325Z"
   },
   {
    "duration": 25,
    "start_time": "2023-01-14T23:13:13.485Z"
   },
   {
    "duration": 78,
    "start_time": "2023-01-14T23:13:13.512Z"
   },
   {
    "duration": 295,
    "start_time": "2023-01-14T23:13:13.591Z"
   },
   {
    "duration": 56,
    "start_time": "2023-01-14T23:13:13.888Z"
   },
   {
    "duration": 267,
    "start_time": "2023-01-14T23:13:13.946Z"
   },
   {
    "duration": 35,
    "start_time": "2023-01-14T23:13:14.215Z"
   },
   {
    "duration": 188,
    "start_time": "2023-01-14T23:13:14.251Z"
   },
   {
    "duration": 8,
    "start_time": "2023-01-14T23:13:14.440Z"
   },
   {
    "duration": 22,
    "start_time": "2023-01-14T23:13:14.449Z"
   },
   {
    "duration": 41,
    "start_time": "2023-01-14T23:13:14.477Z"
   },
   {
    "duration": 70,
    "start_time": "2023-01-14T23:13:14.519Z"
   },
   {
    "duration": 46,
    "start_time": "2023-01-14T23:13:14.591Z"
   },
   {
    "duration": 37,
    "start_time": "2023-01-14T23:13:24.103Z"
   },
   {
    "duration": 47,
    "start_time": "2023-01-14T23:13:26.351Z"
   },
   {
    "duration": 104,
    "start_time": "2023-01-14T23:13:48.631Z"
   },
   {
    "duration": 38,
    "start_time": "2023-01-14T23:13:59.615Z"
   },
   {
    "duration": 662,
    "start_time": "2023-01-14T23:14:46.697Z"
   },
   {
    "duration": 35,
    "start_time": "2023-01-14T23:14:59.328Z"
   },
   {
    "duration": 28,
    "start_time": "2023-01-14T23:15:02.952Z"
   },
   {
    "duration": 28,
    "start_time": "2023-01-14T23:15:09.400Z"
   },
   {
    "duration": 689,
    "start_time": "2023-01-14T23:15:28.120Z"
   },
   {
    "duration": 44,
    "start_time": "2023-01-14T23:15:31.617Z"
   },
   {
    "duration": 31,
    "start_time": "2023-01-14T23:15:42.305Z"
   },
   {
    "duration": 39,
    "start_time": "2023-01-14T23:15:54.994Z"
   },
   {
    "duration": 32,
    "start_time": "2023-01-14T23:16:05.827Z"
   },
   {
    "duration": 1277,
    "start_time": "2023-01-14T23:16:21.067Z"
   },
   {
    "duration": 796,
    "start_time": "2023-01-14T23:16:22.346Z"
   },
   {
    "duration": 118,
    "start_time": "2023-01-14T23:16:23.144Z"
   },
   {
    "duration": 90,
    "start_time": "2023-01-14T23:16:23.265Z"
   },
   {
    "duration": 3,
    "start_time": "2023-01-14T23:16:23.357Z"
   },
   {
    "duration": 1482,
    "start_time": "2023-01-14T23:16:23.362Z"
   },
   {
    "duration": 147,
    "start_time": "2023-01-14T23:16:24.846Z"
   },
   {
    "duration": 21,
    "start_time": "2023-01-14T23:16:24.995Z"
   },
   {
    "duration": 46,
    "start_time": "2023-01-14T23:16:25.017Z"
   },
   {
    "duration": 92,
    "start_time": "2023-01-14T23:16:25.065Z"
   },
   {
    "duration": 173,
    "start_time": "2023-01-14T23:16:25.159Z"
   },
   {
    "duration": 82,
    "start_time": "2023-01-14T23:16:25.334Z"
   },
   {
    "duration": 117,
    "start_time": "2023-01-14T23:16:25.417Z"
   },
   {
    "duration": 96,
    "start_time": "2023-01-14T23:16:25.536Z"
   },
   {
    "duration": 114,
    "start_time": "2023-01-14T23:16:25.633Z"
   },
   {
    "duration": 98,
    "start_time": "2023-01-14T23:16:25.749Z"
   },
   {
    "duration": 136,
    "start_time": "2023-01-14T23:16:25.848Z"
   },
   {
    "duration": 1120,
    "start_time": "2023-01-14T23:16:25.986Z"
   },
   {
    "duration": 24,
    "start_time": "2023-01-14T23:16:27.108Z"
   },
   {
    "duration": 80,
    "start_time": "2023-01-14T23:16:27.134Z"
   },
   {
    "duration": 268,
    "start_time": "2023-01-14T23:16:27.215Z"
   },
   {
    "duration": 56,
    "start_time": "2023-01-14T23:16:27.485Z"
   },
   {
    "duration": 251,
    "start_time": "2023-01-14T23:16:27.543Z"
   },
   {
    "duration": 35,
    "start_time": "2023-01-14T23:16:27.795Z"
   },
   {
    "duration": 167,
    "start_time": "2023-01-14T23:16:27.832Z"
   },
   {
    "duration": 7,
    "start_time": "2023-01-14T23:16:28.000Z"
   },
   {
    "duration": 65,
    "start_time": "2023-01-14T23:16:28.008Z"
   },
   {
    "duration": 73,
    "start_time": "2023-01-14T23:16:28.075Z"
   },
   {
    "duration": 45,
    "start_time": "2023-01-14T23:16:28.150Z"
   },
   {
    "duration": 47,
    "start_time": "2023-01-14T23:16:28.196Z"
   },
   {
    "duration": 40,
    "start_time": "2023-01-14T23:16:32.361Z"
   },
   {
    "duration": 34,
    "start_time": "2023-01-14T23:16:42.498Z"
   },
   {
    "duration": 45,
    "start_time": "2023-01-14T23:16:46.359Z"
   },
   {
    "duration": 32,
    "start_time": "2023-01-14T23:17:01.040Z"
   },
   {
    "duration": 31,
    "start_time": "2023-01-14T23:17:04.409Z"
   },
   {
    "duration": 30,
    "start_time": "2023-01-14T23:17:21.873Z"
   },
   {
    "duration": 31,
    "start_time": "2023-01-14T23:17:29.504Z"
   },
   {
    "duration": 31,
    "start_time": "2023-01-14T23:17:33.328Z"
   },
   {
    "duration": 51,
    "start_time": "2023-01-14T23:17:42.257Z"
   },
   {
    "duration": 146,
    "start_time": "2023-01-14T23:19:12.329Z"
   },
   {
    "duration": 8,
    "start_time": "2023-01-14T23:19:34.011Z"
   },
   {
    "duration": 20,
    "start_time": "2023-01-14T23:19:40.657Z"
   },
   {
    "duration": 20,
    "start_time": "2023-01-14T23:20:03.498Z"
   },
   {
    "duration": 18,
    "start_time": "2023-01-14T23:20:24.642Z"
   },
   {
    "duration": 17,
    "start_time": "2023-01-14T23:21:23.587Z"
   },
   {
    "duration": 18,
    "start_time": "2023-01-14T23:22:48.555Z"
   },
   {
    "duration": 23,
    "start_time": "2023-01-14T23:24:41.800Z"
   },
   {
    "duration": 91,
    "start_time": "2023-01-14T23:25:22.812Z"
   },
   {
    "duration": 1260,
    "start_time": "2023-01-14T23:26:48.605Z"
   },
   {
    "duration": 783,
    "start_time": "2023-01-14T23:26:49.867Z"
   },
   {
    "duration": 126,
    "start_time": "2023-01-14T23:26:50.652Z"
   },
   {
    "duration": 83,
    "start_time": "2023-01-14T23:26:50.780Z"
   },
   {
    "duration": 13,
    "start_time": "2023-01-14T23:26:50.865Z"
   },
   {
    "duration": 1446,
    "start_time": "2023-01-14T23:26:50.880Z"
   },
   {
    "duration": 146,
    "start_time": "2023-01-14T23:26:52.328Z"
   },
   {
    "duration": 22,
    "start_time": "2023-01-14T23:26:52.477Z"
   },
   {
    "duration": 59,
    "start_time": "2023-01-14T23:26:52.501Z"
   },
   {
    "duration": 118,
    "start_time": "2023-01-14T23:26:52.562Z"
   },
   {
    "duration": 208,
    "start_time": "2023-01-14T23:26:52.681Z"
   },
   {
    "duration": 89,
    "start_time": "2023-01-14T23:26:52.890Z"
   },
   {
    "duration": 120,
    "start_time": "2023-01-14T23:26:52.981Z"
   },
   {
    "duration": 94,
    "start_time": "2023-01-14T23:26:53.102Z"
   },
   {
    "duration": 96,
    "start_time": "2023-01-14T23:26:53.198Z"
   },
   {
    "duration": 90,
    "start_time": "2023-01-14T23:26:53.295Z"
   },
   {
    "duration": 136,
    "start_time": "2023-01-14T23:26:53.386Z"
   },
   {
    "duration": 1220,
    "start_time": "2023-01-14T23:26:53.523Z"
   },
   {
    "duration": 33,
    "start_time": "2023-01-14T23:26:54.745Z"
   },
   {
    "duration": 70,
    "start_time": "2023-01-14T23:26:54.780Z"
   },
   {
    "duration": 354,
    "start_time": "2023-01-14T23:26:54.852Z"
   },
   {
    "duration": 77,
    "start_time": "2023-01-14T23:26:55.208Z"
   },
   {
    "duration": 298,
    "start_time": "2023-01-14T23:26:55.287Z"
   },
   {
    "duration": 37,
    "start_time": "2023-01-14T23:26:55.586Z"
   },
   {
    "duration": 224,
    "start_time": "2023-01-14T23:26:55.625Z"
   },
   {
    "duration": 8,
    "start_time": "2023-01-14T23:26:55.851Z"
   },
   {
    "duration": 36,
    "start_time": "2023-01-14T23:26:55.861Z"
   },
   {
    "duration": 77,
    "start_time": "2023-01-14T23:26:55.901Z"
   },
   {
    "duration": 53,
    "start_time": "2023-01-14T23:26:55.980Z"
   },
   {
    "duration": 69,
    "start_time": "2023-01-14T23:26:56.035Z"
   },
   {
    "duration": 33,
    "start_time": "2023-01-14T23:26:56.106Z"
   },
   {
    "duration": 50,
    "start_time": "2023-01-14T23:26:56.141Z"
   },
   {
    "duration": 57,
    "start_time": "2023-01-14T23:26:56.193Z"
   },
   {
    "duration": 144,
    "start_time": "2023-01-14T23:27:48.523Z"
   },
   {
    "duration": 28,
    "start_time": "2023-01-14T23:28:44.052Z"
   },
   {
    "duration": 1339,
    "start_time": "2023-01-14T23:28:55.484Z"
   },
   {
    "duration": 27,
    "start_time": "2023-01-14T23:29:09.020Z"
   },
   {
    "duration": 8,
    "start_time": "2023-01-14T23:29:10.940Z"
   },
   {
    "duration": 1330,
    "start_time": "2023-01-14T23:29:36.967Z"
   },
   {
    "duration": 766,
    "start_time": "2023-01-14T23:29:38.300Z"
   },
   {
    "duration": 125,
    "start_time": "2023-01-14T23:29:39.068Z"
   },
   {
    "duration": 89,
    "start_time": "2023-01-14T23:29:39.194Z"
   },
   {
    "duration": 3,
    "start_time": "2023-01-14T23:29:39.284Z"
   },
   {
    "duration": 1433,
    "start_time": "2023-01-14T23:29:39.289Z"
   },
   {
    "duration": 145,
    "start_time": "2023-01-14T23:29:40.723Z"
   },
   {
    "duration": 24,
    "start_time": "2023-01-14T23:29:40.870Z"
   },
   {
    "duration": 50,
    "start_time": "2023-01-14T23:29:40.895Z"
   },
   {
    "duration": 95,
    "start_time": "2023-01-14T23:29:40.947Z"
   },
   {
    "duration": 182,
    "start_time": "2023-01-14T23:29:41.043Z"
   },
   {
    "duration": 80,
    "start_time": "2023-01-14T23:29:41.226Z"
   },
   {
    "duration": 120,
    "start_time": "2023-01-14T23:29:41.307Z"
   },
   {
    "duration": 90,
    "start_time": "2023-01-14T23:29:41.429Z"
   },
   {
    "duration": 94,
    "start_time": "2023-01-14T23:29:41.521Z"
   },
   {
    "duration": 90,
    "start_time": "2023-01-14T23:29:41.617Z"
   },
   {
    "duration": 134,
    "start_time": "2023-01-14T23:29:41.709Z"
   },
   {
    "duration": 1132,
    "start_time": "2023-01-14T23:29:41.845Z"
   },
   {
    "duration": 26,
    "start_time": "2023-01-14T23:29:42.980Z"
   },
   {
    "duration": 81,
    "start_time": "2023-01-14T23:29:43.008Z"
   },
   {
    "duration": 271,
    "start_time": "2023-01-14T23:29:43.091Z"
   },
   {
    "duration": 68,
    "start_time": "2023-01-14T23:29:43.363Z"
   },
   {
    "duration": 228,
    "start_time": "2023-01-14T23:29:43.432Z"
   },
   {
    "duration": 42,
    "start_time": "2023-01-14T23:29:43.662Z"
   },
   {
    "duration": 157,
    "start_time": "2023-01-14T23:29:43.705Z"
   },
   {
    "duration": 14,
    "start_time": "2023-01-14T23:29:43.864Z"
   },
   {
    "duration": 31,
    "start_time": "2023-01-14T23:29:43.879Z"
   },
   {
    "duration": 68,
    "start_time": "2023-01-14T23:29:43.913Z"
   },
   {
    "duration": 33,
    "start_time": "2023-01-14T23:29:45.507Z"
   },
   {
    "duration": 103,
    "start_time": "2023-01-14T23:29:49.476Z"
   },
   {
    "duration": 23,
    "start_time": "2023-01-14T23:30:00.388Z"
   },
   {
    "duration": 26,
    "start_time": "2023-01-14T23:30:28.572Z"
   },
   {
    "duration": 6,
    "start_time": "2023-01-14T23:33:42.645Z"
   },
   {
    "duration": 8,
    "start_time": "2023-01-14T23:33:52.790Z"
   },
   {
    "duration": 7,
    "start_time": "2023-01-14T23:34:01.189Z"
   },
   {
    "duration": 36,
    "start_time": "2023-01-14T23:35:42.093Z"
   },
   {
    "duration": 47,
    "start_time": "2023-01-14T23:35:49.711Z"
   },
   {
    "duration": 44,
    "start_time": "2023-01-14T23:35:57.366Z"
   },
   {
    "duration": 45,
    "start_time": "2023-01-14T23:36:03.358Z"
   },
   {
    "duration": 50,
    "start_time": "2023-01-14T23:36:08.525Z"
   },
   {
    "duration": 3,
    "start_time": "2023-01-14T23:40:12.023Z"
   },
   {
    "duration": 42,
    "start_time": "2023-01-14T23:40:40.247Z"
   },
   {
    "duration": 2,
    "start_time": "2023-01-14T23:41:55.256Z"
   },
   {
    "duration": 1161,
    "start_time": "2023-01-14T23:42:00.523Z"
   },
   {
    "duration": 3,
    "start_time": "2023-01-14T23:42:09.864Z"
   },
   {
    "duration": 43,
    "start_time": "2023-01-14T23:42:11.656Z"
   },
   {
    "duration": 3,
    "start_time": "2023-01-14T23:43:35.808Z"
   },
   {
    "duration": 1162,
    "start_time": "2023-01-14T23:43:37.679Z"
   },
   {
    "duration": 3,
    "start_time": "2023-01-14T23:43:48.959Z"
   },
   {
    "duration": 609,
    "start_time": "2023-01-14T23:43:52.240Z"
   },
   {
    "duration": 3,
    "start_time": "2023-01-14T23:44:58.472Z"
   },
   {
    "duration": 13,
    "start_time": "2023-01-14T23:45:06.457Z"
   },
   {
    "duration": 3,
    "start_time": "2023-01-14T23:45:15.712Z"
   },
   {
    "duration": 4,
    "start_time": "2023-01-14T23:45:17.432Z"
   },
   {
    "duration": 3,
    "start_time": "2023-01-14T23:45:28.167Z"
   },
   {
    "duration": 39,
    "start_time": "2023-01-14T23:45:30.016Z"
   },
   {
    "duration": 3,
    "start_time": "2023-01-14T23:46:08.112Z"
   },
   {
    "duration": 1143,
    "start_time": "2023-01-14T23:46:09.760Z"
   },
   {
    "duration": 5,
    "start_time": "2023-01-14T23:46:24.024Z"
   },
   {
    "duration": 53,
    "start_time": "2023-01-14T23:46:25.560Z"
   },
   {
    "duration": 3,
    "start_time": "2023-01-14T23:47:03.209Z"
   },
   {
    "duration": 65,
    "start_time": "2023-01-14T23:47:04.856Z"
   },
   {
    "duration": 3,
    "start_time": "2023-01-14T23:47:20.585Z"
   },
   {
    "duration": 67,
    "start_time": "2023-01-14T23:47:22.257Z"
   },
   {
    "duration": 4,
    "start_time": "2023-01-14T23:49:11.401Z"
   },
   {
    "duration": 3819,
    "start_time": "2023-01-14T23:49:13.609Z"
   },
   {
    "duration": 3,
    "start_time": "2023-01-14T23:49:19.657Z"
   },
   {
    "duration": 3717,
    "start_time": "2023-01-14T23:49:21.049Z"
   },
   {
    "duration": 4,
    "start_time": "2023-01-14T23:49:31.753Z"
   },
   {
    "duration": 7543,
    "start_time": "2023-01-14T23:49:33.401Z"
   },
   {
    "duration": 3,
    "start_time": "2023-01-14T23:50:19.928Z"
   },
   {
    "duration": 4329,
    "start_time": "2023-01-14T23:50:21.613Z"
   },
   {
    "duration": 3,
    "start_time": "2023-01-14T23:51:17.627Z"
   },
   {
    "duration": 3672,
    "start_time": "2023-01-14T23:51:20.051Z"
   },
   {
    "duration": 33,
    "start_time": "2023-01-14T23:51:51.835Z"
   },
   {
    "duration": 61,
    "start_time": "2023-01-14T23:51:54.073Z"
   },
   {
    "duration": 63,
    "start_time": "2023-01-14T23:52:04.314Z"
   },
   {
    "duration": 64,
    "start_time": "2023-01-14T23:52:08.690Z"
   },
   {
    "duration": 3,
    "start_time": "2023-01-14T23:53:21.482Z"
   },
   {
    "duration": 625,
    "start_time": "2023-01-14T23:53:22.966Z"
   },
   {
    "duration": 4,
    "start_time": "2023-01-14T23:53:46.370Z"
   },
   {
    "duration": 4053,
    "start_time": "2023-01-14T23:53:48.564Z"
   },
   {
    "duration": 3,
    "start_time": "2023-01-14T23:54:20.043Z"
   },
   {
    "duration": 3702,
    "start_time": "2023-01-14T23:54:21.811Z"
   },
   {
    "duration": 61,
    "start_time": "2023-01-14T23:54:39.190Z"
   },
   {
    "duration": 3,
    "start_time": "2023-01-14T23:55:36.779Z"
   },
   {
    "duration": 3646,
    "start_time": "2023-01-14T23:55:38.499Z"
   },
   {
    "duration": 56,
    "start_time": "2023-01-14T23:55:43.147Z"
   },
   {
    "duration": 4,
    "start_time": "2023-01-14T23:56:26.763Z"
   },
   {
    "duration": 102,
    "start_time": "2023-01-14T23:56:28.547Z"
   },
   {
    "duration": 3,
    "start_time": "2023-01-14T23:56:48.260Z"
   },
   {
    "duration": 4117,
    "start_time": "2023-01-14T23:56:50.099Z"
   },
   {
    "duration": 60,
    "start_time": "2023-01-14T23:56:57.667Z"
   },
   {
    "duration": 4290,
    "start_time": "2023-01-15T00:00:55.380Z"
   },
   {
    "duration": 7,
    "start_time": "2023-01-15T00:00:59.671Z"
   },
   {
    "duration": 4151,
    "start_time": "2023-01-15T00:01:01.652Z"
   },
   {
    "duration": 31,
    "start_time": "2023-01-15T00:01:07.421Z"
   },
   {
    "duration": 268,
    "start_time": "2023-01-15T00:03:00.541Z"
   },
   {
    "duration": 5,
    "start_time": "2023-01-15T00:12:33.050Z"
   },
   {
    "duration": 23,
    "start_time": "2023-01-15T00:12:40.247Z"
   },
   {
    "duration": 452,
    "start_time": "2023-01-15T00:13:00.497Z"
   },
   {
    "duration": 936,
    "start_time": "2023-01-15T00:13:09.050Z"
   },
   {
    "duration": 76,
    "start_time": "2023-01-15T00:13:17.401Z"
   },
   {
    "duration": 231,
    "start_time": "2023-01-15T00:13:21.649Z"
   },
   {
    "duration": 122,
    "start_time": "2023-01-15T00:13:57.040Z"
   },
   {
    "duration": 7,
    "start_time": "2023-01-15T00:14:04.824Z"
   },
   {
    "duration": 10,
    "start_time": "2023-01-15T00:14:14.263Z"
   },
   {
    "duration": 127,
    "start_time": "2023-01-15T00:14:19.535Z"
   },
   {
    "duration": 24,
    "start_time": "2023-01-15T00:14:27.839Z"
   },
   {
    "duration": 24,
    "start_time": "2023-01-15T00:14:52.584Z"
   },
   {
    "duration": 22,
    "start_time": "2023-01-15T00:14:59.640Z"
   },
   {
    "duration": 22,
    "start_time": "2023-01-15T00:15:03.552Z"
   },
   {
    "duration": 21,
    "start_time": "2023-01-15T00:15:09.209Z"
   },
   {
    "duration": 22,
    "start_time": "2023-01-15T00:15:14.096Z"
   },
   {
    "duration": 700,
    "start_time": "2023-01-15T00:15:42.280Z"
   },
   {
    "duration": 219,
    "start_time": "2023-01-15T00:15:53.865Z"
   },
   {
    "duration": 176,
    "start_time": "2023-01-15T00:15:59.426Z"
   },
   {
    "duration": 19,
    "start_time": "2023-01-15T00:16:16.618Z"
   },
   {
    "duration": 28,
    "start_time": "2023-01-15T00:16:22.489Z"
   },
   {
    "duration": 8,
    "start_time": "2023-01-15T00:17:50.329Z"
   },
   {
    "duration": 7,
    "start_time": "2023-01-15T00:18:06.825Z"
   },
   {
    "duration": 19,
    "start_time": "2023-01-15T00:18:12.577Z"
   },
   {
    "duration": 19,
    "start_time": "2023-01-15T00:18:41.626Z"
   },
   {
    "duration": 23,
    "start_time": "2023-01-15T00:19:01.082Z"
   },
   {
    "duration": 22,
    "start_time": "2023-01-15T00:19:10.522Z"
   },
   {
    "duration": 538,
    "start_time": "2023-01-15T00:19:25.067Z"
   },
   {
    "duration": 151,
    "start_time": "2023-01-15T00:19:32.073Z"
   },
   {
    "duration": 173,
    "start_time": "2023-01-15T00:19:48.905Z"
   },
   {
    "duration": 137,
    "start_time": "2023-01-15T00:19:54.127Z"
   },
   {
    "duration": 23,
    "start_time": "2023-01-15T00:20:20.929Z"
   },
   {
    "duration": 19,
    "start_time": "2023-01-15T00:24:45.267Z"
   },
   {
    "duration": 18,
    "start_time": "2023-01-15T00:25:16.427Z"
   },
   {
    "duration": 19,
    "start_time": "2023-01-15T00:25:23.372Z"
   },
   {
    "duration": 19,
    "start_time": "2023-01-15T00:25:29.156Z"
   },
   {
    "duration": 124,
    "start_time": "2023-01-15T00:26:39.724Z"
   },
   {
    "duration": 21,
    "start_time": "2023-01-15T00:26:51.235Z"
   },
   {
    "duration": 18,
    "start_time": "2023-01-15T00:27:20.469Z"
   },
   {
    "duration": 17,
    "start_time": "2023-01-15T00:27:36.223Z"
   },
   {
    "duration": 19,
    "start_time": "2023-01-15T00:27:52.652Z"
   },
   {
    "duration": 14,
    "start_time": "2023-01-15T00:28:41.692Z"
   },
   {
    "duration": 7,
    "start_time": "2023-01-15T00:29:00.108Z"
   },
   {
    "duration": 7,
    "start_time": "2023-01-15T00:30:00.004Z"
   },
   {
    "duration": 59,
    "start_time": "2023-01-15T00:30:27.677Z"
   },
   {
    "duration": 3997,
    "start_time": "2023-01-15T00:30:42.476Z"
   },
   {
    "duration": 63,
    "start_time": "2023-01-15T00:30:55.092Z"
   },
   {
    "duration": 118,
    "start_time": "2023-01-15T00:31:12.452Z"
   },
   {
    "duration": 58,
    "start_time": "2023-01-15T00:31:40.189Z"
   },
   {
    "duration": 15,
    "start_time": "2023-01-15T00:31:52.444Z"
   },
   {
    "duration": 60,
    "start_time": "2023-01-15T00:32:27.045Z"
   },
   {
    "duration": 117,
    "start_time": "2023-01-15T00:32:54.999Z"
   },
   {
    "duration": 65,
    "start_time": "2023-01-15T00:33:01.157Z"
   },
   {
    "duration": 115,
    "start_time": "2023-01-15T00:33:42.821Z"
   },
   {
    "duration": 5,
    "start_time": "2023-01-15T00:34:36.293Z"
   },
   {
    "duration": 15,
    "start_time": "2023-01-15T00:34:41.309Z"
   },
   {
    "duration": 20,
    "start_time": "2023-01-15T00:37:50.279Z"
   },
   {
    "duration": 4344,
    "start_time": "2023-01-15T00:37:53.440Z"
   },
   {
    "duration": 63,
    "start_time": "2023-01-15T00:37:57.786Z"
   },
   {
    "duration": 108,
    "start_time": "2023-01-15T00:38:06.949Z"
   },
   {
    "duration": 121,
    "start_time": "2023-01-15T00:38:10.823Z"
   },
   {
    "duration": 12,
    "start_time": "2023-01-15T00:38:13.655Z"
   },
   {
    "duration": 19,
    "start_time": "2023-01-15T00:38:30.367Z"
   },
   {
    "duration": 4,
    "start_time": "2023-01-15T00:39:08.535Z"
   },
   {
    "duration": 6,
    "start_time": "2023-01-15T00:39:19.062Z"
   },
   {
    "duration": 22,
    "start_time": "2023-01-15T00:39:21.791Z"
   },
   {
    "duration": 19,
    "start_time": "2023-01-15T00:39:54.447Z"
   },
   {
    "duration": 18,
    "start_time": "2023-01-15T00:39:57.105Z"
   },
   {
    "duration": 17,
    "start_time": "2023-01-15T00:42:21.896Z"
   },
   {
    "duration": 6,
    "start_time": "2023-01-15T00:43:18.487Z"
   },
   {
    "duration": 3910,
    "start_time": "2023-01-15T00:43:20.385Z"
   },
   {
    "duration": 57,
    "start_time": "2023-01-15T00:43:26.472Z"
   },
   {
    "duration": 127,
    "start_time": "2023-01-15T00:43:31.432Z"
   },
   {
    "duration": 7,
    "start_time": "2023-01-15T00:43:33.768Z"
   },
   {
    "duration": 19,
    "start_time": "2023-01-15T00:43:36.215Z"
   },
   {
    "duration": 138,
    "start_time": "2023-01-15T00:45:26.520Z"
   },
   {
    "duration": 11,
    "start_time": "2023-01-15T00:47:06.932Z"
   },
   {
    "duration": 133,
    "start_time": "2023-01-15T00:47:19.889Z"
   },
   {
    "duration": 1424,
    "start_time": "2023-01-15T00:47:30.369Z"
   },
   {
    "duration": 867,
    "start_time": "2023-01-15T00:47:31.794Z"
   },
   {
    "duration": 135,
    "start_time": "2023-01-15T00:47:32.663Z"
   },
   {
    "duration": 96,
    "start_time": "2023-01-15T00:47:32.800Z"
   },
   {
    "duration": 422,
    "start_time": "2023-01-15T00:47:35.801Z"
   },
   {
    "duration": 1448,
    "start_time": "2023-01-16T22:07:18.133Z"
   },
   {
    "duration": 109,
    "start_time": "2023-01-16T22:08:58.232Z"
   },
   {
    "duration": 4,
    "start_time": "2023-01-16T22:10:16.451Z"
   },
   {
    "duration": 2912,
    "start_time": "2023-01-16T22:10:16.469Z"
   },
   {
    "duration": 141,
    "start_time": "2023-01-16T22:10:19.384Z"
   },
   {
    "duration": 90,
    "start_time": "2023-01-16T22:10:19.527Z"
   },
   {
    "duration": 411,
    "start_time": "2023-01-16T22:10:19.619Z"
   },
   {
    "duration": 2,
    "start_time": "2023-01-16T22:10:20.032Z"
   },
   {
    "duration": 1641,
    "start_time": "2023-01-16T22:10:20.035Z"
   },
   {
    "duration": 143,
    "start_time": "2023-01-16T22:10:21.678Z"
   },
   {
    "duration": 30,
    "start_time": "2023-01-16T22:10:21.823Z"
   },
   {
    "duration": 101,
    "start_time": "2023-01-16T22:10:21.855Z"
   },
   {
    "duration": 206,
    "start_time": "2023-01-16T22:10:21.958Z"
   },
   {
    "duration": 415,
    "start_time": "2023-01-16T22:10:22.166Z"
   },
   {
    "duration": 189,
    "start_time": "2023-01-16T22:10:22.583Z"
   },
   {
    "duration": 206,
    "start_time": "2023-01-16T22:10:22.774Z"
   },
   {
    "duration": 278,
    "start_time": "2023-01-16T22:10:22.984Z"
   },
   {
    "duration": 205,
    "start_time": "2023-01-16T22:10:23.264Z"
   },
   {
    "duration": 155,
    "start_time": "2023-01-16T22:10:23.471Z"
   },
   {
    "duration": 152,
    "start_time": "2023-01-16T22:10:23.627Z"
   },
   {
    "duration": 1123,
    "start_time": "2023-01-16T22:10:23.781Z"
   },
   {
    "duration": 24,
    "start_time": "2023-01-16T22:10:24.906Z"
   },
   {
    "duration": 94,
    "start_time": "2023-01-16T22:10:24.932Z"
   },
   {
    "duration": 299,
    "start_time": "2023-01-16T22:10:25.027Z"
   },
   {
    "duration": 55,
    "start_time": "2023-01-16T22:10:25.328Z"
   },
   {
    "duration": 240,
    "start_time": "2023-01-16T22:10:25.385Z"
   },
   {
    "duration": 42,
    "start_time": "2023-01-16T22:10:25.627Z"
   },
   {
    "duration": 163,
    "start_time": "2023-01-16T22:10:25.671Z"
   },
   {
    "duration": 13,
    "start_time": "2023-01-16T22:10:25.836Z"
   },
   {
    "duration": 19,
    "start_time": "2023-01-16T22:10:25.850Z"
   },
   {
    "duration": 38,
    "start_time": "2023-01-16T22:10:25.871Z"
   },
   {
    "duration": 53,
    "start_time": "2023-01-16T22:10:25.911Z"
   },
   {
    "duration": 21,
    "start_time": "2023-01-16T22:10:25.966Z"
   },
   {
    "duration": 24,
    "start_time": "2023-01-16T22:10:25.989Z"
   },
   {
    "duration": 8,
    "start_time": "2023-01-16T22:10:26.014Z"
   },
   {
    "duration": 26,
    "start_time": "2023-01-16T22:10:26.024Z"
   },
   {
    "duration": 4473,
    "start_time": "2023-01-16T22:10:26.051Z"
   },
   {
    "duration": 40,
    "start_time": "2023-01-16T22:10:30.526Z"
   },
   {
    "duration": 85,
    "start_time": "2023-01-16T22:10:30.568Z"
   },
   {
    "duration": 306,
    "start_time": "2023-01-16T22:10:30.655Z"
   },
   {
    "duration": 158,
    "start_time": "2023-01-16T22:10:30.963Z"
   },
   {
    "duration": 30,
    "start_time": "2023-01-16T22:10:31.123Z"
   },
   {
    "duration": 20,
    "start_time": "2023-01-16T22:10:31.155Z"
   },
   {
    "duration": 143,
    "start_time": "2023-01-16T22:10:31.178Z"
   },
   {
    "duration": 8,
    "start_time": "2023-01-16T22:10:31.323Z"
   },
   {
    "duration": 4329,
    "start_time": "2023-01-16T22:10:31.333Z"
   },
   {
    "duration": 77,
    "start_time": "2023-01-16T22:10:35.664Z"
   },
   {
    "duration": 209,
    "start_time": "2023-01-16T22:10:35.749Z"
   },
   {
    "duration": 133,
    "start_time": "2023-01-16T22:10:35.960Z"
   },
   {
    "duration": 19,
    "start_time": "2023-01-16T22:10:36.095Z"
   },
   {
    "duration": 16,
    "start_time": "2023-01-16T22:11:47.392Z"
   },
   {
    "duration": 10,
    "start_time": "2023-01-16T22:11:55.632Z"
   },
   {
    "duration": 18,
    "start_time": "2023-01-16T22:11:58.849Z"
   },
   {
    "duration": 5,
    "start_time": "2023-01-16T22:12:07.154Z"
   },
   {
    "duration": 815,
    "start_time": "2023-01-16T22:14:30.073Z"
   },
   {
    "duration": 38,
    "start_time": "2023-01-16T22:14:44.519Z"
   },
   {
    "duration": 706,
    "start_time": "2023-01-16T22:14:59.632Z"
   },
   {
    "duration": 4,
    "start_time": "2023-01-16T22:15:01.680Z"
   },
   {
    "duration": 7,
    "start_time": "2023-01-16T22:15:22.601Z"
   },
   {
    "duration": 441,
    "start_time": "2023-01-16T22:17:27.920Z"
   },
   {
    "duration": 4,
    "start_time": "2023-01-16T22:17:58.520Z"
   },
   {
    "duration": 2,
    "start_time": "2023-01-16T22:18:33.513Z"
   },
   {
    "duration": 4,
    "start_time": "2023-01-16T22:27:37.370Z"
   },
   {
    "duration": 5,
    "start_time": "2023-01-16T22:27:57.907Z"
   },
   {
    "duration": 4,
    "start_time": "2023-01-16T22:28:10.796Z"
   },
   {
    "duration": 3,
    "start_time": "2023-01-16T22:28:14.805Z"
   },
   {
    "duration": 3,
    "start_time": "2023-01-16T22:28:16.652Z"
   },
   {
    "duration": 5,
    "start_time": "2023-01-16T22:28:30.323Z"
   },
   {
    "duration": 5,
    "start_time": "2023-01-16T22:31:06.492Z"
   },
   {
    "duration": 2,
    "start_time": "2023-01-16T22:32:05.053Z"
   },
   {
    "duration": 20,
    "start_time": "2023-01-16T22:35:21.005Z"
   },
   {
    "duration": 12,
    "start_time": "2023-01-16T22:36:53.108Z"
   },
   {
    "duration": 4,
    "start_time": "2023-01-16T22:37:24.629Z"
   },
   {
    "duration": 3,
    "start_time": "2023-01-16T22:37:34.676Z"
   },
   {
    "duration": 11,
    "start_time": "2023-01-16T22:37:36.549Z"
   },
   {
    "duration": 3,
    "start_time": "2023-01-16T22:37:59.324Z"
   },
   {
    "duration": 3,
    "start_time": "2023-01-16T22:38:02.837Z"
   },
   {
    "duration": 1376,
    "start_time": "2023-01-16T22:39:33.805Z"
   },
   {
    "duration": 3,
    "start_time": "2023-01-16T22:40:31.520Z"
   },
   {
    "duration": 1334,
    "start_time": "2023-01-16T22:40:33.126Z"
   },
   {
    "duration": 3,
    "start_time": "2023-01-16T22:41:18.286Z"
   },
   {
    "duration": 3,
    "start_time": "2023-01-16T22:41:22.101Z"
   },
   {
    "duration": 594,
    "start_time": "2023-01-16T22:41:23.798Z"
   },
   {
    "duration": 11,
    "start_time": "2023-01-16T22:41:34.862Z"
   },
   {
    "duration": 3,
    "start_time": "2023-01-16T22:42:07.950Z"
   },
   {
    "duration": 12,
    "start_time": "2023-01-16T22:42:09.565Z"
   },
   {
    "duration": 3,
    "start_time": "2023-01-16T22:42:22.669Z"
   },
   {
    "duration": 12,
    "start_time": "2023-01-16T22:42:24.717Z"
   },
   {
    "duration": 3,
    "start_time": "2023-01-16T22:42:34.461Z"
   },
   {
    "duration": 12,
    "start_time": "2023-01-16T22:42:36.733Z"
   },
   {
    "duration": 589,
    "start_time": "2023-01-16T22:42:52.029Z"
   },
   {
    "duration": 9,
    "start_time": "2023-01-16T22:44:03.470Z"
   },
   {
    "duration": 9,
    "start_time": "2023-01-16T22:44:09.693Z"
   },
   {
    "duration": 8,
    "start_time": "2023-01-16T22:44:11.629Z"
   },
   {
    "duration": 3,
    "start_time": "2023-01-16T22:44:52.215Z"
   },
   {
    "duration": 4,
    "start_time": "2023-01-16T22:45:11.070Z"
   },
   {
    "duration": 3,
    "start_time": "2023-01-16T22:45:59.933Z"
   },
   {
    "duration": 3,
    "start_time": "2023-01-16T22:46:03.485Z"
   },
   {
    "duration": 568,
    "start_time": "2023-01-16T22:46:06.671Z"
   },
   {
    "duration": 443,
    "start_time": "2023-01-16T22:48:16.832Z"
   },
   {
    "duration": 3,
    "start_time": "2023-01-16T22:50:03.518Z"
   },
   {
    "duration": 414,
    "start_time": "2023-01-16T22:50:05.263Z"
   },
   {
    "duration": 5,
    "start_time": "2023-01-16T22:51:06.175Z"
   },
   {
    "duration": 5,
    "start_time": "2023-01-16T22:51:25.255Z"
   },
   {
    "duration": 5,
    "start_time": "2023-01-16T22:51:44.600Z"
   },
   {
    "duration": 7,
    "start_time": "2023-01-16T22:51:46.247Z"
   },
   {
    "duration": 8,
    "start_time": "2023-01-16T22:51:55.783Z"
   },
   {
    "duration": 7,
    "start_time": "2023-01-16T22:51:57.431Z"
   },
   {
    "duration": 1289,
    "start_time": "2023-01-16T22:52:22.278Z"
   },
   {
    "duration": 789,
    "start_time": "2023-01-16T22:52:23.569Z"
   },
   {
    "duration": 149,
    "start_time": "2023-01-16T22:52:24.360Z"
   },
   {
    "duration": 118,
    "start_time": "2023-01-16T22:52:24.512Z"
   },
   {
    "duration": 455,
    "start_time": "2023-01-16T22:52:24.633Z"
   },
   {
    "duration": 3,
    "start_time": "2023-01-16T22:52:25.089Z"
   },
   {
    "duration": 1750,
    "start_time": "2023-01-16T22:52:25.094Z"
   },
   {
    "duration": 151,
    "start_time": "2023-01-16T22:52:26.845Z"
   },
   {
    "duration": 23,
    "start_time": "2023-01-16T22:52:26.998Z"
   },
   {
    "duration": 55,
    "start_time": "2023-01-16T22:52:27.023Z"
   },
   {
    "duration": 108,
    "start_time": "2023-01-16T22:52:27.080Z"
   },
   {
    "duration": 227,
    "start_time": "2023-01-16T22:52:27.190Z"
   },
   {
    "duration": 92,
    "start_time": "2023-01-16T22:52:27.419Z"
   },
   {
    "duration": 125,
    "start_time": "2023-01-16T22:52:27.513Z"
   },
   {
    "duration": 115,
    "start_time": "2023-01-16T22:52:27.639Z"
   },
   {
    "duration": 112,
    "start_time": "2023-01-16T22:52:27.756Z"
   },
   {
    "duration": 114,
    "start_time": "2023-01-16T22:52:27.870Z"
   },
   {
    "duration": 131,
    "start_time": "2023-01-16T22:52:27.986Z"
   },
   {
    "duration": 1162,
    "start_time": "2023-01-16T22:52:28.119Z"
   },
   {
    "duration": 26,
    "start_time": "2023-01-16T22:52:29.283Z"
   },
   {
    "duration": 97,
    "start_time": "2023-01-16T22:52:29.311Z"
   },
   {
    "duration": 350,
    "start_time": "2023-01-16T22:52:29.410Z"
   },
   {
    "duration": 62,
    "start_time": "2023-01-16T22:52:29.762Z"
   },
   {
    "duration": 260,
    "start_time": "2023-01-16T22:52:29.825Z"
   },
   {
    "duration": 35,
    "start_time": "2023-01-16T22:52:30.087Z"
   },
   {
    "duration": 193,
    "start_time": "2023-01-16T22:52:30.123Z"
   },
   {
    "duration": 8,
    "start_time": "2023-01-16T22:52:30.318Z"
   },
   {
    "duration": 46,
    "start_time": "2023-01-16T22:52:30.329Z"
   },
   {
    "duration": 81,
    "start_time": "2023-01-16T22:52:30.377Z"
   },
   {
    "duration": 35,
    "start_time": "2023-01-16T22:52:30.460Z"
   },
   {
    "duration": 22,
    "start_time": "2023-01-16T22:52:30.497Z"
   },
   {
    "duration": 42,
    "start_time": "2023-01-16T22:52:30.521Z"
   },
   {
    "duration": 13,
    "start_time": "2023-01-16T22:52:30.564Z"
   },
   {
    "duration": 21,
    "start_time": "2023-01-16T22:52:30.579Z"
   },
   {
    "duration": 4541,
    "start_time": "2023-01-16T22:52:30.602Z"
   },
   {
    "duration": 33,
    "start_time": "2023-01-16T22:52:35.145Z"
   },
   {
    "duration": 94,
    "start_time": "2023-01-16T22:52:35.180Z"
   },
   {
    "duration": 297,
    "start_time": "2023-01-16T22:52:35.276Z"
   },
   {
    "duration": 164,
    "start_time": "2023-01-16T22:52:35.574Z"
   },
   {
    "duration": 24,
    "start_time": "2023-01-16T22:52:35.739Z"
   },
   {
    "duration": 18,
    "start_time": "2023-01-16T22:52:35.764Z"
   },
   {
    "duration": 143,
    "start_time": "2023-01-16T22:52:35.783Z"
   },
   {
    "duration": 8,
    "start_time": "2023-01-16T22:52:35.928Z"
   },
   {
    "duration": 4510,
    "start_time": "2023-01-16T22:52:35.937Z"
   },
   {
    "duration": 75,
    "start_time": "2023-01-16T22:52:40.448Z"
   },
   {
    "duration": 126,
    "start_time": "2023-01-16T22:52:40.524Z"
   },
   {
    "duration": 139,
    "start_time": "2023-01-16T22:52:40.651Z"
   },
   {
    "duration": 21,
    "start_time": "2023-01-16T22:52:40.792Z"
   },
   {
    "duration": 36,
    "start_time": "2023-01-16T22:52:40.815Z"
   },
   {
    "duration": 5,
    "start_time": "2023-01-16T22:52:46.664Z"
   },
   {
    "duration": 6,
    "start_time": "2023-01-16T22:52:48.087Z"
   },
   {
    "duration": 831,
    "start_time": "2023-01-16T22:53:06.183Z"
   },
   {
    "duration": 7,
    "start_time": "2023-01-16T22:53:08.399Z"
   },
   {
    "duration": 414,
    "start_time": "2023-01-16T22:53:13.390Z"
   },
   {
    "duration": 4,
    "start_time": "2023-01-16T22:53:16.686Z"
   },
   {
    "duration": 4,
    "start_time": "2023-01-16T22:53:19.071Z"
   },
   {
    "duration": 5,
    "start_time": "2023-01-16T22:53:24.399Z"
   },
   {
    "duration": 12319,
    "start_time": "2023-01-16T22:53:29.648Z"
   },
   {
    "duration": 5,
    "start_time": "2023-01-16T22:53:50.270Z"
   },
   {
    "duration": 53,
    "start_time": "2023-01-16T22:54:35.392Z"
   },
   {
    "duration": 43,
    "start_time": "2023-01-16T22:54:45.343Z"
   },
   {
    "duration": 108,
    "start_time": "2023-01-16T22:55:02.935Z"
   },
   {
    "duration": 2,
    "start_time": "2023-01-16T22:55:09.496Z"
   },
   {
    "duration": 6,
    "start_time": "2023-01-16T22:55:12.184Z"
   },
   {
    "duration": 40,
    "start_time": "2023-01-16T22:56:59.136Z"
   },
   {
    "duration": 2,
    "start_time": "2023-01-16T22:57:10.888Z"
   },
   {
    "duration": 46339,
    "start_time": "2023-01-16T22:57:13.168Z"
   },
   {
    "duration": 4,
    "start_time": "2023-01-16T22:58:48.440Z"
   },
   {
    "duration": 3,
    "start_time": "2023-01-16T22:59:28.443Z"
   },
   {
    "duration": 5,
    "start_time": "2023-01-16T22:59:30.272Z"
   },
   {
    "duration": 3,
    "start_time": "2023-01-16T22:59:33.569Z"
   },
   {
    "duration": 8,
    "start_time": "2023-01-16T22:59:41.041Z"
   },
   {
    "duration": 8,
    "start_time": "2023-01-16T23:00:00.697Z"
   },
   {
    "duration": 8,
    "start_time": "2023-01-16T23:00:03.361Z"
   },
   {
    "duration": 4,
    "start_time": "2023-01-16T23:02:31.217Z"
   },
   {
    "duration": 9,
    "start_time": "2023-01-16T23:03:48.578Z"
   },
   {
    "duration": 8,
    "start_time": "2023-01-16T23:03:55.537Z"
   },
   {
    "duration": 8,
    "start_time": "2023-01-16T23:04:00.466Z"
   },
   {
    "duration": 3,
    "start_time": "2023-01-16T23:04:33.657Z"
   },
   {
    "duration": 74044,
    "start_time": "2023-01-16T23:04:42.674Z"
   },
   {
    "duration": 3,
    "start_time": "2023-01-16T23:07:58.331Z"
   },
   {
    "duration": 3,
    "start_time": "2023-01-16T23:08:54.619Z"
   },
   {
    "duration": 3,
    "start_time": "2023-01-16T23:09:03.515Z"
   },
   {
    "duration": 4,
    "start_time": "2023-01-16T23:09:15.275Z"
   },
   {
    "duration": 3,
    "start_time": "2023-01-16T23:09:39.811Z"
   },
   {
    "duration": 68,
    "start_time": "2023-01-16T23:09:44.748Z"
   },
   {
    "duration": 2,
    "start_time": "2023-01-16T23:10:15.036Z"
   },
   {
    "duration": 3,
    "start_time": "2023-01-16T23:10:29.676Z"
   },
   {
    "duration": 73882,
    "start_time": "2023-01-16T23:10:31.525Z"
   },
   {
    "duration": 3,
    "start_time": "2023-01-16T23:12:22.533Z"
   },
   {
    "duration": 44,
    "start_time": "2023-01-16T23:14:13.286Z"
   },
   {
    "duration": 10,
    "start_time": "2023-01-16T23:14:17.461Z"
   },
   {
    "duration": 3,
    "start_time": "2023-01-16T23:14:22.685Z"
   },
   {
    "duration": 76222,
    "start_time": "2023-01-16T23:14:30.518Z"
   },
   {
    "duration": 4,
    "start_time": "2023-01-16T23:16:34.407Z"
   },
   {
    "duration": 4,
    "start_time": "2023-01-16T23:16:46.326Z"
   },
   {
    "duration": 3,
    "start_time": "2023-01-16T23:16:56.535Z"
   },
   {
    "duration": 71761,
    "start_time": "2023-01-16T23:17:03.487Z"
   },
   {
    "duration": 4,
    "start_time": "2023-01-16T23:18:53.510Z"
   },
   {
    "duration": 3,
    "start_time": "2023-01-16T23:19:02.927Z"
   },
   {
    "duration": 18681530,
    "start_time": "2023-01-16T23:20:41.241Z"
   },
   {
    "duration": 8,
    "start_time": "2023-01-17T09:46:50.954Z"
   },
   {
    "duration": 1676,
    "start_time": "2023-01-17T09:46:55.608Z"
   },
   {
    "duration": 1156,
    "start_time": "2023-01-17T09:46:57.286Z"
   },
   {
    "duration": 125,
    "start_time": "2023-01-17T09:46:58.444Z"
   },
   {
    "duration": 104,
    "start_time": "2023-01-17T09:46:58.571Z"
   },
   {
    "duration": 446,
    "start_time": "2023-01-17T09:46:58.676Z"
   },
   {
    "duration": 4,
    "start_time": "2023-01-17T09:46:59.124Z"
   },
   {
    "duration": 1753,
    "start_time": "2023-01-17T09:46:59.129Z"
   },
   {
    "duration": 153,
    "start_time": "2023-01-17T09:47:00.884Z"
   },
   {
    "duration": 31,
    "start_time": "2023-01-17T09:47:01.039Z"
   },
   {
    "duration": 94,
    "start_time": "2023-01-17T09:47:01.073Z"
   },
   {
    "duration": 147,
    "start_time": "2023-01-17T09:47:01.169Z"
   },
   {
    "duration": 369,
    "start_time": "2023-01-17T09:47:01.321Z"
   },
   {
    "duration": 91,
    "start_time": "2023-01-17T09:47:01.691Z"
   },
   {
    "duration": 124,
    "start_time": "2023-01-17T09:47:01.784Z"
   },
   {
    "duration": 112,
    "start_time": "2023-01-17T09:47:01.910Z"
   },
   {
    "duration": 107,
    "start_time": "2023-01-17T09:47:02.024Z"
   },
   {
    "duration": 101,
    "start_time": "2023-01-17T09:47:02.133Z"
   },
   {
    "duration": 164,
    "start_time": "2023-01-17T09:47:02.236Z"
   },
   {
    "duration": 1320,
    "start_time": "2023-01-17T09:47:02.402Z"
   },
   {
    "duration": 27,
    "start_time": "2023-01-17T09:47:03.724Z"
   },
   {
    "duration": 99,
    "start_time": "2023-01-17T09:47:03.753Z"
   },
   {
    "duration": 367,
    "start_time": "2023-01-17T09:47:03.854Z"
   },
   {
    "duration": 55,
    "start_time": "2023-01-17T09:47:04.223Z"
   },
   {
    "duration": 360,
    "start_time": "2023-01-17T09:47:04.283Z"
   },
   {
    "duration": 50,
    "start_time": "2023-01-17T09:47:04.645Z"
   },
   {
    "duration": 280,
    "start_time": "2023-01-17T09:47:04.697Z"
   },
   {
    "duration": 9,
    "start_time": "2023-01-17T09:47:04.978Z"
   },
   {
    "duration": 39,
    "start_time": "2023-01-17T09:47:04.991Z"
   },
   {
    "duration": 58,
    "start_time": "2023-01-17T09:47:05.033Z"
   },
   {
    "duration": 73,
    "start_time": "2023-01-17T09:47:05.093Z"
   },
   {
    "duration": 32,
    "start_time": "2023-01-17T09:47:05.168Z"
   },
   {
    "duration": 43,
    "start_time": "2023-01-17T09:47:05.201Z"
   },
   {
    "duration": 10,
    "start_time": "2023-01-17T09:47:05.246Z"
   },
   {
    "duration": 5,
    "start_time": "2023-01-17T09:47:05.259Z"
   },
   {
    "duration": 4784,
    "start_time": "2023-01-17T09:47:05.267Z"
   },
   {
    "duration": 38,
    "start_time": "2023-01-17T09:47:10.053Z"
   },
   {
    "duration": 87,
    "start_time": "2023-01-17T09:47:10.093Z"
   },
   {
    "duration": 435,
    "start_time": "2023-01-17T09:47:10.182Z"
   },
   {
    "duration": 191,
    "start_time": "2023-01-17T09:47:10.619Z"
   },
   {
    "duration": 33,
    "start_time": "2023-01-17T09:47:10.812Z"
   },
   {
    "duration": 24,
    "start_time": "2023-01-17T09:47:10.847Z"
   },
   {
    "duration": 213,
    "start_time": "2023-01-17T09:47:10.873Z"
   },
   {
    "duration": 10,
    "start_time": "2023-01-17T09:47:11.088Z"
   },
   {
    "duration": 4863,
    "start_time": "2023-01-17T09:47:11.100Z"
   },
   {
    "duration": 73,
    "start_time": "2023-01-17T09:47:15.965Z"
   },
   {
    "duration": 118,
    "start_time": "2023-01-17T09:47:16.040Z"
   },
   {
    "duration": 142,
    "start_time": "2023-01-17T09:47:16.160Z"
   },
   {
    "duration": 34,
    "start_time": "2023-01-17T09:47:16.304Z"
   },
   {
    "duration": 20,
    "start_time": "2023-01-17T09:47:16.341Z"
   },
   {
    "duration": 7,
    "start_time": "2023-01-17T09:47:16.363Z"
   },
   {
    "duration": 8,
    "start_time": "2023-01-17T09:47:16.372Z"
   },
   {
    "duration": 906,
    "start_time": "2023-01-17T09:47:16.382Z"
   },
   {
    "duration": 8,
    "start_time": "2023-01-17T09:47:17.290Z"
   },
   {
    "duration": 427,
    "start_time": "2023-01-17T09:47:17.300Z"
   },
   {
    "duration": 3,
    "start_time": "2023-01-17T09:47:17.729Z"
   },
   {
    "duration": 24,
    "start_time": "2023-01-17T09:47:17.734Z"
   },
   {
    "duration": 3,
    "start_time": "2023-01-17T09:47:33.181Z"
   },
   {
    "duration": 3,
    "start_time": "2023-01-17T09:47:50.293Z"
   },
   {
    "duration": 4,
    "start_time": "2023-01-17T09:48:42.117Z"
   },
   {
    "duration": 1108194,
    "start_time": "2023-01-17T09:49:24.944Z"
   },
   {
    "duration": 8,
    "start_time": "2023-01-17T10:09:47.681Z"
   },
   {
    "duration": 4,
    "start_time": "2023-01-17T10:10:07.033Z"
   },
   {
    "duration": 6,
    "start_time": "2023-01-17T10:10:31.946Z"
   },
   {
    "duration": 107,
    "start_time": "2023-01-17T10:10:42.635Z"
   },
   {
    "duration": 9,
    "start_time": "2023-01-17T10:10:46.345Z"
   },
   {
    "duration": 4,
    "start_time": "2023-01-17T10:11:10.145Z"
   },
   {
    "duration": 3,
    "start_time": "2023-01-17T10:11:57.298Z"
   },
   {
    "duration": 4,
    "start_time": "2023-01-17T10:11:59.137Z"
   },
   {
    "duration": 778594,
    "start_time": "2023-01-17T10:12:24.562Z"
   },
   {
    "duration": 4,
    "start_time": "2023-01-17T10:28:06.237Z"
   },
   {
    "duration": 4,
    "start_time": "2023-01-17T10:28:08.917Z"
   },
   {
    "duration": 3,
    "start_time": "2023-01-17T10:28:28.109Z"
   },
   {
    "duration": 4,
    "start_time": "2023-01-17T10:28:35.685Z"
   },
   {
    "duration": 13,
    "start_time": "2023-01-17T10:29:00.573Z"
   },
   {
    "duration": 3,
    "start_time": "2023-01-17T10:29:15.342Z"
   },
   {
    "duration": 709833,
    "start_time": "2023-01-17T10:29:17.870Z"
   },
   {
    "duration": 3,
    "start_time": "2023-01-17T10:47:57.969Z"
   },
   {
    "duration": 45,
    "start_time": "2023-01-17T13:37:38.048Z"
   },
   {
    "duration": 1362,
    "start_time": "2023-01-17T21:08:57.615Z"
   },
   {
    "duration": 2882,
    "start_time": "2023-01-17T21:08:58.979Z"
   },
   {
    "duration": 140,
    "start_time": "2023-01-17T21:09:01.863Z"
   },
   {
    "duration": 103,
    "start_time": "2023-01-17T21:09:02.006Z"
   },
   {
    "duration": 441,
    "start_time": "2023-01-17T21:09:02.111Z"
   },
   {
    "duration": 51,
    "start_time": "2023-01-17T21:09:02.554Z"
   },
   {
    "duration": 0,
    "start_time": "2023-01-17T21:09:02.609Z"
   },
   {
    "duration": 0,
    "start_time": "2023-01-17T21:09:02.610Z"
   },
   {
    "duration": 0,
    "start_time": "2023-01-17T21:09:02.612Z"
   },
   {
    "duration": 0,
    "start_time": "2023-01-17T21:09:02.614Z"
   },
   {
    "duration": 0,
    "start_time": "2023-01-17T21:09:02.615Z"
   },
   {
    "duration": 0,
    "start_time": "2023-01-17T21:09:02.617Z"
   },
   {
    "duration": 0,
    "start_time": "2023-01-17T21:09:02.618Z"
   },
   {
    "duration": 0,
    "start_time": "2023-01-17T21:09:02.620Z"
   },
   {
    "duration": 0,
    "start_time": "2023-01-17T21:09:02.621Z"
   },
   {
    "duration": 0,
    "start_time": "2023-01-17T21:09:02.622Z"
   },
   {
    "duration": 0,
    "start_time": "2023-01-17T21:09:02.624Z"
   },
   {
    "duration": 1,
    "start_time": "2023-01-17T21:09:02.625Z"
   },
   {
    "duration": 0,
    "start_time": "2023-01-17T21:09:02.627Z"
   },
   {
    "duration": 0,
    "start_time": "2023-01-17T21:09:02.629Z"
   },
   {
    "duration": 0,
    "start_time": "2023-01-17T21:09:02.632Z"
   },
   {
    "duration": 0,
    "start_time": "2023-01-17T21:09:02.633Z"
   },
   {
    "duration": 0,
    "start_time": "2023-01-17T21:09:02.635Z"
   },
   {
    "duration": 0,
    "start_time": "2023-01-17T21:09:02.636Z"
   },
   {
    "duration": 0,
    "start_time": "2023-01-17T21:09:02.638Z"
   },
   {
    "duration": 0,
    "start_time": "2023-01-17T21:09:02.639Z"
   },
   {
    "duration": 0,
    "start_time": "2023-01-17T21:09:02.641Z"
   },
   {
    "duration": 0,
    "start_time": "2023-01-17T21:09:02.642Z"
   },
   {
    "duration": 0,
    "start_time": "2023-01-17T21:09:02.644Z"
   },
   {
    "duration": 0,
    "start_time": "2023-01-17T21:09:02.645Z"
   },
   {
    "duration": 0,
    "start_time": "2023-01-17T21:09:02.667Z"
   },
   {
    "duration": 0,
    "start_time": "2023-01-17T21:09:02.668Z"
   },
   {
    "duration": 0,
    "start_time": "2023-01-17T21:09:02.670Z"
   },
   {
    "duration": 0,
    "start_time": "2023-01-17T21:09:02.672Z"
   },
   {
    "duration": 0,
    "start_time": "2023-01-17T21:09:02.673Z"
   },
   {
    "duration": 0,
    "start_time": "2023-01-17T21:09:02.675Z"
   },
   {
    "duration": 0,
    "start_time": "2023-01-17T21:09:02.676Z"
   },
   {
    "duration": 0,
    "start_time": "2023-01-17T21:09:02.678Z"
   },
   {
    "duration": 0,
    "start_time": "2023-01-17T21:09:02.679Z"
   },
   {
    "duration": 0,
    "start_time": "2023-01-17T21:09:02.680Z"
   },
   {
    "duration": 0,
    "start_time": "2023-01-17T21:09:02.682Z"
   },
   {
    "duration": 0,
    "start_time": "2023-01-17T21:09:02.683Z"
   },
   {
    "duration": 0,
    "start_time": "2023-01-17T21:09:02.685Z"
   },
   {
    "duration": 0,
    "start_time": "2023-01-17T21:09:02.686Z"
   },
   {
    "duration": 0,
    "start_time": "2023-01-17T21:09:02.687Z"
   },
   {
    "duration": 0,
    "start_time": "2023-01-17T21:09:02.689Z"
   },
   {
    "duration": 0,
    "start_time": "2023-01-17T21:09:02.690Z"
   },
   {
    "duration": 0,
    "start_time": "2023-01-17T21:09:02.692Z"
   },
   {
    "duration": 0,
    "start_time": "2023-01-17T21:09:02.693Z"
   },
   {
    "duration": 0,
    "start_time": "2023-01-17T21:09:02.695Z"
   },
   {
    "duration": 0,
    "start_time": "2023-01-17T21:09:02.699Z"
   },
   {
    "duration": 0,
    "start_time": "2023-01-17T21:09:02.701Z"
   },
   {
    "duration": 0,
    "start_time": "2023-01-17T21:09:02.702Z"
   },
   {
    "duration": 0,
    "start_time": "2023-01-17T21:09:02.703Z"
   },
   {
    "duration": 0,
    "start_time": "2023-01-17T21:09:02.768Z"
   },
   {
    "duration": 0,
    "start_time": "2023-01-17T21:09:02.769Z"
   },
   {
    "duration": 0,
    "start_time": "2023-01-17T21:09:02.771Z"
   },
   {
    "duration": 3,
    "start_time": "2023-01-17T21:10:47.080Z"
   },
   {
    "duration": 808,
    "start_time": "2023-01-17T21:10:47.093Z"
   },
   {
    "duration": 143,
    "start_time": "2023-01-17T21:10:47.903Z"
   },
   {
    "duration": 98,
    "start_time": "2023-01-17T21:10:48.048Z"
   },
   {
    "duration": 428,
    "start_time": "2023-01-17T21:10:48.148Z"
   },
   {
    "duration": 2,
    "start_time": "2023-01-17T21:10:48.579Z"
   },
   {
    "duration": 1810,
    "start_time": "2023-01-17T21:10:48.583Z"
   },
   {
    "duration": 134,
    "start_time": "2023-01-17T21:10:50.394Z"
   },
   {
    "duration": 23,
    "start_time": "2023-01-17T21:10:50.530Z"
   },
   {
    "duration": 60,
    "start_time": "2023-01-17T21:10:50.555Z"
   },
   {
    "duration": 122,
    "start_time": "2023-01-17T21:10:50.617Z"
   },
   {
    "duration": 232,
    "start_time": "2023-01-17T21:10:50.741Z"
   },
   {
    "duration": 107,
    "start_time": "2023-01-17T21:10:50.976Z"
   },
   {
    "duration": 105,
    "start_time": "2023-01-17T21:10:51.085Z"
   },
   {
    "duration": 124,
    "start_time": "2023-01-17T21:10:51.193Z"
   },
   {
    "duration": 113,
    "start_time": "2023-01-17T21:10:51.319Z"
   },
   {
    "duration": 113,
    "start_time": "2023-01-17T21:10:51.434Z"
   },
   {
    "duration": 140,
    "start_time": "2023-01-17T21:10:51.548Z"
   },
   {
    "duration": 1209,
    "start_time": "2023-01-17T21:10:51.691Z"
   },
   {
    "duration": 29,
    "start_time": "2023-01-17T21:10:52.903Z"
   },
   {
    "duration": 105,
    "start_time": "2023-01-17T21:10:52.934Z"
   },
   {
    "duration": 306,
    "start_time": "2023-01-17T21:10:53.041Z"
   },
   {
    "duration": 79,
    "start_time": "2023-01-17T21:10:53.349Z"
   },
   {
    "duration": 262,
    "start_time": "2023-01-17T21:10:53.430Z"
   },
   {
    "duration": 39,
    "start_time": "2023-01-17T21:10:53.694Z"
   },
   {
    "duration": 195,
    "start_time": "2023-01-17T21:10:53.734Z"
   },
   {
    "duration": 7,
    "start_time": "2023-01-17T21:10:53.931Z"
   },
   {
    "duration": 38,
    "start_time": "2023-01-17T21:10:53.939Z"
   },
   {
    "duration": 41,
    "start_time": "2023-01-17T21:10:53.979Z"
   },
   {
    "duration": 51,
    "start_time": "2023-01-17T21:10:54.021Z"
   },
   {
    "duration": 21,
    "start_time": "2023-01-17T21:10:54.074Z"
   },
   {
    "duration": 24,
    "start_time": "2023-01-17T21:10:54.097Z"
   },
   {
    "duration": 8,
    "start_time": "2023-01-17T21:10:54.123Z"
   },
   {
    "duration": 3,
    "start_time": "2023-01-17T21:10:54.133Z"
   },
   {
    "duration": 4711,
    "start_time": "2023-01-17T21:10:54.137Z"
   },
   {
    "duration": 37,
    "start_time": "2023-01-17T21:10:58.850Z"
   },
   {
    "duration": 83,
    "start_time": "2023-01-17T21:10:58.889Z"
   },
   {
    "duration": 282,
    "start_time": "2023-01-17T21:10:58.974Z"
   },
   {
    "duration": 159,
    "start_time": "2023-01-17T21:10:59.258Z"
   },
   {
    "duration": 22,
    "start_time": "2023-01-17T21:10:59.419Z"
   },
   {
    "duration": 36,
    "start_time": "2023-01-17T21:10:59.442Z"
   },
   {
    "duration": 147,
    "start_time": "2023-01-17T21:10:59.482Z"
   },
   {
    "duration": 9,
    "start_time": "2023-01-17T21:10:59.632Z"
   },
   {
    "duration": 4929,
    "start_time": "2023-01-17T21:10:59.643Z"
   },
   {
    "duration": 93,
    "start_time": "2023-01-17T21:11:04.574Z"
   },
   {
    "duration": 126,
    "start_time": "2023-01-17T21:11:04.669Z"
   },
   {
    "duration": 197,
    "start_time": "2023-01-17T21:11:04.797Z"
   },
   {
    "duration": 31,
    "start_time": "2023-01-17T21:11:04.996Z"
   },
   {
    "duration": 40,
    "start_time": "2023-01-17T21:11:05.029Z"
   },
   {
    "duration": 7,
    "start_time": "2023-01-17T21:11:05.072Z"
   },
   {
    "duration": 17,
    "start_time": "2023-01-17T21:11:05.081Z"
   },
   {
    "duration": 737,
    "start_time": "2023-01-17T21:11:05.101Z"
   },
   {
    "duration": 7,
    "start_time": "2023-01-17T21:11:05.840Z"
   },
   {
    "duration": 411,
    "start_time": "2023-01-17T21:11:05.849Z"
   },
   {
    "duration": 4,
    "start_time": "2023-01-17T21:11:06.263Z"
   },
   {
    "duration": 3,
    "start_time": "2023-01-17T21:11:16.367Z"
   },
   {
    "duration": 3,
    "start_time": "2023-01-17T21:11:18.169Z"
   },
   {
    "duration": 3,
    "start_time": "2023-01-17T21:11:24.448Z"
   },
   {
    "duration": 724784,
    "start_time": "2023-01-17T21:11:41.433Z"
   },
   {
    "duration": 8,
    "start_time": "2023-01-17T21:25:27.987Z"
   },
   {
    "duration": 661,
    "start_time": "2023-01-17T21:27:09.547Z"
   },
   {
    "duration": 640,
    "start_time": "2023-01-17T21:28:09.101Z"
   },
   {
    "duration": 55,
    "start_time": "2023-01-17T21:30:13.237Z"
   },
   {
    "duration": 24,
    "start_time": "2023-01-17T21:30:18.533Z"
   },
   {
    "duration": 48,
    "start_time": "2023-01-17T21:31:03.140Z"
   },
   {
    "duration": 3,
    "start_time": "2023-01-17T21:31:06.588Z"
   },
   {
    "duration": 3,
    "start_time": "2023-01-17T21:31:15.405Z"
   },
   {
    "duration": 16857,
    "start_time": "2023-01-17T21:34:34.911Z"
   },
   {
    "duration": 17,
    "start_time": "2023-01-17T21:35:56.676Z"
   },
   {
    "duration": 1193,
    "start_time": "2023-01-17T21:36:46.877Z"
   },
   {
    "duration": 3,
    "start_time": "2023-01-17T21:46:08.240Z"
   },
   {
    "duration": 3,
    "start_time": "2023-01-17T21:46:10.823Z"
   },
   {
    "duration": 2415807,
    "start_time": "2023-01-17T21:46:35.163Z"
   },
   {
    "duration": 3,
    "start_time": "2023-01-17T23:35:49.420Z"
   },
   {
    "duration": 2,
    "start_time": "2023-01-17T23:35:53.973Z"
   },
   {
    "duration": 89916,
    "start_time": "2023-01-17T23:36:01.859Z"
   },
   {
    "duration": 3,
    "start_time": "2023-01-17T23:38:00.228Z"
   },
   {
    "duration": 3,
    "start_time": "2023-01-17T23:38:02.037Z"
   },
   {
    "duration": 190025,
    "start_time": "2023-01-17T23:38:09.053Z"
   },
   {
    "duration": 2,
    "start_time": "2023-01-17T23:42:11.677Z"
   },
   {
    "duration": 2,
    "start_time": "2023-01-17T23:42:13.301Z"
   },
   {
    "duration": 1229184,
    "start_time": "2023-01-17T23:42:15.796Z"
   },
   {
    "duration": 1320,
    "start_time": "2023-01-18T00:14:45.959Z"
   },
   {
    "duration": 1299,
    "start_time": "2023-01-18T00:15:56.496Z"
   },
   {
    "duration": 1368,
    "start_time": "2023-01-18T00:16:29.015Z"
   },
   {
    "duration": 53,
    "start_time": "2023-01-18T00:21:26.664Z"
   },
   {
    "duration": 3,
    "start_time": "2023-01-18T00:21:31.945Z"
   },
   {
    "duration": 4150,
    "start_time": "2023-01-18T00:25:19.971Z"
   },
   {
    "duration": 4308,
    "start_time": "2023-01-18T00:25:35.865Z"
   },
   {
    "duration": 57,
    "start_time": "2023-01-18T00:27:11.991Z"
   },
   {
    "duration": 4188,
    "start_time": "2023-01-18T00:28:02.161Z"
   },
   {
    "duration": 4321,
    "start_time": "2023-01-18T00:28:33.610Z"
   },
   {
    "duration": 4274,
    "start_time": "2023-01-18T00:28:57.275Z"
   },
   {
    "duration": 27317,
    "start_time": "2023-01-18T00:29:14.961Z"
   },
   {
    "duration": 179,
    "start_time": "2023-01-18T00:30:58.690Z"
   },
   {
    "duration": 9,
    "start_time": "2023-01-18T00:32:56.202Z"
   },
   {
    "duration": 33,
    "start_time": "2023-01-18T00:33:13.234Z"
   },
   {
    "duration": 109,
    "start_time": "2023-01-18T00:33:37.258Z"
   },
   {
    "duration": 10,
    "start_time": "2023-01-18T00:34:28.114Z"
   },
   {
    "duration": 5,
    "start_time": "2023-01-18T00:34:32.426Z"
   },
   {
    "duration": 74,
    "start_time": "2023-01-18T00:35:00.099Z"
   },
   {
    "duration": 54,
    "start_time": "2023-01-18T00:38:20.147Z"
   },
   {
    "duration": 55,
    "start_time": "2023-01-18T00:39:02.396Z"
   },
   {
    "duration": 52,
    "start_time": "2023-01-18T00:40:09.900Z"
   },
   {
    "duration": 10,
    "start_time": "2023-01-18T00:40:27.826Z"
   },
   {
    "duration": 12,
    "start_time": "2023-01-18T00:40:35.339Z"
   },
   {
    "duration": 11,
    "start_time": "2023-01-18T00:42:16.484Z"
   },
   {
    "duration": 11,
    "start_time": "2023-01-18T00:42:28.572Z"
   },
   {
    "duration": 9,
    "start_time": "2023-01-18T00:43:33.701Z"
   },
   {
    "duration": 2235,
    "start_time": "2023-01-18T00:43:42.652Z"
   },
   {
    "duration": 20797,
    "start_time": "2023-01-18T00:44:30.671Z"
   },
   {
    "duration": 28,
    "start_time": "2023-01-18T00:45:07.652Z"
   },
   {
    "duration": 3,
    "start_time": "2023-01-18T00:48:20.006Z"
   },
   {
    "duration": 2232,
    "start_time": "2023-01-18T00:50:37.518Z"
   },
   {
    "duration": 23,
    "start_time": "2023-01-18T00:52:08.694Z"
   },
   {
    "duration": 1327,
    "start_time": "2023-01-18T00:53:30.338Z"
   },
   {
    "duration": 2869,
    "start_time": "2023-01-18T00:53:31.667Z"
   },
   {
    "duration": 140,
    "start_time": "2023-01-18T00:53:34.538Z"
   },
   {
    "duration": 112,
    "start_time": "2023-01-18T00:53:34.679Z"
   },
   {
    "duration": 486,
    "start_time": "2023-01-18T00:53:34.793Z"
   },
   {
    "duration": 2,
    "start_time": "2023-01-18T00:53:35.281Z"
   },
   {
    "duration": 1773,
    "start_time": "2023-01-18T00:53:35.285Z"
   },
   {
    "duration": 153,
    "start_time": "2023-01-18T00:53:37.060Z"
   },
   {
    "duration": 25,
    "start_time": "2023-01-18T00:53:37.215Z"
   },
   {
    "duration": 58,
    "start_time": "2023-01-18T00:53:37.242Z"
   },
   {
    "duration": 105,
    "start_time": "2023-01-18T00:53:37.302Z"
   },
   {
    "duration": 218,
    "start_time": "2023-01-18T00:53:37.408Z"
   },
   {
    "duration": 87,
    "start_time": "2023-01-18T00:53:37.628Z"
   },
   {
    "duration": 120,
    "start_time": "2023-01-18T00:53:37.716Z"
   },
   {
    "duration": 108,
    "start_time": "2023-01-18T00:53:37.837Z"
   },
   {
    "duration": 112,
    "start_time": "2023-01-18T00:53:37.947Z"
   },
   {
    "duration": 119,
    "start_time": "2023-01-18T00:53:38.060Z"
   },
   {
    "duration": 136,
    "start_time": "2023-01-18T00:53:38.181Z"
   },
   {
    "duration": 1101,
    "start_time": "2023-01-18T00:53:38.319Z"
   },
   {
    "duration": 25,
    "start_time": "2023-01-18T00:53:39.422Z"
   },
   {
    "duration": 89,
    "start_time": "2023-01-18T00:53:39.449Z"
   },
   {
    "duration": 272,
    "start_time": "2023-01-18T00:53:39.539Z"
   },
   {
    "duration": 65,
    "start_time": "2023-01-18T00:53:39.813Z"
   },
   {
    "duration": 250,
    "start_time": "2023-01-18T00:53:39.879Z"
   },
   {
    "duration": 40,
    "start_time": "2023-01-18T00:53:40.131Z"
   },
   {
    "duration": 180,
    "start_time": "2023-01-18T00:53:40.172Z"
   },
   {
    "duration": 15,
    "start_time": "2023-01-18T00:53:40.353Z"
   },
   {
    "duration": 20,
    "start_time": "2023-01-18T00:53:40.371Z"
   },
   {
    "duration": 56,
    "start_time": "2023-01-18T00:53:40.393Z"
   },
   {
    "duration": 47,
    "start_time": "2023-01-18T00:53:40.451Z"
   },
   {
    "duration": 20,
    "start_time": "2023-01-18T00:53:40.499Z"
   },
   {
    "duration": 21,
    "start_time": "2023-01-18T00:53:40.521Z"
   },
   {
    "duration": 29,
    "start_time": "2023-01-18T00:53:40.544Z"
   },
   {
    "duration": 4,
    "start_time": "2023-01-18T00:53:40.574Z"
   },
   {
    "duration": 4405,
    "start_time": "2023-01-18T00:53:40.579Z"
   },
   {
    "duration": 35,
    "start_time": "2023-01-18T00:53:44.985Z"
   },
   {
    "duration": 79,
    "start_time": "2023-01-18T00:53:45.022Z"
   },
   {
    "duration": 266,
    "start_time": "2023-01-18T00:53:45.103Z"
   },
   {
    "duration": 143,
    "start_time": "2023-01-18T00:53:45.370Z"
   },
   {
    "duration": 19,
    "start_time": "2023-01-18T00:53:45.514Z"
   },
   {
    "duration": 16,
    "start_time": "2023-01-18T00:53:45.534Z"
   },
   {
    "duration": 149,
    "start_time": "2023-01-18T00:53:45.552Z"
   },
   {
    "duration": 8,
    "start_time": "2023-01-18T00:53:45.702Z"
   },
   {
    "duration": 4337,
    "start_time": "2023-01-18T00:53:45.712Z"
   },
   {
    "duration": 76,
    "start_time": "2023-01-18T00:53:50.051Z"
   },
   {
    "duration": 123,
    "start_time": "2023-01-18T00:53:50.128Z"
   },
   {
    "duration": 145,
    "start_time": "2023-01-18T00:53:50.252Z"
   },
   {
    "duration": 20,
    "start_time": "2023-01-18T00:53:50.398Z"
   },
   {
    "duration": 14,
    "start_time": "2023-01-18T00:53:50.420Z"
   },
   {
    "duration": 5,
    "start_time": "2023-01-18T00:53:50.436Z"
   },
   {
    "duration": 26,
    "start_time": "2023-01-18T00:53:50.442Z"
   },
   {
    "duration": 637,
    "start_time": "2023-01-18T00:53:50.469Z"
   },
   {
    "duration": 6,
    "start_time": "2023-01-18T00:53:51.108Z"
   },
   {
    "duration": 401,
    "start_time": "2023-01-18T00:53:51.116Z"
   },
   {
    "duration": 3,
    "start_time": "2023-01-18T00:53:51.519Z"
   },
   {
    "duration": 2180,
    "start_time": "2023-01-18T00:54:43.279Z"
   },
   {
    "duration": 88387,
    "start_time": "2023-01-18T00:54:49.981Z"
   },
   {
    "duration": 118,
    "start_time": "2023-01-18T00:56:47.023Z"
   },
   {
    "duration": 4,
    "start_time": "2023-01-18T00:56:52.121Z"
   },
   {
    "duration": 88293,
    "start_time": "2023-01-18T00:58:07.975Z"
   },
   {
    "duration": 9,
    "start_time": "2023-01-18T01:01:26.247Z"
   },
   {
    "duration": 4364,
    "start_time": "2023-01-18T01:03:40.151Z"
   },
   {
    "duration": 16793,
    "start_time": "2023-01-18T01:04:51.276Z"
   },
   {
    "duration": 2210,
    "start_time": "2023-01-18T01:07:12.171Z"
   },
   {
    "duration": 43903,
    "start_time": "2023-01-18T01:08:56.768Z"
   },
   {
    "duration": 9,
    "start_time": "2023-01-18T01:10:07.704Z"
   },
   {
    "duration": 5,
    "start_time": "2023-01-18T01:10:12.551Z"
   },
   {
    "duration": 4,
    "start_time": "2023-01-18T01:10:24.152Z"
   },
   {
    "duration": 4,
    "start_time": "2023-01-18T01:10:28.872Z"
   },
   {
    "duration": 46,
    "start_time": "2023-01-18T01:11:22.584Z"
   },
   {
    "duration": 21137,
    "start_time": "2023-01-18T01:11:30.232Z"
   },
   {
    "duration": 32,
    "start_time": "2023-01-18T01:12:13.536Z"
   },
   {
    "duration": 2,
    "start_time": "2023-01-18T01:27:37.187Z"
   },
   {
    "duration": 2,
    "start_time": "2023-01-18T01:27:39.483Z"
   },
   {
    "duration": 3,
    "start_time": "2023-01-18T01:27:41.371Z"
   },
   {
    "duration": 1594,
    "start_time": "2023-01-18T11:07:49.394Z"
   },
   {
    "duration": 2878,
    "start_time": "2023-01-18T11:07:50.991Z"
   },
   {
    "duration": 162,
    "start_time": "2023-01-18T11:07:53.871Z"
   },
   {
    "duration": 87,
    "start_time": "2023-01-18T11:07:54.036Z"
   },
   {
    "duration": 464,
    "start_time": "2023-01-18T11:07:54.124Z"
   },
   {
    "duration": 3,
    "start_time": "2023-01-18T11:07:54.589Z"
   },
   {
    "duration": 1829,
    "start_time": "2023-01-18T11:07:54.594Z"
   },
   {
    "duration": 224,
    "start_time": "2023-01-18T11:07:56.424Z"
   },
   {
    "duration": 41,
    "start_time": "2023-01-18T11:07:56.650Z"
   },
   {
    "duration": 71,
    "start_time": "2023-01-18T11:07:56.694Z"
   },
   {
    "duration": 122,
    "start_time": "2023-01-18T11:07:56.767Z"
   },
   {
    "duration": 286,
    "start_time": "2023-01-18T11:07:56.891Z"
   },
   {
    "duration": 151,
    "start_time": "2023-01-18T11:07:57.179Z"
   },
   {
    "duration": 136,
    "start_time": "2023-01-18T11:07:57.335Z"
   },
   {
    "duration": 120,
    "start_time": "2023-01-18T11:07:57.473Z"
   },
   {
    "duration": 121,
    "start_time": "2023-01-18T11:07:57.595Z"
   },
   {
    "duration": 148,
    "start_time": "2023-01-18T11:07:57.718Z"
   },
   {
    "duration": 137,
    "start_time": "2023-01-18T11:07:57.868Z"
   },
   {
    "duration": 1235,
    "start_time": "2023-01-18T11:07:58.006Z"
   },
   {
    "duration": 25,
    "start_time": "2023-01-18T11:07:59.243Z"
   },
   {
    "duration": 118,
    "start_time": "2023-01-18T11:07:59.269Z"
   },
   {
    "duration": 313,
    "start_time": "2023-01-18T11:07:59.390Z"
   },
   {
    "duration": 65,
    "start_time": "2023-01-18T11:07:59.705Z"
   },
   {
    "duration": 267,
    "start_time": "2023-01-18T11:07:59.772Z"
   },
   {
    "duration": 34,
    "start_time": "2023-01-18T11:08:00.040Z"
   },
   {
    "duration": 190,
    "start_time": "2023-01-18T11:08:00.076Z"
   },
   {
    "duration": 7,
    "start_time": "2023-01-18T11:08:00.268Z"
   },
   {
    "duration": 56,
    "start_time": "2023-01-18T11:08:00.279Z"
   },
   {
    "duration": 71,
    "start_time": "2023-01-18T11:08:00.337Z"
   },
   {
    "duration": 43,
    "start_time": "2023-01-18T11:08:00.410Z"
   },
   {
    "duration": 22,
    "start_time": "2023-01-18T11:08:00.455Z"
   },
   {
    "duration": 36,
    "start_time": "2023-01-18T11:08:00.479Z"
   },
   {
    "duration": 14,
    "start_time": "2023-01-18T11:08:00.517Z"
   },
   {
    "duration": 32,
    "start_time": "2023-01-18T11:08:00.533Z"
   },
   {
    "duration": 4767,
    "start_time": "2023-01-18T11:08:00.567Z"
   },
   {
    "duration": 48,
    "start_time": "2023-01-18T11:08:05.337Z"
   },
   {
    "duration": 120,
    "start_time": "2023-01-18T11:08:05.388Z"
   },
   {
    "duration": 345,
    "start_time": "2023-01-18T11:08:05.510Z"
   },
   {
    "duration": 315,
    "start_time": "2023-01-18T11:08:05.857Z"
   },
   {
    "duration": 84,
    "start_time": "2023-01-18T11:08:06.174Z"
   },
   {
    "duration": 19,
    "start_time": "2023-01-18T11:08:06.261Z"
   },
   {
    "duration": 404,
    "start_time": "2023-01-18T11:08:06.283Z"
   },
   {
    "duration": 60,
    "start_time": "2023-01-18T11:08:06.689Z"
   },
   {
    "duration": 5168,
    "start_time": "2023-01-18T11:08:06.751Z"
   },
   {
    "duration": 75,
    "start_time": "2023-01-18T11:08:11.921Z"
   },
   {
    "duration": 113,
    "start_time": "2023-01-18T11:08:11.997Z"
   },
   {
    "duration": 143,
    "start_time": "2023-01-18T11:08:12.112Z"
   },
   {
    "duration": 23,
    "start_time": "2023-01-18T11:08:12.257Z"
   },
   {
    "duration": 22,
    "start_time": "2023-01-18T11:08:12.281Z"
   },
   {
    "duration": 6,
    "start_time": "2023-01-18T11:08:12.305Z"
   },
   {
    "duration": 31,
    "start_time": "2023-01-18T11:08:12.313Z"
   },
   {
    "duration": 2111,
    "start_time": "2023-01-18T11:08:12.348Z"
   },
   {
    "duration": 6,
    "start_time": "2023-01-18T11:08:14.461Z"
   },
   {
    "duration": 669,
    "start_time": "2023-01-18T11:08:14.468Z"
   },
   {
    "duration": 4,
    "start_time": "2023-01-18T11:08:15.138Z"
   },
   {
    "duration": 8,
    "start_time": "2023-01-18T11:08:15.148Z"
   },
   {
    "duration": 5,
    "start_time": "2023-01-18T11:08:15.158Z"
   },
   {
    "duration": 5,
    "start_time": "2023-01-18T11:08:15.164Z"
   },
   {
    "duration": 749537,
    "start_time": "2023-01-18T11:08:15.171Z"
   },
   {
    "duration": 6,
    "start_time": "2023-01-18T11:20:44.710Z"
   },
   {
    "duration": 8,
    "start_time": "2023-01-18T11:20:44.718Z"
   },
   {
    "duration": 21,
    "start_time": "2023-01-18T11:20:44.727Z"
   },
   {
    "duration": 724,
    "start_time": "2023-01-18T11:20:44.750Z"
   },
   {
    "duration": 2,
    "start_time": "2023-01-18T11:20:45.476Z"
   },
   {
    "duration": 6,
    "start_time": "2023-01-18T11:20:45.480Z"
   },
   {
    "duration": 9,
    "start_time": "2023-01-18T11:20:45.487Z"
   },
   {
    "duration": 1040254,
    "start_time": "2023-01-18T11:20:45.497Z"
   },
   {
    "duration": 61,
    "start_time": "2023-01-18T11:38:05.752Z"
   },
   {
    "duration": 3356,
    "start_time": "2023-01-18T11:38:05.814Z"
   },
   {
    "duration": 1402,
    "start_time": "2023-01-18T11:39:03.441Z"
   },
   {
    "duration": 913,
    "start_time": "2023-01-18T11:39:04.844Z"
   },
   {
    "duration": 151,
    "start_time": "2023-01-18T11:39:05.758Z"
   },
   {
    "duration": 93,
    "start_time": "2023-01-18T11:39:05.911Z"
   },
   {
    "duration": 461,
    "start_time": "2023-01-18T11:39:06.006Z"
   },
   {
    "duration": 3,
    "start_time": "2023-01-18T11:39:06.469Z"
   },
   {
    "duration": 1839,
    "start_time": "2023-01-18T11:39:06.474Z"
   },
   {
    "duration": 156,
    "start_time": "2023-01-18T11:39:08.314Z"
   },
   {
    "duration": 26,
    "start_time": "2023-01-18T11:39:08.472Z"
   },
   {
    "duration": 62,
    "start_time": "2023-01-18T11:39:08.501Z"
   },
   {
    "duration": 114,
    "start_time": "2023-01-18T11:39:08.565Z"
   },
   {
    "duration": 233,
    "start_time": "2023-01-18T11:39:08.681Z"
   },
   {
    "duration": 91,
    "start_time": "2023-01-18T11:39:08.916Z"
   },
   {
    "duration": 242,
    "start_time": "2023-01-18T11:39:09.009Z"
   },
   {
    "duration": 234,
    "start_time": "2023-01-18T11:39:09.252Z"
   },
   {
    "duration": 204,
    "start_time": "2023-01-18T11:39:09.487Z"
   },
   {
    "duration": 262,
    "start_time": "2023-01-18T11:39:09.693Z"
   },
   {
    "duration": 224,
    "start_time": "2023-01-18T11:39:09.957Z"
   },
   {
    "duration": 1512,
    "start_time": "2023-01-18T11:39:10.183Z"
   },
   {
    "duration": 26,
    "start_time": "2023-01-18T11:39:11.697Z"
   },
   {
    "duration": 101,
    "start_time": "2023-01-18T11:39:11.725Z"
   },
   {
    "duration": 306,
    "start_time": "2023-01-18T11:39:11.828Z"
   },
   {
    "duration": 66,
    "start_time": "2023-01-18T11:39:12.135Z"
   },
   {
    "duration": 269,
    "start_time": "2023-01-18T11:39:12.203Z"
   },
   {
    "duration": 34,
    "start_time": "2023-01-18T11:39:12.473Z"
   },
   {
    "duration": 187,
    "start_time": "2023-01-18T11:39:12.509Z"
   },
   {
    "duration": 8,
    "start_time": "2023-01-18T11:39:12.698Z"
   },
   {
    "duration": 27,
    "start_time": "2023-01-18T11:39:12.709Z"
   },
   {
    "duration": 69,
    "start_time": "2023-01-18T11:39:12.737Z"
   },
   {
    "duration": 50,
    "start_time": "2023-01-18T11:39:12.808Z"
   },
   {
    "duration": 23,
    "start_time": "2023-01-18T11:39:12.860Z"
   },
   {
    "duration": 23,
    "start_time": "2023-01-18T11:39:12.885Z"
   },
   {
    "duration": 7,
    "start_time": "2023-01-18T11:39:12.910Z"
   },
   {
    "duration": 3,
    "start_time": "2023-01-18T11:39:12.919Z"
   },
   {
    "duration": 4751,
    "start_time": "2023-01-18T11:39:12.924Z"
   },
   {
    "duration": 35,
    "start_time": "2023-01-18T11:39:17.677Z"
   },
   {
    "duration": 90,
    "start_time": "2023-01-18T11:39:17.713Z"
   },
   {
    "duration": 318,
    "start_time": "2023-01-18T11:39:17.805Z"
   },
   {
    "duration": 175,
    "start_time": "2023-01-18T11:39:18.124Z"
   },
   {
    "duration": 23,
    "start_time": "2023-01-18T11:39:18.301Z"
   },
   {
    "duration": 37,
    "start_time": "2023-01-18T11:39:18.325Z"
   },
   {
    "duration": 155,
    "start_time": "2023-01-18T11:39:18.364Z"
   },
   {
    "duration": 10,
    "start_time": "2023-01-18T11:39:18.520Z"
   },
   {
    "duration": 4518,
    "start_time": "2023-01-18T11:39:18.531Z"
   },
   {
    "duration": 74,
    "start_time": "2023-01-18T11:39:23.051Z"
   },
   {
    "duration": 122,
    "start_time": "2023-01-18T11:39:23.126Z"
   },
   {
    "duration": 154,
    "start_time": "2023-01-18T11:39:23.250Z"
   },
   {
    "duration": 21,
    "start_time": "2023-01-18T11:39:23.407Z"
   },
   {
    "duration": 30,
    "start_time": "2023-01-18T11:39:23.430Z"
   },
   {
    "duration": 7,
    "start_time": "2023-01-18T11:39:23.462Z"
   },
   {
    "duration": 11,
    "start_time": "2023-01-18T11:39:23.471Z"
   },
   {
    "duration": 707,
    "start_time": "2023-01-18T11:39:23.483Z"
   },
   {
    "duration": 6,
    "start_time": "2023-01-18T11:39:24.192Z"
   },
   {
    "duration": 418,
    "start_time": "2023-01-18T11:39:24.200Z"
   },
   {
    "duration": 4,
    "start_time": "2023-01-18T11:39:24.620Z"
   },
   {
    "duration": 11,
    "start_time": "2023-01-18T11:39:24.626Z"
   },
   {
    "duration": 11,
    "start_time": "2023-01-18T11:39:24.638Z"
   },
   {
    "duration": 8,
    "start_time": "2023-01-18T11:39:24.650Z"
   },
   {
    "duration": 727031,
    "start_time": "2023-01-18T11:39:24.659Z"
   },
   {
    "duration": 5,
    "start_time": "2023-01-18T11:51:31.692Z"
   },
   {
    "duration": 27,
    "start_time": "2023-01-18T11:51:31.699Z"
   },
   {
    "duration": 6,
    "start_time": "2023-01-18T11:51:31.727Z"
   },
   {
    "duration": 689,
    "start_time": "2023-01-18T11:51:31.735Z"
   },
   {
    "duration": 3,
    "start_time": "2023-01-18T11:51:32.425Z"
   },
   {
    "duration": 5,
    "start_time": "2023-01-18T11:51:32.429Z"
   },
   {
    "duration": 12,
    "start_time": "2023-01-18T11:51:32.436Z"
   },
   {
    "duration": 45609,
    "start_time": "2023-01-18T11:51:32.450Z"
   },
   {
    "duration": 1401,
    "start_time": "2023-01-18T11:52:18.061Z"
   },
   {
    "duration": 2287,
    "start_time": "2023-01-18T11:52:19.464Z"
   },
   {
    "duration": 51095,
    "start_time": "2023-01-18T11:52:21.754Z"
   },
   {
    "duration": 5,
    "start_time": "2023-01-18T11:53:12.851Z"
   },
   {
    "duration": 21921,
    "start_time": "2023-01-18T11:53:12.949Z"
   },
   {
    "duration": 81,
    "start_time": "2023-01-18T11:53:34.872Z"
   },
   {
    "duration": 368,
    "start_time": "2023-01-18T11:54:49.669Z"
   },
   {
    "duration": 149,
    "start_time": "2023-01-18T11:55:26.078Z"
   },
   {
    "duration": 144,
    "start_time": "2023-01-18T11:55:29.980Z"
   },
   {
    "duration": 149,
    "start_time": "2023-01-18T11:56:04.421Z"
   },
   {
    "duration": 4528,
    "start_time": "2023-01-18T12:02:58.792Z"
   },
   {
    "duration": 1345,
    "start_time": "2023-01-18T12:17:36.836Z"
   },
   {
    "duration": 702,
    "start_time": "2023-01-18T12:26:35.308Z"
   },
   {
    "duration": 1380,
    "start_time": "2023-01-18T12:27:07.190Z"
   },
   {
    "duration": 3,
    "start_time": "2023-01-18T12:32:04.424Z"
   },
   {
    "duration": 119,
    "start_time": "2023-01-18T15:46:36.798Z"
   },
   {
    "duration": 1412,
    "start_time": "2023-01-18T15:46:40.152Z"
   },
   {
    "duration": 132,
    "start_time": "2023-01-18T15:50:21.519Z"
   },
   {
    "duration": 1158,
    "start_time": "2023-01-18T22:45:18.298Z"
   },
   {
    "duration": 2794,
    "start_time": "2023-01-18T22:45:19.459Z"
   },
   {
    "duration": 125,
    "start_time": "2023-01-18T22:45:22.255Z"
   },
   {
    "duration": 97,
    "start_time": "2023-01-18T22:45:22.382Z"
   },
   {
    "duration": 457,
    "start_time": "2023-01-18T22:45:22.480Z"
   },
   {
    "duration": 3,
    "start_time": "2023-01-18T22:45:22.938Z"
   },
   {
    "duration": 1520,
    "start_time": "2023-01-18T22:45:22.942Z"
   },
   {
    "duration": 154,
    "start_time": "2023-01-18T22:45:24.464Z"
   },
   {
    "duration": 21,
    "start_time": "2023-01-18T22:45:24.620Z"
   },
   {
    "duration": 58,
    "start_time": "2023-01-18T22:45:24.644Z"
   },
   {
    "duration": 102,
    "start_time": "2023-01-18T22:45:24.703Z"
   },
   {
    "duration": 193,
    "start_time": "2023-01-18T22:45:24.807Z"
   },
   {
    "duration": 152,
    "start_time": "2023-01-18T22:45:25.001Z"
   },
   {
    "duration": 124,
    "start_time": "2023-01-18T22:45:25.154Z"
   },
   {
    "duration": 101,
    "start_time": "2023-01-18T22:45:25.279Z"
   },
   {
    "duration": 100,
    "start_time": "2023-01-18T22:45:25.382Z"
   },
   {
    "duration": 108,
    "start_time": "2023-01-18T22:45:25.484Z"
   },
   {
    "duration": 133,
    "start_time": "2023-01-18T22:45:25.594Z"
   },
   {
    "duration": 1599,
    "start_time": "2023-01-18T22:45:25.728Z"
   },
   {
    "duration": 42,
    "start_time": "2023-01-18T22:45:27.329Z"
   },
   {
    "duration": 81,
    "start_time": "2023-01-18T22:45:27.373Z"
   },
   {
    "duration": 302,
    "start_time": "2023-01-18T22:45:27.455Z"
   },
   {
    "duration": 76,
    "start_time": "2023-01-18T22:45:27.759Z"
   },
   {
    "duration": 274,
    "start_time": "2023-01-18T22:45:27.837Z"
   },
   {
    "duration": 37,
    "start_time": "2023-01-18T22:45:28.113Z"
   },
   {
    "duration": 184,
    "start_time": "2023-01-18T22:45:28.151Z"
   },
   {
    "duration": 7,
    "start_time": "2023-01-18T22:45:28.337Z"
   },
   {
    "duration": 25,
    "start_time": "2023-01-18T22:45:28.347Z"
   },
   {
    "duration": 76,
    "start_time": "2023-01-18T22:45:28.374Z"
   },
   {
    "duration": 44,
    "start_time": "2023-01-18T22:45:28.452Z"
   },
   {
    "duration": 27,
    "start_time": "2023-01-18T22:45:28.498Z"
   },
   {
    "duration": 29,
    "start_time": "2023-01-18T22:45:28.528Z"
   },
   {
    "duration": 34,
    "start_time": "2023-01-18T22:45:28.558Z"
   },
   {
    "duration": 4,
    "start_time": "2023-01-18T22:45:28.594Z"
   },
   {
    "duration": 4245,
    "start_time": "2023-01-18T22:45:28.599Z"
   },
   {
    "duration": 34,
    "start_time": "2023-01-18T22:45:32.846Z"
   },
   {
    "duration": 74,
    "start_time": "2023-01-18T22:45:32.882Z"
   },
   {
    "duration": 288,
    "start_time": "2023-01-18T22:45:32.958Z"
   },
   {
    "duration": 165,
    "start_time": "2023-01-18T22:45:33.247Z"
   },
   {
    "duration": 24,
    "start_time": "2023-01-18T22:45:33.414Z"
   },
   {
    "duration": 22,
    "start_time": "2023-01-18T22:45:33.440Z"
   },
   {
    "duration": 178,
    "start_time": "2023-01-18T22:45:33.464Z"
   },
   {
    "duration": 8,
    "start_time": "2023-01-18T22:45:33.644Z"
   },
   {
    "duration": 4308,
    "start_time": "2023-01-18T22:45:33.654Z"
   },
   {
    "duration": 72,
    "start_time": "2023-01-18T22:45:37.963Z"
   },
   {
    "duration": 214,
    "start_time": "2023-01-18T22:45:38.036Z"
   },
   {
    "duration": 20,
    "start_time": "2023-01-18T22:45:38.252Z"
   },
   {
    "duration": 30,
    "start_time": "2023-01-18T22:45:38.274Z"
   },
   {
    "duration": 119,
    "start_time": "2023-01-18T22:45:38.305Z"
   },
   {
    "duration": 0,
    "start_time": "2023-01-18T22:45:38.426Z"
   },
   {
    "duration": 6,
    "start_time": "2023-01-18T22:46:01.805Z"
   },
   {
    "duration": 6,
    "start_time": "2023-01-18T22:46:07.875Z"
   },
   {
    "duration": 71,
    "start_time": "2023-01-18T22:46:17.227Z"
   },
   {
    "duration": 520,
    "start_time": "2023-01-18T22:46:40.091Z"
   },
   {
    "duration": 519,
    "start_time": "2023-01-18T22:49:49.205Z"
   },
   {
    "duration": 147,
    "start_time": "2023-01-18T22:50:00.174Z"
   },
   {
    "duration": 512,
    "start_time": "2023-01-18T22:50:17.133Z"
   },
   {
    "duration": 485,
    "start_time": "2023-01-18T22:50:21.579Z"
   },
   {
    "duration": 4,
    "start_time": "2023-01-18T22:50:24.903Z"
   },
   {
    "duration": 45,
    "start_time": "2023-01-18T22:50:47.718Z"
   },
   {
    "duration": 23,
    "start_time": "2023-01-18T22:51:03.086Z"
   },
   {
    "duration": 22,
    "start_time": "2023-01-18T22:51:17.969Z"
   },
   {
    "duration": 21,
    "start_time": "2023-01-18T22:51:29.862Z"
   },
   {
    "duration": 4,
    "start_time": "2023-01-18T22:54:58.333Z"
   },
   {
    "duration": 20,
    "start_time": "2023-01-18T22:55:46.765Z"
   },
   {
    "duration": 778,
    "start_time": "2023-01-18T22:56:05.614Z"
   },
   {
    "duration": 170,
    "start_time": "2023-01-18T22:57:36.240Z"
   },
   {
    "duration": 167,
    "start_time": "2023-01-18T22:59:10.686Z"
   },
   {
    "duration": 211,
    "start_time": "2023-01-18T22:59:28.847Z"
   },
   {
    "duration": 178,
    "start_time": "2023-01-18T22:59:47.977Z"
   },
   {
    "duration": 165,
    "start_time": "2023-01-18T23:01:30.111Z"
   },
   {
    "duration": 195,
    "start_time": "2023-01-18T23:03:16.872Z"
   },
   {
    "duration": 21,
    "start_time": "2023-01-18T23:03:29.784Z"
   },
   {
    "duration": 173,
    "start_time": "2023-01-18T23:04:27.511Z"
   },
   {
    "duration": 22,
    "start_time": "2023-01-18T23:04:29.833Z"
   },
   {
    "duration": 186,
    "start_time": "2023-01-18T23:04:42.840Z"
   },
   {
    "duration": 22,
    "start_time": "2023-01-18T23:04:45.016Z"
   },
   {
    "duration": 16,
    "start_time": "2023-01-18T23:04:48.929Z"
   },
   {
    "duration": 12,
    "start_time": "2023-01-18T23:04:57.322Z"
   },
   {
    "duration": 182,
    "start_time": "2023-01-18T23:05:37.616Z"
   },
   {
    "duration": 12,
    "start_time": "2023-01-18T23:05:40.041Z"
   },
   {
    "duration": 167,
    "start_time": "2023-01-18T23:07:27.243Z"
   },
   {
    "duration": 160,
    "start_time": "2023-01-18T23:07:44.026Z"
   },
   {
    "duration": 164,
    "start_time": "2023-01-18T23:07:58.594Z"
   },
   {
    "duration": 12,
    "start_time": "2023-01-18T23:08:01.074Z"
   },
   {
    "duration": 40,
    "start_time": "2023-01-18T23:09:10.672Z"
   },
   {
    "duration": 19,
    "start_time": "2023-01-18T23:09:51.633Z"
   },
   {
    "duration": 1128,
    "start_time": "2023-01-18T23:10:21.718Z"
   },
   {
    "duration": 803,
    "start_time": "2023-01-18T23:10:22.848Z"
   },
   {
    "duration": 130,
    "start_time": "2023-01-18T23:10:23.653Z"
   },
   {
    "duration": 85,
    "start_time": "2023-01-18T23:10:23.791Z"
   },
   {
    "duration": 463,
    "start_time": "2023-01-18T23:10:23.878Z"
   },
   {
    "duration": 2,
    "start_time": "2023-01-18T23:10:24.343Z"
   },
   {
    "duration": 1672,
    "start_time": "2023-01-18T23:10:24.347Z"
   },
   {
    "duration": 176,
    "start_time": "2023-01-18T23:10:26.021Z"
   },
   {
    "duration": 23,
    "start_time": "2023-01-18T23:10:26.199Z"
   },
   {
    "duration": 49,
    "start_time": "2023-01-18T23:10:26.225Z"
   },
   {
    "duration": 119,
    "start_time": "2023-01-18T23:10:26.276Z"
   },
   {
    "duration": 208,
    "start_time": "2023-01-18T23:10:26.397Z"
   },
   {
    "duration": 142,
    "start_time": "2023-01-18T23:10:26.608Z"
   },
   {
    "duration": 122,
    "start_time": "2023-01-18T23:10:26.752Z"
   },
   {
    "duration": 100,
    "start_time": "2023-01-18T23:10:26.876Z"
   },
   {
    "duration": 98,
    "start_time": "2023-01-18T23:10:26.978Z"
   },
   {
    "duration": 100,
    "start_time": "2023-01-18T23:10:27.077Z"
   },
   {
    "duration": 147,
    "start_time": "2023-01-18T23:10:27.179Z"
   },
   {
    "duration": 1292,
    "start_time": "2023-01-18T23:10:27.328Z"
   },
   {
    "duration": 26,
    "start_time": "2023-01-18T23:10:28.622Z"
   },
   {
    "duration": 87,
    "start_time": "2023-01-18T23:10:28.650Z"
   },
   {
    "duration": 293,
    "start_time": "2023-01-18T23:10:28.739Z"
   },
   {
    "duration": 68,
    "start_time": "2023-01-18T23:10:29.034Z"
   },
   {
    "duration": 263,
    "start_time": "2023-01-18T23:10:29.103Z"
   },
   {
    "duration": 48,
    "start_time": "2023-01-18T23:10:29.368Z"
   },
   {
    "duration": 176,
    "start_time": "2023-01-18T23:10:29.417Z"
   },
   {
    "duration": 7,
    "start_time": "2023-01-18T23:10:29.595Z"
   },
   {
    "duration": 26,
    "start_time": "2023-01-18T23:10:29.605Z"
   },
   {
    "duration": 67,
    "start_time": "2023-01-18T23:10:29.632Z"
   },
   {
    "duration": 37,
    "start_time": "2023-01-18T23:10:29.701Z"
   },
   {
    "duration": 26,
    "start_time": "2023-01-18T23:10:29.740Z"
   },
   {
    "duration": 44,
    "start_time": "2023-01-18T23:10:29.767Z"
   },
   {
    "duration": 8,
    "start_time": "2023-01-18T23:10:29.812Z"
   },
   {
    "duration": 4,
    "start_time": "2023-01-18T23:10:29.821Z"
   },
   {
    "duration": 4643,
    "start_time": "2023-01-18T23:10:29.827Z"
   },
   {
    "duration": 41,
    "start_time": "2023-01-18T23:10:34.472Z"
   },
   {
    "duration": 78,
    "start_time": "2023-01-18T23:10:34.515Z"
   },
   {
    "duration": 284,
    "start_time": "2023-01-18T23:10:34.595Z"
   },
   {
    "duration": 199,
    "start_time": "2023-01-18T23:10:34.881Z"
   },
   {
    "duration": 28,
    "start_time": "2023-01-18T23:10:35.082Z"
   },
   {
    "duration": 21,
    "start_time": "2023-01-18T23:10:35.112Z"
   },
   {
    "duration": 193,
    "start_time": "2023-01-18T23:10:35.135Z"
   },
   {
    "duration": 9,
    "start_time": "2023-01-18T23:10:35.330Z"
   },
   {
    "duration": 4467,
    "start_time": "2023-01-18T23:10:35.341Z"
   },
   {
    "duration": 64,
    "start_time": "2023-01-18T23:10:39.810Z"
   },
   {
    "duration": 106,
    "start_time": "2023-01-18T23:10:39.875Z"
   },
   {
    "duration": 21,
    "start_time": "2023-01-18T23:10:39.992Z"
   },
   {
    "duration": 16,
    "start_time": "2023-01-18T23:10:40.015Z"
   },
   {
    "duration": 5,
    "start_time": "2023-01-18T23:10:40.033Z"
   },
   {
    "duration": 9,
    "start_time": "2023-01-18T23:10:40.040Z"
   },
   {
    "duration": 96,
    "start_time": "2023-01-18T23:10:40.050Z"
   },
   {
    "duration": 387,
    "start_time": "2023-01-18T23:11:01.482Z"
   },
   {
    "duration": 104,
    "start_time": "2023-01-18T23:11:04.907Z"
   },
   {
    "duration": 24,
    "start_time": "2023-01-18T23:11:09.444Z"
   },
   {
    "duration": 3,
    "start_time": "2023-01-18T23:13:26.668Z"
   },
   {
    "duration": 3,
    "start_time": "2023-01-18T23:13:33.020Z"
   },
   {
    "duration": 92476,
    "start_time": "2023-01-18T23:13:37.612Z"
   },
   {
    "duration": 546,
    "start_time": "2023-01-18T23:16:12.949Z"
   },
   {
    "duration": 20,
    "start_time": "2023-01-18T23:17:54.819Z"
   },
   {
    "duration": 20,
    "start_time": "2023-01-18T23:18:00.732Z"
   },
   {
    "duration": 109,
    "start_time": "2023-01-18T23:18:41.279Z"
   },
   {
    "duration": 54,
    "start_time": "2023-01-18T23:20:22.114Z"
   },
   {
    "duration": 21,
    "start_time": "2023-01-18T23:20:35.143Z"
   },
   {
    "duration": 27,
    "start_time": "2023-01-18T23:20:39.359Z"
   },
   {
    "duration": 46,
    "start_time": "2023-01-18T23:20:48.225Z"
   },
   {
    "duration": 149,
    "start_time": "2023-01-18T23:23:07.981Z"
   },
   {
    "duration": 47,
    "start_time": "2023-01-18T23:25:36.176Z"
   },
   {
    "duration": 48,
    "start_time": "2023-01-18T23:26:03.350Z"
   },
   {
    "duration": 4,
    "start_time": "2023-01-18T23:26:12.013Z"
   },
   {
    "duration": 3,
    "start_time": "2023-01-18T23:26:17.607Z"
   },
   {
    "duration": 37697,
    "start_time": "2023-01-18T23:26:52.696Z"
   },
   {
    "duration": 1287,
    "start_time": "2023-01-18T23:32:13.425Z"
   },
   {
    "duration": 62,
    "start_time": "2023-01-18T23:34:28.192Z"
   },
   {
    "duration": 509,
    "start_time": "2023-01-18T23:34:31.488Z"
   },
   {
    "duration": 4,
    "start_time": "2023-01-18T23:34:38.847Z"
   },
   {
    "duration": 61,
    "start_time": "2023-01-18T23:34:57.065Z"
   },
   {
    "duration": 11,
    "start_time": "2023-01-18T23:35:00.328Z"
   },
   {
    "duration": 62,
    "start_time": "2023-01-18T23:35:35.841Z"
   },
   {
    "duration": 639,
    "start_time": "2023-01-18T23:35:38.656Z"
   },
   {
    "duration": 4,
    "start_time": "2023-01-18T23:35:42.024Z"
   },
   {
    "duration": 60,
    "start_time": "2023-01-18T23:35:52.232Z"
   },
   {
    "duration": 15,
    "start_time": "2023-01-18T23:35:58.488Z"
   },
   {
    "duration": 1150,
    "start_time": "2023-01-18T23:48:43.404Z"
   },
   {
    "duration": 856,
    "start_time": "2023-01-18T23:48:44.556Z"
   },
   {
    "duration": 127,
    "start_time": "2023-01-18T23:48:45.414Z"
   },
   {
    "duration": 101,
    "start_time": "2023-01-18T23:48:45.543Z"
   },
   {
    "duration": 494,
    "start_time": "2023-01-18T23:48:45.646Z"
   },
   {
    "duration": 3,
    "start_time": "2023-01-18T23:48:46.142Z"
   },
   {
    "duration": 1593,
    "start_time": "2023-01-18T23:48:46.146Z"
   },
   {
    "duration": 157,
    "start_time": "2023-01-18T23:48:47.741Z"
   },
   {
    "duration": 23,
    "start_time": "2023-01-18T23:48:47.900Z"
   },
   {
    "duration": 46,
    "start_time": "2023-01-18T23:48:47.926Z"
   },
   {
    "duration": 106,
    "start_time": "2023-01-18T23:48:47.974Z"
   },
   {
    "duration": 198,
    "start_time": "2023-01-18T23:48:48.082Z"
   },
   {
    "duration": 86,
    "start_time": "2023-01-18T23:48:48.282Z"
   },
   {
    "duration": 124,
    "start_time": "2023-01-18T23:48:48.370Z"
   },
   {
    "duration": 110,
    "start_time": "2023-01-18T23:48:48.496Z"
   },
   {
    "duration": 95,
    "start_time": "2023-01-18T23:48:48.608Z"
   },
   {
    "duration": 109,
    "start_time": "2023-01-18T23:48:48.705Z"
   },
   {
    "duration": 197,
    "start_time": "2023-01-18T23:48:48.816Z"
   },
   {
    "duration": 1418,
    "start_time": "2023-01-18T23:48:49.015Z"
   },
   {
    "duration": 27,
    "start_time": "2023-01-18T23:48:50.436Z"
   },
   {
    "duration": 95,
    "start_time": "2023-01-18T23:48:50.465Z"
   },
   {
    "duration": 311,
    "start_time": "2023-01-18T23:48:50.561Z"
   },
   {
    "duration": 64,
    "start_time": "2023-01-18T23:48:50.874Z"
   },
   {
    "duration": 273,
    "start_time": "2023-01-18T23:48:50.940Z"
   },
   {
    "duration": 36,
    "start_time": "2023-01-18T23:48:51.215Z"
   },
   {
    "duration": 186,
    "start_time": "2023-01-18T23:48:51.252Z"
   },
   {
    "duration": 7,
    "start_time": "2023-01-18T23:48:51.439Z"
   },
   {
    "duration": 18,
    "start_time": "2023-01-18T23:48:51.450Z"
   },
   {
    "duration": 78,
    "start_time": "2023-01-18T23:48:51.470Z"
   },
   {
    "duration": 48,
    "start_time": "2023-01-18T23:48:51.550Z"
   },
   {
    "duration": 32,
    "start_time": "2023-01-18T23:48:51.600Z"
   },
   {
    "duration": 28,
    "start_time": "2023-01-18T23:48:51.634Z"
   },
   {
    "duration": 34,
    "start_time": "2023-01-18T23:48:51.664Z"
   },
   {
    "duration": 5,
    "start_time": "2023-01-18T23:48:51.699Z"
   },
   {
    "duration": 4259,
    "start_time": "2023-01-18T23:48:51.706Z"
   },
   {
    "duration": 48,
    "start_time": "2023-01-18T23:48:55.967Z"
   },
   {
    "duration": 91,
    "start_time": "2023-01-18T23:48:56.017Z"
   },
   {
    "duration": 283,
    "start_time": "2023-01-18T23:48:56.110Z"
   },
   {
    "duration": 188,
    "start_time": "2023-01-18T23:48:56.395Z"
   },
   {
    "duration": 24,
    "start_time": "2023-01-18T23:48:56.585Z"
   },
   {
    "duration": 19,
    "start_time": "2023-01-18T23:48:56.610Z"
   },
   {
    "duration": 171,
    "start_time": "2023-01-18T23:48:56.631Z"
   },
   {
    "duration": 8,
    "start_time": "2023-01-18T23:48:56.803Z"
   },
   {
    "duration": 4330,
    "start_time": "2023-01-18T23:48:56.813Z"
   },
   {
    "duration": 63,
    "start_time": "2023-01-18T23:49:01.145Z"
   },
   {
    "duration": 117,
    "start_time": "2023-01-18T23:49:01.210Z"
   },
   {
    "duration": 21,
    "start_time": "2023-01-18T23:49:01.329Z"
   },
   {
    "duration": 28,
    "start_time": "2023-01-18T23:49:01.352Z"
   },
   {
    "duration": 11,
    "start_time": "2023-01-18T23:49:01.382Z"
   },
   {
    "duration": 22,
    "start_time": "2023-01-18T23:49:01.394Z"
   },
   {
    "duration": 103,
    "start_time": "2023-01-18T23:49:01.418Z"
   },
   {
    "duration": 391,
    "start_time": "2023-01-18T23:49:01.523Z"
   },
   {
    "duration": 113,
    "start_time": "2023-01-18T23:49:01.916Z"
   },
   {
    "duration": 37,
    "start_time": "2023-01-18T23:49:02.030Z"
   },
   {
    "duration": 0,
    "start_time": "2023-01-18T23:49:02.069Z"
   },
   {
    "duration": 0,
    "start_time": "2023-01-18T23:49:02.070Z"
   },
   {
    "duration": 0,
    "start_time": "2023-01-18T23:49:02.071Z"
   },
   {
    "duration": 0,
    "start_time": "2023-01-18T23:49:02.073Z"
   },
   {
    "duration": 0,
    "start_time": "2023-01-18T23:49:02.075Z"
   },
   {
    "duration": 0,
    "start_time": "2023-01-18T23:49:02.076Z"
   },
   {
    "duration": 0,
    "start_time": "2023-01-18T23:49:02.077Z"
   },
   {
    "duration": 0,
    "start_time": "2023-01-18T23:49:02.078Z"
   },
   {
    "duration": 0,
    "start_time": "2023-01-18T23:49:02.080Z"
   },
   {
    "duration": 0,
    "start_time": "2023-01-18T23:49:02.082Z"
   },
   {
    "duration": 0,
    "start_time": "2023-01-18T23:49:02.083Z"
   },
   {
    "duration": 0,
    "start_time": "2023-01-18T23:49:02.084Z"
   },
   {
    "duration": 0,
    "start_time": "2023-01-18T23:49:02.086Z"
   },
   {
    "duration": 0,
    "start_time": "2023-01-18T23:49:02.088Z"
   },
   {
    "duration": 0,
    "start_time": "2023-01-18T23:49:02.092Z"
   },
   {
    "duration": 3,
    "start_time": "2023-01-18T23:52:20.527Z"
   },
   {
    "duration": 828,
    "start_time": "2023-01-18T23:52:20.541Z"
   },
   {
    "duration": 132,
    "start_time": "2023-01-18T23:52:21.371Z"
   },
   {
    "duration": 88,
    "start_time": "2023-01-18T23:52:21.505Z"
   },
   {
    "duration": 380,
    "start_time": "2023-01-18T23:52:21.595Z"
   },
   {
    "duration": 3,
    "start_time": "2023-01-18T23:52:21.978Z"
   },
   {
    "duration": 1485,
    "start_time": "2023-01-18T23:52:21.982Z"
   },
   {
    "duration": 125,
    "start_time": "2023-01-18T23:52:23.469Z"
   },
   {
    "duration": 22,
    "start_time": "2023-01-18T23:52:23.596Z"
   },
   {
    "duration": 50,
    "start_time": "2023-01-18T23:52:23.620Z"
   },
   {
    "duration": 104,
    "start_time": "2023-01-18T23:52:23.672Z"
   },
   {
    "duration": 186,
    "start_time": "2023-01-18T23:52:23.777Z"
   },
   {
    "duration": 82,
    "start_time": "2023-01-18T23:52:23.965Z"
   },
   {
    "duration": 102,
    "start_time": "2023-01-18T23:52:24.049Z"
   },
   {
    "duration": 104,
    "start_time": "2023-01-18T23:52:24.154Z"
   },
   {
    "duration": 92,
    "start_time": "2023-01-18T23:52:24.260Z"
   },
   {
    "duration": 106,
    "start_time": "2023-01-18T23:52:24.353Z"
   },
   {
    "duration": 137,
    "start_time": "2023-01-18T23:52:24.461Z"
   },
   {
    "duration": 1395,
    "start_time": "2023-01-18T23:52:24.600Z"
   },
   {
    "duration": 33,
    "start_time": "2023-01-18T23:52:25.998Z"
   },
   {
    "duration": 96,
    "start_time": "2023-01-18T23:52:26.033Z"
   },
   {
    "duration": 301,
    "start_time": "2023-01-18T23:52:26.130Z"
   },
   {
    "duration": 72,
    "start_time": "2023-01-18T23:52:26.433Z"
   },
   {
    "duration": 272,
    "start_time": "2023-01-18T23:52:26.507Z"
   },
   {
    "duration": 37,
    "start_time": "2023-01-18T23:52:26.781Z"
   },
   {
    "duration": 179,
    "start_time": "2023-01-18T23:52:26.819Z"
   },
   {
    "duration": 8,
    "start_time": "2023-01-18T23:52:26.999Z"
   },
   {
    "duration": 26,
    "start_time": "2023-01-18T23:52:27.008Z"
   },
   {
    "duration": 39,
    "start_time": "2023-01-18T23:52:27.036Z"
   },
   {
    "duration": 47,
    "start_time": "2023-01-18T23:52:27.077Z"
   },
   {
    "duration": 23,
    "start_time": "2023-01-18T23:52:27.125Z"
   },
   {
    "duration": 43,
    "start_time": "2023-01-18T23:52:27.150Z"
   },
   {
    "duration": 8,
    "start_time": "2023-01-18T23:52:27.195Z"
   },
   {
    "duration": 4,
    "start_time": "2023-01-18T23:52:27.205Z"
   },
   {
    "duration": 4389,
    "start_time": "2023-01-18T23:52:27.211Z"
   },
   {
    "duration": 39,
    "start_time": "2023-01-18T23:52:31.602Z"
   },
   {
    "duration": 79,
    "start_time": "2023-01-18T23:52:31.642Z"
   },
   {
    "duration": 283,
    "start_time": "2023-01-18T23:52:31.723Z"
   },
   {
    "duration": 285,
    "start_time": "2023-01-18T23:52:32.008Z"
   },
   {
    "duration": 22,
    "start_time": "2023-01-18T23:52:32.295Z"
   },
   {
    "duration": 20,
    "start_time": "2023-01-18T23:52:32.319Z"
   },
   {
    "duration": 169,
    "start_time": "2023-01-18T23:52:32.344Z"
   },
   {
    "duration": 9,
    "start_time": "2023-01-18T23:52:32.514Z"
   },
   {
    "duration": 4370,
    "start_time": "2023-01-18T23:52:32.524Z"
   },
   {
    "duration": 68,
    "start_time": "2023-01-18T23:52:36.897Z"
   },
   {
    "duration": 113,
    "start_time": "2023-01-18T23:52:36.967Z"
   },
   {
    "duration": 32,
    "start_time": "2023-01-18T23:52:37.082Z"
   },
   {
    "duration": 18,
    "start_time": "2023-01-18T23:52:37.116Z"
   },
   {
    "duration": 6,
    "start_time": "2023-01-18T23:52:37.136Z"
   },
   {
    "duration": 11,
    "start_time": "2023-01-18T23:52:37.144Z"
   },
   {
    "duration": 101,
    "start_time": "2023-01-18T23:52:37.157Z"
   },
   {
    "duration": 372,
    "start_time": "2023-01-18T23:52:37.259Z"
   },
   {
    "duration": 113,
    "start_time": "2023-01-18T23:52:37.633Z"
   },
   {
    "duration": 3,
    "start_time": "2023-01-18T23:52:37.748Z"
   },
   {
    "duration": 18,
    "start_time": "2023-01-18T23:52:37.752Z"
   },
   {
    "duration": 9,
    "start_time": "2023-01-18T23:52:37.772Z"
   },
   {
    "duration": 3265693,
    "start_time": "2023-01-18T23:52:37.783Z"
   },
   {
    "duration": 1356,
    "start_time": "2023-01-19T00:47:03.478Z"
   },
   {
    "duration": 210,
    "start_time": "2023-01-19T00:47:04.836Z"
   },
   {
    "duration": 3,
    "start_time": "2023-01-19T00:47:05.048Z"
   },
   {
    "duration": 10,
    "start_time": "2023-01-19T00:47:05.053Z"
   },
   {
    "duration": 5,
    "start_time": "2023-01-19T00:47:05.065Z"
   },
   {
    "duration": 2026625,
    "start_time": "2023-01-19T00:47:05.072Z"
   },
   {
    "duration": 1326,
    "start_time": "2023-01-19T01:20:51.699Z"
   },
   {
    "duration": 121,
    "start_time": "2023-01-19T01:20:53.027Z"
   },
   {
    "duration": 478,
    "start_time": "2023-01-19T01:20:53.150Z"
   },
   {
    "duration": 4,
    "start_time": "2023-01-19T01:20:53.693Z"
   },
   {
    "duration": 196,
    "start_time": "2023-01-19T01:20:53.699Z"
   },
   {
    "duration": 95,
    "start_time": "2023-01-19T01:20:53.896Z"
   }
  ],
  "kernelspec": {
   "display_name": "Python 3 (ipykernel)",
   "language": "python",
   "name": "python3"
  },
  "language_info": {
   "codemirror_mode": {
    "name": "ipython",
    "version": 3
   },
   "file_extension": ".py",
   "mimetype": "text/x-python",
   "name": "python",
   "nbconvert_exporter": "python",
   "pygments_lexer": "ipython3",
   "version": "3.9.5"
  },
  "toc": {
   "base_numbering": 1,
   "nav_menu": {},
   "number_sections": true,
   "sideBar": true,
   "skip_h1_title": true,
   "title_cell": "Table of Contents",
   "title_sidebar": "Contents",
   "toc_cell": false,
   "toc_position": {
    "height": "calc(100% - 180px)",
    "left": "10px",
    "top": "150px",
    "width": "230px"
   },
   "toc_section_display": true,
   "toc_window_display": true
  }
 },
 "nbformat": 4,
 "nbformat_minor": 2
}
