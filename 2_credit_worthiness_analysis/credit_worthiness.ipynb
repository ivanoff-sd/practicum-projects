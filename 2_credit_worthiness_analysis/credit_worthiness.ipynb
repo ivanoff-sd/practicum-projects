{
 "cells": [
  {
   "cell_type": "markdown",
   "id": "94cb4924",
   "metadata": {
    "toc": true
   },
   "source": [
    "<h1>Table of Contents<span class=\"tocSkip\"></span></h1>\n",
    "<div class=\"toc\"><ul class=\"toc-item\"><li><span><a href=\"#Откройте-таблицу-и-изучите-общую-информацию-о-данных\" data-toc-modified-id=\"Откройте-таблицу-и-изучите-общую-информацию-о-данных-1\"><span class=\"toc-item-num\">1&nbsp;&nbsp;</span>Откройте таблицу и изучите общую информацию о данных</a></span></li><li><span><a href=\"#Предобработка-данных\" data-toc-modified-id=\"Предобработка-данных-2\"><span class=\"toc-item-num\">2&nbsp;&nbsp;</span>Предобработка данных</a></span><ul class=\"toc-item\"><li><span><a href=\"#Удаление-пропусков\" data-toc-modified-id=\"Удаление-пропусков-2.1\"><span class=\"toc-item-num\">2.1&nbsp;&nbsp;</span>Удаление пропусков</a></span></li><li><span><a href=\"#Обработка-аномальных-значений\" data-toc-modified-id=\"Обработка-аномальных-значений-2.2\"><span class=\"toc-item-num\">2.2&nbsp;&nbsp;</span>Обработка аномальных значений</a></span></li><li><span><a href=\"#Удаление-пропусков-(продолжение)\" data-toc-modified-id=\"Удаление-пропусков-(продолжение)-2.3\"><span class=\"toc-item-num\">2.3&nbsp;&nbsp;</span>Удаление пропусков (продолжение)</a></span></li><li><span><a href=\"#Изменение-типов-данных\" data-toc-modified-id=\"Изменение-типов-данных-2.4\"><span class=\"toc-item-num\">2.4&nbsp;&nbsp;</span>Изменение типов данных</a></span></li><li><span><a href=\"#Обработка-дубликатов\" data-toc-modified-id=\"Обработка-дубликатов-2.5\"><span class=\"toc-item-num\">2.5&nbsp;&nbsp;</span>Обработка дубликатов</a></span></li><li><span><a href=\"#Категоризация-данных\" data-toc-modified-id=\"Категоризация-данных-2.6\"><span class=\"toc-item-num\">2.6&nbsp;&nbsp;</span>Категоризация данных</a></span></li><li><span><a href=\"#Шаг-3.-Исследуйте-данные-и-ответьте-на-вопросы\" data-toc-modified-id=\"Шаг-3.-Исследуйте-данные-и-ответьте-на-вопросы-2.7\"><span class=\"toc-item-num\">2.7&nbsp;&nbsp;</span>Шаг 3. Исследуйте данные и ответьте на вопросы</a></span><ul class=\"toc-item\"><li><span><a href=\"#3.1-Есть-ли-зависимость-между-количеством-детей-и-возвратом-кредита-в-срок?\" data-toc-modified-id=\"3.1-Есть-ли-зависимость-между-количеством-детей-и-возвратом-кредита-в-срок?-2.7.1\"><span class=\"toc-item-num\">2.7.1&nbsp;&nbsp;</span>3.1 Есть ли зависимость между количеством детей и возвратом кредита в срок?</a></span></li><li><span><a href=\"#3.2-Есть-ли-зависимость-между-семейным-положением-и-возвратом-кредита-в-срок?\" data-toc-modified-id=\"3.2-Есть-ли-зависимость-между-семейным-положением-и-возвратом-кредита-в-срок?-2.7.2\"><span class=\"toc-item-num\">2.7.2&nbsp;&nbsp;</span>3.2 Есть ли зависимость между семейным положением и возвратом кредита в срок?</a></span></li><li><span><a href=\"#3.3-Есть-ли-зависимость-между-уровнем-дохода-и-возвратом-кредита-в-срок?\" data-toc-modified-id=\"3.3-Есть-ли-зависимость-между-уровнем-дохода-и-возвратом-кредита-в-срок?-2.7.3\"><span class=\"toc-item-num\">2.7.3&nbsp;&nbsp;</span>3.3 Есть ли зависимость между уровнем дохода и возвратом кредита в срок?</a></span></li><li><span><a href=\"#3.4-Как-разные-цели-кредита-влияют-на-его-возврат-в-срок?\" data-toc-modified-id=\"3.4-Как-разные-цели-кредита-влияют-на-его-возврат-в-срок?-2.7.4\"><span class=\"toc-item-num\">2.7.4&nbsp;&nbsp;</span>3.4 Как разные цели кредита влияют на его возврат в срок?</a></span></li><li><span><a href=\"#3.5-Приведите-возможные-причины-появления-пропусков-в-исходных-данных.\" data-toc-modified-id=\"3.5-Приведите-возможные-причины-появления-пропусков-в-исходных-данных.-2.7.5\"><span class=\"toc-item-num\">2.7.5&nbsp;&nbsp;</span>3.5 Приведите возможные причины появления пропусков в исходных данных.</a></span></li><li><span><a href=\"#3.6-Объясните,-почему-заполнить-пропуски-медианным-значением-—-лучшее-решение-для-количественных-переменных.\" data-toc-modified-id=\"3.6-Объясните,-почему-заполнить-пропуски-медианным-значением-—-лучшее-решение-для-количественных-переменных.-2.7.6\"><span class=\"toc-item-num\">2.7.6&nbsp;&nbsp;</span>3.6 Объясните, почему заполнить пропуски медианным значением — лучшее решение для количественных переменных.</a></span></li></ul></li><li><span><a href=\"#Шаг-4:-общий-вывод.\" data-toc-modified-id=\"Шаг-4:-общий-вывод.-2.8\"><span class=\"toc-item-num\">2.8&nbsp;&nbsp;</span>Шаг 4: общий вывод.</a></span><ul class=\"toc-item\"><li><span><a href=\"#Цель-работы:\" data-toc-modified-id=\"Цель-работы:-2.8.1\"><span class=\"toc-item-num\">2.8.1&nbsp;&nbsp;</span>Цель работы:</a></span></li><li><span><a href=\"#Материалы-и-методы\" data-toc-modified-id=\"Материалы-и-методы-2.8.2\"><span class=\"toc-item-num\">2.8.2&nbsp;&nbsp;</span>Материалы и методы</a></span></li><li><span><a href=\"#Ход-исследования\" data-toc-modified-id=\"Ход-исследования-2.8.3\"><span class=\"toc-item-num\">2.8.3&nbsp;&nbsp;</span>Ход исследования</a></span></li><li><span><a href=\"#Результаты-исследования\" data-toc-modified-id=\"Результаты-исследования-2.8.4\"><span class=\"toc-item-num\">2.8.4&nbsp;&nbsp;</span>Результаты исследования</a></span></li><li><span><a href=\"#Вывод\" data-toc-modified-id=\"Вывод-2.8.5\"><span class=\"toc-item-num\">2.8.5&nbsp;&nbsp;</span>Вывод</a></span></li></ul></li></ul></li></ul></div>"
   ]
  },
  {
   "cell_type": "markdown",
   "id": "35cfb632",
   "metadata": {
    "deletable": false,
    "editable": false,
    "id": "c81daeeb"
   },
   "source": [
    "# Исследование надежности заемщиков\n"
   ]
  },
  {
   "cell_type": "markdown",
   "id": "8a8696aa",
   "metadata": {},
   "source": [
    "<div style=\"border:solid blue 2px; padding: 20px\">\n",
    "Привет! Меня зовут Андрей Петрушин, я буду проверять твой проект. Предлагаю общаться на «ты», это упрощает коммуникацию :) Но если это некомфортно - можем перейти на “Вы”.\n",
    "\n",
    "Вижу, что ты много работал над проектом и он выполнен на хорошем уровне. Моя основная цель при проверке работы — помочь сделать проект лучше и возможно, поделиться своим опытом решения подобных задач.\n",
    "\n",
    "Я буду делать комментарии тремя цветами:\n",
    "\n",
    " <font color=\"green\">✔️ Комментарий ревьювера    \n",
    "зеленый - все отлично, хорошее решение</font>\n",
    "    \n",
    "<font color=\"brown\">⚠️ Комментарий ревьювера    \n",
    "коричневый - есть рекомендации, в другой раз можно сделать иначе   </font>  \n",
    "    \n",
    "<font color=\"red\">❌ Комментарий ревьювера     \n",
    "красный - есть недочеты, их нужно исправить и проект будет принят</font>  \n",
    "    \n",
    "Пожалуйста, не удаляй мои комментарии, нам обоим будет проще разобраться в недочетах, что и как исправлено. Свои комментарии тоже отмечай, например другим цветом или надписью “Комментарий студента”. Свой код при исправлении тоже не удаляй, лучше закомментируй.\n",
    "\n",
    "\\<font color='darkblue'> Этот код позволяет менять цвет текста. \\</font>\n",
    "</div>\n"
   ]
  },
  {
   "cell_type": "markdown",
   "id": "8dbf3aa7",
   "metadata": {},
   "source": [
    "\n",
    "<div class=\"alert alert-block alert-info\">\n",
    "    Комментарий студента:\n",
    "    \n",
    "Добрый день, Андрей. Спасибо большое за ревью и рекомендации по улучшению данной работы.\n",
    "Постарался выполнить рекомендации. Переписал код с применением pivot table. \"Устаревший\" код закомментировал, чтоб было, с чем сравнивать. Надеюсь, так лучше =)\n",
    "\n",
    "</div>"
   ]
  },
  {
   "cell_type": "markdown",
   "id": "bb9a79c8",
   "metadata": {},
   "source": [
    "<font color=\"green\">✔️ Комментарий ревьювера 2   \n",
    "Хорошо!</font>\n"
   ]
  },
  {
   "cell_type": "markdown",
   "id": "542cb810",
   "metadata": {
    "deletable": false,
    "editable": false,
    "id": "827c20bf"
   },
   "source": [
    "Во второй части проекта вы выполните шаги 3 и 4. Их вручную проверит ревьюер.\n",
    "Чтобы вам не пришлось писать код заново для шагов 1 и 2, мы добавили авторские решения в ячейки с кодом. \n",
    "\n"
   ]
  },
  {
   "cell_type": "markdown",
   "id": "8f0d8bc8",
   "metadata": {},
   "source": [
    "<font color=\"brown\">⚠️ Комментарий ревьювера    \n",
    "Первая часть проекта была проверена автоматически, но все-таки дам тебе несколько советов. Сейчас их можешь просто прочесть, но в дальнейшем их соблюдение весьма желательно :).   \n",
    "\n",
    "Описание задачи и данных - очень важная часть любого проекта. С них нужно обязательно начинать проект. Это поможет и тебе лучше разобраться в задании и будущему заказчику понять, что сделано. Можно просто скопировать сюда текст из описания проекта, написать план работ или перечень вопросов задания.   \n",
    "\n",
    "Библиотеки лучше импортировать отдельно в первой ячейке. Это позволит тебе в любой момент добавить ещё одну библиотеку без перезаписи переменных и повторной загрузки данных.         \n",
    "\n",
    "Также, хорошая практика - собирать все библиотеки в одном блоке в начале проекта.\n",
    "\n",
    "После выполнения очередного этапа желательно написать вывод - что сделано и какие результаты.    \n",
    "\n",
    "Подробнее  можно посмотреть в методичке по оформлению проектов: Полезные инструкции для учёбы - Оформление проекта - Рекомендации по выполнению проектов</font>\n"
   ]
  },
  {
   "cell_type": "markdown",
   "id": "a04ff022",
   "metadata": {
    "deletable": false,
    "editable": false,
    "id": "744d7639"
   },
   "source": [
    "## Откройте таблицу и изучите общую информацию о данных"
   ]
  },
  {
   "cell_type": "markdown",
   "id": "7d306ef4",
   "metadata": {
    "deletable": false,
    "editable": false,
    "id": "e7a14c31"
   },
   "source": [
    "**Задание 1. Импортируйте библиотеку pandas. Считайте данные из csv-файла в датафрейм и сохраните в переменную `data`. Путь к файлу:**\n",
    "\n",
    "`/datasets/data.csv`"
   ]
  },
  {
   "cell_type": "code",
   "execution_count": 1,
   "id": "f6adc0b3",
   "metadata": {
    "deletable": false,
    "id": "7bcf75c9"
   },
   "outputs": [],
   "source": [
    "import pandas as pd\n",
    "\n",
    "try:\n",
    "    data = pd.read_csv('/datasets/data.csv')\n",
    "except:\n",
    "    data = pd.read_csv('https://code.s3.yandex.net/datasets/data.csv')"
   ]
  },
  {
   "cell_type": "markdown",
   "id": "146149e0",
   "metadata": {
    "deletable": false,
    "editable": false,
    "id": "b8038fe3"
   },
   "source": [
    "**Задание 2. Выведите первые 20 строчек датафрейма `data` на экран.**"
   ]
  },
  {
   "cell_type": "code",
   "execution_count": 2,
   "id": "05ebdd46",
   "metadata": {
    "deletable": false,
    "id": "2a7cab99",
    "outputId": "1a8f3ef2-d323-4ec2-ddf7-89670b5944c4"
   },
   "outputs": [
    {
     "data": {
      "text/html": [
       "<div>\n",
       "<style scoped>\n",
       "    .dataframe tbody tr th:only-of-type {\n",
       "        vertical-align: middle;\n",
       "    }\n",
       "\n",
       "    .dataframe tbody tr th {\n",
       "        vertical-align: top;\n",
       "    }\n",
       "\n",
       "    .dataframe thead th {\n",
       "        text-align: right;\n",
       "    }\n",
       "</style>\n",
       "<table border=\"1\" class=\"dataframe\">\n",
       "  <thead>\n",
       "    <tr style=\"text-align: right;\">\n",
       "      <th></th>\n",
       "      <th>children</th>\n",
       "      <th>days_employed</th>\n",
       "      <th>dob_years</th>\n",
       "      <th>education</th>\n",
       "      <th>education_id</th>\n",
       "      <th>family_status</th>\n",
       "      <th>family_status_id</th>\n",
       "      <th>gender</th>\n",
       "      <th>income_type</th>\n",
       "      <th>debt</th>\n",
       "      <th>total_income</th>\n",
       "      <th>purpose</th>\n",
       "    </tr>\n",
       "  </thead>\n",
       "  <tbody>\n",
       "    <tr>\n",
       "      <th>0</th>\n",
       "      <td>1</td>\n",
       "      <td>-8437.673028</td>\n",
       "      <td>42</td>\n",
       "      <td>высшее</td>\n",
       "      <td>0</td>\n",
       "      <td>женат / замужем</td>\n",
       "      <td>0</td>\n",
       "      <td>F</td>\n",
       "      <td>сотрудник</td>\n",
       "      <td>0</td>\n",
       "      <td>253875.639453</td>\n",
       "      <td>покупка жилья</td>\n",
       "    </tr>\n",
       "    <tr>\n",
       "      <th>1</th>\n",
       "      <td>1</td>\n",
       "      <td>-4024.803754</td>\n",
       "      <td>36</td>\n",
       "      <td>среднее</td>\n",
       "      <td>1</td>\n",
       "      <td>женат / замужем</td>\n",
       "      <td>0</td>\n",
       "      <td>F</td>\n",
       "      <td>сотрудник</td>\n",
       "      <td>0</td>\n",
       "      <td>112080.014102</td>\n",
       "      <td>приобретение автомобиля</td>\n",
       "    </tr>\n",
       "    <tr>\n",
       "      <th>2</th>\n",
       "      <td>0</td>\n",
       "      <td>-5623.422610</td>\n",
       "      <td>33</td>\n",
       "      <td>Среднее</td>\n",
       "      <td>1</td>\n",
       "      <td>женат / замужем</td>\n",
       "      <td>0</td>\n",
       "      <td>M</td>\n",
       "      <td>сотрудник</td>\n",
       "      <td>0</td>\n",
       "      <td>145885.952297</td>\n",
       "      <td>покупка жилья</td>\n",
       "    </tr>\n",
       "    <tr>\n",
       "      <th>3</th>\n",
       "      <td>3</td>\n",
       "      <td>-4124.747207</td>\n",
       "      <td>32</td>\n",
       "      <td>среднее</td>\n",
       "      <td>1</td>\n",
       "      <td>женат / замужем</td>\n",
       "      <td>0</td>\n",
       "      <td>M</td>\n",
       "      <td>сотрудник</td>\n",
       "      <td>0</td>\n",
       "      <td>267628.550329</td>\n",
       "      <td>дополнительное образование</td>\n",
       "    </tr>\n",
       "    <tr>\n",
       "      <th>4</th>\n",
       "      <td>0</td>\n",
       "      <td>340266.072047</td>\n",
       "      <td>53</td>\n",
       "      <td>среднее</td>\n",
       "      <td>1</td>\n",
       "      <td>гражданский брак</td>\n",
       "      <td>1</td>\n",
       "      <td>F</td>\n",
       "      <td>пенсионер</td>\n",
       "      <td>0</td>\n",
       "      <td>158616.077870</td>\n",
       "      <td>сыграть свадьбу</td>\n",
       "    </tr>\n",
       "    <tr>\n",
       "      <th>5</th>\n",
       "      <td>0</td>\n",
       "      <td>-926.185831</td>\n",
       "      <td>27</td>\n",
       "      <td>высшее</td>\n",
       "      <td>0</td>\n",
       "      <td>гражданский брак</td>\n",
       "      <td>1</td>\n",
       "      <td>M</td>\n",
       "      <td>компаньон</td>\n",
       "      <td>0</td>\n",
       "      <td>255763.565419</td>\n",
       "      <td>покупка жилья</td>\n",
       "    </tr>\n",
       "    <tr>\n",
       "      <th>6</th>\n",
       "      <td>0</td>\n",
       "      <td>-2879.202052</td>\n",
       "      <td>43</td>\n",
       "      <td>высшее</td>\n",
       "      <td>0</td>\n",
       "      <td>женат / замужем</td>\n",
       "      <td>0</td>\n",
       "      <td>F</td>\n",
       "      <td>компаньон</td>\n",
       "      <td>0</td>\n",
       "      <td>240525.971920</td>\n",
       "      <td>операции с жильем</td>\n",
       "    </tr>\n",
       "    <tr>\n",
       "      <th>7</th>\n",
       "      <td>0</td>\n",
       "      <td>-152.779569</td>\n",
       "      <td>50</td>\n",
       "      <td>СРЕДНЕЕ</td>\n",
       "      <td>1</td>\n",
       "      <td>женат / замужем</td>\n",
       "      <td>0</td>\n",
       "      <td>M</td>\n",
       "      <td>сотрудник</td>\n",
       "      <td>0</td>\n",
       "      <td>135823.934197</td>\n",
       "      <td>образование</td>\n",
       "    </tr>\n",
       "    <tr>\n",
       "      <th>8</th>\n",
       "      <td>2</td>\n",
       "      <td>-6929.865299</td>\n",
       "      <td>35</td>\n",
       "      <td>ВЫСШЕЕ</td>\n",
       "      <td>0</td>\n",
       "      <td>гражданский брак</td>\n",
       "      <td>1</td>\n",
       "      <td>F</td>\n",
       "      <td>сотрудник</td>\n",
       "      <td>0</td>\n",
       "      <td>95856.832424</td>\n",
       "      <td>на проведение свадьбы</td>\n",
       "    </tr>\n",
       "    <tr>\n",
       "      <th>9</th>\n",
       "      <td>0</td>\n",
       "      <td>-2188.756445</td>\n",
       "      <td>41</td>\n",
       "      <td>среднее</td>\n",
       "      <td>1</td>\n",
       "      <td>женат / замужем</td>\n",
       "      <td>0</td>\n",
       "      <td>M</td>\n",
       "      <td>сотрудник</td>\n",
       "      <td>0</td>\n",
       "      <td>144425.938277</td>\n",
       "      <td>покупка жилья для семьи</td>\n",
       "    </tr>\n",
       "    <tr>\n",
       "      <th>10</th>\n",
       "      <td>2</td>\n",
       "      <td>-4171.483647</td>\n",
       "      <td>36</td>\n",
       "      <td>высшее</td>\n",
       "      <td>0</td>\n",
       "      <td>женат / замужем</td>\n",
       "      <td>0</td>\n",
       "      <td>M</td>\n",
       "      <td>компаньон</td>\n",
       "      <td>0</td>\n",
       "      <td>113943.491460</td>\n",
       "      <td>покупка недвижимости</td>\n",
       "    </tr>\n",
       "    <tr>\n",
       "      <th>11</th>\n",
       "      <td>0</td>\n",
       "      <td>-792.701887</td>\n",
       "      <td>40</td>\n",
       "      <td>среднее</td>\n",
       "      <td>1</td>\n",
       "      <td>женат / замужем</td>\n",
       "      <td>0</td>\n",
       "      <td>F</td>\n",
       "      <td>сотрудник</td>\n",
       "      <td>0</td>\n",
       "      <td>77069.234271</td>\n",
       "      <td>покупка коммерческой недвижимости</td>\n",
       "    </tr>\n",
       "    <tr>\n",
       "      <th>12</th>\n",
       "      <td>0</td>\n",
       "      <td>NaN</td>\n",
       "      <td>65</td>\n",
       "      <td>среднее</td>\n",
       "      <td>1</td>\n",
       "      <td>гражданский брак</td>\n",
       "      <td>1</td>\n",
       "      <td>M</td>\n",
       "      <td>пенсионер</td>\n",
       "      <td>0</td>\n",
       "      <td>NaN</td>\n",
       "      <td>сыграть свадьбу</td>\n",
       "    </tr>\n",
       "    <tr>\n",
       "      <th>13</th>\n",
       "      <td>0</td>\n",
       "      <td>-1846.641941</td>\n",
       "      <td>54</td>\n",
       "      <td>неоконченное высшее</td>\n",
       "      <td>2</td>\n",
       "      <td>женат / замужем</td>\n",
       "      <td>0</td>\n",
       "      <td>F</td>\n",
       "      <td>сотрудник</td>\n",
       "      <td>0</td>\n",
       "      <td>130458.228857</td>\n",
       "      <td>приобретение автомобиля</td>\n",
       "    </tr>\n",
       "    <tr>\n",
       "      <th>14</th>\n",
       "      <td>0</td>\n",
       "      <td>-1844.956182</td>\n",
       "      <td>56</td>\n",
       "      <td>высшее</td>\n",
       "      <td>0</td>\n",
       "      <td>гражданский брак</td>\n",
       "      <td>1</td>\n",
       "      <td>F</td>\n",
       "      <td>компаньон</td>\n",
       "      <td>1</td>\n",
       "      <td>165127.911772</td>\n",
       "      <td>покупка жилой недвижимости</td>\n",
       "    </tr>\n",
       "    <tr>\n",
       "      <th>15</th>\n",
       "      <td>1</td>\n",
       "      <td>-972.364419</td>\n",
       "      <td>26</td>\n",
       "      <td>среднее</td>\n",
       "      <td>1</td>\n",
       "      <td>женат / замужем</td>\n",
       "      <td>0</td>\n",
       "      <td>F</td>\n",
       "      <td>сотрудник</td>\n",
       "      <td>0</td>\n",
       "      <td>116820.904450</td>\n",
       "      <td>строительство собственной недвижимости</td>\n",
       "    </tr>\n",
       "    <tr>\n",
       "      <th>16</th>\n",
       "      <td>0</td>\n",
       "      <td>-1719.934226</td>\n",
       "      <td>35</td>\n",
       "      <td>среднее</td>\n",
       "      <td>1</td>\n",
       "      <td>женат / замужем</td>\n",
       "      <td>0</td>\n",
       "      <td>F</td>\n",
       "      <td>сотрудник</td>\n",
       "      <td>0</td>\n",
       "      <td>289202.704229</td>\n",
       "      <td>недвижимость</td>\n",
       "    </tr>\n",
       "    <tr>\n",
       "      <th>17</th>\n",
       "      <td>0</td>\n",
       "      <td>-2369.999720</td>\n",
       "      <td>33</td>\n",
       "      <td>высшее</td>\n",
       "      <td>0</td>\n",
       "      <td>гражданский брак</td>\n",
       "      <td>1</td>\n",
       "      <td>M</td>\n",
       "      <td>сотрудник</td>\n",
       "      <td>0</td>\n",
       "      <td>90410.586745</td>\n",
       "      <td>строительство недвижимости</td>\n",
       "    </tr>\n",
       "    <tr>\n",
       "      <th>18</th>\n",
       "      <td>0</td>\n",
       "      <td>400281.136913</td>\n",
       "      <td>53</td>\n",
       "      <td>среднее</td>\n",
       "      <td>1</td>\n",
       "      <td>вдовец / вдова</td>\n",
       "      <td>2</td>\n",
       "      <td>F</td>\n",
       "      <td>пенсионер</td>\n",
       "      <td>0</td>\n",
       "      <td>56823.777243</td>\n",
       "      <td>на покупку подержанного автомобиля</td>\n",
       "    </tr>\n",
       "    <tr>\n",
       "      <th>19</th>\n",
       "      <td>0</td>\n",
       "      <td>-10038.818549</td>\n",
       "      <td>48</td>\n",
       "      <td>СРЕДНЕЕ</td>\n",
       "      <td>1</td>\n",
       "      <td>в разводе</td>\n",
       "      <td>3</td>\n",
       "      <td>F</td>\n",
       "      <td>сотрудник</td>\n",
       "      <td>0</td>\n",
       "      <td>242831.107982</td>\n",
       "      <td>на покупку своего автомобиля</td>\n",
       "    </tr>\n",
       "  </tbody>\n",
       "</table>\n",
       "</div>"
      ],
      "text/plain": [
       "    children  days_employed  dob_years            education  education_id  \\\n",
       "0          1   -8437.673028         42               высшее             0   \n",
       "1          1   -4024.803754         36              среднее             1   \n",
       "2          0   -5623.422610         33              Среднее             1   \n",
       "3          3   -4124.747207         32              среднее             1   \n",
       "4          0  340266.072047         53              среднее             1   \n",
       "5          0    -926.185831         27               высшее             0   \n",
       "6          0   -2879.202052         43               высшее             0   \n",
       "7          0    -152.779569         50              СРЕДНЕЕ             1   \n",
       "8          2   -6929.865299         35               ВЫСШЕЕ             0   \n",
       "9          0   -2188.756445         41              среднее             1   \n",
       "10         2   -4171.483647         36               высшее             0   \n",
       "11         0    -792.701887         40              среднее             1   \n",
       "12         0            NaN         65              среднее             1   \n",
       "13         0   -1846.641941         54  неоконченное высшее             2   \n",
       "14         0   -1844.956182         56               высшее             0   \n",
       "15         1    -972.364419         26              среднее             1   \n",
       "16         0   -1719.934226         35              среднее             1   \n",
       "17         0   -2369.999720         33               высшее             0   \n",
       "18         0  400281.136913         53              среднее             1   \n",
       "19         0  -10038.818549         48              СРЕДНЕЕ             1   \n",
       "\n",
       "       family_status  family_status_id gender income_type  debt  \\\n",
       "0    женат / замужем                 0      F   сотрудник     0   \n",
       "1    женат / замужем                 0      F   сотрудник     0   \n",
       "2    женат / замужем                 0      M   сотрудник     0   \n",
       "3    женат / замужем                 0      M   сотрудник     0   \n",
       "4   гражданский брак                 1      F   пенсионер     0   \n",
       "5   гражданский брак                 1      M   компаньон     0   \n",
       "6    женат / замужем                 0      F   компаньон     0   \n",
       "7    женат / замужем                 0      M   сотрудник     0   \n",
       "8   гражданский брак                 1      F   сотрудник     0   \n",
       "9    женат / замужем                 0      M   сотрудник     0   \n",
       "10   женат / замужем                 0      M   компаньон     0   \n",
       "11   женат / замужем                 0      F   сотрудник     0   \n",
       "12  гражданский брак                 1      M   пенсионер     0   \n",
       "13   женат / замужем                 0      F   сотрудник     0   \n",
       "14  гражданский брак                 1      F   компаньон     1   \n",
       "15   женат / замужем                 0      F   сотрудник     0   \n",
       "16   женат / замужем                 0      F   сотрудник     0   \n",
       "17  гражданский брак                 1      M   сотрудник     0   \n",
       "18    вдовец / вдова                 2      F   пенсионер     0   \n",
       "19         в разводе                 3      F   сотрудник     0   \n",
       "\n",
       "     total_income                                 purpose  \n",
       "0   253875.639453                           покупка жилья  \n",
       "1   112080.014102                 приобретение автомобиля  \n",
       "2   145885.952297                           покупка жилья  \n",
       "3   267628.550329              дополнительное образование  \n",
       "4   158616.077870                         сыграть свадьбу  \n",
       "5   255763.565419                           покупка жилья  \n",
       "6   240525.971920                       операции с жильем  \n",
       "7   135823.934197                             образование  \n",
       "8    95856.832424                   на проведение свадьбы  \n",
       "9   144425.938277                 покупка жилья для семьи  \n",
       "10  113943.491460                    покупка недвижимости  \n",
       "11   77069.234271       покупка коммерческой недвижимости  \n",
       "12            NaN                         сыграть свадьбу  \n",
       "13  130458.228857                 приобретение автомобиля  \n",
       "14  165127.911772              покупка жилой недвижимости  \n",
       "15  116820.904450  строительство собственной недвижимости  \n",
       "16  289202.704229                            недвижимость  \n",
       "17   90410.586745              строительство недвижимости  \n",
       "18   56823.777243      на покупку подержанного автомобиля  \n",
       "19  242831.107982            на покупку своего автомобиля  "
      ]
     },
     "execution_count": 2,
     "metadata": {},
     "output_type": "execute_result"
    }
   ],
   "source": [
    "data.head(20)"
   ]
  },
  {
   "cell_type": "markdown",
   "id": "1c7c91b3",
   "metadata": {
    "deletable": false,
    "editable": false,
    "id": "1c12e233"
   },
   "source": [
    "**Задание 3. Выведите основную информацию о датафрейме с помощью метода `info()`.**"
   ]
  },
  {
   "cell_type": "code",
   "execution_count": 3,
   "id": "5547d0b2",
   "metadata": {
    "deletable": false,
    "id": "2b757bca",
    "outputId": "15376089-8dad-46c9-b520-c05248d43158"
   },
   "outputs": [
    {
     "name": "stdout",
     "output_type": "stream",
     "text": [
      "<class 'pandas.core.frame.DataFrame'>\n",
      "RangeIndex: 21525 entries, 0 to 21524\n",
      "Data columns (total 12 columns):\n",
      " #   Column            Non-Null Count  Dtype  \n",
      "---  ------            --------------  -----  \n",
      " 0   children          21525 non-null  int64  \n",
      " 1   days_employed     19351 non-null  float64\n",
      " 2   dob_years         21525 non-null  int64  \n",
      " 3   education         21525 non-null  object \n",
      " 4   education_id      21525 non-null  int64  \n",
      " 5   family_status     21525 non-null  object \n",
      " 6   family_status_id  21525 non-null  int64  \n",
      " 7   gender            21525 non-null  object \n",
      " 8   income_type       21525 non-null  object \n",
      " 9   debt              21525 non-null  int64  \n",
      " 10  total_income      19351 non-null  float64\n",
      " 11  purpose           21525 non-null  object \n",
      "dtypes: float64(2), int64(5), object(5)\n",
      "memory usage: 2.0+ MB\n"
     ]
    }
   ],
   "source": [
    "data.info()"
   ]
  },
  {
   "cell_type": "markdown",
   "id": "4f0cffd1",
   "metadata": {
    "deletable": false,
    "editable": false,
    "id": "333ec665"
   },
   "source": [
    "## Предобработка данных"
   ]
  },
  {
   "cell_type": "markdown",
   "id": "0fcaed0c",
   "metadata": {
    "deletable": false,
    "editable": false,
    "id": "02d92d53"
   },
   "source": [
    "### Удаление пропусков"
   ]
  },
  {
   "cell_type": "markdown",
   "id": "5caf6894",
   "metadata": {
    "deletable": false,
    "editable": false,
    "id": "cd84967c"
   },
   "source": [
    "**Задание 4. Выведите количество пропущенных значений для каждого столбца. Используйте комбинацию двух методов.**"
   ]
  },
  {
   "cell_type": "code",
   "execution_count": 4,
   "id": "5824f294",
   "metadata": {
    "deletable": false,
    "id": "7f9b2309",
    "outputId": "81f4d817-781c-465c-ed15-91ce4446810d"
   },
   "outputs": [
    {
     "data": {
      "text/plain": [
       "children               0\n",
       "days_employed       2174\n",
       "dob_years              0\n",
       "education              0\n",
       "education_id           0\n",
       "family_status          0\n",
       "family_status_id       0\n",
       "gender                 0\n",
       "income_type            0\n",
       "debt                   0\n",
       "total_income        2174\n",
       "purpose                0\n",
       "dtype: int64"
      ]
     },
     "execution_count": 4,
     "metadata": {},
     "output_type": "execute_result"
    }
   ],
   "source": [
    "data.isna().sum()"
   ]
  },
  {
   "cell_type": "markdown",
   "id": "40cb9aa8",
   "metadata": {
    "deletable": false,
    "editable": false,
    "id": "db86e27b"
   },
   "source": [
    "**Задание 5. В двух столбцах есть пропущенные значения. Один из них — `days_employed`. Пропуски в этом столбце вы обработаете на следующем этапе. Другой столбец с пропущенными значениями — `total_income` — хранит данные о доходах. На сумму дохода сильнее всего влияет тип занятости, поэтому заполнить пропуски в этом столбце нужно медианным значением по каждому типу из столбца `income_type`. Например, у человека с типом занятости `сотрудник` пропуск в столбце `total_income` должен быть заполнен медианным доходом среди всех записей с тем же типом.**"
   ]
  },
  {
   "cell_type": "code",
   "execution_count": 5,
   "id": "0c738d70",
   "metadata": {
    "deletable": false,
    "id": "42006a93"
   },
   "outputs": [],
   "source": [
    "for t in data['income_type'].unique():\n",
    "    data.loc[(data['income_type'] == t) & (data['total_income'].isna()), 'total_income'] = \\\n",
    "    data.loc[(data['income_type'] == t), 'total_income'].median()"
   ]
  },
  {
   "cell_type": "markdown",
   "id": "dde36c16",
   "metadata": {
    "deletable": false,
    "editable": false,
    "id": "89da5ece"
   },
   "source": [
    "### Обработка аномальных значений"
   ]
  },
  {
   "cell_type": "markdown",
   "id": "f401c701",
   "metadata": {
    "deletable": false,
    "editable": false,
    "id": "57964554"
   },
   "source": [
    "**Задание 6. В данных могут встречаться артефакты (аномалии) — значения, которые не отражают действительность и появились по какой-то ошибке. таким артефактом будет отрицательное количество дней трудового стажа в столбце `days_employed`. Для реальных данных это нормально. Обработайте значения в этом столбце: замените все отрицательные значения положительными с помощью метода `abs()`.**"
   ]
  },
  {
   "cell_type": "code",
   "execution_count": 6,
   "id": "9cc7fec5",
   "metadata": {
    "deletable": false,
    "id": "f6f055bf"
   },
   "outputs": [],
   "source": [
    "data['days_employed'] = data['days_employed'].abs()"
   ]
  },
  {
   "cell_type": "markdown",
   "id": "90aaac09",
   "metadata": {
    "deletable": false,
    "editable": false,
    "id": "6107dd2f"
   },
   "source": [
    "**Задание 7. Для каждого типа занятости выведите медианное значение трудового стажа `days_employed` в днях.**"
   ]
  },
  {
   "cell_type": "code",
   "execution_count": 7,
   "id": "99adede9",
   "metadata": {
    "deletable": false,
    "id": "85a5faf6",
    "outputId": "801ef80e-522b-4668-f34e-565af7432bcf"
   },
   "outputs": [
    {
     "data": {
      "text/plain": [
       "income_type\n",
       "безработный        366413.652744\n",
       "в декрете            3296.759962\n",
       "госслужащий          2689.368353\n",
       "компаньон            1547.382223\n",
       "пенсионер          365213.306266\n",
       "предприниматель       520.848083\n",
       "сотрудник            1574.202821\n",
       "студент               578.751554\n",
       "Name: days_employed, dtype: float64"
      ]
     },
     "execution_count": 7,
     "metadata": {},
     "output_type": "execute_result"
    }
   ],
   "source": [
    "data.groupby('income_type')['days_employed'].agg('median')"
   ]
  },
  {
   "cell_type": "markdown",
   "id": "aad9a235",
   "metadata": {
    "deletable": false,
    "editable": false,
    "id": "38d1a030"
   },
   "source": [
    "У двух типов (безработные и пенсионеры) получатся аномально большие значения. Исправить такие значения сложно, поэтому оставьте их как есть. Тем более этот столбец не понадобится вам для исследования."
   ]
  },
  {
   "cell_type": "markdown",
   "id": "08bef8a4",
   "metadata": {
    "deletable": false,
    "editable": false,
    "id": "d8a9f147"
   },
   "source": [
    "**Задание 8. Выведите перечень уникальных значений столбца `children`.**"
   ]
  },
  {
   "cell_type": "code",
   "execution_count": 8,
   "id": "d2d5ac68",
   "metadata": {
    "deletable": false,
    "id": "ef5056eb",
    "outputId": "6975b15c-7f95-4697-d16d-a0c79b657b03"
   },
   "outputs": [
    {
     "data": {
      "text/plain": [
       "array([ 1,  0,  3,  2, -1,  4, 20,  5])"
      ]
     },
     "execution_count": 8,
     "metadata": {},
     "output_type": "execute_result"
    }
   ],
   "source": [
    "data['children'].unique()"
   ]
  },
  {
   "cell_type": "markdown",
   "id": "b7d91ddb",
   "metadata": {
    "deletable": false,
    "editable": false,
    "id": "40b9ebf2"
   },
   "source": [
    "**Задание 9. В столбце `children` есть два аномальных значения. Удалите строки, в которых встречаются такие аномальные значения из датафрейма `data`.**"
   ]
  },
  {
   "cell_type": "code",
   "execution_count": 9,
   "id": "19218eb3",
   "metadata": {
    "deletable": false,
    "id": "3ff9801d"
   },
   "outputs": [],
   "source": [
    "data = data[(data['children'] != -1) & (data['children'] != 20)]"
   ]
  },
  {
   "cell_type": "markdown",
   "id": "62df8e59",
   "metadata": {
    "deletable": false,
    "editable": false,
    "id": "bbc4d0ce"
   },
   "source": [
    "**Задание 10. Ещё раз выведите перечень уникальных значений столбца `children`, чтобы убедиться, что артефакты удалены.**"
   ]
  },
  {
   "cell_type": "code",
   "execution_count": 10,
   "id": "7c1876d5",
   "metadata": {
    "deletable": false,
    "id": "ad4fa8b7",
    "outputId": "b2097101-d49d-44d9-901b-32a65c9463d1"
   },
   "outputs": [
    {
     "data": {
      "text/plain": [
       "array([1, 0, 3, 2, 4, 5])"
      ]
     },
     "execution_count": 10,
     "metadata": {},
     "output_type": "execute_result"
    }
   ],
   "source": [
    "data['children'].unique()"
   ]
  },
  {
   "cell_type": "markdown",
   "id": "c87b3e37",
   "metadata": {
    "deletable": false,
    "editable": false,
    "id": "75440b63"
   },
   "source": [
    "### Удаление пропусков (продолжение)"
   ]
  },
  {
   "cell_type": "markdown",
   "id": "d7ca4f3a",
   "metadata": {
    "deletable": false,
    "editable": false,
    "id": "f4ea573f"
   },
   "source": [
    "**Задание 11. Заполните пропуски в столбце `days_employed` медианными значениями по каждого типа занятости `income_type`.**"
   ]
  },
  {
   "cell_type": "code",
   "execution_count": 11,
   "id": "f57c92a7",
   "metadata": {
    "deletable": false,
    "id": "af6b1a7e"
   },
   "outputs": [],
   "source": [
    "for t in data['income_type'].unique():\n",
    "    data.loc[(data['income_type'] == t) & (data['days_employed'].isna()), 'days_employed'] = \\\n",
    "    data.loc[(data['income_type'] == t), 'days_employed'].median()"
   ]
  },
  {
   "cell_type": "markdown",
   "id": "ff5ad65c",
   "metadata": {
    "deletable": false,
    "editable": false,
    "id": "2753f40d"
   },
   "source": [
    "**Задание 12. Убедитесь, что все пропуски заполнены. Проверьте себя и ещё раз выведите количество пропущенных значений для каждого столбца с помощью двух методов.**"
   ]
  },
  {
   "cell_type": "code",
   "execution_count": 12,
   "id": "08cfff54",
   "metadata": {
    "deletable": false,
    "id": "55f78bc2",
    "outputId": "8da1e4e1-358e-4e87-98c9-f261bce0a7b2"
   },
   "outputs": [
    {
     "data": {
      "text/plain": [
       "children            0\n",
       "days_employed       0\n",
       "dob_years           0\n",
       "education           0\n",
       "education_id        0\n",
       "family_status       0\n",
       "family_status_id    0\n",
       "gender              0\n",
       "income_type         0\n",
       "debt                0\n",
       "total_income        0\n",
       "purpose             0\n",
       "dtype: int64"
      ]
     },
     "execution_count": 12,
     "metadata": {},
     "output_type": "execute_result"
    }
   ],
   "source": [
    "data.isna().sum()"
   ]
  },
  {
   "cell_type": "markdown",
   "id": "5fea285b",
   "metadata": {
    "deletable": false,
    "editable": false,
    "id": "ddc81e43"
   },
   "source": [
    "### Изменение типов данных"
   ]
  },
  {
   "cell_type": "markdown",
   "id": "69775181",
   "metadata": {
    "deletable": false,
    "editable": false,
    "id": "42d19d24"
   },
   "source": [
    "**Задание 13. Замените вещественный тип данных в столбце `total_income` на целочисленный с помощью метода `astype()`.**"
   ]
  },
  {
   "cell_type": "code",
   "execution_count": 13,
   "id": "06d81a51",
   "metadata": {
    "deletable": false,
    "id": "920b65ad"
   },
   "outputs": [],
   "source": [
    "data['total_income'] = data['total_income'].astype(int)"
   ]
  },
  {
   "cell_type": "markdown",
   "id": "c05f8637",
   "metadata": {
    "deletable": false,
    "editable": false,
    "id": "80c420ba"
   },
   "source": [
    "### Обработка дубликатов"
   ]
  },
  {
   "cell_type": "markdown",
   "id": "8ede8d96",
   "metadata": {
    "deletable": false,
    "editable": false
   },
   "source": [
    "**Задание 14. Обработайте неявные дубликаты в столбце `education`. В этом столбце есть одни и те же значения, но записанные по-разному: с использованием заглавных и строчных букв. Приведите их к нижнему регистру. Проверьте остальные столбцы.**"
   ]
  },
  {
   "cell_type": "code",
   "execution_count": 14,
   "id": "d75ed0f4",
   "metadata": {
    "deletable": false
   },
   "outputs": [],
   "source": [
    "data['education'] = data['education'].str.lower()"
   ]
  },
  {
   "cell_type": "markdown",
   "id": "60781f7f",
   "metadata": {
    "deletable": false,
    "editable": false,
    "id": "dc587695"
   },
   "source": [
    "**Задание 15. Выведите на экран количество строк-дубликатов в данных. Если такие строки присутствуют, удалите их.**"
   ]
  },
  {
   "cell_type": "code",
   "execution_count": 15,
   "id": "a140f674",
   "metadata": {
    "deletable": false,
    "id": "3ee445e4",
    "outputId": "9684deba-1934-42d1-99e1-cda61740f822"
   },
   "outputs": [
    {
     "data": {
      "text/plain": [
       "71"
      ]
     },
     "execution_count": 15,
     "metadata": {},
     "output_type": "execute_result"
    }
   ],
   "source": [
    "data.duplicated().sum()"
   ]
  },
  {
   "cell_type": "code",
   "execution_count": 16,
   "id": "5c7bb121",
   "metadata": {
    "deletable": false,
    "id": "8575fe05"
   },
   "outputs": [],
   "source": [
    "data = data.drop_duplicates()"
   ]
  },
  {
   "cell_type": "markdown",
   "id": "11fea373",
   "metadata": {
    "deletable": false,
    "editable": false,
    "id": "9904cf55"
   },
   "source": [
    "### Категоризация данных"
   ]
  },
  {
   "cell_type": "markdown",
   "id": "f6a5ae77",
   "metadata": {
    "deletable": false,
    "editable": false,
    "id": "72fcc8a2"
   },
   "source": [
    "**Задание 16. На основании диапазонов, указанных ниже, создайте в датафрейме `data` столбец `total_income_category` с категориями:**\n",
    "\n",
    "- 0–30000 — `'E'`;\n",
    "- 30001–50000 — `'D'`;\n",
    "- 50001–200000 — `'C'`;\n",
    "- 200001–1000000 — `'B'`;\n",
    "- 1000001 и выше — `'A'`.\n",
    "\n",
    "\n",
    "**Например, кредитополучателю с доходом 25000 нужно назначить категорию `'E'`, а клиенту, получающему 235000, — `'B'`. Используйте собственную функцию с именем `categorize_income()` и метод `apply()`.**"
   ]
  },
  {
   "cell_type": "code",
   "execution_count": 17,
   "id": "3ac9e575",
   "metadata": {
    "deletable": false,
    "id": "e1771346"
   },
   "outputs": [],
   "source": [
    "def categorize_income(income):\n",
    "    try:\n",
    "        if 0 <= income <= 30000:\n",
    "            return 'E'\n",
    "        elif 30001 <= income <= 50000:\n",
    "            return 'D'\n",
    "        elif 50001 <= income <= 200000:\n",
    "            return 'C'\n",
    "        elif 200001 <= income <= 1000000:\n",
    "            return 'B'\n",
    "        elif income >= 1000001:\n",
    "            return 'A'\n",
    "    except:\n",
    "        pass"
   ]
  },
  {
   "cell_type": "code",
   "execution_count": 18,
   "id": "9a627e30",
   "metadata": {
    "deletable": false,
    "id": "d5f3586d"
   },
   "outputs": [],
   "source": [
    "data['total_income_category'] = data['total_income'].apply(categorize_income)"
   ]
  },
  {
   "cell_type": "markdown",
   "id": "9032ee1f",
   "metadata": {
    "deletable": false,
    "editable": false,
    "id": "dde49b5c"
   },
   "source": [
    "**Задание 17. Выведите на экран перечень уникальных целей взятия кредита из столбца `purpose`.**"
   ]
  },
  {
   "cell_type": "code",
   "execution_count": 19,
   "id": "26a635ae",
   "metadata": {
    "deletable": false,
    "id": "f67ce9b3",
    "outputId": "673c12d9-7d7e-4ae0-9812-c622c89dd244"
   },
   "outputs": [
    {
     "data": {
      "text/plain": [
       "array(['покупка жилья', 'приобретение автомобиля',\n",
       "       'дополнительное образование', 'сыграть свадьбу',\n",
       "       'операции с жильем', 'образование', 'на проведение свадьбы',\n",
       "       'покупка жилья для семьи', 'покупка недвижимости',\n",
       "       'покупка коммерческой недвижимости', 'покупка жилой недвижимости',\n",
       "       'строительство собственной недвижимости', 'недвижимость',\n",
       "       'строительство недвижимости', 'на покупку подержанного автомобиля',\n",
       "       'на покупку своего автомобиля',\n",
       "       'операции с коммерческой недвижимостью',\n",
       "       'строительство жилой недвижимости', 'жилье',\n",
       "       'операции со своей недвижимостью', 'автомобили',\n",
       "       'заняться образованием', 'сделка с подержанным автомобилем',\n",
       "       'получение образования', 'автомобиль', 'свадьба',\n",
       "       'получение дополнительного образования', 'покупка своего жилья',\n",
       "       'операции с недвижимостью', 'получение высшего образования',\n",
       "       'свой автомобиль', 'сделка с автомобилем',\n",
       "       'профильное образование', 'высшее образование',\n",
       "       'покупка жилья для сдачи', 'на покупку автомобиля', 'ремонт жилью',\n",
       "       'заняться высшим образованием'], dtype=object)"
      ]
     },
     "execution_count": 19,
     "metadata": {},
     "output_type": "execute_result"
    }
   ],
   "source": [
    "data['purpose'].unique()"
   ]
  },
  {
   "cell_type": "markdown",
   "id": "1d526ceb",
   "metadata": {
    "deletable": false,
    "editable": false,
    "id": "85d0aef0"
   },
   "source": [
    "**Задание 18. Создайте функцию, которая на основании данных из столбца `purpose` сформирует новый столбец `purpose_category`, в который войдут следующие категории:**\n",
    "\n",
    "- `'операции с автомобилем'`,\n",
    "- `'операции с недвижимостью'`,\n",
    "- `'проведение свадьбы'`,\n",
    "- `'получение образования'`.\n",
    "\n",
    "**Например, если в столбце `purpose` находится подстрока `'на покупку автомобиля'`, то в столбце `purpose_category` должна появиться строка `'операции с автомобилем'`.**\n",
    "\n",
    "**Используйте собственную функцию с именем `categorize_purpose()` и метод `apply()`. Изучите данные в столбце `purpose` и определите, какие подстроки помогут вам правильно определить категорию.**"
   ]
  },
  {
   "cell_type": "code",
   "execution_count": 20,
   "id": "7ba633eb",
   "metadata": {
    "deletable": false,
    "id": "e149fab4"
   },
   "outputs": [],
   "source": [
    "def categorize_purpose(row):\n",
    "    try:\n",
    "        if 'автом' in row:\n",
    "            return 'операции с автомобилем'\n",
    "        elif 'жил' in row or 'недвиж' in row:\n",
    "            return 'операции с недвижимостью'\n",
    "        elif 'свад' in row:\n",
    "            return 'проведение свадьбы'\n",
    "        elif 'образов' in row:\n",
    "            return 'получение образования'\n",
    "    except:\n",
    "        return 'нет категории'"
   ]
  },
  {
   "cell_type": "code",
   "execution_count": 21,
   "id": "1194121f",
   "metadata": {
    "deletable": false,
    "id": "bf36e69b"
   },
   "outputs": [],
   "source": [
    "data['purpose_category'] = data['purpose'].apply(categorize_purpose)"
   ]
  },
  {
   "cell_type": "markdown",
   "id": "69b3f9ac",
   "metadata": {
    "deletable": false,
    "editable": false,
    "id": "09b242bf"
   },
   "source": [
    "### Шаг 3. Исследуйте данные и ответьте на вопросы"
   ]
  },
  {
   "cell_type": "markdown",
   "id": "0c2370f3",
   "metadata": {
    "deletable": false,
    "editable": false,
    "id": "c5d66278"
   },
   "source": [
    "#### 3.1 Есть ли зависимость между количеством детей и возвратом кредита в срок?"
   ]
  },
  {
   "cell_type": "code",
   "execution_count": 22,
   "id": "ffc7f179",
   "metadata": {
    "deletable": false,
    "id": "2cacfc4a"
   },
   "outputs": [
    {
     "name": "stdout",
     "output_type": "stream",
     "text": [
      "Группируем данные по количеству детей у заёмщика\n"
     ]
    },
    {
     "data": {
      "text/html": [
       "<div>\n",
       "<style scoped>\n",
       "    .dataframe tbody tr th:only-of-type {\n",
       "        vertical-align: middle;\n",
       "    }\n",
       "\n",
       "    .dataframe tbody tr th {\n",
       "        vertical-align: top;\n",
       "    }\n",
       "\n",
       "    .dataframe thead tr th {\n",
       "        text-align: left;\n",
       "    }\n",
       "\n",
       "    .dataframe thead tr:last-of-type th {\n",
       "        text-align: right;\n",
       "    }\n",
       "</style>\n",
       "<table border=\"1\" class=\"dataframe\">\n",
       "  <thead>\n",
       "    <tr>\n",
       "      <th></th>\n",
       "      <th colspan=\"3\" halign=\"left\">debt</th>\n",
       "    </tr>\n",
       "    <tr>\n",
       "      <th></th>\n",
       "      <th>count</th>\n",
       "      <th>mean</th>\n",
       "      <th>sum</th>\n",
       "    </tr>\n",
       "    <tr>\n",
       "      <th>children</th>\n",
       "      <th></th>\n",
       "      <th></th>\n",
       "      <th></th>\n",
       "    </tr>\n",
       "  </thead>\n",
       "  <tbody>\n",
       "    <tr>\n",
       "      <th>0</th>\n",
       "      <td>14091.0</td>\n",
       "      <td>0.075438</td>\n",
       "      <td>1063.0</td>\n",
       "    </tr>\n",
       "    <tr>\n",
       "      <th>1</th>\n",
       "      <td>4808.0</td>\n",
       "      <td>0.092346</td>\n",
       "      <td>444.0</td>\n",
       "    </tr>\n",
       "    <tr>\n",
       "      <th>2</th>\n",
       "      <td>2052.0</td>\n",
       "      <td>0.094542</td>\n",
       "      <td>194.0</td>\n",
       "    </tr>\n",
       "    <tr>\n",
       "      <th>3</th>\n",
       "      <td>330.0</td>\n",
       "      <td>0.081818</td>\n",
       "      <td>27.0</td>\n",
       "    </tr>\n",
       "    <tr>\n",
       "      <th>4</th>\n",
       "      <td>41.0</td>\n",
       "      <td>0.097561</td>\n",
       "      <td>4.0</td>\n",
       "    </tr>\n",
       "    <tr>\n",
       "      <th>5</th>\n",
       "      <td>9.0</td>\n",
       "      <td>0.000000</td>\n",
       "      <td>0.0</td>\n",
       "    </tr>\n",
       "  </tbody>\n",
       "</table>\n",
       "</div>"
      ],
      "text/plain": [
       "             debt                  \n",
       "            count      mean     sum\n",
       "children                           \n",
       "0         14091.0  0.075438  1063.0\n",
       "1          4808.0  0.092346   444.0\n",
       "2          2052.0  0.094542   194.0\n",
       "3           330.0  0.081818    27.0\n",
       "4            41.0  0.097561     4.0\n",
       "5             9.0  0.000000     0.0"
      ]
     },
     "metadata": {},
     "output_type": "display_data"
    },
    {
     "data": {
      "image/png": "[encoded data removed]",
      "text/plain": [
       "<Figure size 432x288 with 1 Axes>"
      ]
     },
     "metadata": {
      "needs_background": "light"
     },
     "output_type": "display_data"
    }
   ],
   "source": [
    "# Ваш код будет здесь. Вы можете создавать новые ячейки.\n",
    "import seaborn\n",
    "import matplotlib.pyplot as plt\n",
    "\n",
    "# Объвяляем функцию, которая будет получать на вход название столбца, по которому группируются данные,\n",
    "# и затем проводить необходимые расчёты, выводить полученные данные и barplot.\n",
    "\n",
    "# def debt_barplot(column_name):\n",
    "#     print('численность каждой группы')\n",
    "#     print( data.groupby(column_name)[column_name].count())\n",
    "#     print()\n",
    "#     print('количество должников по группам')\n",
    "#     print(data.groupby(column_name)['debt'].sum())\n",
    "#     print()\n",
    "#     print('доля должников от численности групп')\n",
    "#     print(data.groupby(column_name)['debt'].mean())\n",
    "\n",
    "#     seaborn.barplot(x = sorted(data[column_name].unique()), y = data.groupby(column_name)['debt'].mean())\n",
    "\n",
    "print('Группируем данные по количеству детей у заёмщика')\n",
    "#debt_barplot('children')\n",
    "\n",
    "def debt_pivot_barplot(column_name): #Объявляем функцию, которая строит pivot table и barplot.\n",
    "    pivot = pd.pivot_table(data=data, values = ['debt'], index = column_name, aggfunc = {'debt': ['count', 'sum', 'mean']})\n",
    "    display(pivot)\n",
    "    # функция строит pivot_table, группируя данные по столбцу, название которого получено на вход.\n",
    "    # в столбцах полученной pivot_table отображены: общее число респондентов, доля должников и\n",
    "    # число должников в каждой группе.\n",
    "    ax = seaborn.barplot(x = pivot.index, y = pivot['debt']['mean'])\n",
    "    ax.set_ylabel(\"доля должников\") # Формируем barplot, по оси X названия групп, по оси Y доля должников.\n",
    "    ax.set_xticklabels(ax.get_xticklabels(),rotation = -15) # Поворот обозначений на -15 градусов\n",
    "                                                            # призван обеспечить читаемость в случае \n",
    "                                                            # длинных labels и при том не сильно\n",
    "                                                            # испортить читаемость коротких labels.\n",
    "\n",
    "  \n",
    "debt_pivot_barplot('children') # вызов функции\n"
   ]
  },
  {
   "cell_type": "markdown",
   "id": "361f4fbb",
   "metadata": {
    "deletable": false,
    "id": "3a6b99ec"
   },
   "source": [
    "**Вывод:** \n",
    "Среди заёмщиков, у которых 1 или 2 ребенка, доля должников составила более 9%, что выше, чем среди лиц, не имеющих детей (7.5%) \n",
    "Количество респондентов, имеющих 3 и более детей, недостаточно для получения достоверных выводов."
   ]
  },
  {
   "cell_type": "markdown",
   "id": "6c9c1485",
   "metadata": {},
   "source": [
    "<font color=\"green\">✔️ Комментарий ревьювера    \n",
    "Вывод верный, получается, что клиенты без детей являются более ответственными при погашении кредита. Отлично, что проверяешь еще и количество заемщиков. Видно, что база клиентов с 4 и 5 детьми очень маленькая</font>\n",
    "\n",
    "<font color=\"red\">❌ Комментарий ревьювера       \n",
    "Можно использовать функцию groupby, но крайне желательно хотя бы пару раз применить pivot_table. И подсчет процента и количества там можно сделать в одну строчку :)</font>  \n"
   ]
  },
  {
   "cell_type": "markdown",
   "id": "442c9a76",
   "metadata": {},
   "source": [
    "<font color=\"green\">✔️ Комментарий ревьювера 2   \n",
    "Все очень хорошо получилось! Единственный совет - импорт бибилотек перенсти в начало проекта</font>"
   ]
  },
  {
   "cell_type": "markdown",
   "id": "830d24f6",
   "metadata": {
    "deletable": false,
    "editable": false,
    "id": "97be82ca"
   },
   "source": [
    "#### 3.2 Есть ли зависимость между семейным положением и возвратом кредита в срок?"
   ]
  },
  {
   "cell_type": "code",
   "execution_count": 23,
   "id": "e9920720",
   "metadata": {
    "deletable": false,
    "id": "dc3f7ee8"
   },
   "outputs": [
    {
     "name": "stdout",
     "output_type": "stream",
     "text": [
      "Группируем данные по семейному положению заёмщика\n"
     ]
    },
    {
     "data": {
      "text/html": [
       "<div>\n",
       "<style scoped>\n",
       "    .dataframe tbody tr th:only-of-type {\n",
       "        vertical-align: middle;\n",
       "    }\n",
       "\n",
       "    .dataframe tbody tr th {\n",
       "        vertical-align: top;\n",
       "    }\n",
       "\n",
       "    .dataframe thead tr th {\n",
       "        text-align: left;\n",
       "    }\n",
       "\n",
       "    .dataframe thead tr:last-of-type th {\n",
       "        text-align: right;\n",
       "    }\n",
       "</style>\n",
       "<table border=\"1\" class=\"dataframe\">\n",
       "  <thead>\n",
       "    <tr>\n",
       "      <th></th>\n",
       "      <th colspan=\"3\" halign=\"left\">debt</th>\n",
       "    </tr>\n",
       "    <tr>\n",
       "      <th></th>\n",
       "      <th>count</th>\n",
       "      <th>mean</th>\n",
       "      <th>sum</th>\n",
       "    </tr>\n",
       "    <tr>\n",
       "      <th>family_status</th>\n",
       "      <th></th>\n",
       "      <th></th>\n",
       "      <th></th>\n",
       "    </tr>\n",
       "  </thead>\n",
       "  <tbody>\n",
       "    <tr>\n",
       "      <th>Не женат / не замужем</th>\n",
       "      <td>2796.0</td>\n",
       "      <td>0.097639</td>\n",
       "      <td>273.0</td>\n",
       "    </tr>\n",
       "    <tr>\n",
       "      <th>в разводе</th>\n",
       "      <td>1189.0</td>\n",
       "      <td>0.070648</td>\n",
       "      <td>84.0</td>\n",
       "    </tr>\n",
       "    <tr>\n",
       "      <th>вдовец / вдова</th>\n",
       "      <td>951.0</td>\n",
       "      <td>0.066246</td>\n",
       "      <td>63.0</td>\n",
       "    </tr>\n",
       "    <tr>\n",
       "      <th>гражданский брак</th>\n",
       "      <td>4134.0</td>\n",
       "      <td>0.093130</td>\n",
       "      <td>385.0</td>\n",
       "    </tr>\n",
       "    <tr>\n",
       "      <th>женат / замужем</th>\n",
       "      <td>12261.0</td>\n",
       "      <td>0.075606</td>\n",
       "      <td>927.0</td>\n",
       "    </tr>\n",
       "  </tbody>\n",
       "</table>\n",
       "</div>"
      ],
      "text/plain": [
       "                          debt                 \n",
       "                         count      mean    sum\n",
       "family_status                                  \n",
       "Не женат / не замужем   2796.0  0.097639  273.0\n",
       "в разводе               1189.0  0.070648   84.0\n",
       "вдовец / вдова           951.0  0.066246   63.0\n",
       "гражданский брак        4134.0  0.093130  385.0\n",
       "женат / замужем        12261.0  0.075606  927.0"
      ]
     },
     "metadata": {},
     "output_type": "display_data"
    },
    {
     "data": {
      "image/png": "[encoded data removed]",
      "text/plain": [
       "<Figure size 432x288 with 1 Axes>"
      ]
     },
     "metadata": {
      "needs_background": "light"
     },
     "output_type": "display_data"
    }
   ],
   "source": [
    "# Ваш код будет здесь. Вы можете создавать новые ячейки.\n",
    "#print(data['family_status'].unique(), data['family_status_id'].unique())\n",
    "\n",
    "print('Группируем данные по семейному положению заёмщика')\n",
    "#debt_barplot('family_status_id')\n",
    "\n",
    "debt_pivot_barplot('family_status')\n",
    "\n",
    "# print('обозначения')\n",
    "# for i in range(len(data['family_status'].unique())):\n",
    "#     print(data['family_status_id'].unique()[i], '-', data['family_status'].unique()[i])"
   ]
  },
  {
   "cell_type": "markdown",
   "id": "3bb3564a",
   "metadata": {
    "deletable": false,
    "id": "1cef7837"
   },
   "source": [
    "**Вывод:** \n",
    "Доля должников несколько выше среди лиц, не состоящих и ранее не состоявших в зарегистрированном браке (более 9%). Среди прочих категорий должники составили от 6.6 до 7.5%."
   ]
  },
  {
   "cell_type": "markdown",
   "id": "ea61d7b6",
   "metadata": {},
   "source": [
    "<font color=\"green\">✔️ Комментарий ревьювера    \n",
    "Вывод верный. Если клиент не женат или не был женат - то вероятность просрочки выше </font>\n",
    "\n",
    "<font color=\"brown\">⚠️ Комментарий ревьювера    \n",
    "Долю должников и Обозначения их - так лучше не выводить, а желательно объединить в одну таблику - удобнее смотреть :) </font>  \n"
   ]
  },
  {
   "cell_type": "markdown",
   "id": "64e260cc",
   "metadata": {},
   "source": [
    "<font color=\"green\">✔️ Комментарий ревьювера 2   \n",
    "Хорошо смотрится!</font>"
   ]
  },
  {
   "cell_type": "markdown",
   "id": "1deca764",
   "metadata": {
    "deletable": false,
    "editable": false,
    "id": "1e8b2fca"
   },
   "source": [
    "#### 3.3 Есть ли зависимость между уровнем дохода и возвратом кредита в срок?"
   ]
  },
  {
   "cell_type": "code",
   "execution_count": 24,
   "id": "ae57fa50",
   "metadata": {
    "deletable": false,
    "id": "cd7e3720"
   },
   "outputs": [
    {
     "name": "stdout",
     "output_type": "stream",
     "text": [
      "Группируем данные по уровню дохода заёмщика.\n",
      "Обозначения:\n",
      "A : Доход от 1004476 р. до 2265604 р.\n",
      "B : Доход от 200001 р. до 997014 р.\n",
      "C : Доход от 50025 р. до 199980 р.\n",
      "D : Доход от 30075 р. до 49996 р.\n",
      "E : Доход от 20667 р. до 29749 р.\n",
      "\n"
     ]
    },
    {
     "data": {
      "text/html": [
       "<div>\n",
       "<style scoped>\n",
       "    .dataframe tbody tr th:only-of-type {\n",
       "        vertical-align: middle;\n",
       "    }\n",
       "\n",
       "    .dataframe tbody tr th {\n",
       "        vertical-align: top;\n",
       "    }\n",
       "\n",
       "    .dataframe thead tr th {\n",
       "        text-align: left;\n",
       "    }\n",
       "\n",
       "    .dataframe thead tr:last-of-type th {\n",
       "        text-align: right;\n",
       "    }\n",
       "</style>\n",
       "<table border=\"1\" class=\"dataframe\">\n",
       "  <thead>\n",
       "    <tr>\n",
       "      <th></th>\n",
       "      <th colspan=\"3\" halign=\"left\">debt</th>\n",
       "    </tr>\n",
       "    <tr>\n",
       "      <th></th>\n",
       "      <th>count</th>\n",
       "      <th>mean</th>\n",
       "      <th>sum</th>\n",
       "    </tr>\n",
       "    <tr>\n",
       "      <th>total_income_category</th>\n",
       "      <th></th>\n",
       "      <th></th>\n",
       "      <th></th>\n",
       "    </tr>\n",
       "  </thead>\n",
       "  <tbody>\n",
       "    <tr>\n",
       "      <th>A</th>\n",
       "      <td>25.0</td>\n",
       "      <td>0.080000</td>\n",
       "      <td>2.0</td>\n",
       "    </tr>\n",
       "    <tr>\n",
       "      <th>B</th>\n",
       "      <td>5014.0</td>\n",
       "      <td>0.070602</td>\n",
       "      <td>354.0</td>\n",
       "    </tr>\n",
       "    <tr>\n",
       "      <th>C</th>\n",
       "      <td>15921.0</td>\n",
       "      <td>0.084982</td>\n",
       "      <td>1353.0</td>\n",
       "    </tr>\n",
       "    <tr>\n",
       "      <th>D</th>\n",
       "      <td>349.0</td>\n",
       "      <td>0.060172</td>\n",
       "      <td>21.0</td>\n",
       "    </tr>\n",
       "    <tr>\n",
       "      <th>E</th>\n",
       "      <td>22.0</td>\n",
       "      <td>0.090909</td>\n",
       "      <td>2.0</td>\n",
       "    </tr>\n",
       "  </tbody>\n",
       "</table>\n",
       "</div>"
      ],
      "text/plain": [
       "                          debt                  \n",
       "                         count      mean     sum\n",
       "total_income_category                           \n",
       "A                         25.0  0.080000     2.0\n",
       "B                       5014.0  0.070602   354.0\n",
       "C                      15921.0  0.084982  1353.0\n",
       "D                        349.0  0.060172    21.0\n",
       "E                         22.0  0.090909     2.0"
      ]
     },
     "metadata": {},
     "output_type": "display_data"
    },
    {
     "data": {
      "image/png": "[encoded data removed]",
      "text/plain": [
       "<Figure size 432x288 with 1 Axes>"
      ]
     },
     "metadata": {
      "needs_background": "light"
     },
     "output_type": "display_data"
    }
   ],
   "source": [
    "# Ваш код будет здесь. Вы можете создавать новые ячейки.\n",
    "print('Группируем данные по уровню дохода заёмщика.')\n",
    "\n",
    "print('Обозначения:')\n",
    "letters = ['A', 'B', 'C', 'D', 'E']\n",
    "for letter in letters:\n",
    "    print(\n",
    "        letter, ': Доход от', data.loc[data.loc[:,'total_income_category']==letter]['total_income'].min(),\n",
    "        'р. до', data.loc[data.loc[:,'total_income_category']==letter]['total_income'].max(), 'р.'\n",
    "    )\n",
    "print()\n",
    "debt_pivot_barplot('total_income_category')\n",
    "\n",
    "# К сожалению, здесь пришлось сохранить отдельный вывод обозначений ввиду того,\n",
    "# что построение pivot table автоматизировано. Колонку с пояснениями в нее добавить, конечно, можно,\n",
    "# но ценой избыточного усложнения кода.\n",
    "\n"
   ]
  },
  {
   "cell_type": "markdown",
   "id": "c46b0cc8",
   "metadata": {
    "deletable": false,
    "id": "e8593def"
   },
   "source": [
    "**Вывод:** \n",
    "Численность групп А и Е составляет менее 30 человек, в связи с чем результаты можно счесть нерепрезентативными. Среди более многочисленных групп доля должников максимальна среди лиц с ежемесячным доходом от 50000 до 200000р (8.5%) и минимальна среди заемщиков с доходом от 30000 до 50000р (6%)"
   ]
  },
  {
   "cell_type": "markdown",
   "id": "9e26628d",
   "metadata": {},
   "source": [
    "<font color=\"green\">✔️ Комментарий ревьювера   \n",
    "Согласен, чаще всего должниками становятся люди с небольшим доходом. Видимо, финансовые проблемы не позволяют вовремя осуществлять платежи. Для выявления зависимости желательно сравнивать самые многочисленные категории. Категория D и Е слишком малочисленны для серьезного вывода. :)</font>\n"
   ]
  },
  {
   "cell_type": "markdown",
   "id": "eb89dceb",
   "metadata": {
    "deletable": false,
    "editable": false,
    "id": "99ecbd1f"
   },
   "source": [
    "#### 3.4 Как разные цели кредита влияют на его возврат в срок?"
   ]
  },
  {
   "cell_type": "code",
   "execution_count": 25,
   "id": "6c496627",
   "metadata": {
    "deletable": false,
    "id": "2b687290"
   },
   "outputs": [
    {
     "data": {
      "text/html": [
       "<div>\n",
       "<style scoped>\n",
       "    .dataframe tbody tr th:only-of-type {\n",
       "        vertical-align: middle;\n",
       "    }\n",
       "\n",
       "    .dataframe tbody tr th {\n",
       "        vertical-align: top;\n",
       "    }\n",
       "\n",
       "    .dataframe thead tr th {\n",
       "        text-align: left;\n",
       "    }\n",
       "\n",
       "    .dataframe thead tr:last-of-type th {\n",
       "        text-align: right;\n",
       "    }\n",
       "</style>\n",
       "<table border=\"1\" class=\"dataframe\">\n",
       "  <thead>\n",
       "    <tr>\n",
       "      <th></th>\n",
       "      <th colspan=\"3\" halign=\"left\">debt</th>\n",
       "    </tr>\n",
       "    <tr>\n",
       "      <th></th>\n",
       "      <th>count</th>\n",
       "      <th>mean</th>\n",
       "      <th>sum</th>\n",
       "    </tr>\n",
       "    <tr>\n",
       "      <th>purpose_category</th>\n",
       "      <th></th>\n",
       "      <th></th>\n",
       "      <th></th>\n",
       "    </tr>\n",
       "  </thead>\n",
       "  <tbody>\n",
       "    <tr>\n",
       "      <th>операции с автомобилем</th>\n",
       "      <td>4279.0</td>\n",
       "      <td>0.093480</td>\n",
       "      <td>400.0</td>\n",
       "    </tr>\n",
       "    <tr>\n",
       "      <th>операции с недвижимостью</th>\n",
       "      <td>10751.0</td>\n",
       "      <td>0.072551</td>\n",
       "      <td>780.0</td>\n",
       "    </tr>\n",
       "    <tr>\n",
       "      <th>получение образования</th>\n",
       "      <td>3988.0</td>\n",
       "      <td>0.092528</td>\n",
       "      <td>369.0</td>\n",
       "    </tr>\n",
       "    <tr>\n",
       "      <th>проведение свадьбы</th>\n",
       "      <td>2313.0</td>\n",
       "      <td>0.079118</td>\n",
       "      <td>183.0</td>\n",
       "    </tr>\n",
       "  </tbody>\n",
       "</table>\n",
       "</div>"
      ],
      "text/plain": [
       "                             debt                 \n",
       "                            count      mean    sum\n",
       "purpose_category                                  \n",
       "операции с автомобилем     4279.0  0.093480  400.0\n",
       "операции с недвижимостью  10751.0  0.072551  780.0\n",
       "получение образования      3988.0  0.092528  369.0\n",
       "проведение свадьбы         2313.0  0.079118  183.0"
      ]
     },
     "metadata": {},
     "output_type": "display_data"
    },
    {
     "data": {
      "image/png": "[encoded data removed]",
      "text/plain": [
       "<Figure size 432x288 with 1 Axes>"
      ]
     },
     "metadata": {
      "needs_background": "light"
     },
     "output_type": "display_data"
    }
   ],
   "source": [
    "# # Ваш код будет здесь. Вы можете создавать новые ячейки.\n",
    "# def purpose_categorization_id(cat): # функция, присваивающая номера целям кредита - для\n",
    "#                                     # компактности обозначений\n",
    "#     if cat == 'операции с автомобилем':\n",
    "#         return 0\n",
    "#     elif cat == 'операции с недвижимостью':\n",
    "#         return 1\n",
    "#     elif cat == 'получение образования':\n",
    "#         return 2\n",
    "#     else:\n",
    "#         return 3\n",
    "# data['purpose_category_id'] = data['purpose_category'].apply(purpose_categorization_id)\n",
    "# print('Группируем данные по цели кредита.')\n",
    "# print('обозначения: \\n операции с автомобилем - 0 \\n операции с недвижимостью - 1 \\n получение образования - 2 \\n проведение свадьбы - 3')\n",
    "# print() # выводим условные обозначения\n",
    "debt_pivot_barplot('purpose_category')\n",
    "\n"
   ]
  },
  {
   "cell_type": "markdown",
   "id": "575518b8",
   "metadata": {
    "deletable": false,
    "id": "b4bb2ce6"
   },
   "source": [
    "**Вывод:** Доля должников по кредитам на обучение и приобретение автомобиля составила около 9%. Должники по кредитам на свадьбу составляют 7.9% от общего количества. Наименьшее количество должников - среди лиц с кредитом на операции с недвижимостью - 7.2%."
   ]
  },
  {
   "cell_type": "markdown",
   "id": "fddcf22c",
   "metadata": {},
   "source": [
    "<font color=\"green\">✔️ Комментарий ревьювера   \n",
    "Да, согласен, самыми проблемными выглядят автокредиты и кредиты на образование. Сложно сказать, каковы причины таких особенностей.<font>\n"
   ]
  },
  {
   "cell_type": "markdown",
   "id": "cf77afc6",
   "metadata": {
    "deletable": false,
    "editable": false,
    "id": "09c3ac4c"
   },
   "source": [
    "#### 3.5 Приведите возможные причины появления пропусков в исходных данных."
   ]
  },
  {
   "cell_type": "markdown",
   "id": "67ca1be0",
   "metadata": {
    "deletable": false,
    "id": "9da2ceda"
   },
   "source": [
    " - неполная информация от респондентов\n",
    " - ошибки при введении данных в систему\n",
    " - ошибки при выгрузке данных"
   ]
  },
  {
   "cell_type": "markdown",
   "id": "76852026",
   "metadata": {},
   "source": [
    "<font color=\"brown\">⚠️ Комментарий ревьювера    \n",
    "Все верно, но важно отметить, что пропуски в столбцах days_employed и total_income в равных пропорциях и симметричны. Возможно, они появились из-за нежелания этих пользователей оставлять эти данные или из-за ошибки. В столбце days_employed пропуски мы не заполняли, а в total_income - заполнили медианными значениями, но с учетом категории, чтоб не усреднять данные. Категорией, от которой сильнее всего зависит заработок, является income_type.    \n",
    "Помимо человеческого фактора, важно отметить и технический, как возможную причину образования пропусков.     \n",
    "Сможешь привести примеры таких причин?<font>\n"
   ]
  },
  {
   "cell_type": "markdown",
   "id": "6767c4dd",
   "metadata": {},
   "source": [
    "<div class=\"alert alert-block alert-info\">\n",
    "    Комментарий студента:\n",
    "    \n",
    "Осмелюсь предположить, что перед агрегацией в полученную нами таблицу данные могли быть собраны разными сотрудниками банка с применением различных видов устройств, программ и их версий, что повлияло на формат данных при объединении и выгрузке. Например, значения одного столбца могли попасть в различные типы данных; при отсутствии унификации оборудования и софта файлы от разных сотрудников могли быть разного формата, с разным разделителем и т.д.\n",
    "\n",
    "</div>"
   ]
  },
  {
   "cell_type": "markdown",
   "id": "b0b0d2c5",
   "metadata": {},
   "source": [
    "<font color=\"green\">✔️ Комментарий ревьювера 2   \n",
    "Отличное замечание. Еще это могут быть разные филиалы с разным ПО</font>"
   ]
  },
  {
   "cell_type": "markdown",
   "id": "bb1ae316",
   "metadata": {
    "deletable": false,
    "editable": false,
    "id": "7b0487d6"
   },
   "source": [
    "#### 3.6 Объясните, почему заполнить пропуски медианным значением — лучшее решение для количественных переменных."
   ]
  },
  {
   "cell_type": "markdown",
   "id": "0367c4e7",
   "metadata": {
    "deletable": false,
    "id": "7ecf2b8e"
   },
   "source": [
    "Основная причина в том, что при появлении аномальных значений (выбросов) медиана изменится незначительно, в то время как среднее арифметическое изменится непредсказуемо. "
   ]
  },
  {
   "cell_type": "markdown",
   "id": "65591525",
   "metadata": {},
   "source": [
    "<font color=\"green\">✔️ Комментарий ревьювера   \n",
    "Верно, в данных могут наблюдаться \"выбросы\". Медиана обычно даёт более правдивую картину, чем среднее, т.к. менее чувствительна к выбросам<font>\n"
   ]
  },
  {
   "cell_type": "markdown",
   "id": "3519cae4",
   "metadata": {
    "deletable": false,
    "editable": false,
    "id": "6db5255a"
   },
   "source": [
    "### Шаг 4: общий вывод."
   ]
  },
  {
   "cell_type": "markdown",
   "id": "cb293abc",
   "metadata": {
    "deletable": false,
    "id": "bad65432"
   },
   "source": [
    "#### Цель работы: \n",
    "Установить, влияет ли семейное положение и количество детей клиента на факт погашения кредита в срок.\n",
    "\n",
    "#### Материалы и методы\n",
    "Входные данные от заказчика — статистика о платёжеспособности клиентов.\n",
    "Выполнено исследование исходных данных, предобработка, анализ и построение графиков средствами python, библиотек pandas и seaborn.\n",
    "\n",
    "#### Ход исследования\n",
    "В процессе предобработки данных осуществлялось выявление и заполнение пропусков, выявление и удаление явных и неявных дубликатов, обработка аномальных значений, приведение типов, категоризация данных.\n",
    "Было выявлено 2174 пропусков в столбцах 'days_employed' и 'total_income', которые были заполнены медианными значениями.\n",
    "После предварительной обработки проведен анализ данных: исследована доля должников среди лиц с различным количеством детей, семейным положением, уровнем дохода и целью получения кредита.\n",
    "\n",
    "#### Результаты исследования\n",
    "Приведенные ниже графики отображают долю должников среди клиентов банка в зависимости от вышеуказанных характеристик \n",
    "\n"
   ]
  },
  {
   "cell_type": "code",
   "execution_count": 28,
   "id": "1104d4ac",
   "metadata": {},
   "outputs": [
    {
     "data": {
      "image/png": "[encoded data removed]",
      "text/plain": [
       "<Figure size 432x288 with 1 Axes>"
      ]
     },
     "metadata": {
      "needs_background": "light"
     },
     "output_type": "display_data"
    },
    {
     "data": {
      "image/png": "[encoded data removed]",
      "text/plain": [
       "<Figure size 432x288 with 1 Axes>"
      ]
     },
     "metadata": {
      "needs_background": "light"
     },
     "output_type": "display_data"
    },
    {
     "data": {
      "image/png": "[encoded data removed]",
      "text/plain": [
       "<Figure size 432x288 with 1 Axes>"
      ]
     },
     "metadata": {
      "needs_background": "light"
     },
     "output_type": "display_data"
    },
    {
     "data": {
      "image/png": "[encoded data removed]",
      "text/plain": [
       "<Figure size 432x288 with 1 Axes>"
      ]
     },
     "metadata": {
      "needs_background": "light"
     },
     "output_type": "display_data"
    }
   ],
   "source": [
    "def final_barplot(column_name): # функция для отображения barplot в выводе исследования\n",
    "    pivot = pd.pivot_table(data=data, values = ['debt'], index = column_name)\n",
    "    ax = seaborn.barplot(x = pivot.index, y = pivot['debt'])\n",
    "    ax.set_ylabel(\"доля должников\")\n",
    "    ax.set_xticklabels(ax.get_xticklabels(),rotation = -15) \n",
    "    plt.show()\n",
    "for item in ['children', 'family_status', 'total_income_category', 'purpose_category']:\n",
    "    final_barplot(item)\n",
    "\n",
    "\n",
    "\n"
   ]
  },
  {
   "cell_type": "markdown",
   "id": "2ae2310f",
   "metadata": {},
   "source": [
    "#### Вывод\n",
    "Согласно результатам анализа данных заказчика, процент должников ниже среди лиц:\n",
    "- состоящих или ранее состоявших в браке\n",
    "- не имеющих детей\n",
    "- с уровнем дохода от 30000 до 50000р.\n",
    "- получающих кредитные средства для операций с недвижимостью или проведения свадьбы.\n",
    "\n",
    "По результатам исследования, можно рекомендовать рассматривать данные группы клиентов как более надежных заёмщиков."
   ]
  },
  {
   "cell_type": "markdown",
   "id": "b192d58c",
   "metadata": {},
   "source": [
    "<font color=\"red\">❌ Комментарий ревьювера     \n",
    "Общий вывод нужно написать более подробно. Укажи что сделано, основные результаты по всем шагам работы, включая первый этап. И самое важное - какие зависимости выяснены при ответах на вопросы. Также, можно дать рекомендации банку по улучшению сбора данных и построению скоринговой модели.   \n",
    "Обычно заказчик читает только общий вывод, поэтому он должен быть максимально информативным.<font>"
   ]
  },
  {
   "cell_type": "markdown",
   "id": "c9d96ed3",
   "metadata": {},
   "source": [
    "<font color=\"green\">✔️ Комментарий ревьювера   \n",
    "Молодец, хорошая работа над проектом. Есть небольшие замечания, но это не страшно - их исправление поможет сделать проект лучше и хорошо разобраться в теме. Анализ данных - не так прост, но его значение для бизнеса и принятия решений трудно переоценить.\n",
    "Основное замечание - по применению pivot_table и итоговому выводу.<font>"
   ]
  },
  {
   "cell_type": "markdown",
   "id": "7f7d509d",
   "metadata": {},
   "source": [
    "<font color=\"green\">✔️ Комментарий ревьювера 2  \n",
    "Молодец, ты очень тщательно подходишь к проекту, это отлично! Все верно, принимаем! \n",
    "\n",
    "<font color=\"green\">✔️ Комментарий ревьювера 2    \n",
    "После проекта обычно просят оценить работу ревьювера, оставить отзыв - поставь пожалуйста оценку, если не затруднит! Это помогает улучшить нашу работу. Только оценивай, честно, как есть :)</font>\n"
   ]
  },
  {
   "cell_type": "code",
   "execution_count": null,
   "id": "30012c97",
   "metadata": {},
   "outputs": [],
   "source": []
  }
 ],
 "metadata": {
  "ExecuteTimeLog": [
   {
    "duration": 1402,
    "start_time": "2022-09-04T11:41:27.377Z"
   },
   {
    "duration": 9,
    "start_time": "2022-09-04T11:41:57.700Z"
   },
   {
    "duration": 283,
    "start_time": "2022-09-04T11:42:10.807Z"
   },
   {
    "duration": 67,
    "start_time": "2022-09-04T11:42:22.247Z"
   },
   {
    "duration": 50,
    "start_time": "2022-09-04T11:42:22.790Z"
   },
   {
    "duration": 60,
    "start_time": "2022-09-04T11:42:23.008Z"
   },
   {
    "duration": 49,
    "start_time": "2022-09-04T11:42:23.173Z"
   },
   {
    "duration": 69,
    "start_time": "2022-09-04T11:42:23.339Z"
   },
   {
    "duration": 48,
    "start_time": "2022-09-04T11:42:23.512Z"
   },
   {
    "duration": 70,
    "start_time": "2022-09-04T11:42:28.484Z"
   },
   {
    "duration": 69,
    "start_time": "2022-09-04T11:42:29.948Z"
   },
   {
    "duration": 19,
    "start_time": "2022-09-04T11:42:31.198Z"
   },
   {
    "duration": 20,
    "start_time": "2022-09-04T11:42:31.597Z"
   },
   {
    "duration": 16,
    "start_time": "2022-09-04T11:42:32.277Z"
   },
   {
    "duration": 46,
    "start_time": "2022-09-04T11:42:32.597Z"
   },
   {
    "duration": 4,
    "start_time": "2022-09-04T11:42:33.109Z"
   },
   {
    "duration": 9,
    "start_time": "2022-09-04T11:42:33.446Z"
   },
   {
    "duration": 5,
    "start_time": "2022-09-04T11:42:33.969Z"
   },
   {
    "duration": 8,
    "start_time": "2022-09-04T11:42:34.310Z"
   },
   {
    "duration": 6,
    "start_time": "2022-09-04T11:42:34.661Z"
   },
   {
    "duration": 46,
    "start_time": "2022-09-04T11:42:35.173Z"
   },
   {
    "duration": 11,
    "start_time": "2022-09-04T11:42:35.605Z"
   },
   {
    "duration": 4,
    "start_time": "2022-09-04T11:42:38.005Z"
   },
   {
    "duration": 13,
    "start_time": "2022-09-04T11:42:39.844Z"
   },
   {
    "duration": 19,
    "start_time": "2022-09-04T11:42:40.596Z"
   },
   {
    "duration": 18,
    "start_time": "2022-09-04T11:42:41.051Z"
   },
   {
    "duration": 4,
    "start_time": "2022-09-04T11:42:42.452Z"
   },
   {
    "duration": 10,
    "start_time": "2022-09-04T11:42:42.657Z"
   },
   {
    "duration": 6,
    "start_time": "2022-09-04T11:42:43.016Z"
   },
   {
    "duration": 4,
    "start_time": "2022-09-04T11:42:43.389Z"
   },
   {
    "duration": 9,
    "start_time": "2022-09-04T11:42:43.758Z"
   },
   {
    "duration": 160,
    "start_time": "2022-09-04T11:42:44.744Z"
   },
   {
    "duration": 23,
    "start_time": "2022-09-04T11:43:59.382Z"
   },
   {
    "duration": 38,
    "start_time": "2022-09-04T11:44:49.567Z"
   },
   {
    "duration": 21,
    "start_time": "2022-09-04T11:45:24.816Z"
   },
   {
    "duration": 9,
    "start_time": "2022-09-04T11:45:29.252Z"
   },
   {
    "duration": 21,
    "start_time": "2022-09-04T11:45:52.813Z"
   },
   {
    "duration": 65,
    "start_time": "2022-09-04T11:46:17.677Z"
   },
   {
    "duration": 7,
    "start_time": "2022-09-04T11:46:22.605Z"
   },
   {
    "duration": 19,
    "start_time": "2022-09-04T11:46:50.344Z"
   },
   {
    "duration": 64,
    "start_time": "2022-09-04T11:47:02.566Z"
   },
   {
    "duration": 47,
    "start_time": "2022-09-04T11:47:19.358Z"
   },
   {
    "duration": 45,
    "start_time": "2022-09-04T11:47:36.143Z"
   },
   {
    "duration": 59,
    "start_time": "2022-09-04T11:47:41.175Z"
   },
   {
    "duration": 151,
    "start_time": "2022-09-04T11:47:53.069Z"
   },
   {
    "duration": 151,
    "start_time": "2022-09-04T11:48:25.693Z"
   },
   {
    "duration": 73,
    "start_time": "2022-09-04T11:49:21.903Z"
   },
   {
    "duration": 143,
    "start_time": "2022-09-04T11:49:28.463Z"
   },
   {
    "duration": 142,
    "start_time": "2022-09-04T11:49:56.813Z"
   },
   {
    "duration": 158,
    "start_time": "2022-09-04T11:52:30.703Z"
   },
   {
    "duration": 48,
    "start_time": "2022-09-04T11:53:09.119Z"
   },
   {
    "duration": 53,
    "start_time": "2022-09-04T11:53:26.062Z"
   },
   {
    "duration": 151,
    "start_time": "2022-09-04T11:53:56.051Z"
   },
   {
    "duration": 161,
    "start_time": "2022-09-04T11:58:26.858Z"
   },
   {
    "duration": 5,
    "start_time": "2022-09-04T12:00:03.163Z"
   },
   {
    "duration": 199,
    "start_time": "2022-09-04T12:00:19.890Z"
   },
   {
    "duration": 12,
    "start_time": "2022-09-04T12:00:51.498Z"
   },
   {
    "duration": 33211,
    "start_time": "2022-09-04T12:04:13.880Z"
   },
   {
    "duration": 15,
    "start_time": "2022-09-04T12:08:54.800Z"
   },
   {
    "duration": 17,
    "start_time": "2022-09-04T12:09:19.513Z"
   },
   {
    "duration": 20,
    "start_time": "2022-09-04T12:09:59.782Z"
   },
   {
    "duration": 908,
    "start_time": "2022-09-04T12:10:08.248Z"
   },
   {
    "duration": 27,
    "start_time": "2022-09-04T12:10:46.379Z"
   },
   {
    "duration": 181,
    "start_time": "2022-09-04T12:11:29.842Z"
   },
   {
    "duration": 71,
    "start_time": "2022-09-04T12:14:40.930Z"
   },
   {
    "duration": 159,
    "start_time": "2022-09-04T12:14:45.234Z"
   },
   {
    "duration": 186,
    "start_time": "2022-09-04T12:22:43.386Z"
   },
   {
    "duration": 24,
    "start_time": "2022-09-04T13:57:01.859Z"
   },
   {
    "duration": 3455,
    "start_time": "2022-09-04T13:57:51.484Z"
   },
   {
    "duration": 170,
    "start_time": "2022-09-04T14:00:37.242Z"
   },
   {
    "duration": 281,
    "start_time": "2022-09-04T14:03:29.509Z"
   },
   {
    "duration": 232,
    "start_time": "2022-09-04T14:05:50.798Z"
   },
   {
    "duration": 172,
    "start_time": "2022-09-04T14:06:05.499Z"
   },
   {
    "duration": 163,
    "start_time": "2022-09-04T14:06:15.091Z"
   },
   {
    "duration": 118,
    "start_time": "2022-09-04T14:06:43.601Z"
   },
   {
    "duration": 118,
    "start_time": "2022-09-04T14:07:39.513Z"
   },
   {
    "duration": 126,
    "start_time": "2022-09-04T14:08:01.516Z"
   },
   {
    "duration": 6,
    "start_time": "2022-09-04T14:11:11.640Z"
   },
   {
    "duration": 10,
    "start_time": "2022-09-04T14:11:40.119Z"
   },
   {
    "duration": 5,
    "start_time": "2022-09-04T14:11:54.527Z"
   },
   {
    "duration": 10,
    "start_time": "2022-09-04T14:15:18.537Z"
   },
   {
    "duration": 18,
    "start_time": "2022-09-04T14:15:39.920Z"
   },
   {
    "duration": 122,
    "start_time": "2022-09-04T14:15:48.840Z"
   },
   {
    "duration": 11,
    "start_time": "2022-09-04T14:16:28.625Z"
   },
   {
    "duration": 147,
    "start_time": "2022-09-04T14:16:33.881Z"
   },
   {
    "duration": 222,
    "start_time": "2022-09-04T14:18:30.023Z"
   },
   {
    "duration": 135,
    "start_time": "2022-09-04T14:18:43.050Z"
   },
   {
    "duration": 111,
    "start_time": "2022-09-04T14:19:20.902Z"
   },
   {
    "duration": 145,
    "start_time": "2022-09-04T14:20:03.890Z"
   },
   {
    "duration": 119,
    "start_time": "2022-09-04T14:22:44.586Z"
   },
   {
    "duration": 127,
    "start_time": "2022-09-04T14:24:38.381Z"
   },
   {
    "duration": 121,
    "start_time": "2022-09-04T14:33:38.914Z"
   },
   {
    "duration": 152,
    "start_time": "2022-09-04T14:34:06.962Z"
   },
   {
    "duration": 446,
    "start_time": "2022-09-04T14:36:41.682Z"
   },
   {
    "duration": 503,
    "start_time": "2022-09-04T14:38:22.018Z"
   },
   {
    "duration": 121,
    "start_time": "2022-09-04T14:38:35.800Z"
   },
   {
    "duration": 116,
    "start_time": "2022-09-04T14:39:26.907Z"
   },
   {
    "duration": 121,
    "start_time": "2022-09-04T14:40:11.089Z"
   },
   {
    "duration": 19,
    "start_time": "2022-09-04T14:41:22.729Z"
   },
   {
    "duration": 20,
    "start_time": "2022-09-04T14:41:30.657Z"
   },
   {
    "duration": 25,
    "start_time": "2022-09-04T14:42:27.153Z"
   },
   {
    "duration": 105,
    "start_time": "2022-09-04T14:42:42.016Z"
   },
   {
    "duration": 139,
    "start_time": "2022-09-04T14:42:52.217Z"
   },
   {
    "duration": 211,
    "start_time": "2022-09-04T14:43:28.299Z"
   },
   {
    "duration": 130,
    "start_time": "2022-09-04T14:43:47.985Z"
   },
   {
    "duration": 115,
    "start_time": "2022-09-04T14:44:05.128Z"
   },
   {
    "duration": 126,
    "start_time": "2022-09-04T14:44:30.385Z"
   },
   {
    "duration": 47,
    "start_time": "2022-09-04T14:47:49.329Z"
   },
   {
    "duration": 133,
    "start_time": "2022-09-04T14:48:31.512Z"
   },
   {
    "duration": 128,
    "start_time": "2022-09-04T14:48:57.417Z"
   },
   {
    "duration": 113,
    "start_time": "2022-09-04T15:05:01.845Z"
   },
   {
    "duration": 126,
    "start_time": "2022-09-04T15:05:14.922Z"
   },
   {
    "duration": 132,
    "start_time": "2022-09-04T15:05:48.036Z"
   },
   {
    "duration": 146,
    "start_time": "2022-09-04T15:07:12.510Z"
   },
   {
    "duration": 154,
    "start_time": "2022-09-04T15:08:06.014Z"
   },
   {
    "duration": 142,
    "start_time": "2022-09-04T15:08:59.614Z"
   },
   {
    "duration": 146,
    "start_time": "2022-09-04T15:09:30.111Z"
   },
   {
    "duration": 163,
    "start_time": "2022-09-04T15:10:03.281Z"
   },
   {
    "duration": 271,
    "start_time": "2022-09-04T15:10:19.011Z"
   },
   {
    "duration": 176,
    "start_time": "2022-09-04T15:10:36.245Z"
   },
   {
    "duration": 1088,
    "start_time": "2022-09-05T07:37:32.569Z"
   },
   {
    "duration": 21,
    "start_time": "2022-09-05T07:37:33.659Z"
   },
   {
    "duration": 13,
    "start_time": "2022-09-05T07:37:33.681Z"
   },
   {
    "duration": 9,
    "start_time": "2022-09-05T07:37:33.695Z"
   },
   {
    "duration": 56,
    "start_time": "2022-09-05T07:37:33.705Z"
   },
   {
    "duration": 4,
    "start_time": "2022-09-05T07:37:33.762Z"
   },
   {
    "duration": 13,
    "start_time": "2022-09-05T07:37:33.767Z"
   },
   {
    "duration": 9,
    "start_time": "2022-09-05T07:37:33.781Z"
   },
   {
    "duration": 6,
    "start_time": "2022-09-05T07:37:33.798Z"
   },
   {
    "duration": 6,
    "start_time": "2022-09-05T07:37:33.806Z"
   },
   {
    "duration": 30,
    "start_time": "2022-09-05T07:37:33.813Z"
   },
   {
    "duration": 8,
    "start_time": "2022-09-05T07:37:33.844Z"
   },
   {
    "duration": 7,
    "start_time": "2022-09-05T07:37:33.854Z"
   },
   {
    "duration": 10,
    "start_time": "2022-09-05T07:37:33.862Z"
   },
   {
    "duration": 40,
    "start_time": "2022-09-05T07:37:33.874Z"
   },
   {
    "duration": 16,
    "start_time": "2022-09-05T07:37:33.916Z"
   },
   {
    "duration": 4,
    "start_time": "2022-09-05T07:37:33.933Z"
   },
   {
    "duration": 13,
    "start_time": "2022-09-05T07:37:33.939Z"
   },
   {
    "duration": 15,
    "start_time": "2022-09-05T07:37:33.954Z"
   },
   {
    "duration": 5,
    "start_time": "2022-09-05T07:37:33.970Z"
   },
   {
    "duration": 16,
    "start_time": "2022-09-05T07:37:33.998Z"
   },
   {
    "duration": 1057,
    "start_time": "2022-09-05T07:37:34.015Z"
   },
   {
    "duration": 138,
    "start_time": "2022-09-05T07:37:35.073Z"
   },
   {
    "duration": 142,
    "start_time": "2022-09-05T07:37:35.213Z"
   },
   {
    "duration": 123,
    "start_time": "2022-09-05T07:37:35.357Z"
   },
   {
    "duration": 14,
    "start_time": "2022-09-05T07:39:12.080Z"
   },
   {
    "duration": 86,
    "start_time": "2022-09-05T07:39:41.750Z"
   },
   {
    "duration": 112,
    "start_time": "2022-09-05T07:40:51.494Z"
   },
   {
    "duration": 91,
    "start_time": "2022-09-05T08:06:29.284Z"
   },
   {
    "duration": 115,
    "start_time": "2022-09-05T08:06:47.458Z"
   },
   {
    "duration": 18,
    "start_time": "2022-09-05T08:09:03.386Z"
   },
   {
    "duration": 69,
    "start_time": "2022-09-05T08:09:17.819Z"
   },
   {
    "duration": 48,
    "start_time": "2022-09-05T08:09:18.643Z"
   },
   {
    "duration": 24,
    "start_time": "2022-09-05T08:09:20.692Z"
   },
   {
    "duration": 20,
    "start_time": "2022-09-05T08:09:23.996Z"
   },
   {
    "duration": 10,
    "start_time": "2022-09-05T08:09:29.139Z"
   },
   {
    "duration": 30,
    "start_time": "2022-09-05T08:09:31.347Z"
   },
   {
    "duration": 3,
    "start_time": "2022-09-05T08:09:34.379Z"
   },
   {
    "duration": 7,
    "start_time": "2022-09-05T08:09:36.107Z"
   },
   {
    "duration": 3,
    "start_time": "2022-09-05T08:09:38.299Z"
   },
   {
    "duration": 5,
    "start_time": "2022-09-05T08:09:39.715Z"
   },
   {
    "duration": 4,
    "start_time": "2022-09-05T08:09:41.139Z"
   },
   {
    "duration": 28,
    "start_time": "2022-09-05T08:09:43.766Z"
   },
   {
    "duration": 8,
    "start_time": "2022-09-05T08:09:45.707Z"
   },
   {
    "duration": 3,
    "start_time": "2022-09-05T08:09:48.347Z"
   },
   {
    "duration": 10,
    "start_time": "2022-09-05T08:09:50.860Z"
   },
   {
    "duration": 18,
    "start_time": "2022-09-05T08:09:52.546Z"
   },
   {
    "duration": 16,
    "start_time": "2022-09-05T08:09:53.283Z"
   },
   {
    "duration": 3,
    "start_time": "2022-09-05T08:09:55.435Z"
   },
   {
    "duration": 9,
    "start_time": "2022-09-05T08:09:56.939Z"
   },
   {
    "duration": 6,
    "start_time": "2022-09-05T08:10:00.060Z"
   },
   {
    "duration": 3,
    "start_time": "2022-09-05T08:10:02.403Z"
   },
   {
    "duration": 9,
    "start_time": "2022-09-05T08:10:03.434Z"
   },
   {
    "duration": 107,
    "start_time": "2022-09-05T08:10:06.179Z"
   },
   {
    "duration": 196,
    "start_time": "2022-09-05T08:10:10.171Z"
   },
   {
    "duration": 124,
    "start_time": "2022-09-05T08:10:13.331Z"
   },
   {
    "duration": 14,
    "start_time": "2022-09-05T08:10:16.540Z"
   },
   {
    "duration": 9,
    "start_time": "2022-09-05T08:11:14.332Z"
   },
   {
    "duration": 94,
    "start_time": "2022-09-05T08:11:35.804Z"
   },
   {
    "duration": 103,
    "start_time": "2022-09-05T08:12:15.956Z"
   },
   {
    "duration": 98,
    "start_time": "2022-09-05T08:12:57.589Z"
   },
   {
    "duration": 97,
    "start_time": "2022-09-05T08:20:35.816Z"
   },
   {
    "duration": 54,
    "start_time": "2022-09-05T08:43:13.060Z"
   },
   {
    "duration": 676,
    "start_time": "2022-09-10T06:28:28.854Z"
   },
   {
    "duration": 20,
    "start_time": "2022-09-10T06:28:29.532Z"
   },
   {
    "duration": 16,
    "start_time": "2022-09-10T06:28:29.553Z"
   },
   {
    "duration": 8,
    "start_time": "2022-09-10T06:28:29.571Z"
   },
   {
    "duration": 43,
    "start_time": "2022-09-10T06:28:29.580Z"
   },
   {
    "duration": 3,
    "start_time": "2022-09-10T06:28:29.626Z"
   },
   {
    "duration": 9,
    "start_time": "2022-09-10T06:28:29.630Z"
   },
   {
    "duration": 3,
    "start_time": "2022-09-10T06:28:29.641Z"
   },
   {
    "duration": 8,
    "start_time": "2022-09-10T06:28:29.646Z"
   },
   {
    "duration": 4,
    "start_time": "2022-09-10T06:28:29.657Z"
   },
   {
    "duration": 58,
    "start_time": "2022-09-10T06:28:29.662Z"
   },
   {
    "duration": 11,
    "start_time": "2022-09-10T06:28:29.721Z"
   },
   {
    "duration": 4,
    "start_time": "2022-09-10T06:28:29.733Z"
   },
   {
    "duration": 12,
    "start_time": "2022-09-10T06:28:29.739Z"
   },
   {
    "duration": 18,
    "start_time": "2022-09-10T06:28:29.752Z"
   },
   {
    "duration": 47,
    "start_time": "2022-09-10T06:28:29.772Z"
   },
   {
    "duration": 5,
    "start_time": "2022-09-10T06:28:29.824Z"
   },
   {
    "duration": 17,
    "start_time": "2022-09-10T06:28:29.830Z"
   },
   {
    "duration": 7,
    "start_time": "2022-09-10T06:28:29.849Z"
   },
   {
    "duration": 4,
    "start_time": "2022-09-10T06:28:29.858Z"
   },
   {
    "duration": 16,
    "start_time": "2022-09-10T06:28:29.864Z"
   },
   {
    "duration": 1054,
    "start_time": "2022-09-10T06:28:29.881Z"
   },
   {
    "duration": 139,
    "start_time": "2022-09-10T06:28:30.936Z"
   },
   {
    "duration": 152,
    "start_time": "2022-09-10T06:28:31.076Z"
   },
   {
    "duration": 120,
    "start_time": "2022-09-10T06:28:31.229Z"
   },
   {
    "duration": 118,
    "start_time": "2022-09-10T06:43:01.025Z"
   },
   {
    "duration": 70,
    "start_time": "2022-09-10T06:43:18.624Z"
   },
   {
    "duration": 43,
    "start_time": "2022-09-10T06:43:19.538Z"
   },
   {
    "duration": 66,
    "start_time": "2022-09-10T06:43:19.725Z"
   },
   {
    "duration": 73,
    "start_time": "2022-09-10T06:43:19.883Z"
   },
   {
    "duration": 67,
    "start_time": "2022-09-10T06:43:20.035Z"
   },
   {
    "duration": 63,
    "start_time": "2022-09-10T06:43:20.186Z"
   },
   {
    "duration": 70,
    "start_time": "2022-09-10T06:43:20.325Z"
   },
   {
    "duration": 20,
    "start_time": "2022-09-10T06:43:22.789Z"
   },
   {
    "duration": 19,
    "start_time": "2022-09-10T06:43:42.868Z"
   },
   {
    "duration": 21,
    "start_time": "2022-09-10T07:11:20.852Z"
   },
   {
    "duration": 26,
    "start_time": "2022-09-10T07:13:25.949Z"
   },
   {
    "duration": 90,
    "start_time": "2022-09-10T07:13:55.295Z"
   },
   {
    "duration": 15,
    "start_time": "2022-09-10T07:13:57.452Z"
   },
   {
    "duration": 14,
    "start_time": "2022-09-10T07:13:59.781Z"
   },
   {
    "duration": 14,
    "start_time": "2022-09-10T07:14:03.851Z"
   },
   {
    "duration": 13,
    "start_time": "2022-09-10T07:14:08.339Z"
   },
   {
    "duration": 29,
    "start_time": "2022-09-10T07:14:09.947Z"
   },
   {
    "duration": 12,
    "start_time": "2022-09-10T07:14:12.107Z"
   },
   {
    "duration": 10,
    "start_time": "2022-09-10T07:14:13.963Z"
   },
   {
    "duration": 5,
    "start_time": "2022-09-10T07:14:16.590Z"
   },
   {
    "duration": 8,
    "start_time": "2022-09-10T07:14:18.203Z"
   },
   {
    "duration": 5,
    "start_time": "2022-09-10T07:14:20.699Z"
   },
   {
    "duration": 46,
    "start_time": "2022-09-10T07:14:22.780Z"
   },
   {
    "duration": 15,
    "start_time": "2022-09-10T07:14:25.252Z"
   },
   {
    "duration": 4,
    "start_time": "2022-09-10T07:14:27.900Z"
   },
   {
    "duration": 10,
    "start_time": "2022-09-10T07:14:30.629Z"
   },
   {
    "duration": 22,
    "start_time": "2022-09-10T07:14:32.099Z"
   },
   {
    "duration": 24,
    "start_time": "2022-09-10T07:14:32.859Z"
   },
   {
    "duration": 5,
    "start_time": "2022-09-10T07:14:35.025Z"
   },
   {
    "duration": 4,
    "start_time": "2022-09-10T07:14:35.828Z"
   },
   {
    "duration": 13,
    "start_time": "2022-09-10T07:14:36.824Z"
   },
   {
    "duration": 8,
    "start_time": "2022-09-10T07:14:38.628Z"
   },
   {
    "duration": 12,
    "start_time": "2022-09-10T07:14:41.307Z"
   },
   {
    "duration": 10,
    "start_time": "2022-09-10T07:14:42.196Z"
   },
   {
    "duration": 29,
    "start_time": "2022-09-10T07:14:45.325Z"
   },
   {
    "duration": 147,
    "start_time": "2022-09-10T07:19:38.102Z"
   },
   {
    "duration": 201,
    "start_time": "2022-09-10T07:23:10.872Z"
   },
   {
    "duration": 186,
    "start_time": "2022-09-10T07:23:39.337Z"
   },
   {
    "duration": 17,
    "start_time": "2022-09-10T07:26:10.146Z"
   },
   {
    "duration": 26,
    "start_time": "2022-09-10T07:26:16.009Z"
   },
   {
    "duration": 18,
    "start_time": "2022-09-10T07:26:24.137Z"
   },
   {
    "duration": 18,
    "start_time": "2022-09-10T07:26:58.531Z"
   },
   {
    "duration": 17,
    "start_time": "2022-09-10T07:27:11.137Z"
   },
   {
    "duration": 85,
    "start_time": "2022-09-10T07:27:16.985Z"
   },
   {
    "duration": 6,
    "start_time": "2022-09-10T07:27:47.146Z"
   },
   {
    "duration": 20,
    "start_time": "2022-09-10T07:28:20.786Z"
   },
   {
    "duration": 22,
    "start_time": "2022-09-10T07:28:34.754Z"
   },
   {
    "duration": 17,
    "start_time": "2022-09-10T07:29:45.028Z"
   },
   {
    "duration": 18,
    "start_time": "2022-09-10T07:29:53.345Z"
   },
   {
    "duration": 26,
    "start_time": "2022-09-10T07:29:57.321Z"
   },
   {
    "duration": 1132,
    "start_time": "2022-09-10T07:30:59.859Z"
   },
   {
    "duration": 854,
    "start_time": "2022-09-10T07:31:09.107Z"
   },
   {
    "duration": 25,
    "start_time": "2022-09-10T07:32:10.276Z"
   },
   {
    "duration": 37,
    "start_time": "2022-09-10T07:33:53.899Z"
   },
   {
    "duration": 1002,
    "start_time": "2022-09-10T07:35:27.493Z"
   },
   {
    "duration": 808,
    "start_time": "2022-09-10T07:35:34.549Z"
   },
   {
    "duration": 22,
    "start_time": "2022-09-10T07:35:45.750Z"
   },
   {
    "duration": 180,
    "start_time": "2022-09-10T07:36:24.407Z"
   },
   {
    "duration": 45,
    "start_time": "2022-09-10T07:36:56.188Z"
   },
   {
    "duration": 60,
    "start_time": "2022-09-10T07:37:20.605Z"
   },
   {
    "duration": 135,
    "start_time": "2022-09-10T07:37:23.996Z"
   },
   {
    "duration": 22,
    "start_time": "2022-09-10T07:37:50.653Z"
   },
   {
    "duration": 127,
    "start_time": "2022-09-10T07:37:53.540Z"
   },
   {
    "duration": 175,
    "start_time": "2022-09-10T07:38:30.486Z"
   },
   {
    "duration": 158,
    "start_time": "2022-09-10T07:39:45.767Z"
   },
   {
    "duration": 150,
    "start_time": "2022-09-10T07:40:05.774Z"
   },
   {
    "duration": 170,
    "start_time": "2022-09-10T07:40:19.734Z"
   },
   {
    "duration": 145,
    "start_time": "2022-09-10T07:41:11.623Z"
   },
   {
    "duration": 135,
    "start_time": "2022-09-10T07:42:00.825Z"
   },
   {
    "duration": 49,
    "start_time": "2022-09-10T07:42:07.141Z"
   },
   {
    "duration": 131,
    "start_time": "2022-09-10T07:42:32.229Z"
   },
   {
    "duration": 207,
    "start_time": "2022-09-10T07:42:55.286Z"
   },
   {
    "duration": 211,
    "start_time": "2022-09-10T07:43:01.374Z"
   },
   {
    "duration": 173,
    "start_time": "2022-09-10T07:43:33.581Z"
   },
   {
    "duration": 127,
    "start_time": "2022-09-10T07:44:16.653Z"
   },
   {
    "duration": 143,
    "start_time": "2022-09-10T07:48:48.423Z"
   },
   {
    "duration": 140,
    "start_time": "2022-09-10T07:54:59.806Z"
   },
   {
    "duration": 195,
    "start_time": "2022-09-10T07:56:27.360Z"
   },
   {
    "duration": 171,
    "start_time": "2022-09-10T07:56:43.679Z"
   },
   {
    "duration": 162,
    "start_time": "2022-09-10T07:56:55.294Z"
   },
   {
    "duration": 207,
    "start_time": "2022-09-10T07:58:16.086Z"
   },
   {
    "duration": 183,
    "start_time": "2022-09-10T07:58:25.559Z"
   },
   {
    "duration": 150,
    "start_time": "2022-09-10T07:59:44.149Z"
   },
   {
    "duration": 191,
    "start_time": "2022-09-10T08:00:00.540Z"
   },
   {
    "duration": 268,
    "start_time": "2022-09-10T08:00:10.755Z"
   },
   {
    "duration": 220,
    "start_time": "2022-09-10T08:00:34.962Z"
   },
   {
    "duration": 198,
    "start_time": "2022-09-10T08:00:45.437Z"
   },
   {
    "duration": 193,
    "start_time": "2022-09-10T08:01:05.286Z"
   },
   {
    "duration": 202,
    "start_time": "2022-09-10T08:01:31.464Z"
   },
   {
    "duration": 165,
    "start_time": "2022-09-10T08:01:39.767Z"
   },
   {
    "duration": 283,
    "start_time": "2022-09-10T08:01:52.784Z"
   },
   {
    "duration": 168,
    "start_time": "2022-09-10T08:02:03.655Z"
   },
   {
    "duration": 200,
    "start_time": "2022-09-10T08:02:12.747Z"
   },
   {
    "duration": 191,
    "start_time": "2022-09-10T08:02:49.262Z"
   },
   {
    "duration": 59,
    "start_time": "2022-09-10T08:14:23.736Z"
   },
   {
    "duration": 151,
    "start_time": "2022-09-10T08:19:34.079Z"
   },
   {
    "duration": 187,
    "start_time": "2022-09-10T08:19:49.008Z"
   },
   {
    "duration": 245,
    "start_time": "2022-09-10T08:20:10.176Z"
   },
   {
    "duration": 110,
    "start_time": "2022-09-10T09:53:51.848Z"
   },
   {
    "duration": 21,
    "start_time": "2022-09-10T09:53:53.841Z"
   },
   {
    "duration": 14,
    "start_time": "2022-09-10T09:53:55.849Z"
   },
   {
    "duration": 9,
    "start_time": "2022-09-10T09:53:59.544Z"
   },
   {
    "duration": 261,
    "start_time": "2022-09-10T10:25:11.386Z"
   },
   {
    "duration": 85,
    "start_time": "2022-09-10T10:26:03.070Z"
   },
   {
    "duration": 162,
    "start_time": "2022-09-10T10:26:09.436Z"
   },
   {
    "duration": 605,
    "start_time": "2022-09-10T10:26:37.758Z"
   },
   {
    "duration": 32,
    "start_time": "2022-09-10T10:26:38.365Z"
   },
   {
    "duration": 35,
    "start_time": "2022-09-10T10:26:38.399Z"
   },
   {
    "duration": 27,
    "start_time": "2022-09-10T10:26:38.436Z"
   },
   {
    "duration": 74,
    "start_time": "2022-09-10T10:26:38.465Z"
   },
   {
    "duration": 10,
    "start_time": "2022-09-10T10:26:38.545Z"
   },
   {
    "duration": 28,
    "start_time": "2022-09-10T10:26:38.560Z"
   },
   {
    "duration": 10,
    "start_time": "2022-09-10T10:26:38.590Z"
   },
   {
    "duration": 42,
    "start_time": "2022-09-10T10:26:38.602Z"
   },
   {
    "duration": 36,
    "start_time": "2022-09-10T10:26:38.646Z"
   },
   {
    "duration": 69,
    "start_time": "2022-09-10T10:26:38.684Z"
   },
   {
    "duration": 21,
    "start_time": "2022-09-10T10:26:38.755Z"
   },
   {
    "duration": 5,
    "start_time": "2022-09-10T10:26:38.777Z"
   },
   {
    "duration": 30,
    "start_time": "2022-09-10T10:26:38.785Z"
   },
   {
    "duration": 65,
    "start_time": "2022-09-10T10:26:38.827Z"
   },
   {
    "duration": 24,
    "start_time": "2022-09-10T10:26:38.893Z"
   },
   {
    "duration": 4,
    "start_time": "2022-09-10T10:26:38.919Z"
   },
   {
    "duration": 50,
    "start_time": "2022-09-10T10:26:38.931Z"
   },
   {
    "duration": 17,
    "start_time": "2022-09-10T10:26:38.983Z"
   },
   {
    "duration": 69,
    "start_time": "2022-09-10T10:26:39.003Z"
   },
   {
    "duration": 19,
    "start_time": "2022-09-10T10:26:39.073Z"
   },
   {
    "duration": 945,
    "start_time": "2022-09-10T10:26:39.094Z"
   },
   {
    "duration": 196,
    "start_time": "2022-09-10T10:26:40.043Z"
   },
   {
    "duration": 199,
    "start_time": "2022-09-10T10:26:40.240Z"
   },
   {
    "duration": 160,
    "start_time": "2022-09-10T10:26:40.440Z"
   },
   {
    "duration": 252,
    "start_time": "2022-09-10T10:26:40.602Z"
   },
   {
    "duration": 274,
    "start_time": "2022-09-10T10:27:40.916Z"
   },
   {
    "duration": 799,
    "start_time": "2022-09-10T10:27:49.060Z"
   }
  ],
  "colab": {
   "name": "dpp_template_part2.ipynb",
   "provenance": []
  },
  "kernelspec": {
   "display_name": "Python 3 (ipykernel)",
   "language": "python",
   "name": "python3"
  },
  "language_info": {
   "codemirror_mode": {
    "name": "ipython",
    "version": 3
   },
   "file_extension": ".py",
   "mimetype": "text/x-python",
   "name": "python",
   "nbconvert_exporter": "python",
   "pygments_lexer": "ipython3",
   "version": "3.9.13"
  },
  "toc": {
   "base_numbering": 1,
   "nav_menu": {},
   "number_sections": true,
   "sideBar": true,
   "skip_h1_title": true,
   "title_cell": "Table of Contents",
   "title_sidebar": "Contents",
   "toc_cell": true,
   "toc_position": {},
   "toc_section_display": true,
   "toc_window_display": false
  }
 },
 "nbformat": 4,
 "nbformat_minor": 5
}
