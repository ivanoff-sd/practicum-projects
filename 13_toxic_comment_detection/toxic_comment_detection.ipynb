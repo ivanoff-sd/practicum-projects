{
 "cells": [
  {
   "cell_type": "markdown",
   "metadata": {},
   "source": [
    "Привет, меня зовут Артем Хуршудов. Сегодня я проверю твой проект.\n",
    "<br> Дальнейшее общение будет происходить на \"ты\" если это не вызывает никаких проблем.\n",
    "<br> Желательно реагировать на каждый мой комментарий ('исправил', 'не понятно как исправить ошибку', ...)\n",
    "<br> Пожалуйста, не удаляй комментарии ревьюера, так как они повышают качество повторного ревью.\n",
    "\n",
    "Комментарии будут в <font color='green'>зеленой</font>, <font color='blue'>синей</font> или <font color='red'>красной</font> рамках:\n",
    "\n",
    "<div class=\"alert alert-block alert-success\">\n",
    "<b>Успех:</b> Если все сделано отлично\n",
    "</div>\n",
    "\n",
    "<div class=\"alert alert-block alert-info\">\n",
    "<b>Совет: </b> Если можно немного улучшить\n",
    "</div>\n",
    "\n",
    "<div class=\"alert alert-block alert-danger\">\n",
    "<b>Ошибка:</b> Если требуются исправления. Работа не может быть принята с красными комментариями.\n",
    "</div>\n",
    "\n",
    "-------------------\n",
    "\n",
    "Будет очень хорошо, если ты будешь помечать свои действия следующим образом:\n",
    "<div class=\"alert alert-block alert-warning\">\n",
    "<b>Комментарий студента:</b> ...\n",
    "</div>\n",
    "\n",
    "<div class=\"alert alert-block alert-warning\">\n",
    "<b>Изменения:</b> Были внесены следующие изменения ...\n",
    "</div>\n",
    "\n",
    "<font color='green'><b>Полезные (и просто интересные) материалы:</b></font> \\\n",
    "Для работы с текстами используют и другие подходы. Например, сейчас активно используются RNN (LSTM) и трансформеры (BERT и другие с улицы Сезам, например, ELMO). НО! Они не являются панацеей, не всегда они нужны, так как и TF-IDF или Word2Vec + модели из классического ML тоже могут справляться. \\\n",
    "BERT тяжелый, существует много его вариаций для разных задач, есть готовые модели, есть надстройки над библиотекой transformers. Если, обучать BERT на GPU (можно в Google Colab или Kaggle), то должно быть побыстрее.\\\n",
    "https://huggingface.co/transformers/model_doc/bert.html \\\n",
    "https://t.me/renat_alimbekov \\\n",
    "https://colah.github.io/posts/2015-08-Understanding-LSTMs/ - Про LSTM \\\n",
    "https://web.stanford.edu/~jurafsky/slp3/10.pdf - про энкодер-декодер модели, этеншены\\\n",
    "https://pytorch.org/tutorials/beginner/transformer_tutorial.html - официальный гайд\n",
    "по трансформеру от создателей pytorch\\\n",
    "https://transformer.huggingface.co/ - поболтать с трансформером \\\n",
    "Библиотеки: allennlp, fairseq, transformers, tensorflow-text — множествореализованных\n",
    "методов для трансформеров методов NLP \\\n",
    "Word2Vec https://radimrehurek.com/gensim/models/word2vec.html \n",
    "\n",
    "<font color='green'>Пример BERT с GPU:\n",
    "```python\n",
    "%%time\n",
    "from tqdm import notebook\n",
    "batch_size = 2 # для примера возьмем такой батч, где будет всего две строки датасета\n",
    "embeddings = [] \n",
    "for i in notebook.tqdm(range(input_ids.shape[0] // batch_size)):\n",
    "        batch = torch.LongTensor(input_ids[batch_size*i:batch_size*(i+1)]).cuda() # закидываем тензор на GPU\n",
    "        attention_mask_batch = torch.LongTensor(attention_mask[batch_size*i:batch_size*(i+1)]).cuda()\n",
    "        \n",
    "        with torch.no_grad():\n",
    "            model.cuda()\n",
    "            batch_embeddings = model(batch, attention_mask=attention_mask_batch)\n",
    "        \n",
    "        embeddings.append(batch_embeddings[0][:,0,:].cpu().numpy()) # перевод обратно на проц, чтобы в нумпай кинуть\n",
    "        del batch\n",
    "        del attention_mask_batch\n",
    "        del batch_embeddings\n",
    "        \n",
    "features = np.concatenate(embeddings) \n",
    "```\n",
    "Можно сделать предварительную проверку на наличие GPU.\\\n",
    "Например, так: ```device = torch.device(\"cuda:0\") if torch.cuda.is_available() else torch.device(\"cpu\")```\\\n",
    "Тогда вместо .cuda() нужно писать .to(device)\n",
    "\n",
    "Если понравилась работа с текстами, то можешь посмотреть очень интересный (но очень-очень сложный) курс лекций: https://github.com/yandexdataschool/nlp_course .\n",
    "</font>\n",
    "\n",
    "### <font color='orange'>Общее впечатление</font>\n",
    "* Большое спасибо за проделанную работу. Видно, что приложено много усилий.\n",
    "* Радует, что ноутбук хорошо структурирован. Приятно проверять такие работы.\n",
    "* Отлично, что стоп-слова были исключены при векторизации!\n",
    "* Над этим проектом нужно будет еще немного поработать. Однако, изменения не должны занять много времени.\n",
    "* С радостью отвечу на твои вопросы, если они есть. Лучше всего их собрать в следующей ячейке. Жду новую версию проекта.\n",
    "\n",
    "\n",
    "<div class=\"alert alert-block alert-warning\">\n",
    "<b>Комментарий студента:</b> \n",
    "   \n",
    "Добрый день, Артём!\n",
    "Благодарю за подсказки, я постарался их максимально использовать.\n",
    "\n",
    "    \n",
    "Какие правки мною внесены:\n",
    "    \n",
    "    \n",
    "    пункт 2.3, не использовал перевод в юникод\n",
    "    \n",
    "    пункт 2.3, - поменял лемматизатор на правильный\n",
    "    \n",
    "    пункт 3 - при правильной лемматизации качество моделей изменилось, пришлось дообучить еще 2, из которых оптимальной стала SVC()\n",
    "    \n",
    "    пункт 4 - провёл эксперимент с пайплайном. Целиком проект не переписал, тк в настоящее время не располагаю приблизительно 4 часами на кросс-валидацию\n",
    "    \n",
    "    пункт 5 и 6 - поменял в соответствии с изменившимися результатами работы\n",
    " \n",
    "</div>\n",
    "\n"
   ]
  },
  {
   "cell_type": "markdown",
   "metadata": {},
   "source": [
    "### <font color='orange'>Общее впечатление (ревью 2)</font>\n",
    "* После исправлений проект улучшился и теперь он может быть зачтен.\n",
    "* Для удобства все новые комментарии обозначены фразой \"ревью 2\".\n",
    "* Удачи в дальнейшем обучении и следующих работах!"
   ]
  },
  {
   "cell_type": "markdown",
   "metadata": {
    "toc": true
   },
   "source": [
    "<h1>Содержание<span class=\"tocSkip\"></span></h1>\n",
    "<div class=\"toc\"><ul class=\"toc-item\"><li><ul class=\"toc-item\"><li><span><a href=\"#Общее-впечатление\" data-toc-modified-id=\"Общее-впечатление-0.1\"><span class=\"toc-item-num\">0.1&nbsp;&nbsp;</span><font color=\"orange\">Общее впечатление</font></a></span></li><li><span><a href=\"#Общее-впечатление-(ревью-2)\" data-toc-modified-id=\"Общее-впечатление-(ревью-2)-0.2\"><span class=\"toc-item-num\">0.2&nbsp;&nbsp;</span><font color=\"orange\">Общее впечатление (ревью 2)</font></a></span></li></ul></li><li><span><a href=\"#Описание-проекта\" data-toc-modified-id=\"Описание-проекта-1\"><span class=\"toc-item-num\">1&nbsp;&nbsp;</span>Описание проекта</a></span><ul class=\"toc-item\"><li><span><a href=\"#Цель-и-задачи-работы.\" data-toc-modified-id=\"Цель-и-задачи-работы.-1.1\"><span class=\"toc-item-num\">1.1&nbsp;&nbsp;</span>Цель и задачи работы.</a></span></li><li><span><a href=\"#Описание-данных\" data-toc-modified-id=\"Описание-данных-1.2\"><span class=\"toc-item-num\">1.2&nbsp;&nbsp;</span>Описание данных</a></span></li></ul></li><li><span><a href=\"#Подготовка\" data-toc-modified-id=\"Подготовка-2\"><span class=\"toc-item-num\">2&nbsp;&nbsp;</span>Подготовка</a></span><ul class=\"toc-item\"><li><span><a href=\"#Импорт-библиотек\" data-toc-modified-id=\"Импорт-библиотек-2.1\"><span class=\"toc-item-num\">2.1&nbsp;&nbsp;</span>Импорт библиотек</a></span></li><li><span><a href=\"#Загрузка-и-осмотр-датасета\" data-toc-modified-id=\"Загрузка-и-осмотр-датасета-2.2\"><span class=\"toc-item-num\">2.2&nbsp;&nbsp;</span>Загрузка и осмотр датасета</a></span></li><li><span><a href=\"#Лемматизация\" data-toc-modified-id=\"Лемматизация-2.3\"><span class=\"toc-item-num\">2.3&nbsp;&nbsp;</span>Лемматизация</a></span></li><li><span><a href=\"#Расчет-TF-IDF\" data-toc-modified-id=\"Расчет-TF-IDF-2.4\"><span class=\"toc-item-num\">2.4&nbsp;&nbsp;</span>Расчет TF-IDF</a></span></li></ul></li><li><span><a href=\"#Обучение\" data-toc-modified-id=\"Обучение-3\"><span class=\"toc-item-num\">3&nbsp;&nbsp;</span>Обучение</a></span><ul class=\"toc-item\"><li><span><a href=\"#LogisticRegression()\" data-toc-modified-id=\"LogisticRegression()-3.1\"><span class=\"toc-item-num\">3.1&nbsp;&nbsp;</span>LogisticRegression()</a></span></li><li><span><a href=\"#RandomForestClassifier()\" data-toc-modified-id=\"RandomForestClassifier()-3.2\"><span class=\"toc-item-num\">3.2&nbsp;&nbsp;</span>RandomForestClassifier()</a></span></li><li><span><a href=\"#LGBMClassifier\" data-toc-modified-id=\"LGBMClassifier-3.3\"><span class=\"toc-item-num\">3.3&nbsp;&nbsp;</span>LGBMClassifier</a></span></li><li><span><a href=\"#SVC\" data-toc-modified-id=\"SVC-3.4\"><span class=\"toc-item-num\">3.4&nbsp;&nbsp;</span>SVC</a></span></li><li><span><a href=\"#LinearSVC\" data-toc-modified-id=\"LinearSVC-3.5\"><span class=\"toc-item-num\">3.5&nbsp;&nbsp;</span>LinearSVC</a></span></li></ul></li><li><span><a href=\"#Pipeline\" data-toc-modified-id=\"Pipeline-4\"><span class=\"toc-item-num\">4&nbsp;&nbsp;</span>Pipeline</a></span></li><li><span><a href=\"#Тестирование-лучшей-модели\" data-toc-modified-id=\"Тестирование-лучшей-модели-5\"><span class=\"toc-item-num\">5&nbsp;&nbsp;</span>Тестирование лучшей модели</a></span></li><li><span><a href=\"#Выводы\" data-toc-modified-id=\"Выводы-6\"><span class=\"toc-item-num\">6&nbsp;&nbsp;</span>Выводы</a></span><ul class=\"toc-item\"><li><span><a href=\"#Цель-и-задачи-работы.\" data-toc-modified-id=\"Цель-и-задачи-работы.-6.1\"><span class=\"toc-item-num\">6.1&nbsp;&nbsp;</span>Цель и задачи работы.</a></span></li><li><span><a href=\"#Материалы-и-методы\" data-toc-modified-id=\"Материалы-и-методы-6.2\"><span class=\"toc-item-num\">6.2&nbsp;&nbsp;</span>Материалы и методы</a></span></li><li><span><a href=\"#Ход-выполнения-проекта\" data-toc-modified-id=\"Ход-выполнения-проекта-6.3\"><span class=\"toc-item-num\">6.3&nbsp;&nbsp;</span>Ход выполнения проекта</a></span></li><li><span><a href=\"#Результаты-исследования\" data-toc-modified-id=\"Результаты-исследования-6.4\"><span class=\"toc-item-num\">6.4&nbsp;&nbsp;</span>Результаты исследования</a></span></li><li><span><a href=\"#Практические-рекомендации\" data-toc-modified-id=\"Практические-рекомендации-6.5\"><span class=\"toc-item-num\">6.5&nbsp;&nbsp;</span>Практические рекомендации</a></span></li></ul></li><li><span><a href=\"#Чек-лист-проверки\" data-toc-modified-id=\"Чек-лист-проверки-7\"><span class=\"toc-item-num\">7&nbsp;&nbsp;</span>Чек-лист проверки</a></span></li></ul></div>"
   ]
  },
  {
   "cell_type": "markdown",
   "metadata": {},
   "source": [
    "# Проект для «Викишоп»\n",
    "## Описание проекта"
   ]
  },
  {
   "cell_type": "markdown",
   "metadata": {},
   "source": [
    "Интернет-магазин «Викишоп» запускает новый сервис. Теперь пользователи могут редактировать и дополнять описания товаров, как в вики-сообществах. То есть клиенты предлагают свои правки и комментируют изменения других. Магазину нужен инструмент, который будет искать токсичные комментарии и отправлять их на модерацию. \n",
    "\n",
    "### Цель и задачи работы.\n",
    "- Цель: обучить модель классифицировать комментарии на позитивные и негативные со значением метрики качества F1 не меньше 0.75.\n",
    "\n",
    "- Задачи:\n",
    "    - Очистить и лемматизировать корпус;\n",
    "    - Рассчитать векторное представление текста на основе TF-IDF;\n",
    "    - Получить обучающую и тестовую выборки, выделить признаки и целевой признак;\n",
    "    - Обучить различные модели и проанализировать гиперпараметры;\n",
    "    - Выбрать и протестировать оптимальную модель.\n",
    "\n",
    "### Описание данных\n",
    "\n",
    "Работа будет выполнена на размеченном датасете с комментариями пользователей, полученном от заказчика. Столбец *text* в нём содержит текст комментария, а *toxic* — целевой признак."
   ]
  },
  {
   "cell_type": "markdown",
   "metadata": {},
   "source": [
    "## Подготовка"
   ]
  },
  {
   "cell_type": "markdown",
   "metadata": {},
   "source": [
    "### Импорт библиотек"
   ]
  },
  {
   "cell_type": "code",
   "execution_count": 33,
   "metadata": {},
   "outputs": [],
   "source": [
    "import pandas as pd\n",
    "import numpy as np\n",
    "import re\n",
    "\n",
    "from sklearn.feature_extraction.text import TfidfVectorizer\n",
    "from sklearn.model_selection import train_test_split\n",
    "from sklearn.model_selection import GridSearchCV\n",
    "from sklearn.preprocessing import StandardScaler\n",
    "from sklearn.linear_model import LogisticRegression\n",
    "from sklearn.ensemble import RandomForestClassifier\n",
    "from sklearn.metrics import f1_score\n",
    "from sklearn.svm import SVC, LinearSVC\n",
    "from sklearn.pipeline import Pipeline\n",
    "\n",
    "from lightgbm import LGBMClassifier\n",
    "\n"
   ]
  },
  {
   "cell_type": "code",
   "execution_count": 2,
   "metadata": {},
   "outputs": [
    {
     "name": "stderr",
     "output_type": "stream",
     "text": [
      "[nltk_data] Downloading package stopwords to /home/jovyan/nltk_data...\n",
      "[nltk_data]   Package stopwords is already up-to-date!\n"
     ]
    }
   ],
   "source": [
    "import nltk\n",
    "from nltk.corpus import stopwords as nltk_stopwords\n",
    "nltk.download('stopwords')\n",
    "from nltk.stem import WordNetLemmatizer"
   ]
  },
  {
   "cell_type": "markdown",
   "metadata": {},
   "source": [
    "<div class=\"alert alert-block alert-success\">\n",
    "<b>Успех:</b> Отлично, что все импорты собраны в верхних ячейках ноутбука! Если у того, кто будет запускать твой ноутбук будут отсутствовать некоторые библиотеки, то он это увидит сразу, а не в процессе!\n",
    "</div>"
   ]
  },
  {
   "cell_type": "markdown",
   "metadata": {},
   "source": [
    "### Загрузка и осмотр датасета"
   ]
  },
  {
   "cell_type": "code",
   "execution_count": 3,
   "metadata": {},
   "outputs": [],
   "source": [
    "data = pd.read_csv('/datasets/toxic_comments.csv')"
   ]
  },
  {
   "cell_type": "code",
   "execution_count": 4,
   "metadata": {
    "scrolled": true
   },
   "outputs": [
    {
     "name": "stdout",
     "output_type": "stream",
     "text": [
      "<class 'pandas.core.frame.DataFrame'>\n",
      "RangeIndex: 159292 entries, 0 to 159291\n",
      "Data columns (total 3 columns):\n",
      " #   Column      Non-Null Count   Dtype \n",
      "---  ------      --------------   ----- \n",
      " 0   Unnamed: 0  159292 non-null  int64 \n",
      " 1   text        159292 non-null  object\n",
      " 2   toxic       159292 non-null  int64 \n",
      "dtypes: int64(2), object(1)\n",
      "memory usage: 3.6+ MB\n"
     ]
    }
   ],
   "source": [
    "data.info()"
   ]
  },
  {
   "cell_type": "code",
   "execution_count": 5,
   "metadata": {
    "scrolled": false
   },
   "outputs": [
    {
     "data": {
      "text/html": [
       "<div>\n",
       "<style scoped>\n",
       "    .dataframe tbody tr th:only-of-type {\n",
       "        vertical-align: middle;\n",
       "    }\n",
       "\n",
       "    .dataframe tbody tr th {\n",
       "        vertical-align: top;\n",
       "    }\n",
       "\n",
       "    .dataframe thead th {\n",
       "        text-align: right;\n",
       "    }\n",
       "</style>\n",
       "<table border=\"1\" class=\"dataframe\">\n",
       "  <thead>\n",
       "    <tr style=\"text-align: right;\">\n",
       "      <th></th>\n",
       "      <th>Unnamed: 0</th>\n",
       "      <th>text</th>\n",
       "      <th>toxic</th>\n",
       "    </tr>\n",
       "  </thead>\n",
       "  <tbody>\n",
       "    <tr>\n",
       "      <th>0</th>\n",
       "      <td>0</td>\n",
       "      <td>Explanation\\nWhy the edits made under my usern...</td>\n",
       "      <td>0</td>\n",
       "    </tr>\n",
       "    <tr>\n",
       "      <th>1</th>\n",
       "      <td>1</td>\n",
       "      <td>D'aww! He matches this background colour I'm s...</td>\n",
       "      <td>0</td>\n",
       "    </tr>\n",
       "    <tr>\n",
       "      <th>2</th>\n",
       "      <td>2</td>\n",
       "      <td>Hey man, I'm really not trying to edit war. It...</td>\n",
       "      <td>0</td>\n",
       "    </tr>\n",
       "    <tr>\n",
       "      <th>3</th>\n",
       "      <td>3</td>\n",
       "      <td>\"\\nMore\\nI can't make any real suggestions on ...</td>\n",
       "      <td>0</td>\n",
       "    </tr>\n",
       "    <tr>\n",
       "      <th>4</th>\n",
       "      <td>4</td>\n",
       "      <td>You, sir, are my hero. Any chance you remember...</td>\n",
       "      <td>0</td>\n",
       "    </tr>\n",
       "  </tbody>\n",
       "</table>\n",
       "</div>"
      ],
      "text/plain": [
       "   Unnamed: 0                                               text  toxic\n",
       "0           0  Explanation\\nWhy the edits made under my usern...      0\n",
       "1           1  D'aww! He matches this background colour I'm s...      0\n",
       "2           2  Hey man, I'm really not trying to edit war. It...      0\n",
       "3           3  \"\\nMore\\nI can't make any real suggestions on ...      0\n",
       "4           4  You, sir, are my hero. Any chance you remember...      0"
      ]
     },
     "execution_count": 5,
     "metadata": {},
     "output_type": "execute_result"
    }
   ],
   "source": [
    "data.head()"
   ]
  },
  {
   "cell_type": "code",
   "execution_count": 6,
   "metadata": {},
   "outputs": [],
   "source": [
    "data = data.drop('Unnamed: 0', axis=1)"
   ]
  },
  {
   "cell_type": "code",
   "execution_count": 7,
   "metadata": {},
   "outputs": [
    {
     "name": "stdout",
     "output_type": "stream",
     "text": [
      "Количество пропусков в данных: text     0\n",
      "toxic    0\n",
      "dtype: int64\n"
     ]
    }
   ],
   "source": [
    "print(\"Количество пропусков в данных:\", data.isna().sum())"
   ]
  },
  {
   "cell_type": "code",
   "execution_count": 8,
   "metadata": {},
   "outputs": [
    {
     "name": "stdout",
     "output_type": "stream",
     "text": [
      "Количество дубликатов в данных: 0\n"
     ]
    }
   ],
   "source": [
    "print(\"Количество дубликатов в данных:\", data.duplicated().sum())"
   ]
  },
  {
   "cell_type": "code",
   "execution_count": 9,
   "metadata": {},
   "outputs": [
    {
     "name": "stdout",
     "output_type": "stream",
     "text": [
      "Баланс целевого признака: доля положительного класса составил 0.10161213369158527\n"
     ]
    }
   ],
   "source": [
    "print(\"Баланс целевого признака: доля положительного класса составил\", data['toxic'].mean())"
   ]
  },
  {
   "cell_type": "markdown",
   "metadata": {},
   "source": [
    "При первичном исследовании данных найден неинформативный столбец 'Unnamed: 0', который удалён.\n",
    "Пропусков в данных нет.\n",
    "Дубликатов нет.\n",
    "Определяется значительный дисбаланс классов целевого признака, доля положительного класса приблизительно 10%.\n",
    "\n",
    "<div class=\"alert alert-block alert-success\">\n",
    "<b>Успех:</b> Данные загружены корреткно. Радует, что баланс классов был изучен.\n",
    "</div>\n",
    "\n",
    "### Лемматизация\n",
    "Ниже лемматизируем текст и удалим символы, не используемые при расчёте TF-IDF."
   ]
  },
  {
   "cell_type": "markdown",
   "metadata": {},
   "source": [
    "<div class=\"alert alert-block alert-danger\">\n",
    "<b>Ошибка:</b> Приводить тексты к юникоду не имеет смысла, так как они все на английском. Это может привести к падению ядра из-за увеличения объема занимаемой памяти.\n",
    "</div>\n",
    "\n",
    "<div class=\"alert alert-block alert-warning\">\n",
    "<b>Комментарий студента</b> \n",
    "    \n",
    "Спасибо! убрал\n",
    "</div>"
   ]
  },
  {
   "cell_type": "markdown",
   "metadata": {},
   "source": [
    "<div class=\"alert alert-block alert-success\">\n",
    "<b>Успех (ревью 2):</b> ОК.\n",
    "</div>"
   ]
  },
  {
   "cell_type": "code",
   "execution_count": 10,
   "metadata": {
    "scrolled": true
   },
   "outputs": [
    {
     "data": {
      "text/plain": [
       "0         Explanation\\nWhy the edits made under my usern...\n",
       "1         D'aww! He matches this background colour I'm s...\n",
       "2         Hey man, I'm really not trying to edit war. It...\n",
       "3         \"\\nMore\\nI can't make any real suggestions on ...\n",
       "4         You, sir, are my hero. Any chance you remember...\n",
       "                                ...                        \n",
       "159287    \":::::And for the second time of asking, when ...\n",
       "159288    You should be ashamed of yourself \\n\\nThat is ...\n",
       "159289    Spitzer \\n\\nUmm, theres no actual article for ...\n",
       "159290    And it looks like it was actually you who put ...\n",
       "159291    \"\\nAnd ... I really don't think you understand...\n",
       "Name: text, Length: 159292, dtype: object"
      ]
     },
     "execution_count": 10,
     "metadata": {},
     "output_type": "execute_result"
    }
   ],
   "source": [
    "corpus = data['text']\n",
    "corpus"
   ]
  },
  {
   "cell_type": "code",
   "execution_count": 11,
   "metadata": {
    "scrolled": false
   },
   "outputs": [],
   "source": [
    "corpus = corpus.apply(lambda x:re.sub(r'[^a-zA-Z]', ' ', x))\n",
    "# с помощью регулярного выражения оставляем только символы с a по z,\n",
    "# а также A по Z, проче заменяем на пробелы "
   ]
  },
  {
   "cell_type": "markdown",
   "metadata": {},
   "source": [
    "<div class=\"alert alert-block alert-success\">\n",
    "<b>Успех:</b> Очистка была сделана верно.\n",
    "</div>"
   ]
  },
  {
   "cell_type": "code",
   "execution_count": 12,
   "metadata": {},
   "outputs": [],
   "source": [
    "corpus = corpus.apply(lambda x: x.split())\n",
    "\n",
    "# удаляем образовавшиеся в процессе замены \"лишние\" пробелы"
   ]
  },
  {
   "cell_type": "code",
   "execution_count": 13,
   "metadata": {},
   "outputs": [
    {
     "data": {
      "text/plain": [
       "0         [Explanation, Why, the, edits, made, under, my...\n",
       "1         [D, aww, He, matches, this, background, colour...\n",
       "2         [Hey, man, I, m, really, not, trying, to, edit...\n",
       "3         [More, I, can, t, make, any, real, suggestions...\n",
       "4         [You, sir, are, my, hero, Any, chance, you, re...\n",
       "                                ...                        \n",
       "159287    [And, for, the, second, time, of, asking, when...\n",
       "159288    [You, should, be, ashamed, of, yourself, That,...\n",
       "159289    [Spitzer, Umm, theres, no, actual, article, fo...\n",
       "159290    [And, it, looks, like, it, was, actually, you,...\n",
       "159291    [And, I, really, don, t, think, you, understan...\n",
       "Name: text, Length: 159292, dtype: object"
      ]
     },
     "execution_count": 13,
     "metadata": {},
     "output_type": "execute_result"
    }
   ],
   "source": [
    "corpus"
   ]
  },
  {
   "cell_type": "code",
   "execution_count": 14,
   "metadata": {
    "scrolled": true
   },
   "outputs": [],
   "source": [
    " \n",
    "wnl = WordNetLemmatizer()\n",
    "# объявляем объект WordNetLemmatizer\n",
    " \n",
    " "
   ]
  },
  {
   "cell_type": "code",
   "execution_count": 15,
   "metadata": {},
   "outputs": [],
   "source": [
    "def lemmatize_list(list):\n",
    "    for i in range(len(list)):\n",
    "        list[i] = wnl.lemmatize(list[i])\n",
    "    return list"
   ]
  },
  {
   "cell_type": "code",
   "execution_count": 16,
   "metadata": {
    "scrolled": true
   },
   "outputs": [
    {
     "name": "stdout",
     "output_type": "stream",
     "text": [
      "CPU times: user 32.6 s, sys: 141 ms, total: 32.7 s\n",
      "Wall time: 33.7 s\n"
     ]
    }
   ],
   "source": [
    "%%time\n",
    "corpus = corpus.apply(lemmatize_list)"
   ]
  },
  {
   "cell_type": "code",
   "execution_count": 17,
   "metadata": {},
   "outputs": [],
   "source": [
    "corpus = corpus.apply(lambda x: \" \".join(x))\n",
    "# объединяем леммы"
   ]
  },
  {
   "cell_type": "code",
   "execution_count": 18,
   "metadata": {
    "scrolled": true
   },
   "outputs": [
    {
     "data": {
      "text/plain": [
       "0         Explanation Why the edits made under my userna...\n",
       "1         D aww He match this background colour I m seem...\n",
       "2         Hey man I m really not trying to edit war It s...\n",
       "3         More I can t make any real suggestion on impro...\n",
       "4         You sir are my hero Any chance you remember wh...\n",
       "                                ...                        \n",
       "159287    And for the second time of asking when your vi...\n",
       "159288    You should be ashamed of yourself That is a ho...\n",
       "159289    Spitzer Umm there no actual article for prosti...\n",
       "159290    And it look like it wa actually you who put on...\n",
       "159291    And I really don t think you understand I came...\n",
       "Name: text, Length: 159292, dtype: object"
      ]
     },
     "execution_count": 18,
     "metadata": {},
     "output_type": "execute_result"
    }
   ],
   "source": [
    "corpus"
   ]
  },
  {
   "cell_type": "markdown",
   "metadata": {},
   "source": [
    "<div class=\"alert alert-block alert-danger\">\n",
    "<b>Ошибка:</b> Этот лемматизатор работает только с русским языком, так что его нет смысла применять. Я бы использовал WordNetLemmatizer. Отмечу, что его нужно применять к словам, а не ко всему тексту сразу.\n",
    "</div>\n",
    "\n",
    "<div class=\"alert alert-block alert-warning\">\n",
    "<b>Ошибка:</b> Благодарю. Исправлено!\n",
    "</div>"
   ]
  },
  {
   "cell_type": "markdown",
   "metadata": {},
   "source": [
    "<div class=\"alert alert-block alert-success\">\n",
    "<b>Успех (ревью 2):</b> Отлично!\n",
    "</div>"
   ]
  },
  {
   "cell_type": "markdown",
   "metadata": {},
   "source": [
    "Корпус лемматизирован. \n",
    "\n",
    "В качестве признаков при ML будет использован показатель TF-IDF.\n",
    "\n",
    "### Расчет TF-IDF"
   ]
  },
  {
   "cell_type": "code",
   "execution_count": 19,
   "metadata": {
    "scrolled": true
   },
   "outputs": [
    {
     "name": "stdout",
     "output_type": "stream",
     "text": [
      "(119469, 138039)\n",
      "(39823, 138039)\n",
      "(119469,)\n",
      "(39823,)\n",
      "CPU times: user 7.77 s, sys: 98.1 ms, total: 7.87 s\n",
      "Wall time: 8.93 s\n"
     ]
    }
   ],
   "source": [
    "%%time\n",
    "stopwords = set(nltk_stopwords.words('english'))\n",
    "# задаем стоп-слова\n",
    "vect = TfidfVectorizer(stop_words=stopwords)\n",
    "# создаем объект класса TfidfVectorizer\n",
    "features_train, features_test, target_train, target_test = train_test_split(\n",
    "    corpus, data['toxic'], test_size = 0.25, stratify=data['toxic'], random_state=13)\n",
    "# создаем стратифицированные выборки - обучающую и тестовую\n",
    "\n",
    "features_train = vect.fit_transform(features_train)\n",
    "# обучаем TfIdfVectorizer только на трэйне\n",
    "\n",
    "features_test = vect.transform(features_test)\n",
    "# применяем также к тестовой выборке\n",
    "\n",
    "for _ in [features_train, features_test, target_train, target_test]:\n",
    "    print(_.shape)\n",
    "# убедимся, что размеры выборок соответствуют ожиданиям"
   ]
  },
  {
   "cell_type": "markdown",
   "metadata": {},
   "source": [
    "TF-IDF рассчитана, выборки получены. Можно приступать к обучению. В данной работе будут использованы модели логистической регрессии, случайного леса и классификтор LGBM."
   ]
  },
  {
   "cell_type": "markdown",
   "metadata": {},
   "source": [
    "\n",
    "<div class=\"alert alert-block alert-success\">\n",
    "<b>Успех:</b> Разбиение было сделано верно. Отлично, что векторизатор был обучен только на тренировочной части данных.\n",
    "</div>"
   ]
  },
  {
   "cell_type": "markdown",
   "metadata": {},
   "source": [
    "## Обучение"
   ]
  },
  {
   "cell_type": "markdown",
   "metadata": {},
   "source": [
    "### LogisticRegression()"
   ]
  },
  {
   "cell_type": "code",
   "execution_count": null,
   "metadata": {},
   "outputs": [],
   "source": [
    "# param_grid_lin={'solver': ['liblinear', 'lbfgs', 'sag', 'saga', 'newton-cg'],\n",
    "#                 'class_weight': ['balanced'],\n",
    "#                 'C':[0.6, 0.7,0.8, 0.9, 1]\n",
    "#                 'max_iter':[50, 100, 200]\n",
    "#                 'random_state':[13]}\n",
    "\n",
    "# При подборе гиперпараметров использовался данный parameter grid. Он закомментирован и заменён оптимальным набором\n",
    "# с целью ускорения работы кода."
   ]
  },
  {
   "cell_type": "code",
   "execution_count": null,
   "metadata": {},
   "outputs": [],
   "source": [
    "param_grid_lin={'solver': ['lbfgs','sag', 'saga', 'newton-cg'],\n",
    "                'class_weight': ['balanced'],\n",
    "                'max_iter':[300],\n",
    "                'C':[1, 0.9],\n",
    "                'random_state':[13]}"
   ]
  },
  {
   "cell_type": "code",
   "execution_count": null,
   "metadata": {},
   "outputs": [],
   "source": [
    "# scaler = StandardScaler(with_mean=False)\n",
    "# features_scal_train = scaler.fit_transform(features_train)\n",
    "\n",
    "# Скейлер при попытке его использования значимо ухудшил\n",
    "# результаты, поэтому он не применен в окончательной версии. "
   ]
  },
  {
   "cell_type": "code",
   "execution_count": null,
   "metadata": {
    "scrolled": true
   },
   "outputs": [],
   "source": [
    "\n",
    "linear_cv = GridSearchCV(estimator=LogisticRegression(),\n",
    "                      param_grid=param_grid_lin,\n",
    "                      scoring='f1',\n",
    "                      n_jobs=-1,\n",
    "                         \n",
    "                         \n",
    "                      cv=3,\n",
    "                      verbose=2)\n"
   ]
  },
  {
   "cell_type": "code",
   "execution_count": null,
   "metadata": {},
   "outputs": [],
   "source": [
    "%%time\n",
    "linear_cv.fit(features_train, target_train)\n",
    "print('Лучший результат F1: {:.2f}'.format(linear_cv.best_score_))\n",
    "print('при оптимальных гиперпараметрах:\\n', linear_cv.best_params_)"
   ]
  },
  {
   "cell_type": "markdown",
   "metadata": {},
   "source": [
    "Модель логистической регрессии позволила добиться значения F1: 0.74. \n",
    "\n",
    "при гиперпараметрах:  {'C': 1, 'class_weight': 'balanced', 'max_iter': 150, 'random_state': 13, 'solver': 'liblinear'}\n",
    "\n",
    "Данное значение F1 не удовлетворяет требованиям заказчика, поэтому модель использоваться в дальнейшем не будет.\n",
    "\n",
    "\n",
    "<div class=\"alert alert-block alert-info\">\n",
    "<b>Совет: </b> Напомню, что внутри кросс-валидации происходит разбиение выборки на треин и валидацию. Однако, в таком случае векторизатор обучен на всей выборке, а это не совсем корректно. Для избежания такого эффекта можно использовать <a href=\"https://scikit-learn.org/stable/modules/generated/sklearn.pipeline.Pipeline.html\">пайплайн</a>. <a href=\"https://medium.com/analytics-vidhya/ml-pipelines-using-scikit-learn-and-gridsearchcv-fe605a7f9e05\">Тут</a> есть пример.\n",
    "</div>\n",
    "\n",
    "\n",
    "<div class=\"alert alert-block alert-warning\">\n",
    "<b>Комментарий студента: </b>\n",
    "    \n",
    "Спасибо, провёл эксперимент с пайплайном, выделив его в отдельный пункт 4. Как работает, разобрался, однако если переписать под него весь проект, на кроссвалидацию всех моделей уйдёт не менее 4 часов, а я сейчас не располагаю таким временем =( поэтому не переписал проект целиком.\n",
    "    \n",
    "</div>\n",
    "\n",
    "\n",
    "\n",
    "### RandomForestClassifier()"
   ]
  },
  {
   "cell_type": "code",
   "execution_count": null,
   "metadata": {},
   "outputs": [],
   "source": [
    "# param_grid_forest = {'random_state': [13],\n",
    "#                      'class_weight': ['balanced'],\n",
    "#                      'max_depth': range(1,26),\n",
    "#                      'n_estimators': [20, 50, 80, 100, 150, 190, 200]}\n",
    "\n",
    "# При подборе гиперпараметров использовался данный parameter grid. Он закомментирован и заменён оптимальным набором\n",
    "# с целью ускорения работы кода."
   ]
  },
  {
   "cell_type": "code",
   "execution_count": null,
   "metadata": {},
   "outputs": [],
   "source": [
    "param_grid_forest = {'random_state': [13],\n",
    "                     'class_weight':['balanced'],\n",
    "                     'max_depth': [25],\n",
    "                     'n_estimators': [190]}"
   ]
  },
  {
   "cell_type": "code",
   "execution_count": null,
   "metadata": {
    "scrolled": true
   },
   "outputs": [],
   "source": [
    "%%time\n",
    "forest_cv = GridSearchCV(estimator=RandomForestClassifier(),\n",
    "                      param_grid=param_grid_forest,\n",
    "                      scoring='f1',\n",
    "                      n_jobs=-1,\n",
    "                      cv=3,\n",
    "                      verbose=2)\n",
    "forest_cv.fit(features_train, target_train)\n",
    "print(forest_cv.best_score_)\n",
    "print(forest_cv.best_params_)"
   ]
  },
  {
   "cell_type": "markdown",
   "metadata": {},
   "source": [
    "Модель случайного леса позволила добиться значения F1: 0,42\n",
    "\n",
    "при гиперпараметрах: {'class_weight': 'balanced', 'max_depth': 25, 'n_estimators': 190, 'random_state': 13}\n",
    "\n",
    "Данная модель не достигла уровня F1-метрики, требуемого заказчиком, поэтому в дальнейшем использоваться не будет.\n",
    "\n",
    "\n",
    "### LGBMClassifier"
   ]
  },
  {
   "cell_type": "code",
   "execution_count": null,
   "metadata": {},
   "outputs": [],
   "source": [
    "# param_grid_lgbm = {'random_state':[13],\n",
    "                  \n",
    "#                   'num_leaves': range(10,41,10),\n",
    "#                   'n_estimators': [30, 50, 100, 150, 300, 450],\n",
    "#                   'max_depth': range(1, 16),\n",
    "#                   'learning_rate': [1, 0.1],\n",
    "#                   'class_weight':['balanced']}\n",
    "# Этот parameter grid использовался при подборе"
   ]
  },
  {
   "cell_type": "code",
   "execution_count": null,
   "metadata": {},
   "outputs": [],
   "source": [
    "# Здесь указаны лучшие значения для быстродействия кода\n",
    "\n",
    "param_grid_lgbm = {'random_state':[13],\n",
    "                  \n",
    "                  'num_leaves': [25],\n",
    "                  'n_estimators': [440],\n",
    "                  'max_depth': [9],\n",
    "                  'learning_rate': [1],\n",
    "                  'class_weight':['balanced'],\n",
    "                  #'objective':['binary']\n",
    "                  }"
   ]
  },
  {
   "cell_type": "code",
   "execution_count": null,
   "metadata": {},
   "outputs": [],
   "source": [
    "\n",
    "lgbm_cv = GridSearchCV(estimator=LGBMClassifier(),\n",
    "                      param_grid=param_grid_lgbm,\n",
    "                      scoring='f1',\n",
    "                      n_jobs=-1,\n",
    "                      cv=3,\n",
    "                      verbose=2)\n"
   ]
  },
  {
   "cell_type": "code",
   "execution_count": null,
   "metadata": {},
   "outputs": [],
   "source": [
    "%%time\n",
    "lgbm_cv.fit(features_train, target_train)\n",
    "print(lgbm_cv.best_score_)\n",
    "print(lgbm_cv.best_params_)"
   ]
  },
  {
   "cell_type": "markdown",
   "metadata": {},
   "source": [
    "При подборе гиперпараметров LGBMClassifier не удалось достичь требуемых значений F1-метрики.\n",
    "- Максимальное полученное значение F1: 0.74\n",
    "- при гиперпараметрах 'class_weight': 'balanced', 'learning_rate': 1, 'max_depth': 9, 'n_estimators': 440, 'num_leaves': 25\n",
    "\n"
   ]
  },
  {
   "cell_type": "markdown",
   "metadata": {},
   "source": [
    "### SVC"
   ]
  },
  {
   "cell_type": "code",
   "execution_count": 20,
   "metadata": {},
   "outputs": [],
   "source": [
    "param_grid_svc = {'random_state':[13],\n",
    "                  'class_weight':['balanced'],\n",
    "                  'verbose':[True]\n",
    "                  }"
   ]
  },
  {
   "cell_type": "code",
   "execution_count": 22,
   "metadata": {},
   "outputs": [],
   "source": [
    "svc_cv = GridSearchCV(estimator=SVC(),\n",
    "                      param_grid=param_grid_svc,\n",
    "                      scoring='f1',\n",
    "                      n_jobs=-1,\n",
    "                      cv=2,\n",
    "                      verbose=2)"
   ]
  },
  {
   "cell_type": "code",
   "execution_count": 23,
   "metadata": {
    "scrolled": false
   },
   "outputs": [
    {
     "name": "stdout",
     "output_type": "stream",
     "text": [
      "Fitting 2 folds for each of 1 candidates, totalling 2 fits\n",
      "[LibSVM]............................*.........*\n",
      "optimization finished, #iter = 37931\n",
      "obj = -6000.906167, rho = -0.610160\n",
      "nSV = 24421, nBSV = 5979\n",
      "Total nSV = 24421\n",
      "[CV] END class_weight=balanced, random_state=13, verbose=True; total time=28.9min\n",
      "[LibSVM]............................*..........*\n",
      "optimization finished, #iter = 38957\n",
      "obj = -6020.368974, rho = -1.621700\n",
      "nSV = 24979, nBSV = 5914\n",
      "Total nSV = 24979\n",
      "[CV] END class_weight=balanced, random_state=13, verbose=True; total time=29.2min\n",
      "[LibSVM]................................................*.................*\n",
      "optimization finished, #iter = 65353\n",
      "obj = -11023.936380, rho = -0.938072\n",
      "nSV = 41732, nBSV = 11429\n",
      "Total nSV = 41732\n",
      "0.7538032387677578\n",
      "{'class_weight': 'balanced', 'random_state': 13, 'verbose': True}\n",
      "CPU times: user 2h 13min 27s, sys: 20.7 s, total: 2h 13min 48s\n",
      "Wall time: 2h 13min 58s\n"
     ]
    }
   ],
   "source": [
    "%%time\n",
    "svc_cv.fit(features_train, target_train)\n",
    "print(svc_cv.best_score_)\n",
    "print(svc_cv.best_params_)"
   ]
  },
  {
   "cell_type": "code",
   "execution_count": 24,
   "metadata": {
    "scrolled": true
   },
   "outputs": [
    {
     "data": {
      "text/plain": [
       "0.7802153968887116"
      ]
     },
     "execution_count": 24,
     "metadata": {},
     "output_type": "execute_result"
    }
   ],
   "source": [
    "%%time\n",
    "f1_score(target_test, svc_cv.predict(features_test))"
   ]
  },
  {
   "cell_type": "markdown",
   "metadata": {},
   "source": [
    "При кросс-валидации модели SVC получено F1-значение 0.78."
   ]
  },
  {
   "cell_type": "markdown",
   "metadata": {},
   "source": [
    "### LinearSVC"
   ]
  },
  {
   "cell_type": "code",
   "execution_count": 28,
   "metadata": {},
   "outputs": [],
   "source": [
    "param_grid_linsvc = {'random_state':[13],\n",
    "                  'class_weight':['balanced'],\n",
    "                  'verbose':[True]\n",
    "                  }"
   ]
  },
  {
   "cell_type": "code",
   "execution_count": 29,
   "metadata": {},
   "outputs": [],
   "source": [
    "linsvc_cv = GridSearchCV(estimator=LinearSVC(),\n",
    "                      param_grid=param_grid_linsvc,\n",
    "                      scoring='f1',\n",
    "                      n_jobs=-1,\n",
    "                      cv=2,\n",
    "                      verbose=2)"
   ]
  },
  {
   "cell_type": "code",
   "execution_count": 30,
   "metadata": {},
   "outputs": [
    {
     "name": "stdout",
     "output_type": "stream",
     "text": [
      "Fitting 2 folds for each of 1 candidates, totalling 2 fits\n",
      "[LibLinear]..............*.\n",
      "optimization finished, #iter = 150\n",
      "Objective value = -6040.450386\n",
      "nSV = 21063\n",
      "[CV] END class_weight=balanced, random_state=13, verbose=True; total time=   1.0s\n",
      "[LibLinear].................*\n",
      "optimization finished, #iter = 173\n",
      "Objective value = -6018.078676\n",
      "nSV = 21367\n",
      "[CV] END class_weight=balanced, random_state=13, verbose=True; total time=   1.0s\n",
      "[LibLinear]..................*\n",
      "optimization finished, #iter = 186\n",
      "Objective value = -13027.893975\n",
      "nSV = 38742\n",
      "0.7515088622701257\n",
      "{'class_weight': 'balanced', 'random_state': 13, 'verbose': True}\n"
     ]
    }
   ],
   "source": [
    "linsvc_cv.fit(features_train, target_train)\n",
    "print(linsvc_cv.best_score_)\n",
    "print(linsvc_cv.best_params_)"
   ]
  },
  {
   "cell_type": "markdown",
   "metadata": {},
   "source": [
    "Модель LinearSVC() при кросс-валидации показала значение F1 0.75.\n",
    "\n",
    "Модель SVC() ввиду наивысшего результата F1 признана лучшей."
   ]
  },
  {
   "cell_type": "markdown",
   "metadata": {},
   "source": [
    "## Pipeline\n",
    " С целью элиминации target leakage при кросс-валидации используем pipeline."
   ]
  },
  {
   "cell_type": "code",
   "execution_count": 34,
   "metadata": {},
   "outputs": [],
   "source": [
    "features_pipe_train, features_pipe_test, target_pipe_train, target_pipe_test = train_test_split(\n",
    "    corpus,\n",
    "    data['toxic'],\n",
    "    test_size=0.25,\n",
    "    random_state=13,\n",
    "    stratify=data['toxic'])"
   ]
  },
  {
   "cell_type": "code",
   "execution_count": 45,
   "metadata": {},
   "outputs": [],
   "source": [
    "linsvc_pipe_grid = param_grid_linsvc = [{'clf__random_state':[13],\n",
    "                  'clf__class_weight':['balanced'],\n",
    "                  'clf__verbose':[True]\n",
    "                  }]"
   ]
  },
  {
   "cell_type": "code",
   "execution_count": 46,
   "metadata": {},
   "outputs": [],
   "source": [
    "linsvc_pipe = Pipeline([('preprocess', TfidfVectorizer(stop_words=stopwords)),\n",
    " ('clf', LinearSVC())])"
   ]
  },
  {
   "cell_type": "code",
   "execution_count": 47,
   "metadata": {},
   "outputs": [],
   "source": [
    "linsvc_pipe_cv = GridSearchCV(estimator=linsvc_pipe,\n",
    "                      param_grid=linsvc_pipe_grid,\n",
    "                      scoring='f1',\n",
    "                      n_jobs=-1,\n",
    "                      cv=2,\n",
    "                      verbose=2)"
   ]
  },
  {
   "cell_type": "code",
   "execution_count": 48,
   "metadata": {},
   "outputs": [
    {
     "name": "stdout",
     "output_type": "stream",
     "text": [
      "Fitting 2 folds for each of 1 candidates, totalling 2 fits\n",
      "[LibLinear]..............*\n",
      "optimization finished, #iter = 148\n",
      "Objective value = -6075.690248\n",
      "nSV = 20983\n",
      "[CV] END clf__class_weight=balanced, clf__random_state=13, clf__verbose=True; total time=   7.1s\n",
      "[LibLinear].................*\n",
      "optimization finished, #iter = 174\n",
      "Objective value = -6054.946219\n",
      "nSV = 21270\n",
      "[CV] END clf__class_weight=balanced, clf__random_state=13, clf__verbose=True; total time=   7.2s\n",
      "[LibLinear]..................*\n",
      "optimization finished, #iter = 186\n",
      "Objective value = -13027.893975\n",
      "nSV = 38742\n"
     ]
    },
    {
     "data": {
      "text/plain": [
       "GridSearchCV(cv=2,\n",
       "             estimator=Pipeline(steps=[('preprocess',\n",
       "                                        TfidfVectorizer(stop_words={'a',\n",
       "                                                                    'about',\n",
       "                                                                    'above',\n",
       "                                                                    'after',\n",
       "                                                                    'again',\n",
       "                                                                    'against',\n",
       "                                                                    'ain',\n",
       "                                                                    'all', 'am',\n",
       "                                                                    'an', 'and',\n",
       "                                                                    'any',\n",
       "                                                                    'are',\n",
       "                                                                    'aren',\n",
       "                                                                    \"aren't\",\n",
       "                                                                    'as', 'at',\n",
       "                                                                    'be',\n",
       "                                                                    'because',\n",
       "                                                                    'been',\n",
       "                                                                    'before',\n",
       "                                                                    'being',\n",
       "                                                                    'below',\n",
       "                                                                    'between',\n",
       "                                                                    'both',\n",
       "                                                                    'but', 'by',\n",
       "                                                                    'can',\n",
       "                                                                    'couldn',\n",
       "                                                                    \"couldn't\", ...})),\n",
       "                                       ('clf', LinearSVC())]),\n",
       "             n_jobs=-1,\n",
       "             param_grid=[{'clf__class_weight': ['balanced'],\n",
       "                          'clf__random_state': [13], 'clf__verbose': [True]}],\n",
       "             scoring='f1', verbose=2)"
      ]
     },
     "execution_count": 48,
     "metadata": {},
     "output_type": "execute_result"
    }
   ],
   "source": [
    "linsvc_pipe_cv.fit(features_pipe_train, target_pipe_train)"
   ]
  },
  {
   "cell_type": "code",
   "execution_count": 49,
   "metadata": {
    "scrolled": true
   },
   "outputs": [
    {
     "data": {
      "text/plain": [
       "0.749127876539166"
      ]
     },
     "execution_count": 49,
     "metadata": {},
     "output_type": "execute_result"
    }
   ],
   "source": [
    "linsvc_pipe_cv.best_score_"
   ]
  },
  {
   "cell_type": "code",
   "execution_count": 50,
   "metadata": {},
   "outputs": [
    {
     "data": {
      "text/plain": [
       "0.759327498848457"
      ]
     },
     "execution_count": 50,
     "metadata": {},
     "output_type": "execute_result"
    }
   ],
   "source": [
    "f1_score(target_pipe_test, linsvc_pipe_cv.predict(features_pipe_test))"
   ]
  },
  {
   "cell_type": "markdown",
   "metadata": {},
   "source": [
    "<div class=\"alert alert-block alert-success\">\n",
    "<b>Успех:</b> Молодец, что попробовала разные модели в этом шаге!\n",
    "</div>\n"
   ]
  },
  {
   "cell_type": "markdown",
   "metadata": {},
   "source": [
    "<div class=\"alert alert-block alert-success\">\n",
    "<b>Успех (ревью 2):</b> С пайплайном все ОК!\n",
    "</div>"
   ]
  },
  {
   "cell_type": "markdown",
   "metadata": {},
   "source": [
    "## Тестирование лучшей модели\n",
    "\n",
    "Лучшего результата F1 при кросс-валидации удалось достичь с помощью модели SVC."
   ]
  },
  {
   "cell_type": "code",
   "execution_count": null,
   "metadata": {
    "scrolled": true
   },
   "outputs": [],
   "source": [
    "print('Значение F1 лучшей модели на тестовой выборке: {:.2f}'.format(\n",
    "f1_score(target_test, svc_cv.predict(features_test))))"
   ]
  },
  {
   "cell_type": "markdown",
   "metadata": {},
   "source": [
    "Результаты тестирования SVC: F1 = 0.78, что соответствует требованиям заказчика.\n",
    "\n",
    "Данное значение метрики получено при использовании гиперпараметра class_weight='balanced', ядро 'rbf', количество итераций не ограничено."
   ]
  },
  {
   "cell_type": "code",
   "execution_count": 31,
   "metadata": {},
   "outputs": [
    {
     "name": "stdout",
     "output_type": "stream",
     "text": [
      "Значение F1 лучшей модели на тестовой выборке: 0.76\n"
     ]
    }
   ],
   "source": [
    "print('Значение F1 лучшей модели на тестовой выборке: {:.2f}'.format(\n",
    "f1_score(target_test, linsvc_cv.predict(features_test))))"
   ]
  },
  {
   "cell_type": "markdown",
   "metadata": {},
   "source": [
    "При тестировании SVC(), обученной на всей трэйн-выборке, получено F1-значение 0.76, что соответствует требованиям к работе. Данную модель можно рекомендовать для практического применения при заданном значении F1."
   ]
  },
  {
   "cell_type": "markdown",
   "metadata": {},
   "source": [
    "<div class=\"alert alert-block alert-success\">\n",
    "<b>Успех:</b> Тестирование было сделано правильно.\n",
    "</div>"
   ]
  },
  {
   "cell_type": "markdown",
   "metadata": {},
   "source": [
    "## Выводы\n",
    "### Цель и задачи работы.\n",
    "- Цель: обучить модель классифицировать комментарии на позитивные и негативные со значением метрики качества F1 не меньше 0.75.\n",
    "\n",
    "- Задачи:\n",
    "    - Очистить и лемматизировать корпус;\n",
    "    - Рассчитать векторное представление текста на основе TF-IDF;\n",
    "    - Получить обучающую и тестовую выборки, выделить признаки и целевой признак;\n",
    "    - Обучить различные модели и проанализировать гиперпараметры;\n",
    "    - Выбрать и протестировать оптимальную модель.\n",
    "    \n",
    "### Материалы и методы\n",
    "\n",
    "Работа выполнена на датасете, предоставленном заказчиком. Датасет содержит комментарии пользоватетей, размеченные на позитивные и негативные.\n",
    "\n",
    "Работа проводилась с помощью программного обеспечения JupyterHub средствами Python, библиотек pandas, numpy, nltk, sklearn, pymystem3, re, lightgbm. Использовались модели машинного обучения LogisticRegression(), RandomForestClassifier(), LGBMClassifier().\n",
    "\n",
    "### Ход выполнения проекта\n",
    "\n",
    "В ходе работы выполнено следующее:\n",
    "- загрузка и предварительная обработка данных;\n",
    "- лемматизация данных;\n",
    "- расчёт TF-IDF, использование TF-IDF в качестве признаков для ML;\n",
    "- разделение данных на стратифицированные обучающую и тестовую выборки;\n",
    "- обучение, подбор гиперпараметров и кросс-валидация моделей LogisticRegression(), RandomForestClassifier(), LGBMClassifier(), SVC(), LinearSVC() с применением GridSearchCV(), расчёт F1-метрики при кросс-валидации;\n",
    "- выбор лучшей модели и расчёт её F1-метрики на тестовой выборке.\n",
    "\n",
    "### Результаты исследования\n",
    "\n",
    "- Лучшей моделью признана SVC()\n",
    "\n",
    "- Оптимальные гиперпараметры:\n",
    "    - 'class_weight': 'balanced',\n",
    "    - 'max_iter': -1 (не ограничено),\n",
    "    - 'kernel': 'rbf'\n",
    "\n",
    "- F1-метрика на тестовой выборке: 0.76\n",
    "\n",
    "### Практические рекомендации\n",
    "\n",
    "Можно рекомендовать использование SVC() с указанными гиперпараметрами для классификации комментариев на основе TF-IDF."
   ]
  },
  {
   "cell_type": "markdown",
   "metadata": {},
   "source": [
    "<div class=\"alert alert-block alert-success\">\n",
    "<b>Успех:</b> Приятно видеть подробный вывод в конце проекта!\n",
    "</div>"
   ]
  },
  {
   "cell_type": "markdown",
   "metadata": {},
   "source": [
    "## Чек-лист проверки"
   ]
  },
  {
   "cell_type": "markdown",
   "metadata": {},
   "source": [
    "- [x]  Jupyter Notebook открыт\n",
    "- [ ]  Весь код выполняется без ошибок\n",
    "- [ ]  Ячейки с кодом расположены в порядке исполнения\n",
    "- [ ]  Данные загружены и подготовлены\n",
    "- [ ]  Модели обучены\n",
    "- [ ]  Значение метрики *F1* не меньше 0.75\n",
    "- [ ]  Выводы написаны"
   ]
  }
 ],
 "metadata": {
  "ExecuteTimeLog": [
   {
    "duration": 388,
    "start_time": "2023-01-25T17:59:56.755Z"
   },
   {
    "duration": 105,
    "start_time": "2023-01-25T18:01:11.495Z"
   },
   {
    "duration": 2379,
    "start_time": "2023-01-25T18:01:24.124Z"
   },
   {
    "duration": 16,
    "start_time": "2023-01-25T18:01:34.309Z"
   },
   {
    "duration": 33,
    "start_time": "2023-01-25T18:01:37.229Z"
   },
   {
    "duration": 10,
    "start_time": "2023-01-25T18:01:53.468Z"
   },
   {
    "duration": 9,
    "start_time": "2023-01-25T18:02:23.189Z"
   },
   {
    "duration": 6,
    "start_time": "2023-01-25T18:02:37.501Z"
   },
   {
    "duration": 27,
    "start_time": "2023-01-25T18:02:52.676Z"
   },
   {
    "duration": 9,
    "start_time": "2023-01-25T18:03:08.093Z"
   },
   {
    "duration": 10,
    "start_time": "2023-01-25T18:03:21.318Z"
   },
   {
    "duration": 11,
    "start_time": "2023-01-25T18:03:35.605Z"
   },
   {
    "duration": 15,
    "start_time": "2023-01-25T18:03:56.213Z"
   },
   {
    "duration": 25,
    "start_time": "2023-01-25T18:04:35.493Z"
   },
   {
    "duration": 4,
    "start_time": "2023-01-25T18:04:56.781Z"
   },
   {
    "duration": 9,
    "start_time": "2023-01-25T18:05:48.388Z"
   },
   {
    "duration": 532,
    "start_time": "2023-01-25T20:56:21.408Z"
   },
   {
    "duration": 2374,
    "start_time": "2023-01-25T20:56:21.943Z"
   },
   {
    "duration": 34,
    "start_time": "2023-01-25T20:56:24.319Z"
   },
   {
    "duration": 19,
    "start_time": "2023-01-25T20:56:24.354Z"
   },
   {
    "duration": 24,
    "start_time": "2023-01-25T20:56:24.375Z"
   },
   {
    "duration": 8,
    "start_time": "2023-01-25T20:56:24.402Z"
   },
   {
    "duration": 10,
    "start_time": "2023-01-25T20:56:24.413Z"
   },
   {
    "duration": 62,
    "start_time": "2023-01-25T20:56:35.489Z"
   },
   {
    "duration": 454,
    "start_time": "2023-01-25T20:56:42.158Z"
   },
   {
    "duration": 2466,
    "start_time": "2023-01-25T20:56:42.614Z"
   },
   {
    "duration": 40,
    "start_time": "2023-01-25T20:56:45.083Z"
   },
   {
    "duration": 19,
    "start_time": "2023-01-25T20:56:45.126Z"
   },
   {
    "duration": 19,
    "start_time": "2023-01-25T20:56:45.147Z"
   },
   {
    "duration": 26,
    "start_time": "2023-01-25T20:56:45.168Z"
   },
   {
    "duration": 9,
    "start_time": "2023-01-25T20:56:45.196Z"
   },
   {
    "duration": 409,
    "start_time": "2023-01-25T20:57:09.840Z"
   },
   {
    "duration": 3,
    "start_time": "2023-01-25T20:57:10.251Z"
   },
   {
    "duration": 2351,
    "start_time": "2023-01-25T20:57:10.255Z"
   },
   {
    "duration": 32,
    "start_time": "2023-01-25T20:57:12.609Z"
   },
   {
    "duration": 14,
    "start_time": "2023-01-25T20:57:12.643Z"
   },
   {
    "duration": 12,
    "start_time": "2023-01-25T20:57:12.659Z"
   },
   {
    "duration": 20,
    "start_time": "2023-01-25T20:57:12.673Z"
   },
   {
    "duration": 8,
    "start_time": "2023-01-25T20:57:12.695Z"
   },
   {
    "duration": 45,
    "start_time": "2023-01-25T20:57:22.730Z"
   },
   {
    "duration": 519,
    "start_time": "2023-01-25T20:57:25.742Z"
   },
   {
    "duration": 4,
    "start_time": "2023-01-25T20:57:26.263Z"
   },
   {
    "duration": 2364,
    "start_time": "2023-01-25T20:57:26.269Z"
   },
   {
    "duration": 33,
    "start_time": "2023-01-25T20:57:28.635Z"
   },
   {
    "duration": 22,
    "start_time": "2023-01-25T20:57:28.670Z"
   },
   {
    "duration": 12,
    "start_time": "2023-01-25T20:57:28.694Z"
   },
   {
    "duration": 10,
    "start_time": "2023-01-25T20:57:28.708Z"
   },
   {
    "duration": 7,
    "start_time": "2023-01-25T20:57:28.720Z"
   },
   {
    "duration": 436,
    "start_time": "2023-01-25T20:57:59.412Z"
   },
   {
    "duration": 3,
    "start_time": "2023-01-25T20:57:59.849Z"
   },
   {
    "duration": 2551,
    "start_time": "2023-01-25T20:57:59.854Z"
   },
   {
    "duration": 35,
    "start_time": "2023-01-25T20:58:02.407Z"
   },
   {
    "duration": 18,
    "start_time": "2023-01-25T20:58:02.444Z"
   },
   {
    "duration": 12,
    "start_time": "2023-01-25T20:58:02.463Z"
   },
   {
    "duration": 16,
    "start_time": "2023-01-25T20:58:02.477Z"
   },
   {
    "duration": 8,
    "start_time": "2023-01-25T20:58:02.495Z"
   },
   {
    "duration": 429,
    "start_time": "2023-01-25T20:58:34.393Z"
   },
   {
    "duration": 2,
    "start_time": "2023-01-25T20:58:52.584Z"
   },
   {
    "duration": 2337,
    "start_time": "2023-01-25T20:58:52.592Z"
   },
   {
    "duration": 36,
    "start_time": "2023-01-25T20:58:54.931Z"
   },
   {
    "duration": 13,
    "start_time": "2023-01-25T20:58:54.969Z"
   },
   {
    "duration": 17,
    "start_time": "2023-01-25T20:58:54.984Z"
   },
   {
    "duration": 12,
    "start_time": "2023-01-25T20:58:55.004Z"
   },
   {
    "duration": 12,
    "start_time": "2023-01-25T20:58:55.017Z"
   },
   {
    "duration": 18,
    "start_time": "2023-01-25T20:59:04.617Z"
   },
   {
    "duration": 5,
    "start_time": "2023-01-25T20:59:12.081Z"
   },
   {
    "duration": 88,
    "start_time": "2023-01-25T20:59:55.873Z"
   },
   {
    "duration": 4,
    "start_time": "2023-01-25T20:59:58.474Z"
   },
   {
    "duration": 15,
    "start_time": "2023-01-25T21:00:00.108Z"
   },
   {
    "duration": 102090,
    "start_time": "2023-01-25T21:00:19.446Z"
   },
   {
    "duration": 3,
    "start_time": "2023-01-25T21:02:13.676Z"
   },
   {
    "duration": 380,
    "start_time": "2023-01-25T21:17:34.252Z"
   },
   {
    "duration": 2397,
    "start_time": "2023-01-25T21:17:34.634Z"
   },
   {
    "duration": 35,
    "start_time": "2023-01-25T21:17:37.033Z"
   },
   {
    "duration": 14,
    "start_time": "2023-01-25T21:17:37.070Z"
   },
   {
    "duration": 11,
    "start_time": "2023-01-25T21:17:37.091Z"
   },
   {
    "duration": 10,
    "start_time": "2023-01-25T21:17:37.103Z"
   },
   {
    "duration": 11,
    "start_time": "2023-01-25T21:17:37.115Z"
   },
   {
    "duration": 23,
    "start_time": "2023-01-25T21:17:37.127Z"
   },
   {
    "duration": 6,
    "start_time": "2023-01-25T21:17:37.151Z"
   },
   {
    "duration": 6,
    "start_time": "2023-01-25T21:17:37.159Z"
   },
   {
    "duration": 100693,
    "start_time": "2023-01-25T21:17:58.137Z"
   },
   {
    "duration": 9,
    "start_time": "2023-01-25T21:24:50.340Z"
   },
   {
    "duration": 97,
    "start_time": "2023-01-25T21:24:56.084Z"
   },
   {
    "duration": 43,
    "start_time": "2023-01-25T21:25:29.925Z"
   },
   {
    "duration": 10,
    "start_time": "2023-01-25T21:25:34.772Z"
   },
   {
    "duration": 10,
    "start_time": "2023-01-25T21:25:43.733Z"
   },
   {
    "duration": 206,
    "start_time": "2023-01-25T21:26:04.332Z"
   },
   {
    "duration": 209,
    "start_time": "2023-01-25T21:26:25.296Z"
   },
   {
    "duration": 9,
    "start_time": "2023-01-25T21:28:25.502Z"
   },
   {
    "duration": 856,
    "start_time": "2023-01-25T21:30:01.789Z"
   },
   {
    "duration": 13,
    "start_time": "2023-01-25T21:30:14.373Z"
   },
   {
    "duration": 592,
    "start_time": "2023-01-25T21:30:25.101Z"
   },
   {
    "duration": 6915,
    "start_time": "2023-01-25T21:30:31.686Z"
   },
   {
    "duration": 9,
    "start_time": "2023-01-25T21:31:16.420Z"
   },
   {
    "duration": 84,
    "start_time": "2023-01-25T21:31:34.541Z"
   },
   {
    "duration": 54,
    "start_time": "2023-01-25T21:31:46.040Z"
   },
   {
    "duration": 428,
    "start_time": "2023-01-25T21:32:38.514Z"
   },
   {
    "duration": 2627,
    "start_time": "2023-01-25T21:32:38.944Z"
   },
   {
    "duration": 48,
    "start_time": "2023-01-25T21:32:41.573Z"
   },
   {
    "duration": 16,
    "start_time": "2023-01-25T21:32:41.624Z"
   },
   {
    "duration": 15,
    "start_time": "2023-01-25T21:32:41.642Z"
   },
   {
    "duration": 12,
    "start_time": "2023-01-25T21:32:41.660Z"
   },
   {
    "duration": 38,
    "start_time": "2023-01-25T21:32:41.673Z"
   },
   {
    "duration": 12,
    "start_time": "2023-01-25T21:32:41.716Z"
   },
   {
    "duration": 6,
    "start_time": "2023-01-25T21:32:41.730Z"
   },
   {
    "duration": 112837,
    "start_time": "2023-01-25T21:32:41.738Z"
   },
   {
    "duration": 20,
    "start_time": "2023-01-25T21:34:34.577Z"
   },
   {
    "duration": 631,
    "start_time": "2023-01-25T21:34:34.599Z"
   },
   {
    "duration": 7100,
    "start_time": "2023-01-25T21:34:35.233Z"
   },
   {
    "duration": 410,
    "start_time": "2023-01-25T21:35:16.622Z"
   },
   {
    "duration": 2419,
    "start_time": "2023-01-25T21:35:17.034Z"
   },
   {
    "duration": 30,
    "start_time": "2023-01-25T21:35:19.455Z"
   },
   {
    "duration": 14,
    "start_time": "2023-01-25T21:35:19.487Z"
   },
   {
    "duration": 19,
    "start_time": "2023-01-25T21:35:19.506Z"
   },
   {
    "duration": 7,
    "start_time": "2023-01-25T21:35:19.526Z"
   },
   {
    "duration": 19,
    "start_time": "2023-01-25T21:35:19.534Z"
   },
   {
    "duration": 7,
    "start_time": "2023-01-25T21:35:19.555Z"
   },
   {
    "duration": 4,
    "start_time": "2023-01-25T21:35:19.563Z"
   },
   {
    "duration": 396,
    "start_time": "2023-01-25T21:36:37.700Z"
   },
   {
    "duration": 778,
    "start_time": "2023-01-25T21:36:38.098Z"
   },
   {
    "duration": 34,
    "start_time": "2023-01-25T21:36:38.878Z"
   },
   {
    "duration": 14,
    "start_time": "2023-01-25T21:36:38.914Z"
   },
   {
    "duration": 10,
    "start_time": "2023-01-25T21:36:38.929Z"
   },
   {
    "duration": 8,
    "start_time": "2023-01-25T21:36:38.941Z"
   },
   {
    "duration": 42,
    "start_time": "2023-01-25T21:36:38.950Z"
   },
   {
    "duration": 6,
    "start_time": "2023-01-25T21:36:41.830Z"
   },
   {
    "duration": 3147,
    "start_time": "2023-01-25T21:37:28.312Z"
   },
   {
    "duration": 4,
    "start_time": "2023-01-25T21:37:51.872Z"
   },
   {
    "duration": 113325,
    "start_time": "2023-01-25T21:38:03.760Z"
   },
   {
    "duration": 11,
    "start_time": "2023-01-25T21:40:06.011Z"
   },
   {
    "duration": 412,
    "start_time": "2023-01-25T21:40:56.888Z"
   },
   {
    "duration": 815,
    "start_time": "2023-01-25T21:40:57.302Z"
   },
   {
    "duration": 36,
    "start_time": "2023-01-25T21:40:58.119Z"
   },
   {
    "duration": 15,
    "start_time": "2023-01-25T21:40:58.158Z"
   },
   {
    "duration": 15,
    "start_time": "2023-01-25T21:40:58.192Z"
   },
   {
    "duration": 13,
    "start_time": "2023-01-25T21:40:58.208Z"
   },
   {
    "duration": 26,
    "start_time": "2023-01-25T21:40:58.223Z"
   },
   {
    "duration": 8,
    "start_time": "2023-01-25T21:40:58.251Z"
   },
   {
    "duration": 3322,
    "start_time": "2023-01-25T21:40:58.261Z"
   },
   {
    "duration": 86826,
    "start_time": "2023-01-25T21:41:01.585Z"
   },
   {
    "duration": 16,
    "start_time": "2023-01-25T21:42:28.413Z"
   },
   {
    "duration": 388,
    "start_time": "2023-01-25T21:44:43.017Z"
   },
   {
    "duration": 433,
    "start_time": "2023-01-25T21:45:06.178Z"
   },
   {
    "duration": 48,
    "start_time": "2023-01-25T21:45:56.889Z"
   },
   {
    "duration": 400,
    "start_time": "2023-01-25T21:46:39.509Z"
   },
   {
    "duration": 2290,
    "start_time": "2023-01-25T21:46:39.911Z"
   },
   {
    "duration": 32,
    "start_time": "2023-01-25T21:46:42.202Z"
   },
   {
    "duration": 12,
    "start_time": "2023-01-25T21:46:42.237Z"
   },
   {
    "duration": 11,
    "start_time": "2023-01-25T21:46:42.251Z"
   },
   {
    "duration": 6,
    "start_time": "2023-01-25T21:46:42.264Z"
   },
   {
    "duration": 35,
    "start_time": "2023-01-25T21:46:42.272Z"
   },
   {
    "duration": 7,
    "start_time": "2023-01-25T21:46:42.309Z"
   },
   {
    "duration": 3218,
    "start_time": "2023-01-25T21:46:42.318Z"
   },
   {
    "duration": 64,
    "start_time": "2023-01-25T21:47:07.498Z"
   },
   {
    "duration": 7,
    "start_time": "2023-01-25T21:47:14.795Z"
   },
   {
    "duration": 7,
    "start_time": "2023-01-25T21:47:26.176Z"
   },
   {
    "duration": 1486,
    "start_time": "2023-01-25T21:47:37.564Z"
   },
   {
    "duration": 2121,
    "start_time": "2023-01-25T21:48:01.971Z"
   },
   {
    "duration": 474,
    "start_time": "2023-01-25T21:48:11.107Z"
   },
   {
    "duration": 11445,
    "start_time": "2023-01-25T21:48:15.715Z"
   },
   {
    "duration": 413,
    "start_time": "2023-01-25T21:48:38.468Z"
   },
   {
    "duration": 817,
    "start_time": "2023-01-25T21:48:38.883Z"
   },
   {
    "duration": 33,
    "start_time": "2023-01-25T21:48:39.702Z"
   },
   {
    "duration": 15,
    "start_time": "2023-01-25T21:48:39.737Z"
   },
   {
    "duration": 11,
    "start_time": "2023-01-25T21:48:39.754Z"
   },
   {
    "duration": 26,
    "start_time": "2023-01-25T21:48:39.767Z"
   },
   {
    "duration": 23,
    "start_time": "2023-01-25T21:48:39.796Z"
   },
   {
    "duration": 7,
    "start_time": "2023-01-25T21:48:39.821Z"
   },
   {
    "duration": 3137,
    "start_time": "2023-01-25T21:48:39.830Z"
   },
   {
    "duration": 1469,
    "start_time": "2023-01-25T21:48:42.969Z"
   },
   {
    "duration": 505,
    "start_time": "2023-01-25T21:48:44.439Z"
   },
   {
    "duration": 5,
    "start_time": "2023-01-25T21:49:09.844Z"
   },
   {
    "duration": 67833,
    "start_time": "2023-01-25T21:49:16.253Z"
   },
   {
    "duration": 708,
    "start_time": "2023-01-25T21:51:41.622Z"
   },
   {
    "duration": 7,
    "start_time": "2023-01-25T21:51:45.781Z"
   },
   {
    "duration": 1046,
    "start_time": "2023-01-25T21:56:15.615Z"
   },
   {
    "duration": 7,
    "start_time": "2023-01-25T21:56:39.119Z"
   },
   {
    "duration": 5,
    "start_time": "2023-01-25T21:56:44.600Z"
   },
   {
    "duration": 3,
    "start_time": "2023-01-25T21:56:51.911Z"
   },
   {
    "duration": 7,
    "start_time": "2023-01-25T21:56:53.791Z"
   },
   {
    "duration": 3,
    "start_time": "2023-01-25T21:59:38.961Z"
   },
   {
    "duration": 123,
    "start_time": "2023-01-25T22:02:03.971Z"
   },
   {
    "duration": 3,
    "start_time": "2023-01-25T22:02:34.562Z"
   },
   {
    "duration": 3,
    "start_time": "2023-01-25T22:02:43.130Z"
   },
   {
    "duration": 31,
    "start_time": "2023-01-25T22:02:45.362Z"
   },
   {
    "duration": 6,
    "start_time": "2023-01-25T22:02:53.490Z"
   },
   {
    "duration": 5661,
    "start_time": "2023-01-25T22:03:17.091Z"
   },
   {
    "duration": 3,
    "start_time": "2023-01-25T22:03:35.755Z"
   },
   {
    "duration": 36,
    "start_time": "2023-01-25T22:03:44.707Z"
   },
   {
    "duration": 1815,
    "start_time": "2023-01-25T22:04:06.707Z"
   },
   {
    "duration": 7264,
    "start_time": "2023-01-25T22:05:15.843Z"
   },
   {
    "duration": 15,
    "start_time": "2023-01-25T22:05:41.292Z"
   },
   {
    "duration": 9,
    "start_time": "2023-01-25T22:05:44.660Z"
   },
   {
    "duration": 4,
    "start_time": "2023-01-25T22:05:51.476Z"
   },
   {
    "duration": 4,
    "start_time": "2023-01-25T22:06:07.604Z"
   },
   {
    "duration": 4,
    "start_time": "2023-01-25T22:06:43.142Z"
   },
   {
    "duration": 54,
    "start_time": "2023-01-25T22:07:57.725Z"
   },
   {
    "duration": 96,
    "start_time": "2023-01-25T22:08:02.557Z"
   },
   {
    "duration": 4,
    "start_time": "2023-01-25T22:08:50.533Z"
   },
   {
    "duration": 2,
    "start_time": "2023-01-25T22:16:48.191Z"
   },
   {
    "duration": 40,
    "start_time": "2023-01-25T22:18:25.320Z"
   },
   {
    "duration": 437025,
    "start_time": "2023-01-25T22:18:33.575Z"
   },
   {
    "duration": 4,
    "start_time": "2023-01-25T22:26:34.938Z"
   },
   {
    "duration": 7,
    "start_time": "2023-01-25T22:26:57.084Z"
   },
   {
    "duration": 3,
    "start_time": "2023-01-25T22:27:42.579Z"
   },
   {
    "duration": 2,
    "start_time": "2023-01-25T22:30:28.515Z"
   },
   {
    "duration": 3,
    "start_time": "2023-01-25T22:33:08.181Z"
   },
   {
    "duration": 108561,
    "start_time": "2023-01-25T22:33:47.052Z"
   },
   {
    "duration": 3,
    "start_time": "2023-01-25T22:35:44.636Z"
   },
   {
    "duration": 15972,
    "start_time": "2023-01-25T22:36:08.134Z"
   },
   {
    "duration": 12,
    "start_time": "2023-01-25T22:36:24.117Z"
   },
   {
    "duration": 4,
    "start_time": "2023-01-25T22:36:25.964Z"
   },
   {
    "duration": 280701,
    "start_time": "2023-01-25T22:36:29.582Z"
   },
   {
    "duration": 3,
    "start_time": "2023-01-25T22:42:31.951Z"
   },
   {
    "duration": 499426,
    "start_time": "2023-01-25T22:42:34.408Z"
   },
   {
    "duration": 3,
    "start_time": "2023-01-25T22:51:53.487Z"
   },
   {
    "duration": 1960175,
    "start_time": "2023-01-25T22:51:56.902Z"
   },
   {
    "duration": 3,
    "start_time": "2023-01-25T23:25:08.108Z"
   },
   {
    "duration": 145484,
    "start_time": "2023-01-25T23:25:16.500Z"
   },
   {
    "duration": 46,
    "start_time": "2023-01-25T23:28:23.774Z"
   },
   {
    "duration": 3,
    "start_time": "2023-01-25T23:28:27.092Z"
   },
   {
    "duration": 69,
    "start_time": "2023-01-25T23:28:35.253Z"
   },
   {
    "duration": 206826,
    "start_time": "2023-01-25T23:28:41.150Z"
   },
   {
    "duration": 3,
    "start_time": "2023-01-25T23:34:27.198Z"
   },
   {
    "duration": 271877,
    "start_time": "2023-01-25T23:34:29.461Z"
   },
   {
    "duration": 3,
    "start_time": "2023-01-25T23:39:36.600Z"
   },
   {
    "duration": 1658635,
    "start_time": "2023-01-25T23:39:39.928Z"
   },
   {
    "duration": 3,
    "start_time": "2023-01-26T00:12:57.117Z"
   },
   {
    "duration": 1071876,
    "start_time": "2023-01-26T00:12:59.885Z"
   },
   {
    "duration": 2,
    "start_time": "2023-01-26T00:30:51.763Z"
   },
   {
    "duration": 3,
    "start_time": "2023-01-26T00:31:41.360Z"
   },
   {
    "duration": 162,
    "start_time": "2023-01-26T00:32:13.824Z"
   },
   {
    "duration": 22,
    "start_time": "2023-01-26T00:32:55.265Z"
   },
   {
    "duration": 14,
    "start_time": "2023-01-26T00:33:22.753Z"
   },
   {
    "duration": 4669,
    "start_time": "2023-01-26T00:34:02.186Z"
   },
   {
    "duration": 10,
    "start_time": "2023-01-26T00:34:45.818Z"
   },
   {
    "duration": 13,
    "start_time": "2023-01-26T00:34:58.650Z"
   },
   {
    "duration": 4,
    "start_time": "2023-01-26T00:35:23.208Z"
   },
   {
    "duration": 3,
    "start_time": "2023-01-26T00:35:34.856Z"
   },
   {
    "duration": 97,
    "start_time": "2023-01-26T00:35:51.552Z"
   },
   {
    "duration": 93,
    "start_time": "2023-01-26T00:35:59.369Z"
   },
   {
    "duration": 82,
    "start_time": "2023-01-26T00:36:05.377Z"
   },
   {
    "duration": 3,
    "start_time": "2023-01-26T00:36:59.882Z"
   },
   {
    "duration": 202938,
    "start_time": "2023-01-26T00:37:15.825Z"
   },
   {
    "duration": 45,
    "start_time": "2023-01-26T00:40:38.766Z"
   },
   {
    "duration": 3,
    "start_time": "2023-01-26T00:40:45.633Z"
   },
   {
    "duration": 100,
    "start_time": "2023-01-26T00:40:49.137Z"
   },
   {
    "duration": 11964,
    "start_time": "2023-01-26T00:40:56.980Z"
   },
   {
    "duration": 468902,
    "start_time": "2023-01-26T00:41:14.292Z"
   },
   {
    "duration": 5,
    "start_time": "2023-01-26T00:49:03.196Z"
   },
   {
    "duration": 3,
    "start_time": "2023-01-26T00:49:37.503Z"
   },
   {
    "duration": 1134,
    "start_time": "2023-01-26T01:18:42.492Z"
   },
   {
    "duration": 397,
    "start_time": "2023-01-26T01:18:43.628Z"
   },
   {
    "duration": 799,
    "start_time": "2023-01-26T01:18:44.026Z"
   },
   {
    "duration": 32,
    "start_time": "2023-01-26T01:18:44.827Z"
   },
   {
    "duration": 8,
    "start_time": "2023-01-26T01:18:44.861Z"
   },
   {
    "duration": 29,
    "start_time": "2023-01-26T01:18:44.870Z"
   },
   {
    "duration": 5,
    "start_time": "2023-01-26T01:18:44.900Z"
   },
   {
    "duration": 22,
    "start_time": "2023-01-26T01:18:44.907Z"
   },
   {
    "duration": 11,
    "start_time": "2023-01-26T01:18:44.931Z"
   },
   {
    "duration": 3043,
    "start_time": "2023-01-26T01:18:44.944Z"
   },
   {
    "duration": 1779,
    "start_time": "2023-01-26T01:18:47.988Z"
   },
   {
    "duration": 554,
    "start_time": "2023-01-26T01:18:49.768Z"
   },
   {
    "duration": 63086,
    "start_time": "2023-01-26T01:18:50.323Z"
   },
   {
    "duration": 733,
    "start_time": "2023-01-26T01:19:53.411Z"
   },
   {
    "duration": 6,
    "start_time": "2023-01-26T01:19:54.146Z"
   },
   {
    "duration": 7174,
    "start_time": "2023-01-26T01:19:54.153Z"
   },
   {
    "duration": 2,
    "start_time": "2023-01-26T01:20:01.330Z"
   },
   {
    "duration": 35,
    "start_time": "2023-01-26T01:20:01.334Z"
   },
   {
    "duration": 113,
    "start_time": "2023-01-26T01:20:01.371Z"
   },
   {
    "duration": 1254316,
    "start_time": "2023-01-26T01:20:01.486Z"
   },
   {
    "duration": 5,
    "start_time": "2023-01-26T01:40:55.893Z"
   },
   {
    "duration": 10,
    "start_time": "2023-01-26T01:40:55.900Z"
   },
   {
    "duration": 9,
    "start_time": "2023-01-26T01:40:55.912Z"
   },
   {
    "duration": 215272,
    "start_time": "2023-01-26T01:40:55.923Z"
   },
   {
    "duration": 4,
    "start_time": "2023-01-26T01:44:31.196Z"
   },
   {
    "duration": 1551,
    "start_time": "2023-01-26T16:09:10.455Z"
   },
   {
    "duration": 636,
    "start_time": "2023-01-26T16:09:12.008Z"
   },
   {
    "duration": 863,
    "start_time": "2023-01-26T16:09:12.645Z"
   },
   {
    "duration": 37,
    "start_time": "2023-01-26T16:09:13.510Z"
   },
   {
    "duration": 9,
    "start_time": "2023-01-26T16:09:13.549Z"
   },
   {
    "duration": 12,
    "start_time": "2023-01-26T16:09:13.560Z"
   },
   {
    "duration": 42,
    "start_time": "2023-01-26T16:09:13.574Z"
   },
   {
    "duration": 482,
    "start_time": "2023-01-26T16:09:13.618Z"
   },
   {
    "duration": 8,
    "start_time": "2023-01-26T16:09:14.102Z"
   },
   {
    "duration": 81,
    "start_time": "2023-01-26T16:09:14.113Z"
   },
   {
    "duration": 10,
    "start_time": "2023-01-26T16:09:14.201Z"
   },
   {
    "duration": 4441,
    "start_time": "2023-01-26T16:09:14.213Z"
   },
   {
    "duration": 2498,
    "start_time": "2023-01-26T16:09:18.655Z"
   },
   {
    "duration": 1210,
    "start_time": "2023-01-26T16:09:31.219Z"
   },
   {
    "duration": 359,
    "start_time": "2023-01-26T16:09:32.431Z"
   },
   {
    "duration": 899,
    "start_time": "2023-01-26T16:09:32.794Z"
   },
   {
    "duration": 39,
    "start_time": "2023-01-26T16:09:33.698Z"
   },
   {
    "duration": 10,
    "start_time": "2023-01-26T16:09:33.739Z"
   },
   {
    "duration": 12,
    "start_time": "2023-01-26T16:09:33.750Z"
   },
   {
    "duration": 48,
    "start_time": "2023-01-26T16:09:33.764Z"
   },
   {
    "duration": 247,
    "start_time": "2023-01-26T16:09:33.814Z"
   },
   {
    "duration": 4,
    "start_time": "2023-01-26T16:09:34.063Z"
   },
   {
    "duration": 42,
    "start_time": "2023-01-26T16:09:34.070Z"
   },
   {
    "duration": 6,
    "start_time": "2023-01-26T16:09:34.114Z"
   },
   {
    "duration": 3678,
    "start_time": "2023-01-26T16:09:34.122Z"
   },
   {
    "duration": 2479,
    "start_time": "2023-01-26T16:09:37.801Z"
   },
   {
    "duration": 76896,
    "start_time": "2023-01-26T16:09:40.282Z"
   },
   {
    "duration": 801,
    "start_time": "2023-01-26T16:10:57.181Z"
   },
   {
    "duration": 8,
    "start_time": "2023-01-26T16:33:52.500Z"
   },
   {
    "duration": 2034,
    "start_time": "2023-01-26T16:34:04.816Z"
   },
   {
    "duration": 6,
    "start_time": "2023-01-26T16:34:13.005Z"
   },
   {
    "duration": 150,
    "start_time": "2023-01-26T16:34:20.921Z"
   },
   {
    "duration": 7693,
    "start_time": "2023-01-26T16:35:00.106Z"
   },
   {
    "duration": 3,
    "start_time": "2023-01-26T16:35:33.639Z"
   },
   {
    "duration": 148871,
    "start_time": "2023-01-26T16:35:44.044Z"
   },
   {
    "duration": 4,
    "start_time": "2023-01-26T16:38:18.681Z"
   },
   {
    "duration": 96,
    "start_time": "2023-01-26T16:38:36.508Z"
   },
   {
    "duration": 23,
    "start_time": "2023-01-26T16:38:42.440Z"
   },
   {
    "duration": 100,
    "start_time": "2023-01-26T16:38:46.673Z"
   },
   {
    "duration": 1193,
    "start_time": "2023-01-26T16:40:37.981Z"
   },
   {
    "duration": 388,
    "start_time": "2023-01-26T16:40:39.176Z"
   },
   {
    "duration": 1759,
    "start_time": "2023-01-26T16:40:39.566Z"
   },
   {
    "duration": 33,
    "start_time": "2023-01-26T16:40:41.327Z"
   },
   {
    "duration": 37,
    "start_time": "2023-01-26T16:40:41.362Z"
   },
   {
    "duration": 13,
    "start_time": "2023-01-26T16:40:41.403Z"
   },
   {
    "duration": 35,
    "start_time": "2023-01-26T16:40:41.417Z"
   },
   {
    "duration": 258,
    "start_time": "2023-01-26T16:40:41.454Z"
   },
   {
    "duration": 4,
    "start_time": "2023-01-26T16:40:41.714Z"
   },
   {
    "duration": 23,
    "start_time": "2023-01-26T16:40:41.720Z"
   },
   {
    "duration": 8,
    "start_time": "2023-01-26T16:40:41.744Z"
   },
   {
    "duration": 3432,
    "start_time": "2023-01-26T16:40:41.754Z"
   },
   {
    "duration": 2531,
    "start_time": "2023-01-26T16:40:45.187Z"
   },
   {
    "duration": 80082,
    "start_time": "2023-01-26T16:40:47.720Z"
   },
   {
    "duration": 790,
    "start_time": "2023-01-26T16:42:07.804Z"
   },
   {
    "duration": 6,
    "start_time": "2023-01-26T16:42:08.596Z"
   },
   {
    "duration": 2439,
    "start_time": "2023-01-26T16:42:08.603Z"
   },
   {
    "duration": 7,
    "start_time": "2023-01-26T16:42:11.044Z"
   },
   {
    "duration": 8091,
    "start_time": "2023-01-26T16:42:11.053Z"
   },
   {
    "duration": 3,
    "start_time": "2023-01-26T16:42:19.147Z"
   },
   {
    "duration": 24,
    "start_time": "2023-01-26T16:42:19.152Z"
   },
   {
    "duration": 8,
    "start_time": "2023-01-26T16:42:19.179Z"
   },
   {
    "duration": 151514,
    "start_time": "2023-01-26T16:42:19.189Z"
   },
   {
    "duration": 4,
    "start_time": "2023-01-26T16:44:50.705Z"
   },
   {
    "duration": 30,
    "start_time": "2023-01-26T16:44:50.712Z"
   },
   {
    "duration": 31,
    "start_time": "2023-01-26T16:44:50.744Z"
   },
   {
    "duration": 102,
    "start_time": "2023-01-26T16:44:50.778Z"
   },
   {
    "duration": 3,
    "start_time": "2023-01-26T16:45:16.938Z"
   },
   {
    "duration": 242,
    "start_time": "2023-01-26T16:45:23.081Z"
   },
   {
    "duration": 3,
    "start_time": "2023-01-26T16:46:08.770Z"
   },
   {
    "duration": 147604,
    "start_time": "2023-01-26T16:46:11.315Z"
   },
   {
    "duration": 4,
    "start_time": "2023-01-26T16:49:02.512Z"
   },
   {
    "duration": 3,
    "start_time": "2023-01-26T16:49:23.266Z"
   },
   {
    "duration": 475974,
    "start_time": "2023-01-26T16:49:27.035Z"
   },
   {
    "duration": 4,
    "start_time": "2023-01-26T16:57:23.011Z"
   },
   {
    "duration": 4,
    "start_time": "2023-01-26T16:57:43.406Z"
   },
   {
    "duration": 241915,
    "start_time": "2023-01-26T16:57:46.355Z"
   },
   {
    "duration": 3,
    "start_time": "2023-01-26T17:03:13.965Z"
   },
   {
    "duration": 94805,
    "start_time": "2023-01-26T17:03:18.901Z"
   },
   {
    "duration": 60,
    "start_time": "2023-01-26T17:05:23.782Z"
   },
   {
    "duration": 12,
    "start_time": "2023-01-26T17:05:38.816Z"
   },
   {
    "duration": 3,
    "start_time": "2023-01-26T17:05:43.046Z"
   },
   {
    "duration": 20,
    "start_time": "2023-01-26T17:05:48.136Z"
   },
   {
    "duration": 13,
    "start_time": "2023-01-26T17:06:31.605Z"
   },
   {
    "duration": 45781,
    "start_time": "2023-01-26T17:06:50.534Z"
   },
   {
    "duration": 3,
    "start_time": "2023-01-26T17:08:23.937Z"
   },
   {
    "duration": 3712442,
    "start_time": "2023-01-26T17:08:26.358Z"
   },
   {
    "duration": 4,
    "start_time": "2023-01-26T21:10:10.320Z"
   },
   {
    "duration": 11,
    "start_time": "2023-01-26T21:12:23.848Z"
   },
   {
    "duration": 9,
    "start_time": "2023-01-26T21:12:32.392Z"
   },
   {
    "duration": 7,
    "start_time": "2023-01-26T21:12:50.888Z"
   },
   {
    "duration": 4,
    "start_time": "2023-01-26T21:13:00.143Z"
   },
   {
    "duration": 10,
    "start_time": "2023-01-26T21:13:54.552Z"
   },
   {
    "duration": 4133,
    "start_time": "2023-01-26T21:13:58.273Z"
   },
   {
    "duration": 4828,
    "start_time": "2023-01-26T21:14:31.673Z"
   },
   {
    "duration": 4887,
    "start_time": "2023-01-26T21:14:46.977Z"
   },
   {
    "duration": 5,
    "start_time": "2023-01-26T21:15:28.960Z"
   },
   {
    "duration": 5,
    "start_time": "2023-01-26T21:15:37.914Z"
   },
   {
    "duration": 4,
    "start_time": "2023-01-26T21:16:16.805Z"
   },
   {
    "duration": 12,
    "start_time": "2023-01-26T21:16:24.514Z"
   },
   {
    "duration": 5,
    "start_time": "2023-01-26T21:16:27.928Z"
   },
   {
    "duration": 7,
    "start_time": "2023-01-26T21:16:50.714Z"
   },
   {
    "duration": 5,
    "start_time": "2023-01-26T21:16:52.353Z"
   },
   {
    "duration": 5,
    "start_time": "2023-01-26T21:17:07.050Z"
   },
   {
    "duration": 10,
    "start_time": "2023-01-26T21:17:35.769Z"
   },
   {
    "duration": 5,
    "start_time": "2023-01-26T21:17:37.833Z"
   },
   {
    "duration": 5,
    "start_time": "2023-01-26T21:17:43.665Z"
   },
   {
    "duration": 4,
    "start_time": "2023-01-26T21:17:57.169Z"
   },
   {
    "duration": 5,
    "start_time": "2023-01-26T21:17:59.337Z"
   },
   {
    "duration": 3,
    "start_time": "2023-01-26T21:21:15.754Z"
   },
   {
    "duration": 5,
    "start_time": "2023-01-26T21:21:30.201Z"
   },
   {
    "duration": 4,
    "start_time": "2023-01-26T21:21:42.746Z"
   },
   {
    "duration": 6,
    "start_time": "2023-01-26T21:21:47.097Z"
   },
   {
    "duration": 4,
    "start_time": "2023-01-26T21:21:52.758Z"
   },
   {
    "duration": 6,
    "start_time": "2023-01-26T21:21:56.818Z"
   },
   {
    "duration": 6,
    "start_time": "2023-01-26T21:22:57.499Z"
   },
   {
    "duration": 147,
    "start_time": "2023-01-26T21:23:25.867Z"
   },
   {
    "duration": 4,
    "start_time": "2023-01-26T21:23:28.234Z"
   },
   {
    "duration": 6,
    "start_time": "2023-01-26T21:23:30.594Z"
   },
   {
    "duration": 6,
    "start_time": "2023-01-26T21:23:34.747Z"
   },
   {
    "duration": 5,
    "start_time": "2023-01-26T21:23:44.946Z"
   },
   {
    "duration": 5,
    "start_time": "2023-01-26T21:24:00.130Z"
   },
   {
    "duration": 6,
    "start_time": "2023-01-26T21:24:02.297Z"
   },
   {
    "duration": 5,
    "start_time": "2023-01-26T21:24:13.762Z"
   },
   {
    "duration": 4,
    "start_time": "2023-01-26T21:24:23.002Z"
   },
   {
    "duration": 5,
    "start_time": "2023-01-26T21:24:24.962Z"
   },
   {
    "duration": 4,
    "start_time": "2023-01-26T21:24:26.978Z"
   },
   {
    "duration": 5,
    "start_time": "2023-01-26T21:24:32.700Z"
   },
   {
    "duration": 6,
    "start_time": "2023-01-26T21:24:34.450Z"
   },
   {
    "duration": 6,
    "start_time": "2023-01-26T21:24:36.482Z"
   },
   {
    "duration": 5631,
    "start_time": "2023-01-26T21:24:44.946Z"
   },
   {
    "duration": 72,
    "start_time": "2023-01-26T21:26:01.678Z"
   },
   {
    "duration": 6,
    "start_time": "2023-01-26T21:26:18.347Z"
   },
   {
    "duration": 9,
    "start_time": "2023-01-26T21:26:26.922Z"
   },
   {
    "duration": 5756,
    "start_time": "2023-01-26T21:27:03.090Z"
   },
   {
    "duration": 4,
    "start_time": "2023-01-26T21:27:18.426Z"
   },
   {
    "duration": 10,
    "start_time": "2023-01-26T21:27:35.510Z"
   },
   {
    "duration": 4,
    "start_time": "2023-01-26T21:27:43.930Z"
   },
   {
    "duration": 138,
    "start_time": "2023-01-26T21:27:54.187Z"
   },
   {
    "duration": 5974,
    "start_time": "2023-01-26T21:27:56.059Z"
   },
   {
    "duration": 3,
    "start_time": "2023-01-26T21:28:02.036Z"
   },
   {
    "duration": 9,
    "start_time": "2023-01-26T21:28:25.347Z"
   },
   {
    "duration": 4,
    "start_time": "2023-01-26T21:28:29.547Z"
   },
   {
    "duration": 13,
    "start_time": "2023-01-26T21:28:42.235Z"
   },
   {
    "duration": 5,
    "start_time": "2023-01-26T21:28:51.940Z"
   },
   {
    "duration": 11,
    "start_time": "2023-01-26T21:28:56.955Z"
   },
   {
    "duration": 9,
    "start_time": "2023-01-26T21:29:28.748Z"
   },
   {
    "duration": 68,
    "start_time": "2023-01-26T21:29:50.868Z"
   },
   {
    "duration": 4,
    "start_time": "2023-01-26T21:30:18.705Z"
   },
   {
    "duration": 4,
    "start_time": "2023-01-26T21:30:24.875Z"
   },
   {
    "duration": 4,
    "start_time": "2023-01-26T21:30:47.160Z"
   },
   {
    "duration": 16,
    "start_time": "2023-01-26T21:30:50.963Z"
   },
   {
    "duration": 7,
    "start_time": "2023-01-26T21:31:04.529Z"
   },
   {
    "duration": 4,
    "start_time": "2023-01-26T21:31:07.099Z"
   },
   {
    "duration": 4244,
    "start_time": "2023-01-26T21:31:09.131Z"
   },
   {
    "duration": 11,
    "start_time": "2023-01-26T21:31:24.379Z"
   },
   {
    "duration": 11,
    "start_time": "2023-01-26T21:31:37.452Z"
   },
   {
    "duration": 8,
    "start_time": "2023-01-26T21:31:57.587Z"
   },
   {
    "duration": 9,
    "start_time": "2023-01-26T21:31:59.459Z"
   },
   {
    "duration": 10,
    "start_time": "2023-01-26T21:32:01.587Z"
   },
   {
    "duration": 64,
    "start_time": "2023-01-26T21:32:06.971Z"
   },
   {
    "duration": 63,
    "start_time": "2023-01-26T21:33:44.251Z"
   },
   {
    "duration": 5,
    "start_time": "2023-01-26T21:33:57.140Z"
   },
   {
    "duration": 4,
    "start_time": "2023-01-26T21:34:02.219Z"
   },
   {
    "duration": 4,
    "start_time": "2023-01-26T21:34:07.012Z"
   },
   {
    "duration": 50,
    "start_time": "2023-01-26T21:34:21.371Z"
   },
   {
    "duration": 25,
    "start_time": "2023-01-26T21:34:26.451Z"
   },
   {
    "duration": 5,
    "start_time": "2023-01-26T21:34:31.235Z"
   },
   {
    "duration": 4,
    "start_time": "2023-01-26T21:34:50.243Z"
   },
   {
    "duration": 70,
    "start_time": "2023-01-26T21:35:18.725Z"
   },
   {
    "duration": 54,
    "start_time": "2023-01-26T21:35:26.381Z"
   },
   {
    "duration": 68,
    "start_time": "2023-01-26T21:35:30.836Z"
   },
   {
    "duration": 59,
    "start_time": "2023-01-26T21:35:45.112Z"
   },
   {
    "duration": 59,
    "start_time": "2023-01-26T21:35:54.755Z"
   },
   {
    "duration": 4,
    "start_time": "2023-01-26T21:36:19.867Z"
   },
   {
    "duration": 15,
    "start_time": "2023-01-26T21:36:28.914Z"
   },
   {
    "duration": 14,
    "start_time": "2023-01-26T21:36:36.292Z"
   },
   {
    "duration": 11,
    "start_time": "2023-01-26T21:36:46.420Z"
   },
   {
    "duration": 3,
    "start_time": "2023-01-26T21:36:52.355Z"
   },
   {
    "duration": 34,
    "start_time": "2023-01-26T21:37:05.330Z"
   },
   {
    "duration": 3,
    "start_time": "2023-01-26T21:37:52.315Z"
   },
   {
    "duration": 142975,
    "start_time": "2023-01-26T21:37:58.019Z"
   },
   {
    "duration": 3,
    "start_time": "2023-01-26T21:40:45.179Z"
   },
   {
    "duration": 48,
    "start_time": "2023-01-26T21:41:12.412Z"
   },
   {
    "duration": 2,
    "start_time": "2023-01-26T21:41:15.315Z"
   },
   {
    "duration": 169188,
    "start_time": "2023-01-26T21:41:17.506Z"
   },
   {
    "duration": 4,
    "start_time": "2023-01-26T21:44:06.697Z"
   },
   {
    "duration": 4,
    "start_time": "2023-01-26T21:44:25.939Z"
   },
   {
    "duration": 166138,
    "start_time": "2023-01-26T21:44:29.659Z"
   },
   {
    "duration": 4,
    "start_time": "2023-01-26T21:48:26.787Z"
   },
   {
    "duration": 3,
    "start_time": "2023-01-26T21:48:38.379Z"
   },
   {
    "duration": 129561,
    "start_time": "2023-01-26T21:48:40.940Z"
   },
   {
    "duration": 4,
    "start_time": "2023-01-26T21:50:55.284Z"
   },
   {
    "duration": 48,
    "start_time": "2023-01-26T21:51:14.684Z"
   },
   {
    "duration": 3,
    "start_time": "2023-01-26T21:51:17.387Z"
   },
   {
    "duration": 111957,
    "start_time": "2023-01-26T21:51:19.643Z"
   },
   {
    "duration": 4,
    "start_time": "2023-01-26T21:53:15.124Z"
   },
   {
    "duration": 3,
    "start_time": "2023-01-26T21:53:23.580Z"
   },
   {
    "duration": 111806,
    "start_time": "2023-01-26T21:53:26.396Z"
   },
   {
    "duration": 5,
    "start_time": "2023-01-26T21:55:39.451Z"
   },
   {
    "duration": 3,
    "start_time": "2023-01-26T21:55:48.213Z"
   },
   {
    "duration": 12,
    "start_time": "2023-01-26T22:01:43.877Z"
   },
   {
    "duration": 8,
    "start_time": "2023-01-26T22:02:05.511Z"
   },
   {
    "duration": 5,
    "start_time": "2023-01-26T22:02:55.381Z"
   },
   {
    "duration": 5,
    "start_time": "2023-01-26T22:03:04.420Z"
   },
   {
    "duration": 3,
    "start_time": "2023-01-26T22:03:09.517Z"
   },
   {
    "duration": 4,
    "start_time": "2023-01-26T22:03:20.861Z"
   },
   {
    "duration": 11,
    "start_time": "2023-01-26T22:03:49.965Z"
   },
   {
    "duration": 18,
    "start_time": "2023-01-26T22:03:56.113Z"
   },
   {
    "duration": 15,
    "start_time": "2023-01-26T22:04:06.477Z"
   },
   {
    "duration": 12,
    "start_time": "2023-01-26T22:04:11.117Z"
   },
   {
    "duration": 12,
    "start_time": "2023-01-26T22:04:23.357Z"
   },
   {
    "duration": 5,
    "start_time": "2023-01-26T22:04:29.661Z"
   },
   {
    "duration": 4,
    "start_time": "2023-01-26T22:04:36.461Z"
   },
   {
    "duration": 5,
    "start_time": "2023-01-26T22:04:40.045Z"
   },
   {
    "duration": 35,
    "start_time": "2023-01-26T22:04:47.411Z"
   },
   {
    "duration": 4,
    "start_time": "2023-01-26T22:04:57.477Z"
   },
   {
    "duration": 11,
    "start_time": "2023-01-26T22:05:07.817Z"
   },
   {
    "duration": 5,
    "start_time": "2023-01-26T22:05:57.019Z"
   },
   {
    "duration": 5,
    "start_time": "2023-01-26T22:06:38.590Z"
   },
   {
    "duration": 11,
    "start_time": "2023-01-26T22:06:42.557Z"
   },
   {
    "duration": 10,
    "start_time": "2023-01-26T22:06:57.011Z"
   },
   {
    "duration": 696,
    "start_time": "2023-01-26T22:07:01.646Z"
   },
   {
    "duration": 6,
    "start_time": "2023-01-26T22:07:17.247Z"
   },
   {
    "duration": 3,
    "start_time": "2023-01-26T22:07:51.967Z"
   },
   {
    "duration": 4,
    "start_time": "2023-01-26T22:07:59.663Z"
   },
   {
    "duration": 4,
    "start_time": "2023-01-26T22:08:09.335Z"
   },
   {
    "duration": 5,
    "start_time": "2023-01-26T22:08:13.710Z"
   },
   {
    "duration": 4,
    "start_time": "2023-01-26T22:08:19.366Z"
   },
   {
    "duration": 49,
    "start_time": "2023-01-26T22:08:34.751Z"
   },
   {
    "duration": 10,
    "start_time": "2023-01-26T22:08:39.111Z"
   },
   {
    "duration": 14,
    "start_time": "2023-01-26T22:09:12.120Z"
   },
   {
    "duration": 10,
    "start_time": "2023-01-26T22:09:22.711Z"
   },
   {
    "duration": 7,
    "start_time": "2023-01-26T22:09:25.655Z"
   },
   {
    "duration": 5,
    "start_time": "2023-01-26T22:09:49.215Z"
   },
   {
    "duration": 10,
    "start_time": "2023-01-26T22:09:53.631Z"
   },
   {
    "duration": 5,
    "start_time": "2023-01-26T22:10:10.551Z"
   },
   {
    "duration": 12,
    "start_time": "2023-01-26T22:11:41.784Z"
   },
   {
    "duration": 18,
    "start_time": "2023-01-26T22:11:46.744Z"
   },
   {
    "duration": 3,
    "start_time": "2023-01-26T22:11:55.980Z"
   },
   {
    "duration": 149166,
    "start_time": "2023-01-26T22:12:00.136Z"
   },
   {
    "duration": 4,
    "start_time": "2023-01-26T22:17:21.841Z"
   },
   {
    "duration": 19,
    "start_time": "2023-01-26T22:17:25.612Z"
   },
   {
    "duration": 55,
    "start_time": "2023-01-26T22:18:00.818Z"
   },
   {
    "duration": 3,
    "start_time": "2023-01-26T22:18:03.890Z"
   },
   {
    "duration": 174835,
    "start_time": "2023-01-26T22:18:06.458Z"
   },
   {
    "duration": 3,
    "start_time": "2023-01-26T22:24:04.820Z"
   },
   {
    "duration": 19,
    "start_time": "2023-01-26T22:24:08.147Z"
   },
   {
    "duration": 4,
    "start_time": "2023-01-26T22:24:26.620Z"
   },
   {
    "duration": 43846,
    "start_time": "2023-01-26T22:24:30.363Z"
   },
   {
    "duration": 4,
    "start_time": "2023-01-26T22:26:29.517Z"
   },
   {
    "duration": 4,
    "start_time": "2023-01-26T22:26:39.028Z"
   },
   {
    "duration": 41956,
    "start_time": "2023-01-26T22:26:41.756Z"
   },
   {
    "duration": 4,
    "start_time": "2023-01-26T22:28:08.020Z"
   },
   {
    "duration": 4,
    "start_time": "2023-01-26T22:28:26.173Z"
   },
   {
    "duration": 3,
    "start_time": "2023-01-26T22:29:01.549Z"
   },
   {
    "duration": 88936,
    "start_time": "2023-01-26T22:29:05.053Z"
   },
   {
    "duration": 47,
    "start_time": "2023-01-26T22:31:21.661Z"
   },
   {
    "duration": 1107,
    "start_time": "2023-01-26T22:31:36.022Z"
   },
   {
    "duration": 370,
    "start_time": "2023-01-26T22:31:37.130Z"
   },
   {
    "duration": 814,
    "start_time": "2023-01-26T22:31:37.502Z"
   },
   {
    "duration": 32,
    "start_time": "2023-01-26T22:31:38.318Z"
   },
   {
    "duration": 9,
    "start_time": "2023-01-26T22:31:38.352Z"
   },
   {
    "duration": 31,
    "start_time": "2023-01-26T22:31:38.363Z"
   },
   {
    "duration": 28,
    "start_time": "2023-01-26T22:31:38.396Z"
   },
   {
    "duration": 239,
    "start_time": "2023-01-26T22:31:38.425Z"
   },
   {
    "duration": 4,
    "start_time": "2023-01-26T22:31:38.666Z"
   },
   {
    "duration": 33,
    "start_time": "2023-01-26T22:31:38.672Z"
   },
   {
    "duration": 13,
    "start_time": "2023-01-26T22:31:38.707Z"
   },
   {
    "duration": 3090,
    "start_time": "2023-01-26T22:31:38.721Z"
   },
   {
    "duration": 2420,
    "start_time": "2023-01-26T22:31:41.813Z"
   },
   {
    "duration": 72848,
    "start_time": "2023-01-26T22:31:44.236Z"
   },
   {
    "duration": 767,
    "start_time": "2023-01-26T22:32:57.086Z"
   },
   {
    "duration": 7,
    "start_time": "2023-01-26T22:32:57.857Z"
   },
   {
    "duration": 2196,
    "start_time": "2023-01-26T22:32:57.865Z"
   },
   {
    "duration": 8,
    "start_time": "2023-01-26T22:33:00.063Z"
   },
   {
    "duration": 6890,
    "start_time": "2023-01-26T22:33:00.073Z"
   },
   {
    "duration": 6,
    "start_time": "2023-01-26T22:33:46.388Z"
   },
   {
    "duration": 26,
    "start_time": "2023-01-26T22:34:49.630Z"
   },
   {
    "duration": 5,
    "start_time": "2023-01-26T22:35:00.314Z"
   },
   {
    "duration": 63,
    "start_time": "2023-01-26T22:35:26.502Z"
   },
   {
    "duration": 59,
    "start_time": "2023-01-26T22:35:32.238Z"
   },
   {
    "duration": 106,
    "start_time": "2023-01-26T22:35:44.542Z"
   },
   {
    "duration": 26,
    "start_time": "2023-01-26T22:36:11.757Z"
   },
   {
    "duration": 13,
    "start_time": "2023-01-26T22:36:46.528Z"
   },
   {
    "duration": 1014,
    "start_time": "2023-01-26T22:36:51.614Z"
   },
   {
    "duration": 53,
    "start_time": "2023-01-26T22:37:04.718Z"
   },
   {
    "duration": 7055,
    "start_time": "2023-01-26T22:37:26.581Z"
   },
   {
    "duration": 29,
    "start_time": "2023-01-26T22:37:42.447Z"
   },
   {
    "duration": 8,
    "start_time": "2023-01-26T22:37:56.247Z"
   },
   {
    "duration": 3,
    "start_time": "2023-01-26T22:38:04.951Z"
   },
   {
    "duration": 936,
    "start_time": "2023-01-26T22:38:07.226Z"
   },
   {
    "duration": 31,
    "start_time": "2023-01-26T22:38:24.934Z"
   },
   {
    "duration": 11,
    "start_time": "2023-01-26T22:38:27.070Z"
   },
   {
    "duration": 8,
    "start_time": "2023-01-26T22:38:29.166Z"
   },
   {
    "duration": 12,
    "start_time": "2023-01-26T22:38:44.550Z"
   },
   {
    "duration": 11,
    "start_time": "2023-01-26T22:38:49.544Z"
   },
   {
    "duration": 51,
    "start_time": "2023-01-26T22:41:35.848Z"
   },
   {
    "duration": 10,
    "start_time": "2023-01-26T22:41:40.216Z"
   },
   {
    "duration": 11,
    "start_time": "2023-01-26T22:41:50.926Z"
   },
   {
    "duration": 10,
    "start_time": "2023-01-26T22:42:29.977Z"
   },
   {
    "duration": 58,
    "start_time": "2023-01-26T22:42:36.872Z"
   },
   {
    "duration": 3,
    "start_time": "2023-01-26T22:42:41.086Z"
   },
   {
    "duration": 140960,
    "start_time": "2023-01-26T22:42:43.134Z"
   },
   {
    "duration": 10,
    "start_time": "2023-01-26T22:45:11.182Z"
   },
   {
    "duration": 4,
    "start_time": "2023-01-26T22:45:17.382Z"
   },
   {
    "duration": 3,
    "start_time": "2023-01-26T22:45:51.055Z"
   },
   {
    "duration": 4,
    "start_time": "2023-01-26T22:46:02.985Z"
   },
   {
    "duration": 61,
    "start_time": "2023-01-26T22:46:28.886Z"
   },
   {
    "duration": 2,
    "start_time": "2023-01-26T22:46:33.335Z"
   },
   {
    "duration": 2,
    "start_time": "2023-01-26T22:47:09.871Z"
   },
   {
    "duration": 231562,
    "start_time": "2023-01-26T22:47:13.668Z"
   },
   {
    "duration": 3,
    "start_time": "2023-01-26T22:55:00.089Z"
   },
   {
    "duration": 56,
    "start_time": "2023-01-26T22:55:04.944Z"
   },
   {
    "duration": 4,
    "start_time": "2023-01-26T22:55:08.041Z"
   },
   {
    "duration": 294163,
    "start_time": "2023-01-26T22:55:09.743Z"
   },
   {
    "duration": 2,
    "start_time": "2023-01-26T23:02:07.289Z"
   },
   {
    "duration": 162213,
    "start_time": "2023-01-26T23:02:09.352Z"
   },
   {
    "duration": 4,
    "start_time": "2023-01-26T23:04:51.569Z"
   },
   {
    "duration": 3,
    "start_time": "2023-01-26T23:05:31.116Z"
   },
   {
    "duration": 106705,
    "start_time": "2023-01-26T23:05:33.785Z"
   },
   {
    "duration": 3,
    "start_time": "2023-01-26T23:07:24.177Z"
   },
   {
    "duration": 41458,
    "start_time": "2023-01-26T23:07:27.346Z"
   },
   {
    "duration": 3,
    "start_time": "2023-01-26T23:08:11.378Z"
   },
   {
    "duration": 94250,
    "start_time": "2023-01-26T23:08:13.058Z"
   },
   {
    "duration": 3,
    "start_time": "2023-01-26T23:09:48.816Z"
   },
   {
    "duration": 102275,
    "start_time": "2023-01-26T23:09:57.321Z"
   },
   {
    "duration": 3,
    "start_time": "2023-01-26T23:11:39.600Z"
   },
   {
    "duration": 3,
    "start_time": "2023-01-26T23:11:41.770Z"
   },
   {
    "duration": 263271,
    "start_time": "2023-01-26T23:11:43.661Z"
   },
   {
    "duration": 3,
    "start_time": "2023-01-26T23:16:18.710Z"
   },
   {
    "duration": 97211,
    "start_time": "2023-01-26T23:16:20.428Z"
   },
   {
    "duration": 3,
    "start_time": "2023-01-26T23:17:57.642Z"
   },
   {
    "duration": 3,
    "start_time": "2023-01-26T23:18:00.029Z"
   },
   {
    "duration": 334133,
    "start_time": "2023-01-26T23:18:01.715Z"
   },
   {
    "duration": 2,
    "start_time": "2023-01-26T23:24:02.344Z"
   },
   {
    "duration": 590177,
    "start_time": "2023-01-26T23:24:04.224Z"
   },
   {
    "duration": 4,
    "start_time": "2023-01-26T23:34:29.474Z"
   },
   {
    "duration": 1093,
    "start_time": "2023-01-27T00:02:44.624Z"
   },
   {
    "duration": 373,
    "start_time": "2023-01-27T00:02:45.719Z"
   },
   {
    "duration": 785,
    "start_time": "2023-01-27T00:02:46.094Z"
   },
   {
    "duration": 36,
    "start_time": "2023-01-27T00:02:46.881Z"
   },
   {
    "duration": 17,
    "start_time": "2023-01-27T00:02:46.919Z"
   },
   {
    "duration": 11,
    "start_time": "2023-01-27T00:02:46.938Z"
   },
   {
    "duration": 42,
    "start_time": "2023-01-27T00:02:46.950Z"
   },
   {
    "duration": 242,
    "start_time": "2023-01-27T00:02:46.993Z"
   },
   {
    "duration": 4,
    "start_time": "2023-01-27T00:02:47.237Z"
   },
   {
    "duration": 28,
    "start_time": "2023-01-27T00:02:47.243Z"
   },
   {
    "duration": 8,
    "start_time": "2023-01-27T00:02:47.272Z"
   },
   {
    "duration": 3021,
    "start_time": "2023-01-27T00:02:47.292Z"
   },
   {
    "duration": 2390,
    "start_time": "2023-01-27T00:02:50.314Z"
   },
   {
    "duration": 69296,
    "start_time": "2023-01-27T00:02:52.705Z"
   },
   {
    "duration": 758,
    "start_time": "2023-01-27T00:04:02.003Z"
   },
   {
    "duration": 7,
    "start_time": "2023-01-27T00:04:02.765Z"
   },
   {
    "duration": 2144,
    "start_time": "2023-01-27T00:04:02.774Z"
   },
   {
    "duration": 6,
    "start_time": "2023-01-27T00:04:04.919Z"
   },
   {
    "duration": 6486,
    "start_time": "2023-01-27T00:04:04.926Z"
   },
   {
    "duration": 3,
    "start_time": "2023-01-27T00:04:11.414Z"
   },
   {
    "duration": 4,
    "start_time": "2023-01-27T00:04:49.022Z"
   },
   {
    "duration": 173,
    "start_time": "2023-01-27T00:04:51.258Z"
   },
   {
    "duration": 3,
    "start_time": "2023-01-27T00:05:11.512Z"
   },
   {
    "duration": 1121,
    "start_time": "2023-01-27T00:10:58.786Z"
   },
   {
    "duration": 439,
    "start_time": "2023-01-27T00:10:59.909Z"
   },
   {
    "duration": 1576,
    "start_time": "2023-01-27T00:11:00.350Z"
   },
   {
    "duration": 30,
    "start_time": "2023-01-27T00:11:01.928Z"
   },
   {
    "duration": 61,
    "start_time": "2023-01-27T00:11:01.959Z"
   },
   {
    "duration": 11,
    "start_time": "2023-01-27T00:11:02.022Z"
   },
   {
    "duration": 65,
    "start_time": "2023-01-27T00:11:02.034Z"
   },
   {
    "duration": 235,
    "start_time": "2023-01-27T00:11:02.101Z"
   },
   {
    "duration": 4,
    "start_time": "2023-01-27T00:11:02.337Z"
   },
   {
    "duration": 78,
    "start_time": "2023-01-27T00:11:02.343Z"
   },
   {
    "duration": 12,
    "start_time": "2023-01-27T00:11:02.423Z"
   },
   {
    "duration": 3074,
    "start_time": "2023-01-27T00:11:02.436Z"
   },
   {
    "duration": 2397,
    "start_time": "2023-01-27T00:11:05.512Z"
   },
   {
    "duration": 70326,
    "start_time": "2023-01-27T00:11:07.911Z"
   },
   {
    "duration": 753,
    "start_time": "2023-01-27T00:12:18.238Z"
   },
   {
    "duration": 6,
    "start_time": "2023-01-27T00:12:18.995Z"
   },
   {
    "duration": 2192,
    "start_time": "2023-01-27T00:12:19.002Z"
   },
   {
    "duration": 8,
    "start_time": "2023-01-27T00:12:21.196Z"
   },
   {
    "duration": 7,
    "start_time": "2023-01-27T00:12:21.206Z"
   },
   {
    "duration": 0,
    "start_time": "2023-01-27T00:12:21.215Z"
   },
   {
    "duration": 0,
    "start_time": "2023-01-27T00:12:21.217Z"
   },
   {
    "duration": 4,
    "start_time": "2023-01-27T00:16:07.852Z"
   },
   {
    "duration": 174,
    "start_time": "2023-01-27T00:16:10.956Z"
   },
   {
    "duration": 51,
    "start_time": "2023-01-27T00:16:21.025Z"
   },
   {
    "duration": 6477,
    "start_time": "2023-01-27T00:16:38.038Z"
   },
   {
    "duration": 4,
    "start_time": "2023-01-27T00:16:51.532Z"
   },
   {
    "duration": 1198,
    "start_time": "2023-01-27T00:22:31.214Z"
   },
   {
    "duration": 424,
    "start_time": "2023-01-27T00:22:32.414Z"
   },
   {
    "duration": 963,
    "start_time": "2023-01-27T00:22:32.839Z"
   },
   {
    "duration": 34,
    "start_time": "2023-01-27T00:22:33.804Z"
   },
   {
    "duration": 59,
    "start_time": "2023-01-27T00:22:33.840Z"
   },
   {
    "duration": 17,
    "start_time": "2023-01-27T00:22:33.901Z"
   },
   {
    "duration": 75,
    "start_time": "2023-01-27T00:22:33.920Z"
   },
   {
    "duration": 605,
    "start_time": "2023-01-27T00:22:33.996Z"
   },
   {
    "duration": 4,
    "start_time": "2023-01-27T00:22:34.610Z"
   },
   {
    "duration": 20,
    "start_time": "2023-01-27T00:22:34.616Z"
   },
   {
    "duration": 7,
    "start_time": "2023-01-27T00:22:34.637Z"
   },
   {
    "duration": 3959,
    "start_time": "2023-01-27T00:22:34.645Z"
   },
   {
    "duration": 2379,
    "start_time": "2023-01-27T00:22:38.606Z"
   },
   {
    "duration": 71198,
    "start_time": "2023-01-27T00:22:40.987Z"
   },
   {
    "duration": 763,
    "start_time": "2023-01-27T00:23:52.191Z"
   },
   {
    "duration": 6,
    "start_time": "2023-01-27T00:23:52.956Z"
   },
   {
    "duration": 2158,
    "start_time": "2023-01-27T00:23:52.963Z"
   },
   {
    "duration": 5,
    "start_time": "2023-01-27T00:23:55.123Z"
   },
   {
    "duration": 6782,
    "start_time": "2023-01-27T00:23:55.130Z"
   },
   {
    "duration": 3,
    "start_time": "2023-01-27T00:24:01.915Z"
   },
   {
    "duration": 1140,
    "start_time": "2023-01-27T00:25:28.852Z"
   },
   {
    "duration": 628,
    "start_time": "2023-01-27T00:25:29.994Z"
   },
   {
    "duration": 1226,
    "start_time": "2023-01-27T00:25:30.624Z"
   },
   {
    "duration": 40,
    "start_time": "2023-01-27T00:25:31.852Z"
   },
   {
    "duration": 8,
    "start_time": "2023-01-27T00:25:31.894Z"
   },
   {
    "duration": 17,
    "start_time": "2023-01-27T00:25:31.904Z"
   },
   {
    "duration": 36,
    "start_time": "2023-01-27T00:25:31.923Z"
   },
   {
    "duration": 237,
    "start_time": "2023-01-27T00:25:31.960Z"
   },
   {
    "duration": 4,
    "start_time": "2023-01-27T00:25:32.198Z"
   },
   {
    "duration": 29,
    "start_time": "2023-01-27T00:25:32.205Z"
   },
   {
    "duration": 16,
    "start_time": "2023-01-27T00:25:32.236Z"
   },
   {
    "duration": 3023,
    "start_time": "2023-01-27T00:25:32.254Z"
   },
   {
    "duration": 2432,
    "start_time": "2023-01-27T00:25:35.278Z"
   },
   {
    "duration": 65300,
    "start_time": "2023-01-27T00:25:37.712Z"
   },
   {
    "duration": 768,
    "start_time": "2023-01-27T00:26:43.014Z"
   },
   {
    "duration": 9,
    "start_time": "2023-01-27T00:26:43.785Z"
   },
   {
    "duration": 2151,
    "start_time": "2023-01-27T00:26:43.796Z"
   },
   {
    "duration": 7,
    "start_time": "2023-01-27T00:26:45.948Z"
   },
   {
    "duration": 6515,
    "start_time": "2023-01-27T00:26:45.958Z"
   },
   {
    "duration": 3,
    "start_time": "2023-01-27T00:26:52.476Z"
   },
   {
    "duration": 601792,
    "start_time": "2023-01-27T00:27:02.525Z"
   },
   {
    "duration": 3,
    "start_time": "2023-01-27T00:42:45.055Z"
   },
   {
    "duration": 273,
    "start_time": "2023-01-27T00:42:50.630Z"
   },
   {
    "duration": 3,
    "start_time": "2023-01-27T00:43:03.225Z"
   },
   {
    "duration": 148,
    "start_time": "2023-01-27T00:43:18.375Z"
   },
   {
    "duration": 171,
    "start_time": "2023-01-27T00:43:24.339Z"
   },
   {
    "duration": 3,
    "start_time": "2023-01-27T00:43:43.286Z"
   },
   {
    "duration": 126995,
    "start_time": "2023-01-27T00:43:47.523Z"
   },
   {
    "duration": 3,
    "start_time": "2023-01-27T00:46:56.367Z"
   },
   {
    "duration": 189466,
    "start_time": "2023-01-27T00:46:59.846Z"
   },
   {
    "duration": 3,
    "start_time": "2023-01-27T00:50:43.663Z"
   },
   {
    "duration": 215270,
    "start_time": "2023-01-27T00:50:45.926Z"
   },
   {
    "duration": 3,
    "start_time": "2023-01-27T00:54:54.568Z"
   },
   {
    "duration": 191679,
    "start_time": "2023-01-27T00:54:57.048Z"
   },
   {
    "duration": 3,
    "start_time": "2023-01-27T00:58:19.041Z"
   },
   {
    "duration": 184632,
    "start_time": "2023-01-27T00:58:22.521Z"
   },
   {
    "duration": 3,
    "start_time": "2023-01-27T01:02:14.755Z"
   },
   {
    "duration": 168954,
    "start_time": "2023-01-27T01:02:17.275Z"
   },
   {
    "duration": 3,
    "start_time": "2023-01-27T01:05:24.964Z"
   },
   {
    "duration": 188808,
    "start_time": "2023-01-27T01:05:28.996Z"
   },
   {
    "duration": 3,
    "start_time": "2023-01-27T01:09:18.173Z"
   },
   {
    "duration": 202043,
    "start_time": "2023-01-27T01:09:20.597Z"
   },
   {
    "duration": 4,
    "start_time": "2023-01-27T01:13:14.861Z"
   },
   {
    "duration": 185765,
    "start_time": "2023-01-27T01:13:21.437Z"
   },
   {
    "duration": 3,
    "start_time": "2023-01-27T01:16:42.632Z"
   },
   {
    "duration": 173711,
    "start_time": "2023-01-27T01:16:46.135Z"
   },
   {
    "duration": 3,
    "start_time": "2023-01-27T01:19:59.447Z"
   },
   {
    "duration": 162014,
    "start_time": "2023-01-27T01:20:01.279Z"
   },
   {
    "duration": 3,
    "start_time": "2023-01-27T01:22:54.456Z"
   },
   {
    "duration": 3,
    "start_time": "2023-01-27T01:23:05.634Z"
   },
   {
    "duration": 202400,
    "start_time": "2023-01-27T01:23:07.544Z"
   },
   {
    "duration": 3,
    "start_time": "2023-01-27T01:26:50.841Z"
   },
   {
    "duration": 3,
    "start_time": "2023-01-27T01:26:55.977Z"
   },
   {
    "duration": 229270,
    "start_time": "2023-01-27T01:26:59.640Z"
   },
   {
    "duration": 3,
    "start_time": "2023-01-27T01:31:02.866Z"
   },
   {
    "duration": 234051,
    "start_time": "2023-01-27T01:31:05.850Z"
   },
   {
    "duration": 3,
    "start_time": "2023-01-27T01:35:19.235Z"
   },
   {
    "duration": 239687,
    "start_time": "2023-01-27T01:35:21.525Z"
   },
   {
    "duration": 4,
    "start_time": "2023-01-27T01:39:38.341Z"
   },
   {
    "duration": 223031,
    "start_time": "2023-01-27T01:39:40.085Z"
   },
   {
    "duration": 3,
    "start_time": "2023-01-27T01:44:04.062Z"
   },
   {
    "duration": 228121,
    "start_time": "2023-01-27T01:44:07.285Z"
   },
   {
    "duration": 3,
    "start_time": "2023-01-27T01:48:15.167Z"
   },
   {
    "duration": 230171,
    "start_time": "2023-01-27T01:48:20.279Z"
   },
   {
    "duration": 3,
    "start_time": "2023-01-27T01:52:35.231Z"
   },
   {
    "duration": 215776,
    "start_time": "2023-01-27T01:52:38.271Z"
   },
   {
    "duration": 3,
    "start_time": "2023-01-27T01:56:27.480Z"
   },
   {
    "duration": 246402,
    "start_time": "2023-01-27T01:56:30.104Z"
   },
   {
    "duration": 3,
    "start_time": "2023-01-27T02:00:52.661Z"
   },
   {
    "duration": 249660,
    "start_time": "2023-01-27T02:00:58.754Z"
   },
   {
    "duration": 3,
    "start_time": "2023-01-27T02:05:16.834Z"
   },
   {
    "duration": 275710,
    "start_time": "2023-01-27T02:05:19.610Z"
   },
   {
    "duration": 3,
    "start_time": "2023-01-27T02:10:07.306Z"
   },
   {
    "duration": 257020,
    "start_time": "2023-01-27T02:10:13.682Z"
   },
   {
    "duration": 3,
    "start_time": "2023-01-27T02:14:53.083Z"
   },
   {
    "duration": 203375,
    "start_time": "2023-01-27T02:14:55.835Z"
   },
   {
    "duration": 3,
    "start_time": "2023-01-27T02:18:46.254Z"
   },
   {
    "duration": 269084,
    "start_time": "2023-01-27T02:18:51.452Z"
   },
   {
    "duration": 4,
    "start_time": "2023-01-27T02:23:33.284Z"
   },
   {
    "duration": 285487,
    "start_time": "2023-01-27T02:23:36.853Z"
   },
   {
    "duration": 3,
    "start_time": "2023-01-27T02:28:38.326Z"
   },
   {
    "duration": 3,
    "start_time": "2023-01-27T02:28:55.014Z"
   },
   {
    "duration": 303302,
    "start_time": "2023-01-27T02:28:58.021Z"
   },
   {
    "duration": 3,
    "start_time": "2023-01-27T02:34:43.431Z"
   },
   {
    "duration": 304943,
    "start_time": "2023-01-27T02:34:45.567Z"
   },
   {
    "duration": 3,
    "start_time": "2023-01-27T02:40:08.376Z"
   },
   {
    "duration": 304807,
    "start_time": "2023-01-27T02:40:11.512Z"
   },
   {
    "duration": 3,
    "start_time": "2023-01-27T02:45:55.082Z"
   },
   {
    "duration": 300586,
    "start_time": "2023-01-27T02:45:57.356Z"
   },
   {
    "duration": 4,
    "start_time": "2023-01-27T02:51:49.804Z"
   },
   {
    "duration": 3,
    "start_time": "2023-01-27T02:52:07.482Z"
   },
   {
    "duration": 294620,
    "start_time": "2023-01-27T02:52:09.795Z"
   },
   {
    "duration": 2,
    "start_time": "2023-01-27T02:57:32.309Z"
   },
   {
    "duration": 324077,
    "start_time": "2023-01-27T02:57:34.244Z"
   },
   {
    "duration": 3,
    "start_time": "2023-01-27T03:03:19.430Z"
   },
   {
    "duration": 346648,
    "start_time": "2023-01-27T03:03:21.406Z"
   },
   {
    "duration": 3,
    "start_time": "2023-01-27T03:09:28.335Z"
   },
   {
    "duration": 486187,
    "start_time": "2023-01-27T03:09:31.039Z"
   },
   {
    "duration": 3,
    "start_time": "2023-01-27T03:18:28.632Z"
   },
   {
    "duration": 576958,
    "start_time": "2023-01-27T03:18:36.374Z"
   },
   {
    "duration": 3,
    "start_time": "2023-01-27T03:29:14.832Z"
   },
   {
    "duration": 412002,
    "start_time": "2023-01-27T03:29:17.599Z"
   },
   {
    "duration": 3,
    "start_time": "2023-01-27T03:36:26.202Z"
   },
   {
    "duration": 2,
    "start_time": "2023-01-27T03:36:37.969Z"
   },
   {
    "duration": 680989,
    "start_time": "2023-01-27T03:36:41.824Z"
   },
   {
    "duration": 3,
    "start_time": "2023-01-27T03:48:47.742Z"
   },
   {
    "duration": 537251,
    "start_time": "2023-01-27T03:48:50.074Z"
   },
   {
    "duration": 3,
    "start_time": "2023-01-27T03:58:12.588Z"
   },
   {
    "duration": 553783,
    "start_time": "2023-01-27T03:58:17.939Z"
   },
   {
    "duration": 3,
    "start_time": "2023-01-27T04:08:17.021Z"
   },
   {
    "duration": 513318,
    "start_time": "2023-01-27T04:08:20.605Z"
   },
   {
    "duration": 4,
    "start_time": "2023-01-27T04:17:05.551Z"
   },
   {
    "duration": 582080,
    "start_time": "2023-01-27T04:17:11.318Z"
   },
   {
    "duration": 2,
    "start_time": "2023-01-27T04:27:10.792Z"
   },
   {
    "duration": 3,
    "start_time": "2023-01-27T04:27:17.136Z"
   },
   {
    "duration": 614707,
    "start_time": "2023-01-27T04:27:20.129Z"
   },
   {
    "duration": 4,
    "start_time": "2023-01-27T04:38:54.897Z"
   },
   {
    "duration": 599305,
    "start_time": "2023-01-27T04:38:57.218Z"
   },
   {
    "duration": 3,
    "start_time": "2023-01-27T04:49:12.004Z"
   },
   {
    "duration": 682373,
    "start_time": "2023-01-27T04:49:18.067Z"
   },
   {
    "duration": 3,
    "start_time": "2023-01-27T05:01:23.765Z"
   },
   {
    "duration": 1037955,
    "start_time": "2023-01-27T05:01:26.958Z"
   },
   {
    "duration": 3,
    "start_time": "2023-01-27T05:19:35.315Z"
   },
   {
    "duration": 818297,
    "start_time": "2023-01-27T05:19:43.828Z"
   },
   {
    "duration": 3,
    "start_time": "2023-01-27T05:35:05.476Z"
   },
   {
    "duration": 1166068,
    "start_time": "2023-01-27T05:35:11.029Z"
   },
   {
    "duration": 3,
    "start_time": "2023-01-27T05:58:16.958Z"
   },
   {
    "duration": 141498,
    "start_time": "2023-01-27T05:58:20.496Z"
   },
   {
    "duration": 4,
    "start_time": "2023-01-27T06:00:58.734Z"
   },
   {
    "duration": 19,
    "start_time": "2023-01-27T06:01:25.663Z"
   },
   {
    "duration": 51,
    "start_time": "2023-01-27T06:02:14.927Z"
   },
   {
    "duration": 51,
    "start_time": "2023-01-27T06:02:17.879Z"
   },
   {
    "duration": 18,
    "start_time": "2023-01-27T06:02:25.063Z"
   },
   {
    "duration": 45,
    "start_time": "2023-01-27T21:27:27.173Z"
   },
   {
    "duration": 1294,
    "start_time": "2023-01-27T21:27:32.114Z"
   },
   {
    "duration": 391,
    "start_time": "2023-01-27T21:27:33.410Z"
   },
   {
    "duration": 3550,
    "start_time": "2023-01-27T21:27:33.803Z"
   },
   {
    "duration": 37,
    "start_time": "2023-01-27T21:27:37.356Z"
   },
   {
    "duration": 46,
    "start_time": "2023-01-27T21:27:37.395Z"
   },
   {
    "duration": 25,
    "start_time": "2023-01-27T21:27:37.444Z"
   },
   {
    "duration": 51,
    "start_time": "2023-01-27T21:27:37.471Z"
   },
   {
    "duration": 264,
    "start_time": "2023-01-27T21:27:37.524Z"
   },
   {
    "duration": 4,
    "start_time": "2023-01-27T21:27:37.789Z"
   },
   {
    "duration": 104,
    "start_time": "2023-01-27T21:27:37.795Z"
   },
   {
    "duration": 0,
    "start_time": "2023-01-27T21:27:37.901Z"
   },
   {
    "duration": 5,
    "start_time": "2023-01-27T21:27:58.325Z"
   },
   {
    "duration": 3335,
    "start_time": "2023-01-27T21:28:06.453Z"
   },
   {
    "duration": 1936,
    "start_time": "2023-01-27T21:28:13.028Z"
   },
   {
    "duration": 7,
    "start_time": "2023-01-27T21:28:26.517Z"
   },
   {
    "duration": 103,
    "start_time": "2023-01-27T21:29:49.798Z"
   },
   {
    "duration": 4,
    "start_time": "2023-01-27T21:29:59.543Z"
   },
   {
    "duration": 2444,
    "start_time": "2023-01-27T21:30:47.358Z"
   },
   {
    "duration": 6,
    "start_time": "2023-01-27T21:31:31.334Z"
   },
   {
    "duration": 4,
    "start_time": "2023-01-27T21:31:38.278Z"
   },
   {
    "duration": 3,
    "start_time": "2023-01-27T21:31:44.471Z"
   },
   {
    "duration": 4,
    "start_time": "2023-01-27T21:31:49.467Z"
   },
   {
    "duration": 4,
    "start_time": "2023-01-27T21:32:11.967Z"
   },
   {
    "duration": 4,
    "start_time": "2023-01-27T21:32:25.574Z"
   },
   {
    "duration": 4,
    "start_time": "2023-01-27T21:32:47.474Z"
   },
   {
    "duration": 4,
    "start_time": "2023-01-27T21:32:50.518Z"
   },
   {
    "duration": 5,
    "start_time": "2023-01-27T21:32:53.350Z"
   },
   {
    "duration": 4,
    "start_time": "2023-01-27T21:32:58.258Z"
   },
   {
    "duration": 5,
    "start_time": "2023-01-27T21:33:03.455Z"
   },
   {
    "duration": 3,
    "start_time": "2023-01-27T21:33:09.899Z"
   },
   {
    "duration": 3,
    "start_time": "2023-01-27T21:34:15.528Z"
   },
   {
    "duration": 34121,
    "start_time": "2023-01-27T21:34:34.706Z"
   },
   {
    "duration": 412,
    "start_time": "2023-01-27T21:35:18.382Z"
   },
   {
    "duration": 2,
    "start_time": "2023-01-27T21:35:41.472Z"
   },
   {
    "duration": 30909,
    "start_time": "2023-01-27T21:35:43.783Z"
   },
   {
    "duration": 2,
    "start_time": "2023-01-27T21:37:22.247Z"
   },
   {
    "duration": 31967,
    "start_time": "2023-01-27T21:37:26.427Z"
   },
   {
    "duration": 3,
    "start_time": "2023-01-27T21:38:43.769Z"
   },
   {
    "duration": 30892,
    "start_time": "2023-01-27T21:38:45.937Z"
   },
   {
    "duration": 9,
    "start_time": "2023-01-27T21:39:28.720Z"
   },
   {
    "duration": 5,
    "start_time": "2023-01-27T21:40:11.144Z"
   },
   {
    "duration": 3,
    "start_time": "2023-01-27T21:40:27.677Z"
   },
   {
    "duration": 4,
    "start_time": "2023-01-27T21:40:29.280Z"
   },
   {
    "duration": 3,
    "start_time": "2023-01-27T21:40:38.239Z"
   },
   {
    "duration": 5,
    "start_time": "2023-01-27T21:40:41.376Z"
   },
   {
    "duration": 69,
    "start_time": "2023-01-27T21:40:52.282Z"
   },
   {
    "duration": 2,
    "start_time": "2023-01-27T21:40:55.481Z"
   },
   {
    "duration": 3,
    "start_time": "2023-01-27T21:40:56.977Z"
   },
   {
    "duration": 22,
    "start_time": "2023-01-27T21:41:54.240Z"
   },
   {
    "duration": 3,
    "start_time": "2023-01-27T21:42:00.824Z"
   },
   {
    "duration": 4,
    "start_time": "2023-01-27T21:42:02.898Z"
   },
   {
    "duration": 3,
    "start_time": "2023-01-27T21:42:09.715Z"
   },
   {
    "duration": 4,
    "start_time": "2023-01-27T21:42:12.808Z"
   },
   {
    "duration": 3,
    "start_time": "2023-01-27T21:42:31.401Z"
   },
   {
    "duration": 3,
    "start_time": "2023-01-27T21:42:38.633Z"
   },
   {
    "duration": 4,
    "start_time": "2023-01-27T21:42:55.385Z"
   },
   {
    "duration": 3,
    "start_time": "2023-01-27T21:42:59.745Z"
   },
   {
    "duration": 14,
    "start_time": "2023-01-27T21:43:08.552Z"
   },
   {
    "duration": 7,
    "start_time": "2023-01-27T21:43:10.471Z"
   },
   {
    "duration": 4,
    "start_time": "2023-01-27T21:43:36.188Z"
   },
   {
    "duration": 5,
    "start_time": "2023-01-27T21:43:38.177Z"
   },
   {
    "duration": 3,
    "start_time": "2023-01-27T21:43:40.650Z"
   },
   {
    "duration": 3,
    "start_time": "2023-01-27T21:43:42.385Z"
   },
   {
    "duration": 4,
    "start_time": "2023-01-27T21:43:44.001Z"
   },
   {
    "duration": 2,
    "start_time": "2023-01-27T21:44:15.513Z"
   },
   {
    "duration": 4,
    "start_time": "2023-01-27T21:44:17.434Z"
   },
   {
    "duration": 3,
    "start_time": "2023-01-27T21:44:30.371Z"
   },
   {
    "duration": 2,
    "start_time": "2023-01-27T21:44:32.169Z"
   },
   {
    "duration": 4,
    "start_time": "2023-01-27T21:44:33.833Z"
   },
   {
    "duration": 2,
    "start_time": "2023-01-27T21:44:42.025Z"
   },
   {
    "duration": 4,
    "start_time": "2023-01-27T21:44:43.593Z"
   },
   {
    "duration": 4,
    "start_time": "2023-01-27T21:44:45.393Z"
   },
   {
    "duration": 3,
    "start_time": "2023-01-27T21:45:23.185Z"
   },
   {
    "duration": 31186,
    "start_time": "2023-01-27T21:45:37.914Z"
   },
   {
    "duration": 5,
    "start_time": "2023-01-27T21:46:16.034Z"
   },
   {
    "duration": 11,
    "start_time": "2023-01-27T21:46:54.265Z"
   },
   {
    "duration": 3682,
    "start_time": "2023-01-27T21:46:56.771Z"
   },
   {
    "duration": 2232,
    "start_time": "2023-01-27T21:47:03.306Z"
   },
   {
    "duration": 3,
    "start_time": "2023-01-27T21:47:39.083Z"
   },
   {
    "duration": 3,
    "start_time": "2023-01-27T21:47:45.826Z"
   },
   {
    "duration": 3,
    "start_time": "2023-01-27T21:48:05.784Z"
   },
   {
    "duration": 3,
    "start_time": "2023-01-27T21:48:10.490Z"
   },
   {
    "duration": 10,
    "start_time": "2023-01-27T21:48:21.050Z"
   },
   {
    "duration": 4,
    "start_time": "2023-01-27T21:48:23.082Z"
   },
   {
    "duration": 3,
    "start_time": "2023-01-27T21:48:25.970Z"
   },
   {
    "duration": 31939,
    "start_time": "2023-01-27T21:48:28.381Z"
   },
   {
    "duration": 8,
    "start_time": "2023-01-27T21:52:06.569Z"
   },
   {
    "duration": 319,
    "start_time": "2023-01-27T21:52:31.531Z"
   },
   {
    "duration": 7,
    "start_time": "2023-01-27T21:52:33.187Z"
   },
   {
    "duration": 8,
    "start_time": "2023-01-27T21:52:46.748Z"
   },
   {
    "duration": 8503,
    "start_time": "2023-01-27T21:53:22.702Z"
   },
   {
    "duration": 3,
    "start_time": "2023-01-27T21:54:39.011Z"
   },
   {
    "duration": 177773,
    "start_time": "2023-01-27T21:54:42.787Z"
   },
   {
    "duration": 4,
    "start_time": "2023-01-27T21:58:28.518Z"
   },
   {
    "duration": 4,
    "start_time": "2023-01-27T21:58:43.221Z"
   },
   {
    "duration": 3,
    "start_time": "2023-01-27T21:59:14.437Z"
   },
   {
    "duration": 42059,
    "start_time": "2023-01-27T21:59:16.822Z"
   },
   {
    "duration": 4,
    "start_time": "2023-01-27T22:00:56.583Z"
   },
   {
    "duration": 6,
    "start_time": "2023-01-27T22:01:06.161Z"
   },
   {
    "duration": 3,
    "start_time": "2023-01-27T22:01:36.730Z"
   },
   {
    "duration": 1350,
    "start_time": "2023-01-27T22:04:50.165Z"
   },
   {
    "duration": 406,
    "start_time": "2023-01-27T22:04:51.517Z"
   },
   {
    "duration": 964,
    "start_time": "2023-01-27T22:04:51.925Z"
   },
   {
    "duration": 35,
    "start_time": "2023-01-27T22:04:52.891Z"
   },
   {
    "duration": 33,
    "start_time": "2023-01-27T22:04:52.927Z"
   },
   {
    "duration": 37,
    "start_time": "2023-01-27T22:04:52.962Z"
   },
   {
    "duration": 45,
    "start_time": "2023-01-27T22:04:53.001Z"
   },
   {
    "duration": 260,
    "start_time": "2023-01-27T22:04:53.048Z"
   },
   {
    "duration": 4,
    "start_time": "2023-01-27T22:04:53.310Z"
   },
   {
    "duration": 17,
    "start_time": "2023-01-27T22:04:53.317Z"
   },
   {
    "duration": 4432,
    "start_time": "2023-01-27T22:04:53.335Z"
   },
   {
    "duration": 2841,
    "start_time": "2023-01-27T22:04:57.770Z"
   },
   {
    "duration": 9,
    "start_time": "2023-01-27T22:05:00.612Z"
   },
   {
    "duration": 23,
    "start_time": "2023-01-27T22:05:00.624Z"
   },
   {
    "duration": 46,
    "start_time": "2023-01-27T22:05:00.649Z"
   },
   {
    "duration": 36475,
    "start_time": "2023-01-27T22:05:00.697Z"
   },
   {
    "duration": 362,
    "start_time": "2023-01-27T22:05:37.174Z"
   },
   {
    "duration": 16,
    "start_time": "2023-01-27T22:05:37.538Z"
   },
   {
    "duration": 8446,
    "start_time": "2023-01-27T22:05:37.569Z"
   },
   {
    "duration": 3,
    "start_time": "2023-01-27T22:05:46.017Z"
   },
   {
    "duration": 68,
    "start_time": "2023-01-27T22:05:46.022Z"
   },
   {
    "duration": 43,
    "start_time": "2023-01-27T22:05:46.092Z"
   },
   {
    "duration": 188868,
    "start_time": "2023-01-27T22:06:00.989Z"
   },
   {
    "duration": 4,
    "start_time": "2023-01-27T22:09:17.726Z"
   },
   {
    "duration": 3,
    "start_time": "2023-01-27T22:09:25.686Z"
   },
   {
    "duration": 215581,
    "start_time": "2023-01-27T22:09:29.286Z"
   },
   {
    "duration": 4,
    "start_time": "2023-01-27T22:13:15.216Z"
   },
   {
    "duration": 5,
    "start_time": "2023-01-27T22:13:18.871Z"
   },
   {
    "duration": 4,
    "start_time": "2023-01-27T22:13:29.352Z"
   },
   {
    "duration": 45078,
    "start_time": "2023-01-27T22:13:32.816Z"
   },
   {
    "duration": 4,
    "start_time": "2023-01-27T22:16:02.527Z"
   },
   {
    "duration": 5,
    "start_time": "2023-01-27T22:16:05.878Z"
   },
   {
    "duration": 18,
    "start_time": "2023-01-27T22:16:42.080Z"
   },
   {
    "duration": 81,
    "start_time": "2023-01-27T22:16:57.280Z"
   },
   {
    "duration": 4,
    "start_time": "2023-01-27T22:17:00.903Z"
   },
   {
    "duration": 22,
    "start_time": "2023-01-27T22:17:04.352Z"
   },
   {
    "duration": 3,
    "start_time": "2023-01-27T22:18:59.528Z"
   },
   {
    "duration": 176119,
    "start_time": "2023-01-27T22:19:02.336Z"
   },
   {
    "duration": 84,
    "start_time": "2023-01-27T22:21:58.459Z"
   },
   {
    "duration": 18,
    "start_time": "2023-01-27T22:22:18.889Z"
   },
   {
    "duration": 18,
    "start_time": "2023-01-27T22:22:47.824Z"
   },
   {
    "duration": 2,
    "start_time": "2023-01-27T22:23:03.450Z"
   },
   {
    "duration": 197690,
    "start_time": "2023-01-27T22:23:06.665Z"
   },
   {
    "duration": 96,
    "start_time": "2023-01-27T22:26:24.365Z"
   },
   {
    "duration": 3,
    "start_time": "2023-01-27T22:30:18.741Z"
   },
   {
    "duration": 1201137,
    "start_time": "2023-01-27T22:30:23.036Z"
   },
   {
    "duration": 4,
    "start_time": "2023-01-27T22:51:36.042Z"
   },
   {
    "duration": 4734065,
    "start_time": "2023-01-27T22:52:32.420Z"
   },
   {
    "duration": 3,
    "start_time": "2023-01-28T00:11:55.683Z"
   },
   {
    "duration": 7302959,
    "start_time": "2023-01-28T00:11:57.906Z"
   },
   {
    "duration": 3,
    "start_time": "2023-01-28T06:56:44.581Z"
   },
   {
    "duration": 3282309,
    "start_time": "2023-01-28T06:56:46.678Z"
   },
   {
    "duration": 3,
    "start_time": "2023-01-28T07:55:46.933Z"
   },
   {
    "duration": 126,
    "start_time": "2023-01-28T07:57:52.854Z"
   },
   {
    "duration": 38,
    "start_time": "2023-01-28T07:57:59.358Z"
   },
   {
    "duration": 13,
    "start_time": "2023-01-28T07:58:19.288Z"
   },
   {
    "duration": 95026,
    "start_time": "2023-01-28T07:58:44.928Z"
   },
   {
    "duration": 4,
    "start_time": "2023-01-28T08:00:22.246Z"
   },
   {
    "duration": 3,
    "start_time": "2023-01-28T08:00:43.935Z"
   },
   {
    "duration": 437161,
    "start_time": "2023-01-28T08:00:47.211Z"
   },
   {
    "duration": 5,
    "start_time": "2023-01-28T08:08:28.868Z"
   },
   {
    "duration": 13,
    "start_time": "2023-01-28T08:08:51.438Z"
   },
   {
    "duration": 18,
    "start_time": "2023-01-28T08:09:09.983Z"
   },
   {
    "duration": 20,
    "start_time": "2023-01-28T08:09:28.034Z"
   },
   {
    "duration": 32,
    "start_time": "2023-01-28T08:10:24.783Z"
   },
   {
    "duration": 25,
    "start_time": "2023-01-28T08:10:41.953Z"
   },
   {
    "duration": 8,
    "start_time": "2023-01-28T08:11:20.646Z"
   },
   {
    "duration": 74,
    "start_time": "2023-01-28T08:13:18.830Z"
   },
   {
    "duration": 72,
    "start_time": "2023-01-28T08:13:49.160Z"
   },
   {
    "duration": 4,
    "start_time": "2023-01-28T08:13:59.175Z"
   },
   {
    "duration": 72,
    "start_time": "2023-01-28T08:15:34.534Z"
   },
   {
    "duration": 3,
    "start_time": "2023-01-28T08:15:39.200Z"
   },
   {
    "duration": 30,
    "start_time": "2023-01-28T08:16:25.784Z"
   },
   {
    "duration": 5636,
    "start_time": "2023-01-28T08:16:34.970Z"
   },
   {
    "duration": 74,
    "start_time": "2023-01-28T08:17:14.730Z"
   },
   {
    "duration": 7,
    "start_time": "2023-01-28T08:17:23.456Z"
   },
   {
    "duration": 6090,
    "start_time": "2023-01-28T08:17:45.934Z"
   },
   {
    "duration": 13,
    "start_time": "2023-01-28T08:18:02.264Z"
   },
   {
    "duration": 15,
    "start_time": "2023-01-28T08:18:08.639Z"
   },
   {
    "duration": 6,
    "start_time": "2023-01-28T08:18:21.733Z"
   },
   {
    "duration": 86,
    "start_time": "2023-01-28T08:18:39.200Z"
   },
   {
    "duration": 10,
    "start_time": "2023-01-28T08:18:41.496Z"
   },
   {
    "duration": 4,
    "start_time": "2023-01-28T08:18:45.583Z"
   },
   {
    "duration": 7456,
    "start_time": "2023-01-28T08:19:02.169Z"
   },
   {
    "duration": 13,
    "start_time": "2023-01-28T08:19:52.448Z"
   },
   {
    "duration": 30,
    "start_time": "2023-01-28T08:20:04.241Z"
   },
   {
    "duration": 93,
    "start_time": "2023-01-28T08:20:26.177Z"
   },
   {
    "duration": 4,
    "start_time": "2023-01-28T08:20:28.759Z"
   },
   {
    "duration": 6,
    "start_time": "2023-01-28T08:20:40.897Z"
   },
   {
    "duration": 11,
    "start_time": "2023-01-28T08:21:00.946Z"
   },
   {
    "duration": 39,
    "start_time": "2023-01-28T08:21:29.470Z"
   },
   {
    "duration": 43,
    "start_time": "2023-01-28T08:22:15.137Z"
   },
   {
    "duration": 32,
    "start_time": "2023-01-28T08:22:26.177Z"
   },
   {
    "duration": 34,
    "start_time": "2023-01-28T08:23:23.345Z"
   },
   {
    "duration": 3,
    "start_time": "2023-01-28T08:23:28.870Z"
   },
   {
    "duration": 10,
    "start_time": "2023-01-28T08:24:27.882Z"
   },
   {
    "duration": 5,
    "start_time": "2023-01-28T08:24:39.393Z"
   },
   {
    "duration": 85,
    "start_time": "2023-01-28T08:24:48.041Z"
   },
   {
    "duration": 25,
    "start_time": "2023-01-28T08:24:51.881Z"
   },
   {
    "duration": 9,
    "start_time": "2023-01-28T08:24:53.801Z"
   },
   {
    "duration": 5,
    "start_time": "2023-01-28T08:24:55.480Z"
   },
   {
    "duration": 98,
    "start_time": "2023-01-28T08:24:59.497Z"
   },
   {
    "duration": 25,
    "start_time": "2023-01-28T08:25:01.097Z"
   },
   {
    "duration": 8,
    "start_time": "2023-01-28T08:25:02.545Z"
   },
   {
    "duration": 5,
    "start_time": "2023-01-28T08:25:04.697Z"
   },
   {
    "duration": 90,
    "start_time": "2023-01-28T08:25:18.741Z"
   },
   {
    "duration": 24,
    "start_time": "2023-01-28T08:25:22.169Z"
   },
   {
    "duration": 8,
    "start_time": "2023-01-28T08:25:23.993Z"
   },
   {
    "duration": 4,
    "start_time": "2023-01-28T08:25:25.767Z"
   },
   {
    "duration": 86,
    "start_time": "2023-01-28T08:25:30.266Z"
   },
   {
    "duration": 22,
    "start_time": "2023-01-28T08:25:33.881Z"
   },
   {
    "duration": 8,
    "start_time": "2023-01-28T08:25:36.239Z"
   },
   {
    "duration": 6,
    "start_time": "2023-01-28T08:25:37.952Z"
   },
   {
    "duration": 89,
    "start_time": "2023-01-28T08:25:42.905Z"
   },
   {
    "duration": 24,
    "start_time": "2023-01-28T08:25:44.473Z"
   },
   {
    "duration": 9,
    "start_time": "2023-01-28T08:25:46.049Z"
   },
   {
    "duration": 5,
    "start_time": "2023-01-28T08:25:47.777Z"
   },
   {
    "duration": 102,
    "start_time": "2023-01-28T08:26:05.281Z"
   },
   {
    "duration": 28,
    "start_time": "2023-01-28T08:26:07.318Z"
   },
   {
    "duration": 10,
    "start_time": "2023-01-28T08:26:10.434Z"
   },
   {
    "duration": 8,
    "start_time": "2023-01-28T08:26:11.953Z"
   },
   {
    "duration": 8,
    "start_time": "2023-01-28T08:26:54.038Z"
   },
   {
    "duration": 1075,
    "start_time": "2023-01-28T08:27:31.897Z"
   },
   {
    "duration": 14,
    "start_time": "2023-01-28T08:27:37.967Z"
   },
   {
    "duration": 4,
    "start_time": "2023-01-28T08:28:02.578Z"
   },
   {
    "duration": 1307,
    "start_time": "2023-01-28T08:28:10.770Z"
   },
   {
    "duration": 30,
    "start_time": "2023-01-28T08:28:35.763Z"
   },
   {
    "duration": 37265,
    "start_time": "2023-01-28T08:28:54.193Z"
   },
   {
    "duration": 3,
    "start_time": "2023-01-28T08:29:50.633Z"
   },
   {
    "duration": 15,
    "start_time": "2023-01-28T08:29:58.562Z"
   },
   {
    "duration": 14,
    "start_time": "2023-01-28T08:30:22.474Z"
   },
   {
    "duration": 12,
    "start_time": "2023-01-28T08:30:45.202Z"
   },
   {
    "duration": 251427,
    "start_time": "2023-01-28T08:31:42.730Z"
   },
   {
    "duration": 3,
    "start_time": "2023-01-28T08:36:00.635Z"
   },
   {
    "duration": 14,
    "start_time": "2023-01-28T08:36:03.099Z"
   },
   {
    "duration": 198,
    "start_time": "2023-01-28T08:36:14.475Z"
   },
   {
    "duration": 3,
    "start_time": "2023-01-28T08:36:49.851Z"
   },
   {
    "duration": 4,
    "start_time": "2023-01-28T08:38:22.139Z"
   },
   {
    "duration": 32093,
    "start_time": "2023-01-28T08:38:37.779Z"
   },
   {
    "duration": 4,
    "start_time": "2023-01-28T08:39:12.128Z"
   },
   {
    "duration": 172,
    "start_time": "2023-01-28T08:39:15.891Z"
   },
   {
    "duration": 8,
    "start_time": "2023-01-28T08:39:35.259Z"
   },
   {
    "duration": 5,
    "start_time": "2023-01-28T08:39:49.139Z"
   },
   {
    "duration": 19513,
    "start_time": "2023-01-28T08:40:03.861Z"
   },
   {
    "duration": 4,
    "start_time": "2023-01-28T08:40:27.805Z"
   },
   {
    "duration": 84,
    "start_time": "2023-01-28T08:40:31.675Z"
   },
   {
    "duration": 3,
    "start_time": "2023-01-28T08:40:42.195Z"
   },
   {
    "duration": 3,
    "start_time": "2023-01-28T08:40:57.252Z"
   },
   {
    "duration": 4,
    "start_time": "2023-01-28T08:41:09.154Z"
   },
   {
    "duration": 4,
    "start_time": "2023-01-28T08:41:13.355Z"
   },
   {
    "duration": 57384,
    "start_time": "2023-01-28T08:41:25.971Z"
   },
   {
    "duration": 4,
    "start_time": "2023-01-28T08:42:24.947Z"
   },
   {
    "duration": 16,
    "start_time": "2023-01-28T08:42:38.940Z"
   },
   {
    "duration": 15735,
    "start_time": "2023-01-28T08:42:45.345Z"
   },
   {
    "duration": 3,
    "start_time": "2023-01-28T08:43:04.021Z"
   },
   {
    "duration": 31,
    "start_time": "2023-01-28T08:43:06.732Z"
   },
   {
    "duration": 4,
    "start_time": "2023-01-28T08:43:09.987Z"
   },
   {
    "duration": 105,
    "start_time": "2023-01-28T08:43:11.763Z"
   },
   {
    "duration": 3,
    "start_time": "2023-01-28T08:43:46.692Z"
   },
   {
    "duration": 5,
    "start_time": "2023-01-28T08:43:49.387Z"
   },
   {
    "duration": 142597,
    "start_time": "2023-01-28T08:43:52.380Z"
   },
   {
    "duration": 74,
    "start_time": "2023-01-28T08:47:15.484Z"
   },
   {
    "duration": 1283,
    "start_time": "2023-01-28T08:49:35.463Z"
   },
   {
    "duration": 561,
    "start_time": "2023-01-28T08:49:36.748Z"
   },
   {
    "duration": 1238,
    "start_time": "2023-01-28T08:49:37.312Z"
   },
   {
    "duration": 43,
    "start_time": "2023-01-28T08:49:38.552Z"
   },
   {
    "duration": 12,
    "start_time": "2023-01-28T08:49:38.597Z"
   },
   {
    "duration": 13,
    "start_time": "2023-01-28T08:49:38.611Z"
   },
   {
    "duration": 43,
    "start_time": "2023-01-28T08:49:38.626Z"
   },
   {
    "duration": 249,
    "start_time": "2023-01-28T08:49:38.671Z"
   },
   {
    "duration": 4,
    "start_time": "2023-01-28T08:49:38.922Z"
   },
   {
    "duration": 11,
    "start_time": "2023-01-28T08:49:38.927Z"
   },
   {
    "duration": 3533,
    "start_time": "2023-01-28T08:49:38.939Z"
   },
   {
    "duration": 2040,
    "start_time": "2023-01-28T08:49:42.474Z"
   },
   {
    "duration": 8,
    "start_time": "2023-01-28T08:49:44.516Z"
   },
   {
    "duration": 27,
    "start_time": "2023-01-28T08:49:44.526Z"
   },
   {
    "duration": 27,
    "start_time": "2023-01-28T08:49:44.556Z"
   },
   {
    "duration": 33830,
    "start_time": "2023-01-28T08:49:44.584Z"
   },
   {
    "duration": 344,
    "start_time": "2023-01-28T08:50:18.415Z"
   },
   {
    "duration": 9,
    "start_time": "2023-01-28T08:50:18.764Z"
   },
   {
    "duration": 7354,
    "start_time": "2023-01-28T08:50:18.775Z"
   },
   {
    "duration": 3,
    "start_time": "2023-01-28T08:50:56.331Z"
   },
   {
    "duration": 4,
    "start_time": "2023-01-28T08:50:59.981Z"
   },
   {
    "duration": 924807,
    "start_time": "2023-01-28T08:51:19.947Z"
   },
   {
    "duration": 20,
    "start_time": "2023-01-28T09:07:36.767Z"
   },
   {
    "duration": 5,
    "start_time": "2023-01-28T09:08:03.264Z"
   },
   {
    "duration": 4,
    "start_time": "2023-01-28T09:09:35.183Z"
   },
   {
    "duration": 3,
    "start_time": "2023-01-28T09:09:58.480Z"
   },
   {
    "duration": 2,
    "start_time": "2023-01-28T09:10:02.234Z"
   },
   {
    "duration": 520,
    "start_time": "2023-01-28T09:10:05.257Z"
   },
   {
    "duration": 4,
    "start_time": "2023-01-28T09:10:30.432Z"
   },
   {
    "duration": 6,
    "start_time": "2023-01-28T09:10:32.532Z"
   },
   {
    "duration": 5,
    "start_time": "2023-01-28T09:10:54.145Z"
   },
   {
    "duration": 4,
    "start_time": "2023-01-28T09:10:56.768Z"
   },
   {
    "duration": 98499,
    "start_time": "2023-01-28T09:10:59.160Z"
   },
   {
    "duration": 3,
    "start_time": "2023-01-28T09:12:41.757Z"
   },
   {
    "duration": 4,
    "start_time": "2023-01-28T09:12:43.432Z"
   },
   {
    "duration": 1262,
    "start_time": "2023-01-28T09:22:58.620Z"
   },
   {
    "duration": 391,
    "start_time": "2023-01-28T09:22:59.884Z"
   },
   {
    "duration": 933,
    "start_time": "2023-01-28T09:23:00.276Z"
   },
   {
    "duration": 42,
    "start_time": "2023-01-28T09:23:01.211Z"
   },
   {
    "duration": 13,
    "start_time": "2023-01-28T09:23:01.255Z"
   },
   {
    "duration": 27,
    "start_time": "2023-01-28T09:23:01.270Z"
   },
   {
    "duration": 44,
    "start_time": "2023-01-28T09:23:01.299Z"
   },
   {
    "duration": 247,
    "start_time": "2023-01-28T09:23:01.346Z"
   },
   {
    "duration": 4,
    "start_time": "2023-01-28T09:23:01.594Z"
   },
   {
    "duration": 44,
    "start_time": "2023-01-28T09:23:01.601Z"
   },
   {
    "duration": 3224,
    "start_time": "2023-01-28T09:23:01.647Z"
   },
   {
    "duration": 1981,
    "start_time": "2023-01-28T09:23:04.873Z"
   },
   {
    "duration": 9,
    "start_time": "2023-01-28T09:23:06.856Z"
   },
   {
    "duration": 6,
    "start_time": "2023-01-28T09:23:06.866Z"
   },
   {
    "duration": 13,
    "start_time": "2023-01-28T09:23:06.873Z"
   },
   {
    "duration": 33686,
    "start_time": "2023-01-28T09:23:06.888Z"
   },
   {
    "duration": 305,
    "start_time": "2023-01-28T09:23:40.576Z"
   },
   {
    "duration": 7,
    "start_time": "2023-01-28T09:23:40.882Z"
   },
   {
    "duration": 8941,
    "start_time": "2023-01-28T09:23:40.891Z"
   },
   {
    "duration": 3,
    "start_time": "2023-01-28T09:23:49.836Z"
   },
   {
    "duration": 3,
    "start_time": "2023-01-28T09:23:54.658Z"
   },
   {
    "duration": 4,
    "start_time": "2023-01-28T09:23:59.337Z"
   },
   {
    "duration": 8038557,
    "start_time": "2023-01-28T09:24:01.274Z"
   },
   {
    "duration": 358185,
    "start_time": "2023-01-28T11:41:29.465Z"
   },
   {
    "duration": 3,
    "start_time": "2023-01-28T11:52:49.634Z"
   },
   {
    "duration": 128,
    "start_time": "2023-01-28T11:52:52.139Z"
   },
   {
    "duration": 5,
    "start_time": "2023-01-28T11:52:58.959Z"
   },
   {
    "duration": 3,
    "start_time": "2023-01-28T11:53:03.868Z"
   },
   {
    "duration": 2,
    "start_time": "2023-01-28T11:53:05.475Z"
   },
   {
    "duration": 5160,
    "start_time": "2023-01-28T11:53:07.346Z"
   },
   {
    "duration": 18,
    "start_time": "2023-01-28T11:53:40.167Z"
   },
   {
    "duration": 11,
    "start_time": "2023-01-28T12:01:23.732Z"
   },
   {
    "duration": 8,
    "start_time": "2023-01-28T12:01:28.252Z"
   },
   {
    "duration": 102,
    "start_time": "2023-01-28T12:07:47.518Z"
   },
   {
    "duration": 3,
    "start_time": "2023-01-28T12:08:46.306Z"
   },
   {
    "duration": 3,
    "start_time": "2023-01-28T12:09:15.542Z"
   },
   {
    "duration": 4,
    "start_time": "2023-01-28T12:12:49.652Z"
   },
   {
    "duration": 4,
    "start_time": "2023-01-28T12:13:05.347Z"
   },
   {
    "duration": 4,
    "start_time": "2023-01-28T12:13:57.976Z"
   },
   {
    "duration": 3,
    "start_time": "2023-01-28T12:14:02.417Z"
   },
   {
    "duration": 72,
    "start_time": "2023-01-28T12:14:27.410Z"
   },
   {
    "duration": 4,
    "start_time": "2023-01-28T12:16:37.410Z"
   },
   {
    "duration": 3,
    "start_time": "2023-01-28T12:16:39.498Z"
   },
   {
    "duration": 15,
    "start_time": "2023-01-28T12:16:40.985Z"
   },
   {
    "duration": 3,
    "start_time": "2023-01-28T12:17:10.522Z"
   },
   {
    "duration": 3,
    "start_time": "2023-01-28T12:17:12.166Z"
   },
   {
    "duration": 3,
    "start_time": "2023-01-28T12:17:13.514Z"
   },
   {
    "duration": 24214,
    "start_time": "2023-01-28T12:17:15.970Z"
   },
   {
    "duration": 5,
    "start_time": "2023-01-28T12:18:04.291Z"
   },
   {
    "duration": 1984,
    "start_time": "2023-01-28T12:18:45.195Z"
   },
   {
    "duration": 19,
    "start_time": "2023-01-28T12:20:11.307Z"
   },
   {
    "duration": 78,
    "start_time": "2023-01-28T12:31:32.893Z"
   }
  ],
  "kernelspec": {
   "display_name": "Python 3 (ipykernel)",
   "language": "python",
   "name": "python3"
  },
  "language_info": {
   "codemirror_mode": {
    "name": "ipython",
    "version": 3
   },
   "file_extension": ".py",
   "mimetype": "text/x-python",
   "name": "python",
   "nbconvert_exporter": "python",
   "pygments_lexer": "ipython3",
   "version": "3.9.5"
  },
  "toc": {
   "base_numbering": 1,
   "nav_menu": {},
   "number_sections": true,
   "sideBar": true,
   "skip_h1_title": true,
   "title_cell": "Содержание",
   "title_sidebar": "Contents",
   "toc_cell": true,
   "toc_position": {
    "height": "calc(100% - 180px)",
    "left": "10px",
    "top": "150px",
    "width": "302.391px"
   },
   "toc_section_display": true,
   "toc_window_display": false
  }
 },
 "nbformat": 4,
 "nbformat_minor": 2
}
