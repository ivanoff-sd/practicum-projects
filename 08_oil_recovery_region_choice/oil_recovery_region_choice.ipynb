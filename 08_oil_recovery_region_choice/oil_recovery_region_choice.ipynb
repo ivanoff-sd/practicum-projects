{
 "cells": [
  {
   "cell_type": "markdown",
   "metadata": {},
   "source": [
    "Привет, меня зовут Артем Хуршудов. Сегодня я проверю твой проект.\n",
    "<br> Дальнейшее общение будет происходить на \"ты\" если это не вызывает никаких проблем.\n",
    "<br> Желательно реагировать на каждый мой комментарий ('исправил', 'не понятно как исправить ошибку', ...)\n",
    "<br> Пожалуйста, не удаляй комментарии ревьюера, так как они повышают качество повторного ревью.\n",
    "\n",
    "Комментарии будут в <font color='green'>зеленой</font>, <font color='blue'>синей</font> или <font color='red'>красной</font> рамках:\n",
    "\n",
    "<div class=\"alert alert-block alert-success\">\n",
    "<b>Успех:</b> Если все сделано отлично\n",
    "</div>\n",
    "\n",
    "<div class=\"alert alert-block alert-info\">\n",
    "<b>Совет: </b> Если можно немного улучшить\n",
    "</div>\n",
    "\n",
    "<div class=\"alert alert-block alert-danger\">\n",
    "<b>Ошибка:</b> Если требуются исправления. Работа не может быть принята с красными комментариями.\n",
    "</div>\n",
    "\n",
    "-------------------\n",
    "\n",
    "Будет очень хорошо, если ты будешь помечать свои действия следующим образом:\n",
    "<div class=\"alert alert-block alert-warning\">\n",
    "<b>Комментарий студента:</b> ...\n",
    "</div>\n",
    "\n",
    "<div class=\"alert alert-block alert-warning\">\n",
    "<b>Изменения:</b> Были внесены следующие изменения ...\n",
    "</div>\n",
    "\n",
    "### <font color='orange'>Общее впечатление</font>\n",
    "* Большое спасибо за проделанную работу. Видно, что приложено много усилий.\n",
    "* Выводы и рассуждения получились содержательными, их было интересно читать.\n",
    "* Радует, что тебе удалось разобраться с техникой бутстрапа.\n",
    "* Отлично, что риск убытков посчитан верно.\n",
    "* Над этим проектом нужно будет еще немного поработать. Однако, изменения не должны занять много времени.\n",
    "* С радостью отвечу на твои вопросы, если они есть. Лучше всего их собрать в следующей ячейке. Жду новую версию проекта.\n",
    "\n",
    "\n",
    "<div class=\"alert alert-block alert-warning\">\n",
    "<b>Комментарий студента:</b> Добрый день, Артём. Спасибо за разбор проекта! Вопросов после того как исправил уже не осталось)\n",
    "</div>"
   ]
  },
  {
   "cell_type": "markdown",
   "metadata": {},
   "source": [
    "### <font color='orange'>Общее впечатление (ревью 2)</font>\n",
    "* После исправлений проект улучшился и теперь он может быть зачтен.\n",
    "* Для удобства все новые комментарии обозначены фразой \"ревью 2\".\n",
    "* Удачи в дальнейшем обучении и следующих работах!"
   ]
  },
  {
   "cell_type": "markdown",
   "metadata": {},
   "source": [
    "\n",
    "# Выбор локации для скважины\n",
    "\n",
    "\n",
    "## Описание проекта\n",
    "\n",
    "### Цель и задачи работы\n",
    "\n",
    "Цель исследования: построить модель для определения региона с наибольшей потенциальной прибылью от добычи нефти.\n",
    "\n",
    "Задачи исследования:\n",
    "- проанализировать данные о залежах нефти в 3х регионах;\n",
    "- обучить модель LinearRegression(), оценить RMSE, средний предсказанный объём сырья;\n",
    "- рассчитать стоимость разработки скважины, минимальный объём сырья для окупаемости;\n",
    "- разработать функцию для подсчёта прибыли на основании предсказаний модели;\n",
    "- оценить потенциальную прибыль и риск убытков в каждом регионе методом bootstrap;\n",
    "- установить наиболее выгодный регион для нефтедобычи.\n",
    "\n",
    "\n",
    "### Описание данных\n",
    "\n",
    "Исследование будет проведено на синтетических данных, полученных из открытых источников. Предоставлены следующие признаки:\n",
    "\n",
    "- id — уникальный идентификатор скважины;\n",
    "- f0, f1, f2 — три признака точек (неважно, что они означают, но сами признаки значимы);\n",
    "- product — объём запасов в скважине (тыс. баррелей).\n",
    "\n",
    "### Условия задачи:\n",
    "- Для обучения модели подходит только линейная регрессия (остальные — недостаточно предсказуемые).\n",
    "- При разведке региона исследуют 500 точек, из которых с помощью машинного обучения выбирают 200 лучших для разработки.\n",
    "- Бюджет на разработку скважин в регионе — 10 млрд рублей.\n",
    "- При нынешних ценах один баррель сырья приносит 450 рублей дохода. Доход с каждой единицы продукта составляет 450 тыс. рублей, поскольку объём указан в тысячах баррелей.\n",
    "- После оценки рисков нужно оставить лишь те регионы, в которых вероятность убытков меньше 2.5%. Среди них выбирают регион с наибольшей средней прибылью.\n"
   ]
  },
  {
   "cell_type": "markdown",
   "metadata": {},
   "source": [
    "## Загрузка и подготовка данных\n",
    "Планируется оценить характеристики датафрейма, распределение значений, наличие дубликатов и пропусков в данных по каждому региону. "
   ]
  },
  {
   "cell_type": "code",
   "execution_count": 18,
   "metadata": {},
   "outputs": [],
   "source": [
    "# импорт библиотек\n",
    "import pandas as pd\n",
    "import matplotlib.pyplot as plt\n",
    "from sklearn.model_selection import train_test_split\n",
    "from sklearn.preprocessing import StandardScaler\n",
    "from sklearn.linear_model import LinearRegression\n",
    "from sklearn.metrics import mean_squared_error\n",
    "import numpy as np\n",
    "\n"
   ]
  },
  {
   "cell_type": "markdown",
   "metadata": {},
   "source": [
    "<div class=\"alert alert-block alert-success\">\n",
    "<b>Успех:</b> Отлично, что все импорты собраны в первой ячейке ноутбука! Если у того, кто будет запускать твой ноутбук будут отсутствовать некоторые библиотеки, то он это увидит сразу, а не в процессе!\n",
    "</div>"
   ]
  },
  {
   "cell_type": "code",
   "execution_count": 19,
   "metadata": {},
   "outputs": [],
   "source": [
    "# чтение данных\n",
    "data_0 = pd.read_csv('/datasets/geo_data_0.csv')\n",
    "data_1 = pd.read_csv('/datasets/geo_data_1.csv')\n",
    "data_2 = pd.read_csv('/datasets/geo_data_2.csv')\n",
    "\n",
    "# функция для исследования датасетов\n",
    "\n",
    "def data_summary(df):\n",
    "    print(f'Информация по датасету:')\n",
    "    df.info()\n",
    "    \n",
    "    print('\\n\\n\\nПервые 5 строк')\n",
    "    display(df.head())\n",
    "    print('\\n\\n\\nСтатистики')\n",
    "    display(df.describe())\n",
    "    print('\\n\\n\\nГистограммы')\n",
    "    df.hist(figsize=[15,7], bins=50)\n",
    "    plt.show()\n",
    "    print('\\n\\n\\nКоличество пропусков в данных')\n",
    "    print(df.isna().sum().sum())\n",
    "    print('\\n\\n\\nКоличество дубликатов в данных')\n",
    "    print(df.duplicated().sum())"
   ]
  },
  {
   "cell_type": "markdown",
   "metadata": {},
   "source": [
    "### Информация о датасетах\n",
    "#### Регион 0"
   ]
  },
  {
   "cell_type": "code",
   "execution_count": 20,
   "metadata": {
    "scrolled": true
   },
   "outputs": [
    {
     "name": "stdout",
     "output_type": "stream",
     "text": [
      "Информация по датасету:\n",
      "<class 'pandas.core.frame.DataFrame'>\n",
      "RangeIndex: 100000 entries, 0 to 99999\n",
      "Data columns (total 5 columns):\n",
      " #   Column   Non-Null Count   Dtype  \n",
      "---  ------   --------------   -----  \n",
      " 0   id       100000 non-null  object \n",
      " 1   f0       100000 non-null  float64\n",
      " 2   f1       100000 non-null  float64\n",
      " 3   f2       100000 non-null  float64\n",
      " 4   product  100000 non-null  float64\n",
      "dtypes: float64(4), object(1)\n",
      "memory usage: 3.8+ MB\n",
      "\n",
      "\n",
      "\n",
      "Первые 5 строк\n"
     ]
    },
    {
     "data": {
      "text/html": [
       "<div>\n",
       "<style scoped>\n",
       "    .dataframe tbody tr th:only-of-type {\n",
       "        vertical-align: middle;\n",
       "    }\n",
       "\n",
       "    .dataframe tbody tr th {\n",
       "        vertical-align: top;\n",
       "    }\n",
       "\n",
       "    .dataframe thead th {\n",
       "        text-align: right;\n",
       "    }\n",
       "</style>\n",
       "<table border=\"1\" class=\"dataframe\">\n",
       "  <thead>\n",
       "    <tr style=\"text-align: right;\">\n",
       "      <th></th>\n",
       "      <th>id</th>\n",
       "      <th>f0</th>\n",
       "      <th>f1</th>\n",
       "      <th>f2</th>\n",
       "      <th>product</th>\n",
       "    </tr>\n",
       "  </thead>\n",
       "  <tbody>\n",
       "    <tr>\n",
       "      <th>0</th>\n",
       "      <td>txEyH</td>\n",
       "      <td>0.705745</td>\n",
       "      <td>-0.497823</td>\n",
       "      <td>1.221170</td>\n",
       "      <td>105.280062</td>\n",
       "    </tr>\n",
       "    <tr>\n",
       "      <th>1</th>\n",
       "      <td>2acmU</td>\n",
       "      <td>1.334711</td>\n",
       "      <td>-0.340164</td>\n",
       "      <td>4.365080</td>\n",
       "      <td>73.037750</td>\n",
       "    </tr>\n",
       "    <tr>\n",
       "      <th>2</th>\n",
       "      <td>409Wp</td>\n",
       "      <td>1.022732</td>\n",
       "      <td>0.151990</td>\n",
       "      <td>1.419926</td>\n",
       "      <td>85.265647</td>\n",
       "    </tr>\n",
       "    <tr>\n",
       "      <th>3</th>\n",
       "      <td>iJLyR</td>\n",
       "      <td>-0.032172</td>\n",
       "      <td>0.139033</td>\n",
       "      <td>2.978566</td>\n",
       "      <td>168.620776</td>\n",
       "    </tr>\n",
       "    <tr>\n",
       "      <th>4</th>\n",
       "      <td>Xdl7t</td>\n",
       "      <td>1.988431</td>\n",
       "      <td>0.155413</td>\n",
       "      <td>4.751769</td>\n",
       "      <td>154.036647</td>\n",
       "    </tr>\n",
       "  </tbody>\n",
       "</table>\n",
       "</div>"
      ],
      "text/plain": [
       "      id        f0        f1        f2     product\n",
       "0  txEyH  0.705745 -0.497823  1.221170  105.280062\n",
       "1  2acmU  1.334711 -0.340164  4.365080   73.037750\n",
       "2  409Wp  1.022732  0.151990  1.419926   85.265647\n",
       "3  iJLyR -0.032172  0.139033  2.978566  168.620776\n",
       "4  Xdl7t  1.988431  0.155413  4.751769  154.036647"
      ]
     },
     "metadata": {},
     "output_type": "display_data"
    },
    {
     "name": "stdout",
     "output_type": "stream",
     "text": [
      "\n",
      "\n",
      "\n",
      "Статистики\n"
     ]
    },
    {
     "data": {
      "text/html": [
       "<div>\n",
       "<style scoped>\n",
       "    .dataframe tbody tr th:only-of-type {\n",
       "        vertical-align: middle;\n",
       "    }\n",
       "\n",
       "    .dataframe tbody tr th {\n",
       "        vertical-align: top;\n",
       "    }\n",
       "\n",
       "    .dataframe thead th {\n",
       "        text-align: right;\n",
       "    }\n",
       "</style>\n",
       "<table border=\"1\" class=\"dataframe\">\n",
       "  <thead>\n",
       "    <tr style=\"text-align: right;\">\n",
       "      <th></th>\n",
       "      <th>f0</th>\n",
       "      <th>f1</th>\n",
       "      <th>f2</th>\n",
       "      <th>product</th>\n",
       "    </tr>\n",
       "  </thead>\n",
       "  <tbody>\n",
       "    <tr>\n",
       "      <th>count</th>\n",
       "      <td>100000.000000</td>\n",
       "      <td>100000.000000</td>\n",
       "      <td>100000.000000</td>\n",
       "      <td>100000.000000</td>\n",
       "    </tr>\n",
       "    <tr>\n",
       "      <th>mean</th>\n",
       "      <td>0.500419</td>\n",
       "      <td>0.250143</td>\n",
       "      <td>2.502647</td>\n",
       "      <td>92.500000</td>\n",
       "    </tr>\n",
       "    <tr>\n",
       "      <th>std</th>\n",
       "      <td>0.871832</td>\n",
       "      <td>0.504433</td>\n",
       "      <td>3.248248</td>\n",
       "      <td>44.288691</td>\n",
       "    </tr>\n",
       "    <tr>\n",
       "      <th>min</th>\n",
       "      <td>-1.408605</td>\n",
       "      <td>-0.848218</td>\n",
       "      <td>-12.088328</td>\n",
       "      <td>0.000000</td>\n",
       "    </tr>\n",
       "    <tr>\n",
       "      <th>25%</th>\n",
       "      <td>-0.072580</td>\n",
       "      <td>-0.200881</td>\n",
       "      <td>0.287748</td>\n",
       "      <td>56.497507</td>\n",
       "    </tr>\n",
       "    <tr>\n",
       "      <th>50%</th>\n",
       "      <td>0.502360</td>\n",
       "      <td>0.250252</td>\n",
       "      <td>2.515969</td>\n",
       "      <td>91.849972</td>\n",
       "    </tr>\n",
       "    <tr>\n",
       "      <th>75%</th>\n",
       "      <td>1.073581</td>\n",
       "      <td>0.700646</td>\n",
       "      <td>4.715088</td>\n",
       "      <td>128.564089</td>\n",
       "    </tr>\n",
       "    <tr>\n",
       "      <th>max</th>\n",
       "      <td>2.362331</td>\n",
       "      <td>1.343769</td>\n",
       "      <td>16.003790</td>\n",
       "      <td>185.364347</td>\n",
       "    </tr>\n",
       "  </tbody>\n",
       "</table>\n",
       "</div>"
      ],
      "text/plain": [
       "                  f0             f1             f2        product\n",
       "count  100000.000000  100000.000000  100000.000000  100000.000000\n",
       "mean        0.500419       0.250143       2.502647      92.500000\n",
       "std         0.871832       0.504433       3.248248      44.288691\n",
       "min        -1.408605      -0.848218     -12.088328       0.000000\n",
       "25%        -0.072580      -0.200881       0.287748      56.497507\n",
       "50%         0.502360       0.250252       2.515969      91.849972\n",
       "75%         1.073581       0.700646       4.715088     128.564089\n",
       "max         2.362331       1.343769      16.003790     185.364347"
      ]
     },
     "metadata": {},
     "output_type": "display_data"
    },
    {
     "name": "stdout",
     "output_type": "stream",
     "text": [
      "\n",
      "\n",
      "\n",
      "Гистограммы\n"
     ]
    },
    {
     "data": {
      "image/png": "[encoded data removed]",
      "text/plain": [
       "<Figure size 1080x504 with 4 Axes>"
      ]
     },
     "metadata": {
      "needs_background": "light"
     },
     "output_type": "display_data"
    },
    {
     "name": "stdout",
     "output_type": "stream",
     "text": [
      "\n",
      "\n",
      "\n",
      "Количество пропусков в данных\n",
      "0\n",
      "\n",
      "\n",
      "\n",
      "Количество дубликатов в данных\n",
      "0\n"
     ]
    }
   ],
   "source": [
    "\n",
    "data_summary(data_0)"
   ]
  },
  {
   "cell_type": "markdown",
   "metadata": {},
   "source": [
    "#### Регион 1"
   ]
  },
  {
   "cell_type": "code",
   "execution_count": 21,
   "metadata": {},
   "outputs": [
    {
     "name": "stdout",
     "output_type": "stream",
     "text": [
      "Информация по датасету:\n",
      "<class 'pandas.core.frame.DataFrame'>\n",
      "RangeIndex: 100000 entries, 0 to 99999\n",
      "Data columns (total 5 columns):\n",
      " #   Column   Non-Null Count   Dtype  \n",
      "---  ------   --------------   -----  \n",
      " 0   id       100000 non-null  object \n",
      " 1   f0       100000 non-null  float64\n",
      " 2   f1       100000 non-null  float64\n",
      " 3   f2       100000 non-null  float64\n",
      " 4   product  100000 non-null  float64\n",
      "dtypes: float64(4), object(1)\n",
      "memory usage: 3.8+ MB\n",
      "\n",
      "\n",
      "\n",
      "Первые 5 строк\n"
     ]
    },
    {
     "data": {
      "text/html": [
       "<div>\n",
       "<style scoped>\n",
       "    .dataframe tbody tr th:only-of-type {\n",
       "        vertical-align: middle;\n",
       "    }\n",
       "\n",
       "    .dataframe tbody tr th {\n",
       "        vertical-align: top;\n",
       "    }\n",
       "\n",
       "    .dataframe thead th {\n",
       "        text-align: right;\n",
       "    }\n",
       "</style>\n",
       "<table border=\"1\" class=\"dataframe\">\n",
       "  <thead>\n",
       "    <tr style=\"text-align: right;\">\n",
       "      <th></th>\n",
       "      <th>id</th>\n",
       "      <th>f0</th>\n",
       "      <th>f1</th>\n",
       "      <th>f2</th>\n",
       "      <th>product</th>\n",
       "    </tr>\n",
       "  </thead>\n",
       "  <tbody>\n",
       "    <tr>\n",
       "      <th>0</th>\n",
       "      <td>kBEdx</td>\n",
       "      <td>-15.001348</td>\n",
       "      <td>-8.276000</td>\n",
       "      <td>-0.005876</td>\n",
       "      <td>3.179103</td>\n",
       "    </tr>\n",
       "    <tr>\n",
       "      <th>1</th>\n",
       "      <td>62mP7</td>\n",
       "      <td>14.272088</td>\n",
       "      <td>-3.475083</td>\n",
       "      <td>0.999183</td>\n",
       "      <td>26.953261</td>\n",
       "    </tr>\n",
       "    <tr>\n",
       "      <th>2</th>\n",
       "      <td>vyE1P</td>\n",
       "      <td>6.263187</td>\n",
       "      <td>-5.948386</td>\n",
       "      <td>5.001160</td>\n",
       "      <td>134.766305</td>\n",
       "    </tr>\n",
       "    <tr>\n",
       "      <th>3</th>\n",
       "      <td>KcrkZ</td>\n",
       "      <td>-13.081196</td>\n",
       "      <td>-11.506057</td>\n",
       "      <td>4.999415</td>\n",
       "      <td>137.945408</td>\n",
       "    </tr>\n",
       "    <tr>\n",
       "      <th>4</th>\n",
       "      <td>AHL4O</td>\n",
       "      <td>12.702195</td>\n",
       "      <td>-8.147433</td>\n",
       "      <td>5.004363</td>\n",
       "      <td>134.766305</td>\n",
       "    </tr>\n",
       "  </tbody>\n",
       "</table>\n",
       "</div>"
      ],
      "text/plain": [
       "      id         f0         f1        f2     product\n",
       "0  kBEdx -15.001348  -8.276000 -0.005876    3.179103\n",
       "1  62mP7  14.272088  -3.475083  0.999183   26.953261\n",
       "2  vyE1P   6.263187  -5.948386  5.001160  134.766305\n",
       "3  KcrkZ -13.081196 -11.506057  4.999415  137.945408\n",
       "4  AHL4O  12.702195  -8.147433  5.004363  134.766305"
      ]
     },
     "metadata": {},
     "output_type": "display_data"
    },
    {
     "name": "stdout",
     "output_type": "stream",
     "text": [
      "\n",
      "\n",
      "\n",
      "Статистики\n"
     ]
    },
    {
     "data": {
      "text/html": [
       "<div>\n",
       "<style scoped>\n",
       "    .dataframe tbody tr th:only-of-type {\n",
       "        vertical-align: middle;\n",
       "    }\n",
       "\n",
       "    .dataframe tbody tr th {\n",
       "        vertical-align: top;\n",
       "    }\n",
       "\n",
       "    .dataframe thead th {\n",
       "        text-align: right;\n",
       "    }\n",
       "</style>\n",
       "<table border=\"1\" class=\"dataframe\">\n",
       "  <thead>\n",
       "    <tr style=\"text-align: right;\">\n",
       "      <th></th>\n",
       "      <th>f0</th>\n",
       "      <th>f1</th>\n",
       "      <th>f2</th>\n",
       "      <th>product</th>\n",
       "    </tr>\n",
       "  </thead>\n",
       "  <tbody>\n",
       "    <tr>\n",
       "      <th>count</th>\n",
       "      <td>100000.000000</td>\n",
       "      <td>100000.000000</td>\n",
       "      <td>100000.000000</td>\n",
       "      <td>100000.000000</td>\n",
       "    </tr>\n",
       "    <tr>\n",
       "      <th>mean</th>\n",
       "      <td>1.141296</td>\n",
       "      <td>-4.796579</td>\n",
       "      <td>2.494541</td>\n",
       "      <td>68.825000</td>\n",
       "    </tr>\n",
       "    <tr>\n",
       "      <th>std</th>\n",
       "      <td>8.965932</td>\n",
       "      <td>5.119872</td>\n",
       "      <td>1.703572</td>\n",
       "      <td>45.944423</td>\n",
       "    </tr>\n",
       "    <tr>\n",
       "      <th>min</th>\n",
       "      <td>-31.609576</td>\n",
       "      <td>-26.358598</td>\n",
       "      <td>-0.018144</td>\n",
       "      <td>0.000000</td>\n",
       "    </tr>\n",
       "    <tr>\n",
       "      <th>25%</th>\n",
       "      <td>-6.298551</td>\n",
       "      <td>-8.267985</td>\n",
       "      <td>1.000021</td>\n",
       "      <td>26.953261</td>\n",
       "    </tr>\n",
       "    <tr>\n",
       "      <th>50%</th>\n",
       "      <td>1.153055</td>\n",
       "      <td>-4.813172</td>\n",
       "      <td>2.011479</td>\n",
       "      <td>57.085625</td>\n",
       "    </tr>\n",
       "    <tr>\n",
       "      <th>75%</th>\n",
       "      <td>8.621015</td>\n",
       "      <td>-1.332816</td>\n",
       "      <td>3.999904</td>\n",
       "      <td>107.813044</td>\n",
       "    </tr>\n",
       "    <tr>\n",
       "      <th>max</th>\n",
       "      <td>29.421755</td>\n",
       "      <td>18.734063</td>\n",
       "      <td>5.019721</td>\n",
       "      <td>137.945408</td>\n",
       "    </tr>\n",
       "  </tbody>\n",
       "</table>\n",
       "</div>"
      ],
      "text/plain": [
       "                  f0             f1             f2        product\n",
       "count  100000.000000  100000.000000  100000.000000  100000.000000\n",
       "mean        1.141296      -4.796579       2.494541      68.825000\n",
       "std         8.965932       5.119872       1.703572      45.944423\n",
       "min       -31.609576     -26.358598      -0.018144       0.000000\n",
       "25%        -6.298551      -8.267985       1.000021      26.953261\n",
       "50%         1.153055      -4.813172       2.011479      57.085625\n",
       "75%         8.621015      -1.332816       3.999904     107.813044\n",
       "max        29.421755      18.734063       5.019721     137.945408"
      ]
     },
     "metadata": {},
     "output_type": "display_data"
    },
    {
     "name": "stdout",
     "output_type": "stream",
     "text": [
      "\n",
      "\n",
      "\n",
      "Гистограммы\n"
     ]
    },
    {
     "data": {
      "image/png": "[encoded data removed]",
      "text/plain": [
       "<Figure size 1080x504 with 4 Axes>"
      ]
     },
     "metadata": {
      "needs_background": "light"
     },
     "output_type": "display_data"
    },
    {
     "name": "stdout",
     "output_type": "stream",
     "text": [
      "\n",
      "\n",
      "\n",
      "Количество пропусков в данных\n",
      "0\n",
      "\n",
      "\n",
      "\n",
      "Количество дубликатов в данных\n",
      "0\n"
     ]
    }
   ],
   "source": [
    "data_summary(data_1)"
   ]
  },
  {
   "cell_type": "markdown",
   "metadata": {},
   "source": [
    "#### Регион 2"
   ]
  },
  {
   "cell_type": "code",
   "execution_count": 22,
   "metadata": {
    "scrolled": false
   },
   "outputs": [
    {
     "name": "stdout",
     "output_type": "stream",
     "text": [
      "Информация по датасету:\n",
      "<class 'pandas.core.frame.DataFrame'>\n",
      "RangeIndex: 100000 entries, 0 to 99999\n",
      "Data columns (total 5 columns):\n",
      " #   Column   Non-Null Count   Dtype  \n",
      "---  ------   --------------   -----  \n",
      " 0   id       100000 non-null  object \n",
      " 1   f0       100000 non-null  float64\n",
      " 2   f1       100000 non-null  float64\n",
      " 3   f2       100000 non-null  float64\n",
      " 4   product  100000 non-null  float64\n",
      "dtypes: float64(4), object(1)\n",
      "memory usage: 3.8+ MB\n",
      "\n",
      "\n",
      "\n",
      "Первые 5 строк\n"
     ]
    },
    {
     "data": {
      "text/html": [
       "<div>\n",
       "<style scoped>\n",
       "    .dataframe tbody tr th:only-of-type {\n",
       "        vertical-align: middle;\n",
       "    }\n",
       "\n",
       "    .dataframe tbody tr th {\n",
       "        vertical-align: top;\n",
       "    }\n",
       "\n",
       "    .dataframe thead th {\n",
       "        text-align: right;\n",
       "    }\n",
       "</style>\n",
       "<table border=\"1\" class=\"dataframe\">\n",
       "  <thead>\n",
       "    <tr style=\"text-align: right;\">\n",
       "      <th></th>\n",
       "      <th>id</th>\n",
       "      <th>f0</th>\n",
       "      <th>f1</th>\n",
       "      <th>f2</th>\n",
       "      <th>product</th>\n",
       "    </tr>\n",
       "  </thead>\n",
       "  <tbody>\n",
       "    <tr>\n",
       "      <th>0</th>\n",
       "      <td>fwXo0</td>\n",
       "      <td>-1.146987</td>\n",
       "      <td>0.963328</td>\n",
       "      <td>-0.828965</td>\n",
       "      <td>27.758673</td>\n",
       "    </tr>\n",
       "    <tr>\n",
       "      <th>1</th>\n",
       "      <td>WJtFt</td>\n",
       "      <td>0.262778</td>\n",
       "      <td>0.269839</td>\n",
       "      <td>-2.530187</td>\n",
       "      <td>56.069697</td>\n",
       "    </tr>\n",
       "    <tr>\n",
       "      <th>2</th>\n",
       "      <td>ovLUW</td>\n",
       "      <td>0.194587</td>\n",
       "      <td>0.289035</td>\n",
       "      <td>-5.586433</td>\n",
       "      <td>62.871910</td>\n",
       "    </tr>\n",
       "    <tr>\n",
       "      <th>3</th>\n",
       "      <td>q6cA6</td>\n",
       "      <td>2.236060</td>\n",
       "      <td>-0.553760</td>\n",
       "      <td>0.930038</td>\n",
       "      <td>114.572842</td>\n",
       "    </tr>\n",
       "    <tr>\n",
       "      <th>4</th>\n",
       "      <td>WPMUX</td>\n",
       "      <td>-0.515993</td>\n",
       "      <td>1.716266</td>\n",
       "      <td>5.899011</td>\n",
       "      <td>149.600746</td>\n",
       "    </tr>\n",
       "  </tbody>\n",
       "</table>\n",
       "</div>"
      ],
      "text/plain": [
       "      id        f0        f1        f2     product\n",
       "0  fwXo0 -1.146987  0.963328 -0.828965   27.758673\n",
       "1  WJtFt  0.262778  0.269839 -2.530187   56.069697\n",
       "2  ovLUW  0.194587  0.289035 -5.586433   62.871910\n",
       "3  q6cA6  2.236060 -0.553760  0.930038  114.572842\n",
       "4  WPMUX -0.515993  1.716266  5.899011  149.600746"
      ]
     },
     "metadata": {},
     "output_type": "display_data"
    },
    {
     "name": "stdout",
     "output_type": "stream",
     "text": [
      "\n",
      "\n",
      "\n",
      "Статистики\n"
     ]
    },
    {
     "data": {
      "text/html": [
       "<div>\n",
       "<style scoped>\n",
       "    .dataframe tbody tr th:only-of-type {\n",
       "        vertical-align: middle;\n",
       "    }\n",
       "\n",
       "    .dataframe tbody tr th {\n",
       "        vertical-align: top;\n",
       "    }\n",
       "\n",
       "    .dataframe thead th {\n",
       "        text-align: right;\n",
       "    }\n",
       "</style>\n",
       "<table border=\"1\" class=\"dataframe\">\n",
       "  <thead>\n",
       "    <tr style=\"text-align: right;\">\n",
       "      <th></th>\n",
       "      <th>f0</th>\n",
       "      <th>f1</th>\n",
       "      <th>f2</th>\n",
       "      <th>product</th>\n",
       "    </tr>\n",
       "  </thead>\n",
       "  <tbody>\n",
       "    <tr>\n",
       "      <th>count</th>\n",
       "      <td>100000.000000</td>\n",
       "      <td>100000.000000</td>\n",
       "      <td>100000.000000</td>\n",
       "      <td>100000.000000</td>\n",
       "    </tr>\n",
       "    <tr>\n",
       "      <th>mean</th>\n",
       "      <td>0.002023</td>\n",
       "      <td>-0.002081</td>\n",
       "      <td>2.495128</td>\n",
       "      <td>95.000000</td>\n",
       "    </tr>\n",
       "    <tr>\n",
       "      <th>std</th>\n",
       "      <td>1.732045</td>\n",
       "      <td>1.730417</td>\n",
       "      <td>3.473445</td>\n",
       "      <td>44.749921</td>\n",
       "    </tr>\n",
       "    <tr>\n",
       "      <th>min</th>\n",
       "      <td>-8.760004</td>\n",
       "      <td>-7.084020</td>\n",
       "      <td>-11.970335</td>\n",
       "      <td>0.000000</td>\n",
       "    </tr>\n",
       "    <tr>\n",
       "      <th>25%</th>\n",
       "      <td>-1.162288</td>\n",
       "      <td>-1.174820</td>\n",
       "      <td>0.130359</td>\n",
       "      <td>59.450441</td>\n",
       "    </tr>\n",
       "    <tr>\n",
       "      <th>50%</th>\n",
       "      <td>0.009424</td>\n",
       "      <td>-0.009482</td>\n",
       "      <td>2.484236</td>\n",
       "      <td>94.925613</td>\n",
       "    </tr>\n",
       "    <tr>\n",
       "      <th>75%</th>\n",
       "      <td>1.158535</td>\n",
       "      <td>1.163678</td>\n",
       "      <td>4.858794</td>\n",
       "      <td>130.595027</td>\n",
       "    </tr>\n",
       "    <tr>\n",
       "      <th>max</th>\n",
       "      <td>7.238262</td>\n",
       "      <td>7.844801</td>\n",
       "      <td>16.739402</td>\n",
       "      <td>190.029838</td>\n",
       "    </tr>\n",
       "  </tbody>\n",
       "</table>\n",
       "</div>"
      ],
      "text/plain": [
       "                  f0             f1             f2        product\n",
       "count  100000.000000  100000.000000  100000.000000  100000.000000\n",
       "mean        0.002023      -0.002081       2.495128      95.000000\n",
       "std         1.732045       1.730417       3.473445      44.749921\n",
       "min        -8.760004      -7.084020     -11.970335       0.000000\n",
       "25%        -1.162288      -1.174820       0.130359      59.450441\n",
       "50%         0.009424      -0.009482       2.484236      94.925613\n",
       "75%         1.158535       1.163678       4.858794     130.595027\n",
       "max         7.238262       7.844801      16.739402     190.029838"
      ]
     },
     "metadata": {},
     "output_type": "display_data"
    },
    {
     "name": "stdout",
     "output_type": "stream",
     "text": [
      "\n",
      "\n",
      "\n",
      "Гистограммы\n"
     ]
    },
    {
     "data": {
      "image/png": "[encoded data removed]",
      "text/plain": [
       "<Figure size 1080x504 with 4 Axes>"
      ]
     },
     "metadata": {
      "needs_background": "light"
     },
     "output_type": "display_data"
    },
    {
     "name": "stdout",
     "output_type": "stream",
     "text": [
      "\n",
      "\n",
      "\n",
      "Количество пропусков в данных\n",
      "0\n",
      "\n",
      "\n",
      "\n",
      "Количество дубликатов в данных\n",
      "0\n"
     ]
    }
   ],
   "source": [
    "data_summary(data_2)"
   ]
  },
  {
   "cell_type": "markdown",
   "metadata": {},
   "source": [
    "Данные по каждому из регионов не содержат грубых выбросов, пропусков и дубликатов.\n",
    "\n",
    "<div class=\"alert alert-block alert-success\">\n",
    "<b>Успех:</b> Данные загружены и осмотрены корректно. Радует, что распределения были визуализированы!\n",
    "</div>\n",
    "\n",
    "## Обучение и проверка модели\n",
    "### Функция для обучения, валидации, расчёта RMSE модели и среднего объёма сырья"
   ]
  },
  {
   "cell_type": "code",
   "execution_count": 23,
   "metadata": {
    "scrolled": true
   },
   "outputs": [],
   "source": [
    "scaler=StandardScaler()\n",
    "def train_valid_mean(df):\n",
    "    features = df.drop(['id','product'], axis=1) # выделяем признаки\n",
    "    \n",
    "    target = df['product'] # выделяем целевой признак\n",
    "    \n",
    "    features_train, features_valid, target_train, target_valid = train_test_split(\n",
    "        features, target, test_size=0.25, random_state=13) # разбиваем на обучающую \n",
    "                                                           # и валидационную выборки\n",
    "    features_train = scaler.fit_transform(features_train) # обучаем скейлер, масштабируем обучающие признаки\n",
    "    features_valid = scaler.transform(features_valid)     # масштабируем валидационные признаки\n",
    "    model=LinearRegression()\n",
    "    model.fit(features_train, target_train) # обучение модели\n",
    "    predictions = model.predict(features_valid) # запись предсказаний в переменную\n",
    "    print('RMSE модели:', mean_squared_error(target_valid, predictions)**0.5) # отображение RMSE\n",
    "    print('Средний запас сырья:', target.mean()) # отображение среднего запаса сырья\n",
    "    print('Предсказанный средний запас сырья:', predictions.mean()) # отображение предсказанного среднего\n",
    "    \n",
    "    return model, predictions, target_valid  # сохраняем модель, предсказания модели и правильные ответы на \n",
    "                                             # валидационной выборке согласно условию задачи."
   ]
  },
  {
   "cell_type": "markdown",
   "metadata": {},
   "source": [
    "### Применение функции"
   ]
  },
  {
   "cell_type": "code",
   "execution_count": 24,
   "metadata": {
    "scrolled": true
   },
   "outputs": [
    {
     "name": "stdout",
     "output_type": "stream",
     "text": [
      "Регион 0\n",
      "RMSE модели: 37.69454735409069\n",
      "Средний запас сырья: 92.50000000000001\n",
      "Предсказанный средний запас сырья: 92.59431986205762\n"
     ]
    }
   ],
   "source": [
    "print('Регион 0')\n",
    "model_0, predictions_0, target_valid_0 = train_valid_mean(data_0)"
   ]
  },
  {
   "cell_type": "code",
   "execution_count": 25,
   "metadata": {},
   "outputs": [
    {
     "name": "stdout",
     "output_type": "stream",
     "text": [
      "Регион 1\n",
      "RMSE модели: 0.8937965421900188\n",
      "Средний запас сырья: 68.82500000000002\n",
      "Предсказанный средний запас сырья: 69.02949151591963\n"
     ]
    }
   ],
   "source": [
    "print('Регион 1')\n",
    "model_1, predictions_1, target_valid_1 = train_valid_mean(data_1)"
   ]
  },
  {
   "cell_type": "code",
   "execution_count": 26,
   "metadata": {
    "scrolled": true
   },
   "outputs": [
    {
     "name": "stdout",
     "output_type": "stream",
     "text": [
      "Регион 2\n",
      "RMSE модели: 40.021834799355375\n",
      "Средний запас сырья: 95.00000000000004\n",
      "Предсказанный средний запас сырья: 94.95620175786401\n"
     ]
    }
   ],
   "source": [
    "print('Регион 2')\n",
    "model_2, predictions_2, target_valid_2 = train_valid_mean(data_2)"
   ]
  },
  {
   "cell_type": "markdown",
   "metadata": {},
   "source": [
    "Модель LinearRegression показала наименьшее RMSE для региона 1 (0.9), в то время как в прочих регионах этот показатель очень велик. Согласно гистограммам, полученным при исследовании данных, в регионе 1 отмечено более равномерное распределение значений целевого признака, с чем может быть связана эта особенность. Рассмотрим диаграммы boxplot для показателя product в каждом из регионов. \n",
    "\n",
    "<div class=\"alert alert-block alert-danger\">\n",
    "<b>Ошибка:</b> Перед обучением линейных моделей нужно нормализовать признаки, при этом scaler должен быть обучен только на треине.\n",
    "</div>\n",
    "\n",
    "<div class=\"alert alert-block alert-warning\">\n",
    "<b>Комментарий студента:</b> Исправлено в пунктах 3.1, а также 5.1.2. Спасибо!\n",
    "</div>\n",
    "\n",
    "<div class=\"alert alert-block alert-success\">\n",
    "<b>Успех:</b> Модели обучены корректно. Радует, что ты активно используешь функции. Это помогает избежать дублирования кода, а значит уменьшает вероятность совершить ошибку/опечатку!\n",
    "</div>\n",
    "\n",
    "<div class=\"alert alert-block alert-success\">\n",
    "<b>Успех (ревью 2):</b> Отлично!\n",
    "</div>\n",
    "\n",
    "### Диаграммы размаха значений product по регионам"
   ]
  },
  {
   "cell_type": "code",
   "execution_count": 27,
   "metadata": {},
   "outputs": [
    {
     "data": {
      "image/png": "[encoded data removed]",
      "text/plain": [
       "<Figure size 864x504 with 1 Axes>"
      ]
     },
     "metadata": {
      "needs_background": "light"
     },
     "output_type": "display_data"
    }
   ],
   "source": [
    "boxplot_df = pd.DataFrame(data={'region_0': data_0['product'],\n",
    "                                'region_1': data_1['product'],\n",
    "                                'region_2': data_2['product']})\n",
    "boxplot_df.plot(kind='box', figsize=[12,7], title='boxplot of product by region', ylabel='product');"
   ]
  },
  {
   "cell_type": "markdown",
   "metadata": {},
   "source": [
    "Диаграмма подтверждает: в регионе 1 относительно меньший размах значений целевого признака, что и могло способствовать более успешной работе модели.\n",
    "\n",
    "## Подготовка к расчёту прибыли\n",
    "Согласно информации заказчика, при разведке региона исследуют 500 точек, из которых с помощью машинного обучения выбирают 200 лучших для разработки.\n",
    "Бюджет на разработку скважин в регионе — 10 млрд рублей. Доход с каждой единицы продукта составляет 450 тыс. рублей."
   ]
  },
  {
   "cell_type": "code",
   "execution_count": 28,
   "metadata": {},
   "outputs": [
    {
     "name": "stdout",
     "output_type": "stream",
     "text": [
      "Объём сырья, необходимый для окупаемости скважины: 111.11111111111111\n"
     ]
    }
   ],
   "source": [
    "REGION_BUDGET = 10000000000 # бюджет на регион\n",
    "PRODUCT_UNIT_INCOME = 450000 # прибыль с продажи 1 единицы продукта\n",
    "N_SURVEYED = 500 # количество исследованных точек\n",
    "N_DEVELOPED = 200 # количество выбранных для разработки скважин\n",
    "WELL_COST = REGION_BUDGET/N_DEVELOPED # стоимость разработки скважины\n",
    "MIN_ACCEPTABLE_PRODUCT = WELL_COST/PRODUCT_UNIT_INCOME # объём сырья для безубыточной разработки новой скважины.\n",
    "print('Объём сырья, необходимый для окупаемости скважины:', MIN_ACCEPTABLE_PRODUCT)"
   ]
  },
  {
   "cell_type": "markdown",
   "metadata": {},
   "source": [
    "Таким образом, требуемый для покрытия расходов на разработку скважины объём сырья превышает среднее значение в каждом из регионов. Наибольший средний запас сырья наблюдается в регионе 2, где он составляет 95 тыс. баррелей.\n",
    "\n",
    "\n",
    "<div class=\"alert alert-block alert-info\">\n",
    "\n",
    "<b>Совет: </b> В названиях константных переменных лучше использовать только БОЛЬШИЕ буквы. Это соглашение между программистами: https://pythonworld.ru/osnovy/pep-8-rukovodstvo-po-napisaniyu-koda-na-python.html#id29 .\n",
    "</div>\n",
    "\n",
    "<div class=\"alert alert-block alert-warning\">\n",
    "<b>Комментарий студента: </b> Спасибо! исправил.\n",
    "</div>\n",
    "\n",
    "<div class=\"alert alert-block alert-success\">\n",
    "<b>Успех:</b> Точка безубыточности найдена верно, сравнение проведено!\n",
    "</div>\n",
    "\n",
    "<div class=\"alert alert-block alert-success\">\n",
    "<b>Успех (ревью 2):</b> Спасибо!\n",
    "</div>\n",
    "\n",
    "## Расчёт прибыли и рисков \n",
    "\n",
    "Расчёт для каждого региона будет выполнен в соответствии с требованиями заказчика. Сэмплы должны содержать 500 локаций (n_surveyed), из которых необходимо отобрать 200 наиболее прибыльных (n_developed) на основании предсказанного объёма сырья. \n",
    "\n",
    "Далее прибыль будет рассчитана на основе суммарного объёма сырья в выбранных скважинах и стоимости единицы продукта (product_unit_income).\n",
    "\n",
    "В рамках процедуры bootstrap для каждого региона будет создана 1000 сэмплов с дальнейшим расчётом средней прибыли, доверительного интервала 95% и риска убытков, т. е. вероятности того, что прибыль окажется меньше, чем region_budget - 10 млрд рублей.\n",
    "\n",
    "### Объявление функций\n",
    "#### Функция для расчёта прибыли по выбранным скважинам и предсказаниям модели:"
   ]
  },
  {
   "cell_type": "code",
   "execution_count": 29,
   "metadata": {},
   "outputs": [],
   "source": [
    "def calculate_income(model, df, num_selected=N_DEVELOPED): # на вход функция получает модель, набор данных\n",
    "                                                           # и количество скважин, которые следует выбрать\n",
    "    \n",
    "    features = df.drop(['id','product'], axis=1) # отбираем фичи, по которым модель будет предсказывать\n",
    "    df_edited = df.copy() # создаем новый датафрейм, чтобы не менять исходный\n",
    "    df_edited['prediction'] = model.predict(features) # добавляем в датафрейм столбец с предсказаниями\n",
    "    df_edited = df_edited.sort_values(by='prediction', ascending=False).head(num_selected) # выбираем строки датафрейма с \n",
    "                                                                                           # наиболее высоким prediction\n",
    "    return df_edited['product'].sum()*PRODUCT_UNIT_INCOME - REGION_BUDGET  # возвращаем суммарное количество продукта, \n",
    "                                                          # помноженное на стоимость единицы продукта минус бюджет на регион\n",
    "                                                          # чтобы получить прибыль"
   ]
  },
  {
   "cell_type": "markdown",
   "metadata": {},
   "source": [
    "<div class=\"alert alert-block alert-success\">\n",
    "<b>Успех:</b> Верно.\n",
    "</div>"
   ]
  },
  {
   "cell_type": "markdown",
   "metadata": {},
   "source": [
    "#### Функция для выполнения процедуры bootstrap"
   ]
  },
  {
   "cell_type": "code",
   "execution_count": 30,
   "metadata": {
    "scrolled": false
   },
   "outputs": [],
   "source": [
    "state = np.random.RandomState(13) # потребуется генератор псевдослучайных чисел"
   ]
  },
  {
   "cell_type": "code",
   "execution_count": 31,
   "metadata": {},
   "outputs": [],
   "source": [
    "# Объявляем функцию для выполнения процедуры bootstrap\n",
    "# на вход функция получает датафрейм\n",
    "def bootstrap_income(df):\n",
    "    \n",
    "    incomes = [] # пустой список для фиксации полученных значений прибыли\n",
    "    model = LinearRegression() # модель линейной регрессии обучаем на всем датасете\n",
    "    model.fit(scaler.fit_transform(df.drop(['id','product'], axis=1)), df['product']) # масштабируем трейн и обучаем модель\n",
    "    for i in range(1000): # 1000 итераций цикла\n",
    "        sample = df.sample(n=N_SURVEYED, replace=True, random_state=state) # формируем bootstrap-выборку\n",
    "        incomes.append(calculate_income(model, sample)) # передаем модель и выборку в функцию, \n",
    "                                                        # рассчитывающую прибыль\n",
    "    \n",
    "    incomes=pd.Series(incomes) \n",
    "    incomes.hist(bins=100, figsize=[12,5]) # построим гистограмму полученного распределения прибыли\n",
    "    plt.show()\n",
    "    print('Средняя прибыль:',incomes.mean()) \n",
    "    lower = incomes.quantile(0.025) \n",
    "    upper = incomes.quantile(0.975)\n",
    "    print('Доверительный интервал 95%: от', lower, 'до', upper)\n",
    "    failed = incomes < 0 # Создадим Series булевых значений, где True означает убыток\n",
    "    print('Риск убытков:', failed.mean())"
   ]
  },
  {
   "cell_type": "markdown",
   "metadata": {},
   "source": [
    "<div class=\"alert alert-block alert-success\">\n",
    "<b>Успех:</b> Отлично, что для подсчета доверительного интервала использовался именно метод квантилей!\n",
    "</div>\n",
    "\n",
    "<div class=\"alert alert-block alert-success\">\n",
    "<b>Успех:</b> Риск найден очень элегантно.\n",
    "</div>"
   ]
  },
  {
   "cell_type": "markdown",
   "metadata": {},
   "source": [
    "<div class=\"alert alert-block alert-danger\">\n",
    "<b>Ошибка:</b> Среднее и интервал нужно было посчитать на прибыль, а не на выручку.\n",
    "</div>\n",
    "\n",
    "\n",
    "\n",
    "<div class=\"alert alert-block alert-warning\">\n",
    "<b>Комментарий студента:</b> Исправлено! спасибо)\n",
    "    \n",
    "    см пункт 5.1.1 - из выручки по региону теперь вычтен бюджет региона, чтоб рассчитать прибыль \n",
    "</div>"
   ]
  },
  {
   "cell_type": "markdown",
   "metadata": {},
   "source": [
    "<div class=\"alert alert-block alert-success\">\n",
    "<b>Успех (ревью 2):</b> Верно, молодец!\n",
    "</div>"
   ]
  },
  {
   "cell_type": "markdown",
   "metadata": {},
   "source": [
    "### Расчёт прибыли\n",
    "#### Регион 0"
   ]
  },
  {
   "cell_type": "code",
   "execution_count": 35,
   "metadata": {
    "scrolled": false
   },
   "outputs": [
    {
     "data": {
      "image/png": "[encoded data removed]",
      "text/plain": [
       "<Figure size 864x360 with 1 Axes>"
      ]
     },
     "metadata": {
      "needs_background": "light"
     },
     "output_type": "display_data"
    },
    {
     "name": "stdout",
     "output_type": "stream",
     "text": [
      "Средняя прибыль: 344436225.84999317\n",
      "Доверительный интервал 95%: от -152873905.28862557 до 827911268.482997\n",
      "Риск убытков: 0.098\n"
     ]
    }
   ],
   "source": [
    "bootstrap_income(data_0)\n"
   ]
  },
  {
   "cell_type": "markdown",
   "metadata": {},
   "source": [
    "#### Регион 1"
   ]
  },
  {
   "cell_type": "code",
   "execution_count": 33,
   "metadata": {},
   "outputs": [
    {
     "data": {
      "image/png": "[encoded data removed]",
      "text/plain": [
       "<Figure size 864x360 with 1 Axes>"
      ]
     },
     "metadata": {
      "needs_background": "light"
     },
     "output_type": "display_data"
    },
    {
     "name": "stdout",
     "output_type": "stream",
     "text": [
      "Средняя прибыль: 447387013.41188776\n",
      "Доверительный интервал 95%: от 43141154.396469735 до 877197377.0508367\n",
      "Риск убытков: 0.013\n"
     ]
    }
   ],
   "source": [
    "bootstrap_income(data_1)"
   ]
  },
  {
   "cell_type": "markdown",
   "metadata": {},
   "source": [
    "#### Регион 2"
   ]
  },
  {
   "cell_type": "code",
   "execution_count": 34,
   "metadata": {
    "scrolled": true
   },
   "outputs": [
    {
     "data": {
      "image/png": "[encoded data removed]",
      "text/plain": [
       "<Figure size 864x360 with 1 Axes>"
      ]
     },
     "metadata": {
      "needs_background": "light"
     },
     "output_type": "display_data"
    },
    {
     "name": "stdout",
     "output_type": "stream",
     "text": [
      "Средняя прибыль: 364577300.79463387\n",
      "Доверительный интервал 95%: от -119753772.46357429 до 858772541.6113269\n",
      "Риск убытков: 0.089\n"
     ]
    }
   ],
   "source": [
    "bootstrap_income(data_2)"
   ]
  },
  {
   "cell_type": "markdown",
   "metadata": {},
   "source": [
    "#### Итог\n",
    "Согласно требованиям заказчика, перспективными признают регионы с вероятностью убытков менее 2.5%, среди которых затем отбирают регион с наибольшей потенциальной прибылью. В рамках данного исследования требованиям удовлетворяет лишь регион 1 с риском убытков 1.3%.\n",
    "\n",
    "## Выводы\n",
    "### Цель и задачи работы\n",
    "\n",
    "Цель исследования: построить модель для определения региона с наибольшей потенциальной прибылью от добычи нефти.\n",
    "\n",
    "Задачи исследования:\n",
    "- проанализировать данные о залежах нефти в 3х регионах;\n",
    "- обучить модель LinearRegression(), оценить RMSE, средний предсказанный объём сырья;\n",
    "- рассчитать стоимость разработки скважины, минимальный объём сырья для окупаемости;\n",
    "- разработать функцию для подсчёта прибыли на основании предсказаний модели;\n",
    "- оценить потенциальную прибыль и риск убытков в каждом регионе методом bootstrap;\n",
    "- установить наиболее выгодный регион для нефтедобычи.\n",
    "\n",
    "### Материалы и методы\n",
    "Исследование выполнено средствами Python, библиотек pandas, sklearn, numpy. Визуализация данных осуществлялась средствами matplotlib. Исследование проводилось на синтетических данных, полученных из открытых источников.\n",
    "\n",
    "### Ход исследования\n",
    "В ходе работы выполнено следующее:\n",
    "- загружены и исследованы 3 датасета\n",
    "- на каждом из них обучена модель линейной регрессии, рассчитана RMSE.\n",
    "- рассчитаны средний объем сырья и средний предсказанный объем.\n",
    "- построены диаграммы размаха значений product по регионам.\n",
    "- рассчитана стоимость постройки скважины, определен минимальный объем сырья, необходимый для окупаемости.\n",
    "- методом bootstrap на 1000 выборок рассчитана средняя прибыль, 95% доверительный интервал, вероятность убытка для каждого региона.\n",
    "- выбран регион, удовлетворяющий требованиям заказчика.\n",
    "\n",
    "### Результаты исследования\n",
    "- Регион 0\n",
    "\n",
    "Средняя прибыль: 344 млн. руб.\n",
    "\n",
    "Доверительный интервал 95%: от -153 млн. руб. до 827 млн. руб.\n",
    "\n",
    "Риск убытков: 9.8%\n",
    "\n",
    "- Регион 1\n",
    "\n",
    "Средняя прибыль: 447 млн. руб.\n",
    "\n",
    "Доверительный интервал 95%: от 43 млн. руб. до 877 млн. руб.\n",
    "\n",
    "Риск убытков: 1.3%\n",
    "\n",
    "- Регион 2\n",
    "\n",
    "Средняя прибыль: 365 млн. руб.\n",
    "\n",
    "Доверительный интервал 95%: от -119 млн. руб. до 858 млн. руб.\n",
    "\n",
    "Риск убытков: 8.9%\n",
    "\n",
    "### Рекомендации\n",
    "\n",
    "Регион 1 удовлетворяет требованиям заказчика в связи с риском убытков менее 2,5%. Рекомендуется рассмотреть возможность добычи нефти в данном регионе.\n",
    "\n",
    "<div class=\"alert alert-block alert-success\">\n",
    "<b>Успех:</b> Приятно видеть подробный вывод в конце проекта! С выбором региона согласен.\n",
    "</div>\n",
    "\n",
    "## Чек-лист готовности проекта"
   ]
  },
  {
   "cell_type": "markdown",
   "metadata": {},
   "source": [
    "Поставьте 'x' в выполненных пунктах. Далее нажмите Shift+Enter."
   ]
  },
  {
   "cell_type": "markdown",
   "metadata": {},
   "source": [
    "- [x]  Jupyter Notebook открыт\n",
    "- [x]  Весь код выполняется без ошибок\n",
    "- [x]  Ячейки с кодом расположены в порядке исполнения\n",
    "- [x]  Выполнен шаг 1: данные подготовлены\n",
    "- [x]  Выполнен шаг 2: модели обучены и проверены\n",
    "    - [x]  Данные корректно разбиты на обучающую и валидационную выборки\n",
    "    - [x]  Модели обучены, предсказания сделаны\n",
    "    - [x]  Предсказания и правильные ответы на валидационной выборке сохранены\n",
    "    - [x]  На экране напечатаны результаты\n",
    "    - [x]  Сделаны выводы\n",
    "- [x]  Выполнен шаг 3: проведена подготовка к расчёту прибыли\n",
    "    - [x]  Для всех ключевых значений созданы константы Python\n",
    "    - [x]  Посчитано минимальное среднее количество продукта в месторождениях региона, достаточное для разработки\n",
    "    - [x]  По предыдущему пункту сделаны выводы\n",
    "    - [x]  Написана функция расчёта прибыли\n",
    "- [x]  Выполнен шаг 4: посчитаны риски и прибыль\n",
    "    - [x]  Проведена процедура *Bootstrap*\n",
    "    - [x]  Все параметры бутстрепа соответствуют условию\n",
    "    - [x]  Найдены все нужные величины\n",
    "    - [x]  Предложен регион для разработки месторождения\n",
    "    - [x]  Выбор региона обоснован"
   ]
  }
 ],
 "metadata": {
  "ExecuteTimeLog": [
   {
    "duration": 340,
    "start_time": "2022-11-20T23:56:51.074Z"
   },
   {
    "duration": 488,
    "start_time": "2022-11-20T23:57:45.326Z"
   },
   {
    "duration": 592,
    "start_time": "2022-11-20T23:58:44.911Z"
   },
   {
    "duration": 59,
    "start_time": "2022-11-21T15:14:58.864Z"
   },
   {
    "duration": 138,
    "start_time": "2022-11-21T15:15:03.274Z"
   },
   {
    "duration": 68,
    "start_time": "2022-11-21T15:15:19.875Z"
   },
   {
    "duration": 464,
    "start_time": "2022-11-21T15:15:26.466Z"
   },
   {
    "duration": 964,
    "start_time": "2022-11-21T15:15:28.491Z"
   },
   {
    "duration": 17,
    "start_time": "2022-11-21T15:15:41.442Z"
   },
   {
    "duration": 414,
    "start_time": "2022-11-21T15:23:04.029Z"
   },
   {
    "duration": 1490,
    "start_time": "2022-11-21T15:23:06.099Z"
   },
   {
    "duration": 389,
    "start_time": "2022-11-21T15:23:37.309Z"
   },
   {
    "duration": 742,
    "start_time": "2022-11-21T15:23:39.309Z"
   },
   {
    "duration": 422,
    "start_time": "2022-11-21T15:27:37.997Z"
   },
   {
    "duration": 865,
    "start_time": "2022-11-21T15:27:40.693Z"
   },
   {
    "duration": 412,
    "start_time": "2022-11-21T15:28:45.189Z"
   },
   {
    "duration": 996,
    "start_time": "2022-11-21T15:28:50.750Z"
   },
   {
    "duration": 396,
    "start_time": "2022-11-21T15:29:16.653Z"
   },
   {
    "duration": 859,
    "start_time": "2022-11-21T15:29:18.551Z"
   },
   {
    "duration": 3,
    "start_time": "2022-11-21T15:29:28.989Z"
   },
   {
    "duration": 407,
    "start_time": "2022-11-21T15:29:31.765Z"
   },
   {
    "duration": 975,
    "start_time": "2022-11-21T15:29:36.069Z"
   },
   {
    "duration": 384,
    "start_time": "2022-11-21T15:29:53.749Z"
   },
   {
    "duration": 849,
    "start_time": "2022-11-21T15:30:00.886Z"
   },
   {
    "duration": 895,
    "start_time": "2022-11-21T15:34:34.575Z"
   },
   {
    "duration": 961,
    "start_time": "2022-11-21T15:34:58.494Z"
   },
   {
    "duration": 788,
    "start_time": "2022-11-21T15:40:52.927Z"
   },
   {
    "duration": 44,
    "start_time": "2022-11-21T15:54:19.280Z"
   },
   {
    "duration": 3,
    "start_time": "2022-11-21T15:54:23.018Z"
   },
   {
    "duration": 52,
    "start_time": "2022-11-21T15:54:24.866Z"
   },
   {
    "duration": 3,
    "start_time": "2022-11-21T15:54:33.792Z"
   },
   {
    "duration": 8,
    "start_time": "2022-11-21T15:54:36.434Z"
   },
   {
    "duration": 4,
    "start_time": "2022-11-21T15:55:40.377Z"
   },
   {
    "duration": 25,
    "start_time": "2022-11-21T15:55:41.968Z"
   },
   {
    "duration": 3,
    "start_time": "2022-11-21T15:55:52.265Z"
   },
   {
    "duration": 22,
    "start_time": "2022-11-21T15:55:53.745Z"
   },
   {
    "duration": 4,
    "start_time": "2022-11-21T15:56:38.728Z"
   },
   {
    "duration": 5,
    "start_time": "2022-11-21T16:00:25.673Z"
   },
   {
    "duration": 5,
    "start_time": "2022-11-21T16:01:44.418Z"
   },
   {
    "duration": 22,
    "start_time": "2022-11-21T16:01:49.642Z"
   },
   {
    "duration": 3,
    "start_time": "2022-11-21T16:01:59.322Z"
   },
   {
    "duration": 4,
    "start_time": "2022-11-21T16:02:02.506Z"
   },
   {
    "duration": 21,
    "start_time": "2022-11-21T16:02:04.209Z"
   },
   {
    "duration": 56,
    "start_time": "2022-11-21T16:04:49.138Z"
   },
   {
    "duration": 4,
    "start_time": "2022-11-21T16:04:58.410Z"
   },
   {
    "duration": 53,
    "start_time": "2022-11-21T16:12:16.372Z"
   },
   {
    "duration": 5,
    "start_time": "2022-11-21T16:12:21.780Z"
   },
   {
    "duration": 31,
    "start_time": "2022-11-21T16:12:38.651Z"
   },
   {
    "duration": 5,
    "start_time": "2022-11-21T16:12:54.171Z"
   },
   {
    "duration": 32,
    "start_time": "2022-11-21T16:12:56.859Z"
   },
   {
    "duration": 4,
    "start_time": "2022-11-21T16:13:54.284Z"
   },
   {
    "duration": 54,
    "start_time": "2022-11-21T16:13:56.603Z"
   },
   {
    "duration": 37,
    "start_time": "2022-11-21T16:15:05.564Z"
   },
   {
    "duration": 35,
    "start_time": "2022-11-21T16:15:12.990Z"
   },
   {
    "duration": 4,
    "start_time": "2022-11-21T16:21:19.301Z"
   },
   {
    "duration": 6,
    "start_time": "2022-11-21T16:21:26.029Z"
   },
   {
    "duration": 5,
    "start_time": "2022-11-21T16:31:04.153Z"
   },
   {
    "duration": 39,
    "start_time": "2022-11-21T16:31:06.169Z"
   },
   {
    "duration": 36,
    "start_time": "2022-11-21T16:31:08.791Z"
   },
   {
    "duration": 33,
    "start_time": "2022-11-21T16:31:12.407Z"
   },
   {
    "duration": 6,
    "start_time": "2022-11-21T16:33:28.208Z"
   },
   {
    "duration": 5,
    "start_time": "2022-11-21T16:35:08.665Z"
   },
   {
    "duration": 5,
    "start_time": "2022-11-21T16:39:12.706Z"
   },
   {
    "duration": 6,
    "start_time": "2022-11-21T16:39:28.320Z"
   },
   {
    "duration": 1483,
    "start_time": "2022-11-21T22:36:48.510Z"
   },
   {
    "duration": 770,
    "start_time": "2022-11-21T22:36:49.995Z"
   },
   {
    "duration": 793,
    "start_time": "2022-11-21T22:36:50.766Z"
   },
   {
    "duration": 772,
    "start_time": "2022-11-21T22:36:51.562Z"
   },
   {
    "duration": 795,
    "start_time": "2022-11-21T22:36:52.336Z"
   },
   {
    "duration": 4,
    "start_time": "2022-11-21T22:37:15.594Z"
   },
   {
    "duration": 72,
    "start_time": "2022-11-21T22:37:18.609Z"
   },
   {
    "duration": 27,
    "start_time": "2022-11-21T22:37:22.224Z"
   },
   {
    "duration": 22,
    "start_time": "2022-11-21T22:37:25.456Z"
   },
   {
    "duration": 5,
    "start_time": "2022-11-21T22:37:49.026Z"
   },
   {
    "duration": 26,
    "start_time": "2022-11-21T22:37:56.505Z"
   },
   {
    "duration": 27,
    "start_time": "2022-11-21T22:37:59.729Z"
   },
   {
    "duration": 29,
    "start_time": "2022-11-21T22:38:02.377Z"
   },
   {
    "duration": 4,
    "start_time": "2022-11-21T22:39:44.778Z"
   },
   {
    "duration": 5,
    "start_time": "2022-11-21T22:41:41.481Z"
   },
   {
    "duration": 27,
    "start_time": "2022-11-21T22:41:44.345Z"
   },
   {
    "duration": 5,
    "start_time": "2022-11-21T22:41:50.265Z"
   },
   {
    "duration": 31,
    "start_time": "2022-11-21T22:41:52.249Z"
   },
   {
    "duration": 29,
    "start_time": "2022-11-21T22:41:54.436Z"
   },
   {
    "duration": 31,
    "start_time": "2022-11-21T22:41:56.793Z"
   },
   {
    "duration": 116,
    "start_time": "2022-11-21T22:45:08.619Z"
   },
   {
    "duration": 16,
    "start_time": "2022-11-21T22:45:16.659Z"
   },
   {
    "duration": 21,
    "start_time": "2022-11-21T22:45:45.243Z"
   },
   {
    "duration": 4,
    "start_time": "2022-11-21T23:10:05.135Z"
   },
   {
    "duration": 3,
    "start_time": "2022-11-21T23:10:12.143Z"
   },
   {
    "duration": 363,
    "start_time": "2022-11-21T23:10:12.148Z"
   },
   {
    "duration": 676,
    "start_time": "2022-11-21T23:10:12.513Z"
   },
   {
    "duration": 735,
    "start_time": "2022-11-21T23:10:13.191Z"
   },
   {
    "duration": 678,
    "start_time": "2022-11-21T23:10:13.928Z"
   },
   {
    "duration": 4,
    "start_time": "2022-11-21T23:10:14.608Z"
   },
   {
    "duration": 66,
    "start_time": "2022-11-21T23:10:14.613Z"
   },
   {
    "duration": 196,
    "start_time": "2022-11-21T23:10:14.683Z"
   },
   {
    "duration": 116,
    "start_time": "2022-11-21T23:10:14.882Z"
   },
   {
    "duration": 82,
    "start_time": "2022-11-21T23:10:15.000Z"
   },
   {
    "duration": 3,
    "start_time": "2022-11-21T23:10:24.113Z"
   },
   {
    "duration": 236,
    "start_time": "2022-11-21T23:10:49.864Z"
   },
   {
    "duration": 3,
    "start_time": "2022-11-21T23:12:08.553Z"
   },
   {
    "duration": 4,
    "start_time": "2022-11-21T23:12:12.712Z"
   },
   {
    "duration": 30,
    "start_time": "2022-11-21T23:12:14.425Z"
   },
   {
    "duration": 4,
    "start_time": "2022-11-21T23:12:31.344Z"
   },
   {
    "duration": 24,
    "start_time": "2022-11-21T23:12:33.497Z"
   },
   {
    "duration": 4,
    "start_time": "2022-11-21T23:13:41.673Z"
   },
   {
    "duration": 24,
    "start_time": "2022-11-21T23:13:51.218Z"
   },
   {
    "duration": 1221,
    "start_time": "2022-11-21T23:14:23.602Z"
   },
   {
    "duration": 386,
    "start_time": "2022-11-21T23:14:24.825Z"
   },
   {
    "duration": 802,
    "start_time": "2022-11-21T23:14:25.213Z"
   },
   {
    "duration": 806,
    "start_time": "2022-11-21T23:14:26.017Z"
   },
   {
    "duration": 730,
    "start_time": "2022-11-21T23:14:26.825Z"
   },
   {
    "duration": 6,
    "start_time": "2022-11-21T23:14:27.557Z"
   },
   {
    "duration": 111,
    "start_time": "2022-11-21T23:14:27.564Z"
   },
   {
    "duration": 115,
    "start_time": "2022-11-21T23:14:27.678Z"
   },
   {
    "duration": 282,
    "start_time": "2022-11-21T23:14:27.795Z"
   },
   {
    "duration": 92,
    "start_time": "2022-11-21T23:14:28.085Z"
   },
   {
    "duration": 2,
    "start_time": "2022-11-21T23:14:47.782Z"
   },
   {
    "duration": 347,
    "start_time": "2022-11-21T23:14:47.786Z"
   },
   {
    "duration": 673,
    "start_time": "2022-11-21T23:14:48.135Z"
   },
   {
    "duration": 762,
    "start_time": "2022-11-21T23:14:48.810Z"
   },
   {
    "duration": 684,
    "start_time": "2022-11-21T23:14:49.577Z"
   },
   {
    "duration": 4,
    "start_time": "2022-11-21T23:14:50.263Z"
   },
   {
    "duration": 35,
    "start_time": "2022-11-21T23:14:50.276Z"
   },
   {
    "duration": 174,
    "start_time": "2022-11-21T23:14:50.313Z"
   },
   {
    "duration": 200,
    "start_time": "2022-11-21T23:14:50.489Z"
   },
   {
    "duration": 88,
    "start_time": "2022-11-21T23:14:50.692Z"
   },
   {
    "duration": 5,
    "start_time": "2022-11-21T23:14:53.545Z"
   },
   {
    "duration": 173,
    "start_time": "2022-11-21T23:14:56.234Z"
   },
   {
    "duration": 12,
    "start_time": "2022-11-21T23:15:11.922Z"
   },
   {
    "duration": 1203,
    "start_time": "2022-11-21T23:16:38.784Z"
   },
   {
    "duration": 357,
    "start_time": "2022-11-21T23:16:39.989Z"
   },
   {
    "duration": 674,
    "start_time": "2022-11-21T23:16:40.347Z"
   },
   {
    "duration": 742,
    "start_time": "2022-11-21T23:16:41.023Z"
   },
   {
    "duration": 684,
    "start_time": "2022-11-21T23:16:41.767Z"
   },
   {
    "duration": 4,
    "start_time": "2022-11-21T23:16:42.453Z"
   },
   {
    "duration": 35,
    "start_time": "2022-11-21T23:16:42.458Z"
   },
   {
    "duration": 194,
    "start_time": "2022-11-21T23:16:42.494Z"
   },
   {
    "duration": 192,
    "start_time": "2022-11-21T23:16:42.691Z"
   },
   {
    "duration": 96,
    "start_time": "2022-11-21T23:16:42.887Z"
   },
   {
    "duration": 4,
    "start_time": "2022-11-21T23:16:47.333Z"
   },
   {
    "duration": 239,
    "start_time": "2022-11-21T23:17:15.668Z"
   },
   {
    "duration": 4,
    "start_time": "2022-11-21T23:18:32.972Z"
   },
   {
    "duration": 106,
    "start_time": "2022-11-21T23:18:36.228Z"
   },
   {
    "duration": 3,
    "start_time": "2022-11-21T23:18:55.995Z"
   },
   {
    "duration": 17,
    "start_time": "2022-11-21T23:18:57.932Z"
   },
   {
    "duration": 18,
    "start_time": "2022-11-21T23:19:00.003Z"
   },
   {
    "duration": 1227,
    "start_time": "2022-11-21T23:19:27.292Z"
   },
   {
    "duration": 349,
    "start_time": "2022-11-21T23:19:28.520Z"
   },
   {
    "duration": 692,
    "start_time": "2022-11-21T23:19:28.872Z"
   },
   {
    "duration": 765,
    "start_time": "2022-11-21T23:19:29.566Z"
   },
   {
    "duration": 715,
    "start_time": "2022-11-21T23:19:30.333Z"
   },
   {
    "duration": 5,
    "start_time": "2022-11-21T23:19:31.049Z"
   },
   {
    "duration": 50,
    "start_time": "2022-11-21T23:19:31.055Z"
   },
   {
    "duration": 182,
    "start_time": "2022-11-21T23:19:31.107Z"
   },
   {
    "duration": 202,
    "start_time": "2022-11-21T23:19:31.291Z"
   },
   {
    "duration": 85,
    "start_time": "2022-11-21T23:19:31.496Z"
   },
   {
    "duration": 4,
    "start_time": "2022-11-21T23:19:34.356Z"
   },
   {
    "duration": 188,
    "start_time": "2022-11-21T23:19:41.500Z"
   },
   {
    "duration": 101,
    "start_time": "2022-11-21T23:20:34.187Z"
   },
   {
    "duration": 4,
    "start_time": "2022-11-21T23:21:28.941Z"
   },
   {
    "duration": 18,
    "start_time": "2022-11-21T23:21:31.212Z"
   },
   {
    "duration": 1223,
    "start_time": "2022-11-21T23:21:40.928Z"
   },
   {
    "duration": 387,
    "start_time": "2022-11-21T23:21:42.153Z"
   },
   {
    "duration": 749,
    "start_time": "2022-11-21T23:21:42.541Z"
   },
   {
    "duration": 808,
    "start_time": "2022-11-21T23:21:43.292Z"
   },
   {
    "duration": 781,
    "start_time": "2022-11-21T23:21:44.102Z"
   },
   {
    "duration": 4,
    "start_time": "2022-11-21T23:21:44.885Z"
   },
   {
    "duration": 86,
    "start_time": "2022-11-21T23:21:44.891Z"
   },
   {
    "duration": 122,
    "start_time": "2022-11-21T23:21:44.979Z"
   },
   {
    "duration": 115,
    "start_time": "2022-11-21T23:21:45.180Z"
   },
   {
    "duration": 98,
    "start_time": "2022-11-21T23:21:45.380Z"
   },
   {
    "duration": 4,
    "start_time": "2022-11-21T23:21:49.011Z"
   },
   {
    "duration": 223,
    "start_time": "2022-11-21T23:21:51.355Z"
   },
   {
    "duration": 13,
    "start_time": "2022-11-21T23:22:20.275Z"
   },
   {
    "duration": 4,
    "start_time": "2022-11-21T23:23:20.891Z"
   },
   {
    "duration": 1243,
    "start_time": "2022-11-21T23:23:33.789Z"
   },
   {
    "duration": 395,
    "start_time": "2022-11-21T23:23:35.034Z"
   },
   {
    "duration": 778,
    "start_time": "2022-11-21T23:23:35.431Z"
   },
   {
    "duration": 811,
    "start_time": "2022-11-21T23:23:36.211Z"
   },
   {
    "duration": 728,
    "start_time": "2022-11-21T23:23:37.024Z"
   },
   {
    "duration": 4,
    "start_time": "2022-11-21T23:23:37.753Z"
   },
   {
    "duration": 35,
    "start_time": "2022-11-21T23:23:37.759Z"
   },
   {
    "duration": 195,
    "start_time": "2022-11-21T23:23:37.796Z"
   },
   {
    "duration": 191,
    "start_time": "2022-11-21T23:23:37.993Z"
   },
   {
    "duration": 188,
    "start_time": "2022-11-21T23:23:38.187Z"
   },
   {
    "duration": 3,
    "start_time": "2022-11-21T23:23:41.814Z"
   },
   {
    "duration": 170,
    "start_time": "2022-11-21T23:23:49.018Z"
   },
   {
    "duration": 12,
    "start_time": "2022-11-21T23:23:51.683Z"
   },
   {
    "duration": 218,
    "start_time": "2022-11-21T23:23:57.364Z"
   },
   {
    "duration": 220,
    "start_time": "2022-11-21T23:24:02.659Z"
   },
   {
    "duration": 3,
    "start_time": "2022-11-21T23:31:11.909Z"
   },
   {
    "duration": 3,
    "start_time": "2022-11-21T23:31:35.909Z"
   },
   {
    "duration": 3,
    "start_time": "2022-11-21T23:32:29.669Z"
   },
   {
    "duration": 105,
    "start_time": "2022-11-21T23:32:42.893Z"
   },
   {
    "duration": 166,
    "start_time": "2022-11-21T23:32:55.229Z"
   },
   {
    "duration": 47,
    "start_time": "2022-11-21T23:43:37.682Z"
   },
   {
    "duration": 4,
    "start_time": "2022-11-21T23:44:04.489Z"
   },
   {
    "duration": 4,
    "start_time": "2022-11-21T23:44:07.489Z"
   },
   {
    "duration": 4,
    "start_time": "2022-11-21T23:44:59.449Z"
   },
   {
    "duration": 2751,
    "start_time": "2022-11-21T23:45:21.250Z"
   },
   {
    "duration": 4,
    "start_time": "2022-11-21T23:46:04.956Z"
   },
   {
    "duration": 2962,
    "start_time": "2022-11-21T23:46:07.322Z"
   },
   {
    "duration": 9309,
    "start_time": "2022-11-21T23:46:40.322Z"
   },
   {
    "duration": 9,
    "start_time": "2022-11-21T23:54:52.165Z"
   },
   {
    "duration": 1265,
    "start_time": "2022-11-21T23:55:00.559Z"
   },
   {
    "duration": 387,
    "start_time": "2022-11-21T23:55:01.826Z"
   },
   {
    "duration": 762,
    "start_time": "2022-11-21T23:55:02.214Z"
   },
   {
    "duration": 790,
    "start_time": "2022-11-21T23:55:02.979Z"
   },
   {
    "duration": 737,
    "start_time": "2022-11-21T23:55:03.776Z"
   },
   {
    "duration": 5,
    "start_time": "2022-11-21T23:55:04.515Z"
   },
   {
    "duration": 58,
    "start_time": "2022-11-21T23:55:04.522Z"
   },
   {
    "duration": 297,
    "start_time": "2022-11-21T23:55:04.581Z"
   },
   {
    "duration": 114,
    "start_time": "2022-11-21T23:55:04.880Z"
   },
   {
    "duration": 82,
    "start_time": "2022-11-21T23:55:04.997Z"
   },
   {
    "duration": 104,
    "start_time": "2022-11-21T23:55:05.081Z"
   },
   {
    "duration": 3,
    "start_time": "2022-11-21T23:55:06.861Z"
   },
   {
    "duration": 164,
    "start_time": "2022-11-21T23:55:09.421Z"
   },
   {
    "duration": 4,
    "start_time": "2022-11-21T23:55:12.254Z"
   },
   {
    "duration": 3052,
    "start_time": "2022-11-21T23:55:16.517Z"
   },
   {
    "duration": 7,
    "start_time": "2022-11-22T00:00:09.638Z"
   },
   {
    "duration": 3099,
    "start_time": "2022-11-22T00:00:11.910Z"
   },
   {
    "duration": 4,
    "start_time": "2022-11-22T00:00:58.335Z"
   },
   {
    "duration": 3100,
    "start_time": "2022-11-22T00:01:05.287Z"
   },
   {
    "duration": 4,
    "start_time": "2022-11-22T00:04:13.032Z"
   },
   {
    "duration": 2853,
    "start_time": "2022-11-22T00:04:16.960Z"
   },
   {
    "duration": 5,
    "start_time": "2022-11-22T00:06:38.664Z"
   },
   {
    "duration": 3180,
    "start_time": "2022-11-22T00:06:52.104Z"
   },
   {
    "duration": 4,
    "start_time": "2022-11-22T00:07:34.850Z"
   },
   {
    "duration": 5,
    "start_time": "2022-11-22T00:07:45.784Z"
   },
   {
    "duration": 3181,
    "start_time": "2022-11-22T00:07:48.041Z"
   },
   {
    "duration": 1279,
    "start_time": "2022-11-22T00:10:31.897Z"
   },
   {
    "duration": 352,
    "start_time": "2022-11-22T00:10:33.178Z"
   },
   {
    "duration": 766,
    "start_time": "2022-11-22T00:10:33.532Z"
   },
   {
    "duration": 829,
    "start_time": "2022-11-22T00:10:34.301Z"
   },
   {
    "duration": 781,
    "start_time": "2022-11-22T00:10:35.132Z"
   },
   {
    "duration": 5,
    "start_time": "2022-11-22T00:10:35.915Z"
   },
   {
    "duration": 59,
    "start_time": "2022-11-22T00:10:35.922Z"
   },
   {
    "duration": 118,
    "start_time": "2022-11-22T00:10:35.982Z"
   },
   {
    "duration": 114,
    "start_time": "2022-11-22T00:10:36.178Z"
   },
   {
    "duration": 85,
    "start_time": "2022-11-22T00:10:36.296Z"
   },
   {
    "duration": 95,
    "start_time": "2022-11-22T00:10:36.383Z"
   },
   {
    "duration": 11,
    "start_time": "2022-11-22T00:10:36.479Z"
   },
   {
    "duration": 206,
    "start_time": "2022-11-22T00:10:36.491Z"
   },
   {
    "duration": 5,
    "start_time": "2022-11-22T00:10:36.699Z"
   },
   {
    "duration": 3121,
    "start_time": "2022-11-22T00:10:48.610Z"
   },
   {
    "duration": 5,
    "start_time": "2022-11-22T00:11:00.730Z"
   },
   {
    "duration": 3321,
    "start_time": "2022-11-22T00:11:04.250Z"
   },
   {
    "duration": 4,
    "start_time": "2022-11-22T00:11:15.194Z"
   },
   {
    "duration": 5,
    "start_time": "2022-11-22T00:11:29.210Z"
   },
   {
    "duration": 2933,
    "start_time": "2022-11-22T00:11:31.395Z"
   },
   {
    "duration": 5,
    "start_time": "2022-11-22T00:11:55.402Z"
   },
   {
    "duration": 3036,
    "start_time": "2022-11-22T00:11:57.242Z"
   },
   {
    "duration": 2963,
    "start_time": "2022-11-22T00:12:16.514Z"
   },
   {
    "duration": 3139,
    "start_time": "2022-11-22T00:12:50.738Z"
   },
   {
    "duration": 4,
    "start_time": "2022-11-22T00:20:25.037Z"
   },
   {
    "duration": 14201,
    "start_time": "2022-11-22T00:20:30.844Z"
   },
   {
    "duration": 45,
    "start_time": "2022-11-22T00:23:44.294Z"
   },
   {
    "duration": 6,
    "start_time": "2022-11-22T00:28:56.287Z"
   },
   {
    "duration": 1232,
    "start_time": "2022-11-22T00:29:03.629Z"
   },
   {
    "duration": 339,
    "start_time": "2022-11-22T00:29:04.863Z"
   },
   {
    "duration": 714,
    "start_time": "2022-11-22T00:29:05.204Z"
   },
   {
    "duration": 729,
    "start_time": "2022-11-22T00:29:05.920Z"
   },
   {
    "duration": 695,
    "start_time": "2022-11-22T00:29:06.650Z"
   },
   {
    "duration": 5,
    "start_time": "2022-11-22T00:29:07.346Z"
   },
   {
    "duration": 40,
    "start_time": "2022-11-22T00:29:07.352Z"
   },
   {
    "duration": 192,
    "start_time": "2022-11-22T00:29:07.394Z"
   },
   {
    "duration": 196,
    "start_time": "2022-11-22T00:29:07.588Z"
   },
   {
    "duration": 92,
    "start_time": "2022-11-22T00:29:07.787Z"
   },
   {
    "duration": 101,
    "start_time": "2022-11-22T00:29:07.881Z"
   },
   {
    "duration": 17,
    "start_time": "2022-11-22T00:29:07.984Z"
   },
   {
    "duration": 9,
    "start_time": "2022-11-22T00:29:08.002Z"
   },
   {
    "duration": 2964,
    "start_time": "2022-11-22T00:31:26.903Z"
   },
   {
    "duration": 2999,
    "start_time": "2022-11-22T00:31:33.503Z"
   },
   {
    "duration": 3157,
    "start_time": "2022-11-22T00:31:39.479Z"
   },
   {
    "duration": 4,
    "start_time": "2022-11-22T00:44:56.746Z"
   },
   {
    "duration": 4,
    "start_time": "2022-11-22T00:45:00.594Z"
   },
   {
    "duration": 22,
    "start_time": "2022-11-22T00:45:43.941Z"
   },
   {
    "duration": 5,
    "start_time": "2022-11-22T00:52:56.171Z"
   },
   {
    "duration": 2896,
    "start_time": "2022-11-22T00:52:59.314Z"
   },
   {
    "duration": 3146,
    "start_time": "2022-11-22T01:03:14.477Z"
   },
   {
    "duration": 63,
    "start_time": "2022-11-22T01:22:18.563Z"
   },
   {
    "duration": 5,
    "start_time": "2022-11-22T01:22:24.745Z"
   },
   {
    "duration": 125,
    "start_time": "2022-11-22T01:22:41.082Z"
   },
   {
    "duration": 131,
    "start_time": "2022-11-22T01:23:08.170Z"
   },
   {
    "duration": 143,
    "start_time": "2022-11-22T01:23:17.524Z"
   },
   {
    "duration": 1496,
    "start_time": "2022-11-22T12:50:06.950Z"
   },
   {
    "duration": 20,
    "start_time": "2022-11-22T12:50:30.611Z"
   },
   {
    "duration": 5,
    "start_time": "2022-11-22T12:52:34.098Z"
   },
   {
    "duration": 5,
    "start_time": "2022-11-22T12:54:36.298Z"
   },
   {
    "duration": 13,
    "start_time": "2022-11-22T12:54:51.378Z"
   },
   {
    "duration": 3,
    "start_time": "2022-11-22T12:55:02.024Z"
   },
   {
    "duration": 884,
    "start_time": "2022-11-22T12:55:02.033Z"
   },
   {
    "duration": 865,
    "start_time": "2022-11-22T12:55:02.919Z"
   },
   {
    "duration": 761,
    "start_time": "2022-11-22T12:55:03.786Z"
   },
   {
    "duration": 931,
    "start_time": "2022-11-22T12:55:04.549Z"
   },
   {
    "duration": 149,
    "start_time": "2022-11-22T12:55:53.227Z"
   },
   {
    "duration": 168,
    "start_time": "2022-11-22T12:56:16.218Z"
   },
   {
    "duration": 5,
    "start_time": "2022-11-22T12:57:04.613Z"
   },
   {
    "duration": 34,
    "start_time": "2022-11-22T12:57:07.396Z"
   },
   {
    "duration": 29,
    "start_time": "2022-11-22T12:57:16.195Z"
   },
   {
    "duration": 26,
    "start_time": "2022-11-22T12:57:20.379Z"
   },
   {
    "duration": 5,
    "start_time": "2022-11-22T13:00:21.774Z"
   },
   {
    "duration": 3,
    "start_time": "2022-11-22T13:06:29.218Z"
   },
   {
    "duration": 351,
    "start_time": "2022-11-22T13:06:29.225Z"
   },
   {
    "duration": 797,
    "start_time": "2022-11-22T13:06:29.578Z"
   },
   {
    "duration": 868,
    "start_time": "2022-11-22T13:06:30.377Z"
   },
   {
    "duration": 722,
    "start_time": "2022-11-22T13:06:31.246Z"
   },
   {
    "duration": 5,
    "start_time": "2022-11-22T13:06:31.970Z"
   },
   {
    "duration": 58,
    "start_time": "2022-11-22T13:06:31.977Z"
   },
   {
    "duration": 196,
    "start_time": "2022-11-22T13:06:32.040Z"
   },
   {
    "duration": 114,
    "start_time": "2022-11-22T13:06:32.240Z"
   },
   {
    "duration": 353,
    "start_time": "2022-11-22T13:06:32.356Z"
   },
   {
    "duration": 4,
    "start_time": "2022-11-22T13:06:32.711Z"
   },
   {
    "duration": 19,
    "start_time": "2022-11-22T13:06:32.716Z"
   },
   {
    "duration": 2,
    "start_time": "2022-11-22T13:06:32.737Z"
   },
   {
    "duration": 6,
    "start_time": "2022-11-22T13:06:36.677Z"
   },
   {
    "duration": 3225,
    "start_time": "2022-11-22T13:06:41.412Z"
   },
   {
    "duration": 3166,
    "start_time": "2022-11-22T13:06:58.926Z"
   },
   {
    "duration": 3394,
    "start_time": "2022-11-22T13:07:18.582Z"
   },
   {
    "duration": 3096,
    "start_time": "2022-11-22T13:07:41.989Z"
   }
  ],
  "kernelspec": {
   "display_name": "Python 3 (ipykernel)",
   "language": "python",
   "name": "python3"
  },
  "language_info": {
   "codemirror_mode": {
    "name": "ipython",
    "version": 3
   },
   "file_extension": ".py",
   "mimetype": "text/x-python",
   "name": "python",
   "nbconvert_exporter": "python",
   "pygments_lexer": "ipython3",
   "version": "3.9.5"
  },
  "toc": {
   "base_numbering": 1,
   "nav_menu": {},
   "number_sections": true,
   "sideBar": true,
   "skip_h1_title": true,
   "title_cell": "Table of Contents",
   "title_sidebar": "Contents",
   "toc_cell": false,
   "toc_position": {
    "height": "calc(100% - 180px)",
    "left": "10px",
    "top": "150px",
    "width": "255.391px"
   },
   "toc_section_display": true,
   "toc_window_display": false
  }
 },
 "nbformat": 4,
 "nbformat_minor": 2
}
