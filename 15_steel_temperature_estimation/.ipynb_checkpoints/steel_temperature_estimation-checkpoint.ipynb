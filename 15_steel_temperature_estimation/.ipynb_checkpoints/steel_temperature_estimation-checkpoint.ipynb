{
 "cells": [
  {
   "cell_type": "markdown",
   "id": "81144cbb",
   "metadata": {},
   "source": [
    "## Описание проекта\n",
    "\n",
    "Заказчик проекта - металлургический комбинат. Необходимо построить модель машинного обучения, способную предсказать температуру расплавленной стали перед разливкой в формы. Полученная информация будет использована заказчиком в целях экономии электроэнергии и материалов.\n",
    "\n",
    "\n",
    "### Цель и задачи работы\n",
    "- Цель: построить модель машинного обучения, предсказывающую температуру стали перед разливкой. Метрика MAE не должна превышать 6.8 градусов.\n",
    "\n",
    "- Задачи работы:\n",
    "    - изучить предоставленные данные;\n",
    "    - провести предварительную обработку и объединение данных;\n",
    "    - выявить в данных обучающие признаки для ML и целевой признак;\n",
    "    - обучить ряд моделей ML;\n",
    "    - выбрать и протестировать лучшую модель.\n",
    "\n",
    "\n"
   ]
  },
  {
   "cell_type": "markdown",
   "id": "3a1bdb18",
   "metadata": {},
   "source": [
    "### Описание данных\n",
    "\n",
    "Для работы предоставлены данные:\n",
    "\n",
    "- `data_arc.csv` — данные об электродах;\n",
    "- `data_bulk.csv` — данные о подаче сыпучих материалов (объём);\n",
    "- `data_bulk_time.csv` *—* данные о подаче сыпучих материалов (время);\n",
    "- `data_gas.csv` — данные о продувке сплава газом;\n",
    "- `data_temp.csv` — результаты измерения температуры;\n",
    "- `data_wire.csv` — данные о проволочных материалах (объём);\n",
    "- `data_wire_time.csv` *-* данные о времени подачи проволочных материалов.\n",
    "\n"
   ]
  },
  {
   "cell_type": "markdown",
   "id": "8e11343f",
   "metadata": {},
   "source": [
    "## Загрузка и осмотр датасета"
   ]
  },
  {
   "cell_type": "markdown",
   "id": "afc59073",
   "metadata": {},
   "source": [
    "### Импорт библиотек"
   ]
  },
  {
   "cell_type": "code",
   "execution_count": 1,
   "id": "7eb15b67",
   "metadata": {},
   "outputs": [],
   "source": [
    "import pandas as pd\n",
    "import numpy as np\n",
    "import matplotlib.pyplot as plt\n",
    "\n",
    "from sklearn.model_selection import train_test_split, GridSearchCV\n",
    "from sklearn.preprocessing import StandardScaler\n",
    "from sklearn.metrics import mean_absolute_error\n",
    "from sklearn.pipeline import Pipeline\n",
    "from sklearn.ensemble import RandomForestRegressor\n",
    "from sklearn.svm import SVR, LinearSVR\n",
    "from sklearn.inspection import permutation_importance\n",
    "\n",
    "from lightgbm import LGBMRegressor\n",
    "\n"
   ]
  },
  {
   "cell_type": "markdown",
   "id": "10cde73f",
   "metadata": {},
   "source": [
    "### Загрузка таблиц"
   ]
  },
  {
   "cell_type": "code",
   "execution_count": 2,
   "id": "572cb80d",
   "metadata": {},
   "outputs": [],
   "source": [
    "data_arc = pd.read_csv('/datasets/final_steel/data_arc.csv')\n",
    "data_bulk = pd.read_csv('/datasets/final_steel/data_bulk.csv')\n",
    "data_bulk_time = pd.read_csv('/datasets/final_steel/data_bulk_time.csv')\n",
    "data_gas = pd.read_csv('/datasets/final_steel/data_gas.csv')\n",
    "data_temp = pd.read_csv('/datasets/final_steel/data_temp.csv')\n",
    "data_wire = pd.read_csv('/datasets/final_steel/data_wire.csv')\n",
    "data_wire_time = pd.read_csv('/datasets/final_steel/data_wire_time.csv')"
   ]
  },
  {
   "cell_type": "code",
   "execution_count": 3,
   "id": "53adf4a7",
   "metadata": {},
   "outputs": [],
   "source": [
    "list = [['data_arc', data_arc],\n",
    "        ['data_bulk', data_bulk],\n",
    "        ['data_bulk_time', data_bulk_time],\n",
    "        ['data_gas', data_gas],\n",
    "        ['data_temp', data_temp],\n",
    "        ['data_wire', data_wire],\n",
    "        ['data_wire_time', data_wire_time]]"
   ]
  },
  {
   "cell_type": "code",
   "execution_count": 4,
   "id": "728e3c55",
   "metadata": {
    "scrolled": false
   },
   "outputs": [
    {
     "name": "stdout",
     "output_type": "stream",
     "text": [
      "\u001b[1mDataframe name: data_arc\n",
      "\u001b[1m\n",
      "\n",
      "data_arc head:\n"
     ]
    },
    {
     "data": {
      "text/html": [
       "<div>\n",
       "<style scoped>\n",
       "    .dataframe tbody tr th:only-of-type {\n",
       "        vertical-align: middle;\n",
       "    }\n",
       "\n",
       "    .dataframe tbody tr th {\n",
       "        vertical-align: top;\n",
       "    }\n",
       "\n",
       "    .dataframe thead th {\n",
       "        text-align: right;\n",
       "    }\n",
       "</style>\n",
       "<table border=\"1\" class=\"dataframe\">\n",
       "  <thead>\n",
       "    <tr style=\"text-align: right;\">\n",
       "      <th></th>\n",
       "      <th>key</th>\n",
       "      <th>Начало нагрева дугой</th>\n",
       "      <th>Конец нагрева дугой</th>\n",
       "      <th>Активная мощность</th>\n",
       "      <th>Реактивная мощность</th>\n",
       "    </tr>\n",
       "  </thead>\n",
       "  <tbody>\n",
       "    <tr>\n",
       "      <th>0</th>\n",
       "      <td>1</td>\n",
       "      <td>2019-05-03 11:02:14</td>\n",
       "      <td>2019-05-03 11:06:02</td>\n",
       "      <td>0.976059</td>\n",
       "      <td>0.687084</td>\n",
       "    </tr>\n",
       "    <tr>\n",
       "      <th>1</th>\n",
       "      <td>1</td>\n",
       "      <td>2019-05-03 11:07:28</td>\n",
       "      <td>2019-05-03 11:10:33</td>\n",
       "      <td>0.805607</td>\n",
       "      <td>0.520285</td>\n",
       "    </tr>\n",
       "    <tr>\n",
       "      <th>2</th>\n",
       "      <td>1</td>\n",
       "      <td>2019-05-03 11:11:44</td>\n",
       "      <td>2019-05-03 11:14:36</td>\n",
       "      <td>0.744363</td>\n",
       "      <td>0.498805</td>\n",
       "    </tr>\n",
       "    <tr>\n",
       "      <th>3</th>\n",
       "      <td>1</td>\n",
       "      <td>2019-05-03 11:18:14</td>\n",
       "      <td>2019-05-03 11:24:19</td>\n",
       "      <td>1.659363</td>\n",
       "      <td>1.062669</td>\n",
       "    </tr>\n",
       "    <tr>\n",
       "      <th>4</th>\n",
       "      <td>1</td>\n",
       "      <td>2019-05-03 11:26:09</td>\n",
       "      <td>2019-05-03 11:28:37</td>\n",
       "      <td>0.692755</td>\n",
       "      <td>0.414397</td>\n",
       "    </tr>\n",
       "  </tbody>\n",
       "</table>\n",
       "</div>"
      ],
      "text/plain": [
       "   key Начало нагрева дугой  Конец нагрева дугой  Активная мощность  \\\n",
       "0    1  2019-05-03 11:02:14  2019-05-03 11:06:02           0.976059   \n",
       "1    1  2019-05-03 11:07:28  2019-05-03 11:10:33           0.805607   \n",
       "2    1  2019-05-03 11:11:44  2019-05-03 11:14:36           0.744363   \n",
       "3    1  2019-05-03 11:18:14  2019-05-03 11:24:19           1.659363   \n",
       "4    1  2019-05-03 11:26:09  2019-05-03 11:28:37           0.692755   \n",
       "\n",
       "   Реактивная мощность  \n",
       "0             0.687084  \n",
       "1             0.520285  \n",
       "2             0.498805  \n",
       "3             1.062669  \n",
       "4             0.414397  "
      ]
     },
     "metadata": {},
     "output_type": "display_data"
    },
    {
     "name": "stdout",
     "output_type": "stream",
     "text": [
      "\u001b[1m\n",
      "\n",
      "data_arc info:\u001b[0m\n",
      "<class 'pandas.core.frame.DataFrame'>\n",
      "RangeIndex: 14876 entries, 0 to 14875\n",
      "Data columns (total 5 columns):\n",
      " #   Column                Non-Null Count  Dtype  \n",
      "---  ------                --------------  -----  \n",
      " 0   key                   14876 non-null  int64  \n",
      " 1   Начало нагрева дугой  14876 non-null  object \n",
      " 2   Конец нагрева дугой   14876 non-null  object \n",
      " 3   Активная мощность     14876 non-null  float64\n",
      " 4   Реактивная мощность   14876 non-null  float64\n",
      "dtypes: float64(2), int64(1), object(2)\n",
      "memory usage: 581.2+ KB\n",
      "\u001b[1m\n",
      "\n",
      "data_arc stats:\u001b[0m\n"
     ]
    },
    {
     "data": {
      "text/html": [
       "<div>\n",
       "<style scoped>\n",
       "    .dataframe tbody tr th:only-of-type {\n",
       "        vertical-align: middle;\n",
       "    }\n",
       "\n",
       "    .dataframe tbody tr th {\n",
       "        vertical-align: top;\n",
       "    }\n",
       "\n",
       "    .dataframe thead th {\n",
       "        text-align: right;\n",
       "    }\n",
       "</style>\n",
       "<table border=\"1\" class=\"dataframe\">\n",
       "  <thead>\n",
       "    <tr style=\"text-align: right;\">\n",
       "      <th></th>\n",
       "      <th>key</th>\n",
       "      <th>Активная мощность</th>\n",
       "      <th>Реактивная мощность</th>\n",
       "    </tr>\n",
       "  </thead>\n",
       "  <tbody>\n",
       "    <tr>\n",
       "      <th>count</th>\n",
       "      <td>14876.000000</td>\n",
       "      <td>14876.000000</td>\n",
       "      <td>14876.000000</td>\n",
       "    </tr>\n",
       "    <tr>\n",
       "      <th>mean</th>\n",
       "      <td>1615.220422</td>\n",
       "      <td>0.670441</td>\n",
       "      <td>0.452592</td>\n",
       "    </tr>\n",
       "    <tr>\n",
       "      <th>std</th>\n",
       "      <td>934.571502</td>\n",
       "      <td>0.408159</td>\n",
       "      <td>5.878702</td>\n",
       "    </tr>\n",
       "    <tr>\n",
       "      <th>min</th>\n",
       "      <td>1.000000</td>\n",
       "      <td>0.030002</td>\n",
       "      <td>-715.504924</td>\n",
       "    </tr>\n",
       "    <tr>\n",
       "      <th>25%</th>\n",
       "      <td>806.000000</td>\n",
       "      <td>0.395297</td>\n",
       "      <td>0.290991</td>\n",
       "    </tr>\n",
       "    <tr>\n",
       "      <th>50%</th>\n",
       "      <td>1617.000000</td>\n",
       "      <td>0.555517</td>\n",
       "      <td>0.415962</td>\n",
       "    </tr>\n",
       "    <tr>\n",
       "      <th>75%</th>\n",
       "      <td>2429.000000</td>\n",
       "      <td>0.857034</td>\n",
       "      <td>0.637371</td>\n",
       "    </tr>\n",
       "    <tr>\n",
       "      <th>max</th>\n",
       "      <td>3241.000000</td>\n",
       "      <td>3.731596</td>\n",
       "      <td>2.676388</td>\n",
       "    </tr>\n",
       "  </tbody>\n",
       "</table>\n",
       "</div>"
      ],
      "text/plain": [
       "                key  Активная мощность  Реактивная мощность\n",
       "count  14876.000000       14876.000000         14876.000000\n",
       "mean    1615.220422           0.670441             0.452592\n",
       "std      934.571502           0.408159             5.878702\n",
       "min        1.000000           0.030002          -715.504924\n",
       "25%      806.000000           0.395297             0.290991\n",
       "50%     1617.000000           0.555517             0.415962\n",
       "75%     2429.000000           0.857034             0.637371\n",
       "max     3241.000000           3.731596             2.676388"
      ]
     },
     "metadata": {},
     "output_type": "display_data"
    },
    {
     "name": "stdout",
     "output_type": "stream",
     "text": [
      "\u001b[1m\n",
      "\n",
      " Duplicates in data_arc:\u001b[0m\n",
      "0\n",
      "\u001b[1m\n",
      "\n",
      "Missing values in data_arc:\u001b[0m\n",
      "key                     0\n",
      "Начало нагрева дугой    0\n",
      "Конец нагрева дугой     0\n",
      "Активная мощность       0\n",
      "Реактивная мощность     0\n",
      "dtype: int64\n",
      "\u001b[1m\n",
      "\n",
      "Histograms of data_arc:\u001b[0m\n"
     ]
    },
    {
     "data": {
      "image/png": "[encoded data removed]",
      "text/plain": [
       "<Figure size 936x1080 with 4 Axes>"
      ]
     },
     "metadata": {
      "needs_background": "light"
     },
     "output_type": "display_data"
    },
    {
     "name": "stdout",
     "output_type": "stream",
     "text": [
      "\u001b[1mDataframe name: data_bulk\n",
      "\u001b[1m\n",
      "\n",
      "data_bulk head:\n"
     ]
    },
    {
     "data": {
      "text/html": [
       "<div>\n",
       "<style scoped>\n",
       "    .dataframe tbody tr th:only-of-type {\n",
       "        vertical-align: middle;\n",
       "    }\n",
       "\n",
       "    .dataframe tbody tr th {\n",
       "        vertical-align: top;\n",
       "    }\n",
       "\n",
       "    .dataframe thead th {\n",
       "        text-align: right;\n",
       "    }\n",
       "</style>\n",
       "<table border=\"1\" class=\"dataframe\">\n",
       "  <thead>\n",
       "    <tr style=\"text-align: right;\">\n",
       "      <th></th>\n",
       "      <th>key</th>\n",
       "      <th>Bulk 1</th>\n",
       "      <th>Bulk 2</th>\n",
       "      <th>Bulk 3</th>\n",
       "      <th>Bulk 4</th>\n",
       "      <th>Bulk 5</th>\n",
       "      <th>Bulk 6</th>\n",
       "      <th>Bulk 7</th>\n",
       "      <th>Bulk 8</th>\n",
       "      <th>Bulk 9</th>\n",
       "      <th>Bulk 10</th>\n",
       "      <th>Bulk 11</th>\n",
       "      <th>Bulk 12</th>\n",
       "      <th>Bulk 13</th>\n",
       "      <th>Bulk 14</th>\n",
       "      <th>Bulk 15</th>\n",
       "    </tr>\n",
       "  </thead>\n",
       "  <tbody>\n",
       "    <tr>\n",
       "      <th>0</th>\n",
       "      <td>1</td>\n",
       "      <td>NaN</td>\n",
       "      <td>NaN</td>\n",
       "      <td>NaN</td>\n",
       "      <td>43.0</td>\n",
       "      <td>NaN</td>\n",
       "      <td>NaN</td>\n",
       "      <td>NaN</td>\n",
       "      <td>NaN</td>\n",
       "      <td>NaN</td>\n",
       "      <td>NaN</td>\n",
       "      <td>NaN</td>\n",
       "      <td>206.0</td>\n",
       "      <td>NaN</td>\n",
       "      <td>150.0</td>\n",
       "      <td>154.0</td>\n",
       "    </tr>\n",
       "    <tr>\n",
       "      <th>1</th>\n",
       "      <td>2</td>\n",
       "      <td>NaN</td>\n",
       "      <td>NaN</td>\n",
       "      <td>NaN</td>\n",
       "      <td>73.0</td>\n",
       "      <td>NaN</td>\n",
       "      <td>NaN</td>\n",
       "      <td>NaN</td>\n",
       "      <td>NaN</td>\n",
       "      <td>NaN</td>\n",
       "      <td>NaN</td>\n",
       "      <td>NaN</td>\n",
       "      <td>206.0</td>\n",
       "      <td>NaN</td>\n",
       "      <td>149.0</td>\n",
       "      <td>154.0</td>\n",
       "    </tr>\n",
       "    <tr>\n",
       "      <th>2</th>\n",
       "      <td>3</td>\n",
       "      <td>NaN</td>\n",
       "      <td>NaN</td>\n",
       "      <td>NaN</td>\n",
       "      <td>34.0</td>\n",
       "      <td>NaN</td>\n",
       "      <td>NaN</td>\n",
       "      <td>NaN</td>\n",
       "      <td>NaN</td>\n",
       "      <td>NaN</td>\n",
       "      <td>NaN</td>\n",
       "      <td>NaN</td>\n",
       "      <td>205.0</td>\n",
       "      <td>NaN</td>\n",
       "      <td>152.0</td>\n",
       "      <td>153.0</td>\n",
       "    </tr>\n",
       "    <tr>\n",
       "      <th>3</th>\n",
       "      <td>4</td>\n",
       "      <td>NaN</td>\n",
       "      <td>NaN</td>\n",
       "      <td>NaN</td>\n",
       "      <td>81.0</td>\n",
       "      <td>NaN</td>\n",
       "      <td>NaN</td>\n",
       "      <td>NaN</td>\n",
       "      <td>NaN</td>\n",
       "      <td>NaN</td>\n",
       "      <td>NaN</td>\n",
       "      <td>NaN</td>\n",
       "      <td>207.0</td>\n",
       "      <td>NaN</td>\n",
       "      <td>153.0</td>\n",
       "      <td>154.0</td>\n",
       "    </tr>\n",
       "    <tr>\n",
       "      <th>4</th>\n",
       "      <td>5</td>\n",
       "      <td>NaN</td>\n",
       "      <td>NaN</td>\n",
       "      <td>NaN</td>\n",
       "      <td>78.0</td>\n",
       "      <td>NaN</td>\n",
       "      <td>NaN</td>\n",
       "      <td>NaN</td>\n",
       "      <td>NaN</td>\n",
       "      <td>NaN</td>\n",
       "      <td>NaN</td>\n",
       "      <td>NaN</td>\n",
       "      <td>203.0</td>\n",
       "      <td>NaN</td>\n",
       "      <td>151.0</td>\n",
       "      <td>152.0</td>\n",
       "    </tr>\n",
       "  </tbody>\n",
       "</table>\n",
       "</div>"
      ],
      "text/plain": [
       "   key  Bulk 1  Bulk 2  Bulk 3  Bulk 4  Bulk 5  Bulk 6  Bulk 7  Bulk 8  \\\n",
       "0    1     NaN     NaN     NaN    43.0     NaN     NaN     NaN     NaN   \n",
       "1    2     NaN     NaN     NaN    73.0     NaN     NaN     NaN     NaN   \n",
       "2    3     NaN     NaN     NaN    34.0     NaN     NaN     NaN     NaN   \n",
       "3    4     NaN     NaN     NaN    81.0     NaN     NaN     NaN     NaN   \n",
       "4    5     NaN     NaN     NaN    78.0     NaN     NaN     NaN     NaN   \n",
       "\n",
       "   Bulk 9  Bulk 10  Bulk 11  Bulk 12  Bulk 13  Bulk 14  Bulk 15  \n",
       "0     NaN      NaN      NaN    206.0      NaN    150.0    154.0  \n",
       "1     NaN      NaN      NaN    206.0      NaN    149.0    154.0  \n",
       "2     NaN      NaN      NaN    205.0      NaN    152.0    153.0  \n",
       "3     NaN      NaN      NaN    207.0      NaN    153.0    154.0  \n",
       "4     NaN      NaN      NaN    203.0      NaN    151.0    152.0  "
      ]
     },
     "metadata": {},
     "output_type": "display_data"
    },
    {
     "name": "stdout",
     "output_type": "stream",
     "text": [
      "\u001b[1m\n",
      "\n",
      "data_bulk info:\u001b[0m\n",
      "<class 'pandas.core.frame.DataFrame'>\n",
      "RangeIndex: 3129 entries, 0 to 3128\n",
      "Data columns (total 16 columns):\n",
      " #   Column   Non-Null Count  Dtype  \n",
      "---  ------   --------------  -----  \n",
      " 0   key      3129 non-null   int64  \n",
      " 1   Bulk 1   252 non-null    float64\n",
      " 2   Bulk 2   22 non-null     float64\n",
      " 3   Bulk 3   1298 non-null   float64\n",
      " 4   Bulk 4   1014 non-null   float64\n",
      " 5   Bulk 5   77 non-null     float64\n",
      " 6   Bulk 6   576 non-null    float64\n",
      " 7   Bulk 7   25 non-null     float64\n",
      " 8   Bulk 8   1 non-null      float64\n",
      " 9   Bulk 9   19 non-null     float64\n",
      " 10  Bulk 10  176 non-null    float64\n",
      " 11  Bulk 11  177 non-null    float64\n",
      " 12  Bulk 12  2450 non-null   float64\n",
      " 13  Bulk 13  18 non-null     float64\n",
      " 14  Bulk 14  2806 non-null   float64\n",
      " 15  Bulk 15  2248 non-null   float64\n",
      "dtypes: float64(15), int64(1)\n",
      "memory usage: 391.2 KB\n",
      "\u001b[1m\n",
      "\n",
      "data_bulk stats:\u001b[0m\n"
     ]
    },
    {
     "data": {
      "text/html": [
       "<div>\n",
       "<style scoped>\n",
       "    .dataframe tbody tr th:only-of-type {\n",
       "        vertical-align: middle;\n",
       "    }\n",
       "\n",
       "    .dataframe tbody tr th {\n",
       "        vertical-align: top;\n",
       "    }\n",
       "\n",
       "    .dataframe thead th {\n",
       "        text-align: right;\n",
       "    }\n",
       "</style>\n",
       "<table border=\"1\" class=\"dataframe\">\n",
       "  <thead>\n",
       "    <tr style=\"text-align: right;\">\n",
       "      <th></th>\n",
       "      <th>key</th>\n",
       "      <th>Bulk 1</th>\n",
       "      <th>Bulk 2</th>\n",
       "      <th>Bulk 3</th>\n",
       "      <th>Bulk 4</th>\n",
       "      <th>Bulk 5</th>\n",
       "      <th>Bulk 6</th>\n",
       "      <th>Bulk 7</th>\n",
       "      <th>Bulk 8</th>\n",
       "      <th>Bulk 9</th>\n",
       "      <th>Bulk 10</th>\n",
       "      <th>Bulk 11</th>\n",
       "      <th>Bulk 12</th>\n",
       "      <th>Bulk 13</th>\n",
       "      <th>Bulk 14</th>\n",
       "      <th>Bulk 15</th>\n",
       "    </tr>\n",
       "  </thead>\n",
       "  <tbody>\n",
       "    <tr>\n",
       "      <th>count</th>\n",
       "      <td>3129.000000</td>\n",
       "      <td>252.000000</td>\n",
       "      <td>22.000000</td>\n",
       "      <td>1298.000000</td>\n",
       "      <td>1014.000000</td>\n",
       "      <td>77.000000</td>\n",
       "      <td>576.000000</td>\n",
       "      <td>25.000000</td>\n",
       "      <td>1.0</td>\n",
       "      <td>19.000000</td>\n",
       "      <td>176.000000</td>\n",
       "      <td>177.000000</td>\n",
       "      <td>2450.000000</td>\n",
       "      <td>18.000000</td>\n",
       "      <td>2806.000000</td>\n",
       "      <td>2248.000000</td>\n",
       "    </tr>\n",
       "    <tr>\n",
       "      <th>mean</th>\n",
       "      <td>1624.383509</td>\n",
       "      <td>39.242063</td>\n",
       "      <td>253.045455</td>\n",
       "      <td>113.879045</td>\n",
       "      <td>104.394477</td>\n",
       "      <td>107.025974</td>\n",
       "      <td>118.925347</td>\n",
       "      <td>305.600000</td>\n",
       "      <td>49.0</td>\n",
       "      <td>76.315789</td>\n",
       "      <td>83.284091</td>\n",
       "      <td>76.819209</td>\n",
       "      <td>260.471020</td>\n",
       "      <td>181.111111</td>\n",
       "      <td>170.284747</td>\n",
       "      <td>160.513345</td>\n",
       "    </tr>\n",
       "    <tr>\n",
       "      <th>std</th>\n",
       "      <td>933.337642</td>\n",
       "      <td>18.277654</td>\n",
       "      <td>21.180578</td>\n",
       "      <td>75.483494</td>\n",
       "      <td>48.184126</td>\n",
       "      <td>81.790646</td>\n",
       "      <td>72.057776</td>\n",
       "      <td>191.022904</td>\n",
       "      <td>NaN</td>\n",
       "      <td>21.720581</td>\n",
       "      <td>26.060347</td>\n",
       "      <td>59.655365</td>\n",
       "      <td>120.649269</td>\n",
       "      <td>46.088009</td>\n",
       "      <td>65.868652</td>\n",
       "      <td>51.765319</td>\n",
       "    </tr>\n",
       "    <tr>\n",
       "      <th>min</th>\n",
       "      <td>1.000000</td>\n",
       "      <td>10.000000</td>\n",
       "      <td>228.000000</td>\n",
       "      <td>6.000000</td>\n",
       "      <td>12.000000</td>\n",
       "      <td>11.000000</td>\n",
       "      <td>17.000000</td>\n",
       "      <td>47.000000</td>\n",
       "      <td>49.0</td>\n",
       "      <td>63.000000</td>\n",
       "      <td>24.000000</td>\n",
       "      <td>8.000000</td>\n",
       "      <td>53.000000</td>\n",
       "      <td>151.000000</td>\n",
       "      <td>16.000000</td>\n",
       "      <td>1.000000</td>\n",
       "    </tr>\n",
       "    <tr>\n",
       "      <th>25%</th>\n",
       "      <td>816.000000</td>\n",
       "      <td>27.000000</td>\n",
       "      <td>242.000000</td>\n",
       "      <td>58.000000</td>\n",
       "      <td>72.000000</td>\n",
       "      <td>70.000000</td>\n",
       "      <td>69.750000</td>\n",
       "      <td>155.000000</td>\n",
       "      <td>49.0</td>\n",
       "      <td>66.000000</td>\n",
       "      <td>64.000000</td>\n",
       "      <td>25.000000</td>\n",
       "      <td>204.000000</td>\n",
       "      <td>153.250000</td>\n",
       "      <td>119.000000</td>\n",
       "      <td>105.000000</td>\n",
       "    </tr>\n",
       "    <tr>\n",
       "      <th>50%</th>\n",
       "      <td>1622.000000</td>\n",
       "      <td>31.000000</td>\n",
       "      <td>251.500000</td>\n",
       "      <td>97.500000</td>\n",
       "      <td>102.000000</td>\n",
       "      <td>86.000000</td>\n",
       "      <td>100.000000</td>\n",
       "      <td>298.000000</td>\n",
       "      <td>49.0</td>\n",
       "      <td>68.000000</td>\n",
       "      <td>86.500000</td>\n",
       "      <td>64.000000</td>\n",
       "      <td>208.000000</td>\n",
       "      <td>155.500000</td>\n",
       "      <td>151.000000</td>\n",
       "      <td>160.000000</td>\n",
       "    </tr>\n",
       "    <tr>\n",
       "      <th>75%</th>\n",
       "      <td>2431.000000</td>\n",
       "      <td>46.000000</td>\n",
       "      <td>257.750000</td>\n",
       "      <td>152.000000</td>\n",
       "      <td>133.000000</td>\n",
       "      <td>132.000000</td>\n",
       "      <td>157.000000</td>\n",
       "      <td>406.000000</td>\n",
       "      <td>49.0</td>\n",
       "      <td>70.500000</td>\n",
       "      <td>102.000000</td>\n",
       "      <td>106.000000</td>\n",
       "      <td>316.000000</td>\n",
       "      <td>203.500000</td>\n",
       "      <td>205.750000</td>\n",
       "      <td>205.000000</td>\n",
       "    </tr>\n",
       "    <tr>\n",
       "      <th>max</th>\n",
       "      <td>3241.000000</td>\n",
       "      <td>185.000000</td>\n",
       "      <td>325.000000</td>\n",
       "      <td>454.000000</td>\n",
       "      <td>281.000000</td>\n",
       "      <td>603.000000</td>\n",
       "      <td>503.000000</td>\n",
       "      <td>772.000000</td>\n",
       "      <td>49.0</td>\n",
       "      <td>147.000000</td>\n",
       "      <td>159.000000</td>\n",
       "      <td>313.000000</td>\n",
       "      <td>1849.000000</td>\n",
       "      <td>305.000000</td>\n",
       "      <td>636.000000</td>\n",
       "      <td>405.000000</td>\n",
       "    </tr>\n",
       "  </tbody>\n",
       "</table>\n",
       "</div>"
      ],
      "text/plain": [
       "               key      Bulk 1      Bulk 2       Bulk 3       Bulk 4  \\\n",
       "count  3129.000000  252.000000   22.000000  1298.000000  1014.000000   \n",
       "mean   1624.383509   39.242063  253.045455   113.879045   104.394477   \n",
       "std     933.337642   18.277654   21.180578    75.483494    48.184126   \n",
       "min       1.000000   10.000000  228.000000     6.000000    12.000000   \n",
       "25%     816.000000   27.000000  242.000000    58.000000    72.000000   \n",
       "50%    1622.000000   31.000000  251.500000    97.500000   102.000000   \n",
       "75%    2431.000000   46.000000  257.750000   152.000000   133.000000   \n",
       "max    3241.000000  185.000000  325.000000   454.000000   281.000000   \n",
       "\n",
       "           Bulk 5      Bulk 6      Bulk 7  Bulk 8      Bulk 9     Bulk 10  \\\n",
       "count   77.000000  576.000000   25.000000     1.0   19.000000  176.000000   \n",
       "mean   107.025974  118.925347  305.600000    49.0   76.315789   83.284091   \n",
       "std     81.790646   72.057776  191.022904     NaN   21.720581   26.060347   \n",
       "min     11.000000   17.000000   47.000000    49.0   63.000000   24.000000   \n",
       "25%     70.000000   69.750000  155.000000    49.0   66.000000   64.000000   \n",
       "50%     86.000000  100.000000  298.000000    49.0   68.000000   86.500000   \n",
       "75%    132.000000  157.000000  406.000000    49.0   70.500000  102.000000   \n",
       "max    603.000000  503.000000  772.000000    49.0  147.000000  159.000000   \n",
       "\n",
       "          Bulk 11      Bulk 12     Bulk 13      Bulk 14      Bulk 15  \n",
       "count  177.000000  2450.000000   18.000000  2806.000000  2248.000000  \n",
       "mean    76.819209   260.471020  181.111111   170.284747   160.513345  \n",
       "std     59.655365   120.649269   46.088009    65.868652    51.765319  \n",
       "min      8.000000    53.000000  151.000000    16.000000     1.000000  \n",
       "25%     25.000000   204.000000  153.250000   119.000000   105.000000  \n",
       "50%     64.000000   208.000000  155.500000   151.000000   160.000000  \n",
       "75%    106.000000   316.000000  203.500000   205.750000   205.000000  \n",
       "max    313.000000  1849.000000  305.000000   636.000000   405.000000  "
      ]
     },
     "metadata": {},
     "output_type": "display_data"
    },
    {
     "name": "stdout",
     "output_type": "stream",
     "text": [
      "\u001b[1m\n",
      "\n",
      " Duplicates in data_bulk:\u001b[0m\n",
      "0\n",
      "\u001b[1m\n",
      "\n",
      "Missing values in data_bulk:\u001b[0m\n",
      "key           0\n",
      "Bulk 1     2877\n",
      "Bulk 2     3107\n",
      "Bulk 3     1831\n",
      "Bulk 4     2115\n",
      "Bulk 5     3052\n",
      "Bulk 6     2553\n",
      "Bulk 7     3104\n",
      "Bulk 8     3128\n",
      "Bulk 9     3110\n",
      "Bulk 10    2953\n",
      "Bulk 11    2952\n",
      "Bulk 12     679\n",
      "Bulk 13    3111\n",
      "Bulk 14     323\n",
      "Bulk 15     881\n",
      "dtype: int64\n",
      "\u001b[1m\n",
      "\n",
      "Histograms of data_bulk:\u001b[0m\n"
     ]
    },
    {
     "data": {
      "image/png": "[encoded data removed]",
      "text/plain": [
       "<Figure size 936x1080 with 16 Axes>"
      ]
     },
     "metadata": {
      "needs_background": "light"
     },
     "output_type": "display_data"
    },
    {
     "name": "stdout",
     "output_type": "stream",
     "text": [
      "\u001b[1mDataframe name: data_bulk_time\n",
      "\u001b[1m\n",
      "\n",
      "data_bulk_time head:\n"
     ]
    },
    {
     "data": {
      "text/html": [
       "<div>\n",
       "<style scoped>\n",
       "    .dataframe tbody tr th:only-of-type {\n",
       "        vertical-align: middle;\n",
       "    }\n",
       "\n",
       "    .dataframe tbody tr th {\n",
       "        vertical-align: top;\n",
       "    }\n",
       "\n",
       "    .dataframe thead th {\n",
       "        text-align: right;\n",
       "    }\n",
       "</style>\n",
       "<table border=\"1\" class=\"dataframe\">\n",
       "  <thead>\n",
       "    <tr style=\"text-align: right;\">\n",
       "      <th></th>\n",
       "      <th>key</th>\n",
       "      <th>Bulk 1</th>\n",
       "      <th>Bulk 2</th>\n",
       "      <th>Bulk 3</th>\n",
       "      <th>Bulk 4</th>\n",
       "      <th>Bulk 5</th>\n",
       "      <th>Bulk 6</th>\n",
       "      <th>Bulk 7</th>\n",
       "      <th>Bulk 8</th>\n",
       "      <th>Bulk 9</th>\n",
       "      <th>Bulk 10</th>\n",
       "      <th>Bulk 11</th>\n",
       "      <th>Bulk 12</th>\n",
       "      <th>Bulk 13</th>\n",
       "      <th>Bulk 14</th>\n",
       "      <th>Bulk 15</th>\n",
       "    </tr>\n",
       "  </thead>\n",
       "  <tbody>\n",
       "    <tr>\n",
       "      <th>0</th>\n",
       "      <td>1</td>\n",
       "      <td>NaN</td>\n",
       "      <td>NaN</td>\n",
       "      <td>NaN</td>\n",
       "      <td>2019-05-03 11:21:30</td>\n",
       "      <td>NaN</td>\n",
       "      <td>NaN</td>\n",
       "      <td>NaN</td>\n",
       "      <td>NaN</td>\n",
       "      <td>NaN</td>\n",
       "      <td>NaN</td>\n",
       "      <td>NaN</td>\n",
       "      <td>2019-05-03 11:03:52</td>\n",
       "      <td>NaN</td>\n",
       "      <td>2019-05-03 11:03:52</td>\n",
       "      <td>2019-05-03 11:03:52</td>\n",
       "    </tr>\n",
       "    <tr>\n",
       "      <th>1</th>\n",
       "      <td>2</td>\n",
       "      <td>NaN</td>\n",
       "      <td>NaN</td>\n",
       "      <td>NaN</td>\n",
       "      <td>2019-05-03 11:46:38</td>\n",
       "      <td>NaN</td>\n",
       "      <td>NaN</td>\n",
       "      <td>NaN</td>\n",
       "      <td>NaN</td>\n",
       "      <td>NaN</td>\n",
       "      <td>NaN</td>\n",
       "      <td>NaN</td>\n",
       "      <td>2019-05-03 11:40:20</td>\n",
       "      <td>NaN</td>\n",
       "      <td>2019-05-03 11:40:20</td>\n",
       "      <td>2019-05-03 11:40:20</td>\n",
       "    </tr>\n",
       "    <tr>\n",
       "      <th>2</th>\n",
       "      <td>3</td>\n",
       "      <td>NaN</td>\n",
       "      <td>NaN</td>\n",
       "      <td>NaN</td>\n",
       "      <td>2019-05-03 12:31:06</td>\n",
       "      <td>NaN</td>\n",
       "      <td>NaN</td>\n",
       "      <td>NaN</td>\n",
       "      <td>NaN</td>\n",
       "      <td>NaN</td>\n",
       "      <td>NaN</td>\n",
       "      <td>NaN</td>\n",
       "      <td>2019-05-03 12:09:40</td>\n",
       "      <td>NaN</td>\n",
       "      <td>2019-05-03 12:09:40</td>\n",
       "      <td>2019-05-03 12:09:40</td>\n",
       "    </tr>\n",
       "    <tr>\n",
       "      <th>3</th>\n",
       "      <td>4</td>\n",
       "      <td>NaN</td>\n",
       "      <td>NaN</td>\n",
       "      <td>NaN</td>\n",
       "      <td>2019-05-03 12:48:43</td>\n",
       "      <td>NaN</td>\n",
       "      <td>NaN</td>\n",
       "      <td>NaN</td>\n",
       "      <td>NaN</td>\n",
       "      <td>NaN</td>\n",
       "      <td>NaN</td>\n",
       "      <td>NaN</td>\n",
       "      <td>2019-05-03 12:41:24</td>\n",
       "      <td>NaN</td>\n",
       "      <td>2019-05-03 12:41:24</td>\n",
       "      <td>2019-05-03 12:41:24</td>\n",
       "    </tr>\n",
       "    <tr>\n",
       "      <th>4</th>\n",
       "      <td>5</td>\n",
       "      <td>NaN</td>\n",
       "      <td>NaN</td>\n",
       "      <td>NaN</td>\n",
       "      <td>2019-05-03 13:18:50</td>\n",
       "      <td>NaN</td>\n",
       "      <td>NaN</td>\n",
       "      <td>NaN</td>\n",
       "      <td>NaN</td>\n",
       "      <td>NaN</td>\n",
       "      <td>NaN</td>\n",
       "      <td>NaN</td>\n",
       "      <td>2019-05-03 13:12:56</td>\n",
       "      <td>NaN</td>\n",
       "      <td>2019-05-03 13:12:56</td>\n",
       "      <td>2019-05-03 13:12:56</td>\n",
       "    </tr>\n",
       "  </tbody>\n",
       "</table>\n",
       "</div>"
      ],
      "text/plain": [
       "   key Bulk 1 Bulk 2 Bulk 3               Bulk 4 Bulk 5 Bulk 6 Bulk 7 Bulk 8  \\\n",
       "0    1    NaN    NaN    NaN  2019-05-03 11:21:30    NaN    NaN    NaN    NaN   \n",
       "1    2    NaN    NaN    NaN  2019-05-03 11:46:38    NaN    NaN    NaN    NaN   \n",
       "2    3    NaN    NaN    NaN  2019-05-03 12:31:06    NaN    NaN    NaN    NaN   \n",
       "3    4    NaN    NaN    NaN  2019-05-03 12:48:43    NaN    NaN    NaN    NaN   \n",
       "4    5    NaN    NaN    NaN  2019-05-03 13:18:50    NaN    NaN    NaN    NaN   \n",
       "\n",
       "  Bulk 9 Bulk 10 Bulk 11              Bulk 12 Bulk 13              Bulk 14  \\\n",
       "0    NaN     NaN     NaN  2019-05-03 11:03:52     NaN  2019-05-03 11:03:52   \n",
       "1    NaN     NaN     NaN  2019-05-03 11:40:20     NaN  2019-05-03 11:40:20   \n",
       "2    NaN     NaN     NaN  2019-05-03 12:09:40     NaN  2019-05-03 12:09:40   \n",
       "3    NaN     NaN     NaN  2019-05-03 12:41:24     NaN  2019-05-03 12:41:24   \n",
       "4    NaN     NaN     NaN  2019-05-03 13:12:56     NaN  2019-05-03 13:12:56   \n",
       "\n",
       "               Bulk 15  \n",
       "0  2019-05-03 11:03:52  \n",
       "1  2019-05-03 11:40:20  \n",
       "2  2019-05-03 12:09:40  \n",
       "3  2019-05-03 12:41:24  \n",
       "4  2019-05-03 13:12:56  "
      ]
     },
     "metadata": {},
     "output_type": "display_data"
    },
    {
     "name": "stdout",
     "output_type": "stream",
     "text": [
      "\u001b[1m\n",
      "\n",
      "data_bulk_time info:\u001b[0m\n",
      "<class 'pandas.core.frame.DataFrame'>\n",
      "RangeIndex: 3129 entries, 0 to 3128\n",
      "Data columns (total 16 columns):\n",
      " #   Column   Non-Null Count  Dtype \n",
      "---  ------   --------------  ----- \n",
      " 0   key      3129 non-null   int64 \n",
      " 1   Bulk 1   252 non-null    object\n",
      " 2   Bulk 2   22 non-null     object\n",
      " 3   Bulk 3   1298 non-null   object\n",
      " 4   Bulk 4   1014 non-null   object\n",
      " 5   Bulk 5   77 non-null     object\n",
      " 6   Bulk 6   576 non-null    object\n",
      " 7   Bulk 7   25 non-null     object\n",
      " 8   Bulk 8   1 non-null      object\n",
      " 9   Bulk 9   19 non-null     object\n",
      " 10  Bulk 10  176 non-null    object\n",
      " 11  Bulk 11  177 non-null    object\n",
      " 12  Bulk 12  2450 non-null   object\n",
      " 13  Bulk 13  18 non-null     object\n",
      " 14  Bulk 14  2806 non-null   object\n",
      " 15  Bulk 15  2248 non-null   object\n",
      "dtypes: int64(1), object(15)\n",
      "memory usage: 391.2+ KB\n",
      "\u001b[1m\n",
      "\n",
      "data_bulk_time stats:\u001b[0m\n"
     ]
    },
    {
     "data": {
      "text/html": [
       "<div>\n",
       "<style scoped>\n",
       "    .dataframe tbody tr th:only-of-type {\n",
       "        vertical-align: middle;\n",
       "    }\n",
       "\n",
       "    .dataframe tbody tr th {\n",
       "        vertical-align: top;\n",
       "    }\n",
       "\n",
       "    .dataframe thead th {\n",
       "        text-align: right;\n",
       "    }\n",
       "</style>\n",
       "<table border=\"1\" class=\"dataframe\">\n",
       "  <thead>\n",
       "    <tr style=\"text-align: right;\">\n",
       "      <th></th>\n",
       "      <th>key</th>\n",
       "    </tr>\n",
       "  </thead>\n",
       "  <tbody>\n",
       "    <tr>\n",
       "      <th>count</th>\n",
       "      <td>3129.000000</td>\n",
       "    </tr>\n",
       "    <tr>\n",
       "      <th>mean</th>\n",
       "      <td>1624.383509</td>\n",
       "    </tr>\n",
       "    <tr>\n",
       "      <th>std</th>\n",
       "      <td>933.337642</td>\n",
       "    </tr>\n",
       "    <tr>\n",
       "      <th>min</th>\n",
       "      <td>1.000000</td>\n",
       "    </tr>\n",
       "    <tr>\n",
       "      <th>25%</th>\n",
       "      <td>816.000000</td>\n",
       "    </tr>\n",
       "    <tr>\n",
       "      <th>50%</th>\n",
       "      <td>1622.000000</td>\n",
       "    </tr>\n",
       "    <tr>\n",
       "      <th>75%</th>\n",
       "      <td>2431.000000</td>\n",
       "    </tr>\n",
       "    <tr>\n",
       "      <th>max</th>\n",
       "      <td>3241.000000</td>\n",
       "    </tr>\n",
       "  </tbody>\n",
       "</table>\n",
       "</div>"
      ],
      "text/plain": [
       "               key\n",
       "count  3129.000000\n",
       "mean   1624.383509\n",
       "std     933.337642\n",
       "min       1.000000\n",
       "25%     816.000000\n",
       "50%    1622.000000\n",
       "75%    2431.000000\n",
       "max    3241.000000"
      ]
     },
     "metadata": {},
     "output_type": "display_data"
    },
    {
     "name": "stdout",
     "output_type": "stream",
     "text": [
      "\u001b[1m\n",
      "\n",
      " Duplicates in data_bulk_time:\u001b[0m\n",
      "0\n",
      "\u001b[1m\n",
      "\n",
      "Missing values in data_bulk_time:\u001b[0m\n",
      "key           0\n",
      "Bulk 1     2877\n",
      "Bulk 2     3107\n",
      "Bulk 3     1831\n",
      "Bulk 4     2115\n",
      "Bulk 5     3052\n",
      "Bulk 6     2553\n",
      "Bulk 7     3104\n",
      "Bulk 8     3128\n",
      "Bulk 9     3110\n",
      "Bulk 10    2953\n",
      "Bulk 11    2952\n",
      "Bulk 12     679\n",
      "Bulk 13    3111\n",
      "Bulk 14     323\n",
      "Bulk 15     881\n",
      "dtype: int64\n",
      "\u001b[1m\n",
      "\n",
      "Histograms of data_bulk_time:\u001b[0m\n"
     ]
    },
    {
     "data": {
      "image/png": "[encoded data removed]",
      "text/plain": [
       "<Figure size 936x1080 with 1 Axes>"
      ]
     },
     "metadata": {
      "needs_background": "light"
     },
     "output_type": "display_data"
    },
    {
     "name": "stdout",
     "output_type": "stream",
     "text": [
      "\u001b[1mDataframe name: data_gas\n",
      "\u001b[1m\n",
      "\n",
      "data_gas head:\n"
     ]
    },
    {
     "data": {
      "text/html": [
       "<div>\n",
       "<style scoped>\n",
       "    .dataframe tbody tr th:only-of-type {\n",
       "        vertical-align: middle;\n",
       "    }\n",
       "\n",
       "    .dataframe tbody tr th {\n",
       "        vertical-align: top;\n",
       "    }\n",
       "\n",
       "    .dataframe thead th {\n",
       "        text-align: right;\n",
       "    }\n",
       "</style>\n",
       "<table border=\"1\" class=\"dataframe\">\n",
       "  <thead>\n",
       "    <tr style=\"text-align: right;\">\n",
       "      <th></th>\n",
       "      <th>key</th>\n",
       "      <th>Газ 1</th>\n",
       "    </tr>\n",
       "  </thead>\n",
       "  <tbody>\n",
       "    <tr>\n",
       "      <th>0</th>\n",
       "      <td>1</td>\n",
       "      <td>29.749986</td>\n",
       "    </tr>\n",
       "    <tr>\n",
       "      <th>1</th>\n",
       "      <td>2</td>\n",
       "      <td>12.555561</td>\n",
       "    </tr>\n",
       "    <tr>\n",
       "      <th>2</th>\n",
       "      <td>3</td>\n",
       "      <td>28.554793</td>\n",
       "    </tr>\n",
       "    <tr>\n",
       "      <th>3</th>\n",
       "      <td>4</td>\n",
       "      <td>18.841219</td>\n",
       "    </tr>\n",
       "    <tr>\n",
       "      <th>4</th>\n",
       "      <td>5</td>\n",
       "      <td>5.413692</td>\n",
       "    </tr>\n",
       "  </tbody>\n",
       "</table>\n",
       "</div>"
      ],
      "text/plain": [
       "   key      Газ 1\n",
       "0    1  29.749986\n",
       "1    2  12.555561\n",
       "2    3  28.554793\n",
       "3    4  18.841219\n",
       "4    5   5.413692"
      ]
     },
     "metadata": {},
     "output_type": "display_data"
    },
    {
     "name": "stdout",
     "output_type": "stream",
     "text": [
      "\u001b[1m\n",
      "\n",
      "data_gas info:\u001b[0m\n",
      "<class 'pandas.core.frame.DataFrame'>\n",
      "RangeIndex: 3239 entries, 0 to 3238\n",
      "Data columns (total 2 columns):\n",
      " #   Column  Non-Null Count  Dtype  \n",
      "---  ------  --------------  -----  \n",
      " 0   key     3239 non-null   int64  \n",
      " 1   Газ 1   3239 non-null   float64\n",
      "dtypes: float64(1), int64(1)\n",
      "memory usage: 50.7 KB\n",
      "\u001b[1m\n",
      "\n",
      "data_gas stats:\u001b[0m\n"
     ]
    },
    {
     "data": {
      "text/html": [
       "<div>\n",
       "<style scoped>\n",
       "    .dataframe tbody tr th:only-of-type {\n",
       "        vertical-align: middle;\n",
       "    }\n",
       "\n",
       "    .dataframe tbody tr th {\n",
       "        vertical-align: top;\n",
       "    }\n",
       "\n",
       "    .dataframe thead th {\n",
       "        text-align: right;\n",
       "    }\n",
       "</style>\n",
       "<table border=\"1\" class=\"dataframe\">\n",
       "  <thead>\n",
       "    <tr style=\"text-align: right;\">\n",
       "      <th></th>\n",
       "      <th>key</th>\n",
       "      <th>Газ 1</th>\n",
       "    </tr>\n",
       "  </thead>\n",
       "  <tbody>\n",
       "    <tr>\n",
       "      <th>count</th>\n",
       "      <td>3239.000000</td>\n",
       "      <td>3239.000000</td>\n",
       "    </tr>\n",
       "    <tr>\n",
       "      <th>mean</th>\n",
       "      <td>1621.861377</td>\n",
       "      <td>11.002062</td>\n",
       "    </tr>\n",
       "    <tr>\n",
       "      <th>std</th>\n",
       "      <td>935.386334</td>\n",
       "      <td>6.220327</td>\n",
       "    </tr>\n",
       "    <tr>\n",
       "      <th>min</th>\n",
       "      <td>1.000000</td>\n",
       "      <td>0.008399</td>\n",
       "    </tr>\n",
       "    <tr>\n",
       "      <th>25%</th>\n",
       "      <td>812.500000</td>\n",
       "      <td>7.043089</td>\n",
       "    </tr>\n",
       "    <tr>\n",
       "      <th>50%</th>\n",
       "      <td>1622.000000</td>\n",
       "      <td>9.836267</td>\n",
       "    </tr>\n",
       "    <tr>\n",
       "      <th>75%</th>\n",
       "      <td>2431.500000</td>\n",
       "      <td>13.769915</td>\n",
       "    </tr>\n",
       "    <tr>\n",
       "      <th>max</th>\n",
       "      <td>3241.000000</td>\n",
       "      <td>77.995040</td>\n",
       "    </tr>\n",
       "  </tbody>\n",
       "</table>\n",
       "</div>"
      ],
      "text/plain": [
       "               key        Газ 1\n",
       "count  3239.000000  3239.000000\n",
       "mean   1621.861377    11.002062\n",
       "std     935.386334     6.220327\n",
       "min       1.000000     0.008399\n",
       "25%     812.500000     7.043089\n",
       "50%    1622.000000     9.836267\n",
       "75%    2431.500000    13.769915\n",
       "max    3241.000000    77.995040"
      ]
     },
     "metadata": {},
     "output_type": "display_data"
    },
    {
     "name": "stdout",
     "output_type": "stream",
     "text": [
      "\u001b[1m\n",
      "\n",
      " Duplicates in data_gas:\u001b[0m\n",
      "0\n",
      "\u001b[1m\n",
      "\n",
      "Missing values in data_gas:\u001b[0m\n",
      "key      0\n",
      "Газ 1    0\n",
      "dtype: int64\n",
      "\u001b[1m\n",
      "\n",
      "Histograms of data_gas:\u001b[0m\n"
     ]
    },
    {
     "data": {
      "image/png": "[encoded data removed]",
      "text/plain": [
       "<Figure size 936x1080 with 2 Axes>"
      ]
     },
     "metadata": {
      "needs_background": "light"
     },
     "output_type": "display_data"
    },
    {
     "name": "stdout",
     "output_type": "stream",
     "text": [
      "\u001b[1mDataframe name: data_temp\n",
      "\u001b[1m\n",
      "\n",
      "data_temp head:\n"
     ]
    },
    {
     "data": {
      "text/html": [
       "<div>\n",
       "<style scoped>\n",
       "    .dataframe tbody tr th:only-of-type {\n",
       "        vertical-align: middle;\n",
       "    }\n",
       "\n",
       "    .dataframe tbody tr th {\n",
       "        vertical-align: top;\n",
       "    }\n",
       "\n",
       "    .dataframe thead th {\n",
       "        text-align: right;\n",
       "    }\n",
       "</style>\n",
       "<table border=\"1\" class=\"dataframe\">\n",
       "  <thead>\n",
       "    <tr style=\"text-align: right;\">\n",
       "      <th></th>\n",
       "      <th>key</th>\n",
       "      <th>Время замера</th>\n",
       "      <th>Температура</th>\n",
       "    </tr>\n",
       "  </thead>\n",
       "  <tbody>\n",
       "    <tr>\n",
       "      <th>0</th>\n",
       "      <td>1</td>\n",
       "      <td>2019-05-03 11:16:18</td>\n",
       "      <td>1571.0</td>\n",
       "    </tr>\n",
       "    <tr>\n",
       "      <th>1</th>\n",
       "      <td>1</td>\n",
       "      <td>2019-05-03 11:25:53</td>\n",
       "      <td>1604.0</td>\n",
       "    </tr>\n",
       "    <tr>\n",
       "      <th>2</th>\n",
       "      <td>1</td>\n",
       "      <td>2019-05-03 11:29:11</td>\n",
       "      <td>1618.0</td>\n",
       "    </tr>\n",
       "    <tr>\n",
       "      <th>3</th>\n",
       "      <td>1</td>\n",
       "      <td>2019-05-03 11:30:01</td>\n",
       "      <td>1601.0</td>\n",
       "    </tr>\n",
       "    <tr>\n",
       "      <th>4</th>\n",
       "      <td>1</td>\n",
       "      <td>2019-05-03 11:30:39</td>\n",
       "      <td>1613.0</td>\n",
       "    </tr>\n",
       "  </tbody>\n",
       "</table>\n",
       "</div>"
      ],
      "text/plain": [
       "   key         Время замера  Температура\n",
       "0    1  2019-05-03 11:16:18       1571.0\n",
       "1    1  2019-05-03 11:25:53       1604.0\n",
       "2    1  2019-05-03 11:29:11       1618.0\n",
       "3    1  2019-05-03 11:30:01       1601.0\n",
       "4    1  2019-05-03 11:30:39       1613.0"
      ]
     },
     "metadata": {},
     "output_type": "display_data"
    },
    {
     "name": "stdout",
     "output_type": "stream",
     "text": [
      "\u001b[1m\n",
      "\n",
      "data_temp info:\u001b[0m\n",
      "<class 'pandas.core.frame.DataFrame'>\n",
      "RangeIndex: 15907 entries, 0 to 15906\n",
      "Data columns (total 3 columns):\n",
      " #   Column        Non-Null Count  Dtype  \n",
      "---  ------        --------------  -----  \n",
      " 0   key           15907 non-null  int64  \n",
      " 1   Время замера  15907 non-null  object \n",
      " 2   Температура   13006 non-null  float64\n",
      "dtypes: float64(1), int64(1), object(1)\n",
      "memory usage: 372.9+ KB\n",
      "\u001b[1m\n",
      "\n",
      "data_temp stats:\u001b[0m\n"
     ]
    },
    {
     "data": {
      "text/html": [
       "<div>\n",
       "<style scoped>\n",
       "    .dataframe tbody tr th:only-of-type {\n",
       "        vertical-align: middle;\n",
       "    }\n",
       "\n",
       "    .dataframe tbody tr th {\n",
       "        vertical-align: top;\n",
       "    }\n",
       "\n",
       "    .dataframe thead th {\n",
       "        text-align: right;\n",
       "    }\n",
       "</style>\n",
       "<table border=\"1\" class=\"dataframe\">\n",
       "  <thead>\n",
       "    <tr style=\"text-align: right;\">\n",
       "      <th></th>\n",
       "      <th>key</th>\n",
       "      <th>Температура</th>\n",
       "    </tr>\n",
       "  </thead>\n",
       "  <tbody>\n",
       "    <tr>\n",
       "      <th>count</th>\n",
       "      <td>15907.000000</td>\n",
       "      <td>13006.000000</td>\n",
       "    </tr>\n",
       "    <tr>\n",
       "      <th>mean</th>\n",
       "      <td>1607.880870</td>\n",
       "      <td>1591.840920</td>\n",
       "    </tr>\n",
       "    <tr>\n",
       "      <th>std</th>\n",
       "      <td>942.212073</td>\n",
       "      <td>21.375851</td>\n",
       "    </tr>\n",
       "    <tr>\n",
       "      <th>min</th>\n",
       "      <td>1.000000</td>\n",
       "      <td>1191.000000</td>\n",
       "    </tr>\n",
       "    <tr>\n",
       "      <th>25%</th>\n",
       "      <td>790.000000</td>\n",
       "      <td>1581.000000</td>\n",
       "    </tr>\n",
       "    <tr>\n",
       "      <th>50%</th>\n",
       "      <td>1618.000000</td>\n",
       "      <td>1591.000000</td>\n",
       "    </tr>\n",
       "    <tr>\n",
       "      <th>75%</th>\n",
       "      <td>2427.000000</td>\n",
       "      <td>1601.000000</td>\n",
       "    </tr>\n",
       "    <tr>\n",
       "      <th>max</th>\n",
       "      <td>3241.000000</td>\n",
       "      <td>1705.000000</td>\n",
       "    </tr>\n",
       "  </tbody>\n",
       "</table>\n",
       "</div>"
      ],
      "text/plain": [
       "                key   Температура\n",
       "count  15907.000000  13006.000000\n",
       "mean    1607.880870   1591.840920\n",
       "std      942.212073     21.375851\n",
       "min        1.000000   1191.000000\n",
       "25%      790.000000   1581.000000\n",
       "50%     1618.000000   1591.000000\n",
       "75%     2427.000000   1601.000000\n",
       "max     3241.000000   1705.000000"
      ]
     },
     "metadata": {},
     "output_type": "display_data"
    },
    {
     "name": "stdout",
     "output_type": "stream",
     "text": [
      "\u001b[1m\n",
      "\n",
      " Duplicates in data_temp:\u001b[0m\n",
      "0\n",
      "\u001b[1m\n",
      "\n",
      "Missing values in data_temp:\u001b[0m\n",
      "key                0\n",
      "Время замера       0\n",
      "Температура     2901\n",
      "dtype: int64\n",
      "\u001b[1m\n",
      "\n",
      "Histograms of data_temp:\u001b[0m\n"
     ]
    },
    {
     "data": {
      "image/png": "[encoded data removed]",
      "text/plain": [
       "<Figure size 936x1080 with 2 Axes>"
      ]
     },
     "metadata": {
      "needs_background": "light"
     },
     "output_type": "display_data"
    },
    {
     "name": "stdout",
     "output_type": "stream",
     "text": [
      "\u001b[1mDataframe name: data_wire\n",
      "\u001b[1m\n",
      "\n",
      "data_wire head:\n"
     ]
    },
    {
     "data": {
      "text/html": [
       "<div>\n",
       "<style scoped>\n",
       "    .dataframe tbody tr th:only-of-type {\n",
       "        vertical-align: middle;\n",
       "    }\n",
       "\n",
       "    .dataframe tbody tr th {\n",
       "        vertical-align: top;\n",
       "    }\n",
       "\n",
       "    .dataframe thead th {\n",
       "        text-align: right;\n",
       "    }\n",
       "</style>\n",
       "<table border=\"1\" class=\"dataframe\">\n",
       "  <thead>\n",
       "    <tr style=\"text-align: right;\">\n",
       "      <th></th>\n",
       "      <th>key</th>\n",
       "      <th>Wire 1</th>\n",
       "      <th>Wire 2</th>\n",
       "      <th>Wire 3</th>\n",
       "      <th>Wire 4</th>\n",
       "      <th>Wire 5</th>\n",
       "      <th>Wire 6</th>\n",
       "      <th>Wire 7</th>\n",
       "      <th>Wire 8</th>\n",
       "      <th>Wire 9</th>\n",
       "    </tr>\n",
       "  </thead>\n",
       "  <tbody>\n",
       "    <tr>\n",
       "      <th>0</th>\n",
       "      <td>1</td>\n",
       "      <td>60.059998</td>\n",
       "      <td>NaN</td>\n",
       "      <td>NaN</td>\n",
       "      <td>NaN</td>\n",
       "      <td>NaN</td>\n",
       "      <td>NaN</td>\n",
       "      <td>NaN</td>\n",
       "      <td>NaN</td>\n",
       "      <td>NaN</td>\n",
       "    </tr>\n",
       "    <tr>\n",
       "      <th>1</th>\n",
       "      <td>2</td>\n",
       "      <td>96.052315</td>\n",
       "      <td>NaN</td>\n",
       "      <td>NaN</td>\n",
       "      <td>NaN</td>\n",
       "      <td>NaN</td>\n",
       "      <td>NaN</td>\n",
       "      <td>NaN</td>\n",
       "      <td>NaN</td>\n",
       "      <td>NaN</td>\n",
       "    </tr>\n",
       "    <tr>\n",
       "      <th>2</th>\n",
       "      <td>3</td>\n",
       "      <td>91.160157</td>\n",
       "      <td>NaN</td>\n",
       "      <td>NaN</td>\n",
       "      <td>NaN</td>\n",
       "      <td>NaN</td>\n",
       "      <td>NaN</td>\n",
       "      <td>NaN</td>\n",
       "      <td>NaN</td>\n",
       "      <td>NaN</td>\n",
       "    </tr>\n",
       "    <tr>\n",
       "      <th>3</th>\n",
       "      <td>4</td>\n",
       "      <td>89.063515</td>\n",
       "      <td>NaN</td>\n",
       "      <td>NaN</td>\n",
       "      <td>NaN</td>\n",
       "      <td>NaN</td>\n",
       "      <td>NaN</td>\n",
       "      <td>NaN</td>\n",
       "      <td>NaN</td>\n",
       "      <td>NaN</td>\n",
       "    </tr>\n",
       "    <tr>\n",
       "      <th>4</th>\n",
       "      <td>5</td>\n",
       "      <td>89.238236</td>\n",
       "      <td>9.11456</td>\n",
       "      <td>NaN</td>\n",
       "      <td>NaN</td>\n",
       "      <td>NaN</td>\n",
       "      <td>NaN</td>\n",
       "      <td>NaN</td>\n",
       "      <td>NaN</td>\n",
       "      <td>NaN</td>\n",
       "    </tr>\n",
       "  </tbody>\n",
       "</table>\n",
       "</div>"
      ],
      "text/plain": [
       "   key     Wire 1   Wire 2  Wire 3  Wire 4  Wire 5  Wire 6  Wire 7  Wire 8  \\\n",
       "0    1  60.059998      NaN     NaN     NaN     NaN     NaN     NaN     NaN   \n",
       "1    2  96.052315      NaN     NaN     NaN     NaN     NaN     NaN     NaN   \n",
       "2    3  91.160157      NaN     NaN     NaN     NaN     NaN     NaN     NaN   \n",
       "3    4  89.063515      NaN     NaN     NaN     NaN     NaN     NaN     NaN   \n",
       "4    5  89.238236  9.11456     NaN     NaN     NaN     NaN     NaN     NaN   \n",
       "\n",
       "   Wire 9  \n",
       "0     NaN  \n",
       "1     NaN  \n",
       "2     NaN  \n",
       "3     NaN  \n",
       "4     NaN  "
      ]
     },
     "metadata": {},
     "output_type": "display_data"
    },
    {
     "name": "stdout",
     "output_type": "stream",
     "text": [
      "\u001b[1m\n",
      "\n",
      "data_wire info:\u001b[0m\n",
      "<class 'pandas.core.frame.DataFrame'>\n",
      "RangeIndex: 3081 entries, 0 to 3080\n",
      "Data columns (total 10 columns):\n",
      " #   Column  Non-Null Count  Dtype  \n",
      "---  ------  --------------  -----  \n",
      " 0   key     3081 non-null   int64  \n",
      " 1   Wire 1  3055 non-null   float64\n",
      " 2   Wire 2  1079 non-null   float64\n",
      " 3   Wire 3  63 non-null     float64\n",
      " 4   Wire 4  14 non-null     float64\n",
      " 5   Wire 5  1 non-null      float64\n",
      " 6   Wire 6  73 non-null     float64\n",
      " 7   Wire 7  11 non-null     float64\n",
      " 8   Wire 8  19 non-null     float64\n",
      " 9   Wire 9  29 non-null     float64\n",
      "dtypes: float64(9), int64(1)\n",
      "memory usage: 240.8 KB\n",
      "\u001b[1m\n",
      "\n",
      "data_wire stats:\u001b[0m\n"
     ]
    },
    {
     "data": {
      "text/html": [
       "<div>\n",
       "<style scoped>\n",
       "    .dataframe tbody tr th:only-of-type {\n",
       "        vertical-align: middle;\n",
       "    }\n",
       "\n",
       "    .dataframe tbody tr th {\n",
       "        vertical-align: top;\n",
       "    }\n",
       "\n",
       "    .dataframe thead th {\n",
       "        text-align: right;\n",
       "    }\n",
       "</style>\n",
       "<table border=\"1\" class=\"dataframe\">\n",
       "  <thead>\n",
       "    <tr style=\"text-align: right;\">\n",
       "      <th></th>\n",
       "      <th>key</th>\n",
       "      <th>Wire 1</th>\n",
       "      <th>Wire 2</th>\n",
       "      <th>Wire 3</th>\n",
       "      <th>Wire 4</th>\n",
       "      <th>Wire 5</th>\n",
       "      <th>Wire 6</th>\n",
       "      <th>Wire 7</th>\n",
       "      <th>Wire 8</th>\n",
       "      <th>Wire 9</th>\n",
       "    </tr>\n",
       "  </thead>\n",
       "  <tbody>\n",
       "    <tr>\n",
       "      <th>count</th>\n",
       "      <td>3081.000000</td>\n",
       "      <td>3055.000000</td>\n",
       "      <td>1079.000000</td>\n",
       "      <td>63.000000</td>\n",
       "      <td>14.000000</td>\n",
       "      <td>1.000</td>\n",
       "      <td>73.000000</td>\n",
       "      <td>11.000000</td>\n",
       "      <td>19.000000</td>\n",
       "      <td>29.000000</td>\n",
       "    </tr>\n",
       "    <tr>\n",
       "      <th>mean</th>\n",
       "      <td>1623.426485</td>\n",
       "      <td>100.895853</td>\n",
       "      <td>50.577323</td>\n",
       "      <td>189.482681</td>\n",
       "      <td>57.442841</td>\n",
       "      <td>15.132</td>\n",
       "      <td>48.016974</td>\n",
       "      <td>10.039007</td>\n",
       "      <td>53.625193</td>\n",
       "      <td>34.155752</td>\n",
       "    </tr>\n",
       "    <tr>\n",
       "      <th>std</th>\n",
       "      <td>932.996726</td>\n",
       "      <td>42.012518</td>\n",
       "      <td>39.320216</td>\n",
       "      <td>99.513444</td>\n",
       "      <td>28.824667</td>\n",
       "      <td>NaN</td>\n",
       "      <td>33.919845</td>\n",
       "      <td>8.610584</td>\n",
       "      <td>16.881728</td>\n",
       "      <td>19.931616</td>\n",
       "    </tr>\n",
       "    <tr>\n",
       "      <th>min</th>\n",
       "      <td>1.000000</td>\n",
       "      <td>1.918800</td>\n",
       "      <td>0.030160</td>\n",
       "      <td>0.144144</td>\n",
       "      <td>24.148801</td>\n",
       "      <td>15.132</td>\n",
       "      <td>0.034320</td>\n",
       "      <td>0.234208</td>\n",
       "      <td>45.076721</td>\n",
       "      <td>4.622800</td>\n",
       "    </tr>\n",
       "    <tr>\n",
       "      <th>25%</th>\n",
       "      <td>823.000000</td>\n",
       "      <td>72.115684</td>\n",
       "      <td>20.193680</td>\n",
       "      <td>95.135044</td>\n",
       "      <td>40.807002</td>\n",
       "      <td>15.132</td>\n",
       "      <td>25.053600</td>\n",
       "      <td>6.762756</td>\n",
       "      <td>46.094879</td>\n",
       "      <td>22.058401</td>\n",
       "    </tr>\n",
       "    <tr>\n",
       "      <th>50%</th>\n",
       "      <td>1619.000000</td>\n",
       "      <td>100.158234</td>\n",
       "      <td>40.142956</td>\n",
       "      <td>235.194977</td>\n",
       "      <td>45.234282</td>\n",
       "      <td>15.132</td>\n",
       "      <td>42.076324</td>\n",
       "      <td>9.017009</td>\n",
       "      <td>46.279999</td>\n",
       "      <td>30.066399</td>\n",
       "    </tr>\n",
       "    <tr>\n",
       "      <th>75%</th>\n",
       "      <td>2434.000000</td>\n",
       "      <td>126.060483</td>\n",
       "      <td>70.227558</td>\n",
       "      <td>276.252014</td>\n",
       "      <td>76.124619</td>\n",
       "      <td>15.132</td>\n",
       "      <td>64.212723</td>\n",
       "      <td>11.886057</td>\n",
       "      <td>48.089603</td>\n",
       "      <td>43.862003</td>\n",
       "    </tr>\n",
       "    <tr>\n",
       "      <th>max</th>\n",
       "      <td>3241.000000</td>\n",
       "      <td>330.314424</td>\n",
       "      <td>282.780152</td>\n",
       "      <td>385.008668</td>\n",
       "      <td>113.231044</td>\n",
       "      <td>15.132</td>\n",
       "      <td>180.454575</td>\n",
       "      <td>32.847674</td>\n",
       "      <td>102.762401</td>\n",
       "      <td>90.053604</td>\n",
       "    </tr>\n",
       "  </tbody>\n",
       "</table>\n",
       "</div>"
      ],
      "text/plain": [
       "               key       Wire 1       Wire 2      Wire 3      Wire 4  Wire 5  \\\n",
       "count  3081.000000  3055.000000  1079.000000   63.000000   14.000000   1.000   \n",
       "mean   1623.426485   100.895853    50.577323  189.482681   57.442841  15.132   \n",
       "std     932.996726    42.012518    39.320216   99.513444   28.824667     NaN   \n",
       "min       1.000000     1.918800     0.030160    0.144144   24.148801  15.132   \n",
       "25%     823.000000    72.115684    20.193680   95.135044   40.807002  15.132   \n",
       "50%    1619.000000   100.158234    40.142956  235.194977   45.234282  15.132   \n",
       "75%    2434.000000   126.060483    70.227558  276.252014   76.124619  15.132   \n",
       "max    3241.000000   330.314424   282.780152  385.008668  113.231044  15.132   \n",
       "\n",
       "           Wire 6     Wire 7      Wire 8     Wire 9  \n",
       "count   73.000000  11.000000   19.000000  29.000000  \n",
       "mean    48.016974  10.039007   53.625193  34.155752  \n",
       "std     33.919845   8.610584   16.881728  19.931616  \n",
       "min      0.034320   0.234208   45.076721   4.622800  \n",
       "25%     25.053600   6.762756   46.094879  22.058401  \n",
       "50%     42.076324   9.017009   46.279999  30.066399  \n",
       "75%     64.212723  11.886057   48.089603  43.862003  \n",
       "max    180.454575  32.847674  102.762401  90.053604  "
      ]
     },
     "metadata": {},
     "output_type": "display_data"
    },
    {
     "name": "stdout",
     "output_type": "stream",
     "text": [
      "\u001b[1m\n",
      "\n",
      " Duplicates in data_wire:\u001b[0m\n",
      "0\n",
      "\u001b[1m\n",
      "\n",
      "Missing values in data_wire:\u001b[0m\n",
      "key          0\n",
      "Wire 1      26\n",
      "Wire 2    2002\n",
      "Wire 3    3018\n",
      "Wire 4    3067\n",
      "Wire 5    3080\n",
      "Wire 6    3008\n",
      "Wire 7    3070\n",
      "Wire 8    3062\n",
      "Wire 9    3052\n",
      "dtype: int64\n",
      "\u001b[1m\n",
      "\n",
      "Histograms of data_wire:\u001b[0m\n"
     ]
    },
    {
     "data": {
      "image/png": "[encoded data removed]",
      "text/plain": [
       "<Figure size 936x1080 with 12 Axes>"
      ]
     },
     "metadata": {
      "needs_background": "light"
     },
     "output_type": "display_data"
    },
    {
     "name": "stdout",
     "output_type": "stream",
     "text": [
      "\u001b[1mDataframe name: data_wire_time\n",
      "\u001b[1m\n",
      "\n",
      "data_wire_time head:\n"
     ]
    },
    {
     "data": {
      "text/html": [
       "<div>\n",
       "<style scoped>\n",
       "    .dataframe tbody tr th:only-of-type {\n",
       "        vertical-align: middle;\n",
       "    }\n",
       "\n",
       "    .dataframe tbody tr th {\n",
       "        vertical-align: top;\n",
       "    }\n",
       "\n",
       "    .dataframe thead th {\n",
       "        text-align: right;\n",
       "    }\n",
       "</style>\n",
       "<table border=\"1\" class=\"dataframe\">\n",
       "  <thead>\n",
       "    <tr style=\"text-align: right;\">\n",
       "      <th></th>\n",
       "      <th>key</th>\n",
       "      <th>Wire 1</th>\n",
       "      <th>Wire 2</th>\n",
       "      <th>Wire 3</th>\n",
       "      <th>Wire 4</th>\n",
       "      <th>Wire 5</th>\n",
       "      <th>Wire 6</th>\n",
       "      <th>Wire 7</th>\n",
       "      <th>Wire 8</th>\n",
       "      <th>Wire 9</th>\n",
       "    </tr>\n",
       "  </thead>\n",
       "  <tbody>\n",
       "    <tr>\n",
       "      <th>0</th>\n",
       "      <td>1</td>\n",
       "      <td>2019-05-03 11:11:41</td>\n",
       "      <td>NaN</td>\n",
       "      <td>NaN</td>\n",
       "      <td>NaN</td>\n",
       "      <td>NaN</td>\n",
       "      <td>NaN</td>\n",
       "      <td>NaN</td>\n",
       "      <td>NaN</td>\n",
       "      <td>NaN</td>\n",
       "    </tr>\n",
       "    <tr>\n",
       "      <th>1</th>\n",
       "      <td>2</td>\n",
       "      <td>2019-05-03 11:46:10</td>\n",
       "      <td>NaN</td>\n",
       "      <td>NaN</td>\n",
       "      <td>NaN</td>\n",
       "      <td>NaN</td>\n",
       "      <td>NaN</td>\n",
       "      <td>NaN</td>\n",
       "      <td>NaN</td>\n",
       "      <td>NaN</td>\n",
       "    </tr>\n",
       "    <tr>\n",
       "      <th>2</th>\n",
       "      <td>3</td>\n",
       "      <td>2019-05-03 12:13:47</td>\n",
       "      <td>NaN</td>\n",
       "      <td>NaN</td>\n",
       "      <td>NaN</td>\n",
       "      <td>NaN</td>\n",
       "      <td>NaN</td>\n",
       "      <td>NaN</td>\n",
       "      <td>NaN</td>\n",
       "      <td>NaN</td>\n",
       "    </tr>\n",
       "    <tr>\n",
       "      <th>3</th>\n",
       "      <td>4</td>\n",
       "      <td>2019-05-03 12:48:05</td>\n",
       "      <td>NaN</td>\n",
       "      <td>NaN</td>\n",
       "      <td>NaN</td>\n",
       "      <td>NaN</td>\n",
       "      <td>NaN</td>\n",
       "      <td>NaN</td>\n",
       "      <td>NaN</td>\n",
       "      <td>NaN</td>\n",
       "    </tr>\n",
       "    <tr>\n",
       "      <th>4</th>\n",
       "      <td>5</td>\n",
       "      <td>2019-05-03 13:18:15</td>\n",
       "      <td>2019-05-03 13:32:06</td>\n",
       "      <td>NaN</td>\n",
       "      <td>NaN</td>\n",
       "      <td>NaN</td>\n",
       "      <td>NaN</td>\n",
       "      <td>NaN</td>\n",
       "      <td>NaN</td>\n",
       "      <td>NaN</td>\n",
       "    </tr>\n",
       "  </tbody>\n",
       "</table>\n",
       "</div>"
      ],
      "text/plain": [
       "   key               Wire 1               Wire 2 Wire 3 Wire 4 Wire 5 Wire 6  \\\n",
       "0    1  2019-05-03 11:11:41                  NaN    NaN    NaN    NaN    NaN   \n",
       "1    2  2019-05-03 11:46:10                  NaN    NaN    NaN    NaN    NaN   \n",
       "2    3  2019-05-03 12:13:47                  NaN    NaN    NaN    NaN    NaN   \n",
       "3    4  2019-05-03 12:48:05                  NaN    NaN    NaN    NaN    NaN   \n",
       "4    5  2019-05-03 13:18:15  2019-05-03 13:32:06    NaN    NaN    NaN    NaN   \n",
       "\n",
       "  Wire 7 Wire 8 Wire 9  \n",
       "0    NaN    NaN    NaN  \n",
       "1    NaN    NaN    NaN  \n",
       "2    NaN    NaN    NaN  \n",
       "3    NaN    NaN    NaN  \n",
       "4    NaN    NaN    NaN  "
      ]
     },
     "metadata": {},
     "output_type": "display_data"
    },
    {
     "name": "stdout",
     "output_type": "stream",
     "text": [
      "\u001b[1m\n",
      "\n",
      "data_wire_time info:\u001b[0m\n",
      "<class 'pandas.core.frame.DataFrame'>\n",
      "RangeIndex: 3081 entries, 0 to 3080\n",
      "Data columns (total 10 columns):\n",
      " #   Column  Non-Null Count  Dtype \n",
      "---  ------  --------------  ----- \n",
      " 0   key     3081 non-null   int64 \n",
      " 1   Wire 1  3055 non-null   object\n",
      " 2   Wire 2  1079 non-null   object\n",
      " 3   Wire 3  63 non-null     object\n",
      " 4   Wire 4  14 non-null     object\n",
      " 5   Wire 5  1 non-null      object\n",
      " 6   Wire 6  73 non-null     object\n",
      " 7   Wire 7  11 non-null     object\n",
      " 8   Wire 8  19 non-null     object\n",
      " 9   Wire 9  29 non-null     object\n",
      "dtypes: int64(1), object(9)\n",
      "memory usage: 240.8+ KB\n",
      "\u001b[1m\n",
      "\n",
      "data_wire_time stats:\u001b[0m\n"
     ]
    },
    {
     "data": {
      "text/html": [
       "<div>\n",
       "<style scoped>\n",
       "    .dataframe tbody tr th:only-of-type {\n",
       "        vertical-align: middle;\n",
       "    }\n",
       "\n",
       "    .dataframe tbody tr th {\n",
       "        vertical-align: top;\n",
       "    }\n",
       "\n",
       "    .dataframe thead th {\n",
       "        text-align: right;\n",
       "    }\n",
       "</style>\n",
       "<table border=\"1\" class=\"dataframe\">\n",
       "  <thead>\n",
       "    <tr style=\"text-align: right;\">\n",
       "      <th></th>\n",
       "      <th>key</th>\n",
       "    </tr>\n",
       "  </thead>\n",
       "  <tbody>\n",
       "    <tr>\n",
       "      <th>count</th>\n",
       "      <td>3081.000000</td>\n",
       "    </tr>\n",
       "    <tr>\n",
       "      <th>mean</th>\n",
       "      <td>1623.426485</td>\n",
       "    </tr>\n",
       "    <tr>\n",
       "      <th>std</th>\n",
       "      <td>932.996726</td>\n",
       "    </tr>\n",
       "    <tr>\n",
       "      <th>min</th>\n",
       "      <td>1.000000</td>\n",
       "    </tr>\n",
       "    <tr>\n",
       "      <th>25%</th>\n",
       "      <td>823.000000</td>\n",
       "    </tr>\n",
       "    <tr>\n",
       "      <th>50%</th>\n",
       "      <td>1619.000000</td>\n",
       "    </tr>\n",
       "    <tr>\n",
       "      <th>75%</th>\n",
       "      <td>2434.000000</td>\n",
       "    </tr>\n",
       "    <tr>\n",
       "      <th>max</th>\n",
       "      <td>3241.000000</td>\n",
       "    </tr>\n",
       "  </tbody>\n",
       "</table>\n",
       "</div>"
      ],
      "text/plain": [
       "               key\n",
       "count  3081.000000\n",
       "mean   1623.426485\n",
       "std     932.996726\n",
       "min       1.000000\n",
       "25%     823.000000\n",
       "50%    1619.000000\n",
       "75%    2434.000000\n",
       "max    3241.000000"
      ]
     },
     "metadata": {},
     "output_type": "display_data"
    },
    {
     "name": "stdout",
     "output_type": "stream",
     "text": [
      "\u001b[1m\n",
      "\n",
      " Duplicates in data_wire_time:\u001b[0m\n",
      "0\n",
      "\u001b[1m\n",
      "\n",
      "Missing values in data_wire_time:\u001b[0m\n",
      "key          0\n",
      "Wire 1      26\n",
      "Wire 2    2002\n",
      "Wire 3    3018\n",
      "Wire 4    3067\n",
      "Wire 5    3080\n",
      "Wire 6    3008\n",
      "Wire 7    3070\n",
      "Wire 8    3062\n",
      "Wire 9    3052\n",
      "dtype: int64\n",
      "\u001b[1m\n",
      "\n",
      "Histograms of data_wire_time:\u001b[0m\n"
     ]
    },
    {
     "data": {
      "image/png": "[encoded data removed]",
      "text/plain": [
       "<Figure size 936x1080 with 1 Axes>"
      ]
     },
     "metadata": {
      "needs_background": "light"
     },
     "output_type": "display_data"
    }
   ],
   "source": [
    "for object in list:\n",
    "\n",
    "    print('\\033[1mDataframe name: '+object[0])\n",
    "    print('\\033[1m\\n\\n'+object[0]+' head:')\n",
    "    display(object[1].head())\n",
    "    print('\\033[1m\\n\\n'+object[0]+' info:\\033[0m')\n",
    "    object[1].info()\n",
    "    print('\\033[1m\\n\\n'+object[0]+' stats:\\033[0m')\n",
    "    display(object[1].describe())\n",
    "    print('\\033[1m\\n\\n Duplicates in '+object[0]+':\\033[0m')\n",
    "    print(object[1].duplicated().sum())\n",
    "    print('\\033[1m\\n\\nMissing values in '+object[0]+':\\033[0m')\n",
    "    print(object[1].isna().sum())\n",
    "    print('\\033[1m\\n\\nHistograms of '+object[0]+':\\033[0m')\n",
    "    try:\n",
    "        \n",
    "        object[1].hist(bins=50, figsize=[13,15])\n",
    "        plt.title(object[0])\n",
    "        plt.show()\n",
    "    except:\n",
    "        print('histogram not available due to lack of appropriate attributes')"
   ]
  },
  {
   "cell_type": "markdown",
   "id": "07f5d71c",
   "metadata": {},
   "source": [
    "### Выявленные особенности данных\n",
    "\n",
    "По результатам осмотра выявлены следующие особенности: \n",
    "- таблицы имеют различающееся в несколько раз количество записей:\n",
    "    - это происходит из-за того, что в некоторых таблицах присутствует множество записей, относящихся к одной и той же партии продукта;\n",
    "    - соответственно, группировать данные при объединении следует по значению 'key';\n",
    "- в таблице data_temp нас интересует только первое и последнее измерение для каждого key:\n",
    "    - для них будут созданы отдельные столбцы;\n",
    "    - последнее измерение будет использовано как целевой признак;\n",
    "- в таблицах, описывающих добавленные в металл присадки, есть столбцы, где большинство значений пропущено:\n",
    "    - из этого можно сделать вывод, что указанные присадки использовались редко;\n",
    "    - редко встречаемые присадки можно просуммировать по массе;\n",
    "    - пропуски можно заполнить нулями;\n",
    "- в данных есть аномальные значения:\n",
    "    - в показателях температуры из data_temp;\n",
    "    - отрицательное значение в поле реактивной мощности из таблицы data_arc;\n",
    "    - выбросы в сторону увеличения объема газа в data_gas;\n",
    "    - и другие.\n",
    "- столбцы датафреймов имеют сложные названия:\n",
    "    - при получении признаков они будут переименованы.\n",
    "    \n",
    "Можно приступать к предварительной обработке данных с учетом этих особенностей.\n",
    "\n",
    "\n",
    "\n"
   ]
  },
  {
   "cell_type": "markdown",
   "id": "9196219a",
   "metadata": {},
   "source": [
    "## Предварительная обработка данных\n",
    "\n",
    "### data_temp\n",
    "\n",
    "Из данной таблицы будет получен один из обучающих признаков (начальная температура) и целевой признак (конечная температура).\n",
    "Для этого необходимо удалить пропуски, удалить ковши с только одним измерением температуры и далее сгруппировать данные. "
   ]
  },
  {
   "cell_type": "code",
   "execution_count": 5,
   "id": "33042ec7",
   "metadata": {},
   "outputs": [],
   "source": [
    "data_temp.columns = ['key', 'measure_time', 'temp']\n",
    "data_temp['measure_time'] = pd.to_datetime(data_temp['measure_time'])\n",
    "data_temp.dropna(inplace=True)"
   ]
  },
  {
   "cell_type": "code",
   "execution_count": 6,
   "id": "d6652056",
   "metadata": {
    "scrolled": true
   },
   "outputs": [
    {
     "data": {
      "text/plain": [
       "Int64Index([2526, 2542, 2518, 3067, 3075, 2502, 3043, 2510, 3059, 2534,\n",
       "            ...\n",
       "            2783, 2791, 3234, 2799, 2681, 2807, 2815, 2823, 3226, 3152],\n",
       "           dtype='int64', length=741)"
      ]
     },
     "execution_count": 6,
     "metadata": {},
     "output_type": "execute_result"
    }
   ],
   "source": [
    "keys_to_drop = data_temp['key'].value_counts()[data_temp['key'].value_counts()==1].index\n",
    "keys_to_drop"
   ]
  },
  {
   "cell_type": "markdown",
   "id": "e5e6fa3d",
   "metadata": {},
   "source": [
    "741 ковш придётся удалить в связи с тем, что для них известно лишь одно измерение температуры. "
   ]
  },
  {
   "cell_type": "code",
   "execution_count": 7,
   "id": "f8f5e77a",
   "metadata": {},
   "outputs": [],
   "source": [
    "data_temp.drop(data_temp[data_temp['key'].isin(keys_to_drop)].index, inplace=True)"
   ]
  },
  {
   "cell_type": "markdown",
   "id": "b06fcc9f",
   "metadata": {},
   "source": [
    "Ниже предложен способ отбора температуры с минимальным и максимальным временем измерения для каждого ковша: отбираем индексы записей с таким временем и по этим индексам \"вытаскиваем\" значения из столбца температур. "
   ]
  },
  {
   "cell_type": "code",
   "execution_count": 8,
   "id": "2180d1cd",
   "metadata": {
    "scrolled": false
   },
   "outputs": [],
   "source": [
    "# задаём пустые списки\n",
    "indices_min = []\n",
    "indices_max = []\n",
    "# перебираем номера ковшей в цикле\n",
    "for key in data_temp['key'].unique():\n",
    "    indices_min.append((data_temp[(data_temp['key']==key) & # отбор по ковшу\n",
    "                                  (data_temp['measure_time']==( # отбор по времени измерения,\n",
    "                                      # которое должно быть минимальным\n",
    "                                      # для данного ковша\n",
    "             (data_temp[data_temp['key']==key]['measure_time'].min())))].index))\n",
    "# добавили индекс в список\n",
    "    indices_max.append((data_temp[(data_temp['key']==key) & (data_temp['measure_time']==(\n",
    "             (data_temp[data_temp['key']==key]['measure_time'].max())))].index))\n",
    "    \n",
    "# повторили процедуру для максимального значения времени по ковшу"
   ]
  },
  {
   "cell_type": "code",
   "execution_count": 9,
   "id": "ee7ee3f0",
   "metadata": {
    "scrolled": false
   },
   "outputs": [],
   "source": [
    "indices_min = np.array(indices_min)[:,0]\n",
    "indices_max = np.array(indices_max)[:,0]\n",
    "# перевели полученные списки в простой и доступный вид"
   ]
  },
  {
   "cell_type": "code",
   "execution_count": 10,
   "id": "cd9e5261",
   "metadata": {},
   "outputs": [],
   "source": [
    "data_temp['init_temp'] = data_temp.loc[indices_min, 'temp']\n",
    "# добавили столбец init_temp - с инициальной (первично измеренной) температурой\n",
    "data_temp['final_temp'] = data_temp.loc[indices_max, 'temp']\n",
    "# и final_temp - с последним замером."
   ]
  },
  {
   "cell_type": "code",
   "execution_count": 11,
   "id": "d0655eb4",
   "metadata": {
    "scrolled": false
   },
   "outputs": [
    {
     "data": {
      "text/html": [
       "<div>\n",
       "<style scoped>\n",
       "    .dataframe tbody tr th:only-of-type {\n",
       "        vertical-align: middle;\n",
       "    }\n",
       "\n",
       "    .dataframe tbody tr th {\n",
       "        vertical-align: top;\n",
       "    }\n",
       "\n",
       "    .dataframe thead th {\n",
       "        text-align: right;\n",
       "    }\n",
       "</style>\n",
       "<table border=\"1\" class=\"dataframe\">\n",
       "  <thead>\n",
       "    <tr style=\"text-align: right;\">\n",
       "      <th></th>\n",
       "      <th>key</th>\n",
       "      <th>measure_time</th>\n",
       "      <th>temp</th>\n",
       "      <th>init_temp</th>\n",
       "      <th>final_temp</th>\n",
       "    </tr>\n",
       "  </thead>\n",
       "  <tbody>\n",
       "    <tr>\n",
       "      <th>0</th>\n",
       "      <td>1</td>\n",
       "      <td>2019-05-03 11:16:18</td>\n",
       "      <td>1571.0</td>\n",
       "      <td>1571.0</td>\n",
       "      <td>NaN</td>\n",
       "    </tr>\n",
       "    <tr>\n",
       "      <th>1</th>\n",
       "      <td>1</td>\n",
       "      <td>2019-05-03 11:25:53</td>\n",
       "      <td>1604.0</td>\n",
       "      <td>NaN</td>\n",
       "      <td>NaN</td>\n",
       "    </tr>\n",
       "    <tr>\n",
       "      <th>2</th>\n",
       "      <td>1</td>\n",
       "      <td>2019-05-03 11:29:11</td>\n",
       "      <td>1618.0</td>\n",
       "      <td>NaN</td>\n",
       "      <td>NaN</td>\n",
       "    </tr>\n",
       "    <tr>\n",
       "      <th>3</th>\n",
       "      <td>1</td>\n",
       "      <td>2019-05-03 11:30:01</td>\n",
       "      <td>1601.0</td>\n",
       "      <td>NaN</td>\n",
       "      <td>NaN</td>\n",
       "    </tr>\n",
       "    <tr>\n",
       "      <th>4</th>\n",
       "      <td>1</td>\n",
       "      <td>2019-05-03 11:30:39</td>\n",
       "      <td>1613.0</td>\n",
       "      <td>NaN</td>\n",
       "      <td>1613.0</td>\n",
       "    </tr>\n",
       "    <tr>\n",
       "      <th>5</th>\n",
       "      <td>2</td>\n",
       "      <td>2019-05-03 11:37:27</td>\n",
       "      <td>1581.0</td>\n",
       "      <td>1581.0</td>\n",
       "      <td>NaN</td>\n",
       "    </tr>\n",
       "    <tr>\n",
       "      <th>6</th>\n",
       "      <td>2</td>\n",
       "      <td>2019-05-03 11:38:00</td>\n",
       "      <td>1577.0</td>\n",
       "      <td>NaN</td>\n",
       "      <td>NaN</td>\n",
       "    </tr>\n",
       "    <tr>\n",
       "      <th>7</th>\n",
       "      <td>2</td>\n",
       "      <td>2019-05-03 11:49:38</td>\n",
       "      <td>1589.0</td>\n",
       "      <td>NaN</td>\n",
       "      <td>NaN</td>\n",
       "    </tr>\n",
       "    <tr>\n",
       "      <th>8</th>\n",
       "      <td>2</td>\n",
       "      <td>2019-05-03 11:55:50</td>\n",
       "      <td>1604.0</td>\n",
       "      <td>NaN</td>\n",
       "      <td>NaN</td>\n",
       "    </tr>\n",
       "    <tr>\n",
       "      <th>9</th>\n",
       "      <td>2</td>\n",
       "      <td>2019-05-03 11:58:24</td>\n",
       "      <td>1608.0</td>\n",
       "      <td>NaN</td>\n",
       "      <td>NaN</td>\n",
       "    </tr>\n",
       "    <tr>\n",
       "      <th>10</th>\n",
       "      <td>2</td>\n",
       "      <td>2019-05-03 11:59:12</td>\n",
       "      <td>1602.0</td>\n",
       "      <td>NaN</td>\n",
       "      <td>1602.0</td>\n",
       "    </tr>\n",
       "    <tr>\n",
       "      <th>11</th>\n",
       "      <td>3</td>\n",
       "      <td>2019-05-03 12:13:17</td>\n",
       "      <td>1596.0</td>\n",
       "      <td>1596.0</td>\n",
       "      <td>NaN</td>\n",
       "    </tr>\n",
       "    <tr>\n",
       "      <th>12</th>\n",
       "      <td>3</td>\n",
       "      <td>2019-05-03 12:18:36</td>\n",
       "      <td>1597.0</td>\n",
       "      <td>NaN</td>\n",
       "      <td>NaN</td>\n",
       "    </tr>\n",
       "    <tr>\n",
       "      <th>13</th>\n",
       "      <td>3</td>\n",
       "      <td>2019-05-03 12:25:06</td>\n",
       "      <td>1598.0</td>\n",
       "      <td>NaN</td>\n",
       "      <td>NaN</td>\n",
       "    </tr>\n",
       "    <tr>\n",
       "      <th>14</th>\n",
       "      <td>3</td>\n",
       "      <td>2019-05-03 12:30:48</td>\n",
       "      <td>1599.0</td>\n",
       "      <td>NaN</td>\n",
       "      <td>NaN</td>\n",
       "    </tr>\n",
       "    <tr>\n",
       "      <th>15</th>\n",
       "      <td>3</td>\n",
       "      <td>2019-05-03 12:34:57</td>\n",
       "      <td>1599.0</td>\n",
       "      <td>NaN</td>\n",
       "      <td>1599.0</td>\n",
       "    </tr>\n",
       "    <tr>\n",
       "      <th>16</th>\n",
       "      <td>4</td>\n",
       "      <td>2019-05-03 12:52:57</td>\n",
       "      <td>1601.0</td>\n",
       "      <td>1601.0</td>\n",
       "      <td>NaN</td>\n",
       "    </tr>\n",
       "    <tr>\n",
       "      <th>17</th>\n",
       "      <td>4</td>\n",
       "      <td>2019-05-03 12:58:43</td>\n",
       "      <td>1623.0</td>\n",
       "      <td>NaN</td>\n",
       "      <td>NaN</td>\n",
       "    </tr>\n",
       "    <tr>\n",
       "      <th>18</th>\n",
       "      <td>4</td>\n",
       "      <td>2019-05-03 12:59:25</td>\n",
       "      <td>1625.0</td>\n",
       "      <td>NaN</td>\n",
       "      <td>1625.0</td>\n",
       "    </tr>\n",
       "    <tr>\n",
       "      <th>19</th>\n",
       "      <td>5</td>\n",
       "      <td>2019-05-03 13:23:19</td>\n",
       "      <td>1576.0</td>\n",
       "      <td>1576.0</td>\n",
       "      <td>NaN</td>\n",
       "    </tr>\n",
       "  </tbody>\n",
       "</table>\n",
       "</div>"
      ],
      "text/plain": [
       "    key        measure_time    temp  init_temp  final_temp\n",
       "0     1 2019-05-03 11:16:18  1571.0     1571.0         NaN\n",
       "1     1 2019-05-03 11:25:53  1604.0        NaN         NaN\n",
       "2     1 2019-05-03 11:29:11  1618.0        NaN         NaN\n",
       "3     1 2019-05-03 11:30:01  1601.0        NaN         NaN\n",
       "4     1 2019-05-03 11:30:39  1613.0        NaN      1613.0\n",
       "5     2 2019-05-03 11:37:27  1581.0     1581.0         NaN\n",
       "6     2 2019-05-03 11:38:00  1577.0        NaN         NaN\n",
       "7     2 2019-05-03 11:49:38  1589.0        NaN         NaN\n",
       "8     2 2019-05-03 11:55:50  1604.0        NaN         NaN\n",
       "9     2 2019-05-03 11:58:24  1608.0        NaN         NaN\n",
       "10    2 2019-05-03 11:59:12  1602.0        NaN      1602.0\n",
       "11    3 2019-05-03 12:13:17  1596.0     1596.0         NaN\n",
       "12    3 2019-05-03 12:18:36  1597.0        NaN         NaN\n",
       "13    3 2019-05-03 12:25:06  1598.0        NaN         NaN\n",
       "14    3 2019-05-03 12:30:48  1599.0        NaN         NaN\n",
       "15    3 2019-05-03 12:34:57  1599.0        NaN      1599.0\n",
       "16    4 2019-05-03 12:52:57  1601.0     1601.0         NaN\n",
       "17    4 2019-05-03 12:58:43  1623.0        NaN         NaN\n",
       "18    4 2019-05-03 12:59:25  1625.0        NaN      1625.0\n",
       "19    5 2019-05-03 13:23:19  1576.0     1576.0         NaN"
      ]
     },
     "execution_count": 11,
     "metadata": {},
     "output_type": "execute_result"
    }
   ],
   "source": [
    "#Проверяем результат:\n",
    "data_temp[0:20]"
   ]
  },
  {
   "cell_type": "markdown",
   "id": "c9675bbb",
   "metadata": {},
   "source": [
    "Нужные столбцы получены, теперь можно сгруппировать их по номеру ковша с помощью сводной таблицы."
   ]
  },
  {
   "cell_type": "code",
   "execution_count": 12,
   "id": "163165af",
   "metadata": {},
   "outputs": [],
   "source": [
    "data_temp = data_temp.pivot_table(index='key', values=['init_temp', 'final_temp'], aggfunc='max')"
   ]
  },
  {
   "cell_type": "code",
   "execution_count": 13,
   "id": "023ebc09",
   "metadata": {
    "scrolled": true
   },
   "outputs": [
    {
     "name": "stdout",
     "output_type": "stream",
     "text": [
      "<class 'pandas.core.frame.DataFrame'>\n",
      "Int64Index: 2475 entries, 1 to 2499\n",
      "Data columns (total 2 columns):\n",
      " #   Column      Non-Null Count  Dtype  \n",
      "---  ------      --------------  -----  \n",
      " 0   final_temp  2475 non-null   float64\n",
      " 1   init_temp   2475 non-null   float64\n",
      "dtypes: float64(2)\n",
      "memory usage: 58.0 KB\n"
     ]
    }
   ],
   "source": [
    "data_temp.info()"
   ]
  },
  {
   "cell_type": "markdown",
   "id": "15e6174f",
   "metadata": {},
   "source": [
    "### data_bulk\n",
    "\n",
    "Этот датафрейм содержит информацию о применении сыпучих присадок на производстве стали."
   ]
  },
  {
   "cell_type": "code",
   "execution_count": 14,
   "id": "62825dfe",
   "metadata": {
    "scrolled": true
   },
   "outputs": [
    {
     "name": "stdout",
     "output_type": "stream",
     "text": [
      "<class 'pandas.core.frame.DataFrame'>\n",
      "RangeIndex: 3129 entries, 0 to 3128\n",
      "Data columns (total 16 columns):\n",
      " #   Column   Non-Null Count  Dtype  \n",
      "---  ------   --------------  -----  \n",
      " 0   key      3129 non-null   int64  \n",
      " 1   Bulk 1   252 non-null    float64\n",
      " 2   Bulk 2   22 non-null     float64\n",
      " 3   Bulk 3   1298 non-null   float64\n",
      " 4   Bulk 4   1014 non-null   float64\n",
      " 5   Bulk 5   77 non-null     float64\n",
      " 6   Bulk 6   576 non-null    float64\n",
      " 7   Bulk 7   25 non-null     float64\n",
      " 8   Bulk 8   1 non-null      float64\n",
      " 9   Bulk 9   19 non-null     float64\n",
      " 10  Bulk 10  176 non-null    float64\n",
      " 11  Bulk 11  177 non-null    float64\n",
      " 12  Bulk 12  2450 non-null   float64\n",
      " 13  Bulk 13  18 non-null     float64\n",
      " 14  Bulk 14  2806 non-null   float64\n",
      " 15  Bulk 15  2248 non-null   float64\n",
      "dtypes: float64(15), int64(1)\n",
      "memory usage: 391.2 KB\n"
     ]
    }
   ],
   "source": [
    "data_bulk.info()"
   ]
  },
  {
   "cell_type": "markdown",
   "id": "7dca4795",
   "metadata": {},
   "source": [
    "Как видно, наиболее популярные присадки расположены под номерами 3, 4, 6, 12, 14, 15. Прочие будут просуммированы по массе, а их исходные столбцы не будут использованы.\n",
    "\n",
    "Пропуски в этих данных можно заполнить нулями.\n",
    "\n",
    "Индекс будет заменен на key для объединения с другими датафреймами."
   ]
  },
  {
   "cell_type": "code",
   "execution_count": 15,
   "id": "12a9d092",
   "metadata": {},
   "outputs": [
    {
     "data": {
      "text/plain": [
       "0"
      ]
     },
     "execution_count": 15,
     "metadata": {},
     "output_type": "execute_result"
    }
   ],
   "source": [
    "# Проверяем, что каждый номер ковша в таблице уникален\n",
    "(data_bulk['key'].value_counts()>1).sum()\n"
   ]
  },
  {
   "cell_type": "code",
   "execution_count": 16,
   "id": "60631580",
   "metadata": {},
   "outputs": [],
   "source": [
    "# Заменяем индекс номером ковша и заполняем пропуски\n",
    "data_bulk = data_bulk.set_index('key').fillna(0)"
   ]
  },
  {
   "cell_type": "code",
   "execution_count": 17,
   "id": "342eacdd",
   "metadata": {
    "scrolled": true
   },
   "outputs": [],
   "source": [
    "# создаем новый столбец путём суммирования всех присадок кроме часто используемых\n",
    "data_bulk['other_bulk'] = data_bulk.drop([\n",
    "    'Bulk 3',\n",
    "    'Bulk 4',\n",
    "    'Bulk 6',\n",
    "    'Bulk 12',\n",
    "    'Bulk 14',\n",
    "    'Bulk 15'], axis=1).sum(axis=1)"
   ]
  },
  {
   "cell_type": "code",
   "execution_count": 18,
   "id": "2cc03eba",
   "metadata": {},
   "outputs": [],
   "source": [
    "data_bulk = data_bulk.loc[:,['Bulk 3', 'Bulk 4','Bulk 6','Bulk 12','Bulk 14','Bulk 15','other_bulk']]\n",
    "data_bulk.columns = ['bulk_3', 'bulk_4', 'bulk_6', 'bulk_12', 'bulk_14', 'bulk_15', 'other_bulk']\n"
   ]
  },
  {
   "cell_type": "code",
   "execution_count": 19,
   "id": "175be623",
   "metadata": {
    "scrolled": false
   },
   "outputs": [
    {
     "name": "stdout",
     "output_type": "stream",
     "text": [
      "<class 'pandas.core.frame.DataFrame'>\n",
      "Int64Index: 3129 entries, 1 to 3241\n",
      "Data columns (total 7 columns):\n",
      " #   Column      Non-Null Count  Dtype  \n",
      "---  ------      --------------  -----  \n",
      " 0   bulk_3      3129 non-null   float64\n",
      " 1   bulk_4      3129 non-null   float64\n",
      " 2   bulk_6      3129 non-null   float64\n",
      " 3   bulk_12     3129 non-null   float64\n",
      " 4   bulk_14     3129 non-null   float64\n",
      " 5   bulk_15     3129 non-null   float64\n",
      " 6   other_bulk  3129 non-null   float64\n",
      "dtypes: float64(7)\n",
      "memory usage: 195.6 KB\n"
     ]
    }
   ],
   "source": [
    "data_bulk.info()"
   ]
  },
  {
   "cell_type": "markdown",
   "id": "209be9c0",
   "metadata": {},
   "source": [
    "В данных не осталось пропусков, лишние столбцы удалены, оставшиеся переименованы. Можно объединять данные."
   ]
  },
  {
   "cell_type": "code",
   "execution_count": 20,
   "id": "4f5fe0c3",
   "metadata": {},
   "outputs": [],
   "source": [
    "df = data_temp.join(data_bulk, how='inner')"
   ]
  },
  {
   "cell_type": "code",
   "execution_count": 21,
   "id": "bc5622d8",
   "metadata": {},
   "outputs": [
    {
     "name": "stdout",
     "output_type": "stream",
     "text": [
      "<class 'pandas.core.frame.DataFrame'>\n",
      "Int64Index: 2407 entries, 1 to 2499\n",
      "Data columns (total 9 columns):\n",
      " #   Column      Non-Null Count  Dtype  \n",
      "---  ------      --------------  -----  \n",
      " 0   final_temp  2407 non-null   float64\n",
      " 1   init_temp   2407 non-null   float64\n",
      " 2   bulk_3      2407 non-null   float64\n",
      " 3   bulk_4      2407 non-null   float64\n",
      " 4   bulk_6      2407 non-null   float64\n",
      " 5   bulk_12     2407 non-null   float64\n",
      " 6   bulk_14     2407 non-null   float64\n",
      " 7   bulk_15     2407 non-null   float64\n",
      " 8   other_bulk  2407 non-null   float64\n",
      "dtypes: float64(9)\n",
      "memory usage: 188.0 KB\n"
     ]
    }
   ],
   "source": [
    "df.info()"
   ]
  },
  {
   "cell_type": "markdown",
   "id": "6719d647",
   "metadata": {},
   "source": [
    "Данные успешно объединены, переходим к следующему этапу"
   ]
  },
  {
   "cell_type": "markdown",
   "id": "05ad929b",
   "metadata": {},
   "source": [
    "### data_wire\n",
    "\n",
    "Этот датафрейм содержит информацию о присадках в форме проволоки."
   ]
  },
  {
   "cell_type": "code",
   "execution_count": 22,
   "id": "aa0d811b",
   "metadata": {
    "scrolled": true
   },
   "outputs": [
    {
     "name": "stdout",
     "output_type": "stream",
     "text": [
      "<class 'pandas.core.frame.DataFrame'>\n",
      "RangeIndex: 3081 entries, 0 to 3080\n",
      "Data columns (total 10 columns):\n",
      " #   Column  Non-Null Count  Dtype  \n",
      "---  ------  --------------  -----  \n",
      " 0   key     3081 non-null   int64  \n",
      " 1   Wire 1  3055 non-null   float64\n",
      " 2   Wire 2  1079 non-null   float64\n",
      " 3   Wire 3  63 non-null     float64\n",
      " 4   Wire 4  14 non-null     float64\n",
      " 5   Wire 5  1 non-null      float64\n",
      " 6   Wire 6  73 non-null     float64\n",
      " 7   Wire 7  11 non-null     float64\n",
      " 8   Wire 8  19 non-null     float64\n",
      " 9   Wire 9  29 non-null     float64\n",
      "dtypes: float64(9), int64(1)\n",
      "memory usage: 240.8 KB\n"
     ]
    }
   ],
   "source": [
    "data_wire.info()"
   ]
  },
  {
   "cell_type": "markdown",
   "id": "8616606b",
   "metadata": {},
   "source": [
    "В этой таблице лишь 2 вида присадок используются часто, прочие будут просуммированы и объединены."
   ]
  },
  {
   "cell_type": "code",
   "execution_count": 23,
   "id": "8cc09599",
   "metadata": {
    "scrolled": true
   },
   "outputs": [
    {
     "data": {
      "text/plain": [
       "0"
      ]
     },
     "execution_count": 23,
     "metadata": {},
     "output_type": "execute_result"
    }
   ],
   "source": [
    "# Проверяем, что каждый номер ковша в таблице уникален\n",
    "(data_wire['key'].value_counts()>1).sum()"
   ]
  },
  {
   "cell_type": "code",
   "execution_count": 24,
   "id": "189d39f2",
   "metadata": {},
   "outputs": [],
   "source": [
    "# меняем индекс и заполняем пропуски\n",
    "data_wire = data_wire.set_index('key').fillna(0)"
   ]
  },
  {
   "cell_type": "code",
   "execution_count": 25,
   "id": "71cbd14a",
   "metadata": {},
   "outputs": [],
   "source": [
    "# создаем новый столбец путём суммирования всех присадок кроме часто используемых\n",
    "data_wire['other_wire'] = data_wire.drop(['Wire 1','Wire 2'], axis=1).sum(axis=1)\n"
   ]
  },
  {
   "cell_type": "code",
   "execution_count": 26,
   "id": "22cb3edc",
   "metadata": {},
   "outputs": [],
   "source": [
    "# ненужные столбцы удаляем, нужные переименовываем\n",
    "data_wire = data_wire.loc[:,['Wire 1', 'Wire 2', 'other_wire']]\n",
    "data_wire.columns = ['wire_1', 'wire_2', 'other_wire']"
   ]
  },
  {
   "cell_type": "code",
   "execution_count": 27,
   "id": "670a7ffb",
   "metadata": {
    "scrolled": true
   },
   "outputs": [
    {
     "name": "stdout",
     "output_type": "stream",
     "text": [
      "<class 'pandas.core.frame.DataFrame'>\n",
      "Int64Index: 3081 entries, 1 to 3241\n",
      "Data columns (total 3 columns):\n",
      " #   Column      Non-Null Count  Dtype  \n",
      "---  ------      --------------  -----  \n",
      " 0   wire_1      3081 non-null   float64\n",
      " 1   wire_2      3081 non-null   float64\n",
      " 2   other_wire  3081 non-null   float64\n",
      "dtypes: float64(3)\n",
      "memory usage: 96.3 KB\n"
     ]
    }
   ],
   "source": [
    "data_wire.info()"
   ]
  },
  {
   "cell_type": "markdown",
   "id": "351b7159",
   "metadata": {},
   "source": [
    "Данные подготовлены к объединению."
   ]
  },
  {
   "cell_type": "code",
   "execution_count": 28,
   "id": "863e84f4",
   "metadata": {},
   "outputs": [],
   "source": [
    "df = df.join(data_wire, how='inner')\n",
    "# выполняем inner join"
   ]
  },
  {
   "cell_type": "markdown",
   "id": "73d85457",
   "metadata": {},
   "source": [
    "### data_gas"
   ]
  },
  {
   "cell_type": "code",
   "execution_count": 29,
   "id": "e6f448f4",
   "metadata": {},
   "outputs": [],
   "source": [
    "# меняем индекс\n",
    "data_gas = data_gas.set_index('key')\n",
    "# меняем название единственного оставшегося столбца\n",
    "data_gas.columns=['gas']"
   ]
  },
  {
   "cell_type": "code",
   "execution_count": 30,
   "id": "114b84b0",
   "metadata": {
    "scrolled": false
   },
   "outputs": [
    {
     "name": "stdout",
     "output_type": "stream",
     "text": [
      "<class 'pandas.core.frame.DataFrame'>\n",
      "Int64Index: 3239 entries, 1 to 3241\n",
      "Data columns (total 1 columns):\n",
      " #   Column  Non-Null Count  Dtype  \n",
      "---  ------  --------------  -----  \n",
      " 0   gas     3239 non-null   float64\n",
      "dtypes: float64(1)\n",
      "memory usage: 50.6 KB\n"
     ]
    }
   ],
   "source": [
    "data_gas.info()"
   ]
  },
  {
   "cell_type": "code",
   "execution_count": 31,
   "id": "921907a6",
   "metadata": {},
   "outputs": [],
   "source": [
    "df = df.join(data_gas, how='inner')"
   ]
  },
  {
   "cell_type": "markdown",
   "id": "75eb180d",
   "metadata": {},
   "source": [
    "### data_arc\n",
    "\n",
    "В этом датафрейме содержатся данные о нагревании стали электродами: длительность, мощность активная и реактивная.\n",
    "В рамках настоящей работы планируется просуммировать длительность нагревания каждого ковша, посчитать эпизоды нагревания и вычислить полную мощность. "
   ]
  },
  {
   "cell_type": "code",
   "execution_count": 32,
   "id": "f21b1b32",
   "metadata": {
    "scrolled": true
   },
   "outputs": [
    {
     "name": "stdout",
     "output_type": "stream",
     "text": [
      "<class 'pandas.core.frame.DataFrame'>\n",
      "RangeIndex: 14876 entries, 0 to 14875\n",
      "Data columns (total 5 columns):\n",
      " #   Column                Non-Null Count  Dtype  \n",
      "---  ------                --------------  -----  \n",
      " 0   key                   14876 non-null  int64  \n",
      " 1   Начало нагрева дугой  14876 non-null  object \n",
      " 2   Конец нагрева дугой   14876 non-null  object \n",
      " 3   Активная мощность     14876 non-null  float64\n",
      " 4   Реактивная мощность   14876 non-null  float64\n",
      "dtypes: float64(2), int64(1), object(2)\n",
      "memory usage: 581.2+ KB\n"
     ]
    }
   ],
   "source": [
    "data_arc.info()"
   ]
  },
  {
   "cell_type": "markdown",
   "id": "cb09fa77",
   "metadata": {},
   "source": [
    "Для обработки этих данных потребуется привести время к типу datetime, также для удобства можно переименовать столбцы."
   ]
  },
  {
   "cell_type": "code",
   "execution_count": 33,
   "id": "cb22d57b",
   "metadata": {},
   "outputs": [],
   "source": [
    "data_arc.columns = ['key', 'heat_start', 'heat_finish', 'act_power', 'react_power']\n",
    "data_arc['heat_start'] = pd.to_datetime(data_arc['heat_start'])\n",
    "data_arc['heat_finish'] = pd.to_datetime(data_arc['heat_finish'])"
   ]
  },
  {
   "cell_type": "markdown",
   "id": "267711db",
   "metadata": {},
   "source": [
    "Теперь добавим новые признаки: полную мощность и время нагрева."
   ]
  },
  {
   "cell_type": "code",
   "execution_count": 34,
   "id": "f0ac1eb6",
   "metadata": {},
   "outputs": [],
   "source": [
    "data_arc['total_power'] = (data_arc['act_power']**2 + data_arc['react_power']**2)**0.5\n",
    "\n",
    "# расчёт по формуле: квадрат полной мощности равен сумме квадратов активной мощности и реактивной мощности\n",
    "\n"
   ]
  },
  {
   "cell_type": "code",
   "execution_count": 35,
   "id": "7c3b2da0",
   "metadata": {},
   "outputs": [],
   "source": [
    "data_arc['heat_duration'] = ((data_arc['heat_finish'] - data_arc['heat_start']).astype(int))/10**9\n",
    "\n",
    "# вычисляем временной промежуток и переводим его в секунды, путем приведения к типу integer и деления на 10^9."
   ]
  },
  {
   "cell_type": "code",
   "execution_count": 36,
   "id": "7ef281b5",
   "metadata": {
    "scrolled": true
   },
   "outputs": [
    {
     "data": {
      "text/html": [
       "<div>\n",
       "<style scoped>\n",
       "    .dataframe tbody tr th:only-of-type {\n",
       "        vertical-align: middle;\n",
       "    }\n",
       "\n",
       "    .dataframe tbody tr th {\n",
       "        vertical-align: top;\n",
       "    }\n",
       "\n",
       "    .dataframe thead th {\n",
       "        text-align: right;\n",
       "    }\n",
       "</style>\n",
       "<table border=\"1\" class=\"dataframe\">\n",
       "  <thead>\n",
       "    <tr style=\"text-align: right;\">\n",
       "      <th></th>\n",
       "      <th>key</th>\n",
       "      <th>heat_start</th>\n",
       "      <th>heat_finish</th>\n",
       "      <th>act_power</th>\n",
       "      <th>react_power</th>\n",
       "      <th>total_power</th>\n",
       "      <th>heat_duration</th>\n",
       "    </tr>\n",
       "  </thead>\n",
       "  <tbody>\n",
       "    <tr>\n",
       "      <th>0</th>\n",
       "      <td>1</td>\n",
       "      <td>2019-05-03 11:02:14</td>\n",
       "      <td>2019-05-03 11:06:02</td>\n",
       "      <td>0.976059</td>\n",
       "      <td>0.687084</td>\n",
       "      <td>1.193639</td>\n",
       "      <td>228.0</td>\n",
       "    </tr>\n",
       "    <tr>\n",
       "      <th>1</th>\n",
       "      <td>1</td>\n",
       "      <td>2019-05-03 11:07:28</td>\n",
       "      <td>2019-05-03 11:10:33</td>\n",
       "      <td>0.805607</td>\n",
       "      <td>0.520285</td>\n",
       "      <td>0.959010</td>\n",
       "      <td>185.0</td>\n",
       "    </tr>\n",
       "    <tr>\n",
       "      <th>2</th>\n",
       "      <td>1</td>\n",
       "      <td>2019-05-03 11:11:44</td>\n",
       "      <td>2019-05-03 11:14:36</td>\n",
       "      <td>0.744363</td>\n",
       "      <td>0.498805</td>\n",
       "      <td>0.896038</td>\n",
       "      <td>172.0</td>\n",
       "    </tr>\n",
       "    <tr>\n",
       "      <th>3</th>\n",
       "      <td>1</td>\n",
       "      <td>2019-05-03 11:18:14</td>\n",
       "      <td>2019-05-03 11:24:19</td>\n",
       "      <td>1.659363</td>\n",
       "      <td>1.062669</td>\n",
       "      <td>1.970470</td>\n",
       "      <td>365.0</td>\n",
       "    </tr>\n",
       "    <tr>\n",
       "      <th>4</th>\n",
       "      <td>1</td>\n",
       "      <td>2019-05-03 11:26:09</td>\n",
       "      <td>2019-05-03 11:28:37</td>\n",
       "      <td>0.692755</td>\n",
       "      <td>0.414397</td>\n",
       "      <td>0.807239</td>\n",
       "      <td>148.0</td>\n",
       "    </tr>\n",
       "  </tbody>\n",
       "</table>\n",
       "</div>"
      ],
      "text/plain": [
       "   key          heat_start         heat_finish  act_power  react_power  \\\n",
       "0    1 2019-05-03 11:02:14 2019-05-03 11:06:02   0.976059     0.687084   \n",
       "1    1 2019-05-03 11:07:28 2019-05-03 11:10:33   0.805607     0.520285   \n",
       "2    1 2019-05-03 11:11:44 2019-05-03 11:14:36   0.744363     0.498805   \n",
       "3    1 2019-05-03 11:18:14 2019-05-03 11:24:19   1.659363     1.062669   \n",
       "4    1 2019-05-03 11:26:09 2019-05-03 11:28:37   0.692755     0.414397   \n",
       "\n",
       "   total_power  heat_duration  \n",
       "0     1.193639          228.0  \n",
       "1     0.959010          185.0  \n",
       "2     0.896038          172.0  \n",
       "3     1.970470          365.0  \n",
       "4     0.807239          148.0  "
      ]
     },
     "execution_count": 36,
     "metadata": {},
     "output_type": "execute_result"
    }
   ],
   "source": [
    "data_arc.head()"
   ]
  },
  {
   "cell_type": "markdown",
   "id": "95f2b4ab",
   "metadata": {},
   "source": [
    "Полученная таблица выглядит так, как ожидалось. Теперь сгруппируем записи по номеру ковша и вычислим окончательные значения признаков:\n",
    "- суммарная полная мощность;\n",
    "- суммарное время нагрева;\n",
    "- число эпизодов нагрева."
   ]
  },
  {
   "cell_type": "code",
   "execution_count": 37,
   "id": "3fce020a",
   "metadata": {},
   "outputs": [],
   "source": [
    "data_arc = data_arc.pivot_table(index='key', # группируем по номеру ковша\n",
    "                     values=['total_power', 'heat_duration', 'heat_start'], # выбираем столбцы\n",
    "                     aggfunc={'total_power': 'sum', 'heat_duration': 'sum', 'heat_start':'count'}) # мощность и длительность\n",
    "                                                                                                # суммируем, количество считаем\n",
    "                                                                                    "
   ]
  },
  {
   "cell_type": "code",
   "execution_count": 38,
   "id": "3bddd084",
   "metadata": {},
   "outputs": [],
   "source": [
    "data_arc.columns=['heat_duration', 'times_heated', 'total_power']"
   ]
  },
  {
   "cell_type": "code",
   "execution_count": 39,
   "id": "0be73363",
   "metadata": {
    "scrolled": true
   },
   "outputs": [
    {
     "name": "stdout",
     "output_type": "stream",
     "text": [
      "<class 'pandas.core.frame.DataFrame'>\n",
      "Int64Index: 3214 entries, 1 to 3241\n",
      "Data columns (total 3 columns):\n",
      " #   Column         Non-Null Count  Dtype  \n",
      "---  ------         --------------  -----  \n",
      " 0   heat_duration  3214 non-null   float64\n",
      " 1   times_heated   3214 non-null   int64  \n",
      " 2   total_power    3214 non-null   float64\n",
      "dtypes: float64(2), int64(1)\n",
      "memory usage: 100.4 KB\n"
     ]
    }
   ],
   "source": [
    "data_arc.info()"
   ]
  },
  {
   "cell_type": "markdown",
   "id": "204dbb3a",
   "metadata": {},
   "source": [
    "Датафрейм обработан и готов к объединению."
   ]
  },
  {
   "cell_type": "code",
   "execution_count": 40,
   "id": "34a828ff",
   "metadata": {},
   "outputs": [],
   "source": [
    "df = df.join(data_arc, how='inner')"
   ]
  },
  {
   "cell_type": "markdown",
   "id": "e4e47c71",
   "metadata": {},
   "source": [
    "### data_bulk_time и data_wire_time\n",
    "\n",
    "Эти таблицы содержат информацию о том, когда в процессе производства подавались сыпучие и проволочные присадки. Учитывая, что мы пользуемся данными без привязки ко времени, в настоящей работе эти таблицы не будут использоваться.\n"
   ]
  },
  {
   "cell_type": "markdown",
   "id": "b9054161",
   "metadata": {},
   "source": [
    "### Обработка аномальных значений\n",
    "В нашем распоряжении малое количество данных - немногим более 2000 записей. Поэтому удалять аномалии будем максимально экономно. Для начала рассмотрим диаграммы размаха полученных признаков."
   ]
  },
  {
   "cell_type": "code",
   "execution_count": 41,
   "id": "99cafb46",
   "metadata": {
    "scrolled": false
   },
   "outputs": [
    {
     "data": {
      "image/png": "[encoded data removed]",
      "text/plain": [
       "<Figure size 1224x1440 with 16 Axes>"
      ]
     },
     "metadata": {
      "needs_background": "light"
     },
     "output_type": "display_data"
    }
   ],
   "source": [
    "df.plot(kind='box', subplots='true', figsize=[17,20], title='Диаграммы размаха признаков', grid=True, layout=[4,4])\n",
    "plt.show()"
   ]
  },
  {
   "cell_type": "code",
   "execution_count": 42,
   "id": "ae90bc2b",
   "metadata": {},
   "outputs": [],
   "source": [
    "df_processed = df[(df['init_temp']>1400) &\n",
    "\n",
    "    (df['total_power']<100)]"
   ]
  },
  {
   "cell_type": "code",
   "execution_count": 43,
   "id": "1c12ae23",
   "metadata": {
    "scrolled": true
   },
   "outputs": [
    {
     "name": "stdout",
     "output_type": "stream",
     "text": [
      "<class 'pandas.core.frame.DataFrame'>\n",
      "Int64Index: 2324 entries, 1 to 2499\n",
      "Data columns (total 16 columns):\n",
      " #   Column         Non-Null Count  Dtype  \n",
      "---  ------         --------------  -----  \n",
      " 0   final_temp     2324 non-null   float64\n",
      " 1   init_temp      2324 non-null   float64\n",
      " 2   bulk_3         2324 non-null   float64\n",
      " 3   bulk_4         2324 non-null   float64\n",
      " 4   bulk_6         2324 non-null   float64\n",
      " 5   bulk_12        2324 non-null   float64\n",
      " 6   bulk_14        2324 non-null   float64\n",
      " 7   bulk_15        2324 non-null   float64\n",
      " 8   other_bulk     2324 non-null   float64\n",
      " 9   wire_1         2324 non-null   float64\n",
      " 10  wire_2         2324 non-null   float64\n",
      " 11  other_wire     2324 non-null   float64\n",
      " 12  gas            2324 non-null   float64\n",
      " 13  heat_duration  2324 non-null   float64\n",
      " 14  times_heated   2324 non-null   int64  \n",
      " 15  total_power    2324 non-null   float64\n",
      "dtypes: float64(15), int64(1)\n",
      "memory usage: 308.7 KB\n"
     ]
    }
   ],
   "source": [
    "df_processed.info()"
   ]
  },
  {
   "cell_type": "code",
   "execution_count": 44,
   "id": "5b9b3666",
   "metadata": {
    "scrolled": false
   },
   "outputs": [
    {
     "data": {
      "image/png": "[encoded data removed]",
      "text/plain": [
       "<Figure size 1224x1440 with 16 Axes>"
      ]
     },
     "metadata": {
      "needs_background": "light"
     },
     "output_type": "display_data"
    }
   ],
   "source": [
    "df_processed.plot(kind='box', subplots='true', figsize=[17,20], title='Диаграммы размаха признаков', grid=True, layout=[4,4])\n",
    "plt.show()"
   ]
  },
  {
   "cell_type": "markdown",
   "id": "ef169c03",
   "metadata": {},
   "source": [
    "Итак, после удаления наиболее грубых выбросов осталось около 2300 записей. При этом на диаграммах количество аномалий снизилось.\n",
    "Можно разделить данные на выборки и приступить к машинному обучению."
   ]
  },
  {
   "cell_type": "code",
   "execution_count": 45,
   "id": "8cf0228a",
   "metadata": {},
   "outputs": [
    {
     "data": {
      "text/html": [
       "<div>\n",
       "<style scoped>\n",
       "    .dataframe tbody tr th:only-of-type {\n",
       "        vertical-align: middle;\n",
       "    }\n",
       "\n",
       "    .dataframe tbody tr th {\n",
       "        vertical-align: top;\n",
       "    }\n",
       "\n",
       "    .dataframe thead th {\n",
       "        text-align: right;\n",
       "    }\n",
       "</style>\n",
       "<table border=\"1\" class=\"dataframe\">\n",
       "  <thead>\n",
       "    <tr style=\"text-align: right;\">\n",
       "      <th></th>\n",
       "      <th>final_temp</th>\n",
       "      <th>init_temp</th>\n",
       "      <th>bulk_3</th>\n",
       "      <th>bulk_4</th>\n",
       "      <th>bulk_6</th>\n",
       "      <th>bulk_12</th>\n",
       "      <th>bulk_14</th>\n",
       "      <th>bulk_15</th>\n",
       "      <th>other_bulk</th>\n",
       "      <th>wire_1</th>\n",
       "      <th>wire_2</th>\n",
       "      <th>other_wire</th>\n",
       "      <th>gas</th>\n",
       "      <th>heat_duration</th>\n",
       "      <th>times_heated</th>\n",
       "      <th>total_power</th>\n",
       "    </tr>\n",
       "    <tr>\n",
       "      <th>key</th>\n",
       "      <th></th>\n",
       "      <th></th>\n",
       "      <th></th>\n",
       "      <th></th>\n",
       "      <th></th>\n",
       "      <th></th>\n",
       "      <th></th>\n",
       "      <th></th>\n",
       "      <th></th>\n",
       "      <th></th>\n",
       "      <th></th>\n",
       "      <th></th>\n",
       "      <th></th>\n",
       "      <th></th>\n",
       "      <th></th>\n",
       "      <th></th>\n",
       "    </tr>\n",
       "  </thead>\n",
       "  <tbody>\n",
       "    <tr>\n",
       "      <th>1</th>\n",
       "      <td>1613.0</td>\n",
       "      <td>1571.0</td>\n",
       "      <td>0.0</td>\n",
       "      <td>43.0</td>\n",
       "      <td>0.0</td>\n",
       "      <td>206.0</td>\n",
       "      <td>150.0</td>\n",
       "      <td>154.0</td>\n",
       "      <td>0.0</td>\n",
       "      <td>60.059998</td>\n",
       "      <td>0.00000</td>\n",
       "      <td>0.0</td>\n",
       "      <td>29.749986</td>\n",
       "      <td>1098.0</td>\n",
       "      <td>5</td>\n",
       "      <td>5.826395</td>\n",
       "    </tr>\n",
       "    <tr>\n",
       "      <th>2</th>\n",
       "      <td>1602.0</td>\n",
       "      <td>1581.0</td>\n",
       "      <td>0.0</td>\n",
       "      <td>73.0</td>\n",
       "      <td>0.0</td>\n",
       "      <td>206.0</td>\n",
       "      <td>149.0</td>\n",
       "      <td>154.0</td>\n",
       "      <td>0.0</td>\n",
       "      <td>96.052315</td>\n",
       "      <td>0.00000</td>\n",
       "      <td>0.0</td>\n",
       "      <td>12.555561</td>\n",
       "      <td>811.0</td>\n",
       "      <td>4</td>\n",
       "      <td>3.649216</td>\n",
       "    </tr>\n",
       "    <tr>\n",
       "      <th>3</th>\n",
       "      <td>1599.0</td>\n",
       "      <td>1596.0</td>\n",
       "      <td>0.0</td>\n",
       "      <td>34.0</td>\n",
       "      <td>0.0</td>\n",
       "      <td>205.0</td>\n",
       "      <td>152.0</td>\n",
       "      <td>153.0</td>\n",
       "      <td>0.0</td>\n",
       "      <td>91.160157</td>\n",
       "      <td>0.00000</td>\n",
       "      <td>0.0</td>\n",
       "      <td>28.554793</td>\n",
       "      <td>655.0</td>\n",
       "      <td>5</td>\n",
       "      <td>2.989534</td>\n",
       "    </tr>\n",
       "    <tr>\n",
       "      <th>4</th>\n",
       "      <td>1625.0</td>\n",
       "      <td>1601.0</td>\n",
       "      <td>0.0</td>\n",
       "      <td>81.0</td>\n",
       "      <td>0.0</td>\n",
       "      <td>207.0</td>\n",
       "      <td>153.0</td>\n",
       "      <td>154.0</td>\n",
       "      <td>0.0</td>\n",
       "      <td>89.063515</td>\n",
       "      <td>0.00000</td>\n",
       "      <td>0.0</td>\n",
       "      <td>18.841219</td>\n",
       "      <td>741.0</td>\n",
       "      <td>4</td>\n",
       "      <td>3.814962</td>\n",
       "    </tr>\n",
       "    <tr>\n",
       "      <th>5</th>\n",
       "      <td>1602.0</td>\n",
       "      <td>1576.0</td>\n",
       "      <td>0.0</td>\n",
       "      <td>78.0</td>\n",
       "      <td>0.0</td>\n",
       "      <td>203.0</td>\n",
       "      <td>151.0</td>\n",
       "      <td>152.0</td>\n",
       "      <td>0.0</td>\n",
       "      <td>89.238236</td>\n",
       "      <td>9.11456</td>\n",
       "      <td>0.0</td>\n",
       "      <td>5.413692</td>\n",
       "      <td>869.0</td>\n",
       "      <td>4</td>\n",
       "      <td>4.035758</td>\n",
       "    </tr>\n",
       "    <tr>\n",
       "      <th>...</th>\n",
       "      <td>...</td>\n",
       "      <td>...</td>\n",
       "      <td>...</td>\n",
       "      <td>...</td>\n",
       "      <td>...</td>\n",
       "      <td>...</td>\n",
       "      <td>...</td>\n",
       "      <td>...</td>\n",
       "      <td>...</td>\n",
       "      <td>...</td>\n",
       "      <td>...</td>\n",
       "      <td>...</td>\n",
       "      <td>...</td>\n",
       "      <td>...</td>\n",
       "      <td>...</td>\n",
       "      <td>...</td>\n",
       "    </tr>\n",
       "    <tr>\n",
       "      <th>2495</th>\n",
       "      <td>1591.0</td>\n",
       "      <td>1570.0</td>\n",
       "      <td>21.0</td>\n",
       "      <td>0.0</td>\n",
       "      <td>0.0</td>\n",
       "      <td>256.0</td>\n",
       "      <td>129.0</td>\n",
       "      <td>223.0</td>\n",
       "      <td>90.0</td>\n",
       "      <td>89.150879</td>\n",
       "      <td>0.00000</td>\n",
       "      <td>0.0</td>\n",
       "      <td>7.125735</td>\n",
       "      <td>723.0</td>\n",
       "      <td>4</td>\n",
       "      <td>3.986869</td>\n",
       "    </tr>\n",
       "    <tr>\n",
       "      <th>2496</th>\n",
       "      <td>1591.0</td>\n",
       "      <td>1554.0</td>\n",
       "      <td>0.0</td>\n",
       "      <td>63.0</td>\n",
       "      <td>0.0</td>\n",
       "      <td>256.0</td>\n",
       "      <td>129.0</td>\n",
       "      <td>226.0</td>\n",
       "      <td>122.0</td>\n",
       "      <td>114.179527</td>\n",
       "      <td>0.00000</td>\n",
       "      <td>0.0</td>\n",
       "      <td>9.412616</td>\n",
       "      <td>940.0</td>\n",
       "      <td>6</td>\n",
       "      <td>5.057033</td>\n",
       "    </tr>\n",
       "    <tr>\n",
       "      <th>2497</th>\n",
       "      <td>1589.0</td>\n",
       "      <td>1571.0</td>\n",
       "      <td>0.0</td>\n",
       "      <td>85.0</td>\n",
       "      <td>0.0</td>\n",
       "      <td>230.0</td>\n",
       "      <td>124.0</td>\n",
       "      <td>226.0</td>\n",
       "      <td>0.0</td>\n",
       "      <td>94.086723</td>\n",
       "      <td>9.04800</td>\n",
       "      <td>0.0</td>\n",
       "      <td>6.271699</td>\n",
       "      <td>569.0</td>\n",
       "      <td>3</td>\n",
       "      <td>2.885017</td>\n",
       "    </tr>\n",
       "    <tr>\n",
       "      <th>2498</th>\n",
       "      <td>1594.0</td>\n",
       "      <td>1591.0</td>\n",
       "      <td>90.0</td>\n",
       "      <td>0.0</td>\n",
       "      <td>0.0</td>\n",
       "      <td>206.0</td>\n",
       "      <td>129.0</td>\n",
       "      <td>207.0</td>\n",
       "      <td>101.0</td>\n",
       "      <td>118.110717</td>\n",
       "      <td>0.00000</td>\n",
       "      <td>0.0</td>\n",
       "      <td>14.953657</td>\n",
       "      <td>750.0</td>\n",
       "      <td>5</td>\n",
       "      <td>4.143749</td>\n",
       "    </tr>\n",
       "    <tr>\n",
       "      <th>2499</th>\n",
       "      <td>1603.0</td>\n",
       "      <td>1569.0</td>\n",
       "      <td>47.0</td>\n",
       "      <td>0.0</td>\n",
       "      <td>0.0</td>\n",
       "      <td>233.0</td>\n",
       "      <td>126.0</td>\n",
       "      <td>227.0</td>\n",
       "      <td>0.0</td>\n",
       "      <td>110.160958</td>\n",
       "      <td>50.00528</td>\n",
       "      <td>0.0</td>\n",
       "      <td>11.336151</td>\n",
       "      <td>883.0</td>\n",
       "      <td>4</td>\n",
       "      <td>4.953010</td>\n",
       "    </tr>\n",
       "  </tbody>\n",
       "</table>\n",
       "<p>2324 rows × 16 columns</p>\n",
       "</div>"
      ],
      "text/plain": [
       "      final_temp  init_temp  bulk_3  bulk_4  bulk_6  bulk_12  bulk_14  \\\n",
       "key                                                                     \n",
       "1         1613.0     1571.0     0.0    43.0     0.0    206.0    150.0   \n",
       "2         1602.0     1581.0     0.0    73.0     0.0    206.0    149.0   \n",
       "3         1599.0     1596.0     0.0    34.0     0.0    205.0    152.0   \n",
       "4         1625.0     1601.0     0.0    81.0     0.0    207.0    153.0   \n",
       "5         1602.0     1576.0     0.0    78.0     0.0    203.0    151.0   \n",
       "...          ...        ...     ...     ...     ...      ...      ...   \n",
       "2495      1591.0     1570.0    21.0     0.0     0.0    256.0    129.0   \n",
       "2496      1591.0     1554.0     0.0    63.0     0.0    256.0    129.0   \n",
       "2497      1589.0     1571.0     0.0    85.0     0.0    230.0    124.0   \n",
       "2498      1594.0     1591.0    90.0     0.0     0.0    206.0    129.0   \n",
       "2499      1603.0     1569.0    47.0     0.0     0.0    233.0    126.0   \n",
       "\n",
       "      bulk_15  other_bulk      wire_1    wire_2  other_wire        gas  \\\n",
       "key                                                                      \n",
       "1       154.0         0.0   60.059998   0.00000         0.0  29.749986   \n",
       "2       154.0         0.0   96.052315   0.00000         0.0  12.555561   \n",
       "3       153.0         0.0   91.160157   0.00000         0.0  28.554793   \n",
       "4       154.0         0.0   89.063515   0.00000         0.0  18.841219   \n",
       "5       152.0         0.0   89.238236   9.11456         0.0   5.413692   \n",
       "...       ...         ...         ...       ...         ...        ...   \n",
       "2495    223.0        90.0   89.150879   0.00000         0.0   7.125735   \n",
       "2496    226.0       122.0  114.179527   0.00000         0.0   9.412616   \n",
       "2497    226.0         0.0   94.086723   9.04800         0.0   6.271699   \n",
       "2498    207.0       101.0  118.110717   0.00000         0.0  14.953657   \n",
       "2499    227.0         0.0  110.160958  50.00528         0.0  11.336151   \n",
       "\n",
       "      heat_duration  times_heated  total_power  \n",
       "key                                             \n",
       "1            1098.0             5     5.826395  \n",
       "2             811.0             4     3.649216  \n",
       "3             655.0             5     2.989534  \n",
       "4             741.0             4     3.814962  \n",
       "5             869.0             4     4.035758  \n",
       "...             ...           ...          ...  \n",
       "2495          723.0             4     3.986869  \n",
       "2496          940.0             6     5.057033  \n",
       "2497          569.0             3     2.885017  \n",
       "2498          750.0             5     4.143749  \n",
       "2499          883.0             4     4.953010  \n",
       "\n",
       "[2324 rows x 16 columns]"
      ]
     },
     "execution_count": 45,
     "metadata": {},
     "output_type": "execute_result"
    }
   ],
   "source": [
    "df_processed"
   ]
  },
  {
   "cell_type": "markdown",
   "id": "536051d7",
   "metadata": {},
   "source": [
    "### Корреляционный анализ признаков"
   ]
  },
  {
   "cell_type": "code",
   "execution_count": 50,
   "id": "39a2a75d",
   "metadata": {},
   "outputs": [
    {
     "data": {
      "text/html": [
       "<div>\n",
       "<style scoped>\n",
       "    .dataframe tbody tr th:only-of-type {\n",
       "        vertical-align: middle;\n",
       "    }\n",
       "\n",
       "    .dataframe tbody tr th {\n",
       "        vertical-align: top;\n",
       "    }\n",
       "\n",
       "    .dataframe thead th {\n",
       "        text-align: right;\n",
       "    }\n",
       "</style>\n",
       "<table border=\"1\" class=\"dataframe\">\n",
       "  <thead>\n",
       "    <tr style=\"text-align: right;\">\n",
       "      <th></th>\n",
       "      <th>final_temp</th>\n",
       "      <th>init_temp</th>\n",
       "      <th>bulk_3</th>\n",
       "      <th>bulk_4</th>\n",
       "      <th>bulk_6</th>\n",
       "      <th>bulk_12</th>\n",
       "      <th>bulk_14</th>\n",
       "      <th>bulk_15</th>\n",
       "      <th>other_bulk</th>\n",
       "      <th>wire_1</th>\n",
       "      <th>wire_2</th>\n",
       "      <th>other_wire</th>\n",
       "      <th>gas</th>\n",
       "      <th>heat_duration</th>\n",
       "      <th>times_heated</th>\n",
       "      <th>total_power</th>\n",
       "    </tr>\n",
       "  </thead>\n",
       "  <tbody>\n",
       "    <tr>\n",
       "      <th>final_temp</th>\n",
       "      <td>1.0</td>\n",
       "      <td>NaN</td>\n",
       "      <td>NaN</td>\n",
       "      <td>NaN</td>\n",
       "      <td>NaN</td>\n",
       "      <td>NaN</td>\n",
       "      <td>NaN</td>\n",
       "      <td>NaN</td>\n",
       "      <td>NaN</td>\n",
       "      <td>NaN</td>\n",
       "      <td>NaN</td>\n",
       "      <td>NaN</td>\n",
       "      <td>NaN</td>\n",
       "      <td>NaN</td>\n",
       "      <td>NaN</td>\n",
       "      <td>NaN</td>\n",
       "    </tr>\n",
       "    <tr>\n",
       "      <th>init_temp</th>\n",
       "      <td>NaN</td>\n",
       "      <td>1.0</td>\n",
       "      <td>NaN</td>\n",
       "      <td>NaN</td>\n",
       "      <td>NaN</td>\n",
       "      <td>NaN</td>\n",
       "      <td>NaN</td>\n",
       "      <td>NaN</td>\n",
       "      <td>NaN</td>\n",
       "      <td>NaN</td>\n",
       "      <td>NaN</td>\n",
       "      <td>NaN</td>\n",
       "      <td>NaN</td>\n",
       "      <td>NaN</td>\n",
       "      <td>NaN</td>\n",
       "      <td>NaN</td>\n",
       "    </tr>\n",
       "    <tr>\n",
       "      <th>bulk_3</th>\n",
       "      <td>NaN</td>\n",
       "      <td>NaN</td>\n",
       "      <td>1.0</td>\n",
       "      <td>NaN</td>\n",
       "      <td>NaN</td>\n",
       "      <td>NaN</td>\n",
       "      <td>NaN</td>\n",
       "      <td>NaN</td>\n",
       "      <td>NaN</td>\n",
       "      <td>NaN</td>\n",
       "      <td>NaN</td>\n",
       "      <td>NaN</td>\n",
       "      <td>NaN</td>\n",
       "      <td>NaN</td>\n",
       "      <td>NaN</td>\n",
       "      <td>NaN</td>\n",
       "    </tr>\n",
       "    <tr>\n",
       "      <th>bulk_4</th>\n",
       "      <td>NaN</td>\n",
       "      <td>NaN</td>\n",
       "      <td>NaN</td>\n",
       "      <td>1.0</td>\n",
       "      <td>NaN</td>\n",
       "      <td>NaN</td>\n",
       "      <td>NaN</td>\n",
       "      <td>NaN</td>\n",
       "      <td>NaN</td>\n",
       "      <td>NaN</td>\n",
       "      <td>NaN</td>\n",
       "      <td>NaN</td>\n",
       "      <td>NaN</td>\n",
       "      <td>NaN</td>\n",
       "      <td>NaN</td>\n",
       "      <td>NaN</td>\n",
       "    </tr>\n",
       "    <tr>\n",
       "      <th>bulk_6</th>\n",
       "      <td>NaN</td>\n",
       "      <td>NaN</td>\n",
       "      <td>NaN</td>\n",
       "      <td>NaN</td>\n",
       "      <td>1.0</td>\n",
       "      <td>NaN</td>\n",
       "      <td>NaN</td>\n",
       "      <td>NaN</td>\n",
       "      <td>NaN</td>\n",
       "      <td>NaN</td>\n",
       "      <td>NaN</td>\n",
       "      <td>NaN</td>\n",
       "      <td>NaN</td>\n",
       "      <td>NaN</td>\n",
       "      <td>NaN</td>\n",
       "      <td>NaN</td>\n",
       "    </tr>\n",
       "    <tr>\n",
       "      <th>bulk_12</th>\n",
       "      <td>NaN</td>\n",
       "      <td>NaN</td>\n",
       "      <td>NaN</td>\n",
       "      <td>NaN</td>\n",
       "      <td>NaN</td>\n",
       "      <td>1.0</td>\n",
       "      <td>NaN</td>\n",
       "      <td>NaN</td>\n",
       "      <td>NaN</td>\n",
       "      <td>NaN</td>\n",
       "      <td>NaN</td>\n",
       "      <td>NaN</td>\n",
       "      <td>NaN</td>\n",
       "      <td>NaN</td>\n",
       "      <td>NaN</td>\n",
       "      <td>NaN</td>\n",
       "    </tr>\n",
       "    <tr>\n",
       "      <th>bulk_14</th>\n",
       "      <td>NaN</td>\n",
       "      <td>NaN</td>\n",
       "      <td>NaN</td>\n",
       "      <td>NaN</td>\n",
       "      <td>NaN</td>\n",
       "      <td>NaN</td>\n",
       "      <td>1.0</td>\n",
       "      <td>NaN</td>\n",
       "      <td>NaN</td>\n",
       "      <td>NaN</td>\n",
       "      <td>NaN</td>\n",
       "      <td>NaN</td>\n",
       "      <td>NaN</td>\n",
       "      <td>NaN</td>\n",
       "      <td>NaN</td>\n",
       "      <td>NaN</td>\n",
       "    </tr>\n",
       "    <tr>\n",
       "      <th>bulk_15</th>\n",
       "      <td>NaN</td>\n",
       "      <td>NaN</td>\n",
       "      <td>NaN</td>\n",
       "      <td>NaN</td>\n",
       "      <td>NaN</td>\n",
       "      <td>NaN</td>\n",
       "      <td>NaN</td>\n",
       "      <td>1.0</td>\n",
       "      <td>NaN</td>\n",
       "      <td>NaN</td>\n",
       "      <td>NaN</td>\n",
       "      <td>NaN</td>\n",
       "      <td>NaN</td>\n",
       "      <td>NaN</td>\n",
       "      <td>NaN</td>\n",
       "      <td>NaN</td>\n",
       "    </tr>\n",
       "    <tr>\n",
       "      <th>other_bulk</th>\n",
       "      <td>NaN</td>\n",
       "      <td>NaN</td>\n",
       "      <td>NaN</td>\n",
       "      <td>NaN</td>\n",
       "      <td>NaN</td>\n",
       "      <td>NaN</td>\n",
       "      <td>NaN</td>\n",
       "      <td>NaN</td>\n",
       "      <td>1.0</td>\n",
       "      <td>NaN</td>\n",
       "      <td>NaN</td>\n",
       "      <td>NaN</td>\n",
       "      <td>NaN</td>\n",
       "      <td>NaN</td>\n",
       "      <td>NaN</td>\n",
       "      <td>NaN</td>\n",
       "    </tr>\n",
       "    <tr>\n",
       "      <th>wire_1</th>\n",
       "      <td>NaN</td>\n",
       "      <td>NaN</td>\n",
       "      <td>NaN</td>\n",
       "      <td>NaN</td>\n",
       "      <td>NaN</td>\n",
       "      <td>NaN</td>\n",
       "      <td>NaN</td>\n",
       "      <td>NaN</td>\n",
       "      <td>NaN</td>\n",
       "      <td>1.0</td>\n",
       "      <td>NaN</td>\n",
       "      <td>NaN</td>\n",
       "      <td>NaN</td>\n",
       "      <td>NaN</td>\n",
       "      <td>NaN</td>\n",
       "      <td>NaN</td>\n",
       "    </tr>\n",
       "    <tr>\n",
       "      <th>wire_2</th>\n",
       "      <td>NaN</td>\n",
       "      <td>NaN</td>\n",
       "      <td>NaN</td>\n",
       "      <td>NaN</td>\n",
       "      <td>NaN</td>\n",
       "      <td>NaN</td>\n",
       "      <td>NaN</td>\n",
       "      <td>NaN</td>\n",
       "      <td>NaN</td>\n",
       "      <td>NaN</td>\n",
       "      <td>1.0</td>\n",
       "      <td>NaN</td>\n",
       "      <td>NaN</td>\n",
       "      <td>NaN</td>\n",
       "      <td>NaN</td>\n",
       "      <td>NaN</td>\n",
       "    </tr>\n",
       "    <tr>\n",
       "      <th>other_wire</th>\n",
       "      <td>NaN</td>\n",
       "      <td>NaN</td>\n",
       "      <td>NaN</td>\n",
       "      <td>NaN</td>\n",
       "      <td>NaN</td>\n",
       "      <td>NaN</td>\n",
       "      <td>NaN</td>\n",
       "      <td>NaN</td>\n",
       "      <td>NaN</td>\n",
       "      <td>NaN</td>\n",
       "      <td>NaN</td>\n",
       "      <td>1.0</td>\n",
       "      <td>NaN</td>\n",
       "      <td>NaN</td>\n",
       "      <td>NaN</td>\n",
       "      <td>NaN</td>\n",
       "    </tr>\n",
       "    <tr>\n",
       "      <th>gas</th>\n",
       "      <td>NaN</td>\n",
       "      <td>NaN</td>\n",
       "      <td>NaN</td>\n",
       "      <td>NaN</td>\n",
       "      <td>NaN</td>\n",
       "      <td>NaN</td>\n",
       "      <td>NaN</td>\n",
       "      <td>NaN</td>\n",
       "      <td>NaN</td>\n",
       "      <td>NaN</td>\n",
       "      <td>NaN</td>\n",
       "      <td>NaN</td>\n",
       "      <td>1.0</td>\n",
       "      <td>NaN</td>\n",
       "      <td>NaN</td>\n",
       "      <td>NaN</td>\n",
       "    </tr>\n",
       "    <tr>\n",
       "      <th>heat_duration</th>\n",
       "      <td>NaN</td>\n",
       "      <td>NaN</td>\n",
       "      <td>NaN</td>\n",
       "      <td>NaN</td>\n",
       "      <td>NaN</td>\n",
       "      <td>NaN</td>\n",
       "      <td>NaN</td>\n",
       "      <td>NaN</td>\n",
       "      <td>NaN</td>\n",
       "      <td>NaN</td>\n",
       "      <td>NaN</td>\n",
       "      <td>NaN</td>\n",
       "      <td>NaN</td>\n",
       "      <td>1.000000</td>\n",
       "      <td>NaN</td>\n",
       "      <td>0.982709</td>\n",
       "    </tr>\n",
       "    <tr>\n",
       "      <th>times_heated</th>\n",
       "      <td>NaN</td>\n",
       "      <td>NaN</td>\n",
       "      <td>NaN</td>\n",
       "      <td>NaN</td>\n",
       "      <td>NaN</td>\n",
       "      <td>NaN</td>\n",
       "      <td>NaN</td>\n",
       "      <td>NaN</td>\n",
       "      <td>NaN</td>\n",
       "      <td>NaN</td>\n",
       "      <td>NaN</td>\n",
       "      <td>NaN</td>\n",
       "      <td>NaN</td>\n",
       "      <td>NaN</td>\n",
       "      <td>1.0</td>\n",
       "      <td>NaN</td>\n",
       "    </tr>\n",
       "    <tr>\n",
       "      <th>total_power</th>\n",
       "      <td>NaN</td>\n",
       "      <td>NaN</td>\n",
       "      <td>NaN</td>\n",
       "      <td>NaN</td>\n",
       "      <td>NaN</td>\n",
       "      <td>NaN</td>\n",
       "      <td>NaN</td>\n",
       "      <td>NaN</td>\n",
       "      <td>NaN</td>\n",
       "      <td>NaN</td>\n",
       "      <td>NaN</td>\n",
       "      <td>NaN</td>\n",
       "      <td>NaN</td>\n",
       "      <td>0.982709</td>\n",
       "      <td>NaN</td>\n",
       "      <td>1.000000</td>\n",
       "    </tr>\n",
       "  </tbody>\n",
       "</table>\n",
       "</div>"
      ],
      "text/plain": [
       "               final_temp  init_temp  bulk_3  bulk_4  bulk_6  bulk_12  \\\n",
       "final_temp            1.0        NaN     NaN     NaN     NaN      NaN   \n",
       "init_temp             NaN        1.0     NaN     NaN     NaN      NaN   \n",
       "bulk_3                NaN        NaN     1.0     NaN     NaN      NaN   \n",
       "bulk_4                NaN        NaN     NaN     1.0     NaN      NaN   \n",
       "bulk_6                NaN        NaN     NaN     NaN     1.0      NaN   \n",
       "bulk_12               NaN        NaN     NaN     NaN     NaN      1.0   \n",
       "bulk_14               NaN        NaN     NaN     NaN     NaN      NaN   \n",
       "bulk_15               NaN        NaN     NaN     NaN     NaN      NaN   \n",
       "other_bulk            NaN        NaN     NaN     NaN     NaN      NaN   \n",
       "wire_1                NaN        NaN     NaN     NaN     NaN      NaN   \n",
       "wire_2                NaN        NaN     NaN     NaN     NaN      NaN   \n",
       "other_wire            NaN        NaN     NaN     NaN     NaN      NaN   \n",
       "gas                   NaN        NaN     NaN     NaN     NaN      NaN   \n",
       "heat_duration         NaN        NaN     NaN     NaN     NaN      NaN   \n",
       "times_heated          NaN        NaN     NaN     NaN     NaN      NaN   \n",
       "total_power           NaN        NaN     NaN     NaN     NaN      NaN   \n",
       "\n",
       "               bulk_14  bulk_15  other_bulk  wire_1  wire_2  other_wire  gas  \\\n",
       "final_temp         NaN      NaN         NaN     NaN     NaN         NaN  NaN   \n",
       "init_temp          NaN      NaN         NaN     NaN     NaN         NaN  NaN   \n",
       "bulk_3             NaN      NaN         NaN     NaN     NaN         NaN  NaN   \n",
       "bulk_4             NaN      NaN         NaN     NaN     NaN         NaN  NaN   \n",
       "bulk_6             NaN      NaN         NaN     NaN     NaN         NaN  NaN   \n",
       "bulk_12            NaN      NaN         NaN     NaN     NaN         NaN  NaN   \n",
       "bulk_14            1.0      NaN         NaN     NaN     NaN         NaN  NaN   \n",
       "bulk_15            NaN      1.0         NaN     NaN     NaN         NaN  NaN   \n",
       "other_bulk         NaN      NaN         1.0     NaN     NaN         NaN  NaN   \n",
       "wire_1             NaN      NaN         NaN     1.0     NaN         NaN  NaN   \n",
       "wire_2             NaN      NaN         NaN     NaN     1.0         NaN  NaN   \n",
       "other_wire         NaN      NaN         NaN     NaN     NaN         1.0  NaN   \n",
       "gas                NaN      NaN         NaN     NaN     NaN         NaN  1.0   \n",
       "heat_duration      NaN      NaN         NaN     NaN     NaN         NaN  NaN   \n",
       "times_heated       NaN      NaN         NaN     NaN     NaN         NaN  NaN   \n",
       "total_power        NaN      NaN         NaN     NaN     NaN         NaN  NaN   \n",
       "\n",
       "               heat_duration  times_heated  total_power  \n",
       "final_temp               NaN           NaN          NaN  \n",
       "init_temp                NaN           NaN          NaN  \n",
       "bulk_3                   NaN           NaN          NaN  \n",
       "bulk_4                   NaN           NaN          NaN  \n",
       "bulk_6                   NaN           NaN          NaN  \n",
       "bulk_12                  NaN           NaN          NaN  \n",
       "bulk_14                  NaN           NaN          NaN  \n",
       "bulk_15                  NaN           NaN          NaN  \n",
       "other_bulk               NaN           NaN          NaN  \n",
       "wire_1                   NaN           NaN          NaN  \n",
       "wire_2                   NaN           NaN          NaN  \n",
       "other_wire               NaN           NaN          NaN  \n",
       "gas                      NaN           NaN          NaN  \n",
       "heat_duration       1.000000           NaN     0.982709  \n",
       "times_heated             NaN           1.0          NaN  \n",
       "total_power         0.982709           NaN     1.000000  "
      ]
     },
     "execution_count": 50,
     "metadata": {},
     "output_type": "execute_result"
    }
   ],
   "source": [
    "df_processed.corr()[df_processed.corr()>0.8]"
   ]
  },
  {
   "cell_type": "markdown",
   "id": "0875a76e",
   "metadata": {},
   "source": [
    "Выявлена сильная положительная корреляция между временем нагрева и полной мощностью (0.98). Ниже разберем подробнее вопрос их корреляции между собой с целевым признаком:"
   ]
  },
  {
   "cell_type": "code",
   "execution_count": 46,
   "id": "10dcf4da",
   "metadata": {},
   "outputs": [
    {
     "data": {
      "text/html": [
       "<div>\n",
       "<style scoped>\n",
       "    .dataframe tbody tr th:only-of-type {\n",
       "        vertical-align: middle;\n",
       "    }\n",
       "\n",
       "    .dataframe tbody tr th {\n",
       "        vertical-align: top;\n",
       "    }\n",
       "\n",
       "    .dataframe thead th {\n",
       "        text-align: right;\n",
       "    }\n",
       "</style>\n",
       "<table border=\"1\" class=\"dataframe\">\n",
       "  <thead>\n",
       "    <tr style=\"text-align: right;\">\n",
       "      <th></th>\n",
       "      <th>final_temp</th>\n",
       "      <th>heat_duration</th>\n",
       "      <th>total_power</th>\n",
       "    </tr>\n",
       "  </thead>\n",
       "  <tbody>\n",
       "    <tr>\n",
       "      <th>final_temp</th>\n",
       "      <td>1.000000</td>\n",
       "      <td>0.277953</td>\n",
       "      <td>0.272831</td>\n",
       "    </tr>\n",
       "    <tr>\n",
       "      <th>heat_duration</th>\n",
       "      <td>0.277953</td>\n",
       "      <td>1.000000</td>\n",
       "      <td>0.982709</td>\n",
       "    </tr>\n",
       "    <tr>\n",
       "      <th>total_power</th>\n",
       "      <td>0.272831</td>\n",
       "      <td>0.982709</td>\n",
       "      <td>1.000000</td>\n",
       "    </tr>\n",
       "  </tbody>\n",
       "</table>\n",
       "</div>"
      ],
      "text/plain": [
       "               final_temp  heat_duration  total_power\n",
       "final_temp       1.000000       0.277953     0.272831\n",
       "heat_duration    0.277953       1.000000     0.982709\n",
       "total_power      0.272831       0.982709     1.000000"
      ]
     },
     "execution_count": 46,
     "metadata": {},
     "output_type": "execute_result"
    }
   ],
   "source": [
    "df_processed.loc[:,['final_temp', 'heat_duration', 'total_power']].corr()"
   ]
  },
  {
   "cell_type": "code",
   "execution_count": 47,
   "id": "ad11d42a",
   "metadata": {
    "scrolled": false
   },
   "outputs": [
    {
     "data": {
      "image/png": "[encoded data removed]",
      "text/plain": [
       "<Figure size 720x504 with 1 Axes>"
      ]
     },
     "metadata": {
      "needs_background": "light"
     },
     "output_type": "display_data"
    },
    {
     "data": {
      "image/png": "[encoded data removed]",
      "text/plain": [
       "<Figure size 720x504 with 1 Axes>"
      ]
     },
     "metadata": {
      "needs_background": "light"
     },
     "output_type": "display_data"
    },
    {
     "data": {
      "image/png": "[encoded data removed]",
      "text/plain": [
       "<Figure size 720x504 with 1 Axes>"
      ]
     },
     "metadata": {
      "needs_background": "light"
     },
     "output_type": "display_data"
    }
   ],
   "source": [
    "for object in [['total_power', 'heat_duration'],\n",
    "               ['final_temp', 'total_power'],\n",
    "               ['final_temp', 'heat_duration']]:\n",
    "    df_processed.loc[:,[object[0], object[1]]].plot(kind='scatter',\n",
    "                                                    x=object[1],\n",
    "                                                    y=object[0],\n",
    "                                                    figsize=[10,7],\n",
    "                                                    grid=True,\n",
    "                                                    title=object[1]+' to '+object[0]+' scatter plot')"
   ]
  },
  {
   "cell_type": "markdown",
   "id": "cc482e0f",
   "metadata": {},
   "source": [
    "На основании полученных данных, а именно:\n",
    "- коэффициент корреляции длительности нагрева и полной мощности: 0.98;\n",
    "- коэффициент корреляции длительности нагрева и финальной температуры: 0.28;\n",
    "- коэффициент корреляции полной мощности и финальной температуры: 0.27;\n",
    "\n",
    "можно сделать вывод о том, что в рамках исследования длительность нагрева и полная мощность практически взаимозаменяемы. Учитывая незначительно больший коэффициент корреляции между длительностью нагрева и финальной температурой, будет удален признак \"полная мощность\".\n",
    "\n",
    "Таким образом, к машинному обучению приступаем при наличии 14 обучающих признаков."
   ]
  },
  {
   "cell_type": "code",
   "execution_count": 48,
   "id": "ddbbad50",
   "metadata": {},
   "outputs": [],
   "source": [
    "df_processed = df_processed.drop('total_power', axis = 1)"
   ]
  },
  {
   "cell_type": "markdown",
   "id": "d699b495",
   "metadata": {},
   "source": [
    "### Разделение выборок"
   ]
  },
  {
   "cell_type": "code",
   "execution_count": 49,
   "id": "d0fb0042",
   "metadata": {},
   "outputs": [
    {
     "name": "stdout",
     "output_type": "stream",
     "text": [
      "(1743, 14)\n",
      "(581, 14)\n",
      "(1743,)\n",
      "(581,)\n"
     ]
    }
   ],
   "source": [
    "features_train, features_test, target_train, target_test = train_test_split(\n",
    "                                                                            df_processed.drop('final_temp', axis=1),\n",
    "                                                                            df_processed['final_temp'],\n",
    "                                                                            test_size=0.25,\n",
    "                                                                            random_state=130323\n",
    "                                                                            )\n",
    "\n",
    "for array in [features_train, features_test, target_train, target_test]:\n",
    "    print(array.shape)\n",
    "# Сразу проверяем на предмет соответствия размеров выборок ожидаемым:   \n",
    "    "
   ]
  },
  {
   "cell_type": "markdown",
   "id": "31b6a974",
   "metadata": {},
   "source": [
    "## Обучение моделей\n",
    "\n",
    "В рамках данной работы планируется обучение и кросс-валидация 4х моделей с использованием GridSearchCV, а также Pipeline в случаях, когда данные требуют масштабирования. \n",
    "\n",
    "\n",
    "### RandomForestRegressor()"
   ]
  },
  {
   "cell_type": "code",
   "execution_count": 50,
   "id": "e74c75aa",
   "metadata": {},
   "outputs": [],
   "source": [
    "forest_grid = {'random_state': [130323],\n",
    "              'max_depth': range(1,31),\n",
    "              'n_estimators': [10,20,30,50,70, 90, 110, 150, 200, 250, 300, 400, 500, 650, 700]}\n",
    "# Этот грид использовался при первичном обучении модели. С целью ускорения работы кода он закомментирован,\n",
    "# ниже приведены лучшие параметры."
   ]
  },
  {
   "cell_type": "code",
   "execution_count": 51,
   "id": "5302e49c",
   "metadata": {},
   "outputs": [],
   "source": [
    "# forest_grid = {'random_state': [130323],\n",
    "#               'max_depth': [12],\n",
    "#               'n_estimators': [650]}"
   ]
  },
  {
   "cell_type": "code",
   "execution_count": 52,
   "id": "f72d5ddb",
   "metadata": {},
   "outputs": [],
   "source": [
    "forest_cv = GridSearchCV(estimator=RandomForestRegressor(),\n",
    "                         param_grid=forest_grid,\n",
    "                         scoring='neg_mean_absolute_error',\n",
    "                         cv=3,\n",
    "                         n_jobs=-1,\n",
    "                         verbose=2)"
   ]
  },
  {
   "cell_type": "code",
   "execution_count": 71,
   "id": "d09ba474",
   "metadata": {
    "scrolled": true
   },
   "outputs": [
    {
     "name": "stdout",
     "output_type": "stream",
     "text": [
      "Fitting 3 folds for each of 450 candidates, totalling 1350 fits\n",
      "[CV] END ..max_depth=1, n_estimators=10, random_state=130323; total time=   0.0s\n",
      "[CV] END ..max_depth=1, n_estimators=10, random_state=130323; total time=   0.0s\n",
      "[CV] END ..max_depth=1, n_estimators=10, random_state=130323; total time=   0.0s\n",
      "[CV] END ..max_depth=1, n_estimators=20, random_state=130323; total time=   0.0s\n",
      "[CV] END ..max_depth=1, n_estimators=20, random_state=130323; total time=   0.0s\n",
      "[CV] END ..max_depth=1, n_estimators=20, random_state=130323; total time=   0.0s\n",
      "[CV] END ..max_depth=1, n_estimators=30, random_state=130323; total time=   0.1s\n",
      "[CV] END ..max_depth=1, n_estimators=30, random_state=130323; total time=   0.1s\n",
      "[CV] END ..max_depth=1, n_estimators=30, random_state=130323; total time=   0.1s\n",
      "[CV] END ..max_depth=1, n_estimators=50, random_state=130323; total time=   0.1s\n",
      "[CV] END ..max_depth=1, n_estimators=50, random_state=130323; total time=   0.1s\n",
      "[CV] END ..max_depth=1, n_estimators=50, random_state=130323; total time=   0.1s\n",
      "[CV] END ..max_depth=1, n_estimators=70, random_state=130323; total time=   0.1s\n",
      "[CV] END ..max_depth=1, n_estimators=70, random_state=130323; total time=   0.1s\n",
      "[CV] END ..max_depth=1, n_estimators=70, random_state=130323; total time=   0.1s\n",
      "[CV] END ..max_depth=1, n_estimators=90, random_state=130323; total time=   0.2s\n",
      "[CV] END ..max_depth=1, n_estimators=90, random_state=130323; total time=   0.2s\n",
      "[CV] END ..max_depth=1, n_estimators=90, random_state=130323; total time=   0.2s\n",
      "[CV] END .max_depth=1, n_estimators=110, random_state=130323; total time=   0.2s\n",
      "[CV] END .max_depth=1, n_estimators=110, random_state=130323; total time=   0.2s\n",
      "[CV] END .max_depth=1, n_estimators=110, random_state=130323; total time=   0.2s\n",
      "[CV] END .max_depth=1, n_estimators=150, random_state=130323; total time=   0.3s\n",
      "[CV] END .max_depth=1, n_estimators=150, random_state=130323; total time=   0.4s\n",
      "[CV] END .max_depth=1, n_estimators=150, random_state=130323; total time=   0.6s\n",
      "[CV] END .max_depth=1, n_estimators=200, random_state=130323; total time=   0.8s\n",
      "[CV] END .max_depth=1, n_estimators=200, random_state=130323; total time=   0.8s\n",
      "[CV] END .max_depth=1, n_estimators=200, random_state=130323; total time=   0.4s\n",
      "[CV] END .max_depth=1, n_estimators=250, random_state=130323; total time=   0.5s\n",
      "[CV] END .max_depth=1, n_estimators=250, random_state=130323; total time=   0.5s\n",
      "[CV] END .max_depth=1, n_estimators=250, random_state=130323; total time=   0.5s\n",
      "[CV] END .max_depth=1, n_estimators=300, random_state=130323; total time=   0.6s\n",
      "[CV] END .max_depth=1, n_estimators=300, random_state=130323; total time=   0.6s\n",
      "[CV] END .max_depth=1, n_estimators=300, random_state=130323; total time=   0.6s\n",
      "[CV] END .max_depth=1, n_estimators=400, random_state=130323; total time=   0.8s\n",
      "[CV] END .max_depth=1, n_estimators=400, random_state=130323; total time=   0.7s\n",
      "[CV] END .max_depth=1, n_estimators=400, random_state=130323; total time=   0.8s\n",
      "[CV] END .max_depth=1, n_estimators=500, random_state=130323; total time=   1.0s\n",
      "[CV] END .max_depth=1, n_estimators=500, random_state=130323; total time=   1.0s\n",
      "[CV] END .max_depth=1, n_estimators=500, random_state=130323; total time=   1.0s\n",
      "[CV] END .max_depth=1, n_estimators=650, random_state=130323; total time=   1.3s\n",
      "[CV] END .max_depth=1, n_estimators=650, random_state=130323; total time=   1.2s\n",
      "[CV] END .max_depth=1, n_estimators=650, random_state=130323; total time=   1.3s\n",
      "[CV] END .max_depth=1, n_estimators=700, random_state=130323; total time=   1.4s\n",
      "[CV] END .max_depth=1, n_estimators=700, random_state=130323; total time=   1.4s\n",
      "[CV] END .max_depth=1, n_estimators=700, random_state=130323; total time=   1.4s\n",
      "[CV] END ..max_depth=2, n_estimators=10, random_state=130323; total time=   0.0s\n",
      "[CV] END ..max_depth=2, n_estimators=10, random_state=130323; total time=   0.0s\n",
      "[CV] END ..max_depth=2, n_estimators=10, random_state=130323; total time=   0.0s\n",
      "[CV] END ..max_depth=2, n_estimators=20, random_state=130323; total time=   0.1s\n",
      "[CV] END ..max_depth=2, n_estimators=20, random_state=130323; total time=   0.0s\n",
      "[CV] END ..max_depth=2, n_estimators=20, random_state=130323; total time=   0.1s\n",
      "[CV] END ..max_depth=2, n_estimators=30, random_state=130323; total time=   0.1s\n",
      "[CV] END ..max_depth=2, n_estimators=30, random_state=130323; total time=   0.1s\n",
      "[CV] END ..max_depth=2, n_estimators=30, random_state=130323; total time=   0.1s\n",
      "[CV] END ..max_depth=2, n_estimators=50, random_state=130323; total time=   0.1s\n",
      "[CV] END ..max_depth=2, n_estimators=50, random_state=130323; total time=   0.1s\n",
      "[CV] END ..max_depth=2, n_estimators=50, random_state=130323; total time=   0.1s\n",
      "[CV] END ..max_depth=2, n_estimators=70, random_state=130323; total time=   0.2s\n",
      "[CV] END ..max_depth=2, n_estimators=70, random_state=130323; total time=   0.2s\n",
      "[CV] END ..max_depth=2, n_estimators=70, random_state=130323; total time=   0.2s\n",
      "[CV] END ..max_depth=2, n_estimators=90, random_state=130323; total time=   0.2s\n",
      "[CV] END ..max_depth=2, n_estimators=90, random_state=130323; total time=   0.2s\n",
      "[CV] END ..max_depth=2, n_estimators=90, random_state=130323; total time=   0.3s\n",
      "[CV] END .max_depth=2, n_estimators=110, random_state=130323; total time=   0.3s\n",
      "[CV] END .max_depth=2, n_estimators=110, random_state=130323; total time=   0.3s\n",
      "[CV] END .max_depth=2, n_estimators=110, random_state=130323; total time=   0.3s\n",
      "[CV] END .max_depth=2, n_estimators=150, random_state=130323; total time=   0.4s\n",
      "[CV] END .max_depth=2, n_estimators=150, random_state=130323; total time=   0.4s\n",
      "[CV] END .max_depth=2, n_estimators=150, random_state=130323; total time=   0.4s\n",
      "[CV] END .max_depth=2, n_estimators=200, random_state=130323; total time=   0.5s\n",
      "[CV] END .max_depth=2, n_estimators=200, random_state=130323; total time=   0.5s\n",
      "[CV] END .max_depth=2, n_estimators=200, random_state=130323; total time=   0.5s\n",
      "[CV] END .max_depth=2, n_estimators=250, random_state=130323; total time=   0.6s\n",
      "[CV] END .max_depth=2, n_estimators=250, random_state=130323; total time=   0.7s\n",
      "[CV] END .max_depth=2, n_estimators=250, random_state=130323; total time=   0.7s\n",
      "[CV] END .max_depth=2, n_estimators=300, random_state=130323; total time=   0.7s\n",
      "[CV] END .max_depth=2, n_estimators=300, random_state=130323; total time=   0.6s\n",
      "[CV] END .max_depth=2, n_estimators=300, random_state=130323; total time=   0.8s\n",
      "[CV] END .max_depth=2, n_estimators=400, random_state=130323; total time=   1.0s\n",
      "[CV] END .max_depth=2, n_estimators=400, random_state=130323; total time=   1.0s\n",
      "[CV] END .max_depth=2, n_estimators=400, random_state=130323; total time=   0.9s\n",
      "[CV] END .max_depth=2, n_estimators=500, random_state=130323; total time=   1.2s\n",
      "[CV] END .max_depth=2, n_estimators=500, random_state=130323; total time=   1.2s\n",
      "[CV] END .max_depth=2, n_estimators=500, random_state=130323; total time=   1.2s\n",
      "[CV] END .max_depth=2, n_estimators=650, random_state=130323; total time=   1.7s\n",
      "[CV] END .max_depth=2, n_estimators=650, random_state=130323; total time=   1.6s\n",
      "[CV] END .max_depth=2, n_estimators=650, random_state=130323; total time=   1.6s\n",
      "[CV] END .max_depth=2, n_estimators=700, random_state=130323; total time=   1.7s\n",
      "[CV] END .max_depth=2, n_estimators=700, random_state=130323; total time=   1.7s\n",
      "[CV] END .max_depth=2, n_estimators=700, random_state=130323; total time=   1.7s\n",
      "[CV] END ..max_depth=3, n_estimators=10, random_state=130323; total time=   0.0s\n",
      "[CV] END ..max_depth=3, n_estimators=10, random_state=130323; total time=   0.0s\n",
      "[CV] END ..max_depth=3, n_estimators=10, random_state=130323; total time=   0.0s\n",
      "[CV] END ..max_depth=3, n_estimators=20, random_state=130323; total time=   0.1s\n",
      "[CV] END ..max_depth=3, n_estimators=20, random_state=130323; total time=   0.1s\n",
      "[CV] END ..max_depth=3, n_estimators=20, random_state=130323; total time=   0.1s\n",
      "[CV] END ..max_depth=3, n_estimators=30, random_state=130323; total time=   0.1s\n",
      "[CV] END ..max_depth=3, n_estimators=30, random_state=130323; total time=   0.1s\n",
      "[CV] END ..max_depth=3, n_estimators=30, random_state=130323; total time=   0.1s\n",
      "[CV] END ..max_depth=3, n_estimators=50, random_state=130323; total time=   0.2s\n",
      "[CV] END ..max_depth=3, n_estimators=50, random_state=130323; total time=   0.2s\n",
      "[CV] END ..max_depth=3, n_estimators=50, random_state=130323; total time=   0.2s\n",
      "[CV] END ..max_depth=3, n_estimators=70, random_state=130323; total time=   0.2s\n",
      "[CV] END ..max_depth=3, n_estimators=70, random_state=130323; total time=   0.2s\n",
      "[CV] END ..max_depth=3, n_estimators=70, random_state=130323; total time=   0.2s\n",
      "[CV] END ..max_depth=3, n_estimators=90, random_state=130323; total time=   0.3s\n",
      "[CV] END ..max_depth=3, n_estimators=90, random_state=130323; total time=   0.3s\n",
      "[CV] END ..max_depth=3, n_estimators=90, random_state=130323; total time=   0.3s\n",
      "[CV] END .max_depth=3, n_estimators=110, random_state=130323; total time=   0.3s\n",
      "[CV] END .max_depth=3, n_estimators=110, random_state=130323; total time=   0.4s\n",
      "[CV] END .max_depth=3, n_estimators=110, random_state=130323; total time=   0.4s\n",
      "[CV] END .max_depth=3, n_estimators=150, random_state=130323; total time=   0.5s\n",
      "[CV] END .max_depth=3, n_estimators=150, random_state=130323; total time=   0.4s\n",
      "[CV] END .max_depth=3, n_estimators=150, random_state=130323; total time=   0.5s\n",
      "[CV] END .max_depth=3, n_estimators=200, random_state=130323; total time=   0.6s\n",
      "[CV] END .max_depth=3, n_estimators=200, random_state=130323; total time=   0.6s\n",
      "[CV] END .max_depth=3, n_estimators=200, random_state=130323; total time=   0.6s\n",
      "[CV] END .max_depth=3, n_estimators=250, random_state=130323; total time=   0.7s\n",
      "[CV] END .max_depth=3, n_estimators=250, random_state=130323; total time=   0.8s\n",
      "[CV] END .max_depth=3, n_estimators=250, random_state=130323; total time=   0.8s\n",
      "[CV] END .max_depth=3, n_estimators=300, random_state=130323; total time=   0.9s\n",
      "[CV] END .max_depth=3, n_estimators=300, random_state=130323; total time=   0.9s\n",
      "[CV] END .max_depth=3, n_estimators=300, random_state=130323; total time=   0.8s\n",
      "[CV] END .max_depth=3, n_estimators=400, random_state=130323; total time=   1.1s\n",
      "[CV] END .max_depth=3, n_estimators=400, random_state=130323; total time=   1.2s\n",
      "[CV] END .max_depth=3, n_estimators=400, random_state=130323; total time=   1.2s\n",
      "[CV] END .max_depth=3, n_estimators=500, random_state=130323; total time=   1.5s\n",
      "[CV] END .max_depth=3, n_estimators=500, random_state=130323; total time=   1.4s\n",
      "[CV] END .max_depth=3, n_estimators=500, random_state=130323; total time=   1.4s\n",
      "[CV] END .max_depth=3, n_estimators=650, random_state=130323; total time=   1.9s\n",
      "[CV] END .max_depth=3, n_estimators=650, random_state=130323; total time=   1.9s\n",
      "[CV] END .max_depth=3, n_estimators=650, random_state=130323; total time=   2.0s\n",
      "[CV] END .max_depth=3, n_estimators=700, random_state=130323; total time=   2.1s\n",
      "[CV] END .max_depth=3, n_estimators=700, random_state=130323; total time=   2.1s\n",
      "[CV] END .max_depth=3, n_estimators=700, random_state=130323; total time=   2.0s\n",
      "[CV] END ..max_depth=4, n_estimators=10, random_state=130323; total time=   0.0s\n",
      "[CV] END ..max_depth=4, n_estimators=10, random_state=130323; total time=   0.0s\n",
      "[CV] END ..max_depth=4, n_estimators=10, random_state=130323; total time=   0.0s\n",
      "[CV] END ..max_depth=4, n_estimators=20, random_state=130323; total time=   0.1s\n",
      "[CV] END ..max_depth=4, n_estimators=20, random_state=130323; total time=   0.1s\n",
      "[CV] END ..max_depth=4, n_estimators=20, random_state=130323; total time=   0.1s\n",
      "[CV] END ..max_depth=4, n_estimators=30, random_state=130323; total time=   0.1s\n",
      "[CV] END ..max_depth=4, n_estimators=30, random_state=130323; total time=   0.1s\n",
      "[CV] END ..max_depth=4, n_estimators=30, random_state=130323; total time=   0.1s\n",
      "[CV] END ..max_depth=4, n_estimators=50, random_state=130323; total time=   0.2s\n",
      "[CV] END ..max_depth=4, n_estimators=50, random_state=130323; total time=   0.1s\n",
      "[CV] END ..max_depth=4, n_estimators=50, random_state=130323; total time=   0.2s\n",
      "[CV] END ..max_depth=4, n_estimators=70, random_state=130323; total time=   0.2s\n",
      "[CV] END ..max_depth=4, n_estimators=70, random_state=130323; total time=   0.2s\n",
      "[CV] END ..max_depth=4, n_estimators=70, random_state=130323; total time=   0.2s\n",
      "[CV] END ..max_depth=4, n_estimators=90, random_state=130323; total time=   0.3s\n",
      "[CV] END ..max_depth=4, n_estimators=90, random_state=130323; total time=   0.3s\n",
      "[CV] END ..max_depth=4, n_estimators=90, random_state=130323; total time=   0.3s\n",
      "[CV] END .max_depth=4, n_estimators=110, random_state=130323; total time=   0.4s\n",
      "[CV] END .max_depth=4, n_estimators=110, random_state=130323; total time=   0.4s\n",
      "[CV] END .max_depth=4, n_estimators=110, random_state=130323; total time=   0.4s\n",
      "[CV] END .max_depth=4, n_estimators=150, random_state=130323; total time=   0.5s\n",
      "[CV] END .max_depth=4, n_estimators=150, random_state=130323; total time=   0.5s\n",
      "[CV] END .max_depth=4, n_estimators=150, random_state=130323; total time=   0.5s\n",
      "[CV] END .max_depth=4, n_estimators=200, random_state=130323; total time=   0.7s\n",
      "[CV] END .max_depth=4, n_estimators=200, random_state=130323; total time=   0.6s\n",
      "[CV] END .max_depth=4, n_estimators=200, random_state=130323; total time=   0.7s\n",
      "[CV] END .max_depth=4, n_estimators=250, random_state=130323; total time=   0.8s\n",
      "[CV] END .max_depth=4, n_estimators=250, random_state=130323; total time=   0.9s\n",
      "[CV] END .max_depth=4, n_estimators=250, random_state=130323; total time=   0.8s\n",
      "[CV] END .max_depth=4, n_estimators=300, random_state=130323; total time=   0.9s\n",
      "[CV] END .max_depth=4, n_estimators=300, random_state=130323; total time=   1.0s\n",
      "[CV] END .max_depth=4, n_estimators=300, random_state=130323; total time=   1.0s\n",
      "[CV] END .max_depth=4, n_estimators=400, random_state=130323; total time=   1.3s\n",
      "[CV] END .max_depth=4, n_estimators=400, random_state=130323; total time=   1.2s\n",
      "[CV] END .max_depth=4, n_estimators=400, random_state=130323; total time=   1.2s\n",
      "[CV] END .max_depth=4, n_estimators=500, random_state=130323; total time=   1.7s\n",
      "[CV] END .max_depth=4, n_estimators=500, random_state=130323; total time=   1.7s\n",
      "[CV] END .max_depth=4, n_estimators=500, random_state=130323; total time=   1.8s\n",
      "[CV] END .max_depth=4, n_estimators=650, random_state=130323; total time=   2.1s\n",
      "[CV] END .max_depth=4, n_estimators=650, random_state=130323; total time=   2.1s\n",
      "[CV] END .max_depth=4, n_estimators=650, random_state=130323; total time=   2.2s\n",
      "[CV] END .max_depth=4, n_estimators=700, random_state=130323; total time=   2.3s\n",
      "[CV] END .max_depth=4, n_estimators=700, random_state=130323; total time=   2.3s\n",
      "[CV] END .max_depth=4, n_estimators=700, random_state=130323; total time=   2.3s\n",
      "[CV] END ..max_depth=5, n_estimators=10, random_state=130323; total time=   0.0s\n",
      "[CV] END ..max_depth=5, n_estimators=10, random_state=130323; total time=   0.0s\n",
      "[CV] END ..max_depth=5, n_estimators=10, random_state=130323; total time=   0.0s\n",
      "[CV] END ..max_depth=5, n_estimators=20, random_state=130323; total time=   0.1s\n",
      "[CV] END ..max_depth=5, n_estimators=20, random_state=130323; total time=   0.1s\n",
      "[CV] END ..max_depth=5, n_estimators=20, random_state=130323; total time=   0.1s\n",
      "[CV] END ..max_depth=5, n_estimators=30, random_state=130323; total time=   0.1s\n",
      "[CV] END ..max_depth=5, n_estimators=30, random_state=130323; total time=   0.1s\n",
      "[CV] END ..max_depth=5, n_estimators=30, random_state=130323; total time=   0.1s\n",
      "[CV] END ..max_depth=5, n_estimators=50, random_state=130323; total time=   0.2s\n",
      "[CV] END ..max_depth=5, n_estimators=50, random_state=130323; total time=   0.2s\n",
      "[CV] END ..max_depth=5, n_estimators=50, random_state=130323; total time=   0.2s\n",
      "[CV] END ..max_depth=5, n_estimators=70, random_state=130323; total time=   0.3s\n",
      "[CV] END ..max_depth=5, n_estimators=70, random_state=130323; total time=   0.3s\n",
      "[CV] END ..max_depth=5, n_estimators=70, random_state=130323; total time=   0.3s\n",
      "[CV] END ..max_depth=5, n_estimators=90, random_state=130323; total time=   0.4s\n",
      "[CV] END ..max_depth=5, n_estimators=90, random_state=130323; total time=   0.4s\n",
      "[CV] END ..max_depth=5, n_estimators=90, random_state=130323; total time=   0.4s\n",
      "[CV] END .max_depth=5, n_estimators=110, random_state=130323; total time=   0.5s\n",
      "[CV] END .max_depth=5, n_estimators=110, random_state=130323; total time=   0.5s\n",
      "[CV] END .max_depth=5, n_estimators=110, random_state=130323; total time=   0.4s\n",
      "[CV] END .max_depth=5, n_estimators=150, random_state=130323; total time=   0.6s\n",
      "[CV] END .max_depth=5, n_estimators=150, random_state=130323; total time=   0.6s\n",
      "[CV] END .max_depth=5, n_estimators=150, random_state=130323; total time=   0.6s\n",
      "[CV] END .max_depth=5, n_estimators=200, random_state=130323; total time=   0.8s\n",
      "[CV] END .max_depth=5, n_estimators=200, random_state=130323; total time=   0.8s\n",
      "[CV] END .max_depth=5, n_estimators=200, random_state=130323; total time=   0.8s\n",
      "[CV] END .max_depth=5, n_estimators=250, random_state=130323; total time=   1.0s\n",
      "[CV] END .max_depth=5, n_estimators=250, random_state=130323; total time=   1.0s\n",
      "[CV] END .max_depth=5, n_estimators=250, random_state=130323; total time=   1.0s\n",
      "[CV] END .max_depth=5, n_estimators=300, random_state=130323; total time=   1.1s\n",
      "[CV] END .max_depth=5, n_estimators=300, random_state=130323; total time=   1.2s\n",
      "[CV] END .max_depth=5, n_estimators=300, random_state=130323; total time=   1.2s\n",
      "[CV] END .max_depth=5, n_estimators=400, random_state=130323; total time=   1.6s\n",
      "[CV] END .max_depth=5, n_estimators=400, random_state=130323; total time=   1.5s\n",
      "[CV] END .max_depth=5, n_estimators=400, random_state=130323; total time=   1.6s\n",
      "[CV] END .max_depth=5, n_estimators=500, random_state=130323; total time=   2.0s\n",
      "[CV] END .max_depth=5, n_estimators=500, random_state=130323; total time=   2.0s\n",
      "[CV] END .max_depth=5, n_estimators=500, random_state=130323; total time=   1.9s\n",
      "[CV] END .max_depth=5, n_estimators=650, random_state=130323; total time=   2.4s\n",
      "[CV] END .max_depth=5, n_estimators=650, random_state=130323; total time=   2.4s\n",
      "[CV] END .max_depth=5, n_estimators=650, random_state=130323; total time=   2.4s\n",
      "[CV] END .max_depth=5, n_estimators=700, random_state=130323; total time=   2.8s\n",
      "[CV] END .max_depth=5, n_estimators=700, random_state=130323; total time=   3.2s\n",
      "[CV] END .max_depth=5, n_estimators=700, random_state=130323; total time=   3.3s\n",
      "[CV] END ..max_depth=6, n_estimators=10, random_state=130323; total time=   0.1s\n",
      "[CV] END ..max_depth=6, n_estimators=10, random_state=130323; total time=   0.0s\n",
      "[CV] END ..max_depth=6, n_estimators=10, random_state=130323; total time=   0.1s\n",
      "[CV] END ..max_depth=6, n_estimators=20, random_state=130323; total time=   0.1s\n",
      "[CV] END ..max_depth=6, n_estimators=20, random_state=130323; total time=   0.1s\n",
      "[CV] END ..max_depth=6, n_estimators=20, random_state=130323; total time=   0.1s\n",
      "[CV] END ..max_depth=6, n_estimators=30, random_state=130323; total time=   0.1s\n",
      "[CV] END ..max_depth=6, n_estimators=30, random_state=130323; total time=   0.1s\n",
      "[CV] END ..max_depth=6, n_estimators=30, random_state=130323; total time=   0.1s\n",
      "[CV] END ..max_depth=6, n_estimators=50, random_state=130323; total time=   0.2s\n",
      "[CV] END ..max_depth=6, n_estimators=50, random_state=130323; total time=   0.2s\n",
      "[CV] END ..max_depth=6, n_estimators=50, random_state=130323; total time=   0.3s\n",
      "[CV] END ..max_depth=6, n_estimators=70, random_state=130323; total time=   0.4s\n",
      "[CV] END ..max_depth=6, n_estimators=70, random_state=130323; total time=   0.3s\n",
      "[CV] END ..max_depth=6, n_estimators=70, random_state=130323; total time=   0.3s\n",
      "[CV] END ..max_depth=6, n_estimators=90, random_state=130323; total time=   0.4s\n",
      "[CV] END ..max_depth=6, n_estimators=90, random_state=130323; total time=   0.4s\n",
      "[CV] END ..max_depth=6, n_estimators=90, random_state=130323; total time=   0.4s\n",
      "[CV] END .max_depth=6, n_estimators=110, random_state=130323; total time=   0.5s\n",
      "[CV] END .max_depth=6, n_estimators=110, random_state=130323; total time=   0.5s\n",
      "[CV] END .max_depth=6, n_estimators=110, random_state=130323; total time=   0.5s\n",
      "[CV] END .max_depth=6, n_estimators=150, random_state=130323; total time=   0.6s\n",
      "[CV] END .max_depth=6, n_estimators=150, random_state=130323; total time=   0.6s\n",
      "[CV] END .max_depth=6, n_estimators=150, random_state=130323; total time=   0.6s\n",
      "[CV] END .max_depth=6, n_estimators=200, random_state=130323; total time=   0.9s\n",
      "[CV] END .max_depth=6, n_estimators=200, random_state=130323; total time=   0.9s\n",
      "[CV] END .max_depth=6, n_estimators=200, random_state=130323; total time=   0.9s\n",
      "[CV] END .max_depth=6, n_estimators=250, random_state=130323; total time=   1.1s\n",
      "[CV] END .max_depth=6, n_estimators=250, random_state=130323; total time=   1.2s\n",
      "[CV] END .max_depth=6, n_estimators=250, random_state=130323; total time=   1.1s\n",
      "[CV] END .max_depth=6, n_estimators=300, random_state=130323; total time=   1.3s\n",
      "[CV] END .max_depth=6, n_estimators=300, random_state=130323; total time=   1.2s\n",
      "[CV] END .max_depth=6, n_estimators=300, random_state=130323; total time=   1.2s\n",
      "[CV] END .max_depth=6, n_estimators=400, random_state=130323; total time=   1.5s\n",
      "[CV] END .max_depth=6, n_estimators=400, random_state=130323; total time=   1.5s\n",
      "[CV] END .max_depth=6, n_estimators=400, random_state=130323; total time=   1.7s\n",
      "[CV] END .max_depth=6, n_estimators=500, random_state=130323; total time=   2.0s\n",
      "[CV] END .max_depth=6, n_estimators=500, random_state=130323; total time=   2.1s\n",
      "[CV] END .max_depth=6, n_estimators=500, random_state=130323; total time=   2.0s\n",
      "[CV] END .max_depth=6, n_estimators=650, random_state=130323; total time=   2.6s\n",
      "[CV] END .max_depth=6, n_estimators=650, random_state=130323; total time=   2.8s\n",
      "[CV] END .max_depth=6, n_estimators=650, random_state=130323; total time=   2.7s\n",
      "[CV] END .max_depth=6, n_estimators=700, random_state=130323; total time=   2.8s\n",
      "[CV] END .max_depth=6, n_estimators=700, random_state=130323; total time=   2.9s\n",
      "[CV] END .max_depth=7, n_estimators=110, random_state=130323; total time=   0.5s\n",
      "[CV] END .max_depth=7, n_estimators=150, random_state=130323; total time=   0.7s\n",
      "[CV] END .max_depth=7, n_estimators=150, random_state=130323; total time=   0.7s\n",
      "[CV] END .max_depth=7, n_estimators=150, random_state=130323; total time=   0.7s\n",
      "[CV] END .max_depth=7, n_estimators=200, random_state=130323; total time=   0.9s\n",
      "[CV] END .max_depth=7, n_estimators=200, random_state=130323; total time=   0.9s\n",
      "[CV] END .max_depth=7, n_estimators=200, random_state=130323; total time=   0.9s\n",
      "[CV] END .max_depth=7, n_estimators=250, random_state=130323; total time=   1.1s\n",
      "[CV] END .max_depth=7, n_estimators=250, random_state=130323; total time=   1.1s\n",
      "[CV] END .max_depth=7, n_estimators=250, random_state=130323; total time=   1.1s\n",
      "[CV] END .max_depth=7, n_estimators=300, random_state=130323; total time=   1.3s\n",
      "[CV] END .max_depth=7, n_estimators=300, random_state=130323; total time=   1.3s\n",
      "[CV] END .max_depth=7, n_estimators=300, random_state=130323; total time=   1.3s\n",
      "[CV] END .max_depth=7, n_estimators=400, random_state=130323; total time=   1.8s\n",
      "[CV] END .max_depth=7, n_estimators=400, random_state=130323; total time=   1.8s\n",
      "[CV] END .max_depth=7, n_estimators=400, random_state=130323; total time=   1.8s\n",
      "[CV] END .max_depth=7, n_estimators=500, random_state=130323; total time=   2.2s\n",
      "[CV] END .max_depth=7, n_estimators=500, random_state=130323; total time=   2.2s\n",
      "[CV] END .max_depth=7, n_estimators=500, random_state=130323; total time=   2.2s\n",
      "[CV] END .max_depth=7, n_estimators=650, random_state=130323; total time=   2.9s\n",
      "[CV] END .max_depth=7, n_estimators=650, random_state=130323; total time=   2.8s\n",
      "[CV] END .max_depth=7, n_estimators=650, random_state=130323; total time=   2.9s\n",
      "[CV] END .max_depth=7, n_estimators=700, random_state=130323; total time=   3.0s\n",
      "[CV] END .max_depth=7, n_estimators=700, random_state=130323; total time=   3.1s\n",
      "[CV] END .max_depth=7, n_estimators=700, random_state=130323; total time=   3.1s\n",
      "[CV] END ..max_depth=8, n_estimators=10, random_state=130323; total time=   0.1s\n",
      "[CV] END ..max_depth=8, n_estimators=10, random_state=130323; total time=   0.1s\n",
      "[CV] END ..max_depth=8, n_estimators=10, random_state=130323; total time=   0.1s\n",
      "[CV] END ..max_depth=8, n_estimators=20, random_state=130323; total time=   0.1s\n",
      "[CV] END ..max_depth=8, n_estimators=20, random_state=130323; total time=   0.1s\n",
      "[CV] END ..max_depth=8, n_estimators=20, random_state=130323; total time=   0.1s\n",
      "[CV] END ..max_depth=8, n_estimators=30, random_state=130323; total time=   0.1s\n",
      "[CV] END ..max_depth=8, n_estimators=30, random_state=130323; total time=   0.2s\n",
      "[CV] END ..max_depth=8, n_estimators=30, random_state=130323; total time=   0.1s\n",
      "[CV] END ..max_depth=8, n_estimators=50, random_state=130323; total time=   0.3s\n",
      "[CV] END ..max_depth=8, n_estimators=50, random_state=130323; total time=   0.3s\n",
      "[CV] END ..max_depth=8, n_estimators=50, random_state=130323; total time=   0.3s\n",
      "[CV] END ..max_depth=8, n_estimators=70, random_state=130323; total time=   0.4s\n",
      "[CV] END ..max_depth=8, n_estimators=70, random_state=130323; total time=   0.4s\n",
      "[CV] END ..max_depth=8, n_estimators=70, random_state=130323; total time=   0.4s\n",
      "[CV] END ..max_depth=8, n_estimators=90, random_state=130323; total time=   0.5s\n",
      "[CV] END ..max_depth=8, n_estimators=90, random_state=130323; total time=   0.4s\n",
      "[CV] END ..max_depth=8, n_estimators=90, random_state=130323; total time=   0.5s\n",
      "[CV] END .max_depth=8, n_estimators=110, random_state=130323; total time=   0.6s\n",
      "[CV] END .max_depth=8, n_estimators=110, random_state=130323; total time=   0.5s\n",
      "[CV] END .max_depth=8, n_estimators=110, random_state=130323; total time=   0.5s\n",
      "[CV] END .max_depth=8, n_estimators=150, random_state=130323; total time=   0.8s\n",
      "[CV] END .max_depth=8, n_estimators=150, random_state=130323; total time=   0.7s\n",
      "[CV] END .max_depth=8, n_estimators=150, random_state=130323; total time=   0.8s\n",
      "[CV] END .max_depth=8, n_estimators=200, random_state=130323; total time=   1.0s\n",
      "[CV] END .max_depth=8, n_estimators=200, random_state=130323; total time=   1.0s\n",
      "[CV] END .max_depth=8, n_estimators=200, random_state=130323; total time=   1.0s\n",
      "[CV] END .max_depth=8, n_estimators=250, random_state=130323; total time=   1.3s\n",
      "[CV] END .max_depth=8, n_estimators=250, random_state=130323; total time=   1.3s\n",
      "[CV] END .max_depth=8, n_estimators=250, random_state=130323; total time=   1.3s\n",
      "[CV] END .max_depth=8, n_estimators=300, random_state=130323; total time=   1.5s\n",
      "[CV] END .max_depth=8, n_estimators=300, random_state=130323; total time=   1.4s\n",
      "[CV] END .max_depth=8, n_estimators=300, random_state=130323; total time=   1.5s\n",
      "[CV] END .max_depth=8, n_estimators=400, random_state=130323; total time=   2.1s\n",
      "[CV] END .max_depth=8, n_estimators=400, random_state=130323; total time=   1.9s\n",
      "[CV] END .max_depth=8, n_estimators=400, random_state=130323; total time=   2.0s\n",
      "[CV] END .max_depth=8, n_estimators=500, random_state=130323; total time=   2.4s\n",
      "[CV] END .max_depth=8, n_estimators=500, random_state=130323; total time=   2.5s\n",
      "[CV] END .max_depth=8, n_estimators=500, random_state=130323; total time=   2.5s\n",
      "[CV] END .max_depth=8, n_estimators=650, random_state=130323; total time=   3.3s\n",
      "[CV] END .max_depth=8, n_estimators=650, random_state=130323; total time=   3.2s\n",
      "[CV] END .max_depth=8, n_estimators=650, random_state=130323; total time=   3.2s\n",
      "[CV] END .max_depth=8, n_estimators=700, random_state=130323; total time=   3.4s\n",
      "[CV] END .max_depth=8, n_estimators=700, random_state=130323; total time=   3.4s\n",
      "[CV] END .max_depth=8, n_estimators=700, random_state=130323; total time=   3.5s\n",
      "[CV] END ..max_depth=9, n_estimators=10, random_state=130323; total time=   0.1s\n",
      "[CV] END ..max_depth=9, n_estimators=10, random_state=130323; total time=   0.1s\n",
      "[CV] END ..max_depth=9, n_estimators=10, random_state=130323; total time=   0.1s\n",
      "[CV] END ..max_depth=9, n_estimators=20, random_state=130323; total time=   0.1s\n",
      "[CV] END ..max_depth=9, n_estimators=20, random_state=130323; total time=   0.1s\n",
      "[CV] END ..max_depth=9, n_estimators=20, random_state=130323; total time=   0.1s\n",
      "[CV] END ..max_depth=9, n_estimators=30, random_state=130323; total time=   0.2s\n",
      "[CV] END ..max_depth=9, n_estimators=30, random_state=130323; total time=   0.2s\n",
      "[CV] END ..max_depth=9, n_estimators=30, random_state=130323; total time=   0.2s\n",
      "[CV] END ..max_depth=9, n_estimators=50, random_state=130323; total time=   0.3s\n",
      "[CV] END ..max_depth=9, n_estimators=50, random_state=130323; total time=   0.3s\n",
      "[CV] END ..max_depth=9, n_estimators=50, random_state=130323; total time=   0.3s\n",
      "[CV] END ..max_depth=9, n_estimators=70, random_state=130323; total time=   0.4s\n",
      "[CV] END ..max_depth=9, n_estimators=70, random_state=130323; total time=   0.4s\n",
      "[CV] END ..max_depth=9, n_estimators=70, random_state=130323; total time=   0.4s\n",
      "[CV] END ..max_depth=9, n_estimators=90, random_state=130323; total time=   0.5s\n",
      "[CV] END ..max_depth=9, n_estimators=90, random_state=130323; total time=   0.5s\n",
      "[CV] END ..max_depth=9, n_estimators=90, random_state=130323; total time=   0.5s\n",
      "[CV] END .max_depth=9, n_estimators=110, random_state=130323; total time=   0.6s\n",
      "[CV] END .max_depth=9, n_estimators=110, random_state=130323; total time=   0.6s\n",
      "[CV] END .max_depth=9, n_estimators=110, random_state=130323; total time=   0.6s\n",
      "[CV] END .max_depth=9, n_estimators=150, random_state=130323; total time=   0.8s\n",
      "[CV] END .max_depth=9, n_estimators=150, random_state=130323; total time=   0.9s\n",
      "[CV] END .max_depth=9, n_estimators=150, random_state=130323; total time=   0.8s\n",
      "[CV] END .max_depth=9, n_estimators=200, random_state=130323; total time=   1.0s\n",
      "[CV] END .max_depth=9, n_estimators=200, random_state=130323; total time=   1.1s\n",
      "[CV] END .max_depth=9, n_estimators=200, random_state=130323; total time=   1.0s\n",
      "[CV] END .max_depth=9, n_estimators=250, random_state=130323; total time=   1.3s\n",
      "[CV] END .max_depth=9, n_estimators=250, random_state=130323; total time=   1.3s\n",
      "[CV] END .max_depth=9, n_estimators=250, random_state=130323; total time=   1.3s\n",
      "[CV] END .max_depth=9, n_estimators=300, random_state=130323; total time=   1.6s\n",
      "[CV] END .max_depth=9, n_estimators=300, random_state=130323; total time=   1.5s\n",
      "[CV] END .max_depth=9, n_estimators=300, random_state=130323; total time=   1.6s\n",
      "[CV] END .max_depth=9, n_estimators=400, random_state=130323; total time=   2.2s\n",
      "[CV] END .max_depth=9, n_estimators=400, random_state=130323; total time=   2.1s\n",
      "[CV] END .max_depth=9, n_estimators=400, random_state=130323; total time=   2.1s\n",
      "[CV] END .max_depth=9, n_estimators=500, random_state=130323; total time=   2.6s\n",
      "[CV] END .max_depth=9, n_estimators=500, random_state=130323; total time=   2.7s\n",
      "[CV] END .max_depth=9, n_estimators=500, random_state=130323; total time=   2.6s\n",
      "[CV] END .max_depth=9, n_estimators=650, random_state=130323; total time=   3.5s\n",
      "[CV] END .max_depth=9, n_estimators=650, random_state=130323; total time=   3.5s\n",
      "[CV] END .max_depth=9, n_estimators=650, random_state=130323; total time=   3.4s\n",
      "[CV] END .max_depth=9, n_estimators=700, random_state=130323; total time=   3.5s\n",
      "[CV] END .max_depth=9, n_estimators=700, random_state=130323; total time=   3.7s\n",
      "[CV] END .max_depth=9, n_estimators=700, random_state=130323; total time=   3.7s\n",
      "[CV] END .max_depth=10, n_estimators=10, random_state=130323; total time=   0.1s\n",
      "[CV] END .max_depth=10, n_estimators=10, random_state=130323; total time=   0.1s\n",
      "[CV] END .max_depth=10, n_estimators=10, random_state=130323; total time=   0.1s\n",
      "[CV] END .max_depth=10, n_estimators=20, random_state=130323; total time=   0.1s\n",
      "[CV] END .max_depth=10, n_estimators=20, random_state=130323; total time=   0.1s\n",
      "[CV] END .max_depth=10, n_estimators=20, random_state=130323; total time=   0.1s\n",
      "[CV] END .max_depth=10, n_estimators=30, random_state=130323; total time=   0.2s\n",
      "[CV] END .max_depth=10, n_estimators=30, random_state=130323; total time=   0.2s\n",
      "[CV] END .max_depth=10, n_estimators=30, random_state=130323; total time=   0.2s\n",
      "[CV] END .max_depth=10, n_estimators=50, random_state=130323; total time=   0.3s\n",
      "[CV] END .max_depth=10, n_estimators=50, random_state=130323; total time=   0.3s\n",
      "[CV] END .max_depth=10, n_estimators=50, random_state=130323; total time=   0.3s\n",
      "[CV] END .max_depth=10, n_estimators=70, random_state=130323; total time=   0.4s\n",
      "[CV] END .max_depth=10, n_estimators=70, random_state=130323; total time=   0.4s\n",
      "[CV] END .max_depth=10, n_estimators=70, random_state=130323; total time=   0.4s\n",
      "[CV] END .max_depth=10, n_estimators=90, random_state=130323; total time=   0.5s\n",
      "[CV] END .max_depth=10, n_estimators=90, random_state=130323; total time=   0.5s\n",
      "[CV] END .max_depth=10, n_estimators=90, random_state=130323; total time=   0.5s\n",
      "[CV] END max_depth=10, n_estimators=110, random_state=130323; total time=   0.7s\n",
      "[CV] END max_depth=10, n_estimators=110, random_state=130323; total time=   0.7s\n",
      "[CV] END max_depth=10, n_estimators=110, random_state=130323; total time=   0.6s\n",
      "[CV] END max_depth=10, n_estimators=150, random_state=130323; total time=   0.9s\n",
      "[CV] END max_depth=10, n_estimators=150, random_state=130323; total time=   0.9s\n",
      "[CV] END max_depth=10, n_estimators=150, random_state=130323; total time=   0.9s\n",
      "[CV] END max_depth=10, n_estimators=200, random_state=130323; total time=   1.1s\n",
      "[CV] END max_depth=10, n_estimators=200, random_state=130323; total time=   1.2s\n",
      "[CV] END max_depth=10, n_estimators=200, random_state=130323; total time=   1.1s\n",
      "[CV] END max_depth=10, n_estimators=250, random_state=130323; total time=   1.4s\n",
      "[CV] END max_depth=10, n_estimators=250, random_state=130323; total time=   1.4s\n",
      "[CV] END max_depth=10, n_estimators=250, random_state=130323; total time=   1.4s\n",
      "[CV] END max_depth=10, n_estimators=300, random_state=130323; total time=   1.6s\n",
      "[CV] END max_depth=10, n_estimators=300, random_state=130323; total time=   1.8s\n",
      "[CV] END max_depth=10, n_estimators=300, random_state=130323; total time=   1.7s\n",
      "[CV] END max_depth=10, n_estimators=400, random_state=130323; total time=   2.2s\n",
      "[CV] END max_depth=10, n_estimators=400, random_state=130323; total time=   2.2s\n",
      "[CV] END max_depth=10, n_estimators=400, random_state=130323; total time=   2.2s\n",
      "[CV] END max_depth=10, n_estimators=500, random_state=130323; total time=   3.0s\n",
      "[CV] END max_depth=10, n_estimators=500, random_state=130323; total time=   2.9s\n",
      "[CV] END max_depth=10, n_estimators=500, random_state=130323; total time=   2.8s\n",
      "[CV] END max_depth=10, n_estimators=650, random_state=130323; total time=   3.7s\n",
      "[CV] END max_depth=10, n_estimators=650, random_state=130323; total time=   3.6s\n",
      "[CV] END max_depth=10, n_estimators=650, random_state=130323; total time=   3.5s\n",
      "[CV] END max_depth=10, n_estimators=700, random_state=130323; total time=   4.1s\n",
      "[CV] END max_depth=10, n_estimators=700, random_state=130323; total time=   4.0s\n",
      "[CV] END max_depth=10, n_estimators=700, random_state=130323; total time=   3.9s\n",
      "[CV] END .max_depth=11, n_estimators=10, random_state=130323; total time=   0.1s\n",
      "[CV] END .max_depth=11, n_estimators=10, random_state=130323; total time=   0.1s\n",
      "[CV] END .max_depth=11, n_estimators=10, random_state=130323; total time=   0.1s\n",
      "[CV] END .max_depth=11, n_estimators=20, random_state=130323; total time=   0.1s\n",
      "[CV] END .max_depth=11, n_estimators=20, random_state=130323; total time=   0.1s\n",
      "[CV] END .max_depth=11, n_estimators=20, random_state=130323; total time=   0.1s\n",
      "[CV] END .max_depth=11, n_estimators=30, random_state=130323; total time=   0.2s\n",
      "[CV] END .max_depth=11, n_estimators=30, random_state=130323; total time=   0.2s\n",
      "[CV] END .max_depth=11, n_estimators=30, random_state=130323; total time=   0.2s\n",
      "[CV] END .max_depth=11, n_estimators=50, random_state=130323; total time=   0.3s\n",
      "[CV] END .max_depth=11, n_estimators=50, random_state=130323; total time=   0.3s\n",
      "[CV] END .max_depth=11, n_estimators=50, random_state=130323; total time=   0.3s\n",
      "[CV] END .max_depth=11, n_estimators=70, random_state=130323; total time=   0.4s\n",
      "[CV] END .max_depth=11, n_estimators=70, random_state=130323; total time=   0.4s\n",
      "[CV] END .max_depth=11, n_estimators=70, random_state=130323; total time=   0.5s\n",
      "[CV] END .max_depth=11, n_estimators=90, random_state=130323; total time=   0.6s\n",
      "[CV] END .max_depth=11, n_estimators=90, random_state=130323; total time=   0.6s\n",
      "[CV] END .max_depth=11, n_estimators=90, random_state=130323; total time=   0.6s\n",
      "[CV] END max_depth=11, n_estimators=110, random_state=130323; total time=   0.7s\n",
      "[CV] END max_depth=11, n_estimators=110, random_state=130323; total time=   0.7s\n",
      "[CV] END max_depth=11, n_estimators=110, random_state=130323; total time=   0.7s\n",
      "[CV] END max_depth=11, n_estimators=150, random_state=130323; total time=   0.9s\n",
      "[CV] END max_depth=11, n_estimators=150, random_state=130323; total time=   1.0s\n",
      "[CV] END max_depth=11, n_estimators=150, random_state=130323; total time=   1.0s\n",
      "[CV] END max_depth=11, n_estimators=200, random_state=130323; total time=   1.3s\n",
      "[CV] END max_depth=11, n_estimators=200, random_state=130323; total time=   1.3s\n",
      "[CV] END max_depth=11, n_estimators=200, random_state=130323; total time=   1.3s\n",
      "[CV] END max_depth=11, n_estimators=250, random_state=130323; total time=   1.5s\n",
      "[CV] END max_depth=11, n_estimators=250, random_state=130323; total time=   1.5s\n",
      "[CV] END max_depth=11, n_estimators=250, random_state=130323; total time=   1.5s\n",
      "[CV] END max_depth=11, n_estimators=300, random_state=130323; total time=   1.8s\n",
      "[CV] END max_depth=11, n_estimators=300, random_state=130323; total time=   1.8s\n",
      "[CV] END max_depth=11, n_estimators=300, random_state=130323; total time=   1.7s\n",
      "[CV] END max_depth=11, n_estimators=400, random_state=130323; total time=   2.3s\n",
      "[CV] END max_depth=11, n_estimators=400, random_state=130323; total time=   2.3s\n",
      "[CV] END max_depth=11, n_estimators=400, random_state=130323; total time=   2.4s\n",
      "[CV] END max_depth=11, n_estimators=500, random_state=130323; total time=   2.9s\n",
      "[CV] END max_depth=11, n_estimators=500, random_state=130323; total time=   3.0s\n",
      "[CV] END max_depth=11, n_estimators=500, random_state=130323; total time=   2.9s\n",
      "[CV] END max_depth=11, n_estimators=650, random_state=130323; total time=   3.9s\n",
      "[CV] END max_depth=11, n_estimators=650, random_state=130323; total time=   3.9s\n",
      "[CV] END max_depth=11, n_estimators=650, random_state=130323; total time=   3.9s\n",
      "[CV] END max_depth=11, n_estimators=700, random_state=130323; total time=   4.2s\n",
      "[CV] END max_depth=11, n_estimators=700, random_state=130323; total time=   4.2s\n",
      "[CV] END max_depth=11, n_estimators=700, random_state=130323; total time=   4.2s\n",
      "[CV] END .max_depth=12, n_estimators=10, random_state=130323; total time=   0.1s\n",
      "[CV] END .max_depth=12, n_estimators=10, random_state=130323; total time=   0.1s\n",
      "[CV] END .max_depth=12, n_estimators=10, random_state=130323; total time=   0.1s\n",
      "[CV] END .max_depth=12, n_estimators=20, random_state=130323; total time=   0.1s\n",
      "[CV] END .max_depth=12, n_estimators=20, random_state=130323; total time=   0.1s\n",
      "[CV] END .max_depth=12, n_estimators=20, random_state=130323; total time=   0.1s\n",
      "[CV] END .max_depth=12, n_estimators=30, random_state=130323; total time=   0.2s\n",
      "[CV] END .max_depth=12, n_estimators=30, random_state=130323; total time=   0.2s\n",
      "[CV] END .max_depth=12, n_estimators=30, random_state=130323; total time=   0.2s\n",
      "[CV] END .max_depth=12, n_estimators=50, random_state=130323; total time=   0.3s\n",
      "[CV] END .max_depth=12, n_estimators=50, random_state=130323; total time=   0.3s\n",
      "[CV] END .max_depth=12, n_estimators=50, random_state=130323; total time=   0.3s\n",
      "[CV] END .max_depth=12, n_estimators=70, random_state=130323; total time=   0.4s\n",
      "[CV] END .max_depth=12, n_estimators=70, random_state=130323; total time=   0.5s\n",
      "[CV] END .max_depth=12, n_estimators=70, random_state=130323; total time=   0.4s\n",
      "[CV] END .max_depth=12, n_estimators=90, random_state=130323; total time=   0.6s\n",
      "[CV] END .max_depth=12, n_estimators=90, random_state=130323; total time=   0.6s\n",
      "[CV] END .max_depth=12, n_estimators=90, random_state=130323; total time=   0.6s\n",
      "[CV] END max_depth=12, n_estimators=110, random_state=130323; total time=   0.7s\n",
      "[CV] END max_depth=12, n_estimators=110, random_state=130323; total time=   0.7s\n",
      "[CV] END max_depth=12, n_estimators=110, random_state=130323; total time=   0.7s\n",
      "[CV] END max_depth=12, n_estimators=150, random_state=130323; total time=   1.0s\n",
      "[CV] END max_depth=12, n_estimators=150, random_state=130323; total time=   1.0s\n",
      "[CV] END max_depth=12, n_estimators=150, random_state=130323; total time=   0.9s\n",
      "[CV] END max_depth=12, n_estimators=200, random_state=130323; total time=   1.2s\n",
      "[CV] END max_depth=12, n_estimators=200, random_state=130323; total time=   1.3s\n",
      "[CV] END max_depth=12, n_estimators=200, random_state=130323; total time=   1.2s\n",
      "[CV] END max_depth=12, n_estimators=250, random_state=130323; total time=   1.6s\n",
      "[CV] END max_depth=12, n_estimators=250, random_state=130323; total time=   1.6s\n",
      "[CV] END max_depth=12, n_estimators=250, random_state=130323; total time=   1.5s\n",
      "[CV] END max_depth=12, n_estimators=300, random_state=130323; total time=   1.9s\n",
      "[CV] END max_depth=12, n_estimators=300, random_state=130323; total time=   1.9s\n",
      "[CV] END max_depth=12, n_estimators=300, random_state=130323; total time=   1.9s\n",
      "[CV] END max_depth=12, n_estimators=400, random_state=130323; total time=   2.6s\n",
      "[CV] END max_depth=12, n_estimators=400, random_state=130323; total time=   2.6s\n",
      "[CV] END max_depth=12, n_estimators=400, random_state=130323; total time=   2.5s\n",
      "[CV] END max_depth=12, n_estimators=500, random_state=130323; total time=   3.1s\n",
      "[CV] END max_depth=12, n_estimators=500, random_state=130323; total time=   3.3s\n",
      "[CV] END max_depth=12, n_estimators=500, random_state=130323; total time=   3.1s\n",
      "[CV] END max_depth=12, n_estimators=650, random_state=130323; total time=   4.1s\n",
      "[CV] END max_depth=12, n_estimators=650, random_state=130323; total time=   4.2s\n",
      "[CV] END max_depth=12, n_estimators=650, random_state=130323; total time=   4.0s\n",
      "[CV] END max_depth=12, n_estimators=700, random_state=130323; total time=   4.2s\n",
      "[CV] END max_depth=12, n_estimators=700, random_state=130323; total time=   4.4s\n",
      "[CV] END max_depth=12, n_estimators=700, random_state=130323; total time=   4.4s\n",
      "[CV] END .max_depth=13, n_estimators=10, random_state=130323; total time=   0.1s\n",
      "[CV] END .max_depth=13, n_estimators=10, random_state=130323; total time=   0.1s\n",
      "[CV] END .max_depth=13, n_estimators=10, random_state=130323; total time=   0.1s\n",
      "[CV] END .max_depth=13, n_estimators=20, random_state=130323; total time=   0.1s\n",
      "[CV] END .max_depth=13, n_estimators=20, random_state=130323; total time=   0.1s\n",
      "[CV] END .max_depth=13, n_estimators=20, random_state=130323; total time=   0.1s\n",
      "[CV] END .max_depth=13, n_estimators=30, random_state=130323; total time=   0.2s\n",
      "[CV] END .max_depth=13, n_estimators=30, random_state=130323; total time=   0.2s\n",
      "[CV] END .max_depth=13, n_estimators=30, random_state=130323; total time=   0.2s\n",
      "[CV] END .max_depth=13, n_estimators=50, random_state=130323; total time=   0.3s\n",
      "[CV] END .max_depth=13, n_estimators=50, random_state=130323; total time=   0.3s\n",
      "[CV] END .max_depth=13, n_estimators=50, random_state=130323; total time=   0.4s\n",
      "[CV] END .max_depth=13, n_estimators=70, random_state=130323; total time=   0.5s\n",
      "[CV] END .max_depth=13, n_estimators=70, random_state=130323; total time=   0.5s\n",
      "[CV] END .max_depth=13, n_estimators=70, random_state=130323; total time=   0.4s\n",
      "[CV] END .max_depth=13, n_estimators=90, random_state=130323; total time=   0.6s\n",
      "[CV] END .max_depth=13, n_estimators=90, random_state=130323; total time=   0.6s\n",
      "[CV] END .max_depth=13, n_estimators=90, random_state=130323; total time=   0.6s\n",
      "[CV] END max_depth=13, n_estimators=110, random_state=130323; total time=   0.7s\n",
      "[CV] END max_depth=13, n_estimators=110, random_state=130323; total time=   0.7s\n",
      "[CV] END max_depth=13, n_estimators=110, random_state=130323; total time=   0.7s\n",
      "[CV] END max_depth=13, n_estimators=150, random_state=130323; total time=   1.0s\n",
      "[CV] END max_depth=13, n_estimators=150, random_state=130323; total time=   1.0s\n",
      "[CV] END max_depth=13, n_estimators=150, random_state=130323; total time=   1.0s\n",
      "[CV] END max_depth=13, n_estimators=200, random_state=130323; total time=   1.3s\n",
      "[CV] END max_depth=13, n_estimators=200, random_state=130323; total time=   1.3s\n",
      "[CV] END max_depth=13, n_estimators=200, random_state=130323; total time=   1.3s\n",
      "[CV] END max_depth=13, n_estimators=250, random_state=130323; total time=   1.6s\n",
      "[CV] END max_depth=13, n_estimators=250, random_state=130323; total time=   1.6s\n",
      "[CV] END max_depth=13, n_estimators=250, random_state=130323; total time=   1.6s\n",
      "[CV] END max_depth=13, n_estimators=300, random_state=130323; total time=   1.9s\n",
      "[CV] END max_depth=13, n_estimators=300, random_state=130323; total time=   2.0s\n",
      "[CV] END max_depth=13, n_estimators=300, random_state=130323; total time=   2.0s\n",
      "[CV] END max_depth=13, n_estimators=400, random_state=130323; total time=   2.6s\n",
      "[CV] END max_depth=13, n_estimators=400, random_state=130323; total time=   2.8s\n",
      "[CV] END max_depth=13, n_estimators=400, random_state=130323; total time=   2.6s\n",
      "[CV] END max_depth=13, n_estimators=500, random_state=130323; total time=   3.3s\n",
      "[CV] END max_depth=13, n_estimators=500, random_state=130323; total time=   3.4s\n",
      "[CV] END max_depth=13, n_estimators=500, random_state=130323; total time=   3.4s\n",
      "[CV] END max_depth=13, n_estimators=650, random_state=130323; total time=   4.2s\n",
      "[CV] END max_depth=13, n_estimators=650, random_state=130323; total time=   4.3s\n",
      "[CV] END max_depth=13, n_estimators=650, random_state=130323; total time=   4.3s\n",
      "[CV] END max_depth=13, n_estimators=700, random_state=130323; total time=   4.6s\n",
      "[CV] END max_depth=13, n_estimators=700, random_state=130323; total time=   4.6s\n",
      "[CV] END max_depth=13, n_estimators=700, random_state=130323; total time=   4.5s\n",
      "[CV] END .max_depth=14, n_estimators=10, random_state=130323; total time=   0.1s\n",
      "[CV] END .max_depth=14, n_estimators=10, random_state=130323; total time=   0.1s\n",
      "[CV] END .max_depth=14, n_estimators=10, random_state=130323; total time=   0.1s\n",
      "[CV] END .max_depth=14, n_estimators=20, random_state=130323; total time=   0.1s\n",
      "[CV] END .max_depth=14, n_estimators=20, random_state=130323; total time=   0.1s\n",
      "[CV] END .max_depth=14, n_estimators=20, random_state=130323; total time=   0.1s\n",
      "[CV] END .max_depth=14, n_estimators=30, random_state=130323; total time=   0.2s\n",
      "[CV] END .max_depth=14, n_estimators=30, random_state=130323; total time=   0.2s\n",
      "[CV] END .max_depth=14, n_estimators=30, random_state=130323; total time=   0.2s\n",
      "[CV] END .max_depth=14, n_estimators=50, random_state=130323; total time=   0.3s\n",
      "[CV] END .max_depth=14, n_estimators=50, random_state=130323; total time=   0.4s\n",
      "[CV] END .max_depth=14, n_estimators=50, random_state=130323; total time=   0.4s\n",
      "[CV] END .max_depth=14, n_estimators=70, random_state=130323; total time=   0.5s\n",
      "[CV] END .max_depth=14, n_estimators=70, random_state=130323; total time=   0.5s\n",
      "[CV] END .max_depth=14, n_estimators=70, random_state=130323; total time=   0.5s\n",
      "[CV] END .max_depth=14, n_estimators=90, random_state=130323; total time=   0.6s\n",
      "[CV] END .max_depth=14, n_estimators=90, random_state=130323; total time=   0.6s\n",
      "[CV] END .max_depth=14, n_estimators=90, random_state=130323; total time=   1.0s\n",
      "[CV] END max_depth=14, n_estimators=110, random_state=130323; total time=   1.3s\n",
      "[CV] END max_depth=14, n_estimators=110, random_state=130323; total time=   0.8s\n",
      "[CV] END max_depth=14, n_estimators=110, random_state=130323; total time=   0.7s\n",
      "[CV] END max_depth=14, n_estimators=150, random_state=130323; total time=   1.0s\n",
      "[CV] END max_depth=14, n_estimators=150, random_state=130323; total time=   1.1s\n",
      "[CV] END max_depth=14, n_estimators=150, random_state=130323; total time=   1.0s\n",
      "[CV] END max_depth=14, n_estimators=200, random_state=130323; total time=   1.4s\n",
      "[CV] END max_depth=14, n_estimators=200, random_state=130323; total time=   1.4s\n",
      "[CV] END max_depth=14, n_estimators=200, random_state=130323; total time=   1.3s\n",
      "[CV] END max_depth=14, n_estimators=250, random_state=130323; total time=   1.7s\n",
      "[CV] END max_depth=14, n_estimators=250, random_state=130323; total time=   1.7s\n",
      "[CV] END max_depth=14, n_estimators=250, random_state=130323; total time=   1.7s\n",
      "[CV] END max_depth=14, n_estimators=300, random_state=130323; total time=   2.0s\n",
      "[CV] END max_depth=14, n_estimators=300, random_state=130323; total time=   2.1s\n",
      "[CV] END max_depth=14, n_estimators=300, random_state=130323; total time=   2.0s\n",
      "[CV] END max_depth=14, n_estimators=400, random_state=130323; total time=   2.8s\n",
      "[CV] END max_depth=14, n_estimators=400, random_state=130323; total time=   2.7s\n",
      "[CV] END max_depth=14, n_estimators=400, random_state=130323; total time=   2.6s\n",
      "[CV] END max_depth=14, n_estimators=500, random_state=130323; total time=   3.3s\n",
      "[CV] END max_depth=14, n_estimators=500, random_state=130323; total time=   3.5s\n",
      "[CV] END max_depth=14, n_estimators=500, random_state=130323; total time=   3.4s\n",
      "[CV] END max_depth=14, n_estimators=650, random_state=130323; total time=   4.4s\n",
      "[CV] END max_depth=14, n_estimators=650, random_state=130323; total time=   4.5s\n",
      "[CV] END max_depth=14, n_estimators=650, random_state=130323; total time=   4.3s\n",
      "[CV] END max_depth=14, n_estimators=700, random_state=130323; total time=   4.7s\n",
      "[CV] END max_depth=14, n_estimators=700, random_state=130323; total time=   4.6s\n",
      "[CV] END max_depth=14, n_estimators=700, random_state=130323; total time=   4.9s\n",
      "[CV] END .max_depth=15, n_estimators=10, random_state=130323; total time=   0.1s\n",
      "[CV] END .max_depth=15, n_estimators=10, random_state=130323; total time=   0.2s\n",
      "[CV] END .max_depth=15, n_estimators=10, random_state=130323; total time=   0.2s\n",
      "[CV] END .max_depth=15, n_estimators=20, random_state=130323; total time=   0.3s\n",
      "[CV] END .max_depth=15, n_estimators=20, random_state=130323; total time=   0.4s\n",
      "[CV] END .max_depth=15, n_estimators=20, random_state=130323; total time=   0.3s\n",
      "[CV] END .max_depth=15, n_estimators=30, random_state=130323; total time=   0.3s\n",
      "[CV] END .max_depth=15, n_estimators=30, random_state=130323; total time=   0.2s\n",
      "[CV] END .max_depth=15, n_estimators=30, random_state=130323; total time=   0.2s\n",
      "[CV] END .max_depth=15, n_estimators=50, random_state=130323; total time=   0.4s\n",
      "[CV] END .max_depth=15, n_estimators=50, random_state=130323; total time=   0.4s\n",
      "[CV] END .max_depth=15, n_estimators=50, random_state=130323; total time=   0.3s\n",
      "[CV] END .max_depth=15, n_estimators=70, random_state=130323; total time=   0.5s\n",
      "[CV] END .max_depth=15, n_estimators=70, random_state=130323; total time=   0.5s\n",
      "[CV] END .max_depth=15, n_estimators=70, random_state=130323; total time=   0.5s\n",
      "[CV] END .max_depth=15, n_estimators=90, random_state=130323; total time=   0.6s\n",
      "[CV] END .max_depth=15, n_estimators=90, random_state=130323; total time=   0.6s\n",
      "[CV] END .max_depth=15, n_estimators=90, random_state=130323; total time=   0.6s\n",
      "[CV] END max_depth=15, n_estimators=110, random_state=130323; total time=   0.8s\n",
      "[CV] END max_depth=15, n_estimators=110, random_state=130323; total time=   0.8s\n",
      "[CV] END max_depth=15, n_estimators=110, random_state=130323; total time=   0.8s\n",
      "[CV] END max_depth=15, n_estimators=150, random_state=130323; total time=   1.0s\n",
      "[CV] END max_depth=15, n_estimators=150, random_state=130323; total time=   1.0s\n",
      "[CV] END max_depth=15, n_estimators=150, random_state=130323; total time=   1.1s\n",
      "[CV] END max_depth=15, n_estimators=200, random_state=130323; total time=   1.4s\n",
      "[CV] END max_depth=15, n_estimators=200, random_state=130323; total time=   1.5s\n",
      "[CV] END max_depth=15, n_estimators=200, random_state=130323; total time=   1.5s\n",
      "[CV] END max_depth=15, n_estimators=250, random_state=130323; total time=   1.8s\n",
      "[CV] END max_depth=15, n_estimators=250, random_state=130323; total time=   1.7s\n",
      "[CV] END max_depth=15, n_estimators=250, random_state=130323; total time=   1.7s\n",
      "[CV] END max_depth=15, n_estimators=300, random_state=130323; total time=   2.0s\n",
      "[CV] END max_depth=15, n_estimators=300, random_state=130323; total time=   2.1s\n",
      "[CV] END max_depth=15, n_estimators=300, random_state=130323; total time=   2.1s\n",
      "[CV] END max_depth=15, n_estimators=400, random_state=130323; total time=   2.7s\n",
      "[CV] END max_depth=15, n_estimators=400, random_state=130323; total time=   2.8s\n",
      "[CV] END max_depth=15, n_estimators=400, random_state=130323; total time=   2.6s\n",
      "[CV] END max_depth=15, n_estimators=500, random_state=130323; total time=   3.3s\n",
      "[CV] END max_depth=15, n_estimators=500, random_state=130323; total time=   3.4s\n",
      "[CV] END max_depth=15, n_estimators=500, random_state=130323; total time=   3.5s\n",
      "[CV] END max_depth=15, n_estimators=650, random_state=130323; total time=   4.6s\n",
      "[CV] END max_depth=15, n_estimators=650, random_state=130323; total time=   4.5s\n",
      "[CV] END max_depth=15, n_estimators=650, random_state=130323; total time=   4.5s\n",
      "[CV] END max_depth=15, n_estimators=700, random_state=130323; total time=   4.7s\n",
      "[CV] END max_depth=15, n_estimators=700, random_state=130323; total time=   4.9s\n",
      "[CV] END max_depth=15, n_estimators=700, random_state=130323; total time=   4.7s\n",
      "[CV] END .max_depth=16, n_estimators=10, random_state=130323; total time=   0.1s\n",
      "[CV] END .max_depth=16, n_estimators=10, random_state=130323; total time=   0.1s\n",
      "[CV] END .max_depth=16, n_estimators=10, random_state=130323; total time=   0.1s\n",
      "[CV] END .max_depth=16, n_estimators=20, random_state=130323; total time=   0.2s\n",
      "[CV] END .max_depth=16, n_estimators=20, random_state=130323; total time=   0.2s\n",
      "[CV] END .max_depth=16, n_estimators=20, random_state=130323; total time=   0.2s\n",
      "[CV] END .max_depth=16, n_estimators=30, random_state=130323; total time=   0.2s\n",
      "[CV] END .max_depth=16, n_estimators=30, random_state=130323; total time=   0.2s\n",
      "[CV] END .max_depth=16, n_estimators=30, random_state=130323; total time=   0.2s\n",
      "[CV] END .max_depth=16, n_estimators=50, random_state=130323; total time=   0.4s\n",
      "[CV] END .max_depth=16, n_estimators=50, random_state=130323; total time=   0.4s\n",
      "[CV] END .max_depth=16, n_estimators=50, random_state=130323; total time=   0.4s\n",
      "[CV] END .max_depth=16, n_estimators=70, random_state=130323; total time=   0.5s\n",
      "[CV] END .max_depth=16, n_estimators=70, random_state=130323; total time=   0.5s\n",
      "[CV] END .max_depth=16, n_estimators=70, random_state=130323; total time=   0.5s\n",
      "[CV] END .max_depth=16, n_estimators=90, random_state=130323; total time=   0.6s\n",
      "[CV] END .max_depth=16, n_estimators=90, random_state=130323; total time=   0.7s\n",
      "[CV] END .max_depth=16, n_estimators=90, random_state=130323; total time=   0.6s\n",
      "[CV] END max_depth=16, n_estimators=110, random_state=130323; total time=   0.7s\n",
      "[CV] END max_depth=16, n_estimators=110, random_state=130323; total time=   0.8s\n",
      "[CV] END max_depth=16, n_estimators=110, random_state=130323; total time=   0.8s\n",
      "[CV] END max_depth=16, n_estimators=150, random_state=130323; total time=   1.0s\n",
      "[CV] END max_depth=16, n_estimators=150, random_state=130323; total time=   1.0s\n",
      "[CV] END max_depth=16, n_estimators=150, random_state=130323; total time=   1.0s\n",
      "[CV] END max_depth=16, n_estimators=200, random_state=130323; total time=   1.4s\n",
      "[CV] END max_depth=16, n_estimators=200, random_state=130323; total time=   1.4s\n",
      "[CV] END max_depth=16, n_estimators=200, random_state=130323; total time=   1.5s\n",
      "[CV] END max_depth=16, n_estimators=250, random_state=130323; total time=   2.1s\n",
      "[CV] END max_depth=16, n_estimators=250, random_state=130323; total time=   2.6s\n",
      "[CV] END max_depth=16, n_estimators=250, random_state=130323; total time=   1.7s\n",
      "[CV] END max_depth=16, n_estimators=300, random_state=130323; total time=   2.2s\n",
      "[CV] END max_depth=16, n_estimators=300, random_state=130323; total time=   2.2s\n",
      "[CV] END max_depth=16, n_estimators=300, random_state=130323; total time=   2.1s\n",
      "[CV] END max_depth=16, n_estimators=400, random_state=130323; total time=   2.7s\n",
      "[CV] END max_depth=16, n_estimators=400, random_state=130323; total time=   2.9s\n",
      "[CV] END max_depth=16, n_estimators=400, random_state=130323; total time=   2.7s\n",
      "[CV] END max_depth=16, n_estimators=500, random_state=130323; total time=   3.4s\n",
      "[CV] END max_depth=16, n_estimators=500, random_state=130323; total time=   3.5s\n",
      "[CV] END max_depth=16, n_estimators=500, random_state=130323; total time=   3.5s\n",
      "[CV] END max_depth=16, n_estimators=650, random_state=130323; total time=   4.5s\n",
      "[CV] END max_depth=16, n_estimators=650, random_state=130323; total time=   4.9s\n",
      "[CV] END max_depth=16, n_estimators=650, random_state=130323; total time=   4.5s\n",
      "[CV] END max_depth=16, n_estimators=700, random_state=130323; total time=   4.8s\n",
      "[CV] END max_depth=16, n_estimators=700, random_state=130323; total time=   4.9s\n",
      "[CV] END max_depth=16, n_estimators=700, random_state=130323; total time=   4.8s\n",
      "[CV] END .max_depth=17, n_estimators=10, random_state=130323; total time=   0.1s\n",
      "[CV] END .max_depth=17, n_estimators=10, random_state=130323; total time=   0.1s\n",
      "[CV] END .max_depth=17, n_estimators=10, random_state=130323; total time=   0.1s\n",
      "[CV] END .max_depth=17, n_estimators=20, random_state=130323; total time=   0.1s\n",
      "[CV] END .max_depth=17, n_estimators=20, random_state=130323; total time=   0.2s\n",
      "[CV] END .max_depth=17, n_estimators=20, random_state=130323; total time=   0.1s\n",
      "[CV] END .max_depth=17, n_estimators=30, random_state=130323; total time=   0.2s\n",
      "[CV] END .max_depth=17, n_estimators=30, random_state=130323; total time=   0.2s\n",
      "[CV] END .max_depth=17, n_estimators=30, random_state=130323; total time=   0.2s\n",
      "[CV] END .max_depth=17, n_estimators=50, random_state=130323; total time=   0.4s\n",
      "[CV] END .max_depth=17, n_estimators=50, random_state=130323; total time=   0.4s\n",
      "[CV] END .max_depth=17, n_estimators=50, random_state=130323; total time=   0.4s\n",
      "[CV] END .max_depth=17, n_estimators=70, random_state=130323; total time=   0.5s\n",
      "[CV] END .max_depth=17, n_estimators=70, random_state=130323; total time=   0.5s\n",
      "[CV] END .max_depth=17, n_estimators=70, random_state=130323; total time=   0.5s\n",
      "[CV] END .max_depth=17, n_estimators=90, random_state=130323; total time=   0.6s\n",
      "[CV] END .max_depth=17, n_estimators=90, random_state=130323; total time=   0.7s\n",
      "[CV] END .max_depth=17, n_estimators=90, random_state=130323; total time=   0.6s\n",
      "[CV] END max_depth=17, n_estimators=110, random_state=130323; total time=   0.8s\n",
      "[CV] END max_depth=17, n_estimators=110, random_state=130323; total time=   0.8s\n",
      "[CV] END max_depth=17, n_estimators=110, random_state=130323; total time=   0.8s\n",
      "[CV] END max_depth=17, n_estimators=150, random_state=130323; total time=   1.1s\n",
      "[CV] END max_depth=17, n_estimators=150, random_state=130323; total time=   1.1s\n",
      "[CV] END max_depth=17, n_estimators=150, random_state=130323; total time=   1.1s\n",
      "[CV] END max_depth=17, n_estimators=200, random_state=130323; total time=   1.5s\n",
      "[CV] END max_depth=17, n_estimators=200, random_state=130323; total time=   1.5s\n",
      "[CV] END max_depth=17, n_estimators=200, random_state=130323; total time=   1.4s\n",
      "[CV] END max_depth=17, n_estimators=250, random_state=130323; total time=   1.8s\n",
      "[CV] END max_depth=17, n_estimators=250, random_state=130323; total time=   1.8s\n",
      "[CV] END max_depth=17, n_estimators=250, random_state=130323; total time=   1.7s\n",
      "[CV] END max_depth=17, n_estimators=300, random_state=130323; total time=   2.1s\n",
      "[CV] END max_depth=17, n_estimators=300, random_state=130323; total time=   2.1s\n",
      "[CV] END max_depth=17, n_estimators=300, random_state=130323; total time=   2.3s\n",
      "[CV] END max_depth=17, n_estimators=400, random_state=130323; total time=   2.9s\n",
      "[CV] END max_depth=17, n_estimators=400, random_state=130323; total time=   3.0s\n",
      "[CV] END max_depth=17, n_estimators=400, random_state=130323; total time=   2.9s\n",
      "[CV] END max_depth=17, n_estimators=500, random_state=130323; total time=   3.7s\n",
      "[CV] END max_depth=17, n_estimators=500, random_state=130323; total time=   3.6s\n",
      "[CV] END max_depth=17, n_estimators=500, random_state=130323; total time=   3.6s\n",
      "[CV] END max_depth=17, n_estimators=650, random_state=130323; total time=   4.5s\n",
      "[CV] END max_depth=17, n_estimators=650, random_state=130323; total time=   4.7s\n",
      "[CV] END max_depth=17, n_estimators=650, random_state=130323; total time=   4.6s\n",
      "[CV] END max_depth=17, n_estimators=700, random_state=130323; total time=   5.0s\n",
      "[CV] END max_depth=17, n_estimators=700, random_state=130323; total time=   5.4s\n",
      "[CV] END max_depth=17, n_estimators=700, random_state=130323; total time=   5.1s\n",
      "[CV] END .max_depth=18, n_estimators=10, random_state=130323; total time=   0.1s\n",
      "[CV] END .max_depth=18, n_estimators=10, random_state=130323; total time=   0.1s\n",
      "[CV] END .max_depth=18, n_estimators=10, random_state=130323; total time=   0.1s\n",
      "[CV] END .max_depth=18, n_estimators=20, random_state=130323; total time=   0.2s\n",
      "[CV] END .max_depth=18, n_estimators=20, random_state=130323; total time=   0.2s\n",
      "[CV] END .max_depth=18, n_estimators=20, random_state=130323; total time=   0.1s\n",
      "[CV] END .max_depth=18, n_estimators=30, random_state=130323; total time=   0.2s\n",
      "[CV] END .max_depth=18, n_estimators=30, random_state=130323; total time=   0.2s\n",
      "[CV] END .max_depth=18, n_estimators=30, random_state=130323; total time=   0.2s\n",
      "[CV] END .max_depth=18, n_estimators=50, random_state=130323; total time=   0.4s\n",
      "[CV] END .max_depth=18, n_estimators=50, random_state=130323; total time=   0.4s\n",
      "[CV] END .max_depth=18, n_estimators=50, random_state=130323; total time=   0.4s\n",
      "[CV] END .max_depth=18, n_estimators=70, random_state=130323; total time=   0.5s\n",
      "[CV] END .max_depth=18, n_estimators=70, random_state=130323; total time=   0.5s\n",
      "[CV] END .max_depth=18, n_estimators=70, random_state=130323; total time=   0.5s\n",
      "[CV] END .max_depth=18, n_estimators=90, random_state=130323; total time=   0.6s\n",
      "[CV] END .max_depth=18, n_estimators=90, random_state=130323; total time=   0.7s\n",
      "[CV] END .max_depth=18, n_estimators=90, random_state=130323; total time=   0.6s\n",
      "[CV] END max_depth=18, n_estimators=110, random_state=130323; total time=   0.8s\n",
      "[CV] END max_depth=18, n_estimators=110, random_state=130323; total time=   0.8s\n",
      "[CV] END max_depth=18, n_estimators=110, random_state=130323; total time=   0.9s\n",
      "[CV] END max_depth=18, n_estimators=150, random_state=130323; total time=   1.0s\n",
      "[CV] END max_depth=18, n_estimators=150, random_state=130323; total time=   1.2s\n",
      "[CV] END max_depth=18, n_estimators=150, random_state=130323; total time=   1.0s\n",
      "[CV] END max_depth=18, n_estimators=200, random_state=130323; total time=   1.5s\n",
      "[CV] END max_depth=18, n_estimators=200, random_state=130323; total time=   1.6s\n",
      "[CV] END max_depth=18, n_estimators=200, random_state=130323; total time=   1.5s\n",
      "[CV] END max_depth=18, n_estimators=250, random_state=130323; total time=   1.9s\n",
      "[CV] END max_depth=18, n_estimators=250, random_state=130323; total time=   1.9s\n",
      "[CV] END max_depth=18, n_estimators=250, random_state=130323; total time=   1.9s\n",
      "[CV] END max_depth=18, n_estimators=300, random_state=130323; total time=   2.1s\n",
      "[CV] END max_depth=18, n_estimators=300, random_state=130323; total time=   2.1s\n",
      "[CV] END max_depth=18, n_estimators=300, random_state=130323; total time=   2.1s\n",
      "[CV] END max_depth=18, n_estimators=400, random_state=130323; total time=   3.0s\n",
      "[CV] END max_depth=18, n_estimators=400, random_state=130323; total time=   2.9s\n",
      "[CV] END max_depth=18, n_estimators=400, random_state=130323; total time=   2.8s\n",
      "[CV] END max_depth=18, n_estimators=500, random_state=130323; total time=   3.6s\n",
      "[CV] END max_depth=18, n_estimators=500, random_state=130323; total time=   3.6s\n",
      "[CV] END max_depth=18, n_estimators=500, random_state=130323; total time=   3.6s\n",
      "[CV] END max_depth=18, n_estimators=650, random_state=130323; total time=   4.8s\n",
      "[CV] END max_depth=18, n_estimators=650, random_state=130323; total time=   4.8s\n",
      "[CV] END max_depth=18, n_estimators=650, random_state=130323; total time=   4.6s\n",
      "[CV] END max_depth=18, n_estimators=700, random_state=130323; total time=   4.9s\n",
      "[CV] END max_depth=18, n_estimators=700, random_state=130323; total time=   5.3s\n",
      "[CV] END max_depth=18, n_estimators=700, random_state=130323; total time=   4.9s\n",
      "[CV] END .max_depth=19, n_estimators=10, random_state=130323; total time=   0.1s\n",
      "[CV] END .max_depth=19, n_estimators=10, random_state=130323; total time=   0.1s\n",
      "[CV] END .max_depth=19, n_estimators=10, random_state=130323; total time=   0.1s\n",
      "[CV] END .max_depth=19, n_estimators=20, random_state=130323; total time=   0.2s\n",
      "[CV] END .max_depth=19, n_estimators=20, random_state=130323; total time=   0.2s\n",
      "[CV] END .max_depth=19, n_estimators=20, random_state=130323; total time=   0.1s\n",
      "[CV] END .max_depth=19, n_estimators=30, random_state=130323; total time=   0.2s\n",
      "[CV] END .max_depth=19, n_estimators=30, random_state=130323; total time=   0.3s\n",
      "[CV] END .max_depth=19, n_estimators=30, random_state=130323; total time=   0.2s\n",
      "[CV] END .max_depth=19, n_estimators=50, random_state=130323; total time=   0.4s\n",
      "[CV] END .max_depth=19, n_estimators=50, random_state=130323; total time=   0.4s\n",
      "[CV] END .max_depth=19, n_estimators=50, random_state=130323; total time=   0.4s\n",
      "[CV] END .max_depth=19, n_estimators=70, random_state=130323; total time=   0.5s\n",
      "[CV] END .max_depth=19, n_estimators=70, random_state=130323; total time=   0.6s\n",
      "[CV] END .max_depth=19, n_estimators=70, random_state=130323; total time=   0.5s\n",
      "[CV] END .max_depth=19, n_estimators=90, random_state=130323; total time=   0.6s\n",
      "[CV] END .max_depth=19, n_estimators=90, random_state=130323; total time=   0.7s\n",
      "[CV] END .max_depth=19, n_estimators=90, random_state=130323; total time=   0.7s\n",
      "[CV] END max_depth=19, n_estimators=110, random_state=130323; total time=   0.8s\n",
      "[CV] END max_depth=19, n_estimators=110, random_state=130323; total time=   0.8s\n",
      "[CV] END max_depth=19, n_estimators=110, random_state=130323; total time=   0.8s\n",
      "[CV] END max_depth=19, n_estimators=150, random_state=130323; total time=   1.1s\n",
      "[CV] END max_depth=19, n_estimators=150, random_state=130323; total time=   1.1s\n",
      "[CV] END max_depth=19, n_estimators=150, random_state=130323; total time=   1.2s\n",
      "[CV] END max_depth=19, n_estimators=200, random_state=130323; total time=   1.5s\n",
      "[CV] END max_depth=19, n_estimators=200, random_state=130323; total time=   1.6s\n",
      "[CV] END max_depth=19, n_estimators=200, random_state=130323; total time=   1.4s\n",
      "[CV] END max_depth=19, n_estimators=250, random_state=130323; total time=   1.8s\n",
      "[CV] END max_depth=19, n_estimators=250, random_state=130323; total time=   1.8s\n",
      "[CV] END max_depth=19, n_estimators=250, random_state=130323; total time=   1.8s\n",
      "[CV] END max_depth=19, n_estimators=300, random_state=130323; total time=   2.3s\n",
      "[CV] END max_depth=19, n_estimators=300, random_state=130323; total time=   2.4s\n",
      "[CV] END max_depth=19, n_estimators=300, random_state=130323; total time=   2.2s\n",
      "[CV] END max_depth=19, n_estimators=400, random_state=130323; total time=   2.8s\n",
      "[CV] END max_depth=19, n_estimators=400, random_state=130323; total time=   3.0s\n",
      "[CV] END max_depth=19, n_estimators=400, random_state=130323; total time=   3.0s\n",
      "[CV] END max_depth=19, n_estimators=500, random_state=130323; total time=   3.7s\n",
      "[CV] END max_depth=19, n_estimators=500, random_state=130323; total time=   3.8s\n",
      "[CV] END max_depth=19, n_estimators=500, random_state=130323; total time=   3.6s\n",
      "[CV] END max_depth=19, n_estimators=650, random_state=130323; total time=   4.7s\n",
      "[CV] END max_depth=19, n_estimators=650, random_state=130323; total time=   4.8s\n",
      "[CV] END max_depth=19, n_estimators=650, random_state=130323; total time=   4.7s\n",
      "[CV] END max_depth=19, n_estimators=700, random_state=130323; total time=   5.1s\n",
      "[CV] END max_depth=19, n_estimators=700, random_state=130323; total time=   5.3s\n",
      "[CV] END max_depth=19, n_estimators=700, random_state=130323; total time=   5.0s\n",
      "[CV] END .max_depth=20, n_estimators=10, random_state=130323; total time=   0.1s\n",
      "[CV] END .max_depth=20, n_estimators=10, random_state=130323; total time=   0.1s\n",
      "[CV] END .max_depth=20, n_estimators=10, random_state=130323; total time=   0.1s\n",
      "[CV] END .max_depth=20, n_estimators=20, random_state=130323; total time=   0.1s\n",
      "[CV] END .max_depth=20, n_estimators=20, random_state=130323; total time=   0.2s\n",
      "[CV] END .max_depth=20, n_estimators=20, random_state=130323; total time=   0.1s\n",
      "[CV] END .max_depth=20, n_estimators=30, random_state=130323; total time=   0.2s\n",
      "[CV] END .max_depth=20, n_estimators=30, random_state=130323; total time=   0.2s\n",
      "[CV] END .max_depth=20, n_estimators=30, random_state=130323; total time=   0.2s\n",
      "[CV] END .max_depth=20, n_estimators=50, random_state=130323; total time=   0.4s\n",
      "[CV] END .max_depth=20, n_estimators=50, random_state=130323; total time=   0.4s\n",
      "[CV] END .max_depth=20, n_estimators=50, random_state=130323; total time=   0.3s\n",
      "[CV] END .max_depth=20, n_estimators=70, random_state=130323; total time=   0.5s\n",
      "[CV] END .max_depth=20, n_estimators=70, random_state=130323; total time=   0.5s\n",
      "[CV] END .max_depth=20, n_estimators=70, random_state=130323; total time=   0.5s\n",
      "[CV] END .max_depth=20, n_estimators=90, random_state=130323; total time=   0.7s\n",
      "[CV] END .max_depth=20, n_estimators=90, random_state=130323; total time=   0.7s\n",
      "[CV] END .max_depth=20, n_estimators=90, random_state=130323; total time=   0.7s\n",
      "[CV] END max_depth=20, n_estimators=110, random_state=130323; total time=   0.8s\n",
      "[CV] END max_depth=20, n_estimators=110, random_state=130323; total time=   0.8s\n",
      "[CV] END max_depth=20, n_estimators=110, random_state=130323; total time=   0.9s\n",
      "[CV] END max_depth=20, n_estimators=150, random_state=130323; total time=   1.1s\n",
      "[CV] END max_depth=20, n_estimators=150, random_state=130323; total time=   1.2s\n",
      "[CV] END max_depth=20, n_estimators=150, random_state=130323; total time=   1.1s\n",
      "[CV] END max_depth=20, n_estimators=200, random_state=130323; total time=   1.5s\n",
      "[CV] END max_depth=20, n_estimators=200, random_state=130323; total time=   1.6s\n",
      "[CV] END max_depth=20, n_estimators=200, random_state=130323; total time=   1.6s\n",
      "[CV] END max_depth=20, n_estimators=250, random_state=130323; total time=   1.9s\n",
      "[CV] END max_depth=20, n_estimators=250, random_state=130323; total time=   2.0s\n",
      "[CV] END max_depth=20, n_estimators=250, random_state=130323; total time=   1.8s\n",
      "[CV] END max_depth=20, n_estimators=300, random_state=130323; total time=   2.3s\n",
      "[CV] END max_depth=20, n_estimators=300, random_state=130323; total time=   2.3s\n",
      "[CV] END max_depth=20, n_estimators=300, random_state=130323; total time=   2.2s\n",
      "[CV] END max_depth=20, n_estimators=400, random_state=130323; total time=   2.9s\n",
      "[CV] END max_depth=20, n_estimators=400, random_state=130323; total time=   3.0s\n",
      "[CV] END max_depth=20, n_estimators=400, random_state=130323; total time=   3.0s\n",
      "[CV] END max_depth=20, n_estimators=500, random_state=130323; total time=   3.6s\n",
      "[CV] END max_depth=20, n_estimators=500, random_state=130323; total time=   3.7s\n",
      "[CV] END max_depth=20, n_estimators=500, random_state=130323; total time=   3.6s\n",
      "[CV] END max_depth=20, n_estimators=650, random_state=130323; total time=   4.7s\n",
      "[CV] END max_depth=20, n_estimators=650, random_state=130323; total time=   4.9s\n",
      "[CV] END max_depth=20, n_estimators=650, random_state=130323; total time=   4.8s\n",
      "[CV] END max_depth=20, n_estimators=700, random_state=130323; total time=   5.1s\n",
      "[CV] END max_depth=20, n_estimators=700, random_state=130323; total time=   5.0s\n",
      "[CV] END max_depth=20, n_estimators=700, random_state=130323; total time=   5.0s\n",
      "[CV] END .max_depth=21, n_estimators=10, random_state=130323; total time=   0.1s\n",
      "[CV] END .max_depth=21, n_estimators=10, random_state=130323; total time=   0.1s\n",
      "[CV] END .max_depth=21, n_estimators=10, random_state=130323; total time=   0.1s\n",
      "[CV] END .max_depth=21, n_estimators=20, random_state=130323; total time=   0.2s\n",
      "[CV] END .max_depth=21, n_estimators=20, random_state=130323; total time=   0.2s\n",
      "[CV] END .max_depth=21, n_estimators=20, random_state=130323; total time=   0.2s\n",
      "[CV] END .max_depth=21, n_estimators=30, random_state=130323; total time=   0.2s\n",
      "[CV] END .max_depth=21, n_estimators=30, random_state=130323; total time=   0.2s\n",
      "[CV] END .max_depth=21, n_estimators=30, random_state=130323; total time=   0.2s\n",
      "[CV] END .max_depth=21, n_estimators=50, random_state=130323; total time=   0.4s\n",
      "[CV] END .max_depth=21, n_estimators=50, random_state=130323; total time=   0.4s\n",
      "[CV] END .max_depth=21, n_estimators=50, random_state=130323; total time=   0.4s\n",
      "[CV] END .max_depth=21, n_estimators=70, random_state=130323; total time=   0.5s\n",
      "[CV] END .max_depth=21, n_estimators=70, random_state=130323; total time=   0.5s\n",
      "[CV] END .max_depth=21, n_estimators=70, random_state=130323; total time=   0.6s\n",
      "[CV] END .max_depth=21, n_estimators=90, random_state=130323; total time=   0.7s\n",
      "[CV] END .max_depth=21, n_estimators=90, random_state=130323; total time=   0.7s\n",
      "[CV] END .max_depth=21, n_estimators=90, random_state=130323; total time=   0.7s\n",
      "[CV] END max_depth=21, n_estimators=110, random_state=130323; total time=   0.8s\n",
      "[CV] END max_depth=21, n_estimators=110, random_state=130323; total time=   0.8s\n",
      "[CV] END max_depth=21, n_estimators=110, random_state=130323; total time=   0.8s\n",
      "[CV] END max_depth=21, n_estimators=150, random_state=130323; total time=   1.1s\n",
      "[CV] END max_depth=21, n_estimators=150, random_state=130323; total time=   1.1s\n",
      "[CV] END max_depth=21, n_estimators=150, random_state=130323; total time=   1.1s\n",
      "[CV] END max_depth=21, n_estimators=200, random_state=130323; total time=   1.4s\n",
      "[CV] END max_depth=21, n_estimators=200, random_state=130323; total time=   1.5s\n",
      "[CV] END max_depth=21, n_estimators=200, random_state=130323; total time=   1.4s\n",
      "[CV] END max_depth=21, n_estimators=250, random_state=130323; total time=   1.8s\n",
      "[CV] END max_depth=21, n_estimators=250, random_state=130323; total time=   1.9s\n",
      "[CV] END max_depth=21, n_estimators=250, random_state=130323; total time=   1.8s\n",
      "[CV] END max_depth=21, n_estimators=300, random_state=130323; total time=   2.1s\n",
      "[CV] END max_depth=21, n_estimators=300, random_state=130323; total time=   2.3s\n",
      "[CV] END max_depth=21, n_estimators=300, random_state=130323; total time=   2.3s\n",
      "[CV] END max_depth=21, n_estimators=400, random_state=130323; total time=   2.9s\n",
      "[CV] END max_depth=21, n_estimators=400, random_state=130323; total time=   3.1s\n",
      "[CV] END max_depth=21, n_estimators=400, random_state=130323; total time=   3.0s\n",
      "[CV] END max_depth=21, n_estimators=500, random_state=130323; total time=   3.8s\n",
      "[CV] END max_depth=21, n_estimators=500, random_state=130323; total time=   3.9s\n",
      "[CV] END max_depth=21, n_estimators=500, random_state=130323; total time=   3.7s\n",
      "[CV] END max_depth=21, n_estimators=650, random_state=130323; total time=   4.9s\n",
      "[CV] END max_depth=21, n_estimators=650, random_state=130323; total time=   5.2s\n",
      "[CV] END max_depth=21, n_estimators=650, random_state=130323; total time=   4.7s\n",
      "[CV] END max_depth=21, n_estimators=700, random_state=130323; total time=   5.1s\n",
      "[CV] END max_depth=21, n_estimators=700, random_state=130323; total time=   5.1s\n",
      "[CV] END max_depth=21, n_estimators=700, random_state=130323; total time=   5.4s\n",
      "[CV] END .max_depth=22, n_estimators=10, random_state=130323; total time=   0.1s\n",
      "[CV] END .max_depth=22, n_estimators=10, random_state=130323; total time=   0.1s\n",
      "[CV] END .max_depth=22, n_estimators=10, random_state=130323; total time=   0.1s\n",
      "[CV] END .max_depth=22, n_estimators=20, random_state=130323; total time=   0.2s\n",
      "[CV] END .max_depth=22, n_estimators=20, random_state=130323; total time=   0.2s\n",
      "[CV] END .max_depth=22, n_estimators=20, random_state=130323; total time=   0.2s\n",
      "[CV] END .max_depth=22, n_estimators=30, random_state=130323; total time=   0.2s\n",
      "[CV] END .max_depth=22, n_estimators=30, random_state=130323; total time=   0.3s\n",
      "[CV] END .max_depth=22, n_estimators=30, random_state=130323; total time=   0.2s\n",
      "[CV] END .max_depth=22, n_estimators=50, random_state=130323; total time=   0.4s\n",
      "[CV] END .max_depth=22, n_estimators=50, random_state=130323; total time=   0.4s\n",
      "[CV] END .max_depth=22, n_estimators=50, random_state=130323; total time=   0.4s\n",
      "[CV] END .max_depth=22, n_estimators=70, random_state=130323; total time=   0.6s\n",
      "[CV] END .max_depth=22, n_estimators=70, random_state=130323; total time=   0.6s\n",
      "[CV] END .max_depth=22, n_estimators=70, random_state=130323; total time=   0.5s\n",
      "[CV] END .max_depth=22, n_estimators=90, random_state=130323; total time=   0.7s\n",
      "[CV] END .max_depth=22, n_estimators=90, random_state=130323; total time=   0.8s\n",
      "[CV] END .max_depth=22, n_estimators=90, random_state=130323; total time=   0.7s\n",
      "[CV] END max_depth=22, n_estimators=110, random_state=130323; total time=   0.9s\n",
      "[CV] END max_depth=22, n_estimators=110, random_state=130323; total time=   0.9s\n",
      "[CV] END max_depth=22, n_estimators=110, random_state=130323; total time=   0.9s\n",
      "[CV] END max_depth=22, n_estimators=150, random_state=130323; total time=   1.2s\n",
      "[CV] END max_depth=22, n_estimators=150, random_state=130323; total time=   1.2s\n",
      "[CV] END max_depth=22, n_estimators=150, random_state=130323; total time=   1.1s\n",
      "[CV] END max_depth=22, n_estimators=200, random_state=130323; total time=   1.5s\n",
      "[CV] END max_depth=22, n_estimators=200, random_state=130323; total time=   1.7s\n",
      "[CV] END max_depth=22, n_estimators=200, random_state=130323; total time=   1.6s\n",
      "[CV] END max_depth=22, n_estimators=250, random_state=130323; total time=   2.0s\n",
      "[CV] END max_depth=22, n_estimators=250, random_state=130323; total time=   2.0s\n",
      "[CV] END max_depth=22, n_estimators=250, random_state=130323; total time=   1.9s\n",
      "[CV] END max_depth=22, n_estimators=300, random_state=130323; total time=   2.3s\n",
      "[CV] END max_depth=22, n_estimators=300, random_state=130323; total time=   2.5s\n",
      "[CV] END max_depth=22, n_estimators=300, random_state=130323; total time=   2.3s\n",
      "[CV] END max_depth=22, n_estimators=400, random_state=130323; total time=   3.1s\n",
      "[CV] END max_depth=22, n_estimators=400, random_state=130323; total time=   3.2s\n",
      "[CV] END max_depth=22, n_estimators=400, random_state=130323; total time=   3.2s\n",
      "[CV] END max_depth=22, n_estimators=500, random_state=130323; total time=   3.9s\n",
      "[CV] END max_depth=22, n_estimators=500, random_state=130323; total time=   4.2s\n",
      "[CV] END max_depth=22, n_estimators=500, random_state=130323; total time=   3.9s\n",
      "[CV] END max_depth=22, n_estimators=650, random_state=130323; total time=   5.0s\n",
      "[CV] END max_depth=22, n_estimators=650, random_state=130323; total time=   5.2s\n",
      "[CV] END max_depth=22, n_estimators=650, random_state=130323; total time=   4.9s\n",
      "[CV] END max_depth=22, n_estimators=700, random_state=130323; total time=   5.3s\n",
      "[CV] END max_depth=22, n_estimators=700, random_state=130323; total time=   5.4s\n",
      "[CV] END max_depth=22, n_estimators=700, random_state=130323; total time=   5.0s\n",
      "[CV] END .max_depth=23, n_estimators=10, random_state=130323; total time=   0.1s\n",
      "[CV] END .max_depth=23, n_estimators=10, random_state=130323; total time=   0.1s\n",
      "[CV] END .max_depth=23, n_estimators=10, random_state=130323; total time=   0.1s\n",
      "[CV] END .max_depth=23, n_estimators=20, random_state=130323; total time=   0.1s\n",
      "[CV] END .max_depth=23, n_estimators=20, random_state=130323; total time=   0.1s\n",
      "[CV] END .max_depth=23, n_estimators=20, random_state=130323; total time=   0.1s\n",
      "[CV] END .max_depth=23, n_estimators=30, random_state=130323; total time=   0.2s\n",
      "[CV] END .max_depth=23, n_estimators=30, random_state=130323; total time=   0.2s\n",
      "[CV] END .max_depth=23, n_estimators=30, random_state=130323; total time=   0.2s\n",
      "[CV] END .max_depth=23, n_estimators=50, random_state=130323; total time=   0.4s\n",
      "[CV] END .max_depth=23, n_estimators=50, random_state=130323; total time=   0.4s\n",
      "[CV] END .max_depth=23, n_estimators=50, random_state=130323; total time=   0.4s\n",
      "[CV] END .max_depth=23, n_estimators=70, random_state=130323; total time=   0.5s\n",
      "[CV] END .max_depth=23, n_estimators=70, random_state=130323; total time=   0.5s\n",
      "[CV] END .max_depth=23, n_estimators=70, random_state=130323; total time=   0.5s\n",
      "[CV] END .max_depth=23, n_estimators=90, random_state=130323; total time=   0.7s\n",
      "[CV] END .max_depth=23, n_estimators=90, random_state=130323; total time=   0.7s\n",
      "[CV] END .max_depth=23, n_estimators=90, random_state=130323; total time=   0.6s\n",
      "[CV] END max_depth=23, n_estimators=110, random_state=130323; total time=   0.8s\n",
      "[CV] END max_depth=23, n_estimators=110, random_state=130323; total time=   0.9s\n",
      "[CV] END max_depth=23, n_estimators=110, random_state=130323; total time=   0.8s\n",
      "[CV] END max_depth=23, n_estimators=150, random_state=130323; total time=   1.1s\n",
      "[CV] END max_depth=23, n_estimators=150, random_state=130323; total time=   1.1s\n",
      "[CV] END max_depth=23, n_estimators=150, random_state=130323; total time=   1.0s\n",
      "[CV] END max_depth=23, n_estimators=200, random_state=130323; total time=   1.5s\n",
      "[CV] END max_depth=23, n_estimators=200, random_state=130323; total time=   1.5s\n",
      "[CV] END max_depth=23, n_estimators=200, random_state=130323; total time=   1.5s\n",
      "[CV] END max_depth=23, n_estimators=250, random_state=130323; total time=   1.8s\n",
      "[CV] END max_depth=23, n_estimators=250, random_state=130323; total time=   1.9s\n",
      "[CV] END max_depth=23, n_estimators=250, random_state=130323; total time=   1.8s\n",
      "[CV] END max_depth=23, n_estimators=300, random_state=130323; total time=   2.2s\n",
      "[CV] END max_depth=23, n_estimators=300, random_state=130323; total time=   2.3s\n",
      "[CV] END max_depth=23, n_estimators=300, random_state=130323; total time=   2.3s\n",
      "[CV] END max_depth=23, n_estimators=400, random_state=130323; total time=   3.0s\n",
      "[CV] END max_depth=23, n_estimators=400, random_state=130323; total time=   3.1s\n",
      "[CV] END max_depth=23, n_estimators=400, random_state=130323; total time=   2.9s\n",
      "[CV] END max_depth=23, n_estimators=500, random_state=130323; total time=   3.5s\n",
      "[CV] END max_depth=23, n_estimators=500, random_state=130323; total time=   3.8s\n",
      "[CV] END max_depth=23, n_estimators=500, random_state=130323; total time=   3.7s\n",
      "[CV] END max_depth=23, n_estimators=650, random_state=130323; total time=   4.7s\n",
      "[CV] END max_depth=23, n_estimators=650, random_state=130323; total time=   5.0s\n",
      "[CV] END max_depth=23, n_estimators=650, random_state=130323; total time=   4.6s\n",
      "[CV] END max_depth=23, n_estimators=700, random_state=130323; total time=   5.2s\n",
      "[CV] END max_depth=23, n_estimators=700, random_state=130323; total time=   5.5s\n",
      "[CV] END max_depth=23, n_estimators=700, random_state=130323; total time=   5.2s\n",
      "[CV] END .max_depth=24, n_estimators=10, random_state=130323; total time=   0.1s\n",
      "[CV] END .max_depth=24, n_estimators=10, random_state=130323; total time=   0.1s\n",
      "[CV] END .max_depth=24, n_estimators=10, random_state=130323; total time=   0.1s\n",
      "[CV] END .max_depth=24, n_estimators=20, random_state=130323; total time=   0.2s\n",
      "[CV] END .max_depth=24, n_estimators=20, random_state=130323; total time=   0.2s\n",
      "[CV] END .max_depth=24, n_estimators=20, random_state=130323; total time=   0.2s\n",
      "[CV] END .max_depth=24, n_estimators=30, random_state=130323; total time=   0.2s\n",
      "[CV] END .max_depth=24, n_estimators=30, random_state=130323; total time=   0.2s\n",
      "[CV] END .max_depth=24, n_estimators=30, random_state=130323; total time=   0.2s\n",
      "[CV] END .max_depth=24, n_estimators=50, random_state=130323; total time=   0.4s\n",
      "[CV] END .max_depth=24, n_estimators=50, random_state=130323; total time=   0.4s\n",
      "[CV] END .max_depth=24, n_estimators=50, random_state=130323; total time=   0.4s\n",
      "[CV] END .max_depth=24, n_estimators=70, random_state=130323; total time=   0.5s\n",
      "[CV] END .max_depth=24, n_estimators=70, random_state=130323; total time=   0.6s\n",
      "[CV] END .max_depth=24, n_estimators=70, random_state=130323; total time=   0.5s\n",
      "[CV] END .max_depth=24, n_estimators=90, random_state=130323; total time=   0.7s\n",
      "[CV] END .max_depth=24, n_estimators=90, random_state=130323; total time=   0.7s\n",
      "[CV] END .max_depth=24, n_estimators=90, random_state=130323; total time=   0.8s\n",
      "[CV] END max_depth=24, n_estimators=110, random_state=130323; total time=   0.8s\n",
      "[CV] END max_depth=24, n_estimators=110, random_state=130323; total time=   0.8s\n",
      "[CV] END max_depth=24, n_estimators=110, random_state=130323; total time=   0.8s\n",
      "[CV] END max_depth=24, n_estimators=150, random_state=130323; total time=   1.1s\n",
      "[CV] END max_depth=24, n_estimators=150, random_state=130323; total time=   1.2s\n",
      "[CV] END max_depth=24, n_estimators=150, random_state=130323; total time=   1.1s\n",
      "[CV] END max_depth=24, n_estimators=200, random_state=130323; total time=   1.5s\n",
      "[CV] END max_depth=24, n_estimators=200, random_state=130323; total time=   1.6s\n",
      "[CV] END max_depth=24, n_estimators=200, random_state=130323; total time=   1.5s\n",
      "[CV] END max_depth=24, n_estimators=250, random_state=130323; total time=   1.8s\n",
      "[CV] END max_depth=24, n_estimators=250, random_state=130323; total time=   2.0s\n",
      "[CV] END max_depth=24, n_estimators=250, random_state=130323; total time=   1.8s\n",
      "[CV] END max_depth=24, n_estimators=300, random_state=130323; total time=   2.2s\n",
      "[CV] END max_depth=24, n_estimators=300, random_state=130323; total time=   2.3s\n",
      "[CV] END max_depth=24, n_estimators=300, random_state=130323; total time=   2.2s\n",
      "[CV] END max_depth=24, n_estimators=400, random_state=130323; total time=   2.9s\n",
      "[CV] END max_depth=24, n_estimators=400, random_state=130323; total time=   3.1s\n",
      "[CV] END max_depth=24, n_estimators=400, random_state=130323; total time=   2.9s\n",
      "[CV] END max_depth=24, n_estimators=500, random_state=130323; total time=   3.7s\n",
      "[CV] END max_depth=24, n_estimators=500, random_state=130323; total time=   3.9s\n",
      "[CV] END max_depth=24, n_estimators=500, random_state=130323; total time=   3.8s\n",
      "[CV] END max_depth=24, n_estimators=650, random_state=130323; total time=   4.7s\n",
      "[CV] END max_depth=24, n_estimators=650, random_state=130323; total time=   5.0s\n",
      "[CV] END max_depth=24, n_estimators=650, random_state=130323; total time=   5.1s\n",
      "[CV] END max_depth=24, n_estimators=700, random_state=130323; total time=   5.5s\n",
      "[CV] END max_depth=24, n_estimators=700, random_state=130323; total time=   6.2s\n",
      "[CV] END max_depth=24, n_estimators=700, random_state=130323; total time=   6.8s\n",
      "[CV] END .max_depth=25, n_estimators=10, random_state=130323; total time=   0.1s\n",
      "[CV] END .max_depth=25, n_estimators=10, random_state=130323; total time=   0.1s\n",
      "[CV] END .max_depth=25, n_estimators=10, random_state=130323; total time=   0.1s\n",
      "[CV] END .max_depth=25, n_estimators=20, random_state=130323; total time=   0.2s\n",
      "[CV] END .max_depth=25, n_estimators=20, random_state=130323; total time=   0.2s\n",
      "[CV] END .max_depth=25, n_estimators=20, random_state=130323; total time=   0.2s\n",
      "[CV] END .max_depth=25, n_estimators=30, random_state=130323; total time=   0.3s\n",
      "[CV] END .max_depth=25, n_estimators=30, random_state=130323; total time=   0.3s\n",
      "[CV] END .max_depth=25, n_estimators=30, random_state=130323; total time=   0.3s\n",
      "[CV] END .max_depth=25, n_estimators=50, random_state=130323; total time=   0.4s\n",
      "[CV] END .max_depth=25, n_estimators=50, random_state=130323; total time=   0.4s\n",
      "[CV] END .max_depth=25, n_estimators=50, random_state=130323; total time=   0.4s\n",
      "[CV] END .max_depth=25, n_estimators=70, random_state=130323; total time=   0.6s\n",
      "[CV] END .max_depth=25, n_estimators=70, random_state=130323; total time=   0.6s\n",
      "[CV] END .max_depth=25, n_estimators=70, random_state=130323; total time=   0.6s\n",
      "[CV] END .max_depth=25, n_estimators=90, random_state=130323; total time=   0.8s\n",
      "[CV] END .max_depth=25, n_estimators=90, random_state=130323; total time=   0.8s\n",
      "[CV] END .max_depth=25, n_estimators=90, random_state=130323; total time=   0.7s\n",
      "[CV] END max_depth=25, n_estimators=110, random_state=130323; total time=   0.9s\n",
      "[CV] END max_depth=25, n_estimators=110, random_state=130323; total time=   0.9s\n",
      "[CV] END max_depth=25, n_estimators=110, random_state=130323; total time=   0.9s\n",
      "[CV] END max_depth=25, n_estimators=150, random_state=130323; total time=   1.3s\n",
      "[CV] END max_depth=25, n_estimators=150, random_state=130323; total time=   1.3s\n",
      "[CV] END max_depth=25, n_estimators=150, random_state=130323; total time=   1.3s\n",
      "[CV] END max_depth=25, n_estimators=200, random_state=130323; total time=   1.6s\n",
      "[CV] END max_depth=25, n_estimators=200, random_state=130323; total time=   1.7s\n",
      "[CV] END max_depth=25, n_estimators=200, random_state=130323; total time=   1.6s\n",
      "[CV] END max_depth=25, n_estimators=250, random_state=130323; total time=   2.1s\n",
      "[CV] END max_depth=25, n_estimators=250, random_state=130323; total time=   2.1s\n",
      "[CV] END max_depth=25, n_estimators=250, random_state=130323; total time=   2.0s\n",
      "[CV] END max_depth=25, n_estimators=300, random_state=130323; total time=   2.4s\n",
      "[CV] END max_depth=25, n_estimators=300, random_state=130323; total time=   2.4s\n",
      "[CV] END max_depth=25, n_estimators=300, random_state=130323; total time=   2.3s\n",
      "[CV] END max_depth=25, n_estimators=400, random_state=130323; total time=   3.2s\n",
      "[CV] END max_depth=25, n_estimators=400, random_state=130323; total time=   3.2s\n",
      "[CV] END max_depth=25, n_estimators=400, random_state=130323; total time=   3.0s\n",
      "[CV] END max_depth=25, n_estimators=500, random_state=130323; total time=   3.8s\n",
      "[CV] END max_depth=25, n_estimators=500, random_state=130323; total time=   4.4s\n",
      "[CV] END max_depth=25, n_estimators=500, random_state=130323; total time=   4.1s\n",
      "[CV] END max_depth=25, n_estimators=650, random_state=130323; total time=   5.1s\n",
      "[CV] END max_depth=25, n_estimators=650, random_state=130323; total time=   5.6s\n",
      "[CV] END max_depth=25, n_estimators=650, random_state=130323; total time=   5.1s\n",
      "[CV] END max_depth=25, n_estimators=700, random_state=130323; total time=   5.4s\n",
      "[CV] END max_depth=25, n_estimators=700, random_state=130323; total time=   5.2s\n",
      "[CV] END max_depth=25, n_estimators=700, random_state=130323; total time=   5.8s\n",
      "[CV] END .max_depth=26, n_estimators=10, random_state=130323; total time=   0.1s\n",
      "[CV] END .max_depth=26, n_estimators=10, random_state=130323; total time=   0.1s\n",
      "[CV] END .max_depth=26, n_estimators=10, random_state=130323; total time=   0.1s\n",
      "[CV] END .max_depth=26, n_estimators=20, random_state=130323; total time=   0.2s\n",
      "[CV] END .max_depth=26, n_estimators=20, random_state=130323; total time=   0.2s\n",
      "[CV] END .max_depth=26, n_estimators=20, random_state=130323; total time=   0.2s\n",
      "[CV] END .max_depth=26, n_estimators=30, random_state=130323; total time=   0.2s\n",
      "[CV] END .max_depth=26, n_estimators=30, random_state=130323; total time=   0.3s\n",
      "[CV] END .max_depth=26, n_estimators=30, random_state=130323; total time=   0.3s\n",
      "[CV] END .max_depth=26, n_estimators=50, random_state=130323; total time=   0.4s\n",
      "[CV] END .max_depth=26, n_estimators=50, random_state=130323; total time=   0.4s\n",
      "[CV] END .max_depth=26, n_estimators=50, random_state=130323; total time=   0.4s\n",
      "[CV] END .max_depth=26, n_estimators=70, random_state=130323; total time=   0.6s\n",
      "[CV] END .max_depth=26, n_estimators=70, random_state=130323; total time=   0.6s\n",
      "[CV] END .max_depth=26, n_estimators=70, random_state=130323; total time=   0.5s\n",
      "[CV] END .max_depth=26, n_estimators=90, random_state=130323; total time=   0.7s\n",
      "[CV] END .max_depth=26, n_estimators=90, random_state=130323; total time=   0.8s\n",
      "[CV] END .max_depth=26, n_estimators=90, random_state=130323; total time=   0.7s\n",
      "[CV] END max_depth=26, n_estimators=110, random_state=130323; total time=   0.9s\n",
      "[CV] END max_depth=26, n_estimators=110, random_state=130323; total time=   0.9s\n",
      "[CV] END max_depth=26, n_estimators=110, random_state=130323; total time=   0.9s\n",
      "[CV] END max_depth=26, n_estimators=150, random_state=130323; total time=   2.5s\n",
      "[CV] END max_depth=26, n_estimators=150, random_state=130323; total time=   1.5s\n",
      "[CV] END max_depth=26, n_estimators=150, random_state=130323; total time=   1.2s\n",
      "[CV] END max_depth=26, n_estimators=200, random_state=130323; total time=   1.7s\n",
      "[CV] END max_depth=26, n_estimators=200, random_state=130323; total time=   1.8s\n",
      "[CV] END max_depth=26, n_estimators=200, random_state=130323; total time=   1.6s\n",
      "[CV] END max_depth=26, n_estimators=250, random_state=130323; total time=   2.0s\n",
      "[CV] END max_depth=26, n_estimators=250, random_state=130323; total time=   2.0s\n",
      "[CV] END max_depth=26, n_estimators=250, random_state=130323; total time=   1.9s\n",
      "[CV] END max_depth=26, n_estimators=300, random_state=130323; total time=   2.4s\n",
      "[CV] END max_depth=26, n_estimators=300, random_state=130323; total time=   2.6s\n",
      "[CV] END max_depth=26, n_estimators=300, random_state=130323; total time=   2.4s\n",
      "[CV] END max_depth=26, n_estimators=400, random_state=130323; total time=   3.1s\n",
      "[CV] END max_depth=26, n_estimators=400, random_state=130323; total time=   3.5s\n",
      "[CV] END max_depth=26, n_estimators=400, random_state=130323; total time=   3.1s\n",
      "[CV] END max_depth=26, n_estimators=500, random_state=130323; total time=   3.9s\n",
      "[CV] END max_depth=26, n_estimators=500, random_state=130323; total time=   4.1s\n",
      "[CV] END max_depth=26, n_estimators=500, random_state=130323; total time=   3.8s\n",
      "[CV] END max_depth=26, n_estimators=650, random_state=130323; total time=   5.0s\n",
      "[CV] END max_depth=26, n_estimators=650, random_state=130323; total time=   5.2s\n",
      "[CV] END max_depth=26, n_estimators=650, random_state=130323; total time=   5.3s\n",
      "[CV] END max_depth=26, n_estimators=700, random_state=130323; total time=   5.6s\n",
      "[CV] END max_depth=26, n_estimators=700, random_state=130323; total time=   5.6s\n",
      "[CV] END max_depth=26, n_estimators=700, random_state=130323; total time=   5.4s\n",
      "[CV] END .max_depth=27, n_estimators=10, random_state=130323; total time=   0.1s\n",
      "[CV] END .max_depth=27, n_estimators=10, random_state=130323; total time=   0.1s\n",
      "[CV] END .max_depth=27, n_estimators=10, random_state=130323; total time=   0.1s\n",
      "[CV] END .max_depth=27, n_estimators=20, random_state=130323; total time=   0.2s\n",
      "[CV] END .max_depth=27, n_estimators=20, random_state=130323; total time=   0.2s\n",
      "[CV] END .max_depth=27, n_estimators=20, random_state=130323; total time=   0.2s\n",
      "[CV] END .max_depth=27, n_estimators=30, random_state=130323; total time=   0.3s\n",
      "[CV] END .max_depth=27, n_estimators=30, random_state=130323; total time=   0.3s\n",
      "[CV] END .max_depth=27, n_estimators=30, random_state=130323; total time=   0.2s\n",
      "[CV] END .max_depth=27, n_estimators=50, random_state=130323; total time=   0.4s\n",
      "[CV] END .max_depth=27, n_estimators=50, random_state=130323; total time=   0.4s\n",
      "[CV] END .max_depth=27, n_estimators=50, random_state=130323; total time=   0.4s\n",
      "[CV] END .max_depth=27, n_estimators=70, random_state=130323; total time=   0.6s\n",
      "[CV] END .max_depth=27, n_estimators=70, random_state=130323; total time=   0.6s\n",
      "[CV] END .max_depth=27, n_estimators=70, random_state=130323; total time=   0.6s\n",
      "[CV] END .max_depth=27, n_estimators=90, random_state=130323; total time=   0.7s\n",
      "[CV] END .max_depth=27, n_estimators=90, random_state=130323; total time=   0.7s\n",
      "[CV] END .max_depth=27, n_estimators=90, random_state=130323; total time=   0.7s\n",
      "[CV] END max_depth=27, n_estimators=110, random_state=130323; total time=   0.8s\n",
      "[CV] END max_depth=27, n_estimators=110, random_state=130323; total time=   0.9s\n",
      "[CV] END max_depth=27, n_estimators=110, random_state=130323; total time=   0.9s\n",
      "[CV] END max_depth=27, n_estimators=150, random_state=130323; total time=   1.3s\n",
      "[CV] END max_depth=27, n_estimators=150, random_state=130323; total time=   1.4s\n",
      "[CV] END max_depth=27, n_estimators=150, random_state=130323; total time=   1.3s\n",
      "[CV] END max_depth=27, n_estimators=200, random_state=130323; total time=   1.7s\n",
      "[CV] END max_depth=27, n_estimators=200, random_state=130323; total time=   1.7s\n",
      "[CV] END max_depth=27, n_estimators=200, random_state=130323; total time=   1.6s\n",
      "[CV] END max_depth=27, n_estimators=250, random_state=130323; total time=   2.0s\n",
      "[CV] END max_depth=27, n_estimators=250, random_state=130323; total time=   2.0s\n",
      "[CV] END max_depth=27, n_estimators=250, random_state=130323; total time=   1.9s\n",
      "[CV] END max_depth=27, n_estimators=300, random_state=130323; total time=   2.3s\n",
      "[CV] END max_depth=27, n_estimators=300, random_state=130323; total time=   2.4s\n",
      "[CV] END max_depth=27, n_estimators=300, random_state=130323; total time=   2.3s\n",
      "[CV] END max_depth=27, n_estimators=400, random_state=130323; total time=   3.1s\n",
      "[CV] END max_depth=27, n_estimators=400, random_state=130323; total time=   3.3s\n",
      "[CV] END max_depth=27, n_estimators=400, random_state=130323; total time=   3.0s\n",
      "[CV] END max_depth=27, n_estimators=500, random_state=130323; total time=   4.0s\n",
      "[CV] END max_depth=27, n_estimators=500, random_state=130323; total time=   4.1s\n",
      "[CV] END max_depth=27, n_estimators=500, random_state=130323; total time=   3.9s\n",
      "[CV] END max_depth=27, n_estimators=650, random_state=130323; total time=   5.3s\n",
      "[CV] END max_depth=27, n_estimators=650, random_state=130323; total time=   5.4s\n",
      "[CV] END max_depth=27, n_estimators=650, random_state=130323; total time=   5.0s\n",
      "[CV] END max_depth=27, n_estimators=700, random_state=130323; total time=   5.5s\n",
      "[CV] END max_depth=27, n_estimators=700, random_state=130323; total time=   5.8s\n",
      "[CV] END max_depth=27, n_estimators=700, random_state=130323; total time=   5.4s\n",
      "[CV] END .max_depth=28, n_estimators=10, random_state=130323; total time=   0.1s\n",
      "[CV] END .max_depth=28, n_estimators=10, random_state=130323; total time=   0.1s\n",
      "[CV] END .max_depth=28, n_estimators=10, random_state=130323; total time=   0.1s\n",
      "[CV] END .max_depth=28, n_estimators=20, random_state=130323; total time=   0.2s\n",
      "[CV] END .max_depth=28, n_estimators=20, random_state=130323; total time=   0.2s\n",
      "[CV] END .max_depth=28, n_estimators=20, random_state=130323; total time=   0.2s\n",
      "[CV] END .max_depth=28, n_estimators=30, random_state=130323; total time=   0.3s\n",
      "[CV] END .max_depth=28, n_estimators=30, random_state=130323; total time=   0.3s\n",
      "[CV] END .max_depth=28, n_estimators=30, random_state=130323; total time=   0.2s\n",
      "[CV] END .max_depth=28, n_estimators=50, random_state=130323; total time=   0.4s\n",
      "[CV] END .max_depth=28, n_estimators=50, random_state=130323; total time=   0.4s\n",
      "[CV] END .max_depth=28, n_estimators=50, random_state=130323; total time=   0.4s\n",
      "[CV] END .max_depth=28, n_estimators=70, random_state=130323; total time=   0.6s\n",
      "[CV] END .max_depth=28, n_estimators=70, random_state=130323; total time=   0.6s\n",
      "[CV] END .max_depth=28, n_estimators=70, random_state=130323; total time=   0.6s\n",
      "[CV] END .max_depth=28, n_estimators=90, random_state=130323; total time=   0.8s\n",
      "[CV] END .max_depth=28, n_estimators=90, random_state=130323; total time=   0.8s\n",
      "[CV] END .max_depth=28, n_estimators=90, random_state=130323; total time=   0.8s\n",
      "[CV] END max_depth=28, n_estimators=110, random_state=130323; total time=   0.9s\n",
      "[CV] END max_depth=28, n_estimators=110, random_state=130323; total time=   1.0s\n",
      "[CV] END max_depth=28, n_estimators=110, random_state=130323; total time=   0.9s\n",
      "[CV] END max_depth=28, n_estimators=150, random_state=130323; total time=   1.2s\n",
      "[CV] END max_depth=28, n_estimators=150, random_state=130323; total time=   1.2s\n",
      "[CV] END max_depth=28, n_estimators=150, random_state=130323; total time=   1.2s\n",
      "[CV] END max_depth=28, n_estimators=200, random_state=130323; total time=   1.6s\n",
      "[CV] END max_depth=28, n_estimators=200, random_state=130323; total time=   1.7s\n",
      "[CV] END max_depth=28, n_estimators=200, random_state=130323; total time=   1.6s\n",
      "[CV] END max_depth=28, n_estimators=250, random_state=130323; total time=   2.0s\n",
      "[CV] END max_depth=28, n_estimators=250, random_state=130323; total time=   2.0s\n",
      "[CV] END max_depth=28, n_estimators=250, random_state=130323; total time=   1.9s\n",
      "[CV] END max_depth=28, n_estimators=300, random_state=130323; total time=   2.2s\n",
      "[CV] END max_depth=28, n_estimators=300, random_state=130323; total time=   2.4s\n",
      "[CV] END max_depth=28, n_estimators=300, random_state=130323; total time=   2.3s\n",
      "[CV] END max_depth=28, n_estimators=400, random_state=130323; total time=   3.1s\n",
      "[CV] END max_depth=28, n_estimators=400, random_state=130323; total time=   3.2s\n",
      "[CV] END max_depth=28, n_estimators=400, random_state=130323; total time=   3.2s\n",
      "[CV] END max_depth=28, n_estimators=500, random_state=130323; total time=   3.8s\n",
      "[CV] END max_depth=28, n_estimators=500, random_state=130323; total time=   4.2s\n",
      "[CV] END max_depth=28, n_estimators=500, random_state=130323; total time=   4.0s\n",
      "[CV] END max_depth=28, n_estimators=650, random_state=130323; total time=   5.3s\n",
      "[CV] END max_depth=28, n_estimators=650, random_state=130323; total time=   5.1s\n",
      "[CV] END max_depth=28, n_estimators=650, random_state=130323; total time=   5.0s\n",
      "[CV] END max_depth=28, n_estimators=700, random_state=130323; total time=   5.5s\n",
      "[CV] END max_depth=28, n_estimators=700, random_state=130323; total time=   5.7s\n",
      "[CV] END max_depth=28, n_estimators=700, random_state=130323; total time=   5.4s\n",
      "[CV] END .max_depth=29, n_estimators=10, random_state=130323; total time=   0.1s\n",
      "[CV] END .max_depth=29, n_estimators=10, random_state=130323; total time=   0.1s\n",
      "[CV] END .max_depth=29, n_estimators=10, random_state=130323; total time=   0.1s\n",
      "[CV] END .max_depth=29, n_estimators=20, random_state=130323; total time=   0.2s\n",
      "[CV] END .max_depth=29, n_estimators=20, random_state=130323; total time=   0.2s\n",
      "[CV] END .max_depth=29, n_estimators=20, random_state=130323; total time=   0.2s\n",
      "[CV] END .max_depth=29, n_estimators=30, random_state=130323; total time=   0.2s\n",
      "[CV] END .max_depth=29, n_estimators=30, random_state=130323; total time=   0.3s\n",
      "[CV] END .max_depth=29, n_estimators=30, random_state=130323; total time=   0.2s\n",
      "[CV] END .max_depth=29, n_estimators=50, random_state=130323; total time=   0.4s\n",
      "[CV] END .max_depth=29, n_estimators=50, random_state=130323; total time=   0.4s\n",
      "[CV] END .max_depth=29, n_estimators=50, random_state=130323; total time=   0.4s\n",
      "[CV] END .max_depth=29, n_estimators=70, random_state=130323; total time=   0.5s\n",
      "[CV] END .max_depth=29, n_estimators=70, random_state=130323; total time=   0.6s\n",
      "[CV] END .max_depth=29, n_estimators=70, random_state=130323; total time=   0.6s\n",
      "[CV] END .max_depth=29, n_estimators=90, random_state=130323; total time=   0.7s\n",
      "[CV] END .max_depth=29, n_estimators=90, random_state=130323; total time=   0.7s\n",
      "[CV] END .max_depth=29, n_estimators=90, random_state=130323; total time=   0.7s\n",
      "[CV] END max_depth=29, n_estimators=110, random_state=130323; total time=   0.8s\n",
      "[CV] END max_depth=29, n_estimators=110, random_state=130323; total time=   0.9s\n",
      "[CV] END max_depth=29, n_estimators=110, random_state=130323; total time=   0.9s\n",
      "[CV] END max_depth=29, n_estimators=150, random_state=130323; total time=   1.3s\n",
      "[CV] END max_depth=29, n_estimators=150, random_state=130323; total time=   1.3s\n",
      "[CV] END max_depth=29, n_estimators=150, random_state=130323; total time=   1.2s\n",
      "[CV] END max_depth=29, n_estimators=200, random_state=130323; total time=   1.6s\n",
      "[CV] END max_depth=29, n_estimators=200, random_state=130323; total time=   1.7s\n",
      "[CV] END max_depth=29, n_estimators=200, random_state=130323; total time=   1.5s\n",
      "[CV] END max_depth=29, n_estimators=250, random_state=130323; total time=   1.9s\n",
      "[CV] END max_depth=29, n_estimators=250, random_state=130323; total time=   2.1s\n",
      "[CV] END max_depth=29, n_estimators=250, random_state=130323; total time=   2.0s\n",
      "[CV] END max_depth=29, n_estimators=300, random_state=130323; total time=   2.4s\n",
      "[CV] END max_depth=29, n_estimators=300, random_state=130323; total time=   2.4s\n",
      "[CV] END max_depth=29, n_estimators=300, random_state=130323; total time=   2.4s\n",
      "[CV] END max_depth=29, n_estimators=400, random_state=130323; total time=   3.3s\n",
      "[CV] END max_depth=29, n_estimators=400, random_state=130323; total time=   3.3s\n",
      "[CV] END max_depth=29, n_estimators=400, random_state=130323; total time=   3.1s\n",
      "[CV] END max_depth=29, n_estimators=500, random_state=130323; total time=   4.0s\n",
      "[CV] END max_depth=29, n_estimators=500, random_state=130323; total time=   4.0s\n",
      "[CV] END max_depth=29, n_estimators=500, random_state=130323; total time=   3.9s\n",
      "[CV] END max_depth=29, n_estimators=650, random_state=130323; total time=   5.1s\n",
      "[CV] END max_depth=29, n_estimators=650, random_state=130323; total time=   5.4s\n",
      "[CV] END max_depth=29, n_estimators=650, random_state=130323; total time=   5.0s\n",
      "[CV] END max_depth=29, n_estimators=700, random_state=130323; total time=   5.4s\n",
      "[CV] END max_depth=29, n_estimators=700, random_state=130323; total time=   5.6s\n",
      "[CV] END max_depth=29, n_estimators=700, random_state=130323; total time=   5.4s\n",
      "[CV] END .max_depth=30, n_estimators=10, random_state=130323; total time=   0.1s\n",
      "[CV] END .max_depth=30, n_estimators=10, random_state=130323; total time=   0.1s\n",
      "[CV] END .max_depth=30, n_estimators=10, random_state=130323; total time=   0.1s\n",
      "[CV] END .max_depth=30, n_estimators=20, random_state=130323; total time=   0.1s\n",
      "[CV] END .max_depth=30, n_estimators=20, random_state=130323; total time=   0.2s\n",
      "[CV] END .max_depth=30, n_estimators=20, random_state=130323; total time=   0.2s\n",
      "[CV] END .max_depth=30, n_estimators=30, random_state=130323; total time=   0.2s\n",
      "[CV] END .max_depth=30, n_estimators=30, random_state=130323; total time=   0.3s\n",
      "[CV] END .max_depth=30, n_estimators=30, random_state=130323; total time=   0.2s\n",
      "[CV] END .max_depth=30, n_estimators=50, random_state=130323; total time=   0.4s\n",
      "[CV] END .max_depth=30, n_estimators=50, random_state=130323; total time=   0.4s\n",
      "[CV] END .max_depth=30, n_estimators=50, random_state=130323; total time=   0.4s\n",
      "[CV] END .max_depth=30, n_estimators=70, random_state=130323; total time=   0.6s\n",
      "[CV] END .max_depth=30, n_estimators=70, random_state=130323; total time=   0.6s\n",
      "[CV] END .max_depth=30, n_estimators=70, random_state=130323; total time=   0.6s\n",
      "[CV] END .max_depth=30, n_estimators=90, random_state=130323; total time=   0.7s\n",
      "[CV] END .max_depth=30, n_estimators=90, random_state=130323; total time=   0.8s\n",
      "[CV] END .max_depth=30, n_estimators=90, random_state=130323; total time=   0.8s\n",
      "[CV] END max_depth=30, n_estimators=110, random_state=130323; total time=   0.9s\n",
      "[CV] END max_depth=30, n_estimators=110, random_state=130323; total time=   0.9s\n",
      "[CV] END max_depth=30, n_estimators=110, random_state=130323; total time=   0.9s\n",
      "[CV] END max_depth=30, n_estimators=150, random_state=130323; total time=   1.3s\n",
      "[CV] END max_depth=30, n_estimators=150, random_state=130323; total time=   1.3s\n",
      "[CV] END max_depth=30, n_estimators=150, random_state=130323; total time=   1.1s\n",
      "[CV] END max_depth=30, n_estimators=200, random_state=130323; total time=   1.6s\n",
      "[CV] END max_depth=30, n_estimators=200, random_state=130323; total time=   1.7s\n",
      "[CV] END max_depth=30, n_estimators=200, random_state=130323; total time=   1.6s\n",
      "[CV] END max_depth=30, n_estimators=250, random_state=130323; total time=   2.0s\n",
      "[CV] END max_depth=30, n_estimators=250, random_state=130323; total time=   2.1s\n",
      "[CV] END max_depth=30, n_estimators=250, random_state=130323; total time=   1.9s\n",
      "[CV] END max_depth=30, n_estimators=300, random_state=130323; total time=   2.4s\n",
      "[CV] END max_depth=30, n_estimators=300, random_state=130323; total time=   2.5s\n",
      "[CV] END max_depth=30, n_estimators=300, random_state=130323; total time=   2.4s\n",
      "[CV] END max_depth=30, n_estimators=400, random_state=130323; total time=   3.1s\n",
      "[CV] END max_depth=30, n_estimators=400, random_state=130323; total time=   3.3s\n",
      "[CV] END max_depth=30, n_estimators=400, random_state=130323; total time=   3.1s\n",
      "[CV] END max_depth=30, n_estimators=500, random_state=130323; total time=   4.2s\n",
      "[CV] END max_depth=30, n_estimators=500, random_state=130323; total time=   4.5s\n",
      "[CV] END max_depth=30, n_estimators=500, random_state=130323; total time=   4.2s\n",
      "[CV] END max_depth=30, n_estimators=650, random_state=130323; total time=   5.5s\n",
      "[CV] END max_depth=30, n_estimators=650, random_state=130323; total time=   5.0s\n",
      "[CV] END max_depth=30, n_estimators=650, random_state=130323; total time=   5.0s\n",
      "[CV] END max_depth=30, n_estimators=700, random_state=130323; total time=   5.4s\n",
      "[CV] END max_depth=30, n_estimators=700, random_state=130323; total time=   5.6s\n",
      "[CV] END max_depth=30, n_estimators=700, random_state=130323; total time=   5.3s\n",
      "-6.335908106803916\n",
      "{'max_depth': 10, 'n_estimators': 650, 'random_state': 130323}\n",
      "CPU times: user 32min 25s, sys: 14.4 s, total: 32min 39s\n",
      "Wall time: 33min 13s\n"
     ]
    }
   ],
   "source": [
    "%%time\n",
    "forest_cv.fit(features_train, target_train)\n",
    "print(forest_cv.best_score_)\n",
    "print(forest_cv.best_params_)"
   ]
  },
  {
   "cell_type": "markdown",
   "id": "ff3db16d",
   "metadata": {},
   "source": [
    "#### Результат\n",
    "Наименьшая MAE модели случайного леса: 6.34;\n",
    "\n",
    "Значение достигнуто при гиперпараметрах: 'max_depth': 10, 'n_estimators': 650."
   ]
  },
  {
   "cell_type": "markdown",
   "id": "1334e753",
   "metadata": {},
   "source": [
    "### LGBMRegressor()"
   ]
  },
  {
   "cell_type": "code",
   "execution_count": 72,
   "id": "3a95109f",
   "metadata": {},
   "outputs": [],
   "source": [
    "lgbm_grid = {'random_state': [130323],\n",
    "              'max_depth': [3,5,7,10,15,20],\n",
    "              'num_leaves': [6, 11, 21, 31],\n",
    "              'n_estimators': [10,30,70, 90, 110, 150, 200, 250]}\n",
    "# С целью быстродействия исходный грид был закомментирован"
   ]
  },
  {
   "cell_type": "code",
   "execution_count": 73,
   "id": "206a5a2f",
   "metadata": {},
   "outputs": [],
   "source": [
    "# lgbm_grid = {'random_state': [130323],\n",
    "#                'max_depth': [5],\n",
    "#                'num_leaves': [6],\n",
    "#                'n_estimators': [110]}"
   ]
  },
  {
   "cell_type": "code",
   "execution_count": 74,
   "id": "090f1072",
   "metadata": {},
   "outputs": [],
   "source": [
    "lgbm_cv = GridSearchCV(estimator=LGBMRegressor(),\n",
    "                         param_grid=lgbm_grid,\n",
    "                         scoring='neg_mean_absolute_error',\n",
    "                         cv=3,\n",
    "                         n_jobs=-1,\n",
    "                         verbose=2)"
   ]
  },
  {
   "cell_type": "code",
   "execution_count": 75,
   "id": "72aaf603",
   "metadata": {
    "scrolled": true
   },
   "outputs": [
    {
     "name": "stdout",
     "output_type": "stream",
     "text": [
      "Fitting 3 folds for each of 192 candidates, totalling 576 fits\n",
      "[CV] END max_depth=3, n_estimators=10, num_leaves=6, random_state=130323; total time=   1.2s\n",
      "[CV] END max_depth=3, n_estimators=10, num_leaves=6, random_state=130323; total time=   2.3s\n",
      "[CV] END max_depth=3, n_estimators=10, num_leaves=6, random_state=130323; total time=   2.2s\n",
      "[CV] END max_depth=3, n_estimators=10, num_leaves=11, random_state=130323; total time=   0.9s\n",
      "[CV] END max_depth=3, n_estimators=10, num_leaves=11, random_state=130323; total time=   0.8s\n",
      "[CV] END max_depth=3, n_estimators=10, num_leaves=11, random_state=130323; total time=   0.2s\n",
      "[CV] END max_depth=3, n_estimators=10, num_leaves=21, random_state=130323; total time=   3.8s\n",
      "[CV] END max_depth=3, n_estimators=10, num_leaves=21, random_state=130323; total time=   0.1s\n",
      "[CV] END max_depth=3, n_estimators=10, num_leaves=21, random_state=130323; total time=   0.1s\n",
      "[CV] END max_depth=3, n_estimators=10, num_leaves=31, random_state=130323; total time=   0.8s\n",
      "[CV] END max_depth=3, n_estimators=10, num_leaves=31, random_state=130323; total time=   2.6s\n",
      "[CV] END max_depth=3, n_estimators=10, num_leaves=31, random_state=130323; total time=   0.1s\n",
      "[CV] END max_depth=3, n_estimators=30, num_leaves=6, random_state=130323; total time=   2.4s\n",
      "[CV] END max_depth=3, n_estimators=30, num_leaves=6, random_state=130323; total time=  10.3s\n",
      "[CV] END max_depth=3, n_estimators=30, num_leaves=6, random_state=130323; total time=   2.7s\n",
      "[CV] END max_depth=3, n_estimators=30, num_leaves=11, random_state=130323; total time=   5.5s\n",
      "[CV] END max_depth=3, n_estimators=30, num_leaves=11, random_state=130323; total time=   0.9s\n",
      "[CV] END max_depth=3, n_estimators=30, num_leaves=11, random_state=130323; total time=   1.4s\n",
      "[CV] END max_depth=3, n_estimators=30, num_leaves=21, random_state=130323; total time=   3.4s\n",
      "[CV] END max_depth=3, n_estimators=30, num_leaves=21, random_state=130323; total time=   5.5s\n",
      "[CV] END max_depth=3, n_estimators=30, num_leaves=21, random_state=130323; total time=  29.2s\n",
      "[CV] END max_depth=3, n_estimators=30, num_leaves=31, random_state=130323; total time=   5.3s\n",
      "[CV] END max_depth=3, n_estimators=30, num_leaves=31, random_state=130323; total time=   2.5s\n",
      "[CV] END max_depth=3, n_estimators=30, num_leaves=31, random_state=130323; total time=   6.3s\n",
      "[CV] END max_depth=3, n_estimators=70, num_leaves=6, random_state=130323; total time=   6.5s\n",
      "[CV] END max_depth=3, n_estimators=70, num_leaves=6, random_state=130323; total time=   0.4s\n",
      "[CV] END max_depth=3, n_estimators=70, num_leaves=6, random_state=130323; total time=   1.2s\n",
      "[CV] END max_depth=3, n_estimators=70, num_leaves=11, random_state=130323; total time=   0.7s\n",
      "[CV] END max_depth=3, n_estimators=70, num_leaves=11, random_state=130323; total time=   0.9s\n",
      "[CV] END max_depth=3, n_estimators=70, num_leaves=11, random_state=130323; total time=   0.7s\n",
      "[CV] END max_depth=3, n_estimators=70, num_leaves=21, random_state=130323; total time=   0.7s\n",
      "[CV] END max_depth=3, n_estimators=70, num_leaves=21, random_state=130323; total time=   0.7s\n",
      "[CV] END max_depth=3, n_estimators=70, num_leaves=21, random_state=130323; total time=   0.7s\n",
      "[CV] END max_depth=3, n_estimators=70, num_leaves=31, random_state=130323; total time=   1.0s\n",
      "[CV] END max_depth=3, n_estimators=70, num_leaves=31, random_state=130323; total time=   1.1s\n",
      "[CV] END max_depth=3, n_estimators=70, num_leaves=31, random_state=130323; total time=   0.6s\n",
      "[CV] END max_depth=3, n_estimators=90, num_leaves=6, random_state=130323; total time=   0.6s\n",
      "[CV] END max_depth=3, n_estimators=90, num_leaves=6, random_state=130323; total time=   0.6s\n",
      "[CV] END max_depth=3, n_estimators=90, num_leaves=6, random_state=130323; total time=   0.6s\n",
      "[CV] END max_depth=3, n_estimators=90, num_leaves=11, random_state=130323; total time=   1.5s\n",
      "[CV] END max_depth=3, n_estimators=90, num_leaves=11, random_state=130323; total time=   0.9s\n",
      "[CV] END max_depth=3, n_estimators=90, num_leaves=11, random_state=130323; total time=   1.1s\n",
      "[CV] END max_depth=3, n_estimators=90, num_leaves=21, random_state=130323; total time=   0.6s\n",
      "[CV] END max_depth=3, n_estimators=90, num_leaves=21, random_state=130323; total time=   0.5s\n",
      "[CV] END max_depth=3, n_estimators=90, num_leaves=21, random_state=130323; total time=   1.1s\n",
      "[CV] END max_depth=3, n_estimators=90, num_leaves=31, random_state=130323; total time=   3.7s\n",
      "[CV] END max_depth=3, n_estimators=90, num_leaves=31, random_state=130323; total time=   3.5s\n",
      "[CV] END max_depth=3, n_estimators=90, num_leaves=31, random_state=130323; total time=   4.3s\n",
      "[CV] END max_depth=3, n_estimators=110, num_leaves=6, random_state=130323; total time=  20.4s\n",
      "[CV] END max_depth=3, n_estimators=110, num_leaves=6, random_state=130323; total time=   4.9s\n",
      "[CV] END max_depth=3, n_estimators=110, num_leaves=6, random_state=130323; total time=   5.9s\n",
      "[CV] END max_depth=3, n_estimators=110, num_leaves=11, random_state=130323; total time=   7.7s\n",
      "[CV] END max_depth=3, n_estimators=110, num_leaves=11, random_state=130323; total time=   6.5s\n",
      "[CV] END max_depth=3, n_estimators=110, num_leaves=11, random_state=130323; total time=  10.5s\n",
      "[CV] END max_depth=3, n_estimators=110, num_leaves=21, random_state=130323; total time=   5.7s\n",
      "[CV] END max_depth=3, n_estimators=110, num_leaves=21, random_state=130323; total time=  10.4s\n",
      "[CV] END max_depth=3, n_estimators=110, num_leaves=21, random_state=130323; total time=   9.3s\n",
      "[CV] END max_depth=3, n_estimators=110, num_leaves=31, random_state=130323; total time=   5.4s\n",
      "[CV] END max_depth=3, n_estimators=110, num_leaves=31, random_state=130323; total time=   2.6s\n",
      "[CV] END max_depth=3, n_estimators=110, num_leaves=31, random_state=130323; total time=  11.0s\n",
      "[CV] END max_depth=3, n_estimators=150, num_leaves=6, random_state=130323; total time=  10.9s\n",
      "[CV] END max_depth=3, n_estimators=150, num_leaves=6, random_state=130323; total time=   8.7s\n",
      "[CV] END max_depth=3, n_estimators=150, num_leaves=6, random_state=130323; total time=  12.4s\n",
      "[CV] END max_depth=3, n_estimators=150, num_leaves=11, random_state=130323; total time=   8.9s\n",
      "[CV] END max_depth=3, n_estimators=150, num_leaves=11, random_state=130323; total time=   9.4s\n",
      "[CV] END max_depth=3, n_estimators=150, num_leaves=11, random_state=130323; total time=  11.1s\n",
      "[CV] END max_depth=3, n_estimators=150, num_leaves=21, random_state=130323; total time=  14.0s\n",
      "[CV] END max_depth=3, n_estimators=150, num_leaves=21, random_state=130323; total time=  13.9s\n",
      "[CV] END max_depth=3, n_estimators=150, num_leaves=21, random_state=130323; total time=   2.3s\n",
      "[CV] END max_depth=3, n_estimators=150, num_leaves=31, random_state=130323; total time=  12.7s\n",
      "[CV] END max_depth=3, n_estimators=150, num_leaves=31, random_state=130323; total time=   2.4s\n",
      "[CV] END max_depth=3, n_estimators=150, num_leaves=31, random_state=130323; total time=   2.3s\n",
      "[CV] END max_depth=3, n_estimators=200, num_leaves=6, random_state=130323; total time=   6.7s\n",
      "[CV] END max_depth=3, n_estimators=200, num_leaves=6, random_state=130323; total time=  26.2s\n",
      "[CV] END max_depth=3, n_estimators=200, num_leaves=6, random_state=130323; total time=   9.5s\n",
      "[CV] END max_depth=3, n_estimators=200, num_leaves=11, random_state=130323; total time=  14.8s\n",
      "[CV] END max_depth=3, n_estimators=200, num_leaves=11, random_state=130323; total time=  19.1s\n",
      "[CV] END max_depth=3, n_estimators=200, num_leaves=11, random_state=130323; total time=  19.0s\n",
      "[CV] END max_depth=3, n_estimators=200, num_leaves=21, random_state=130323; total time=  10.0s\n",
      "[CV] END max_depth=3, n_estimators=200, num_leaves=21, random_state=130323; total time=   5.4s\n",
      "[CV] END max_depth=3, n_estimators=200, num_leaves=21, random_state=130323; total time=   7.9s\n",
      "[CV] END max_depth=3, n_estimators=200, num_leaves=31, random_state=130323; total time=  11.2s\n",
      "[CV] END max_depth=3, n_estimators=200, num_leaves=31, random_state=130323; total time=  14.5s\n",
      "[CV] END max_depth=3, n_estimators=200, num_leaves=31, random_state=130323; total time=  10.9s\n",
      "[CV] END max_depth=3, n_estimators=250, num_leaves=6, random_state=130323; total time=  25.9s\n",
      "[CV] END max_depth=3, n_estimators=250, num_leaves=6, random_state=130323; total time=  10.2s\n",
      "[CV] END max_depth=3, n_estimators=250, num_leaves=6, random_state=130323; total time=  13.6s\n",
      "[CV] END max_depth=3, n_estimators=250, num_leaves=11, random_state=130323; total time=  14.9s\n",
      "[CV] END max_depth=3, n_estimators=250, num_leaves=11, random_state=130323; total time=  13.7s\n",
      "[CV] END max_depth=3, n_estimators=250, num_leaves=11, random_state=130323; total time=  18.2s\n",
      "[CV] END max_depth=3, n_estimators=250, num_leaves=21, random_state=130323; total time=  15.9s\n",
      "[CV] END max_depth=3, n_estimators=250, num_leaves=21, random_state=130323; total time=   5.8s\n",
      "[CV] END max_depth=3, n_estimators=250, num_leaves=21, random_state=130323; total time=  14.5s\n",
      "[CV] END max_depth=3, n_estimators=250, num_leaves=31, random_state=130323; total time=   2.2s\n",
      "[CV] END max_depth=3, n_estimators=250, num_leaves=31, random_state=130323; total time=  16.8s\n",
      "[CV] END max_depth=3, n_estimators=250, num_leaves=31, random_state=130323; total time=  18.2s\n",
      "[CV] END max_depth=5, n_estimators=10, num_leaves=6, random_state=130323; total time=   0.2s\n",
      "[CV] END max_depth=5, n_estimators=10, num_leaves=6, random_state=130323; total time=   6.9s\n",
      "[CV] END max_depth=5, n_estimators=10, num_leaves=6, random_state=130323; total time=   1.0s\n",
      "[CV] END max_depth=5, n_estimators=10, num_leaves=11, random_state=130323; total time=   2.5s\n",
      "[CV] END max_depth=5, n_estimators=10, num_leaves=11, random_state=130323; total time=   1.1s\n",
      "[CV] END max_depth=5, n_estimators=10, num_leaves=11, random_state=130323; total time=   0.4s\n",
      "[CV] END max_depth=5, n_estimators=10, num_leaves=21, random_state=130323; total time=   0.7s\n",
      "[CV] END max_depth=5, n_estimators=10, num_leaves=21, random_state=130323; total time=   2.7s\n",
      "[CV] END max_depth=5, n_estimators=10, num_leaves=21, random_state=130323; total time=   5.7s\n",
      "[CV] END max_depth=5, n_estimators=10, num_leaves=31, random_state=130323; total time=   0.1s\n",
      "[CV] END max_depth=5, n_estimators=10, num_leaves=31, random_state=130323; total time=   0.1s\n",
      "[CV] END max_depth=5, n_estimators=10, num_leaves=31, random_state=130323; total time=   1.7s\n",
      "[CV] END max_depth=5, n_estimators=30, num_leaves=6, random_state=130323; total time=   1.2s\n",
      "[CV] END max_depth=5, n_estimators=30, num_leaves=6, random_state=130323; total time=   0.2s\n",
      "[CV] END max_depth=5, n_estimators=30, num_leaves=6, random_state=130323; total time=   4.2s\n",
      "[CV] END max_depth=5, n_estimators=30, num_leaves=11, random_state=130323; total time=   3.6s\n",
      "[CV] END max_depth=5, n_estimators=30, num_leaves=11, random_state=130323; total time=   9.8s\n",
      "[CV] END max_depth=5, n_estimators=30, num_leaves=11, random_state=130323; total time=   3.1s\n",
      "[CV] END max_depth=5, n_estimators=30, num_leaves=21, random_state=130323; total time=   0.8s\n",
      "[CV] END max_depth=5, n_estimators=30, num_leaves=21, random_state=130323; total time=   6.5s\n",
      "[CV] END max_depth=5, n_estimators=30, num_leaves=21, random_state=130323; total time=   4.1s\n",
      "[CV] END max_depth=5, n_estimators=30, num_leaves=31, random_state=130323; total time=   6.3s\n",
      "[CV] END max_depth=5, n_estimators=30, num_leaves=31, random_state=130323; total time=   3.9s\n",
      "[CV] END max_depth=5, n_estimators=30, num_leaves=31, random_state=130323; total time=   6.6s\n",
      "[CV] END max_depth=5, n_estimators=70, num_leaves=6, random_state=130323; total time=   6.9s\n",
      "[CV] END max_depth=5, n_estimators=70, num_leaves=6, random_state=130323; total time=   4.3s\n",
      "[CV] END max_depth=5, n_estimators=70, num_leaves=6, random_state=130323; total time=   5.0s\n",
      "[CV] END max_depth=5, n_estimators=70, num_leaves=11, random_state=130323; total time=   3.5s\n",
      "[CV] END max_depth=5, n_estimators=70, num_leaves=11, random_state=130323; total time=  12.2s\n",
      "[CV] END max_depth=5, n_estimators=70, num_leaves=11, random_state=130323; total time=  10.4s\n",
      "[CV] END max_depth=5, n_estimators=70, num_leaves=21, random_state=130323; total time=   7.9s\n",
      "[CV] END max_depth=5, n_estimators=70, num_leaves=21, random_state=130323; total time=   6.8s\n",
      "[CV] END max_depth=5, n_estimators=70, num_leaves=21, random_state=130323; total time=  15.0s\n",
      "[CV] END max_depth=5, n_estimators=70, num_leaves=31, random_state=130323; total time=   9.3s\n",
      "[CV] END max_depth=5, n_estimators=70, num_leaves=31, random_state=130323; total time=   8.2s\n",
      "[CV] END max_depth=5, n_estimators=70, num_leaves=31, random_state=130323; total time=   7.1s\n",
      "[CV] END max_depth=5, n_estimators=90, num_leaves=6, random_state=130323; total time=  14.3s\n",
      "[CV] END max_depth=5, n_estimators=90, num_leaves=6, random_state=130323; total time=   4.2s\n",
      "[CV] END max_depth=5, n_estimators=90, num_leaves=6, random_state=130323; total time=   1.0s\n",
      "[CV] END max_depth=5, n_estimators=90, num_leaves=11, random_state=130323; total time=   1.4s\n",
      "[CV] END max_depth=5, n_estimators=90, num_leaves=11, random_state=130323; total time=   1.7s\n",
      "[CV] END max_depth=5, n_estimators=90, num_leaves=11, random_state=130323; total time=   1.6s\n",
      "[CV] END max_depth=5, n_estimators=90, num_leaves=21, random_state=130323; total time=   1.4s\n",
      "[CV] END max_depth=5, n_estimators=90, num_leaves=21, random_state=130323; total time=   1.2s\n",
      "[CV] END max_depth=5, n_estimators=90, num_leaves=21, random_state=130323; total time=   1.5s\n",
      "[CV] END max_depth=5, n_estimators=90, num_leaves=31, random_state=130323; total time=   1.4s\n",
      "[CV] END max_depth=5, n_estimators=90, num_leaves=31, random_state=130323; total time=   1.8s\n",
      "[CV] END max_depth=5, n_estimators=90, num_leaves=31, random_state=130323; total time=   1.7s\n",
      "[CV] END max_depth=5, n_estimators=110, num_leaves=6, random_state=130323; total time=   1.1s\n",
      "[CV] END max_depth=5, n_estimators=110, num_leaves=6, random_state=130323; total time=   1.1s\n",
      "[CV] END max_depth=5, n_estimators=110, num_leaves=6, random_state=130323; total time=   1.4s\n",
      "[CV] END max_depth=5, n_estimators=110, num_leaves=11, random_state=130323; total time=   1.8s\n",
      "[CV] END max_depth=5, n_estimators=110, num_leaves=11, random_state=130323; total time=   1.4s\n",
      "[CV] END max_depth=5, n_estimators=110, num_leaves=11, random_state=130323; total time=   1.6s\n",
      "[CV] END max_depth=5, n_estimators=110, num_leaves=21, random_state=130323; total time=   1.8s\n",
      "[CV] END max_depth=5, n_estimators=110, num_leaves=21, random_state=130323; total time=   1.9s\n",
      "[CV] END max_depth=5, n_estimators=110, num_leaves=21, random_state=130323; total time=   2.2s\n",
      "[CV] END max_depth=5, n_estimators=110, num_leaves=31, random_state=130323; total time=   2.1s\n",
      "[CV] END max_depth=5, n_estimators=110, num_leaves=31, random_state=130323; total time=   1.3s\n",
      "[CV] END max_depth=5, n_estimators=110, num_leaves=31, random_state=130323; total time=   1.1s\n",
      "[CV] END max_depth=5, n_estimators=150, num_leaves=6, random_state=130323; total time=   1.6s\n",
      "[CV] END max_depth=5, n_estimators=150, num_leaves=6, random_state=130323; total time=   1.2s\n",
      "[CV] END max_depth=5, n_estimators=150, num_leaves=6, random_state=130323; total time=   1.7s\n",
      "[CV] END max_depth=5, n_estimators=150, num_leaves=11, random_state=130323; total time=   1.9s\n",
      "[CV] END max_depth=5, n_estimators=150, num_leaves=11, random_state=130323; total time=   1.8s\n",
      "[CV] END max_depth=5, n_estimators=150, num_leaves=11, random_state=130323; total time=   1.8s\n",
      "[CV] END max_depth=5, n_estimators=150, num_leaves=21, random_state=130323; total time=   2.5s\n",
      "[CV] END max_depth=5, n_estimators=150, num_leaves=21, random_state=130323; total time=   2.9s\n",
      "[CV] END max_depth=5, n_estimators=150, num_leaves=21, random_state=130323; total time=   2.8s\n",
      "[CV] END max_depth=5, n_estimators=150, num_leaves=31, random_state=130323; total time=   2.8s\n",
      "[CV] END max_depth=5, n_estimators=150, num_leaves=31, random_state=130323; total time=   2.2s\n",
      "[CV] END max_depth=5, n_estimators=150, num_leaves=31, random_state=130323; total time=   4.3s\n",
      "[CV] END max_depth=5, n_estimators=200, num_leaves=6, random_state=130323; total time=   2.7s\n",
      "[CV] END max_depth=5, n_estimators=200, num_leaves=6, random_state=130323; total time=   4.2s\n",
      "[CV] END max_depth=5, n_estimators=200, num_leaves=6, random_state=130323; total time=   2.7s\n",
      "[CV] END max_depth=5, n_estimators=200, num_leaves=11, random_state=130323; total time=   4.0s\n",
      "[CV] END max_depth=5, n_estimators=200, num_leaves=11, random_state=130323; total time=   3.1s\n",
      "[CV] END max_depth=5, n_estimators=200, num_leaves=11, random_state=130323; total time=   4.3s\n",
      "[CV] END max_depth=5, n_estimators=200, num_leaves=21, random_state=130323; total time=   3.1s\n",
      "[CV] END max_depth=5, n_estimators=200, num_leaves=21, random_state=130323; total time=   4.1s\n",
      "[CV] END max_depth=5, n_estimators=200, num_leaves=21, random_state=130323; total time=   4.0s\n",
      "[CV] END max_depth=5, n_estimators=200, num_leaves=31, random_state=130323; total time=   2.9s\n",
      "[CV] END max_depth=5, n_estimators=200, num_leaves=31, random_state=130323; total time=   2.7s\n",
      "[CV] END max_depth=5, n_estimators=200, num_leaves=31, random_state=130323; total time=   2.9s\n",
      "[CV] END max_depth=5, n_estimators=250, num_leaves=6, random_state=130323; total time=   2.1s\n",
      "[CV] END max_depth=5, n_estimators=250, num_leaves=6, random_state=130323; total time=   2.8s\n",
      "[CV] END max_depth=5, n_estimators=250, num_leaves=6, random_state=130323; total time=   2.5s\n",
      "[CV] END max_depth=5, n_estimators=250, num_leaves=11, random_state=130323; total time=   3.6s\n",
      "[CV] END max_depth=5, n_estimators=250, num_leaves=11, random_state=130323; total time=   2.7s\n",
      "[CV] END max_depth=5, n_estimators=250, num_leaves=11, random_state=130323; total time=   3.2s\n",
      "[CV] END max_depth=5, n_estimators=250, num_leaves=21, random_state=130323; total time=   3.9s\n",
      "[CV] END max_depth=5, n_estimators=250, num_leaves=21, random_state=130323; total time=   3.5s\n",
      "[CV] END max_depth=5, n_estimators=250, num_leaves=21, random_state=130323; total time=   4.4s\n",
      "[CV] END max_depth=5, n_estimators=250, num_leaves=31, random_state=130323; total time=   4.6s\n",
      "[CV] END max_depth=5, n_estimators=250, num_leaves=31, random_state=130323; total time=   3.7s\n",
      "[CV] END max_depth=5, n_estimators=250, num_leaves=31, random_state=130323; total time=   4.6s\n",
      "[CV] END max_depth=7, n_estimators=10, num_leaves=6, random_state=130323; total time=   0.4s\n",
      "[CV] END max_depth=7, n_estimators=10, num_leaves=6, random_state=130323; total time=   0.3s\n",
      "[CV] END max_depth=7, n_estimators=10, num_leaves=6, random_state=130323; total time=   0.3s\n",
      "[CV] END max_depth=7, n_estimators=10, num_leaves=11, random_state=130323; total time=   0.4s\n",
      "[CV] END max_depth=7, n_estimators=10, num_leaves=11, random_state=130323; total time=   0.3s\n",
      "[CV] END max_depth=7, n_estimators=10, num_leaves=11, random_state=130323; total time=   0.6s\n",
      "[CV] END max_depth=7, n_estimators=10, num_leaves=21, random_state=130323; total time=   0.6s\n",
      "[CV] END max_depth=7, n_estimators=10, num_leaves=21, random_state=130323; total time=   0.1s\n",
      "[CV] END max_depth=7, n_estimators=10, num_leaves=21, random_state=130323; total time=   0.4s\n",
      "[CV] END max_depth=7, n_estimators=10, num_leaves=31, random_state=130323; total time=   0.6s\n",
      "[CV] END max_depth=7, n_estimators=10, num_leaves=31, random_state=130323; total time=   1.1s\n",
      "[CV] END max_depth=7, n_estimators=10, num_leaves=31, random_state=130323; total time=   0.7s\n",
      "[CV] END max_depth=7, n_estimators=30, num_leaves=6, random_state=130323; total time=   0.5s\n",
      "[CV] END max_depth=7, n_estimators=30, num_leaves=6, random_state=130323; total time=   0.4s\n",
      "[CV] END max_depth=7, n_estimators=30, num_leaves=6, random_state=130323; total time=   0.2s\n",
      "[CV] END max_depth=7, n_estimators=30, num_leaves=11, random_state=130323; total time=   0.7s\n",
      "[CV] END max_depth=7, n_estimators=30, num_leaves=11, random_state=130323; total time=   0.7s\n",
      "[CV] END max_depth=7, n_estimators=30, num_leaves=11, random_state=130323; total time=   0.7s\n",
      "[CV] END max_depth=7, n_estimators=30, num_leaves=21, random_state=130323; total time=   0.6s\n",
      "[CV] END max_depth=7, n_estimators=30, num_leaves=21, random_state=130323; total time=   0.6s\n",
      "[CV] END max_depth=7, n_estimators=30, num_leaves=21, random_state=130323; total time=   0.6s\n",
      "[CV] END max_depth=7, n_estimators=30, num_leaves=31, random_state=130323; total time=   0.8s\n",
      "[CV] END max_depth=7, n_estimators=30, num_leaves=31, random_state=130323; total time=   1.1s\n",
      "[CV] END max_depth=7, n_estimators=30, num_leaves=31, random_state=130323; total time=   1.2s\n",
      "[CV] END max_depth=7, n_estimators=70, num_leaves=6, random_state=130323; total time=   1.0s\n",
      "[CV] END max_depth=7, n_estimators=70, num_leaves=6, random_state=130323; total time=   0.7s\n",
      "[CV] END max_depth=7, n_estimators=70, num_leaves=6, random_state=130323; total time=   1.5s\n",
      "[CV] END max_depth=7, n_estimators=70, num_leaves=11, random_state=130323; total time=   1.8s\n",
      "[CV] END max_depth=7, n_estimators=70, num_leaves=11, random_state=130323; total time=   1.4s\n",
      "[CV] END max_depth=7, n_estimators=70, num_leaves=11, random_state=130323; total time=   1.3s\n",
      "[CV] END max_depth=7, n_estimators=70, num_leaves=21, random_state=130323; total time=   1.3s\n",
      "[CV] END max_depth=7, n_estimators=70, num_leaves=21, random_state=130323; total time=   2.4s\n",
      "[CV] END max_depth=7, n_estimators=70, num_leaves=21, random_state=130323; total time=   1.3s\n",
      "[CV] END max_depth=7, n_estimators=70, num_leaves=31, random_state=130323; total time=   2.3s\n",
      "[CV] END max_depth=7, n_estimators=70, num_leaves=31, random_state=130323; total time=   1.3s\n",
      "[CV] END max_depth=7, n_estimators=70, num_leaves=31, random_state=130323; total time=   2.7s\n",
      "[CV] END max_depth=7, n_estimators=90, num_leaves=6, random_state=130323; total time=   1.2s\n",
      "[CV] END max_depth=7, n_estimators=90, num_leaves=6, random_state=130323; total time=   1.3s\n",
      "[CV] END max_depth=7, n_estimators=90, num_leaves=6, random_state=130323; total time=   0.9s\n",
      "[CV] END max_depth=7, n_estimators=90, num_leaves=11, random_state=130323; total time=   1.3s\n",
      "[CV] END max_depth=7, n_estimators=90, num_leaves=11, random_state=130323; total time=   1.0s\n",
      "[CV] END max_depth=7, n_estimators=90, num_leaves=11, random_state=130323; total time=   1.1s\n",
      "[CV] END max_depth=7, n_estimators=90, num_leaves=21, random_state=130323; total time=   1.8s\n",
      "[CV] END max_depth=7, n_estimators=90, num_leaves=21, random_state=130323; total time=  13.5s\n",
      "[CV] END max_depth=7, n_estimators=90, num_leaves=21, random_state=130323; total time=  24.7s\n",
      "[CV] END max_depth=7, n_estimators=90, num_leaves=31, random_state=130323; total time=  23.0s\n",
      "[CV] END max_depth=7, n_estimators=90, num_leaves=31, random_state=130323; total time=  18.5s\n",
      "[CV] END max_depth=7, n_estimators=90, num_leaves=31, random_state=130323; total time=  14.1s\n",
      "[CV] END max_depth=7, n_estimators=110, num_leaves=6, random_state=130323; total time=   7.0s\n",
      "[CV] END max_depth=7, n_estimators=110, num_leaves=6, random_state=130323; total time=   9.9s\n",
      "[CV] END max_depth=7, n_estimators=110, num_leaves=6, random_state=130323; total time=   4.8s\n",
      "[CV] END max_depth=7, n_estimators=110, num_leaves=11, random_state=130323; total time=  13.6s\n",
      "[CV] END max_depth=7, n_estimators=110, num_leaves=11, random_state=130323; total time=  20.0s\n",
      "[CV] END max_depth=7, n_estimators=110, num_leaves=11, random_state=130323; total time=   3.9s\n",
      "[CV] END max_depth=7, n_estimators=110, num_leaves=21, random_state=130323; total time=  24.5s\n",
      "[CV] END max_depth=7, n_estimators=110, num_leaves=21, random_state=130323; total time=  15.7s\n",
      "[CV] END max_depth=7, n_estimators=110, num_leaves=21, random_state=130323; total time=  42.3s\n",
      "[CV] END max_depth=7, n_estimators=110, num_leaves=31, random_state=130323; total time=  24.2s\n",
      "[CV] END max_depth=7, n_estimators=110, num_leaves=31, random_state=130323; total time=  11.3s\n",
      "[CV] END max_depth=7, n_estimators=110, num_leaves=31, random_state=130323; total time=  27.9s\n",
      "[CV] END max_depth=7, n_estimators=150, num_leaves=6, random_state=130323; total time=  21.9s\n",
      "[CV] END max_depth=7, n_estimators=150, num_leaves=6, random_state=130323; total time=   9.6s\n",
      "[CV] END max_depth=7, n_estimators=150, num_leaves=6, random_state=130323; total time=   7.5s\n",
      "[CV] END max_depth=7, n_estimators=150, num_leaves=11, random_state=130323; total time=   1.6s\n",
      "[CV] END max_depth=7, n_estimators=150, num_leaves=11, random_state=130323; total time=   2.5s\n",
      "[CV] END max_depth=7, n_estimators=150, num_leaves=11, random_state=130323; total time=   1.8s\n",
      "[CV] END max_depth=7, n_estimators=150, num_leaves=21, random_state=130323; total time=   2.8s\n",
      "[CV] END max_depth=7, n_estimators=150, num_leaves=21, random_state=130323; total time=   3.0s\n",
      "[CV] END max_depth=7, n_estimators=150, num_leaves=21, random_state=130323; total time=   2.8s\n",
      "[CV] END max_depth=7, n_estimators=150, num_leaves=31, random_state=130323; total time=   3.0s\n",
      "[CV] END max_depth=7, n_estimators=150, num_leaves=31, random_state=130323; total time=   2.3s\n",
      "[CV] END max_depth=7, n_estimators=150, num_leaves=31, random_state=130323; total time=   3.5s\n",
      "[CV] END max_depth=7, n_estimators=200, num_leaves=6, random_state=130323; total time=   1.4s\n",
      "[CV] END max_depth=7, n_estimators=200, num_leaves=6, random_state=130323; total time=   1.3s\n",
      "[CV] END max_depth=7, n_estimators=200, num_leaves=6, random_state=130323; total time=   2.3s\n",
      "[CV] END max_depth=7, n_estimators=200, num_leaves=11, random_state=130323; total time=   3.7s\n",
      "[CV] END max_depth=7, n_estimators=200, num_leaves=11, random_state=130323; total time=   4.1s\n",
      "[CV] END max_depth=7, n_estimators=200, num_leaves=11, random_state=130323; total time=   3.0s\n",
      "[CV] END max_depth=7, n_estimators=200, num_leaves=21, random_state=130323; total time=   3.9s\n",
      "[CV] END max_depth=7, n_estimators=200, num_leaves=21, random_state=130323; total time=   4.4s\n",
      "[CV] END max_depth=7, n_estimators=200, num_leaves=21, random_state=130323; total time=   5.2s\n",
      "[CV] END max_depth=7, n_estimators=200, num_leaves=31, random_state=130323; total time=   4.8s\n",
      "[CV] END max_depth=7, n_estimators=200, num_leaves=31, random_state=130323; total time=   4.3s\n",
      "[CV] END max_depth=7, n_estimators=200, num_leaves=31, random_state=130323; total time=  18.3s\n",
      "[CV] END max_depth=7, n_estimators=250, num_leaves=6, random_state=130323; total time=  27.6s\n",
      "[CV] END max_depth=7, n_estimators=250, num_leaves=6, random_state=130323; total time=  12.7s\n",
      "[CV] END max_depth=7, n_estimators=250, num_leaves=6, random_state=130323; total time=  19.2s\n",
      "[CV] END max_depth=7, n_estimators=250, num_leaves=11, random_state=130323; total time=  40.4s\n",
      "[CV] END max_depth=7, n_estimators=250, num_leaves=11, random_state=130323; total time=  26.1s\n",
      "[CV] END max_depth=7, n_estimators=250, num_leaves=11, random_state=130323; total time=  16.9s\n",
      "[CV] END max_depth=7, n_estimators=250, num_leaves=21, random_state=130323; total time=   5.6s\n",
      "[CV] END max_depth=7, n_estimators=250, num_leaves=21, random_state=130323; total time=   6.5s\n",
      "[CV] END max_depth=7, n_estimators=250, num_leaves=21, random_state=130323; total time=  22.4s\n",
      "[CV] END max_depth=7, n_estimators=250, num_leaves=31, random_state=130323; total time=  42.7s\n",
      "[CV] END max_depth=7, n_estimators=250, num_leaves=31, random_state=130323; total time=  35.9s\n",
      "[CV] END max_depth=7, n_estimators=250, num_leaves=31, random_state=130323; total time=  21.9s\n",
      "[CV] END max_depth=10, n_estimators=10, num_leaves=6, random_state=130323; total time=   4.0s\n",
      "[CV] END max_depth=10, n_estimators=10, num_leaves=6, random_state=130323; total time=   9.7s\n",
      "[CV] END max_depth=10, n_estimators=10, num_leaves=6, random_state=130323; total time=   3.5s\n",
      "[CV] END max_depth=10, n_estimators=10, num_leaves=11, random_state=130323; total time=   4.6s\n",
      "[CV] END max_depth=10, n_estimators=10, num_leaves=11, random_state=130323; total time=   0.7s\n",
      "[CV] END max_depth=10, n_estimators=10, num_leaves=11, random_state=130323; total time=   3.3s\n",
      "[CV] END max_depth=10, n_estimators=10, num_leaves=21, random_state=130323; total time=   1.5s\n",
      "[CV] END max_depth=10, n_estimators=10, num_leaves=21, random_state=130323; total time=   5.3s\n",
      "[CV] END max_depth=10, n_estimators=10, num_leaves=21, random_state=130323; total time=   2.2s\n",
      "[CV] END max_depth=10, n_estimators=10, num_leaves=31, random_state=130323; total time=   8.9s\n",
      "[CV] END max_depth=10, n_estimators=10, num_leaves=31, random_state=130323; total time=  24.5s\n",
      "[CV] END max_depth=10, n_estimators=10, num_leaves=31, random_state=130323; total time=   2.5s\n",
      "[CV] END max_depth=10, n_estimators=30, num_leaves=6, random_state=130323; total time=   1.4s\n",
      "[CV] END max_depth=10, n_estimators=30, num_leaves=6, random_state=130323; total time=   1.2s\n",
      "[CV] END max_depth=10, n_estimators=30, num_leaves=6, random_state=130323; total time=   1.9s\n",
      "[CV] END max_depth=10, n_estimators=30, num_leaves=11, random_state=130323; total time=   3.1s\n",
      "[CV] END max_depth=10, n_estimators=30, num_leaves=11, random_state=130323; total time=   4.3s\n",
      "[CV] END max_depth=10, n_estimators=30, num_leaves=11, random_state=130323; total time=   1.0s\n",
      "[CV] END max_depth=10, n_estimators=30, num_leaves=21, random_state=130323; total time=   5.1s\n",
      "[CV] END max_depth=10, n_estimators=30, num_leaves=21, random_state=130323; total time=   7.4s\n",
      "[CV] END max_depth=10, n_estimators=30, num_leaves=21, random_state=130323; total time=  12.0s\n",
      "[CV] END max_depth=10, n_estimators=30, num_leaves=31, random_state=130323; total time=  14.1s\n",
      "[CV] END max_depth=10, n_estimators=30, num_leaves=31, random_state=130323; total time=   9.3s\n",
      "[CV] END max_depth=10, n_estimators=30, num_leaves=31, random_state=130323; total time=  15.3s\n",
      "[CV] END max_depth=10, n_estimators=70, num_leaves=6, random_state=130323; total time=   7.2s\n",
      "[CV] END max_depth=10, n_estimators=70, num_leaves=6, random_state=130323; total time=   5.8s\n",
      "[CV] END max_depth=10, n_estimators=70, num_leaves=6, random_state=130323; total time=   9.3s\n",
      "[CV] END max_depth=10, n_estimators=70, num_leaves=11, random_state=130323; total time=   7.7s\n",
      "[CV] END max_depth=10, n_estimators=70, num_leaves=11, random_state=130323; total time=   8.3s\n",
      "[CV] END max_depth=10, n_estimators=70, num_leaves=11, random_state=130323; total time=   9.9s\n",
      "[CV] END max_depth=10, n_estimators=70, num_leaves=21, random_state=130323; total time=  11.8s\n",
      "[CV] END max_depth=10, n_estimators=70, num_leaves=21, random_state=130323; total time=  12.2s\n",
      "[CV] END max_depth=10, n_estimators=70, num_leaves=21, random_state=130323; total time=  12.5s\n",
      "[CV] END max_depth=10, n_estimators=70, num_leaves=31, random_state=130323; total time=  17.2s\n",
      "[CV] END max_depth=10, n_estimators=70, num_leaves=31, random_state=130323; total time=  16.8s\n",
      "[CV] END max_depth=10, n_estimators=70, num_leaves=31, random_state=130323; total time=  28.3s\n",
      "[CV] END max_depth=10, n_estimators=90, num_leaves=6, random_state=130323; total time=  11.9s\n",
      "[CV] END max_depth=10, n_estimators=90, num_leaves=6, random_state=130323; total time=  11.0s\n",
      "[CV] END max_depth=10, n_estimators=90, num_leaves=6, random_state=130323; total time=  12.4s\n",
      "[CV] END max_depth=10, n_estimators=90, num_leaves=11, random_state=130323; total time=  11.3s\n",
      "[CV] END max_depth=10, n_estimators=90, num_leaves=11, random_state=130323; total time=  11.3s\n",
      "[CV] END max_depth=10, n_estimators=90, num_leaves=11, random_state=130323; total time=  20.3s\n",
      "[CV] END max_depth=10, n_estimators=90, num_leaves=21, random_state=130323; total time=  46.7s\n",
      "[CV] END max_depth=10, n_estimators=90, num_leaves=21, random_state=130323; total time=  41.9s\n",
      "[CV] END max_depth=10, n_estimators=90, num_leaves=21, random_state=130323; total time= 1.1min\n",
      "[CV] END max_depth=10, n_estimators=90, num_leaves=31, random_state=130323; total time=   2.9s\n",
      "[CV] END max_depth=10, n_estimators=90, num_leaves=31, random_state=130323; total time=   3.4s\n",
      "[CV] END max_depth=10, n_estimators=90, num_leaves=31, random_state=130323; total time=   3.1s\n",
      "[CV] END max_depth=10, n_estimators=110, num_leaves=6, random_state=130323; total time=   1.5s\n",
      "[CV] END max_depth=10, n_estimators=110, num_leaves=6, random_state=130323; total time=   1.9s\n",
      "[CV] END max_depth=10, n_estimators=110, num_leaves=6, random_state=130323; total time=   1.9s\n",
      "[CV] END max_depth=10, n_estimators=110, num_leaves=11, random_state=130323; total time=   2.3s\n",
      "[CV] END max_depth=10, n_estimators=110, num_leaves=11, random_state=130323; total time=   2.8s\n",
      "[CV] END max_depth=10, n_estimators=110, num_leaves=11, random_state=130323; total time=   1.9s\n",
      "[CV] END max_depth=10, n_estimators=110, num_leaves=21, random_state=130323; total time=   4.7s\n",
      "[CV] END max_depth=10, n_estimators=110, num_leaves=21, random_state=130323; total time=   5.2s\n",
      "[CV] END max_depth=10, n_estimators=110, num_leaves=21, random_state=130323; total time=   5.7s\n",
      "[CV] END max_depth=10, n_estimators=110, num_leaves=31, random_state=130323; total time=   4.3s\n",
      "[CV] END max_depth=10, n_estimators=110, num_leaves=31, random_state=130323; total time=   3.7s\n",
      "[CV] END max_depth=10, n_estimators=110, num_leaves=31, random_state=130323; total time=   5.4s\n",
      "[CV] END max_depth=10, n_estimators=150, num_leaves=6, random_state=130323; total time=   1.7s\n",
      "[CV] END max_depth=10, n_estimators=150, num_leaves=6, random_state=130323; total time=   1.1s\n",
      "[CV] END max_depth=10, n_estimators=150, num_leaves=6, random_state=130323; total time=   1.6s\n",
      "[CV] END max_depth=10, n_estimators=150, num_leaves=11, random_state=130323; total time=   3.0s\n",
      "[CV] END max_depth=10, n_estimators=150, num_leaves=11, random_state=130323; total time=   2.4s\n",
      "[CV] END max_depth=10, n_estimators=150, num_leaves=11, random_state=130323; total time=   3.4s\n",
      "[CV] END max_depth=10, n_estimators=150, num_leaves=21, random_state=130323; total time=   4.0s\n",
      "[CV] END max_depth=10, n_estimators=150, num_leaves=21, random_state=130323; total time=   4.7s\n",
      "[CV] END max_depth=10, n_estimators=150, num_leaves=21, random_state=130323; total time=   4.6s\n",
      "[CV] END max_depth=10, n_estimators=150, num_leaves=31, random_state=130323; total time=   5.1s\n",
      "[CV] END max_depth=10, n_estimators=150, num_leaves=31, random_state=130323; total time=   4.6s\n",
      "[CV] END max_depth=10, n_estimators=150, num_leaves=31, random_state=130323; total time=   4.9s\n",
      "[CV] END max_depth=10, n_estimators=200, num_leaves=6, random_state=130323; total time=   2.0s\n",
      "[CV] END max_depth=10, n_estimators=200, num_leaves=6, random_state=130323; total time=   1.8s\n",
      "[CV] END max_depth=10, n_estimators=200, num_leaves=6, random_state=130323; total time=   2.2s\n",
      "[CV] END max_depth=10, n_estimators=200, num_leaves=11, random_state=130323; total time=   3.8s\n",
      "[CV] END max_depth=10, n_estimators=200, num_leaves=11, random_state=130323; total time=   4.6s\n",
      "[CV] END max_depth=10, n_estimators=200, num_leaves=11, random_state=130323; total time=   3.5s\n",
      "[CV] END max_depth=10, n_estimators=200, num_leaves=21, random_state=130323; total time=  11.6s\n",
      "[CV] END max_depth=10, n_estimators=200, num_leaves=21, random_state=130323; total time=   8.0s\n",
      "[CV] END max_depth=10, n_estimators=200, num_leaves=21, random_state=130323; total time=   7.3s\n",
      "[CV] END max_depth=10, n_estimators=200, num_leaves=31, random_state=130323; total time=  11.4s\n",
      "[CV] END max_depth=10, n_estimators=200, num_leaves=31, random_state=130323; total time=   5.8s\n",
      "[CV] END max_depth=10, n_estimators=200, num_leaves=31, random_state=130323; total time=  12.9s\n",
      "[CV] END max_depth=10, n_estimators=250, num_leaves=6, random_state=130323; total time=   3.1s\n",
      "[CV] END max_depth=10, n_estimators=250, num_leaves=6, random_state=130323; total time=   7.7s\n",
      "[CV] END max_depth=10, n_estimators=250, num_leaves=6, random_state=130323; total time=   1.6s\n",
      "[CV] END max_depth=10, n_estimators=250, num_leaves=11, random_state=130323; total time=   1.1s\n",
      "[CV] END max_depth=10, n_estimators=250, num_leaves=11, random_state=130323; total time=   6.3s\n",
      "[CV] END max_depth=10, n_estimators=250, num_leaves=11, random_state=130323; total time=   3.7s\n",
      "[CV] END max_depth=10, n_estimators=250, num_leaves=21, random_state=130323; total time=   1.6s\n",
      "[CV] END max_depth=10, n_estimators=250, num_leaves=21, random_state=130323; total time=   2.7s\n",
      "[CV] END max_depth=10, n_estimators=250, num_leaves=21, random_state=130323; total time=   1.7s\n",
      "[CV] END max_depth=10, n_estimators=250, num_leaves=31, random_state=130323; total time=   2.0s\n",
      "[CV] END max_depth=10, n_estimators=250, num_leaves=31, random_state=130323; total time=   2.4s\n",
      "[CV] END max_depth=10, n_estimators=250, num_leaves=31, random_state=130323; total time=   1.8s\n",
      "[CV] END max_depth=15, n_estimators=10, num_leaves=6, random_state=130323; total time=   0.1s\n",
      "[CV] END max_depth=15, n_estimators=10, num_leaves=6, random_state=130323; total time=   0.0s\n",
      "[CV] END max_depth=15, n_estimators=10, num_leaves=6, random_state=130323; total time=   0.1s\n",
      "[CV] END max_depth=15, n_estimators=10, num_leaves=11, random_state=130323; total time=   0.1s\n",
      "[CV] END max_depth=15, n_estimators=10, num_leaves=11, random_state=130323; total time=   0.1s\n",
      "[CV] END max_depth=15, n_estimators=10, num_leaves=11, random_state=130323; total time=   0.1s\n",
      "[CV] END max_depth=15, n_estimators=10, num_leaves=21, random_state=130323; total time=   0.2s\n",
      "[CV] END max_depth=15, n_estimators=10, num_leaves=21, random_state=130323; total time=   0.1s\n",
      "[CV] END max_depth=15, n_estimators=10, num_leaves=21, random_state=130323; total time=   0.1s\n",
      "[CV] END max_depth=15, n_estimators=10, num_leaves=31, random_state=130323; total time=   0.2s\n",
      "[CV] END max_depth=15, n_estimators=10, num_leaves=31, random_state=130323; total time=   0.2s\n",
      "[CV] END max_depth=15, n_estimators=10, num_leaves=31, random_state=130323; total time=   0.1s\n",
      "[CV] END max_depth=15, n_estimators=30, num_leaves=6, random_state=130323; total time=   0.4s\n",
      "[CV] END max_depth=15, n_estimators=30, num_leaves=6, random_state=130323; total time=   0.1s\n",
      "[CV] END max_depth=15, n_estimators=30, num_leaves=6, random_state=130323; total time=   0.2s\n",
      "[CV] END max_depth=15, n_estimators=30, num_leaves=11, random_state=130323; total time=   0.1s\n",
      "[CV] END max_depth=15, n_estimators=30, num_leaves=11, random_state=130323; total time=   0.3s\n",
      "[CV] END max_depth=15, n_estimators=30, num_leaves=11, random_state=130323; total time=   0.3s\n",
      "[CV] END max_depth=15, n_estimators=30, num_leaves=21, random_state=130323; total time=   0.2s\n",
      "[CV] END max_depth=15, n_estimators=30, num_leaves=21, random_state=130323; total time=   0.4s\n",
      "[CV] END max_depth=15, n_estimators=30, num_leaves=21, random_state=130323; total time=   0.3s\n",
      "[CV] END max_depth=15, n_estimators=30, num_leaves=31, random_state=130323; total time=   0.4s\n",
      "[CV] END max_depth=15, n_estimators=30, num_leaves=31, random_state=130323; total time=   0.6s\n",
      "[CV] END max_depth=15, n_estimators=30, num_leaves=31, random_state=130323; total time=   0.3s\n",
      "[CV] END max_depth=15, n_estimators=70, num_leaves=6, random_state=130323; total time=   0.2s\n",
      "[CV] END max_depth=15, n_estimators=70, num_leaves=6, random_state=130323; total time=   0.4s\n",
      "[CV] END max_depth=15, n_estimators=70, num_leaves=6, random_state=130323; total time=   0.2s\n",
      "[CV] END max_depth=15, n_estimators=70, num_leaves=11, random_state=130323; total time=   0.5s\n",
      "[CV] END max_depth=15, n_estimators=70, num_leaves=11, random_state=130323; total time=   0.3s\n",
      "[CV] END max_depth=15, n_estimators=70, num_leaves=11, random_state=130323; total time=   0.4s\n",
      "[CV] END max_depth=15, n_estimators=70, num_leaves=21, random_state=130323; total time=   0.6s\n",
      "[CV] END max_depth=15, n_estimators=70, num_leaves=21, random_state=130323; total time=   0.6s\n",
      "[CV] END max_depth=15, n_estimators=70, num_leaves=21, random_state=130323; total time=   0.5s\n",
      "[CV] END max_depth=15, n_estimators=70, num_leaves=31, random_state=130323; total time=   0.8s\n",
      "[CV] END max_depth=15, n_estimators=70, num_leaves=31, random_state=130323; total time=   0.6s\n",
      "[CV] END max_depth=15, n_estimators=70, num_leaves=31, random_state=130323; total time=   0.8s\n",
      "[CV] END max_depth=15, n_estimators=90, num_leaves=6, random_state=130323; total time=   0.4s\n",
      "[CV] END max_depth=15, n_estimators=90, num_leaves=6, random_state=130323; total time=   0.2s\n",
      "[CV] END max_depth=15, n_estimators=90, num_leaves=6, random_state=130323; total time=   0.4s\n",
      "[CV] END max_depth=15, n_estimators=90, num_leaves=11, random_state=130323; total time=   0.4s\n",
      "[CV] END max_depth=15, n_estimators=90, num_leaves=11, random_state=130323; total time=   0.5s\n",
      "[CV] END max_depth=15, n_estimators=90, num_leaves=11, random_state=130323; total time=   5.2s\n",
      "[CV] END max_depth=15, n_estimators=90, num_leaves=21, random_state=130323; total time=   0.8s\n",
      "[CV] END max_depth=15, n_estimators=90, num_leaves=21, random_state=130323; total time=   0.8s\n",
      "[CV] END max_depth=15, n_estimators=90, num_leaves=21, random_state=130323; total time=   0.7s\n",
      "[CV] END max_depth=15, n_estimators=90, num_leaves=31, random_state=130323; total time=   0.9s\n",
      "[CV] END max_depth=15, n_estimators=90, num_leaves=31, random_state=130323; total time=   0.8s\n",
      "[CV] END max_depth=15, n_estimators=90, num_leaves=31, random_state=130323; total time=   1.2s\n",
      "[CV] END max_depth=15, n_estimators=110, num_leaves=6, random_state=130323; total time=   0.3s\n",
      "[CV] END max_depth=15, n_estimators=110, num_leaves=6, random_state=130323; total time=   0.4s\n",
      "[CV] END max_depth=15, n_estimators=110, num_leaves=6, random_state=130323; total time=   0.3s\n",
      "[CV] END max_depth=15, n_estimators=110, num_leaves=11, random_state=130323; total time=   0.6s\n",
      "[CV] END max_depth=15, n_estimators=110, num_leaves=11, random_state=130323; total time=   0.6s\n",
      "[CV] END max_depth=15, n_estimators=110, num_leaves=11, random_state=130323; total time=   0.4s\n",
      "[CV] END max_depth=15, n_estimators=110, num_leaves=21, random_state=130323; total time=   0.8s\n",
      "[CV] END max_depth=15, n_estimators=110, num_leaves=21, random_state=130323; total time=   1.0s\n",
      "[CV] END max_depth=15, n_estimators=110, num_leaves=21, random_state=130323; total time=   0.9s\n",
      "[CV] END max_depth=15, n_estimators=110, num_leaves=31, random_state=130323; total time=   1.3s\n",
      "[CV] END max_depth=15, n_estimators=110, num_leaves=31, random_state=130323; total time=   1.1s\n",
      "[CV] END max_depth=15, n_estimators=110, num_leaves=31, random_state=130323; total time=   1.0s\n",
      "[CV] END max_depth=15, n_estimators=150, num_leaves=6, random_state=130323; total time=   0.4s\n",
      "[CV] END max_depth=15, n_estimators=150, num_leaves=6, random_state=130323; total time=   0.6s\n",
      "[CV] END max_depth=15, n_estimators=150, num_leaves=6, random_state=130323; total time=   0.4s\n",
      "[CV] END max_depth=15, n_estimators=150, num_leaves=11, random_state=130323; total time=   0.6s\n",
      "[CV] END max_depth=15, n_estimators=150, num_leaves=11, random_state=130323; total time=   0.8s\n",
      "[CV] END max_depth=15, n_estimators=150, num_leaves=11, random_state=130323; total time=   0.7s\n",
      "[CV] END max_depth=15, n_estimators=150, num_leaves=21, random_state=130323; total time=   1.1s\n",
      "[CV] END max_depth=15, n_estimators=150, num_leaves=21, random_state=130323; total time=   1.2s\n",
      "[CV] END max_depth=15, n_estimators=150, num_leaves=21, random_state=130323; total time=   1.0s\n",
      "[CV] END max_depth=15, n_estimators=150, num_leaves=31, random_state=130323; total time=   1.4s\n",
      "[CV] END max_depth=15, n_estimators=150, num_leaves=31, random_state=130323; total time=   1.4s\n",
      "[CV] END max_depth=15, n_estimators=150, num_leaves=31, random_state=130323; total time=   1.4s\n",
      "[CV] END max_depth=15, n_estimators=200, num_leaves=6, random_state=130323; total time=   0.6s\n",
      "[CV] END max_depth=15, n_estimators=200, num_leaves=6, random_state=130323; total time=   0.6s\n",
      "[CV] END max_depth=15, n_estimators=200, num_leaves=6, random_state=130323; total time=   0.6s\n",
      "[CV] END max_depth=15, n_estimators=200, num_leaves=11, random_state=130323; total time=   0.9s\n",
      "[CV] END max_depth=15, n_estimators=200, num_leaves=11, random_state=130323; total time=   0.7s\n",
      "[CV] END max_depth=15, n_estimators=200, num_leaves=11, random_state=130323; total time=   0.9s\n",
      "[CV] END max_depth=15, n_estimators=200, num_leaves=21, random_state=130323; total time=   1.5s\n",
      "[CV] END max_depth=15, n_estimators=200, num_leaves=21, random_state=130323; total time=   1.6s\n",
      "[CV] END max_depth=15, n_estimators=200, num_leaves=21, random_state=130323; total time=   1.5s\n",
      "[CV] END max_depth=15, n_estimators=200, num_leaves=31, random_state=130323; total time=   2.9s\n",
      "[CV] END max_depth=15, n_estimators=200, num_leaves=31, random_state=130323; total time=   1.7s\n",
      "[CV] END max_depth=15, n_estimators=200, num_leaves=31, random_state=130323; total time=   2.0s\n",
      "[CV] END max_depth=15, n_estimators=250, num_leaves=6, random_state=130323; total time=   0.7s\n",
      "[CV] END max_depth=15, n_estimators=250, num_leaves=6, random_state=130323; total time=   0.7s\n",
      "[CV] END max_depth=15, n_estimators=250, num_leaves=6, random_state=130323; total time=   0.6s\n",
      "[CV] END max_depth=15, n_estimators=250, num_leaves=11, random_state=130323; total time=   1.1s\n",
      "[CV] END max_depth=15, n_estimators=250, num_leaves=11, random_state=130323; total time=   1.1s\n",
      "[CV] END max_depth=15, n_estimators=250, num_leaves=11, random_state=130323; total time=   1.1s\n",
      "[CV] END max_depth=15, n_estimators=250, num_leaves=21, random_state=130323; total time=   2.4s\n",
      "[CV] END max_depth=15, n_estimators=250, num_leaves=21, random_state=130323; total time=   1.8s\n",
      "[CV] END max_depth=15, n_estimators=250, num_leaves=21, random_state=130323; total time=   1.8s\n",
      "[CV] END max_depth=15, n_estimators=250, num_leaves=31, random_state=130323; total time=   2.3s\n",
      "[CV] END max_depth=15, n_estimators=250, num_leaves=31, random_state=130323; total time=   2.8s\n",
      "[CV] END max_depth=15, n_estimators=250, num_leaves=31, random_state=130323; total time=   2.4s\n",
      "[CV] END max_depth=20, n_estimators=10, num_leaves=6, random_state=130323; total time=   0.1s\n",
      "[CV] END max_depth=20, n_estimators=10, num_leaves=6, random_state=130323; total time=   0.1s\n",
      "[CV] END max_depth=20, n_estimators=10, num_leaves=6, random_state=130323; total time=   0.1s\n",
      "[CV] END max_depth=20, n_estimators=10, num_leaves=11, random_state=130323; total time=   0.1s\n",
      "[CV] END max_depth=20, n_estimators=10, num_leaves=11, random_state=130323; total time=   0.2s\n",
      "[CV] END max_depth=20, n_estimators=10, num_leaves=11, random_state=130323; total time=   0.2s\n",
      "[CV] END max_depth=20, n_estimators=10, num_leaves=21, random_state=130323; total time=   0.2s\n",
      "[CV] END max_depth=20, n_estimators=10, num_leaves=21, random_state=130323; total time=   0.1s\n",
      "[CV] END max_depth=20, n_estimators=10, num_leaves=21, random_state=130323; total time=   0.1s\n",
      "[CV] END max_depth=20, n_estimators=10, num_leaves=31, random_state=130323; total time=   0.1s\n",
      "[CV] END max_depth=20, n_estimators=10, num_leaves=31, random_state=130323; total time=   0.2s\n",
      "[CV] END max_depth=20, n_estimators=10, num_leaves=31, random_state=130323; total time=   0.2s\n",
      "[CV] END max_depth=20, n_estimators=30, num_leaves=6, random_state=130323; total time=   0.1s\n",
      "[CV] END max_depth=20, n_estimators=30, num_leaves=6, random_state=130323; total time=   0.2s\n",
      "[CV] END max_depth=20, n_estimators=30, num_leaves=6, random_state=130323; total time=   0.1s\n",
      "[CV] END max_depth=20, n_estimators=30, num_leaves=11, random_state=130323; total time=   0.1s\n",
      "[CV] END max_depth=20, n_estimators=30, num_leaves=11, random_state=130323; total time=   0.2s\n",
      "[CV] END max_depth=20, n_estimators=30, num_leaves=11, random_state=130323; total time=   0.2s\n",
      "[CV] END max_depth=20, n_estimators=30, num_leaves=21, random_state=130323; total time=   0.3s\n",
      "[CV] END max_depth=20, n_estimators=30, num_leaves=21, random_state=130323; total time=   0.3s\n",
      "[CV] END max_depth=20, n_estimators=30, num_leaves=21, random_state=130323; total time=   0.3s\n",
      "[CV] END max_depth=20, n_estimators=30, num_leaves=31, random_state=130323; total time=   0.6s\n",
      "[CV] END max_depth=20, n_estimators=30, num_leaves=31, random_state=130323; total time=   0.3s\n",
      "[CV] END max_depth=20, n_estimators=30, num_leaves=31, random_state=130323; total time=   0.4s\n",
      "[CV] END max_depth=20, n_estimators=70, num_leaves=6, random_state=130323; total time=   0.4s\n",
      "[CV] END max_depth=20, n_estimators=70, num_leaves=6, random_state=130323; total time=   0.2s\n",
      "[CV] END max_depth=20, n_estimators=70, num_leaves=6, random_state=130323; total time=   5.0s\n",
      "[CV] END max_depth=20, n_estimators=70, num_leaves=11, random_state=130323; total time=   0.3s\n",
      "[CV] END max_depth=20, n_estimators=70, num_leaves=11, random_state=130323; total time=   0.4s\n",
      "[CV] END max_depth=20, n_estimators=70, num_leaves=11, random_state=130323; total time=   0.4s\n",
      "[CV] END max_depth=20, n_estimators=70, num_leaves=21, random_state=130323; total time=   0.6s\n",
      "[CV] END max_depth=20, n_estimators=70, num_leaves=21, random_state=130323; total time=   0.6s\n",
      "[CV] END max_depth=20, n_estimators=70, num_leaves=21, random_state=130323; total time=   0.7s\n",
      "[CV] END max_depth=20, n_estimators=70, num_leaves=31, random_state=130323; total time=   0.8s\n",
      "[CV] END max_depth=20, n_estimators=70, num_leaves=31, random_state=130323; total time=   0.8s\n",
      "[CV] END max_depth=20, n_estimators=70, num_leaves=31, random_state=130323; total time=   0.9s\n",
      "[CV] END max_depth=20, n_estimators=90, num_leaves=6, random_state=130323; total time=   0.3s\n",
      "[CV] END max_depth=20, n_estimators=90, num_leaves=6, random_state=130323; total time=   0.3s\n",
      "[CV] END max_depth=20, n_estimators=90, num_leaves=6, random_state=130323; total time=   0.3s\n",
      "[CV] END max_depth=20, n_estimators=90, num_leaves=11, random_state=130323; total time=   0.7s\n",
      "[CV] END max_depth=20, n_estimators=90, num_leaves=11, random_state=130323; total time=   0.4s\n",
      "[CV] END max_depth=20, n_estimators=90, num_leaves=11, random_state=130323; total time=   0.4s\n",
      "[CV] END max_depth=20, n_estimators=90, num_leaves=21, random_state=130323; total time=   0.9s\n",
      "[CV] END max_depth=20, n_estimators=90, num_leaves=21, random_state=130323; total time=   0.9s\n",
      "[CV] END max_depth=20, n_estimators=90, num_leaves=21, random_state=130323; total time=   0.6s\n",
      "[CV] END max_depth=20, n_estimators=90, num_leaves=31, random_state=130323; total time=   0.9s\n",
      "[CV] END max_depth=20, n_estimators=90, num_leaves=31, random_state=130323; total time=   0.8s\n",
      "[CV] END max_depth=20, n_estimators=90, num_leaves=31, random_state=130323; total time=   0.9s\n",
      "[CV] END max_depth=20, n_estimators=110, num_leaves=6, random_state=130323; total time=   0.4s\n",
      "[CV] END max_depth=20, n_estimators=110, num_leaves=6, random_state=130323; total time=   0.3s\n",
      "[CV] END max_depth=20, n_estimators=110, num_leaves=6, random_state=130323; total time=   0.3s\n",
      "[CV] END max_depth=20, n_estimators=110, num_leaves=11, random_state=130323; total time=   0.7s\n",
      "[CV] END max_depth=20, n_estimators=110, num_leaves=11, random_state=130323; total time=   0.4s\n",
      "[CV] END max_depth=20, n_estimators=110, num_leaves=11, random_state=130323; total time=   0.5s\n",
      "[CV] END max_depth=20, n_estimators=110, num_leaves=21, random_state=130323; total time=   0.9s\n",
      "[CV] END max_depth=20, n_estimators=110, num_leaves=21, random_state=130323; total time=   1.0s\n",
      "[CV] END max_depth=20, n_estimators=110, num_leaves=21, random_state=130323; total time=   0.7s\n",
      "[CV] END max_depth=20, n_estimators=110, num_leaves=31, random_state=130323; total time=   2.3s\n",
      "[CV] END max_depth=20, n_estimators=110, num_leaves=31, random_state=130323; total time=   1.2s\n",
      "[CV] END max_depth=20, n_estimators=110, num_leaves=31, random_state=130323; total time=   1.3s\n",
      "[CV] END max_depth=20, n_estimators=150, num_leaves=6, random_state=130323; total time=   0.5s\n",
      "[CV] END max_depth=20, n_estimators=150, num_leaves=6, random_state=130323; total time=   0.5s\n",
      "[CV] END max_depth=20, n_estimators=150, num_leaves=6, random_state=130323; total time=   0.4s\n",
      "[CV] END max_depth=20, n_estimators=150, num_leaves=11, random_state=130323; total time=   0.7s\n",
      "[CV] END max_depth=20, n_estimators=150, num_leaves=11, random_state=130323; total time=   0.7s\n",
      "[CV] END max_depth=20, n_estimators=150, num_leaves=11, random_state=130323; total time=   0.7s\n",
      "[CV] END max_depth=20, n_estimators=150, num_leaves=21, random_state=130323; total time=   1.3s\n",
      "[CV] END max_depth=20, n_estimators=150, num_leaves=21, random_state=130323; total time=   1.1s\n",
      "[CV] END max_depth=20, n_estimators=150, num_leaves=21, random_state=130323; total time=   2.2s\n",
      "[CV] END max_depth=20, n_estimators=150, num_leaves=31, random_state=130323; total time=   1.5s\n",
      "[CV] END max_depth=20, n_estimators=150, num_leaves=31, random_state=130323; total time=   1.5s\n",
      "[CV] END max_depth=20, n_estimators=150, num_leaves=31, random_state=130323; total time=   1.7s\n",
      "[CV] END max_depth=20, n_estimators=200, num_leaves=6, random_state=130323; total time=   0.6s\n",
      "[CV] END max_depth=20, n_estimators=200, num_leaves=6, random_state=130323; total time=   0.8s\n",
      "[CV] END max_depth=20, n_estimators=200, num_leaves=6, random_state=130323; total time=   0.6s\n",
      "[CV] END max_depth=20, n_estimators=200, num_leaves=11, random_state=130323; total time=   0.9s\n",
      "[CV] END max_depth=20, n_estimators=200, num_leaves=11, random_state=130323; total time=   0.8s\n",
      "[CV] END max_depth=20, n_estimators=200, num_leaves=11, random_state=130323; total time=   3.2s\n",
      "[CV] END max_depth=20, n_estimators=200, num_leaves=21, random_state=130323; total time=   7.6s\n",
      "[CV] END max_depth=20, n_estimators=200, num_leaves=21, random_state=130323; total time=  15.4s\n",
      "[CV] END max_depth=20, n_estimators=200, num_leaves=21, random_state=130323; total time=   3.3s\n",
      "[CV] END max_depth=20, n_estimators=200, num_leaves=31, random_state=130323; total time=   2.3s\n",
      "[CV] END max_depth=20, n_estimators=200, num_leaves=31, random_state=130323; total time=   2.0s\n",
      "[CV] END max_depth=20, n_estimators=200, num_leaves=31, random_state=130323; total time=   2.2s\n",
      "[CV] END max_depth=20, n_estimators=250, num_leaves=6, random_state=130323; total time=   0.7s\n",
      "[CV] END max_depth=20, n_estimators=250, num_leaves=6, random_state=130323; total time=   0.7s\n",
      "[CV] END max_depth=20, n_estimators=250, num_leaves=6, random_state=130323; total time=   0.7s\n",
      "[CV] END max_depth=20, n_estimators=250, num_leaves=11, random_state=130323; total time=   2.2s\n",
      "[CV] END max_depth=20, n_estimators=250, num_leaves=11, random_state=130323; total time=   1.3s\n",
      "[CV] END max_depth=20, n_estimators=250, num_leaves=11, random_state=130323; total time=   0.9s\n",
      "[CV] END max_depth=20, n_estimators=250, num_leaves=21, random_state=130323; total time=   3.1s\n",
      "[CV] END max_depth=20, n_estimators=250, num_leaves=21, random_state=130323; total time=   2.1s\n",
      "[CV] END max_depth=20, n_estimators=250, num_leaves=21, random_state=130323; total time=   1.9s\n",
      "[CV] END max_depth=20, n_estimators=250, num_leaves=31, random_state=130323; total time=   2.5s\n",
      "[CV] END max_depth=20, n_estimators=250, num_leaves=31, random_state=130323; total time=   2.6s\n",
      "[CV] END max_depth=20, n_estimators=250, num_leaves=31, random_state=130323; total time=   2.8s\n",
      "-6.330779757668065\n",
      "{'max_depth': 3, 'n_estimators': 90, 'num_leaves': 11, 'random_state': 130323}\n",
      "CPU times: user 43min 27s, sys: 17.7 s, total: 43min 44s\n",
      "Wall time: 44min 6s\n"
     ]
    }
   ],
   "source": [
    "%%time\n",
    "lgbm_cv.fit(features_train, target_train)\n",
    "print(lgbm_cv.best_score_)\n",
    "print(lgbm_cv.best_params_)"
   ]
  },
  {
   "cell_type": "markdown",
   "id": "28a5d97c",
   "metadata": {},
   "source": [
    "#### Результат\n",
    "Модель: LGBMRegressor()\n",
    "\n",
    "Наименьшая MAE при кросс-валидации: 6.33;\n",
    "\n",
    "Результат достигнут при гиперпараметрах:\n",
    "- 'max_depth': 3,\n",
    "- 'n_estimators': 90,\n",
    "- 'num_leaves': 11."
   ]
  },
  {
   "cell_type": "markdown",
   "id": "b87884e5",
   "metadata": {},
   "source": [
    "### SVR()"
   ]
  },
  {
   "cell_type": "code",
   "execution_count": 76,
   "id": "ce5c8d4f",
   "metadata": {},
   "outputs": [],
   "source": [
    "svr = SVR()\n",
    "scaler = StandardScaler()\n",
    "svr_pipe = Pipeline(steps=[('scaler', scaler), ('svr', svr)])"
   ]
  },
  {
   "cell_type": "code",
   "execution_count": 77,
   "id": "46b51bd3",
   "metadata": {},
   "outputs": [],
   "source": [
    "svr_grid = {'svr__kernel':['linear', 'poly', 'rbf', 'sigmoid'],\n",
    "           'svr__C':[0.1, 0.5, 0.6, 0.7, 0.8, 0.9, 1]}"
   ]
  },
  {
   "cell_type": "code",
   "execution_count": 78,
   "id": "ff884e49",
   "metadata": {},
   "outputs": [],
   "source": [
    "svr_cv = GridSearchCV(estimator=svr_pipe,\n",
    "                         param_grid=svr_grid,\n",
    "                         scoring='neg_mean_absolute_error',\n",
    "                         cv=3,\n",
    "                         n_jobs=-1,\n",
    "                         verbose=2)"
   ]
  },
  {
   "cell_type": "code",
   "execution_count": 79,
   "id": "5953b135",
   "metadata": {
    "scrolled": true
   },
   "outputs": [
    {
     "name": "stdout",
     "output_type": "stream",
     "text": [
      "Fitting 3 folds for each of 28 candidates, totalling 84 fits\n",
      "[CV] END .....................svr__C=0.1, svr__kernel=linear; total time=   0.1s\n",
      "[CV] END .....................svr__C=0.1, svr__kernel=linear; total time=   0.1s\n",
      "[CV] END .....................svr__C=0.1, svr__kernel=linear; total time=   0.1s\n",
      "[CV] END .......................svr__C=0.1, svr__kernel=poly; total time=   0.1s\n",
      "[CV] END .......................svr__C=0.1, svr__kernel=poly; total time=   0.1s\n",
      "[CV] END .......................svr__C=0.1, svr__kernel=poly; total time=   0.1s\n",
      "[CV] END ........................svr__C=0.1, svr__kernel=rbf; total time=   0.1s\n",
      "[CV] END ........................svr__C=0.1, svr__kernel=rbf; total time=   0.1s\n",
      "[CV] END ........................svr__C=0.1, svr__kernel=rbf; total time=   0.1s\n",
      "[CV] END ....................svr__C=0.1, svr__kernel=sigmoid; total time=   0.1s\n",
      "[CV] END ....................svr__C=0.1, svr__kernel=sigmoid; total time=   0.1s\n",
      "[CV] END ....................svr__C=0.1, svr__kernel=sigmoid; total time=   0.1s\n",
      "[CV] END .....................svr__C=0.5, svr__kernel=linear; total time=   0.1s\n",
      "[CV] END .....................svr__C=0.5, svr__kernel=linear; total time=   0.1s\n",
      "[CV] END .....................svr__C=0.5, svr__kernel=linear; total time=   0.1s\n",
      "[CV] END .......................svr__C=0.5, svr__kernel=poly; total time=   0.1s\n",
      "[CV] END .......................svr__C=0.5, svr__kernel=poly; total time=   0.1s\n",
      "[CV] END .......................svr__C=0.5, svr__kernel=poly; total time=   0.1s\n",
      "[CV] END ........................svr__C=0.5, svr__kernel=rbf; total time=   0.1s\n",
      "[CV] END ........................svr__C=0.5, svr__kernel=rbf; total time=   0.1s\n",
      "[CV] END ........................svr__C=0.5, svr__kernel=rbf; total time=   0.1s\n",
      "[CV] END ....................svr__C=0.5, svr__kernel=sigmoid; total time=   0.2s\n",
      "[CV] END ....................svr__C=0.5, svr__kernel=sigmoid; total time=   0.1s\n",
      "[CV] END ....................svr__C=0.5, svr__kernel=sigmoid; total time=   0.1s\n",
      "[CV] END .....................svr__C=0.6, svr__kernel=linear; total time=   0.1s\n",
      "[CV] END .....................svr__C=0.6, svr__kernel=linear; total time=   0.1s\n",
      "[CV] END .....................svr__C=0.6, svr__kernel=linear; total time=   0.1s\n",
      "[CV] END .......................svr__C=0.6, svr__kernel=poly; total time=   0.1s\n",
      "[CV] END .......................svr__C=0.6, svr__kernel=poly; total time=   0.1s\n",
      "[CV] END .......................svr__C=0.6, svr__kernel=poly; total time=   0.1s\n",
      "[CV] END ........................svr__C=0.6, svr__kernel=rbf; total time=   0.1s\n",
      "[CV] END ........................svr__C=0.6, svr__kernel=rbf; total time=   0.1s\n",
      "[CV] END ........................svr__C=0.6, svr__kernel=rbf; total time=   0.1s\n",
      "[CV] END ....................svr__C=0.6, svr__kernel=sigmoid; total time=   0.1s\n",
      "[CV] END ....................svr__C=0.6, svr__kernel=sigmoid; total time=   0.1s\n",
      "[CV] END ....................svr__C=0.6, svr__kernel=sigmoid; total time=   0.1s\n",
      "[CV] END .....................svr__C=0.7, svr__kernel=linear; total time=   0.1s\n",
      "[CV] END .....................svr__C=0.7, svr__kernel=linear; total time=   0.1s\n",
      "[CV] END .....................svr__C=0.7, svr__kernel=linear; total time=   0.1s\n",
      "[CV] END .......................svr__C=0.7, svr__kernel=poly; total time=   0.1s\n",
      "[CV] END .......................svr__C=0.7, svr__kernel=poly; total time=   0.1s\n",
      "[CV] END .......................svr__C=0.7, svr__kernel=poly; total time=   0.1s\n",
      "[CV] END ........................svr__C=0.7, svr__kernel=rbf; total time=   0.1s\n",
      "[CV] END ........................svr__C=0.7, svr__kernel=rbf; total time=   0.1s\n",
      "[CV] END ........................svr__C=0.7, svr__kernel=rbf; total time=   0.1s\n",
      "[CV] END ....................svr__C=0.7, svr__kernel=sigmoid; total time=   0.1s\n",
      "[CV] END ....................svr__C=0.7, svr__kernel=sigmoid; total time=   0.1s\n",
      "[CV] END ....................svr__C=0.7, svr__kernel=sigmoid; total time=   0.1s\n",
      "[CV] END .....................svr__C=0.8, svr__kernel=linear; total time=   0.1s\n",
      "[CV] END .....................svr__C=0.8, svr__kernel=linear; total time=   0.1s\n",
      "[CV] END .....................svr__C=0.8, svr__kernel=linear; total time=   0.1s\n",
      "[CV] END .......................svr__C=0.8, svr__kernel=poly; total time=   0.1s\n",
      "[CV] END .......................svr__C=0.8, svr__kernel=poly; total time=   0.1s\n",
      "[CV] END .......................svr__C=0.8, svr__kernel=poly; total time=   0.1s\n",
      "[CV] END ........................svr__C=0.8, svr__kernel=rbf; total time=   0.1s\n",
      "[CV] END ........................svr__C=0.8, svr__kernel=rbf; total time=   0.1s\n",
      "[CV] END ........................svr__C=0.8, svr__kernel=rbf; total time=   0.1s\n",
      "[CV] END ....................svr__C=0.8, svr__kernel=sigmoid; total time=   0.1s\n",
      "[CV] END ....................svr__C=0.8, svr__kernel=sigmoid; total time=   0.1s\n",
      "[CV] END ....................svr__C=0.8, svr__kernel=sigmoid; total time=   0.1s\n",
      "[CV] END .....................svr__C=0.9, svr__kernel=linear; total time=   0.1s\n",
      "[CV] END .....................svr__C=0.9, svr__kernel=linear; total time=   0.1s\n",
      "[CV] END .....................svr__C=0.9, svr__kernel=linear; total time=   0.1s\n",
      "[CV] END .......................svr__C=0.9, svr__kernel=poly; total time=   0.1s\n",
      "[CV] END .......................svr__C=0.9, svr__kernel=poly; total time=   0.1s\n",
      "[CV] END .......................svr__C=0.9, svr__kernel=poly; total time=   0.1s\n",
      "[CV] END ........................svr__C=0.9, svr__kernel=rbf; total time=   0.1s\n",
      "[CV] END ........................svr__C=0.9, svr__kernel=rbf; total time=   0.1s\n",
      "[CV] END ........................svr__C=0.9, svr__kernel=rbf; total time=   0.1s\n",
      "[CV] END ....................svr__C=0.9, svr__kernel=sigmoid; total time=   0.2s\n",
      "[CV] END ....................svr__C=0.9, svr__kernel=sigmoid; total time=   0.1s\n",
      "[CV] END ....................svr__C=0.9, svr__kernel=sigmoid; total time=   0.1s\n",
      "[CV] END .......................svr__C=1, svr__kernel=linear; total time=   0.1s\n",
      "[CV] END .......................svr__C=1, svr__kernel=linear; total time=   0.1s\n",
      "[CV] END .......................svr__C=1, svr__kernel=linear; total time=   0.1s\n",
      "[CV] END .........................svr__C=1, svr__kernel=poly; total time=   0.1s\n",
      "[CV] END .........................svr__C=1, svr__kernel=poly; total time=   0.1s\n",
      "[CV] END .........................svr__C=1, svr__kernel=poly; total time=   0.1s\n",
      "[CV] END ..........................svr__C=1, svr__kernel=rbf; total time=   0.1s\n",
      "[CV] END ..........................svr__C=1, svr__kernel=rbf; total time=   0.1s\n",
      "[CV] END ..........................svr__C=1, svr__kernel=rbf; total time=   0.1s\n",
      "[CV] END ......................svr__C=1, svr__kernel=sigmoid; total time=   0.1s\n",
      "[CV] END ......................svr__C=1, svr__kernel=sigmoid; total time=   0.1s\n",
      "[CV] END ......................svr__C=1, svr__kernel=sigmoid; total time=   0.1s\n",
      "-6.270901419290422\n",
      "{'svr__C': 1, 'svr__kernel': 'linear'}\n",
      "CPU times: user 8.9 s, sys: 45.5 ms, total: 8.94 s\n",
      "Wall time: 9.06 s\n"
     ]
    }
   ],
   "source": [
    "%%time\n",
    "svr_cv.fit(features_train, target_train)\n",
    "print(svr_cv.best_score_)\n",
    "print(svr_cv.best_params_)"
   ]
  },
  {
   "cell_type": "markdown",
   "id": "103b8068",
   "metadata": {},
   "source": [
    "#### Результат\n",
    "Модель: SVR()\n",
    "\n",
    "MAE при кросс-валидации: 6.27,\n",
    "\n",
    "Гиперпараметры:\n",
    "- C: 1;\n",
    "- kernel: 'linear'\n"
   ]
  },
  {
   "cell_type": "markdown",
   "id": "7cd326f9",
   "metadata": {},
   "source": [
    "### LinearSVR()"
   ]
  },
  {
   "cell_type": "code",
   "execution_count": 80,
   "id": "92ec0c11",
   "metadata": {},
   "outputs": [],
   "source": [
    "linsvr = LinearSVR()\n",
    "scaler = StandardScaler()\n",
    "linsvr_pipe = Pipeline(steps=[('scaler', scaler), ('linsvr', linsvr)])"
   ]
  },
  {
   "cell_type": "code",
   "execution_count": 81,
   "id": "36b39e79",
   "metadata": {},
   "outputs": [],
   "source": [
    "linsvr_grid = {'linsvr__random_state':[130323],\n",
    "               'linsvr__loss':['epsilon_insensitive','squared_epsilon_insensitive'],\n",
    "               'linsvr__C':[0.1, 0.2, 0.3, 0.4, 0.5, 0.6, 0.7, 0.8, 0.9, 1]}"
   ]
  },
  {
   "cell_type": "code",
   "execution_count": 82,
   "id": "aef7484b",
   "metadata": {},
   "outputs": [],
   "source": [
    "linsvr_cv = GridSearchCV(estimator=linsvr_pipe,\n",
    "                         param_grid=linsvr_grid,\n",
    "                         scoring='neg_mean_absolute_error',\n",
    "                         cv=3,\n",
    "                         n_jobs=-1,\n",
    "                         verbose=2)"
   ]
  },
  {
   "cell_type": "code",
   "execution_count": 83,
   "id": "f643c5b7",
   "metadata": {
    "scrolled": true
   },
   "outputs": [
    {
     "name": "stdout",
     "output_type": "stream",
     "text": [
      "Fitting 3 folds for each of 20 candidates, totalling 60 fits\n",
      "[CV] END linsvr__C=0.1, linsvr__loss=epsilon_insensitive, linsvr__random_state=130323; total time=   0.0s\n",
      "[CV] END linsvr__C=0.1, linsvr__loss=epsilon_insensitive, linsvr__random_state=130323; total time=   0.0s\n",
      "[CV] END linsvr__C=0.1, linsvr__loss=epsilon_insensitive, linsvr__random_state=130323; total time=   0.0s\n",
      "[CV] END linsvr__C=0.1, linsvr__loss=squared_epsilon_insensitive, linsvr__random_state=130323; total time=   0.0s\n",
      "[CV] END linsvr__C=0.1, linsvr__loss=squared_epsilon_insensitive, linsvr__random_state=130323; total time=   0.0s\n",
      "[CV] END linsvr__C=0.1, linsvr__loss=squared_epsilon_insensitive, linsvr__random_state=130323; total time=   0.0s\n",
      "[CV] END linsvr__C=0.2, linsvr__loss=epsilon_insensitive, linsvr__random_state=130323; total time=   0.0s\n",
      "[CV] END linsvr__C=0.2, linsvr__loss=epsilon_insensitive, linsvr__random_state=130323; total time=   0.0s\n",
      "[CV] END linsvr__C=0.2, linsvr__loss=epsilon_insensitive, linsvr__random_state=130323; total time=   0.0s\n",
      "[CV] END linsvr__C=0.2, linsvr__loss=squared_epsilon_insensitive, linsvr__random_state=130323; total time=   0.0s\n",
      "[CV] END linsvr__C=0.2, linsvr__loss=squared_epsilon_insensitive, linsvr__random_state=130323; total time=   0.1s\n",
      "[CV] END linsvr__C=0.2, linsvr__loss=squared_epsilon_insensitive, linsvr__random_state=130323; total time=   0.0s\n",
      "[CV] END linsvr__C=0.3, linsvr__loss=epsilon_insensitive, linsvr__random_state=130323; total time=   0.0s\n",
      "[CV] END linsvr__C=0.3, linsvr__loss=epsilon_insensitive, linsvr__random_state=130323; total time=   0.0s\n",
      "[CV] END linsvr__C=0.3, linsvr__loss=epsilon_insensitive, linsvr__random_state=130323; total time=   0.0s\n",
      "[CV] END linsvr__C=0.3, linsvr__loss=squared_epsilon_insensitive, linsvr__random_state=130323; total time=   0.1s\n",
      "[CV] END linsvr__C=0.3, linsvr__loss=squared_epsilon_insensitive, linsvr__random_state=130323; total time=   0.1s\n",
      "[CV] END linsvr__C=0.3, linsvr__loss=squared_epsilon_insensitive, linsvr__random_state=130323; total time=   0.1s\n",
      "[CV] END linsvr__C=0.4, linsvr__loss=epsilon_insensitive, linsvr__random_state=130323; total time=   0.0s\n",
      "[CV] END linsvr__C=0.4, linsvr__loss=epsilon_insensitive, linsvr__random_state=130323; total time=   0.0s\n",
      "[CV] END linsvr__C=0.4, linsvr__loss=epsilon_insensitive, linsvr__random_state=130323; total time=   0.0s\n",
      "[CV] END linsvr__C=0.4, linsvr__loss=squared_epsilon_insensitive, linsvr__random_state=130323; total time=   0.1s\n",
      "[CV] END linsvr__C=0.4, linsvr__loss=squared_epsilon_insensitive, linsvr__random_state=130323; total time=   0.1s\n"
     ]
    },
    {
     "name": "stderr",
     "output_type": "stream",
     "text": [
      "/opt/conda/lib/python3.9/site-packages/sklearn/svm/_base.py:985: ConvergenceWarning: Liblinear failed to converge, increase the number of iterations.\n",
      "  warnings.warn(\"Liblinear failed to converge, increase \"\n",
      "/opt/conda/lib/python3.9/site-packages/sklearn/svm/_base.py:985: ConvergenceWarning: Liblinear failed to converge, increase the number of iterations.\n",
      "  warnings.warn(\"Liblinear failed to converge, increase \"\n",
      "/opt/conda/lib/python3.9/site-packages/sklearn/svm/_base.py:985: ConvergenceWarning: Liblinear failed to converge, increase the number of iterations.\n",
      "  warnings.warn(\"Liblinear failed to converge, increase \"\n"
     ]
    },
    {
     "name": "stdout",
     "output_type": "stream",
     "text": [
      "[CV] END linsvr__C=0.4, linsvr__loss=squared_epsilon_insensitive, linsvr__random_state=130323; total time=   0.1s\n",
      "[CV] END linsvr__C=0.5, linsvr__loss=epsilon_insensitive, linsvr__random_state=130323; total time=   0.0s\n",
      "[CV] END linsvr__C=0.5, linsvr__loss=epsilon_insensitive, linsvr__random_state=130323; total time=   0.0s\n",
      "[CV] END linsvr__C=0.5, linsvr__loss=epsilon_insensitive, linsvr__random_state=130323; total time=   0.0s\n",
      "[CV] END linsvr__C=0.5, linsvr__loss=squared_epsilon_insensitive, linsvr__random_state=130323; total time=   0.1s\n",
      "[CV] END linsvr__C=0.5, linsvr__loss=squared_epsilon_insensitive, linsvr__random_state=130323; total time=   0.1s\n"
     ]
    },
    {
     "name": "stderr",
     "output_type": "stream",
     "text": [
      "/opt/conda/lib/python3.9/site-packages/sklearn/svm/_base.py:985: ConvergenceWarning: Liblinear failed to converge, increase the number of iterations.\n",
      "  warnings.warn(\"Liblinear failed to converge, increase \"\n",
      "/opt/conda/lib/python3.9/site-packages/sklearn/svm/_base.py:985: ConvergenceWarning: Liblinear failed to converge, increase the number of iterations.\n",
      "  warnings.warn(\"Liblinear failed to converge, increase \"\n",
      "/opt/conda/lib/python3.9/site-packages/sklearn/svm/_base.py:985: ConvergenceWarning: Liblinear failed to converge, increase the number of iterations.\n",
      "  warnings.warn(\"Liblinear failed to converge, increase \"\n"
     ]
    },
    {
     "name": "stdout",
     "output_type": "stream",
     "text": [
      "[CV] END linsvr__C=0.5, linsvr__loss=squared_epsilon_insensitive, linsvr__random_state=130323; total time=   0.1s\n",
      "[CV] END linsvr__C=0.6, linsvr__loss=epsilon_insensitive, linsvr__random_state=130323; total time=   0.0s\n",
      "[CV] END linsvr__C=0.6, linsvr__loss=epsilon_insensitive, linsvr__random_state=130323; total time=   0.0s\n",
      "[CV] END linsvr__C=0.6, linsvr__loss=epsilon_insensitive, linsvr__random_state=130323; total time=   0.0s\n",
      "[CV] END linsvr__C=0.6, linsvr__loss=squared_epsilon_insensitive, linsvr__random_state=130323; total time=   0.1s\n",
      "[CV] END linsvr__C=0.6, linsvr__loss=squared_epsilon_insensitive, linsvr__random_state=130323; total time=   0.1s\n"
     ]
    },
    {
     "name": "stderr",
     "output_type": "stream",
     "text": [
      "/opt/conda/lib/python3.9/site-packages/sklearn/svm/_base.py:985: ConvergenceWarning: Liblinear failed to converge, increase the number of iterations.\n",
      "  warnings.warn(\"Liblinear failed to converge, increase \"\n",
      "/opt/conda/lib/python3.9/site-packages/sklearn/svm/_base.py:985: ConvergenceWarning: Liblinear failed to converge, increase the number of iterations.\n",
      "  warnings.warn(\"Liblinear failed to converge, increase \"\n",
      "/opt/conda/lib/python3.9/site-packages/sklearn/svm/_base.py:985: ConvergenceWarning: Liblinear failed to converge, increase the number of iterations.\n",
      "  warnings.warn(\"Liblinear failed to converge, increase \"\n"
     ]
    },
    {
     "name": "stdout",
     "output_type": "stream",
     "text": [
      "[CV] END linsvr__C=0.6, linsvr__loss=squared_epsilon_insensitive, linsvr__random_state=130323; total time=   0.1s\n",
      "[CV] END linsvr__C=0.7, linsvr__loss=epsilon_insensitive, linsvr__random_state=130323; total time=   0.0s\n",
      "[CV] END linsvr__C=0.7, linsvr__loss=epsilon_insensitive, linsvr__random_state=130323; total time=   0.0s\n",
      "[CV] END linsvr__C=0.7, linsvr__loss=epsilon_insensitive, linsvr__random_state=130323; total time=   0.0s\n",
      "[CV] END linsvr__C=0.7, linsvr__loss=squared_epsilon_insensitive, linsvr__random_state=130323; total time=   0.1s\n",
      "[CV] END linsvr__C=0.7, linsvr__loss=squared_epsilon_insensitive, linsvr__random_state=130323; total time=   0.1s\n"
     ]
    },
    {
     "name": "stderr",
     "output_type": "stream",
     "text": [
      "/opt/conda/lib/python3.9/site-packages/sklearn/svm/_base.py:985: ConvergenceWarning: Liblinear failed to converge, increase the number of iterations.\n",
      "  warnings.warn(\"Liblinear failed to converge, increase \"\n",
      "/opt/conda/lib/python3.9/site-packages/sklearn/svm/_base.py:985: ConvergenceWarning: Liblinear failed to converge, increase the number of iterations.\n",
      "  warnings.warn(\"Liblinear failed to converge, increase \"\n",
      "/opt/conda/lib/python3.9/site-packages/sklearn/svm/_base.py:985: ConvergenceWarning: Liblinear failed to converge, increase the number of iterations.\n",
      "  warnings.warn(\"Liblinear failed to converge, increase \"\n"
     ]
    },
    {
     "name": "stdout",
     "output_type": "stream",
     "text": [
      "[CV] END linsvr__C=0.7, linsvr__loss=squared_epsilon_insensitive, linsvr__random_state=130323; total time=   0.1s\n",
      "[CV] END linsvr__C=0.8, linsvr__loss=epsilon_insensitive, linsvr__random_state=130323; total time=   0.0s\n",
      "[CV] END linsvr__C=0.8, linsvr__loss=epsilon_insensitive, linsvr__random_state=130323; total time=   0.0s\n",
      "[CV] END linsvr__C=0.8, linsvr__loss=epsilon_insensitive, linsvr__random_state=130323; total time=   0.0s\n",
      "[CV] END linsvr__C=0.8, linsvr__loss=squared_epsilon_insensitive, linsvr__random_state=130323; total time=   0.1s\n",
      "[CV] END linsvr__C=0.8, linsvr__loss=squared_epsilon_insensitive, linsvr__random_state=130323; total time=   0.1s\n"
     ]
    },
    {
     "name": "stderr",
     "output_type": "stream",
     "text": [
      "/opt/conda/lib/python3.9/site-packages/sklearn/svm/_base.py:985: ConvergenceWarning: Liblinear failed to converge, increase the number of iterations.\n",
      "  warnings.warn(\"Liblinear failed to converge, increase \"\n",
      "/opt/conda/lib/python3.9/site-packages/sklearn/svm/_base.py:985: ConvergenceWarning: Liblinear failed to converge, increase the number of iterations.\n",
      "  warnings.warn(\"Liblinear failed to converge, increase \"\n",
      "/opt/conda/lib/python3.9/site-packages/sklearn/svm/_base.py:985: ConvergenceWarning: Liblinear failed to converge, increase the number of iterations.\n",
      "  warnings.warn(\"Liblinear failed to converge, increase \"\n"
     ]
    },
    {
     "name": "stdout",
     "output_type": "stream",
     "text": [
      "[CV] END linsvr__C=0.8, linsvr__loss=squared_epsilon_insensitive, linsvr__random_state=130323; total time=   0.1s\n",
      "[CV] END linsvr__C=0.9, linsvr__loss=epsilon_insensitive, linsvr__random_state=130323; total time=   0.0s\n",
      "[CV] END linsvr__C=0.9, linsvr__loss=epsilon_insensitive, linsvr__random_state=130323; total time=   0.0s\n",
      "[CV] END linsvr__C=0.9, linsvr__loss=epsilon_insensitive, linsvr__random_state=130323; total time=   0.0s\n",
      "[CV] END linsvr__C=0.9, linsvr__loss=squared_epsilon_insensitive, linsvr__random_state=130323; total time=   0.1s\n",
      "[CV] END linsvr__C=0.9, linsvr__loss=squared_epsilon_insensitive, linsvr__random_state=130323; total time=   0.1s\n"
     ]
    },
    {
     "name": "stderr",
     "output_type": "stream",
     "text": [
      "/opt/conda/lib/python3.9/site-packages/sklearn/svm/_base.py:985: ConvergenceWarning: Liblinear failed to converge, increase the number of iterations.\n",
      "  warnings.warn(\"Liblinear failed to converge, increase \"\n",
      "/opt/conda/lib/python3.9/site-packages/sklearn/svm/_base.py:985: ConvergenceWarning: Liblinear failed to converge, increase the number of iterations.\n",
      "  warnings.warn(\"Liblinear failed to converge, increase \"\n",
      "/opt/conda/lib/python3.9/site-packages/sklearn/svm/_base.py:985: ConvergenceWarning: Liblinear failed to converge, increase the number of iterations.\n",
      "  warnings.warn(\"Liblinear failed to converge, increase \"\n"
     ]
    },
    {
     "name": "stdout",
     "output_type": "stream",
     "text": [
      "[CV] END linsvr__C=0.9, linsvr__loss=squared_epsilon_insensitive, linsvr__random_state=130323; total time=   0.1s\n",
      "[CV] END linsvr__C=1, linsvr__loss=epsilon_insensitive, linsvr__random_state=130323; total time=   0.0s\n",
      "[CV] END linsvr__C=1, linsvr__loss=epsilon_insensitive, linsvr__random_state=130323; total time=   0.0s\n",
      "[CV] END linsvr__C=1, linsvr__loss=epsilon_insensitive, linsvr__random_state=130323; total time=   0.0s\n",
      "[CV] END linsvr__C=1, linsvr__loss=squared_epsilon_insensitive, linsvr__random_state=130323; total time=   0.1s\n",
      "[CV] END linsvr__C=1, linsvr__loss=squared_epsilon_insensitive, linsvr__random_state=130323; total time=   0.1s\n",
      "[CV] END linsvr__C=1, linsvr__loss=squared_epsilon_insensitive, linsvr__random_state=130323; total time=   0.1s\n",
      "-6.270913268369625\n",
      "{'linsvr__C': 1, 'linsvr__loss': 'squared_epsilon_insensitive', 'linsvr__random_state': 130323}\n",
      "CPU times: user 2.41 s, sys: 36.9 ms, total: 2.44 s\n",
      "Wall time: 2.48 s\n"
     ]
    },
    {
     "name": "stderr",
     "output_type": "stream",
     "text": [
      "/opt/conda/lib/python3.9/site-packages/sklearn/svm/_base.py:985: ConvergenceWarning: Liblinear failed to converge, increase the number of iterations.\n",
      "  warnings.warn(\"Liblinear failed to converge, increase \"\n",
      "/opt/conda/lib/python3.9/site-packages/sklearn/svm/_base.py:985: ConvergenceWarning: Liblinear failed to converge, increase the number of iterations.\n",
      "  warnings.warn(\"Liblinear failed to converge, increase \"\n",
      "/opt/conda/lib/python3.9/site-packages/sklearn/svm/_base.py:985: ConvergenceWarning: Liblinear failed to converge, increase the number of iterations.\n",
      "  warnings.warn(\"Liblinear failed to converge, increase \"\n"
     ]
    }
   ],
   "source": [
    "%%time\n",
    "linsvr_cv.fit(features_train, target_train)\n",
    "print(linsvr_cv.best_score_)\n",
    "print(linsvr_cv.best_params_)"
   ]
  },
  {
   "cell_type": "markdown",
   "id": "7b2ed1d7",
   "metadata": {},
   "source": [
    "#### Результат\n",
    "MAE при кросс-валидации: 6.27\n",
    "\n",
    "Гиперпараметры:\n",
    "- С: 1,\n",
    "- loss: 'squared_epsilon_insensitive'."
   ]
  },
  {
   "cell_type": "markdown",
   "id": "ae2ac763",
   "metadata": {},
   "source": [
    "## Тестирование лучшей модели\n",
    "\n",
    "Наименьшей МАЕ при кросс-валидации удалось достичь с помощью моделей SVR и LinearSVR().\n",
    "Одинаковое значение обусловлено тем, что в модели SVR лучший результат достигнут при kernel='linear'.\n",
    "\n",
    "В обоих случаях обучения и кросс-валидация моделей с лучшими гиперпараметрами заняли 0.3 с.\n",
    "\n",
    "Учитывая что результаты равны, далее работаем с одной из моделей - SVR.\n",
    "\n",
    "MAE при кросс-валидации: 6.27;\n",
    "\n",
    "Результат достигнут при гиперпараметрах:\n",
    "\n",
    "C:1,\n",
    "\n",
    "kernel: 'linear'\n",
    "\n",
    "\n",
    "\n",
    "Модель проверена на тестовой выборке:"
   ]
  },
  {
   "cell_type": "code",
   "execution_count": 95,
   "id": "2552ad42",
   "metadata": {
    "scrolled": true
   },
   "outputs": [
    {
     "name": "stdout",
     "output_type": "stream",
     "text": [
      "MAE лучшей модели на тестовой выборке:\n",
      "6.492401643728351\n"
     ]
    }
   ],
   "source": [
    "print('MAE лучшей модели на тестовой выборке:')\n",
    "print(mean_absolute_error(target_test, svr_cv.predict(features_test)))"
   ]
  },
  {
   "cell_type": "markdown",
   "id": "ac1eb7a8",
   "metadata": {},
   "source": [
    "Таким образом, целевая МАЕ на тестовой выборке достигнута, результат составил 6.5 градуса.\n",
    "\n",
    "### Расчёт важности признаков"
   ]
  },
  {
   "cell_type": "code",
   "execution_count": 103,
   "id": "60390d25",
   "metadata": {},
   "outputs": [],
   "source": [
    "# SVR() не имеет встроенной функции feature_importances_, поэтому прибегнем к помощи инструмента\n",
    "# permutation_importance из sklearn и возьмем оттуда средние значения importance \n",
    "\n",
    "importances = permutation_importance(svr_cv, features_train, target_train, scoring='neg_mean_absolute_error')"
   ]
  },
  {
   "cell_type": "code",
   "execution_count": 117,
   "id": "fc940e35",
   "metadata": {
    "scrolled": true
   },
   "outputs": [
    {
     "data": {
      "text/plain": [
       "init_temp        2.249487\n",
       "bulk_3           0.016813\n",
       "bulk_4           0.004454\n",
       "bulk_6           0.313339\n",
       "bulk_12          0.000345\n",
       "bulk_14          0.032054\n",
       "bulk_15          0.086700\n",
       "other_bulk       0.251223\n",
       "wire_1           0.167068\n",
       "wire_2           0.307245\n",
       "other_wire       0.017273\n",
       "gas              0.080869\n",
       "heat_duration    4.024678\n",
       "times_heated     0.370254\n",
       "dtype: float64"
      ]
     },
     "execution_count": 117,
     "metadata": {},
     "output_type": "execute_result"
    }
   ],
   "source": [
    "importances = pd.Series(index=df_processed.columns[1:], data=importances.importances_mean)\n",
    "importances"
   ]
  },
  {
   "cell_type": "code",
   "execution_count": 123,
   "id": "41ce767f",
   "metadata": {},
   "outputs": [
    {
     "data": {
      "image/png": "[encoded data removed]",
      "text/plain": [
       "<Figure size 1008x504 with 1 Axes>"
      ]
     },
     "metadata": {
      "needs_background": "light"
     },
     "output_type": "display_data"
    }
   ],
   "source": [
    "importances.plot(kind='bar', figsize=[14,7], title='mean feature importances')\n",
    "plt.show()"
   ]
  },
  {
   "cell_type": "markdown",
   "id": "85968d07",
   "metadata": {},
   "source": [
    "Наименьшей важностью обладают bulk_3, bulk_4, bulk_12, bulk_14, other_wire. Мы удалим эти показатели и проверим модель еще раз."
   ]
  },
  {
   "cell_type": "code",
   "execution_count": 124,
   "id": "13b2ce39",
   "metadata": {},
   "outputs": [],
   "source": [
    "features_cropped = df_processed.drop(['final_temp','bulk_3','bulk_4', 'bulk_12', 'bulk_14', 'other_wire'], axis=1)"
   ]
  },
  {
   "cell_type": "code",
   "execution_count": 125,
   "id": "1bef503c",
   "metadata": {},
   "outputs": [],
   "source": [
    "features_cropped_train, features_cropped_test = train_test_split(features_cropped, test_size=0.25, random_state=130323)"
   ]
  },
  {
   "cell_type": "code",
   "execution_count": 126,
   "id": "38620922",
   "metadata": {
    "scrolled": true
   },
   "outputs": [
    {
     "name": "stdout",
     "output_type": "stream",
     "text": [
      "Fitting 3 folds for each of 28 candidates, totalling 84 fits\n",
      "[CV] END .....................svr__C=0.1, svr__kernel=linear; total time=   0.1s\n",
      "[CV] END .....................svr__C=0.1, svr__kernel=linear; total time=   0.1s\n",
      "[CV] END .....................svr__C=0.1, svr__kernel=linear; total time=   0.1s\n",
      "[CV] END .......................svr__C=0.1, svr__kernel=poly; total time=   0.1s\n",
      "[CV] END .......................svr__C=0.1, svr__kernel=poly; total time=   0.1s\n",
      "[CV] END .......................svr__C=0.1, svr__kernel=poly; total time=   0.1s\n",
      "[CV] END ........................svr__C=0.1, svr__kernel=rbf; total time=   0.1s\n",
      "[CV] END ........................svr__C=0.1, svr__kernel=rbf; total time=   0.1s\n",
      "[CV] END ........................svr__C=0.1, svr__kernel=rbf; total time=   0.1s\n",
      "[CV] END ....................svr__C=0.1, svr__kernel=sigmoid; total time=   0.2s\n",
      "[CV] END ....................svr__C=0.1, svr__kernel=sigmoid; total time=   0.1s\n",
      "[CV] END ....................svr__C=0.1, svr__kernel=sigmoid; total time=   0.1s\n",
      "[CV] END .....................svr__C=0.5, svr__kernel=linear; total time=   0.1s\n",
      "[CV] END .....................svr__C=0.5, svr__kernel=linear; total time=   0.1s\n",
      "[CV] END .....................svr__C=0.5, svr__kernel=linear; total time=   0.1s\n",
      "[CV] END .......................svr__C=0.5, svr__kernel=poly; total time=   0.1s\n",
      "[CV] END .......................svr__C=0.5, svr__kernel=poly; total time=   0.1s\n",
      "[CV] END .......................svr__C=0.5, svr__kernel=poly; total time=   0.1s\n",
      "[CV] END ........................svr__C=0.5, svr__kernel=rbf; total time=   0.1s\n",
      "[CV] END ........................svr__C=0.5, svr__kernel=rbf; total time=   0.1s\n",
      "[CV] END ........................svr__C=0.5, svr__kernel=rbf; total time=   0.1s\n",
      "[CV] END ....................svr__C=0.5, svr__kernel=sigmoid; total time=   0.1s\n",
      "[CV] END ....................svr__C=0.5, svr__kernel=sigmoid; total time=   0.1s\n",
      "[CV] END ....................svr__C=0.5, svr__kernel=sigmoid; total time=   0.1s\n",
      "[CV] END .....................svr__C=0.6, svr__kernel=linear; total time=   0.1s\n",
      "[CV] END .....................svr__C=0.6, svr__kernel=linear; total time=   0.1s\n",
      "[CV] END .....................svr__C=0.6, svr__kernel=linear; total time=   0.1s\n",
      "[CV] END .......................svr__C=0.6, svr__kernel=poly; total time=   0.1s\n",
      "[CV] END .......................svr__C=0.6, svr__kernel=poly; total time=   0.1s\n",
      "[CV] END .......................svr__C=0.6, svr__kernel=poly; total time=   0.1s\n",
      "[CV] END ........................svr__C=0.6, svr__kernel=rbf; total time=   0.1s\n",
      "[CV] END ........................svr__C=0.6, svr__kernel=rbf; total time=   0.1s\n",
      "[CV] END ........................svr__C=0.6, svr__kernel=rbf; total time=   0.1s\n",
      "[CV] END ....................svr__C=0.6, svr__kernel=sigmoid; total time=   0.1s\n",
      "[CV] END ....................svr__C=0.6, svr__kernel=sigmoid; total time=   0.1s\n",
      "[CV] END ....................svr__C=0.6, svr__kernel=sigmoid; total time=   0.1s\n",
      "[CV] END .....................svr__C=0.7, svr__kernel=linear; total time=   0.1s\n",
      "[CV] END .....................svr__C=0.7, svr__kernel=linear; total time=   0.1s\n",
      "[CV] END .....................svr__C=0.7, svr__kernel=linear; total time=   0.1s\n",
      "[CV] END .......................svr__C=0.7, svr__kernel=poly; total time=   0.1s\n",
      "[CV] END .......................svr__C=0.7, svr__kernel=poly; total time=   0.1s\n",
      "[CV] END .......................svr__C=0.7, svr__kernel=poly; total time=   0.1s\n",
      "[CV] END ........................svr__C=0.7, svr__kernel=rbf; total time=   0.1s\n",
      "[CV] END ........................svr__C=0.7, svr__kernel=rbf; total time=   0.1s\n",
      "[CV] END ........................svr__C=0.7, svr__kernel=rbf; total time=   0.1s\n",
      "[CV] END ....................svr__C=0.7, svr__kernel=sigmoid; total time=   0.1s\n",
      "[CV] END ....................svr__C=0.7, svr__kernel=sigmoid; total time=   0.1s\n",
      "[CV] END ....................svr__C=0.7, svr__kernel=sigmoid; total time=   0.1s\n",
      "[CV] END .....................svr__C=0.8, svr__kernel=linear; total time=   0.1s\n",
      "[CV] END .....................svr__C=0.8, svr__kernel=linear; total time=   0.1s\n",
      "[CV] END .....................svr__C=0.8, svr__kernel=linear; total time=   0.1s\n",
      "[CV] END .......................svr__C=0.8, svr__kernel=poly; total time=   0.1s\n",
      "[CV] END .......................svr__C=0.8, svr__kernel=poly; total time=   0.1s\n",
      "[CV] END .......................svr__C=0.8, svr__kernel=poly; total time=   0.1s\n",
      "[CV] END ........................svr__C=0.8, svr__kernel=rbf; total time=   0.1s\n",
      "[CV] END ........................svr__C=0.8, svr__kernel=rbf; total time=   0.1s\n",
      "[CV] END ........................svr__C=0.8, svr__kernel=rbf; total time=   0.1s\n",
      "[CV] END ....................svr__C=0.8, svr__kernel=sigmoid; total time=   0.1s\n",
      "[CV] END ....................svr__C=0.8, svr__kernel=sigmoid; total time=   0.1s\n",
      "[CV] END ....................svr__C=0.8, svr__kernel=sigmoid; total time=   0.1s\n",
      "[CV] END .....................svr__C=0.9, svr__kernel=linear; total time=   0.1s\n",
      "[CV] END .....................svr__C=0.9, svr__kernel=linear; total time=   0.1s\n",
      "[CV] END .....................svr__C=0.9, svr__kernel=linear; total time=   0.1s\n",
      "[CV] END .......................svr__C=0.9, svr__kernel=poly; total time=   0.1s\n",
      "[CV] END .......................svr__C=0.9, svr__kernel=poly; total time=   0.1s\n",
      "[CV] END .......................svr__C=0.9, svr__kernel=poly; total time=   0.1s\n",
      "[CV] END ........................svr__C=0.9, svr__kernel=rbf; total time=   0.1s\n",
      "[CV] END ........................svr__C=0.9, svr__kernel=rbf; total time=   0.1s\n",
      "[CV] END ........................svr__C=0.9, svr__kernel=rbf; total time=   0.1s\n",
      "[CV] END ....................svr__C=0.9, svr__kernel=sigmoid; total time=   0.1s\n",
      "[CV] END ....................svr__C=0.9, svr__kernel=sigmoid; total time=   0.1s\n",
      "[CV] END ....................svr__C=0.9, svr__kernel=sigmoid; total time=   0.1s\n",
      "[CV] END .......................svr__C=1, svr__kernel=linear; total time=   0.1s\n",
      "[CV] END .......................svr__C=1, svr__kernel=linear; total time=   0.1s\n",
      "[CV] END .......................svr__C=1, svr__kernel=linear; total time=   0.1s\n",
      "[CV] END .........................svr__C=1, svr__kernel=poly; total time=   0.1s\n",
      "[CV] END .........................svr__C=1, svr__kernel=poly; total time=   0.1s\n",
      "[CV] END .........................svr__C=1, svr__kernel=poly; total time=   0.1s\n",
      "[CV] END ..........................svr__C=1, svr__kernel=rbf; total time=   0.1s\n",
      "[CV] END ..........................svr__C=1, svr__kernel=rbf; total time=   0.1s\n",
      "[CV] END ..........................svr__C=1, svr__kernel=rbf; total time=   0.1s\n",
      "[CV] END ......................svr__C=1, svr__kernel=sigmoid; total time=   0.1s\n",
      "[CV] END ......................svr__C=1, svr__kernel=sigmoid; total time=   0.1s\n",
      "[CV] END ......................svr__C=1, svr__kernel=sigmoid; total time=   0.1s\n",
      "-6.284675703770762\n",
      "{'svr__C': 1, 'svr__kernel': 'linear'}\n"
     ]
    }
   ],
   "source": [
    "svr_cv.fit(features_cropped_train, target_train)\n",
    "print(svr_cv.best_score_)\n",
    "print(svr_cv.best_params_)"
   ]
  },
  {
   "cell_type": "code",
   "execution_count": 127,
   "id": "369049a8",
   "metadata": {},
   "outputs": [
    {
     "name": "stdout",
     "output_type": "stream",
     "text": [
      "6.458496703544524\n"
     ]
    }
   ],
   "source": [
    "print(mean_absolute_error(target_test, svr_cv.predict(features_cropped_test)))"
   ]
  },
  {
   "cell_type": "code",
   "execution_count": 129,
   "id": "68fbaed7",
   "metadata": {},
   "outputs": [
    {
     "data": {
      "text/plain": [
       "Index(['init_temp', 'bulk_6', 'bulk_15', 'other_bulk', 'wire_1', 'wire_2',\n",
       "       'gas', 'heat_duration', 'times_heated'],\n",
       "      dtype='object')"
      ]
     },
     "execution_count": 129,
     "metadata": {},
     "output_type": "execute_result"
    }
   ],
   "source": [
    "features_cropped.columns"
   ]
  },
  {
   "cell_type": "markdown",
   "id": "61993098",
   "metadata": {},
   "source": [
    "При удалении ряда признаков удалось сохранить целевой уровень MAE.\n",
    "\n",
    "Итого: \n",
    "\n",
    "MAE на тестовой выборке 6.46;\n",
    "\n",
    "Список признаков:\n",
    "- init_temp\n",
    "- bulk_6\n",
    "- bulk_15\n",
    "- other_bulk\n",
    "- wire_1\n",
    "- wire_2\n",
    "- gas\n",
    "- heat_duration\n",
    "- times_heated\n"
   ]
  },
  {
   "cell_type": "markdown",
   "id": "877c9088",
   "metadata": {},
   "source": [
    "## Вывод"
   ]
  },
  {
   "cell_type": "markdown",
   "id": "58cc628f",
   "metadata": {},
   "source": [
    "### Цель и задачи работы\n",
    "- Цель: построить модель машинного обучения, предсказывающую температуру стали перед разливкой. Метрика MAE не должна превышать 6.8 градусов.\n",
    "\n",
    "- Задачи работы:\n",
    "    - изучить предоставленные данные;\n",
    "    - провести предварительную обработку и объединение данных;\n",
    "    - выявить в данных обучающие признаки для ML и целевой признак;\n",
    "    - обучить ряд моделей ML;\n",
    "    - выбрать и протестировать лучшую модель.\n",
    "\n",
    "\n",
    "### Материалы и методы\n",
    "Работа выполнена с помощью программного обеспечения JupyterHub средствами Python, библиотек Pandas, Matplotlib, Scikit-learn, LightGBM. В процессе работы использованы данные о различных этапах производства стали, предоставленные заказчиком.\n",
    "\n",
    "### Ход выполнения проекта\n",
    "\n",
    "В процессе работы выполнены следующие шаги:\n",
    "- Выгрузка таблиц и исследование данных;\n",
    "- Предварительная обработка:\n",
    "    - обработка пропусков, аномальных значений;\n",
    "    - приведение типов данных;\n",
    "    - объединение таблиц;\n",
    "    - выявление целевого признака и обучающих признаков;\n",
    "    - расчёт дополнительных обучающих признаков;\n",
    "    - визуализация диаграмм размаха полученных величин;\n",
    "    - разделение данных на обучающую и тестовую выборки;\n",
    "    - корреляционный анализ признаков;\n",
    "- Обучение моделей ML:\n",
    "    - RandomForestRegressor(). Проведен поиск оптимальных гиперпараметров и кросс-валидация с помощью GridSearchCV.\n",
    "    \n",
    "    - LGBMRegressor(). Проведен поиск оптимальных гиперпараметров и кросс-валидация с помощью GridSearchCV.\n",
    "    \n",
    "    - SVR(). Построен объект Pipeline для автоматизации масштабирования данных с помощью StandardScaler, подбор гиперпараметров и кросс-валидация осуществлялись средствами GridSearchCV.\n",
    "\n",
    "    - LinearSVR(). Построен объект Pipeline для автоматизации масштабирования данных с помощью StandardScaler. Подбор гиперпараметров и кросс-валидация осуществлялись средствами GridSearchCV.\n",
    "- Выявление и тестирование лучшей модели;\n",
    "- Анализ важности обучающих признаков.\n",
    "\n",
    "### Результат работы\n",
    "\n",
    "По результатам работы, удалось достичь требуемых значений MAE. \n",
    "- Лучшая модель: SVR() с предварительным масштабированием данных с помощью StandardScaler();\n",
    "\n",
    "- Наименьшая MAE при кросс-валидации: 6.28;\n",
    "\n",
    "- MAE на тестовой выборке: 6.46.\n",
    "\n",
    "Результат достигнут при гиперпараметрах:\n",
    "- С: 1\n",
    "- kernel: 'linear'\n",
    "\n",
    "при обучении на следующем наборе признаков:\n",
    "\n",
    "- init_temp\n",
    "- bulk_6\n",
    "- bulk_15\n",
    "- other_bulk\n",
    "- wire_1\n",
    "- wire_2\n",
    "- gas\n",
    "- heat_duration\n",
    "- times_heated\n",
    "\n",
    "\n",
    "### Практические рекомендации\n",
    "\n",
    "Можно рекомендовать модель SVR() с предварительной обработкой признаков с помощью StandardScaler() и указанными гиперпараметрами для предсказания температуры стали с заданной точностью."
   ]
  },
  {
   "cell_type": "code",
   "execution_count": null,
   "id": "2888fe0f",
   "metadata": {},
   "outputs": [],
   "source": []
  }
 ],
 "metadata": {
  "ExecuteTimeLog": [
   {
    "duration": 69,
    "start_time": "2023-03-19T17:01:30.940Z"
   },
   {
    "duration": 677,
    "start_time": "2023-03-19T17:01:42.547Z"
   },
   {
    "duration": 2,
    "start_time": "2023-03-19T17:01:43.226Z"
   },
   {
    "duration": 11,
    "start_time": "2023-03-19T17:01:43.236Z"
   },
   {
    "duration": 10182,
    "start_time": "2023-03-19T17:01:47.734Z"
   },
   {
    "duration": 5374,
    "start_time": "2023-03-19T17:02:20.956Z"
   },
   {
    "duration": 10418,
    "start_time": "2023-03-19T17:02:48.044Z"
   },
   {
    "duration": 8002,
    "start_time": "2023-03-19T17:04:01.151Z"
   },
   {
    "duration": 3,
    "start_time": "2023-03-19T17:04:23.553Z"
   },
   {
    "duration": 3,
    "start_time": "2023-03-19T17:04:32.733Z"
   },
   {
    "duration": 10,
    "start_time": "2023-03-19T17:04:38.605Z"
   },
   {
    "duration": 721,
    "start_time": "2023-03-19T17:05:20.897Z"
   },
   {
    "duration": 3,
    "start_time": "2023-03-19T17:05:21.620Z"
   },
   {
    "duration": 34,
    "start_time": "2023-03-19T17:05:21.625Z"
   },
   {
    "duration": 8959,
    "start_time": "2023-03-19T17:05:21.661Z"
   },
   {
    "duration": 8,
    "start_time": "2023-03-19T17:05:42.019Z"
   },
   {
    "duration": 37,
    "start_time": "2023-03-19T17:06:00.802Z"
   },
   {
    "duration": 18,
    "start_time": "2023-03-19T17:06:07.439Z"
   },
   {
    "duration": 6,
    "start_time": "2023-03-19T17:10:21.346Z"
   },
   {
    "duration": 5,
    "start_time": "2023-03-19T17:10:24.659Z"
   },
   {
    "duration": 8689,
    "start_time": "2023-03-19T17:10:27.735Z"
   },
   {
    "duration": 11,
    "start_time": "2023-03-19T17:10:40.318Z"
   },
   {
    "duration": 7,
    "start_time": "2023-03-19T17:10:51.625Z"
   },
   {
    "duration": 241,
    "start_time": "2023-03-19T17:13:15.520Z"
   },
   {
    "duration": 21,
    "start_time": "2023-03-19T17:13:17.516Z"
   },
   {
    "duration": 7590,
    "start_time": "2023-03-19T17:13:19.421Z"
   },
   {
    "duration": 10,
    "start_time": "2023-03-19T18:17:33.917Z"
   },
   {
    "duration": 243,
    "start_time": "2023-03-19T18:19:44.759Z"
   },
   {
    "duration": 5,
    "start_time": "2023-03-19T18:19:46.470Z"
   },
   {
    "duration": 7327,
    "start_time": "2023-03-19T18:19:48.242Z"
   },
   {
    "duration": 13,
    "start_time": "2023-03-19T18:32:32.779Z"
   },
   {
    "duration": 59,
    "start_time": "2023-03-19T18:33:34.884Z"
   },
   {
    "duration": 25,
    "start_time": "2023-03-19T18:33:41.120Z"
   },
   {
    "duration": 13,
    "start_time": "2023-03-19T18:33:57.021Z"
   },
   {
    "duration": 9,
    "start_time": "2023-03-19T18:34:08.222Z"
   },
   {
    "duration": 15,
    "start_time": "2023-03-19T18:34:13.320Z"
   },
   {
    "duration": 15,
    "start_time": "2023-03-19T18:34:21.322Z"
   },
   {
    "duration": 10,
    "start_time": "2023-03-19T18:34:26.312Z"
   },
   {
    "duration": 7,
    "start_time": "2023-03-19T18:34:29.737Z"
   },
   {
    "duration": 6,
    "start_time": "2023-03-19T18:34:57.476Z"
   },
   {
    "duration": 10,
    "start_time": "2023-03-19T18:35:17.242Z"
   },
   {
    "duration": 7,
    "start_time": "2023-03-19T18:35:23.052Z"
   },
   {
    "duration": 106,
    "start_time": "2023-03-19T18:35:30.842Z"
   },
   {
    "duration": 5,
    "start_time": "2023-03-19T18:35:36.348Z"
   },
   {
    "duration": 13,
    "start_time": "2023-03-19T18:35:41.531Z"
   },
   {
    "duration": 35,
    "start_time": "2023-03-19T18:35:53.276Z"
   },
   {
    "duration": 6,
    "start_time": "2023-03-19T18:35:58.773Z"
   },
   {
    "duration": 11,
    "start_time": "2023-03-19T18:36:13.655Z"
   },
   {
    "duration": 10,
    "start_time": "2023-03-19T18:36:32.344Z"
   },
   {
    "duration": 49,
    "start_time": "2023-03-19T18:36:46.820Z"
   },
   {
    "duration": 6,
    "start_time": "2023-03-19T18:36:52.957Z"
   },
   {
    "duration": 10,
    "start_time": "2023-03-19T18:37:14.138Z"
   },
   {
    "duration": 15,
    "start_time": "2023-03-19T18:37:33.531Z"
   },
   {
    "duration": 12,
    "start_time": "2023-03-19T18:37:43.966Z"
   },
   {
    "duration": 7,
    "start_time": "2023-03-19T18:38:12.852Z"
   },
   {
    "duration": 13,
    "start_time": "2023-03-19T18:38:27.626Z"
   },
   {
    "duration": 16,
    "start_time": "2023-03-19T18:38:31.011Z"
   },
   {
    "duration": 13,
    "start_time": "2023-03-19T18:38:52.117Z"
   },
   {
    "duration": 13,
    "start_time": "2023-03-19T18:39:05.110Z"
   },
   {
    "duration": 16,
    "start_time": "2023-03-19T18:39:46.694Z"
   },
   {
    "duration": 12,
    "start_time": "2023-03-19T18:40:11.537Z"
   },
   {
    "duration": 1135,
    "start_time": "2023-03-19T18:40:40.217Z"
   },
   {
    "duration": 1111,
    "start_time": "2023-03-19T18:40:54.566Z"
   },
   {
    "duration": 1218,
    "start_time": "2023-03-19T18:40:58.445Z"
   },
   {
    "duration": 619,
    "start_time": "2023-03-19T18:41:12.870Z"
   },
   {
    "duration": 590,
    "start_time": "2023-03-19T18:41:28.350Z"
   },
   {
    "duration": 1162,
    "start_time": "2023-03-19T18:41:31.835Z"
   },
   {
    "duration": 14,
    "start_time": "2023-03-19T18:41:48.318Z"
   },
   {
    "duration": 17,
    "start_time": "2023-03-19T18:41:57.418Z"
   },
   {
    "duration": 9,
    "start_time": "2023-03-19T18:42:05.243Z"
   },
   {
    "duration": 9,
    "start_time": "2023-03-19T18:59:14.579Z"
   },
   {
    "duration": 7,
    "start_time": "2023-03-19T19:00:25.556Z"
   },
   {
    "duration": 6,
    "start_time": "2023-03-19T19:01:02.131Z"
   },
   {
    "duration": 14,
    "start_time": "2023-03-19T19:01:13.244Z"
   },
   {
    "duration": 16,
    "start_time": "2023-03-19T19:01:37.840Z"
   },
   {
    "duration": 14,
    "start_time": "2023-03-19T19:01:43.244Z"
   },
   {
    "duration": 17,
    "start_time": "2023-03-19T19:02:15.417Z"
   },
   {
    "duration": 11,
    "start_time": "2023-03-19T19:02:27.438Z"
   },
   {
    "duration": 17,
    "start_time": "2023-03-19T19:02:33.242Z"
   },
   {
    "duration": 133,
    "start_time": "2023-03-19T19:02:47.218Z"
   },
   {
    "duration": 10,
    "start_time": "2023-03-19T19:02:53.734Z"
   },
   {
    "duration": 13,
    "start_time": "2023-03-19T19:03:03.136Z"
   },
   {
    "duration": 7,
    "start_time": "2023-03-19T19:03:07.653Z"
   },
   {
    "duration": 20,
    "start_time": "2023-03-19T19:03:16.541Z"
   },
   {
    "duration": 7,
    "start_time": "2023-03-19T19:03:28.217Z"
   },
   {
    "duration": 9,
    "start_time": "2023-03-19T19:03:36.069Z"
   },
   {
    "duration": 18,
    "start_time": "2023-03-19T19:03:58.310Z"
   },
   {
    "duration": 8,
    "start_time": "2023-03-19T19:16:19.416Z"
   },
   {
    "duration": 263,
    "start_time": "2023-03-19T19:16:23.679Z"
   },
   {
    "duration": 10,
    "start_time": "2023-03-19T19:16:39.951Z"
   },
   {
    "duration": 6,
    "start_time": "2023-03-19T19:18:14.549Z"
   },
   {
    "duration": 13,
    "start_time": "2023-03-19T19:18:33.263Z"
   },
   {
    "duration": 15,
    "start_time": "2023-03-19T19:18:46.253Z"
   },
   {
    "duration": 7,
    "start_time": "2023-03-19T19:24:31.820Z"
   },
   {
    "duration": 583,
    "start_time": "2023-03-19T19:29:37.652Z"
   },
   {
    "duration": 3671,
    "start_time": "2023-03-19T19:29:52.310Z"
   },
   {
    "duration": 2461,
    "start_time": "2023-03-19T19:30:10.261Z"
   },
   {
    "duration": 1431,
    "start_time": "2023-03-19T19:30:31.623Z"
   },
   {
    "duration": 10,
    "start_time": "2023-03-19T19:31:07.965Z"
   },
   {
    "duration": 8,
    "start_time": "2023-03-19T19:31:28.668Z"
   },
   {
    "duration": 2704,
    "start_time": "2023-03-19T19:31:36.341Z"
   },
   {
    "duration": 3645,
    "start_time": "2023-03-19T19:31:50.321Z"
   },
   {
    "duration": 109,
    "start_time": "2023-03-19T19:39:34.047Z"
   },
   {
    "duration": 90,
    "start_time": "2023-03-19T19:39:37.684Z"
   },
   {
    "duration": 82,
    "start_time": "2023-03-19T19:39:41.338Z"
   },
   {
    "duration": 4,
    "start_time": "2023-03-19T19:39:55.652Z"
   },
   {
    "duration": 4,
    "start_time": "2023-03-19T19:40:10.565Z"
   },
   {
    "duration": 9240,
    "start_time": "2023-03-19T19:40:18.787Z"
   },
   {
    "duration": 15,
    "start_time": "2023-03-19T19:41:08.855Z"
   },
   {
    "duration": 5132,
    "start_time": "2023-03-19T19:41:16.469Z"
   },
   {
    "duration": 3587,
    "start_time": "2023-03-19T19:41:56.590Z"
   },
   {
    "duration": 96,
    "start_time": "2023-03-19T19:42:14.385Z"
   },
   {
    "duration": 3552,
    "start_time": "2023-03-19T19:42:32.670Z"
   },
   {
    "duration": 93,
    "start_time": "2023-03-19T19:43:21.631Z"
   },
   {
    "duration": 3508,
    "start_time": "2023-03-19T19:46:00.386Z"
   },
   {
    "duration": 85,
    "start_time": "2023-03-19T19:46:17.558Z"
   },
   {
    "duration": 3400,
    "start_time": "2023-03-19T19:46:31.327Z"
   },
   {
    "duration": 91,
    "start_time": "2023-03-19T19:46:38.709Z"
   },
   {
    "duration": 23,
    "start_time": "2023-03-19T19:46:49.638Z"
   },
   {
    "duration": 735,
    "start_time": "2023-03-19T19:46:59.911Z"
   },
   {
    "duration": 3,
    "start_time": "2023-03-19T19:47:38.026Z"
   },
   {
    "duration": 7,
    "start_time": "2023-03-19T19:48:15.359Z"
   },
   {
    "duration": 6,
    "start_time": "2023-03-19T19:49:01.079Z"
   },
   {
    "duration": 4,
    "start_time": "2023-03-19T19:49:04.949Z"
   },
   {
    "duration": 5,
    "start_time": "2023-03-19T19:49:10.629Z"
   },
   {
    "duration": 8,
    "start_time": "2023-03-19T19:49:13.720Z"
   },
   {
    "duration": 5,
    "start_time": "2023-03-19T19:49:24.149Z"
   },
   {
    "duration": 4,
    "start_time": "2023-03-19T19:49:29.283Z"
   },
   {
    "duration": 4,
    "start_time": "2023-03-19T19:49:36.831Z"
   },
   {
    "duration": 5,
    "start_time": "2023-03-19T19:49:43.121Z"
   },
   {
    "duration": 4,
    "start_time": "2023-03-19T19:49:48.385Z"
   },
   {
    "duration": 4,
    "start_time": "2023-03-19T19:50:01.691Z"
   },
   {
    "duration": 13,
    "start_time": "2023-03-19T19:50:04.718Z"
   },
   {
    "duration": 12,
    "start_time": "2023-03-19T19:50:11.164Z"
   },
   {
    "duration": 709,
    "start_time": "2023-03-19T19:50:22.409Z"
   },
   {
    "duration": 12,
    "start_time": "2023-03-19T19:50:31.157Z"
   },
   {
    "duration": 6,
    "start_time": "2023-03-19T19:50:57.780Z"
   },
   {
    "duration": 5,
    "start_time": "2023-03-19T19:51:17.539Z"
   },
   {
    "duration": 20,
    "start_time": "2023-03-19T19:51:21.518Z"
   },
   {
    "duration": 15,
    "start_time": "2023-03-19T19:52:12.932Z"
   },
   {
    "duration": 6,
    "start_time": "2023-03-19T19:52:38.500Z"
   },
   {
    "duration": 8,
    "start_time": "2023-03-19T19:52:44.363Z"
   },
   {
    "duration": 3854,
    "start_time": "2023-03-19T19:52:52.921Z"
   },
   {
    "duration": 15,
    "start_time": "2023-03-19T19:53:00.328Z"
   },
   {
    "duration": 12,
    "start_time": "2023-03-19T19:53:06.228Z"
   },
   {
    "duration": 9,
    "start_time": "2023-03-19T19:53:18.018Z"
   },
   {
    "duration": 5,
    "start_time": "2023-03-19T19:53:41.282Z"
   },
   {
    "duration": 32,
    "start_time": "2023-03-19T19:53:47.084Z"
   },
   {
    "duration": 6,
    "start_time": "2023-03-19T19:53:59.581Z"
   },
   {
    "duration": 19,
    "start_time": "2023-03-19T19:54:01.137Z"
   },
   {
    "duration": 33,
    "start_time": "2023-03-19T19:54:32.414Z"
   },
   {
    "duration": 36,
    "start_time": "2023-03-19T19:55:21.785Z"
   },
   {
    "duration": 17,
    "start_time": "2023-03-19T19:55:28.580Z"
   },
   {
    "duration": 9,
    "start_time": "2023-03-19T19:55:34.734Z"
   },
   {
    "duration": 1196,
    "start_time": "2023-03-19T20:01:27.487Z"
   },
   {
    "duration": 30,
    "start_time": "2023-03-19T20:07:06.334Z"
   },
   {
    "duration": 16,
    "start_time": "2023-03-19T20:07:27.782Z"
   },
   {
    "duration": 11,
    "start_time": "2023-03-19T20:07:43.046Z"
   },
   {
    "duration": 62,
    "start_time": "2023-03-19T20:11:22.814Z"
   },
   {
    "duration": 7,
    "start_time": "2023-03-19T20:11:26.286Z"
   },
   {
    "duration": 7,
    "start_time": "2023-03-19T20:11:31.440Z"
   },
   {
    "duration": 63,
    "start_time": "2023-03-19T20:11:34.855Z"
   },
   {
    "duration": 14,
    "start_time": "2023-03-19T20:11:43.390Z"
   },
   {
    "duration": 22,
    "start_time": "2023-03-19T20:12:43.742Z"
   },
   {
    "duration": 6,
    "start_time": "2023-03-19T20:12:57.287Z"
   },
   {
    "duration": 9,
    "start_time": "2023-03-19T20:15:00.246Z"
   },
   {
    "duration": 11,
    "start_time": "2023-03-19T20:15:13.054Z"
   },
   {
    "duration": 17,
    "start_time": "2023-03-19T20:15:28.215Z"
   },
   {
    "duration": 6,
    "start_time": "2023-03-19T20:16:02.634Z"
   },
   {
    "duration": 25,
    "start_time": "2023-03-19T20:16:09.038Z"
   },
   {
    "duration": 8,
    "start_time": "2023-03-19T20:16:37.158Z"
   },
   {
    "duration": 635,
    "start_time": "2023-03-19T20:16:51.843Z"
   },
   {
    "duration": 243,
    "start_time": "2023-03-19T20:16:52.479Z"
   },
   {
    "duration": 3,
    "start_time": "2023-03-19T20:16:52.724Z"
   },
   {
    "duration": 7211,
    "start_time": "2023-03-19T20:16:52.729Z"
   },
   {
    "duration": 11,
    "start_time": "2023-03-19T20:16:59.942Z"
   },
   {
    "duration": 7,
    "start_time": "2023-03-19T20:16:59.955Z"
   },
   {
    "duration": 5,
    "start_time": "2023-03-19T20:16:59.963Z"
   },
   {
    "duration": 7098,
    "start_time": "2023-03-19T20:16:59.970Z"
   },
   {
    "duration": 13,
    "start_time": "2023-03-19T20:17:07.069Z"
   },
   {
    "duration": 10,
    "start_time": "2023-03-19T20:17:07.089Z"
   },
   {
    "duration": 34,
    "start_time": "2023-03-19T20:17:07.101Z"
   },
   {
    "duration": 16,
    "start_time": "2023-03-19T20:17:07.136Z"
   },
   {
    "duration": 9,
    "start_time": "2023-03-19T20:17:07.154Z"
   },
   {
    "duration": 15,
    "start_time": "2023-03-19T20:17:07.165Z"
   },
   {
    "duration": 41,
    "start_time": "2023-03-19T20:17:07.182Z"
   },
   {
    "duration": 13,
    "start_time": "2023-03-19T20:17:07.226Z"
   },
   {
    "duration": 7,
    "start_time": "2023-03-19T20:17:13.173Z"
   },
   {
    "duration": 7,
    "start_time": "2023-03-19T20:17:20.874Z"
   },
   {
    "duration": 6,
    "start_time": "2023-03-19T20:17:26.217Z"
   },
   {
    "duration": 6,
    "start_time": "2023-03-19T20:17:28.450Z"
   },
   {
    "duration": 7,
    "start_time": "2023-03-19T20:17:39.918Z"
   },
   {
    "duration": 6,
    "start_time": "2023-03-19T20:17:49.534Z"
   },
   {
    "duration": 25,
    "start_time": "2023-03-19T20:17:54.149Z"
   },
   {
    "duration": 658,
    "start_time": "2023-03-19T20:18:33.683Z"
   },
   {
    "duration": 243,
    "start_time": "2023-03-19T20:18:34.343Z"
   },
   {
    "duration": 8,
    "start_time": "2023-03-19T20:18:34.588Z"
   },
   {
    "duration": 7022,
    "start_time": "2023-03-19T20:18:34.603Z"
   },
   {
    "duration": 10,
    "start_time": "2023-03-19T20:18:41.628Z"
   },
   {
    "duration": 8,
    "start_time": "2023-03-19T20:18:41.640Z"
   },
   {
    "duration": 5,
    "start_time": "2023-03-19T20:18:41.650Z"
   },
   {
    "duration": 6748,
    "start_time": "2023-03-19T20:18:41.656Z"
   },
   {
    "duration": 15,
    "start_time": "2023-03-19T20:18:48.410Z"
   },
   {
    "duration": 7,
    "start_time": "2023-03-19T20:18:48.427Z"
   },
   {
    "duration": 14,
    "start_time": "2023-03-19T20:18:48.435Z"
   },
   {
    "duration": 11,
    "start_time": "2023-03-19T20:18:48.450Z"
   },
   {
    "duration": 9,
    "start_time": "2023-03-19T20:18:48.463Z"
   },
   {
    "duration": 17,
    "start_time": "2023-03-19T20:18:48.494Z"
   },
   {
    "duration": 12,
    "start_time": "2023-03-19T20:18:48.513Z"
   },
   {
    "duration": 6,
    "start_time": "2023-03-19T20:18:48.526Z"
   },
   {
    "duration": 5,
    "start_time": "2023-03-19T20:18:52.046Z"
   },
   {
    "duration": 22,
    "start_time": "2023-03-19T20:18:54.342Z"
   },
   {
    "duration": 19,
    "start_time": "2023-03-19T20:19:15.919Z"
   },
   {
    "duration": 29,
    "start_time": "2023-03-19T20:19:25.758Z"
   },
   {
    "duration": 628,
    "start_time": "2023-03-19T20:20:20.347Z"
   },
   {
    "duration": 221,
    "start_time": "2023-03-19T20:20:20.977Z"
   },
   {
    "duration": 8,
    "start_time": "2023-03-19T20:20:21.203Z"
   },
   {
    "duration": 7257,
    "start_time": "2023-03-19T20:20:21.213Z"
   },
   {
    "duration": 11,
    "start_time": "2023-03-19T20:20:28.472Z"
   },
   {
    "duration": 23,
    "start_time": "2023-03-19T20:20:28.485Z"
   },
   {
    "duration": 15,
    "start_time": "2023-03-19T20:20:28.510Z"
   },
   {
    "duration": 6617,
    "start_time": "2023-03-19T20:20:28.527Z"
   },
   {
    "duration": 13,
    "start_time": "2023-03-19T20:20:35.146Z"
   },
   {
    "duration": 6,
    "start_time": "2023-03-19T20:20:35.162Z"
   },
   {
    "duration": 28,
    "start_time": "2023-03-19T20:20:35.170Z"
   },
   {
    "duration": 26,
    "start_time": "2023-03-19T20:20:35.202Z"
   },
   {
    "duration": 10,
    "start_time": "2023-03-19T20:20:35.231Z"
   },
   {
    "duration": 16,
    "start_time": "2023-03-19T20:20:35.243Z"
   },
   {
    "duration": 6,
    "start_time": "2023-03-19T20:20:42.446Z"
   },
   {
    "duration": 5,
    "start_time": "2023-03-19T20:20:44.517Z"
   },
   {
    "duration": 5,
    "start_time": "2023-03-19T20:20:46.707Z"
   },
   {
    "duration": 44,
    "start_time": "2023-03-19T20:20:48.734Z"
   },
   {
    "duration": 1027,
    "start_time": "2023-03-19T20:21:53.134Z"
   },
   {
    "duration": 1059,
    "start_time": "2023-03-19T20:22:07.878Z"
   },
   {
    "duration": 1023,
    "start_time": "2023-03-19T20:22:25.619Z"
   },
   {
    "duration": 545,
    "start_time": "2023-03-19T20:22:41.431Z"
   },
   {
    "duration": 38,
    "start_time": "2023-03-19T20:23:07.278Z"
   },
   {
    "duration": 23,
    "start_time": "2023-03-19T20:23:37.175Z"
   },
   {
    "duration": 4,
    "start_time": "2023-03-19T20:24:26.268Z"
   },
   {
    "duration": 4,
    "start_time": "2023-03-19T20:25:42.775Z"
   },
   {
    "duration": 16,
    "start_time": "2023-03-19T20:25:48.142Z"
   },
   {
    "duration": 13,
    "start_time": "2023-03-19T20:25:55.886Z"
   },
   {
    "duration": 10,
    "start_time": "2023-03-19T20:27:28.679Z"
   },
   {
    "duration": 13,
    "start_time": "2023-03-19T20:27:33.977Z"
   },
   {
    "duration": 26,
    "start_time": "2023-03-19T20:28:07.686Z"
   },
   {
    "duration": 11,
    "start_time": "2023-03-19T20:38:22.749Z"
   },
   {
    "duration": 6,
    "start_time": "2023-03-19T20:53:59.637Z"
   },
   {
    "duration": 7,
    "start_time": "2023-03-19T20:54:37.589Z"
   },
   {
    "duration": 13,
    "start_time": "2023-03-19T20:55:14.653Z"
   },
   {
    "duration": 12,
    "start_time": "2023-03-19T20:55:47.461Z"
   },
   {
    "duration": 24,
    "start_time": "2023-03-19T20:56:01.086Z"
   },
   {
    "duration": 14,
    "start_time": "2023-03-19T20:56:20.134Z"
   },
   {
    "duration": 16,
    "start_time": "2023-03-19T20:56:51.326Z"
   },
   {
    "duration": 10,
    "start_time": "2023-03-19T20:56:56.238Z"
   },
   {
    "duration": 13,
    "start_time": "2023-03-19T20:57:07.745Z"
   },
   {
    "duration": 18,
    "start_time": "2023-03-19T20:57:11.838Z"
   },
   {
    "duration": 7,
    "start_time": "2023-03-19T20:57:27.647Z"
   },
   {
    "duration": 157,
    "start_time": "2023-03-19T20:57:31.649Z"
   },
   {
    "duration": 20,
    "start_time": "2023-03-19T20:57:48.760Z"
   },
   {
    "duration": 1312,
    "start_time": "2023-03-19T20:58:15.931Z"
   },
   {
    "duration": 11,
    "start_time": "2023-03-19T20:58:29.242Z"
   },
   {
    "duration": 8,
    "start_time": "2023-03-19T20:58:41.516Z"
   },
   {
    "duration": 12,
    "start_time": "2023-03-19T20:59:06.623Z"
   },
   {
    "duration": 16,
    "start_time": "2023-03-19T20:59:10.530Z"
   },
   {
    "duration": 11,
    "start_time": "2023-03-19T20:59:45.764Z"
   },
   {
    "duration": 11,
    "start_time": "2023-03-19T21:00:26.619Z"
   },
   {
    "duration": 35,
    "start_time": "2023-03-19T21:00:30.518Z"
   },
   {
    "duration": 13,
    "start_time": "2023-03-19T21:01:14.445Z"
   },
   {
    "duration": 8,
    "start_time": "2023-03-19T21:01:52.439Z"
   },
   {
    "duration": 12,
    "start_time": "2023-03-19T21:02:00.345Z"
   },
   {
    "duration": 10,
    "start_time": "2023-03-19T21:02:53.984Z"
   },
   {
    "duration": 185,
    "start_time": "2023-03-19T21:03:06.272Z"
   },
   {
    "duration": 22,
    "start_time": "2023-03-19T21:03:58.953Z"
   },
   {
    "duration": 14,
    "start_time": "2023-03-19T21:06:32.341Z"
   },
   {
    "duration": 14,
    "start_time": "2023-03-19T21:06:48.148Z"
   },
   {
    "duration": 17,
    "start_time": "2023-03-19T21:09:24.129Z"
   },
   {
    "duration": 33,
    "start_time": "2023-03-19T21:09:31.906Z"
   },
   {
    "duration": 5,
    "start_time": "2023-03-19T21:13:34.081Z"
   },
   {
    "duration": 6,
    "start_time": "2023-03-19T21:14:53.898Z"
   },
   {
    "duration": 17,
    "start_time": "2023-03-19T21:14:58.250Z"
   },
   {
    "duration": 4,
    "start_time": "2023-03-19T21:15:08.834Z"
   },
   {
    "duration": 32,
    "start_time": "2023-03-19T21:15:10.581Z"
   },
   {
    "duration": 5,
    "start_time": "2023-03-19T21:15:22.883Z"
   },
   {
    "duration": 16,
    "start_time": "2023-03-19T21:15:24.615Z"
   },
   {
    "duration": 5,
    "start_time": "2023-03-19T21:16:03.941Z"
   },
   {
    "duration": 12,
    "start_time": "2023-03-19T21:16:17.235Z"
   },
   {
    "duration": 23,
    "start_time": "2023-03-19T21:22:10.517Z"
   },
   {
    "duration": 13,
    "start_time": "2023-03-19T21:23:31.830Z"
   },
   {
    "duration": 4,
    "start_time": "2023-03-19T21:23:52.046Z"
   },
   {
    "duration": 14,
    "start_time": "2023-03-19T21:23:53.990Z"
   },
   {
    "duration": 3,
    "start_time": "2023-03-19T21:24:17.031Z"
   },
   {
    "duration": 19,
    "start_time": "2023-03-19T21:24:24.286Z"
   },
   {
    "duration": 4,
    "start_time": "2023-03-19T21:24:56.143Z"
   },
   {
    "duration": 26,
    "start_time": "2023-03-19T21:25:04.023Z"
   },
   {
    "duration": 53,
    "start_time": "2023-03-19T21:44:48.612Z"
   },
   {
    "duration": 654,
    "start_time": "2023-03-19T21:45:11.517Z"
   },
   {
    "duration": 247,
    "start_time": "2023-03-19T21:45:12.173Z"
   },
   {
    "duration": 3,
    "start_time": "2023-03-19T21:45:12.422Z"
   },
   {
    "duration": 7038,
    "start_time": "2023-03-19T21:45:12.429Z"
   },
   {
    "duration": 35,
    "start_time": "2023-03-19T21:45:19.469Z"
   },
   {
    "duration": 12,
    "start_time": "2023-03-19T21:45:19.505Z"
   },
   {
    "duration": 9,
    "start_time": "2023-03-19T21:45:19.519Z"
   },
   {
    "duration": 6627,
    "start_time": "2023-03-19T21:45:19.530Z"
   },
   {
    "duration": 14,
    "start_time": "2023-03-19T21:45:26.158Z"
   },
   {
    "duration": 18,
    "start_time": "2023-03-19T21:45:26.174Z"
   },
   {
    "duration": 18,
    "start_time": "2023-03-19T21:45:26.201Z"
   },
   {
    "duration": 11,
    "start_time": "2023-03-19T21:45:26.221Z"
   },
   {
    "duration": 20,
    "start_time": "2023-03-19T21:45:26.235Z"
   },
   {
    "duration": 14,
    "start_time": "2023-03-19T21:45:26.257Z"
   },
   {
    "duration": 34,
    "start_time": "2023-03-19T21:45:26.273Z"
   },
   {
    "duration": 7,
    "start_time": "2023-03-19T21:45:26.309Z"
   },
   {
    "duration": 16,
    "start_time": "2023-03-19T21:45:26.318Z"
   },
   {
    "duration": 14,
    "start_time": "2023-03-19T21:45:26.335Z"
   },
   {
    "duration": 27,
    "start_time": "2023-03-19T21:45:26.351Z"
   },
   {
    "duration": 25,
    "start_time": "2023-03-19T21:45:26.380Z"
   },
   {
    "duration": 30,
    "start_time": "2023-03-19T21:45:26.412Z"
   },
   {
    "duration": 14,
    "start_time": "2023-03-19T21:45:26.444Z"
   },
   {
    "duration": 9,
    "start_time": "2023-03-19T21:45:26.461Z"
   },
   {
    "duration": 6,
    "start_time": "2023-03-19T21:45:26.472Z"
   },
   {
    "duration": 6,
    "start_time": "2023-03-19T21:45:26.480Z"
   },
   {
    "duration": 21,
    "start_time": "2023-03-19T21:45:26.487Z"
   },
   {
    "duration": 19,
    "start_time": "2023-03-19T21:45:26.513Z"
   },
   {
    "duration": 5,
    "start_time": "2023-03-19T21:45:26.535Z"
   },
   {
    "duration": 8,
    "start_time": "2023-03-19T21:45:26.542Z"
   },
   {
    "duration": 15,
    "start_time": "2023-03-19T21:45:26.552Z"
   },
   {
    "duration": 5,
    "start_time": "2023-03-19T21:45:26.569Z"
   },
   {
    "duration": 15,
    "start_time": "2023-03-19T21:45:26.576Z"
   },
   {
    "duration": 35,
    "start_time": "2023-03-19T21:45:26.592Z"
   },
   {
    "duration": 7,
    "start_time": "2023-03-19T21:45:26.628Z"
   },
   {
    "duration": 8,
    "start_time": "2023-03-19T21:45:26.636Z"
   },
   {
    "duration": 13,
    "start_time": "2023-03-19T21:45:26.646Z"
   },
   {
    "duration": 15,
    "start_time": "2023-03-19T21:45:26.661Z"
   },
   {
    "duration": 3,
    "start_time": "2023-03-19T21:45:26.677Z"
   },
   {
    "duration": 14,
    "start_time": "2023-03-19T21:45:26.681Z"
   },
   {
    "duration": 29,
    "start_time": "2023-03-19T21:45:26.697Z"
   },
   {
    "duration": 1526,
    "start_time": "2023-03-19T21:45:26.728Z"
   },
   {
    "duration": 3,
    "start_time": "2023-03-19T21:47:21.279Z"
   },
   {
    "duration": 46,
    "start_time": "2023-03-19T21:47:29.071Z"
   },
   {
    "duration": 26,
    "start_time": "2023-03-19T21:47:40.518Z"
   },
   {
    "duration": 10,
    "start_time": "2023-03-19T21:52:59.066Z"
   },
   {
    "duration": 10,
    "start_time": "2023-03-19T21:53:09.231Z"
   },
   {
    "duration": 1694,
    "start_time": "2023-03-19T21:53:31.368Z"
   },
   {
    "duration": 890,
    "start_time": "2023-03-19T21:59:05.570Z"
   },
   {
    "duration": 50,
    "start_time": "2023-03-19T22:01:04.546Z"
   },
   {
    "duration": 9,
    "start_time": "2023-03-19T22:01:14.516Z"
   },
   {
    "duration": 10,
    "start_time": "2023-03-19T22:01:41.058Z"
   },
   {
    "duration": 4,
    "start_time": "2023-03-19T22:03:00.021Z"
   },
   {
    "duration": 6,
    "start_time": "2023-03-19T22:05:14.223Z"
   },
   {
    "duration": 4,
    "start_time": "2023-03-19T22:05:16.615Z"
   },
   {
    "duration": 1648706,
    "start_time": "2023-03-19T22:06:06.026Z"
   },
   {
    "duration": 3,
    "start_time": "2023-03-19T22:34:38.269Z"
   },
   {
    "duration": 32,
    "start_time": "2023-03-19T22:40:05.848Z"
   },
   {
    "duration": 3,
    "start_time": "2023-03-19T22:42:20.937Z"
   },
   {
    "duration": 3,
    "start_time": "2023-03-19T22:44:47.954Z"
   },
   {
    "duration": 4,
    "start_time": "2023-03-19T22:46:18.314Z"
   },
   {
    "duration": 1163637,
    "start_time": "2023-03-19T22:46:20.451Z"
   },
   {
    "duration": 5,
    "start_time": "2023-03-19T23:09:01.909Z"
   },
   {
    "duration": 3,
    "start_time": "2023-03-19T23:14:37.313Z"
   },
   {
    "duration": 3,
    "start_time": "2023-03-19T23:17:38.586Z"
   },
   {
    "duration": 3,
    "start_time": "2023-03-19T23:17:40.304Z"
   },
   {
    "duration": 2,
    "start_time": "2023-03-19T23:17:42.705Z"
   },
   {
    "duration": 9012,
    "start_time": "2023-03-19T23:18:06.809Z"
   },
   {
    "duration": 3,
    "start_time": "2023-03-19T23:19:13.968Z"
   },
   {
    "duration": 3,
    "start_time": "2023-03-19T23:22:09.009Z"
   },
   {
    "duration": 3,
    "start_time": "2023-03-19T23:22:11.003Z"
   },
   {
    "duration": 3,
    "start_time": "2023-03-19T23:22:12.720Z"
   },
   {
    "duration": 185,
    "start_time": "2023-03-19T23:22:15.153Z"
   },
   {
    "duration": 56,
    "start_time": "2023-03-19T23:24:47.498Z"
   },
   {
    "duration": 62,
    "start_time": "2023-03-19T23:24:51.984Z"
   },
   {
    "duration": 94,
    "start_time": "2023-03-19T23:25:04.223Z"
   },
   {
    "duration": 54,
    "start_time": "2023-03-19T23:25:10.376Z"
   },
   {
    "duration": 3,
    "start_time": "2023-03-19T23:25:19.983Z"
   },
   {
    "duration": 3,
    "start_time": "2023-03-19T23:25:25.359Z"
   },
   {
    "duration": 2138,
    "start_time": "2023-03-19T23:25:27.336Z"
   },
   {
    "duration": 3,
    "start_time": "2023-03-19T23:30:23.102Z"
   },
   {
    "duration": 4,
    "start_time": "2023-03-19T23:30:25.402Z"
   },
   {
    "duration": 45852,
    "start_time": "2023-03-19T23:30:27.359Z"
   },
   {
    "duration": 4,
    "start_time": "2023-03-19T23:32:37.776Z"
   },
   {
    "duration": 3,
    "start_time": "2023-03-19T23:32:39.680Z"
   },
   {
    "duration": 593121,
    "start_time": "2023-03-19T23:32:45.969Z"
   },
   {
    "duration": 4,
    "start_time": "2023-03-19T23:49:24.450Z"
   },
   {
    "duration": 107,
    "start_time": "2023-03-19T23:50:57.139Z"
   },
   {
    "duration": 1594,
    "start_time": "2023-03-20T09:36:04.304Z"
   },
   {
    "duration": 615,
    "start_time": "2023-03-20T09:36:05.901Z"
   },
   {
    "duration": 3,
    "start_time": "2023-03-20T09:36:06.518Z"
   },
   {
    "duration": 7106,
    "start_time": "2023-03-20T09:36:06.523Z"
   },
   {
    "duration": 12,
    "start_time": "2023-03-20T09:36:13.630Z"
   },
   {
    "duration": 19,
    "start_time": "2023-03-20T09:36:13.644Z"
   },
   {
    "duration": 10,
    "start_time": "2023-03-20T09:36:13.664Z"
   },
   {
    "duration": 6495,
    "start_time": "2023-03-20T09:36:13.675Z"
   },
   {
    "duration": 109,
    "start_time": "2023-03-20T09:36:20.172Z"
   },
   {
    "duration": 0,
    "start_time": "2023-03-20T09:36:20.284Z"
   },
   {
    "duration": 0,
    "start_time": "2023-03-20T09:36:20.286Z"
   },
   {
    "duration": 0,
    "start_time": "2023-03-20T09:36:20.287Z"
   },
   {
    "duration": 0,
    "start_time": "2023-03-20T09:36:20.288Z"
   },
   {
    "duration": 0,
    "start_time": "2023-03-20T09:36:20.289Z"
   },
   {
    "duration": 0,
    "start_time": "2023-03-20T09:36:20.290Z"
   },
   {
    "duration": 0,
    "start_time": "2023-03-20T09:36:20.292Z"
   },
   {
    "duration": 0,
    "start_time": "2023-03-20T09:36:20.293Z"
   },
   {
    "duration": 0,
    "start_time": "2023-03-20T09:36:20.294Z"
   },
   {
    "duration": 0,
    "start_time": "2023-03-20T09:36:20.295Z"
   },
   {
    "duration": 0,
    "start_time": "2023-03-20T09:36:20.296Z"
   },
   {
    "duration": 0,
    "start_time": "2023-03-20T09:36:20.297Z"
   },
   {
    "duration": 0,
    "start_time": "2023-03-20T09:36:20.299Z"
   },
   {
    "duration": 0,
    "start_time": "2023-03-20T09:36:20.300Z"
   },
   {
    "duration": 0,
    "start_time": "2023-03-20T09:36:20.301Z"
   },
   {
    "duration": 0,
    "start_time": "2023-03-20T09:36:20.302Z"
   },
   {
    "duration": 0,
    "start_time": "2023-03-20T09:36:20.303Z"
   },
   {
    "duration": 0,
    "start_time": "2023-03-20T09:36:20.304Z"
   },
   {
    "duration": 0,
    "start_time": "2023-03-20T09:36:20.305Z"
   },
   {
    "duration": 0,
    "start_time": "2023-03-20T09:36:20.307Z"
   },
   {
    "duration": 0,
    "start_time": "2023-03-20T09:36:20.308Z"
   },
   {
    "duration": 0,
    "start_time": "2023-03-20T09:36:20.309Z"
   },
   {
    "duration": 0,
    "start_time": "2023-03-20T09:36:20.311Z"
   },
   {
    "duration": 0,
    "start_time": "2023-03-20T09:36:20.312Z"
   },
   {
    "duration": 0,
    "start_time": "2023-03-20T09:36:20.313Z"
   },
   {
    "duration": 0,
    "start_time": "2023-03-20T09:36:20.314Z"
   },
   {
    "duration": 0,
    "start_time": "2023-03-20T09:36:20.362Z"
   },
   {
    "duration": 0,
    "start_time": "2023-03-20T09:36:20.364Z"
   },
   {
    "duration": 0,
    "start_time": "2023-03-20T09:36:20.365Z"
   },
   {
    "duration": 0,
    "start_time": "2023-03-20T09:36:20.366Z"
   },
   {
    "duration": 0,
    "start_time": "2023-03-20T09:36:20.367Z"
   },
   {
    "duration": 0,
    "start_time": "2023-03-20T09:36:20.368Z"
   },
   {
    "duration": 0,
    "start_time": "2023-03-20T09:36:20.369Z"
   },
   {
    "duration": 0,
    "start_time": "2023-03-20T09:36:20.371Z"
   },
   {
    "duration": 5,
    "start_time": "2023-03-20T09:37:13.953Z"
   },
   {
    "duration": 4,
    "start_time": "2023-03-20T09:37:24.244Z"
   },
   {
    "duration": 198,
    "start_time": "2023-03-20T09:37:24.250Z"
   },
   {
    "duration": 5,
    "start_time": "2023-03-20T09:37:24.449Z"
   },
   {
    "duration": 7163,
    "start_time": "2023-03-20T09:37:24.455Z"
   },
   {
    "duration": 12,
    "start_time": "2023-03-20T09:37:31.619Z"
   },
   {
    "duration": 42,
    "start_time": "2023-03-20T09:37:31.634Z"
   },
   {
    "duration": 27,
    "start_time": "2023-03-20T09:37:31.677Z"
   },
   {
    "duration": 6522,
    "start_time": "2023-03-20T09:37:31.706Z"
   },
   {
    "duration": 16,
    "start_time": "2023-03-20T09:37:38.230Z"
   },
   {
    "duration": 18,
    "start_time": "2023-03-20T09:37:38.248Z"
   },
   {
    "duration": 18,
    "start_time": "2023-03-20T09:37:38.268Z"
   },
   {
    "duration": 36,
    "start_time": "2023-03-20T09:37:38.288Z"
   },
   {
    "duration": 10,
    "start_time": "2023-03-20T09:37:38.326Z"
   },
   {
    "duration": 15,
    "start_time": "2023-03-20T09:37:38.338Z"
   },
   {
    "duration": 6,
    "start_time": "2023-03-20T09:37:38.361Z"
   },
   {
    "duration": 5,
    "start_time": "2023-03-20T09:37:38.369Z"
   },
   {
    "duration": 8,
    "start_time": "2023-03-20T09:37:38.375Z"
   },
   {
    "duration": 10,
    "start_time": "2023-03-20T09:37:38.385Z"
   },
   {
    "duration": 15,
    "start_time": "2023-03-20T09:37:38.397Z"
   },
   {
    "duration": 6,
    "start_time": "2023-03-20T09:37:38.414Z"
   },
   {
    "duration": 13,
    "start_time": "2023-03-20T09:37:38.421Z"
   },
   {
    "duration": 11,
    "start_time": "2023-03-20T09:37:38.461Z"
   },
   {
    "duration": 6,
    "start_time": "2023-03-20T09:37:38.474Z"
   },
   {
    "duration": 4,
    "start_time": "2023-03-20T09:37:38.482Z"
   },
   {
    "duration": 6,
    "start_time": "2023-03-20T09:37:38.488Z"
   },
   {
    "duration": 5,
    "start_time": "2023-03-20T09:37:38.496Z"
   },
   {
    "duration": 11,
    "start_time": "2023-03-20T09:37:38.503Z"
   },
   {
    "duration": 7,
    "start_time": "2023-03-20T09:37:38.516Z"
   },
   {
    "duration": 5,
    "start_time": "2023-03-20T09:37:38.560Z"
   },
   {
    "duration": 12,
    "start_time": "2023-03-20T09:37:38.567Z"
   },
   {
    "duration": 9,
    "start_time": "2023-03-20T09:37:38.580Z"
   },
   {
    "duration": 13,
    "start_time": "2023-03-20T09:37:38.591Z"
   },
   {
    "duration": 13,
    "start_time": "2023-03-20T09:37:38.605Z"
   },
   {
    "duration": 10,
    "start_time": "2023-03-20T09:37:38.620Z"
   },
   {
    "duration": 32,
    "start_time": "2023-03-20T09:37:38.632Z"
   },
   {
    "duration": 12,
    "start_time": "2023-03-20T09:37:38.666Z"
   },
   {
    "duration": 13,
    "start_time": "2023-03-20T09:37:38.680Z"
   },
   {
    "duration": 3,
    "start_time": "2023-03-20T09:37:38.695Z"
   },
   {
    "duration": 12,
    "start_time": "2023-03-20T09:37:38.700Z"
   },
   {
    "duration": 7,
    "start_time": "2023-03-20T09:37:38.714Z"
   },
   {
    "duration": 1773,
    "start_time": "2023-03-20T09:37:38.723Z"
   },
   {
    "duration": 5,
    "start_time": "2023-03-20T09:37:40.500Z"
   },
   {
    "duration": 17,
    "start_time": "2023-03-20T09:37:47.648Z"
   },
   {
    "duration": 1717,
    "start_time": "2023-03-20T09:37:52.481Z"
   },
   {
    "duration": 8,
    "start_time": "2023-03-20T09:38:12.216Z"
   },
   {
    "duration": 2,
    "start_time": "2023-03-20T09:38:57.121Z"
   },
   {
    "duration": 4,
    "start_time": "2023-03-20T09:38:58.928Z"
   },
   {
    "duration": 18500,
    "start_time": "2023-03-20T09:39:02.092Z"
   },
   {
    "duration": 3,
    "start_time": "2023-03-20T09:39:44.049Z"
   },
   {
    "duration": 3,
    "start_time": "2023-03-20T09:39:46.502Z"
   },
   {
    "duration": 1360,
    "start_time": "2023-03-20T09:39:49.209Z"
   },
   {
    "duration": 3,
    "start_time": "2023-03-20T09:40:11.841Z"
   },
   {
    "duration": 4,
    "start_time": "2023-03-20T09:40:13.744Z"
   },
   {
    "duration": 3,
    "start_time": "2023-03-20T09:40:15.681Z"
   },
   {
    "duration": 8800,
    "start_time": "2023-03-20T09:40:17.809Z"
   },
   {
    "duration": 3,
    "start_time": "2023-03-20T09:40:43.515Z"
   },
   {
    "duration": 3,
    "start_time": "2023-03-20T09:40:45.313Z"
   },
   {
    "duration": 3,
    "start_time": "2023-03-20T09:40:47.021Z"
   },
   {
    "duration": 2864,
    "start_time": "2023-03-20T09:40:48.938Z"
   },
   {
    "duration": 3,
    "start_time": "2023-03-20T09:41:38.414Z"
   },
   {
    "duration": 4,
    "start_time": "2023-03-20T09:41:40.464Z"
   },
   {
    "duration": 198151,
    "start_time": "2023-03-20T09:41:43.415Z"
   },
   {
    "duration": 3,
    "start_time": "2023-03-20T09:46:28.763Z"
   },
   {
    "duration": 3,
    "start_time": "2023-03-20T09:46:31.251Z"
   },
   {
    "duration": 373746,
    "start_time": "2023-03-20T09:46:34.819Z"
   },
   {
    "duration": 102,
    "start_time": "2023-03-20T10:00:55.222Z"
   },
   {
    "duration": 16,
    "start_time": "2023-03-20T10:01:03.013Z"
   },
   {
    "duration": 2632,
    "start_time": "2023-03-20T12:14:37.962Z"
   },
   {
    "duration": 539,
    "start_time": "2023-03-20T12:14:40.596Z"
   },
   {
    "duration": 2,
    "start_time": "2023-03-20T12:14:41.137Z"
   },
   {
    "duration": 5422,
    "start_time": "2023-03-20T12:14:41.141Z"
   },
   {
    "duration": 11,
    "start_time": "2023-03-20T12:14:46.564Z"
   },
   {
    "duration": 8,
    "start_time": "2023-03-20T12:14:46.576Z"
   },
   {
    "duration": 5,
    "start_time": "2023-03-20T12:14:46.586Z"
   },
   {
    "duration": 6098,
    "start_time": "2023-03-20T12:14:46.592Z"
   },
   {
    "duration": 10,
    "start_time": "2023-03-20T12:14:52.691Z"
   },
   {
    "duration": 6,
    "start_time": "2023-03-20T12:14:52.703Z"
   },
   {
    "duration": 10,
    "start_time": "2023-03-20T12:14:52.724Z"
   },
   {
    "duration": 23,
    "start_time": "2023-03-20T12:14:52.736Z"
   },
   {
    "duration": 14,
    "start_time": "2023-03-20T12:14:52.761Z"
   },
   {
    "duration": 16,
    "start_time": "2023-03-20T12:14:52.776Z"
   },
   {
    "duration": 6,
    "start_time": "2023-03-20T12:14:52.793Z"
   },
   {
    "duration": 4,
    "start_time": "2023-03-20T12:14:57.575Z"
   },
   {
    "duration": 6,
    "start_time": "2023-03-20T12:14:58.043Z"
   },
   {
    "duration": 4,
    "start_time": "2023-03-20T12:14:58.409Z"
   },
   {
    "duration": 10,
    "start_time": "2023-03-20T12:14:58.877Z"
   },
   {
    "duration": 5,
    "start_time": "2023-03-20T12:14:59.425Z"
   },
   {
    "duration": 12,
    "start_time": "2023-03-20T12:14:59.602Z"
   },
   {
    "duration": 11,
    "start_time": "2023-03-20T12:15:00.974Z"
   },
   {
    "duration": 5,
    "start_time": "2023-03-20T12:15:01.316Z"
   },
   {
    "duration": 4,
    "start_time": "2023-03-20T12:15:01.493Z"
   },
   {
    "duration": 4,
    "start_time": "2023-03-20T12:15:01.649Z"
   },
   {
    "duration": 5,
    "start_time": "2023-03-20T12:15:01.999Z"
   },
   {
    "duration": 9,
    "start_time": "2023-03-20T12:15:02.182Z"
   },
   {
    "duration": 5,
    "start_time": "2023-03-20T12:15:02.550Z"
   },
   {
    "duration": 3,
    "start_time": "2023-03-20T12:15:03.087Z"
   },
   {
    "duration": 9,
    "start_time": "2023-03-20T12:15:03.254Z"
   },
   {
    "duration": 5,
    "start_time": "2023-03-20T12:15:03.414Z"
   },
   {
    "duration": 13,
    "start_time": "2023-03-20T12:15:03.761Z"
   },
   {
    "duration": 10,
    "start_time": "2023-03-20T12:15:04.108Z"
   },
   {
    "duration": 4,
    "start_time": "2023-03-20T12:15:04.454Z"
   },
   {
    "duration": 4,
    "start_time": "2023-03-20T12:15:04.637Z"
   },
   {
    "duration": 9,
    "start_time": "2023-03-20T12:15:04.803Z"
   },
   {
    "duration": 13,
    "start_time": "2023-03-20T12:15:05.199Z"
   },
   {
    "duration": 2,
    "start_time": "2023-03-20T12:15:05.351Z"
   },
   {
    "duration": 9,
    "start_time": "2023-03-20T12:15:05.527Z"
   },
   {
    "duration": 6,
    "start_time": "2023-03-20T12:15:05.859Z"
   },
   {
    "duration": 1214,
    "start_time": "2023-03-20T12:15:06.711Z"
   },
   {
    "duration": 4,
    "start_time": "2023-03-20T12:15:07.927Z"
   },
   {
    "duration": 13,
    "start_time": "2023-03-20T12:15:07.932Z"
   },
   {
    "duration": 9,
    "start_time": "2023-03-20T12:15:25.864Z"
   },
   {
    "duration": 1305,
    "start_time": "2023-03-20T12:15:26.589Z"
   },
   {
    "duration": 7,
    "start_time": "2023-03-20T12:15:29.650Z"
   },
   {
    "duration": 8,
    "start_time": "2023-03-20T12:16:30.876Z"
   },
   {
    "duration": 27,
    "start_time": "2023-03-20T12:16:46.627Z"
   },
   {
    "duration": 8,
    "start_time": "2023-03-20T12:25:35.455Z"
   },
   {
    "duration": 2,
    "start_time": "2023-03-20T12:25:40.703Z"
   },
   {
    "duration": 3,
    "start_time": "2023-03-20T12:25:41.217Z"
   },
   {
    "duration": 14952,
    "start_time": "2023-03-20T12:25:42.323Z"
   },
   {
    "duration": 7,
    "start_time": "2023-03-20T12:26:49.806Z"
   },
   {
    "duration": 8,
    "start_time": "2023-03-20T12:26:52.255Z"
   },
   {
    "duration": 45282,
    "start_time": "2023-03-20T12:27:02.301Z"
   },
   {
    "duration": 3,
    "start_time": "2023-03-20T12:27:53.744Z"
   },
   {
    "duration": 3,
    "start_time": "2023-03-20T12:27:54.418Z"
   },
   {
    "duration": 4,
    "start_time": "2023-03-20T12:27:55.410Z"
   },
   {
    "duration": 7913,
    "start_time": "2023-03-20T12:27:56.411Z"
   },
   {
    "duration": 3,
    "start_time": "2023-03-20T12:28:24.306Z"
   },
   {
    "duration": 3,
    "start_time": "2023-03-20T12:28:25.053Z"
   },
   {
    "duration": 4,
    "start_time": "2023-03-20T12:28:26.647Z"
   },
   {
    "duration": 2271,
    "start_time": "2023-03-20T12:28:31.935Z"
   },
   {
    "duration": 14,
    "start_time": "2023-03-20T12:28:44.894Z"
   },
   {
    "duration": 62,
    "start_time": "2023-03-21T12:48:03.485Z"
   },
   {
    "duration": 1674,
    "start_time": "2023-03-21T12:48:07.156Z"
   },
   {
    "duration": 623,
    "start_time": "2023-03-21T12:48:08.832Z"
   },
   {
    "duration": 3,
    "start_time": "2023-03-21T12:48:09.457Z"
   },
   {
    "duration": 8151,
    "start_time": "2023-03-21T12:48:09.462Z"
   },
   {
    "duration": 13,
    "start_time": "2023-03-21T12:48:17.615Z"
   },
   {
    "duration": 40,
    "start_time": "2023-03-21T12:48:17.629Z"
   },
   {
    "duration": 30,
    "start_time": "2023-03-21T12:48:17.671Z"
   },
   {
    "duration": 7384,
    "start_time": "2023-03-21T12:48:17.707Z"
   },
   {
    "duration": 20,
    "start_time": "2023-03-21T12:48:25.093Z"
   },
   {
    "duration": 30,
    "start_time": "2023-03-21T12:48:25.117Z"
   },
   {
    "duration": 39,
    "start_time": "2023-03-21T12:48:25.149Z"
   },
   {
    "duration": 51,
    "start_time": "2023-03-21T12:48:25.190Z"
   },
   {
    "duration": 80,
    "start_time": "2023-03-21T12:48:25.243Z"
   },
   {
    "duration": 50,
    "start_time": "2023-03-21T12:48:25.324Z"
   },
   {
    "duration": 60,
    "start_time": "2023-03-21T12:48:25.376Z"
   },
   {
    "duration": 32,
    "start_time": "2023-03-21T12:48:25.437Z"
   },
   {
    "duration": 59,
    "start_time": "2023-03-21T12:48:25.471Z"
   },
   {
    "duration": 44,
    "start_time": "2023-03-21T12:48:25.532Z"
   },
   {
    "duration": 52,
    "start_time": "2023-03-21T12:48:25.579Z"
   },
   {
    "duration": 20,
    "start_time": "2023-03-21T12:48:25.633Z"
   },
   {
    "duration": 39,
    "start_time": "2023-03-21T12:48:25.656Z"
   },
   {
    "duration": 38,
    "start_time": "2023-03-21T12:48:25.701Z"
   },
   {
    "duration": 36,
    "start_time": "2023-03-21T12:48:25.742Z"
   },
   {
    "duration": 33,
    "start_time": "2023-03-21T12:48:25.780Z"
   },
   {
    "duration": 28,
    "start_time": "2023-03-21T12:48:25.815Z"
   },
   {
    "duration": 30,
    "start_time": "2023-03-21T12:48:25.845Z"
   },
   {
    "duration": 43,
    "start_time": "2023-03-21T12:48:25.877Z"
   },
   {
    "duration": 15,
    "start_time": "2023-03-21T12:48:25.926Z"
   },
   {
    "duration": 30,
    "start_time": "2023-03-21T12:48:25.943Z"
   },
   {
    "duration": 46,
    "start_time": "2023-03-21T12:48:25.975Z"
   },
   {
    "duration": 57,
    "start_time": "2023-03-21T12:48:26.022Z"
   },
   {
    "duration": 60,
    "start_time": "2023-03-21T12:48:26.081Z"
   },
   {
    "duration": 40,
    "start_time": "2023-03-21T12:48:26.143Z"
   },
   {
    "duration": 40,
    "start_time": "2023-03-21T12:48:26.185Z"
   },
   {
    "duration": 50,
    "start_time": "2023-03-21T12:48:26.227Z"
   },
   {
    "duration": 77,
    "start_time": "2023-03-21T12:48:26.279Z"
   },
   {
    "duration": 55,
    "start_time": "2023-03-21T12:48:26.358Z"
   },
   {
    "duration": 22,
    "start_time": "2023-03-21T12:48:26.415Z"
   },
   {
    "duration": 26,
    "start_time": "2023-03-21T12:48:26.439Z"
   },
   {
    "duration": 39,
    "start_time": "2023-03-21T12:48:26.467Z"
   },
   {
    "duration": 1750,
    "start_time": "2023-03-21T12:48:26.509Z"
   },
   {
    "duration": 6,
    "start_time": "2023-03-21T12:48:28.261Z"
   },
   {
    "duration": 51,
    "start_time": "2023-03-21T12:48:28.269Z"
   },
   {
    "duration": 1759,
    "start_time": "2023-03-21T12:48:28.321Z"
   },
   {
    "duration": 39,
    "start_time": "2023-03-21T12:48:30.081Z"
   },
   {
    "duration": 24,
    "start_time": "2023-03-21T12:48:31.616Z"
   },
   {
    "duration": 29,
    "start_time": "2023-03-21T12:49:51.479Z"
   },
   {
    "duration": 33,
    "start_time": "2023-03-21T12:50:27.231Z"
   },
   {
    "duration": 39,
    "start_time": "2023-03-21T13:08:50.348Z"
   },
   {
    "duration": 143,
    "start_time": "2023-03-21T13:10:07.086Z"
   },
   {
    "duration": 12,
    "start_time": "2023-03-21T13:10:10.611Z"
   },
   {
    "duration": 14,
    "start_time": "2023-03-21T13:10:15.860Z"
   },
   {
    "duration": 85,
    "start_time": "2023-03-21T13:10:37.588Z"
   },
   {
    "duration": 15,
    "start_time": "2023-03-21T13:10:48.580Z"
   },
   {
    "duration": 18,
    "start_time": "2023-03-21T13:12:49.941Z"
   },
   {
    "duration": 390,
    "start_time": "2023-03-21T13:13:18.886Z"
   },
   {
    "duration": 443,
    "start_time": "2023-03-21T13:13:56.813Z"
   },
   {
    "duration": 517,
    "start_time": "2023-03-21T13:14:17.333Z"
   },
   {
    "duration": 530,
    "start_time": "2023-03-21T13:14:59.310Z"
   },
   {
    "duration": 618,
    "start_time": "2023-03-21T13:16:31.542Z"
   },
   {
    "duration": 3,
    "start_time": "2023-03-21T13:24:21.928Z"
   },
   {
    "duration": 10,
    "start_time": "2023-03-21T13:25:19.618Z"
   },
   {
    "duration": 3,
    "start_time": "2023-03-21T13:25:25.456Z"
   },
   {
    "duration": 4,
    "start_time": "2023-03-21T13:25:27.514Z"
   },
   {
    "duration": 19904,
    "start_time": "2023-03-21T13:25:29.713Z"
   },
   {
    "duration": 10,
    "start_time": "2023-03-21T13:27:03.818Z"
   },
   {
    "duration": 21,
    "start_time": "2023-03-21T13:27:03.830Z"
   },
   {
    "duration": 39,
    "start_time": "2023-03-21T13:27:03.852Z"
   },
   {
    "duration": 44,
    "start_time": "2023-03-21T13:27:03.893Z"
   },
   {
    "duration": 1993182,
    "start_time": "2023-03-21T13:27:03.939Z"
   },
   {
    "duration": 4,
    "start_time": "2023-03-21T14:00:17.127Z"
   },
   {
    "duration": 12,
    "start_time": "2023-03-21T14:00:17.133Z"
   },
   {
    "duration": 24,
    "start_time": "2023-03-21T14:00:17.147Z"
   },
   {
    "duration": 2646233,
    "start_time": "2023-03-21T14:00:17.173Z"
   },
   {
    "duration": 3,
    "start_time": "2023-03-21T14:44:23.408Z"
   },
   {
    "duration": 9,
    "start_time": "2023-03-21T14:44:23.413Z"
   },
   {
    "duration": 10,
    "start_time": "2023-03-21T14:44:23.423Z"
   },
   {
    "duration": 9133,
    "start_time": "2023-03-21T14:44:23.435Z"
   },
   {
    "duration": 3,
    "start_time": "2023-03-21T14:44:32.569Z"
   },
   {
    "duration": 22,
    "start_time": "2023-03-21T14:44:32.574Z"
   },
   {
    "duration": 18,
    "start_time": "2023-03-21T14:44:32.597Z"
   },
   {
    "duration": 2511,
    "start_time": "2023-03-21T14:44:32.617Z"
   },
   {
    "duration": 69,
    "start_time": "2023-03-21T14:44:35.130Z"
   },
   {
    "duration": 9,
    "start_time": "2023-03-21T16:31:33.539Z"
   },
   {
    "duration": 9,
    "start_time": "2023-03-21T16:31:39.098Z"
   },
   {
    "duration": 9,
    "start_time": "2023-03-21T16:32:29.250Z"
   },
   {
    "duration": 10,
    "start_time": "2023-03-21T16:33:07.242Z"
   },
   {
    "duration": 9,
    "start_time": "2023-03-21T16:34:18.596Z"
   },
   {
    "duration": 10,
    "start_time": "2023-03-21T16:35:20.336Z"
   },
   {
    "duration": 9,
    "start_time": "2023-03-21T16:37:04.308Z"
   },
   {
    "duration": 14,
    "start_time": "2023-03-21T16:37:41.400Z"
   },
   {
    "duration": 4526,
    "start_time": "2023-03-21T16:37:47.339Z"
   },
   {
    "duration": 6,
    "start_time": "2023-03-21T16:38:23.808Z"
   },
   {
    "duration": 27,
    "start_time": "2023-03-21T16:45:23.645Z"
   },
   {
    "duration": 4496,
    "start_time": "2023-03-21T16:47:24.208Z"
   },
   {
    "duration": 6,
    "start_time": "2023-03-21T16:47:31.006Z"
   },
   {
    "duration": 4512,
    "start_time": "2023-03-21T16:48:28.752Z"
   },
   {
    "duration": 5,
    "start_time": "2023-03-21T16:48:56.895Z"
   },
   {
    "duration": 4,
    "start_time": "2023-03-21T16:49:09.463Z"
   },
   {
    "duration": 4,
    "start_time": "2023-03-21T16:49:12.710Z"
   },
   {
    "duration": 6,
    "start_time": "2023-03-21T16:50:35.151Z"
   },
   {
    "duration": 4526,
    "start_time": "2023-03-21T16:51:43.056Z"
   },
   {
    "duration": 6,
    "start_time": "2023-03-21T16:51:51.408Z"
   },
   {
    "duration": 6,
    "start_time": "2023-03-21T16:52:02.539Z"
   },
   {
    "duration": 6,
    "start_time": "2023-03-21T16:52:05.752Z"
   },
   {
    "duration": 17,
    "start_time": "2023-03-21T16:54:55.906Z"
   },
   {
    "duration": 5,
    "start_time": "2023-03-21T16:55:04.151Z"
   },
   {
    "duration": 21,
    "start_time": "2023-03-21T16:55:10.895Z"
   },
   {
    "duration": 5,
    "start_time": "2023-03-21T16:56:07.260Z"
   },
   {
    "duration": 8580,
    "start_time": "2023-03-21T16:56:46.331Z"
   },
   {
    "duration": 8756,
    "start_time": "2023-03-21T16:57:32.389Z"
   },
   {
    "duration": 184,
    "start_time": "2023-03-21T16:57:56.393Z"
   },
   {
    "duration": 196,
    "start_time": "2023-03-21T16:58:44.110Z"
   },
   {
    "duration": 187,
    "start_time": "2023-03-21T16:58:50.652Z"
   },
   {
    "duration": 10,
    "start_time": "2023-03-21T16:59:48.056Z"
   },
   {
    "duration": 5,
    "start_time": "2023-03-21T16:59:57.181Z"
   },
   {
    "duration": 270,
    "start_time": "2023-03-21T16:59:59.356Z"
   },
   {
    "duration": 18,
    "start_time": "2023-03-21T17:00:45.788Z"
   },
   {
    "duration": 30,
    "start_time": "2023-03-21T17:00:55.208Z"
   },
   {
    "duration": 65,
    "start_time": "2023-03-21T17:01:07.443Z"
   },
   {
    "duration": 254,
    "start_time": "2023-03-21T17:01:10.303Z"
   },
   {
    "duration": 204,
    "start_time": "2023-03-21T17:01:17.490Z"
   },
   {
    "duration": 4,
    "start_time": "2023-03-21T17:02:02.593Z"
   },
   {
    "duration": 6,
    "start_time": "2023-03-21T17:02:04.473Z"
   },
   {
    "duration": 8320,
    "start_time": "2023-03-21T17:02:06.185Z"
   },
   {
    "duration": 23,
    "start_time": "2023-03-21T17:02:17.889Z"
   },
   {
    "duration": 19,
    "start_time": "2023-03-21T17:04:51.204Z"
   },
   {
    "duration": 4,
    "start_time": "2023-03-21T17:04:57.455Z"
   },
   {
    "duration": 1473,
    "start_time": "2023-03-22T08:50:47.262Z"
   },
   {
    "duration": 217,
    "start_time": "2023-03-22T08:50:48.738Z"
   },
   {
    "duration": 4,
    "start_time": "2023-03-22T08:50:48.958Z"
   },
   {
    "duration": 8161,
    "start_time": "2023-03-22T08:50:49.805Z"
   },
   {
    "duration": 13,
    "start_time": "2023-03-22T08:50:57.968Z"
   },
   {
    "duration": 14,
    "start_time": "2023-03-22T08:50:57.983Z"
   },
   {
    "duration": 7,
    "start_time": "2023-03-22T08:50:58.000Z"
   },
   {
    "duration": 7002,
    "start_time": "2023-03-22T08:50:58.009Z"
   },
   {
    "duration": 18,
    "start_time": "2023-03-22T08:51:05.013Z"
   },
   {
    "duration": 9,
    "start_time": "2023-03-22T08:51:05.033Z"
   },
   {
    "duration": 60,
    "start_time": "2023-03-22T08:51:05.044Z"
   },
   {
    "duration": 18,
    "start_time": "2023-03-22T08:51:05.107Z"
   },
   {
    "duration": 14,
    "start_time": "2023-03-22T08:51:05.129Z"
   },
   {
    "duration": 24,
    "start_time": "2023-03-22T08:51:05.145Z"
   },
   {
    "duration": 13,
    "start_time": "2023-03-22T08:51:05.171Z"
   },
   {
    "duration": 8,
    "start_time": "2023-03-22T08:51:05.186Z"
   },
   {
    "duration": 13,
    "start_time": "2023-03-22T08:51:05.196Z"
   },
   {
    "duration": 7,
    "start_time": "2023-03-22T08:51:05.211Z"
   },
   {
    "duration": 39,
    "start_time": "2023-03-22T08:51:05.220Z"
   },
   {
    "duration": 12,
    "start_time": "2023-03-22T08:51:05.261Z"
   },
   {
    "duration": 14,
    "start_time": "2023-03-22T08:51:05.275Z"
   },
   {
    "duration": 31,
    "start_time": "2023-03-22T08:51:05.292Z"
   },
   {
    "duration": 8,
    "start_time": "2023-03-22T08:51:05.326Z"
   },
   {
    "duration": 8,
    "start_time": "2023-03-22T08:51:05.336Z"
   },
   {
    "duration": 15,
    "start_time": "2023-03-22T08:51:05.346Z"
   },
   {
    "duration": 6,
    "start_time": "2023-03-22T08:51:05.365Z"
   },
   {
    "duration": 25,
    "start_time": "2023-03-22T08:51:05.375Z"
   },
   {
    "duration": 30,
    "start_time": "2023-03-22T08:51:05.402Z"
   },
   {
    "duration": 23,
    "start_time": "2023-03-22T08:51:05.434Z"
   },
   {
    "duration": 15,
    "start_time": "2023-03-22T08:51:05.459Z"
   },
   {
    "duration": 16,
    "start_time": "2023-03-22T08:51:05.478Z"
   },
   {
    "duration": 20,
    "start_time": "2023-03-22T08:51:05.496Z"
   },
   {
    "duration": 18,
    "start_time": "2023-03-22T08:51:05.518Z"
   },
   {
    "duration": 27,
    "start_time": "2023-03-22T08:51:05.539Z"
   },
   {
    "duration": 31,
    "start_time": "2023-03-22T08:51:05.568Z"
   },
   {
    "duration": 40,
    "start_time": "2023-03-22T08:51:05.601Z"
   },
   {
    "duration": 33,
    "start_time": "2023-03-22T08:51:05.643Z"
   },
   {
    "duration": 4,
    "start_time": "2023-03-22T08:51:05.678Z"
   },
   {
    "duration": 17,
    "start_time": "2023-03-22T08:51:05.685Z"
   },
   {
    "duration": 9,
    "start_time": "2023-03-22T08:51:05.704Z"
   },
   {
    "duration": 1733,
    "start_time": "2023-03-22T08:51:07.207Z"
   },
   {
    "duration": 20,
    "start_time": "2023-03-22T08:51:08.942Z"
   },
   {
    "duration": 14,
    "start_time": "2023-03-22T08:51:11.741Z"
   },
   {
    "duration": 1817,
    "start_time": "2023-03-22T08:51:11.923Z"
   },
   {
    "duration": 51,
    "start_time": "2023-03-22T08:51:13.742Z"
   },
   {
    "duration": 18,
    "start_time": "2023-03-22T08:54:06.444Z"
   },
   {
    "duration": 706,
    "start_time": "2023-03-22T08:54:07.330Z"
   },
   {
    "duration": 5,
    "start_time": "2023-03-22T08:54:08.880Z"
   },
   {
    "duration": 13,
    "start_time": "2023-03-22T08:54:12.391Z"
   },
   {
    "duration": 5,
    "start_time": "2023-03-22T08:54:14.096Z"
   },
   {
    "duration": 2,
    "start_time": "2023-03-22T08:54:14.704Z"
   },
   {
    "duration": 4,
    "start_time": "2023-03-22T08:54:15.407Z"
   }
  ],
  "kernelspec": {
   "display_name": "Python 3 (ipykernel)",
   "language": "python",
   "name": "python3"
  },
  "language_info": {
   "codemirror_mode": {
    "name": "ipython",
    "version": 3
   },
   "file_extension": ".py",
   "mimetype": "text/x-python",
   "name": "python",
   "nbconvert_exporter": "python",
   "pygments_lexer": "ipython3",
   "version": "3.9.13"
  },
  "toc": {
   "base_numbering": 1,
   "nav_menu": {},
   "number_sections": true,
   "sideBar": true,
   "skip_h1_title": true,
   "title_cell": "Table of Contents",
   "title_sidebar": "Contents",
   "toc_cell": false,
   "toc_position": {
    "height": "calc(100% - 180px)",
    "left": "10px",
    "top": "150px",
    "width": "230.516px"
   },
   "toc_section_display": true,
   "toc_window_display": true
  }
 },
 "nbformat": 4,
 "nbformat_minor": 5
}
