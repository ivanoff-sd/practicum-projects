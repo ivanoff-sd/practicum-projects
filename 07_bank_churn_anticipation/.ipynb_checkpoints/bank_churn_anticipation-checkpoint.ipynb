{
 "cells": [
  {
   "cell_type": "markdown",
   "metadata": {
    "toc": true
   },
   "source": [
    "<h1>Содержание<span class=\"tocSkip\"></span></h1>\n",
    "<div class=\"toc\"><ul class=\"toc-item\"><li><span><a href=\"#Описание-проекта\" data-toc-modified-id=\"Описание-проекта-1\"><span class=\"toc-item-num\">1&nbsp;&nbsp;</span>Описание проекта</a></span><ul class=\"toc-item\"><li><span><a href=\"#Цель-исследования\" data-toc-modified-id=\"Цель-исследования-1.1\"><span class=\"toc-item-num\">1.1&nbsp;&nbsp;</span>Цель исследования</a></span></li><li><span><a href=\"#Задачи-исследования\" data-toc-modified-id=\"Задачи-исследования-1.2\"><span class=\"toc-item-num\">1.2&nbsp;&nbsp;</span>Задачи исследования</a></span></li><li><span><a href=\"#Информация-о-датасете\" data-toc-modified-id=\"Информация-о-датасете-1.3\"><span class=\"toc-item-num\">1.3&nbsp;&nbsp;</span>Информация о датасете</a></span></li></ul></li><li><span><a href=\"#Подготовка-данных\" data-toc-modified-id=\"Подготовка-данных-2\"><span class=\"toc-item-num\">2&nbsp;&nbsp;</span>Подготовка данных</a></span><ul class=\"toc-item\"><li><span><a href=\"#Импорт-библиотек\" data-toc-modified-id=\"Импорт-библиотек-2.1\"><span class=\"toc-item-num\">2.1&nbsp;&nbsp;</span>Импорт библиотек</a></span></li><li><span><a href=\"#Чтение-и-исследование-датасета\" data-toc-modified-id=\"Чтение-и-исследование-датасета-2.2\"><span class=\"toc-item-num\">2.2&nbsp;&nbsp;</span>Чтение и исследование датасета</a></span></li><li><span><a href=\"#Исследование-пропусков-в-данных\" data-toc-modified-id=\"Исследование-пропусков-в-данных-2.3\"><span class=\"toc-item-num\">2.3&nbsp;&nbsp;</span>Исследование пропусков в данных</a></span></li><li><span><a href=\"#Заполнение-пропусков\" data-toc-modified-id=\"Заполнение-пропусков-2.4\"><span class=\"toc-item-num\">2.4&nbsp;&nbsp;</span>Заполнение пропусков</a></span></li><li><span><a href=\"#Поиск-дубликатов\" data-toc-modified-id=\"Поиск-дубликатов-2.5\"><span class=\"toc-item-num\">2.5&nbsp;&nbsp;</span>Поиск дубликатов</a></span></li><li><span><a href=\"#Преобразование-датасета-и-кодирование-признаков\" data-toc-modified-id=\"Преобразование-датасета-и-кодирование-признаков-2.6\"><span class=\"toc-item-num\">2.6&nbsp;&nbsp;</span>Преобразование датасета и кодирование признаков</a></span></li><li><span><a href=\"#Разделение-на-обучающую,-валидационную-и-тестовую-выборки\" data-toc-modified-id=\"Разделение-на-обучающую,-валидационную-и-тестовую-выборки-2.7\"><span class=\"toc-item-num\">2.7&nbsp;&nbsp;</span>Разделение на обучающую, валидационную и тестовую выборки</a></span></li><li><span><a href=\"#Масштабирование-данных\" data-toc-modified-id=\"Масштабирование-данных-2.8\"><span class=\"toc-item-num\">2.8&nbsp;&nbsp;</span>Масштабирование данных</a></span></li></ul></li><li><span><a href=\"#Исследование-задачи\" data-toc-modified-id=\"Исследование-задачи-3\"><span class=\"toc-item-num\">3&nbsp;&nbsp;</span>Исследование задачи</a></span><ul class=\"toc-item\"><li><span><a href=\"#Объявление-функций\" data-toc-modified-id=\"Объявление-функций-3.1\"><span class=\"toc-item-num\">3.1&nbsp;&nbsp;</span>Объявление функций</a></span></li></ul></li><li><span><a href=\"#Обучение-моделей\" data-toc-modified-id=\"Обучение-моделей-4\"><span class=\"toc-item-num\">4&nbsp;&nbsp;</span>Обучение моделей</a></span><ul class=\"toc-item\"><li><span><a href=\"#Без-учёта-баланса-классов\" data-toc-modified-id=\"Без-учёта-баланса-классов-4.1\"><span class=\"toc-item-num\">4.1&nbsp;&nbsp;</span>Без учёта баланса классов</a></span><ul class=\"toc-item\"><li><span><a href=\"#Результаты\" data-toc-modified-id=\"Результаты-4.1.1\"><span class=\"toc-item-num\">4.1.1&nbsp;&nbsp;</span>Результаты</a></span></li></ul></li></ul></li><li><span><a href=\"#Борьба-с-дисбалансом\" data-toc-modified-id=\"Борьба-с-дисбалансом-5\"><span class=\"toc-item-num\">5&nbsp;&nbsp;</span>Борьба с дисбалансом</a></span><ul class=\"toc-item\"><li><span><a href=\"#Используем-аргумент-class_weight='balanced'\" data-toc-modified-id=\"Используем-аргумент-class_weight='balanced'-5.1\"><span class=\"toc-item-num\">5.1&nbsp;&nbsp;</span>Используем аргумент class_weight='balanced'</a></span><ul class=\"toc-item\"><li><span><a href=\"#Результаты\" data-toc-modified-id=\"Результаты-5.1.1\"><span class=\"toc-item-num\">5.1.1&nbsp;&nbsp;</span>Результаты</a></span></li></ul></li><li><span><a href=\"#Устранение-дисбаланса-классов-методом-upsampling\" data-toc-modified-id=\"Устранение-дисбаланса-классов-методом-upsampling-5.2\"><span class=\"toc-item-num\">5.2&nbsp;&nbsp;</span>Устранение дисбаланса классов методом upsampling</a></span><ul class=\"toc-item\"><li><span><a href=\"#Преобразование-выборки\" data-toc-modified-id=\"Преобразование-выборки-5.2.1\"><span class=\"toc-item-num\">5.2.1&nbsp;&nbsp;</span>Преобразование выборки</a></span></li><li><span><a href=\"#Применение-моделей-машинного-обучения\" data-toc-modified-id=\"Применение-моделей-машинного-обучения-5.2.2\"><span class=\"toc-item-num\">5.2.2&nbsp;&nbsp;</span>Применение моделей машинного обучения</a></span></li><li><span><a href=\"#Результаты\" data-toc-modified-id=\"Результаты-5.2.3\"><span class=\"toc-item-num\">5.2.3&nbsp;&nbsp;</span>Результаты</a></span></li></ul></li><li><span><a href=\"#Устранение-дисбаланса-методом-downsampling\" data-toc-modified-id=\"Устранение-дисбаланса-методом-downsampling-5.3\"><span class=\"toc-item-num\">5.3&nbsp;&nbsp;</span>Устранение дисбаланса методом downsampling</a></span><ul class=\"toc-item\"><li><span><a href=\"#Применение-моделей\" data-toc-modified-id=\"Применение-моделей-5.3.1\"><span class=\"toc-item-num\">5.3.1&nbsp;&nbsp;</span>Применение моделей</a></span></li><li><span><a href=\"#Результаты\" data-toc-modified-id=\"Результаты-5.3.2\"><span class=\"toc-item-num\">5.3.2&nbsp;&nbsp;</span>Результаты</a></span></li></ul></li></ul></li><li><span><a href=\"#Тестирование-модели\" data-toc-modified-id=\"Тестирование-модели-6\"><span class=\"toc-item-num\">6&nbsp;&nbsp;</span>Тестирование модели</a></span><ul class=\"toc-item\"><li><span><a href=\"#ROC-кривая-лучшей-модели\" data-toc-modified-id=\"ROC-кривая-лучшей-модели-6.1\"><span class=\"toc-item-num\">6.1&nbsp;&nbsp;</span>ROC-кривая лучшей модели</a></span></li></ul></li><li><span><a href=\"#Выводы\" data-toc-modified-id=\"Выводы-7\"><span class=\"toc-item-num\">7&nbsp;&nbsp;</span>Выводы</a></span><ul class=\"toc-item\"><li><span><a href=\"#Цель-исследования\" data-toc-modified-id=\"Цель-исследования-7.1\"><span class=\"toc-item-num\">7.1&nbsp;&nbsp;</span>Цель исследования</a></span></li><li><span><a href=\"#Задачи-исследования\" data-toc-modified-id=\"Задачи-исследования-7.2\"><span class=\"toc-item-num\">7.2&nbsp;&nbsp;</span>Задачи исследования</a></span></li><li><span><a href=\"#Материалы-и-методы\" data-toc-modified-id=\"Материалы-и-методы-7.3\"><span class=\"toc-item-num\">7.3&nbsp;&nbsp;</span>Материалы и методы</a></span></li><li><span><a href=\"#Ход-исследования\" data-toc-modified-id=\"Ход-исследования-7.4\"><span class=\"toc-item-num\">7.4&nbsp;&nbsp;</span>Ход исследования</a></span></li><li><span><a href=\"#Результаты-исследования\" data-toc-modified-id=\"Результаты-исследования-7.5\"><span class=\"toc-item-num\">7.5&nbsp;&nbsp;</span>Результаты исследования</a></span></li></ul></li></ul></div>"
   ]
  },
  {
   "cell_type": "markdown",
   "metadata": {},
   "source": [
    "## Описание проекта\n",
    "Из «Бета-Банка» стали уходить клиенты. Каждый месяц. Немного, но заметно. Банковские маркетологи посчитали: сохранять текущих клиентов дешевле, чем привлекать новых.\n",
    "\n",
    "### Цель исследования\n",
    "Спрогнозировать, уйдёт клиент из банка в ближайшее время или нет, используя исторические данные о поведении клиентов и расторжении договоров с банком.\n",
    "\n",
    "### Задачи исследования\n",
    "\n",
    "- Изучить датасет и провести предварительную обработку данных;\n",
    "- Выполнить преобразование данных в соответствии с требованиями машинного обучения;\n",
    "- Исследовать баланс классов;\n",
    "- Обучить модели ML с учётом данных о балансе классов;\n",
    "- Измерить F1-меру и AUC-ROC полученных моделей. Выбрать оптимальную модель;\n",
    "- Протестировать модель на тестовой выборке, требуемое значение F1-меры не менее 0.59.\n",
    "\n",
    "\n",
    "### Информация о датасете\n",
    "Данные о поведении банковских клиентов получены из открытых источников. В наличии следующие признаки:\n",
    "\n",
    "- RowNumber — индекс строки в данных\n",
    "- CustomerId — уникальный идентификатор клиента\n",
    "- Surname — фамилия\n",
    "- CreditScore — кредитный рейтинг\n",
    "- Geography — страна проживания\n",
    "- Gender — пол\n",
    "- Age — возраст\n",
    "- Tenure — сколько лет человек является клиентом банка\n",
    "- Balance — баланс на счёте\n",
    "- NumOfProducts — количество продуктов банка, используемых клиентом\n",
    "- HasCrCard — наличие кредитной карты\n",
    "- IsActiveMember — активность клиента\n",
    "- EstimatedSalary — предполагаемая зарплата\n",
    "\n",
    "Целевой признак\n",
    "- Exited — факт ухода клиента"
   ]
  },
  {
   "cell_type": "markdown",
   "metadata": {},
   "source": [
    "## Подготовка данных\n",
    "### Импорт библиотек"
   ]
  },
  {
   "cell_type": "code",
   "execution_count": 27,
   "metadata": {},
   "outputs": [],
   "source": [
    "import pandas as pd\n",
    "import matplotlib.pyplot as plt\n",
    "from sklearn.model_selection import train_test_split\n",
    "from sklearn.tree import DecisionTreeClassifier\n",
    "from sklearn.ensemble import RandomForestClassifier\n",
    "from sklearn.linear_model import LogisticRegression\n",
    "from sklearn.metrics import f1_score\n",
    "from sklearn.metrics import roc_auc_score\n",
    "from sklearn.utils import shuffle\n",
    "from sklearn.preprocessing import StandardScaler\n",
    "from sklearn.metrics import roc_curve"
   ]
  },
  {
   "cell_type": "markdown",
   "metadata": {},
   "source": [
    "### Чтение и исследование датасета"
   ]
  },
  {
   "cell_type": "code",
   "execution_count": 2,
   "metadata": {
    "scrolled": false
   },
   "outputs": [
    {
     "name": "stdout",
     "output_type": "stream",
     "text": [
      "<class 'pandas.core.frame.DataFrame'>\n",
      "RangeIndex: 10000 entries, 0 to 9999\n",
      "Data columns (total 14 columns):\n",
      " #   Column           Non-Null Count  Dtype  \n",
      "---  ------           --------------  -----  \n",
      " 0   RowNumber        10000 non-null  int64  \n",
      " 1   CustomerId       10000 non-null  int64  \n",
      " 2   Surname          10000 non-null  object \n",
      " 3   CreditScore      10000 non-null  int64  \n",
      " 4   Geography        10000 non-null  object \n",
      " 5   Gender           10000 non-null  object \n",
      " 6   Age              10000 non-null  int64  \n",
      " 7   Tenure           9091 non-null   float64\n",
      " 8   Balance          10000 non-null  float64\n",
      " 9   NumOfProducts    10000 non-null  int64  \n",
      " 10  HasCrCard        10000 non-null  int64  \n",
      " 11  IsActiveMember   10000 non-null  int64  \n",
      " 12  EstimatedSalary  10000 non-null  float64\n",
      " 13  Exited           10000 non-null  int64  \n",
      "dtypes: float64(3), int64(8), object(3)\n",
      "memory usage: 1.1+ MB\n"
     ]
    }
   ],
   "source": [
    "data = pd.read_csv('/datasets/Churn.csv')\n",
    "data.info()\n",
    "\n"
   ]
  },
  {
   "cell_type": "code",
   "execution_count": 3,
   "metadata": {
    "scrolled": true
   },
   "outputs": [
    {
     "data": {
      "text/html": [
       "<div>\n",
       "<style scoped>\n",
       "    .dataframe tbody tr th:only-of-type {\n",
       "        vertical-align: middle;\n",
       "    }\n",
       "\n",
       "    .dataframe tbody tr th {\n",
       "        vertical-align: top;\n",
       "    }\n",
       "\n",
       "    .dataframe thead th {\n",
       "        text-align: right;\n",
       "    }\n",
       "</style>\n",
       "<table border=\"1\" class=\"dataframe\">\n",
       "  <thead>\n",
       "    <tr style=\"text-align: right;\">\n",
       "      <th></th>\n",
       "      <th>RowNumber</th>\n",
       "      <th>CustomerId</th>\n",
       "      <th>CreditScore</th>\n",
       "      <th>Age</th>\n",
       "      <th>Tenure</th>\n",
       "      <th>Balance</th>\n",
       "      <th>NumOfProducts</th>\n",
       "      <th>HasCrCard</th>\n",
       "      <th>IsActiveMember</th>\n",
       "      <th>EstimatedSalary</th>\n",
       "      <th>Exited</th>\n",
       "    </tr>\n",
       "  </thead>\n",
       "  <tbody>\n",
       "    <tr>\n",
       "      <th>count</th>\n",
       "      <td>10000.00000</td>\n",
       "      <td>1.000000e+04</td>\n",
       "      <td>10000.000000</td>\n",
       "      <td>10000.000000</td>\n",
       "      <td>9091.000000</td>\n",
       "      <td>10000.000000</td>\n",
       "      <td>10000.000000</td>\n",
       "      <td>10000.00000</td>\n",
       "      <td>10000.000000</td>\n",
       "      <td>10000.000000</td>\n",
       "      <td>10000.000000</td>\n",
       "    </tr>\n",
       "    <tr>\n",
       "      <th>mean</th>\n",
       "      <td>5000.50000</td>\n",
       "      <td>1.569094e+07</td>\n",
       "      <td>650.528800</td>\n",
       "      <td>38.921800</td>\n",
       "      <td>4.997690</td>\n",
       "      <td>76485.889288</td>\n",
       "      <td>1.530200</td>\n",
       "      <td>0.70550</td>\n",
       "      <td>0.515100</td>\n",
       "      <td>100090.239881</td>\n",
       "      <td>0.203700</td>\n",
       "    </tr>\n",
       "    <tr>\n",
       "      <th>std</th>\n",
       "      <td>2886.89568</td>\n",
       "      <td>7.193619e+04</td>\n",
       "      <td>96.653299</td>\n",
       "      <td>10.487806</td>\n",
       "      <td>2.894723</td>\n",
       "      <td>62397.405202</td>\n",
       "      <td>0.581654</td>\n",
       "      <td>0.45584</td>\n",
       "      <td>0.499797</td>\n",
       "      <td>57510.492818</td>\n",
       "      <td>0.402769</td>\n",
       "    </tr>\n",
       "    <tr>\n",
       "      <th>min</th>\n",
       "      <td>1.00000</td>\n",
       "      <td>1.556570e+07</td>\n",
       "      <td>350.000000</td>\n",
       "      <td>18.000000</td>\n",
       "      <td>0.000000</td>\n",
       "      <td>0.000000</td>\n",
       "      <td>1.000000</td>\n",
       "      <td>0.00000</td>\n",
       "      <td>0.000000</td>\n",
       "      <td>11.580000</td>\n",
       "      <td>0.000000</td>\n",
       "    </tr>\n",
       "    <tr>\n",
       "      <th>25%</th>\n",
       "      <td>2500.75000</td>\n",
       "      <td>1.562853e+07</td>\n",
       "      <td>584.000000</td>\n",
       "      <td>32.000000</td>\n",
       "      <td>2.000000</td>\n",
       "      <td>0.000000</td>\n",
       "      <td>1.000000</td>\n",
       "      <td>0.00000</td>\n",
       "      <td>0.000000</td>\n",
       "      <td>51002.110000</td>\n",
       "      <td>0.000000</td>\n",
       "    </tr>\n",
       "    <tr>\n",
       "      <th>50%</th>\n",
       "      <td>5000.50000</td>\n",
       "      <td>1.569074e+07</td>\n",
       "      <td>652.000000</td>\n",
       "      <td>37.000000</td>\n",
       "      <td>5.000000</td>\n",
       "      <td>97198.540000</td>\n",
       "      <td>1.000000</td>\n",
       "      <td>1.00000</td>\n",
       "      <td>1.000000</td>\n",
       "      <td>100193.915000</td>\n",
       "      <td>0.000000</td>\n",
       "    </tr>\n",
       "    <tr>\n",
       "      <th>75%</th>\n",
       "      <td>7500.25000</td>\n",
       "      <td>1.575323e+07</td>\n",
       "      <td>718.000000</td>\n",
       "      <td>44.000000</td>\n",
       "      <td>7.000000</td>\n",
       "      <td>127644.240000</td>\n",
       "      <td>2.000000</td>\n",
       "      <td>1.00000</td>\n",
       "      <td>1.000000</td>\n",
       "      <td>149388.247500</td>\n",
       "      <td>0.000000</td>\n",
       "    </tr>\n",
       "    <tr>\n",
       "      <th>max</th>\n",
       "      <td>10000.00000</td>\n",
       "      <td>1.581569e+07</td>\n",
       "      <td>850.000000</td>\n",
       "      <td>92.000000</td>\n",
       "      <td>10.000000</td>\n",
       "      <td>250898.090000</td>\n",
       "      <td>4.000000</td>\n",
       "      <td>1.00000</td>\n",
       "      <td>1.000000</td>\n",
       "      <td>199992.480000</td>\n",
       "      <td>1.000000</td>\n",
       "    </tr>\n",
       "  </tbody>\n",
       "</table>\n",
       "</div>"
      ],
      "text/plain": [
       "         RowNumber    CustomerId   CreditScore           Age       Tenure  \\\n",
       "count  10000.00000  1.000000e+04  10000.000000  10000.000000  9091.000000   \n",
       "mean    5000.50000  1.569094e+07    650.528800     38.921800     4.997690   \n",
       "std     2886.89568  7.193619e+04     96.653299     10.487806     2.894723   \n",
       "min        1.00000  1.556570e+07    350.000000     18.000000     0.000000   \n",
       "25%     2500.75000  1.562853e+07    584.000000     32.000000     2.000000   \n",
       "50%     5000.50000  1.569074e+07    652.000000     37.000000     5.000000   \n",
       "75%     7500.25000  1.575323e+07    718.000000     44.000000     7.000000   \n",
       "max    10000.00000  1.581569e+07    850.000000     92.000000    10.000000   \n",
       "\n",
       "             Balance  NumOfProducts    HasCrCard  IsActiveMember  \\\n",
       "count   10000.000000   10000.000000  10000.00000    10000.000000   \n",
       "mean    76485.889288       1.530200      0.70550        0.515100   \n",
       "std     62397.405202       0.581654      0.45584        0.499797   \n",
       "min         0.000000       1.000000      0.00000        0.000000   \n",
       "25%         0.000000       1.000000      0.00000        0.000000   \n",
       "50%     97198.540000       1.000000      1.00000        1.000000   \n",
       "75%    127644.240000       2.000000      1.00000        1.000000   \n",
       "max    250898.090000       4.000000      1.00000        1.000000   \n",
       "\n",
       "       EstimatedSalary        Exited  \n",
       "count     10000.000000  10000.000000  \n",
       "mean     100090.239881      0.203700  \n",
       "std       57510.492818      0.402769  \n",
       "min          11.580000      0.000000  \n",
       "25%       51002.110000      0.000000  \n",
       "50%      100193.915000      0.000000  \n",
       "75%      149388.247500      0.000000  \n",
       "max      199992.480000      1.000000  "
      ]
     },
     "execution_count": 3,
     "metadata": {},
     "output_type": "execute_result"
    }
   ],
   "source": [
    "data.describe()"
   ]
  },
  {
   "cell_type": "code",
   "execution_count": 4,
   "metadata": {
    "scrolled": false
   },
   "outputs": [
    {
     "data": {
      "image/png": "[encoded data removed]",
      "text/plain": [
       "<Figure size 1224x1080 with 9 Axes>"
      ]
     },
     "metadata": {
      "needs_background": "light"
     },
     "output_type": "display_data"
    }
   ],
   "source": [
    "data.drop(['RowNumber', 'CustomerId'], axis=1).hist(figsize=[17,15], bins=50);"
   ]
  },
  {
   "cell_type": "markdown",
   "metadata": {},
   "source": [
    "При исследовании датасета выявлено следующее:\n",
    "- в столбце 'Tenure' есть пропуски;\n",
    "- очевидных выбросов и ошибок в данных не определяется;\n",
    "- отмечен дисбаланс классов целевого признака: положительный класс составляет 20.4%"
   ]
  },
  {
   "cell_type": "markdown",
   "metadata": {},
   "source": [
    "### Исследование пропусков в данных\n",
    "\n",
    "Исследуем строки с пропущенным 'Tenure' и распределение целевого признака по значениям 'Tenure' для выявления возможных закономерностей. "
   ]
  },
  {
   "cell_type": "code",
   "execution_count": 5,
   "metadata": {
    "scrolled": false
   },
   "outputs": [
    {
     "data": {
      "text/html": [
       "<div>\n",
       "<style scoped>\n",
       "    .dataframe tbody tr th:only-of-type {\n",
       "        vertical-align: middle;\n",
       "    }\n",
       "\n",
       "    .dataframe tbody tr th {\n",
       "        vertical-align: top;\n",
       "    }\n",
       "\n",
       "    .dataframe thead th {\n",
       "        text-align: right;\n",
       "    }\n",
       "</style>\n",
       "<table border=\"1\" class=\"dataframe\">\n",
       "  <thead>\n",
       "    <tr style=\"text-align: right;\">\n",
       "      <th></th>\n",
       "      <th>RowNumber</th>\n",
       "      <th>CustomerId</th>\n",
       "      <th>CreditScore</th>\n",
       "      <th>Age</th>\n",
       "      <th>Tenure</th>\n",
       "      <th>Balance</th>\n",
       "      <th>NumOfProducts</th>\n",
       "      <th>HasCrCard</th>\n",
       "      <th>IsActiveMember</th>\n",
       "      <th>EstimatedSalary</th>\n",
       "      <th>Exited</th>\n",
       "    </tr>\n",
       "  </thead>\n",
       "  <tbody>\n",
       "    <tr>\n",
       "      <th>count</th>\n",
       "      <td>909.000000</td>\n",
       "      <td>9.090000e+02</td>\n",
       "      <td>909.000000</td>\n",
       "      <td>909.000000</td>\n",
       "      <td>0.0</td>\n",
       "      <td>909.000000</td>\n",
       "      <td>909.000000</td>\n",
       "      <td>909.000000</td>\n",
       "      <td>909.000000</td>\n",
       "      <td>909.000000</td>\n",
       "      <td>909.000000</td>\n",
       "    </tr>\n",
       "    <tr>\n",
       "      <th>mean</th>\n",
       "      <td>4866.386139</td>\n",
       "      <td>1.568981e+07</td>\n",
       "      <td>648.451045</td>\n",
       "      <td>38.647965</td>\n",
       "      <td>NaN</td>\n",
       "      <td>76117.341474</td>\n",
       "      <td>1.530253</td>\n",
       "      <td>0.710671</td>\n",
       "      <td>0.510451</td>\n",
       "      <td>99180.389373</td>\n",
       "      <td>0.201320</td>\n",
       "    </tr>\n",
       "    <tr>\n",
       "      <th>std</th>\n",
       "      <td>2909.604343</td>\n",
       "      <td>7.511225e+04</td>\n",
       "      <td>99.079381</td>\n",
       "      <td>9.785438</td>\n",
       "      <td>NaN</td>\n",
       "      <td>63105.690715</td>\n",
       "      <td>0.588452</td>\n",
       "      <td>0.453701</td>\n",
       "      <td>0.500166</td>\n",
       "      <td>56378.063765</td>\n",
       "      <td>0.401207</td>\n",
       "    </tr>\n",
       "    <tr>\n",
       "      <th>min</th>\n",
       "      <td>31.000000</td>\n",
       "      <td>1.556581e+07</td>\n",
       "      <td>359.000000</td>\n",
       "      <td>18.000000</td>\n",
       "      <td>NaN</td>\n",
       "      <td>0.000000</td>\n",
       "      <td>1.000000</td>\n",
       "      <td>0.000000</td>\n",
       "      <td>0.000000</td>\n",
       "      <td>106.670000</td>\n",
       "      <td>0.000000</td>\n",
       "    </tr>\n",
       "    <tr>\n",
       "      <th>25%</th>\n",
       "      <td>2311.000000</td>\n",
       "      <td>1.562658e+07</td>\n",
       "      <td>580.000000</td>\n",
       "      <td>32.000000</td>\n",
       "      <td>NaN</td>\n",
       "      <td>0.000000</td>\n",
       "      <td>1.000000</td>\n",
       "      <td>0.000000</td>\n",
       "      <td>0.000000</td>\n",
       "      <td>49872.330000</td>\n",
       "      <td>0.000000</td>\n",
       "    </tr>\n",
       "    <tr>\n",
       "      <th>50%</th>\n",
       "      <td>4887.000000</td>\n",
       "      <td>1.568687e+07</td>\n",
       "      <td>647.000000</td>\n",
       "      <td>37.000000</td>\n",
       "      <td>NaN</td>\n",
       "      <td>96674.550000</td>\n",
       "      <td>1.000000</td>\n",
       "      <td>1.000000</td>\n",
       "      <td>1.000000</td>\n",
       "      <td>99444.020000</td>\n",
       "      <td>0.000000</td>\n",
       "    </tr>\n",
       "    <tr>\n",
       "      <th>75%</th>\n",
       "      <td>7306.000000</td>\n",
       "      <td>1.575680e+07</td>\n",
       "      <td>718.000000</td>\n",
       "      <td>43.000000</td>\n",
       "      <td>NaN</td>\n",
       "      <td>128554.980000</td>\n",
       "      <td>2.000000</td>\n",
       "      <td>1.000000</td>\n",
       "      <td>1.000000</td>\n",
       "      <td>145759.700000</td>\n",
       "      <td>0.000000</td>\n",
       "    </tr>\n",
       "    <tr>\n",
       "      <th>max</th>\n",
       "      <td>10000.000000</td>\n",
       "      <td>1.581569e+07</td>\n",
       "      <td>850.000000</td>\n",
       "      <td>92.000000</td>\n",
       "      <td>NaN</td>\n",
       "      <td>206663.750000</td>\n",
       "      <td>4.000000</td>\n",
       "      <td>1.000000</td>\n",
       "      <td>1.000000</td>\n",
       "      <td>199390.450000</td>\n",
       "      <td>1.000000</td>\n",
       "    </tr>\n",
       "  </tbody>\n",
       "</table>\n",
       "</div>"
      ],
      "text/plain": [
       "          RowNumber    CustomerId  CreditScore         Age  Tenure  \\\n",
       "count    909.000000  9.090000e+02   909.000000  909.000000     0.0   \n",
       "mean    4866.386139  1.568981e+07   648.451045   38.647965     NaN   \n",
       "std     2909.604343  7.511225e+04    99.079381    9.785438     NaN   \n",
       "min       31.000000  1.556581e+07   359.000000   18.000000     NaN   \n",
       "25%     2311.000000  1.562658e+07   580.000000   32.000000     NaN   \n",
       "50%     4887.000000  1.568687e+07   647.000000   37.000000     NaN   \n",
       "75%     7306.000000  1.575680e+07   718.000000   43.000000     NaN   \n",
       "max    10000.000000  1.581569e+07   850.000000   92.000000     NaN   \n",
       "\n",
       "             Balance  NumOfProducts   HasCrCard  IsActiveMember  \\\n",
       "count     909.000000     909.000000  909.000000      909.000000   \n",
       "mean    76117.341474       1.530253    0.710671        0.510451   \n",
       "std     63105.690715       0.588452    0.453701        0.500166   \n",
       "min         0.000000       1.000000    0.000000        0.000000   \n",
       "25%         0.000000       1.000000    0.000000        0.000000   \n",
       "50%     96674.550000       1.000000    1.000000        1.000000   \n",
       "75%    128554.980000       2.000000    1.000000        1.000000   \n",
       "max    206663.750000       4.000000    1.000000        1.000000   \n",
       "\n",
       "       EstimatedSalary      Exited  \n",
       "count       909.000000  909.000000  \n",
       "mean      99180.389373    0.201320  \n",
       "std       56378.063765    0.401207  \n",
       "min         106.670000    0.000000  \n",
       "25%       49872.330000    0.000000  \n",
       "50%       99444.020000    0.000000  \n",
       "75%      145759.700000    0.000000  \n",
       "max      199390.450000    1.000000  "
      ]
     },
     "execution_count": 5,
     "metadata": {},
     "output_type": "execute_result"
    }
   ],
   "source": [
    "data[data['Tenure'].isna()].describe()\n",
    "# obtaining stats for data where 'Tenure' is N/A"
   ]
  },
  {
   "cell_type": "code",
   "execution_count": 6,
   "metadata": {
    "scrolled": false
   },
   "outputs": [
    {
     "data": {
      "text/html": [
       "<div>\n",
       "<style scoped>\n",
       "    .dataframe tbody tr th:only-of-type {\n",
       "        vertical-align: middle;\n",
       "    }\n",
       "\n",
       "    .dataframe tbody tr th {\n",
       "        vertical-align: top;\n",
       "    }\n",
       "\n",
       "    .dataframe thead th {\n",
       "        text-align: right;\n",
       "    }\n",
       "</style>\n",
       "<table border=\"1\" class=\"dataframe\">\n",
       "  <thead>\n",
       "    <tr style=\"text-align: right;\">\n",
       "      <th></th>\n",
       "      <th>Exited</th>\n",
       "    </tr>\n",
       "    <tr>\n",
       "      <th>Tenure</th>\n",
       "      <th></th>\n",
       "    </tr>\n",
       "  </thead>\n",
       "  <tbody>\n",
       "    <tr>\n",
       "      <th>0.0</th>\n",
       "      <td>0.235602</td>\n",
       "    </tr>\n",
       "    <tr>\n",
       "      <th>1.0</th>\n",
       "      <td>0.223739</td>\n",
       "    </tr>\n",
       "    <tr>\n",
       "      <th>2.0</th>\n",
       "      <td>0.194737</td>\n",
       "    </tr>\n",
       "    <tr>\n",
       "      <th>3.0</th>\n",
       "      <td>0.213362</td>\n",
       "    </tr>\n",
       "    <tr>\n",
       "      <th>4.0</th>\n",
       "      <td>0.207910</td>\n",
       "    </tr>\n",
       "    <tr>\n",
       "      <th>5.0</th>\n",
       "      <td>0.201726</td>\n",
       "    </tr>\n",
       "    <tr>\n",
       "      <th>6.0</th>\n",
       "      <td>0.200908</td>\n",
       "    </tr>\n",
       "    <tr>\n",
       "      <th>7.0</th>\n",
       "      <td>0.172973</td>\n",
       "    </tr>\n",
       "    <tr>\n",
       "      <th>8.0</th>\n",
       "      <td>0.186495</td>\n",
       "    </tr>\n",
       "    <tr>\n",
       "      <th>9.0</th>\n",
       "      <td>0.219955</td>\n",
       "    </tr>\n",
       "    <tr>\n",
       "      <th>10.0</th>\n",
       "      <td>0.206278</td>\n",
       "    </tr>\n",
       "  </tbody>\n",
       "</table>\n",
       "</div>"
      ],
      "text/plain": [
       "          Exited\n",
       "Tenure          \n",
       "0.0     0.235602\n",
       "1.0     0.223739\n",
       "2.0     0.194737\n",
       "3.0     0.213362\n",
       "4.0     0.207910\n",
       "5.0     0.201726\n",
       "6.0     0.200908\n",
       "7.0     0.172973\n",
       "8.0     0.186495\n",
       "9.0     0.219955\n",
       "10.0    0.206278"
      ]
     },
     "execution_count": 6,
     "metadata": {},
     "output_type": "execute_result"
    }
   ],
   "source": [
    "data.pivot_table(index='Tenure', values='Exited', aggfunc='mean')\n",
    "# looking through distributions of target value at varying tenure"
   ]
  },
  {
   "cell_type": "markdown",
   "metadata": {},
   "source": [
    "Закономерностей, позволяющих определить причину пропусков и возможные значения для их заполнения, не выявлено. \n",
    "Поэтому заполним пропуски значением 'unknown', что одновременно приведёт столбец к типу object и позволит закодировать его как категориальный признак.\n",
    "\n",
    "### Заполнение пропусков"
   ]
  },
  {
   "cell_type": "code",
   "execution_count": 7,
   "metadata": {
    "scrolled": false
   },
   "outputs": [
    {
     "name": "stdout",
     "output_type": "stream",
     "text": [
      "<class 'pandas.core.frame.DataFrame'>\n",
      "RangeIndex: 10000 entries, 0 to 9999\n",
      "Data columns (total 14 columns):\n",
      " #   Column           Non-Null Count  Dtype  \n",
      "---  ------           --------------  -----  \n",
      " 0   RowNumber        10000 non-null  int64  \n",
      " 1   CustomerId       10000 non-null  int64  \n",
      " 2   Surname          10000 non-null  object \n",
      " 3   CreditScore      10000 non-null  int64  \n",
      " 4   Geography        10000 non-null  object \n",
      " 5   Gender           10000 non-null  object \n",
      " 6   Age              10000 non-null  int64  \n",
      " 7   Tenure           10000 non-null  object \n",
      " 8   Balance          10000 non-null  float64\n",
      " 9   NumOfProducts    10000 non-null  int64  \n",
      " 10  HasCrCard        10000 non-null  int64  \n",
      " 11  IsActiveMember   10000 non-null  int64  \n",
      " 12  EstimatedSalary  10000 non-null  float64\n",
      " 13  Exited           10000 non-null  int64  \n",
      "dtypes: float64(2), int64(8), object(4)\n",
      "memory usage: 1.1+ MB\n"
     ]
    }
   ],
   "source": [
    "data = data.fillna('unknown')\n",
    "data.info()\n"
   ]
  },
  {
   "cell_type": "markdown",
   "metadata": {},
   "source": [
    "Пропусков в данных более не определяется. Столбец 'Tenure' перешел в тип данных object. "
   ]
  },
  {
   "cell_type": "markdown",
   "metadata": {},
   "source": [
    "### Поиск дубликатов"
   ]
  },
  {
   "cell_type": "code",
   "execution_count": 8,
   "metadata": {},
   "outputs": [
    {
     "data": {
      "text/plain": [
       "0"
      ]
     },
     "execution_count": 8,
     "metadata": {},
     "output_type": "execute_result"
    }
   ],
   "source": [
    "data.duplicated().sum()"
   ]
  },
  {
   "cell_type": "markdown",
   "metadata": {},
   "source": [
    "Дубликатов не обнаружено. \n",
    "\n",
    "### Преобразование датасета и кодирование признаков\n",
    "\n",
    "Данные об идентификаторе клиента, номере записи и фамилии клиента не будут участвовать в исследовании, потому будут удалены. Страна проживания, годы пользования услугами банка и пол клиента будут преобразованы методом one-hot encoding с использованием аргумента drop_first=True. \n"
   ]
  },
  {
   "cell_type": "code",
   "execution_count": 9,
   "metadata": {
    "scrolled": false
   },
   "outputs": [
    {
     "data": {
      "text/html": [
       "<div>\n",
       "<style scoped>\n",
       "    .dataframe tbody tr th:only-of-type {\n",
       "        vertical-align: middle;\n",
       "    }\n",
       "\n",
       "    .dataframe tbody tr th {\n",
       "        vertical-align: top;\n",
       "    }\n",
       "\n",
       "    .dataframe thead th {\n",
       "        text-align: right;\n",
       "    }\n",
       "</style>\n",
       "<table border=\"1\" class=\"dataframe\">\n",
       "  <thead>\n",
       "    <tr style=\"text-align: right;\">\n",
       "      <th></th>\n",
       "      <th>CreditScore</th>\n",
       "      <th>Age</th>\n",
       "      <th>Balance</th>\n",
       "      <th>NumOfProducts</th>\n",
       "      <th>HasCrCard</th>\n",
       "      <th>IsActiveMember</th>\n",
       "      <th>EstimatedSalary</th>\n",
       "      <th>Exited</th>\n",
       "      <th>Geography_Germany</th>\n",
       "      <th>Geography_Spain</th>\n",
       "      <th>...</th>\n",
       "      <th>Tenure_2.0</th>\n",
       "      <th>Tenure_3.0</th>\n",
       "      <th>Tenure_4.0</th>\n",
       "      <th>Tenure_5.0</th>\n",
       "      <th>Tenure_6.0</th>\n",
       "      <th>Tenure_7.0</th>\n",
       "      <th>Tenure_8.0</th>\n",
       "      <th>Tenure_9.0</th>\n",
       "      <th>Tenure_10.0</th>\n",
       "      <th>Tenure_unknown</th>\n",
       "    </tr>\n",
       "  </thead>\n",
       "  <tbody>\n",
       "    <tr>\n",
       "      <th>0</th>\n",
       "      <td>619</td>\n",
       "      <td>42</td>\n",
       "      <td>0.00</td>\n",
       "      <td>1</td>\n",
       "      <td>1</td>\n",
       "      <td>1</td>\n",
       "      <td>101348.88</td>\n",
       "      <td>1</td>\n",
       "      <td>0</td>\n",
       "      <td>0</td>\n",
       "      <td>...</td>\n",
       "      <td>1</td>\n",
       "      <td>0</td>\n",
       "      <td>0</td>\n",
       "      <td>0</td>\n",
       "      <td>0</td>\n",
       "      <td>0</td>\n",
       "      <td>0</td>\n",
       "      <td>0</td>\n",
       "      <td>0</td>\n",
       "      <td>0</td>\n",
       "    </tr>\n",
       "    <tr>\n",
       "      <th>1</th>\n",
       "      <td>608</td>\n",
       "      <td>41</td>\n",
       "      <td>83807.86</td>\n",
       "      <td>1</td>\n",
       "      <td>0</td>\n",
       "      <td>1</td>\n",
       "      <td>112542.58</td>\n",
       "      <td>0</td>\n",
       "      <td>0</td>\n",
       "      <td>1</td>\n",
       "      <td>...</td>\n",
       "      <td>0</td>\n",
       "      <td>0</td>\n",
       "      <td>0</td>\n",
       "      <td>0</td>\n",
       "      <td>0</td>\n",
       "      <td>0</td>\n",
       "      <td>0</td>\n",
       "      <td>0</td>\n",
       "      <td>0</td>\n",
       "      <td>0</td>\n",
       "    </tr>\n",
       "    <tr>\n",
       "      <th>2</th>\n",
       "      <td>502</td>\n",
       "      <td>42</td>\n",
       "      <td>159660.80</td>\n",
       "      <td>3</td>\n",
       "      <td>1</td>\n",
       "      <td>0</td>\n",
       "      <td>113931.57</td>\n",
       "      <td>1</td>\n",
       "      <td>0</td>\n",
       "      <td>0</td>\n",
       "      <td>...</td>\n",
       "      <td>0</td>\n",
       "      <td>0</td>\n",
       "      <td>0</td>\n",
       "      <td>0</td>\n",
       "      <td>0</td>\n",
       "      <td>0</td>\n",
       "      <td>1</td>\n",
       "      <td>0</td>\n",
       "      <td>0</td>\n",
       "      <td>0</td>\n",
       "    </tr>\n",
       "    <tr>\n",
       "      <th>3</th>\n",
       "      <td>699</td>\n",
       "      <td>39</td>\n",
       "      <td>0.00</td>\n",
       "      <td>2</td>\n",
       "      <td>0</td>\n",
       "      <td>0</td>\n",
       "      <td>93826.63</td>\n",
       "      <td>0</td>\n",
       "      <td>0</td>\n",
       "      <td>0</td>\n",
       "      <td>...</td>\n",
       "      <td>0</td>\n",
       "      <td>0</td>\n",
       "      <td>0</td>\n",
       "      <td>0</td>\n",
       "      <td>0</td>\n",
       "      <td>0</td>\n",
       "      <td>0</td>\n",
       "      <td>0</td>\n",
       "      <td>0</td>\n",
       "      <td>0</td>\n",
       "    </tr>\n",
       "    <tr>\n",
       "      <th>4</th>\n",
       "      <td>850</td>\n",
       "      <td>43</td>\n",
       "      <td>125510.82</td>\n",
       "      <td>1</td>\n",
       "      <td>1</td>\n",
       "      <td>1</td>\n",
       "      <td>79084.10</td>\n",
       "      <td>0</td>\n",
       "      <td>0</td>\n",
       "      <td>1</td>\n",
       "      <td>...</td>\n",
       "      <td>1</td>\n",
       "      <td>0</td>\n",
       "      <td>0</td>\n",
       "      <td>0</td>\n",
       "      <td>0</td>\n",
       "      <td>0</td>\n",
       "      <td>0</td>\n",
       "      <td>0</td>\n",
       "      <td>0</td>\n",
       "      <td>0</td>\n",
       "    </tr>\n",
       "  </tbody>\n",
       "</table>\n",
       "<p>5 rows × 22 columns</p>\n",
       "</div>"
      ],
      "text/plain": [
       "   CreditScore  Age    Balance  NumOfProducts  HasCrCard  IsActiveMember  \\\n",
       "0          619   42       0.00              1          1               1   \n",
       "1          608   41   83807.86              1          0               1   \n",
       "2          502   42  159660.80              3          1               0   \n",
       "3          699   39       0.00              2          0               0   \n",
       "4          850   43  125510.82              1          1               1   \n",
       "\n",
       "   EstimatedSalary  Exited  Geography_Germany  Geography_Spain  ...  \\\n",
       "0        101348.88       1                  0                0  ...   \n",
       "1        112542.58       0                  0                1  ...   \n",
       "2        113931.57       1                  0                0  ...   \n",
       "3         93826.63       0                  0                0  ...   \n",
       "4         79084.10       0                  0                1  ...   \n",
       "\n",
       "   Tenure_2.0  Tenure_3.0  Tenure_4.0  Tenure_5.0  Tenure_6.0  Tenure_7.0  \\\n",
       "0           1           0           0           0           0           0   \n",
       "1           0           0           0           0           0           0   \n",
       "2           0           0           0           0           0           0   \n",
       "3           0           0           0           0           0           0   \n",
       "4           1           0           0           0           0           0   \n",
       "\n",
       "   Tenure_8.0  Tenure_9.0  Tenure_10.0  Tenure_unknown  \n",
       "0           0           0            0               0  \n",
       "1           0           0            0               0  \n",
       "2           1           0            0               0  \n",
       "3           0           0            0               0  \n",
       "4           0           0            0               0  \n",
       "\n",
       "[5 rows x 22 columns]"
      ]
     },
     "metadata": {},
     "output_type": "display_data"
    },
    {
     "name": "stdout",
     "output_type": "stream",
     "text": [
      "<class 'pandas.core.frame.DataFrame'>\n",
      "RangeIndex: 10000 entries, 0 to 9999\n",
      "Data columns (total 22 columns):\n",
      " #   Column             Non-Null Count  Dtype  \n",
      "---  ------             --------------  -----  \n",
      " 0   CreditScore        10000 non-null  int64  \n",
      " 1   Age                10000 non-null  int64  \n",
      " 2   Balance            10000 non-null  float64\n",
      " 3   NumOfProducts      10000 non-null  int64  \n",
      " 4   HasCrCard          10000 non-null  int64  \n",
      " 5   IsActiveMember     10000 non-null  int64  \n",
      " 6   EstimatedSalary    10000 non-null  float64\n",
      " 7   Exited             10000 non-null  int64  \n",
      " 8   Geography_Germany  10000 non-null  uint8  \n",
      " 9   Geography_Spain    10000 non-null  uint8  \n",
      " 10  Gender_Male        10000 non-null  uint8  \n",
      " 11  Tenure_1.0         10000 non-null  uint8  \n",
      " 12  Tenure_2.0         10000 non-null  uint8  \n",
      " 13  Tenure_3.0         10000 non-null  uint8  \n",
      " 14  Tenure_4.0         10000 non-null  uint8  \n",
      " 15  Tenure_5.0         10000 non-null  uint8  \n",
      " 16  Tenure_6.0         10000 non-null  uint8  \n",
      " 17  Tenure_7.0         10000 non-null  uint8  \n",
      " 18  Tenure_8.0         10000 non-null  uint8  \n",
      " 19  Tenure_9.0         10000 non-null  uint8  \n",
      " 20  Tenure_10.0        10000 non-null  uint8  \n",
      " 21  Tenure_unknown     10000 non-null  uint8  \n",
      "dtypes: float64(2), int64(6), uint8(14)\n",
      "memory usage: 761.8 KB\n"
     ]
    }
   ],
   "source": [
    "data_ohe = pd.get_dummies(data.drop(['RowNumber', 'CustomerId', 'Surname'], axis=1), drop_first=True)\n",
    "display(data_ohe.head())\n",
    "data_ohe.info()\n"
   ]
  },
  {
   "cell_type": "markdown",
   "metadata": {},
   "source": [
    "Как видно из информации по датасету, категориальные признаки tenure, gender и geography подверглись one-hot кодированию. "
   ]
  },
  {
   "cell_type": "markdown",
   "metadata": {},
   "source": [
    "### Разделение на обучающую, валидационную и тестовую выборки\n",
    "\n",
    "Планируется разделить датасет на три стратифицированные выборки в соотношении 3:1:1.\n",
    "\n",
    "С целью контроля результата будут оценены размеры полученных датасетов и распределение в них целевого признака."
   ]
  },
  {
   "cell_type": "code",
   "execution_count": 10,
   "metadata": {
    "scrolled": true
   },
   "outputs": [
    {
     "name": "stdout",
     "output_type": "stream",
     "text": [
      "(6000, 21)\n",
      "(6000,)\n",
      "(2000, 21)\n",
      "(2000,)\n",
      "(2000, 21)\n",
      "(2000,)\n",
      "\n",
      "0.20366666666666666\n",
      "0.2035\n",
      "0.204\n"
     ]
    }
   ],
   "source": [
    "# splitting the dataset into training selection and combined validation + test selection at 60:40 rate\n",
    "features_train, features_v_t, target_train, target_v_t = train_test_split(\n",
    "    data_ohe.drop(['Exited'], axis=1), data_ohe['Exited'], test_size=0.4, stratify=data_ohe['Exited']\n",
    "        )\n",
    "\n",
    "\n",
    "# splitting the combined selection into valid and test selections at 50:50\n",
    "features_valid, features_test, target_valid, target_test = train_test_split(\n",
    "    features_v_t, target_v_t, test_size=0.5, stratify=target_v_t\n",
    "        )\n",
    "\n",
    "# checking dataframe shapes\n",
    "print(features_train.shape)\n",
    "print(target_train.shape)\n",
    "print(features_valid.shape)\n",
    "print(target_valid.shape)\n",
    "print(features_test.shape)\n",
    "print(target_test.shape)\n",
    "print()\n",
    "# checking the stratification\n",
    "for item in [target_train, target_valid, target_test]:\n",
    "    print(item.mean())"
   ]
  },
  {
   "cell_type": "markdown",
   "metadata": {},
   "source": [
    "Размеры выборок соответствуют ожиданиям. Распределение целевого признака в каждой из них составило приблизительно 20.4%.\n",
    "\n",
    "### Масштабирование данных"
   ]
  },
  {
   "cell_type": "code",
   "execution_count": 11,
   "metadata": {},
   "outputs": [],
   "source": [
    "scaler = StandardScaler()\n",
    "features_train = scaler.fit_transform(features_train)\n",
    "features_valid = scaler.transform(features_valid)\n",
    "features_test = scaler.transform(features_test)"
   ]
  },
  {
   "cell_type": "markdown",
   "metadata": {},
   "source": [
    "\n",
    "\n",
    "## Исследование задачи\n",
    "\n",
    "В рамках проекта планируется: \n",
    "- обучение трёх видов классификаторов: решающее дерево, случайный лес, логистическая регрессия;\n",
    "- подбор оптимальных гиперпараметров;\n",
    "- борьба с дисбалансом классов;\n",
    "- исследование значений F1-меры и AUC-ROC.\n",
    "\n",
    "Для выполнения поставленных задач разработаны 2 функции:\n",
    "- use_three_models: принимает на вход обучающую и валидационную выборки, диапазон и значения некоторых исследуемых гиперпараметров. Функция последовательно обучает 3 вида моделей, тестирует их на валидационной выборке, рассчитывает F1 и ROC-AUC, выводит на экран их значения и оптимальные гиперпараметры. Затем данные по F1 и AUC-ROC передаются в функцию plotting для графического отображения зависимости метрик от гиперпараметров.\n",
    "\n",
    "\n",
    "- plotting: функция принимает модель, название гиперпараметра, списки со значениями гиперпараметра, значениями F1 и AUC-ROC. На основании этих данных функция строит график с соответствующими подписями и выводит на экран.  "
   ]
  },
  {
   "cell_type": "markdown",
   "metadata": {},
   "source": [
    "### Объявление функций"
   ]
  },
  {
   "cell_type": "code",
   "execution_count": 12,
   "metadata": {},
   "outputs": [],
   "source": [
    "# This function is intended to construct a plot based on data obtained when going through model hyperparameters.\n",
    "def plotting(model, parameter_name, parameter, f1, roc_auc):\n",
    "    plot_df = pd.DataFrame(data={'f1':f1, 'roc_auc':roc_auc}, index=parameter)\n",
    "    plot_df.plot(figsize=[14,6], xlabel=parameter_name, title=model, grid=True)\n",
    "   \n",
    "    plt.show()\n",
    "# This function will go over hyperparameters and train the three chosen models,\n",
    "# then check the resulting f1 score and AUC-ROC score.\n",
    "# Data on hyperparameter-related score dynamics will also be obtained and fed to the function above when appliable.\n",
    "def use_three_models(f_train, f_valid, t_train, t_valid, \n",
    "                     tree_max_depth=21,\n",
    "                     forest_max_depth=21,\n",
    "                     forest_min_estimators=10,\n",
    "                     forest_max_estimators=101,\n",
    "                     regression_solver='lbfgs',\n",
    "                     class_weight=None): \n",
    "# args include the two training and two validation datasets and hyperparameters to be used\n",
    "    \n",
    "# Using DecisionTreeClassifier()    \n",
    "    \n",
    "    tree_optimal_depth = 0 # variables to record best model properties\n",
    "    best_f1 = 0\n",
    "    optimal_roc_auc = 0\n",
    "    best_model=None\n",
    "    depths=[] # variables to gain plot data\n",
    "    f1_scores=[]\n",
    "    roc_auc_scores=[]\n",
    "# cycle to go through tree max depth    \n",
    "    for depth in range(1, tree_max_depth):\n",
    "        model=DecisionTreeClassifier(random_state=13, max_depth=depth, class_weight=class_weight)\n",
    "        model.fit(f_train, t_train) # model trained\n",
    "        \n",
    "        f1 = f1_score(t_valid, model.predict(f_valid)) # f1 and roc-auc score calculated\n",
    "        roc_auc = roc_auc_score(t_valid, model.predict_proba(f_valid)[:, 1])\n",
    "        \n",
    "        depths.append(depth) # data added to lists to be plotted\n",
    "        f1_scores.append(f1)\n",
    "        roc_auc_scores.append(roc_auc)\n",
    "        \n",
    "        if f1 > best_f1: # condition to identify the model as optimal\n",
    "            tree_optimal_depth = depth\n",
    "            best_f1 = f1\n",
    "            optimal_roc_auc = roc_auc\n",
    "            best_model = model\n",
    "    \n",
    "# output    \n",
    "    print('Модель:', best_model, '\\nОптимальная глубина:', tree_optimal_depth,\n",
    "          '\\nНаивысшее значение f1:', best_f1,'\\nпри AUC-ROC', optimal_roc_auc)\n",
    "    print('\\n')\n",
    "    \n",
    "# calling the plot function    \n",
    "    plotting('DecisionTreeClassifier: зависимость f1 и AUC-ROC от глубины дерева',\n",
    "             'max_depth', depths, f1_scores, roc_auc_scores)\n",
    "        \n",
    "    \n",
    "# using RandomForestClassifier()\n",
    "#\n",
    "# going through depths\n",
    "#\n",
    "#\n",
    "    forest_optimal_depth = 0\n",
    "    best_f1 = 0\n",
    "    optimal_roc_auc = 0\n",
    "    best_model=None\n",
    "    \n",
    "    depths=[]\n",
    "    f1_scores=[]\n",
    "    roc_auc_scores=[]\n",
    "    \n",
    "    for depth in range(1, forest_max_depth):\n",
    "        model=RandomForestClassifier(random_state=13, max_depth=depth, n_estimators=20,\n",
    "                                     class_weight=class_weight)\n",
    "        model.fit(f_train, t_train)\n",
    "        \n",
    "        f1 = f1_score(t_valid, model.predict(f_valid))\n",
    "        roc_auc = roc_auc_score(t_valid, model.predict_proba(f_valid)[:, 1])\n",
    "        \n",
    "        depths.append(depth)\n",
    "        f1_scores.append(f1)\n",
    "        roc_auc_scores.append(roc_auc)\n",
    "        \n",
    "        if f1 > best_f1:\n",
    "            forest_optimal_depth = depth\n",
    "            best_f1 = f1\n",
    "            optimal_roc_auc = roc_auc\n",
    "            best_model = model\n",
    "    \n",
    "    \n",
    "\n",
    "    \n",
    "    \n",
    "# using RandomForestClassifier()\n",
    "#\n",
    "# going over number of estimators\n",
    "#\n",
    "#\n",
    "    forest_optimal_estimators=0\n",
    "    best_f1 = 0\n",
    "    optimal_roc_auc = 0\n",
    "    best_model=None\n",
    "    \n",
    "    \n",
    "    estimator_values=[]\n",
    "    f1_scores_est=[]\n",
    "    roc_auc_scores_est=[]\n",
    "    \n",
    "    for estimators in range(forest_min_estimators, forest_max_estimators, 10):\n",
    "        model = RandomForestClassifier(random_state=13, max_depth=forest_optimal_depth,\n",
    "                                       n_estimators=estimators, class_weight=class_weight)\n",
    "        model.fit(f_train, t_train)\n",
    "        \n",
    "        f1 = f1_score(t_valid, model.predict(f_valid))\n",
    "        roc_auc = roc_auc_score(t_valid, model.predict_proba(f_valid)[:, 1])\n",
    "        \n",
    "        estimator_values.append(estimators)\n",
    "        f1_scores_est.append(f1)\n",
    "        roc_auc_scores_est.append(roc_auc)\n",
    "        \n",
    "        if f1 > best_f1:\n",
    "            forest_optimal_estimators = estimators\n",
    "            best_f1 = f1\n",
    "            optimal_roc_auc = roc_auc\n",
    "            best_model = model\n",
    "    \n",
    "    \n",
    "    print('\\n\\n\\n\\n\\nМодель:', best_model, '\\nОптимальная глубина:', forest_optimal_depth, '\\nОптимальное количество оценщиков:', forest_optimal_estimators,\n",
    "          '\\nНаивысшее значение f1:', best_f1,'\\nпри AUC-ROC', optimal_roc_auc)\n",
    "    print('\\n')\n",
    "    \n",
    "    plotting('RandomForestClassifier: зависимость f1 и AUC-ROC от глубины леса', 'max_depth',\n",
    "             depths, f1_scores, roc_auc_scores)\n",
    "    plotting('RandomForestClassifier: зависимость f1 и AUC-ROC от количества оценщиков', 'n_estimators',\n",
    "             estimator_values, f1_scores_est, roc_auc_scores_est)\n",
    "\n",
    "    #\n",
    "    # using LogisticRegression()\n",
    "    #\n",
    "    #\n",
    "    model = LogisticRegression(random_state=13, solver=regression_solver, class_weight=class_weight)\n",
    "    model.fit(f_train, t_train)\n",
    "        \n",
    "    f1 = f1_score(t_valid, model.predict(f_valid))\n",
    "    roc_auc = roc_auc_score(t_valid, model.predict_proba(f_valid)[:, 1])\n",
    "    \n",
    "    print('\\n\\n\\n\\n\\nМодель:', model, '\\nЗначение f1:', f1,'\\nпри AUC-ROC', roc_auc)\n",
    "    print('\\n')\n",
    "    \n"
   ]
  },
  {
   "cell_type": "markdown",
   "metadata": {},
   "source": [
    "## Обучение моделей\n",
    "### Без учёта баланса классов"
   ]
  },
  {
   "cell_type": "code",
   "execution_count": 14,
   "metadata": {
    "scrolled": true
   },
   "outputs": [
    {
     "name": "stdout",
     "output_type": "stream",
     "text": [
      "Модель: DecisionTreeClassifier(max_depth=5, random_state=13) \n",
      "Оптимальная глубина: 5 \n",
      "Наивысшее значение f1: 0.6069364161849711 \n",
      "при AUC-ROC 0.8394773818502632\n",
      "\n",
      "\n"
     ]
    },
    {
     "data": {
      "image/png": "[encoded data removed]",
      "text/plain": [
       "<Figure size 1008x432 with 1 Axes>"
      ]
     },
     "metadata": {
      "needs_background": "light"
     },
     "output_type": "display_data"
    },
    {
     "name": "stdout",
     "output_type": "stream",
     "text": [
      "\n",
      "\n",
      "\n",
      "\n",
      "\n",
      "Модель: RandomForestClassifier(max_depth=17, n_estimators=30, random_state=13) \n",
      "Оптимальная глубина: 17 \n",
      "Оптимальное количество оценщиков: 30 \n",
      "Наивысшее значение f1: 0.6104294478527607 \n",
      "при AUC-ROC 0.8379103294357532\n",
      "\n",
      "\n"
     ]
    },
    {
     "data": {
      "image/png": "[encoded data removed]",
      "text/plain": [
       "<Figure size 1008x432 with 1 Axes>"
      ]
     },
     "metadata": {
      "needs_background": "light"
     },
     "output_type": "display_data"
    },
    {
     "data": {
      "image/png": "[encoded data removed]",
      "text/plain": [
       "<Figure size 1008x432 with 1 Axes>"
      ]
     },
     "metadata": {
      "needs_background": "light"
     },
     "output_type": "display_data"
    },
    {
     "name": "stdout",
     "output_type": "stream",
     "text": [
      "\n",
      "\n",
      "\n",
      "\n",
      "\n",
      "Модель: LogisticRegression(random_state=13) \n",
      "Значение f1: 0.34317343173431736 \n",
      "при AUC-ROC 0.7725414166092132\n",
      "\n",
      "\n"
     ]
    }
   ],
   "source": [
    "use_three_models(features_train,  # calling the function, disregarding class balance\n",
    "                 features_valid,\n",
    "                 target_train,\n",
    "                 target_valid,\n",
    "                 tree_max_depth=20,\n",
    "                 forest_max_depth=20,\n",
    "                 forest_min_estimators = 10,\n",
    "                 forest_max_estimators=141)"
   ]
  },
  {
   "cell_type": "markdown",
   "metadata": {},
   "source": [
    "#### Результаты\n",
    "\n",
    "- Модель: DecisionTreeClassifier() \n",
    "\n",
    "Оптимальная глубина: 5 \n",
    "\n",
    "Наивысшее значение f1: 0.6069364161849711 \n",
    "\n",
    "при AUC-ROC 0.8394773818502632\n",
    "\n",
    "\n",
    "\n",
    "- Модель: RandomForestClassifier() \n",
    "\n",
    "Оптимальная глубина: 17 \n",
    "\n",
    "Оптимальное количество оценщиков: 30 \n",
    "\n",
    "Наивысшее значение f1: 0.6104294478527607 \n",
    "\n",
    "при AUC-ROC 0.8379103294357532\n",
    "\n",
    "\n",
    "\n",
    "- Модель: LogisticRegression() \n",
    "\n",
    "Значение f1: 0.34317343173431736 \n",
    "\n",
    "при AUC-ROC 0.7725414166092132\n",
    "\n",
    "\n",
    "\n",
    "Худший результат показала логистическая регрессия с F1 0.34. Целевое значение достигнуто с помощью классификатора дерева решений - 0.61, случайного леса, F1 = 0.61.\n",
    "\n",
    "С целью повышения метрик моделей планируется уменьшение дисбаланса классов тремя способами: указание аргумента class_weight='balanced' в каждой модели, upsampling и downsampling обучающей выборки.\n",
    "\n",
    "## Борьба с дисбалансом\n",
    "### Используем аргумент class_weight='balanced'"
   ]
  },
  {
   "cell_type": "code",
   "execution_count": 15,
   "metadata": {
    "scrolled": false
   },
   "outputs": [
    {
     "name": "stdout",
     "output_type": "stream",
     "text": [
      "Модель: DecisionTreeClassifier(class_weight='balanced', max_depth=8, random_state=13) \n",
      "Оптимальная глубина: 8 \n",
      "Наивысшее значение f1: 0.5849246231155779 \n",
      "при AUC-ROC 0.8220878814099153\n",
      "\n",
      "\n"
     ]
    },
    {
     "data": {
      "image/png": "[encoded data removed]",
      "text/plain": [
       "<Figure size 1008x432 with 1 Axes>"
      ]
     },
     "metadata": {
      "needs_background": "light"
     },
     "output_type": "display_data"
    },
    {
     "name": "stdout",
     "output_type": "stream",
     "text": [
      "\n",
      "\n",
      "\n",
      "\n",
      "\n",
      "Модель: RandomForestClassifier(class_weight='balanced', max_depth=11, n_estimators=20,\n",
      "                       random_state=13) \n",
      "Оптимальная глубина: 11 \n",
      "Оптимальное количество оценщиков: 20 \n",
      "Наивысшее значение f1: 0.6456310679611651 \n",
      "при AUC-ROC 0.8533926839011584\n",
      "\n",
      "\n"
     ]
    },
    {
     "data": {
      "image/png": "[encoded data removed]",
      "text/plain": [
       "<Figure size 1008x432 with 1 Axes>"
      ]
     },
     "metadata": {
      "needs_background": "light"
     },
     "output_type": "display_data"
    },
    {
     "data": {
      "image/png": "[encoded data removed]",
      "text/plain": [
       "<Figure size 1008x432 with 1 Axes>"
      ]
     },
     "metadata": {
      "needs_background": "light"
     },
     "output_type": "display_data"
    },
    {
     "name": "stdout",
     "output_type": "stream",
     "text": [
      "\n",
      "\n",
      "\n",
      "\n",
      "\n",
      "Модель: LogisticRegression(class_weight='balanced', random_state=13) \n",
      "Значение f1: 0.48797250859106533 \n",
      "при AUC-ROC 0.7780785407904052\n",
      "\n",
      "\n"
     ]
    }
   ],
   "source": [
    "use_three_models(features_train,\n",
    "                 features_valid,\n",
    "                 target_train,\n",
    "                 target_valid,\n",
    "                 tree_max_depth=12,\n",
    "                 forest_max_depth=16,\n",
    "                 forest_min_estimators = 10,\n",
    "                 forest_max_estimators=101,\n",
    "                 class_weight='balanced')  # calling the same function on the same datasets, with class_weight='balanced'"
   ]
  },
  {
   "cell_type": "markdown",
   "metadata": {},
   "source": [
    "#### Результаты \n",
    "\n",
    "\n",
    "- Модель: DecisionTreeClassifier(class_weight='balanced') \n",
    "\n",
    "Оптимальная глубина: 8 \n",
    "\n",
    "Наивысшее значение f1: 0.58 при AUC-ROC 0.82\n",
    "\n",
    "\n",
    "- Модель: RandomForestClassifier(class_weight='balanced') \n",
    "\n",
    "Оптимальная глубина: 11 \n",
    "\n",
    "Оптимальное количество оценщиков: 20 \n",
    "\n",
    "Наивысшее значение f1: 0.65\n",
    "при AUC-ROC 0.85\n",
    "\n",
    "- Модель: LogisticRegression(class_weight='balanced', random_state=13) \n",
    "\n",
    "Значение f1: 0.49\n",
    "при AUC-ROC 0.78\n",
    "\n",
    "Таким образом, указание аргумента class_weight='balanced' несколько уменьшило метрики дерева решений, улучшило показатель F1 случайного леса до 0.65. F1-метрика логистической регрессии увеличилась до 0.49, однако не достигла целевого значения. \n",
    "\n",
    "### Устранение дисбаланса классов методом upsampling\n",
    "#### Преобразование выборки"
   ]
  },
  {
   "cell_type": "code",
   "execution_count": 16,
   "metadata": {
    "scrolled": true
   },
   "outputs": [
    {
     "name": "stdout",
     "output_type": "stream",
     "text": [
      "(4778, 21)\n",
      "(1222, 21)\n",
      "(4778,)\n",
      "(1222,)\n"
     ]
    }
   ],
   "source": [
    "features_zeros = features_train[target_train==0]  # splitting features and target by target value\n",
    "features_ones = features_train[target_train==1]\n",
    "target_zeros = target_train[target_train==0]\n",
    "target_ones = target_train[target_train==1]\n",
    "\n",
    "print(features_zeros.shape)  # checking dataset size\n",
    "print(features_ones.shape)\n",
    "print(target_zeros.shape)\n",
    "print(target_ones.shape)"
   ]
  },
  {
   "cell_type": "markdown",
   "metadata": {},
   "source": [
    "Объекты редкого класса встречаются приблизительно в 4 раза реже. Домножим выборку положительного класса на 4. "
   ]
  },
  {
   "cell_type": "code",
   "execution_count": 17,
   "metadata": {},
   "outputs": [],
   "source": [
    "features_ones = pd.DataFrame(features_ones)  # for a simple concatenation, we turn np.ndarrays back into pandas \n",
    "                                             # objects\n",
    "features_zeros = pd.DataFrame(features_zeros)\n",
    "\n",
    "target_zeros = pd.Series(target_zeros) \n",
    "\n",
    "target_ones = pd.Series(target_ones)\n",
    "\n",
    "features_upsampled = pd.concat([features_zeros] + [features_ones] * 4) # upsampling\n",
    "target_upsampled = pd.concat([target_zeros] + [target_ones] * 4)\n",
    "features_upsampled, target_upsampled = shuffle(features_upsampled, target_upsampled, random_state=13) # shuffling\n"
   ]
  },
  {
   "cell_type": "markdown",
   "metadata": {},
   "source": [
    "#### Применение моделей машинного обучения\n",
    "Обучим 3 модели на полученной upsampled выборке и протестируем на прежней валидационной выборке:"
   ]
  },
  {
   "cell_type": "code",
   "execution_count": 18,
   "metadata": {
    "scrolled": false
   },
   "outputs": [
    {
     "name": "stdout",
     "output_type": "stream",
     "text": [
      "Модель: DecisionTreeClassifier(max_depth=8, random_state=13) \n",
      "Оптимальная глубина: 8 \n",
      "Наивысшее значение f1: 0.5908629441624367 \n",
      "при AUC-ROC 0.8285265234417776\n",
      "\n",
      "\n"
     ]
    },
    {
     "data": {
      "image/png": "[encoded data removed]",
      "text/plain": [
       "<Figure size 1008x432 with 1 Axes>"
      ]
     },
     "metadata": {
      "needs_background": "light"
     },
     "output_type": "display_data"
    },
    {
     "name": "stdout",
     "output_type": "stream",
     "text": [
      "\n",
      "\n",
      "\n",
      "\n",
      "\n",
      "Модель: RandomForestClassifier(max_depth=16, n_estimators=70, random_state=13) \n",
      "Оптимальная глубина: 16 \n",
      "Оптимальное количество оценщиков: 70 \n",
      "Наивысшее значение f1: 0.635118306351183 \n",
      "при AUC-ROC 0.8543258204275154\n",
      "\n",
      "\n"
     ]
    },
    {
     "data": {
      "image/png": "[encoded data removed]",
      "text/plain": [
       "<Figure size 1008x432 with 1 Axes>"
      ]
     },
     "metadata": {
      "needs_background": "light"
     },
     "output_type": "display_data"
    },
    {
     "data": {
      "image/png": "[encoded data removed]",
      "text/plain": [
       "<Figure size 1008x432 with 1 Axes>"
      ]
     },
     "metadata": {
      "needs_background": "light"
     },
     "output_type": "display_data"
    },
    {
     "name": "stdout",
     "output_type": "stream",
     "text": [
      "\n",
      "\n",
      "\n",
      "\n",
      "\n",
      "Модель: LogisticRegression(random_state=13) \n",
      "Значение f1: 0.4889643463497452 \n",
      "при AUC-ROC 0.7781818798767951\n",
      "\n",
      "\n"
     ]
    }
   ],
   "source": [
    "use_three_models(features_upsampled,     # calling the function on upsampled data\n",
    "                 features_valid,\n",
    "                 target_upsampled,\n",
    "                 target_valid,\n",
    "                 tree_max_depth=13,\n",
    "                 forest_max_depth=17,\n",
    "                 forest_min_estimators = 10,\n",
    "                 forest_max_estimators=101\n",
    "                     )"
   ]
  },
  {
   "cell_type": "markdown",
   "metadata": {},
   "source": [
    "#### Результаты\n",
    "\n",
    "Модель: DecisionTreeClassifier() \n",
    "\n",
    "Оптимальная глубина: 8 \n",
    "\n",
    "Наивысшее значение f1: 0.59\n",
    "при AUC-ROC 0.82\n",
    "\n",
    "Модель: RandomForestClassifier() \n",
    "\n",
    "Оптимальная глубина: 16 \n",
    "\n",
    "Оптимальное количество оценщиков: 70 \n",
    "\n",
    "Наивысшее значение f1: 0.64\n",
    "при AUC-ROC 0.85\n",
    "\n",
    "\n",
    "Модель: LogisticRegression() \n",
    "\n",
    "Значение f1: 0.49\n",
    "при AUC-ROC 0.7781818798767951\n",
    "\n",
    "\n",
    "Показатели модели решающего дерева незначительно повысились, случайного леса - снизились, регрессии - практически не изменились.\n",
    "\n",
    "\n",
    "### Устранение дисбаланса методом downsampling"
   ]
  },
  {
   "cell_type": "code",
   "execution_count": 21,
   "metadata": {
    "scrolled": true
   },
   "outputs": [],
   "source": [
    "features_downsampled = pd.concat([features_zeros.sample(frac=0.25, random_state=13  # downsampling\n",
    "                                                       )] + [features_ones])\n",
    "target_downsampled = pd.concat([target_zeros.sample(frac=0.25, random_state=13\n",
    "                                                   )] + [target_ones]) \n",
    "features_downsampled, target_downsampled = shuffle(features_downsampled,  # shuffling\n",
    "                                                   target_downsampled, random_state=13)"
   ]
  },
  {
   "cell_type": "markdown",
   "metadata": {},
   "source": [
    "#### Применение моделей\n"
   ]
  },
  {
   "cell_type": "code",
   "execution_count": 22,
   "metadata": {},
   "outputs": [
    {
     "name": "stdout",
     "output_type": "stream",
     "text": [
      "Модель: DecisionTreeClassifier(max_depth=7, random_state=13) \n",
      "Оптимальная глубина: 7 \n",
      "Наивысшее значение f1: 0.5753176043557169 \n",
      "при AUC-ROC 0.8355990813617932\n",
      "\n",
      "\n"
     ]
    },
    {
     "data": {
      "image/png": "[encoded data removed]",
      "text/plain": [
       "<Figure size 1008x432 with 1 Axes>"
      ]
     },
     "metadata": {
      "needs_background": "light"
     },
     "output_type": "display_data"
    },
    {
     "name": "stdout",
     "output_type": "stream",
     "text": [
      "\n",
      "\n",
      "\n",
      "\n",
      "\n",
      "Модель: RandomForestClassifier(max_depth=12, random_state=13) \n",
      "Оптимальная глубина: 12 \n",
      "Оптимальное количество оценщиков: 100 \n",
      "Наивысшее значение f1: 0.6067193675889327 \n",
      "при AUC-ROC 0.8583976889061634\n",
      "\n",
      "\n"
     ]
    },
    {
     "data": {
      "image/png": "[encoded data removed]",
      "text/plain": [
       "<Figure size 1008x432 with 1 Axes>"
      ]
     },
     "metadata": {
      "needs_background": "light"
     },
     "output_type": "display_data"
    },
    {
     "data": {
      "image/png": "[encoded data removed]",
      "text/plain": [
       "<Figure size 1008x432 with 1 Axes>"
      ]
     },
     "metadata": {
      "needs_background": "light"
     },
     "output_type": "display_data"
    },
    {
     "name": "stdout",
     "output_type": "stream",
     "text": [
      "\n",
      "\n",
      "\n",
      "\n",
      "\n",
      "Модель: LogisticRegression(random_state=13) \n",
      "Значение f1: 0.49196956889264576 \n",
      "при AUC-ROC 0.7746606390674189\n",
      "\n",
      "\n"
     ]
    }
   ],
   "source": [
    "use_three_models(features_downsampled,   # calling the function on downsampled data\n",
    "                 features_valid,\n",
    "                 target_downsampled,\n",
    "                 target_valid,\n",
    "                 tree_max_depth=13,\n",
    "                 forest_max_depth=17,\n",
    "                 forest_min_estimators = 10,\n",
    "                 forest_max_estimators=101\n",
    "                 )"
   ]
  },
  {
   "cell_type": "markdown",
   "metadata": {},
   "source": [
    "#### Результаты\n",
    "\n",
    "При использовании downsampling показатели моделей tree и forest незначительно уменьшились по сравнению с применением upsampling, показатели регрессии практически не изменились, поэтому полученные результаты использоваться не будут.\n",
    "\n",
    "## Тестирование модели\n",
    "\n",
    "Модель, при валидации показавшая лучшее f1-score:\n",
    "\n",
    "RandomForestClassifier\n",
    "\n",
    "- Оптимальная глубина: 11\n",
    "\n",
    "- Оптимальное количество оценщиков: 20\n",
    "\n",
    "- F1: 0.65\n",
    "\n",
    "- AUC-ROC 0.85\n",
    "\n",
    "\n",
    "Обучена данная модель на несбалансированной выборке с применением аргумента class_weight='balanced'.\n",
    "Проверим её на тестовой выборке."
   ]
  },
  {
   "cell_type": "code",
   "execution_count": 24,
   "metadata": {
    "scrolled": true
   },
   "outputs": [
    {
     "name": "stdout",
     "output_type": "stream",
     "text": [
      "F1: 0.6122961104140526\n",
      "AUC-ROC: 0.8517110675928663\n"
     ]
    }
   ],
   "source": [
    "best_model = RandomForestClassifier(max_depth=11, n_estimators=20,\n",
    "                                    random_state=13, class_weight='balanced')\n",
    "best_model.fit(features_train, target_train)\n",
    "best_model_roc = roc_auc_score(target_test, best_model.predict_proba(features_test)[:, 1])\n",
    "best_model_f1 = f1_score(target_test, best_model.predict(features_test))\n",
    "print('F1:',best_model_f1)\n",
    "print('AUC-ROC:',best_model_roc)"
   ]
  },
  {
   "cell_type": "markdown",
   "metadata": {},
   "source": [
    "F1-score на тестовой выборке составило 0.61, что удовлетворяет критериям заказчика. "
   ]
  },
  {
   "cell_type": "markdown",
   "metadata": {},
   "source": [
    "\n",
    "\n",
    "\n",
    "### ROC-кривая лучшей модели"
   ]
  },
  {
   "cell_type": "code",
   "execution_count": 37,
   "metadata": {},
   "outputs": [
    {
     "data": {
      "image/png": "[encoded data removed]",
      "text/plain": [
       "<Figure size 864x432 with 1 Axes>"
      ]
     },
     "metadata": {
      "needs_background": "light"
     },
     "output_type": "display_data"
    }
   ],
   "source": [
    "fpr, tpr, tresholds = roc_curve(target_test, best_model.predict_proba(features_test)[:, 1])\n",
    "\n",
    "plt.figure(figsize=[12,6])\n",
    "plt.plot(fpr, tpr)\n",
    "plt.xlim([0.0, 1.0])\n",
    "plt.ylim([0.0, 1.0])\n",
    "plt.xlabel('False Positive Rate')\n",
    "plt.ylabel('True Positive Rate')\n",
    "plt.title('ROC-кривая')\n",
    "plt.show() "
   ]
  },
  {
   "cell_type": "markdown",
   "metadata": {},
   "source": [
    "F1-score выше требуемого уровня на тестовой выборке достигнуто.\n",
    "F1 составило 0.61, AUC-ROC: 0.84.\n",
    "\n",
    "## Выводы\n",
    "\n",
    "### Цель исследования\n",
    "Спрогнозировать, уйдёт клиент из банка в ближайшее время или нет, используя исторические данные о поведении клиентов и расторжении договоров с банком.\n",
    "\n",
    "### Задачи исследования\n",
    "\n",
    "- Изучить датасет и провести предварительную обработку данных;\n",
    "- Выполнить преобразование данных в соответствии с требованиями машинного обучения;\n",
    "- Исследовать баланс классов;\n",
    "- Обучить модели ML с учётом данных о балансе классов;\n",
    "- Измерить F1-меру и AUC-ROC полученных моделей. Выбрать оптимальную модель;\n",
    "- Протестировать модель на тестовой выборке, требуемое значение F1-меры не менее 0.59.\n",
    "\n",
    "### Материалы и методы\n",
    "Исследование проведено на датасете из открытых источников средствами Python, библиотек pandas, matplotlib, sklearn. Обработка категориальных признаков произведена методом one-hot encoding. Использованы модели машинного обучения DecisionTreeClassifier, RandomForestClassifier, LogisticRegression. Задачи ML решались методом обучения с учителем.\n",
    "\n",
    "### Ход исследования\n",
    "Выполнено следующее:\n",
    "- Исследование и предобработка исходного датасета: изучение распределения признаков, удаление пропущенных значений.\n",
    "- Преобразование данных: удаление информации, не участвующей в исследовании, кодирование категориальных признаков методом one-hot encoding, разделение на обучающую, валидационную и тестовую выборки в соотношении 3:1:1 с учётом стратификации целевого признака.\n",
    "- Масштабирование данных для улучшения результатов обучения.\n",
    "- Обучение и валидация моделей без учёта дисбаланса классов.\n",
    "- Обучение и валидация моделей с использованием аргумента class_weight, метода upsampling, метода downsampling.\n",
    "- Исследованы значения метрик F1 и AUC-ROC, построены графики зависимости метрик от гиперпараметров.\n",
    "- Определена и проверена на тестовой выборке оптимальная модель для решения данной задачи.\n",
    "- Построена ROC-кривая оптимальной модели.\n",
    "\n",
    "### Результаты исследования\n",
    "\n",
    "Наилучшие метрики:\n",
    "- F1: 0.61\n",
    "- AUC-ROC: 0.85\n",
    "\n",
    "получены при тестировании модели RandomForestClassifier() с глубиной леса 11, количеством оценщиков 20, обученной на выборке, состоящей из обучающей и валидационной.\n",
    "\n",
    "Данная модель показала наибольшие значения метрик среди всех исследованных, рекомендуется к практическому применению."
   ]
  }
 ],
 "metadata": {
  "ExecuteTimeLog": [
   {
    "duration": 48,
    "start_time": "2022-11-14T00:06:40.180Z"
   },
   {
    "duration": 6,
    "start_time": "2022-11-14T00:06:44.857Z"
   },
   {
    "duration": 398,
    "start_time": "2022-11-14T00:06:47.329Z"
   },
   {
    "duration": 30,
    "start_time": "2022-11-14T00:06:49.080Z"
   },
   {
    "duration": 36,
    "start_time": "2022-11-14T00:06:57.209Z"
   },
   {
    "duration": 161,
    "start_time": "2022-11-14T00:07:12.921Z"
   },
   {
    "duration": 48,
    "start_time": "2022-11-14T00:07:21.416Z"
   },
   {
    "duration": 63,
    "start_time": "2022-11-14T00:07:39.393Z"
   },
   {
    "duration": 59,
    "start_time": "2022-11-14T00:09:17.131Z"
   },
   {
    "duration": 47,
    "start_time": "2022-11-14T00:09:33.793Z"
   },
   {
    "duration": 57,
    "start_time": "2022-11-14T00:09:50.233Z"
   },
   {
    "duration": 65,
    "start_time": "2022-11-14T00:10:17.609Z"
   },
   {
    "duration": 10,
    "start_time": "2022-11-14T00:11:25.744Z"
   },
   {
    "duration": 45,
    "start_time": "2022-11-15T11:22:40.878Z"
   },
   {
    "duration": 417,
    "start_time": "2022-11-15T11:22:45.831Z"
   },
   {
    "duration": 195,
    "start_time": "2022-11-15T11:22:46.252Z"
   },
   {
    "duration": 8,
    "start_time": "2022-11-15T11:22:46.449Z"
   },
   {
    "duration": 6,
    "start_time": "2022-11-15T11:22:48.930Z"
   },
   {
    "duration": 4,
    "start_time": "2022-11-15T11:25:16.621Z"
   },
   {
    "duration": 4,
    "start_time": "2022-11-15T11:26:16.851Z"
   },
   {
    "duration": 1064,
    "start_time": "2022-11-15T11:31:14.461Z"
   },
   {
    "duration": 22,
    "start_time": "2022-11-15T11:31:24.485Z"
   },
   {
    "duration": 484,
    "start_time": "2022-11-15T11:31:35.774Z"
   },
   {
    "duration": 6,
    "start_time": "2022-11-15T11:31:44.917Z"
   },
   {
    "duration": 5,
    "start_time": "2022-11-15T11:31:50.846Z"
   },
   {
    "duration": 22,
    "start_time": "2022-11-15T11:32:14.966Z"
   },
   {
    "duration": 11,
    "start_time": "2022-11-15T11:32:22.684Z"
   },
   {
    "duration": 7,
    "start_time": "2022-11-15T11:32:29.222Z"
   },
   {
    "duration": 12,
    "start_time": "2022-11-15T11:32:31.493Z"
   },
   {
    "duration": 846,
    "start_time": "2022-11-15T11:34:33.279Z"
   },
   {
    "duration": 36,
    "start_time": "2022-11-15T11:34:49.391Z"
   },
   {
    "duration": 36,
    "start_time": "2022-11-15T11:35:12.294Z"
   },
   {
    "duration": 413,
    "start_time": "2022-11-15T11:35:35.709Z"
   },
   {
    "duration": 49,
    "start_time": "2022-11-15T11:35:37.629Z"
   },
   {
    "duration": 47,
    "start_time": "2022-11-15T11:35:41.323Z"
   },
   {
    "duration": 50,
    "start_time": "2022-11-15T11:36:36.123Z"
   },
   {
    "duration": 19,
    "start_time": "2022-11-15T11:40:16.224Z"
   },
   {
    "duration": 21,
    "start_time": "2022-11-15T11:42:28.416Z"
   },
   {
    "duration": 709,
    "start_time": "2022-11-15T11:45:10.062Z"
   },
   {
    "duration": 98,
    "start_time": "2022-11-15T11:48:02.630Z"
   },
   {
    "duration": 18,
    "start_time": "2022-11-15T11:48:22.072Z"
   },
   {
    "duration": 17,
    "start_time": "2022-11-15T11:49:01.678Z"
   },
   {
    "duration": 21,
    "start_time": "2022-11-15T11:49:05.208Z"
   },
   {
    "duration": 141,
    "start_time": "2022-11-15T11:49:08.712Z"
   },
   {
    "duration": 163,
    "start_time": "2022-11-15T11:49:36.270Z"
   },
   {
    "duration": 10,
    "start_time": "2022-11-15T11:50:18.119Z"
   },
   {
    "duration": 10,
    "start_time": "2022-11-15T11:50:39.925Z"
   },
   {
    "duration": 9,
    "start_time": "2022-11-15T11:50:52.958Z"
   },
   {
    "duration": 17,
    "start_time": "2022-11-15T11:54:49.699Z"
   },
   {
    "duration": 60,
    "start_time": "2022-11-15T11:55:03.819Z"
   },
   {
    "duration": 1024,
    "start_time": "2022-11-15T11:55:18.555Z"
   },
   {
    "duration": 50,
    "start_time": "2022-11-15T11:55:19.581Z"
   },
   {
    "duration": 45,
    "start_time": "2022-11-15T11:55:19.633Z"
   },
   {
    "duration": 47,
    "start_time": "2022-11-15T11:55:19.680Z"
   },
   {
    "duration": 17,
    "start_time": "2022-11-15T11:55:19.729Z"
   },
   {
    "duration": 16,
    "start_time": "2022-11-15T11:55:19.748Z"
   },
   {
    "duration": 44,
    "start_time": "2022-11-15T11:55:19.766Z"
   },
   {
    "duration": 189,
    "start_time": "2022-11-15T11:55:22.305Z"
   },
   {
    "duration": 12,
    "start_time": "2022-11-15T11:55:31.673Z"
   },
   {
    "duration": 16,
    "start_time": "2022-11-15T11:58:04.506Z"
   },
   {
    "duration": 14,
    "start_time": "2022-11-15T11:58:09.481Z"
   },
   {
    "duration": 13,
    "start_time": "2022-11-15T11:58:33.570Z"
   },
   {
    "duration": 17,
    "start_time": "2022-11-15T12:03:29.874Z"
   },
   {
    "duration": 20,
    "start_time": "2022-11-15T12:03:42.562Z"
   },
   {
    "duration": 18,
    "start_time": "2022-11-15T12:03:53.530Z"
   },
   {
    "duration": 18,
    "start_time": "2022-11-15T12:11:53.973Z"
   },
   {
    "duration": 1207,
    "start_time": "2022-11-15T14:36:01.376Z"
   },
   {
    "duration": 3,
    "start_time": "2022-11-15T14:36:06.788Z"
   },
   {
    "duration": 12,
    "start_time": "2022-11-15T15:06:21.312Z"
   },
   {
    "duration": 3,
    "start_time": "2022-11-15T15:06:32.222Z"
   },
   {
    "duration": 92,
    "start_time": "2022-11-15T15:06:32.232Z"
   },
   {
    "duration": 50,
    "start_time": "2022-11-15T15:06:32.326Z"
   },
   {
    "duration": 50,
    "start_time": "2022-11-15T15:06:32.377Z"
   },
   {
    "duration": 17,
    "start_time": "2022-11-15T15:06:32.429Z"
   },
   {
    "duration": 17,
    "start_time": "2022-11-15T15:06:32.449Z"
   },
   {
    "duration": 12,
    "start_time": "2022-11-15T15:06:32.467Z"
   },
   {
    "duration": 56,
    "start_time": "2022-11-15T15:06:32.481Z"
   },
   {
    "duration": 17,
    "start_time": "2022-11-15T15:06:32.539Z"
   },
   {
    "duration": 78,
    "start_time": "2022-11-15T15:06:45.234Z"
   },
   {
    "duration": 74,
    "start_time": "2022-11-15T15:07:12.523Z"
   },
   {
    "duration": 78,
    "start_time": "2022-11-15T15:07:35.403Z"
   },
   {
    "duration": 2292,
    "start_time": "2022-11-15T15:07:52.842Z"
   },
   {
    "duration": 2217,
    "start_time": "2022-11-15T15:08:08.986Z"
   },
   {
    "duration": 396,
    "start_time": "2022-11-15T15:11:17.146Z"
   },
   {
    "duration": 26,
    "start_time": "2022-11-15T15:12:42.164Z"
   },
   {
    "duration": 4,
    "start_time": "2022-11-15T15:13:44.741Z"
   },
   {
    "duration": 3,
    "start_time": "2022-11-15T15:14:20.988Z"
   },
   {
    "duration": 8,
    "start_time": "2022-11-15T15:14:24.659Z"
   },
   {
    "duration": 9,
    "start_time": "2022-11-15T15:15:08.413Z"
   },
   {
    "duration": 10,
    "start_time": "2022-11-15T15:15:26.915Z"
   },
   {
    "duration": 152,
    "start_time": "2022-11-15T15:15:54.796Z"
   },
   {
    "duration": 2976,
    "start_time": "2022-11-15T15:16:32.292Z"
   },
   {
    "duration": 5164,
    "start_time": "2022-11-15T15:16:47.004Z"
   },
   {
    "duration": 9010,
    "start_time": "2022-11-15T15:17:27.933Z"
   },
   {
    "duration": 3914,
    "start_time": "2022-11-15T15:17:52.877Z"
   },
   {
    "duration": 4609,
    "start_time": "2022-11-15T15:18:12.661Z"
   },
   {
    "duration": 141,
    "start_time": "2022-11-15T15:18:24.557Z"
   },
   {
    "duration": 1858,
    "start_time": "2022-11-15T15:18:53.893Z"
   },
   {
    "duration": 1329,
    "start_time": "2022-11-15T15:19:08.445Z"
   },
   {
    "duration": 348,
    "start_time": "2022-11-15T15:19:25.518Z"
   },
   {
    "duration": 1339,
    "start_time": "2022-11-15T15:19:43.858Z"
   },
   {
    "duration": 52,
    "start_time": "2022-11-15T15:19:45.199Z"
   },
   {
    "duration": 46,
    "start_time": "2022-11-15T15:19:45.253Z"
   },
   {
    "duration": 56,
    "start_time": "2022-11-15T15:19:45.302Z"
   },
   {
    "duration": 23,
    "start_time": "2022-11-15T15:19:45.360Z"
   },
   {
    "duration": 16,
    "start_time": "2022-11-15T15:19:45.384Z"
   },
   {
    "duration": 29,
    "start_time": "2022-11-15T15:19:45.401Z"
   },
   {
    "duration": 22,
    "start_time": "2022-11-15T15:19:45.431Z"
   },
   {
    "duration": 18,
    "start_time": "2022-11-15T15:19:45.454Z"
   },
   {
    "duration": 4050,
    "start_time": "2022-11-15T15:19:55.533Z"
   },
   {
    "duration": 1395,
    "start_time": "2022-11-15T15:20:25.476Z"
   },
   {
    "duration": 47,
    "start_time": "2022-11-15T15:20:26.873Z"
   },
   {
    "duration": 46,
    "start_time": "2022-11-15T15:20:26.922Z"
   },
   {
    "duration": 41,
    "start_time": "2022-11-15T15:20:26.970Z"
   },
   {
    "duration": 16,
    "start_time": "2022-11-15T15:20:27.027Z"
   },
   {
    "duration": 16,
    "start_time": "2022-11-15T15:20:27.044Z"
   },
   {
    "duration": 10,
    "start_time": "2022-11-15T15:20:27.061Z"
   },
   {
    "duration": 22,
    "start_time": "2022-11-15T15:20:27.073Z"
   },
   {
    "duration": 42,
    "start_time": "2022-11-15T15:20:27.096Z"
   },
   {
    "duration": 4473,
    "start_time": "2022-11-15T15:20:31.757Z"
   },
   {
    "duration": 4565,
    "start_time": "2022-11-15T15:21:12.844Z"
   },
   {
    "duration": 154,
    "start_time": "2022-11-15T15:21:36.092Z"
   },
   {
    "duration": 68,
    "start_time": "2022-11-15T15:21:51.244Z"
   },
   {
    "duration": 167,
    "start_time": "2022-11-15T15:21:56.373Z"
   },
   {
    "duration": 175,
    "start_time": "2022-11-15T15:22:33.173Z"
   },
   {
    "duration": 2045,
    "start_time": "2022-11-15T15:23:09.150Z"
   },
   {
    "duration": 168,
    "start_time": "2022-11-15T15:23:31.270Z"
   },
   {
    "duration": 51,
    "start_time": "2022-11-15T15:24:19.902Z"
   },
   {
    "duration": 1336,
    "start_time": "2022-11-15T15:24:24.258Z"
   },
   {
    "duration": 55,
    "start_time": "2022-11-15T15:24:25.597Z"
   },
   {
    "duration": 57,
    "start_time": "2022-11-15T15:24:25.654Z"
   },
   {
    "duration": 46,
    "start_time": "2022-11-15T15:24:25.714Z"
   },
   {
    "duration": 16,
    "start_time": "2022-11-15T15:24:25.762Z"
   },
   {
    "duration": 15,
    "start_time": "2022-11-15T15:24:25.780Z"
   },
   {
    "duration": 37,
    "start_time": "2022-11-15T15:24:25.797Z"
   },
   {
    "duration": 21,
    "start_time": "2022-11-15T15:24:25.836Z"
   },
   {
    "duration": 15,
    "start_time": "2022-11-15T15:24:25.859Z"
   },
   {
    "duration": 3924,
    "start_time": "2022-11-15T15:24:29.638Z"
   },
   {
    "duration": 1132,
    "start_time": "2022-11-15T15:25:05.606Z"
   },
   {
    "duration": 2252,
    "start_time": "2022-11-15T15:25:16.784Z"
   },
   {
    "duration": 4196,
    "start_time": "2022-11-15T15:25:29.081Z"
   },
   {
    "duration": 10311,
    "start_time": "2022-11-15T15:25:40.064Z"
   },
   {
    "duration": 216,
    "start_time": "2022-11-15T15:27:55.367Z"
   },
   {
    "duration": 10580,
    "start_time": "2022-11-15T15:28:32.879Z"
   },
   {
    "duration": 4181,
    "start_time": "2022-11-15T15:28:53.487Z"
   },
   {
    "duration": 475,
    "start_time": "2022-11-15T15:29:02.576Z"
   },
   {
    "duration": 870,
    "start_time": "2022-11-15T15:29:16.199Z"
   },
   {
    "duration": 189,
    "start_time": "2022-11-15T15:29:44.424Z"
   },
   {
    "duration": 2170,
    "start_time": "2022-11-15T15:30:02.288Z"
   },
   {
    "duration": 171,
    "start_time": "2022-11-15T15:30:11.232Z"
   },
   {
    "duration": 3196,
    "start_time": "2022-11-15T15:30:33.584Z"
   },
   {
    "duration": 5316,
    "start_time": "2022-11-15T15:30:42.360Z"
   },
   {
    "duration": 7507,
    "start_time": "2022-11-15T15:30:56.384Z"
   },
   {
    "duration": 181,
    "start_time": "2022-11-15T15:31:26.616Z"
   },
   {
    "duration": 199,
    "start_time": "2022-11-15T15:31:36.993Z"
   },
   {
    "duration": 1320,
    "start_time": "2022-11-15T15:34:51.396Z"
   },
   {
    "duration": 45,
    "start_time": "2022-11-15T15:34:54.360Z"
   },
   {
    "duration": 42,
    "start_time": "2022-11-15T15:34:57.145Z"
   },
   {
    "duration": 38,
    "start_time": "2022-11-15T15:34:59.561Z"
   },
   {
    "duration": 16,
    "start_time": "2022-11-15T15:35:03.703Z"
   },
   {
    "duration": 14,
    "start_time": "2022-11-15T15:35:06.080Z"
   },
   {
    "duration": 14,
    "start_time": "2022-11-15T15:35:07.257Z"
   },
   {
    "duration": 39,
    "start_time": "2022-11-15T15:35:10.312Z"
   },
   {
    "duration": 35,
    "start_time": "2022-11-15T15:35:11.088Z"
   },
   {
    "duration": 36,
    "start_time": "2022-11-15T15:35:12.328Z"
   },
   {
    "duration": 16,
    "start_time": "2022-11-15T15:35:13.848Z"
   },
   {
    "duration": 21,
    "start_time": "2022-11-15T15:35:15.527Z"
   },
   {
    "duration": 10,
    "start_time": "2022-11-15T15:35:19.544Z"
   },
   {
    "duration": 20,
    "start_time": "2022-11-15T15:35:21.928Z"
   },
   {
    "duration": 17,
    "start_time": "2022-11-15T15:35:26.000Z"
   },
   {
    "duration": 7629,
    "start_time": "2022-11-15T15:36:43.329Z"
   },
   {
    "duration": 196,
    "start_time": "2022-11-15T15:37:07.000Z"
   },
   {
    "duration": 10,
    "start_time": "2022-11-15T15:37:25.913Z"
   },
   {
    "duration": 7110,
    "start_time": "2022-11-15T15:38:41.882Z"
   },
   {
    "duration": 188,
    "start_time": "2022-11-15T15:39:06.377Z"
   },
   {
    "duration": 9,
    "start_time": "2022-11-15T15:39:08.553Z"
   },
   {
    "duration": 162,
    "start_time": "2022-11-15T15:39:55.985Z"
   },
   {
    "duration": 5,
    "start_time": "2022-11-15T15:40:02.344Z"
   },
   {
    "duration": 8374,
    "start_time": "2022-11-15T15:40:28.922Z"
   },
   {
    "duration": 6997,
    "start_time": "2022-11-15T15:42:01.434Z"
   },
   {
    "duration": 7059,
    "start_time": "2022-11-15T15:43:01.723Z"
   },
   {
    "duration": 75,
    "start_time": "2022-11-15T15:43:16.722Z"
   },
   {
    "duration": 6873,
    "start_time": "2022-11-15T15:43:21.506Z"
   },
   {
    "duration": 6888,
    "start_time": "2022-11-15T15:44:28.484Z"
   },
   {
    "duration": 3558,
    "start_time": "2022-11-15T15:44:44.296Z"
   },
   {
    "duration": 191,
    "start_time": "2022-11-15T15:44:58.266Z"
   },
   {
    "duration": 160,
    "start_time": "2022-11-15T15:46:22.995Z"
   },
   {
    "duration": 195,
    "start_time": "2022-11-15T15:46:31.882Z"
   },
   {
    "duration": 4,
    "start_time": "2022-11-15T15:47:19.811Z"
   },
   {
    "duration": 23,
    "start_time": "2022-11-15T15:47:23.330Z"
   },
   {
    "duration": 21,
    "start_time": "2022-11-15T15:47:35.154Z"
   },
   {
    "duration": 21,
    "start_time": "2022-11-15T15:47:54.394Z"
   },
   {
    "duration": 25,
    "start_time": "2022-11-15T15:48:32.651Z"
   },
   {
    "duration": 24,
    "start_time": "2022-11-15T15:48:39.931Z"
   },
   {
    "duration": 3021,
    "start_time": "2022-11-15T15:49:43.188Z"
   },
   {
    "duration": 169,
    "start_time": "2022-11-15T15:49:58.437Z"
   },
   {
    "duration": 23,
    "start_time": "2022-11-15T15:50:11.539Z"
   },
   {
    "duration": 29,
    "start_time": "2022-11-15T15:50:39.811Z"
   },
   {
    "duration": 12122,
    "start_time": "2022-11-15T15:54:07.117Z"
   },
   {
    "duration": 166,
    "start_time": "2022-11-15T15:55:37.269Z"
   },
   {
    "duration": 3410,
    "start_time": "2022-11-15T15:56:20.342Z"
   },
   {
    "duration": 150,
    "start_time": "2022-11-15T15:56:31.092Z"
   },
   {
    "duration": 146,
    "start_time": "2022-11-15T15:57:04.676Z"
   },
   {
    "duration": 180,
    "start_time": "2022-11-15T15:57:09.692Z"
   },
   {
    "duration": 1265,
    "start_time": "2022-11-15T15:58:18.389Z"
   },
   {
    "duration": 43,
    "start_time": "2022-11-15T15:58:19.656Z"
   },
   {
    "duration": 65,
    "start_time": "2022-11-15T15:58:19.702Z"
   },
   {
    "duration": 36,
    "start_time": "2022-11-15T15:58:19.770Z"
   },
   {
    "duration": 29,
    "start_time": "2022-11-15T15:58:19.807Z"
   },
   {
    "duration": 17,
    "start_time": "2022-11-15T15:58:19.837Z"
   },
   {
    "duration": 9,
    "start_time": "2022-11-15T15:58:19.856Z"
   },
   {
    "duration": 20,
    "start_time": "2022-11-15T15:58:19.867Z"
   },
   {
    "duration": 43,
    "start_time": "2022-11-15T15:58:19.888Z"
   },
   {
    "duration": 2938,
    "start_time": "2022-11-15T15:58:19.933Z"
   },
   {
    "duration": 175,
    "start_time": "2022-11-15T15:58:22.873Z"
   },
   {
    "duration": 3361,
    "start_time": "2022-11-15T15:58:23.050Z"
   },
   {
    "duration": 161,
    "start_time": "2022-11-15T15:58:26.413Z"
   },
   {
    "duration": 3009,
    "start_time": "2022-11-15T16:15:27.266Z"
   },
   {
    "duration": 159,
    "start_time": "2022-11-15T16:15:42.337Z"
   },
   {
    "duration": 2497,
    "start_time": "2022-11-15T16:16:03.554Z"
   },
   {
    "duration": 143,
    "start_time": "2022-11-15T16:16:44.964Z"
   },
   {
    "duration": 96,
    "start_time": "2022-11-15T16:44:49.360Z"
   },
   {
    "duration": 3,
    "start_time": "2022-11-15T16:45:41.232Z"
   },
   {
    "duration": 73,
    "start_time": "2022-11-15T17:05:57.540Z"
   },
   {
    "duration": 469,
    "start_time": "2022-11-15T17:06:31.637Z"
   },
   {
    "duration": 7,
    "start_time": "2022-11-15T17:06:43.765Z"
   },
   {
    "duration": 6,
    "start_time": "2022-11-15T17:07:28.988Z"
   },
   {
    "duration": 643,
    "start_time": "2022-11-15T17:07:39.893Z"
   },
   {
    "duration": 411,
    "start_time": "2022-11-15T17:08:13.332Z"
   },
   {
    "duration": 8,
    "start_time": "2022-11-15T17:09:43.444Z"
   },
   {
    "duration": 6,
    "start_time": "2022-11-15T17:09:51.108Z"
   },
   {
    "duration": 417,
    "start_time": "2022-11-15T17:10:13.835Z"
   },
   {
    "duration": 7,
    "start_time": "2022-11-15T17:11:23.524Z"
   },
   {
    "duration": 21,
    "start_time": "2022-11-15T17:11:29.109Z"
   },
   {
    "duration": 6,
    "start_time": "2022-11-15T17:11:49.908Z"
   },
   {
    "duration": 6,
    "start_time": "2022-11-15T17:12:05.924Z"
   },
   {
    "duration": 6,
    "start_time": "2022-11-15T17:12:14.373Z"
   },
   {
    "duration": 70,
    "start_time": "2022-11-15T17:12:27.606Z"
   },
   {
    "duration": 68,
    "start_time": "2022-11-15T17:12:38.324Z"
   },
   {
    "duration": 6,
    "start_time": "2022-11-15T17:12:46.373Z"
   },
   {
    "duration": 294,
    "start_time": "2022-11-15T17:12:50.876Z"
   },
   {
    "duration": 9,
    "start_time": "2022-11-15T17:13:20.084Z"
   },
   {
    "duration": 317,
    "start_time": "2022-11-15T17:13:29.685Z"
   },
   {
    "duration": 6,
    "start_time": "2022-11-15T17:15:22.549Z"
   },
   {
    "duration": 288,
    "start_time": "2022-11-15T17:15:27.204Z"
   },
   {
    "duration": 7,
    "start_time": "2022-11-15T17:16:50.933Z"
   },
   {
    "duration": 447,
    "start_time": "2022-11-15T17:16:54.837Z"
   },
   {
    "duration": 7,
    "start_time": "2022-11-15T17:17:04.229Z"
   },
   {
    "duration": 444,
    "start_time": "2022-11-15T17:17:06.982Z"
   },
   {
    "duration": 74,
    "start_time": "2022-11-15T17:17:39.573Z"
   },
   {
    "duration": 6,
    "start_time": "2022-11-15T17:17:43.757Z"
   },
   {
    "duration": 417,
    "start_time": "2022-11-15T17:17:46.797Z"
   },
   {
    "duration": 7,
    "start_time": "2022-11-15T17:18:39.365Z"
   },
   {
    "duration": 292,
    "start_time": "2022-11-15T17:18:42.684Z"
   },
   {
    "duration": 6,
    "start_time": "2022-11-15T17:19:56.973Z"
   },
   {
    "duration": 444,
    "start_time": "2022-11-15T17:20:02.614Z"
   },
   {
    "duration": 7,
    "start_time": "2022-11-15T17:20:22.382Z"
   },
   {
    "duration": 432,
    "start_time": "2022-11-15T17:20:24.542Z"
   },
   {
    "duration": 7,
    "start_time": "2022-11-15T17:21:07.141Z"
   },
   {
    "duration": 441,
    "start_time": "2022-11-15T17:21:09.309Z"
   },
   {
    "duration": 9,
    "start_time": "2022-11-15T17:31:43.591Z"
   },
   {
    "duration": 2438,
    "start_time": "2022-11-15T17:31:46.847Z"
   },
   {
    "duration": 1883,
    "start_time": "2022-11-15T17:32:20.911Z"
   },
   {
    "duration": 9,
    "start_time": "2022-11-15T17:32:51.791Z"
   },
   {
    "duration": 11,
    "start_time": "2022-11-15T17:39:46.027Z"
   },
   {
    "duration": 1804,
    "start_time": "2022-11-15T17:39:49.242Z"
   },
   {
    "duration": 12,
    "start_time": "2022-11-15T17:40:52.153Z"
   },
   {
    "duration": 3136,
    "start_time": "2022-11-15T17:40:54.864Z"
   },
   {
    "duration": 12,
    "start_time": "2022-11-15T17:41:51.050Z"
   },
   {
    "duration": 4964,
    "start_time": "2022-11-15T17:41:54.106Z"
   },
   {
    "duration": 15,
    "start_time": "2022-11-15T17:42:35.874Z"
   },
   {
    "duration": 4935,
    "start_time": "2022-11-15T17:42:39.153Z"
   },
   {
    "duration": 2996,
    "start_time": "2022-11-15T17:43:29.002Z"
   },
   {
    "duration": 3444,
    "start_time": "2022-11-15T17:43:47.642Z"
   },
   {
    "duration": 10220,
    "start_time": "2022-11-15T17:44:16.545Z"
   },
   {
    "duration": 15665,
    "start_time": "2022-11-15T17:44:57.610Z"
   },
   {
    "duration": 4982,
    "start_time": "2022-11-15T17:45:53.226Z"
   },
   {
    "duration": 2,
    "start_time": "2022-11-15T17:52:10.276Z"
   },
   {
    "duration": 13,
    "start_time": "2022-11-15T17:58:42.479Z"
   },
   {
    "duration": 5358,
    "start_time": "2022-11-15T17:58:47.573Z"
   },
   {
    "duration": 1684,
    "start_time": "2022-11-15T20:51:15.883Z"
   },
   {
    "duration": 92,
    "start_time": "2022-11-15T20:51:17.569Z"
   },
   {
    "duration": 47,
    "start_time": "2022-11-15T20:51:17.663Z"
   },
   {
    "duration": 41,
    "start_time": "2022-11-15T20:51:17.712Z"
   },
   {
    "duration": 33,
    "start_time": "2022-11-15T20:51:17.755Z"
   },
   {
    "duration": 20,
    "start_time": "2022-11-15T20:51:17.789Z"
   },
   {
    "duration": 12,
    "start_time": "2022-11-15T20:51:17.810Z"
   },
   {
    "duration": 24,
    "start_time": "2022-11-15T20:51:17.824Z"
   },
   {
    "duration": 18,
    "start_time": "2022-11-15T20:51:17.877Z"
   },
   {
    "duration": 15,
    "start_time": "2022-11-15T20:51:17.898Z"
   },
   {
    "duration": 8665,
    "start_time": "2022-11-15T20:51:17.915Z"
   },
   {
    "duration": 6313,
    "start_time": "2022-11-15T20:51:34.272Z"
   },
   {
    "duration": 9,
    "start_time": "2022-11-15T21:40:35.209Z"
   },
   {
    "duration": 119,
    "start_time": "2022-11-15T21:44:50.281Z"
   },
   {
    "duration": 9,
    "start_time": "2022-11-15T21:45:02.938Z"
   },
   {
    "duration": 14,
    "start_time": "2022-11-15T21:45:12.137Z"
   },
   {
    "duration": 14,
    "start_time": "2022-11-15T21:45:14.225Z"
   },
   {
    "duration": 9,
    "start_time": "2022-11-15T21:45:17.985Z"
   },
   {
    "duration": 21,
    "start_time": "2022-11-15T21:46:16.530Z"
   },
   {
    "duration": 1508,
    "start_time": "2022-11-15T21:48:20.869Z"
   },
   {
    "duration": 50,
    "start_time": "2022-11-15T21:48:22.379Z"
   },
   {
    "duration": 47,
    "start_time": "2022-11-15T21:48:22.431Z"
   },
   {
    "duration": 42,
    "start_time": "2022-11-15T21:48:22.481Z"
   },
   {
    "duration": 18,
    "start_time": "2022-11-15T21:48:22.525Z"
   },
   {
    "duration": 45,
    "start_time": "2022-11-15T21:48:22.545Z"
   },
   {
    "duration": 14,
    "start_time": "2022-11-15T21:48:22.592Z"
   },
   {
    "duration": 31,
    "start_time": "2022-11-15T21:48:22.608Z"
   },
   {
    "duration": 46,
    "start_time": "2022-11-15T21:48:22.650Z"
   },
   {
    "duration": 24,
    "start_time": "2022-11-15T21:48:22.700Z"
   },
   {
    "duration": 6853,
    "start_time": "2022-11-15T21:48:22.726Z"
   },
   {
    "duration": 6897,
    "start_time": "2022-11-15T21:48:29.582Z"
   },
   {
    "duration": 96,
    "start_time": "2022-11-15T21:48:36.483Z"
   },
   {
    "duration": 122,
    "start_time": "2022-11-15T21:49:02.530Z"
   },
   {
    "duration": 5,
    "start_time": "2022-11-15T21:49:24.009Z"
   },
   {
    "duration": 20,
    "start_time": "2022-11-15T21:49:40.201Z"
   },
   {
    "duration": 7,
    "start_time": "2022-11-15T21:50:12.570Z"
   },
   {
    "duration": 12,
    "start_time": "2022-11-15T21:50:20.162Z"
   },
   {
    "duration": 10197,
    "start_time": "2022-11-15T21:52:09.882Z"
   },
   {
    "duration": 17,
    "start_time": "2022-11-15T21:53:08.939Z"
   },
   {
    "duration": 11025,
    "start_time": "2022-11-15T21:53:18.570Z"
   },
   {
    "duration": 13808,
    "start_time": "2022-11-15T21:54:01.771Z"
   },
   {
    "duration": 72,
    "start_time": "2022-11-15T21:54:53.170Z"
   },
   {
    "duration": 9864,
    "start_time": "2022-11-15T21:54:57.218Z"
   },
   {
    "duration": 9592,
    "start_time": "2022-11-15T21:55:27.098Z"
   },
   {
    "duration": 9259,
    "start_time": "2022-11-15T21:56:07.725Z"
   },
   {
    "duration": 8642,
    "start_time": "2022-11-15T22:37:37.137Z"
   },
   {
    "duration": 11,
    "start_time": "2022-11-15T22:39:50.777Z"
   },
   {
    "duration": 11,
    "start_time": "2022-11-15T22:40:47.881Z"
   },
   {
    "duration": 10,
    "start_time": "2022-11-15T22:40:58.666Z"
   },
   {
    "duration": 8614,
    "start_time": "2022-11-15T22:42:34.566Z"
   },
   {
    "duration": 8507,
    "start_time": "2022-11-15T22:42:50.378Z"
   },
   {
    "duration": 335,
    "start_time": "2022-11-15T22:48:20.524Z"
   },
   {
    "duration": 345,
    "start_time": "2022-11-15T22:49:24.828Z"
   },
   {
    "duration": 149,
    "start_time": "2022-11-15T22:51:49.524Z"
   },
   {
    "duration": 329,
    "start_time": "2022-11-15T22:51:54.244Z"
   },
   {
    "duration": 650,
    "start_time": "2022-11-15T22:51:58.944Z"
   },
   {
    "duration": 1248,
    "start_time": "2022-11-15T22:52:05.740Z"
   },
   {
    "duration": 2008,
    "start_time": "2022-11-15T22:52:10.868Z"
   },
   {
    "duration": 335,
    "start_time": "2022-11-15T22:52:20.732Z"
   },
   {
    "duration": 262,
    "start_time": "2022-11-15T22:52:24.668Z"
   },
   {
    "duration": 206,
    "start_time": "2022-11-15T22:52:27.892Z"
   },
   {
    "duration": 330,
    "start_time": "2022-11-15T22:52:33.764Z"
   },
   {
    "duration": 317,
    "start_time": "2022-11-15T22:52:38.524Z"
   },
   {
    "duration": 319,
    "start_time": "2022-11-15T22:52:47.716Z"
   },
   {
    "duration": 312,
    "start_time": "2022-11-15T22:52:51.260Z"
   },
   {
    "duration": 315,
    "start_time": "2022-11-15T22:52:57.100Z"
   },
   {
    "duration": 349,
    "start_time": "2022-11-15T22:53:01.596Z"
   },
   {
    "duration": 343,
    "start_time": "2022-11-15T22:53:04.386Z"
   },
   {
    "duration": 319,
    "start_time": "2022-11-15T22:53:08.516Z"
   },
   {
    "duration": 320,
    "start_time": "2022-11-15T22:53:26.668Z"
   },
   {
    "duration": 355,
    "start_time": "2022-11-15T22:53:31.077Z"
   },
   {
    "duration": 350,
    "start_time": "2022-11-15T22:54:48.277Z"
   },
   {
    "duration": 430,
    "start_time": "2022-11-15T22:55:01.493Z"
   },
   {
    "duration": 1344,
    "start_time": "2022-11-15T22:59:38.454Z"
   },
   {
    "duration": 2655,
    "start_time": "2022-11-15T23:00:29.830Z"
   },
   {
    "duration": 2008,
    "start_time": "2022-11-15T23:00:47.230Z"
   },
   {
    "duration": 2091,
    "start_time": "2022-11-15T23:00:52.366Z"
   },
   {
    "duration": 2212,
    "start_time": "2022-11-15T23:01:09.766Z"
   },
   {
    "duration": 1893,
    "start_time": "2022-11-15T23:02:17.974Z"
   },
   {
    "duration": 17,
    "start_time": "2022-11-15T23:07:37.030Z"
   },
   {
    "duration": 4270,
    "start_time": "2022-11-15T23:18:16.007Z"
   },
   {
    "duration": 4233,
    "start_time": "2022-11-15T23:18:36.446Z"
   },
   {
    "duration": 15,
    "start_time": "2022-11-15T23:20:51.354Z"
   },
   {
    "duration": 6506,
    "start_time": "2022-11-15T23:20:53.679Z"
   },
   {
    "duration": 14,
    "start_time": "2022-11-15T23:21:31.895Z"
   },
   {
    "duration": 6596,
    "start_time": "2022-11-15T23:21:41.983Z"
   },
   {
    "duration": 6679,
    "start_time": "2022-11-15T23:22:10.801Z"
   },
   {
    "duration": 14,
    "start_time": "2022-11-15T23:26:46.736Z"
   },
   {
    "duration": 6717,
    "start_time": "2022-11-15T23:26:55.962Z"
   },
   {
    "duration": 15,
    "start_time": "2022-11-15T23:27:39.576Z"
   },
   {
    "duration": 6334,
    "start_time": "2022-11-15T23:27:42.551Z"
   },
   {
    "duration": 6502,
    "start_time": "2022-11-15T23:28:29.583Z"
   },
   {
    "duration": 14,
    "start_time": "2022-11-15T23:29:11.376Z"
   },
   {
    "duration": 14,
    "start_time": "2022-11-15T23:30:39.065Z"
   },
   {
    "duration": 1565,
    "start_time": "2022-11-16T13:32:10.772Z"
   },
   {
    "duration": 89,
    "start_time": "2022-11-16T13:32:12.339Z"
   },
   {
    "duration": 43,
    "start_time": "2022-11-16T13:32:12.429Z"
   },
   {
    "duration": 1706,
    "start_time": "2022-11-16T13:32:12.473Z"
   },
   {
    "duration": 36,
    "start_time": "2022-11-16T13:32:14.181Z"
   },
   {
    "duration": 15,
    "start_time": "2022-11-16T13:32:14.219Z"
   },
   {
    "duration": 16,
    "start_time": "2022-11-16T13:32:14.236Z"
   },
   {
    "duration": 10,
    "start_time": "2022-11-16T13:32:14.277Z"
   },
   {
    "duration": 19,
    "start_time": "2022-11-16T13:32:14.289Z"
   },
   {
    "duration": 16,
    "start_time": "2022-11-16T13:32:14.311Z"
   },
   {
    "duration": 14,
    "start_time": "2022-11-16T13:32:14.329Z"
   },
   {
    "duration": 4,
    "start_time": "2022-11-16T13:33:36.900Z"
   },
   {
    "duration": 43,
    "start_time": "2022-11-16T13:33:36.915Z"
   },
   {
    "duration": 38,
    "start_time": "2022-11-16T13:33:36.960Z"
   },
   {
    "duration": 1562,
    "start_time": "2022-11-16T13:33:37.000Z"
   },
   {
    "duration": 42,
    "start_time": "2022-11-16T13:33:38.564Z"
   },
   {
    "duration": 14,
    "start_time": "2022-11-16T13:33:38.608Z"
   },
   {
    "duration": 17,
    "start_time": "2022-11-16T13:33:38.624Z"
   },
   {
    "duration": 10,
    "start_time": "2022-11-16T13:33:38.642Z"
   },
   {
    "duration": 21,
    "start_time": "2022-11-16T13:33:38.678Z"
   },
   {
    "duration": 15,
    "start_time": "2022-11-16T13:33:38.701Z"
   },
   {
    "duration": 14,
    "start_time": "2022-11-16T13:33:38.718Z"
   },
   {
    "duration": 6751,
    "start_time": "2022-11-16T13:33:38.734Z"
   },
   {
    "duration": 6291,
    "start_time": "2022-11-16T13:33:45.487Z"
   },
   {
    "duration": 99,
    "start_time": "2022-11-16T13:33:51.780Z"
   },
   {
    "duration": 9,
    "start_time": "2022-11-16T13:33:51.881Z"
   },
   {
    "duration": 8296,
    "start_time": "2022-11-16T13:33:51.892Z"
   },
   {
    "duration": 8707,
    "start_time": "2022-11-16T13:34:00.280Z"
   },
   {
    "duration": 99,
    "start_time": "2022-11-16T13:34:08.989Z"
   },
   {
    "duration": 4289,
    "start_time": "2022-11-16T13:34:09.091Z"
   },
   {
    "duration": 4207,
    "start_time": "2022-11-16T13:34:13.382Z"
   },
   {
    "duration": 343,
    "start_time": "2022-11-16T13:38:55.523Z"
   },
   {
    "duration": 344,
    "start_time": "2022-11-16T13:39:34.988Z"
   },
   {
    "duration": 502,
    "start_time": "2022-11-16T13:39:42.650Z"
   },
   {
    "duration": 331,
    "start_time": "2022-11-16T13:39:59.179Z"
   },
   {
    "duration": 405,
    "start_time": "2022-11-16T13:40:02.114Z"
   },
   {
    "duration": 390,
    "start_time": "2022-11-16T13:40:37.269Z"
   },
   {
    "duration": 336,
    "start_time": "2022-11-16T13:40:51.438Z"
   },
   {
    "duration": 408,
    "start_time": "2022-11-16T13:40:54.930Z"
   },
   {
    "duration": 383,
    "start_time": "2022-11-16T13:41:03.947Z"
   },
   {
    "duration": 387,
    "start_time": "2022-11-16T13:41:11.243Z"
   },
   {
    "duration": 129,
    "start_time": "2022-11-16T13:42:40.347Z"
   },
   {
    "duration": 400,
    "start_time": "2022-11-16T13:43:00.348Z"
   },
   {
    "duration": 16,
    "start_time": "2022-11-16T14:11:18.891Z"
   },
   {
    "duration": 17,
    "start_time": "2022-11-16T14:14:59.325Z"
   },
   {
    "duration": 133,
    "start_time": "2022-11-16T14:27:52.813Z"
   },
   {
    "duration": 18,
    "start_time": "2022-11-16T14:27:55.421Z"
   },
   {
    "duration": 12,
    "start_time": "2022-11-16T14:28:10.932Z"
   },
   {
    "duration": 9,
    "start_time": "2022-11-16T14:28:13.587Z"
   },
   {
    "duration": 9,
    "start_time": "2022-11-16T14:28:15.837Z"
   },
   {
    "duration": 12,
    "start_time": "2022-11-16T14:28:17.983Z"
   },
   {
    "duration": 4,
    "start_time": "2022-11-16T14:28:56.281Z"
   },
   {
    "duration": 4,
    "start_time": "2022-11-16T14:29:27.101Z"
   },
   {
    "duration": 4,
    "start_time": "2022-11-16T14:30:49.390Z"
   },
   {
    "duration": 4,
    "start_time": "2022-11-16T14:31:11.645Z"
   },
   {
    "duration": 15,
    "start_time": "2022-11-16T15:01:37.884Z"
   },
   {
    "duration": 6873,
    "start_time": "2022-11-16T15:02:12.411Z"
   },
   {
    "duration": 7596,
    "start_time": "2022-11-16T15:02:38.291Z"
   },
   {
    "duration": 14012,
    "start_time": "2022-11-16T15:03:10.773Z"
   },
   {
    "duration": 14979,
    "start_time": "2022-11-16T15:05:39.412Z"
   },
   {
    "duration": 6376,
    "start_time": "2022-11-16T15:22:32.712Z"
   },
   {
    "duration": 6786,
    "start_time": "2022-11-16T15:24:37.793Z"
   },
   {
    "duration": 1375,
    "start_time": "2022-11-16T15:25:09.326Z"
   },
   {
    "duration": 48,
    "start_time": "2022-11-16T15:25:10.702Z"
   },
   {
    "duration": 46,
    "start_time": "2022-11-16T15:25:10.752Z"
   },
   {
    "duration": 1711,
    "start_time": "2022-11-16T15:25:10.800Z"
   },
   {
    "duration": 39,
    "start_time": "2022-11-16T15:25:12.513Z"
   },
   {
    "duration": 37,
    "start_time": "2022-11-16T15:25:12.553Z"
   },
   {
    "duration": 50,
    "start_time": "2022-11-16T15:25:12.592Z"
   },
   {
    "duration": 33,
    "start_time": "2022-11-16T15:25:12.643Z"
   },
   {
    "duration": 31,
    "start_time": "2022-11-16T15:25:12.677Z"
   },
   {
    "duration": 14,
    "start_time": "2022-11-16T15:25:12.711Z"
   },
   {
    "duration": 33,
    "start_time": "2022-11-16T15:25:12.727Z"
   },
   {
    "duration": 11522,
    "start_time": "2022-11-16T15:25:20.258Z"
   },
   {
    "duration": 9764,
    "start_time": "2022-11-16T15:26:07.017Z"
   },
   {
    "duration": 5517,
    "start_time": "2022-11-16T15:28:45.067Z"
   },
   {
    "duration": 119,
    "start_time": "2022-11-16T15:31:16.681Z"
   },
   {
    "duration": 9,
    "start_time": "2022-11-16T15:31:22.258Z"
   },
   {
    "duration": 10,
    "start_time": "2022-11-16T15:31:27.714Z"
   },
   {
    "duration": 11,
    "start_time": "2022-11-16T15:42:42.070Z"
   },
   {
    "duration": 10,
    "start_time": "2022-11-16T15:42:47.485Z"
   },
   {
    "duration": 7759,
    "start_time": "2022-11-16T15:43:28.220Z"
   },
   {
    "duration": 11,
    "start_time": "2022-11-16T15:48:48.501Z"
   },
   {
    "duration": 9,
    "start_time": "2022-11-16T15:49:11.774Z"
   },
   {
    "duration": 11,
    "start_time": "2022-11-16T15:49:28.266Z"
   },
   {
    "duration": 4142,
    "start_time": "2022-11-16T15:49:36.237Z"
   },
   {
    "duration": 643,
    "start_time": "2022-11-16T15:51:31.367Z"
   },
   {
    "duration": 9,
    "start_time": "2022-11-16T15:52:59.654Z"
   },
   {
    "duration": 667,
    "start_time": "2022-11-16T15:57:14.097Z"
   },
   {
    "duration": 772,
    "start_time": "2022-11-16T15:57:24.255Z"
   },
   {
    "duration": 786,
    "start_time": "2022-11-16T16:16:09.026Z"
   },
   {
    "duration": 1656,
    "start_time": "2022-11-17T18:07:18.574Z"
   },
   {
    "duration": 198,
    "start_time": "2022-11-17T18:07:20.232Z"
   },
   {
    "duration": 44,
    "start_time": "2022-11-17T18:07:20.432Z"
   },
   {
    "duration": 1804,
    "start_time": "2022-11-17T18:07:20.479Z"
   },
   {
    "duration": 43,
    "start_time": "2022-11-17T18:07:22.296Z"
   },
   {
    "duration": 18,
    "start_time": "2022-11-17T18:07:22.341Z"
   },
   {
    "duration": 27,
    "start_time": "2022-11-17T18:09:23.487Z"
   },
   {
    "duration": 15,
    "start_time": "2022-11-17T18:10:02.694Z"
   },
   {
    "duration": 36,
    "start_time": "2022-11-17T18:10:27.518Z"
   },
   {
    "duration": 23,
    "start_time": "2022-11-17T18:12:20.263Z"
   },
   {
    "duration": 4,
    "start_time": "2022-11-17T18:31:09.219Z"
   },
   {
    "duration": 142,
    "start_time": "2022-11-17T18:33:52.394Z"
   },
   {
    "duration": 10,
    "start_time": "2022-11-17T18:34:18.483Z"
   },
   {
    "duration": 30,
    "start_time": "2022-11-17T18:34:54.474Z"
   },
   {
    "duration": 12,
    "start_time": "2022-11-17T18:35:22.326Z"
   },
   {
    "duration": 1364,
    "start_time": "2022-11-17T18:35:39.243Z"
   },
   {
    "duration": 46,
    "start_time": "2022-11-17T18:35:40.609Z"
   },
   {
    "duration": 42,
    "start_time": "2022-11-17T18:35:40.657Z"
   },
   {
    "duration": 1582,
    "start_time": "2022-11-17T18:35:40.701Z"
   },
   {
    "duration": 46,
    "start_time": "2022-11-17T18:35:42.284Z"
   },
   {
    "duration": 14,
    "start_time": "2022-11-17T18:35:42.332Z"
   },
   {
    "duration": 40,
    "start_time": "2022-11-17T18:35:42.347Z"
   },
   {
    "duration": 15,
    "start_time": "2022-11-17T18:35:42.388Z"
   },
   {
    "duration": 41,
    "start_time": "2022-11-17T18:35:42.404Z"
   },
   {
    "duration": 15,
    "start_time": "2022-11-17T18:35:42.447Z"
   },
   {
    "duration": 13,
    "start_time": "2022-11-17T18:36:07.076Z"
   },
   {
    "duration": 13,
    "start_time": "2022-11-17T18:36:11.453Z"
   },
   {
    "duration": 9007,
    "start_time": "2022-11-17T18:36:18.996Z"
   },
   {
    "duration": 5586,
    "start_time": "2022-11-17T18:38:35.510Z"
   },
   {
    "duration": 7,
    "start_time": "2022-11-17T18:41:46.749Z"
   },
   {
    "duration": 7,
    "start_time": "2022-11-17T18:41:53.933Z"
   },
   {
    "duration": 100,
    "start_time": "2022-11-17T18:42:00.549Z"
   },
   {
    "duration": 10,
    "start_time": "2022-11-17T18:42:45.814Z"
   },
   {
    "duration": 10,
    "start_time": "2022-11-17T18:43:41.519Z"
   },
   {
    "duration": 45,
    "start_time": "2022-11-17T18:46:46.102Z"
   },
   {
    "duration": 49,
    "start_time": "2022-11-17T18:46:56.958Z"
   },
   {
    "duration": 15,
    "start_time": "2022-11-17T18:47:01.318Z"
   },
   {
    "duration": 19,
    "start_time": "2022-11-17T18:47:45.798Z"
   },
   {
    "duration": 14,
    "start_time": "2022-11-17T18:48:11.542Z"
   },
   {
    "duration": 14,
    "start_time": "2022-11-17T18:48:30.575Z"
   },
   {
    "duration": 12,
    "start_time": "2022-11-17T18:51:24.202Z"
   },
   {
    "duration": 1365,
    "start_time": "2022-11-17T18:52:05.027Z"
   },
   {
    "duration": 49,
    "start_time": "2022-11-17T18:52:06.394Z"
   },
   {
    "duration": 43,
    "start_time": "2022-11-17T18:52:06.444Z"
   },
   {
    "duration": 1634,
    "start_time": "2022-11-17T18:52:06.488Z"
   },
   {
    "duration": 45,
    "start_time": "2022-11-17T18:52:08.125Z"
   },
   {
    "duration": 34,
    "start_time": "2022-11-17T18:52:08.172Z"
   },
   {
    "duration": 22,
    "start_time": "2022-11-17T18:52:08.208Z"
   },
   {
    "duration": 13,
    "start_time": "2022-11-17T18:52:08.232Z"
   },
   {
    "duration": 70,
    "start_time": "2022-11-17T18:52:08.247Z"
   },
   {
    "duration": 15,
    "start_time": "2022-11-17T18:52:08.320Z"
   },
   {
    "duration": 15,
    "start_time": "2022-11-17T18:52:08.337Z"
   },
   {
    "duration": 14,
    "start_time": "2022-11-17T18:52:08.354Z"
   },
   {
    "duration": 10133,
    "start_time": "2022-11-17T18:52:08.369Z"
   },
   {
    "duration": 5797,
    "start_time": "2022-11-17T18:52:18.504Z"
   },
   {
    "duration": 99,
    "start_time": "2022-11-17T18:52:24.303Z"
   },
   {
    "duration": 3,
    "start_time": "2022-11-17T18:52:35.367Z"
   },
   {
    "duration": 5,
    "start_time": "2022-11-17T18:52:44.262Z"
   },
   {
    "duration": 5,
    "start_time": "2022-11-17T18:53:03.416Z"
   },
   {
    "duration": 4,
    "start_time": "2022-11-17T18:53:07.306Z"
   },
   {
    "duration": 5,
    "start_time": "2022-11-17T18:53:07.942Z"
   },
   {
    "duration": 4,
    "start_time": "2022-11-17T18:53:08.503Z"
   },
   {
    "duration": 4,
    "start_time": "2022-11-17T18:53:52.975Z"
   },
   {
    "duration": 4,
    "start_time": "2022-11-17T18:53:58.950Z"
   },
   {
    "duration": 3,
    "start_time": "2022-11-17T18:54:38.904Z"
   },
   {
    "duration": 114,
    "start_time": "2022-11-17T18:54:48.335Z"
   },
   {
    "duration": 36,
    "start_time": "2022-11-17T18:55:15.456Z"
   },
   {
    "duration": 69,
    "start_time": "2022-11-17T18:55:25.090Z"
   },
   {
    "duration": 54,
    "start_time": "2022-11-17T18:56:10.657Z"
   },
   {
    "duration": 8,
    "start_time": "2022-11-17T18:57:30.939Z"
   },
   {
    "duration": 1282,
    "start_time": "2022-11-17T18:57:44.732Z"
   },
   {
    "duration": 47,
    "start_time": "2022-11-17T18:57:46.017Z"
   },
   {
    "duration": 51,
    "start_time": "2022-11-17T18:57:46.066Z"
   },
   {
    "duration": 1739,
    "start_time": "2022-11-17T18:57:46.120Z"
   },
   {
    "duration": 49,
    "start_time": "2022-11-17T18:57:47.861Z"
   },
   {
    "duration": 18,
    "start_time": "2022-11-17T18:57:47.912Z"
   },
   {
    "duration": 25,
    "start_time": "2022-11-17T18:57:47.931Z"
   },
   {
    "duration": 11,
    "start_time": "2022-11-17T18:57:47.958Z"
   },
   {
    "duration": 61,
    "start_time": "2022-11-17T18:57:47.970Z"
   },
   {
    "duration": 14,
    "start_time": "2022-11-17T18:57:48.034Z"
   },
   {
    "duration": 14,
    "start_time": "2022-11-17T18:57:48.049Z"
   },
   {
    "duration": 41,
    "start_time": "2022-11-17T18:57:48.065Z"
   },
   {
    "duration": 9698,
    "start_time": "2022-11-17T18:57:48.108Z"
   },
   {
    "duration": 5194,
    "start_time": "2022-11-17T18:57:57.808Z"
   },
   {
    "duration": 95,
    "start_time": "2022-11-17T18:58:03.004Z"
   },
   {
    "duration": 102,
    "start_time": "2022-11-17T18:58:36.416Z"
   },
   {
    "duration": 7,
    "start_time": "2022-11-17T18:58:44.328Z"
   },
   {
    "duration": 6833,
    "start_time": "2022-11-17T18:58:47.768Z"
   },
   {
    "duration": 1328,
    "start_time": "2022-11-17T19:00:42.070Z"
   },
   {
    "duration": 49,
    "start_time": "2022-11-17T19:00:43.399Z"
   },
   {
    "duration": 44,
    "start_time": "2022-11-17T19:00:43.450Z"
   },
   {
    "duration": 1676,
    "start_time": "2022-11-17T19:00:43.496Z"
   },
   {
    "duration": 54,
    "start_time": "2022-11-17T19:00:45.174Z"
   },
   {
    "duration": 15,
    "start_time": "2022-11-17T19:00:45.229Z"
   },
   {
    "duration": 20,
    "start_time": "2022-11-17T19:00:45.246Z"
   },
   {
    "duration": 31,
    "start_time": "2022-11-17T19:00:45.267Z"
   },
   {
    "duration": 38,
    "start_time": "2022-11-17T19:00:45.300Z"
   },
   {
    "duration": 14,
    "start_time": "2022-11-17T19:00:45.340Z"
   },
   {
    "duration": 14,
    "start_time": "2022-11-17T19:00:45.356Z"
   },
   {
    "duration": 34,
    "start_time": "2022-11-17T19:00:45.372Z"
   },
   {
    "duration": 11390,
    "start_time": "2022-11-17T19:00:45.408Z"
   },
   {
    "duration": 6197,
    "start_time": "2022-11-17T19:00:56.800Z"
   },
   {
    "duration": 98,
    "start_time": "2022-11-17T19:01:02.999Z"
   },
   {
    "duration": 8,
    "start_time": "2022-11-17T19:08:09.138Z"
   },
   {
    "duration": 7,
    "start_time": "2022-11-17T19:08:14.545Z"
   },
   {
    "duration": 6953,
    "start_time": "2022-11-17T19:08:21.651Z"
   },
   {
    "duration": 1288,
    "start_time": "2022-11-17T19:10:00.118Z"
   },
   {
    "duration": 57,
    "start_time": "2022-11-17T19:10:01.408Z"
   },
   {
    "duration": 45,
    "start_time": "2022-11-17T19:10:01.466Z"
   },
   {
    "duration": 1678,
    "start_time": "2022-11-17T19:10:01.513Z"
   },
   {
    "duration": 37,
    "start_time": "2022-11-17T19:10:03.196Z"
   },
   {
    "duration": 14,
    "start_time": "2022-11-17T19:10:03.235Z"
   },
   {
    "duration": 50,
    "start_time": "2022-11-17T19:10:03.251Z"
   },
   {
    "duration": 11,
    "start_time": "2022-11-17T19:10:03.303Z"
   },
   {
    "duration": 34,
    "start_time": "2022-11-17T19:10:03.315Z"
   },
   {
    "duration": 14,
    "start_time": "2022-11-17T19:10:03.351Z"
   },
   {
    "duration": 30,
    "start_time": "2022-11-17T19:10:03.366Z"
   },
   {
    "duration": 15,
    "start_time": "2022-11-17T19:10:03.398Z"
   },
   {
    "duration": 9787,
    "start_time": "2022-11-17T19:10:03.414Z"
   },
   {
    "duration": 1289,
    "start_time": "2022-11-17T19:11:02.015Z"
   },
   {
    "duration": 48,
    "start_time": "2022-11-17T19:11:03.305Z"
   },
   {
    "duration": 42,
    "start_time": "2022-11-17T19:11:03.355Z"
   },
   {
    "duration": 1654,
    "start_time": "2022-11-17T19:11:03.399Z"
   },
   {
    "duration": 46,
    "start_time": "2022-11-17T19:11:05.055Z"
   },
   {
    "duration": 16,
    "start_time": "2022-11-17T19:11:05.103Z"
   },
   {
    "duration": 22,
    "start_time": "2022-11-17T19:11:05.122Z"
   },
   {
    "duration": 13,
    "start_time": "2022-11-17T19:11:05.146Z"
   },
   {
    "duration": 66,
    "start_time": "2022-11-17T19:11:05.160Z"
   },
   {
    "duration": 15,
    "start_time": "2022-11-17T19:11:05.229Z"
   },
   {
    "duration": 14,
    "start_time": "2022-11-17T19:11:05.246Z"
   },
   {
    "duration": 38,
    "start_time": "2022-11-17T19:11:05.262Z"
   },
   {
    "duration": 9697,
    "start_time": "2022-11-17T19:11:05.302Z"
   },
   {
    "duration": 1390,
    "start_time": "2022-11-17T19:11:45.967Z"
   },
   {
    "duration": 49,
    "start_time": "2022-11-17T19:11:47.359Z"
   },
   {
    "duration": 43,
    "start_time": "2022-11-17T19:11:47.410Z"
   },
   {
    "duration": 1724,
    "start_time": "2022-11-17T19:11:47.455Z"
   },
   {
    "duration": 47,
    "start_time": "2022-11-17T19:11:49.180Z"
   },
   {
    "duration": 15,
    "start_time": "2022-11-17T19:11:49.229Z"
   },
   {
    "duration": 21,
    "start_time": "2022-11-17T19:11:49.245Z"
   },
   {
    "duration": 32,
    "start_time": "2022-11-17T19:11:49.268Z"
   },
   {
    "duration": 36,
    "start_time": "2022-11-17T19:11:49.301Z"
   },
   {
    "duration": 15,
    "start_time": "2022-11-17T19:11:49.340Z"
   },
   {
    "duration": 41,
    "start_time": "2022-11-17T19:11:49.357Z"
   },
   {
    "duration": 14,
    "start_time": "2022-11-17T19:11:49.400Z"
   },
   {
    "duration": 9605,
    "start_time": "2022-11-17T19:12:02.298Z"
   },
   {
    "duration": 1311,
    "start_time": "2022-11-17T19:14:31.476Z"
   },
   {
    "duration": 50,
    "start_time": "2022-11-17T19:14:32.789Z"
   },
   {
    "duration": 44,
    "start_time": "2022-11-17T19:14:32.841Z"
   },
   {
    "duration": 1652,
    "start_time": "2022-11-17T19:14:32.888Z"
   },
   {
    "duration": 38,
    "start_time": "2022-11-17T19:14:34.541Z"
   },
   {
    "duration": 15,
    "start_time": "2022-11-17T19:14:34.596Z"
   },
   {
    "duration": 20,
    "start_time": "2022-11-17T19:14:34.612Z"
   },
   {
    "duration": 12,
    "start_time": "2022-11-17T19:14:34.634Z"
   },
   {
    "duration": 60,
    "start_time": "2022-11-17T19:14:34.648Z"
   },
   {
    "duration": 14,
    "start_time": "2022-11-17T19:14:34.710Z"
   },
   {
    "duration": 14,
    "start_time": "2022-11-17T19:14:34.726Z"
   },
   {
    "duration": 13,
    "start_time": "2022-11-17T19:14:34.741Z"
   },
   {
    "duration": 9625,
    "start_time": "2022-11-17T19:14:37.978Z"
   },
   {
    "duration": 10344,
    "start_time": "2022-11-17T19:14:59.954Z"
   },
   {
    "duration": 9839,
    "start_time": "2022-11-17T19:15:21.067Z"
   },
   {
    "duration": 1314,
    "start_time": "2022-11-17T19:15:58.477Z"
   },
   {
    "duration": 49,
    "start_time": "2022-11-17T19:15:59.793Z"
   },
   {
    "duration": 45,
    "start_time": "2022-11-17T19:15:59.843Z"
   },
   {
    "duration": 1681,
    "start_time": "2022-11-17T19:15:59.890Z"
   },
   {
    "duration": 45,
    "start_time": "2022-11-17T19:16:01.572Z"
   },
   {
    "duration": 16,
    "start_time": "2022-11-17T19:16:01.619Z"
   },
   {
    "duration": 20,
    "start_time": "2022-11-17T19:16:01.637Z"
   },
   {
    "duration": 17,
    "start_time": "2022-11-17T19:16:01.659Z"
   },
   {
    "duration": 54,
    "start_time": "2022-11-17T19:16:01.677Z"
   },
   {
    "duration": 16,
    "start_time": "2022-11-17T19:16:01.734Z"
   },
   {
    "duration": 33,
    "start_time": "2022-11-17T19:16:01.751Z"
   },
   {
    "duration": 22,
    "start_time": "2022-11-17T19:16:01.786Z"
   },
   {
    "duration": 9308,
    "start_time": "2022-11-17T19:16:07.298Z"
   },
   {
    "duration": 1378,
    "start_time": "2022-11-17T19:17:05.710Z"
   },
   {
    "duration": 49,
    "start_time": "2022-11-17T19:17:07.090Z"
   },
   {
    "duration": 42,
    "start_time": "2022-11-17T19:17:07.141Z"
   },
   {
    "duration": 1675,
    "start_time": "2022-11-17T19:17:07.185Z"
   },
   {
    "duration": 52,
    "start_time": "2022-11-17T19:17:08.862Z"
   },
   {
    "duration": 16,
    "start_time": "2022-11-17T19:17:08.916Z"
   },
   {
    "duration": 22,
    "start_time": "2022-11-17T19:17:08.934Z"
   },
   {
    "duration": 12,
    "start_time": "2022-11-17T19:17:08.958Z"
   },
   {
    "duration": 36,
    "start_time": "2022-11-17T19:17:08.997Z"
   },
   {
    "duration": 15,
    "start_time": "2022-11-17T19:17:09.036Z"
   },
   {
    "duration": 12,
    "start_time": "2022-11-17T19:17:09.053Z"
   },
   {
    "duration": 37,
    "start_time": "2022-11-17T19:17:09.067Z"
   },
   {
    "duration": 10132,
    "start_time": "2022-11-17T19:17:21.971Z"
   },
   {
    "duration": 10023,
    "start_time": "2022-11-17T19:17:43.075Z"
   },
   {
    "duration": 5256,
    "start_time": "2022-11-17T19:19:49.443Z"
   },
   {
    "duration": 7,
    "start_time": "2022-11-17T19:20:58.005Z"
   },
   {
    "duration": 8,
    "start_time": "2022-11-17T19:21:07.843Z"
   },
   {
    "duration": 8981,
    "start_time": "2022-11-17T19:21:12.028Z"
   },
   {
    "duration": 8,
    "start_time": "2022-11-17T19:22:03.737Z"
   },
   {
    "duration": 3792,
    "start_time": "2022-11-17T19:22:07.206Z"
   },
   {
    "duration": 8,
    "start_time": "2022-11-17T19:42:30.728Z"
   },
   {
    "duration": 4834,
    "start_time": "2022-11-17T19:42:35.664Z"
   },
   {
    "duration": 129,
    "start_time": "2022-11-17T19:44:36.681Z"
   },
   {
    "duration": 163,
    "start_time": "2022-11-17T19:44:56.465Z"
   },
   {
    "duration": 145,
    "start_time": "2022-11-17T19:45:21.186Z"
   },
   {
    "duration": 184,
    "start_time": "2022-11-17T19:45:47.881Z"
   },
   {
    "duration": 4,
    "start_time": "2022-11-17T19:53:31.466Z"
   },
   {
    "duration": 36,
    "start_time": "2022-11-17T19:55:16.179Z"
   },
   {
    "duration": 16,
    "start_time": "2022-11-17T19:55:32.493Z"
   },
   {
    "duration": 22,
    "start_time": "2022-11-17T19:55:47.650Z"
   },
   {
    "duration": 125,
    "start_time": "2022-11-17T19:56:03.324Z"
   },
   {
    "duration": 132,
    "start_time": "2022-11-17T19:56:09.747Z"
   },
   {
    "duration": 135,
    "start_time": "2022-11-17T20:00:04.931Z"
   },
   {
    "duration": 23,
    "start_time": "2022-11-17T20:00:22.719Z"
   },
   {
    "duration": 29,
    "start_time": "2022-11-17T20:00:26.427Z"
   },
   {
    "duration": 163,
    "start_time": "2022-11-17T20:00:31.635Z"
   },
   {
    "duration": 145,
    "start_time": "2022-11-17T20:00:40.636Z"
   }
  ],
  "kernelspec": {
   "display_name": "Python 3 (ipykernel)",
   "language": "python",
   "name": "python3"
  },
  "language_info": {
   "codemirror_mode": {
    "name": "ipython",
    "version": 3
   },
   "file_extension": ".py",
   "mimetype": "text/x-python",
   "name": "python",
   "nbconvert_exporter": "python",
   "pygments_lexer": "ipython3",
   "version": "3.9.13"
  },
  "toc": {
   "base_numbering": 1,
   "nav_menu": {},
   "number_sections": true,
   "sideBar": true,
   "skip_h1_title": true,
   "title_cell": "Содержание",
   "title_sidebar": "Contents",
   "toc_cell": true,
   "toc_position": {
    "height": "calc(100% - 180px)",
    "left": "10px",
    "top": "150px",
    "width": "262px"
   },
   "toc_section_display": true,
   "toc_window_display": true
  }
 },
 "nbformat": 4,
 "nbformat_minor": 2
}
