{
 "cells": [
  {
   "cell_type": "markdown",
   "metadata": {},
   "source": [
    "# Рекомендация тарифов\n",
    "## Описание проекта"
   ]
  },
  {
   "cell_type": "markdown",
   "metadata": {},
   "source": [
    "Цель исследования - проанализировать поведение абонентов мобильной сети и обучить модели, позволяющие рекомендовать пользователям один из 2х тарифов.\n",
    "Проект выполняется с использованием датасета, каждая запись в котором отражает поведение одного пользователя за месяц с указанием тарифного плана.\n",
    "Необходимая точность предсказаний - более 75%.\n",
    "\n",
    "## Импорт библиотек"
   ]
  },
  {
   "cell_type": "code",
   "execution_count": 1,
   "metadata": {},
   "outputs": [],
   "source": [
    "import pandas as pd\n",
    "import matplotlib.pyplot as plt\n",
    "from sklearn.model_selection import train_test_split\n",
    "from sklearn.tree import DecisionTreeClassifier\n",
    "from sklearn.tree import plot_tree\n",
    "from sklearn.metrics import accuracy_score\n",
    "from sklearn.ensemble import RandomForestClassifier\n",
    "from sklearn.linear_model import LogisticRegression\n"
   ]
  },
  {
   "cell_type": "markdown",
   "metadata": {},
   "source": [
    "## Откройте и изучите файл\n",
    "### Информация о датафрейме"
   ]
  },
  {
   "cell_type": "code",
   "execution_count": 2,
   "metadata": {},
   "outputs": [
    {
     "name": "stdout",
     "output_type": "stream",
     "text": [
      "<class 'pandas.core.frame.DataFrame'>\n",
      "RangeIndex: 3214 entries, 0 to 3213\n",
      "Data columns (total 5 columns):\n",
      " #   Column    Non-Null Count  Dtype  \n",
      "---  ------    --------------  -----  \n",
      " 0   calls     3214 non-null   float64\n",
      " 1   minutes   3214 non-null   float64\n",
      " 2   messages  3214 non-null   float64\n",
      " 3   mb_used   3214 non-null   float64\n",
      " 4   is_ultra  3214 non-null   int64  \n",
      "dtypes: float64(4), int64(1)\n",
      "memory usage: 125.7 KB\n"
     ]
    }
   ],
   "source": [
    "df = pd.read_csv('/datasets/users_behavior.csv')\n",
    "df.info()"
   ]
  },
  {
   "cell_type": "markdown",
   "metadata": {},
   "source": [
    "Пропущенных значений не обнаружено.\n",
    "### Поиск дубликатов"
   ]
  },
  {
   "cell_type": "code",
   "execution_count": 3,
   "metadata": {},
   "outputs": [
    {
     "data": {
      "text/plain": [
       "0"
      ]
     },
     "execution_count": 3,
     "metadata": {},
     "output_type": "execute_result"
    }
   ],
   "source": [
    "df.duplicated().sum()"
   ]
  },
  {
   "cell_type": "markdown",
   "metadata": {},
   "source": [
    "Дубликатов не выявлено.\n",
    "### Определение выбросов"
   ]
  },
  {
   "cell_type": "code",
   "execution_count": 4,
   "metadata": {},
   "outputs": [
    {
     "name": "stdout",
     "output_type": "stream",
     "text": [
      "             calls      minutes     messages       mb_used     is_ultra\n",
      "count  3214.000000  3214.000000  3214.000000   3214.000000  3214.000000\n",
      "mean     63.038892   438.208787    38.281269  17207.673836     0.306472\n",
      "std      33.236368   234.569872    36.148326   7570.968246     0.461100\n",
      "min       0.000000     0.000000     0.000000      0.000000     0.000000\n",
      "25%      40.000000   274.575000     9.000000  12491.902500     0.000000\n",
      "50%      62.000000   430.600000    30.000000  16943.235000     0.000000\n",
      "75%      82.000000   571.927500    57.000000  21424.700000     1.000000\n",
      "max     244.000000  1632.060000   224.000000  49745.730000     1.000000\n"
     ]
    },
    {
     "data": {
      "image/png": "[encoded data removed]",
      "text/plain": [
       "<Figure size 1224x1008 with 6 Axes>"
      ]
     },
     "metadata": {
      "needs_background": "light"
     },
     "output_type": "display_data"
    }
   ],
   "source": [
    "print(df.describe())\n",
    "df.hist(figsize=[17,14], bins=100);"
   ]
  },
  {
   "cell_type": "markdown",
   "metadata": {},
   "source": [
    "На основании полученных данных можно сделать выводы о том, что грубых ошибок в данных не обнаружено. Вполне логично, что значительная доля абонентов не пользуется отправкой SMS и звонками: к примеру, те, кто использует сим-карту на планшете, либо те кто применяет вместо этих функций мессенджеры. Выбросов с с невероятно высокими показателями также нет, всё вполне соответствует возможностям реальных абонентов.\n",
    "\n",
    "Также, при выполнении функции describe() выяснилось, что от общей популяции абонентов пользователи тарифа \"ультра\" составляют около 31%. Эта информация пригодится для проверки модели на вменяемость.\n",
    "\n",
    "\n",
    "Таким образом, датасет не нуждается в заполнении пропусков, удалении дубликатов и выбросов. Можно приступать к задачам ML.\n",
    "\n",
    "\n",
    "## Разбейте данные на выборки\n",
    "Разделим данные на обучающую, валидационную и тестовую выборки в соотношении 3:1:1. Разделение выполним методом train_test_split из библиотеки sklearn в 2 этапа."
   ]
  },
  {
   "cell_type": "code",
   "execution_count": 5,
   "metadata": {},
   "outputs": [],
   "source": [
    "features_train, features_test, target_train, target_test = train_test_split(df.drop(\n",
    "    'is_ultra', axis=1), df['is_ultra'], test_size=0.4, random_state=13, stratify=df['is_ultra']) # выделяем обучающую выборку\n",
    "features_valid, features_test, target_valid, target_test = train_test_split(\n",
    "    features_test, target_test, test_size=0.5, random_state=13, stratify=target_test) # разделяем валидационную и тестовую выборки"
   ]
  },
  {
   "cell_type": "markdown",
   "metadata": {},
   "source": [
    "Данные разбиты в соотношении 3:1:1. Чтобы проверить себя, отобразим shape каждой из участвующих переменных - необходимо убедиться, что на своих местах двумерные таблицы и series, а также размеры соответствуют ожиданиям."
   ]
  },
  {
   "cell_type": "code",
   "execution_count": 6,
   "metadata": {},
   "outputs": [
    {
     "name": "stdout",
     "output_type": "stream",
     "text": [
      "features_train (1928, 4)\n",
      "target_train (1928,)\n",
      "features_valid (643, 4)\n",
      "target_valid (643,)\n",
      "features_test (643, 4)\n",
      "target_test (643,)\n"
     ]
    }
   ],
   "source": [
    "print('features_train', features_train.shape)\n",
    "print('target_train', target_train.shape)\n",
    "print('features_valid', features_test.shape)\n",
    "print('target_valid', target_test.shape)\n",
    "print('features_test', features_test.shape)\n",
    "print('target_test', target_test.shape)\n"
   ]
  },
  {
   "cell_type": "markdown",
   "metadata": {},
   "source": [
    "Судя по полученному выше результату, данные разделены в правильном соотношении, а features и target соответствуют своим наименованиям.\n",
    "## Исследуйте модели\n",
    "\n",
    "Для решения задачи классификации воспользуемся тремя видами моделей: RandomTreeClassifier, RandomForestClassifier, логистической регрессией.\n",
    "### DecisionTreeClassifier\n",
    "Исследуем точность модели DecisionTreeClassifier с различной предельной глубиной дерева."
   ]
  },
  {
   "cell_type": "code",
   "execution_count": 7,
   "metadata": {},
   "outputs": [
    {
     "name": "stdout",
     "output_type": "stream",
     "text": [
      "Наивысшая accuracy: 0.8055987558320373\n",
      "достигнута при глубине дерева 3\n"
     ]
    }
   ],
   "source": [
    "tree_model = None # объявим переменные, в которые будем сохранять лучший из полученных результатов\n",
    "best_depth = 0\n",
    "best_accuracy = 0\n",
    "for depth in range(1,21): # перебираем деревья глубины от 1 до 20\n",
    "    model = DecisionTreeClassifier(random_state=13, max_depth=depth)\n",
    "    model.fit(features_train, target_train)\n",
    "    predictions = model.predict(features_valid)\n",
    "    accuracy = accuracy_score(target_valid, predictions) # рассчитываем accuracy полученной модели\n",
    "    if accuracy > best_accuracy:\n",
    "        tree_model = model # сохраняем модель, глубину и accuracy при условии достижения наивысшей accuracy\n",
    "        best_depth = depth\n",
    "        best_accuracy = accuracy\n",
    "print('Наивысшая accuracy:', best_accuracy)  # демонстрация результата\n",
    "print('достигнута при глубине дерева', best_depth)\n",
    "    "
   ]
  },
  {
   "cell_type": "markdown",
   "metadata": {},
   "source": [
    "\n",
    "\n",
    "#### plot_tree"
   ]
  },
  {
   "cell_type": "code",
   "execution_count": 8,
   "metadata": {
    "scrolled": true
   },
   "outputs": [
    {
     "data": {
      "image/png": "[encoded data removed]",
      "text/plain": [
       "<Figure size 1080x576 with 1 Axes>"
      ]
     },
     "metadata": {
      "needs_background": "light"
     },
     "output_type": "display_data"
    }
   ],
   "source": [
    "fig = plt.figure(figsize=[15,8])  \n",
    "ax = fig.add_subplot()\n",
    "plot_tree(tree_model, ax=ax, fontsize=12, feature_names = df.columns[:-1], class_names = ['smart', 'ultra']);\n",
    "plt.title('Схема модели tree_model')\n",
    "plt.show()"
   ]
  },
  {
   "cell_type": "markdown",
   "metadata": {},
   "source": [
    "При исследовании модели \"классификатор дерева решений\" на валидационной выборке получена наивысшая точность 0.8 при глубине дерева 5. Данную модель сохранили в переменной tree_model на случай дальнейшего использования. Перейдем к следующей модели:\n",
    "\n",
    "### RandomForestClassifier"
   ]
  },
  {
   "cell_type": "code",
   "execution_count": 9,
   "metadata": {
    "scrolled": false
   },
   "outputs": [
    {
     "name": "stdout",
     "output_type": "stream",
     "text": [
      "Наивысшая accuracy: 0.8227060653188181\n",
      "достигнута при глубине дерева 9 и количестве estimators 10\n",
      "CPU times: user 12.4 s, sys: 40.5 ms, total: 12.4 s\n",
      "Wall time: 12.4 s\n"
     ]
    }
   ],
   "source": [
    "%%time\n",
    "forest_model = None\n",
    "best_depth = 0\n",
    "best_estimators = 0\n",
    "best_accuracy = 0\n",
    "for depth in range(1,21):\n",
    "    for estimators in range(10, 61, 10):\n",
    "        model = RandomForestClassifier(random_state=13, max_depth=depth, n_estimators=estimators)\n",
    "        model.fit(features_train, target_train)\n",
    "        predictions = model.predict(features_valid)\n",
    "        accuracy = accuracy_score(target_valid, predictions)\n",
    "        if accuracy>best_accuracy:\n",
    "            forest_model = model\n",
    "            best_depth = depth\n",
    "            best_estimators = estimators\n",
    "            best_accuracy = accuracy\n",
    "print('Наивысшая accuracy:', best_accuracy)\n",
    "print('достигнута при глубине дерева', best_depth, 'и количестве estimators', best_estimators)"
   ]
  },
  {
   "cell_type": "markdown",
   "metadata": {},
   "source": [
    "#### График изменения accuracy модели RandomForestClassifier в зависимости от гиперпараметров"
   ]
  },
  {
   "cell_type": "code",
   "execution_count": 10,
   "metadata": {},
   "outputs": [
    {
     "data": {
      "image/png": "[encoded data removed]",
      "text/plain": [
       "<Figure size 1080x504 with 1 Axes>"
      ]
     },
     "metadata": {
      "needs_background": "light"
     },
     "output_type": "display_data"
    },
    {
     "name": "stdout",
     "output_type": "stream",
     "text": [
      "CPU times: user 1.18 s, sys: 19.8 ms, total: 1.2 s\n",
      "Wall time: 1.21 s\n"
     ]
    }
   ],
   "source": [
    "%%time\n",
    "\n",
    "# Чтобы построить график, составим датафрейм из 4х списков: 2 будут отвечать за значения гиперпараметров,\n",
    "# еще 2 - за точность предсказаний на обучающей и валидационной выборке.\n",
    "\n",
    "max_depth=[]    # Здесь задаем пустые списки\n",
    "n_estimators=[]\n",
    "train_accuracy=[]\n",
    "valid_accuracy=[]\n",
    "est_list=[10, 20, 30]  # здесь задаем рассматриваемые количества эстиматоров для перебора\n",
    "for n in range(0,3): # с помощью вложенных циклов будем заполнять списки\n",
    "    for depth in range(7,12):    \n",
    "        n_estimators.append(est_list[n])  # заполняем список с количеством эстиматоров\n",
    "        max_depth.append(depth) # заполняем список предельных глубин\n",
    "        model = RandomForestClassifier(random_state=13, max_depth=depth, n_estimators=est_list[n]) # с использованием заданных гиперпараметров \n",
    "        model.fit(features_train, target_train) # обучаем модель\n",
    "        predictions = model.predict(features_valid) # записываем предсказания на валидационной выборке\n",
    "        valid_accuracy.append(accuracy_score(target_valid, predictions)) # cчитаем точность и вносим в соотв. список\n",
    "        predictions = model.predict(features_train) # записываем предсказания на тренировочной выборке\n",
    "        train_accuracy.append(accuracy_score(target_train, predictions)) # cчитаем точность и вносим в соотв. список\n",
    "# print(n_estimators)\n",
    "# print(max_depth)\n",
    "# print(valid_accuracy)\n",
    "# print(train_accuracy)\n",
    "\n",
    "# Теперь сделаем из этого датафрейм\n",
    "\n",
    "plot_df=pd.DataFrame(index=[n_estimators, max_depth], data={'train_accuracy':train_accuracy, 'valid_accuracy':valid_accuracy})\n",
    "plot_df.plot(figsize=[15,7], grid=True, title='Зависимость accuracy от гиперпараметров', xlabel='n_estimators, max_depth',\n",
    "            ylabel='accuracy')\n",
    "plt.show()"
   ]
  },
  {
   "cell_type": "markdown",
   "metadata": {},
   "source": [
    "На основании полученного графика можно утверждать, что точность на обучающей выборке значительно растёт с увеличением максимальной глубины и незначительно повышается при увеличении количества estimators.\n",
    "\n",
    "При этом на валидационной выборке тенденция к росту точности при росте estimators достоверно не прослеживается.\n",
    "Также, при превышении max_depth = 9 отмечается переобучение, точность значительно снижается. \n",
    "\n",
    "\n"
   ]
  },
  {
   "cell_type": "markdown",
   "metadata": {},
   "source": [
    "С помощью классификатора случайного леса удалось добиться точности 82% на валидационной выборке. Наиболее точную модель с глубиной 13 и количеством оценщиков 20 сохранили в переменной forest_model. Переходим к третьему варианту модели.\n",
    "\n",
    "### LogisticRegression"
   ]
  },
  {
   "cell_type": "code",
   "execution_count": 11,
   "metadata": {},
   "outputs": [
    {
     "name": "stdout",
     "output_type": "stream",
     "text": [
      "Accuracy логистической регрессии стставила 0.7418351477449455\n"
     ]
    }
   ],
   "source": [
    "logistic_model = LogisticRegression(random_state=13, solver='lbfgs', max_iter=1000)\n",
    "logistic_model.fit(features_train, target_train)\n",
    "print('Accuracy логистической регрессии стставила', accuracy_score(target_valid, logistic_model.predict(features_valid)))"
   ]
  },
  {
   "cell_type": "markdown",
   "metadata": {},
   "source": [
    "Таким образом, точность предсказания модели LogisticRegression составила 74% на валидационной выборке."
   ]
  },
  {
   "cell_type": "markdown",
   "metadata": {},
   "source": [
    "\n",
    "## Проверьте модель на тестовой выборке\n",
    "В академических целях проверим на тестовой выборке все 3 модели."
   ]
  },
  {
   "cell_type": "code",
   "execution_count": 12,
   "metadata": {
    "scrolled": true
   },
   "outputs": [
    {
     "name": "stdout",
     "output_type": "stream",
     "text": [
      "Модель: DecisionTreeClassifier(max_depth=3, random_state=13) \n",
      "accuracy: 0.7900466562986003\n",
      "Модель: RandomForestClassifier(max_depth=9, n_estimators=10, random_state=13) \n",
      "accuracy: 0.8009331259720062\n",
      "Модель: LogisticRegression(max_iter=1000, random_state=13) \n",
      "accuracy: 0.7356143079315708\n"
     ]
    }
   ],
   "source": [
    "for model in [tree_model, forest_model, logistic_model]:\n",
    "    print('Модель:', model, '\\naccuracy:', accuracy_score(target_test, model.predict(features_test)))"
   ]
  },
  {
   "cell_type": "markdown",
   "metadata": {},
   "source": [
    "На тестовой выборке модель дерева решений и модель случайного леса показали схожий результат: 79 и 80% accuracy соответственно.\n",
    "\n",
    "\n",
    "### Обучаем лучшую модель на соединенной выборке из обучающей и валидационной"
   ]
  },
  {
   "cell_type": "code",
   "execution_count": 13,
   "metadata": {
    "scrolled": true
   },
   "outputs": [
    {
     "name": "stdout",
     "output_type": "stream",
     "text": [
      "(1928, 4)\n",
      "(1928,)\n"
     ]
    }
   ],
   "source": [
    "features_train_2 = pd.concat([features_train, features_valid]) # объединяем выборки\n",
    "target_train_2 = pd.concat([target_train, target_valid])\n",
    "print(features_train.shape) # проверяем размер выборок, убеждаемся что они равны по числу записей\n",
    "print(target_train.shape) "
   ]
  },
  {
   "cell_type": "code",
   "execution_count": 14,
   "metadata": {
    "scrolled": false
   },
   "outputs": [
    {
     "name": "stdout",
     "output_type": "stream",
     "text": [
      "Модель: RandomForestClassifier(max_depth=9, n_estimators=10, random_state=13) \n",
      "accuracy: 0.8133748055987559\n"
     ]
    }
   ],
   "source": [
    "forest_model.fit(features_train_2, target_train_2)\n",
    "print('Модель:', forest_model, '\\naccuracy:', accuracy_score(target_test, forest_model.predict(features_test)))"
   ]
  },
  {
   "cell_type": "markdown",
   "metadata": {},
   "source": [
    "Таким образом, модель RandomForestClassifier c гиперпараметрами max_depth=9, n_estimators=10, дообученная на расширенной выборке, показала точность 81.3%. Эту модель признаем лучшей."
   ]
  },
  {
   "cell_type": "markdown",
   "metadata": {},
   "source": [
    "## (бонус) Проверьте модели на адекватность\n",
    "\n",
    "Accuracy каждой из обученных моделей превышает 50%.\n",
    "Однако, рассмотрим распространённость категорий \"смарт\" и \"ультра\" в тестовой выборке: "
   ]
  },
  {
   "cell_type": "code",
   "execution_count": 15,
   "metadata": {},
   "outputs": [
    {
     "data": {
      "text/plain": [
       "0.30637636080870917"
      ]
     },
     "execution_count": 15,
     "metadata": {},
     "output_type": "execute_result"
    }
   ],
   "source": [
    "target_test.mean()"
   ]
  },
  {
   "cell_type": "markdown",
   "metadata": {},
   "source": [
    "В тестовой выборке доли тарифных планов практически идентичны долям во всём датасете, т.к. мы использовали стратификацию.\n",
    "\n",
    "В таком случае, если предсказать тариф \"смарт\" во всех случаях, accuracy составит 69%, что близко к точности предсказания модели логистической регрессии: 73.5%.\n",
    "\n",
    "Таким образом, модель LogisticRegression можно признать неадекватной. Модели дерева решений и случайного леса признаем адекватными.\n",
    "\n"
   ]
  },
  {
   "cell_type": "markdown",
   "metadata": {},
   "source": [
    "## Выводы\n",
    "### Цель и задачи исследования\n",
    "#### Цель исследования: обучить модель, способную рекомендовать абонентам один из тарифных планов - \"смарт\" или \"ультра\" на основе метода бинарной классификации.\n",
    "\n",
    "#### Задачи:\n",
    "- провести предварительную обработку данных;\n",
    "- разбить датасет на обучающую, валидационную и тестовую выборки;\n",
    "- обучить на выборке разные виды моделей;\n",
    "- исследовать accuracy моделей при различных сочетаниях гиперпараметров;\n",
    "- определить оптимальную модель для решения поставленной задачи.\n",
    "\n",
    "### Материалы и методы\n",
    "Исследование выполнено в приложении Jupyter Notebook на датасете, содержащем информацию о поведении пользователей тарифов \"смарт\" и \"ультра\" в течение месяца. Использовались средства python, библиотек pandas, sklearn, matplotlib. Задачи ML решались методом обучения с учителем.\n",
    "\n",
    "### Ход исследования\n",
    "- При анализе датасета установлено, что данные не содержат пропусков, дубликатов и грубых выбросов.\n",
    "- Данные разделены на обучающую, валидацинную и тестовую выборки в соотношении 3:1:1.\n",
    "- На обучающей выборке обучены модели DecisionTreeClassifier, RandomForestClassifier, LogisticRegression.\n",
    "- Проведено тестирование моделей на валидационной выборке.\n",
    "- Построена схема обученной модели DesicionTreeClassifier и график зависимости точности предсказаний RandomForestClassifier от гиперпараметров.\n",
    "- Модель, показавшая наивысшую точность при валидации, была дообучена на соединённой обучающей и валидационной выборке.\n",
    "\n",
    "### Результаты исследования\n",
    "\n",
    "Моделью с наивысшей accuracy признана RandomForestClassifier при гиперпараметрах max_depth=9, n_estimators=10.\n",
    "Точность предсказаний на тестовой выборке составила 81.3%.\n",
    "\n",
    "Адекватными признаны модели DecisionTreeClassifier и RandomForestClassifier.\n",
    "\n",
    "### Практические рекомендации\n",
    "\n",
    "Для практического применения рекомендуется модель RandomForestClassifier при гиперпараметрах max_depth=9, n_estimators=10."
   ]
  },
  {
   "cell_type": "code",
   "execution_count": null,
   "metadata": {},
   "outputs": [],
   "source": []
  }
 ],
 "metadata": {
  "ExecuteTimeLog": [
   {
    "duration": 456,
    "start_time": "2022-10-31T13:52:35.806Z"
   },
   {
    "duration": 67,
    "start_time": "2022-10-31T13:58:28.683Z"
   },
   {
    "duration": 6,
    "start_time": "2022-10-31T13:58:50.688Z"
   },
   {
    "duration": 9,
    "start_time": "2022-10-31T13:58:53.185Z"
   },
   {
    "duration": 1456,
    "start_time": "2022-10-31T13:59:40.255Z"
   },
   {
    "duration": 1048,
    "start_time": "2022-10-31T13:59:44.967Z"
   },
   {
    "duration": 1011,
    "start_time": "2022-10-31T13:59:56.273Z"
   },
   {
    "duration": 1143,
    "start_time": "2022-10-31T14:00:11.687Z"
   },
   {
    "duration": 735,
    "start_time": "2022-10-31T17:06:58.605Z"
   },
   {
    "duration": 33,
    "start_time": "2022-10-31T17:07:01.770Z"
   },
   {
    "duration": 6,
    "start_time": "2022-10-31T17:07:05.010Z"
   },
   {
    "duration": 1091,
    "start_time": "2022-10-31T17:07:08.410Z"
   },
   {
    "duration": 6,
    "start_time": "2022-10-31T17:09:54.201Z"
   },
   {
    "duration": 24,
    "start_time": "2022-10-31T17:10:30.531Z"
   },
   {
    "duration": 6,
    "start_time": "2022-10-31T17:11:18.825Z"
   },
   {
    "duration": 14,
    "start_time": "2022-10-31T17:12:33.140Z"
   },
   {
    "duration": 14,
    "start_time": "2022-10-31T17:14:29.178Z"
   },
   {
    "duration": 13,
    "start_time": "2022-10-31T17:14:36.345Z"
   },
   {
    "duration": 13,
    "start_time": "2022-10-31T17:14:42.849Z"
   },
   {
    "duration": 6,
    "start_time": "2022-10-31T17:15:36.369Z"
   },
   {
    "duration": 18,
    "start_time": "2022-10-31T17:15:38.233Z"
   },
   {
    "duration": 20,
    "start_time": "2022-10-31T17:17:11.009Z"
   },
   {
    "duration": 67,
    "start_time": "2022-10-31T17:17:24.609Z"
   },
   {
    "duration": 54,
    "start_time": "2022-10-31T17:17:30.073Z"
   },
   {
    "duration": 19,
    "start_time": "2022-10-31T17:17:41.998Z"
   },
   {
    "duration": 8,
    "start_time": "2022-10-31T17:18:03.834Z"
   },
   {
    "duration": 9,
    "start_time": "2022-10-31T17:18:13.945Z"
   },
   {
    "duration": 13,
    "start_time": "2022-10-31T17:18:21.305Z"
   },
   {
    "duration": 4,
    "start_time": "2022-10-31T17:18:41.545Z"
   },
   {
    "duration": 4,
    "start_time": "2022-10-31T17:23:48.168Z"
   },
   {
    "duration": 5,
    "start_time": "2022-10-31T17:24:07.954Z"
   },
   {
    "duration": 7,
    "start_time": "2022-10-31T17:25:57.537Z"
   },
   {
    "duration": 14,
    "start_time": "2022-10-31T17:26:43.186Z"
   },
   {
    "duration": 3,
    "start_time": "2022-10-31T17:30:15.260Z"
   },
   {
    "duration": 39,
    "start_time": "2022-10-31T20:54:48.999Z"
   },
   {
    "duration": 7,
    "start_time": "2022-10-31T20:56:41.710Z"
   },
   {
    "duration": 12,
    "start_time": "2022-10-31T21:19:38.146Z"
   },
   {
    "duration": 3,
    "start_time": "2022-10-31T21:19:52.858Z"
   },
   {
    "duration": 38,
    "start_time": "2022-10-31T21:19:52.865Z"
   },
   {
    "duration": 5,
    "start_time": "2022-10-31T21:19:52.905Z"
   },
   {
    "duration": 1128,
    "start_time": "2022-10-31T21:19:52.911Z"
   },
   {
    "duration": 10,
    "start_time": "2022-10-31T21:19:54.041Z"
   },
   {
    "duration": 13,
    "start_time": "2022-10-31T21:19:54.053Z"
   },
   {
    "duration": 2,
    "start_time": "2022-10-31T21:20:23.956Z"
   },
   {
    "duration": 68,
    "start_time": "2022-10-31T21:25:07.814Z"
   },
   {
    "duration": 15,
    "start_time": "2022-10-31T21:25:13.603Z"
   },
   {
    "duration": 62,
    "start_time": "2022-10-31T21:25:50.012Z"
   },
   {
    "duration": 10,
    "start_time": "2022-10-31T21:29:43.764Z"
   },
   {
    "duration": 11,
    "start_time": "2022-10-31T21:32:51.645Z"
   },
   {
    "duration": 11,
    "start_time": "2022-10-31T21:32:56.509Z"
   },
   {
    "duration": 10,
    "start_time": "2022-10-31T21:32:59.397Z"
   },
   {
    "duration": 15,
    "start_time": "2022-10-31T21:33:03.324Z"
   },
   {
    "duration": 15,
    "start_time": "2022-10-31T21:33:15.173Z"
   },
   {
    "duration": 60,
    "start_time": "2022-10-31T21:33:29.701Z"
   },
   {
    "duration": 8,
    "start_time": "2022-10-31T21:35:50.173Z"
   },
   {
    "duration": 13,
    "start_time": "2022-10-31T21:36:01.333Z"
   },
   {
    "duration": 59,
    "start_time": "2022-10-31T21:38:44.231Z"
   },
   {
    "duration": 15,
    "start_time": "2022-10-31T21:40:51.526Z"
   },
   {
    "duration": 72,
    "start_time": "2022-10-31T21:43:21.799Z"
   },
   {
    "duration": 4,
    "start_time": "2022-10-31T21:43:31.143Z"
   },
   {
    "duration": 4809,
    "start_time": "2022-10-31T21:43:34.807Z"
   },
   {
    "duration": 4183,
    "start_time": "2022-10-31T21:43:54.111Z"
   },
   {
    "duration": 4685,
    "start_time": "2022-10-31T21:44:04.439Z"
   },
   {
    "duration": 4885,
    "start_time": "2022-10-31T21:44:34.665Z"
   },
   {
    "duration": 1430,
    "start_time": "2022-10-31T21:45:42.488Z"
   },
   {
    "duration": 11083,
    "start_time": "2022-10-31T21:45:49.959Z"
   },
   {
    "duration": 17692,
    "start_time": "2022-10-31T21:46:09.382Z"
   },
   {
    "duration": 11620,
    "start_time": "2022-10-31T21:46:47.968Z"
   },
   {
    "duration": 29794,
    "start_time": "2022-10-31T21:52:06.256Z"
   },
   {
    "duration": 5,
    "start_time": "2022-10-31T21:55:54.408Z"
   },
   {
    "duration": 3,
    "start_time": "2022-10-31T22:56:38.299Z"
   },
   {
    "duration": 9,
    "start_time": "2022-10-31T23:05:19.901Z"
   },
   {
    "duration": 332,
    "start_time": "2022-10-31T23:05:27.149Z"
   },
   {
    "duration": 336,
    "start_time": "2022-10-31T23:05:31.652Z"
   },
   {
    "duration": 362,
    "start_time": "2022-10-31T23:05:34.892Z"
   },
   {
    "duration": 329,
    "start_time": "2022-10-31T23:05:38.460Z"
   },
   {
    "duration": 337,
    "start_time": "2022-10-31T23:05:47.222Z"
   },
   {
    "duration": 335,
    "start_time": "2022-10-31T23:06:01.726Z"
   },
   {
    "duration": 77,
    "start_time": "2022-10-31T23:06:40.925Z"
   },
   {
    "duration": 333,
    "start_time": "2022-10-31T23:06:47.068Z"
   },
   {
    "duration": 4,
    "start_time": "2022-10-31T23:11:01.446Z"
   },
   {
    "duration": 19,
    "start_time": "2022-10-31T23:12:06.118Z"
   },
   {
    "duration": 10,
    "start_time": "2022-10-31T23:12:40.518Z"
   },
   {
    "duration": 10,
    "start_time": "2022-10-31T23:12:42.926Z"
   },
   {
    "duration": 10,
    "start_time": "2022-10-31T23:12:49.486Z"
   },
   {
    "duration": 20,
    "start_time": "2022-10-31T23:13:10.870Z"
   },
   {
    "duration": 13,
    "start_time": "2022-10-31T23:13:18.446Z"
   },
   {
    "duration": 69,
    "start_time": "2022-10-31T23:14:00.247Z"
   },
   {
    "duration": 65,
    "start_time": "2022-10-31T23:14:07.727Z"
   },
   {
    "duration": 14,
    "start_time": "2022-10-31T23:14:18.359Z"
   },
   {
    "duration": 16,
    "start_time": "2022-10-31T23:14:34.516Z"
   },
   {
    "duration": 13,
    "start_time": "2022-10-31T23:14:46.214Z"
   },
   {
    "duration": 14,
    "start_time": "2022-10-31T23:14:49.136Z"
   },
   {
    "duration": 16,
    "start_time": "2022-10-31T23:17:44.575Z"
   },
   {
    "duration": 4,
    "start_time": "2022-10-31T23:34:44.779Z"
   },
   {
    "duration": 5,
    "start_time": "2022-10-31T23:51:07.517Z"
   },
   {
    "duration": 4,
    "start_time": "2022-10-31T23:51:15.981Z"
   },
   {
    "duration": 992,
    "start_time": "2022-11-01T00:26:11.457Z"
   },
   {
    "duration": 36,
    "start_time": "2022-11-01T00:26:12.451Z"
   },
   {
    "duration": 9,
    "start_time": "2022-11-01T00:26:12.489Z"
   },
   {
    "duration": 1309,
    "start_time": "2022-11-01T00:26:12.500Z"
   },
   {
    "duration": 11,
    "start_time": "2022-11-01T00:26:13.810Z"
   },
   {
    "duration": 11,
    "start_time": "2022-11-01T00:26:13.823Z"
   },
   {
    "duration": 153,
    "start_time": "2022-11-01T00:26:13.835Z"
   },
   {
    "duration": 11038,
    "start_time": "2022-11-01T00:26:13.989Z"
   },
   {
    "duration": 16,
    "start_time": "2022-11-01T00:26:25.029Z"
   },
   {
    "duration": 13,
    "start_time": "2022-11-01T00:26:25.047Z"
   },
   {
    "duration": 4,
    "start_time": "2022-11-01T00:26:25.061Z"
   },
   {
    "duration": 1287,
    "start_time": "2022-11-01T04:57:38.739Z"
   },
   {
    "duration": 169,
    "start_time": "2022-11-01T04:57:40.028Z"
   },
   {
    "duration": 11,
    "start_time": "2022-11-01T04:57:40.199Z"
   },
   {
    "duration": 1842,
    "start_time": "2022-11-01T04:57:40.214Z"
   },
   {
    "duration": 9,
    "start_time": "2022-11-01T04:57:42.059Z"
   },
   {
    "duration": 6,
    "start_time": "2022-11-01T04:57:42.070Z"
   },
   {
    "duration": 194,
    "start_time": "2022-11-01T04:57:42.078Z"
   },
   {
    "duration": 12912,
    "start_time": "2022-11-01T04:57:42.274Z"
   },
   {
    "duration": 21,
    "start_time": "2022-11-01T04:57:55.188Z"
   },
   {
    "duration": 35,
    "start_time": "2022-11-01T04:57:55.211Z"
   },
   {
    "duration": 4,
    "start_time": "2022-11-01T04:57:55.248Z"
   },
   {
    "duration": 1156,
    "start_time": "2022-11-04T12:27:19.772Z"
   },
   {
    "duration": 4,
    "start_time": "2022-11-04T12:27:56.726Z"
   },
   {
    "duration": 117,
    "start_time": "2022-11-04T12:27:56.732Z"
   },
   {
    "duration": 14,
    "start_time": "2022-11-04T12:27:56.851Z"
   },
   {
    "duration": 1843,
    "start_time": "2022-11-04T12:27:56.868Z"
   },
   {
    "duration": 8,
    "start_time": "2022-11-04T12:27:58.713Z"
   },
   {
    "duration": 25,
    "start_time": "2022-11-04T12:27:58.723Z"
   },
   {
    "duration": 189,
    "start_time": "2022-11-04T12:27:58.750Z"
   },
   {
    "duration": 106,
    "start_time": "2022-11-04T12:28:19.177Z"
   },
   {
    "duration": 468,
    "start_time": "2022-11-04T12:28:21.545Z"
   },
   {
    "duration": 447,
    "start_time": "2022-11-04T12:28:32.924Z"
   },
   {
    "duration": 80,
    "start_time": "2022-11-04T12:28:44.025Z"
   },
   {
    "duration": 13,
    "start_time": "2022-11-04T12:28:49.873Z"
   },
   {
    "duration": 4,
    "start_time": "2022-11-04T12:31:58.525Z"
   },
   {
    "duration": 3,
    "start_time": "2022-11-04T12:38:45.931Z"
   },
   {
    "duration": 4,
    "start_time": "2022-11-04T12:39:08.734Z"
   },
   {
    "duration": 503,
    "start_time": "2022-11-04T12:39:51.538Z"
   },
   {
    "duration": 512,
    "start_time": "2022-11-04T12:40:36.978Z"
   },
   {
    "duration": 511,
    "start_time": "2022-11-04T12:40:57.219Z"
   },
   {
    "duration": 615,
    "start_time": "2022-11-04T12:41:06.490Z"
   },
   {
    "duration": 88,
    "start_time": "2022-11-04T12:41:18.830Z"
   },
   {
    "duration": 496,
    "start_time": "2022-11-04T12:41:23.515Z"
   },
   {
    "duration": 629,
    "start_time": "2022-11-04T12:41:34.467Z"
   },
   {
    "duration": 520,
    "start_time": "2022-11-04T12:41:39.859Z"
   },
   {
    "duration": 498,
    "start_time": "2022-11-04T12:41:51.035Z"
   },
   {
    "duration": 3,
    "start_time": "2022-11-04T12:43:28.260Z"
   },
   {
    "duration": 484,
    "start_time": "2022-11-04T12:43:39.060Z"
   },
   {
    "duration": 513,
    "start_time": "2022-11-04T12:43:55.328Z"
   },
   {
    "duration": 474,
    "start_time": "2022-11-04T12:44:56.034Z"
   },
   {
    "duration": 490,
    "start_time": "2022-11-04T12:45:03.876Z"
   },
   {
    "duration": 490,
    "start_time": "2022-11-04T12:45:34.469Z"
   },
   {
    "duration": 507,
    "start_time": "2022-11-04T12:45:38.765Z"
   },
   {
    "duration": 647,
    "start_time": "2022-11-04T12:46:42.432Z"
   },
   {
    "duration": 603,
    "start_time": "2022-11-04T12:46:46.932Z"
   },
   {
    "duration": 555,
    "start_time": "2022-11-04T12:46:57.892Z"
   },
   {
    "duration": 510,
    "start_time": "2022-11-04T12:47:12.814Z"
   },
   {
    "duration": 532,
    "start_time": "2022-11-04T12:47:15.917Z"
   },
   {
    "duration": 563,
    "start_time": "2022-11-04T12:47:19.648Z"
   },
   {
    "duration": 539,
    "start_time": "2022-11-04T12:47:26.182Z"
   },
   {
    "duration": 486,
    "start_time": "2022-11-04T12:47:31.550Z"
   },
   {
    "duration": 505,
    "start_time": "2022-11-04T12:47:37.310Z"
   },
   {
    "duration": 537,
    "start_time": "2022-11-04T12:47:41.616Z"
   },
   {
    "duration": 14,
    "start_time": "2022-11-04T12:48:02.838Z"
   },
   {
    "duration": 552,
    "start_time": "2022-11-04T12:48:19.614Z"
   },
   {
    "duration": 453,
    "start_time": "2022-11-04T12:48:24.832Z"
   },
   {
    "duration": 449,
    "start_time": "2022-11-04T12:48:32.694Z"
   },
   {
    "duration": 463,
    "start_time": "2022-11-04T12:48:43.335Z"
   },
   {
    "duration": 153,
    "start_time": "2022-11-04T12:48:51.358Z"
   },
   {
    "duration": 470,
    "start_time": "2022-11-04T12:48:58.167Z"
   },
   {
    "duration": 509,
    "start_time": "2022-11-04T12:49:06.430Z"
   },
   {
    "duration": 464,
    "start_time": "2022-11-04T12:52:27.968Z"
   },
   {
    "duration": 433,
    "start_time": "2022-11-04T12:52:48.576Z"
   },
   {
    "duration": 137,
    "start_time": "2022-11-04T12:52:56.360Z"
   },
   {
    "duration": 13,
    "start_time": "2022-11-04T12:53:04.645Z"
   },
   {
    "duration": 12,
    "start_time": "2022-11-04T12:53:11.858Z"
   },
   {
    "duration": 506,
    "start_time": "2022-11-04T12:55:40.987Z"
   },
   {
    "duration": 498,
    "start_time": "2022-11-04T12:58:51.155Z"
   },
   {
    "duration": 486,
    "start_time": "2022-11-04T12:59:28.034Z"
   },
   {
    "duration": 609,
    "start_time": "2022-11-04T13:01:46.100Z"
   },
   {
    "duration": 16,
    "start_time": "2022-11-04T13:03:32.537Z"
   },
   {
    "duration": 587,
    "start_time": "2022-11-04T13:03:49.832Z"
   },
   {
    "duration": 16,
    "start_time": "2022-11-04T13:06:53.673Z"
   },
   {
    "duration": 517,
    "start_time": "2022-11-04T13:07:16.858Z"
   },
   {
    "duration": 77,
    "start_time": "2022-11-04T13:07:32.528Z"
   },
   {
    "duration": 36,
    "start_time": "2022-11-04T13:07:39.569Z"
   },
   {
    "duration": 598,
    "start_time": "2022-11-04T13:08:11.302Z"
   },
   {
    "duration": 566,
    "start_time": "2022-11-04T13:08:16.208Z"
   },
   {
    "duration": 19,
    "start_time": "2022-11-04T14:05:01.468Z"
   },
   {
    "duration": 11,
    "start_time": "2022-11-04T14:05:17.120Z"
   },
   {
    "duration": 9,
    "start_time": "2022-11-04T14:05:21.163Z"
   },
   {
    "duration": 10,
    "start_time": "2022-11-04T14:05:31.920Z"
   },
   {
    "duration": 46,
    "start_time": "2022-11-04T22:32:37.727Z"
   },
   {
    "duration": 1485,
    "start_time": "2022-11-04T22:32:43.988Z"
   },
   {
    "duration": 142,
    "start_time": "2022-11-04T22:32:45.476Z"
   },
   {
    "duration": 7,
    "start_time": "2022-11-04T22:32:45.621Z"
   },
   {
    "duration": 1208,
    "start_time": "2022-11-04T22:32:45.631Z"
   },
   {
    "duration": 9,
    "start_time": "2022-11-04T22:32:46.842Z"
   },
   {
    "duration": 5,
    "start_time": "2022-11-04T22:32:46.852Z"
   },
   {
    "duration": 192,
    "start_time": "2022-11-04T22:32:46.859Z"
   },
   {
    "duration": 509,
    "start_time": "2022-11-04T22:32:50.487Z"
   },
   {
    "duration": 460,
    "start_time": "2022-11-04T22:33:03.214Z"
   },
   {
    "duration": 486,
    "start_time": "2022-11-04T22:33:25.302Z"
   },
   {
    "duration": 5,
    "start_time": "2022-11-04T22:42:16.887Z"
   },
   {
    "duration": 68,
    "start_time": "2022-11-04T22:42:31.070Z"
   },
   {
    "duration": 11,
    "start_time": "2022-11-04T22:43:43.577Z"
   },
   {
    "duration": 4,
    "start_time": "2022-11-04T22:43:53.249Z"
   },
   {
    "duration": 4,
    "start_time": "2022-11-04T22:43:59.082Z"
   },
   {
    "duration": 9,
    "start_time": "2022-11-04T22:44:26.777Z"
   },
   {
    "duration": 4,
    "start_time": "2022-11-04T22:44:30.762Z"
   },
   {
    "duration": 4,
    "start_time": "2022-11-04T22:46:04.585Z"
   },
   {
    "duration": 4,
    "start_time": "2022-11-04T22:46:26.050Z"
   },
   {
    "duration": 1306,
    "start_time": "2022-11-04T22:49:15.363Z"
   },
   {
    "duration": 12287,
    "start_time": "2022-11-04T22:50:10.060Z"
   },
   {
    "duration": 12158,
    "start_time": "2022-11-04T22:50:30.202Z"
   },
   {
    "duration": 1356,
    "start_time": "2022-11-04T22:52:01.437Z"
   },
   {
    "duration": 31,
    "start_time": "2022-11-04T23:02:20.188Z"
   },
   {
    "duration": 1447,
    "start_time": "2022-11-04T23:02:41.121Z"
   },
   {
    "duration": 1382,
    "start_time": "2022-11-04T23:03:12.390Z"
   },
   {
    "duration": 27,
    "start_time": "2022-11-04T23:04:11.678Z"
   },
   {
    "duration": 1343,
    "start_time": "2022-11-04T23:04:39.694Z"
   },
   {
    "duration": 1384,
    "start_time": "2022-11-04T23:04:48.964Z"
   },
   {
    "duration": 1600,
    "start_time": "2022-11-04T23:05:13.975Z"
   },
   {
    "duration": 1747,
    "start_time": "2022-11-04T23:05:29.851Z"
   },
   {
    "duration": 1691,
    "start_time": "2022-11-04T23:05:51.965Z"
   },
   {
    "duration": 1828,
    "start_time": "2022-11-04T23:06:11.077Z"
   },
   {
    "duration": 1252,
    "start_time": "2022-11-04T23:07:14.485Z"
   },
   {
    "duration": 1194,
    "start_time": "2022-11-04T23:08:17.933Z"
   },
   {
    "duration": 1234,
    "start_time": "2022-11-04T23:09:00.645Z"
   },
   {
    "duration": 1162,
    "start_time": "2022-11-04T23:09:17.893Z"
   },
   {
    "duration": 1238,
    "start_time": "2022-11-04T23:09:30.005Z"
   },
   {
    "duration": 1206,
    "start_time": "2022-11-04T23:09:51.544Z"
   },
   {
    "duration": 10,
    "start_time": "2022-11-04T23:23:52.513Z"
   },
   {
    "duration": 3,
    "start_time": "2022-11-04T23:23:57.797Z"
   },
   {
    "duration": 40,
    "start_time": "2022-11-04T23:23:57.804Z"
   },
   {
    "duration": 7,
    "start_time": "2022-11-04T23:23:57.846Z"
   },
   {
    "duration": 1371,
    "start_time": "2022-11-04T23:23:57.855Z"
   },
   {
    "duration": 10,
    "start_time": "2022-11-04T23:23:59.228Z"
   },
   {
    "duration": 6,
    "start_time": "2022-11-04T23:23:59.241Z"
   },
   {
    "duration": 180,
    "start_time": "2022-11-04T23:23:59.248Z"
   },
   {
    "duration": 522,
    "start_time": "2022-11-04T23:23:59.429Z"
   },
   {
    "duration": 13020,
    "start_time": "2022-11-04T23:23:59.952Z"
   },
   {
    "duration": 1234,
    "start_time": "2022-11-04T23:24:12.978Z"
   },
   {
    "duration": 32,
    "start_time": "2022-11-04T23:24:14.214Z"
   },
   {
    "duration": 44,
    "start_time": "2022-11-04T23:24:14.247Z"
   },
   {
    "duration": 4,
    "start_time": "2022-11-04T23:26:01.464Z"
   },
   {
    "duration": 10,
    "start_time": "2022-11-04T23:30:37.105Z"
   },
   {
    "duration": 11,
    "start_time": "2022-11-04T23:31:09.209Z"
   },
   {
    "duration": 9,
    "start_time": "2022-11-04T23:31:14.017Z"
   },
   {
    "duration": 9,
    "start_time": "2022-11-04T23:31:22.025Z"
   },
   {
    "duration": 4,
    "start_time": "2022-11-04T23:32:54.946Z"
   },
   {
    "duration": 17,
    "start_time": "2022-11-04T23:33:19.769Z"
   },
   {
    "duration": 13,
    "start_time": "2022-11-04T23:34:11.754Z"
   },
   {
    "duration": 7,
    "start_time": "2022-11-04T23:34:17.809Z"
   },
   {
    "duration": 7,
    "start_time": "2022-11-04T23:34:24.673Z"
   },
   {
    "duration": 5,
    "start_time": "2022-11-04T23:34:35.034Z"
   },
   {
    "duration": 5,
    "start_time": "2022-11-04T23:34:44.857Z"
   },
   {
    "duration": 3,
    "start_time": "2022-11-04T23:35:07.470Z"
   },
   {
    "duration": 40,
    "start_time": "2022-11-04T23:35:07.477Z"
   },
   {
    "duration": 6,
    "start_time": "2022-11-04T23:35:07.519Z"
   },
   {
    "duration": 1203,
    "start_time": "2022-11-04T23:35:07.527Z"
   },
   {
    "duration": 10,
    "start_time": "2022-11-04T23:35:08.732Z"
   },
   {
    "duration": 15,
    "start_time": "2022-11-04T23:35:08.744Z"
   },
   {
    "duration": 160,
    "start_time": "2022-11-04T23:35:08.760Z"
   },
   {
    "duration": 471,
    "start_time": "2022-11-04T23:35:08.922Z"
   },
   {
    "duration": 12496,
    "start_time": "2022-11-04T23:35:09.395Z"
   },
   {
    "duration": 1179,
    "start_time": "2022-11-04T23:35:21.893Z"
   },
   {
    "duration": 31,
    "start_time": "2022-11-04T23:35:23.073Z"
   },
   {
    "duration": 11,
    "start_time": "2022-11-04T23:35:23.106Z"
   },
   {
    "duration": 5,
    "start_time": "2022-11-04T23:35:26.353Z"
   },
   {
    "duration": 40,
    "start_time": "2022-11-04T23:37:32.641Z"
   },
   {
    "duration": 49,
    "start_time": "2022-11-04T23:38:38.779Z"
   },
   {
    "duration": 1261,
    "start_time": "2022-11-05T00:01:10.521Z"
   },
   {
    "duration": 38,
    "start_time": "2022-11-05T00:01:11.785Z"
   },
   {
    "duration": 7,
    "start_time": "2022-11-05T00:01:11.825Z"
   },
   {
    "duration": 1175,
    "start_time": "2022-11-05T00:01:11.833Z"
   },
   {
    "duration": 9,
    "start_time": "2022-11-05T00:01:13.009Z"
   },
   {
    "duration": 9,
    "start_time": "2022-11-05T00:01:13.019Z"
   },
   {
    "duration": 181,
    "start_time": "2022-11-05T00:01:13.030Z"
   },
   {
    "duration": 499,
    "start_time": "2022-11-05T00:01:13.213Z"
   },
   {
    "duration": 12442,
    "start_time": "2022-11-05T00:01:13.714Z"
   },
   {
    "duration": 1218,
    "start_time": "2022-11-05T00:01:26.158Z"
   },
   {
    "duration": 33,
    "start_time": "2022-11-05T00:01:27.377Z"
   },
   {
    "duration": 14,
    "start_time": "2022-11-05T00:01:27.412Z"
   },
   {
    "duration": 8,
    "start_time": "2022-11-05T00:01:27.428Z"
   },
   {
    "duration": 64,
    "start_time": "2022-11-05T00:01:27.438Z"
   },
   {
    "duration": 4,
    "start_time": "2022-11-05T00:01:27.504Z"
   }
  ],
  "kernelspec": {
   "display_name": "Python 3 (ipykernel)",
   "language": "python",
   "name": "python3"
  },
  "language_info": {
   "codemirror_mode": {
    "name": "ipython",
    "version": 3
   },
   "file_extension": ".py",
   "mimetype": "text/x-python",
   "name": "python",
   "nbconvert_exporter": "python",
   "pygments_lexer": "ipython3",
   "version": "3.9.13"
  },
  "toc": {
   "base_numbering": 1,
   "nav_menu": {},
   "number_sections": true,
   "sideBar": true,
   "skip_h1_title": true,
   "title_cell": "Table of Contents",
   "title_sidebar": "Contents",
   "toc_cell": false,
   "toc_position": {},
   "toc_section_display": true,
   "toc_window_display": false
  }
 },
 "nbformat": 4,
 "nbformat_minor": 2
}
