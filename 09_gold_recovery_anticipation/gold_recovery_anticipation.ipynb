{
 "cells": [
  {
   "cell_type": "markdown",
   "metadata": {},
   "source": [
    "<font color='blue' size=5><b>Комментарий ревьюера</b></font>\n",
    "\n",
    "<font color='blue'>Привет, Сергрей! Меня зовут Павел Григорьев, и я буду проверять этот проект.<br>Моя основная цель - не указать на совершённые тобой ошибки, а поделиться своим опытом и помочь тебе совершенствоваться как профессионалу.<br>Спасибо за проделанную работу! Предлагаю общаться на «ты».</font>\n",
    "<details>\n",
    "\t<summary><u>Инструкция по организационным мометнам (кликабельно)</u></summary>\n",
    "<font color='blue'>Я буду использовать различные цвета, чтобы было удобнее воспринимать мои комментарии:</font>\n",
    "\n",
    "\n",
    "---\n",
    "\n",
    "\n",
    "<font color='blue'>синий текст - просто текст комментария</font>\n",
    "\n",
    "<font color='green'>✔️ и зеленый текст - все отлично</font>\n",
    "\n",
    "<font color='orange'>⚠️ и оранжевый текст - сделано все правильно, однако есть рекомендации, на что стоит обратить внимание</font>\n",
    "\n",
    "<font color='red'>❌ и красный текст - есть недочеты</font>\n",
    "\n",
    "\n",
    "</details>    \n",
    "    </br>\n",
    "<font color='blue'>Пожалуйста, не удаляй мои комментарии в случае возврата работы, так будет проще разобраться, какие были недочеты, а также сразу увидеть исправленное. </font>\n",
    "\n",
    "Ответы на мои комментарии лучше тоже помечать.\n",
    "Например: <font color='purple'><b>Комментарий студента</b></font>\n",
    "\n",
    "\n",
    "<font color='purple'><b>Комментарий студента</b></font>\n",
    "<font color='purple'>Приветствую, Павел. Спасибо за подробный разбор и советы! ниже я постарался внести должные исправления. </font>"
   ]
  },
  {
   "cell_type": "markdown",
   "metadata": {},
   "source": [
    "<font color='blue' size=3><b>Комментарий ревьюера 2</b></font>\n",
    "\n",
    "<font color='blue'>Привет еще раз. Спасибо, за исправления. Оформление комментариев по работе сохраняется. Только обозначим, что это вторая итерация.</font>"
   ]
  },
  {
   "cell_type": "markdown",
   "metadata": {},
   "source": [
    "<font color='blue' size=3><b>Комментарий ревьюера 3</b></font>\n",
    "\n",
    "<font color='blue'>Привет еще раз. Спасибо, за исправления. Оформление комментариев по работе сохраняется.</font>"
   ]
  },
  {
   "cell_type": "markdown",
   "metadata": {
    "toc": true
   },
   "source": [
    "<h1>Содержание<span class=\"tocSkip\"></span></h1>\n",
    "<div class=\"toc\"><ul class=\"toc-item\"><li><span><a href=\"#Описание-проекта\" data-toc-modified-id=\"Описание-проекта-1\"><span class=\"toc-item-num\">1&nbsp;&nbsp;</span>Описание проекта</a></span><ul class=\"toc-item\"><li><span><a href=\"#Цель-исследования:-подготовить-прототип-модели,-предсказывающей-коэффициент-восстановления-золота-из-золотосодержащей-руды.\" data-toc-modified-id=\"Цель-исследования:-подготовить-прототип-модели,-предсказывающей-коэффициент-восстановления-золота-из-золотосодержащей-руды.-1.1\"><span class=\"toc-item-num\">1.1&nbsp;&nbsp;</span>Цель исследования: подготовить прототип модели, предсказывающей коэффициент восстановления золота из золотосодержащей руды.</a></span></li><li><span><a href=\"#Задачи-исследования:\" data-toc-modified-id=\"Задачи-исследования:-1.2\"><span class=\"toc-item-num\">1.2&nbsp;&nbsp;</span>Задачи исследования:</a></span></li></ul></li><li><span><a href=\"#Подготовка-данных\" data-toc-modified-id=\"Подготовка-данных-2\"><span class=\"toc-item-num\">2&nbsp;&nbsp;</span>Подготовка данных</a></span><ul class=\"toc-item\"><li><span><a href=\"#Импорт-библиотек\" data-toc-modified-id=\"Импорт-библиотек-2.1\"><span class=\"toc-item-num\">2.1&nbsp;&nbsp;</span>Импорт библиотек</a></span></li><li><span><a href=\"#Загрузка-и-осмотр-данных\" data-toc-modified-id=\"Загрузка-и-осмотр-данных-2.2\"><span class=\"toc-item-num\">2.2&nbsp;&nbsp;</span>Загрузка и осмотр данных</a></span><ul class=\"toc-item\"><li><span><a href=\"#Обучающая-выборка\" data-toc-modified-id=\"Обучающая-выборка-2.2.1\"><span class=\"toc-item-num\">2.2.1&nbsp;&nbsp;</span>Обучающая выборка</a></span></li><li><span><a href=\"#Тестовая-выборка\" data-toc-modified-id=\"Тестовая-выборка-2.2.2\"><span class=\"toc-item-num\">2.2.2&nbsp;&nbsp;</span>Тестовая выборка</a></span></li><li><span><a href=\"#Объединённая-выборка\" data-toc-modified-id=\"Объединённая-выборка-2.2.3\"><span class=\"toc-item-num\">2.2.3&nbsp;&nbsp;</span>Объединённая выборка</a></span></li><li><span><a href=\"#Результаты\" data-toc-modified-id=\"Результаты-2.2.4\"><span class=\"toc-item-num\">2.2.4&nbsp;&nbsp;</span>Результаты</a></span></li></ul></li><li><span><a href=\"#Отбор-целевого-признака-для-тестовой-выборки\" data-toc-modified-id=\"Отбор-целевого-признака-для-тестовой-выборки-2.3\"><span class=\"toc-item-num\">2.3&nbsp;&nbsp;</span>Отбор целевого признака для тестовой выборки</a></span></li><li><span><a href=\"#Заполнение-пропусков\" data-toc-modified-id=\"Заполнение-пропусков-2.4\"><span class=\"toc-item-num\">2.4&nbsp;&nbsp;</span>Заполнение пропусков</a></span></li><li><span><a href=\"#Расчёт-эффективности-обогащения\" data-toc-modified-id=\"Расчёт-эффективности-обогащения-2.5\"><span class=\"toc-item-num\">2.5&nbsp;&nbsp;</span>Расчёт эффективности обогащения</a></span></li><li><span><a href=\"#Признаки,-недоступные-в-тестовой-выборке\" data-toc-modified-id=\"Признаки,-недоступные-в-тестовой-выборке-2.6\"><span class=\"toc-item-num\">2.6&nbsp;&nbsp;</span>Признаки, недоступные в тестовой выборке</a></span></li></ul></li><li><span><a href=\"#Анализ-данных\" data-toc-modified-id=\"Анализ-данных-3\"><span class=\"toc-item-num\">3&nbsp;&nbsp;</span>Анализ данных</a></span><ul class=\"toc-item\"><li><span><a href=\"#Сравнительная-оценка-концентрации-веществ-на-различных-этапах-обогащения\" data-toc-modified-id=\"Сравнительная-оценка-концентрации-веществ-на-различных-этапах-обогащения-3.1\"><span class=\"toc-item-num\">3.1&nbsp;&nbsp;</span>Сравнительная оценка концентрации веществ на различных этапах обогащения</a></span></li><li><span><a href=\"#Распределение-размеров-гранул-сырья-на-обучающей-и-тестовой-выборках\" data-toc-modified-id=\"Распределение-размеров-гранул-сырья-на-обучающей-и-тестовой-выборках-3.2\"><span class=\"toc-item-num\">3.2&nbsp;&nbsp;</span>Распределение размеров гранул сырья на обучающей и тестовой выборках</a></span><ul class=\"toc-item\"><li><span><a href=\"#Распределение-концентрации-веществ-по-этапам-производства\" data-toc-modified-id=\"Распределение-концентрации-веществ-по-этапам-производства-3.2.1\"><span class=\"toc-item-num\">3.2.1&nbsp;&nbsp;</span>Распределение концентрации веществ по этапам производства</a></span></li><li><span><a href=\"#Удаление-выбросов-в-данных\" data-toc-modified-id=\"Удаление-выбросов-в-данных-3.2.2\"><span class=\"toc-item-num\">3.2.2&nbsp;&nbsp;</span>Удаление выбросов в данных</a></span></li></ul></li></ul></li><li><span><a href=\"#Модель\" data-toc-modified-id=\"Модель-4\"><span class=\"toc-item-num\">4&nbsp;&nbsp;</span>Модель</a></span><ul class=\"toc-item\"><li><span><a href=\"#Объявление-функций\" data-toc-modified-id=\"Объявление-функций-4.1\"><span class=\"toc-item-num\">4.1&nbsp;&nbsp;</span>Объявление функций</a></span><ul class=\"toc-item\"><li><span><a href=\"#Функция-для-вычисления-sMAPE\" data-toc-modified-id=\"Функция-для-вычисления-sMAPE-4.1.1\"><span class=\"toc-item-num\">4.1.1&nbsp;&nbsp;</span>Функция для вычисления sMAPE</a></span></li><li><span><a href=\"#Функция-для-вычисления-итоговой-sMAPE\" data-toc-modified-id=\"Функция-для-вычисления-итоговой-sMAPE-4.1.2\"><span class=\"toc-item-num\">4.1.2&nbsp;&nbsp;</span>Функция для вычисления итоговой sMAPE</a></span></li><li><span><a href=\"#Объявление-smape_scorer\" data-toc-modified-id=\"Объявление-smape_scorer-4.1.3\"><span class=\"toc-item-num\">4.1.3&nbsp;&nbsp;</span>Объявление smape_scorer</a></span></li><li><span><a href=\"#Функция-обучения-и-кросс-валидации-DecisionTreeRegressor\" data-toc-modified-id=\"Функция-обучения-и-кросс-валидации-DecisionTreeRegressor-4.1.4\"><span class=\"toc-item-num\">4.1.4&nbsp;&nbsp;</span>Функция обучения и кросс-валидации DecisionTreeRegressor</a></span></li><li><span><a href=\"#Функция-обучения-и-кросс-валидации-RandomForestRegressor()\" data-toc-modified-id=\"Функция-обучения-и-кросс-валидации-RandomForestRegressor()-4.1.5\"><span class=\"toc-item-num\">4.1.5&nbsp;&nbsp;</span>Функция обучения и кросс-валидации RandomForestRegressor()</a></span></li></ul></li><li><span><a href=\"#Подготовка-данных-к-машинному-обучению\" data-toc-modified-id=\"Подготовка-данных-к-машинному-обучению-4.2\"><span class=\"toc-item-num\">4.2&nbsp;&nbsp;</span>Подготовка данных к машинному обучению</a></span><ul class=\"toc-item\"><li><span><a href=\"#Сокращение-объема-данных\" data-toc-modified-id=\"Сокращение-объема-данных-4.2.1\"><span class=\"toc-item-num\">4.2.1&nbsp;&nbsp;</span>Сокращение объема данных</a></span></li><li><span><a href=\"#Удаление-ненужных-данных\" data-toc-modified-id=\"Удаление-ненужных-данных-4.2.2\"><span class=\"toc-item-num\">4.2.2&nbsp;&nbsp;</span>Удаление ненужных данных</a></span></li><li><span><a href=\"#Отбор-признаков\" data-toc-modified-id=\"Отбор-признаков-4.2.3\"><span class=\"toc-item-num\">4.2.3&nbsp;&nbsp;</span>Отбор признаков</a></span></li><li><span><a href=\"#Объявление-features-и-target.\" data-toc-modified-id=\"Объявление-features-и-target.-4.2.4\"><span class=\"toc-item-num\">4.2.4&nbsp;&nbsp;</span>Объявление features и target.</a></span></li><li><span><a href=\"#Масштабирование-данных\" data-toc-modified-id=\"Масштабирование-данных-4.2.5\"><span class=\"toc-item-num\">4.2.5&nbsp;&nbsp;</span>Масштабирование данных</a></span></li></ul></li><li><span><a href=\"#Обучение-и-кросс-валидация\" data-toc-modified-id=\"Обучение-и-кросс-валидация-4.3\"><span class=\"toc-item-num\">4.3&nbsp;&nbsp;</span>Обучение и кросс-валидация</a></span><ul class=\"toc-item\"><li><span><a href=\"#DecisionTreeRegressor()\" data-toc-modified-id=\"DecisionTreeRegressor()-4.3.1\"><span class=\"toc-item-num\">4.3.1&nbsp;&nbsp;</span>DecisionTreeRegressor()</a></span><ul class=\"toc-item\"><li><span><a href=\"#rougher.output.recovery\" data-toc-modified-id=\"rougher.output.recovery-4.3.1.1\"><span class=\"toc-item-num\">4.3.1.1&nbsp;&nbsp;</span>rougher.output.recovery</a></span></li><li><span><a href=\"#final.output.recovery\" data-toc-modified-id=\"final.output.recovery-4.3.1.2\"><span class=\"toc-item-num\">4.3.1.2&nbsp;&nbsp;</span>final.output.recovery</a></span></li></ul></li><li><span><a href=\"#RandomForestRegressor\" data-toc-modified-id=\"RandomForestRegressor-4.3.2\"><span class=\"toc-item-num\">4.3.2&nbsp;&nbsp;</span>RandomForestRegressor</a></span><ul class=\"toc-item\"><li><span><a href=\"#rougher.output.recovery\" data-toc-modified-id=\"rougher.output.recovery-4.3.2.1\"><span class=\"toc-item-num\">4.3.2.1&nbsp;&nbsp;</span>rougher.output.recovery</a></span></li><li><span><a href=\"#final.output.recovery\" data-toc-modified-id=\"final.output.recovery-4.3.2.2\"><span class=\"toc-item-num\">4.3.2.2&nbsp;&nbsp;</span>final.output.recovery</a></span></li></ul></li><li><span><a href=\"#LinearRegression\" data-toc-modified-id=\"LinearRegression-4.3.3\"><span class=\"toc-item-num\">4.3.3&nbsp;&nbsp;</span>LinearRegression</a></span><ul class=\"toc-item\"><li><span><a href=\"#rougher.output.recovery\" data-toc-modified-id=\"rougher.output.recovery-4.3.3.1\"><span class=\"toc-item-num\">4.3.3.1&nbsp;&nbsp;</span>rougher.output.recovery</a></span></li><li><span><a href=\"#final.output.recovery\" data-toc-modified-id=\"final.output.recovery-4.3.3.2\"><span class=\"toc-item-num\">4.3.3.2&nbsp;&nbsp;</span>final.output.recovery</a></span></li></ul></li></ul></li><li><span><a href=\"#Результат\" data-toc-modified-id=\"Результат-4.4\"><span class=\"toc-item-num\">4.4&nbsp;&nbsp;</span>Результат</a></span></li><li><span><a href=\"#Расчёт-sMAPE-на-тестовой-выборке\" data-toc-modified-id=\"Расчёт-sMAPE-на-тестовой-выборке-4.5\"><span class=\"toc-item-num\">4.5&nbsp;&nbsp;</span>Расчёт sMAPE на тестовой выборке</a></span></li><li><span><a href=\"#Проверка-результатов-с-использованием-дамми-модели\" data-toc-modified-id=\"Проверка-результатов-с-использованием-дамми-модели-4.6\"><span class=\"toc-item-num\">4.6&nbsp;&nbsp;</span>Проверка результатов с использованием дамми-модели</a></span></li></ul></li><li><span><a href=\"#Вывод\" data-toc-modified-id=\"Вывод-5\"><span class=\"toc-item-num\">5&nbsp;&nbsp;</span>Вывод</a></span><ul class=\"toc-item\"><li><span><a href=\"#Цель-и-задачи-исследования:\" data-toc-modified-id=\"Цель-и-задачи-исследования:-5.1\"><span class=\"toc-item-num\">5.1&nbsp;&nbsp;</span>Цель и задачи исследования:</a></span></li><li><span><a href=\"#Материалы-и-методы\" data-toc-modified-id=\"Материалы-и-методы-5.2\"><span class=\"toc-item-num\">5.2&nbsp;&nbsp;</span>Материалы и методы</a></span></li><li><span><a href=\"#Ход-исследования\" data-toc-modified-id=\"Ход-исследования-5.3\"><span class=\"toc-item-num\">5.3&nbsp;&nbsp;</span>Ход исследования</a></span></li><li><span><a href=\"#Результаты-исследования:\" data-toc-modified-id=\"Результаты-исследования:-5.4\"><span class=\"toc-item-num\">5.4&nbsp;&nbsp;</span>Результаты исследования:</a></span></li></ul></li><li><span><a href=\"#Чек-лист-готовности-проекта\" data-toc-modified-id=\"Чек-лист-готовности-проекта-6\"><span class=\"toc-item-num\">6&nbsp;&nbsp;</span>Чек-лист готовности проекта</a></span></li></ul></div>"
   ]
  },
  {
   "cell_type": "markdown",
   "metadata": {},
   "source": [
    "# Восстановление золота из руды"
   ]
  },
  {
   "cell_type": "markdown",
   "metadata": {},
   "source": [
    "## Описание проекта\n",
    "\n",
    "\n",
    "\n",
    "### Цель исследования: подготовить прототип модели, предсказывающей коэффициент восстановления золота из золотосодержащей руды.\n",
    "\n",
    "### Задачи исследования:\n",
    "\n",
    "изучить данные, предоставленные заказчиком, провести предварительную обработку;\n",
    "проверить правильность расчёта целевого признака;\n",
    "проанализировать признаки, отсутствующие в тестовой выборке;\n",
    "исследовать концентрацию веществ на различных этапах производства;\n",
    "исследовать распределение размеров гранул сырья в тестовой и обучающей выборках;\n",
    "разработать функцию для вычисления итоговой sMAPE;\n",
    "провести кросс-валидацию и обучить модели;\n",
    "рассчитать r2-коэффициент моделей и sMAPE на тестовой выборке."
   ]
  },
  {
   "cell_type": "markdown",
   "metadata": {},
   "source": [
    "## Подготовка данных\n",
    "### Импорт библиотек"
   ]
  },
  {
   "cell_type": "code",
   "execution_count": 1,
   "metadata": {},
   "outputs": [],
   "source": [
    "import pandas as pd\n",
    "\n",
    "import matplotlib.pyplot as plt\n",
    "\n",
    "import numpy as np\n",
    "\n",
    "from sklearn.metrics import mean_absolute_error\n",
    "from sklearn.model_selection import cross_val_score\n",
    "from sklearn.preprocessing import StandardScaler\n",
    "from sklearn.linear_model import LinearRegression\n",
    "from sklearn.tree import DecisionTreeRegressor\n",
    "from sklearn.ensemble import RandomForestRegressor\n",
    "from sklearn.metrics import make_scorer\n",
    "from sklearn.dummy import DummyRegressor"
   ]
  },
  {
   "cell_type": "markdown",
   "metadata": {},
   "source": [
    "<font color='blue'><b>Комментарий ревьюера: </b></font> ✔️\\\n",
    "<font color='green'> Хорошее оформление импортов! \\\n",
    "Импорты собраны в одной ячейке, сгрупированы по функциональности. Можно ещё разделить группы пустой строкой.</font>"
   ]
  },
  {
   "cell_type": "code",
   "execution_count": 2,
   "metadata": {},
   "outputs": [],
   "source": [
    "# Для работы с большими таблицами настроим вывод\n",
    "pd.set_option('display.max_rows', 100)\n",
    "pd.set_option('display.max_columns', 100)"
   ]
  },
  {
   "cell_type": "markdown",
   "metadata": {},
   "source": [
    "### Загрузка и осмотр данных "
   ]
  },
  {
   "cell_type": "code",
   "execution_count": 3,
   "metadata": {},
   "outputs": [],
   "source": [
    "# чтение датасета\n",
    "df_train = pd.read_csv('/datasets/gold_recovery_train_new.csv')\n",
    "df_test = pd.read_csv('/datasets/gold_recovery_test_new.csv')\n",
    "df_full = pd.read_csv('/datasets/gold_recovery_full_new.csv')"
   ]
  },
  {
   "cell_type": "code",
   "execution_count": 4,
   "metadata": {},
   "outputs": [],
   "source": [
    "# функция для исследования датасетов\n",
    "\n",
    "def data_summary(df):\n",
    "    print(f'Информация по датасету:')\n",
    "    df.info()\n",
    "    \n",
    "    print('\\n\\n\\nПервые 5 строк')\n",
    "    display(df.head())\n",
    "    print('\\n\\n\\nСтатистики')\n",
    "    display(df.describe())\n",
    "    print('\\n\\n\\nКоличество пропусков в данных')\n",
    "    display(df.isna().sum())\n",
    "    print('\\n\\n\\nКоличество дубликатов в данных')\n",
    "    print(df.duplicated().sum())"
   ]
  },
  {
   "cell_type": "markdown",
   "metadata": {},
   "source": [
    "#### Обучающая выборка"
   ]
  },
  {
   "cell_type": "code",
   "execution_count": 5,
   "metadata": {},
   "outputs": [
    {
     "name": "stdout",
     "output_type": "stream",
     "text": [
      "Информация по датасету:\n",
      "<class 'pandas.core.frame.DataFrame'>\n",
      "RangeIndex: 14149 entries, 0 to 14148\n",
      "Data columns (total 87 columns):\n",
      " #   Column                                              Non-Null Count  Dtype  \n",
      "---  ------                                              --------------  -----  \n",
      " 0   date                                                14149 non-null  object \n",
      " 1   final.output.concentrate_ag                         14148 non-null  float64\n",
      " 2   final.output.concentrate_pb                         14148 non-null  float64\n",
      " 3   final.output.concentrate_sol                        13938 non-null  float64\n",
      " 4   final.output.concentrate_au                         14149 non-null  float64\n",
      " 5   final.output.recovery                               14149 non-null  float64\n",
      " 6   final.output.tail_ag                                14149 non-null  float64\n",
      " 7   final.output.tail_pb                                14049 non-null  float64\n",
      " 8   final.output.tail_sol                               14144 non-null  float64\n",
      " 9   final.output.tail_au                                14149 non-null  float64\n",
      " 10  primary_cleaner.input.sulfate                       14129 non-null  float64\n",
      " 11  primary_cleaner.input.depressant                    14117 non-null  float64\n",
      " 12  primary_cleaner.input.feed_size                     14149 non-null  float64\n",
      " 13  primary_cleaner.input.xanthate                      14049 non-null  float64\n",
      " 14  primary_cleaner.output.concentrate_ag               14149 non-null  float64\n",
      " 15  primary_cleaner.output.concentrate_pb               14063 non-null  float64\n",
      " 16  primary_cleaner.output.concentrate_sol              13863 non-null  float64\n",
      " 17  primary_cleaner.output.concentrate_au               14149 non-null  float64\n",
      " 18  primary_cleaner.output.tail_ag                      14148 non-null  float64\n",
      " 19  primary_cleaner.output.tail_pb                      14134 non-null  float64\n",
      " 20  primary_cleaner.output.tail_sol                     14103 non-null  float64\n",
      " 21  primary_cleaner.output.tail_au                      14149 non-null  float64\n",
      " 22  primary_cleaner.state.floatbank8_a_air              14145 non-null  float64\n",
      " 23  primary_cleaner.state.floatbank8_a_level            14148 non-null  float64\n",
      " 24  primary_cleaner.state.floatbank8_b_air              14145 non-null  float64\n",
      " 25  primary_cleaner.state.floatbank8_b_level            14148 non-null  float64\n",
      " 26  primary_cleaner.state.floatbank8_c_air              14147 non-null  float64\n",
      " 27  primary_cleaner.state.floatbank8_c_level            14148 non-null  float64\n",
      " 28  primary_cleaner.state.floatbank8_d_air              14146 non-null  float64\n",
      " 29  primary_cleaner.state.floatbank8_d_level            14148 non-null  float64\n",
      " 30  rougher.calculation.sulfate_to_au_concentrate       14148 non-null  float64\n",
      " 31  rougher.calculation.floatbank10_sulfate_to_au_feed  14148 non-null  float64\n",
      " 32  rougher.calculation.floatbank11_sulfate_to_au_feed  14148 non-null  float64\n",
      " 33  rougher.calculation.au_pb_ratio                     14149 non-null  float64\n",
      " 34  rougher.input.feed_ag                               14149 non-null  float64\n",
      " 35  rougher.input.feed_pb                               14049 non-null  float64\n",
      " 36  rougher.input.feed_rate                             14141 non-null  float64\n",
      " 37  rougher.input.feed_size                             14005 non-null  float64\n",
      " 38  rougher.input.feed_sol                              14071 non-null  float64\n",
      " 39  rougher.input.feed_au                               14149 non-null  float64\n",
      " 40  rougher.input.floatbank10_sulfate                   14120 non-null  float64\n",
      " 41  rougher.input.floatbank10_xanthate                  14141 non-null  float64\n",
      " 42  rougher.input.floatbank11_sulfate                   14113 non-null  float64\n",
      " 43  rougher.input.floatbank11_xanthate                  13721 non-null  float64\n",
      " 44  rougher.output.concentrate_ag                       14149 non-null  float64\n",
      " 45  rougher.output.concentrate_pb                       14149 non-null  float64\n",
      " 46  rougher.output.concentrate_sol                      14127 non-null  float64\n",
      " 47  rougher.output.concentrate_au                       14149 non-null  float64\n",
      " 48  rougher.output.recovery                             14149 non-null  float64\n",
      " 49  rougher.output.tail_ag                              14148 non-null  float64\n",
      " 50  rougher.output.tail_pb                              14149 non-null  float64\n",
      " 51  rougher.output.tail_sol                             14149 non-null  float64\n",
      " 52  rougher.output.tail_au                              14149 non-null  float64\n",
      " 53  rougher.state.floatbank10_a_air                     14148 non-null  float64\n",
      " 54  rougher.state.floatbank10_a_level                   14148 non-null  float64\n",
      " 55  rougher.state.floatbank10_b_air                     14148 non-null  float64\n",
      " 56  rougher.state.floatbank10_b_level                   14148 non-null  float64\n",
      " 57  rougher.state.floatbank10_c_air                     14148 non-null  float64\n",
      " 58  rougher.state.floatbank10_c_level                   14148 non-null  float64\n",
      " 59  rougher.state.floatbank10_d_air                     14149 non-null  float64\n",
      " 60  rougher.state.floatbank10_d_level                   14149 non-null  float64\n",
      " 61  rougher.state.floatbank10_e_air                     13713 non-null  float64\n",
      " 62  rougher.state.floatbank10_e_level                   14149 non-null  float64\n",
      " 63  rougher.state.floatbank10_f_air                     14149 non-null  float64\n",
      " 64  rougher.state.floatbank10_f_level                   14149 non-null  float64\n",
      " 65  secondary_cleaner.output.tail_ag                    14147 non-null  float64\n",
      " 66  secondary_cleaner.output.tail_pb                    14139 non-null  float64\n",
      " 67  secondary_cleaner.output.tail_sol                   12544 non-null  float64\n",
      " 68  secondary_cleaner.output.tail_au                    14149 non-null  float64\n",
      " 69  secondary_cleaner.state.floatbank2_a_air            13932 non-null  float64\n",
      " 70  secondary_cleaner.state.floatbank2_a_level          14148 non-null  float64\n",
      " 71  secondary_cleaner.state.floatbank2_b_air            14128 non-null  float64\n",
      " 72  secondary_cleaner.state.floatbank2_b_level          14148 non-null  float64\n",
      " 73  secondary_cleaner.state.floatbank3_a_air            14145 non-null  float64\n",
      " 74  secondary_cleaner.state.floatbank3_a_level          14148 non-null  float64\n",
      " 75  secondary_cleaner.state.floatbank3_b_air            14148 non-null  float64\n",
      " 76  secondary_cleaner.state.floatbank3_b_level          14148 non-null  float64\n",
      " 77  secondary_cleaner.state.floatbank4_a_air            14143 non-null  float64\n",
      " 78  secondary_cleaner.state.floatbank4_a_level          14148 non-null  float64\n",
      " 79  secondary_cleaner.state.floatbank4_b_air            14148 non-null  float64\n",
      " 80  secondary_cleaner.state.floatbank4_b_level          14148 non-null  float64\n",
      " 81  secondary_cleaner.state.floatbank5_a_air            14148 non-null  float64\n",
      " 82  secondary_cleaner.state.floatbank5_a_level          14148 non-null  float64\n",
      " 83  secondary_cleaner.state.floatbank5_b_air            14148 non-null  float64\n",
      " 84  secondary_cleaner.state.floatbank5_b_level          14148 non-null  float64\n",
      " 85  secondary_cleaner.state.floatbank6_a_air            14147 non-null  float64\n",
      " 86  secondary_cleaner.state.floatbank6_a_level          14148 non-null  float64\n",
      "dtypes: float64(86), object(1)\n",
      "memory usage: 9.4+ MB\n",
      "\n",
      "\n",
      "\n",
      "Первые 5 строк\n"
     ]
    },
    {
     "data": {
      "text/html": [
       "<div>\n",
       "<style scoped>\n",
       "    .dataframe tbody tr th:only-of-type {\n",
       "        vertical-align: middle;\n",
       "    }\n",
       "\n",
       "    .dataframe tbody tr th {\n",
       "        vertical-align: top;\n",
       "    }\n",
       "\n",
       "    .dataframe thead th {\n",
       "        text-align: right;\n",
       "    }\n",
       "</style>\n",
       "<table border=\"1\" class=\"dataframe\">\n",
       "  <thead>\n",
       "    <tr style=\"text-align: right;\">\n",
       "      <th></th>\n",
       "      <th>date</th>\n",
       "      <th>final.output.concentrate_ag</th>\n",
       "      <th>final.output.concentrate_pb</th>\n",
       "      <th>final.output.concentrate_sol</th>\n",
       "      <th>final.output.concentrate_au</th>\n",
       "      <th>final.output.recovery</th>\n",
       "      <th>final.output.tail_ag</th>\n",
       "      <th>final.output.tail_pb</th>\n",
       "      <th>final.output.tail_sol</th>\n",
       "      <th>final.output.tail_au</th>\n",
       "      <th>primary_cleaner.input.sulfate</th>\n",
       "      <th>primary_cleaner.input.depressant</th>\n",
       "      <th>primary_cleaner.input.feed_size</th>\n",
       "      <th>primary_cleaner.input.xanthate</th>\n",
       "      <th>primary_cleaner.output.concentrate_ag</th>\n",
       "      <th>primary_cleaner.output.concentrate_pb</th>\n",
       "      <th>primary_cleaner.output.concentrate_sol</th>\n",
       "      <th>primary_cleaner.output.concentrate_au</th>\n",
       "      <th>primary_cleaner.output.tail_ag</th>\n",
       "      <th>primary_cleaner.output.tail_pb</th>\n",
       "      <th>primary_cleaner.output.tail_sol</th>\n",
       "      <th>primary_cleaner.output.tail_au</th>\n",
       "      <th>primary_cleaner.state.floatbank8_a_air</th>\n",
       "      <th>primary_cleaner.state.floatbank8_a_level</th>\n",
       "      <th>primary_cleaner.state.floatbank8_b_air</th>\n",
       "      <th>primary_cleaner.state.floatbank8_b_level</th>\n",
       "      <th>primary_cleaner.state.floatbank8_c_air</th>\n",
       "      <th>primary_cleaner.state.floatbank8_c_level</th>\n",
       "      <th>primary_cleaner.state.floatbank8_d_air</th>\n",
       "      <th>primary_cleaner.state.floatbank8_d_level</th>\n",
       "      <th>rougher.calculation.sulfate_to_au_concentrate</th>\n",
       "      <th>rougher.calculation.floatbank10_sulfate_to_au_feed</th>\n",
       "      <th>rougher.calculation.floatbank11_sulfate_to_au_feed</th>\n",
       "      <th>rougher.calculation.au_pb_ratio</th>\n",
       "      <th>rougher.input.feed_ag</th>\n",
       "      <th>rougher.input.feed_pb</th>\n",
       "      <th>rougher.input.feed_rate</th>\n",
       "      <th>rougher.input.feed_size</th>\n",
       "      <th>rougher.input.feed_sol</th>\n",
       "      <th>rougher.input.feed_au</th>\n",
       "      <th>rougher.input.floatbank10_sulfate</th>\n",
       "      <th>rougher.input.floatbank10_xanthate</th>\n",
       "      <th>rougher.input.floatbank11_sulfate</th>\n",
       "      <th>rougher.input.floatbank11_xanthate</th>\n",
       "      <th>rougher.output.concentrate_ag</th>\n",
       "      <th>rougher.output.concentrate_pb</th>\n",
       "      <th>rougher.output.concentrate_sol</th>\n",
       "      <th>rougher.output.concentrate_au</th>\n",
       "      <th>rougher.output.recovery</th>\n",
       "      <th>rougher.output.tail_ag</th>\n",
       "      <th>rougher.output.tail_pb</th>\n",
       "      <th>rougher.output.tail_sol</th>\n",
       "      <th>rougher.output.tail_au</th>\n",
       "      <th>rougher.state.floatbank10_a_air</th>\n",
       "      <th>rougher.state.floatbank10_a_level</th>\n",
       "      <th>rougher.state.floatbank10_b_air</th>\n",
       "      <th>rougher.state.floatbank10_b_level</th>\n",
       "      <th>rougher.state.floatbank10_c_air</th>\n",
       "      <th>rougher.state.floatbank10_c_level</th>\n",
       "      <th>rougher.state.floatbank10_d_air</th>\n",
       "      <th>rougher.state.floatbank10_d_level</th>\n",
       "      <th>rougher.state.floatbank10_e_air</th>\n",
       "      <th>rougher.state.floatbank10_e_level</th>\n",
       "      <th>rougher.state.floatbank10_f_air</th>\n",
       "      <th>rougher.state.floatbank10_f_level</th>\n",
       "      <th>secondary_cleaner.output.tail_ag</th>\n",
       "      <th>secondary_cleaner.output.tail_pb</th>\n",
       "      <th>secondary_cleaner.output.tail_sol</th>\n",
       "      <th>secondary_cleaner.output.tail_au</th>\n",
       "      <th>secondary_cleaner.state.floatbank2_a_air</th>\n",
       "      <th>secondary_cleaner.state.floatbank2_a_level</th>\n",
       "      <th>secondary_cleaner.state.floatbank2_b_air</th>\n",
       "      <th>secondary_cleaner.state.floatbank2_b_level</th>\n",
       "      <th>secondary_cleaner.state.floatbank3_a_air</th>\n",
       "      <th>secondary_cleaner.state.floatbank3_a_level</th>\n",
       "      <th>secondary_cleaner.state.floatbank3_b_air</th>\n",
       "      <th>secondary_cleaner.state.floatbank3_b_level</th>\n",
       "      <th>secondary_cleaner.state.floatbank4_a_air</th>\n",
       "      <th>secondary_cleaner.state.floatbank4_a_level</th>\n",
       "      <th>secondary_cleaner.state.floatbank4_b_air</th>\n",
       "      <th>secondary_cleaner.state.floatbank4_b_level</th>\n",
       "      <th>secondary_cleaner.state.floatbank5_a_air</th>\n",
       "      <th>secondary_cleaner.state.floatbank5_a_level</th>\n",
       "      <th>secondary_cleaner.state.floatbank5_b_air</th>\n",
       "      <th>secondary_cleaner.state.floatbank5_b_level</th>\n",
       "      <th>secondary_cleaner.state.floatbank6_a_air</th>\n",
       "      <th>secondary_cleaner.state.floatbank6_a_level</th>\n",
       "    </tr>\n",
       "  </thead>\n",
       "  <tbody>\n",
       "    <tr>\n",
       "      <th>0</th>\n",
       "      <td>2016-01-15 00:00:00</td>\n",
       "      <td>6.055403</td>\n",
       "      <td>9.889648</td>\n",
       "      <td>5.507324</td>\n",
       "      <td>42.192020</td>\n",
       "      <td>70.541216</td>\n",
       "      <td>10.411962</td>\n",
       "      <td>0.895447</td>\n",
       "      <td>16.904297</td>\n",
       "      <td>2.143149</td>\n",
       "      <td>127.092003</td>\n",
       "      <td>10.128295</td>\n",
       "      <td>7.25</td>\n",
       "      <td>0.988759</td>\n",
       "      <td>8.547551</td>\n",
       "      <td>10.389648</td>\n",
       "      <td>19.529297</td>\n",
       "      <td>34.174427</td>\n",
       "      <td>14.936526</td>\n",
       "      <td>2.534912</td>\n",
       "      <td>7.476074</td>\n",
       "      <td>2.106679</td>\n",
       "      <td>1549.775757</td>\n",
       "      <td>-498.912140</td>\n",
       "      <td>1551.434204</td>\n",
       "      <td>-516.403442</td>\n",
       "      <td>1549.873901</td>\n",
       "      <td>-498.666595</td>\n",
       "      <td>1554.367432</td>\n",
       "      <td>-493.428131</td>\n",
       "      <td>41885.707031</td>\n",
       "      <td>3481.779053</td>\n",
       "      <td>3520.337158</td>\n",
       "      <td>2.838687</td>\n",
       "      <td>6.100378</td>\n",
       "      <td>2.284912</td>\n",
       "      <td>523.546326</td>\n",
       "      <td>55.486599</td>\n",
       "      <td>36.808594</td>\n",
       "      <td>6.486150</td>\n",
       "      <td>11.986616</td>\n",
       "      <td>6.007990</td>\n",
       "      <td>11.836743</td>\n",
       "      <td>6.005818</td>\n",
       "      <td>11.500771</td>\n",
       "      <td>7.101074</td>\n",
       "      <td>28.029297</td>\n",
       "      <td>19.793808</td>\n",
       "      <td>87.107763</td>\n",
       "      <td>5.008018</td>\n",
       "      <td>0.508728</td>\n",
       "      <td>19.154297</td>\n",
       "      <td>1.170244</td>\n",
       "      <td>999.706909</td>\n",
       "      <td>-404.066986</td>\n",
       "      <td>1603.011353</td>\n",
       "      <td>-434.715027</td>\n",
       "      <td>1602.375000</td>\n",
       "      <td>-442.204468</td>\n",
       "      <td>1598.937256</td>\n",
       "      <td>-451.294128</td>\n",
       "      <td>1404.472046</td>\n",
       "      <td>-455.462982</td>\n",
       "      <td>1416.354980</td>\n",
       "      <td>-451.939636</td>\n",
       "      <td>14.500184</td>\n",
       "      <td>4.694824</td>\n",
       "      <td>8.764648</td>\n",
       "      <td>2.606185</td>\n",
       "      <td>25.853109</td>\n",
       "      <td>-498.526489</td>\n",
       "      <td>23.893660</td>\n",
       "      <td>-501.406281</td>\n",
       "      <td>23.961798</td>\n",
       "      <td>-495.262817</td>\n",
       "      <td>21.940409</td>\n",
       "      <td>-499.340973</td>\n",
       "      <td>14.016835</td>\n",
       "      <td>-502.488007</td>\n",
       "      <td>12.099931</td>\n",
       "      <td>-504.715942</td>\n",
       "      <td>9.925633</td>\n",
       "      <td>-498.310211</td>\n",
       "      <td>8.079666</td>\n",
       "      <td>-500.470978</td>\n",
       "      <td>14.151341</td>\n",
       "      <td>-605.841980</td>\n",
       "    </tr>\n",
       "    <tr>\n",
       "      <th>1</th>\n",
       "      <td>2016-01-15 01:00:00</td>\n",
       "      <td>6.029369</td>\n",
       "      <td>9.968944</td>\n",
       "      <td>5.257781</td>\n",
       "      <td>42.701629</td>\n",
       "      <td>69.266198</td>\n",
       "      <td>10.462676</td>\n",
       "      <td>0.927452</td>\n",
       "      <td>16.634514</td>\n",
       "      <td>2.224930</td>\n",
       "      <td>125.629232</td>\n",
       "      <td>10.296251</td>\n",
       "      <td>7.25</td>\n",
       "      <td>1.002663</td>\n",
       "      <td>8.558743</td>\n",
       "      <td>10.497069</td>\n",
       "      <td>19.369147</td>\n",
       "      <td>34.118526</td>\n",
       "      <td>16.250511</td>\n",
       "      <td>3.049646</td>\n",
       "      <td>6.733907</td>\n",
       "      <td>2.353017</td>\n",
       "      <td>1576.166671</td>\n",
       "      <td>-500.904965</td>\n",
       "      <td>1575.950626</td>\n",
       "      <td>-499.865889</td>\n",
       "      <td>1575.994189</td>\n",
       "      <td>-499.315107</td>\n",
       "      <td>1574.479259</td>\n",
       "      <td>-498.931665</td>\n",
       "      <td>42050.861809</td>\n",
       "      <td>3498.370979</td>\n",
       "      <td>3489.981857</td>\n",
       "      <td>2.858998</td>\n",
       "      <td>6.161113</td>\n",
       "      <td>2.266033</td>\n",
       "      <td>525.290581</td>\n",
       "      <td>57.278666</td>\n",
       "      <td>35.753385</td>\n",
       "      <td>6.478583</td>\n",
       "      <td>11.971193</td>\n",
       "      <td>6.005766</td>\n",
       "      <td>11.996163</td>\n",
       "      <td>6.012594</td>\n",
       "      <td>11.615865</td>\n",
       "      <td>7.278807</td>\n",
       "      <td>28.067063</td>\n",
       "      <td>20.050975</td>\n",
       "      <td>86.843261</td>\n",
       "      <td>4.955378</td>\n",
       "      <td>0.536689</td>\n",
       "      <td>18.965234</td>\n",
       "      <td>1.184827</td>\n",
       "      <td>1000.286398</td>\n",
       "      <td>-400.065196</td>\n",
       "      <td>1600.754587</td>\n",
       "      <td>-449.953435</td>\n",
       "      <td>1600.479580</td>\n",
       "      <td>-449.830646</td>\n",
       "      <td>1600.527589</td>\n",
       "      <td>-449.953649</td>\n",
       "      <td>1399.227084</td>\n",
       "      <td>-450.869848</td>\n",
       "      <td>1399.719514</td>\n",
       "      <td>-450.119001</td>\n",
       "      <td>14.265474</td>\n",
       "      <td>4.592547</td>\n",
       "      <td>9.001494</td>\n",
       "      <td>2.488248</td>\n",
       "      <td>25.880539</td>\n",
       "      <td>-499.989656</td>\n",
       "      <td>23.889530</td>\n",
       "      <td>-500.372428</td>\n",
       "      <td>23.970550</td>\n",
       "      <td>-500.085473</td>\n",
       "      <td>22.085714</td>\n",
       "      <td>-499.446897</td>\n",
       "      <td>13.992281</td>\n",
       "      <td>-505.503262</td>\n",
       "      <td>11.950531</td>\n",
       "      <td>-501.331529</td>\n",
       "      <td>10.039245</td>\n",
       "      <td>-500.169983</td>\n",
       "      <td>7.984757</td>\n",
       "      <td>-500.582168</td>\n",
       "      <td>13.998353</td>\n",
       "      <td>-599.787184</td>\n",
       "    </tr>\n",
       "    <tr>\n",
       "      <th>2</th>\n",
       "      <td>2016-01-15 02:00:00</td>\n",
       "      <td>6.055926</td>\n",
       "      <td>10.213995</td>\n",
       "      <td>5.383759</td>\n",
       "      <td>42.657501</td>\n",
       "      <td>68.116445</td>\n",
       "      <td>10.507046</td>\n",
       "      <td>0.953716</td>\n",
       "      <td>16.208849</td>\n",
       "      <td>2.257889</td>\n",
       "      <td>123.819808</td>\n",
       "      <td>11.316280</td>\n",
       "      <td>7.25</td>\n",
       "      <td>0.991265</td>\n",
       "      <td>8.603505</td>\n",
       "      <td>10.354494</td>\n",
       "      <td>19.167579</td>\n",
       "      <td>33.969464</td>\n",
       "      <td>16.491823</td>\n",
       "      <td>3.124664</td>\n",
       "      <td>6.471768</td>\n",
       "      <td>2.416800</td>\n",
       "      <td>1601.556163</td>\n",
       "      <td>-499.997791</td>\n",
       "      <td>1600.386685</td>\n",
       "      <td>-500.607762</td>\n",
       "      <td>1602.003542</td>\n",
       "      <td>-500.870069</td>\n",
       "      <td>1599.541515</td>\n",
       "      <td>-499.827444</td>\n",
       "      <td>42018.101184</td>\n",
       "      <td>3495.348910</td>\n",
       "      <td>3502.359819</td>\n",
       "      <td>2.945989</td>\n",
       "      <td>6.116455</td>\n",
       "      <td>2.159622</td>\n",
       "      <td>530.026610</td>\n",
       "      <td>57.510649</td>\n",
       "      <td>35.971630</td>\n",
       "      <td>6.362222</td>\n",
       "      <td>11.920603</td>\n",
       "      <td>6.197377</td>\n",
       "      <td>11.920305</td>\n",
       "      <td>6.204633</td>\n",
       "      <td>11.695753</td>\n",
       "      <td>7.216833</td>\n",
       "      <td>27.454037</td>\n",
       "      <td>19.737170</td>\n",
       "      <td>86.842308</td>\n",
       "      <td>4.843460</td>\n",
       "      <td>0.546416</td>\n",
       "      <td>18.808533</td>\n",
       "      <td>1.162562</td>\n",
       "      <td>999.719565</td>\n",
       "      <td>-400.074028</td>\n",
       "      <td>1599.337330</td>\n",
       "      <td>-450.008530</td>\n",
       "      <td>1599.672797</td>\n",
       "      <td>-449.954491</td>\n",
       "      <td>1599.849325</td>\n",
       "      <td>-449.954185</td>\n",
       "      <td>1399.180945</td>\n",
       "      <td>-449.937588</td>\n",
       "      <td>1400.316682</td>\n",
       "      <td>-450.527147</td>\n",
       "      <td>14.115662</td>\n",
       "      <td>4.624775</td>\n",
       "      <td>8.842896</td>\n",
       "      <td>2.458187</td>\n",
       "      <td>26.005245</td>\n",
       "      <td>-499.929616</td>\n",
       "      <td>23.886657</td>\n",
       "      <td>-499.951928</td>\n",
       "      <td>23.913535</td>\n",
       "      <td>-499.442343</td>\n",
       "      <td>23.957717</td>\n",
       "      <td>-499.901982</td>\n",
       "      <td>14.015015</td>\n",
       "      <td>-502.520901</td>\n",
       "      <td>11.912783</td>\n",
       "      <td>-501.133383</td>\n",
       "      <td>10.070913</td>\n",
       "      <td>-500.129135</td>\n",
       "      <td>8.013877</td>\n",
       "      <td>-500.517572</td>\n",
       "      <td>14.028663</td>\n",
       "      <td>-601.427363</td>\n",
       "    </tr>\n",
       "    <tr>\n",
       "      <th>3</th>\n",
       "      <td>2016-01-15 03:00:00</td>\n",
       "      <td>6.047977</td>\n",
       "      <td>9.977019</td>\n",
       "      <td>4.858634</td>\n",
       "      <td>42.689819</td>\n",
       "      <td>68.347543</td>\n",
       "      <td>10.422762</td>\n",
       "      <td>0.883763</td>\n",
       "      <td>16.532835</td>\n",
       "      <td>2.146849</td>\n",
       "      <td>122.270188</td>\n",
       "      <td>11.322140</td>\n",
       "      <td>7.25</td>\n",
       "      <td>0.996739</td>\n",
       "      <td>7.221879</td>\n",
       "      <td>8.496563</td>\n",
       "      <td>15.978538</td>\n",
       "      <td>28.260743</td>\n",
       "      <td>16.024359</td>\n",
       "      <td>2.960362</td>\n",
       "      <td>6.843791</td>\n",
       "      <td>2.262051</td>\n",
       "      <td>1599.968720</td>\n",
       "      <td>-500.951778</td>\n",
       "      <td>1600.659236</td>\n",
       "      <td>-499.677094</td>\n",
       "      <td>1600.304144</td>\n",
       "      <td>-500.727997</td>\n",
       "      <td>1600.449520</td>\n",
       "      <td>-500.052575</td>\n",
       "      <td>42029.447991</td>\n",
       "      <td>3498.578313</td>\n",
       "      <td>3499.162912</td>\n",
       "      <td>3.002340</td>\n",
       "      <td>6.043309</td>\n",
       "      <td>2.037807</td>\n",
       "      <td>542.590390</td>\n",
       "      <td>57.792734</td>\n",
       "      <td>36.862241</td>\n",
       "      <td>6.118189</td>\n",
       "      <td>11.630094</td>\n",
       "      <td>6.203177</td>\n",
       "      <td>11.692450</td>\n",
       "      <td>6.196578</td>\n",
       "      <td>11.915047</td>\n",
       "      <td>7.175616</td>\n",
       "      <td>27.341277</td>\n",
       "      <td>19.320810</td>\n",
       "      <td>87.226430</td>\n",
       "      <td>4.655288</td>\n",
       "      <td>0.542525</td>\n",
       "      <td>19.330200</td>\n",
       "      <td>1.079755</td>\n",
       "      <td>999.814770</td>\n",
       "      <td>-400.200179</td>\n",
       "      <td>1600.059442</td>\n",
       "      <td>-450.619948</td>\n",
       "      <td>1600.012842</td>\n",
       "      <td>-449.910497</td>\n",
       "      <td>1597.725177</td>\n",
       "      <td>-450.130127</td>\n",
       "      <td>1400.943157</td>\n",
       "      <td>-450.030142</td>\n",
       "      <td>1400.234743</td>\n",
       "      <td>-449.790835</td>\n",
       "      <td>13.732071</td>\n",
       "      <td>4.482453</td>\n",
       "      <td>9.122857</td>\n",
       "      <td>2.322062</td>\n",
       "      <td>25.942508</td>\n",
       "      <td>-499.176749</td>\n",
       "      <td>23.955516</td>\n",
       "      <td>-499.848796</td>\n",
       "      <td>23.966838</td>\n",
       "      <td>-500.008812</td>\n",
       "      <td>23.954443</td>\n",
       "      <td>-499.944710</td>\n",
       "      <td>14.036510</td>\n",
       "      <td>-500.857308</td>\n",
       "      <td>11.999550</td>\n",
       "      <td>-501.193686</td>\n",
       "      <td>9.970366</td>\n",
       "      <td>-499.201640</td>\n",
       "      <td>7.977324</td>\n",
       "      <td>-500.255908</td>\n",
       "      <td>14.005551</td>\n",
       "      <td>-599.996129</td>\n",
       "    </tr>\n",
       "    <tr>\n",
       "      <th>4</th>\n",
       "      <td>2016-01-15 04:00:00</td>\n",
       "      <td>6.148599</td>\n",
       "      <td>10.142511</td>\n",
       "      <td>4.939416</td>\n",
       "      <td>42.774141</td>\n",
       "      <td>66.927016</td>\n",
       "      <td>10.360302</td>\n",
       "      <td>0.792826</td>\n",
       "      <td>16.525686</td>\n",
       "      <td>2.055292</td>\n",
       "      <td>117.988169</td>\n",
       "      <td>11.913613</td>\n",
       "      <td>7.25</td>\n",
       "      <td>1.009869</td>\n",
       "      <td>9.089428</td>\n",
       "      <td>9.986786</td>\n",
       "      <td>19.199864</td>\n",
       "      <td>33.044932</td>\n",
       "      <td>16.480185</td>\n",
       "      <td>3.112100</td>\n",
       "      <td>6.550154</td>\n",
       "      <td>2.277073</td>\n",
       "      <td>1601.339707</td>\n",
       "      <td>-498.975456</td>\n",
       "      <td>1601.437854</td>\n",
       "      <td>-500.323246</td>\n",
       "      <td>1599.581894</td>\n",
       "      <td>-500.888152</td>\n",
       "      <td>1602.649541</td>\n",
       "      <td>-500.593010</td>\n",
       "      <td>42125.354245</td>\n",
       "      <td>3494.800771</td>\n",
       "      <td>3506.679315</td>\n",
       "      <td>3.169615</td>\n",
       "      <td>6.060915</td>\n",
       "      <td>1.786875</td>\n",
       "      <td>540.531893</td>\n",
       "      <td>56.047189</td>\n",
       "      <td>34.347666</td>\n",
       "      <td>5.663707</td>\n",
       "      <td>10.957755</td>\n",
       "      <td>6.198826</td>\n",
       "      <td>10.960521</td>\n",
       "      <td>6.194897</td>\n",
       "      <td>12.411054</td>\n",
       "      <td>7.240205</td>\n",
       "      <td>27.041023</td>\n",
       "      <td>19.216101</td>\n",
       "      <td>86.688794</td>\n",
       "      <td>4.552800</td>\n",
       "      <td>0.515438</td>\n",
       "      <td>19.267422</td>\n",
       "      <td>1.012642</td>\n",
       "      <td>999.678690</td>\n",
       "      <td>-399.752729</td>\n",
       "      <td>1600.208824</td>\n",
       "      <td>-449.599614</td>\n",
       "      <td>1600.357732</td>\n",
       "      <td>-450.034364</td>\n",
       "      <td>1599.759049</td>\n",
       "      <td>-449.909799</td>\n",
       "      <td>1401.560902</td>\n",
       "      <td>-448.877187</td>\n",
       "      <td>1401.160227</td>\n",
       "      <td>-450.407128</td>\n",
       "      <td>14.079996</td>\n",
       "      <td>4.470737</td>\n",
       "      <td>8.871028</td>\n",
       "      <td>2.330448</td>\n",
       "      <td>26.024787</td>\n",
       "      <td>-500.279091</td>\n",
       "      <td>23.955345</td>\n",
       "      <td>-500.593614</td>\n",
       "      <td>23.985703</td>\n",
       "      <td>-500.083811</td>\n",
       "      <td>23.958945</td>\n",
       "      <td>-499.990309</td>\n",
       "      <td>14.027298</td>\n",
       "      <td>-499.838632</td>\n",
       "      <td>11.953070</td>\n",
       "      <td>-501.053894</td>\n",
       "      <td>9.925709</td>\n",
       "      <td>-501.686727</td>\n",
       "      <td>7.894242</td>\n",
       "      <td>-500.356035</td>\n",
       "      <td>13.996647</td>\n",
       "      <td>-601.496691</td>\n",
       "    </tr>\n",
       "  </tbody>\n",
       "</table>\n",
       "</div>"
      ],
      "text/plain": [
       "                  date  final.output.concentrate_ag  \\\n",
       "0  2016-01-15 00:00:00                     6.055403   \n",
       "1  2016-01-15 01:00:00                     6.029369   \n",
       "2  2016-01-15 02:00:00                     6.055926   \n",
       "3  2016-01-15 03:00:00                     6.047977   \n",
       "4  2016-01-15 04:00:00                     6.148599   \n",
       "\n",
       "   final.output.concentrate_pb  final.output.concentrate_sol  \\\n",
       "0                     9.889648                      5.507324   \n",
       "1                     9.968944                      5.257781   \n",
       "2                    10.213995                      5.383759   \n",
       "3                     9.977019                      4.858634   \n",
       "4                    10.142511                      4.939416   \n",
       "\n",
       "   final.output.concentrate_au  final.output.recovery  final.output.tail_ag  \\\n",
       "0                    42.192020              70.541216             10.411962   \n",
       "1                    42.701629              69.266198             10.462676   \n",
       "2                    42.657501              68.116445             10.507046   \n",
       "3                    42.689819              68.347543             10.422762   \n",
       "4                    42.774141              66.927016             10.360302   \n",
       "\n",
       "   final.output.tail_pb  final.output.tail_sol  final.output.tail_au  \\\n",
       "0              0.895447              16.904297              2.143149   \n",
       "1              0.927452              16.634514              2.224930   \n",
       "2              0.953716              16.208849              2.257889   \n",
       "3              0.883763              16.532835              2.146849   \n",
       "4              0.792826              16.525686              2.055292   \n",
       "\n",
       "   primary_cleaner.input.sulfate  primary_cleaner.input.depressant  \\\n",
       "0                     127.092003                         10.128295   \n",
       "1                     125.629232                         10.296251   \n",
       "2                     123.819808                         11.316280   \n",
       "3                     122.270188                         11.322140   \n",
       "4                     117.988169                         11.913613   \n",
       "\n",
       "   primary_cleaner.input.feed_size  primary_cleaner.input.xanthate  \\\n",
       "0                             7.25                        0.988759   \n",
       "1                             7.25                        1.002663   \n",
       "2                             7.25                        0.991265   \n",
       "3                             7.25                        0.996739   \n",
       "4                             7.25                        1.009869   \n",
       "\n",
       "   primary_cleaner.output.concentrate_ag  \\\n",
       "0                               8.547551   \n",
       "1                               8.558743   \n",
       "2                               8.603505   \n",
       "3                               7.221879   \n",
       "4                               9.089428   \n",
       "\n",
       "   primary_cleaner.output.concentrate_pb  \\\n",
       "0                              10.389648   \n",
       "1                              10.497069   \n",
       "2                              10.354494   \n",
       "3                               8.496563   \n",
       "4                               9.986786   \n",
       "\n",
       "   primary_cleaner.output.concentrate_sol  \\\n",
       "0                               19.529297   \n",
       "1                               19.369147   \n",
       "2                               19.167579   \n",
       "3                               15.978538   \n",
       "4                               19.199864   \n",
       "\n",
       "   primary_cleaner.output.concentrate_au  primary_cleaner.output.tail_ag  \\\n",
       "0                              34.174427                       14.936526   \n",
       "1                              34.118526                       16.250511   \n",
       "2                              33.969464                       16.491823   \n",
       "3                              28.260743                       16.024359   \n",
       "4                              33.044932                       16.480185   \n",
       "\n",
       "   primary_cleaner.output.tail_pb  primary_cleaner.output.tail_sol  \\\n",
       "0                        2.534912                         7.476074   \n",
       "1                        3.049646                         6.733907   \n",
       "2                        3.124664                         6.471768   \n",
       "3                        2.960362                         6.843791   \n",
       "4                        3.112100                         6.550154   \n",
       "\n",
       "   primary_cleaner.output.tail_au  primary_cleaner.state.floatbank8_a_air  \\\n",
       "0                        2.106679                             1549.775757   \n",
       "1                        2.353017                             1576.166671   \n",
       "2                        2.416800                             1601.556163   \n",
       "3                        2.262051                             1599.968720   \n",
       "4                        2.277073                             1601.339707   \n",
       "\n",
       "   primary_cleaner.state.floatbank8_a_level  \\\n",
       "0                               -498.912140   \n",
       "1                               -500.904965   \n",
       "2                               -499.997791   \n",
       "3                               -500.951778   \n",
       "4                               -498.975456   \n",
       "\n",
       "   primary_cleaner.state.floatbank8_b_air  \\\n",
       "0                             1551.434204   \n",
       "1                             1575.950626   \n",
       "2                             1600.386685   \n",
       "3                             1600.659236   \n",
       "4                             1601.437854   \n",
       "\n",
       "   primary_cleaner.state.floatbank8_b_level  \\\n",
       "0                               -516.403442   \n",
       "1                               -499.865889   \n",
       "2                               -500.607762   \n",
       "3                               -499.677094   \n",
       "4                               -500.323246   \n",
       "\n",
       "   primary_cleaner.state.floatbank8_c_air  \\\n",
       "0                             1549.873901   \n",
       "1                             1575.994189   \n",
       "2                             1602.003542   \n",
       "3                             1600.304144   \n",
       "4                             1599.581894   \n",
       "\n",
       "   primary_cleaner.state.floatbank8_c_level  \\\n",
       "0                               -498.666595   \n",
       "1                               -499.315107   \n",
       "2                               -500.870069   \n",
       "3                               -500.727997   \n",
       "4                               -500.888152   \n",
       "\n",
       "   primary_cleaner.state.floatbank8_d_air  \\\n",
       "0                             1554.367432   \n",
       "1                             1574.479259   \n",
       "2                             1599.541515   \n",
       "3                             1600.449520   \n",
       "4                             1602.649541   \n",
       "\n",
       "   primary_cleaner.state.floatbank8_d_level  \\\n",
       "0                               -493.428131   \n",
       "1                               -498.931665   \n",
       "2                               -499.827444   \n",
       "3                               -500.052575   \n",
       "4                               -500.593010   \n",
       "\n",
       "   rougher.calculation.sulfate_to_au_concentrate  \\\n",
       "0                                   41885.707031   \n",
       "1                                   42050.861809   \n",
       "2                                   42018.101184   \n",
       "3                                   42029.447991   \n",
       "4                                   42125.354245   \n",
       "\n",
       "   rougher.calculation.floatbank10_sulfate_to_au_feed  \\\n",
       "0                                        3481.779053    \n",
       "1                                        3498.370979    \n",
       "2                                        3495.348910    \n",
       "3                                        3498.578313    \n",
       "4                                        3494.800771    \n",
       "\n",
       "   rougher.calculation.floatbank11_sulfate_to_au_feed  \\\n",
       "0                                        3520.337158    \n",
       "1                                        3489.981857    \n",
       "2                                        3502.359819    \n",
       "3                                        3499.162912    \n",
       "4                                        3506.679315    \n",
       "\n",
       "   rougher.calculation.au_pb_ratio  rougher.input.feed_ag  \\\n",
       "0                         2.838687               6.100378   \n",
       "1                         2.858998               6.161113   \n",
       "2                         2.945989               6.116455   \n",
       "3                         3.002340               6.043309   \n",
       "4                         3.169615               6.060915   \n",
       "\n",
       "   rougher.input.feed_pb  rougher.input.feed_rate  rougher.input.feed_size  \\\n",
       "0               2.284912               523.546326                55.486599   \n",
       "1               2.266033               525.290581                57.278666   \n",
       "2               2.159622               530.026610                57.510649   \n",
       "3               2.037807               542.590390                57.792734   \n",
       "4               1.786875               540.531893                56.047189   \n",
       "\n",
       "   rougher.input.feed_sol  rougher.input.feed_au  \\\n",
       "0               36.808594               6.486150   \n",
       "1               35.753385               6.478583   \n",
       "2               35.971630               6.362222   \n",
       "3               36.862241               6.118189   \n",
       "4               34.347666               5.663707   \n",
       "\n",
       "   rougher.input.floatbank10_sulfate  rougher.input.floatbank10_xanthate  \\\n",
       "0                          11.986616                            6.007990   \n",
       "1                          11.971193                            6.005766   \n",
       "2                          11.920603                            6.197377   \n",
       "3                          11.630094                            6.203177   \n",
       "4                          10.957755                            6.198826   \n",
       "\n",
       "   rougher.input.floatbank11_sulfate  rougher.input.floatbank11_xanthate  \\\n",
       "0                          11.836743                            6.005818   \n",
       "1                          11.996163                            6.012594   \n",
       "2                          11.920305                            6.204633   \n",
       "3                          11.692450                            6.196578   \n",
       "4                          10.960521                            6.194897   \n",
       "\n",
       "   rougher.output.concentrate_ag  rougher.output.concentrate_pb  \\\n",
       "0                      11.500771                       7.101074   \n",
       "1                      11.615865                       7.278807   \n",
       "2                      11.695753                       7.216833   \n",
       "3                      11.915047                       7.175616   \n",
       "4                      12.411054                       7.240205   \n",
       "\n",
       "   rougher.output.concentrate_sol  rougher.output.concentrate_au  \\\n",
       "0                       28.029297                      19.793808   \n",
       "1                       28.067063                      20.050975   \n",
       "2                       27.454037                      19.737170   \n",
       "3                       27.341277                      19.320810   \n",
       "4                       27.041023                      19.216101   \n",
       "\n",
       "   rougher.output.recovery  rougher.output.tail_ag  rougher.output.tail_pb  \\\n",
       "0                87.107763                5.008018                0.508728   \n",
       "1                86.843261                4.955378                0.536689   \n",
       "2                86.842308                4.843460                0.546416   \n",
       "3                87.226430                4.655288                0.542525   \n",
       "4                86.688794                4.552800                0.515438   \n",
       "\n",
       "   rougher.output.tail_sol  rougher.output.tail_au  \\\n",
       "0                19.154297                1.170244   \n",
       "1                18.965234                1.184827   \n",
       "2                18.808533                1.162562   \n",
       "3                19.330200                1.079755   \n",
       "4                19.267422                1.012642   \n",
       "\n",
       "   rougher.state.floatbank10_a_air  rougher.state.floatbank10_a_level  \\\n",
       "0                       999.706909                        -404.066986   \n",
       "1                      1000.286398                        -400.065196   \n",
       "2                       999.719565                        -400.074028   \n",
       "3                       999.814770                        -400.200179   \n",
       "4                       999.678690                        -399.752729   \n",
       "\n",
       "   rougher.state.floatbank10_b_air  rougher.state.floatbank10_b_level  \\\n",
       "0                      1603.011353                        -434.715027   \n",
       "1                      1600.754587                        -449.953435   \n",
       "2                      1599.337330                        -450.008530   \n",
       "3                      1600.059442                        -450.619948   \n",
       "4                      1600.208824                        -449.599614   \n",
       "\n",
       "   rougher.state.floatbank10_c_air  rougher.state.floatbank10_c_level  \\\n",
       "0                      1602.375000                        -442.204468   \n",
       "1                      1600.479580                        -449.830646   \n",
       "2                      1599.672797                        -449.954491   \n",
       "3                      1600.012842                        -449.910497   \n",
       "4                      1600.357732                        -450.034364   \n",
       "\n",
       "   rougher.state.floatbank10_d_air  rougher.state.floatbank10_d_level  \\\n",
       "0                      1598.937256                        -451.294128   \n",
       "1                      1600.527589                        -449.953649   \n",
       "2                      1599.849325                        -449.954185   \n",
       "3                      1597.725177                        -450.130127   \n",
       "4                      1599.759049                        -449.909799   \n",
       "\n",
       "   rougher.state.floatbank10_e_air  rougher.state.floatbank10_e_level  \\\n",
       "0                      1404.472046                        -455.462982   \n",
       "1                      1399.227084                        -450.869848   \n",
       "2                      1399.180945                        -449.937588   \n",
       "3                      1400.943157                        -450.030142   \n",
       "4                      1401.560902                        -448.877187   \n",
       "\n",
       "   rougher.state.floatbank10_f_air  rougher.state.floatbank10_f_level  \\\n",
       "0                      1416.354980                        -451.939636   \n",
       "1                      1399.719514                        -450.119001   \n",
       "2                      1400.316682                        -450.527147   \n",
       "3                      1400.234743                        -449.790835   \n",
       "4                      1401.160227                        -450.407128   \n",
       "\n",
       "   secondary_cleaner.output.tail_ag  secondary_cleaner.output.tail_pb  \\\n",
       "0                         14.500184                          4.694824   \n",
       "1                         14.265474                          4.592547   \n",
       "2                         14.115662                          4.624775   \n",
       "3                         13.732071                          4.482453   \n",
       "4                         14.079996                          4.470737   \n",
       "\n",
       "   secondary_cleaner.output.tail_sol  secondary_cleaner.output.tail_au  \\\n",
       "0                           8.764648                          2.606185   \n",
       "1                           9.001494                          2.488248   \n",
       "2                           8.842896                          2.458187   \n",
       "3                           9.122857                          2.322062   \n",
       "4                           8.871028                          2.330448   \n",
       "\n",
       "   secondary_cleaner.state.floatbank2_a_air  \\\n",
       "0                                 25.853109   \n",
       "1                                 25.880539   \n",
       "2                                 26.005245   \n",
       "3                                 25.942508   \n",
       "4                                 26.024787   \n",
       "\n",
       "   secondary_cleaner.state.floatbank2_a_level  \\\n",
       "0                                 -498.526489   \n",
       "1                                 -499.989656   \n",
       "2                                 -499.929616   \n",
       "3                                 -499.176749   \n",
       "4                                 -500.279091   \n",
       "\n",
       "   secondary_cleaner.state.floatbank2_b_air  \\\n",
       "0                                 23.893660   \n",
       "1                                 23.889530   \n",
       "2                                 23.886657   \n",
       "3                                 23.955516   \n",
       "4                                 23.955345   \n",
       "\n",
       "   secondary_cleaner.state.floatbank2_b_level  \\\n",
       "0                                 -501.406281   \n",
       "1                                 -500.372428   \n",
       "2                                 -499.951928   \n",
       "3                                 -499.848796   \n",
       "4                                 -500.593614   \n",
       "\n",
       "   secondary_cleaner.state.floatbank3_a_air  \\\n",
       "0                                 23.961798   \n",
       "1                                 23.970550   \n",
       "2                                 23.913535   \n",
       "3                                 23.966838   \n",
       "4                                 23.985703   \n",
       "\n",
       "   secondary_cleaner.state.floatbank3_a_level  \\\n",
       "0                                 -495.262817   \n",
       "1                                 -500.085473   \n",
       "2                                 -499.442343   \n",
       "3                                 -500.008812   \n",
       "4                                 -500.083811   \n",
       "\n",
       "   secondary_cleaner.state.floatbank3_b_air  \\\n",
       "0                                 21.940409   \n",
       "1                                 22.085714   \n",
       "2                                 23.957717   \n",
       "3                                 23.954443   \n",
       "4                                 23.958945   \n",
       "\n",
       "   secondary_cleaner.state.floatbank3_b_level  \\\n",
       "0                                 -499.340973   \n",
       "1                                 -499.446897   \n",
       "2                                 -499.901982   \n",
       "3                                 -499.944710   \n",
       "4                                 -499.990309   \n",
       "\n",
       "   secondary_cleaner.state.floatbank4_a_air  \\\n",
       "0                                 14.016835   \n",
       "1                                 13.992281   \n",
       "2                                 14.015015   \n",
       "3                                 14.036510   \n",
       "4                                 14.027298   \n",
       "\n",
       "   secondary_cleaner.state.floatbank4_a_level  \\\n",
       "0                                 -502.488007   \n",
       "1                                 -505.503262   \n",
       "2                                 -502.520901   \n",
       "3                                 -500.857308   \n",
       "4                                 -499.838632   \n",
       "\n",
       "   secondary_cleaner.state.floatbank4_b_air  \\\n",
       "0                                 12.099931   \n",
       "1                                 11.950531   \n",
       "2                                 11.912783   \n",
       "3                                 11.999550   \n",
       "4                                 11.953070   \n",
       "\n",
       "   secondary_cleaner.state.floatbank4_b_level  \\\n",
       "0                                 -504.715942   \n",
       "1                                 -501.331529   \n",
       "2                                 -501.133383   \n",
       "3                                 -501.193686   \n",
       "4                                 -501.053894   \n",
       "\n",
       "   secondary_cleaner.state.floatbank5_a_air  \\\n",
       "0                                  9.925633   \n",
       "1                                 10.039245   \n",
       "2                                 10.070913   \n",
       "3                                  9.970366   \n",
       "4                                  9.925709   \n",
       "\n",
       "   secondary_cleaner.state.floatbank5_a_level  \\\n",
       "0                                 -498.310211   \n",
       "1                                 -500.169983   \n",
       "2                                 -500.129135   \n",
       "3                                 -499.201640   \n",
       "4                                 -501.686727   \n",
       "\n",
       "   secondary_cleaner.state.floatbank5_b_air  \\\n",
       "0                                  8.079666   \n",
       "1                                  7.984757   \n",
       "2                                  8.013877   \n",
       "3                                  7.977324   \n",
       "4                                  7.894242   \n",
       "\n",
       "   secondary_cleaner.state.floatbank5_b_level  \\\n",
       "0                                 -500.470978   \n",
       "1                                 -500.582168   \n",
       "2                                 -500.517572   \n",
       "3                                 -500.255908   \n",
       "4                                 -500.356035   \n",
       "\n",
       "   secondary_cleaner.state.floatbank6_a_air  \\\n",
       "0                                 14.151341   \n",
       "1                                 13.998353   \n",
       "2                                 14.028663   \n",
       "3                                 14.005551   \n",
       "4                                 13.996647   \n",
       "\n",
       "   secondary_cleaner.state.floatbank6_a_level  \n",
       "0                                 -605.841980  \n",
       "1                                 -599.787184  \n",
       "2                                 -601.427363  \n",
       "3                                 -599.996129  \n",
       "4                                 -601.496691  "
      ]
     },
     "metadata": {},
     "output_type": "display_data"
    },
    {
     "name": "stdout",
     "output_type": "stream",
     "text": [
      "\n",
      "\n",
      "\n",
      "Статистики\n"
     ]
    },
    {
     "data": {
      "text/html": [
       "<div>\n",
       "<style scoped>\n",
       "    .dataframe tbody tr th:only-of-type {\n",
       "        vertical-align: middle;\n",
       "    }\n",
       "\n",
       "    .dataframe tbody tr th {\n",
       "        vertical-align: top;\n",
       "    }\n",
       "\n",
       "    .dataframe thead th {\n",
       "        text-align: right;\n",
       "    }\n",
       "</style>\n",
       "<table border=\"1\" class=\"dataframe\">\n",
       "  <thead>\n",
       "    <tr style=\"text-align: right;\">\n",
       "      <th></th>\n",
       "      <th>final.output.concentrate_ag</th>\n",
       "      <th>final.output.concentrate_pb</th>\n",
       "      <th>final.output.concentrate_sol</th>\n",
       "      <th>final.output.concentrate_au</th>\n",
       "      <th>final.output.recovery</th>\n",
       "      <th>final.output.tail_ag</th>\n",
       "      <th>final.output.tail_pb</th>\n",
       "      <th>final.output.tail_sol</th>\n",
       "      <th>final.output.tail_au</th>\n",
       "      <th>primary_cleaner.input.sulfate</th>\n",
       "      <th>primary_cleaner.input.depressant</th>\n",
       "      <th>primary_cleaner.input.feed_size</th>\n",
       "      <th>primary_cleaner.input.xanthate</th>\n",
       "      <th>primary_cleaner.output.concentrate_ag</th>\n",
       "      <th>primary_cleaner.output.concentrate_pb</th>\n",
       "      <th>primary_cleaner.output.concentrate_sol</th>\n",
       "      <th>primary_cleaner.output.concentrate_au</th>\n",
       "      <th>primary_cleaner.output.tail_ag</th>\n",
       "      <th>primary_cleaner.output.tail_pb</th>\n",
       "      <th>primary_cleaner.output.tail_sol</th>\n",
       "      <th>primary_cleaner.output.tail_au</th>\n",
       "      <th>primary_cleaner.state.floatbank8_a_air</th>\n",
       "      <th>primary_cleaner.state.floatbank8_a_level</th>\n",
       "      <th>primary_cleaner.state.floatbank8_b_air</th>\n",
       "      <th>primary_cleaner.state.floatbank8_b_level</th>\n",
       "      <th>primary_cleaner.state.floatbank8_c_air</th>\n",
       "      <th>primary_cleaner.state.floatbank8_c_level</th>\n",
       "      <th>primary_cleaner.state.floatbank8_d_air</th>\n",
       "      <th>primary_cleaner.state.floatbank8_d_level</th>\n",
       "      <th>rougher.calculation.sulfate_to_au_concentrate</th>\n",
       "      <th>rougher.calculation.floatbank10_sulfate_to_au_feed</th>\n",
       "      <th>rougher.calculation.floatbank11_sulfate_to_au_feed</th>\n",
       "      <th>rougher.calculation.au_pb_ratio</th>\n",
       "      <th>rougher.input.feed_ag</th>\n",
       "      <th>rougher.input.feed_pb</th>\n",
       "      <th>rougher.input.feed_rate</th>\n",
       "      <th>rougher.input.feed_size</th>\n",
       "      <th>rougher.input.feed_sol</th>\n",
       "      <th>rougher.input.feed_au</th>\n",
       "      <th>rougher.input.floatbank10_sulfate</th>\n",
       "      <th>rougher.input.floatbank10_xanthate</th>\n",
       "      <th>rougher.input.floatbank11_sulfate</th>\n",
       "      <th>rougher.input.floatbank11_xanthate</th>\n",
       "      <th>rougher.output.concentrate_ag</th>\n",
       "      <th>rougher.output.concentrate_pb</th>\n",
       "      <th>rougher.output.concentrate_sol</th>\n",
       "      <th>rougher.output.concentrate_au</th>\n",
       "      <th>rougher.output.recovery</th>\n",
       "      <th>rougher.output.tail_ag</th>\n",
       "      <th>rougher.output.tail_pb</th>\n",
       "      <th>rougher.output.tail_sol</th>\n",
       "      <th>rougher.output.tail_au</th>\n",
       "      <th>rougher.state.floatbank10_a_air</th>\n",
       "      <th>rougher.state.floatbank10_a_level</th>\n",
       "      <th>rougher.state.floatbank10_b_air</th>\n",
       "      <th>rougher.state.floatbank10_b_level</th>\n",
       "      <th>rougher.state.floatbank10_c_air</th>\n",
       "      <th>rougher.state.floatbank10_c_level</th>\n",
       "      <th>rougher.state.floatbank10_d_air</th>\n",
       "      <th>rougher.state.floatbank10_d_level</th>\n",
       "      <th>rougher.state.floatbank10_e_air</th>\n",
       "      <th>rougher.state.floatbank10_e_level</th>\n",
       "      <th>rougher.state.floatbank10_f_air</th>\n",
       "      <th>rougher.state.floatbank10_f_level</th>\n",
       "      <th>secondary_cleaner.output.tail_ag</th>\n",
       "      <th>secondary_cleaner.output.tail_pb</th>\n",
       "      <th>secondary_cleaner.output.tail_sol</th>\n",
       "      <th>secondary_cleaner.output.tail_au</th>\n",
       "      <th>secondary_cleaner.state.floatbank2_a_air</th>\n",
       "      <th>secondary_cleaner.state.floatbank2_a_level</th>\n",
       "      <th>secondary_cleaner.state.floatbank2_b_air</th>\n",
       "      <th>secondary_cleaner.state.floatbank2_b_level</th>\n",
       "      <th>secondary_cleaner.state.floatbank3_a_air</th>\n",
       "      <th>secondary_cleaner.state.floatbank3_a_level</th>\n",
       "      <th>secondary_cleaner.state.floatbank3_b_air</th>\n",
       "      <th>secondary_cleaner.state.floatbank3_b_level</th>\n",
       "      <th>secondary_cleaner.state.floatbank4_a_air</th>\n",
       "      <th>secondary_cleaner.state.floatbank4_a_level</th>\n",
       "      <th>secondary_cleaner.state.floatbank4_b_air</th>\n",
       "      <th>secondary_cleaner.state.floatbank4_b_level</th>\n",
       "      <th>secondary_cleaner.state.floatbank5_a_air</th>\n",
       "      <th>secondary_cleaner.state.floatbank5_a_level</th>\n",
       "      <th>secondary_cleaner.state.floatbank5_b_air</th>\n",
       "      <th>secondary_cleaner.state.floatbank5_b_level</th>\n",
       "      <th>secondary_cleaner.state.floatbank6_a_air</th>\n",
       "      <th>secondary_cleaner.state.floatbank6_a_level</th>\n",
       "    </tr>\n",
       "  </thead>\n",
       "  <tbody>\n",
       "    <tr>\n",
       "      <th>count</th>\n",
       "      <td>14148.000000</td>\n",
       "      <td>14148.000000</td>\n",
       "      <td>13938.000000</td>\n",
       "      <td>14149.000000</td>\n",
       "      <td>14149.000000</td>\n",
       "      <td>14149.000000</td>\n",
       "      <td>14049.000000</td>\n",
       "      <td>14144.000000</td>\n",
       "      <td>14149.000000</td>\n",
       "      <td>14129.000000</td>\n",
       "      <td>14117.000000</td>\n",
       "      <td>14149.000000</td>\n",
       "      <td>14049.000000</td>\n",
       "      <td>14149.000000</td>\n",
       "      <td>14063.000000</td>\n",
       "      <td>13863.000000</td>\n",
       "      <td>14149.000000</td>\n",
       "      <td>14148.000000</td>\n",
       "      <td>14134.000000</td>\n",
       "      <td>14103.000000</td>\n",
       "      <td>14149.000000</td>\n",
       "      <td>14145.000000</td>\n",
       "      <td>14148.000000</td>\n",
       "      <td>14145.000000</td>\n",
       "      <td>14148.000000</td>\n",
       "      <td>14147.000000</td>\n",
       "      <td>14148.000000</td>\n",
       "      <td>14146.000000</td>\n",
       "      <td>14148.000000</td>\n",
       "      <td>1.414800e+04</td>\n",
       "      <td>14148.000000</td>\n",
       "      <td>14148.000000</td>\n",
       "      <td>14149.000000</td>\n",
       "      <td>14149.000000</td>\n",
       "      <td>14049.000000</td>\n",
       "      <td>14141.000000</td>\n",
       "      <td>14005.000000</td>\n",
       "      <td>14071.000000</td>\n",
       "      <td>14149.000000</td>\n",
       "      <td>14120.000000</td>\n",
       "      <td>14141.000000</td>\n",
       "      <td>14113.000000</td>\n",
       "      <td>13721.000000</td>\n",
       "      <td>14149.000000</td>\n",
       "      <td>14149.000000</td>\n",
       "      <td>14127.000000</td>\n",
       "      <td>14149.000000</td>\n",
       "      <td>14149.000000</td>\n",
       "      <td>14148.000000</td>\n",
       "      <td>14149.000000</td>\n",
       "      <td>14149.000000</td>\n",
       "      <td>14149.000000</td>\n",
       "      <td>14148.000000</td>\n",
       "      <td>14148.000000</td>\n",
       "      <td>14148.000000</td>\n",
       "      <td>14148.000000</td>\n",
       "      <td>14148.000000</td>\n",
       "      <td>14148.000000</td>\n",
       "      <td>14149.000000</td>\n",
       "      <td>14149.000000</td>\n",
       "      <td>13713.000000</td>\n",
       "      <td>14149.000000</td>\n",
       "      <td>14149.000000</td>\n",
       "      <td>14149.000000</td>\n",
       "      <td>14147.000000</td>\n",
       "      <td>14139.000000</td>\n",
       "      <td>12544.000000</td>\n",
       "      <td>14149.000000</td>\n",
       "      <td>13932.000000</td>\n",
       "      <td>14148.000000</td>\n",
       "      <td>14128.000000</td>\n",
       "      <td>14148.000000</td>\n",
       "      <td>14145.000000</td>\n",
       "      <td>14148.000000</td>\n",
       "      <td>14148.000000</td>\n",
       "      <td>14148.000000</td>\n",
       "      <td>14143.000000</td>\n",
       "      <td>14148.000000</td>\n",
       "      <td>14148.000000</td>\n",
       "      <td>14148.000000</td>\n",
       "      <td>14148.000000</td>\n",
       "      <td>14148.000000</td>\n",
       "      <td>14148.000000</td>\n",
       "      <td>14148.000000</td>\n",
       "      <td>14147.000000</td>\n",
       "      <td>14148.000000</td>\n",
       "    </tr>\n",
       "    <tr>\n",
       "      <th>mean</th>\n",
       "      <td>5.142034</td>\n",
       "      <td>10.132960</td>\n",
       "      <td>9.202849</td>\n",
       "      <td>44.003792</td>\n",
       "      <td>66.518832</td>\n",
       "      <td>9.607035</td>\n",
       "      <td>2.597298</td>\n",
       "      <td>10.512122</td>\n",
       "      <td>2.918421</td>\n",
       "      <td>133.320659</td>\n",
       "      <td>8.866996</td>\n",
       "      <td>7.322310</td>\n",
       "      <td>0.885588</td>\n",
       "      <td>8.200916</td>\n",
       "      <td>9.588862</td>\n",
       "      <td>10.114745</td>\n",
       "      <td>32.386836</td>\n",
       "      <td>16.303929</td>\n",
       "      <td>3.443398</td>\n",
       "      <td>7.533566</td>\n",
       "      <td>3.839637</td>\n",
       "      <td>1608.000064</td>\n",
       "      <td>-488.775525</td>\n",
       "      <td>1608.610983</td>\n",
       "      <td>-489.171786</td>\n",
       "      <td>1608.879407</td>\n",
       "      <td>-489.605549</td>\n",
       "      <td>1542.189963</td>\n",
       "      <td>-483.462423</td>\n",
       "      <td>4.038265e+04</td>\n",
       "      <td>3456.608298</td>\n",
       "      <td>3253.356387</td>\n",
       "      <td>2.367314</td>\n",
       "      <td>8.579195</td>\n",
       "      <td>3.522778</td>\n",
       "      <td>474.027714</td>\n",
       "      <td>60.110518</td>\n",
       "      <td>36.312593</td>\n",
       "      <td>7.866577</td>\n",
       "      <td>11.764931</td>\n",
       "      <td>5.854529</td>\n",
       "      <td>11.368685</td>\n",
       "      <td>5.894176</td>\n",
       "      <td>11.775812</td>\n",
       "      <td>7.664555</td>\n",
       "      <td>28.302715</td>\n",
       "      <td>19.439958</td>\n",
       "      <td>82.704502</td>\n",
       "      <td>5.567124</td>\n",
       "      <td>0.653277</td>\n",
       "      <td>17.882853</td>\n",
       "      <td>1.757473</td>\n",
       "      <td>1124.726280</td>\n",
       "      <td>-369.460950</td>\n",
       "      <td>1320.705069</td>\n",
       "      <td>-464.258983</td>\n",
       "      <td>1299.360578</td>\n",
       "      <td>-465.054849</td>\n",
       "      <td>1210.335236</td>\n",
       "      <td>-465.457377</td>\n",
       "      <td>1090.213187</td>\n",
       "      <td>-464.919119</td>\n",
       "      <td>1035.490299</td>\n",
       "      <td>-464.688631</td>\n",
       "      <td>14.281629</td>\n",
       "      <td>5.848863</td>\n",
       "      <td>6.938693</td>\n",
       "      <td>4.246961</td>\n",
       "      <td>29.613649</td>\n",
       "      <td>-502.223914</td>\n",
       "      <td>24.914403</td>\n",
       "      <td>-503.695706</td>\n",
       "      <td>29.243372</td>\n",
       "      <td>-478.244059</td>\n",
       "      <td>22.656261</td>\n",
       "      <td>-488.924046</td>\n",
       "      <td>19.985454</td>\n",
       "      <td>-478.696836</td>\n",
       "      <td>15.487065</td>\n",
       "      <td>-460.229416</td>\n",
       "      <td>16.775136</td>\n",
       "      <td>-483.956022</td>\n",
       "      <td>13.064590</td>\n",
       "      <td>-483.966564</td>\n",
       "      <td>19.577539</td>\n",
       "      <td>-506.798480</td>\n",
       "    </tr>\n",
       "    <tr>\n",
       "      <th>std</th>\n",
       "      <td>1.369586</td>\n",
       "      <td>1.654930</td>\n",
       "      <td>2.790516</td>\n",
       "      <td>4.905261</td>\n",
       "      <td>10.295402</td>\n",
       "      <td>2.319069</td>\n",
       "      <td>0.971843</td>\n",
       "      <td>3.003617</td>\n",
       "      <td>0.903712</td>\n",
       "      <td>39.431659</td>\n",
       "      <td>3.361589</td>\n",
       "      <td>0.614062</td>\n",
       "      <td>0.372714</td>\n",
       "      <td>2.005185</td>\n",
       "      <td>2.694296</td>\n",
       "      <td>4.064076</td>\n",
       "      <td>5.798843</td>\n",
       "      <td>3.739843</td>\n",
       "      <td>1.490106</td>\n",
       "      <td>2.133220</td>\n",
       "      <td>1.603544</td>\n",
       "      <td>128.394355</td>\n",
       "      <td>35.704184</td>\n",
       "      <td>131.112729</td>\n",
       "      <td>33.604449</td>\n",
       "      <td>134.266898</td>\n",
       "      <td>35.624002</td>\n",
       "      <td>278.316132</td>\n",
       "      <td>47.100934</td>\n",
       "      <td>3.801436e+05</td>\n",
       "      <td>5772.510248</td>\n",
       "      <td>6753.290662</td>\n",
       "      <td>0.873551</td>\n",
       "      <td>1.896284</td>\n",
       "      <td>1.073394</td>\n",
       "      <td>104.039838</td>\n",
       "      <td>22.418485</td>\n",
       "      <td>4.956057</td>\n",
       "      <td>1.919506</td>\n",
       "      <td>3.278813</td>\n",
       "      <td>1.104263</td>\n",
       "      <td>3.743672</td>\n",
       "      <td>1.124233</td>\n",
       "      <td>2.731747</td>\n",
       "      <td>1.856279</td>\n",
       "      <td>6.102982</td>\n",
       "      <td>3.765192</td>\n",
       "      <td>14.479156</td>\n",
       "      <td>1.039136</td>\n",
       "      <td>0.263766</td>\n",
       "      <td>3.432859</td>\n",
       "      <td>0.713187</td>\n",
       "      <td>169.310825</td>\n",
       "      <td>93.952787</td>\n",
       "      <td>183.155975</td>\n",
       "      <td>57.401954</td>\n",
       "      <td>213.404094</td>\n",
       "      <td>55.904716</td>\n",
       "      <td>210.431555</td>\n",
       "      <td>55.771393</td>\n",
       "      <td>184.610118</td>\n",
       "      <td>56.602962</td>\n",
       "      <td>175.052279</td>\n",
       "      <td>56.645965</td>\n",
       "      <td>4.477126</td>\n",
       "      <td>2.861799</td>\n",
       "      <td>4.155487</td>\n",
       "      <td>2.389060</td>\n",
       "      <td>5.800494</td>\n",
       "      <td>60.281705</td>\n",
       "      <td>5.994959</td>\n",
       "      <td>62.837357</td>\n",
       "      <td>5.637309</td>\n",
       "      <td>54.655143</td>\n",
       "      <td>4.996017</td>\n",
       "      <td>41.928112</td>\n",
       "      <td>5.657723</td>\n",
       "      <td>50.736021</td>\n",
       "      <td>5.255655</td>\n",
       "      <td>58.843586</td>\n",
       "      <td>5.831906</td>\n",
       "      <td>37.892788</td>\n",
       "      <td>5.765617</td>\n",
       "      <td>39.207913</td>\n",
       "      <td>5.764417</td>\n",
       "      <td>37.079249</td>\n",
       "    </tr>\n",
       "    <tr>\n",
       "      <th>min</th>\n",
       "      <td>0.000000</td>\n",
       "      <td>0.000000</td>\n",
       "      <td>0.000000</td>\n",
       "      <td>0.000000</td>\n",
       "      <td>0.000000</td>\n",
       "      <td>0.000000</td>\n",
       "      <td>0.000000</td>\n",
       "      <td>0.000000</td>\n",
       "      <td>0.000000</td>\n",
       "      <td>0.003112</td>\n",
       "      <td>0.000000</td>\n",
       "      <td>1.080000</td>\n",
       "      <td>0.000005</td>\n",
       "      <td>0.000000</td>\n",
       "      <td>0.000000</td>\n",
       "      <td>0.000000</td>\n",
       "      <td>0.000000</td>\n",
       "      <td>0.000000</td>\n",
       "      <td>0.000000</td>\n",
       "      <td>0.000000</td>\n",
       "      <td>0.000000</td>\n",
       "      <td>0.006352</td>\n",
       "      <td>-798.641662</td>\n",
       "      <td>0.008700</td>\n",
       "      <td>-740.122129</td>\n",
       "      <td>0.015159</td>\n",
       "      <td>-799.803073</td>\n",
       "      <td>0.008655</td>\n",
       "      <td>-799.788598</td>\n",
       "      <td>-4.223520e+07</td>\n",
       "      <td>-486.598675</td>\n",
       "      <td>-264.982785</td>\n",
       "      <td>-0.010548</td>\n",
       "      <td>0.010000</td>\n",
       "      <td>0.010000</td>\n",
       "      <td>0.012786</td>\n",
       "      <td>9.659576</td>\n",
       "      <td>0.010000</td>\n",
       "      <td>0.010000</td>\n",
       "      <td>0.001083</td>\n",
       "      <td>0.001428</td>\n",
       "      <td>0.000098</td>\n",
       "      <td>0.000290</td>\n",
       "      <td>0.000000</td>\n",
       "      <td>0.000000</td>\n",
       "      <td>0.000000</td>\n",
       "      <td>0.000000</td>\n",
       "      <td>0.000000</td>\n",
       "      <td>0.594562</td>\n",
       "      <td>0.007566</td>\n",
       "      <td>10.014648</td>\n",
       "      <td>0.020676</td>\n",
       "      <td>-0.041078</td>\n",
       "      <td>-650.202881</td>\n",
       "      <td>-0.653384</td>\n",
       "      <td>-650.260008</td>\n",
       "      <td>-0.035112</td>\n",
       "      <td>-640.995627</td>\n",
       "      <td>-0.554299</td>\n",
       "      <td>-640.519003</td>\n",
       "      <td>-1.970275</td>\n",
       "      <td>-649.443911</td>\n",
       "      <td>-2.430587</td>\n",
       "      <td>-649.880981</td>\n",
       "      <td>0.000000</td>\n",
       "      <td>0.000000</td>\n",
       "      <td>0.000000</td>\n",
       "      <td>0.000000</td>\n",
       "      <td>0.077503</td>\n",
       "      <td>-799.606441</td>\n",
       "      <td>0.000000</td>\n",
       "      <td>-799.873878</td>\n",
       "      <td>0.000000</td>\n",
       "      <td>-799.613013</td>\n",
       "      <td>0.000000</td>\n",
       "      <td>-759.177381</td>\n",
       "      <td>0.000000</td>\n",
       "      <td>-799.709069</td>\n",
       "      <td>0.000000</td>\n",
       "      <td>-799.889113</td>\n",
       "      <td>-0.372054</td>\n",
       "      <td>-797.142475</td>\n",
       "      <td>0.646208</td>\n",
       "      <td>-800.006180</td>\n",
       "      <td>0.195324</td>\n",
       "      <td>-809.398668</td>\n",
       "    </tr>\n",
       "    <tr>\n",
       "      <th>25%</th>\n",
       "      <td>4.211620</td>\n",
       "      <td>9.297355</td>\n",
       "      <td>7.484645</td>\n",
       "      <td>43.276111</td>\n",
       "      <td>62.545817</td>\n",
       "      <td>7.997429</td>\n",
       "      <td>1.905973</td>\n",
       "      <td>8.811324</td>\n",
       "      <td>2.368607</td>\n",
       "      <td>107.006651</td>\n",
       "      <td>6.040604</td>\n",
       "      <td>6.960000</td>\n",
       "      <td>0.607021</td>\n",
       "      <td>7.107126</td>\n",
       "      <td>8.333489</td>\n",
       "      <td>7.488139</td>\n",
       "      <td>30.857764</td>\n",
       "      <td>13.873147</td>\n",
       "      <td>2.420259</td>\n",
       "      <td>6.332548</td>\n",
       "      <td>2.867957</td>\n",
       "      <td>1595.695815</td>\n",
       "      <td>-500.287952</td>\n",
       "      <td>1558.959943</td>\n",
       "      <td>-500.375645</td>\n",
       "      <td>1549.871886</td>\n",
       "      <td>-500.601718</td>\n",
       "      <td>1452.678767</td>\n",
       "      <td>-500.459917</td>\n",
       "      <td>3.999430e+04</td>\n",
       "      <td>2527.093354</td>\n",
       "      <td>2512.200873</td>\n",
       "      <td>1.999588</td>\n",
       "      <td>7.132802</td>\n",
       "      <td>2.780010</td>\n",
       "      <td>420.781913</td>\n",
       "      <td>48.973027</td>\n",
       "      <td>34.117635</td>\n",
       "      <td>6.596217</td>\n",
       "      <td>9.861100</td>\n",
       "      <td>5.117359</td>\n",
       "      <td>9.505507</td>\n",
       "      <td>5.199168</td>\n",
       "      <td>10.486871</td>\n",
       "      <td>6.850501</td>\n",
       "      <td>26.703554</td>\n",
       "      <td>18.432161</td>\n",
       "      <td>79.993067</td>\n",
       "      <td>4.921647</td>\n",
       "      <td>0.474047</td>\n",
       "      <td>15.688727</td>\n",
       "      <td>1.310800</td>\n",
       "      <td>999.799166</td>\n",
       "      <td>-499.787867</td>\n",
       "      <td>1199.366448</td>\n",
       "      <td>-500.183028</td>\n",
       "      <td>1103.095071</td>\n",
       "      <td>-500.211863</td>\n",
       "      <td>1059.708509</td>\n",
       "      <td>-500.359197</td>\n",
       "      <td>997.183864</td>\n",
       "      <td>-500.250033</td>\n",
       "      <td>900.966986</td>\n",
       "      <td>-500.476526</td>\n",
       "      <td>12.177364</td>\n",
       "      <td>3.982298</td>\n",
       "      <td>3.225486</td>\n",
       "      <td>3.153122</td>\n",
       "      <td>25.099584</td>\n",
       "      <td>-500.248814</td>\n",
       "      <td>22.048294</td>\n",
       "      <td>-500.270997</td>\n",
       "      <td>24.991662</td>\n",
       "      <td>-500.175065</td>\n",
       "      <td>19.948436</td>\n",
       "      <td>-500.110581</td>\n",
       "      <td>14.990775</td>\n",
       "      <td>-500.628656</td>\n",
       "      <td>11.894558</td>\n",
       "      <td>-500.149000</td>\n",
       "      <td>11.083980</td>\n",
       "      <td>-500.363177</td>\n",
       "      <td>8.994405</td>\n",
       "      <td>-500.105994</td>\n",
       "      <td>14.989304</td>\n",
       "      <td>-500.745104</td>\n",
       "    </tr>\n",
       "    <tr>\n",
       "      <th>50%</th>\n",
       "      <td>4.994652</td>\n",
       "      <td>10.297144</td>\n",
       "      <td>8.845462</td>\n",
       "      <td>44.872436</td>\n",
       "      <td>67.432775</td>\n",
       "      <td>9.480270</td>\n",
       "      <td>2.592022</td>\n",
       "      <td>10.514621</td>\n",
       "      <td>2.851025</td>\n",
       "      <td>133.018328</td>\n",
       "      <td>8.035811</td>\n",
       "      <td>7.290000</td>\n",
       "      <td>0.888749</td>\n",
       "      <td>8.226247</td>\n",
       "      <td>9.933520</td>\n",
       "      <td>9.726566</td>\n",
       "      <td>33.225835</td>\n",
       "      <td>15.800604</td>\n",
       "      <td>3.218374</td>\n",
       "      <td>7.714419</td>\n",
       "      <td>3.510337</td>\n",
       "      <td>1601.824410</td>\n",
       "      <td>-499.909375</td>\n",
       "      <td>1601.818514</td>\n",
       "      <td>-499.938003</td>\n",
       "      <td>1601.574628</td>\n",
       "      <td>-499.871346</td>\n",
       "      <td>1600.168346</td>\n",
       "      <td>-499.831833</td>\n",
       "      <td>4.368431e+04</td>\n",
       "      <td>2975.892211</td>\n",
       "      <td>2899.807724</td>\n",
       "      <td>2.249275</td>\n",
       "      <td>8.156092</td>\n",
       "      <td>3.422677</td>\n",
       "      <td>499.454777</td>\n",
       "      <td>55.373885</td>\n",
       "      <td>37.020345</td>\n",
       "      <td>7.649138</td>\n",
       "      <td>11.688702</td>\n",
       "      <td>5.951071</td>\n",
       "      <td>11.384283</td>\n",
       "      <td>5.998460</td>\n",
       "      <td>11.747362</td>\n",
       "      <td>7.760435</td>\n",
       "      <td>29.257545</td>\n",
       "      <td>19.947312</td>\n",
       "      <td>85.299462</td>\n",
       "      <td>5.722018</td>\n",
       "      <td>0.625805</td>\n",
       "      <td>18.015894</td>\n",
       "      <td>1.745513</td>\n",
       "      <td>1001.685708</td>\n",
       "      <td>-300.175125</td>\n",
       "      <td>1301.365123</td>\n",
       "      <td>-499.764620</td>\n",
       "      <td>1300.213385</td>\n",
       "      <td>-499.682528</td>\n",
       "      <td>1200.744308</td>\n",
       "      <td>-499.465285</td>\n",
       "      <td>1050.496363</td>\n",
       "      <td>-499.611447</td>\n",
       "      <td>1000.053757</td>\n",
       "      <td>-499.364335</td>\n",
       "      <td>15.357951</td>\n",
       "      <td>5.442310</td>\n",
       "      <td>7.302639</td>\n",
       "      <td>3.980210</td>\n",
       "      <td>30.027721</td>\n",
       "      <td>-499.959206</td>\n",
       "      <td>27.022783</td>\n",
       "      <td>-500.014092</td>\n",
       "      <td>28.016530</td>\n",
       "      <td>-499.877837</td>\n",
       "      <td>22.037270</td>\n",
       "      <td>-499.966809</td>\n",
       "      <td>20.001789</td>\n",
       "      <td>-499.681450</td>\n",
       "      <td>14.975536</td>\n",
       "      <td>-499.388738</td>\n",
       "      <td>17.932223</td>\n",
       "      <td>-499.702452</td>\n",
       "      <td>11.997547</td>\n",
       "      <td>-499.914556</td>\n",
       "      <td>19.984175</td>\n",
       "      <td>-500.061431</td>\n",
       "    </tr>\n",
       "    <tr>\n",
       "      <th>75%</th>\n",
       "      <td>5.859540</td>\n",
       "      <td>11.170603</td>\n",
       "      <td>10.487508</td>\n",
       "      <td>46.166425</td>\n",
       "      <td>72.346428</td>\n",
       "      <td>11.003707</td>\n",
       "      <td>3.241723</td>\n",
       "      <td>11.933009</td>\n",
       "      <td>3.434764</td>\n",
       "      <td>159.825396</td>\n",
       "      <td>11.522173</td>\n",
       "      <td>7.700000</td>\n",
       "      <td>1.100933</td>\n",
       "      <td>9.504924</td>\n",
       "      <td>11.310817</td>\n",
       "      <td>13.052807</td>\n",
       "      <td>35.330145</td>\n",
       "      <td>18.450109</td>\n",
       "      <td>4.253218</td>\n",
       "      <td>8.910664</td>\n",
       "      <td>4.492470</td>\n",
       "      <td>1699.716408</td>\n",
       "      <td>-499.378551</td>\n",
       "      <td>1700.215351</td>\n",
       "      <td>-499.389658</td>\n",
       "      <td>1700.464037</td>\n",
       "      <td>-498.801774</td>\n",
       "      <td>1699.358771</td>\n",
       "      <td>-498.480341</td>\n",
       "      <td>4.776041e+04</td>\n",
       "      <td>3716.360822</td>\n",
       "      <td>3596.534806</td>\n",
       "      <td>2.660896</td>\n",
       "      <td>9.918304</td>\n",
       "      <td>4.226107</td>\n",
       "      <td>547.334973</td>\n",
       "      <td>66.080172</td>\n",
       "      <td>39.423265</td>\n",
       "      <td>9.066976</td>\n",
       "      <td>13.607115</td>\n",
       "      <td>6.602533</td>\n",
       "      <td>13.497134</td>\n",
       "      <td>6.699006</td>\n",
       "      <td>13.426419</td>\n",
       "      <td>8.601927</td>\n",
       "      <td>31.743913</td>\n",
       "      <td>21.392714</td>\n",
       "      <td>90.165021</td>\n",
       "      <td>6.310633</td>\n",
       "      <td>0.794326</td>\n",
       "      <td>19.938672</td>\n",
       "      <td>2.186790</td>\n",
       "      <td>1299.505513</td>\n",
       "      <td>-299.963153</td>\n",
       "      <td>1449.553689</td>\n",
       "      <td>-400.425493</td>\n",
       "      <td>1450.350668</td>\n",
       "      <td>-400.664736</td>\n",
       "      <td>1344.378462</td>\n",
       "      <td>-401.052891</td>\n",
       "      <td>1200.047746</td>\n",
       "      <td>-400.596104</td>\n",
       "      <td>1100.165435</td>\n",
       "      <td>-401.014951</td>\n",
       "      <td>17.230151</td>\n",
       "      <td>7.797948</td>\n",
       "      <td>10.547068</td>\n",
       "      <td>4.883943</td>\n",
       "      <td>34.893057</td>\n",
       "      <td>-499.593198</td>\n",
       "      <td>28.939454</td>\n",
       "      <td>-499.764112</td>\n",
       "      <td>34.990095</td>\n",
       "      <td>-436.923166</td>\n",
       "      <td>25.970365</td>\n",
       "      <td>-499.757501</td>\n",
       "      <td>24.990826</td>\n",
       "      <td>-477.472413</td>\n",
       "      <td>20.059375</td>\n",
       "      <td>-400.039008</td>\n",
       "      <td>21.346550</td>\n",
       "      <td>-487.712108</td>\n",
       "      <td>17.982903</td>\n",
       "      <td>-453.186936</td>\n",
       "      <td>24.991623</td>\n",
       "      <td>-499.536466</td>\n",
       "    </tr>\n",
       "    <tr>\n",
       "      <th>max</th>\n",
       "      <td>16.001945</td>\n",
       "      <td>17.031899</td>\n",
       "      <td>18.124851</td>\n",
       "      <td>52.756638</td>\n",
       "      <td>100.000000</td>\n",
       "      <td>19.552149</td>\n",
       "      <td>5.639565</td>\n",
       "      <td>22.317730</td>\n",
       "      <td>8.197408</td>\n",
       "      <td>250.127834</td>\n",
       "      <td>20.052255</td>\n",
       "      <td>10.470000</td>\n",
       "      <td>2.512968</td>\n",
       "      <td>16.081632</td>\n",
       "      <td>17.081278</td>\n",
       "      <td>22.280845</td>\n",
       "      <td>45.933934</td>\n",
       "      <td>29.459575</td>\n",
       "      <td>9.634565</td>\n",
       "      <td>20.620833</td>\n",
       "      <td>17.788925</td>\n",
       "      <td>2079.531340</td>\n",
       "      <td>-330.134203</td>\n",
       "      <td>2114.906758</td>\n",
       "      <td>-347.354380</td>\n",
       "      <td>2013.156457</td>\n",
       "      <td>-346.653450</td>\n",
       "      <td>2398.903635</td>\n",
       "      <td>-30.601828</td>\n",
       "      <td>3.428099e+06</td>\n",
       "      <td>629638.977914</td>\n",
       "      <td>718684.955855</td>\n",
       "      <td>39.379272</td>\n",
       "      <td>14.596026</td>\n",
       "      <td>7.142594</td>\n",
       "      <td>717.508837</td>\n",
       "      <td>484.967466</td>\n",
       "      <td>48.363177</td>\n",
       "      <td>13.126043</td>\n",
       "      <td>36.118275</td>\n",
       "      <td>9.703448</td>\n",
       "      <td>37.980648</td>\n",
       "      <td>9.698407</td>\n",
       "      <td>24.480271</td>\n",
       "      <td>13.617072</td>\n",
       "      <td>38.351193</td>\n",
       "      <td>28.146838</td>\n",
       "      <td>100.000000</td>\n",
       "      <td>12.719177</td>\n",
       "      <td>3.778064</td>\n",
       "      <td>66.117188</td>\n",
       "      <td>9.688980</td>\n",
       "      <td>1521.980372</td>\n",
       "      <td>-281.039299</td>\n",
       "      <td>1809.194008</td>\n",
       "      <td>-296.383080</td>\n",
       "      <td>2499.129174</td>\n",
       "      <td>-292.155509</td>\n",
       "      <td>1817.199290</td>\n",
       "      <td>-208.330673</td>\n",
       "      <td>1922.636637</td>\n",
       "      <td>-272.199598</td>\n",
       "      <td>1706.307502</td>\n",
       "      <td>-191.718480</td>\n",
       "      <td>23.264738</td>\n",
       "      <td>17.042505</td>\n",
       "      <td>17.976171</td>\n",
       "      <td>26.811643</td>\n",
       "      <td>52.651399</td>\n",
       "      <td>-127.875565</td>\n",
       "      <td>35.152122</td>\n",
       "      <td>-212.064665</td>\n",
       "      <td>44.260464</td>\n",
       "      <td>-191.678810</td>\n",
       "      <td>35.072841</td>\n",
       "      <td>-159.742331</td>\n",
       "      <td>30.115735</td>\n",
       "      <td>-245.239184</td>\n",
       "      <td>24.007913</td>\n",
       "      <td>-145.071088</td>\n",
       "      <td>43.709931</td>\n",
       "      <td>-275.073125</td>\n",
       "      <td>27.926001</td>\n",
       "      <td>-157.396071</td>\n",
       "      <td>32.188906</td>\n",
       "      <td>-104.427459</td>\n",
       "    </tr>\n",
       "  </tbody>\n",
       "</table>\n",
       "</div>"
      ],
      "text/plain": [
       "       final.output.concentrate_ag  final.output.concentrate_pb  \\\n",
       "count                 14148.000000                 14148.000000   \n",
       "mean                      5.142034                    10.132960   \n",
       "std                       1.369586                     1.654930   \n",
       "min                       0.000000                     0.000000   \n",
       "25%                       4.211620                     9.297355   \n",
       "50%                       4.994652                    10.297144   \n",
       "75%                       5.859540                    11.170603   \n",
       "max                      16.001945                    17.031899   \n",
       "\n",
       "       final.output.concentrate_sol  final.output.concentrate_au  \\\n",
       "count                  13938.000000                 14149.000000   \n",
       "mean                       9.202849                    44.003792   \n",
       "std                        2.790516                     4.905261   \n",
       "min                        0.000000                     0.000000   \n",
       "25%                        7.484645                    43.276111   \n",
       "50%                        8.845462                    44.872436   \n",
       "75%                       10.487508                    46.166425   \n",
       "max                       18.124851                    52.756638   \n",
       "\n",
       "       final.output.recovery  final.output.tail_ag  final.output.tail_pb  \\\n",
       "count           14149.000000          14149.000000          14049.000000   \n",
       "mean               66.518832              9.607035              2.597298   \n",
       "std                10.295402              2.319069              0.971843   \n",
       "min                 0.000000              0.000000              0.000000   \n",
       "25%                62.545817              7.997429              1.905973   \n",
       "50%                67.432775              9.480270              2.592022   \n",
       "75%                72.346428             11.003707              3.241723   \n",
       "max               100.000000             19.552149              5.639565   \n",
       "\n",
       "       final.output.tail_sol  final.output.tail_au  \\\n",
       "count           14144.000000          14149.000000   \n",
       "mean               10.512122              2.918421   \n",
       "std                 3.003617              0.903712   \n",
       "min                 0.000000              0.000000   \n",
       "25%                 8.811324              2.368607   \n",
       "50%                10.514621              2.851025   \n",
       "75%                11.933009              3.434764   \n",
       "max                22.317730              8.197408   \n",
       "\n",
       "       primary_cleaner.input.sulfate  primary_cleaner.input.depressant  \\\n",
       "count                   14129.000000                      14117.000000   \n",
       "mean                      133.320659                          8.866996   \n",
       "std                        39.431659                          3.361589   \n",
       "min                         0.003112                          0.000000   \n",
       "25%                       107.006651                          6.040604   \n",
       "50%                       133.018328                          8.035811   \n",
       "75%                       159.825396                         11.522173   \n",
       "max                       250.127834                         20.052255   \n",
       "\n",
       "       primary_cleaner.input.feed_size  primary_cleaner.input.xanthate  \\\n",
       "count                     14149.000000                    14049.000000   \n",
       "mean                          7.322310                        0.885588   \n",
       "std                           0.614062                        0.372714   \n",
       "min                           1.080000                        0.000005   \n",
       "25%                           6.960000                        0.607021   \n",
       "50%                           7.290000                        0.888749   \n",
       "75%                           7.700000                        1.100933   \n",
       "max                          10.470000                        2.512968   \n",
       "\n",
       "       primary_cleaner.output.concentrate_ag  \\\n",
       "count                           14149.000000   \n",
       "mean                                8.200916   \n",
       "std                                 2.005185   \n",
       "min                                 0.000000   \n",
       "25%                                 7.107126   \n",
       "50%                                 8.226247   \n",
       "75%                                 9.504924   \n",
       "max                                16.081632   \n",
       "\n",
       "       primary_cleaner.output.concentrate_pb  \\\n",
       "count                           14063.000000   \n",
       "mean                                9.588862   \n",
       "std                                 2.694296   \n",
       "min                                 0.000000   \n",
       "25%                                 8.333489   \n",
       "50%                                 9.933520   \n",
       "75%                                11.310817   \n",
       "max                                17.081278   \n",
       "\n",
       "       primary_cleaner.output.concentrate_sol  \\\n",
       "count                            13863.000000   \n",
       "mean                                10.114745   \n",
       "std                                  4.064076   \n",
       "min                                  0.000000   \n",
       "25%                                  7.488139   \n",
       "50%                                  9.726566   \n",
       "75%                                 13.052807   \n",
       "max                                 22.280845   \n",
       "\n",
       "       primary_cleaner.output.concentrate_au  primary_cleaner.output.tail_ag  \\\n",
       "count                           14149.000000                    14148.000000   \n",
       "mean                               32.386836                       16.303929   \n",
       "std                                 5.798843                        3.739843   \n",
       "min                                 0.000000                        0.000000   \n",
       "25%                                30.857764                       13.873147   \n",
       "50%                                33.225835                       15.800604   \n",
       "75%                                35.330145                       18.450109   \n",
       "max                                45.933934                       29.459575   \n",
       "\n",
       "       primary_cleaner.output.tail_pb  primary_cleaner.output.tail_sol  \\\n",
       "count                    14134.000000                     14103.000000   \n",
       "mean                         3.443398                         7.533566   \n",
       "std                          1.490106                         2.133220   \n",
       "min                          0.000000                         0.000000   \n",
       "25%                          2.420259                         6.332548   \n",
       "50%                          3.218374                         7.714419   \n",
       "75%                          4.253218                         8.910664   \n",
       "max                          9.634565                        20.620833   \n",
       "\n",
       "       primary_cleaner.output.tail_au  primary_cleaner.state.floatbank8_a_air  \\\n",
       "count                    14149.000000                            14145.000000   \n",
       "mean                         3.839637                             1608.000064   \n",
       "std                          1.603544                              128.394355   \n",
       "min                          0.000000                                0.006352   \n",
       "25%                          2.867957                             1595.695815   \n",
       "50%                          3.510337                             1601.824410   \n",
       "75%                          4.492470                             1699.716408   \n",
       "max                         17.788925                             2079.531340   \n",
       "\n",
       "       primary_cleaner.state.floatbank8_a_level  \\\n",
       "count                              14148.000000   \n",
       "mean                                -488.775525   \n",
       "std                                   35.704184   \n",
       "min                                 -798.641662   \n",
       "25%                                 -500.287952   \n",
       "50%                                 -499.909375   \n",
       "75%                                 -499.378551   \n",
       "max                                 -330.134203   \n",
       "\n",
       "       primary_cleaner.state.floatbank8_b_air  \\\n",
       "count                            14145.000000   \n",
       "mean                              1608.610983   \n",
       "std                                131.112729   \n",
       "min                                  0.008700   \n",
       "25%                               1558.959943   \n",
       "50%                               1601.818514   \n",
       "75%                               1700.215351   \n",
       "max                               2114.906758   \n",
       "\n",
       "       primary_cleaner.state.floatbank8_b_level  \\\n",
       "count                              14148.000000   \n",
       "mean                                -489.171786   \n",
       "std                                   33.604449   \n",
       "min                                 -740.122129   \n",
       "25%                                 -500.375645   \n",
       "50%                                 -499.938003   \n",
       "75%                                 -499.389658   \n",
       "max                                 -347.354380   \n",
       "\n",
       "       primary_cleaner.state.floatbank8_c_air  \\\n",
       "count                            14147.000000   \n",
       "mean                              1608.879407   \n",
       "std                                134.266898   \n",
       "min                                  0.015159   \n",
       "25%                               1549.871886   \n",
       "50%                               1601.574628   \n",
       "75%                               1700.464037   \n",
       "max                               2013.156457   \n",
       "\n",
       "       primary_cleaner.state.floatbank8_c_level  \\\n",
       "count                              14148.000000   \n",
       "mean                                -489.605549   \n",
       "std                                   35.624002   \n",
       "min                                 -799.803073   \n",
       "25%                                 -500.601718   \n",
       "50%                                 -499.871346   \n",
       "75%                                 -498.801774   \n",
       "max                                 -346.653450   \n",
       "\n",
       "       primary_cleaner.state.floatbank8_d_air  \\\n",
       "count                            14146.000000   \n",
       "mean                              1542.189963   \n",
       "std                                278.316132   \n",
       "min                                  0.008655   \n",
       "25%                               1452.678767   \n",
       "50%                               1600.168346   \n",
       "75%                               1699.358771   \n",
       "max                               2398.903635   \n",
       "\n",
       "       primary_cleaner.state.floatbank8_d_level  \\\n",
       "count                              14148.000000   \n",
       "mean                                -483.462423   \n",
       "std                                   47.100934   \n",
       "min                                 -799.788598   \n",
       "25%                                 -500.459917   \n",
       "50%                                 -499.831833   \n",
       "75%                                 -498.480341   \n",
       "max                                  -30.601828   \n",
       "\n",
       "       rougher.calculation.sulfate_to_au_concentrate  \\\n",
       "count                                   1.414800e+04   \n",
       "mean                                    4.038265e+04   \n",
       "std                                     3.801436e+05   \n",
       "min                                    -4.223520e+07   \n",
       "25%                                     3.999430e+04   \n",
       "50%                                     4.368431e+04   \n",
       "75%                                     4.776041e+04   \n",
       "max                                     3.428099e+06   \n",
       "\n",
       "       rougher.calculation.floatbank10_sulfate_to_au_feed  \\\n",
       "count                                       14148.000000    \n",
       "mean                                         3456.608298    \n",
       "std                                          5772.510248    \n",
       "min                                          -486.598675    \n",
       "25%                                          2527.093354    \n",
       "50%                                          2975.892211    \n",
       "75%                                          3716.360822    \n",
       "max                                        629638.977914    \n",
       "\n",
       "       rougher.calculation.floatbank11_sulfate_to_au_feed  \\\n",
       "count                                       14148.000000    \n",
       "mean                                         3253.356387    \n",
       "std                                          6753.290662    \n",
       "min                                          -264.982785    \n",
       "25%                                          2512.200873    \n",
       "50%                                          2899.807724    \n",
       "75%                                          3596.534806    \n",
       "max                                        718684.955855    \n",
       "\n",
       "       rougher.calculation.au_pb_ratio  rougher.input.feed_ag  \\\n",
       "count                     14149.000000           14149.000000   \n",
       "mean                          2.367314               8.579195   \n",
       "std                           0.873551               1.896284   \n",
       "min                          -0.010548               0.010000   \n",
       "25%                           1.999588               7.132802   \n",
       "50%                           2.249275               8.156092   \n",
       "75%                           2.660896               9.918304   \n",
       "max                          39.379272              14.596026   \n",
       "\n",
       "       rougher.input.feed_pb  rougher.input.feed_rate  \\\n",
       "count           14049.000000             14141.000000   \n",
       "mean                3.522778               474.027714   \n",
       "std                 1.073394               104.039838   \n",
       "min                 0.010000                 0.012786   \n",
       "25%                 2.780010               420.781913   \n",
       "50%                 3.422677               499.454777   \n",
       "75%                 4.226107               547.334973   \n",
       "max                 7.142594               717.508837   \n",
       "\n",
       "       rougher.input.feed_size  rougher.input.feed_sol  rougher.input.feed_au  \\\n",
       "count             14005.000000            14071.000000           14149.000000   \n",
       "mean                 60.110518               36.312593               7.866577   \n",
       "std                  22.418485                4.956057               1.919506   \n",
       "min                   9.659576                0.010000               0.010000   \n",
       "25%                  48.973027               34.117635               6.596217   \n",
       "50%                  55.373885               37.020345               7.649138   \n",
       "75%                  66.080172               39.423265               9.066976   \n",
       "max                 484.967466               48.363177              13.126043   \n",
       "\n",
       "       rougher.input.floatbank10_sulfate  rougher.input.floatbank10_xanthate  \\\n",
       "count                       14120.000000                        14141.000000   \n",
       "mean                           11.764931                            5.854529   \n",
       "std                             3.278813                            1.104263   \n",
       "min                             0.001083                            0.001428   \n",
       "25%                             9.861100                            5.117359   \n",
       "50%                            11.688702                            5.951071   \n",
       "75%                            13.607115                            6.602533   \n",
       "max                            36.118275                            9.703448   \n",
       "\n",
       "       rougher.input.floatbank11_sulfate  rougher.input.floatbank11_xanthate  \\\n",
       "count                       14113.000000                        13721.000000   \n",
       "mean                           11.368685                            5.894176   \n",
       "std                             3.743672                            1.124233   \n",
       "min                             0.000098                            0.000290   \n",
       "25%                             9.505507                            5.199168   \n",
       "50%                            11.384283                            5.998460   \n",
       "75%                            13.497134                            6.699006   \n",
       "max                            37.980648                            9.698407   \n",
       "\n",
       "       rougher.output.concentrate_ag  rougher.output.concentrate_pb  \\\n",
       "count                   14149.000000                   14149.000000   \n",
       "mean                       11.775812                       7.664555   \n",
       "std                         2.731747                       1.856279   \n",
       "min                         0.000000                       0.000000   \n",
       "25%                        10.486871                       6.850501   \n",
       "50%                        11.747362                       7.760435   \n",
       "75%                        13.426419                       8.601927   \n",
       "max                        24.480271                      13.617072   \n",
       "\n",
       "       rougher.output.concentrate_sol  rougher.output.concentrate_au  \\\n",
       "count                    14127.000000                   14149.000000   \n",
       "mean                        28.302715                      19.439958   \n",
       "std                          6.102982                       3.765192   \n",
       "min                          0.000000                       0.000000   \n",
       "25%                         26.703554                      18.432161   \n",
       "50%                         29.257545                      19.947312   \n",
       "75%                         31.743913                      21.392714   \n",
       "max                         38.351193                      28.146838   \n",
       "\n",
       "       rougher.output.recovery  rougher.output.tail_ag  \\\n",
       "count             14149.000000            14148.000000   \n",
       "mean                 82.704502                5.567124   \n",
       "std                  14.479156                1.039136   \n",
       "min                   0.000000                0.594562   \n",
       "25%                  79.993067                4.921647   \n",
       "50%                  85.299462                5.722018   \n",
       "75%                  90.165021                6.310633   \n",
       "max                 100.000000               12.719177   \n",
       "\n",
       "       rougher.output.tail_pb  rougher.output.tail_sol  \\\n",
       "count            14149.000000             14149.000000   \n",
       "mean                 0.653277                17.882853   \n",
       "std                  0.263766                 3.432859   \n",
       "min                  0.007566                10.014648   \n",
       "25%                  0.474047                15.688727   \n",
       "50%                  0.625805                18.015894   \n",
       "75%                  0.794326                19.938672   \n",
       "max                  3.778064                66.117188   \n",
       "\n",
       "       rougher.output.tail_au  rougher.state.floatbank10_a_air  \\\n",
       "count            14149.000000                     14148.000000   \n",
       "mean                 1.757473                      1124.726280   \n",
       "std                  0.713187                       169.310825   \n",
       "min                  0.020676                        -0.041078   \n",
       "25%                  1.310800                       999.799166   \n",
       "50%                  1.745513                      1001.685708   \n",
       "75%                  2.186790                      1299.505513   \n",
       "max                  9.688980                      1521.980372   \n",
       "\n",
       "       rougher.state.floatbank10_a_level  rougher.state.floatbank10_b_air  \\\n",
       "count                       14148.000000                     14148.000000   \n",
       "mean                         -369.460950                      1320.705069   \n",
       "std                            93.952787                       183.155975   \n",
       "min                          -650.202881                        -0.653384   \n",
       "25%                          -499.787867                      1199.366448   \n",
       "50%                          -300.175125                      1301.365123   \n",
       "75%                          -299.963153                      1449.553689   \n",
       "max                          -281.039299                      1809.194008   \n",
       "\n",
       "       rougher.state.floatbank10_b_level  rougher.state.floatbank10_c_air  \\\n",
       "count                       14148.000000                     14148.000000   \n",
       "mean                         -464.258983                      1299.360578   \n",
       "std                            57.401954                       213.404094   \n",
       "min                          -650.260008                        -0.035112   \n",
       "25%                          -500.183028                      1103.095071   \n",
       "50%                          -499.764620                      1300.213385   \n",
       "75%                          -400.425493                      1450.350668   \n",
       "max                          -296.383080                      2499.129174   \n",
       "\n",
       "       rougher.state.floatbank10_c_level  rougher.state.floatbank10_d_air  \\\n",
       "count                       14148.000000                     14149.000000   \n",
       "mean                         -465.054849                      1210.335236   \n",
       "std                            55.904716                       210.431555   \n",
       "min                          -640.995627                        -0.554299   \n",
       "25%                          -500.211863                      1059.708509   \n",
       "50%                          -499.682528                      1200.744308   \n",
       "75%                          -400.664736                      1344.378462   \n",
       "max                          -292.155509                      1817.199290   \n",
       "\n",
       "       rougher.state.floatbank10_d_level  rougher.state.floatbank10_e_air  \\\n",
       "count                       14149.000000                     13713.000000   \n",
       "mean                         -465.457377                      1090.213187   \n",
       "std                            55.771393                       184.610118   \n",
       "min                          -640.519003                        -1.970275   \n",
       "25%                          -500.359197                       997.183864   \n",
       "50%                          -499.465285                      1050.496363   \n",
       "75%                          -401.052891                      1200.047746   \n",
       "max                          -208.330673                      1922.636637   \n",
       "\n",
       "       rougher.state.floatbank10_e_level  rougher.state.floatbank10_f_air  \\\n",
       "count                       14149.000000                     14149.000000   \n",
       "mean                         -464.919119                      1035.490299   \n",
       "std                            56.602962                       175.052279   \n",
       "min                          -649.443911                        -2.430587   \n",
       "25%                          -500.250033                       900.966986   \n",
       "50%                          -499.611447                      1000.053757   \n",
       "75%                          -400.596104                      1100.165435   \n",
       "max                          -272.199598                      1706.307502   \n",
       "\n",
       "       rougher.state.floatbank10_f_level  secondary_cleaner.output.tail_ag  \\\n",
       "count                       14149.000000                      14147.000000   \n",
       "mean                         -464.688631                         14.281629   \n",
       "std                            56.645965                          4.477126   \n",
       "min                          -649.880981                          0.000000   \n",
       "25%                          -500.476526                         12.177364   \n",
       "50%                          -499.364335                         15.357951   \n",
       "75%                          -401.014951                         17.230151   \n",
       "max                          -191.718480                         23.264738   \n",
       "\n",
       "       secondary_cleaner.output.tail_pb  secondary_cleaner.output.tail_sol  \\\n",
       "count                      14139.000000                       12544.000000   \n",
       "mean                           5.848863                           6.938693   \n",
       "std                            2.861799                           4.155487   \n",
       "min                            0.000000                           0.000000   \n",
       "25%                            3.982298                           3.225486   \n",
       "50%                            5.442310                           7.302639   \n",
       "75%                            7.797948                          10.547068   \n",
       "max                           17.042505                          17.976171   \n",
       "\n",
       "       secondary_cleaner.output.tail_au  \\\n",
       "count                      14149.000000   \n",
       "mean                           4.246961   \n",
       "std                            2.389060   \n",
       "min                            0.000000   \n",
       "25%                            3.153122   \n",
       "50%                            3.980210   \n",
       "75%                            4.883943   \n",
       "max                           26.811643   \n",
       "\n",
       "       secondary_cleaner.state.floatbank2_a_air  \\\n",
       "count                              13932.000000   \n",
       "mean                                  29.613649   \n",
       "std                                    5.800494   \n",
       "min                                    0.077503   \n",
       "25%                                   25.099584   \n",
       "50%                                   30.027721   \n",
       "75%                                   34.893057   \n",
       "max                                   52.651399   \n",
       "\n",
       "       secondary_cleaner.state.floatbank2_a_level  \\\n",
       "count                                14148.000000   \n",
       "mean                                  -502.223914   \n",
       "std                                     60.281705   \n",
       "min                                   -799.606441   \n",
       "25%                                   -500.248814   \n",
       "50%                                   -499.959206   \n",
       "75%                                   -499.593198   \n",
       "max                                   -127.875565   \n",
       "\n",
       "       secondary_cleaner.state.floatbank2_b_air  \\\n",
       "count                              14128.000000   \n",
       "mean                                  24.914403   \n",
       "std                                    5.994959   \n",
       "min                                    0.000000   \n",
       "25%                                   22.048294   \n",
       "50%                                   27.022783   \n",
       "75%                                   28.939454   \n",
       "max                                   35.152122   \n",
       "\n",
       "       secondary_cleaner.state.floatbank2_b_level  \\\n",
       "count                                14148.000000   \n",
       "mean                                  -503.695706   \n",
       "std                                     62.837357   \n",
       "min                                   -799.873878   \n",
       "25%                                   -500.270997   \n",
       "50%                                   -500.014092   \n",
       "75%                                   -499.764112   \n",
       "max                                   -212.064665   \n",
       "\n",
       "       secondary_cleaner.state.floatbank3_a_air  \\\n",
       "count                              14145.000000   \n",
       "mean                                  29.243372   \n",
       "std                                    5.637309   \n",
       "min                                    0.000000   \n",
       "25%                                   24.991662   \n",
       "50%                                   28.016530   \n",
       "75%                                   34.990095   \n",
       "max                                   44.260464   \n",
       "\n",
       "       secondary_cleaner.state.floatbank3_a_level  \\\n",
       "count                                14148.000000   \n",
       "mean                                  -478.244059   \n",
       "std                                     54.655143   \n",
       "min                                   -799.613013   \n",
       "25%                                   -500.175065   \n",
       "50%                                   -499.877837   \n",
       "75%                                   -436.923166   \n",
       "max                                   -191.678810   \n",
       "\n",
       "       secondary_cleaner.state.floatbank3_b_air  \\\n",
       "count                              14148.000000   \n",
       "mean                                  22.656261   \n",
       "std                                    4.996017   \n",
       "min                                    0.000000   \n",
       "25%                                   19.948436   \n",
       "50%                                   22.037270   \n",
       "75%                                   25.970365   \n",
       "max                                   35.072841   \n",
       "\n",
       "       secondary_cleaner.state.floatbank3_b_level  \\\n",
       "count                                14148.000000   \n",
       "mean                                  -488.924046   \n",
       "std                                     41.928112   \n",
       "min                                   -759.177381   \n",
       "25%                                   -500.110581   \n",
       "50%                                   -499.966809   \n",
       "75%                                   -499.757501   \n",
       "max                                   -159.742331   \n",
       "\n",
       "       secondary_cleaner.state.floatbank4_a_air  \\\n",
       "count                              14143.000000   \n",
       "mean                                  19.985454   \n",
       "std                                    5.657723   \n",
       "min                                    0.000000   \n",
       "25%                                   14.990775   \n",
       "50%                                   20.001789   \n",
       "75%                                   24.990826   \n",
       "max                                   30.115735   \n",
       "\n",
       "       secondary_cleaner.state.floatbank4_a_level  \\\n",
       "count                                14148.000000   \n",
       "mean                                  -478.696836   \n",
       "std                                     50.736021   \n",
       "min                                   -799.709069   \n",
       "25%                                   -500.628656   \n",
       "50%                                   -499.681450   \n",
       "75%                                   -477.472413   \n",
       "max                                   -245.239184   \n",
       "\n",
       "       secondary_cleaner.state.floatbank4_b_air  \\\n",
       "count                              14148.000000   \n",
       "mean                                  15.487065   \n",
       "std                                    5.255655   \n",
       "min                                    0.000000   \n",
       "25%                                   11.894558   \n",
       "50%                                   14.975536   \n",
       "75%                                   20.059375   \n",
       "max                                   24.007913   \n",
       "\n",
       "       secondary_cleaner.state.floatbank4_b_level  \\\n",
       "count                                14148.000000   \n",
       "mean                                  -460.229416   \n",
       "std                                     58.843586   \n",
       "min                                   -799.889113   \n",
       "25%                                   -500.149000   \n",
       "50%                                   -499.388738   \n",
       "75%                                   -400.039008   \n",
       "max                                   -145.071088   \n",
       "\n",
       "       secondary_cleaner.state.floatbank5_a_air  \\\n",
       "count                              14148.000000   \n",
       "mean                                  16.775136   \n",
       "std                                    5.831906   \n",
       "min                                   -0.372054   \n",
       "25%                                   11.083980   \n",
       "50%                                   17.932223   \n",
       "75%                                   21.346550   \n",
       "max                                   43.709931   \n",
       "\n",
       "       secondary_cleaner.state.floatbank5_a_level  \\\n",
       "count                                14148.000000   \n",
       "mean                                  -483.956022   \n",
       "std                                     37.892788   \n",
       "min                                   -797.142475   \n",
       "25%                                   -500.363177   \n",
       "50%                                   -499.702452   \n",
       "75%                                   -487.712108   \n",
       "max                                   -275.073125   \n",
       "\n",
       "       secondary_cleaner.state.floatbank5_b_air  \\\n",
       "count                              14148.000000   \n",
       "mean                                  13.064590   \n",
       "std                                    5.765617   \n",
       "min                                    0.646208   \n",
       "25%                                    8.994405   \n",
       "50%                                   11.997547   \n",
       "75%                                   17.982903   \n",
       "max                                   27.926001   \n",
       "\n",
       "       secondary_cleaner.state.floatbank5_b_level  \\\n",
       "count                                14148.000000   \n",
       "mean                                  -483.966564   \n",
       "std                                     39.207913   \n",
       "min                                   -800.006180   \n",
       "25%                                   -500.105994   \n",
       "50%                                   -499.914556   \n",
       "75%                                   -453.186936   \n",
       "max                                   -157.396071   \n",
       "\n",
       "       secondary_cleaner.state.floatbank6_a_air  \\\n",
       "count                              14147.000000   \n",
       "mean                                  19.577539   \n",
       "std                                    5.764417   \n",
       "min                                    0.195324   \n",
       "25%                                   14.989304   \n",
       "50%                                   19.984175   \n",
       "75%                                   24.991623   \n",
       "max                                   32.188906   \n",
       "\n",
       "       secondary_cleaner.state.floatbank6_a_level  \n",
       "count                                14148.000000  \n",
       "mean                                  -506.798480  \n",
       "std                                     37.079249  \n",
       "min                                   -809.398668  \n",
       "25%                                   -500.745104  \n",
       "50%                                   -500.061431  \n",
       "75%                                   -499.536466  \n",
       "max                                   -104.427459  "
      ]
     },
     "metadata": {},
     "output_type": "display_data"
    },
    {
     "name": "stdout",
     "output_type": "stream",
     "text": [
      "\n",
      "\n",
      "\n",
      "Количество пропусков в данных\n"
     ]
    },
    {
     "data": {
      "text/plain": [
       "date                                                     0\n",
       "final.output.concentrate_ag                              1\n",
       "final.output.concentrate_pb                              1\n",
       "final.output.concentrate_sol                           211\n",
       "final.output.concentrate_au                              0\n",
       "final.output.recovery                                    0\n",
       "final.output.tail_ag                                     0\n",
       "final.output.tail_pb                                   100\n",
       "final.output.tail_sol                                    5\n",
       "final.output.tail_au                                     0\n",
       "primary_cleaner.input.sulfate                           20\n",
       "primary_cleaner.input.depressant                        32\n",
       "primary_cleaner.input.feed_size                          0\n",
       "primary_cleaner.input.xanthate                         100\n",
       "primary_cleaner.output.concentrate_ag                    0\n",
       "primary_cleaner.output.concentrate_pb                   86\n",
       "primary_cleaner.output.concentrate_sol                 286\n",
       "primary_cleaner.output.concentrate_au                    0\n",
       "primary_cleaner.output.tail_ag                           1\n",
       "primary_cleaner.output.tail_pb                          15\n",
       "primary_cleaner.output.tail_sol                         46\n",
       "primary_cleaner.output.tail_au                           0\n",
       "primary_cleaner.state.floatbank8_a_air                   4\n",
       "primary_cleaner.state.floatbank8_a_level                 1\n",
       "primary_cleaner.state.floatbank8_b_air                   4\n",
       "primary_cleaner.state.floatbank8_b_level                 1\n",
       "primary_cleaner.state.floatbank8_c_air                   2\n",
       "primary_cleaner.state.floatbank8_c_level                 1\n",
       "primary_cleaner.state.floatbank8_d_air                   3\n",
       "primary_cleaner.state.floatbank8_d_level                 1\n",
       "rougher.calculation.sulfate_to_au_concentrate            1\n",
       "rougher.calculation.floatbank10_sulfate_to_au_feed       1\n",
       "rougher.calculation.floatbank11_sulfate_to_au_feed       1\n",
       "rougher.calculation.au_pb_ratio                          0\n",
       "rougher.input.feed_ag                                    0\n",
       "rougher.input.feed_pb                                  100\n",
       "rougher.input.feed_rate                                  8\n",
       "rougher.input.feed_size                                144\n",
       "rougher.input.feed_sol                                  78\n",
       "rougher.input.feed_au                                    0\n",
       "rougher.input.floatbank10_sulfate                       29\n",
       "rougher.input.floatbank10_xanthate                       8\n",
       "rougher.input.floatbank11_sulfate                       36\n",
       "rougher.input.floatbank11_xanthate                     428\n",
       "rougher.output.concentrate_ag                            0\n",
       "rougher.output.concentrate_pb                            0\n",
       "rougher.output.concentrate_sol                          22\n",
       "rougher.output.concentrate_au                            0\n",
       "rougher.output.recovery                                  0\n",
       "rougher.output.tail_ag                                   1\n",
       "rougher.output.tail_pb                                   0\n",
       "rougher.output.tail_sol                                  0\n",
       "rougher.output.tail_au                                   0\n",
       "rougher.state.floatbank10_a_air                          1\n",
       "rougher.state.floatbank10_a_level                        1\n",
       "rougher.state.floatbank10_b_air                          1\n",
       "rougher.state.floatbank10_b_level                        1\n",
       "rougher.state.floatbank10_c_air                          1\n",
       "rougher.state.floatbank10_c_level                        1\n",
       "rougher.state.floatbank10_d_air                          0\n",
       "rougher.state.floatbank10_d_level                        0\n",
       "rougher.state.floatbank10_e_air                        436\n",
       "rougher.state.floatbank10_e_level                        0\n",
       "rougher.state.floatbank10_f_air                          0\n",
       "rougher.state.floatbank10_f_level                        0\n",
       "secondary_cleaner.output.tail_ag                         2\n",
       "secondary_cleaner.output.tail_pb                        10\n",
       "secondary_cleaner.output.tail_sol                     1605\n",
       "secondary_cleaner.output.tail_au                         0\n",
       "secondary_cleaner.state.floatbank2_a_air               217\n",
       "secondary_cleaner.state.floatbank2_a_level               1\n",
       "secondary_cleaner.state.floatbank2_b_air                21\n",
       "secondary_cleaner.state.floatbank2_b_level               1\n",
       "secondary_cleaner.state.floatbank3_a_air                 4\n",
       "secondary_cleaner.state.floatbank3_a_level               1\n",
       "secondary_cleaner.state.floatbank3_b_air                 1\n",
       "secondary_cleaner.state.floatbank3_b_level               1\n",
       "secondary_cleaner.state.floatbank4_a_air                 6\n",
       "secondary_cleaner.state.floatbank4_a_level               1\n",
       "secondary_cleaner.state.floatbank4_b_air                 1\n",
       "secondary_cleaner.state.floatbank4_b_level               1\n",
       "secondary_cleaner.state.floatbank5_a_air                 1\n",
       "secondary_cleaner.state.floatbank5_a_level               1\n",
       "secondary_cleaner.state.floatbank5_b_air                 1\n",
       "secondary_cleaner.state.floatbank5_b_level               1\n",
       "secondary_cleaner.state.floatbank6_a_air                 2\n",
       "secondary_cleaner.state.floatbank6_a_level               1\n",
       "dtype: int64"
      ]
     },
     "metadata": {},
     "output_type": "display_data"
    },
    {
     "name": "stdout",
     "output_type": "stream",
     "text": [
      "\n",
      "\n",
      "\n",
      "Количество дубликатов в данных\n",
      "0\n"
     ]
    }
   ],
   "source": [
    "data_summary(df_train)"
   ]
  },
  {
   "cell_type": "markdown",
   "metadata": {},
   "source": [
    "#### Тестовая выборка"
   ]
  },
  {
   "cell_type": "code",
   "execution_count": 6,
   "metadata": {},
   "outputs": [
    {
     "name": "stdout",
     "output_type": "stream",
     "text": [
      "Информация по датасету:\n",
      "<class 'pandas.core.frame.DataFrame'>\n",
      "RangeIndex: 5290 entries, 0 to 5289\n",
      "Data columns (total 53 columns):\n",
      " #   Column                                      Non-Null Count  Dtype  \n",
      "---  ------                                      --------------  -----  \n",
      " 0   date                                        5290 non-null   object \n",
      " 1   primary_cleaner.input.sulfate               5286 non-null   float64\n",
      " 2   primary_cleaner.input.depressant            5285 non-null   float64\n",
      " 3   primary_cleaner.input.feed_size             5290 non-null   float64\n",
      " 4   primary_cleaner.input.xanthate              5286 non-null   float64\n",
      " 5   primary_cleaner.state.floatbank8_a_air      5290 non-null   float64\n",
      " 6   primary_cleaner.state.floatbank8_a_level    5290 non-null   float64\n",
      " 7   primary_cleaner.state.floatbank8_b_air      5290 non-null   float64\n",
      " 8   primary_cleaner.state.floatbank8_b_level    5290 non-null   float64\n",
      " 9   primary_cleaner.state.floatbank8_c_air      5290 non-null   float64\n",
      " 10  primary_cleaner.state.floatbank8_c_level    5290 non-null   float64\n",
      " 11  primary_cleaner.state.floatbank8_d_air      5290 non-null   float64\n",
      " 12  primary_cleaner.state.floatbank8_d_level    5290 non-null   float64\n",
      " 13  rougher.input.feed_ag                       5290 non-null   float64\n",
      " 14  rougher.input.feed_pb                       5290 non-null   float64\n",
      " 15  rougher.input.feed_rate                     5287 non-null   float64\n",
      " 16  rougher.input.feed_size                     5289 non-null   float64\n",
      " 17  rougher.input.feed_sol                      5269 non-null   float64\n",
      " 18  rougher.input.feed_au                       5290 non-null   float64\n",
      " 19  rougher.input.floatbank10_sulfate           5285 non-null   float64\n",
      " 20  rougher.input.floatbank10_xanthate          5290 non-null   float64\n",
      " 21  rougher.input.floatbank11_sulfate           5282 non-null   float64\n",
      " 22  rougher.input.floatbank11_xanthate          5265 non-null   float64\n",
      " 23  rougher.state.floatbank10_a_air             5290 non-null   float64\n",
      " 24  rougher.state.floatbank10_a_level           5290 non-null   float64\n",
      " 25  rougher.state.floatbank10_b_air             5290 non-null   float64\n",
      " 26  rougher.state.floatbank10_b_level           5290 non-null   float64\n",
      " 27  rougher.state.floatbank10_c_air             5290 non-null   float64\n",
      " 28  rougher.state.floatbank10_c_level           5290 non-null   float64\n",
      " 29  rougher.state.floatbank10_d_air             5290 non-null   float64\n",
      " 30  rougher.state.floatbank10_d_level           5290 non-null   float64\n",
      " 31  rougher.state.floatbank10_e_air             5290 non-null   float64\n",
      " 32  rougher.state.floatbank10_e_level           5290 non-null   float64\n",
      " 33  rougher.state.floatbank10_f_air             5290 non-null   float64\n",
      " 34  rougher.state.floatbank10_f_level           5290 non-null   float64\n",
      " 35  secondary_cleaner.state.floatbank2_a_air    5287 non-null   float64\n",
      " 36  secondary_cleaner.state.floatbank2_a_level  5290 non-null   float64\n",
      " 37  secondary_cleaner.state.floatbank2_b_air    5288 non-null   float64\n",
      " 38  secondary_cleaner.state.floatbank2_b_level  5290 non-null   float64\n",
      " 39  secondary_cleaner.state.floatbank3_a_air    5281 non-null   float64\n",
      " 40  secondary_cleaner.state.floatbank3_a_level  5290 non-null   float64\n",
      " 41  secondary_cleaner.state.floatbank3_b_air    5290 non-null   float64\n",
      " 42  secondary_cleaner.state.floatbank3_b_level  5290 non-null   float64\n",
      " 43  secondary_cleaner.state.floatbank4_a_air    5290 non-null   float64\n",
      " 44  secondary_cleaner.state.floatbank4_a_level  5290 non-null   float64\n",
      " 45  secondary_cleaner.state.floatbank4_b_air    5290 non-null   float64\n",
      " 46  secondary_cleaner.state.floatbank4_b_level  5290 non-null   float64\n",
      " 47  secondary_cleaner.state.floatbank5_a_air    5290 non-null   float64\n",
      " 48  secondary_cleaner.state.floatbank5_a_level  5290 non-null   float64\n",
      " 49  secondary_cleaner.state.floatbank5_b_air    5290 non-null   float64\n",
      " 50  secondary_cleaner.state.floatbank5_b_level  5290 non-null   float64\n",
      " 51  secondary_cleaner.state.floatbank6_a_air    5290 non-null   float64\n",
      " 52  secondary_cleaner.state.floatbank6_a_level  5290 non-null   float64\n",
      "dtypes: float64(52), object(1)\n",
      "memory usage: 2.1+ MB\n",
      "\n",
      "\n",
      "\n",
      "Первые 5 строк\n"
     ]
    },
    {
     "data": {
      "text/html": [
       "<div>\n",
       "<style scoped>\n",
       "    .dataframe tbody tr th:only-of-type {\n",
       "        vertical-align: middle;\n",
       "    }\n",
       "\n",
       "    .dataframe tbody tr th {\n",
       "        vertical-align: top;\n",
       "    }\n",
       "\n",
       "    .dataframe thead th {\n",
       "        text-align: right;\n",
       "    }\n",
       "</style>\n",
       "<table border=\"1\" class=\"dataframe\">\n",
       "  <thead>\n",
       "    <tr style=\"text-align: right;\">\n",
       "      <th></th>\n",
       "      <th>date</th>\n",
       "      <th>primary_cleaner.input.sulfate</th>\n",
       "      <th>primary_cleaner.input.depressant</th>\n",
       "      <th>primary_cleaner.input.feed_size</th>\n",
       "      <th>primary_cleaner.input.xanthate</th>\n",
       "      <th>primary_cleaner.state.floatbank8_a_air</th>\n",
       "      <th>primary_cleaner.state.floatbank8_a_level</th>\n",
       "      <th>primary_cleaner.state.floatbank8_b_air</th>\n",
       "      <th>primary_cleaner.state.floatbank8_b_level</th>\n",
       "      <th>primary_cleaner.state.floatbank8_c_air</th>\n",
       "      <th>primary_cleaner.state.floatbank8_c_level</th>\n",
       "      <th>primary_cleaner.state.floatbank8_d_air</th>\n",
       "      <th>primary_cleaner.state.floatbank8_d_level</th>\n",
       "      <th>rougher.input.feed_ag</th>\n",
       "      <th>rougher.input.feed_pb</th>\n",
       "      <th>rougher.input.feed_rate</th>\n",
       "      <th>rougher.input.feed_size</th>\n",
       "      <th>rougher.input.feed_sol</th>\n",
       "      <th>rougher.input.feed_au</th>\n",
       "      <th>rougher.input.floatbank10_sulfate</th>\n",
       "      <th>rougher.input.floatbank10_xanthate</th>\n",
       "      <th>rougher.input.floatbank11_sulfate</th>\n",
       "      <th>rougher.input.floatbank11_xanthate</th>\n",
       "      <th>rougher.state.floatbank10_a_air</th>\n",
       "      <th>rougher.state.floatbank10_a_level</th>\n",
       "      <th>rougher.state.floatbank10_b_air</th>\n",
       "      <th>rougher.state.floatbank10_b_level</th>\n",
       "      <th>rougher.state.floatbank10_c_air</th>\n",
       "      <th>rougher.state.floatbank10_c_level</th>\n",
       "      <th>rougher.state.floatbank10_d_air</th>\n",
       "      <th>rougher.state.floatbank10_d_level</th>\n",
       "      <th>rougher.state.floatbank10_e_air</th>\n",
       "      <th>rougher.state.floatbank10_e_level</th>\n",
       "      <th>rougher.state.floatbank10_f_air</th>\n",
       "      <th>rougher.state.floatbank10_f_level</th>\n",
       "      <th>secondary_cleaner.state.floatbank2_a_air</th>\n",
       "      <th>secondary_cleaner.state.floatbank2_a_level</th>\n",
       "      <th>secondary_cleaner.state.floatbank2_b_air</th>\n",
       "      <th>secondary_cleaner.state.floatbank2_b_level</th>\n",
       "      <th>secondary_cleaner.state.floatbank3_a_air</th>\n",
       "      <th>secondary_cleaner.state.floatbank3_a_level</th>\n",
       "      <th>secondary_cleaner.state.floatbank3_b_air</th>\n",
       "      <th>secondary_cleaner.state.floatbank3_b_level</th>\n",
       "      <th>secondary_cleaner.state.floatbank4_a_air</th>\n",
       "      <th>secondary_cleaner.state.floatbank4_a_level</th>\n",
       "      <th>secondary_cleaner.state.floatbank4_b_air</th>\n",
       "      <th>secondary_cleaner.state.floatbank4_b_level</th>\n",
       "      <th>secondary_cleaner.state.floatbank5_a_air</th>\n",
       "      <th>secondary_cleaner.state.floatbank5_a_level</th>\n",
       "      <th>secondary_cleaner.state.floatbank5_b_air</th>\n",
       "      <th>secondary_cleaner.state.floatbank5_b_level</th>\n",
       "      <th>secondary_cleaner.state.floatbank6_a_air</th>\n",
       "      <th>secondary_cleaner.state.floatbank6_a_level</th>\n",
       "    </tr>\n",
       "  </thead>\n",
       "  <tbody>\n",
       "    <tr>\n",
       "      <th>0</th>\n",
       "      <td>2016-09-01 00:59:59</td>\n",
       "      <td>210.800909</td>\n",
       "      <td>14.993118</td>\n",
       "      <td>8.080000</td>\n",
       "      <td>1.005021</td>\n",
       "      <td>1398.981301</td>\n",
       "      <td>-500.225577</td>\n",
       "      <td>1399.144926</td>\n",
       "      <td>-499.919735</td>\n",
       "      <td>1400.102998</td>\n",
       "      <td>-500.704369</td>\n",
       "      <td>1399.001695</td>\n",
       "      <td>-499.485144</td>\n",
       "      <td>13.128569</td>\n",
       "      <td>5.636710</td>\n",
       "      <td>489.793655</td>\n",
       "      <td>62.710452</td>\n",
       "      <td>42.022440</td>\n",
       "      <td>12.084103</td>\n",
       "      <td>16.922877</td>\n",
       "      <td>6.153479</td>\n",
       "      <td>16.867518</td>\n",
       "      <td>6.150709</td>\n",
       "      <td>1001.849317</td>\n",
       "      <td>-350.301265</td>\n",
       "      <td>1249.738612</td>\n",
       "      <td>-399.107531</td>\n",
       "      <td>1249.750520</td>\n",
       "      <td>-399.396730</td>\n",
       "      <td>1198.287855</td>\n",
       "      <td>-399.488594</td>\n",
       "      <td>999.472250</td>\n",
       "      <td>-399.530962</td>\n",
       "      <td>949.566189</td>\n",
       "      <td>-398.180807</td>\n",
       "      <td>24.938200</td>\n",
       "      <td>-500.490963</td>\n",
       "      <td>14.947607</td>\n",
       "      <td>-500.013837</td>\n",
       "      <td>20.018166</td>\n",
       "      <td>-450.395995</td>\n",
       "      <td>13.987058</td>\n",
       "      <td>-449.831513</td>\n",
       "      <td>12.023554</td>\n",
       "      <td>-497.795834</td>\n",
       "      <td>8.016656</td>\n",
       "      <td>-501.289139</td>\n",
       "      <td>7.946562</td>\n",
       "      <td>-432.317850</td>\n",
       "      <td>4.872511</td>\n",
       "      <td>-500.037437</td>\n",
       "      <td>26.705889</td>\n",
       "      <td>-499.709414</td>\n",
       "    </tr>\n",
       "    <tr>\n",
       "      <th>1</th>\n",
       "      <td>2016-09-01 01:59:59</td>\n",
       "      <td>215.392455</td>\n",
       "      <td>14.987471</td>\n",
       "      <td>8.080000</td>\n",
       "      <td>0.990469</td>\n",
       "      <td>1398.777912</td>\n",
       "      <td>-500.057435</td>\n",
       "      <td>1398.055362</td>\n",
       "      <td>-499.778182</td>\n",
       "      <td>1396.151033</td>\n",
       "      <td>-499.240168</td>\n",
       "      <td>1399.508091</td>\n",
       "      <td>-500.416324</td>\n",
       "      <td>13.036280</td>\n",
       "      <td>5.526065</td>\n",
       "      <td>490.104534</td>\n",
       "      <td>61.961163</td>\n",
       "      <td>41.187903</td>\n",
       "      <td>11.918977</td>\n",
       "      <td>17.002532</td>\n",
       "      <td>5.999043</td>\n",
       "      <td>16.996063</td>\n",
       "      <td>6.002315</td>\n",
       "      <td>998.690785</td>\n",
       "      <td>-350.425704</td>\n",
       "      <td>1248.395457</td>\n",
       "      <td>-399.946025</td>\n",
       "      <td>1249.514451</td>\n",
       "      <td>-399.630810</td>\n",
       "      <td>1200.506459</td>\n",
       "      <td>-399.942434</td>\n",
       "      <td>1000.002114</td>\n",
       "      <td>-399.491528</td>\n",
       "      <td>950.200009</td>\n",
       "      <td>-405.787514</td>\n",
       "      <td>24.923466</td>\n",
       "      <td>-499.813963</td>\n",
       "      <td>14.930873</td>\n",
       "      <td>-500.764452</td>\n",
       "      <td>19.988503</td>\n",
       "      <td>-450.114024</td>\n",
       "      <td>14.092981</td>\n",
       "      <td>-450.059163</td>\n",
       "      <td>12.058140</td>\n",
       "      <td>-498.695773</td>\n",
       "      <td>8.130979</td>\n",
       "      <td>-499.634209</td>\n",
       "      <td>7.958270</td>\n",
       "      <td>-525.839648</td>\n",
       "      <td>4.878850</td>\n",
       "      <td>-500.162375</td>\n",
       "      <td>25.019940</td>\n",
       "      <td>-499.819438</td>\n",
       "    </tr>\n",
       "    <tr>\n",
       "      <th>2</th>\n",
       "      <td>2016-09-01 02:59:59</td>\n",
       "      <td>215.259946</td>\n",
       "      <td>12.884934</td>\n",
       "      <td>7.786667</td>\n",
       "      <td>0.996043</td>\n",
       "      <td>1398.493666</td>\n",
       "      <td>-500.868360</td>\n",
       "      <td>1398.860436</td>\n",
       "      <td>-499.764529</td>\n",
       "      <td>1398.075709</td>\n",
       "      <td>-502.151509</td>\n",
       "      <td>1399.497088</td>\n",
       "      <td>-499.715479</td>\n",
       "      <td>13.138412</td>\n",
       "      <td>5.426561</td>\n",
       "      <td>489.617969</td>\n",
       "      <td>66.903807</td>\n",
       "      <td>42.546294</td>\n",
       "      <td>12.091332</td>\n",
       "      <td>16.992520</td>\n",
       "      <td>5.850632</td>\n",
       "      <td>16.982096</td>\n",
       "      <td>5.853594</td>\n",
       "      <td>998.516720</td>\n",
       "      <td>-349.783538</td>\n",
       "      <td>1247.440748</td>\n",
       "      <td>-400.264330</td>\n",
       "      <td>1248.207204</td>\n",
       "      <td>-401.074405</td>\n",
       "      <td>1199.770026</td>\n",
       "      <td>-400.790582</td>\n",
       "      <td>999.925519</td>\n",
       "      <td>-399.236999</td>\n",
       "      <td>950.320481</td>\n",
       "      <td>-400.864340</td>\n",
       "      <td>24.908732</td>\n",
       "      <td>-500.304035</td>\n",
       "      <td>14.996511</td>\n",
       "      <td>-500.993821</td>\n",
       "      <td>20.039689</td>\n",
       "      <td>-450.263164</td>\n",
       "      <td>14.077881</td>\n",
       "      <td>-449.660997</td>\n",
       "      <td>11.962366</td>\n",
       "      <td>-498.767484</td>\n",
       "      <td>8.096893</td>\n",
       "      <td>-500.827423</td>\n",
       "      <td>8.071056</td>\n",
       "      <td>-500.801673</td>\n",
       "      <td>4.905125</td>\n",
       "      <td>-499.828510</td>\n",
       "      <td>24.994862</td>\n",
       "      <td>-500.622559</td>\n",
       "    </tr>\n",
       "    <tr>\n",
       "      <th>3</th>\n",
       "      <td>2016-09-01 03:59:59</td>\n",
       "      <td>215.336236</td>\n",
       "      <td>12.006805</td>\n",
       "      <td>7.640000</td>\n",
       "      <td>0.863514</td>\n",
       "      <td>1399.618111</td>\n",
       "      <td>-498.863574</td>\n",
       "      <td>1397.440120</td>\n",
       "      <td>-499.211024</td>\n",
       "      <td>1400.129303</td>\n",
       "      <td>-498.355873</td>\n",
       "      <td>1401.065165</td>\n",
       "      <td>-501.038738</td>\n",
       "      <td>12.400507</td>\n",
       "      <td>5.114758</td>\n",
       "      <td>476.618130</td>\n",
       "      <td>59.865919</td>\n",
       "      <td>41.060195</td>\n",
       "      <td>12.181597</td>\n",
       "      <td>16.532144</td>\n",
       "      <td>5.801935</td>\n",
       "      <td>16.515277</td>\n",
       "      <td>5.803657</td>\n",
       "      <td>1000.276604</td>\n",
       "      <td>-350.172597</td>\n",
       "      <td>1251.322675</td>\n",
       "      <td>-398.655289</td>\n",
       "      <td>1250.493702</td>\n",
       "      <td>-399.746728</td>\n",
       "      <td>1199.398691</td>\n",
       "      <td>-397.503052</td>\n",
       "      <td>1001.930679</td>\n",
       "      <td>-400.437573</td>\n",
       "      <td>950.735324</td>\n",
       "      <td>-399.802986</td>\n",
       "      <td>24.893998</td>\n",
       "      <td>-499.382374</td>\n",
       "      <td>14.916674</td>\n",
       "      <td>-499.862299</td>\n",
       "      <td>20.031100</td>\n",
       "      <td>-449.372570</td>\n",
       "      <td>14.013968</td>\n",
       "      <td>-449.526900</td>\n",
       "      <td>12.033091</td>\n",
       "      <td>-498.350935</td>\n",
       "      <td>8.074946</td>\n",
       "      <td>-499.474407</td>\n",
       "      <td>7.897085</td>\n",
       "      <td>-500.868509</td>\n",
       "      <td>4.931400</td>\n",
       "      <td>-499.963623</td>\n",
       "      <td>24.948919</td>\n",
       "      <td>-498.709987</td>\n",
       "    </tr>\n",
       "    <tr>\n",
       "      <th>4</th>\n",
       "      <td>2016-09-01 04:59:59</td>\n",
       "      <td>199.099327</td>\n",
       "      <td>10.682530</td>\n",
       "      <td>7.530000</td>\n",
       "      <td>0.805575</td>\n",
       "      <td>1401.268123</td>\n",
       "      <td>-500.808305</td>\n",
       "      <td>1398.128818</td>\n",
       "      <td>-499.504543</td>\n",
       "      <td>1402.172226</td>\n",
       "      <td>-500.810606</td>\n",
       "      <td>1399.480508</td>\n",
       "      <td>-499.374053</td>\n",
       "      <td>11.327427</td>\n",
       "      <td>4.767383</td>\n",
       "      <td>488.248117</td>\n",
       "      <td>63.315324</td>\n",
       "      <td>41.269161</td>\n",
       "      <td>11.290425</td>\n",
       "      <td>13.607257</td>\n",
       "      <td>5.738081</td>\n",
       "      <td>13.650053</td>\n",
       "      <td>5.739634</td>\n",
       "      <td>996.541302</td>\n",
       "      <td>-350.562517</td>\n",
       "      <td>1304.658848</td>\n",
       "      <td>-399.511519</td>\n",
       "      <td>1306.455515</td>\n",
       "      <td>-399.050685</td>\n",
       "      <td>1248.699349</td>\n",
       "      <td>-400.876894</td>\n",
       "      <td>1058.839106</td>\n",
       "      <td>-398.988239</td>\n",
       "      <td>949.645313</td>\n",
       "      <td>-399.277632</td>\n",
       "      <td>24.886905</td>\n",
       "      <td>-499.357375</td>\n",
       "      <td>14.979233</td>\n",
       "      <td>-500.186804</td>\n",
       "      <td>19.962364</td>\n",
       "      <td>-450.638828</td>\n",
       "      <td>14.009245</td>\n",
       "      <td>-450.022259</td>\n",
       "      <td>12.025367</td>\n",
       "      <td>-500.786497</td>\n",
       "      <td>8.054678</td>\n",
       "      <td>-500.397500</td>\n",
       "      <td>8.107890</td>\n",
       "      <td>-509.526725</td>\n",
       "      <td>4.957674</td>\n",
       "      <td>-500.360026</td>\n",
       "      <td>25.003331</td>\n",
       "      <td>-500.856333</td>\n",
       "    </tr>\n",
       "  </tbody>\n",
       "</table>\n",
       "</div>"
      ],
      "text/plain": [
       "                  date  primary_cleaner.input.sulfate  \\\n",
       "0  2016-09-01 00:59:59                     210.800909   \n",
       "1  2016-09-01 01:59:59                     215.392455   \n",
       "2  2016-09-01 02:59:59                     215.259946   \n",
       "3  2016-09-01 03:59:59                     215.336236   \n",
       "4  2016-09-01 04:59:59                     199.099327   \n",
       "\n",
       "   primary_cleaner.input.depressant  primary_cleaner.input.feed_size  \\\n",
       "0                         14.993118                         8.080000   \n",
       "1                         14.987471                         8.080000   \n",
       "2                         12.884934                         7.786667   \n",
       "3                         12.006805                         7.640000   \n",
       "4                         10.682530                         7.530000   \n",
       "\n",
       "   primary_cleaner.input.xanthate  primary_cleaner.state.floatbank8_a_air  \\\n",
       "0                        1.005021                             1398.981301   \n",
       "1                        0.990469                             1398.777912   \n",
       "2                        0.996043                             1398.493666   \n",
       "3                        0.863514                             1399.618111   \n",
       "4                        0.805575                             1401.268123   \n",
       "\n",
       "   primary_cleaner.state.floatbank8_a_level  \\\n",
       "0                               -500.225577   \n",
       "1                               -500.057435   \n",
       "2                               -500.868360   \n",
       "3                               -498.863574   \n",
       "4                               -500.808305   \n",
       "\n",
       "   primary_cleaner.state.floatbank8_b_air  \\\n",
       "0                             1399.144926   \n",
       "1                             1398.055362   \n",
       "2                             1398.860436   \n",
       "3                             1397.440120   \n",
       "4                             1398.128818   \n",
       "\n",
       "   primary_cleaner.state.floatbank8_b_level  \\\n",
       "0                               -499.919735   \n",
       "1                               -499.778182   \n",
       "2                               -499.764529   \n",
       "3                               -499.211024   \n",
       "4                               -499.504543   \n",
       "\n",
       "   primary_cleaner.state.floatbank8_c_air  \\\n",
       "0                             1400.102998   \n",
       "1                             1396.151033   \n",
       "2                             1398.075709   \n",
       "3                             1400.129303   \n",
       "4                             1402.172226   \n",
       "\n",
       "   primary_cleaner.state.floatbank8_c_level  \\\n",
       "0                               -500.704369   \n",
       "1                               -499.240168   \n",
       "2                               -502.151509   \n",
       "3                               -498.355873   \n",
       "4                               -500.810606   \n",
       "\n",
       "   primary_cleaner.state.floatbank8_d_air  \\\n",
       "0                             1399.001695   \n",
       "1                             1399.508091   \n",
       "2                             1399.497088   \n",
       "3                             1401.065165   \n",
       "4                             1399.480508   \n",
       "\n",
       "   primary_cleaner.state.floatbank8_d_level  rougher.input.feed_ag  \\\n",
       "0                               -499.485144              13.128569   \n",
       "1                               -500.416324              13.036280   \n",
       "2                               -499.715479              13.138412   \n",
       "3                               -501.038738              12.400507   \n",
       "4                               -499.374053              11.327427   \n",
       "\n",
       "   rougher.input.feed_pb  rougher.input.feed_rate  rougher.input.feed_size  \\\n",
       "0               5.636710               489.793655                62.710452   \n",
       "1               5.526065               490.104534                61.961163   \n",
       "2               5.426561               489.617969                66.903807   \n",
       "3               5.114758               476.618130                59.865919   \n",
       "4               4.767383               488.248117                63.315324   \n",
       "\n",
       "   rougher.input.feed_sol  rougher.input.feed_au  \\\n",
       "0               42.022440              12.084103   \n",
       "1               41.187903              11.918977   \n",
       "2               42.546294              12.091332   \n",
       "3               41.060195              12.181597   \n",
       "4               41.269161              11.290425   \n",
       "\n",
       "   rougher.input.floatbank10_sulfate  rougher.input.floatbank10_xanthate  \\\n",
       "0                          16.922877                            6.153479   \n",
       "1                          17.002532                            5.999043   \n",
       "2                          16.992520                            5.850632   \n",
       "3                          16.532144                            5.801935   \n",
       "4                          13.607257                            5.738081   \n",
       "\n",
       "   rougher.input.floatbank11_sulfate  rougher.input.floatbank11_xanthate  \\\n",
       "0                          16.867518                            6.150709   \n",
       "1                          16.996063                            6.002315   \n",
       "2                          16.982096                            5.853594   \n",
       "3                          16.515277                            5.803657   \n",
       "4                          13.650053                            5.739634   \n",
       "\n",
       "   rougher.state.floatbank10_a_air  rougher.state.floatbank10_a_level  \\\n",
       "0                      1001.849317                        -350.301265   \n",
       "1                       998.690785                        -350.425704   \n",
       "2                       998.516720                        -349.783538   \n",
       "3                      1000.276604                        -350.172597   \n",
       "4                       996.541302                        -350.562517   \n",
       "\n",
       "   rougher.state.floatbank10_b_air  rougher.state.floatbank10_b_level  \\\n",
       "0                      1249.738612                        -399.107531   \n",
       "1                      1248.395457                        -399.946025   \n",
       "2                      1247.440748                        -400.264330   \n",
       "3                      1251.322675                        -398.655289   \n",
       "4                      1304.658848                        -399.511519   \n",
       "\n",
       "   rougher.state.floatbank10_c_air  rougher.state.floatbank10_c_level  \\\n",
       "0                      1249.750520                        -399.396730   \n",
       "1                      1249.514451                        -399.630810   \n",
       "2                      1248.207204                        -401.074405   \n",
       "3                      1250.493702                        -399.746728   \n",
       "4                      1306.455515                        -399.050685   \n",
       "\n",
       "   rougher.state.floatbank10_d_air  rougher.state.floatbank10_d_level  \\\n",
       "0                      1198.287855                        -399.488594   \n",
       "1                      1200.506459                        -399.942434   \n",
       "2                      1199.770026                        -400.790582   \n",
       "3                      1199.398691                        -397.503052   \n",
       "4                      1248.699349                        -400.876894   \n",
       "\n",
       "   rougher.state.floatbank10_e_air  rougher.state.floatbank10_e_level  \\\n",
       "0                       999.472250                        -399.530962   \n",
       "1                      1000.002114                        -399.491528   \n",
       "2                       999.925519                        -399.236999   \n",
       "3                      1001.930679                        -400.437573   \n",
       "4                      1058.839106                        -398.988239   \n",
       "\n",
       "   rougher.state.floatbank10_f_air  rougher.state.floatbank10_f_level  \\\n",
       "0                       949.566189                        -398.180807   \n",
       "1                       950.200009                        -405.787514   \n",
       "2                       950.320481                        -400.864340   \n",
       "3                       950.735324                        -399.802986   \n",
       "4                       949.645313                        -399.277632   \n",
       "\n",
       "   secondary_cleaner.state.floatbank2_a_air  \\\n",
       "0                                 24.938200   \n",
       "1                                 24.923466   \n",
       "2                                 24.908732   \n",
       "3                                 24.893998   \n",
       "4                                 24.886905   \n",
       "\n",
       "   secondary_cleaner.state.floatbank2_a_level  \\\n",
       "0                                 -500.490963   \n",
       "1                                 -499.813963   \n",
       "2                                 -500.304035   \n",
       "3                                 -499.382374   \n",
       "4                                 -499.357375   \n",
       "\n",
       "   secondary_cleaner.state.floatbank2_b_air  \\\n",
       "0                                 14.947607   \n",
       "1                                 14.930873   \n",
       "2                                 14.996511   \n",
       "3                                 14.916674   \n",
       "4                                 14.979233   \n",
       "\n",
       "   secondary_cleaner.state.floatbank2_b_level  \\\n",
       "0                                 -500.013837   \n",
       "1                                 -500.764452   \n",
       "2                                 -500.993821   \n",
       "3                                 -499.862299   \n",
       "4                                 -500.186804   \n",
       "\n",
       "   secondary_cleaner.state.floatbank3_a_air  \\\n",
       "0                                 20.018166   \n",
       "1                                 19.988503   \n",
       "2                                 20.039689   \n",
       "3                                 20.031100   \n",
       "4                                 19.962364   \n",
       "\n",
       "   secondary_cleaner.state.floatbank3_a_level  \\\n",
       "0                                 -450.395995   \n",
       "1                                 -450.114024   \n",
       "2                                 -450.263164   \n",
       "3                                 -449.372570   \n",
       "4                                 -450.638828   \n",
       "\n",
       "   secondary_cleaner.state.floatbank3_b_air  \\\n",
       "0                                 13.987058   \n",
       "1                                 14.092981   \n",
       "2                                 14.077881   \n",
       "3                                 14.013968   \n",
       "4                                 14.009245   \n",
       "\n",
       "   secondary_cleaner.state.floatbank3_b_level  \\\n",
       "0                                 -449.831513   \n",
       "1                                 -450.059163   \n",
       "2                                 -449.660997   \n",
       "3                                 -449.526900   \n",
       "4                                 -450.022259   \n",
       "\n",
       "   secondary_cleaner.state.floatbank4_a_air  \\\n",
       "0                                 12.023554   \n",
       "1                                 12.058140   \n",
       "2                                 11.962366   \n",
       "3                                 12.033091   \n",
       "4                                 12.025367   \n",
       "\n",
       "   secondary_cleaner.state.floatbank4_a_level  \\\n",
       "0                                 -497.795834   \n",
       "1                                 -498.695773   \n",
       "2                                 -498.767484   \n",
       "3                                 -498.350935   \n",
       "4                                 -500.786497   \n",
       "\n",
       "   secondary_cleaner.state.floatbank4_b_air  \\\n",
       "0                                  8.016656   \n",
       "1                                  8.130979   \n",
       "2                                  8.096893   \n",
       "3                                  8.074946   \n",
       "4                                  8.054678   \n",
       "\n",
       "   secondary_cleaner.state.floatbank4_b_level  \\\n",
       "0                                 -501.289139   \n",
       "1                                 -499.634209   \n",
       "2                                 -500.827423   \n",
       "3                                 -499.474407   \n",
       "4                                 -500.397500   \n",
       "\n",
       "   secondary_cleaner.state.floatbank5_a_air  \\\n",
       "0                                  7.946562   \n",
       "1                                  7.958270   \n",
       "2                                  8.071056   \n",
       "3                                  7.897085   \n",
       "4                                  8.107890   \n",
       "\n",
       "   secondary_cleaner.state.floatbank5_a_level  \\\n",
       "0                                 -432.317850   \n",
       "1                                 -525.839648   \n",
       "2                                 -500.801673   \n",
       "3                                 -500.868509   \n",
       "4                                 -509.526725   \n",
       "\n",
       "   secondary_cleaner.state.floatbank5_b_air  \\\n",
       "0                                  4.872511   \n",
       "1                                  4.878850   \n",
       "2                                  4.905125   \n",
       "3                                  4.931400   \n",
       "4                                  4.957674   \n",
       "\n",
       "   secondary_cleaner.state.floatbank5_b_level  \\\n",
       "0                                 -500.037437   \n",
       "1                                 -500.162375   \n",
       "2                                 -499.828510   \n",
       "3                                 -499.963623   \n",
       "4                                 -500.360026   \n",
       "\n",
       "   secondary_cleaner.state.floatbank6_a_air  \\\n",
       "0                                 26.705889   \n",
       "1                                 25.019940   \n",
       "2                                 24.994862   \n",
       "3                                 24.948919   \n",
       "4                                 25.003331   \n",
       "\n",
       "   secondary_cleaner.state.floatbank6_a_level  \n",
       "0                                 -499.709414  \n",
       "1                                 -499.819438  \n",
       "2                                 -500.622559  \n",
       "3                                 -498.709987  \n",
       "4                                 -500.856333  "
      ]
     },
     "metadata": {},
     "output_type": "display_data"
    },
    {
     "name": "stdout",
     "output_type": "stream",
     "text": [
      "\n",
      "\n",
      "\n",
      "Статистики\n"
     ]
    },
    {
     "data": {
      "text/html": [
       "<div>\n",
       "<style scoped>\n",
       "    .dataframe tbody tr th:only-of-type {\n",
       "        vertical-align: middle;\n",
       "    }\n",
       "\n",
       "    .dataframe tbody tr th {\n",
       "        vertical-align: top;\n",
       "    }\n",
       "\n",
       "    .dataframe thead th {\n",
       "        text-align: right;\n",
       "    }\n",
       "</style>\n",
       "<table border=\"1\" class=\"dataframe\">\n",
       "  <thead>\n",
       "    <tr style=\"text-align: right;\">\n",
       "      <th></th>\n",
       "      <th>primary_cleaner.input.sulfate</th>\n",
       "      <th>primary_cleaner.input.depressant</th>\n",
       "      <th>primary_cleaner.input.feed_size</th>\n",
       "      <th>primary_cleaner.input.xanthate</th>\n",
       "      <th>primary_cleaner.state.floatbank8_a_air</th>\n",
       "      <th>primary_cleaner.state.floatbank8_a_level</th>\n",
       "      <th>primary_cleaner.state.floatbank8_b_air</th>\n",
       "      <th>primary_cleaner.state.floatbank8_b_level</th>\n",
       "      <th>primary_cleaner.state.floatbank8_c_air</th>\n",
       "      <th>primary_cleaner.state.floatbank8_c_level</th>\n",
       "      <th>primary_cleaner.state.floatbank8_d_air</th>\n",
       "      <th>primary_cleaner.state.floatbank8_d_level</th>\n",
       "      <th>rougher.input.feed_ag</th>\n",
       "      <th>rougher.input.feed_pb</th>\n",
       "      <th>rougher.input.feed_rate</th>\n",
       "      <th>rougher.input.feed_size</th>\n",
       "      <th>rougher.input.feed_sol</th>\n",
       "      <th>rougher.input.feed_au</th>\n",
       "      <th>rougher.input.floatbank10_sulfate</th>\n",
       "      <th>rougher.input.floatbank10_xanthate</th>\n",
       "      <th>rougher.input.floatbank11_sulfate</th>\n",
       "      <th>rougher.input.floatbank11_xanthate</th>\n",
       "      <th>rougher.state.floatbank10_a_air</th>\n",
       "      <th>rougher.state.floatbank10_a_level</th>\n",
       "      <th>rougher.state.floatbank10_b_air</th>\n",
       "      <th>rougher.state.floatbank10_b_level</th>\n",
       "      <th>rougher.state.floatbank10_c_air</th>\n",
       "      <th>rougher.state.floatbank10_c_level</th>\n",
       "      <th>rougher.state.floatbank10_d_air</th>\n",
       "      <th>rougher.state.floatbank10_d_level</th>\n",
       "      <th>rougher.state.floatbank10_e_air</th>\n",
       "      <th>rougher.state.floatbank10_e_level</th>\n",
       "      <th>rougher.state.floatbank10_f_air</th>\n",
       "      <th>rougher.state.floatbank10_f_level</th>\n",
       "      <th>secondary_cleaner.state.floatbank2_a_air</th>\n",
       "      <th>secondary_cleaner.state.floatbank2_a_level</th>\n",
       "      <th>secondary_cleaner.state.floatbank2_b_air</th>\n",
       "      <th>secondary_cleaner.state.floatbank2_b_level</th>\n",
       "      <th>secondary_cleaner.state.floatbank3_a_air</th>\n",
       "      <th>secondary_cleaner.state.floatbank3_a_level</th>\n",
       "      <th>secondary_cleaner.state.floatbank3_b_air</th>\n",
       "      <th>secondary_cleaner.state.floatbank3_b_level</th>\n",
       "      <th>secondary_cleaner.state.floatbank4_a_air</th>\n",
       "      <th>secondary_cleaner.state.floatbank4_a_level</th>\n",
       "      <th>secondary_cleaner.state.floatbank4_b_air</th>\n",
       "      <th>secondary_cleaner.state.floatbank4_b_level</th>\n",
       "      <th>secondary_cleaner.state.floatbank5_a_air</th>\n",
       "      <th>secondary_cleaner.state.floatbank5_a_level</th>\n",
       "      <th>secondary_cleaner.state.floatbank5_b_air</th>\n",
       "      <th>secondary_cleaner.state.floatbank5_b_level</th>\n",
       "      <th>secondary_cleaner.state.floatbank6_a_air</th>\n",
       "      <th>secondary_cleaner.state.floatbank6_a_level</th>\n",
       "    </tr>\n",
       "  </thead>\n",
       "  <tbody>\n",
       "    <tr>\n",
       "      <th>count</th>\n",
       "      <td>5286.000000</td>\n",
       "      <td>5285.000000</td>\n",
       "      <td>5290.000000</td>\n",
       "      <td>5286.000000</td>\n",
       "      <td>5.290000e+03</td>\n",
       "      <td>5290.000000</td>\n",
       "      <td>5.290000e+03</td>\n",
       "      <td>5290.000000</td>\n",
       "      <td>5.290000e+03</td>\n",
       "      <td>5290.000000</td>\n",
       "      <td>5.290000e+03</td>\n",
       "      <td>5290.000000</td>\n",
       "      <td>5290.000000</td>\n",
       "      <td>5290.000000</td>\n",
       "      <td>5287.000000</td>\n",
       "      <td>5289.000000</td>\n",
       "      <td>5269.000000</td>\n",
       "      <td>5290.000000</td>\n",
       "      <td>5285.000000</td>\n",
       "      <td>5290.000000</td>\n",
       "      <td>5282.000000</td>\n",
       "      <td>5265.000000</td>\n",
       "      <td>5290.000000</td>\n",
       "      <td>5290.000000</td>\n",
       "      <td>5290.000000</td>\n",
       "      <td>5290.000000</td>\n",
       "      <td>5290.000000</td>\n",
       "      <td>5290.000000</td>\n",
       "      <td>5290.000000</td>\n",
       "      <td>5290.000000</td>\n",
       "      <td>5290.000000</td>\n",
       "      <td>5290.000000</td>\n",
       "      <td>5290.000000</td>\n",
       "      <td>5290.000000</td>\n",
       "      <td>5287.000000</td>\n",
       "      <td>5290.000000</td>\n",
       "      <td>5288.000000</td>\n",
       "      <td>5290.000000</td>\n",
       "      <td>5281.000000</td>\n",
       "      <td>5290.000000</td>\n",
       "      <td>5.290000e+03</td>\n",
       "      <td>5290.000000</td>\n",
       "      <td>5.290000e+03</td>\n",
       "      <td>5290.000000</td>\n",
       "      <td>5.290000e+03</td>\n",
       "      <td>5290.000000</td>\n",
       "      <td>5290.000000</td>\n",
       "      <td>5290.000000</td>\n",
       "      <td>5290.000000</td>\n",
       "      <td>5290.000000</td>\n",
       "      <td>5290.000000</td>\n",
       "      <td>5290.000000</td>\n",
       "    </tr>\n",
       "    <tr>\n",
       "      <th>mean</th>\n",
       "      <td>174.839652</td>\n",
       "      <td>8.683596</td>\n",
       "      <td>7.266339</td>\n",
       "      <td>1.383803</td>\n",
       "      <td>1.539494e+03</td>\n",
       "      <td>-497.665883</td>\n",
       "      <td>1.545174e+03</td>\n",
       "      <td>-500.273098</td>\n",
       "      <td>1.527272e+03</td>\n",
       "      <td>-498.330680</td>\n",
       "      <td>1.544844e+03</td>\n",
       "      <td>-500.199527</td>\n",
       "      <td>9.371940</td>\n",
       "      <td>3.798082</td>\n",
       "      <td>489.800620</td>\n",
       "      <td>55.951097</td>\n",
       "      <td>37.716648</td>\n",
       "      <td>9.334682</td>\n",
       "      <td>13.855759</td>\n",
       "      <td>6.467745</td>\n",
       "      <td>13.922328</td>\n",
       "      <td>6.512103</td>\n",
       "      <td>1053.400166</td>\n",
       "      <td>-395.732530</td>\n",
       "      <td>1318.926879</td>\n",
       "      <td>-475.241428</td>\n",
       "      <td>1301.595477</td>\n",
       "      <td>-474.836671</td>\n",
       "      <td>1214.847960</td>\n",
       "      <td>-475.682272</td>\n",
       "      <td>1056.648995</td>\n",
       "      <td>-469.029688</td>\n",
       "      <td>997.949719</td>\n",
       "      <td>-470.482465</td>\n",
       "      <td>26.312630</td>\n",
       "      <td>-502.750897</td>\n",
       "      <td>21.949119</td>\n",
       "      <td>-501.987097</td>\n",
       "      <td>25.402926</td>\n",
       "      <td>-507.490314</td>\n",
       "      <td>2.098211e+01</td>\n",
       "      <td>-506.627916</td>\n",
       "      <td>1.632007e+01</td>\n",
       "      <td>-505.144570</td>\n",
       "      <td>1.373544e+01</td>\n",
       "      <td>-463.349858</td>\n",
       "      <td>12.804186</td>\n",
       "      <td>-501.329122</td>\n",
       "      <td>9.881145</td>\n",
       "      <td>-495.663398</td>\n",
       "      <td>17.304935</td>\n",
       "      <td>-501.793193</td>\n",
       "    </tr>\n",
       "    <tr>\n",
       "      <th>std</th>\n",
       "      <td>43.027080</td>\n",
       "      <td>3.072050</td>\n",
       "      <td>0.610219</td>\n",
       "      <td>0.643474</td>\n",
       "      <td>1.167979e+02</td>\n",
       "      <td>19.952431</td>\n",
       "      <td>1.222246e+02</td>\n",
       "      <td>32.968307</td>\n",
       "      <td>1.225380e+02</td>\n",
       "      <td>21.964876</td>\n",
       "      <td>1.247731e+02</td>\n",
       "      <td>31.045257</td>\n",
       "      <td>1.926264</td>\n",
       "      <td>0.954859</td>\n",
       "      <td>108.036326</td>\n",
       "      <td>19.081758</td>\n",
       "      <td>5.491415</td>\n",
       "      <td>1.619521</td>\n",
       "      <td>3.350852</td>\n",
       "      <td>1.065114</td>\n",
       "      <td>3.223769</td>\n",
       "      <td>0.886989</td>\n",
       "      <td>121.139309</td>\n",
       "      <td>91.085505</td>\n",
       "      <td>156.450366</td>\n",
       "      <td>45.649466</td>\n",
       "      <td>171.269667</td>\n",
       "      <td>45.859866</td>\n",
       "      <td>185.763319</td>\n",
       "      <td>47.844967</td>\n",
       "      <td>131.542839</td>\n",
       "      <td>59.325990</td>\n",
       "      <td>128.218869</td>\n",
       "      <td>60.759318</td>\n",
       "      <td>3.429852</td>\n",
       "      <td>28.756505</td>\n",
       "      <td>4.354961</td>\n",
       "      <td>34.582722</td>\n",
       "      <td>6.526457</td>\n",
       "      <td>47.620908</td>\n",
       "      <td>6.736179e+00</td>\n",
       "      <td>44.528673</td>\n",
       "      <td>3.493583e+00</td>\n",
       "      <td>31.427337</td>\n",
       "      <td>3.430484e+00</td>\n",
       "      <td>86.189107</td>\n",
       "      <td>3.026591</td>\n",
       "      <td>17.951495</td>\n",
       "      <td>2.868205</td>\n",
       "      <td>34.535007</td>\n",
       "      <td>4.536544</td>\n",
       "      <td>39.044215</td>\n",
       "    </tr>\n",
       "    <tr>\n",
       "      <th>min</th>\n",
       "      <td>2.566156</td>\n",
       "      <td>0.003839</td>\n",
       "      <td>5.650000</td>\n",
       "      <td>0.004984</td>\n",
       "      <td>5.445860e-32</td>\n",
       "      <td>-795.316337</td>\n",
       "      <td>6.647490e-32</td>\n",
       "      <td>-799.997015</td>\n",
       "      <td>4.033736e-32</td>\n",
       "      <td>-799.960571</td>\n",
       "      <td>4.039220e-32</td>\n",
       "      <td>-799.794250</td>\n",
       "      <td>0.568441</td>\n",
       "      <td>0.273677</td>\n",
       "      <td>0.002986</td>\n",
       "      <td>0.046369</td>\n",
       "      <td>1.393488</td>\n",
       "      <td>0.568632</td>\n",
       "      <td>0.001147</td>\n",
       "      <td>0.000568</td>\n",
       "      <td>0.000077</td>\n",
       "      <td>0.006985</td>\n",
       "      <td>-0.042069</td>\n",
       "      <td>-657.949759</td>\n",
       "      <td>-0.721806</td>\n",
       "      <td>-650.245277</td>\n",
       "      <td>-0.056636</td>\n",
       "      <td>-647.544439</td>\n",
       "      <td>-0.992219</td>\n",
       "      <td>-648.390665</td>\n",
       "      <td>-1.982295</td>\n",
       "      <td>-649.267537</td>\n",
       "      <td>-2.593390</td>\n",
       "      <td>-649.949283</td>\n",
       "      <td>0.205329</td>\n",
       "      <td>-784.091091</td>\n",
       "      <td>0.006064</td>\n",
       "      <td>-797.783989</td>\n",
       "      <td>0.000000</td>\n",
       "      <td>-799.755798</td>\n",
       "      <td>1.521587e-17</td>\n",
       "      <td>-809.333008</td>\n",
       "      <td>1.079872e-16</td>\n",
       "      <td>-799.798523</td>\n",
       "      <td>2.489718e-17</td>\n",
       "      <td>-800.836914</td>\n",
       "      <td>0.069227</td>\n",
       "      <td>-797.323986</td>\n",
       "      <td>0.528083</td>\n",
       "      <td>-800.220337</td>\n",
       "      <td>-0.079426</td>\n",
       "      <td>-809.741464</td>\n",
       "    </tr>\n",
       "    <tr>\n",
       "      <th>25%</th>\n",
       "      <td>147.121401</td>\n",
       "      <td>6.489555</td>\n",
       "      <td>6.890000</td>\n",
       "      <td>0.907623</td>\n",
       "      <td>1.498936e+03</td>\n",
       "      <td>-500.357298</td>\n",
       "      <td>1.498971e+03</td>\n",
       "      <td>-500.703002</td>\n",
       "      <td>1.473230e+03</td>\n",
       "      <td>-501.018117</td>\n",
       "      <td>1.499481e+03</td>\n",
       "      <td>-500.452469</td>\n",
       "      <td>8.112434</td>\n",
       "      <td>3.240251</td>\n",
       "      <td>407.020883</td>\n",
       "      <td>43.906347</td>\n",
       "      <td>34.505576</td>\n",
       "      <td>8.207814</td>\n",
       "      <td>11.995006</td>\n",
       "      <td>5.998779</td>\n",
       "      <td>11.997200</td>\n",
       "      <td>5.999157</td>\n",
       "      <td>999.205344</td>\n",
       "      <td>-499.920565</td>\n",
       "      <td>1200.871883</td>\n",
       "      <td>-500.256114</td>\n",
       "      <td>1199.651371</td>\n",
       "      <td>-500.233831</td>\n",
       "      <td>1093.368068</td>\n",
       "      <td>-500.440610</td>\n",
       "      <td>999.361403</td>\n",
       "      <td>-500.190639</td>\n",
       "      <td>901.024994</td>\n",
       "      <td>-500.624783</td>\n",
       "      <td>24.942328</td>\n",
       "      <td>-500.206517</td>\n",
       "      <td>20.002315</td>\n",
       "      <td>-500.218030</td>\n",
       "      <td>22.982288</td>\n",
       "      <td>-500.297951</td>\n",
       "      <td>1.796786e+01</td>\n",
       "      <td>-500.145128</td>\n",
       "      <td>1.403618e+01</td>\n",
       "      <td>-500.868258</td>\n",
       "      <td>1.202862e+01</td>\n",
       "      <td>-500.323028</td>\n",
       "      <td>10.914838</td>\n",
       "      <td>-500.726841</td>\n",
       "      <td>8.036719</td>\n",
       "      <td>-500.194668</td>\n",
       "      <td>13.997317</td>\n",
       "      <td>-500.690984</td>\n",
       "    </tr>\n",
       "    <tr>\n",
       "      <th>50%</th>\n",
       "      <td>177.828489</td>\n",
       "      <td>8.052207</td>\n",
       "      <td>7.250000</td>\n",
       "      <td>1.197610</td>\n",
       "      <td>1.585129e+03</td>\n",
       "      <td>-499.969164</td>\n",
       "      <td>1.595622e+03</td>\n",
       "      <td>-500.028514</td>\n",
       "      <td>1.549595e+03</td>\n",
       "      <td>-500.017711</td>\n",
       "      <td>1.594579e+03</td>\n",
       "      <td>-500.023307</td>\n",
       "      <td>9.762654</td>\n",
       "      <td>3.740716</td>\n",
       "      <td>499.051440</td>\n",
       "      <td>50.841029</td>\n",
       "      <td>37.980276</td>\n",
       "      <td>9.593766</td>\n",
       "      <td>14.003126</td>\n",
       "      <td>6.498181</td>\n",
       "      <td>14.004371</td>\n",
       "      <td>6.498744</td>\n",
       "      <td>1000.472055</td>\n",
       "      <td>-399.693363</td>\n",
       "      <td>1302.254995</td>\n",
       "      <td>-499.837803</td>\n",
       "      <td>1300.202274</td>\n",
       "      <td>-499.777222</td>\n",
       "      <td>1207.014092</td>\n",
       "      <td>-499.691917</td>\n",
       "      <td>1047.495449</td>\n",
       "      <td>-499.765796</td>\n",
       "      <td>999.441879</td>\n",
       "      <td>-499.680986</td>\n",
       "      <td>26.910569</td>\n",
       "      <td>-500.003902</td>\n",
       "      <td>22.942603</td>\n",
       "      <td>-500.019058</td>\n",
       "      <td>25.010105</td>\n",
       "      <td>-500.034578</td>\n",
       "      <td>2.100316e+01</td>\n",
       "      <td>-500.013819</td>\n",
       "      <td>1.700847e+01</td>\n",
       "      <td>-500.115727</td>\n",
       "      <td>1.496486e+01</td>\n",
       "      <td>-499.576513</td>\n",
       "      <td>12.954182</td>\n",
       "      <td>-499.990332</td>\n",
       "      <td>10.004301</td>\n",
       "      <td>-499.990535</td>\n",
       "      <td>16.014935</td>\n",
       "      <td>-500.007126</td>\n",
       "    </tr>\n",
       "    <tr>\n",
       "      <th>75%</th>\n",
       "      <td>208.125438</td>\n",
       "      <td>10.027764</td>\n",
       "      <td>7.600000</td>\n",
       "      <td>1.797819</td>\n",
       "      <td>1.602077e+03</td>\n",
       "      <td>-499.568951</td>\n",
       "      <td>1.602324e+03</td>\n",
       "      <td>-499.293257</td>\n",
       "      <td>1.601144e+03</td>\n",
       "      <td>-498.994130</td>\n",
       "      <td>1.600965e+03</td>\n",
       "      <td>-499.607040</td>\n",
       "      <td>10.652297</td>\n",
       "      <td>4.282634</td>\n",
       "      <td>575.307213</td>\n",
       "      <td>62.431047</td>\n",
       "      <td>41.635385</td>\n",
       "      <td>10.463538</td>\n",
       "      <td>16.974284</td>\n",
       "      <td>7.085457</td>\n",
       "      <td>16.959671</td>\n",
       "      <td>7.091808</td>\n",
       "      <td>1006.254299</td>\n",
       "      <td>-300.060056</td>\n",
       "      <td>1433.955649</td>\n",
       "      <td>-450.749619</td>\n",
       "      <td>1406.594956</td>\n",
       "      <td>-451.153188</td>\n",
       "      <td>1391.497269</td>\n",
       "      <td>-452.483463</td>\n",
       "      <td>1101.365315</td>\n",
       "      <td>-450.957513</td>\n",
       "      <td>1050.433005</td>\n",
       "      <td>-451.986460</td>\n",
       "      <td>28.091885</td>\n",
       "      <td>-499.791639</td>\n",
       "      <td>24.985013</td>\n",
       "      <td>-499.831532</td>\n",
       "      <td>30.002063</td>\n",
       "      <td>-499.780163</td>\n",
       "      <td>2.697698e+01</td>\n",
       "      <td>-499.890608</td>\n",
       "      <td>1.803862e+01</td>\n",
       "      <td>-499.404224</td>\n",
       "      <td>1.596213e+01</td>\n",
       "      <td>-400.933805</td>\n",
       "      <td>15.097528</td>\n",
       "      <td>-499.283191</td>\n",
       "      <td>11.997467</td>\n",
       "      <td>-499.719913</td>\n",
       "      <td>21.020013</td>\n",
       "      <td>-499.373018</td>\n",
       "    </tr>\n",
       "    <tr>\n",
       "      <th>max</th>\n",
       "      <td>265.983123</td>\n",
       "      <td>40.000000</td>\n",
       "      <td>15.500000</td>\n",
       "      <td>4.102454</td>\n",
       "      <td>2.103104e+03</td>\n",
       "      <td>-57.195404</td>\n",
       "      <td>1.813084e+03</td>\n",
       "      <td>-142.527229</td>\n",
       "      <td>1.715054e+03</td>\n",
       "      <td>-150.937035</td>\n",
       "      <td>1.913257e+03</td>\n",
       "      <td>-158.950573</td>\n",
       "      <td>14.406130</td>\n",
       "      <td>6.905684</td>\n",
       "      <td>707.364020</td>\n",
       "      <td>392.494040</td>\n",
       "      <td>53.477742</td>\n",
       "      <td>13.731330</td>\n",
       "      <td>24.280636</td>\n",
       "      <td>8.910468</td>\n",
       "      <td>24.280966</td>\n",
       "      <td>8.621338</td>\n",
       "      <td>1423.274687</td>\n",
       "      <td>-273.776101</td>\n",
       "      <td>1706.640419</td>\n",
       "      <td>-298.200051</td>\n",
       "      <td>1731.017788</td>\n",
       "      <td>-298.036852</td>\n",
       "      <td>1775.218584</td>\n",
       "      <td>-76.397327</td>\n",
       "      <td>1467.184843</td>\n",
       "      <td>-139.753025</td>\n",
       "      <td>1476.588107</td>\n",
       "      <td>-249.801043</td>\n",
       "      <td>32.138727</td>\n",
       "      <td>-300.343670</td>\n",
       "      <td>28.165864</td>\n",
       "      <td>-211.999273</td>\n",
       "      <td>40.041997</td>\n",
       "      <td>-313.866425</td>\n",
       "      <td>3.203936e+01</td>\n",
       "      <td>-202.277366</td>\n",
       "      <td>3.005180e+01</td>\n",
       "      <td>-401.565212</td>\n",
       "      <td>3.126971e+01</td>\n",
       "      <td>-6.506986</td>\n",
       "      <td>25.258848</td>\n",
       "      <td>-244.483566</td>\n",
       "      <td>14.086866</td>\n",
       "      <td>-137.740004</td>\n",
       "      <td>26.705889</td>\n",
       "      <td>-123.307487</td>\n",
       "    </tr>\n",
       "  </tbody>\n",
       "</table>\n",
       "</div>"
      ],
      "text/plain": [
       "       primary_cleaner.input.sulfate  primary_cleaner.input.depressant  \\\n",
       "count                    5286.000000                       5285.000000   \n",
       "mean                      174.839652                          8.683596   \n",
       "std                        43.027080                          3.072050   \n",
       "min                         2.566156                          0.003839   \n",
       "25%                       147.121401                          6.489555   \n",
       "50%                       177.828489                          8.052207   \n",
       "75%                       208.125438                         10.027764   \n",
       "max                       265.983123                         40.000000   \n",
       "\n",
       "       primary_cleaner.input.feed_size  primary_cleaner.input.xanthate  \\\n",
       "count                      5290.000000                     5286.000000   \n",
       "mean                          7.266339                        1.383803   \n",
       "std                           0.610219                        0.643474   \n",
       "min                           5.650000                        0.004984   \n",
       "25%                           6.890000                        0.907623   \n",
       "50%                           7.250000                        1.197610   \n",
       "75%                           7.600000                        1.797819   \n",
       "max                          15.500000                        4.102454   \n",
       "\n",
       "       primary_cleaner.state.floatbank8_a_air  \\\n",
       "count                            5.290000e+03   \n",
       "mean                             1.539494e+03   \n",
       "std                              1.167979e+02   \n",
       "min                              5.445860e-32   \n",
       "25%                              1.498936e+03   \n",
       "50%                              1.585129e+03   \n",
       "75%                              1.602077e+03   \n",
       "max                              2.103104e+03   \n",
       "\n",
       "       primary_cleaner.state.floatbank8_a_level  \\\n",
       "count                               5290.000000   \n",
       "mean                                -497.665883   \n",
       "std                                   19.952431   \n",
       "min                                 -795.316337   \n",
       "25%                                 -500.357298   \n",
       "50%                                 -499.969164   \n",
       "75%                                 -499.568951   \n",
       "max                                  -57.195404   \n",
       "\n",
       "       primary_cleaner.state.floatbank8_b_air  \\\n",
       "count                            5.290000e+03   \n",
       "mean                             1.545174e+03   \n",
       "std                              1.222246e+02   \n",
       "min                              6.647490e-32   \n",
       "25%                              1.498971e+03   \n",
       "50%                              1.595622e+03   \n",
       "75%                              1.602324e+03   \n",
       "max                              1.813084e+03   \n",
       "\n",
       "       primary_cleaner.state.floatbank8_b_level  \\\n",
       "count                               5290.000000   \n",
       "mean                                -500.273098   \n",
       "std                                   32.968307   \n",
       "min                                 -799.997015   \n",
       "25%                                 -500.703002   \n",
       "50%                                 -500.028514   \n",
       "75%                                 -499.293257   \n",
       "max                                 -142.527229   \n",
       "\n",
       "       primary_cleaner.state.floatbank8_c_air  \\\n",
       "count                            5.290000e+03   \n",
       "mean                             1.527272e+03   \n",
       "std                              1.225380e+02   \n",
       "min                              4.033736e-32   \n",
       "25%                              1.473230e+03   \n",
       "50%                              1.549595e+03   \n",
       "75%                              1.601144e+03   \n",
       "max                              1.715054e+03   \n",
       "\n",
       "       primary_cleaner.state.floatbank8_c_level  \\\n",
       "count                               5290.000000   \n",
       "mean                                -498.330680   \n",
       "std                                   21.964876   \n",
       "min                                 -799.960571   \n",
       "25%                                 -501.018117   \n",
       "50%                                 -500.017711   \n",
       "75%                                 -498.994130   \n",
       "max                                 -150.937035   \n",
       "\n",
       "       primary_cleaner.state.floatbank8_d_air  \\\n",
       "count                            5.290000e+03   \n",
       "mean                             1.544844e+03   \n",
       "std                              1.247731e+02   \n",
       "min                              4.039220e-32   \n",
       "25%                              1.499481e+03   \n",
       "50%                              1.594579e+03   \n",
       "75%                              1.600965e+03   \n",
       "max                              1.913257e+03   \n",
       "\n",
       "       primary_cleaner.state.floatbank8_d_level  rougher.input.feed_ag  \\\n",
       "count                               5290.000000            5290.000000   \n",
       "mean                                -500.199527               9.371940   \n",
       "std                                   31.045257               1.926264   \n",
       "min                                 -799.794250               0.568441   \n",
       "25%                                 -500.452469               8.112434   \n",
       "50%                                 -500.023307               9.762654   \n",
       "75%                                 -499.607040              10.652297   \n",
       "max                                 -158.950573              14.406130   \n",
       "\n",
       "       rougher.input.feed_pb  rougher.input.feed_rate  \\\n",
       "count            5290.000000              5287.000000   \n",
       "mean                3.798082               489.800620   \n",
       "std                 0.954859               108.036326   \n",
       "min                 0.273677                 0.002986   \n",
       "25%                 3.240251               407.020883   \n",
       "50%                 3.740716               499.051440   \n",
       "75%                 4.282634               575.307213   \n",
       "max                 6.905684               707.364020   \n",
       "\n",
       "       rougher.input.feed_size  rougher.input.feed_sol  rougher.input.feed_au  \\\n",
       "count              5289.000000             5269.000000            5290.000000   \n",
       "mean                 55.951097               37.716648               9.334682   \n",
       "std                  19.081758                5.491415               1.619521   \n",
       "min                   0.046369                1.393488               0.568632   \n",
       "25%                  43.906347               34.505576               8.207814   \n",
       "50%                  50.841029               37.980276               9.593766   \n",
       "75%                  62.431047               41.635385              10.463538   \n",
       "max                 392.494040               53.477742              13.731330   \n",
       "\n",
       "       rougher.input.floatbank10_sulfate  rougher.input.floatbank10_xanthate  \\\n",
       "count                        5285.000000                         5290.000000   \n",
       "mean                           13.855759                            6.467745   \n",
       "std                             3.350852                            1.065114   \n",
       "min                             0.001147                            0.000568   \n",
       "25%                            11.995006                            5.998779   \n",
       "50%                            14.003126                            6.498181   \n",
       "75%                            16.974284                            7.085457   \n",
       "max                            24.280636                            8.910468   \n",
       "\n",
       "       rougher.input.floatbank11_sulfate  rougher.input.floatbank11_xanthate  \\\n",
       "count                        5282.000000                         5265.000000   \n",
       "mean                           13.922328                            6.512103   \n",
       "std                             3.223769                            0.886989   \n",
       "min                             0.000077                            0.006985   \n",
       "25%                            11.997200                            5.999157   \n",
       "50%                            14.004371                            6.498744   \n",
       "75%                            16.959671                            7.091808   \n",
       "max                            24.280966                            8.621338   \n",
       "\n",
       "       rougher.state.floatbank10_a_air  rougher.state.floatbank10_a_level  \\\n",
       "count                      5290.000000                        5290.000000   \n",
       "mean                       1053.400166                        -395.732530   \n",
       "std                         121.139309                          91.085505   \n",
       "min                          -0.042069                        -657.949759   \n",
       "25%                         999.205344                        -499.920565   \n",
       "50%                        1000.472055                        -399.693363   \n",
       "75%                        1006.254299                        -300.060056   \n",
       "max                        1423.274687                        -273.776101   \n",
       "\n",
       "       rougher.state.floatbank10_b_air  rougher.state.floatbank10_b_level  \\\n",
       "count                      5290.000000                        5290.000000   \n",
       "mean                       1318.926879                        -475.241428   \n",
       "std                         156.450366                          45.649466   \n",
       "min                          -0.721806                        -650.245277   \n",
       "25%                        1200.871883                        -500.256114   \n",
       "50%                        1302.254995                        -499.837803   \n",
       "75%                        1433.955649                        -450.749619   \n",
       "max                        1706.640419                        -298.200051   \n",
       "\n",
       "       rougher.state.floatbank10_c_air  rougher.state.floatbank10_c_level  \\\n",
       "count                      5290.000000                        5290.000000   \n",
       "mean                       1301.595477                        -474.836671   \n",
       "std                         171.269667                          45.859866   \n",
       "min                          -0.056636                        -647.544439   \n",
       "25%                        1199.651371                        -500.233831   \n",
       "50%                        1300.202274                        -499.777222   \n",
       "75%                        1406.594956                        -451.153188   \n",
       "max                        1731.017788                        -298.036852   \n",
       "\n",
       "       rougher.state.floatbank10_d_air  rougher.state.floatbank10_d_level  \\\n",
       "count                      5290.000000                        5290.000000   \n",
       "mean                       1214.847960                        -475.682272   \n",
       "std                         185.763319                          47.844967   \n",
       "min                          -0.992219                        -648.390665   \n",
       "25%                        1093.368068                        -500.440610   \n",
       "50%                        1207.014092                        -499.691917   \n",
       "75%                        1391.497269                        -452.483463   \n",
       "max                        1775.218584                         -76.397327   \n",
       "\n",
       "       rougher.state.floatbank10_e_air  rougher.state.floatbank10_e_level  \\\n",
       "count                      5290.000000                        5290.000000   \n",
       "mean                       1056.648995                        -469.029688   \n",
       "std                         131.542839                          59.325990   \n",
       "min                          -1.982295                        -649.267537   \n",
       "25%                         999.361403                        -500.190639   \n",
       "50%                        1047.495449                        -499.765796   \n",
       "75%                        1101.365315                        -450.957513   \n",
       "max                        1467.184843                        -139.753025   \n",
       "\n",
       "       rougher.state.floatbank10_f_air  rougher.state.floatbank10_f_level  \\\n",
       "count                      5290.000000                        5290.000000   \n",
       "mean                        997.949719                        -470.482465   \n",
       "std                         128.218869                          60.759318   \n",
       "min                          -2.593390                        -649.949283   \n",
       "25%                         901.024994                        -500.624783   \n",
       "50%                         999.441879                        -499.680986   \n",
       "75%                        1050.433005                        -451.986460   \n",
       "max                        1476.588107                        -249.801043   \n",
       "\n",
       "       secondary_cleaner.state.floatbank2_a_air  \\\n",
       "count                               5287.000000   \n",
       "mean                                  26.312630   \n",
       "std                                    3.429852   \n",
       "min                                    0.205329   \n",
       "25%                                   24.942328   \n",
       "50%                                   26.910569   \n",
       "75%                                   28.091885   \n",
       "max                                   32.138727   \n",
       "\n",
       "       secondary_cleaner.state.floatbank2_a_level  \\\n",
       "count                                 5290.000000   \n",
       "mean                                  -502.750897   \n",
       "std                                     28.756505   \n",
       "min                                   -784.091091   \n",
       "25%                                   -500.206517   \n",
       "50%                                   -500.003902   \n",
       "75%                                   -499.791639   \n",
       "max                                   -300.343670   \n",
       "\n",
       "       secondary_cleaner.state.floatbank2_b_air  \\\n",
       "count                               5288.000000   \n",
       "mean                                  21.949119   \n",
       "std                                    4.354961   \n",
       "min                                    0.006064   \n",
       "25%                                   20.002315   \n",
       "50%                                   22.942603   \n",
       "75%                                   24.985013   \n",
       "max                                   28.165864   \n",
       "\n",
       "       secondary_cleaner.state.floatbank2_b_level  \\\n",
       "count                                 5290.000000   \n",
       "mean                                  -501.987097   \n",
       "std                                     34.582722   \n",
       "min                                   -797.783989   \n",
       "25%                                   -500.218030   \n",
       "50%                                   -500.019058   \n",
       "75%                                   -499.831532   \n",
       "max                                   -211.999273   \n",
       "\n",
       "       secondary_cleaner.state.floatbank3_a_air  \\\n",
       "count                               5281.000000   \n",
       "mean                                  25.402926   \n",
       "std                                    6.526457   \n",
       "min                                    0.000000   \n",
       "25%                                   22.982288   \n",
       "50%                                   25.010105   \n",
       "75%                                   30.002063   \n",
       "max                                   40.041997   \n",
       "\n",
       "       secondary_cleaner.state.floatbank3_a_level  \\\n",
       "count                                 5290.000000   \n",
       "mean                                  -507.490314   \n",
       "std                                     47.620908   \n",
       "min                                   -799.755798   \n",
       "25%                                   -500.297951   \n",
       "50%                                   -500.034578   \n",
       "75%                                   -499.780163   \n",
       "max                                   -313.866425   \n",
       "\n",
       "       secondary_cleaner.state.floatbank3_b_air  \\\n",
       "count                              5.290000e+03   \n",
       "mean                               2.098211e+01   \n",
       "std                                6.736179e+00   \n",
       "min                                1.521587e-17   \n",
       "25%                                1.796786e+01   \n",
       "50%                                2.100316e+01   \n",
       "75%                                2.697698e+01   \n",
       "max                                3.203936e+01   \n",
       "\n",
       "       secondary_cleaner.state.floatbank3_b_level  \\\n",
       "count                                 5290.000000   \n",
       "mean                                  -506.627916   \n",
       "std                                     44.528673   \n",
       "min                                   -809.333008   \n",
       "25%                                   -500.145128   \n",
       "50%                                   -500.013819   \n",
       "75%                                   -499.890608   \n",
       "max                                   -202.277366   \n",
       "\n",
       "       secondary_cleaner.state.floatbank4_a_air  \\\n",
       "count                              5.290000e+03   \n",
       "mean                               1.632007e+01   \n",
       "std                                3.493583e+00   \n",
       "min                                1.079872e-16   \n",
       "25%                                1.403618e+01   \n",
       "50%                                1.700847e+01   \n",
       "75%                                1.803862e+01   \n",
       "max                                3.005180e+01   \n",
       "\n",
       "       secondary_cleaner.state.floatbank4_a_level  \\\n",
       "count                                 5290.000000   \n",
       "mean                                  -505.144570   \n",
       "std                                     31.427337   \n",
       "min                                   -799.798523   \n",
       "25%                                   -500.868258   \n",
       "50%                                   -500.115727   \n",
       "75%                                   -499.404224   \n",
       "max                                   -401.565212   \n",
       "\n",
       "       secondary_cleaner.state.floatbank4_b_air  \\\n",
       "count                              5.290000e+03   \n",
       "mean                               1.373544e+01   \n",
       "std                                3.430484e+00   \n",
       "min                                2.489718e-17   \n",
       "25%                                1.202862e+01   \n",
       "50%                                1.496486e+01   \n",
       "75%                                1.596213e+01   \n",
       "max                                3.126971e+01   \n",
       "\n",
       "       secondary_cleaner.state.floatbank4_b_level  \\\n",
       "count                                 5290.000000   \n",
       "mean                                  -463.349858   \n",
       "std                                     86.189107   \n",
       "min                                   -800.836914   \n",
       "25%                                   -500.323028   \n",
       "50%                                   -499.576513   \n",
       "75%                                   -400.933805   \n",
       "max                                     -6.506986   \n",
       "\n",
       "       secondary_cleaner.state.floatbank5_a_air  \\\n",
       "count                               5290.000000   \n",
       "mean                                  12.804186   \n",
       "std                                    3.026591   \n",
       "min                                    0.069227   \n",
       "25%                                   10.914838   \n",
       "50%                                   12.954182   \n",
       "75%                                   15.097528   \n",
       "max                                   25.258848   \n",
       "\n",
       "       secondary_cleaner.state.floatbank5_a_level  \\\n",
       "count                                 5290.000000   \n",
       "mean                                  -501.329122   \n",
       "std                                     17.951495   \n",
       "min                                   -797.323986   \n",
       "25%                                   -500.726841   \n",
       "50%                                   -499.990332   \n",
       "75%                                   -499.283191   \n",
       "max                                   -244.483566   \n",
       "\n",
       "       secondary_cleaner.state.floatbank5_b_air  \\\n",
       "count                               5290.000000   \n",
       "mean                                   9.881145   \n",
       "std                                    2.868205   \n",
       "min                                    0.528083   \n",
       "25%                                    8.036719   \n",
       "50%                                   10.004301   \n",
       "75%                                   11.997467   \n",
       "max                                   14.086866   \n",
       "\n",
       "       secondary_cleaner.state.floatbank5_b_level  \\\n",
       "count                                 5290.000000   \n",
       "mean                                  -495.663398   \n",
       "std                                     34.535007   \n",
       "min                                   -800.220337   \n",
       "25%                                   -500.194668   \n",
       "50%                                   -499.990535   \n",
       "75%                                   -499.719913   \n",
       "max                                   -137.740004   \n",
       "\n",
       "       secondary_cleaner.state.floatbank6_a_air  \\\n",
       "count                               5290.000000   \n",
       "mean                                  17.304935   \n",
       "std                                    4.536544   \n",
       "min                                   -0.079426   \n",
       "25%                                   13.997317   \n",
       "50%                                   16.014935   \n",
       "75%                                   21.020013   \n",
       "max                                   26.705889   \n",
       "\n",
       "       secondary_cleaner.state.floatbank6_a_level  \n",
       "count                                 5290.000000  \n",
       "mean                                  -501.793193  \n",
       "std                                     39.044215  \n",
       "min                                   -809.741464  \n",
       "25%                                   -500.690984  \n",
       "50%                                   -500.007126  \n",
       "75%                                   -499.373018  \n",
       "max                                   -123.307487  "
      ]
     },
     "metadata": {},
     "output_type": "display_data"
    },
    {
     "name": "stdout",
     "output_type": "stream",
     "text": [
      "\n",
      "\n",
      "\n",
      "Количество пропусков в данных\n"
     ]
    },
    {
     "data": {
      "text/plain": [
       "date                                           0\n",
       "primary_cleaner.input.sulfate                  4\n",
       "primary_cleaner.input.depressant               5\n",
       "primary_cleaner.input.feed_size                0\n",
       "primary_cleaner.input.xanthate                 4\n",
       "primary_cleaner.state.floatbank8_a_air         0\n",
       "primary_cleaner.state.floatbank8_a_level       0\n",
       "primary_cleaner.state.floatbank8_b_air         0\n",
       "primary_cleaner.state.floatbank8_b_level       0\n",
       "primary_cleaner.state.floatbank8_c_air         0\n",
       "primary_cleaner.state.floatbank8_c_level       0\n",
       "primary_cleaner.state.floatbank8_d_air         0\n",
       "primary_cleaner.state.floatbank8_d_level       0\n",
       "rougher.input.feed_ag                          0\n",
       "rougher.input.feed_pb                          0\n",
       "rougher.input.feed_rate                        3\n",
       "rougher.input.feed_size                        1\n",
       "rougher.input.feed_sol                        21\n",
       "rougher.input.feed_au                          0\n",
       "rougher.input.floatbank10_sulfate              5\n",
       "rougher.input.floatbank10_xanthate             0\n",
       "rougher.input.floatbank11_sulfate              8\n",
       "rougher.input.floatbank11_xanthate            25\n",
       "rougher.state.floatbank10_a_air                0\n",
       "rougher.state.floatbank10_a_level              0\n",
       "rougher.state.floatbank10_b_air                0\n",
       "rougher.state.floatbank10_b_level              0\n",
       "rougher.state.floatbank10_c_air                0\n",
       "rougher.state.floatbank10_c_level              0\n",
       "rougher.state.floatbank10_d_air                0\n",
       "rougher.state.floatbank10_d_level              0\n",
       "rougher.state.floatbank10_e_air                0\n",
       "rougher.state.floatbank10_e_level              0\n",
       "rougher.state.floatbank10_f_air                0\n",
       "rougher.state.floatbank10_f_level              0\n",
       "secondary_cleaner.state.floatbank2_a_air       3\n",
       "secondary_cleaner.state.floatbank2_a_level     0\n",
       "secondary_cleaner.state.floatbank2_b_air       2\n",
       "secondary_cleaner.state.floatbank2_b_level     0\n",
       "secondary_cleaner.state.floatbank3_a_air       9\n",
       "secondary_cleaner.state.floatbank3_a_level     0\n",
       "secondary_cleaner.state.floatbank3_b_air       0\n",
       "secondary_cleaner.state.floatbank3_b_level     0\n",
       "secondary_cleaner.state.floatbank4_a_air       0\n",
       "secondary_cleaner.state.floatbank4_a_level     0\n",
       "secondary_cleaner.state.floatbank4_b_air       0\n",
       "secondary_cleaner.state.floatbank4_b_level     0\n",
       "secondary_cleaner.state.floatbank5_a_air       0\n",
       "secondary_cleaner.state.floatbank5_a_level     0\n",
       "secondary_cleaner.state.floatbank5_b_air       0\n",
       "secondary_cleaner.state.floatbank5_b_level     0\n",
       "secondary_cleaner.state.floatbank6_a_air       0\n",
       "secondary_cleaner.state.floatbank6_a_level     0\n",
       "dtype: int64"
      ]
     },
     "metadata": {},
     "output_type": "display_data"
    },
    {
     "name": "stdout",
     "output_type": "stream",
     "text": [
      "\n",
      "\n",
      "\n",
      "Количество дубликатов в данных\n",
      "0\n"
     ]
    }
   ],
   "source": [
    "data_summary(df_test)"
   ]
  },
  {
   "cell_type": "markdown",
   "metadata": {},
   "source": [
    "#### Объединённая выборка"
   ]
  },
  {
   "cell_type": "code",
   "execution_count": 7,
   "metadata": {},
   "outputs": [
    {
     "name": "stdout",
     "output_type": "stream",
     "text": [
      "Информация по датасету:\n",
      "<class 'pandas.core.frame.DataFrame'>\n",
      "RangeIndex: 19439 entries, 0 to 19438\n",
      "Data columns (total 87 columns):\n",
      " #   Column                                              Non-Null Count  Dtype  \n",
      "---  ------                                              --------------  -----  \n",
      " 0   date                                                19439 non-null  object \n",
      " 1   final.output.concentrate_ag                         19438 non-null  float64\n",
      " 2   final.output.concentrate_pb                         19438 non-null  float64\n",
      " 3   final.output.concentrate_sol                        19228 non-null  float64\n",
      " 4   final.output.concentrate_au                         19439 non-null  float64\n",
      " 5   final.output.recovery                               19439 non-null  float64\n",
      " 6   final.output.tail_ag                                19438 non-null  float64\n",
      " 7   final.output.tail_pb                                19338 non-null  float64\n",
      " 8   final.output.tail_sol                               19433 non-null  float64\n",
      " 9   final.output.tail_au                                19439 non-null  float64\n",
      " 10  primary_cleaner.input.sulfate                       19415 non-null  float64\n",
      " 11  primary_cleaner.input.depressant                    19402 non-null  float64\n",
      " 12  primary_cleaner.input.feed_size                     19439 non-null  float64\n",
      " 13  primary_cleaner.input.xanthate                      19335 non-null  float64\n",
      " 14  primary_cleaner.output.concentrate_ag               19439 non-null  float64\n",
      " 15  primary_cleaner.output.concentrate_pb               19323 non-null  float64\n",
      " 16  primary_cleaner.output.concentrate_sol              19069 non-null  float64\n",
      " 17  primary_cleaner.output.concentrate_au               19439 non-null  float64\n",
      " 18  primary_cleaner.output.tail_ag                      19435 non-null  float64\n",
      " 19  primary_cleaner.output.tail_pb                      19418 non-null  float64\n",
      " 20  primary_cleaner.output.tail_sol                     19377 non-null  float64\n",
      " 21  primary_cleaner.output.tail_au                      19439 non-null  float64\n",
      " 22  primary_cleaner.state.floatbank8_a_air              19435 non-null  float64\n",
      " 23  primary_cleaner.state.floatbank8_a_level            19438 non-null  float64\n",
      " 24  primary_cleaner.state.floatbank8_b_air              19435 non-null  float64\n",
      " 25  primary_cleaner.state.floatbank8_b_level            19438 non-null  float64\n",
      " 26  primary_cleaner.state.floatbank8_c_air              19437 non-null  float64\n",
      " 27  primary_cleaner.state.floatbank8_c_level            19438 non-null  float64\n",
      " 28  primary_cleaner.state.floatbank8_d_air              19436 non-null  float64\n",
      " 29  primary_cleaner.state.floatbank8_d_level            19438 non-null  float64\n",
      " 30  rougher.calculation.sulfate_to_au_concentrate       19437 non-null  float64\n",
      " 31  rougher.calculation.floatbank10_sulfate_to_au_feed  19437 non-null  float64\n",
      " 32  rougher.calculation.floatbank11_sulfate_to_au_feed  19437 non-null  float64\n",
      " 33  rougher.calculation.au_pb_ratio                     19439 non-null  float64\n",
      " 34  rougher.input.feed_ag                               19439 non-null  float64\n",
      " 35  rougher.input.feed_pb                               19339 non-null  float64\n",
      " 36  rougher.input.feed_rate                             19428 non-null  float64\n",
      " 37  rougher.input.feed_size                             19294 non-null  float64\n",
      " 38  rougher.input.feed_sol                              19340 non-null  float64\n",
      " 39  rougher.input.feed_au                               19439 non-null  float64\n",
      " 40  rougher.input.floatbank10_sulfate                   19405 non-null  float64\n",
      " 41  rougher.input.floatbank10_xanthate                  19431 non-null  float64\n",
      " 42  rougher.input.floatbank11_sulfate                   19395 non-null  float64\n",
      " 43  rougher.input.floatbank11_xanthate                  18986 non-null  float64\n",
      " 44  rougher.output.concentrate_ag                       19439 non-null  float64\n",
      " 45  rougher.output.concentrate_pb                       19439 non-null  float64\n",
      " 46  rougher.output.concentrate_sol                      19416 non-null  float64\n",
      " 47  rougher.output.concentrate_au                       19439 non-null  float64\n",
      " 48  rougher.output.recovery                             19439 non-null  float64\n",
      " 49  rougher.output.tail_ag                              19438 non-null  float64\n",
      " 50  rougher.output.tail_pb                              19439 non-null  float64\n",
      " 51  rougher.output.tail_sol                             19439 non-null  float64\n",
      " 52  rougher.output.tail_au                              19439 non-null  float64\n",
      " 53  rougher.state.floatbank10_a_air                     19438 non-null  float64\n",
      " 54  rougher.state.floatbank10_a_level                   19438 non-null  float64\n",
      " 55  rougher.state.floatbank10_b_air                     19438 non-null  float64\n",
      " 56  rougher.state.floatbank10_b_level                   19438 non-null  float64\n",
      " 57  rougher.state.floatbank10_c_air                     19438 non-null  float64\n",
      " 58  rougher.state.floatbank10_c_level                   19438 non-null  float64\n",
      " 59  rougher.state.floatbank10_d_air                     19439 non-null  float64\n",
      " 60  rougher.state.floatbank10_d_level                   19439 non-null  float64\n",
      " 61  rougher.state.floatbank10_e_air                     19003 non-null  float64\n",
      " 62  rougher.state.floatbank10_e_level                   19439 non-null  float64\n",
      " 63  rougher.state.floatbank10_f_air                     19439 non-null  float64\n",
      " 64  rougher.state.floatbank10_f_level                   19439 non-null  float64\n",
      " 65  secondary_cleaner.output.tail_ag                    19437 non-null  float64\n",
      " 66  secondary_cleaner.output.tail_pb                    19427 non-null  float64\n",
      " 67  secondary_cleaner.output.tail_sol                   17691 non-null  float64\n",
      " 68  secondary_cleaner.output.tail_au                    19439 non-null  float64\n",
      " 69  secondary_cleaner.state.floatbank2_a_air            19219 non-null  float64\n",
      " 70  secondary_cleaner.state.floatbank2_a_level          19438 non-null  float64\n",
      " 71  secondary_cleaner.state.floatbank2_b_air            19416 non-null  float64\n",
      " 72  secondary_cleaner.state.floatbank2_b_level          19438 non-null  float64\n",
      " 73  secondary_cleaner.state.floatbank3_a_air            19426 non-null  float64\n",
      " 74  secondary_cleaner.state.floatbank3_a_level          19438 non-null  float64\n",
      " 75  secondary_cleaner.state.floatbank3_b_air            19438 non-null  float64\n",
      " 76  secondary_cleaner.state.floatbank3_b_level          19438 non-null  float64\n",
      " 77  secondary_cleaner.state.floatbank4_a_air            19433 non-null  float64\n",
      " 78  secondary_cleaner.state.floatbank4_a_level          19438 non-null  float64\n",
      " 79  secondary_cleaner.state.floatbank4_b_air            19438 non-null  float64\n",
      " 80  secondary_cleaner.state.floatbank4_b_level          19438 non-null  float64\n",
      " 81  secondary_cleaner.state.floatbank5_a_air            19438 non-null  float64\n",
      " 82  secondary_cleaner.state.floatbank5_a_level          19438 non-null  float64\n",
      " 83  secondary_cleaner.state.floatbank5_b_air            19438 non-null  float64\n",
      " 84  secondary_cleaner.state.floatbank5_b_level          19438 non-null  float64\n",
      " 85  secondary_cleaner.state.floatbank6_a_air            19437 non-null  float64\n",
      " 86  secondary_cleaner.state.floatbank6_a_level          19438 non-null  float64\n",
      "dtypes: float64(86), object(1)\n",
      "memory usage: 12.9+ MB\n",
      "\n",
      "\n",
      "\n",
      "Первые 5 строк\n"
     ]
    },
    {
     "data": {
      "text/html": [
       "<div>\n",
       "<style scoped>\n",
       "    .dataframe tbody tr th:only-of-type {\n",
       "        vertical-align: middle;\n",
       "    }\n",
       "\n",
       "    .dataframe tbody tr th {\n",
       "        vertical-align: top;\n",
       "    }\n",
       "\n",
       "    .dataframe thead th {\n",
       "        text-align: right;\n",
       "    }\n",
       "</style>\n",
       "<table border=\"1\" class=\"dataframe\">\n",
       "  <thead>\n",
       "    <tr style=\"text-align: right;\">\n",
       "      <th></th>\n",
       "      <th>date</th>\n",
       "      <th>final.output.concentrate_ag</th>\n",
       "      <th>final.output.concentrate_pb</th>\n",
       "      <th>final.output.concentrate_sol</th>\n",
       "      <th>final.output.concentrate_au</th>\n",
       "      <th>final.output.recovery</th>\n",
       "      <th>final.output.tail_ag</th>\n",
       "      <th>final.output.tail_pb</th>\n",
       "      <th>final.output.tail_sol</th>\n",
       "      <th>final.output.tail_au</th>\n",
       "      <th>primary_cleaner.input.sulfate</th>\n",
       "      <th>primary_cleaner.input.depressant</th>\n",
       "      <th>primary_cleaner.input.feed_size</th>\n",
       "      <th>primary_cleaner.input.xanthate</th>\n",
       "      <th>primary_cleaner.output.concentrate_ag</th>\n",
       "      <th>primary_cleaner.output.concentrate_pb</th>\n",
       "      <th>primary_cleaner.output.concentrate_sol</th>\n",
       "      <th>primary_cleaner.output.concentrate_au</th>\n",
       "      <th>primary_cleaner.output.tail_ag</th>\n",
       "      <th>primary_cleaner.output.tail_pb</th>\n",
       "      <th>primary_cleaner.output.tail_sol</th>\n",
       "      <th>primary_cleaner.output.tail_au</th>\n",
       "      <th>primary_cleaner.state.floatbank8_a_air</th>\n",
       "      <th>primary_cleaner.state.floatbank8_a_level</th>\n",
       "      <th>primary_cleaner.state.floatbank8_b_air</th>\n",
       "      <th>primary_cleaner.state.floatbank8_b_level</th>\n",
       "      <th>primary_cleaner.state.floatbank8_c_air</th>\n",
       "      <th>primary_cleaner.state.floatbank8_c_level</th>\n",
       "      <th>primary_cleaner.state.floatbank8_d_air</th>\n",
       "      <th>primary_cleaner.state.floatbank8_d_level</th>\n",
       "      <th>rougher.calculation.sulfate_to_au_concentrate</th>\n",
       "      <th>rougher.calculation.floatbank10_sulfate_to_au_feed</th>\n",
       "      <th>rougher.calculation.floatbank11_sulfate_to_au_feed</th>\n",
       "      <th>rougher.calculation.au_pb_ratio</th>\n",
       "      <th>rougher.input.feed_ag</th>\n",
       "      <th>rougher.input.feed_pb</th>\n",
       "      <th>rougher.input.feed_rate</th>\n",
       "      <th>rougher.input.feed_size</th>\n",
       "      <th>rougher.input.feed_sol</th>\n",
       "      <th>rougher.input.feed_au</th>\n",
       "      <th>rougher.input.floatbank10_sulfate</th>\n",
       "      <th>rougher.input.floatbank10_xanthate</th>\n",
       "      <th>rougher.input.floatbank11_sulfate</th>\n",
       "      <th>rougher.input.floatbank11_xanthate</th>\n",
       "      <th>rougher.output.concentrate_ag</th>\n",
       "      <th>rougher.output.concentrate_pb</th>\n",
       "      <th>rougher.output.concentrate_sol</th>\n",
       "      <th>rougher.output.concentrate_au</th>\n",
       "      <th>rougher.output.recovery</th>\n",
       "      <th>rougher.output.tail_ag</th>\n",
       "      <th>rougher.output.tail_pb</th>\n",
       "      <th>rougher.output.tail_sol</th>\n",
       "      <th>rougher.output.tail_au</th>\n",
       "      <th>rougher.state.floatbank10_a_air</th>\n",
       "      <th>rougher.state.floatbank10_a_level</th>\n",
       "      <th>rougher.state.floatbank10_b_air</th>\n",
       "      <th>rougher.state.floatbank10_b_level</th>\n",
       "      <th>rougher.state.floatbank10_c_air</th>\n",
       "      <th>rougher.state.floatbank10_c_level</th>\n",
       "      <th>rougher.state.floatbank10_d_air</th>\n",
       "      <th>rougher.state.floatbank10_d_level</th>\n",
       "      <th>rougher.state.floatbank10_e_air</th>\n",
       "      <th>rougher.state.floatbank10_e_level</th>\n",
       "      <th>rougher.state.floatbank10_f_air</th>\n",
       "      <th>rougher.state.floatbank10_f_level</th>\n",
       "      <th>secondary_cleaner.output.tail_ag</th>\n",
       "      <th>secondary_cleaner.output.tail_pb</th>\n",
       "      <th>secondary_cleaner.output.tail_sol</th>\n",
       "      <th>secondary_cleaner.output.tail_au</th>\n",
       "      <th>secondary_cleaner.state.floatbank2_a_air</th>\n",
       "      <th>secondary_cleaner.state.floatbank2_a_level</th>\n",
       "      <th>secondary_cleaner.state.floatbank2_b_air</th>\n",
       "      <th>secondary_cleaner.state.floatbank2_b_level</th>\n",
       "      <th>secondary_cleaner.state.floatbank3_a_air</th>\n",
       "      <th>secondary_cleaner.state.floatbank3_a_level</th>\n",
       "      <th>secondary_cleaner.state.floatbank3_b_air</th>\n",
       "      <th>secondary_cleaner.state.floatbank3_b_level</th>\n",
       "      <th>secondary_cleaner.state.floatbank4_a_air</th>\n",
       "      <th>secondary_cleaner.state.floatbank4_a_level</th>\n",
       "      <th>secondary_cleaner.state.floatbank4_b_air</th>\n",
       "      <th>secondary_cleaner.state.floatbank4_b_level</th>\n",
       "      <th>secondary_cleaner.state.floatbank5_a_air</th>\n",
       "      <th>secondary_cleaner.state.floatbank5_a_level</th>\n",
       "      <th>secondary_cleaner.state.floatbank5_b_air</th>\n",
       "      <th>secondary_cleaner.state.floatbank5_b_level</th>\n",
       "      <th>secondary_cleaner.state.floatbank6_a_air</th>\n",
       "      <th>secondary_cleaner.state.floatbank6_a_level</th>\n",
       "    </tr>\n",
       "  </thead>\n",
       "  <tbody>\n",
       "    <tr>\n",
       "      <th>0</th>\n",
       "      <td>2016-01-15 00:00:00</td>\n",
       "      <td>6.055403</td>\n",
       "      <td>9.889648</td>\n",
       "      <td>5.507324</td>\n",
       "      <td>42.192020</td>\n",
       "      <td>70.541216</td>\n",
       "      <td>10.411962</td>\n",
       "      <td>0.895447</td>\n",
       "      <td>16.904297</td>\n",
       "      <td>2.143149</td>\n",
       "      <td>127.092003</td>\n",
       "      <td>10.128295</td>\n",
       "      <td>7.25</td>\n",
       "      <td>0.988759</td>\n",
       "      <td>8.547551</td>\n",
       "      <td>10.389648</td>\n",
       "      <td>19.529297</td>\n",
       "      <td>34.174427</td>\n",
       "      <td>14.936526</td>\n",
       "      <td>2.534912</td>\n",
       "      <td>7.476074</td>\n",
       "      <td>2.106679</td>\n",
       "      <td>1549.775757</td>\n",
       "      <td>-498.912140</td>\n",
       "      <td>1551.434204</td>\n",
       "      <td>-516.403442</td>\n",
       "      <td>1549.873901</td>\n",
       "      <td>-498.666595</td>\n",
       "      <td>1554.367432</td>\n",
       "      <td>-493.428131</td>\n",
       "      <td>41885.707031</td>\n",
       "      <td>3481.779053</td>\n",
       "      <td>3520.337158</td>\n",
       "      <td>2.838687</td>\n",
       "      <td>6.100378</td>\n",
       "      <td>2.284912</td>\n",
       "      <td>523.546326</td>\n",
       "      <td>55.486599</td>\n",
       "      <td>36.808594</td>\n",
       "      <td>6.486150</td>\n",
       "      <td>11.986616</td>\n",
       "      <td>6.007990</td>\n",
       "      <td>11.836743</td>\n",
       "      <td>6.005818</td>\n",
       "      <td>11.500771</td>\n",
       "      <td>7.101074</td>\n",
       "      <td>28.029297</td>\n",
       "      <td>19.793808</td>\n",
       "      <td>87.107763</td>\n",
       "      <td>5.008018</td>\n",
       "      <td>0.508728</td>\n",
       "      <td>19.154297</td>\n",
       "      <td>1.170244</td>\n",
       "      <td>999.706909</td>\n",
       "      <td>-404.066986</td>\n",
       "      <td>1603.011353</td>\n",
       "      <td>-434.715027</td>\n",
       "      <td>1602.375000</td>\n",
       "      <td>-442.204468</td>\n",
       "      <td>1598.937256</td>\n",
       "      <td>-451.294128</td>\n",
       "      <td>1404.472046</td>\n",
       "      <td>-455.462982</td>\n",
       "      <td>1416.354980</td>\n",
       "      <td>-451.939636</td>\n",
       "      <td>14.500184</td>\n",
       "      <td>4.694824</td>\n",
       "      <td>8.764648</td>\n",
       "      <td>2.606185</td>\n",
       "      <td>25.853109</td>\n",
       "      <td>-498.526489</td>\n",
       "      <td>23.893660</td>\n",
       "      <td>-501.406281</td>\n",
       "      <td>23.961798</td>\n",
       "      <td>-495.262817</td>\n",
       "      <td>21.940409</td>\n",
       "      <td>-499.340973</td>\n",
       "      <td>14.016835</td>\n",
       "      <td>-502.488007</td>\n",
       "      <td>12.099931</td>\n",
       "      <td>-504.715942</td>\n",
       "      <td>9.925633</td>\n",
       "      <td>-498.310211</td>\n",
       "      <td>8.079666</td>\n",
       "      <td>-500.470978</td>\n",
       "      <td>14.151341</td>\n",
       "      <td>-605.841980</td>\n",
       "    </tr>\n",
       "    <tr>\n",
       "      <th>1</th>\n",
       "      <td>2016-01-15 01:00:00</td>\n",
       "      <td>6.029369</td>\n",
       "      <td>9.968944</td>\n",
       "      <td>5.257781</td>\n",
       "      <td>42.701629</td>\n",
       "      <td>69.266198</td>\n",
       "      <td>10.462676</td>\n",
       "      <td>0.927452</td>\n",
       "      <td>16.634514</td>\n",
       "      <td>2.224930</td>\n",
       "      <td>125.629232</td>\n",
       "      <td>10.296251</td>\n",
       "      <td>7.25</td>\n",
       "      <td>1.002663</td>\n",
       "      <td>8.558743</td>\n",
       "      <td>10.497069</td>\n",
       "      <td>19.369147</td>\n",
       "      <td>34.118526</td>\n",
       "      <td>16.250511</td>\n",
       "      <td>3.049646</td>\n",
       "      <td>6.733907</td>\n",
       "      <td>2.353017</td>\n",
       "      <td>1576.166671</td>\n",
       "      <td>-500.904965</td>\n",
       "      <td>1575.950626</td>\n",
       "      <td>-499.865889</td>\n",
       "      <td>1575.994189</td>\n",
       "      <td>-499.315107</td>\n",
       "      <td>1574.479259</td>\n",
       "      <td>-498.931665</td>\n",
       "      <td>42050.861809</td>\n",
       "      <td>3498.370979</td>\n",
       "      <td>3489.981857</td>\n",
       "      <td>2.858998</td>\n",
       "      <td>6.161113</td>\n",
       "      <td>2.266033</td>\n",
       "      <td>525.290581</td>\n",
       "      <td>57.278666</td>\n",
       "      <td>35.753385</td>\n",
       "      <td>6.478583</td>\n",
       "      <td>11.971193</td>\n",
       "      <td>6.005766</td>\n",
       "      <td>11.996163</td>\n",
       "      <td>6.012594</td>\n",
       "      <td>11.615865</td>\n",
       "      <td>7.278807</td>\n",
       "      <td>28.067063</td>\n",
       "      <td>20.050975</td>\n",
       "      <td>86.843261</td>\n",
       "      <td>4.955378</td>\n",
       "      <td>0.536689</td>\n",
       "      <td>18.965234</td>\n",
       "      <td>1.184827</td>\n",
       "      <td>1000.286398</td>\n",
       "      <td>-400.065196</td>\n",
       "      <td>1600.754587</td>\n",
       "      <td>-449.953435</td>\n",
       "      <td>1600.479580</td>\n",
       "      <td>-449.830646</td>\n",
       "      <td>1600.527589</td>\n",
       "      <td>-449.953649</td>\n",
       "      <td>1399.227084</td>\n",
       "      <td>-450.869848</td>\n",
       "      <td>1399.719514</td>\n",
       "      <td>-450.119001</td>\n",
       "      <td>14.265474</td>\n",
       "      <td>4.592547</td>\n",
       "      <td>9.001494</td>\n",
       "      <td>2.488248</td>\n",
       "      <td>25.880539</td>\n",
       "      <td>-499.989656</td>\n",
       "      <td>23.889530</td>\n",
       "      <td>-500.372428</td>\n",
       "      <td>23.970550</td>\n",
       "      <td>-500.085473</td>\n",
       "      <td>22.085714</td>\n",
       "      <td>-499.446897</td>\n",
       "      <td>13.992281</td>\n",
       "      <td>-505.503262</td>\n",
       "      <td>11.950531</td>\n",
       "      <td>-501.331529</td>\n",
       "      <td>10.039245</td>\n",
       "      <td>-500.169983</td>\n",
       "      <td>7.984757</td>\n",
       "      <td>-500.582168</td>\n",
       "      <td>13.998353</td>\n",
       "      <td>-599.787184</td>\n",
       "    </tr>\n",
       "    <tr>\n",
       "      <th>2</th>\n",
       "      <td>2016-01-15 02:00:00</td>\n",
       "      <td>6.055926</td>\n",
       "      <td>10.213995</td>\n",
       "      <td>5.383759</td>\n",
       "      <td>42.657501</td>\n",
       "      <td>68.116445</td>\n",
       "      <td>10.507046</td>\n",
       "      <td>0.953716</td>\n",
       "      <td>16.208849</td>\n",
       "      <td>2.257889</td>\n",
       "      <td>123.819808</td>\n",
       "      <td>11.316280</td>\n",
       "      <td>7.25</td>\n",
       "      <td>0.991265</td>\n",
       "      <td>8.603505</td>\n",
       "      <td>10.354494</td>\n",
       "      <td>19.167579</td>\n",
       "      <td>33.969464</td>\n",
       "      <td>16.491823</td>\n",
       "      <td>3.124664</td>\n",
       "      <td>6.471768</td>\n",
       "      <td>2.416800</td>\n",
       "      <td>1601.556163</td>\n",
       "      <td>-499.997791</td>\n",
       "      <td>1600.386685</td>\n",
       "      <td>-500.607762</td>\n",
       "      <td>1602.003542</td>\n",
       "      <td>-500.870069</td>\n",
       "      <td>1599.541515</td>\n",
       "      <td>-499.827444</td>\n",
       "      <td>42018.101184</td>\n",
       "      <td>3495.348910</td>\n",
       "      <td>3502.359819</td>\n",
       "      <td>2.945989</td>\n",
       "      <td>6.116455</td>\n",
       "      <td>2.159622</td>\n",
       "      <td>530.026610</td>\n",
       "      <td>57.510649</td>\n",
       "      <td>35.971630</td>\n",
       "      <td>6.362222</td>\n",
       "      <td>11.920603</td>\n",
       "      <td>6.197377</td>\n",
       "      <td>11.920305</td>\n",
       "      <td>6.204633</td>\n",
       "      <td>11.695753</td>\n",
       "      <td>7.216833</td>\n",
       "      <td>27.454037</td>\n",
       "      <td>19.737170</td>\n",
       "      <td>86.842308</td>\n",
       "      <td>4.843460</td>\n",
       "      <td>0.546416</td>\n",
       "      <td>18.808533</td>\n",
       "      <td>1.162562</td>\n",
       "      <td>999.719565</td>\n",
       "      <td>-400.074028</td>\n",
       "      <td>1599.337330</td>\n",
       "      <td>-450.008530</td>\n",
       "      <td>1599.672797</td>\n",
       "      <td>-449.954491</td>\n",
       "      <td>1599.849325</td>\n",
       "      <td>-449.954185</td>\n",
       "      <td>1399.180945</td>\n",
       "      <td>-449.937588</td>\n",
       "      <td>1400.316682</td>\n",
       "      <td>-450.527147</td>\n",
       "      <td>14.115662</td>\n",
       "      <td>4.624775</td>\n",
       "      <td>8.842896</td>\n",
       "      <td>2.458187</td>\n",
       "      <td>26.005245</td>\n",
       "      <td>-499.929616</td>\n",
       "      <td>23.886657</td>\n",
       "      <td>-499.951928</td>\n",
       "      <td>23.913535</td>\n",
       "      <td>-499.442343</td>\n",
       "      <td>23.957717</td>\n",
       "      <td>-499.901982</td>\n",
       "      <td>14.015015</td>\n",
       "      <td>-502.520901</td>\n",
       "      <td>11.912783</td>\n",
       "      <td>-501.133383</td>\n",
       "      <td>10.070913</td>\n",
       "      <td>-500.129135</td>\n",
       "      <td>8.013877</td>\n",
       "      <td>-500.517572</td>\n",
       "      <td>14.028663</td>\n",
       "      <td>-601.427363</td>\n",
       "    </tr>\n",
       "    <tr>\n",
       "      <th>3</th>\n",
       "      <td>2016-01-15 03:00:00</td>\n",
       "      <td>6.047977</td>\n",
       "      <td>9.977019</td>\n",
       "      <td>4.858634</td>\n",
       "      <td>42.689819</td>\n",
       "      <td>68.347543</td>\n",
       "      <td>10.422762</td>\n",
       "      <td>0.883763</td>\n",
       "      <td>16.532835</td>\n",
       "      <td>2.146849</td>\n",
       "      <td>122.270188</td>\n",
       "      <td>11.322140</td>\n",
       "      <td>7.25</td>\n",
       "      <td>0.996739</td>\n",
       "      <td>7.221879</td>\n",
       "      <td>8.496563</td>\n",
       "      <td>15.978538</td>\n",
       "      <td>28.260743</td>\n",
       "      <td>16.024359</td>\n",
       "      <td>2.960362</td>\n",
       "      <td>6.843791</td>\n",
       "      <td>2.262051</td>\n",
       "      <td>1599.968720</td>\n",
       "      <td>-500.951778</td>\n",
       "      <td>1600.659236</td>\n",
       "      <td>-499.677094</td>\n",
       "      <td>1600.304144</td>\n",
       "      <td>-500.727997</td>\n",
       "      <td>1600.449520</td>\n",
       "      <td>-500.052575</td>\n",
       "      <td>42029.447991</td>\n",
       "      <td>3498.578313</td>\n",
       "      <td>3499.162912</td>\n",
       "      <td>3.002340</td>\n",
       "      <td>6.043309</td>\n",
       "      <td>2.037807</td>\n",
       "      <td>542.590390</td>\n",
       "      <td>57.792734</td>\n",
       "      <td>36.862241</td>\n",
       "      <td>6.118189</td>\n",
       "      <td>11.630094</td>\n",
       "      <td>6.203177</td>\n",
       "      <td>11.692450</td>\n",
       "      <td>6.196578</td>\n",
       "      <td>11.915047</td>\n",
       "      <td>7.175616</td>\n",
       "      <td>27.341277</td>\n",
       "      <td>19.320810</td>\n",
       "      <td>87.226430</td>\n",
       "      <td>4.655288</td>\n",
       "      <td>0.542525</td>\n",
       "      <td>19.330200</td>\n",
       "      <td>1.079755</td>\n",
       "      <td>999.814770</td>\n",
       "      <td>-400.200179</td>\n",
       "      <td>1600.059442</td>\n",
       "      <td>-450.619948</td>\n",
       "      <td>1600.012842</td>\n",
       "      <td>-449.910497</td>\n",
       "      <td>1597.725177</td>\n",
       "      <td>-450.130127</td>\n",
       "      <td>1400.943157</td>\n",
       "      <td>-450.030142</td>\n",
       "      <td>1400.234743</td>\n",
       "      <td>-449.790835</td>\n",
       "      <td>13.732071</td>\n",
       "      <td>4.482453</td>\n",
       "      <td>9.122857</td>\n",
       "      <td>2.322062</td>\n",
       "      <td>25.942508</td>\n",
       "      <td>-499.176749</td>\n",
       "      <td>23.955516</td>\n",
       "      <td>-499.848796</td>\n",
       "      <td>23.966838</td>\n",
       "      <td>-500.008812</td>\n",
       "      <td>23.954443</td>\n",
       "      <td>-499.944710</td>\n",
       "      <td>14.036510</td>\n",
       "      <td>-500.857308</td>\n",
       "      <td>11.999550</td>\n",
       "      <td>-501.193686</td>\n",
       "      <td>9.970366</td>\n",
       "      <td>-499.201640</td>\n",
       "      <td>7.977324</td>\n",
       "      <td>-500.255908</td>\n",
       "      <td>14.005551</td>\n",
       "      <td>-599.996129</td>\n",
       "    </tr>\n",
       "    <tr>\n",
       "      <th>4</th>\n",
       "      <td>2016-01-15 04:00:00</td>\n",
       "      <td>6.148599</td>\n",
       "      <td>10.142511</td>\n",
       "      <td>4.939416</td>\n",
       "      <td>42.774141</td>\n",
       "      <td>66.927016</td>\n",
       "      <td>10.360302</td>\n",
       "      <td>0.792826</td>\n",
       "      <td>16.525686</td>\n",
       "      <td>2.055292</td>\n",
       "      <td>117.988169</td>\n",
       "      <td>11.913613</td>\n",
       "      <td>7.25</td>\n",
       "      <td>1.009869</td>\n",
       "      <td>9.089428</td>\n",
       "      <td>9.986786</td>\n",
       "      <td>19.199864</td>\n",
       "      <td>33.044932</td>\n",
       "      <td>16.480185</td>\n",
       "      <td>3.112100</td>\n",
       "      <td>6.550154</td>\n",
       "      <td>2.277073</td>\n",
       "      <td>1601.339707</td>\n",
       "      <td>-498.975456</td>\n",
       "      <td>1601.437854</td>\n",
       "      <td>-500.323246</td>\n",
       "      <td>1599.581894</td>\n",
       "      <td>-500.888152</td>\n",
       "      <td>1602.649541</td>\n",
       "      <td>-500.593010</td>\n",
       "      <td>42125.354245</td>\n",
       "      <td>3494.800771</td>\n",
       "      <td>3506.679315</td>\n",
       "      <td>3.169615</td>\n",
       "      <td>6.060915</td>\n",
       "      <td>1.786875</td>\n",
       "      <td>540.531893</td>\n",
       "      <td>56.047189</td>\n",
       "      <td>34.347666</td>\n",
       "      <td>5.663707</td>\n",
       "      <td>10.957755</td>\n",
       "      <td>6.198826</td>\n",
       "      <td>10.960521</td>\n",
       "      <td>6.194897</td>\n",
       "      <td>12.411054</td>\n",
       "      <td>7.240205</td>\n",
       "      <td>27.041023</td>\n",
       "      <td>19.216101</td>\n",
       "      <td>86.688794</td>\n",
       "      <td>4.552800</td>\n",
       "      <td>0.515438</td>\n",
       "      <td>19.267422</td>\n",
       "      <td>1.012642</td>\n",
       "      <td>999.678690</td>\n",
       "      <td>-399.752729</td>\n",
       "      <td>1600.208824</td>\n",
       "      <td>-449.599614</td>\n",
       "      <td>1600.357732</td>\n",
       "      <td>-450.034364</td>\n",
       "      <td>1599.759049</td>\n",
       "      <td>-449.909799</td>\n",
       "      <td>1401.560902</td>\n",
       "      <td>-448.877187</td>\n",
       "      <td>1401.160227</td>\n",
       "      <td>-450.407128</td>\n",
       "      <td>14.079996</td>\n",
       "      <td>4.470737</td>\n",
       "      <td>8.871028</td>\n",
       "      <td>2.330448</td>\n",
       "      <td>26.024787</td>\n",
       "      <td>-500.279091</td>\n",
       "      <td>23.955345</td>\n",
       "      <td>-500.593614</td>\n",
       "      <td>23.985703</td>\n",
       "      <td>-500.083811</td>\n",
       "      <td>23.958945</td>\n",
       "      <td>-499.990309</td>\n",
       "      <td>14.027298</td>\n",
       "      <td>-499.838632</td>\n",
       "      <td>11.953070</td>\n",
       "      <td>-501.053894</td>\n",
       "      <td>9.925709</td>\n",
       "      <td>-501.686727</td>\n",
       "      <td>7.894242</td>\n",
       "      <td>-500.356035</td>\n",
       "      <td>13.996647</td>\n",
       "      <td>-601.496691</td>\n",
       "    </tr>\n",
       "  </tbody>\n",
       "</table>\n",
       "</div>"
      ],
      "text/plain": [
       "                  date  final.output.concentrate_ag  \\\n",
       "0  2016-01-15 00:00:00                     6.055403   \n",
       "1  2016-01-15 01:00:00                     6.029369   \n",
       "2  2016-01-15 02:00:00                     6.055926   \n",
       "3  2016-01-15 03:00:00                     6.047977   \n",
       "4  2016-01-15 04:00:00                     6.148599   \n",
       "\n",
       "   final.output.concentrate_pb  final.output.concentrate_sol  \\\n",
       "0                     9.889648                      5.507324   \n",
       "1                     9.968944                      5.257781   \n",
       "2                    10.213995                      5.383759   \n",
       "3                     9.977019                      4.858634   \n",
       "4                    10.142511                      4.939416   \n",
       "\n",
       "   final.output.concentrate_au  final.output.recovery  final.output.tail_ag  \\\n",
       "0                    42.192020              70.541216             10.411962   \n",
       "1                    42.701629              69.266198             10.462676   \n",
       "2                    42.657501              68.116445             10.507046   \n",
       "3                    42.689819              68.347543             10.422762   \n",
       "4                    42.774141              66.927016             10.360302   \n",
       "\n",
       "   final.output.tail_pb  final.output.tail_sol  final.output.tail_au  \\\n",
       "0              0.895447              16.904297              2.143149   \n",
       "1              0.927452              16.634514              2.224930   \n",
       "2              0.953716              16.208849              2.257889   \n",
       "3              0.883763              16.532835              2.146849   \n",
       "4              0.792826              16.525686              2.055292   \n",
       "\n",
       "   primary_cleaner.input.sulfate  primary_cleaner.input.depressant  \\\n",
       "0                     127.092003                         10.128295   \n",
       "1                     125.629232                         10.296251   \n",
       "2                     123.819808                         11.316280   \n",
       "3                     122.270188                         11.322140   \n",
       "4                     117.988169                         11.913613   \n",
       "\n",
       "   primary_cleaner.input.feed_size  primary_cleaner.input.xanthate  \\\n",
       "0                             7.25                        0.988759   \n",
       "1                             7.25                        1.002663   \n",
       "2                             7.25                        0.991265   \n",
       "3                             7.25                        0.996739   \n",
       "4                             7.25                        1.009869   \n",
       "\n",
       "   primary_cleaner.output.concentrate_ag  \\\n",
       "0                               8.547551   \n",
       "1                               8.558743   \n",
       "2                               8.603505   \n",
       "3                               7.221879   \n",
       "4                               9.089428   \n",
       "\n",
       "   primary_cleaner.output.concentrate_pb  \\\n",
       "0                              10.389648   \n",
       "1                              10.497069   \n",
       "2                              10.354494   \n",
       "3                               8.496563   \n",
       "4                               9.986786   \n",
       "\n",
       "   primary_cleaner.output.concentrate_sol  \\\n",
       "0                               19.529297   \n",
       "1                               19.369147   \n",
       "2                               19.167579   \n",
       "3                               15.978538   \n",
       "4                               19.199864   \n",
       "\n",
       "   primary_cleaner.output.concentrate_au  primary_cleaner.output.tail_ag  \\\n",
       "0                              34.174427                       14.936526   \n",
       "1                              34.118526                       16.250511   \n",
       "2                              33.969464                       16.491823   \n",
       "3                              28.260743                       16.024359   \n",
       "4                              33.044932                       16.480185   \n",
       "\n",
       "   primary_cleaner.output.tail_pb  primary_cleaner.output.tail_sol  \\\n",
       "0                        2.534912                         7.476074   \n",
       "1                        3.049646                         6.733907   \n",
       "2                        3.124664                         6.471768   \n",
       "3                        2.960362                         6.843791   \n",
       "4                        3.112100                         6.550154   \n",
       "\n",
       "   primary_cleaner.output.tail_au  primary_cleaner.state.floatbank8_a_air  \\\n",
       "0                        2.106679                             1549.775757   \n",
       "1                        2.353017                             1576.166671   \n",
       "2                        2.416800                             1601.556163   \n",
       "3                        2.262051                             1599.968720   \n",
       "4                        2.277073                             1601.339707   \n",
       "\n",
       "   primary_cleaner.state.floatbank8_a_level  \\\n",
       "0                               -498.912140   \n",
       "1                               -500.904965   \n",
       "2                               -499.997791   \n",
       "3                               -500.951778   \n",
       "4                               -498.975456   \n",
       "\n",
       "   primary_cleaner.state.floatbank8_b_air  \\\n",
       "0                             1551.434204   \n",
       "1                             1575.950626   \n",
       "2                             1600.386685   \n",
       "3                             1600.659236   \n",
       "4                             1601.437854   \n",
       "\n",
       "   primary_cleaner.state.floatbank8_b_level  \\\n",
       "0                               -516.403442   \n",
       "1                               -499.865889   \n",
       "2                               -500.607762   \n",
       "3                               -499.677094   \n",
       "4                               -500.323246   \n",
       "\n",
       "   primary_cleaner.state.floatbank8_c_air  \\\n",
       "0                             1549.873901   \n",
       "1                             1575.994189   \n",
       "2                             1602.003542   \n",
       "3                             1600.304144   \n",
       "4                             1599.581894   \n",
       "\n",
       "   primary_cleaner.state.floatbank8_c_level  \\\n",
       "0                               -498.666595   \n",
       "1                               -499.315107   \n",
       "2                               -500.870069   \n",
       "3                               -500.727997   \n",
       "4                               -500.888152   \n",
       "\n",
       "   primary_cleaner.state.floatbank8_d_air  \\\n",
       "0                             1554.367432   \n",
       "1                             1574.479259   \n",
       "2                             1599.541515   \n",
       "3                             1600.449520   \n",
       "4                             1602.649541   \n",
       "\n",
       "   primary_cleaner.state.floatbank8_d_level  \\\n",
       "0                               -493.428131   \n",
       "1                               -498.931665   \n",
       "2                               -499.827444   \n",
       "3                               -500.052575   \n",
       "4                               -500.593010   \n",
       "\n",
       "   rougher.calculation.sulfate_to_au_concentrate  \\\n",
       "0                                   41885.707031   \n",
       "1                                   42050.861809   \n",
       "2                                   42018.101184   \n",
       "3                                   42029.447991   \n",
       "4                                   42125.354245   \n",
       "\n",
       "   rougher.calculation.floatbank10_sulfate_to_au_feed  \\\n",
       "0                                        3481.779053    \n",
       "1                                        3498.370979    \n",
       "2                                        3495.348910    \n",
       "3                                        3498.578313    \n",
       "4                                        3494.800771    \n",
       "\n",
       "   rougher.calculation.floatbank11_sulfate_to_au_feed  \\\n",
       "0                                        3520.337158    \n",
       "1                                        3489.981857    \n",
       "2                                        3502.359819    \n",
       "3                                        3499.162912    \n",
       "4                                        3506.679315    \n",
       "\n",
       "   rougher.calculation.au_pb_ratio  rougher.input.feed_ag  \\\n",
       "0                         2.838687               6.100378   \n",
       "1                         2.858998               6.161113   \n",
       "2                         2.945989               6.116455   \n",
       "3                         3.002340               6.043309   \n",
       "4                         3.169615               6.060915   \n",
       "\n",
       "   rougher.input.feed_pb  rougher.input.feed_rate  rougher.input.feed_size  \\\n",
       "0               2.284912               523.546326                55.486599   \n",
       "1               2.266033               525.290581                57.278666   \n",
       "2               2.159622               530.026610                57.510649   \n",
       "3               2.037807               542.590390                57.792734   \n",
       "4               1.786875               540.531893                56.047189   \n",
       "\n",
       "   rougher.input.feed_sol  rougher.input.feed_au  \\\n",
       "0               36.808594               6.486150   \n",
       "1               35.753385               6.478583   \n",
       "2               35.971630               6.362222   \n",
       "3               36.862241               6.118189   \n",
       "4               34.347666               5.663707   \n",
       "\n",
       "   rougher.input.floatbank10_sulfate  rougher.input.floatbank10_xanthate  \\\n",
       "0                          11.986616                            6.007990   \n",
       "1                          11.971193                            6.005766   \n",
       "2                          11.920603                            6.197377   \n",
       "3                          11.630094                            6.203177   \n",
       "4                          10.957755                            6.198826   \n",
       "\n",
       "   rougher.input.floatbank11_sulfate  rougher.input.floatbank11_xanthate  \\\n",
       "0                          11.836743                            6.005818   \n",
       "1                          11.996163                            6.012594   \n",
       "2                          11.920305                            6.204633   \n",
       "3                          11.692450                            6.196578   \n",
       "4                          10.960521                            6.194897   \n",
       "\n",
       "   rougher.output.concentrate_ag  rougher.output.concentrate_pb  \\\n",
       "0                      11.500771                       7.101074   \n",
       "1                      11.615865                       7.278807   \n",
       "2                      11.695753                       7.216833   \n",
       "3                      11.915047                       7.175616   \n",
       "4                      12.411054                       7.240205   \n",
       "\n",
       "   rougher.output.concentrate_sol  rougher.output.concentrate_au  \\\n",
       "0                       28.029297                      19.793808   \n",
       "1                       28.067063                      20.050975   \n",
       "2                       27.454037                      19.737170   \n",
       "3                       27.341277                      19.320810   \n",
       "4                       27.041023                      19.216101   \n",
       "\n",
       "   rougher.output.recovery  rougher.output.tail_ag  rougher.output.tail_pb  \\\n",
       "0                87.107763                5.008018                0.508728   \n",
       "1                86.843261                4.955378                0.536689   \n",
       "2                86.842308                4.843460                0.546416   \n",
       "3                87.226430                4.655288                0.542525   \n",
       "4                86.688794                4.552800                0.515438   \n",
       "\n",
       "   rougher.output.tail_sol  rougher.output.tail_au  \\\n",
       "0                19.154297                1.170244   \n",
       "1                18.965234                1.184827   \n",
       "2                18.808533                1.162562   \n",
       "3                19.330200                1.079755   \n",
       "4                19.267422                1.012642   \n",
       "\n",
       "   rougher.state.floatbank10_a_air  rougher.state.floatbank10_a_level  \\\n",
       "0                       999.706909                        -404.066986   \n",
       "1                      1000.286398                        -400.065196   \n",
       "2                       999.719565                        -400.074028   \n",
       "3                       999.814770                        -400.200179   \n",
       "4                       999.678690                        -399.752729   \n",
       "\n",
       "   rougher.state.floatbank10_b_air  rougher.state.floatbank10_b_level  \\\n",
       "0                      1603.011353                        -434.715027   \n",
       "1                      1600.754587                        -449.953435   \n",
       "2                      1599.337330                        -450.008530   \n",
       "3                      1600.059442                        -450.619948   \n",
       "4                      1600.208824                        -449.599614   \n",
       "\n",
       "   rougher.state.floatbank10_c_air  rougher.state.floatbank10_c_level  \\\n",
       "0                      1602.375000                        -442.204468   \n",
       "1                      1600.479580                        -449.830646   \n",
       "2                      1599.672797                        -449.954491   \n",
       "3                      1600.012842                        -449.910497   \n",
       "4                      1600.357732                        -450.034364   \n",
       "\n",
       "   rougher.state.floatbank10_d_air  rougher.state.floatbank10_d_level  \\\n",
       "0                      1598.937256                        -451.294128   \n",
       "1                      1600.527589                        -449.953649   \n",
       "2                      1599.849325                        -449.954185   \n",
       "3                      1597.725177                        -450.130127   \n",
       "4                      1599.759049                        -449.909799   \n",
       "\n",
       "   rougher.state.floatbank10_e_air  rougher.state.floatbank10_e_level  \\\n",
       "0                      1404.472046                        -455.462982   \n",
       "1                      1399.227084                        -450.869848   \n",
       "2                      1399.180945                        -449.937588   \n",
       "3                      1400.943157                        -450.030142   \n",
       "4                      1401.560902                        -448.877187   \n",
       "\n",
       "   rougher.state.floatbank10_f_air  rougher.state.floatbank10_f_level  \\\n",
       "0                      1416.354980                        -451.939636   \n",
       "1                      1399.719514                        -450.119001   \n",
       "2                      1400.316682                        -450.527147   \n",
       "3                      1400.234743                        -449.790835   \n",
       "4                      1401.160227                        -450.407128   \n",
       "\n",
       "   secondary_cleaner.output.tail_ag  secondary_cleaner.output.tail_pb  \\\n",
       "0                         14.500184                          4.694824   \n",
       "1                         14.265474                          4.592547   \n",
       "2                         14.115662                          4.624775   \n",
       "3                         13.732071                          4.482453   \n",
       "4                         14.079996                          4.470737   \n",
       "\n",
       "   secondary_cleaner.output.tail_sol  secondary_cleaner.output.tail_au  \\\n",
       "0                           8.764648                          2.606185   \n",
       "1                           9.001494                          2.488248   \n",
       "2                           8.842896                          2.458187   \n",
       "3                           9.122857                          2.322062   \n",
       "4                           8.871028                          2.330448   \n",
       "\n",
       "   secondary_cleaner.state.floatbank2_a_air  \\\n",
       "0                                 25.853109   \n",
       "1                                 25.880539   \n",
       "2                                 26.005245   \n",
       "3                                 25.942508   \n",
       "4                                 26.024787   \n",
       "\n",
       "   secondary_cleaner.state.floatbank2_a_level  \\\n",
       "0                                 -498.526489   \n",
       "1                                 -499.989656   \n",
       "2                                 -499.929616   \n",
       "3                                 -499.176749   \n",
       "4                                 -500.279091   \n",
       "\n",
       "   secondary_cleaner.state.floatbank2_b_air  \\\n",
       "0                                 23.893660   \n",
       "1                                 23.889530   \n",
       "2                                 23.886657   \n",
       "3                                 23.955516   \n",
       "4                                 23.955345   \n",
       "\n",
       "   secondary_cleaner.state.floatbank2_b_level  \\\n",
       "0                                 -501.406281   \n",
       "1                                 -500.372428   \n",
       "2                                 -499.951928   \n",
       "3                                 -499.848796   \n",
       "4                                 -500.593614   \n",
       "\n",
       "   secondary_cleaner.state.floatbank3_a_air  \\\n",
       "0                                 23.961798   \n",
       "1                                 23.970550   \n",
       "2                                 23.913535   \n",
       "3                                 23.966838   \n",
       "4                                 23.985703   \n",
       "\n",
       "   secondary_cleaner.state.floatbank3_a_level  \\\n",
       "0                                 -495.262817   \n",
       "1                                 -500.085473   \n",
       "2                                 -499.442343   \n",
       "3                                 -500.008812   \n",
       "4                                 -500.083811   \n",
       "\n",
       "   secondary_cleaner.state.floatbank3_b_air  \\\n",
       "0                                 21.940409   \n",
       "1                                 22.085714   \n",
       "2                                 23.957717   \n",
       "3                                 23.954443   \n",
       "4                                 23.958945   \n",
       "\n",
       "   secondary_cleaner.state.floatbank3_b_level  \\\n",
       "0                                 -499.340973   \n",
       "1                                 -499.446897   \n",
       "2                                 -499.901982   \n",
       "3                                 -499.944710   \n",
       "4                                 -499.990309   \n",
       "\n",
       "   secondary_cleaner.state.floatbank4_a_air  \\\n",
       "0                                 14.016835   \n",
       "1                                 13.992281   \n",
       "2                                 14.015015   \n",
       "3                                 14.036510   \n",
       "4                                 14.027298   \n",
       "\n",
       "   secondary_cleaner.state.floatbank4_a_level  \\\n",
       "0                                 -502.488007   \n",
       "1                                 -505.503262   \n",
       "2                                 -502.520901   \n",
       "3                                 -500.857308   \n",
       "4                                 -499.838632   \n",
       "\n",
       "   secondary_cleaner.state.floatbank4_b_air  \\\n",
       "0                                 12.099931   \n",
       "1                                 11.950531   \n",
       "2                                 11.912783   \n",
       "3                                 11.999550   \n",
       "4                                 11.953070   \n",
       "\n",
       "   secondary_cleaner.state.floatbank4_b_level  \\\n",
       "0                                 -504.715942   \n",
       "1                                 -501.331529   \n",
       "2                                 -501.133383   \n",
       "3                                 -501.193686   \n",
       "4                                 -501.053894   \n",
       "\n",
       "   secondary_cleaner.state.floatbank5_a_air  \\\n",
       "0                                  9.925633   \n",
       "1                                 10.039245   \n",
       "2                                 10.070913   \n",
       "3                                  9.970366   \n",
       "4                                  9.925709   \n",
       "\n",
       "   secondary_cleaner.state.floatbank5_a_level  \\\n",
       "0                                 -498.310211   \n",
       "1                                 -500.169983   \n",
       "2                                 -500.129135   \n",
       "3                                 -499.201640   \n",
       "4                                 -501.686727   \n",
       "\n",
       "   secondary_cleaner.state.floatbank5_b_air  \\\n",
       "0                                  8.079666   \n",
       "1                                  7.984757   \n",
       "2                                  8.013877   \n",
       "3                                  7.977324   \n",
       "4                                  7.894242   \n",
       "\n",
       "   secondary_cleaner.state.floatbank5_b_level  \\\n",
       "0                                 -500.470978   \n",
       "1                                 -500.582168   \n",
       "2                                 -500.517572   \n",
       "3                                 -500.255908   \n",
       "4                                 -500.356035   \n",
       "\n",
       "   secondary_cleaner.state.floatbank6_a_air  \\\n",
       "0                                 14.151341   \n",
       "1                                 13.998353   \n",
       "2                                 14.028663   \n",
       "3                                 14.005551   \n",
       "4                                 13.996647   \n",
       "\n",
       "   secondary_cleaner.state.floatbank6_a_level  \n",
       "0                                 -605.841980  \n",
       "1                                 -599.787184  \n",
       "2                                 -601.427363  \n",
       "3                                 -599.996129  \n",
       "4                                 -601.496691  "
      ]
     },
     "metadata": {},
     "output_type": "display_data"
    },
    {
     "name": "stdout",
     "output_type": "stream",
     "text": [
      "\n",
      "\n",
      "\n",
      "Статистики\n"
     ]
    },
    {
     "data": {
      "text/html": [
       "<div>\n",
       "<style scoped>\n",
       "    .dataframe tbody tr th:only-of-type {\n",
       "        vertical-align: middle;\n",
       "    }\n",
       "\n",
       "    .dataframe tbody tr th {\n",
       "        vertical-align: top;\n",
       "    }\n",
       "\n",
       "    .dataframe thead th {\n",
       "        text-align: right;\n",
       "    }\n",
       "</style>\n",
       "<table border=\"1\" class=\"dataframe\">\n",
       "  <thead>\n",
       "    <tr style=\"text-align: right;\">\n",
       "      <th></th>\n",
       "      <th>final.output.concentrate_ag</th>\n",
       "      <th>final.output.concentrate_pb</th>\n",
       "      <th>final.output.concentrate_sol</th>\n",
       "      <th>final.output.concentrate_au</th>\n",
       "      <th>final.output.recovery</th>\n",
       "      <th>final.output.tail_ag</th>\n",
       "      <th>final.output.tail_pb</th>\n",
       "      <th>final.output.tail_sol</th>\n",
       "      <th>final.output.tail_au</th>\n",
       "      <th>primary_cleaner.input.sulfate</th>\n",
       "      <th>primary_cleaner.input.depressant</th>\n",
       "      <th>primary_cleaner.input.feed_size</th>\n",
       "      <th>primary_cleaner.input.xanthate</th>\n",
       "      <th>primary_cleaner.output.concentrate_ag</th>\n",
       "      <th>primary_cleaner.output.concentrate_pb</th>\n",
       "      <th>primary_cleaner.output.concentrate_sol</th>\n",
       "      <th>primary_cleaner.output.concentrate_au</th>\n",
       "      <th>primary_cleaner.output.tail_ag</th>\n",
       "      <th>primary_cleaner.output.tail_pb</th>\n",
       "      <th>primary_cleaner.output.tail_sol</th>\n",
       "      <th>primary_cleaner.output.tail_au</th>\n",
       "      <th>primary_cleaner.state.floatbank8_a_air</th>\n",
       "      <th>primary_cleaner.state.floatbank8_a_level</th>\n",
       "      <th>primary_cleaner.state.floatbank8_b_air</th>\n",
       "      <th>primary_cleaner.state.floatbank8_b_level</th>\n",
       "      <th>primary_cleaner.state.floatbank8_c_air</th>\n",
       "      <th>primary_cleaner.state.floatbank8_c_level</th>\n",
       "      <th>primary_cleaner.state.floatbank8_d_air</th>\n",
       "      <th>primary_cleaner.state.floatbank8_d_level</th>\n",
       "      <th>rougher.calculation.sulfate_to_au_concentrate</th>\n",
       "      <th>rougher.calculation.floatbank10_sulfate_to_au_feed</th>\n",
       "      <th>rougher.calculation.floatbank11_sulfate_to_au_feed</th>\n",
       "      <th>rougher.calculation.au_pb_ratio</th>\n",
       "      <th>rougher.input.feed_ag</th>\n",
       "      <th>rougher.input.feed_pb</th>\n",
       "      <th>rougher.input.feed_rate</th>\n",
       "      <th>rougher.input.feed_size</th>\n",
       "      <th>rougher.input.feed_sol</th>\n",
       "      <th>rougher.input.feed_au</th>\n",
       "      <th>rougher.input.floatbank10_sulfate</th>\n",
       "      <th>rougher.input.floatbank10_xanthate</th>\n",
       "      <th>rougher.input.floatbank11_sulfate</th>\n",
       "      <th>rougher.input.floatbank11_xanthate</th>\n",
       "      <th>rougher.output.concentrate_ag</th>\n",
       "      <th>rougher.output.concentrate_pb</th>\n",
       "      <th>rougher.output.concentrate_sol</th>\n",
       "      <th>rougher.output.concentrate_au</th>\n",
       "      <th>rougher.output.recovery</th>\n",
       "      <th>rougher.output.tail_ag</th>\n",
       "      <th>rougher.output.tail_pb</th>\n",
       "      <th>rougher.output.tail_sol</th>\n",
       "      <th>rougher.output.tail_au</th>\n",
       "      <th>rougher.state.floatbank10_a_air</th>\n",
       "      <th>rougher.state.floatbank10_a_level</th>\n",
       "      <th>rougher.state.floatbank10_b_air</th>\n",
       "      <th>rougher.state.floatbank10_b_level</th>\n",
       "      <th>rougher.state.floatbank10_c_air</th>\n",
       "      <th>rougher.state.floatbank10_c_level</th>\n",
       "      <th>rougher.state.floatbank10_d_air</th>\n",
       "      <th>rougher.state.floatbank10_d_level</th>\n",
       "      <th>rougher.state.floatbank10_e_air</th>\n",
       "      <th>rougher.state.floatbank10_e_level</th>\n",
       "      <th>rougher.state.floatbank10_f_air</th>\n",
       "      <th>rougher.state.floatbank10_f_level</th>\n",
       "      <th>secondary_cleaner.output.tail_ag</th>\n",
       "      <th>secondary_cleaner.output.tail_pb</th>\n",
       "      <th>secondary_cleaner.output.tail_sol</th>\n",
       "      <th>secondary_cleaner.output.tail_au</th>\n",
       "      <th>secondary_cleaner.state.floatbank2_a_air</th>\n",
       "      <th>secondary_cleaner.state.floatbank2_a_level</th>\n",
       "      <th>secondary_cleaner.state.floatbank2_b_air</th>\n",
       "      <th>secondary_cleaner.state.floatbank2_b_level</th>\n",
       "      <th>secondary_cleaner.state.floatbank3_a_air</th>\n",
       "      <th>secondary_cleaner.state.floatbank3_a_level</th>\n",
       "      <th>secondary_cleaner.state.floatbank3_b_air</th>\n",
       "      <th>secondary_cleaner.state.floatbank3_b_level</th>\n",
       "      <th>secondary_cleaner.state.floatbank4_a_air</th>\n",
       "      <th>secondary_cleaner.state.floatbank4_a_level</th>\n",
       "      <th>secondary_cleaner.state.floatbank4_b_air</th>\n",
       "      <th>secondary_cleaner.state.floatbank4_b_level</th>\n",
       "      <th>secondary_cleaner.state.floatbank5_a_air</th>\n",
       "      <th>secondary_cleaner.state.floatbank5_a_level</th>\n",
       "      <th>secondary_cleaner.state.floatbank5_b_air</th>\n",
       "      <th>secondary_cleaner.state.floatbank5_b_level</th>\n",
       "      <th>secondary_cleaner.state.floatbank6_a_air</th>\n",
       "      <th>secondary_cleaner.state.floatbank6_a_level</th>\n",
       "    </tr>\n",
       "  </thead>\n",
       "  <tbody>\n",
       "    <tr>\n",
       "      <th>count</th>\n",
       "      <td>19438.000000</td>\n",
       "      <td>19438.000000</td>\n",
       "      <td>19228.000000</td>\n",
       "      <td>19439.000000</td>\n",
       "      <td>19439.000000</td>\n",
       "      <td>19438.000000</td>\n",
       "      <td>19338.000000</td>\n",
       "      <td>19433.000000</td>\n",
       "      <td>19439.000000</td>\n",
       "      <td>19415.000000</td>\n",
       "      <td>19402.000000</td>\n",
       "      <td>19439.000000</td>\n",
       "      <td>19335.000000</td>\n",
       "      <td>19439.000000</td>\n",
       "      <td>19323.000000</td>\n",
       "      <td>19069.000000</td>\n",
       "      <td>19439.000000</td>\n",
       "      <td>19435.000000</td>\n",
       "      <td>19418.000000</td>\n",
       "      <td>19377.000000</td>\n",
       "      <td>19439.000000</td>\n",
       "      <td>1.943500e+04</td>\n",
       "      <td>19438.000000</td>\n",
       "      <td>1.943500e+04</td>\n",
       "      <td>19438.000000</td>\n",
       "      <td>1.943700e+04</td>\n",
       "      <td>19438.000000</td>\n",
       "      <td>1.943600e+04</td>\n",
       "      <td>19438.000000</td>\n",
       "      <td>1.943700e+04</td>\n",
       "      <td>19437.000000</td>\n",
       "      <td>19437.000000</td>\n",
       "      <td>19439.000000</td>\n",
       "      <td>19439.000000</td>\n",
       "      <td>19339.000000</td>\n",
       "      <td>19428.000000</td>\n",
       "      <td>19294.000000</td>\n",
       "      <td>19340.000000</td>\n",
       "      <td>19439.000000</td>\n",
       "      <td>19405.000000</td>\n",
       "      <td>19431.000000</td>\n",
       "      <td>19395.000000</td>\n",
       "      <td>18986.000000</td>\n",
       "      <td>19439.000000</td>\n",
       "      <td>19439.000000</td>\n",
       "      <td>19416.000000</td>\n",
       "      <td>19439.000000</td>\n",
       "      <td>19439.000000</td>\n",
       "      <td>19438.000000</td>\n",
       "      <td>19439.000000</td>\n",
       "      <td>19439.000000</td>\n",
       "      <td>19439.000000</td>\n",
       "      <td>19438.000000</td>\n",
       "      <td>19438.000000</td>\n",
       "      <td>19438.000000</td>\n",
       "      <td>19438.000000</td>\n",
       "      <td>19438.000000</td>\n",
       "      <td>19438.000000</td>\n",
       "      <td>19439.000000</td>\n",
       "      <td>19439.000000</td>\n",
       "      <td>19003.000000</td>\n",
       "      <td>19439.000000</td>\n",
       "      <td>19439.000000</td>\n",
       "      <td>19439.000000</td>\n",
       "      <td>19437.000000</td>\n",
       "      <td>19427.000000</td>\n",
       "      <td>17691.000000</td>\n",
       "      <td>19439.000000</td>\n",
       "      <td>19219.000000</td>\n",
       "      <td>19438.000000</td>\n",
       "      <td>19416.000000</td>\n",
       "      <td>19438.000000</td>\n",
       "      <td>19426.000000</td>\n",
       "      <td>19438.000000</td>\n",
       "      <td>19438.000000</td>\n",
       "      <td>19438.000000</td>\n",
       "      <td>19433.000000</td>\n",
       "      <td>19438.000000</td>\n",
       "      <td>19438.000000</td>\n",
       "      <td>19438.000000</td>\n",
       "      <td>19438.000000</td>\n",
       "      <td>19438.000000</td>\n",
       "      <td>19438.000000</td>\n",
       "      <td>19438.000000</td>\n",
       "      <td>19437.000000</td>\n",
       "      <td>19438.000000</td>\n",
       "    </tr>\n",
       "    <tr>\n",
       "      <th>mean</th>\n",
       "      <td>5.168470</td>\n",
       "      <td>9.978895</td>\n",
       "      <td>9.501224</td>\n",
       "      <td>44.076513</td>\n",
       "      <td>67.050208</td>\n",
       "      <td>9.688589</td>\n",
       "      <td>2.705795</td>\n",
       "      <td>10.583728</td>\n",
       "      <td>3.042467</td>\n",
       "      <td>144.624774</td>\n",
       "      <td>8.817039</td>\n",
       "      <td>7.307078</td>\n",
       "      <td>1.021795</td>\n",
       "      <td>8.442408</td>\n",
       "      <td>9.829530</td>\n",
       "      <td>10.489499</td>\n",
       "      <td>32.119400</td>\n",
       "      <td>16.145826</td>\n",
       "      <td>3.435656</td>\n",
       "      <td>7.973209</td>\n",
       "      <td>3.914179</td>\n",
       "      <td>1.589354e+03</td>\n",
       "      <td>-491.195012</td>\n",
       "      <td>1.591344e+03</td>\n",
       "      <td>-492.192978</td>\n",
       "      <td>1.586669e+03</td>\n",
       "      <td>-491.980070</td>\n",
       "      <td>1.542912e+03</td>\n",
       "      <td>-488.017382</td>\n",
       "      <td>4.217119e+04</td>\n",
       "      <td>3393.052498</td>\n",
       "      <td>3256.854171</td>\n",
       "      <td>2.420119</td>\n",
       "      <td>8.794927</td>\n",
       "      <td>3.598085</td>\n",
       "      <td>478.320042</td>\n",
       "      <td>58.970310</td>\n",
       "      <td>36.695114</td>\n",
       "      <td>8.266097</td>\n",
       "      <td>12.334373</td>\n",
       "      <td>6.021474</td>\n",
       "      <td>12.064140</td>\n",
       "      <td>6.065533</td>\n",
       "      <td>11.994759</td>\n",
       "      <td>7.606272</td>\n",
       "      <td>28.805571</td>\n",
       "      <td>19.772000</td>\n",
       "      <td>83.328587</td>\n",
       "      <td>5.588982</td>\n",
       "      <td>0.645782</td>\n",
       "      <td>18.057106</td>\n",
       "      <td>1.816391</td>\n",
       "      <td>1105.315068</td>\n",
       "      <td>-376.610690</td>\n",
       "      <td>1320.221139</td>\n",
       "      <td>-467.247826</td>\n",
       "      <td>1299.968799</td>\n",
       "      <td>-467.716946</td>\n",
       "      <td>1211.563299</td>\n",
       "      <td>-468.239912</td>\n",
       "      <td>1080.869685</td>\n",
       "      <td>-466.037742</td>\n",
       "      <td>1025.274256</td>\n",
       "      <td>-466.265327</td>\n",
       "      <td>14.586833</td>\n",
       "      <td>5.777703</td>\n",
       "      <td>7.167247</td>\n",
       "      <td>4.339625</td>\n",
       "      <td>28.705564</td>\n",
       "      <td>-502.367331</td>\n",
       "      <td>24.106800</td>\n",
       "      <td>-503.230712</td>\n",
       "      <td>28.199338</td>\n",
       "      <td>-486.203350</td>\n",
       "      <td>22.200645</td>\n",
       "      <td>-493.742107</td>\n",
       "      <td>18.987674</td>\n",
       "      <td>-485.894516</td>\n",
       "      <td>15.010366</td>\n",
       "      <td>-461.078636</td>\n",
       "      <td>15.694452</td>\n",
       "      <td>-488.684065</td>\n",
       "      <td>12.198224</td>\n",
       "      <td>-487.149827</td>\n",
       "      <td>18.959024</td>\n",
       "      <td>-505.436305</td>\n",
       "    </tr>\n",
       "    <tr>\n",
       "      <th>std</th>\n",
       "      <td>1.372348</td>\n",
       "      <td>1.669240</td>\n",
       "      <td>2.787537</td>\n",
       "      <td>5.129784</td>\n",
       "      <td>10.125840</td>\n",
       "      <td>2.328642</td>\n",
       "      <td>0.949077</td>\n",
       "      <td>2.868782</td>\n",
       "      <td>0.922808</td>\n",
       "      <td>44.464071</td>\n",
       "      <td>3.286186</td>\n",
       "      <td>0.613509</td>\n",
       "      <td>0.513254</td>\n",
       "      <td>2.054465</td>\n",
       "      <td>2.556843</td>\n",
       "      <td>3.909639</td>\n",
       "      <td>5.627611</td>\n",
       "      <td>3.548598</td>\n",
       "      <td>1.392536</td>\n",
       "      <td>2.212677</td>\n",
       "      <td>1.593034</td>\n",
       "      <td>1.289968e+02</td>\n",
       "      <td>32.431842</td>\n",
       "      <td>1.318109e+02</td>\n",
       "      <td>33.794822</td>\n",
       "      <td>1.361114e+02</td>\n",
       "      <td>32.711455</td>\n",
       "      <td>2.461996e+02</td>\n",
       "      <td>43.959780</td>\n",
       "      <td>3.243621e+05</td>\n",
       "      <td>4943.845943</td>\n",
       "      <td>5781.423659</td>\n",
       "      <td>0.814935</td>\n",
       "      <td>1.936847</td>\n",
       "      <td>1.049486</td>\n",
       "      <td>105.373758</td>\n",
       "      <td>21.634478</td>\n",
       "      <td>5.145445</td>\n",
       "      <td>1.955092</td>\n",
       "      <td>3.427317</td>\n",
       "      <td>1.127263</td>\n",
       "      <td>3.784221</td>\n",
       "      <td>1.099118</td>\n",
       "      <td>2.733862</td>\n",
       "      <td>1.796757</td>\n",
       "      <td>5.944207</td>\n",
       "      <td>3.753600</td>\n",
       "      <td>14.148086</td>\n",
       "      <td>1.111288</td>\n",
       "      <td>0.251526</td>\n",
       "      <td>3.449218</td>\n",
       "      <td>0.680046</td>\n",
       "      <td>160.826798</td>\n",
       "      <td>93.909667</td>\n",
       "      <td>176.287095</td>\n",
       "      <td>54.673142</td>\n",
       "      <td>202.804325</td>\n",
       "      <td>53.534825</td>\n",
       "      <td>204.019326</td>\n",
       "      <td>53.921458</td>\n",
       "      <td>172.149992</td>\n",
       "      <td>57.384424</td>\n",
       "      <td>164.487837</td>\n",
       "      <td>57.850263</td>\n",
       "      <td>4.265202</td>\n",
       "      <td>2.774598</td>\n",
       "      <td>3.916079</td>\n",
       "      <td>2.326751</td>\n",
       "      <td>5.458789</td>\n",
       "      <td>53.571950</td>\n",
       "      <td>5.749616</td>\n",
       "      <td>56.567724</td>\n",
       "      <td>6.134908</td>\n",
       "      <td>54.412349</td>\n",
       "      <td>5.574001</td>\n",
       "      <td>43.372158</td>\n",
       "      <td>5.411058</td>\n",
       "      <td>47.758570</td>\n",
       "      <td>4.890228</td>\n",
       "      <td>67.405524</td>\n",
       "      <td>5.510974</td>\n",
       "      <td>34.533396</td>\n",
       "      <td>5.333024</td>\n",
       "      <td>38.347312</td>\n",
       "      <td>5.550498</td>\n",
       "      <td>37.689057</td>\n",
       "    </tr>\n",
       "    <tr>\n",
       "      <th>min</th>\n",
       "      <td>0.000000</td>\n",
       "      <td>0.000000</td>\n",
       "      <td>0.000000</td>\n",
       "      <td>0.000000</td>\n",
       "      <td>0.000000</td>\n",
       "      <td>0.000000</td>\n",
       "      <td>0.000000</td>\n",
       "      <td>0.000000</td>\n",
       "      <td>0.000000</td>\n",
       "      <td>0.003112</td>\n",
       "      <td>0.000000</td>\n",
       "      <td>1.080000</td>\n",
       "      <td>0.000005</td>\n",
       "      <td>0.000000</td>\n",
       "      <td>0.000000</td>\n",
       "      <td>0.000000</td>\n",
       "      <td>0.000000</td>\n",
       "      <td>0.000000</td>\n",
       "      <td>0.000000</td>\n",
       "      <td>0.000000</td>\n",
       "      <td>0.000000</td>\n",
       "      <td>5.445860e-32</td>\n",
       "      <td>-798.641662</td>\n",
       "      <td>6.647490e-32</td>\n",
       "      <td>-799.997015</td>\n",
       "      <td>4.033736e-32</td>\n",
       "      <td>-799.960571</td>\n",
       "      <td>4.039220e-32</td>\n",
       "      <td>-799.794250</td>\n",
       "      <td>-4.223520e+07</td>\n",
       "      <td>-486.598675</td>\n",
       "      <td>-264.982785</td>\n",
       "      <td>-0.010548</td>\n",
       "      <td>0.010000</td>\n",
       "      <td>0.010000</td>\n",
       "      <td>0.002986</td>\n",
       "      <td>0.046369</td>\n",
       "      <td>0.010000</td>\n",
       "      <td>0.010000</td>\n",
       "      <td>0.001083</td>\n",
       "      <td>0.000568</td>\n",
       "      <td>0.000077</td>\n",
       "      <td>0.000290</td>\n",
       "      <td>0.000000</td>\n",
       "      <td>0.000000</td>\n",
       "      <td>0.000000</td>\n",
       "      <td>0.000000</td>\n",
       "      <td>0.000000</td>\n",
       "      <td>0.594562</td>\n",
       "      <td>0.007566</td>\n",
       "      <td>10.014648</td>\n",
       "      <td>0.020676</td>\n",
       "      <td>-0.042069</td>\n",
       "      <td>-657.949759</td>\n",
       "      <td>-0.721806</td>\n",
       "      <td>-650.260008</td>\n",
       "      <td>-0.056636</td>\n",
       "      <td>-647.544439</td>\n",
       "      <td>-0.992219</td>\n",
       "      <td>-648.390665</td>\n",
       "      <td>-1.982295</td>\n",
       "      <td>-649.443911</td>\n",
       "      <td>-2.593390</td>\n",
       "      <td>-649.949283</td>\n",
       "      <td>0.000000</td>\n",
       "      <td>0.000000</td>\n",
       "      <td>0.000000</td>\n",
       "      <td>0.000000</td>\n",
       "      <td>0.077503</td>\n",
       "      <td>-799.606441</td>\n",
       "      <td>0.000000</td>\n",
       "      <td>-799.873878</td>\n",
       "      <td>0.000000</td>\n",
       "      <td>-799.755798</td>\n",
       "      <td>0.000000</td>\n",
       "      <td>-809.333008</td>\n",
       "      <td>0.000000</td>\n",
       "      <td>-799.798523</td>\n",
       "      <td>0.000000</td>\n",
       "      <td>-800.836914</td>\n",
       "      <td>-0.372054</td>\n",
       "      <td>-797.323986</td>\n",
       "      <td>0.528083</td>\n",
       "      <td>-800.220337</td>\n",
       "      <td>-0.079426</td>\n",
       "      <td>-809.741464</td>\n",
       "    </tr>\n",
       "    <tr>\n",
       "      <th>25%</th>\n",
       "      <td>4.251240</td>\n",
       "      <td>9.137262</td>\n",
       "      <td>7.722820</td>\n",
       "      <td>43.402215</td>\n",
       "      <td>63.299712</td>\n",
       "      <td>8.062878</td>\n",
       "      <td>2.040119</td>\n",
       "      <td>8.938947</td>\n",
       "      <td>2.461138</td>\n",
       "      <td>114.107029</td>\n",
       "      <td>6.076909</td>\n",
       "      <td>6.940000</td>\n",
       "      <td>0.697224</td>\n",
       "      <td>7.263288</td>\n",
       "      <td>8.702328</td>\n",
       "      <td>7.893893</td>\n",
       "      <td>30.463140</td>\n",
       "      <td>14.017742</td>\n",
       "      <td>2.504365</td>\n",
       "      <td>6.747483</td>\n",
       "      <td>2.924844</td>\n",
       "      <td>1.505063e+03</td>\n",
       "      <td>-500.308544</td>\n",
       "      <td>1.503630e+03</td>\n",
       "      <td>-500.437171</td>\n",
       "      <td>1.500927e+03</td>\n",
       "      <td>-500.703932</td>\n",
       "      <td>1.494219e+03</td>\n",
       "      <td>-500.458365</td>\n",
       "      <td>4.070095e+04</td>\n",
       "      <td>2611.425833</td>\n",
       "      <td>2551.437587</td>\n",
       "      <td>2.035434</td>\n",
       "      <td>7.237967</td>\n",
       "      <td>2.887280</td>\n",
       "      <td>416.525453</td>\n",
       "      <td>47.435103</td>\n",
       "      <td>34.207799</td>\n",
       "      <td>6.854384</td>\n",
       "      <td>10.000362</td>\n",
       "      <td>5.398678</td>\n",
       "      <td>9.998460</td>\n",
       "      <td>5.402368</td>\n",
       "      <td>10.628337</td>\n",
       "      <td>6.725987</td>\n",
       "      <td>27.224120</td>\n",
       "      <td>18.802523</td>\n",
       "      <td>81.037957</td>\n",
       "      <td>4.889892</td>\n",
       "      <td>0.477728</td>\n",
       "      <td>15.822525</td>\n",
       "      <td>1.404207</td>\n",
       "      <td>999.661867</td>\n",
       "      <td>-499.835165</td>\n",
       "      <td>1199.626115</td>\n",
       "      <td>-500.201130</td>\n",
       "      <td>1151.076301</td>\n",
       "      <td>-500.217218</td>\n",
       "      <td>1061.051788</td>\n",
       "      <td>-500.386386</td>\n",
       "      <td>998.675263</td>\n",
       "      <td>-500.232191</td>\n",
       "      <td>900.995511</td>\n",
       "      <td>-500.522553</td>\n",
       "      <td>12.640239</td>\n",
       "      <td>3.864733</td>\n",
       "      <td>3.845475</td>\n",
       "      <td>3.182770</td>\n",
       "      <td>25.048462</td>\n",
       "      <td>-500.233700</td>\n",
       "      <td>20.919853</td>\n",
       "      <td>-500.253794</td>\n",
       "      <td>24.949227</td>\n",
       "      <td>-500.213546</td>\n",
       "      <td>18.995924</td>\n",
       "      <td>-500.123034</td>\n",
       "      <td>14.975734</td>\n",
       "      <td>-500.704892</td>\n",
       "      <td>11.940294</td>\n",
       "      <td>-500.187742</td>\n",
       "      <td>10.988606</td>\n",
       "      <td>-500.458467</td>\n",
       "      <td>8.971105</td>\n",
       "      <td>-500.129462</td>\n",
       "      <td>14.983037</td>\n",
       "      <td>-500.728067</td>\n",
       "    </tr>\n",
       "    <tr>\n",
       "      <th>50%</th>\n",
       "      <td>5.066094</td>\n",
       "      <td>10.102433</td>\n",
       "      <td>9.218961</td>\n",
       "      <td>45.011244</td>\n",
       "      <td>68.172738</td>\n",
       "      <td>9.743623</td>\n",
       "      <td>2.748730</td>\n",
       "      <td>10.622456</td>\n",
       "      <td>2.984909</td>\n",
       "      <td>143.232103</td>\n",
       "      <td>8.038311</td>\n",
       "      <td>7.280000</td>\n",
       "      <td>0.940863</td>\n",
       "      <td>8.507298</td>\n",
       "      <td>10.152433</td>\n",
       "      <td>10.314632</td>\n",
       "      <td>32.841295</td>\n",
       "      <td>15.842836</td>\n",
       "      <td>3.271153</td>\n",
       "      <td>8.183673</td>\n",
       "      <td>3.623234</td>\n",
       "      <td>1.600597e+03</td>\n",
       "      <td>-499.926134</td>\n",
       "      <td>1.600521e+03</td>\n",
       "      <td>-499.956767</td>\n",
       "      <td>1.600254e+03</td>\n",
       "      <td>-499.909524</td>\n",
       "      <td>1.599447e+03</td>\n",
       "      <td>-499.905974</td>\n",
       "      <td>4.469648e+04</td>\n",
       "      <td>3018.353876</td>\n",
       "      <td>2997.218088</td>\n",
       "      <td>2.309665</td>\n",
       "      <td>8.593574</td>\n",
       "      <td>3.534895</td>\n",
       "      <td>499.416120</td>\n",
       "      <td>54.610197</td>\n",
       "      <td>37.202650</td>\n",
       "      <td>8.125839</td>\n",
       "      <td>12.001174</td>\n",
       "      <td>6.008273</td>\n",
       "      <td>12.000204</td>\n",
       "      <td>6.098580</td>\n",
       "      <td>12.098115</td>\n",
       "      <td>7.742580</td>\n",
       "      <td>29.835345</td>\n",
       "      <td>20.280214</td>\n",
       "      <td>86.188892</td>\n",
       "      <td>5.765802</td>\n",
       "      <td>0.617465</td>\n",
       "      <td>18.106867</td>\n",
       "      <td>1.808170</td>\n",
       "      <td>1001.072890</td>\n",
       "      <td>-300.263994</td>\n",
       "      <td>1301.579988</td>\n",
       "      <td>-499.784045</td>\n",
       "      <td>1300.211537</td>\n",
       "      <td>-499.713364</td>\n",
       "      <td>1201.569141</td>\n",
       "      <td>-499.532412</td>\n",
       "      <td>1050.029461</td>\n",
       "      <td>-499.663089</td>\n",
       "      <td>999.924821</td>\n",
       "      <td>-499.471777</td>\n",
       "      <td>15.641902</td>\n",
       "      <td>5.344073</td>\n",
       "      <td>7.685827</td>\n",
       "      <td>4.072412</td>\n",
       "      <td>29.099943</td>\n",
       "      <td>-499.973250</td>\n",
       "      <td>25.043289</td>\n",
       "      <td>-500.015439</td>\n",
       "      <td>27.982129</td>\n",
       "      <td>-499.930680</td>\n",
       "      <td>22.011231</td>\n",
       "      <td>-499.981902</td>\n",
       "      <td>18.017481</td>\n",
       "      <td>-499.837793</td>\n",
       "      <td>14.971014</td>\n",
       "      <td>-499.459786</td>\n",
       "      <td>15.000036</td>\n",
       "      <td>-499.802605</td>\n",
       "      <td>11.019433</td>\n",
       "      <td>-499.935317</td>\n",
       "      <td>19.960541</td>\n",
       "      <td>-500.048400</td>\n",
       "    </tr>\n",
       "    <tr>\n",
       "      <th>75%</th>\n",
       "      <td>5.895527</td>\n",
       "      <td>11.035769</td>\n",
       "      <td>10.947813</td>\n",
       "      <td>46.275313</td>\n",
       "      <td>72.686642</td>\n",
       "      <td>11.134294</td>\n",
       "      <td>3.333216</td>\n",
       "      <td>12.104271</td>\n",
       "      <td>3.571351</td>\n",
       "      <td>175.075656</td>\n",
       "      <td>11.013521</td>\n",
       "      <td>7.670000</td>\n",
       "      <td>1.210990</td>\n",
       "      <td>9.809001</td>\n",
       "      <td>11.424971</td>\n",
       "      <td>13.446702</td>\n",
       "      <td>35.048006</td>\n",
       "      <td>18.013975</td>\n",
       "      <td>4.181748</td>\n",
       "      <td>9.548586</td>\n",
       "      <td>4.585705</td>\n",
       "      <td>1.697658e+03</td>\n",
       "      <td>-499.433950</td>\n",
       "      <td>1.699218e+03</td>\n",
       "      <td>-499.373336</td>\n",
       "      <td>1.699483e+03</td>\n",
       "      <td>-498.857643</td>\n",
       "      <td>1.698525e+03</td>\n",
       "      <td>-499.064695</td>\n",
       "      <td>4.816821e+04</td>\n",
       "      <td>3676.769750</td>\n",
       "      <td>3601.998911</td>\n",
       "      <td>2.731794</td>\n",
       "      <td>10.213771</td>\n",
       "      <td>4.244161</td>\n",
       "      <td>550.172183</td>\n",
       "      <td>65.023044</td>\n",
       "      <td>40.039133</td>\n",
       "      <td>9.769917</td>\n",
       "      <td>14.716595</td>\n",
       "      <td>6.798051</td>\n",
       "      <td>14.636766</td>\n",
       "      <td>6.801233</td>\n",
       "      <td>13.736996</td>\n",
       "      <td>8.565199</td>\n",
       "      <td>32.189933</td>\n",
       "      <td>21.717843</td>\n",
       "      <td>90.010670</td>\n",
       "      <td>6.389234</td>\n",
       "      <td>0.778271</td>\n",
       "      <td>20.088151</td>\n",
       "      <td>2.211861</td>\n",
       "      <td>1205.620588</td>\n",
       "      <td>-299.981998</td>\n",
       "      <td>1448.630789</td>\n",
       "      <td>-400.615589</td>\n",
       "      <td>1449.464001</td>\n",
       "      <td>-400.985743</td>\n",
       "      <td>1352.880320</td>\n",
       "      <td>-401.638550</td>\n",
       "      <td>1199.425140</td>\n",
       "      <td>-401.161191</td>\n",
       "      <td>1099.719692</td>\n",
       "      <td>-401.511042</td>\n",
       "      <td>17.358217</td>\n",
       "      <td>7.788467</td>\n",
       "      <td>10.411296</td>\n",
       "      <td>5.063081</td>\n",
       "      <td>33.012536</td>\n",
       "      <td>-499.671261</td>\n",
       "      <td>28.008197</td>\n",
       "      <td>-499.785698</td>\n",
       "      <td>33.002798</td>\n",
       "      <td>-499.325739</td>\n",
       "      <td>25.998206</td>\n",
       "      <td>-499.812834</td>\n",
       "      <td>23.012470</td>\n",
       "      <td>-498.249730</td>\n",
       "      <td>19.034162</td>\n",
       "      <td>-400.118106</td>\n",
       "      <td>18.026190</td>\n",
       "      <td>-498.384187</td>\n",
       "      <td>14.019088</td>\n",
       "      <td>-499.436708</td>\n",
       "      <td>24.003170</td>\n",
       "      <td>-499.495378</td>\n",
       "    </tr>\n",
       "    <tr>\n",
       "      <th>max</th>\n",
       "      <td>16.001945</td>\n",
       "      <td>17.031899</td>\n",
       "      <td>19.615720</td>\n",
       "      <td>52.756638</td>\n",
       "      <td>100.000000</td>\n",
       "      <td>19.552149</td>\n",
       "      <td>5.804178</td>\n",
       "      <td>22.317730</td>\n",
       "      <td>8.245022</td>\n",
       "      <td>265.983123</td>\n",
       "      <td>40.000000</td>\n",
       "      <td>15.500000</td>\n",
       "      <td>4.102454</td>\n",
       "      <td>16.081632</td>\n",
       "      <td>17.081278</td>\n",
       "      <td>22.458114</td>\n",
       "      <td>45.933934</td>\n",
       "      <td>29.459575</td>\n",
       "      <td>9.634565</td>\n",
       "      <td>22.276364</td>\n",
       "      <td>17.788925</td>\n",
       "      <td>2.103104e+03</td>\n",
       "      <td>-57.195404</td>\n",
       "      <td>2.114907e+03</td>\n",
       "      <td>-142.527229</td>\n",
       "      <td>2.013156e+03</td>\n",
       "      <td>-150.937035</td>\n",
       "      <td>2.398904e+03</td>\n",
       "      <td>-30.601828</td>\n",
       "      <td>3.428099e+06</td>\n",
       "      <td>629638.977914</td>\n",
       "      <td>718684.955855</td>\n",
       "      <td>39.379272</td>\n",
       "      <td>14.596026</td>\n",
       "      <td>7.142594</td>\n",
       "      <td>717.508837</td>\n",
       "      <td>484.967466</td>\n",
       "      <td>53.477742</td>\n",
       "      <td>13.731330</td>\n",
       "      <td>36.118275</td>\n",
       "      <td>9.703448</td>\n",
       "      <td>37.980648</td>\n",
       "      <td>9.698407</td>\n",
       "      <td>24.480271</td>\n",
       "      <td>13.617072</td>\n",
       "      <td>38.351193</td>\n",
       "      <td>28.824507</td>\n",
       "      <td>100.000000</td>\n",
       "      <td>12.719177</td>\n",
       "      <td>3.778064</td>\n",
       "      <td>66.117188</td>\n",
       "      <td>9.688980</td>\n",
       "      <td>1521.980372</td>\n",
       "      <td>-273.776101</td>\n",
       "      <td>1809.194008</td>\n",
       "      <td>-296.383080</td>\n",
       "      <td>2499.129174</td>\n",
       "      <td>-292.155509</td>\n",
       "      <td>1817.199290</td>\n",
       "      <td>-76.397327</td>\n",
       "      <td>1922.636637</td>\n",
       "      <td>-139.753025</td>\n",
       "      <td>1706.307502</td>\n",
       "      <td>-191.718480</td>\n",
       "      <td>23.264738</td>\n",
       "      <td>17.042505</td>\n",
       "      <td>26.000772</td>\n",
       "      <td>26.811643</td>\n",
       "      <td>52.651399</td>\n",
       "      <td>-127.875565</td>\n",
       "      <td>35.152122</td>\n",
       "      <td>-211.999273</td>\n",
       "      <td>44.260464</td>\n",
       "      <td>-191.678810</td>\n",
       "      <td>35.072841</td>\n",
       "      <td>-159.742331</td>\n",
       "      <td>30.115735</td>\n",
       "      <td>-245.239184</td>\n",
       "      <td>31.269706</td>\n",
       "      <td>-6.506986</td>\n",
       "      <td>43.709931</td>\n",
       "      <td>-244.483566</td>\n",
       "      <td>27.926001</td>\n",
       "      <td>-137.740004</td>\n",
       "      <td>32.188906</td>\n",
       "      <td>-104.427459</td>\n",
       "    </tr>\n",
       "  </tbody>\n",
       "</table>\n",
       "</div>"
      ],
      "text/plain": [
       "       final.output.concentrate_ag  final.output.concentrate_pb  \\\n",
       "count                 19438.000000                 19438.000000   \n",
       "mean                      5.168470                     9.978895   \n",
       "std                       1.372348                     1.669240   \n",
       "min                       0.000000                     0.000000   \n",
       "25%                       4.251240                     9.137262   \n",
       "50%                       5.066094                    10.102433   \n",
       "75%                       5.895527                    11.035769   \n",
       "max                      16.001945                    17.031899   \n",
       "\n",
       "       final.output.concentrate_sol  final.output.concentrate_au  \\\n",
       "count                  19228.000000                 19439.000000   \n",
       "mean                       9.501224                    44.076513   \n",
       "std                        2.787537                     5.129784   \n",
       "min                        0.000000                     0.000000   \n",
       "25%                        7.722820                    43.402215   \n",
       "50%                        9.218961                    45.011244   \n",
       "75%                       10.947813                    46.275313   \n",
       "max                       19.615720                    52.756638   \n",
       "\n",
       "       final.output.recovery  final.output.tail_ag  final.output.tail_pb  \\\n",
       "count           19439.000000          19438.000000          19338.000000   \n",
       "mean               67.050208              9.688589              2.705795   \n",
       "std                10.125840              2.328642              0.949077   \n",
       "min                 0.000000              0.000000              0.000000   \n",
       "25%                63.299712              8.062878              2.040119   \n",
       "50%                68.172738              9.743623              2.748730   \n",
       "75%                72.686642             11.134294              3.333216   \n",
       "max               100.000000             19.552149              5.804178   \n",
       "\n",
       "       final.output.tail_sol  final.output.tail_au  \\\n",
       "count           19433.000000          19439.000000   \n",
       "mean               10.583728              3.042467   \n",
       "std                 2.868782              0.922808   \n",
       "min                 0.000000              0.000000   \n",
       "25%                 8.938947              2.461138   \n",
       "50%                10.622456              2.984909   \n",
       "75%                12.104271              3.571351   \n",
       "max                22.317730              8.245022   \n",
       "\n",
       "       primary_cleaner.input.sulfate  primary_cleaner.input.depressant  \\\n",
       "count                   19415.000000                      19402.000000   \n",
       "mean                      144.624774                          8.817039   \n",
       "std                        44.464071                          3.286186   \n",
       "min                         0.003112                          0.000000   \n",
       "25%                       114.107029                          6.076909   \n",
       "50%                       143.232103                          8.038311   \n",
       "75%                       175.075656                         11.013521   \n",
       "max                       265.983123                         40.000000   \n",
       "\n",
       "       primary_cleaner.input.feed_size  primary_cleaner.input.xanthate  \\\n",
       "count                     19439.000000                    19335.000000   \n",
       "mean                          7.307078                        1.021795   \n",
       "std                           0.613509                        0.513254   \n",
       "min                           1.080000                        0.000005   \n",
       "25%                           6.940000                        0.697224   \n",
       "50%                           7.280000                        0.940863   \n",
       "75%                           7.670000                        1.210990   \n",
       "max                          15.500000                        4.102454   \n",
       "\n",
       "       primary_cleaner.output.concentrate_ag  \\\n",
       "count                           19439.000000   \n",
       "mean                                8.442408   \n",
       "std                                 2.054465   \n",
       "min                                 0.000000   \n",
       "25%                                 7.263288   \n",
       "50%                                 8.507298   \n",
       "75%                                 9.809001   \n",
       "max                                16.081632   \n",
       "\n",
       "       primary_cleaner.output.concentrate_pb  \\\n",
       "count                           19323.000000   \n",
       "mean                                9.829530   \n",
       "std                                 2.556843   \n",
       "min                                 0.000000   \n",
       "25%                                 8.702328   \n",
       "50%                                10.152433   \n",
       "75%                                11.424971   \n",
       "max                                17.081278   \n",
       "\n",
       "       primary_cleaner.output.concentrate_sol  \\\n",
       "count                            19069.000000   \n",
       "mean                                10.489499   \n",
       "std                                  3.909639   \n",
       "min                                  0.000000   \n",
       "25%                                  7.893893   \n",
       "50%                                 10.314632   \n",
       "75%                                 13.446702   \n",
       "max                                 22.458114   \n",
       "\n",
       "       primary_cleaner.output.concentrate_au  primary_cleaner.output.tail_ag  \\\n",
       "count                           19439.000000                    19435.000000   \n",
       "mean                               32.119400                       16.145826   \n",
       "std                                 5.627611                        3.548598   \n",
       "min                                 0.000000                        0.000000   \n",
       "25%                                30.463140                       14.017742   \n",
       "50%                                32.841295                       15.842836   \n",
       "75%                                35.048006                       18.013975   \n",
       "max                                45.933934                       29.459575   \n",
       "\n",
       "       primary_cleaner.output.tail_pb  primary_cleaner.output.tail_sol  \\\n",
       "count                    19418.000000                     19377.000000   \n",
       "mean                         3.435656                         7.973209   \n",
       "std                          1.392536                         2.212677   \n",
       "min                          0.000000                         0.000000   \n",
       "25%                          2.504365                         6.747483   \n",
       "50%                          3.271153                         8.183673   \n",
       "75%                          4.181748                         9.548586   \n",
       "max                          9.634565                        22.276364   \n",
       "\n",
       "       primary_cleaner.output.tail_au  primary_cleaner.state.floatbank8_a_air  \\\n",
       "count                    19439.000000                            1.943500e+04   \n",
       "mean                         3.914179                            1.589354e+03   \n",
       "std                          1.593034                            1.289968e+02   \n",
       "min                          0.000000                            5.445860e-32   \n",
       "25%                          2.924844                            1.505063e+03   \n",
       "50%                          3.623234                            1.600597e+03   \n",
       "75%                          4.585705                            1.697658e+03   \n",
       "max                         17.788925                            2.103104e+03   \n",
       "\n",
       "       primary_cleaner.state.floatbank8_a_level  \\\n",
       "count                              19438.000000   \n",
       "mean                                -491.195012   \n",
       "std                                   32.431842   \n",
       "min                                 -798.641662   \n",
       "25%                                 -500.308544   \n",
       "50%                                 -499.926134   \n",
       "75%                                 -499.433950   \n",
       "max                                  -57.195404   \n",
       "\n",
       "       primary_cleaner.state.floatbank8_b_air  \\\n",
       "count                            1.943500e+04   \n",
       "mean                             1.591344e+03   \n",
       "std                              1.318109e+02   \n",
       "min                              6.647490e-32   \n",
       "25%                              1.503630e+03   \n",
       "50%                              1.600521e+03   \n",
       "75%                              1.699218e+03   \n",
       "max                              2.114907e+03   \n",
       "\n",
       "       primary_cleaner.state.floatbank8_b_level  \\\n",
       "count                              19438.000000   \n",
       "mean                                -492.192978   \n",
       "std                                   33.794822   \n",
       "min                                 -799.997015   \n",
       "25%                                 -500.437171   \n",
       "50%                                 -499.956767   \n",
       "75%                                 -499.373336   \n",
       "max                                 -142.527229   \n",
       "\n",
       "       primary_cleaner.state.floatbank8_c_air  \\\n",
       "count                            1.943700e+04   \n",
       "mean                             1.586669e+03   \n",
       "std                              1.361114e+02   \n",
       "min                              4.033736e-32   \n",
       "25%                              1.500927e+03   \n",
       "50%                              1.600254e+03   \n",
       "75%                              1.699483e+03   \n",
       "max                              2.013156e+03   \n",
       "\n",
       "       primary_cleaner.state.floatbank8_c_level  \\\n",
       "count                              19438.000000   \n",
       "mean                                -491.980070   \n",
       "std                                   32.711455   \n",
       "min                                 -799.960571   \n",
       "25%                                 -500.703932   \n",
       "50%                                 -499.909524   \n",
       "75%                                 -498.857643   \n",
       "max                                 -150.937035   \n",
       "\n",
       "       primary_cleaner.state.floatbank8_d_air  \\\n",
       "count                            1.943600e+04   \n",
       "mean                             1.542912e+03   \n",
       "std                              2.461996e+02   \n",
       "min                              4.039220e-32   \n",
       "25%                              1.494219e+03   \n",
       "50%                              1.599447e+03   \n",
       "75%                              1.698525e+03   \n",
       "max                              2.398904e+03   \n",
       "\n",
       "       primary_cleaner.state.floatbank8_d_level  \\\n",
       "count                              19438.000000   \n",
       "mean                                -488.017382   \n",
       "std                                   43.959780   \n",
       "min                                 -799.794250   \n",
       "25%                                 -500.458365   \n",
       "50%                                 -499.905974   \n",
       "75%                                 -499.064695   \n",
       "max                                  -30.601828   \n",
       "\n",
       "       rougher.calculation.sulfate_to_au_concentrate  \\\n",
       "count                                   1.943700e+04   \n",
       "mean                                    4.217119e+04   \n",
       "std                                     3.243621e+05   \n",
       "min                                    -4.223520e+07   \n",
       "25%                                     4.070095e+04   \n",
       "50%                                     4.469648e+04   \n",
       "75%                                     4.816821e+04   \n",
       "max                                     3.428099e+06   \n",
       "\n",
       "       rougher.calculation.floatbank10_sulfate_to_au_feed  \\\n",
       "count                                       19437.000000    \n",
       "mean                                         3393.052498    \n",
       "std                                          4943.845943    \n",
       "min                                          -486.598675    \n",
       "25%                                          2611.425833    \n",
       "50%                                          3018.353876    \n",
       "75%                                          3676.769750    \n",
       "max                                        629638.977914    \n",
       "\n",
       "       rougher.calculation.floatbank11_sulfate_to_au_feed  \\\n",
       "count                                       19437.000000    \n",
       "mean                                         3256.854171    \n",
       "std                                          5781.423659    \n",
       "min                                          -264.982785    \n",
       "25%                                          2551.437587    \n",
       "50%                                          2997.218088    \n",
       "75%                                          3601.998911    \n",
       "max                                        718684.955855    \n",
       "\n",
       "       rougher.calculation.au_pb_ratio  rougher.input.feed_ag  \\\n",
       "count                     19439.000000           19439.000000   \n",
       "mean                          2.420119               8.794927   \n",
       "std                           0.814935               1.936847   \n",
       "min                          -0.010548               0.010000   \n",
       "25%                           2.035434               7.237967   \n",
       "50%                           2.309665               8.593574   \n",
       "75%                           2.731794              10.213771   \n",
       "max                          39.379272              14.596026   \n",
       "\n",
       "       rougher.input.feed_pb  rougher.input.feed_rate  \\\n",
       "count           19339.000000             19428.000000   \n",
       "mean                3.598085               478.320042   \n",
       "std                 1.049486               105.373758   \n",
       "min                 0.010000                 0.002986   \n",
       "25%                 2.887280               416.525453   \n",
       "50%                 3.534895               499.416120   \n",
       "75%                 4.244161               550.172183   \n",
       "max                 7.142594               717.508837   \n",
       "\n",
       "       rougher.input.feed_size  rougher.input.feed_sol  rougher.input.feed_au  \\\n",
       "count             19294.000000            19340.000000           19439.000000   \n",
       "mean                 58.970310               36.695114               8.266097   \n",
       "std                  21.634478                5.145445               1.955092   \n",
       "min                   0.046369                0.010000               0.010000   \n",
       "25%                  47.435103               34.207799               6.854384   \n",
       "50%                  54.610197               37.202650               8.125839   \n",
       "75%                  65.023044               40.039133               9.769917   \n",
       "max                 484.967466               53.477742              13.731330   \n",
       "\n",
       "       rougher.input.floatbank10_sulfate  rougher.input.floatbank10_xanthate  \\\n",
       "count                       19405.000000                        19431.000000   \n",
       "mean                           12.334373                            6.021474   \n",
       "std                             3.427317                            1.127263   \n",
       "min                             0.001083                            0.000568   \n",
       "25%                            10.000362                            5.398678   \n",
       "50%                            12.001174                            6.008273   \n",
       "75%                            14.716595                            6.798051   \n",
       "max                            36.118275                            9.703448   \n",
       "\n",
       "       rougher.input.floatbank11_sulfate  rougher.input.floatbank11_xanthate  \\\n",
       "count                       19395.000000                        18986.000000   \n",
       "mean                           12.064140                            6.065533   \n",
       "std                             3.784221                            1.099118   \n",
       "min                             0.000077                            0.000290   \n",
       "25%                             9.998460                            5.402368   \n",
       "50%                            12.000204                            6.098580   \n",
       "75%                            14.636766                            6.801233   \n",
       "max                            37.980648                            9.698407   \n",
       "\n",
       "       rougher.output.concentrate_ag  rougher.output.concentrate_pb  \\\n",
       "count                   19439.000000                   19439.000000   \n",
       "mean                       11.994759                       7.606272   \n",
       "std                         2.733862                       1.796757   \n",
       "min                         0.000000                       0.000000   \n",
       "25%                        10.628337                       6.725987   \n",
       "50%                        12.098115                       7.742580   \n",
       "75%                        13.736996                       8.565199   \n",
       "max                        24.480271                      13.617072   \n",
       "\n",
       "       rougher.output.concentrate_sol  rougher.output.concentrate_au  \\\n",
       "count                    19416.000000                   19439.000000   \n",
       "mean                        28.805571                      19.772000   \n",
       "std                          5.944207                       3.753600   \n",
       "min                          0.000000                       0.000000   \n",
       "25%                         27.224120                      18.802523   \n",
       "50%                         29.835345                      20.280214   \n",
       "75%                         32.189933                      21.717843   \n",
       "max                         38.351193                      28.824507   \n",
       "\n",
       "       rougher.output.recovery  rougher.output.tail_ag  \\\n",
       "count             19439.000000            19438.000000   \n",
       "mean                 83.328587                5.588982   \n",
       "std                  14.148086                1.111288   \n",
       "min                   0.000000                0.594562   \n",
       "25%                  81.037957                4.889892   \n",
       "50%                  86.188892                5.765802   \n",
       "75%                  90.010670                6.389234   \n",
       "max                 100.000000               12.719177   \n",
       "\n",
       "       rougher.output.tail_pb  rougher.output.tail_sol  \\\n",
       "count            19439.000000             19439.000000   \n",
       "mean                 0.645782                18.057106   \n",
       "std                  0.251526                 3.449218   \n",
       "min                  0.007566                10.014648   \n",
       "25%                  0.477728                15.822525   \n",
       "50%                  0.617465                18.106867   \n",
       "75%                  0.778271                20.088151   \n",
       "max                  3.778064                66.117188   \n",
       "\n",
       "       rougher.output.tail_au  rougher.state.floatbank10_a_air  \\\n",
       "count            19439.000000                     19438.000000   \n",
       "mean                 1.816391                      1105.315068   \n",
       "std                  0.680046                       160.826798   \n",
       "min                  0.020676                        -0.042069   \n",
       "25%                  1.404207                       999.661867   \n",
       "50%                  1.808170                      1001.072890   \n",
       "75%                  2.211861                      1205.620588   \n",
       "max                  9.688980                      1521.980372   \n",
       "\n",
       "       rougher.state.floatbank10_a_level  rougher.state.floatbank10_b_air  \\\n",
       "count                       19438.000000                     19438.000000   \n",
       "mean                         -376.610690                      1320.221139   \n",
       "std                            93.909667                       176.287095   \n",
       "min                          -657.949759                        -0.721806   \n",
       "25%                          -499.835165                      1199.626115   \n",
       "50%                          -300.263994                      1301.579988   \n",
       "75%                          -299.981998                      1448.630789   \n",
       "max                          -273.776101                      1809.194008   \n",
       "\n",
       "       rougher.state.floatbank10_b_level  rougher.state.floatbank10_c_air  \\\n",
       "count                       19438.000000                     19438.000000   \n",
       "mean                         -467.247826                      1299.968799   \n",
       "std                            54.673142                       202.804325   \n",
       "min                          -650.260008                        -0.056636   \n",
       "25%                          -500.201130                      1151.076301   \n",
       "50%                          -499.784045                      1300.211537   \n",
       "75%                          -400.615589                      1449.464001   \n",
       "max                          -296.383080                      2499.129174   \n",
       "\n",
       "       rougher.state.floatbank10_c_level  rougher.state.floatbank10_d_air  \\\n",
       "count                       19438.000000                     19439.000000   \n",
       "mean                         -467.716946                      1211.563299   \n",
       "std                            53.534825                       204.019326   \n",
       "min                          -647.544439                        -0.992219   \n",
       "25%                          -500.217218                      1061.051788   \n",
       "50%                          -499.713364                      1201.569141   \n",
       "75%                          -400.985743                      1352.880320   \n",
       "max                          -292.155509                      1817.199290   \n",
       "\n",
       "       rougher.state.floatbank10_d_level  rougher.state.floatbank10_e_air  \\\n",
       "count                       19439.000000                     19003.000000   \n",
       "mean                         -468.239912                      1080.869685   \n",
       "std                            53.921458                       172.149992   \n",
       "min                          -648.390665                        -1.982295   \n",
       "25%                          -500.386386                       998.675263   \n",
       "50%                          -499.532412                      1050.029461   \n",
       "75%                          -401.638550                      1199.425140   \n",
       "max                           -76.397327                      1922.636637   \n",
       "\n",
       "       rougher.state.floatbank10_e_level  rougher.state.floatbank10_f_air  \\\n",
       "count                       19439.000000                     19439.000000   \n",
       "mean                         -466.037742                      1025.274256   \n",
       "std                            57.384424                       164.487837   \n",
       "min                          -649.443911                        -2.593390   \n",
       "25%                          -500.232191                       900.995511   \n",
       "50%                          -499.663089                       999.924821   \n",
       "75%                          -401.161191                      1099.719692   \n",
       "max                          -139.753025                      1706.307502   \n",
       "\n",
       "       rougher.state.floatbank10_f_level  secondary_cleaner.output.tail_ag  \\\n",
       "count                       19439.000000                      19437.000000   \n",
       "mean                         -466.265327                         14.586833   \n",
       "std                            57.850263                          4.265202   \n",
       "min                          -649.949283                          0.000000   \n",
       "25%                          -500.522553                         12.640239   \n",
       "50%                          -499.471777                         15.641902   \n",
       "75%                          -401.511042                         17.358217   \n",
       "max                          -191.718480                         23.264738   \n",
       "\n",
       "       secondary_cleaner.output.tail_pb  secondary_cleaner.output.tail_sol  \\\n",
       "count                      19427.000000                       17691.000000   \n",
       "mean                           5.777703                           7.167247   \n",
       "std                            2.774598                           3.916079   \n",
       "min                            0.000000                           0.000000   \n",
       "25%                            3.864733                           3.845475   \n",
       "50%                            5.344073                           7.685827   \n",
       "75%                            7.788467                          10.411296   \n",
       "max                           17.042505                          26.000772   \n",
       "\n",
       "       secondary_cleaner.output.tail_au  \\\n",
       "count                      19439.000000   \n",
       "mean                           4.339625   \n",
       "std                            2.326751   \n",
       "min                            0.000000   \n",
       "25%                            3.182770   \n",
       "50%                            4.072412   \n",
       "75%                            5.063081   \n",
       "max                           26.811643   \n",
       "\n",
       "       secondary_cleaner.state.floatbank2_a_air  \\\n",
       "count                              19219.000000   \n",
       "mean                                  28.705564   \n",
       "std                                    5.458789   \n",
       "min                                    0.077503   \n",
       "25%                                   25.048462   \n",
       "50%                                   29.099943   \n",
       "75%                                   33.012536   \n",
       "max                                   52.651399   \n",
       "\n",
       "       secondary_cleaner.state.floatbank2_a_level  \\\n",
       "count                                19438.000000   \n",
       "mean                                  -502.367331   \n",
       "std                                     53.571950   \n",
       "min                                   -799.606441   \n",
       "25%                                   -500.233700   \n",
       "50%                                   -499.973250   \n",
       "75%                                   -499.671261   \n",
       "max                                   -127.875565   \n",
       "\n",
       "       secondary_cleaner.state.floatbank2_b_air  \\\n",
       "count                              19416.000000   \n",
       "mean                                  24.106800   \n",
       "std                                    5.749616   \n",
       "min                                    0.000000   \n",
       "25%                                   20.919853   \n",
       "50%                                   25.043289   \n",
       "75%                                   28.008197   \n",
       "max                                   35.152122   \n",
       "\n",
       "       secondary_cleaner.state.floatbank2_b_level  \\\n",
       "count                                19438.000000   \n",
       "mean                                  -503.230712   \n",
       "std                                     56.567724   \n",
       "min                                   -799.873878   \n",
       "25%                                   -500.253794   \n",
       "50%                                   -500.015439   \n",
       "75%                                   -499.785698   \n",
       "max                                   -211.999273   \n",
       "\n",
       "       secondary_cleaner.state.floatbank3_a_air  \\\n",
       "count                              19426.000000   \n",
       "mean                                  28.199338   \n",
       "std                                    6.134908   \n",
       "min                                    0.000000   \n",
       "25%                                   24.949227   \n",
       "50%                                   27.982129   \n",
       "75%                                   33.002798   \n",
       "max                                   44.260464   \n",
       "\n",
       "       secondary_cleaner.state.floatbank3_a_level  \\\n",
       "count                                19438.000000   \n",
       "mean                                  -486.203350   \n",
       "std                                     54.412349   \n",
       "min                                   -799.755798   \n",
       "25%                                   -500.213546   \n",
       "50%                                   -499.930680   \n",
       "75%                                   -499.325739   \n",
       "max                                   -191.678810   \n",
       "\n",
       "       secondary_cleaner.state.floatbank3_b_air  \\\n",
       "count                              19438.000000   \n",
       "mean                                  22.200645   \n",
       "std                                    5.574001   \n",
       "min                                    0.000000   \n",
       "25%                                   18.995924   \n",
       "50%                                   22.011231   \n",
       "75%                                   25.998206   \n",
       "max                                   35.072841   \n",
       "\n",
       "       secondary_cleaner.state.floatbank3_b_level  \\\n",
       "count                                19438.000000   \n",
       "mean                                  -493.742107   \n",
       "std                                     43.372158   \n",
       "min                                   -809.333008   \n",
       "25%                                   -500.123034   \n",
       "50%                                   -499.981902   \n",
       "75%                                   -499.812834   \n",
       "max                                   -159.742331   \n",
       "\n",
       "       secondary_cleaner.state.floatbank4_a_air  \\\n",
       "count                              19433.000000   \n",
       "mean                                  18.987674   \n",
       "std                                    5.411058   \n",
       "min                                    0.000000   \n",
       "25%                                   14.975734   \n",
       "50%                                   18.017481   \n",
       "75%                                   23.012470   \n",
       "max                                   30.115735   \n",
       "\n",
       "       secondary_cleaner.state.floatbank4_a_level  \\\n",
       "count                                19438.000000   \n",
       "mean                                  -485.894516   \n",
       "std                                     47.758570   \n",
       "min                                   -799.798523   \n",
       "25%                                   -500.704892   \n",
       "50%                                   -499.837793   \n",
       "75%                                   -498.249730   \n",
       "max                                   -245.239184   \n",
       "\n",
       "       secondary_cleaner.state.floatbank4_b_air  \\\n",
       "count                              19438.000000   \n",
       "mean                                  15.010366   \n",
       "std                                    4.890228   \n",
       "min                                    0.000000   \n",
       "25%                                   11.940294   \n",
       "50%                                   14.971014   \n",
       "75%                                   19.034162   \n",
       "max                                   31.269706   \n",
       "\n",
       "       secondary_cleaner.state.floatbank4_b_level  \\\n",
       "count                                19438.000000   \n",
       "mean                                  -461.078636   \n",
       "std                                     67.405524   \n",
       "min                                   -800.836914   \n",
       "25%                                   -500.187742   \n",
       "50%                                   -499.459786   \n",
       "75%                                   -400.118106   \n",
       "max                                     -6.506986   \n",
       "\n",
       "       secondary_cleaner.state.floatbank5_a_air  \\\n",
       "count                              19438.000000   \n",
       "mean                                  15.694452   \n",
       "std                                    5.510974   \n",
       "min                                   -0.372054   \n",
       "25%                                   10.988606   \n",
       "50%                                   15.000036   \n",
       "75%                                   18.026190   \n",
       "max                                   43.709931   \n",
       "\n",
       "       secondary_cleaner.state.floatbank5_a_level  \\\n",
       "count                                19438.000000   \n",
       "mean                                  -488.684065   \n",
       "std                                     34.533396   \n",
       "min                                   -797.323986   \n",
       "25%                                   -500.458467   \n",
       "50%                                   -499.802605   \n",
       "75%                                   -498.384187   \n",
       "max                                   -244.483566   \n",
       "\n",
       "       secondary_cleaner.state.floatbank5_b_air  \\\n",
       "count                              19438.000000   \n",
       "mean                                  12.198224   \n",
       "std                                    5.333024   \n",
       "min                                    0.528083   \n",
       "25%                                    8.971105   \n",
       "50%                                   11.019433   \n",
       "75%                                   14.019088   \n",
       "max                                   27.926001   \n",
       "\n",
       "       secondary_cleaner.state.floatbank5_b_level  \\\n",
       "count                                19438.000000   \n",
       "mean                                  -487.149827   \n",
       "std                                     38.347312   \n",
       "min                                   -800.220337   \n",
       "25%                                   -500.129462   \n",
       "50%                                   -499.935317   \n",
       "75%                                   -499.436708   \n",
       "max                                   -137.740004   \n",
       "\n",
       "       secondary_cleaner.state.floatbank6_a_air  \\\n",
       "count                              19437.000000   \n",
       "mean                                  18.959024   \n",
       "std                                    5.550498   \n",
       "min                                   -0.079426   \n",
       "25%                                   14.983037   \n",
       "50%                                   19.960541   \n",
       "75%                                   24.003170   \n",
       "max                                   32.188906   \n",
       "\n",
       "       secondary_cleaner.state.floatbank6_a_level  \n",
       "count                                19438.000000  \n",
       "mean                                  -505.436305  \n",
       "std                                     37.689057  \n",
       "min                                   -809.741464  \n",
       "25%                                   -500.728067  \n",
       "50%                                   -500.048400  \n",
       "75%                                   -499.495378  \n",
       "max                                   -104.427459  "
      ]
     },
     "metadata": {},
     "output_type": "display_data"
    },
    {
     "name": "stdout",
     "output_type": "stream",
     "text": [
      "\n",
      "\n",
      "\n",
      "Количество пропусков в данных\n"
     ]
    },
    {
     "data": {
      "text/plain": [
       "date                                                     0\n",
       "final.output.concentrate_ag                              1\n",
       "final.output.concentrate_pb                              1\n",
       "final.output.concentrate_sol                           211\n",
       "final.output.concentrate_au                              0\n",
       "final.output.recovery                                    0\n",
       "final.output.tail_ag                                     1\n",
       "final.output.tail_pb                                   101\n",
       "final.output.tail_sol                                    6\n",
       "final.output.tail_au                                     0\n",
       "primary_cleaner.input.sulfate                           24\n",
       "primary_cleaner.input.depressant                        37\n",
       "primary_cleaner.input.feed_size                          0\n",
       "primary_cleaner.input.xanthate                         104\n",
       "primary_cleaner.output.concentrate_ag                    0\n",
       "primary_cleaner.output.concentrate_pb                  116\n",
       "primary_cleaner.output.concentrate_sol                 370\n",
       "primary_cleaner.output.concentrate_au                    0\n",
       "primary_cleaner.output.tail_ag                           4\n",
       "primary_cleaner.output.tail_pb                          21\n",
       "primary_cleaner.output.tail_sol                         62\n",
       "primary_cleaner.output.tail_au                           0\n",
       "primary_cleaner.state.floatbank8_a_air                   4\n",
       "primary_cleaner.state.floatbank8_a_level                 1\n",
       "primary_cleaner.state.floatbank8_b_air                   4\n",
       "primary_cleaner.state.floatbank8_b_level                 1\n",
       "primary_cleaner.state.floatbank8_c_air                   2\n",
       "primary_cleaner.state.floatbank8_c_level                 1\n",
       "primary_cleaner.state.floatbank8_d_air                   3\n",
       "primary_cleaner.state.floatbank8_d_level                 1\n",
       "rougher.calculation.sulfate_to_au_concentrate            2\n",
       "rougher.calculation.floatbank10_sulfate_to_au_feed       2\n",
       "rougher.calculation.floatbank11_sulfate_to_au_feed       2\n",
       "rougher.calculation.au_pb_ratio                          0\n",
       "rougher.input.feed_ag                                    0\n",
       "rougher.input.feed_pb                                  100\n",
       "rougher.input.feed_rate                                 11\n",
       "rougher.input.feed_size                                145\n",
       "rougher.input.feed_sol                                  99\n",
       "rougher.input.feed_au                                    0\n",
       "rougher.input.floatbank10_sulfate                       34\n",
       "rougher.input.floatbank10_xanthate                       8\n",
       "rougher.input.floatbank11_sulfate                       44\n",
       "rougher.input.floatbank11_xanthate                     453\n",
       "rougher.output.concentrate_ag                            0\n",
       "rougher.output.concentrate_pb                            0\n",
       "rougher.output.concentrate_sol                          23\n",
       "rougher.output.concentrate_au                            0\n",
       "rougher.output.recovery                                  0\n",
       "rougher.output.tail_ag                                   1\n",
       "rougher.output.tail_pb                                   0\n",
       "rougher.output.tail_sol                                  0\n",
       "rougher.output.tail_au                                   0\n",
       "rougher.state.floatbank10_a_air                          1\n",
       "rougher.state.floatbank10_a_level                        1\n",
       "rougher.state.floatbank10_b_air                          1\n",
       "rougher.state.floatbank10_b_level                        1\n",
       "rougher.state.floatbank10_c_air                          1\n",
       "rougher.state.floatbank10_c_level                        1\n",
       "rougher.state.floatbank10_d_air                          0\n",
       "rougher.state.floatbank10_d_level                        0\n",
       "rougher.state.floatbank10_e_air                        436\n",
       "rougher.state.floatbank10_e_level                        0\n",
       "rougher.state.floatbank10_f_air                          0\n",
       "rougher.state.floatbank10_f_level                        0\n",
       "secondary_cleaner.output.tail_ag                         2\n",
       "secondary_cleaner.output.tail_pb                        12\n",
       "secondary_cleaner.output.tail_sol                     1748\n",
       "secondary_cleaner.output.tail_au                         0\n",
       "secondary_cleaner.state.floatbank2_a_air               220\n",
       "secondary_cleaner.state.floatbank2_a_level               1\n",
       "secondary_cleaner.state.floatbank2_b_air                23\n",
       "secondary_cleaner.state.floatbank2_b_level               1\n",
       "secondary_cleaner.state.floatbank3_a_air                13\n",
       "secondary_cleaner.state.floatbank3_a_level               1\n",
       "secondary_cleaner.state.floatbank3_b_air                 1\n",
       "secondary_cleaner.state.floatbank3_b_level               1\n",
       "secondary_cleaner.state.floatbank4_a_air                 6\n",
       "secondary_cleaner.state.floatbank4_a_level               1\n",
       "secondary_cleaner.state.floatbank4_b_air                 1\n",
       "secondary_cleaner.state.floatbank4_b_level               1\n",
       "secondary_cleaner.state.floatbank5_a_air                 1\n",
       "secondary_cleaner.state.floatbank5_a_level               1\n",
       "secondary_cleaner.state.floatbank5_b_air                 1\n",
       "secondary_cleaner.state.floatbank5_b_level               1\n",
       "secondary_cleaner.state.floatbank6_a_air                 2\n",
       "secondary_cleaner.state.floatbank6_a_level               1\n",
       "dtype: int64"
      ]
     },
     "metadata": {},
     "output_type": "display_data"
    },
    {
     "name": "stdout",
     "output_type": "stream",
     "text": [
      "\n",
      "\n",
      "\n",
      "Количество дубликатов в данных\n",
      "0\n"
     ]
    }
   ],
   "source": [
    "data_summary(df_full)"
   ]
  },
  {
   "cell_type": "markdown",
   "metadata": {},
   "source": [
    "#### Результаты\n",
    "По результатам осмотра данных можно сделать выводы:\n",
    "- имеется 2 целевых признака: \n",
    "    - rougher.output.recovery\n",
    "    - final.output.recovery\n",
    "- во всех датасетах имеются пропуски;\n",
    "- набор признаков в тестовой выборке меньше, чем в прочих;\n",
    "- в частности, в тестовой выборке отсутствуют целевые признаки;\n",
    "- грубых выбросов в данных не определяется;\n",
    "- вероятнее всего, дата является уникальной характеристикой каждой записи в таблице, необходимо извлечь недостающие целевые признаки на основании даты.\n",
    "\n",
    "\n",
    "### Отбор целевого признака для тестовой выборки\n",
    "\n",
    "В тестовой выборке от заказчика целевого признака нет.\n",
    "\n",
    "Забрать его из df_full по индексу невозможно из-за несовпадения индексов.\n",
    "\n",
    "В таком случае, убедимся, что дата и время в общей выборке не повторяются.\n",
    "В случае, если дата и время уникальны для каждой строки, переведем данный столбец в категорию индекса, и по этому новому, совпадающему в разных датафреймах индексу уже скопируем целевой признак."
   ]
  },
  {
   "cell_type": "markdown",
   "metadata": {},
   "source": [
    "<font color='blue'><b>Комментарий ревьюера: </b></font> ✔️\\\n",
    "<font color='green'>Данные загружены корректно, первичный осмотр проведен.</font>"
   ]
  },
  {
   "cell_type": "code",
   "execution_count": 8,
   "metadata": {
    "scrolled": false
   },
   "outputs": [
    {
     "name": "stdout",
     "output_type": "stream",
     "text": [
      "Повторяющиеся значения даты/времени в df_full: 0\n"
     ]
    }
   ],
   "source": [
    "print('Повторяющиеся значения даты/времени в df_full:', (df_full['date'].value_counts()>1).sum())\n",
    "# проверяем наличие повторяющихся значений\n",
    "\n",
    "df_full.index = df_full['date']\n",
    "df_test.index = df_test['date']\n",
    "df_train.index = df_train['date'] # меняем индекс на дату, т.к. дата однозначно определяет запись таблицы"
   ]
  },
  {
   "cell_type": "markdown",
   "metadata": {},
   "source": [
    "<font color='blue'><b>Комментарий ревьюера: </b></font> ✔️\\\n",
    "<font color='green'> Верно, нужно привязаться ко времени.</font> "
   ]
  },
  {
   "cell_type": "code",
   "execution_count": 9,
   "metadata": {
    "scrolled": true
   },
   "outputs": [
    {
     "name": "stdout",
     "output_type": "stream",
     "text": [
      "Проверяем записи в df_full и df_test, имеющие одинаковый индекс, на несовпадение:\n",
      " False    5229\n",
      "True       61\n",
      "dtype: int64\n"
     ]
    }
   ],
   "source": [
    "flaw = df_full.loc[df_full.index.isin(df_test.index)][df_test.columns] != df_test\n",
    "flaw = flaw.sum(axis=1)>0\n",
    "print('Проверяем записи в df_full и df_test, имеющие одинаковый индекс, на несовпадение:\\n', flaw.value_counts())\n"
   ]
  },
  {
   "cell_type": "markdown",
   "metadata": {},
   "source": [
    "61 строка отличается. Удалим эти строки, прежде чем копировать целевые признаки."
   ]
  },
  {
   "cell_type": "code",
   "execution_count": 10,
   "metadata": {
    "collapsed": true
   },
   "outputs": [
    {
     "data": {
      "text/plain": [
       "date                                          5229\n",
       "primary_cleaner.input.sulfate                 5229\n",
       "primary_cleaner.input.depressant              5229\n",
       "primary_cleaner.input.feed_size               5229\n",
       "primary_cleaner.input.xanthate                5229\n",
       "primary_cleaner.state.floatbank8_a_air        5229\n",
       "primary_cleaner.state.floatbank8_a_level      5229\n",
       "primary_cleaner.state.floatbank8_b_air        5229\n",
       "primary_cleaner.state.floatbank8_b_level      5229\n",
       "primary_cleaner.state.floatbank8_c_air        5229\n",
       "primary_cleaner.state.floatbank8_c_level      5229\n",
       "primary_cleaner.state.floatbank8_d_air        5229\n",
       "primary_cleaner.state.floatbank8_d_level      5229\n",
       "rougher.input.feed_ag                         5229\n",
       "rougher.input.feed_pb                         5229\n",
       "rougher.input.feed_rate                       5229\n",
       "rougher.input.feed_size                       5229\n",
       "rougher.input.feed_sol                        5229\n",
       "rougher.input.feed_au                         5229\n",
       "rougher.input.floatbank10_sulfate             5229\n",
       "rougher.input.floatbank10_xanthate            5229\n",
       "rougher.input.floatbank11_sulfate             5229\n",
       "rougher.input.floatbank11_xanthate            5229\n",
       "rougher.state.floatbank10_a_air               5229\n",
       "rougher.state.floatbank10_a_level             5229\n",
       "rougher.state.floatbank10_b_air               5229\n",
       "rougher.state.floatbank10_b_level             5229\n",
       "rougher.state.floatbank10_c_air               5229\n",
       "rougher.state.floatbank10_c_level             5229\n",
       "rougher.state.floatbank10_d_air               5229\n",
       "rougher.state.floatbank10_d_level             5229\n",
       "rougher.state.floatbank10_e_air               5229\n",
       "rougher.state.floatbank10_e_level             5229\n",
       "rougher.state.floatbank10_f_air               5229\n",
       "rougher.state.floatbank10_f_level             5229\n",
       "secondary_cleaner.state.floatbank2_a_air      5229\n",
       "secondary_cleaner.state.floatbank2_a_level    5229\n",
       "secondary_cleaner.state.floatbank2_b_air      5229\n",
       "secondary_cleaner.state.floatbank2_b_level    5229\n",
       "secondary_cleaner.state.floatbank3_a_air      5229\n",
       "secondary_cleaner.state.floatbank3_a_level    5229\n",
       "secondary_cleaner.state.floatbank3_b_air      5229\n",
       "secondary_cleaner.state.floatbank3_b_level    5229\n",
       "secondary_cleaner.state.floatbank4_a_air      5229\n",
       "secondary_cleaner.state.floatbank4_a_level    5229\n",
       "secondary_cleaner.state.floatbank4_b_air      5229\n",
       "secondary_cleaner.state.floatbank4_b_level    5229\n",
       "secondary_cleaner.state.floatbank5_a_air      5229\n",
       "secondary_cleaner.state.floatbank5_a_level    5229\n",
       "secondary_cleaner.state.floatbank5_b_air      5229\n",
       "secondary_cleaner.state.floatbank5_b_level    5229\n",
       "secondary_cleaner.state.floatbank6_a_air      5229\n",
       "secondary_cleaner.state.floatbank6_a_level    5229\n",
       "dtype: int64"
      ]
     },
     "execution_count": 10,
     "metadata": {},
     "output_type": "execute_result"
    }
   ],
   "source": [
    "df_test.drop(df_test.loc[flaw==True].index, inplace=True)\n",
    "\n",
    "(df_full[df_full.index.isin(df_test.index)][df_test.columns] == df_test).sum(axis=0)"
   ]
  },
  {
   "cell_type": "code",
   "execution_count": 11,
   "metadata": {},
   "outputs": [],
   "source": [
    "df_test['target_rough'] = df_full['rougher.output.recovery'] # 1й целевой признак\n",
    "df_test['target_final'] = df_full['final.output.recovery']   # 2й целевой признак\n"
   ]
  },
  {
   "cell_type": "code",
   "execution_count": 12,
   "metadata": {},
   "outputs": [
    {
     "data": {
      "text/plain": [
       "True    5229\n",
       "dtype: int64"
      ]
     },
     "metadata": {},
     "output_type": "display_data"
    },
    {
     "data": {
      "text/plain": [
       "True    5229\n",
       "dtype: int64"
      ]
     },
     "metadata": {},
     "output_type": "display_data"
    }
   ],
   "source": [
    "# проверяем, что значения перенесены верно\n",
    "\n",
    "\n",
    "display(pd.Series(df_test['target_rough']==df_full[df_full.index.isin(df_test.index)]['rougher.output.recovery']).value_counts())\n",
    "\n",
    "display(pd.Series(df_test['target_final']==df_full[df_full.index.isin(df_test.index)]['final.output.recovery']).value_counts())"
   ]
  },
  {
   "cell_type": "markdown",
   "metadata": {},
   "source": [
    "Таким образом, в тестовый датасет введены целевые признаки.\n",
    "\n",
    "### Заполнение пропусков\n",
    "\n",
    "Учитывая что близкие по времени записи, согласно информации заказчика, имеют близкие значения признаков, заполним пропуски последним присутствующим значением."
   ]
  },
  {
   "cell_type": "code",
   "execution_count": 13,
   "metadata": {
    "scrolled": true
   },
   "outputs": [
    {
     "name": "stdout",
     "output_type": "stream",
     "text": [
      "Оставшееся число пропусков:\n",
      "0\n",
      "0\n",
      "0\n"
     ]
    }
   ],
   "source": [
    "\n",
    "print('Оставшееся число пропусков:')\n",
    "for df in [df_train, df_test, df_full]:\n",
    "    df.fillna(method='ffill', inplace=True)\n",
    "    print(df.isna().sum().sum())\n"
   ]
  },
  {
   "cell_type": "markdown",
   "metadata": {},
   "source": [
    "<font color='blue'><b>Комментарий ревьюера: </b></font> ⚠️\\\n",
    "<font color='darkorange'> Теряем данные.\\\n",
    "В условиях есть указание, что соседние данные похожи. Можно протестировать работу моделей с заполнением по этому условию.</font>\n",
    "\n",
    "<font color='purple'><b>Комментарий cтудента: </b></font> \\\n",
    "<font color='purple'> Исправлено, см. выше. Заполнены пропуски последним доступным значением с применением .fillna(method='ffill')\\\n",
    "    Cпасибо)\n",
    " </font>"
   ]
  },
  {
   "cell_type": "markdown",
   "metadata": {},
   "source": [
    "<font color='blue'><b>Комментарий ревьюера 2: </b></font> ✔️\\\n",
    "<font color='green'>👍 Можно просто df.ffill()</font>"
   ]
  },
  {
   "cell_type": "markdown",
   "metadata": {},
   "source": [
    "Пропуски во всех датасетах устранены.\n"
   ]
  },
  {
   "cell_type": "markdown",
   "metadata": {},
   "source": [
    "\n",
    "\n",
    "### Расчёт эффективности обогащения\n",
    "\n",
    "Эффективность обогащения рассчитывается по формуле\n",
    "\n",
    "- Recovery = C*(F-T)/F*(C-T)*100%\n",
    "\n",
    "где:\n",
    "- C — доля золота в концентрате после флотации/очистки;\n",
    "- F — доля золота в сырье/концентрате до флотации/очистки;\n",
    "- T — доля золота в отвальных хвостах после флотации/очистки.\n"
   ]
  },
  {
   "cell_type": "code",
   "execution_count": 14,
   "metadata": {},
   "outputs": [
    {
     "data": {
      "text/html": [
       "<div>\n",
       "<style scoped>\n",
       "    .dataframe tbody tr th:only-of-type {\n",
       "        vertical-align: middle;\n",
       "    }\n",
       "\n",
       "    .dataframe tbody tr th {\n",
       "        vertical-align: top;\n",
       "    }\n",
       "\n",
       "    .dataframe thead th {\n",
       "        text-align: right;\n",
       "    }\n",
       "</style>\n",
       "<table border=\"1\" class=\"dataframe\">\n",
       "  <thead>\n",
       "    <tr style=\"text-align: right;\">\n",
       "      <th></th>\n",
       "      <th>rougher.input.feed_au</th>\n",
       "      <th>rougher.output.concentrate_au</th>\n",
       "      <th>rougher.output.recovery</th>\n",
       "      <th>rougher.output.tail_au</th>\n",
       "    </tr>\n",
       "    <tr>\n",
       "      <th>date</th>\n",
       "      <th></th>\n",
       "      <th></th>\n",
       "      <th></th>\n",
       "      <th></th>\n",
       "    </tr>\n",
       "  </thead>\n",
       "  <tbody>\n",
       "    <tr>\n",
       "      <th>2016-01-15 00:00:00</th>\n",
       "      <td>6.486150</td>\n",
       "      <td>19.793808</td>\n",
       "      <td>87.107763</td>\n",
       "      <td>1.170244</td>\n",
       "    </tr>\n",
       "    <tr>\n",
       "      <th>2016-01-15 01:00:00</th>\n",
       "      <td>6.478583</td>\n",
       "      <td>20.050975</td>\n",
       "      <td>86.843261</td>\n",
       "      <td>1.184827</td>\n",
       "    </tr>\n",
       "    <tr>\n",
       "      <th>2016-01-15 02:00:00</th>\n",
       "      <td>6.362222</td>\n",
       "      <td>19.737170</td>\n",
       "      <td>86.842308</td>\n",
       "      <td>1.162562</td>\n",
       "    </tr>\n",
       "    <tr>\n",
       "      <th>2016-01-15 03:00:00</th>\n",
       "      <td>6.118189</td>\n",
       "      <td>19.320810</td>\n",
       "      <td>87.226430</td>\n",
       "      <td>1.079755</td>\n",
       "    </tr>\n",
       "    <tr>\n",
       "      <th>2016-01-15 04:00:00</th>\n",
       "      <td>5.663707</td>\n",
       "      <td>19.216101</td>\n",
       "      <td>86.688794</td>\n",
       "      <td>1.012642</td>\n",
       "    </tr>\n",
       "  </tbody>\n",
       "</table>\n",
       "</div>"
      ],
      "text/plain": [
       "                     rougher.input.feed_au  rougher.output.concentrate_au  \\\n",
       "date                                                                        \n",
       "2016-01-15 00:00:00               6.486150                      19.793808   \n",
       "2016-01-15 01:00:00               6.478583                      20.050975   \n",
       "2016-01-15 02:00:00               6.362222                      19.737170   \n",
       "2016-01-15 03:00:00               6.118189                      19.320810   \n",
       "2016-01-15 04:00:00               5.663707                      19.216101   \n",
       "\n",
       "                     rougher.output.recovery  rougher.output.tail_au  \n",
       "date                                                                  \n",
       "2016-01-15 00:00:00                87.107763                1.170244  \n",
       "2016-01-15 01:00:00                86.843261                1.184827  \n",
       "2016-01-15 02:00:00                86.842308                1.162562  \n",
       "2016-01-15 03:00:00                87.226430                1.079755  \n",
       "2016-01-15 04:00:00                86.688794                1.012642  "
      ]
     },
     "metadata": {},
     "output_type": "display_data"
    },
    {
     "data": {
      "text/html": [
       "<div>\n",
       "<style scoped>\n",
       "    .dataframe tbody tr th:only-of-type {\n",
       "        vertical-align: middle;\n",
       "    }\n",
       "\n",
       "    .dataframe tbody tr th {\n",
       "        vertical-align: top;\n",
       "    }\n",
       "\n",
       "    .dataframe thead th {\n",
       "        text-align: right;\n",
       "    }\n",
       "</style>\n",
       "<table border=\"1\" class=\"dataframe\">\n",
       "  <thead>\n",
       "    <tr style=\"text-align: right;\">\n",
       "      <th></th>\n",
       "      <th>given</th>\n",
       "      <th>calculated</th>\n",
       "    </tr>\n",
       "    <tr>\n",
       "      <th>date</th>\n",
       "      <th></th>\n",
       "      <th></th>\n",
       "    </tr>\n",
       "  </thead>\n",
       "  <tbody>\n",
       "    <tr>\n",
       "      <th>2016-01-15 00:00:00</th>\n",
       "      <td>87.107763</td>\n",
       "      <td>87.107763</td>\n",
       "    </tr>\n",
       "    <tr>\n",
       "      <th>2016-01-15 01:00:00</th>\n",
       "      <td>86.843261</td>\n",
       "      <td>86.843261</td>\n",
       "    </tr>\n",
       "    <tr>\n",
       "      <th>2016-01-15 02:00:00</th>\n",
       "      <td>86.842308</td>\n",
       "      <td>86.842308</td>\n",
       "    </tr>\n",
       "    <tr>\n",
       "      <th>2016-01-15 03:00:00</th>\n",
       "      <td>87.226430</td>\n",
       "      <td>87.226430</td>\n",
       "    </tr>\n",
       "    <tr>\n",
       "      <th>2016-01-15 04:00:00</th>\n",
       "      <td>86.688794</td>\n",
       "      <td>86.688794</td>\n",
       "    </tr>\n",
       "  </tbody>\n",
       "</table>\n",
       "</div>"
      ],
      "text/plain": [
       "                         given  calculated\n",
       "date                                      \n",
       "2016-01-15 00:00:00  87.107763   87.107763\n",
       "2016-01-15 01:00:00  86.843261   86.843261\n",
       "2016-01-15 02:00:00  86.842308   86.842308\n",
       "2016-01-15 03:00:00  87.226430   87.226430\n",
       "2016-01-15 04:00:00  86.688794   86.688794"
      ]
     },
     "metadata": {},
     "output_type": "display_data"
    },
    {
     "name": "stdout",
     "output_type": "stream",
     "text": [
      "9.874045668302637e-15\n"
     ]
    }
   ],
   "source": [
    "df_recovery_calc = []\n",
    "for column in df_full.columns: # выбираем столбцы датасета, используемые для расчёта\n",
    "    if ('au' in column or 'recover' in column) \\\n",
    "    and 'rougher' in column and 'calculation' not in column:\n",
    "        df_recovery_calc.append(column)\n",
    "\n",
    "df_recovery_calc = df_full[df_recovery_calc]\n",
    "display(df_recovery_calc.head()) # осматриваем получившуюся таблицу - убедиться, что необходимые признаки на месте\n",
    "df_recovery_calc.columns = ['F', 'C', 'given_recovery', 'T'] # меняем названия столбцов для удобства расчёта\n",
    "calculated_recovery = (df_recovery_calc['C']*(df_recovery_calc['F']-df_recovery_calc['T']))/(df_recovery_calc['F']*(df_recovery_calc['C']-df_recovery_calc['T']))*100\n",
    "\n",
    "df_recovery_calc = pd.DataFrame(data={'given':df_recovery_calc['given_recovery'], 'calculated':calculated_recovery})\n",
    "display(df_recovery_calc.head()) # формируем новую таблицу, в которой рядом находятся recovery из датасета и заново посчитанное\n",
    "                                 # recovery\n",
    "\n",
    "print(mean_absolute_error(df_recovery_calc['given'], df_recovery_calc['calculated'])) # рассчитываем MAE"
   ]
  },
  {
   "cell_type": "markdown",
   "metadata": {},
   "source": [
    "<font color='blue'><b>Комментарий ревьюера: </b></font> ✔️\\\n",
    "<font color='green'>Расчёт верный!</font>"
   ]
  },
  {
   "cell_type": "markdown",
   "metadata": {},
   "source": [
    "Итак, MAE составила 10^-14, то есть крайне малое число, вероятно, связанное с погрешностью в расчётах, обусловленной ограничением типа float. \n",
    "\n",
    "Вывод: recovery в исходных данных рассчитана правильно."
   ]
  },
  {
   "cell_type": "markdown",
   "metadata": {},
   "source": [
    "<font color='blue'><b>Комментарий ревьюера: </b></font> ✔️\\\n",
    "<font color='green'>👍</font>"
   ]
  },
  {
   "cell_type": "markdown",
   "metadata": {},
   "source": [
    "### Признаки, недоступные в тестовой выборке\n",
    "\n",
    "Для наглядности решено представить данные о наличии столбцов в виде таблицы: слева - название столбца из df_full, справа булевым значением отмечен факт наличия / отсутствия столбца в тестовой выборке."
   ]
  },
  {
   "cell_type": "code",
   "execution_count": 15,
   "metadata": {
    "collapsed": true
   },
   "outputs": [
    {
     "data": {
      "text/html": [
       "<div>\n",
       "<style scoped>\n",
       "    .dataframe tbody tr th:only-of-type {\n",
       "        vertical-align: middle;\n",
       "    }\n",
       "\n",
       "    .dataframe tbody tr th {\n",
       "        vertical-align: top;\n",
       "    }\n",
       "\n",
       "    .dataframe thead th {\n",
       "        text-align: right;\n",
       "    }\n",
       "</style>\n",
       "<table border=\"1\" class=\"dataframe\">\n",
       "  <thead>\n",
       "    <tr style=\"text-align: right;\">\n",
       "      <th></th>\n",
       "      <th>column</th>\n",
       "      <th>is_in_test</th>\n",
       "    </tr>\n",
       "  </thead>\n",
       "  <tbody>\n",
       "    <tr>\n",
       "      <th>0</th>\n",
       "      <td>date</td>\n",
       "      <td>True</td>\n",
       "    </tr>\n",
       "    <tr>\n",
       "      <th>1</th>\n",
       "      <td>final.output.concentrate_ag</td>\n",
       "      <td>False</td>\n",
       "    </tr>\n",
       "    <tr>\n",
       "      <th>2</th>\n",
       "      <td>final.output.concentrate_pb</td>\n",
       "      <td>False</td>\n",
       "    </tr>\n",
       "    <tr>\n",
       "      <th>3</th>\n",
       "      <td>final.output.concentrate_sol</td>\n",
       "      <td>False</td>\n",
       "    </tr>\n",
       "    <tr>\n",
       "      <th>4</th>\n",
       "      <td>final.output.concentrate_au</td>\n",
       "      <td>False</td>\n",
       "    </tr>\n",
       "    <tr>\n",
       "      <th>5</th>\n",
       "      <td>final.output.recovery</td>\n",
       "      <td>False</td>\n",
       "    </tr>\n",
       "    <tr>\n",
       "      <th>6</th>\n",
       "      <td>final.output.tail_ag</td>\n",
       "      <td>False</td>\n",
       "    </tr>\n",
       "    <tr>\n",
       "      <th>7</th>\n",
       "      <td>final.output.tail_pb</td>\n",
       "      <td>False</td>\n",
       "    </tr>\n",
       "    <tr>\n",
       "      <th>8</th>\n",
       "      <td>final.output.tail_sol</td>\n",
       "      <td>False</td>\n",
       "    </tr>\n",
       "    <tr>\n",
       "      <th>9</th>\n",
       "      <td>final.output.tail_au</td>\n",
       "      <td>False</td>\n",
       "    </tr>\n",
       "    <tr>\n",
       "      <th>10</th>\n",
       "      <td>primary_cleaner.input.sulfate</td>\n",
       "      <td>True</td>\n",
       "    </tr>\n",
       "    <tr>\n",
       "      <th>11</th>\n",
       "      <td>primary_cleaner.input.depressant</td>\n",
       "      <td>True</td>\n",
       "    </tr>\n",
       "    <tr>\n",
       "      <th>12</th>\n",
       "      <td>primary_cleaner.input.feed_size</td>\n",
       "      <td>True</td>\n",
       "    </tr>\n",
       "    <tr>\n",
       "      <th>13</th>\n",
       "      <td>primary_cleaner.input.xanthate</td>\n",
       "      <td>True</td>\n",
       "    </tr>\n",
       "    <tr>\n",
       "      <th>14</th>\n",
       "      <td>primary_cleaner.output.concentrate_ag</td>\n",
       "      <td>False</td>\n",
       "    </tr>\n",
       "    <tr>\n",
       "      <th>15</th>\n",
       "      <td>primary_cleaner.output.concentrate_pb</td>\n",
       "      <td>False</td>\n",
       "    </tr>\n",
       "    <tr>\n",
       "      <th>16</th>\n",
       "      <td>primary_cleaner.output.concentrate_sol</td>\n",
       "      <td>False</td>\n",
       "    </tr>\n",
       "    <tr>\n",
       "      <th>17</th>\n",
       "      <td>primary_cleaner.output.concentrate_au</td>\n",
       "      <td>False</td>\n",
       "    </tr>\n",
       "    <tr>\n",
       "      <th>18</th>\n",
       "      <td>primary_cleaner.output.tail_ag</td>\n",
       "      <td>False</td>\n",
       "    </tr>\n",
       "    <tr>\n",
       "      <th>19</th>\n",
       "      <td>primary_cleaner.output.tail_pb</td>\n",
       "      <td>False</td>\n",
       "    </tr>\n",
       "    <tr>\n",
       "      <th>20</th>\n",
       "      <td>primary_cleaner.output.tail_sol</td>\n",
       "      <td>False</td>\n",
       "    </tr>\n",
       "    <tr>\n",
       "      <th>21</th>\n",
       "      <td>primary_cleaner.output.tail_au</td>\n",
       "      <td>False</td>\n",
       "    </tr>\n",
       "    <tr>\n",
       "      <th>22</th>\n",
       "      <td>primary_cleaner.state.floatbank8_a_air</td>\n",
       "      <td>True</td>\n",
       "    </tr>\n",
       "    <tr>\n",
       "      <th>23</th>\n",
       "      <td>primary_cleaner.state.floatbank8_a_level</td>\n",
       "      <td>True</td>\n",
       "    </tr>\n",
       "    <tr>\n",
       "      <th>24</th>\n",
       "      <td>primary_cleaner.state.floatbank8_b_air</td>\n",
       "      <td>True</td>\n",
       "    </tr>\n",
       "    <tr>\n",
       "      <th>25</th>\n",
       "      <td>primary_cleaner.state.floatbank8_b_level</td>\n",
       "      <td>True</td>\n",
       "    </tr>\n",
       "    <tr>\n",
       "      <th>26</th>\n",
       "      <td>primary_cleaner.state.floatbank8_c_air</td>\n",
       "      <td>True</td>\n",
       "    </tr>\n",
       "    <tr>\n",
       "      <th>27</th>\n",
       "      <td>primary_cleaner.state.floatbank8_c_level</td>\n",
       "      <td>True</td>\n",
       "    </tr>\n",
       "    <tr>\n",
       "      <th>28</th>\n",
       "      <td>primary_cleaner.state.floatbank8_d_air</td>\n",
       "      <td>True</td>\n",
       "    </tr>\n",
       "    <tr>\n",
       "      <th>29</th>\n",
       "      <td>primary_cleaner.state.floatbank8_d_level</td>\n",
       "      <td>True</td>\n",
       "    </tr>\n",
       "    <tr>\n",
       "      <th>30</th>\n",
       "      <td>rougher.calculation.sulfate_to_au_concentrate</td>\n",
       "      <td>False</td>\n",
       "    </tr>\n",
       "    <tr>\n",
       "      <th>31</th>\n",
       "      <td>rougher.calculation.floatbank10_sulfate_to_au_...</td>\n",
       "      <td>False</td>\n",
       "    </tr>\n",
       "    <tr>\n",
       "      <th>32</th>\n",
       "      <td>rougher.calculation.floatbank11_sulfate_to_au_...</td>\n",
       "      <td>False</td>\n",
       "    </tr>\n",
       "    <tr>\n",
       "      <th>33</th>\n",
       "      <td>rougher.calculation.au_pb_ratio</td>\n",
       "      <td>False</td>\n",
       "    </tr>\n",
       "    <tr>\n",
       "      <th>34</th>\n",
       "      <td>rougher.input.feed_ag</td>\n",
       "      <td>True</td>\n",
       "    </tr>\n",
       "    <tr>\n",
       "      <th>35</th>\n",
       "      <td>rougher.input.feed_pb</td>\n",
       "      <td>True</td>\n",
       "    </tr>\n",
       "    <tr>\n",
       "      <th>36</th>\n",
       "      <td>rougher.input.feed_rate</td>\n",
       "      <td>True</td>\n",
       "    </tr>\n",
       "    <tr>\n",
       "      <th>37</th>\n",
       "      <td>rougher.input.feed_size</td>\n",
       "      <td>True</td>\n",
       "    </tr>\n",
       "    <tr>\n",
       "      <th>38</th>\n",
       "      <td>rougher.input.feed_sol</td>\n",
       "      <td>True</td>\n",
       "    </tr>\n",
       "    <tr>\n",
       "      <th>39</th>\n",
       "      <td>rougher.input.feed_au</td>\n",
       "      <td>True</td>\n",
       "    </tr>\n",
       "    <tr>\n",
       "      <th>40</th>\n",
       "      <td>rougher.input.floatbank10_sulfate</td>\n",
       "      <td>True</td>\n",
       "    </tr>\n",
       "    <tr>\n",
       "      <th>41</th>\n",
       "      <td>rougher.input.floatbank10_xanthate</td>\n",
       "      <td>True</td>\n",
       "    </tr>\n",
       "    <tr>\n",
       "      <th>42</th>\n",
       "      <td>rougher.input.floatbank11_sulfate</td>\n",
       "      <td>True</td>\n",
       "    </tr>\n",
       "    <tr>\n",
       "      <th>43</th>\n",
       "      <td>rougher.input.floatbank11_xanthate</td>\n",
       "      <td>True</td>\n",
       "    </tr>\n",
       "    <tr>\n",
       "      <th>44</th>\n",
       "      <td>rougher.output.concentrate_ag</td>\n",
       "      <td>False</td>\n",
       "    </tr>\n",
       "    <tr>\n",
       "      <th>45</th>\n",
       "      <td>rougher.output.concentrate_pb</td>\n",
       "      <td>False</td>\n",
       "    </tr>\n",
       "    <tr>\n",
       "      <th>46</th>\n",
       "      <td>rougher.output.concentrate_sol</td>\n",
       "      <td>False</td>\n",
       "    </tr>\n",
       "    <tr>\n",
       "      <th>47</th>\n",
       "      <td>rougher.output.concentrate_au</td>\n",
       "      <td>False</td>\n",
       "    </tr>\n",
       "    <tr>\n",
       "      <th>48</th>\n",
       "      <td>rougher.output.recovery</td>\n",
       "      <td>False</td>\n",
       "    </tr>\n",
       "    <tr>\n",
       "      <th>49</th>\n",
       "      <td>rougher.output.tail_ag</td>\n",
       "      <td>False</td>\n",
       "    </tr>\n",
       "    <tr>\n",
       "      <th>50</th>\n",
       "      <td>rougher.output.tail_pb</td>\n",
       "      <td>False</td>\n",
       "    </tr>\n",
       "    <tr>\n",
       "      <th>51</th>\n",
       "      <td>rougher.output.tail_sol</td>\n",
       "      <td>False</td>\n",
       "    </tr>\n",
       "    <tr>\n",
       "      <th>52</th>\n",
       "      <td>rougher.output.tail_au</td>\n",
       "      <td>False</td>\n",
       "    </tr>\n",
       "    <tr>\n",
       "      <th>53</th>\n",
       "      <td>rougher.state.floatbank10_a_air</td>\n",
       "      <td>True</td>\n",
       "    </tr>\n",
       "    <tr>\n",
       "      <th>54</th>\n",
       "      <td>rougher.state.floatbank10_a_level</td>\n",
       "      <td>True</td>\n",
       "    </tr>\n",
       "    <tr>\n",
       "      <th>55</th>\n",
       "      <td>rougher.state.floatbank10_b_air</td>\n",
       "      <td>True</td>\n",
       "    </tr>\n",
       "    <tr>\n",
       "      <th>56</th>\n",
       "      <td>rougher.state.floatbank10_b_level</td>\n",
       "      <td>True</td>\n",
       "    </tr>\n",
       "    <tr>\n",
       "      <th>57</th>\n",
       "      <td>rougher.state.floatbank10_c_air</td>\n",
       "      <td>True</td>\n",
       "    </tr>\n",
       "    <tr>\n",
       "      <th>58</th>\n",
       "      <td>rougher.state.floatbank10_c_level</td>\n",
       "      <td>True</td>\n",
       "    </tr>\n",
       "    <tr>\n",
       "      <th>59</th>\n",
       "      <td>rougher.state.floatbank10_d_air</td>\n",
       "      <td>True</td>\n",
       "    </tr>\n",
       "    <tr>\n",
       "      <th>60</th>\n",
       "      <td>rougher.state.floatbank10_d_level</td>\n",
       "      <td>True</td>\n",
       "    </tr>\n",
       "    <tr>\n",
       "      <th>61</th>\n",
       "      <td>rougher.state.floatbank10_e_air</td>\n",
       "      <td>True</td>\n",
       "    </tr>\n",
       "    <tr>\n",
       "      <th>62</th>\n",
       "      <td>rougher.state.floatbank10_e_level</td>\n",
       "      <td>True</td>\n",
       "    </tr>\n",
       "    <tr>\n",
       "      <th>63</th>\n",
       "      <td>rougher.state.floatbank10_f_air</td>\n",
       "      <td>True</td>\n",
       "    </tr>\n",
       "    <tr>\n",
       "      <th>64</th>\n",
       "      <td>rougher.state.floatbank10_f_level</td>\n",
       "      <td>True</td>\n",
       "    </tr>\n",
       "    <tr>\n",
       "      <th>65</th>\n",
       "      <td>secondary_cleaner.output.tail_ag</td>\n",
       "      <td>False</td>\n",
       "    </tr>\n",
       "    <tr>\n",
       "      <th>66</th>\n",
       "      <td>secondary_cleaner.output.tail_pb</td>\n",
       "      <td>False</td>\n",
       "    </tr>\n",
       "    <tr>\n",
       "      <th>67</th>\n",
       "      <td>secondary_cleaner.output.tail_sol</td>\n",
       "      <td>False</td>\n",
       "    </tr>\n",
       "    <tr>\n",
       "      <th>68</th>\n",
       "      <td>secondary_cleaner.output.tail_au</td>\n",
       "      <td>False</td>\n",
       "    </tr>\n",
       "    <tr>\n",
       "      <th>69</th>\n",
       "      <td>secondary_cleaner.state.floatbank2_a_air</td>\n",
       "      <td>True</td>\n",
       "    </tr>\n",
       "    <tr>\n",
       "      <th>70</th>\n",
       "      <td>secondary_cleaner.state.floatbank2_a_level</td>\n",
       "      <td>True</td>\n",
       "    </tr>\n",
       "    <tr>\n",
       "      <th>71</th>\n",
       "      <td>secondary_cleaner.state.floatbank2_b_air</td>\n",
       "      <td>True</td>\n",
       "    </tr>\n",
       "    <tr>\n",
       "      <th>72</th>\n",
       "      <td>secondary_cleaner.state.floatbank2_b_level</td>\n",
       "      <td>True</td>\n",
       "    </tr>\n",
       "    <tr>\n",
       "      <th>73</th>\n",
       "      <td>secondary_cleaner.state.floatbank3_a_air</td>\n",
       "      <td>True</td>\n",
       "    </tr>\n",
       "    <tr>\n",
       "      <th>74</th>\n",
       "      <td>secondary_cleaner.state.floatbank3_a_level</td>\n",
       "      <td>True</td>\n",
       "    </tr>\n",
       "    <tr>\n",
       "      <th>75</th>\n",
       "      <td>secondary_cleaner.state.floatbank3_b_air</td>\n",
       "      <td>True</td>\n",
       "    </tr>\n",
       "    <tr>\n",
       "      <th>76</th>\n",
       "      <td>secondary_cleaner.state.floatbank3_b_level</td>\n",
       "      <td>True</td>\n",
       "    </tr>\n",
       "    <tr>\n",
       "      <th>77</th>\n",
       "      <td>secondary_cleaner.state.floatbank4_a_air</td>\n",
       "      <td>True</td>\n",
       "    </tr>\n",
       "    <tr>\n",
       "      <th>78</th>\n",
       "      <td>secondary_cleaner.state.floatbank4_a_level</td>\n",
       "      <td>True</td>\n",
       "    </tr>\n",
       "    <tr>\n",
       "      <th>79</th>\n",
       "      <td>secondary_cleaner.state.floatbank4_b_air</td>\n",
       "      <td>True</td>\n",
       "    </tr>\n",
       "    <tr>\n",
       "      <th>80</th>\n",
       "      <td>secondary_cleaner.state.floatbank4_b_level</td>\n",
       "      <td>True</td>\n",
       "    </tr>\n",
       "    <tr>\n",
       "      <th>81</th>\n",
       "      <td>secondary_cleaner.state.floatbank5_a_air</td>\n",
       "      <td>True</td>\n",
       "    </tr>\n",
       "    <tr>\n",
       "      <th>82</th>\n",
       "      <td>secondary_cleaner.state.floatbank5_a_level</td>\n",
       "      <td>True</td>\n",
       "    </tr>\n",
       "    <tr>\n",
       "      <th>83</th>\n",
       "      <td>secondary_cleaner.state.floatbank5_b_air</td>\n",
       "      <td>True</td>\n",
       "    </tr>\n",
       "    <tr>\n",
       "      <th>84</th>\n",
       "      <td>secondary_cleaner.state.floatbank5_b_level</td>\n",
       "      <td>True</td>\n",
       "    </tr>\n",
       "    <tr>\n",
       "      <th>85</th>\n",
       "      <td>secondary_cleaner.state.floatbank6_a_air</td>\n",
       "      <td>True</td>\n",
       "    </tr>\n",
       "    <tr>\n",
       "      <th>86</th>\n",
       "      <td>secondary_cleaner.state.floatbank6_a_level</td>\n",
       "      <td>True</td>\n",
       "    </tr>\n",
       "  </tbody>\n",
       "</table>\n",
       "</div>"
      ],
      "text/plain": [
       "                                               column  is_in_test\n",
       "0                                                date        True\n",
       "1                         final.output.concentrate_ag       False\n",
       "2                         final.output.concentrate_pb       False\n",
       "3                        final.output.concentrate_sol       False\n",
       "4                         final.output.concentrate_au       False\n",
       "5                               final.output.recovery       False\n",
       "6                                final.output.tail_ag       False\n",
       "7                                final.output.tail_pb       False\n",
       "8                               final.output.tail_sol       False\n",
       "9                                final.output.tail_au       False\n",
       "10                      primary_cleaner.input.sulfate        True\n",
       "11                   primary_cleaner.input.depressant        True\n",
       "12                    primary_cleaner.input.feed_size        True\n",
       "13                     primary_cleaner.input.xanthate        True\n",
       "14              primary_cleaner.output.concentrate_ag       False\n",
       "15              primary_cleaner.output.concentrate_pb       False\n",
       "16             primary_cleaner.output.concentrate_sol       False\n",
       "17              primary_cleaner.output.concentrate_au       False\n",
       "18                     primary_cleaner.output.tail_ag       False\n",
       "19                     primary_cleaner.output.tail_pb       False\n",
       "20                    primary_cleaner.output.tail_sol       False\n",
       "21                     primary_cleaner.output.tail_au       False\n",
       "22             primary_cleaner.state.floatbank8_a_air        True\n",
       "23           primary_cleaner.state.floatbank8_a_level        True\n",
       "24             primary_cleaner.state.floatbank8_b_air        True\n",
       "25           primary_cleaner.state.floatbank8_b_level        True\n",
       "26             primary_cleaner.state.floatbank8_c_air        True\n",
       "27           primary_cleaner.state.floatbank8_c_level        True\n",
       "28             primary_cleaner.state.floatbank8_d_air        True\n",
       "29           primary_cleaner.state.floatbank8_d_level        True\n",
       "30      rougher.calculation.sulfate_to_au_concentrate       False\n",
       "31  rougher.calculation.floatbank10_sulfate_to_au_...       False\n",
       "32  rougher.calculation.floatbank11_sulfate_to_au_...       False\n",
       "33                    rougher.calculation.au_pb_ratio       False\n",
       "34                              rougher.input.feed_ag        True\n",
       "35                              rougher.input.feed_pb        True\n",
       "36                            rougher.input.feed_rate        True\n",
       "37                            rougher.input.feed_size        True\n",
       "38                             rougher.input.feed_sol        True\n",
       "39                              rougher.input.feed_au        True\n",
       "40                  rougher.input.floatbank10_sulfate        True\n",
       "41                 rougher.input.floatbank10_xanthate        True\n",
       "42                  rougher.input.floatbank11_sulfate        True\n",
       "43                 rougher.input.floatbank11_xanthate        True\n",
       "44                      rougher.output.concentrate_ag       False\n",
       "45                      rougher.output.concentrate_pb       False\n",
       "46                     rougher.output.concentrate_sol       False\n",
       "47                      rougher.output.concentrate_au       False\n",
       "48                            rougher.output.recovery       False\n",
       "49                             rougher.output.tail_ag       False\n",
       "50                             rougher.output.tail_pb       False\n",
       "51                            rougher.output.tail_sol       False\n",
       "52                             rougher.output.tail_au       False\n",
       "53                    rougher.state.floatbank10_a_air        True\n",
       "54                  rougher.state.floatbank10_a_level        True\n",
       "55                    rougher.state.floatbank10_b_air        True\n",
       "56                  rougher.state.floatbank10_b_level        True\n",
       "57                    rougher.state.floatbank10_c_air        True\n",
       "58                  rougher.state.floatbank10_c_level        True\n",
       "59                    rougher.state.floatbank10_d_air        True\n",
       "60                  rougher.state.floatbank10_d_level        True\n",
       "61                    rougher.state.floatbank10_e_air        True\n",
       "62                  rougher.state.floatbank10_e_level        True\n",
       "63                    rougher.state.floatbank10_f_air        True\n",
       "64                  rougher.state.floatbank10_f_level        True\n",
       "65                   secondary_cleaner.output.tail_ag       False\n",
       "66                   secondary_cleaner.output.tail_pb       False\n",
       "67                  secondary_cleaner.output.tail_sol       False\n",
       "68                   secondary_cleaner.output.tail_au       False\n",
       "69           secondary_cleaner.state.floatbank2_a_air        True\n",
       "70         secondary_cleaner.state.floatbank2_a_level        True\n",
       "71           secondary_cleaner.state.floatbank2_b_air        True\n",
       "72         secondary_cleaner.state.floatbank2_b_level        True\n",
       "73           secondary_cleaner.state.floatbank3_a_air        True\n",
       "74         secondary_cleaner.state.floatbank3_a_level        True\n",
       "75           secondary_cleaner.state.floatbank3_b_air        True\n",
       "76         secondary_cleaner.state.floatbank3_b_level        True\n",
       "77           secondary_cleaner.state.floatbank4_a_air        True\n",
       "78         secondary_cleaner.state.floatbank4_a_level        True\n",
       "79           secondary_cleaner.state.floatbank4_b_air        True\n",
       "80         secondary_cleaner.state.floatbank4_b_level        True\n",
       "81           secondary_cleaner.state.floatbank5_a_air        True\n",
       "82         secondary_cleaner.state.floatbank5_a_level        True\n",
       "83           secondary_cleaner.state.floatbank5_b_air        True\n",
       "84         secondary_cleaner.state.floatbank5_b_level        True\n",
       "85           secondary_cleaner.state.floatbank6_a_air        True\n",
       "86         secondary_cleaner.state.floatbank6_a_level        True"
      ]
     },
     "metadata": {},
     "output_type": "display_data"
    }
   ],
   "source": [
    "df_columns_compare = pd.DataFrame(data={'column':df_full.columns, 'is_in_test': df_full.columns.isin(df_test.columns)})\n",
    "display(df_columns_compare) # таблица, где напротив названия столбца стоит True или False, в зависимости\n",
    "                            # от наличия данного столбца в тестовой выборке\n"
   ]
  },
  {
   "cell_type": "markdown",
   "metadata": {},
   "source": [
    "При исследовании столбцов датафреймов выяснилось, что в тестовой выборке нет показателей output всех стадий и расчётных показателей, основанных на данных output. Это позволит избежать утечки целевого признака.\n",
    "\n",
    "Список столбцов test_df.columns в дальнейшем можно использовать для выбора features обучения модели."
   ]
  },
  {
   "cell_type": "markdown",
   "metadata": {},
   "source": [
    "<font color='blue'><b>Комментарий ревьюера: </b></font> ✔️\\\n",
    "<font color='green'> Верно!</font>"
   ]
  },
  {
   "cell_type": "markdown",
   "metadata": {},
   "source": [
    "<font color='blue'><b>Комментарий ревьюера: </b></font> ⚠️\\\n",
    "<font color='darkorange'> Данные для моделей можно подготовить позжею У нас впереди анализ, его нужно проводить на всех доступных данных.</font>\n",
    "\n",
    "\n",
    "<font color='purple'><b>Комментарий студента: </b></font> \\\n",
    "<font color='purple'> Принял, спасибо. Удаление перенесено в пункт 4.2.2</font>\n",
    "\n"
   ]
  },
  {
   "cell_type": "markdown",
   "metadata": {},
   "source": [
    "<font color='blue'><b>Комментарий ревьюера 2: </b></font> ✔️\\\n",
    "<font color='green'>👍</font>"
   ]
  },
  {
   "cell_type": "markdown",
   "metadata": {},
   "source": [
    "Таким образом, размер датафреймов несколько уменьшился за счёт удаления данных, которые не участвуют в исследовании.\n",
    "\n",
    "## Анализ данных\n",
    "### Сравнительная оценка концентрации веществ на различных этапах обогащения\n",
    "\n",
    "У нас есть информация по 4м этапам: в исходном сырье, на выходе флотации, после первого этапа очистки и после финальной очистки. \n",
    "Визуализируем концентрации веществ путём сбора данных в таблицу и построения графика."
   ]
  },
  {
   "cell_type": "code",
   "execution_count": 16,
   "metadata": {},
   "outputs": [],
   "source": [
    "# функция, позволяющая собрать в список концентрацию вещества по стадиям процесса\n",
    "def concentration_list(df, keyword):\n",
    "    list = ['one', 'two', 'three', 'four']\n",
    "    for column in df.columns:\n",
    "        if 'rougher.input.feed_' in column and keyword in column:\n",
    "            list[0] = df[column].mean() # ищем стадию и название вещества, затем\n",
    "            # добавляем среднюю концентрацию по стадии в нужную позицию в списке.\n",
    "        if 'rougher.output.concentrate' in column and keyword in column:\n",
    "            list[1] = df[column].mean()\n",
    "\n",
    "        if 'primary_cleaner.output.concentrate' in column and keyword in column:\n",
    "            list[2] = df[column].mean()\n",
    "\n",
    "        if 'final.output.concentrate' in column and keyword in column:\n",
    "            list[3] = df[column].mean()\n",
    "\n",
    "    return list # возвращаем полученный список\n",
    "    "
   ]
  },
  {
   "cell_type": "code",
   "execution_count": 17,
   "metadata": {
    "scrolled": true
   },
   "outputs": [
    {
     "data": {
      "image/png": "[encoded data removed]",
      "text/plain": [
       "<Figure size 1008x432 with 1 Axes>"
      ]
     },
     "metadata": {
      "needs_background": "light"
     },
     "output_type": "display_data"
    },
    {
     "name": "stdout",
     "output_type": "stream",
     "text": [
      "\n",
      "\n",
      "\n",
      "Суммарная концентрация веществ, сгруппированная по этапам производства:\n"
     ]
    },
    {
     "data": {
      "text/plain": [
       "rougher_input             57.320789\n",
       "rougher_output            68.170865\n",
       "primary_cleaner_output    60.764731\n",
       "final_output              68.653624\n",
       "dtype: float64"
      ]
     },
     "metadata": {},
     "output_type": "display_data"
    }
   ],
   "source": [
    "au_list = concentration_list(df_full, 'au') # собираем списки концентраций для датафрейма\n",
    "ag_list = concentration_list(df_full, 'ag')\n",
    "pb_list = concentration_list(df_full, 'pb')\n",
    "sol_list = concentration_list(df_full, 'sol')\n",
    "concentration_df = pd.DataFrame(index = ['rougher_input', 'rougher_output', 'primary_cleaner_output', 'final_output'],\n",
    "             data = {'Au': au_list, 'Ag': ag_list, 'Pb': pb_list, 'Sol': sol_list}) # собираем датафрейм\n",
    "                \n",
    "concentration_df.plot(figsize=[14,6], # визуализируем датафрейм путем создания lineplot\n",
    "                title='Динамика концентрации веществ по этапам обогащения', xlabel='этап',\n",
    "                ylabel='концентрация');\n",
    "plt.show()\n",
    "print('\\n\\n\\nСуммарная концентрация веществ, сгруппированная по этапам производства:')\n",
    "display(concentration_df.sum(axis=1)) # суммируем все вещества по стадиям"
   ]
  },
  {
   "cell_type": "markdown",
   "metadata": {},
   "source": [
    "Из полученного распределения можно сделать вывод, что концентрация золота в течение процесса нарастает почти линейно, в то время как количество золя снижается, количество свинца и серебра остается относительно небольшим на всех этапах производства.\n",
    "\n",
    "По стадиям известно, что на выходе флотации и по завершении очистки концентрация веществ выше, чем на прочих этапах.\n",
    "\n"
   ]
  },
  {
   "cell_type": "markdown",
   "metadata": {},
   "source": [
    "<font color='blue'><b>Комментарий ревьюера: </b></font> ✔️\\\n",
    "<font color='green'> Всё верно!</font>"
   ]
  },
  {
   "cell_type": "markdown",
   "metadata": {},
   "source": [
    "### Распределение размеров гранул сырья на обучающей и тестовой выборках"
   ]
  },
  {
   "cell_type": "code",
   "execution_count": 18,
   "metadata": {
    "scrolled": false
   },
   "outputs": [
    {
     "data": {
      "text/html": [
       "<div>\n",
       "<style scoped>\n",
       "    .dataframe tbody tr th:only-of-type {\n",
       "        vertical-align: middle;\n",
       "    }\n",
       "\n",
       "    .dataframe tbody tr th {\n",
       "        vertical-align: top;\n",
       "    }\n",
       "\n",
       "    .dataframe thead th {\n",
       "        text-align: right;\n",
       "    }\n",
       "</style>\n",
       "<table border=\"1\" class=\"dataframe\">\n",
       "  <thead>\n",
       "    <tr style=\"text-align: right;\">\n",
       "      <th></th>\n",
       "      <th>train_feed_size</th>\n",
       "      <th>test_feed_size</th>\n",
       "    </tr>\n",
       "  </thead>\n",
       "  <tbody>\n",
       "    <tr>\n",
       "      <th>count</th>\n",
       "      <td>14149.000000</td>\n",
       "      <td>5229.000000</td>\n",
       "    </tr>\n",
       "    <tr>\n",
       "      <th>mean</th>\n",
       "      <td>60.239856</td>\n",
       "      <td>55.863978</td>\n",
       "    </tr>\n",
       "    <tr>\n",
       "      <th>std</th>\n",
       "      <td>23.005310</td>\n",
       "      <td>18.914656</td>\n",
       "    </tr>\n",
       "    <tr>\n",
       "      <th>min</th>\n",
       "      <td>9.659576</td>\n",
       "      <td>0.046369</td>\n",
       "    </tr>\n",
       "    <tr>\n",
       "      <th>25%</th>\n",
       "      <td>48.966751</td>\n",
       "      <td>43.911874</td>\n",
       "    </tr>\n",
       "    <tr>\n",
       "      <th>50%</th>\n",
       "      <td>55.269784</td>\n",
       "      <td>50.772729</td>\n",
       "    </tr>\n",
       "    <tr>\n",
       "      <th>75%</th>\n",
       "      <td>66.007526</td>\n",
       "      <td>62.265394</td>\n",
       "    </tr>\n",
       "    <tr>\n",
       "      <th>max</th>\n",
       "      <td>484.967466</td>\n",
       "      <td>392.494040</td>\n",
       "    </tr>\n",
       "  </tbody>\n",
       "</table>\n",
       "</div>"
      ],
      "text/plain": [
       "       train_feed_size  test_feed_size\n",
       "count     14149.000000     5229.000000\n",
       "mean         60.239856       55.863978\n",
       "std          23.005310       18.914656\n",
       "min           9.659576        0.046369\n",
       "25%          48.966751       43.911874\n",
       "50%          55.269784       50.772729\n",
       "75%          66.007526       62.265394\n",
       "max         484.967466      392.494040"
      ]
     },
     "metadata": {},
     "output_type": "display_data"
    },
    {
     "data": {
      "image/png": "[encoded data removed]",
      "text/plain": [
       "<Figure size 1080x504 with 1 Axes>"
      ]
     },
     "metadata": {
      "needs_background": "light"
     },
     "output_type": "display_data"
    }
   ],
   "source": [
    "feed_size_df = pd.DataFrame(data={'train_feed_size':df_train['rougher.input.feed_size'],'test_feed_size':df_test['rougher.input.feed_size'] })\n",
    "display(feed_size_df.describe())\n",
    "\n",
    "#feed_size_df.hist(bins=100, density=True,range=[20,120],figsize=[15,6])\n",
    "fig = plt.figure(figsize=[15,7])\n",
    "fig.suptitle('Гистограмма распределения размеров гранул')\n",
    "plt.hist(feed_size_df, bins=100, density=True, range=[30,110], label=feed_size_df.columns)\n",
    "\n",
    "plt.xlabel('размер')\n",
    "plt.legend()\n",
    "plt.show()"
   ]
  },
  {
   "cell_type": "markdown",
   "metadata": {},
   "source": [
    "Распределения имеют похожую форму с резким нарастанием около 40, пиком около 45, постепенным снижением после 60."
   ]
  },
  {
   "cell_type": "markdown",
   "metadata": {},
   "source": [
    "<font color='blue'><b>Комментарий ревьюера: </b></font> ✔️\\\n",
    "<font color='green'> Вывод верный!</font> \\\n",
    "<font color='darkorange'> В данном случае нужно использовать параметр \"density=True\" в методе \".hist()\". Так бы нам удалось перейти от количества к доле.</font>\n",
    "\n",
    "<font color='purple'><b>Комментарий студента: </b></font> \\\n",
    "\n",
    "<font color='purple'> Сделано, в связи с совпадающей размерностью гистограммы перенесены на одну ось (см выше). Спасибо =)</font>\n"
   ]
  },
  {
   "cell_type": "markdown",
   "metadata": {},
   "source": [
    "<font color='blue'><b>Комментарий ревьюера 2: </b></font> ✔️\\\n",
    "<font color='green'> Супер! Выборки разного размера, нужна нормализация по плотности 👍</font>"
   ]
  },
  {
   "cell_type": "markdown",
   "metadata": {},
   "source": [
    "<font color='blue'><b>Комментарий ревьюера: </b></font> ❌\\\n",
    "<font color='red'>2.3. Исследуйте суммарную концентрацию всех веществ на разных стадиях: в сырье, в черновом и финальном концентратах.</font>\n",
    "\n",
    "<font color='blue'><b>Комментарий студента: </b></font> \\\n",
    "<font color='purple'>\n",
    "В пункте 3.1 было рассчитано следующее:\n",
    "    \n",
    "Суммарная концентрация веществ, сгруппированная по этапам производства:\n",
    "    \n",
    "rougher_input             58.101510\n",
    "    \n",
    "rougher_output            68.805821\n",
    "    \n",
    "primary_cleaner_output    61.372275\n",
    "    \n",
    "final_output              69.367841\n",
    "    \n",
    "Вероятно, нужно было выделить это в отдельный пункт. Исправлюсь, ниже см. график!\n",
    "\n",
    "</font>\n",
    "\n",
    "#### Распределение концентрации веществ по этапам производства"
   ]
  },
  {
   "cell_type": "markdown",
   "metadata": {},
   "source": [
    "<font color='blue'><b>Комментарий ревьюера 2: </b></font> ❌\\\n",
    "<font color='red'><s> Здесь предпологается посчитать суммарные концентрации всех веществ по стадиям (au + ag +pb + sol) и исследовать их распределения (вывести гистограммы), для контроля выбросов.</s></font>\n",
    "\n",
    "<font color='purpe'><b>Комментарий cтудента 2: </b></font> \\\n",
    "<font color='purple'>  извиняюсь. исправлено ниже =) выбросы удалены. см пункты 3.2.1 - 3.2.2</font>"
   ]
  },
  {
   "cell_type": "code",
   "execution_count": 19,
   "metadata": {
    "scrolled": false
   },
   "outputs": [
    {
     "name": "stdout",
     "output_type": "stream",
     "text": [
      "\n",
      "\n",
      "\n",
      "Суммарная концентрация веществ, сгруппированная по этапам производства:\n"
     ]
    },
    {
     "data": {
      "text/plain": [
       "rougher_input             57.320789\n",
       "rougher_output            68.170865\n",
       "primary_cleaner_output    60.764731\n",
       "final_output              68.653624\n",
       "dtype: float64"
      ]
     },
     "metadata": {},
     "output_type": "display_data"
    },
    {
     "data": {
      "image/png": "[encoded data removed]",
      "text/plain": [
       "<Figure size 1008x432 with 1 Axes>"
      ]
     },
     "metadata": {
      "needs_background": "light"
     },
     "output_type": "display_data"
    }
   ],
   "source": [
    "print('\\n\\n\\nСуммарная концентрация веществ, сгруппированная по этапам производства:')\n",
    "display(concentration_df.sum(axis=1))\n",
    "\n",
    "\n",
    "concentration_df.sum(axis=1).plot(kind='bar', ylim=[40,80], ylabel='концентрация', figsize=[14,6]);"
   ]
  },
  {
   "cell_type": "code",
   "execution_count": 20,
   "metadata": {},
   "outputs": [],
   "source": [
    "# функция, позволяющая собрать в список концентрации всех веществ по стадиям процесса\n",
    "def concentration_list(df):\n",
    "    list_rougher_input = []\n",
    "    list_rougher_output = []\n",
    "    list_primary_cleaner_output = []\n",
    "    list_final_output = []\n",
    "    for column in df.columns:\n",
    "        if 'au' in column or 'pb' in column or 'ag' in column or 'sol' in column:\n",
    "            if 'rougher.input.feed_' in column:\n",
    "                list_rougher_input.append(column) # ищем стадию, затем\n",
    "            # добавляем колонку в список соответствующий стадии\n",
    "            if 'rougher.output.concentrate' in column:\n",
    "                list_rougher_output.append(column)\n",
    "\n",
    "            if 'primary_cleaner.output.concentrate' in column:\n",
    "                list_primary_cleaner_output.append(column)\n",
    "\n",
    "            if 'final.output.concentrate' in column:\n",
    "                list_final_output.append(column)\n",
    "\n",
    "    return list_rougher_input, list_rougher_output, list_primary_cleaner_output, list_final_output"
   ]
  },
  {
   "cell_type": "code",
   "execution_count": 21,
   "metadata": {
    "scrolled": true
   },
   "outputs": [
    {
     "data": {
      "image/png": "[encoded data removed]",
      "text/plain": [
       "<Figure size 1152x504 with 4 Axes>"
      ]
     },
     "metadata": {
      "needs_background": "light"
     },
     "output_type": "display_data"
    }
   ],
   "source": [
    "list_rougher_input, list_rougher_output, list_primary_cleaner_output, list_final_output = concentration_list(df_train)\n",
    "# получаем списки\n",
    "\n",
    "conc_df = pd.DataFrame(data = {'rougher_input': df_train[list_rougher_input].sum(axis=1), # каждая колонка датасета\n",
    "                               'rougher_output': df_train[list_rougher_output].sum(axis=1), # будет содержать сумму концентраций\n",
    "                               'primary_cleaner_output': df_train[list_primary_cleaner_output].sum(axis=1),\n",
    "                               'final_output': df_train[list_final_output].sum(axis=1)})\n",
    "                               \n",
    "conc_df.hist(bins=100, figsize=[16,7]);\n",
    "\n",
    "plt.show()"
   ]
  },
  {
   "cell_type": "markdown",
   "metadata": {},
   "source": [
    "На всех стадиях были замечены нулевые значения. Соберем их в таблицу с целью разобраться, с чем они могут быть связаны."
   ]
  },
  {
   "cell_type": "code",
   "execution_count": 22,
   "metadata": {
    "scrolled": false
   },
   "outputs": [
    {
     "data": {
      "text/html": [
       "<div>\n",
       "<style scoped>\n",
       "    .dataframe tbody tr th:only-of-type {\n",
       "        vertical-align: middle;\n",
       "    }\n",
       "\n",
       "    .dataframe tbody tr th {\n",
       "        vertical-align: top;\n",
       "    }\n",
       "\n",
       "    .dataframe thead th {\n",
       "        text-align: right;\n",
       "    }\n",
       "</style>\n",
       "<table border=\"1\" class=\"dataframe\">\n",
       "  <thead>\n",
       "    <tr style=\"text-align: right;\">\n",
       "      <th></th>\n",
       "      <th>rougher_input</th>\n",
       "      <th>rougher_output</th>\n",
       "      <th>primary_cleaner_output</th>\n",
       "      <th>final_output</th>\n",
       "    </tr>\n",
       "    <tr>\n",
       "      <th>date</th>\n",
       "      <th></th>\n",
       "      <th></th>\n",
       "      <th></th>\n",
       "      <th></th>\n",
       "    </tr>\n",
       "  </thead>\n",
       "  <tbody>\n",
       "    <tr>\n",
       "      <th>2016-01-15 19:00:00</th>\n",
       "      <td>56.005644</td>\n",
       "      <td>62.930764</td>\n",
       "      <td>0.000000</td>\n",
       "      <td>64.546766</td>\n",
       "    </tr>\n",
       "    <tr>\n",
       "      <th>2016-01-15 22:00:00</th>\n",
       "      <td>56.038252</td>\n",
       "      <td>62.225893</td>\n",
       "      <td>0.000000</td>\n",
       "      <td>64.554911</td>\n",
       "    </tr>\n",
       "    <tr>\n",
       "      <th>2016-01-16 06:00:00</th>\n",
       "      <td>57.764677</td>\n",
       "      <td>62.283147</td>\n",
       "      <td>0.000000</td>\n",
       "      <td>63.765751</td>\n",
       "    </tr>\n",
       "    <tr>\n",
       "      <th>2016-01-16 21:00:00</th>\n",
       "      <td>58.602038</td>\n",
       "      <td>0.000000</td>\n",
       "      <td>74.992510</td>\n",
       "      <td>66.175996</td>\n",
       "    </tr>\n",
       "    <tr>\n",
       "      <th>2016-01-16 22:00:00</th>\n",
       "      <td>59.921613</td>\n",
       "      <td>0.000000</td>\n",
       "      <td>75.187102</td>\n",
       "      <td>66.794250</td>\n",
       "    </tr>\n",
       "    <tr>\n",
       "      <th>...</th>\n",
       "      <td>...</td>\n",
       "      <td>...</td>\n",
       "      <td>...</td>\n",
       "      <td>...</td>\n",
       "    </tr>\n",
       "    <tr>\n",
       "      <th>2018-02-11 23:59:59</th>\n",
       "      <td>58.106496</td>\n",
       "      <td>0.000000</td>\n",
       "      <td>68.284696</td>\n",
       "      <td>70.703344</td>\n",
       "    </tr>\n",
       "    <tr>\n",
       "      <th>2018-02-12 00:59:59</th>\n",
       "      <td>59.500740</td>\n",
       "      <td>0.000000</td>\n",
       "      <td>68.539751</td>\n",
       "      <td>70.814703</td>\n",
       "    </tr>\n",
       "    <tr>\n",
       "      <th>2018-02-12 01:59:59</th>\n",
       "      <td>60.129638</td>\n",
       "      <td>0.000000</td>\n",
       "      <td>69.365785</td>\n",
       "      <td>71.329178</td>\n",
       "    </tr>\n",
       "    <tr>\n",
       "      <th>2018-02-12 02:59:59</th>\n",
       "      <td>59.267147</td>\n",
       "      <td>0.000000</td>\n",
       "      <td>69.325494</td>\n",
       "      <td>71.195925</td>\n",
       "    </tr>\n",
       "    <tr>\n",
       "      <th>2018-02-12 03:59:59</th>\n",
       "      <td>59.490974</td>\n",
       "      <td>0.000000</td>\n",
       "      <td>69.281619</td>\n",
       "      <td>71.148257</td>\n",
       "    </tr>\n",
       "  </tbody>\n",
       "</table>\n",
       "<p>424 rows × 4 columns</p>\n",
       "</div>"
      ],
      "text/plain": [
       "                     rougher_input  rougher_output  primary_cleaner_output  \\\n",
       "date                                                                         \n",
       "2016-01-15 19:00:00      56.005644       62.930764                0.000000   \n",
       "2016-01-15 22:00:00      56.038252       62.225893                0.000000   \n",
       "2016-01-16 06:00:00      57.764677       62.283147                0.000000   \n",
       "2016-01-16 21:00:00      58.602038        0.000000               74.992510   \n",
       "2016-01-16 22:00:00      59.921613        0.000000               75.187102   \n",
       "...                            ...             ...                     ...   \n",
       "2018-02-11 23:59:59      58.106496        0.000000               68.284696   \n",
       "2018-02-12 00:59:59      59.500740        0.000000               68.539751   \n",
       "2018-02-12 01:59:59      60.129638        0.000000               69.365785   \n",
       "2018-02-12 02:59:59      59.267147        0.000000               69.325494   \n",
       "2018-02-12 03:59:59      59.490974        0.000000               69.281619   \n",
       "\n",
       "                     final_output  \n",
       "date                               \n",
       "2016-01-15 19:00:00     64.546766  \n",
       "2016-01-15 22:00:00     64.554911  \n",
       "2016-01-16 06:00:00     63.765751  \n",
       "2016-01-16 21:00:00     66.175996  \n",
       "2016-01-16 22:00:00     66.794250  \n",
       "...                           ...  \n",
       "2018-02-11 23:59:59     70.703344  \n",
       "2018-02-12 00:59:59     70.814703  \n",
       "2018-02-12 01:59:59     71.329178  \n",
       "2018-02-12 02:59:59     71.195925  \n",
       "2018-02-12 03:59:59     71.148257  \n",
       "\n",
       "[424 rows x 4 columns]"
      ]
     },
     "metadata": {},
     "output_type": "display_data"
    }
   ],
   "source": [
    "df_zeros = conc_df.loc[(conc_df.loc[:, 'rougher_input']==0) | # с помощью атрибута .loc соберем строки, где присутствует 0.\n",
    "            (conc_df.loc[:, 'rougher_output']==0) |\n",
    "            (conc_df.loc[:, 'primary_cleaner_output']==0)|\n",
    "            (conc_df.loc[:, 'final_output']==0)]\n",
    "\n",
    "display(df_zeros)\n",
    "index_to_drop = list(df_zeros.index)"
   ]
  },
  {
   "cell_type": "markdown",
   "metadata": {},
   "source": [
    "Итак, при осмотре гистограмм и дальнейшей проверке выявлено, что в 424 строках тренировочного датасета присутствуют нулевые значения концентрации веществ - при этом нули в одном столбце не имеют логической связи с содержанием прочих столбцов. Эти данные, вероятно, являются ошибочными и связаны с дефектом измерения либо дефектом выгрузки, потому могут быть признаны выбросами и удалены.  \n",
    "\n",
    "#### Удаление выбросов в данных"
   ]
  },
  {
   "cell_type": "code",
   "execution_count": 23,
   "metadata": {},
   "outputs": [
    {
     "name": "stdout",
     "output_type": "stream",
     "text": [
      "424\n",
      "Осталось ошибочных нулевых значений 0\n"
     ]
    }
   ],
   "source": [
    "print(df_train.index.isin(index_to_drop).sum())\n",
    "df_train.drop(index_to_drop, axis=0, inplace=True)\n",
    "print('Осталось ошибочных нулевых значений', df_train.index.isin(index_to_drop).sum())"
   ]
  },
  {
   "cell_type": "markdown",
   "metadata": {},
   "source": [
    "<font color='blue'><b>Комментарий ревьюера 3: </b></font> ✔️\\\n",
    "<font color='green'> Выбросы удалены.</font>"
   ]
  },
  {
   "cell_type": "markdown",
   "metadata": {},
   "source": [
    "Таким образом, были удалены выбросы в данных.\n",
    "\n",
    "\n",
    "## Модель\n",
    "### Объявление функций\n",
    "#### Функция для вычисления sMAPE\n",
    "\n",
    "Данную метрику можно рассчитать по формуле:\n",
    "sMAPE = abs(target - prediction) / (abs(target) + abs(prediction) / 2).sum() / len(target)*100%\n",
    "\n",
    "Объявим функцию, которая будет ее рассчитывать на основании массивов target и prediction."
   ]
  },
  {
   "cell_type": "code",
   "execution_count": 24,
   "metadata": {
    "scrolled": true
   },
   "outputs": [],
   "source": [
    "def smape(target, predictions):\n",
    "\n",
    "    series = pd.Series(abs(target - predictions))/(abs(target) + abs(predictions)/2)\n",
    "\n",
    "    return series.sum()/len(target)*100"
   ]
  },
  {
   "cell_type": "markdown",
   "metadata": {},
   "source": [
    "<font color='blue'><b>Комментарий ревьюера: </b></font> ❌\\\n",
    "<font color='red'> Ошибка в расчёте smape. На 2 нужно разделить только знаменатель.</font>\n",
    "\n",
    "\n",
    "<font color='purple'><b>Комментарий студента: </b></font> \\\n",
    "<font color='purple'> Спасибо, исправил! Вокруг знаменателя и двойки добавил скобки.</font>"
   ]
  },
  {
   "cell_type": "markdown",
   "metadata": {},
   "source": [
    "<font color='blue'><b>Комментарий ревьюера 2: </b></font> ✔️\\\n",
    "<font color='green'> `smape` расчитана верно.</font>"
   ]
  },
  {
   "cell_type": "markdown",
   "metadata": {},
   "source": [
    "#### Функция для вычисления итоговой sMAPE\n",
    "\n",
    "Данный показатель рассчитывается по формуле: 0.25 * smape_1 + 0.75 * smape_2"
   ]
  },
  {
   "cell_type": "code",
   "execution_count": 25,
   "metadata": {},
   "outputs": [],
   "source": [
    "def total_smape(target_1, predictions_1, target_2, predictions_2):\n",
    "    final_smape = (0.25 * smape(target_1, predictions_1)) + (0.75 * smape(target_2, predictions_2))\n",
    "    return final_smape"
   ]
  },
  {
   "cell_type": "markdown",
   "metadata": {},
   "source": [
    "<font color='blue'><b>Комментарий ревьюера: </b></font> ✔️\\\n",
    "<font color='green'> `total_smape` расчитана верно.</font>"
   ]
  },
  {
   "cell_type": "markdown",
   "metadata": {},
   "source": [
    "#### Объявление smape_scorer\n",
    "\n",
    "Данный объект необходим для кросс-валидации моделей на основе метрики sMAPE. "
   ]
  },
  {
   "cell_type": "code",
   "execution_count": 26,
   "metadata": {},
   "outputs": [],
   "source": [
    "smape_scorer = make_scorer(score_func=smape)"
   ]
  },
  {
   "cell_type": "markdown",
   "metadata": {},
   "source": [
    "#### Функция обучения и кросс-валидации DecisionTreeRegressor"
   ]
  },
  {
   "cell_type": "code",
   "execution_count": 27,
   "metadata": {},
   "outputs": [],
   "source": [
    "def fit_tree(features, target, tree_min_depth=1, tree_max_depth=20, valid=5): # в аргументы включены значения гиперпараметров\n",
    "                                                                              # для перебора, число этапов кросс-валидации,\n",
    "    best_model = None # здесь будет сохранена наиболее удачная модель\n",
    "    best_depth = 0 \n",
    "    best_smape = 100\n",
    "\n",
    "    depths = [] # список глубин для визуализации\n",
    "    smape_scores = [] # список значений smape для визуализации\n",
    "\n",
    "\n",
    "    for depth in range(tree_min_depth, tree_max_depth):\n",
    "        model = DecisionTreeRegressor(max_depth=depth, random_state=13)\n",
    "        stage_smape = pd.Series(cross_val_score(model, features, target, scoring=smape_scorer, cv=valid)).mean()\n",
    "        \n",
    "\n",
    "        depths.append(depth)  # пополнение списков\n",
    "        smape_scores.append(stage_smape)\n",
    "\n",
    "        if stage_smape < best_smape:  # сохранение оптимальных значений\n",
    "            best_model = model\n",
    "            best_depth = depth\n",
    "            best_smape = stage_smape\n",
    "    \n",
    "\n",
    "    pd.Series(index=depths, data=smape_scores).plot(figsize=[15,6],  # визуализация\n",
    "                                                 title='Зависимость sMAPE от глубины дерева',\n",
    "                                                xlabel='глубина')\n",
    "    plt.show()\n",
    "    print('Оптимальная глубина:', best_depth)\n",
    "    print('Наименьшее среднее значение sMAPE:', best_smape)\n",
    "    return best_model"
   ]
  },
  {
   "cell_type": "markdown",
   "metadata": {},
   "source": [
    "<font color='blue'><b>Комментарий ревьюера: </b></font> ❌\\\n",
    "<font color='red'><s> Оценивать модель кроссвалидацией нужно на основе нашей метрики, то есть smape. Для этого из нее нужно сделать scorer с помощью функции make_scorer. Результат нужно передать в параметр scoring функции основанной на кросс-валидации. НО для этого функция smape должна принимать только два аргумента(y_true, y_pred) и возвращать одно число. </s></font>\n",
    "\n",
    "\n",
    "<font color='purple'><b>Комментарий студента: </b></font> \\\n",
    "    <font color='purple'> В пункте 4.1.3 добавил scorer с этой целью, спасибо </font>"
   ]
  },
  {
   "cell_type": "markdown",
   "metadata": {},
   "source": [
    "<font color='blue'><b>Комментарий ревьюера 2: </b></font> ✔️\\\n",
    "<font color='green'>Подбор гиперпараметров проведён верно. Использована целевая метрика, направление отбора верное ).</font>"
   ]
  },
  {
   "cell_type": "markdown",
   "metadata": {},
   "source": [
    "#### Функция обучения и кросс-валидации RandomForestRegressor()"
   ]
  },
  {
   "cell_type": "code",
   "execution_count": 28,
   "metadata": {},
   "outputs": [],
   "source": [
    "def fit_forest(features, target,\n",
    "               min_depth=1, max_depth=20,\n",
    "               min_estimators=10, max_estimators=60,\n",
    "               step=10, valid=5):\n",
    "\n",
    "    best_model = None\n",
    "    best_depth = 0\n",
    "    best_smape = 100\n",
    "\n",
    "    depths = []\n",
    "    smape_scores = []\n",
    "\n",
    "\n",
    "    for depth in range(min_depth, max_depth):  # в этом цикле - перебор глубины леса\n",
    "        model = RandomForestRegressor(max_depth=depth, n_estimators=20, random_state=13)\n",
    "        stage_smape = pd.Series(cross_val_score(model, features, target, scoring=smape_scorer, cv=valid)).mean()\n",
    "\n",
    "        depths.append(depth)\n",
    "        smape_scores.append(stage_smape)\n",
    "    \n",
    "        if stage_smape < best_smape:\n",
    "            \n",
    "            best_depth = depth\n",
    "            best_smape = stage_smape\n",
    "            best_model = model\n",
    "    \n",
    "    pd.Series(index=depths, data=smape_scores).plot(figsize=[15,6],\n",
    "                                                 title='Зависимость sMAPE от глубины леса',\n",
    "                                                xlabel='глубина')\n",
    "    plt.show()\n",
    "    \n",
    "    \n",
    "    smape_scores = []\n",
    "    estimators_list = []\n",
    "    best_estimators = 20\n",
    "    \n",
    "    for estimators in range(min_estimators, max_estimators, step): # в этом цикле - перебор количества оценщиков\n",
    "        model = RandomForestRegressor(max_depth=best_depth, n_estimators=estimators, random_state=13)\n",
    "        stage_smape = pd.Series(cross_val_score(model, features, target, scoring=smape_scorer, cv=valid)).mean()\n",
    "\n",
    "        estimators_list.append(estimators)\n",
    "        smape_scores.append(stage_smape)\n",
    "    \n",
    "        if stage_smape < best_smape:\n",
    "            \n",
    "            best_estimators = estimators\n",
    "            best_smape = stage_smape\n",
    "            best_model = model\n",
    "    \n",
    "    pd.Series(index=estimators_list, data=smape_scores).plot(figsize=[15,6],\n",
    "                                                 title='Зависимость sMAPE от n_estimators леса',\n",
    "                                                xlabel='количество оценщиков')\n",
    "    plt.show()\n",
    "    \n",
    "    \n",
    "    print('Оптимальная глубина:', best_depth)\n",
    "    print('Оптимальное n_estimators:', best_estimators)\n",
    "    print('Наименьшее среднее значение метрики sMAPE:', best_smape)\n",
    "    return best_model"
   ]
  },
  {
   "cell_type": "markdown",
   "metadata": {},
   "source": [
    "<font color='blue'><b>Комментарий ревьюера 2: </b></font> ✔️\\\n",
    "<font color='green'>👍</font>"
   ]
  },
  {
   "cell_type": "markdown",
   "metadata": {},
   "source": [
    "### Подготовка данных к машинному обучению\n",
    "#### Сокращение объема данных\n",
    "\n",
    "Учитывая, что не все признаки, используемые нами на этапе исследования, можно отнести к features и target, проведем дальнейшее сокращение датасета:"
   ]
  },
  {
   "cell_type": "code",
   "execution_count": 29,
   "metadata": {},
   "outputs": [
    {
     "data": {
      "text/html": [
       "<div>\n",
       "<style scoped>\n",
       "    .dataframe tbody tr th:only-of-type {\n",
       "        vertical-align: middle;\n",
       "    }\n",
       "\n",
       "    .dataframe tbody tr th {\n",
       "        vertical-align: top;\n",
       "    }\n",
       "\n",
       "    .dataframe thead th {\n",
       "        text-align: right;\n",
       "    }\n",
       "</style>\n",
       "<table border=\"1\" class=\"dataframe\">\n",
       "  <thead>\n",
       "    <tr style=\"text-align: right;\">\n",
       "      <th></th>\n",
       "      <th>column</th>\n",
       "      <th>is_in_test</th>\n",
       "    </tr>\n",
       "  </thead>\n",
       "  <tbody>\n",
       "    <tr>\n",
       "      <th>0</th>\n",
       "      <td>date</td>\n",
       "      <td>True</td>\n",
       "    </tr>\n",
       "    <tr>\n",
       "      <th>1</th>\n",
       "      <td>final.output.concentrate_ag</td>\n",
       "      <td>False</td>\n",
       "    </tr>\n",
       "    <tr>\n",
       "      <th>2</th>\n",
       "      <td>final.output.concentrate_pb</td>\n",
       "      <td>False</td>\n",
       "    </tr>\n",
       "    <tr>\n",
       "      <th>3</th>\n",
       "      <td>final.output.concentrate_sol</td>\n",
       "      <td>False</td>\n",
       "    </tr>\n",
       "    <tr>\n",
       "      <th>4</th>\n",
       "      <td>final.output.concentrate_au</td>\n",
       "      <td>False</td>\n",
       "    </tr>\n",
       "    <tr>\n",
       "      <th>5</th>\n",
       "      <td>final.output.recovery</td>\n",
       "      <td>False</td>\n",
       "    </tr>\n",
       "    <tr>\n",
       "      <th>6</th>\n",
       "      <td>final.output.tail_ag</td>\n",
       "      <td>False</td>\n",
       "    </tr>\n",
       "    <tr>\n",
       "      <th>7</th>\n",
       "      <td>final.output.tail_pb</td>\n",
       "      <td>False</td>\n",
       "    </tr>\n",
       "    <tr>\n",
       "      <th>8</th>\n",
       "      <td>final.output.tail_sol</td>\n",
       "      <td>False</td>\n",
       "    </tr>\n",
       "    <tr>\n",
       "      <th>9</th>\n",
       "      <td>final.output.tail_au</td>\n",
       "      <td>False</td>\n",
       "    </tr>\n",
       "    <tr>\n",
       "      <th>10</th>\n",
       "      <td>primary_cleaner.input.sulfate</td>\n",
       "      <td>True</td>\n",
       "    </tr>\n",
       "    <tr>\n",
       "      <th>11</th>\n",
       "      <td>primary_cleaner.input.depressant</td>\n",
       "      <td>True</td>\n",
       "    </tr>\n",
       "    <tr>\n",
       "      <th>12</th>\n",
       "      <td>primary_cleaner.input.feed_size</td>\n",
       "      <td>True</td>\n",
       "    </tr>\n",
       "    <tr>\n",
       "      <th>13</th>\n",
       "      <td>primary_cleaner.input.xanthate</td>\n",
       "      <td>True</td>\n",
       "    </tr>\n",
       "    <tr>\n",
       "      <th>14</th>\n",
       "      <td>primary_cleaner.output.concentrate_ag</td>\n",
       "      <td>False</td>\n",
       "    </tr>\n",
       "    <tr>\n",
       "      <th>15</th>\n",
       "      <td>primary_cleaner.output.concentrate_pb</td>\n",
       "      <td>False</td>\n",
       "    </tr>\n",
       "    <tr>\n",
       "      <th>16</th>\n",
       "      <td>primary_cleaner.output.concentrate_sol</td>\n",
       "      <td>False</td>\n",
       "    </tr>\n",
       "    <tr>\n",
       "      <th>17</th>\n",
       "      <td>primary_cleaner.output.concentrate_au</td>\n",
       "      <td>False</td>\n",
       "    </tr>\n",
       "    <tr>\n",
       "      <th>18</th>\n",
       "      <td>primary_cleaner.output.tail_ag</td>\n",
       "      <td>False</td>\n",
       "    </tr>\n",
       "    <tr>\n",
       "      <th>19</th>\n",
       "      <td>primary_cleaner.output.tail_pb</td>\n",
       "      <td>False</td>\n",
       "    </tr>\n",
       "    <tr>\n",
       "      <th>20</th>\n",
       "      <td>primary_cleaner.output.tail_sol</td>\n",
       "      <td>False</td>\n",
       "    </tr>\n",
       "    <tr>\n",
       "      <th>21</th>\n",
       "      <td>primary_cleaner.output.tail_au</td>\n",
       "      <td>False</td>\n",
       "    </tr>\n",
       "    <tr>\n",
       "      <th>22</th>\n",
       "      <td>primary_cleaner.state.floatbank8_a_air</td>\n",
       "      <td>True</td>\n",
       "    </tr>\n",
       "    <tr>\n",
       "      <th>23</th>\n",
       "      <td>primary_cleaner.state.floatbank8_a_level</td>\n",
       "      <td>True</td>\n",
       "    </tr>\n",
       "    <tr>\n",
       "      <th>24</th>\n",
       "      <td>primary_cleaner.state.floatbank8_b_air</td>\n",
       "      <td>True</td>\n",
       "    </tr>\n",
       "    <tr>\n",
       "      <th>25</th>\n",
       "      <td>primary_cleaner.state.floatbank8_b_level</td>\n",
       "      <td>True</td>\n",
       "    </tr>\n",
       "    <tr>\n",
       "      <th>26</th>\n",
       "      <td>primary_cleaner.state.floatbank8_c_air</td>\n",
       "      <td>True</td>\n",
       "    </tr>\n",
       "    <tr>\n",
       "      <th>27</th>\n",
       "      <td>primary_cleaner.state.floatbank8_c_level</td>\n",
       "      <td>True</td>\n",
       "    </tr>\n",
       "    <tr>\n",
       "      <th>28</th>\n",
       "      <td>primary_cleaner.state.floatbank8_d_air</td>\n",
       "      <td>True</td>\n",
       "    </tr>\n",
       "    <tr>\n",
       "      <th>29</th>\n",
       "      <td>primary_cleaner.state.floatbank8_d_level</td>\n",
       "      <td>True</td>\n",
       "    </tr>\n",
       "    <tr>\n",
       "      <th>30</th>\n",
       "      <td>rougher.calculation.sulfate_to_au_concentrate</td>\n",
       "      <td>False</td>\n",
       "    </tr>\n",
       "    <tr>\n",
       "      <th>31</th>\n",
       "      <td>rougher.calculation.floatbank10_sulfate_to_au_...</td>\n",
       "      <td>False</td>\n",
       "    </tr>\n",
       "    <tr>\n",
       "      <th>32</th>\n",
       "      <td>rougher.calculation.floatbank11_sulfate_to_au_...</td>\n",
       "      <td>False</td>\n",
       "    </tr>\n",
       "    <tr>\n",
       "      <th>33</th>\n",
       "      <td>rougher.calculation.au_pb_ratio</td>\n",
       "      <td>False</td>\n",
       "    </tr>\n",
       "    <tr>\n",
       "      <th>34</th>\n",
       "      <td>rougher.input.feed_ag</td>\n",
       "      <td>True</td>\n",
       "    </tr>\n",
       "    <tr>\n",
       "      <th>35</th>\n",
       "      <td>rougher.input.feed_pb</td>\n",
       "      <td>True</td>\n",
       "    </tr>\n",
       "    <tr>\n",
       "      <th>36</th>\n",
       "      <td>rougher.input.feed_rate</td>\n",
       "      <td>True</td>\n",
       "    </tr>\n",
       "    <tr>\n",
       "      <th>37</th>\n",
       "      <td>rougher.input.feed_size</td>\n",
       "      <td>True</td>\n",
       "    </tr>\n",
       "    <tr>\n",
       "      <th>38</th>\n",
       "      <td>rougher.input.feed_sol</td>\n",
       "      <td>True</td>\n",
       "    </tr>\n",
       "    <tr>\n",
       "      <th>39</th>\n",
       "      <td>rougher.input.feed_au</td>\n",
       "      <td>True</td>\n",
       "    </tr>\n",
       "    <tr>\n",
       "      <th>40</th>\n",
       "      <td>rougher.input.floatbank10_sulfate</td>\n",
       "      <td>True</td>\n",
       "    </tr>\n",
       "    <tr>\n",
       "      <th>41</th>\n",
       "      <td>rougher.input.floatbank10_xanthate</td>\n",
       "      <td>True</td>\n",
       "    </tr>\n",
       "    <tr>\n",
       "      <th>42</th>\n",
       "      <td>rougher.input.floatbank11_sulfate</td>\n",
       "      <td>True</td>\n",
       "    </tr>\n",
       "    <tr>\n",
       "      <th>43</th>\n",
       "      <td>rougher.input.floatbank11_xanthate</td>\n",
       "      <td>True</td>\n",
       "    </tr>\n",
       "    <tr>\n",
       "      <th>44</th>\n",
       "      <td>rougher.output.concentrate_ag</td>\n",
       "      <td>False</td>\n",
       "    </tr>\n",
       "    <tr>\n",
       "      <th>45</th>\n",
       "      <td>rougher.output.concentrate_pb</td>\n",
       "      <td>False</td>\n",
       "    </tr>\n",
       "    <tr>\n",
       "      <th>46</th>\n",
       "      <td>rougher.output.concentrate_sol</td>\n",
       "      <td>False</td>\n",
       "    </tr>\n",
       "    <tr>\n",
       "      <th>47</th>\n",
       "      <td>rougher.output.concentrate_au</td>\n",
       "      <td>False</td>\n",
       "    </tr>\n",
       "    <tr>\n",
       "      <th>48</th>\n",
       "      <td>rougher.output.recovery</td>\n",
       "      <td>False</td>\n",
       "    </tr>\n",
       "    <tr>\n",
       "      <th>49</th>\n",
       "      <td>rougher.output.tail_ag</td>\n",
       "      <td>False</td>\n",
       "    </tr>\n",
       "    <tr>\n",
       "      <th>50</th>\n",
       "      <td>rougher.output.tail_pb</td>\n",
       "      <td>False</td>\n",
       "    </tr>\n",
       "    <tr>\n",
       "      <th>51</th>\n",
       "      <td>rougher.output.tail_sol</td>\n",
       "      <td>False</td>\n",
       "    </tr>\n",
       "    <tr>\n",
       "      <th>52</th>\n",
       "      <td>rougher.output.tail_au</td>\n",
       "      <td>False</td>\n",
       "    </tr>\n",
       "    <tr>\n",
       "      <th>53</th>\n",
       "      <td>rougher.state.floatbank10_a_air</td>\n",
       "      <td>True</td>\n",
       "    </tr>\n",
       "    <tr>\n",
       "      <th>54</th>\n",
       "      <td>rougher.state.floatbank10_a_level</td>\n",
       "      <td>True</td>\n",
       "    </tr>\n",
       "    <tr>\n",
       "      <th>55</th>\n",
       "      <td>rougher.state.floatbank10_b_air</td>\n",
       "      <td>True</td>\n",
       "    </tr>\n",
       "    <tr>\n",
       "      <th>56</th>\n",
       "      <td>rougher.state.floatbank10_b_level</td>\n",
       "      <td>True</td>\n",
       "    </tr>\n",
       "    <tr>\n",
       "      <th>57</th>\n",
       "      <td>rougher.state.floatbank10_c_air</td>\n",
       "      <td>True</td>\n",
       "    </tr>\n",
       "    <tr>\n",
       "      <th>58</th>\n",
       "      <td>rougher.state.floatbank10_c_level</td>\n",
       "      <td>True</td>\n",
       "    </tr>\n",
       "    <tr>\n",
       "      <th>59</th>\n",
       "      <td>rougher.state.floatbank10_d_air</td>\n",
       "      <td>True</td>\n",
       "    </tr>\n",
       "    <tr>\n",
       "      <th>60</th>\n",
       "      <td>rougher.state.floatbank10_d_level</td>\n",
       "      <td>True</td>\n",
       "    </tr>\n",
       "    <tr>\n",
       "      <th>61</th>\n",
       "      <td>rougher.state.floatbank10_e_air</td>\n",
       "      <td>True</td>\n",
       "    </tr>\n",
       "    <tr>\n",
       "      <th>62</th>\n",
       "      <td>rougher.state.floatbank10_e_level</td>\n",
       "      <td>True</td>\n",
       "    </tr>\n",
       "    <tr>\n",
       "      <th>63</th>\n",
       "      <td>rougher.state.floatbank10_f_air</td>\n",
       "      <td>True</td>\n",
       "    </tr>\n",
       "    <tr>\n",
       "      <th>64</th>\n",
       "      <td>rougher.state.floatbank10_f_level</td>\n",
       "      <td>True</td>\n",
       "    </tr>\n",
       "    <tr>\n",
       "      <th>65</th>\n",
       "      <td>secondary_cleaner.output.tail_ag</td>\n",
       "      <td>False</td>\n",
       "    </tr>\n",
       "    <tr>\n",
       "      <th>66</th>\n",
       "      <td>secondary_cleaner.output.tail_pb</td>\n",
       "      <td>False</td>\n",
       "    </tr>\n",
       "    <tr>\n",
       "      <th>67</th>\n",
       "      <td>secondary_cleaner.output.tail_sol</td>\n",
       "      <td>False</td>\n",
       "    </tr>\n",
       "    <tr>\n",
       "      <th>68</th>\n",
       "      <td>secondary_cleaner.output.tail_au</td>\n",
       "      <td>False</td>\n",
       "    </tr>\n",
       "    <tr>\n",
       "      <th>69</th>\n",
       "      <td>secondary_cleaner.state.floatbank2_a_air</td>\n",
       "      <td>True</td>\n",
       "    </tr>\n",
       "    <tr>\n",
       "      <th>70</th>\n",
       "      <td>secondary_cleaner.state.floatbank2_a_level</td>\n",
       "      <td>True</td>\n",
       "    </tr>\n",
       "    <tr>\n",
       "      <th>71</th>\n",
       "      <td>secondary_cleaner.state.floatbank2_b_air</td>\n",
       "      <td>True</td>\n",
       "    </tr>\n",
       "    <tr>\n",
       "      <th>72</th>\n",
       "      <td>secondary_cleaner.state.floatbank2_b_level</td>\n",
       "      <td>True</td>\n",
       "    </tr>\n",
       "    <tr>\n",
       "      <th>73</th>\n",
       "      <td>secondary_cleaner.state.floatbank3_a_air</td>\n",
       "      <td>True</td>\n",
       "    </tr>\n",
       "    <tr>\n",
       "      <th>74</th>\n",
       "      <td>secondary_cleaner.state.floatbank3_a_level</td>\n",
       "      <td>True</td>\n",
       "    </tr>\n",
       "    <tr>\n",
       "      <th>75</th>\n",
       "      <td>secondary_cleaner.state.floatbank3_b_air</td>\n",
       "      <td>True</td>\n",
       "    </tr>\n",
       "    <tr>\n",
       "      <th>76</th>\n",
       "      <td>secondary_cleaner.state.floatbank3_b_level</td>\n",
       "      <td>True</td>\n",
       "    </tr>\n",
       "    <tr>\n",
       "      <th>77</th>\n",
       "      <td>secondary_cleaner.state.floatbank4_a_air</td>\n",
       "      <td>True</td>\n",
       "    </tr>\n",
       "    <tr>\n",
       "      <th>78</th>\n",
       "      <td>secondary_cleaner.state.floatbank4_a_level</td>\n",
       "      <td>True</td>\n",
       "    </tr>\n",
       "    <tr>\n",
       "      <th>79</th>\n",
       "      <td>secondary_cleaner.state.floatbank4_b_air</td>\n",
       "      <td>True</td>\n",
       "    </tr>\n",
       "    <tr>\n",
       "      <th>80</th>\n",
       "      <td>secondary_cleaner.state.floatbank4_b_level</td>\n",
       "      <td>True</td>\n",
       "    </tr>\n",
       "    <tr>\n",
       "      <th>81</th>\n",
       "      <td>secondary_cleaner.state.floatbank5_a_air</td>\n",
       "      <td>True</td>\n",
       "    </tr>\n",
       "    <tr>\n",
       "      <th>82</th>\n",
       "      <td>secondary_cleaner.state.floatbank5_a_level</td>\n",
       "      <td>True</td>\n",
       "    </tr>\n",
       "    <tr>\n",
       "      <th>83</th>\n",
       "      <td>secondary_cleaner.state.floatbank5_b_air</td>\n",
       "      <td>True</td>\n",
       "    </tr>\n",
       "    <tr>\n",
       "      <th>84</th>\n",
       "      <td>secondary_cleaner.state.floatbank5_b_level</td>\n",
       "      <td>True</td>\n",
       "    </tr>\n",
       "    <tr>\n",
       "      <th>85</th>\n",
       "      <td>secondary_cleaner.state.floatbank6_a_air</td>\n",
       "      <td>True</td>\n",
       "    </tr>\n",
       "    <tr>\n",
       "      <th>86</th>\n",
       "      <td>secondary_cleaner.state.floatbank6_a_level</td>\n",
       "      <td>True</td>\n",
       "    </tr>\n",
       "  </tbody>\n",
       "</table>\n",
       "</div>"
      ],
      "text/plain": [
       "                                               column  is_in_test\n",
       "0                                                date        True\n",
       "1                         final.output.concentrate_ag       False\n",
       "2                         final.output.concentrate_pb       False\n",
       "3                        final.output.concentrate_sol       False\n",
       "4                         final.output.concentrate_au       False\n",
       "5                               final.output.recovery       False\n",
       "6                                final.output.tail_ag       False\n",
       "7                                final.output.tail_pb       False\n",
       "8                               final.output.tail_sol       False\n",
       "9                                final.output.tail_au       False\n",
       "10                      primary_cleaner.input.sulfate        True\n",
       "11                   primary_cleaner.input.depressant        True\n",
       "12                    primary_cleaner.input.feed_size        True\n",
       "13                     primary_cleaner.input.xanthate        True\n",
       "14              primary_cleaner.output.concentrate_ag       False\n",
       "15              primary_cleaner.output.concentrate_pb       False\n",
       "16             primary_cleaner.output.concentrate_sol       False\n",
       "17              primary_cleaner.output.concentrate_au       False\n",
       "18                     primary_cleaner.output.tail_ag       False\n",
       "19                     primary_cleaner.output.tail_pb       False\n",
       "20                    primary_cleaner.output.tail_sol       False\n",
       "21                     primary_cleaner.output.tail_au       False\n",
       "22             primary_cleaner.state.floatbank8_a_air        True\n",
       "23           primary_cleaner.state.floatbank8_a_level        True\n",
       "24             primary_cleaner.state.floatbank8_b_air        True\n",
       "25           primary_cleaner.state.floatbank8_b_level        True\n",
       "26             primary_cleaner.state.floatbank8_c_air        True\n",
       "27           primary_cleaner.state.floatbank8_c_level        True\n",
       "28             primary_cleaner.state.floatbank8_d_air        True\n",
       "29           primary_cleaner.state.floatbank8_d_level        True\n",
       "30      rougher.calculation.sulfate_to_au_concentrate       False\n",
       "31  rougher.calculation.floatbank10_sulfate_to_au_...       False\n",
       "32  rougher.calculation.floatbank11_sulfate_to_au_...       False\n",
       "33                    rougher.calculation.au_pb_ratio       False\n",
       "34                              rougher.input.feed_ag        True\n",
       "35                              rougher.input.feed_pb        True\n",
       "36                            rougher.input.feed_rate        True\n",
       "37                            rougher.input.feed_size        True\n",
       "38                             rougher.input.feed_sol        True\n",
       "39                              rougher.input.feed_au        True\n",
       "40                  rougher.input.floatbank10_sulfate        True\n",
       "41                 rougher.input.floatbank10_xanthate        True\n",
       "42                  rougher.input.floatbank11_sulfate        True\n",
       "43                 rougher.input.floatbank11_xanthate        True\n",
       "44                      rougher.output.concentrate_ag       False\n",
       "45                      rougher.output.concentrate_pb       False\n",
       "46                     rougher.output.concentrate_sol       False\n",
       "47                      rougher.output.concentrate_au       False\n",
       "48                            rougher.output.recovery       False\n",
       "49                             rougher.output.tail_ag       False\n",
       "50                             rougher.output.tail_pb       False\n",
       "51                            rougher.output.tail_sol       False\n",
       "52                             rougher.output.tail_au       False\n",
       "53                    rougher.state.floatbank10_a_air        True\n",
       "54                  rougher.state.floatbank10_a_level        True\n",
       "55                    rougher.state.floatbank10_b_air        True\n",
       "56                  rougher.state.floatbank10_b_level        True\n",
       "57                    rougher.state.floatbank10_c_air        True\n",
       "58                  rougher.state.floatbank10_c_level        True\n",
       "59                    rougher.state.floatbank10_d_air        True\n",
       "60                  rougher.state.floatbank10_d_level        True\n",
       "61                    rougher.state.floatbank10_e_air        True\n",
       "62                  rougher.state.floatbank10_e_level        True\n",
       "63                    rougher.state.floatbank10_f_air        True\n",
       "64                  rougher.state.floatbank10_f_level        True\n",
       "65                   secondary_cleaner.output.tail_ag       False\n",
       "66                   secondary_cleaner.output.tail_pb       False\n",
       "67                  secondary_cleaner.output.tail_sol       False\n",
       "68                   secondary_cleaner.output.tail_au       False\n",
       "69           secondary_cleaner.state.floatbank2_a_air        True\n",
       "70         secondary_cleaner.state.floatbank2_a_level        True\n",
       "71           secondary_cleaner.state.floatbank2_b_air        True\n",
       "72         secondary_cleaner.state.floatbank2_b_level        True\n",
       "73           secondary_cleaner.state.floatbank3_a_air        True\n",
       "74         secondary_cleaner.state.floatbank3_a_level        True\n",
       "75           secondary_cleaner.state.floatbank3_b_air        True\n",
       "76         secondary_cleaner.state.floatbank3_b_level        True\n",
       "77           secondary_cleaner.state.floatbank4_a_air        True\n",
       "78         secondary_cleaner.state.floatbank4_a_level        True\n",
       "79           secondary_cleaner.state.floatbank4_b_air        True\n",
       "80         secondary_cleaner.state.floatbank4_b_level        True\n",
       "81           secondary_cleaner.state.floatbank5_a_air        True\n",
       "82         secondary_cleaner.state.floatbank5_a_level        True\n",
       "83           secondary_cleaner.state.floatbank5_b_air        True\n",
       "84         secondary_cleaner.state.floatbank5_b_level        True\n",
       "85           secondary_cleaner.state.floatbank6_a_air        True\n",
       "86         secondary_cleaner.state.floatbank6_a_level        True"
      ]
     },
     "metadata": {},
     "output_type": "display_data"
    }
   ],
   "source": [
    "df_columns_compare = pd.DataFrame(data={'column':df_full.columns, 'is_in_test': df_full.columns.isin(df_test.columns)})\n",
    "display(df_columns_compare) # таблица, где напротив названия столбца стоит True или False, в зависимости\n",
    "                            # от наличия данного столбца в тестовой выборке"
   ]
  },
  {
   "cell_type": "markdown",
   "metadata": {},
   "source": [
    "Нам не понадобятся в дальнейшем:\n",
    "- output золя и металлов, включая золото - учитывая, что мы исследуем показатель recovery, он нам и заменит концентрацию золота.\n",
    "- концентрация золота в отвальных хвостах\n",
    "\n",
    "\n",
    "Пора составить новый список столбцов на удаление:"
   ]
  },
  {
   "cell_type": "code",
   "execution_count": 30,
   "metadata": {
    "scrolled": true
   },
   "outputs": [
    {
     "name": "stdout",
     "output_type": "stream",
     "text": [
      "['final.output.concentrate_ag', 'final.output.concentrate_pb', 'final.output.concentrate_sol', 'final.output.concentrate_au', 'final.output.tail_ag', 'final.output.tail_pb', 'final.output.tail_sol', 'final.output.tail_au', 'primary_cleaner.output.concentrate_ag', 'primary_cleaner.output.concentrate_pb', 'primary_cleaner.output.concentrate_sol', 'primary_cleaner.output.concentrate_au', 'primary_cleaner.output.tail_ag', 'primary_cleaner.output.tail_pb', 'primary_cleaner.output.tail_sol', 'primary_cleaner.output.tail_au', 'rougher.output.concentrate_ag', 'rougher.output.concentrate_pb', 'rougher.output.concentrate_sol', 'rougher.output.concentrate_au', 'rougher.output.tail_ag', 'rougher.output.tail_pb', 'rougher.output.tail_sol', 'rougher.output.tail_au', 'secondary_cleaner.output.tail_ag', 'secondary_cleaner.output.tail_pb', 'secondary_cleaner.output.tail_sol', 'secondary_cleaner.output.tail_au']\n"
     ]
    }
   ],
   "source": [
    "# получим необходимый набор колонок для удаления\n",
    "delete_list = []\n",
    "for column in df_train.columns:\n",
    "    if '.output.tail_' in column:\n",
    "        delete_list.append(column)\n",
    "    if 'output.concentrate_' in column:\n",
    "        delete_list.append(column)\n",
    "\n",
    "        \n",
    "print(delete_list)"
   ]
  },
  {
   "cell_type": "code",
   "execution_count": 31,
   "metadata": {
    "scrolled": true
   },
   "outputs": [
    {
     "data": {
      "text/plain": [
       "1                                 final.output.recovery\n",
       "14        rougher.calculation.sulfate_to_au_concentrate\n",
       "15    rougher.calculation.floatbank10_sulfate_to_au_...\n",
       "16    rougher.calculation.floatbank11_sulfate_to_au_...\n",
       "17                      rougher.calculation.au_pb_ratio\n",
       "28                              rougher.output.recovery\n",
       "Name: column, dtype: object"
      ]
     },
     "metadata": {},
     "output_type": "display_data"
    }
   ],
   "source": [
    "# удаляем столбцы\n",
    "\n",
    "for df in [df_train, df_full]:\n",
    "    df.drop(delete_list, axis=1, inplace=True)\n",
    "    \n",
    "# посмотрим на оставшиеся признаки, имеющиеся в тренировочной и отсутствующие в тестовой выборке\n",
    "df_columns_compare = pd.DataFrame(data={'column':df_full.columns, 'is_in_test': df_full.columns.isin(df_test.columns)})\n",
    "display(df_columns_compare.loc[df_columns_compare.loc[:, 'is_in_test']==False]['column'])\n"
   ]
  },
  {
   "cell_type": "markdown",
   "metadata": {},
   "source": [
    "\n",
    "\n",
    "#### Удаление ненужных данных\n",
    "Для задач нашего исследования и получения расчётных показателей нам не потребуется дата. Удалим этот столбец во всех датафреймах.\n",
    "Также можно удалить:\n",
    "- Концентрацию всех веществ в отвальных хвостах (не используется для обучения и расчета recovery)\n",
    "- Расчётные показатели, не используемые для обучения\n",
    "   - calculation.sulfate_to_au_concentrate\n",
    "   - calculation.floatbank10_sulfate_to_au_...\n",
    "   - calculation.floatbank11_sulfate_to_au_...\n",
    "   - calculation.au_pb_ratio\t"
   ]
  },
  {
   "cell_type": "code",
   "execution_count": 32,
   "metadata": {},
   "outputs": [
    {
     "name": "stdout",
     "output_type": "stream",
     "text": [
      "['rougher.calculation.sulfate_to_au_concentrate', 'rougher.calculation.floatbank10_sulfate_to_au_feed', 'rougher.calculation.floatbank11_sulfate_to_au_feed', 'rougher.calculation.au_pb_ratio']\n"
     ]
    }
   ],
   "source": [
    "# получим необходимый набор колонок для удаления\n",
    "delete_list = []\n",
    "for column in df_train.columns:\n",
    "    if '.output.tail_' in column and 'au' not in column:\n",
    "        delete_list.append(column)\n",
    "    if 'calculation.sulfate_to_au' in column or\\\n",
    "    'calculation.floatbank10_sulfate_to_au' in column or\\\n",
    "    'calculation.floatbank11_sulfate_to_au' in column or\\\n",
    "    'calculation.au_pb_ratio' in column:\n",
    "        delete_list.append(column)\n",
    "        \n",
    "print(delete_list)"
   ]
  },
  {
   "cell_type": "code",
   "execution_count": 33,
   "metadata": {},
   "outputs": [
    {
     "name": "stdout",
     "output_type": "stream",
     "text": [
      "54\n",
      "54\n",
      "54\n"
     ]
    },
    {
     "data": {
      "text/plain": [
       "0       final.output.recovery\n",
       "23    rougher.output.recovery\n",
       "Name: column, dtype: object"
      ]
     },
     "metadata": {},
     "output_type": "display_data"
    }
   ],
   "source": [
    "for df in [df_train, df_test, df_full]:\n",
    "    df.drop(['date'], axis=1, inplace=True) # удаление даты из 3х выборок\n",
    "for df in [df_train, df_full]: \n",
    "    df.drop(delete_list, axis=1, inplace=True) # удаление лишних столбцов из 2х выборок\n",
    "print(len(df_train.columns)) # проверим количество оставшихся столбцов\n",
    "print(len(df_test.columns))\n",
    "print(len(df_full.columns))\n",
    "df_columns_compare = pd.DataFrame(data={'column':df_full.columns, 'is_in_test': df_full.columns.isin(df_test.columns)})\n",
    "display(df_columns_compare.loc[df_columns_compare.loc[:, 'is_in_test']==False]['column']) # осмотрим оставшиеся столбцы"
   ]
  },
  {
   "cell_type": "markdown",
   "metadata": {},
   "source": [
    "Остались 2 показателя, которые в наличии в train и отсутствуют в test:\n",
    "- rougher.output.recovery\n",
    "- final.output.recovery\n",
    "\n",
    "Они уже были внесены в test под именами target_rough и target_final.\n",
    "\n",
    "#### Отбор признаков\n",
    "\n",
    "Согласно требованиям заказчика, предсказать надо сразу 2 величины. Одна из них - rougher output recovery - появляется в технологическом процессе раньше final output recovery. Потому, первую будем предсказывать исходя из признаков, доступных на этапе rough process, а вторую - на всех доступных features."
   ]
  },
  {
   "cell_type": "code",
   "execution_count": 34,
   "metadata": {
    "scrolled": true
   },
   "outputs": [
    {
     "name": "stdout",
     "output_type": "stream",
     "text": [
      "0                  rougher.input.feed_ag\n",
      "1                  rougher.input.feed_pb\n",
      "2                rougher.input.feed_rate\n",
      "3                rougher.input.feed_size\n",
      "4                 rougher.input.feed_sol\n",
      "5                  rougher.input.feed_au\n",
      "6      rougher.input.floatbank10_sulfate\n",
      "7     rougher.input.floatbank10_xanthate\n",
      "8      rougher.input.floatbank11_sulfate\n",
      "9     rougher.input.floatbank11_xanthate\n",
      "10       rougher.state.floatbank10_a_air\n",
      "11     rougher.state.floatbank10_a_level\n",
      "12       rougher.state.floatbank10_b_air\n",
      "13     rougher.state.floatbank10_b_level\n",
      "14       rougher.state.floatbank10_c_air\n",
      "15     rougher.state.floatbank10_c_level\n",
      "16       rougher.state.floatbank10_d_air\n",
      "17     rougher.state.floatbank10_d_level\n",
      "18       rougher.state.floatbank10_e_air\n",
      "19     rougher.state.floatbank10_e_level\n",
      "20       rougher.state.floatbank10_f_air\n",
      "21     rougher.state.floatbank10_f_level\n",
      "dtype: object \n",
      "\n",
      "\n",
      "\n",
      "\n",
      "0                  primary_cleaner.input.sulfate\n",
      "1               primary_cleaner.input.depressant\n",
      "2                primary_cleaner.input.feed_size\n",
      "3                 primary_cleaner.input.xanthate\n",
      "4         primary_cleaner.state.floatbank8_a_air\n",
      "5       primary_cleaner.state.floatbank8_a_level\n",
      "6         primary_cleaner.state.floatbank8_b_air\n",
      "7       primary_cleaner.state.floatbank8_b_level\n",
      "8         primary_cleaner.state.floatbank8_c_air\n",
      "9       primary_cleaner.state.floatbank8_c_level\n",
      "10        primary_cleaner.state.floatbank8_d_air\n",
      "11      primary_cleaner.state.floatbank8_d_level\n",
      "12                         rougher.input.feed_ag\n",
      "13                         rougher.input.feed_pb\n",
      "14                       rougher.input.feed_rate\n",
      "15                       rougher.input.feed_size\n",
      "16                        rougher.input.feed_sol\n",
      "17                         rougher.input.feed_au\n",
      "18             rougher.input.floatbank10_sulfate\n",
      "19            rougher.input.floatbank10_xanthate\n",
      "20             rougher.input.floatbank11_sulfate\n",
      "21            rougher.input.floatbank11_xanthate\n",
      "22               rougher.state.floatbank10_a_air\n",
      "23             rougher.state.floatbank10_a_level\n",
      "24               rougher.state.floatbank10_b_air\n",
      "25             rougher.state.floatbank10_b_level\n",
      "26               rougher.state.floatbank10_c_air\n",
      "27             rougher.state.floatbank10_c_level\n",
      "28               rougher.state.floatbank10_d_air\n",
      "29             rougher.state.floatbank10_d_level\n",
      "30               rougher.state.floatbank10_e_air\n",
      "31             rougher.state.floatbank10_e_level\n",
      "32               rougher.state.floatbank10_f_air\n",
      "33             rougher.state.floatbank10_f_level\n",
      "34      secondary_cleaner.state.floatbank2_a_air\n",
      "35    secondary_cleaner.state.floatbank2_a_level\n",
      "36      secondary_cleaner.state.floatbank2_b_air\n",
      "37    secondary_cleaner.state.floatbank2_b_level\n",
      "38      secondary_cleaner.state.floatbank3_a_air\n",
      "39    secondary_cleaner.state.floatbank3_a_level\n",
      "40      secondary_cleaner.state.floatbank3_b_air\n",
      "41    secondary_cleaner.state.floatbank3_b_level\n",
      "42      secondary_cleaner.state.floatbank4_a_air\n",
      "43    secondary_cleaner.state.floatbank4_a_level\n",
      "44      secondary_cleaner.state.floatbank4_b_air\n",
      "45    secondary_cleaner.state.floatbank4_b_level\n",
      "46      secondary_cleaner.state.floatbank5_a_air\n",
      "47    secondary_cleaner.state.floatbank5_a_level\n",
      "48      secondary_cleaner.state.floatbank5_b_air\n",
      "49    secondary_cleaner.state.floatbank5_b_level\n",
      "50      secondary_cleaner.state.floatbank6_a_air\n",
      "51    secondary_cleaner.state.floatbank6_a_level\n",
      "dtype: object\n"
     ]
    }
   ],
   "source": [
    "rougher_features_list = []  # признаки, доступные на этапе rougher\n",
    "for column in df_test.columns:\n",
    "    if 'rougher' in column:\n",
    "        rougher_features_list.append(column)\n",
    "\n",
    "final_features_list = df_test.columns[:52] # признаки, доступные на финальном этапе. Из них не берем targetы.\n",
    "\n",
    "print(pd.Series(rougher_features_list),'\\n\\n\\n\\n')\n",
    "\n",
    "print(pd.Series(final_features_list))"
   ]
  },
  {
   "cell_type": "markdown",
   "metadata": {},
   "source": [
    "<font color='blue'><b>Комментарий ревьюера 2: </b></font> ✔️\\\n",
    "<font color='green'>👍</font>"
   ]
  },
  {
   "cell_type": "markdown",
   "metadata": {},
   "source": [
    "После того, как выбраны признаки для использования в качестве features и target, можно приступить к объявлению переменных.\n",
    "\n",
    "#### Объявление features и target.\n",
    "\n",
    "С учётом того, что нам нужно предсказать 2 целевых признака на основании 2х наборов данных, в обучающей и тестовой выборке будут выделены соответствующие данные:"
   ]
  },
  {
   "cell_type": "code",
   "execution_count": 35,
   "metadata": {},
   "outputs": [
    {
     "name": "stdout",
     "output_type": "stream",
     "text": [
      "(13725, 22)\n",
      "(13725,)\n",
      "(13725, 52)\n",
      "(13725,)\n",
      "(5229, 22)\n",
      "(5229,)\n",
      "(5229, 52)\n",
      "(5229,)\n"
     ]
    }
   ],
   "source": [
    "# features на обучающей выборке для предсказания rougher output recovery\n",
    "rough_features_train = df_train[rougher_features_list]\n",
    "\n",
    "# target на обучающей выборке со значениями rougher output recovery\n",
    "rough_target_train = np.array(df_train['rougher.output.recovery'])\n",
    "\n",
    "# features на обучающей выборке для предсказания final output recovery\n",
    "final_features_train = df_train[final_features_list]\n",
    "\n",
    "# target на обучающей выборке со значениями final output recovery\n",
    "final_target_train = np.array(df_train['final.output.recovery'])\n",
    "\n",
    "\n",
    "# features на тестовой выборке для предсказания rougher output recovery\n",
    "rough_features_test = df_test[rougher_features_list]\n",
    "\n",
    "# target на тестовой выборке со значениями rougher output recovery\n",
    "rough_target_test = np.array(df_test['target_rough'])\n",
    "\n",
    "# features на тестовой выборке для предсказания final output recovery\n",
    "final_features_test = df_test[final_features_list]\n",
    "\n",
    "# target на тестовой выборке со значениями final output recovery\n",
    "final_target_test = np.array(df_test['target_final'])\n",
    "\n",
    "\n",
    "# проверяем размер полученных наборов данных\n",
    "for dataset in [rough_features_train, rough_target_train,\n",
    "                final_features_train, final_target_train,\n",
    "                rough_features_test, rough_target_test,\n",
    "                final_features_test, final_target_test]:\n",
    "    print(dataset.shape)"
   ]
  },
  {
   "cell_type": "markdown",
   "metadata": {},
   "source": [
    "Размеры датасетов соответствуют ожидаемым.\n",
    "\n",
    "#### Масштабирование данных\n",
    "Обучим StandardScaler на train датасете по отдельности для 2х наборов features."
   ]
  },
  {
   "cell_type": "code",
   "execution_count": 36,
   "metadata": {},
   "outputs": [],
   "source": [
    "scaler = StandardScaler()\n",
    "#rougher\n",
    "# обучаем scaler и трансформируем обучающую выборку\n",
    "rough_features_train = scaler.fit_transform(rough_features_train)\n",
    "# трансформируем тестовую выборку\n",
    "rough_features_test = scaler.transform(rough_features_test)\n",
    "\n",
    "# повторяем то же для final выборок\n",
    "final_features_train = scaler.fit_transform(final_features_train)\n",
    "\n",
    "final_features_test = scaler.transform(final_features_test)"
   ]
  },
  {
   "cell_type": "markdown",
   "metadata": {},
   "source": [
    "<font color='blue'><b>Комментарий ревьюера: </b></font> ✔️\\\n",
    "<font color='green'>Отлично, что scaler был обучен только на тренировочной части данных!</font>"
   ]
  },
  {
   "cell_type": "markdown",
   "metadata": {},
   "source": [
    "### Обучение и кросс-валидация\n",
    "\n",
    "Данный процес будет проведён на обучающей выборке для 3х моделей с подбором оптимальных гиперпараметров. Для предсказания 2х целевых признаков он будет выполнен по отдельности.\n",
    "\n",
    "#### DecisionTreeRegressor() \n",
    "\n",
    "##### rougher.output.recovery"
   ]
  },
  {
   "cell_type": "code",
   "execution_count": 37,
   "metadata": {},
   "outputs": [
    {
     "data": {
      "image/png": "[encoded data removed]",
      "text/plain": [
       "<Figure size 1080x432 with 1 Axes>"
      ]
     },
     "metadata": {
      "needs_background": "light"
     },
     "output_type": "display_data"
    },
    {
     "name": "stdout",
     "output_type": "stream",
     "text": [
      "Оптимальная глубина: 4\n",
      "Наименьшее среднее значение sMAPE: 4.758773109488153\n",
      "CPU times: user 12.7 s, sys: 7 ms, total: 12.8 s\n",
      "Wall time: 12.8 s\n"
     ]
    }
   ],
   "source": [
    "%%time\n",
    "tree_model_rough = fit_tree(rough_features_train,\n",
    "                            rough_target_train,\n",
    "                            tree_min_depth=1,\n",
    "                            tree_max_depth=16,\n",
    "                            valid=5)"
   ]
  },
  {
   "cell_type": "markdown",
   "metadata": {},
   "source": [
    "##### final.output.recovery"
   ]
  },
  {
   "cell_type": "code",
   "execution_count": 38,
   "metadata": {
    "scrolled": true
   },
   "outputs": [
    {
     "data": {
      "image/png": "[encoded data removed]",
      "text/plain": [
       "<Figure size 1080x432 with 1 Axes>"
      ]
     },
     "metadata": {
      "needs_background": "light"
     },
     "output_type": "display_data"
    },
    {
     "name": "stdout",
     "output_type": "stream",
     "text": [
      "Оптимальная глубина: 1\n",
      "Наименьшее среднее значение sMAPE: 7.024089692431634\n",
      "CPU times: user 15.1 s, sys: 20.1 ms, total: 15.1 s\n",
      "Wall time: 15.2 s\n"
     ]
    }
   ],
   "source": [
    "%%time\n",
    "tree_model_final = fit_tree(final_features_train,\n",
    "                            final_target_train,\n",
    "                            tree_min_depth=1,\n",
    "                            tree_max_depth=16,\n",
    "                            valid=3)"
   ]
  },
  {
   "cell_type": "markdown",
   "metadata": {},
   "source": [
    "На rougher части данных sMAPE данной модели составила 4.8% при оптимальной глубине 4.\n",
    "\n",
    "При предсказании final output данная модель показала sMAPE 7.0% при оптимальной глубине 1.\n",
    "\n",
    "#### RandomForestRegressor\n",
    "##### rougher.output.recovery"
   ]
  },
  {
   "cell_type": "code",
   "execution_count": 40,
   "metadata": {},
   "outputs": [
    {
     "data": {
      "image/png": "[encoded data removed]",
      "text/plain": [
       "<Figure size 1080x432 with 1 Axes>"
      ]
     },
     "metadata": {
      "needs_background": "light"
     },
     "output_type": "display_data"
    },
    {
     "data": {
      "image/png": "[encoded data removed]",
      "text/plain": [
       "<Figure size 1080x432 with 1 Axes>"
      ]
     },
     "metadata": {
      "needs_background": "light"
     },
     "output_type": "display_data"
    },
    {
     "name": "stdout",
     "output_type": "stream",
     "text": [
      "Оптимальная глубина: 5\n",
      "Оптимальное n_estimators: 20\n",
      "Наименьшее среднее значение метрики sMAPE: 5.135526963015955\n",
      "CPU times: user 48.9 s, sys: 40 ms, total: 48.9 s\n",
      "Wall time: 48.9 s\n"
     ]
    }
   ],
   "source": [
    "%%time\n",
    "rough_forest_model = fit_forest(rough_features_train, rough_target_train,\n",
    "               min_depth=1, max_depth=10,\n",
    "               min_estimators=10, max_estimators=41,\n",
    "               step=10, valid=3)"
   ]
  },
  {
   "cell_type": "markdown",
   "metadata": {},
   "source": [
    "##### final.output.recovery"
   ]
  },
  {
   "cell_type": "code",
   "execution_count": 42,
   "metadata": {
    "scrolled": true
   },
   "outputs": [
    {
     "data": {
      "image/png": "[encoded data removed]",
      "text/plain": [
       "<Figure size 1080x432 with 1 Axes>"
      ]
     },
     "metadata": {
      "needs_background": "light"
     },
     "output_type": "display_data"
    },
    {
     "data": {
      "image/png": "[encoded data removed]",
      "text/plain": [
       "<Figure size 1080x432 with 1 Axes>"
      ]
     },
     "metadata": {
      "needs_background": "light"
     },
     "output_type": "display_data"
    },
    {
     "name": "stdout",
     "output_type": "stream",
     "text": [
      "Оптимальная глубина: 6\n",
      "Оптимальное n_estimators: 10\n",
      "Наименьшее среднее значение метрики sMAPE: 6.917617120283527\n",
      "CPU times: user 2min 37s, sys: 140 ms, total: 2min 37s\n",
      "Wall time: 2min 37s\n"
     ]
    }
   ],
   "source": [
    "%%time\n",
    "final_forest_model = fit_forest(final_features_train, final_target_train,\n",
    "               min_depth=4, max_depth=14,\n",
    "               min_estimators=10, max_estimators=71,\n",
    "               step=10, valid=3)"
   ]
  },
  {
   "cell_type": "markdown",
   "metadata": {},
   "source": [
    "Модель случайного леса при исследовании rough output recovery показала:\n",
    "\n",
    "- минимальная средняя sMAPE 5.1.\n",
    "- Оптимальная глубина: 5. \n",
    "- Оптимальное n_estimators: 20\n",
    "\n",
    "\n",
    "При исследовании final output recovery:\n",
    "- Наименьшее среднее значение метрики sMAPE: 6.9\n",
    "- Оптимальная глубина: 6\n",
    "- Оптимальное n_estimators: 10\n",
    "\n",
    "\n",
    "\n",
    "#### LinearRegression\n",
    "##### rougher.output.recovery"
   ]
  },
  {
   "cell_type": "code",
   "execution_count": 43,
   "metadata": {
    "scrolled": true
   },
   "outputs": [
    {
     "data": {
      "text/plain": [
       "4.467867467501515"
      ]
     },
     "execution_count": 43,
     "metadata": {},
     "output_type": "execute_result"
    }
   ],
   "source": [
    "rough_linear_model = LinearRegression()\n",
    "cross_val_score(rough_linear_model, rough_features_train, rough_target_train, scoring=smape_scorer, cv=5).mean()"
   ]
  },
  {
   "cell_type": "markdown",
   "metadata": {},
   "source": [
    "##### final.output.recovery"
   ]
  },
  {
   "cell_type": "code",
   "execution_count": 44,
   "metadata": {},
   "outputs": [
    {
     "data": {
      "text/plain": [
       "7.423221684513012"
      ]
     },
     "execution_count": 44,
     "metadata": {},
     "output_type": "execute_result"
    }
   ],
   "source": [
    "model = LinearRegression()\n",
    "cross_val_score(model, final_features_train, final_target_train, scoring=smape_scorer, cv=5).mean()"
   ]
  },
  {
   "cell_type": "markdown",
   "metadata": {},
   "source": [
    "Модель linear regression достигла наименьшей sMAPE 4.5 и 7.4 на rougher и final данных соответственно. \n",
    "\n",
    "### Результат\n",
    "\n",
    "Лучшее значение для определения rough output recovery показала модель:\n",
    "- rough_linear_model\n",
    "    - Наименьшее среднее значение метрики sMAPE: 4.5\n",
    "    \n",
    "Лучшее значение для final output:\n",
    "- final_forest_model\n",
    "    - Наименьшее среднее значение метрики sMAPE: 6.9\n",
    "    - Оптимальная глубина: 6\n",
    "    - Оптимальное n_estimators: 10\n",
    "    \n",
    "Применим эти модели к тестовой выборке и рассчитаем sMAPE по результатам:\n",
    "\n"
   ]
  },
  {
   "cell_type": "markdown",
   "metadata": {},
   "source": [
    "<font color='blue'><b>Комментарий ревьюера: </b></font> ❌\\\n",
    "<font color='red'><s> Оценить модели нужно по smape.</s></font>\n",
    "\n",
    "\n",
    "<font color='purple'><b>Комментарий студента: </b></font> \\\n",
    "<font color='purple'> Исправлено! </font>\n",
    "\n"
   ]
  },
  {
   "cell_type": "markdown",
   "metadata": {},
   "source": [
    "<font color='blue'><b>Комментарий ревьюера 2: </b></font> ✔️\\\n",
    "<font color='green'> Отлично, что оценка по целевой метрике!</font>"
   ]
  },
  {
   "cell_type": "markdown",
   "metadata": {},
   "source": [
    "### Расчёт sMAPE на тестовой выборке"
   ]
  },
  {
   "cell_type": "code",
   "execution_count": 45,
   "metadata": {},
   "outputs": [
    {
     "name": "stdout",
     "output_type": "stream",
     "text": [
      "sMAPE на тестовой выборке 6.659241565868239\n"
     ]
    }
   ],
   "source": [
    "rough_linear_model.fit(rough_features_train, rough_target_train)\n",
    "# обучаем лучшую модель на выборке этапа флотации\n",
    "\n",
    "predictions_rough = rough_linear_model.predict(rough_features_test)\n",
    "# применяем модель к тестовой выборке\n",
    "\n",
    "final_forest_model.fit(final_features_train, final_target_train)\n",
    "# обучаем лучшую модель на выборке финального этапа\n",
    "\n",
    "predictions_final = final_forest_model.predict(final_features_test)\n",
    "# применяем модель к тестовой выборке\n",
    "\n",
    "\n",
    "smape_fin = total_smape(rough_target_test, predictions_rough, final_target_test, predictions_final)\n",
    "print('sMAPE на тестовой выборке', smape_fin)\n",
    "\n",
    "\n",
    "\n"
   ]
  },
  {
   "cell_type": "markdown",
   "metadata": {},
   "source": [
    "<font color='blue'><b>Комментарий ревьюера: </b></font> ✔️\\\n",
    "<font color='green'>Тестирование проведено верно.</font>"
   ]
  },
  {
   "cell_type": "markdown",
   "metadata": {},
   "source": [
    "sMAPE составила 6.7%"
   ]
  },
  {
   "cell_type": "markdown",
   "metadata": {},
   "source": [
    "<font color='blue'><b>Комментарий ревьюера: </b></font> ❌\\\n",
    "<font color='red'><s> Нужно сравнить с константной моделью, например с `DummyRegressor`, из одного значения метрики не ясно насколько адекватно предсказание моделей. )</s></font>\n",
    "\n",
    "\n",
    "<font color='purple'><b>Комментарий студента: </b></font> ❌\\\n",
    "<font color='purple'> Спасибо, добавил сравнение ниже!</font>"
   ]
  },
  {
   "cell_type": "markdown",
   "metadata": {},
   "source": [
    "Сравним результат работы модели с DummyRegressor для проверки предсказаний на адекватность.\n",
    "### Проверка результатов с использованием дамми-модели\n"
   ]
  },
  {
   "cell_type": "code",
   "execution_count": 46,
   "metadata": {
    "scrolled": true
   },
   "outputs": [
    {
     "name": "stdout",
     "output_type": "stream",
     "text": [
      "sMAPE дамми-модели: 6.8731860973251155\n"
     ]
    }
   ],
   "source": [
    "dummy_model = DummyRegressor()\n",
    "    \n",
    "dummy_model.fit(rough_features_train, rough_target_train)\n",
    "\n",
    "predictions_rough = dummy_model.predict(rough_features_test)\n",
    "\n",
    "dummy_model.fit(final_features_train, final_target_train)\n",
    "\n",
    "predictions_final = dummy_model.predict(final_features_test)\n",
    "    \n",
    "smape_dum = total_smape(rough_target_test, predictions_rough, final_target_test, predictions_final)\n",
    "print('sMAPE дамми-модели:', smape_dum)\n"
   ]
  },
  {
   "cell_type": "markdown",
   "metadata": {},
   "source": [
    "<font color='blue'><b>Комментарий ревьюера 2: </b></font> ❌\\\n",
    "<font color='red'> `smape = total_smape(...` - здесь `smape` нужно назвать как нибудь по другому. чтобы не затиралась функция `smape`. </font>\n",
    "\n",
    "<font color='purple'><b>Комментарий студента 2: </b></font> \\\n",
    "<font color='purple'> Точно! Благодарю. Сделал. </font>\n"
   ]
  },
  {
   "cell_type": "markdown",
   "metadata": {},
   "source": [
    "<font color='blue'><b>Комментарий ревьюера 3: </b></font> ✔️\\\n",
    "<font color='green'> Супер! </font>"
   ]
  },
  {
   "cell_type": "markdown",
   "metadata": {},
   "source": [
    "sMAPE дамми-модели составила 6.9%.\n",
    "\n",
    "## Вывод\n",
    "### Цель и задачи исследования:\n",
    "Цель исследования: подготовить прототип модели, предсказывающей коэффициент восстановления золота из золотосодержащей руды.\n",
    "\n",
    "Задачи исследования:\n",
    "- изучить данные, предоставленные заказчиком, провести предварительную обработку;\n",
    "- проверить правильность расчёта целевого признака;\n",
    "- проанализировать признаки, отсутствующие в тестовой выборке;\n",
    "- исследовать концентрацию веществ на различных этапах производства;\n",
    "- исследовать распределение размеров гранул сырья в тестовой и обучающей выборках;\n",
    "- разработать функцию для вычисления итоговой sMAPE;\n",
    "- провести кросс-валидацию и обучить модели;\n",
    "- рассчитать r2-коэффициент моделей и sMAPE на тестовой выборке.\n",
    "\n",
    "### Материалы и методы\n",
    "\n",
    "Исследование выполнено на данных, предоставленных заказчиком, средствами Python, библиотек pandas, matplotlib, sklearn. Задачи ML решались методом обучения с учителем, с применением моделей DecisionTreeRegressor, RandomForestRegressor, LinearRegression.\n",
    "\n",
    "### Ход исследования\n",
    "\n",
    "Выполнены следующие шаги:\n",
    "- Загрузка и ознакомление с данными;\n",
    "- отбор целевого признака для тестовой выборки;\n",
    "- удаление пропусков в данных;\n",
    "- повторный расчёт целевого признака;\n",
    "- изучение признаков, представленных в обучающей и тестовой выборках;\n",
    "- исследование динамики концентрации веществ на различных этапах производства;\n",
    "- исследование размеров гранул сырья;\n",
    "- разработаны функции для вычисления sMAPE, обучения и валидации моделей;\n",
    "- осуществлена подготовка данных к процессам ML;\n",
    "- проведено обучение и кросс-валидация моделей;\n",
    "- рассчитана R2-метрика лучших моделей на тестовой выборке;\n",
    "- вычислена итоговая sMAPE на тестовой выборке.\n",
    "\n",
    "### Результаты исследования:\n",
    "\n",
    "Лучшее значение для определения rough output recovery показала модель:\n",
    "\n",
    "Лучшее значение для определения rough output recovery показала модель:\n",
    "\n",
    "- rough_linear_model\n",
    "    - Наименьшее среднее значение метрики sMAPE: 4.5\n",
    "    \n",
    "Лучшее значение для final output:\n",
    "- final_forest_model\n",
    "    - Наименьшее среднее значение метрики sMAPE: 6.9\n",
    "    - Оптимальная глубина: 6\n",
    "    - Оптимальное n_estimators: 10\n",
    "    \n",
    "    \n",
    "sMAPE при применении моделей к тестовой выборке составила 6.7%.\n",
    "\n",
    "sMAPE дамми-модели составила 6.9%. \n",
    "\n",
    "Таким образом, достичь точности, значительно превышающей дамми-модель, в ходе исследования не удалось."
   ]
  },
  {
   "cell_type": "markdown",
   "metadata": {},
   "source": [
    "<font color='blue'><b>Комментарий ревьюера: </b></font> ✔️\\\n",
    "<font color='green'> Очень приятно видеть вывод в конце проекта!\\\n",
    "Приведены ответы на главные вопросы проекта.</font>"
   ]
  },
  {
   "cell_type": "markdown",
   "metadata": {},
   "source": [
    "<font color='blue'><b>Итоговый комментарий ревьюера</b></font>\\\n",
    "<font color='green'>Сергей, хороший проект получился!\n",
    "Большое спасибо за проделанную работу. Видно, что приложено много усилий.\n",
    "</font>\n",
    "\n",
    "<font color='blue'>Что нужно исправить:</font>\n",
    "<ul><font color='red'>Исследуй суммарную концентрацию всех веществ на разных стадиях: в сырье, в черновом и финальном концентратах..</font></ul>\n",
    "<ul><font color='red'>Исправь функцию метрики `smape`</font></ul>\n",
    "<ul><font color='red'>Оцени модели кроссвалидацией по целевой метрике.</font></ul>\n",
    "<ul><font color='red'>Подбери гиперпараметры по целевой метрике.</font></ul>\n",
    "<ul><font color='red'>Добавь тест константной модели для оценки адекватности работы моделей.</font></ul>\n",
    "\n",
    "<font color='blue'>Что можно сделать лучше:</font>\n",
    "<font color='orange'>В работе я оставил несколько советов. Буду рад, если ты учтешь их.</font></ul>\n",
    "\n",
    "<font color='blue'><b>Жду новую версию проекта :)</b></font>\n",
    "\n",
    "\n",
    "<font color='purple'><b>Итоговый комментарий ревьюера</b></font>\\\n",
    "<font color='purple'>Сергей, хороший проект получился!\n",
    "Большое спасибо за проделанную работу. Видно, что приложено много усилий.\n",
    "</font>\n",
    "\n",
    "\n",
    "<font color='purple'><b> комментарий студента</b></font>\\\n",
    "<font color='purple'>Благодарю за разбор недочётов, постарался всё поменять и оставил комментарии под твоими. Жду результат)\n",
    "</font>"
   ]
  },
  {
   "cell_type": "markdown",
   "metadata": {},
   "source": [
    "<font color='blue'><b>Итоговый комментарий ревьюера 2</b></font>\\\n",
    "<font color='green'>Сергей, большое спасибо за доработку. Поправили функицю smape, кроссвалидация по ней же, подобрали параметры моделям, появилась Наивная модель.\n",
    "</font>\n",
    "\n",
    "<font color='blue'>Что нужно исправить:</font>\n",
    "<ul><font color='red'>Попробуй обучить модели на очищенных от выбросов данных.</font></ul>\n",
    "<ul><font color='red'>Поправь тест Dummy.</font></ul>\n",
    "\n",
    "<font color='blue'>Что можно сделать лучше:</font>\n",
    "<font color='orange'>В работе я оставил несколько советов. Буду рад, если ты учтешь их.</font></ul>\n",
    "\n",
    "<font color='blue'><b>Жду новую версию проекта :)</b></font>\n",
    "\n",
    "\n",
    "<font color='purple'><b> комментарий студента N2 </b></font>\\\n",
    "<font color='purple'> Павел, еще раз благодарю, теперь стало намного понятнее! Исправления коснулись следующего:\n",
    "    \n",
    "- пункты 3.2.1, 3.2.2 - выявление и удаление выбросов\n",
    "    \n",
    "- пункт 4.6 - исправил работу дамми модели\n",
    "    \n",
    "- и, естественно, поменял выводы в соответствии с изменившимися результатами.\n",
    "</font>"
   ]
  },
  {
   "cell_type": "markdown",
   "metadata": {},
   "source": [
    "<font color='blue'><b>Итоговый комментарий ревьюера 3</b></font>\\\n",
    "<font color='green'> Сергей, проект принят! \\\n",
    "Все этапы пройдены. Все рекомендации учтены.\\\n",
    "Надеюсь, тебе понравился процесс выполнения и результат.</font> \\\n",
    "<font color='blue'><b>Спасибо, удачи в освоении профессии!</b></font>"
   ]
  },
  {
   "cell_type": "markdown",
   "metadata": {},
   "source": [
    "## Чек-лист готовности проекта"
   ]
  },
  {
   "cell_type": "markdown",
   "metadata": {},
   "source": [
    "- [x]  Jupyter Notebook открыт\n",
    "- [x]  Весь код выполняется без ошибок\n",
    "- [x]  Ячейки с кодом расположены в порядке выполнения\n",
    "- [x]  Выполнен шаг 1: данные подготовлены\n",
    "    - [x]  Проверена формула вычисления эффективности обогащения\n",
    "    - [x]  Проанализированы признаки, недоступные в тестовой выборке\n",
    "    - [x]  Проведена предобработка данных\n",
    "- [x]  Выполнен шаг 2: данные проанализированы\n",
    "    - [x]  Исследовано изменение концентрации элементов на каждом этапе\n",
    "    - [x]  Проанализированы распределения размеров гранул на обучающей и тестовой выборках\n",
    "    - [x]  Исследованы суммарные концентрации\n",
    "- [x]  Выполнен шаг 3: построена модель прогнозирования\n",
    "    - [x]  Написана функция для вычисления итогового *sMAPE*\n",
    "    - [x]  Обучено и проверено несколько моделей\n",
    "    - [x]  Выбрана лучшая модель, её качество проверено на тестовой выборке"
   ]
  }
 ],
 "metadata": {
  "ExecuteTimeLog": [
   {
    "duration": 467,
    "start_time": "2022-11-23T21:29:16.147Z"
   },
   {
    "duration": 1935,
    "start_time": "2022-11-23T21:29:50.558Z"
   },
   {
    "duration": 5,
    "start_time": "2022-11-23T21:32:01.683Z"
   },
   {
    "duration": 12935,
    "start_time": "2022-11-23T21:34:07.168Z"
   },
   {
    "duration": 3,
    "start_time": "2022-11-23T21:35:44.369Z"
   },
   {
    "duration": 13682,
    "start_time": "2022-11-23T21:35:47.929Z"
   },
   {
    "duration": 8541,
    "start_time": "2022-11-23T21:36:12.399Z"
   },
   {
    "duration": 5,
    "start_time": "2022-11-23T21:36:24.071Z"
   },
   {
    "duration": 13490,
    "start_time": "2022-11-23T21:37:57.673Z"
   },
   {
    "duration": 4,
    "start_time": "2022-11-23T21:38:29.562Z"
   },
   {
    "duration": 13695,
    "start_time": "2022-11-23T21:38:33.141Z"
   },
   {
    "duration": 8493,
    "start_time": "2022-11-23T21:39:47.989Z"
   },
   {
    "duration": 12956,
    "start_time": "2022-11-23T21:40:38.617Z"
   },
   {
    "duration": 7,
    "start_time": "2022-11-23T21:56:25.189Z"
   },
   {
    "duration": 3,
    "start_time": "2022-11-23T21:57:42.598Z"
   },
   {
    "duration": 9,
    "start_time": "2022-11-23T21:57:50.979Z"
   },
   {
    "duration": 5,
    "start_time": "2022-11-23T21:57:54.443Z"
   },
   {
    "duration": 12,
    "start_time": "2022-11-23T21:58:21.379Z"
   },
   {
    "duration": 40,
    "start_time": "2022-11-23T21:59:12.077Z"
   },
   {
    "duration": 155,
    "start_time": "2022-11-23T22:01:18.472Z"
   },
   {
    "duration": 3,
    "start_time": "2022-11-23T22:16:45.999Z"
   },
   {
    "duration": 5,
    "start_time": "2022-11-23T22:16:54.558Z"
   },
   {
    "duration": 3,
    "start_time": "2022-11-23T22:21:43.327Z"
   },
   {
    "duration": 8524,
    "start_time": "2022-11-23T22:21:53.049Z"
   },
   {
    "duration": 13391,
    "start_time": "2022-11-23T22:23:27.881Z"
   },
   {
    "duration": 8639,
    "start_time": "2022-11-23T22:23:41.274Z"
   },
   {
    "duration": 13621,
    "start_time": "2022-11-23T22:23:49.915Z"
   },
   {
    "duration": 3,
    "start_time": "2022-11-23T22:43:08.851Z"
   },
   {
    "duration": 7,
    "start_time": "2022-11-23T22:43:16.717Z"
   },
   {
    "duration": 11,
    "start_time": "2022-11-23T22:43:21.843Z"
   },
   {
    "duration": 1255,
    "start_time": "2022-11-23T22:43:25.890Z"
   },
   {
    "duration": 10,
    "start_time": "2022-11-23T22:43:42.274Z"
   },
   {
    "duration": 8,
    "start_time": "2022-11-23T22:46:30.739Z"
   },
   {
    "duration": 4,
    "start_time": "2022-11-23T22:46:37.667Z"
   },
   {
    "duration": 16,
    "start_time": "2022-11-23T22:46:56.331Z"
   },
   {
    "duration": 18,
    "start_time": "2022-11-23T22:47:36.362Z"
   },
   {
    "duration": 11,
    "start_time": "2022-11-23T22:49:01.124Z"
   },
   {
    "duration": 75,
    "start_time": "2022-11-23T22:49:16.514Z"
   },
   {
    "duration": 75,
    "start_time": "2022-11-23T22:49:25.109Z"
   },
   {
    "duration": 12,
    "start_time": "2022-11-23T22:49:34.683Z"
   },
   {
    "duration": 18,
    "start_time": "2022-11-23T22:54:20.724Z"
   },
   {
    "duration": 24,
    "start_time": "2022-11-23T22:57:47.253Z"
   },
   {
    "duration": 20,
    "start_time": "2022-11-23T22:57:58.493Z"
   },
   {
    "duration": 21,
    "start_time": "2022-11-23T22:58:17.589Z"
   },
   {
    "duration": 20,
    "start_time": "2022-11-23T23:01:22.351Z"
   },
   {
    "duration": 25,
    "start_time": "2022-11-23T23:01:29.725Z"
   },
   {
    "duration": 31,
    "start_time": "2022-11-23T23:01:51.359Z"
   },
   {
    "duration": 379,
    "start_time": "2022-11-23T23:02:03.430Z"
   },
   {
    "duration": 22,
    "start_time": "2022-11-23T23:03:04.005Z"
   },
   {
    "duration": 19,
    "start_time": "2022-11-23T23:03:25.324Z"
   },
   {
    "duration": 28,
    "start_time": "2022-11-23T23:04:03.245Z"
   },
   {
    "duration": 19,
    "start_time": "2022-11-23T23:04:14.054Z"
   },
   {
    "duration": 77,
    "start_time": "2022-11-23T23:06:01.313Z"
   },
   {
    "duration": 21,
    "start_time": "2022-11-23T23:06:12.365Z"
   },
   {
    "duration": 23,
    "start_time": "2022-11-23T23:06:45.342Z"
   },
   {
    "duration": 21,
    "start_time": "2022-11-23T23:07:11.967Z"
   },
   {
    "duration": 20,
    "start_time": "2022-11-23T23:07:48.751Z"
   },
   {
    "duration": 29,
    "start_time": "2022-11-23T23:07:55.270Z"
   },
   {
    "duration": 22,
    "start_time": "2022-11-23T23:08:34.015Z"
   },
   {
    "duration": 20,
    "start_time": "2022-11-23T23:10:13.631Z"
   },
   {
    "duration": 21,
    "start_time": "2022-11-23T23:10:30.335Z"
   },
   {
    "duration": 1574,
    "start_time": "2022-11-23T23:13:52.223Z"
   },
   {
    "duration": 74,
    "start_time": "2022-11-23T23:15:04.369Z"
   },
   {
    "duration": 22,
    "start_time": "2022-11-23T23:15:11.656Z"
   },
   {
    "duration": 41,
    "start_time": "2022-11-23T23:25:19.337Z"
   },
   {
    "duration": 3,
    "start_time": "2022-11-23T23:25:27.489Z"
   },
   {
    "duration": 150,
    "start_time": "2022-11-23T23:26:36.066Z"
   },
   {
    "duration": 122,
    "start_time": "2022-11-23T23:28:17.890Z"
   },
   {
    "duration": 6,
    "start_time": "2022-11-23T23:52:03.720Z"
   },
   {
    "duration": 4,
    "start_time": "2022-11-24T00:00:56.201Z"
   },
   {
    "duration": 8,
    "start_time": "2022-11-24T00:01:57.505Z"
   },
   {
    "duration": 4,
    "start_time": "2022-11-24T00:02:01.440Z"
   },
   {
    "duration": 11,
    "start_time": "2022-11-24T00:02:03.336Z"
   },
   {
    "duration": 10,
    "start_time": "2022-11-24T00:02:36.473Z"
   },
   {
    "duration": 6,
    "start_time": "2022-11-24T00:02:39.649Z"
   },
   {
    "duration": 17,
    "start_time": "2022-11-24T00:02:41.017Z"
   },
   {
    "duration": 5,
    "start_time": "2022-11-24T00:04:13.225Z"
   },
   {
    "duration": 21,
    "start_time": "2022-11-24T00:04:15.592Z"
   },
   {
    "duration": 5,
    "start_time": "2022-11-24T00:06:04.841Z"
   },
   {
    "duration": 22,
    "start_time": "2022-11-24T00:06:07.041Z"
   },
   {
    "duration": 5,
    "start_time": "2022-11-24T00:06:45.985Z"
   },
   {
    "duration": 7,
    "start_time": "2022-11-24T00:06:48.345Z"
   },
   {
    "duration": 16,
    "start_time": "2022-11-24T00:08:56.305Z"
   },
   {
    "duration": 5,
    "start_time": "2022-11-24T00:09:07.146Z"
   },
   {
    "duration": 16,
    "start_time": "2022-11-24T00:09:09.153Z"
   },
   {
    "duration": 11,
    "start_time": "2022-11-24T00:10:03.282Z"
   },
   {
    "duration": 144,
    "start_time": "2022-11-24T00:10:18.474Z"
   },
   {
    "duration": 14,
    "start_time": "2022-11-24T00:10:30.794Z"
   },
   {
    "duration": 13,
    "start_time": "2022-11-24T00:10:48.521Z"
   },
   {
    "duration": 175,
    "start_time": "2022-11-24T00:10:52.705Z"
   },
   {
    "duration": 171,
    "start_time": "2022-11-24T00:11:16.394Z"
   },
   {
    "duration": 163,
    "start_time": "2022-11-24T00:11:20.322Z"
   },
   {
    "duration": 185,
    "start_time": "2022-11-24T00:13:07.844Z"
   },
   {
    "duration": 186,
    "start_time": "2022-11-24T00:18:22.188Z"
   },
   {
    "duration": 203,
    "start_time": "2022-11-24T00:19:14.764Z"
   },
   {
    "duration": 196,
    "start_time": "2022-11-24T00:19:47.461Z"
   },
   {
    "duration": 193,
    "start_time": "2022-11-24T00:20:05.381Z"
   },
   {
    "duration": 230,
    "start_time": "2022-11-24T00:20:49.469Z"
   },
   {
    "duration": 297,
    "start_time": "2022-11-24T00:21:15.100Z"
   },
   {
    "duration": 206,
    "start_time": "2022-11-24T00:21:19.156Z"
   },
   {
    "duration": 206,
    "start_time": "2022-11-24T00:21:37.484Z"
   },
   {
    "duration": 186,
    "start_time": "2022-11-24T00:22:06.324Z"
   },
   {
    "duration": 196,
    "start_time": "2022-11-24T00:22:31.772Z"
   },
   {
    "duration": 211,
    "start_time": "2022-11-24T00:22:36.748Z"
   },
   {
    "duration": 201,
    "start_time": "2022-11-24T00:22:49.613Z"
   },
   {
    "duration": 195,
    "start_time": "2022-11-24T00:23:08.405Z"
   },
   {
    "duration": 126,
    "start_time": "2022-11-24T00:23:55.957Z"
   },
   {
    "duration": 195,
    "start_time": "2022-11-24T00:24:08.589Z"
   },
   {
    "duration": 205,
    "start_time": "2022-11-24T00:24:37.741Z"
   },
   {
    "duration": 215,
    "start_time": "2022-11-24T00:24:54.132Z"
   },
   {
    "duration": 300,
    "start_time": "2022-11-24T00:25:03.845Z"
   },
   {
    "duration": 196,
    "start_time": "2022-11-24T00:25:31.405Z"
   },
   {
    "duration": 212,
    "start_time": "2022-11-24T00:26:02.197Z"
   },
   {
    "duration": 204,
    "start_time": "2022-11-24T00:31:23.261Z"
   },
   {
    "duration": 195,
    "start_time": "2022-11-24T00:31:42.638Z"
   },
   {
    "duration": 5,
    "start_time": "2022-11-24T00:36:39.014Z"
   },
   {
    "duration": 18,
    "start_time": "2022-11-24T00:36:53.983Z"
   },
   {
    "duration": 149,
    "start_time": "2022-11-24T00:37:24.142Z"
   },
   {
    "duration": 2712,
    "start_time": "2022-11-24T00:37:43.583Z"
   },
   {
    "duration": 399,
    "start_time": "2022-11-24T00:38:04.663Z"
   },
   {
    "duration": 567,
    "start_time": "2022-11-24T00:38:23.351Z"
   },
   {
    "duration": 345,
    "start_time": "2022-11-24T00:38:32.375Z"
   },
   {
    "duration": 347,
    "start_time": "2022-11-24T00:38:36.270Z"
   },
   {
    "duration": 362,
    "start_time": "2022-11-24T00:38:56.095Z"
   },
   {
    "duration": 618,
    "start_time": "2022-11-24T00:39:04.295Z"
   },
   {
    "duration": 374,
    "start_time": "2022-11-24T00:39:29.455Z"
   },
   {
    "duration": 361,
    "start_time": "2022-11-24T00:39:50.271Z"
   },
   {
    "duration": 382,
    "start_time": "2022-11-24T00:40:38.983Z"
   },
   {
    "duration": 617,
    "start_time": "2022-11-24T00:40:58.183Z"
   },
   {
    "duration": 359,
    "start_time": "2022-11-24T00:41:14.120Z"
   },
   {
    "duration": 378,
    "start_time": "2022-11-24T00:41:36.936Z"
   },
   {
    "duration": 363,
    "start_time": "2022-11-24T00:41:46.127Z"
   },
   {
    "duration": 685,
    "start_time": "2022-11-24T00:42:54.168Z"
   },
   {
    "duration": 377,
    "start_time": "2022-11-24T00:44:49.904Z"
   },
   {
    "duration": 389,
    "start_time": "2022-11-24T00:45:01.497Z"
   },
   {
    "duration": 614,
    "start_time": "2022-11-24T00:45:06.080Z"
   },
   {
    "duration": 472,
    "start_time": "2022-11-24T00:45:10.705Z"
   },
   {
    "duration": 447,
    "start_time": "2022-11-24T00:45:25.344Z"
   },
   {
    "duration": 382,
    "start_time": "2022-11-24T00:46:48.401Z"
   },
   {
    "duration": 752,
    "start_time": "2022-11-24T00:53:30.266Z"
   },
   {
    "duration": 68,
    "start_time": "2022-11-24T00:55:16.306Z"
   },
   {
    "duration": 505,
    "start_time": "2022-11-24T00:55:21.778Z"
   },
   {
    "duration": 70,
    "start_time": "2022-11-24T00:55:46.812Z"
   },
   {
    "duration": 364,
    "start_time": "2022-11-24T00:55:50.241Z"
   },
   {
    "duration": 75,
    "start_time": "2022-11-24T00:56:09.834Z"
   },
   {
    "duration": 505,
    "start_time": "2022-11-24T00:56:30.121Z"
   },
   {
    "duration": 478,
    "start_time": "2022-11-24T00:56:56.179Z"
   },
   {
    "duration": 908,
    "start_time": "2022-11-24T00:57:05.033Z"
   },
   {
    "duration": 509,
    "start_time": "2022-11-24T00:58:07.490Z"
   },
   {
    "duration": 493,
    "start_time": "2022-11-24T00:58:16.906Z"
   },
   {
    "duration": 742,
    "start_time": "2022-11-24T00:58:25.490Z"
   },
   {
    "duration": 505,
    "start_time": "2022-11-24T00:58:50.163Z"
   },
   {
    "duration": 1426,
    "start_time": "2022-11-24T13:50:28.989Z"
   },
   {
    "duration": 3,
    "start_time": "2022-11-24T13:50:30.417Z"
   },
   {
    "duration": 1866,
    "start_time": "2022-11-24T13:50:30.421Z"
   },
   {
    "duration": 3,
    "start_time": "2022-11-24T13:50:32.289Z"
   },
   {
    "duration": 466,
    "start_time": "2022-11-24T13:50:32.294Z"
   },
   {
    "duration": 222,
    "start_time": "2022-11-24T13:50:32.761Z"
   },
   {
    "duration": 456,
    "start_time": "2022-11-24T13:50:32.985Z"
   },
   {
    "duration": 25,
    "start_time": "2022-11-24T13:50:37.138Z"
   },
   {
    "duration": 66,
    "start_time": "2022-11-24T13:51:32.532Z"
   },
   {
    "duration": 33,
    "start_time": "2022-11-24T13:51:39.227Z"
   },
   {
    "duration": 45,
    "start_time": "2022-11-24T13:52:19.163Z"
   },
   {
    "duration": 28,
    "start_time": "2022-11-24T13:52:46.436Z"
   },
   {
    "duration": 1264,
    "start_time": "2022-11-24T13:53:01.600Z"
   },
   {
    "duration": 3,
    "start_time": "2022-11-24T13:53:02.866Z"
   },
   {
    "duration": 621,
    "start_time": "2022-11-24T13:53:02.870Z"
   },
   {
    "duration": 4,
    "start_time": "2022-11-24T13:53:03.493Z"
   },
   {
    "duration": 484,
    "start_time": "2022-11-24T13:53:03.498Z"
   },
   {
    "duration": 209,
    "start_time": "2022-11-24T13:53:03.983Z"
   },
   {
    "duration": 453,
    "start_time": "2022-11-24T13:53:04.193Z"
   },
   {
    "duration": 31,
    "start_time": "2022-11-24T13:53:17.010Z"
   },
   {
    "duration": 36,
    "start_time": "2022-11-24T13:54:17.234Z"
   },
   {
    "duration": 39,
    "start_time": "2022-11-24T13:54:26.378Z"
   },
   {
    "duration": 36,
    "start_time": "2022-11-24T13:54:49.547Z"
   },
   {
    "duration": 40,
    "start_time": "2022-11-24T13:55:04.442Z"
   },
   {
    "duration": 1200,
    "start_time": "2022-11-24T13:55:24.882Z"
   },
   {
    "duration": 3,
    "start_time": "2022-11-24T13:55:26.084Z"
   },
   {
    "duration": 617,
    "start_time": "2022-11-24T13:55:26.088Z"
   },
   {
    "duration": 3,
    "start_time": "2022-11-24T13:55:26.707Z"
   },
   {
    "duration": 483,
    "start_time": "2022-11-24T13:55:26.712Z"
   },
   {
    "duration": 216,
    "start_time": "2022-11-24T13:55:27.197Z"
   },
   {
    "duration": 449,
    "start_time": "2022-11-24T13:55:27.426Z"
   },
   {
    "duration": 39,
    "start_time": "2022-11-24T13:55:33.706Z"
   },
   {
    "duration": 44,
    "start_time": "2022-11-24T13:55:52.635Z"
   },
   {
    "duration": 36,
    "start_time": "2022-11-24T13:55:57.610Z"
   },
   {
    "duration": 29,
    "start_time": "2022-11-24T13:56:04.386Z"
   },
   {
    "duration": 20,
    "start_time": "2022-11-24T13:56:34.051Z"
   },
   {
    "duration": 19,
    "start_time": "2022-11-24T13:57:46.130Z"
   },
   {
    "duration": 5,
    "start_time": "2022-11-24T13:58:34.115Z"
   },
   {
    "duration": 11,
    "start_time": "2022-11-24T14:02:49.988Z"
   },
   {
    "duration": 11,
    "start_time": "2022-11-24T14:03:16.221Z"
   },
   {
    "duration": 5,
    "start_time": "2022-11-24T14:17:56.141Z"
   },
   {
    "duration": 233,
    "start_time": "2022-11-24T14:17:58.613Z"
   },
   {
    "duration": 457,
    "start_time": "2022-11-24T14:18:19.869Z"
   },
   {
    "duration": 14,
    "start_time": "2022-11-24T14:31:06.792Z"
   },
   {
    "duration": 10,
    "start_time": "2022-11-24T14:31:17.303Z"
   },
   {
    "duration": 13,
    "start_time": "2022-11-24T14:31:28.936Z"
   },
   {
    "duration": 5,
    "start_time": "2022-11-24T14:31:33.383Z"
   },
   {
    "duration": 12,
    "start_time": "2022-11-24T14:34:09.641Z"
   },
   {
    "duration": 9,
    "start_time": "2022-11-24T14:34:35.576Z"
   },
   {
    "duration": 4,
    "start_time": "2022-11-24T14:34:44.944Z"
   },
   {
    "duration": 253,
    "start_time": "2022-11-24T14:34:46.711Z"
   },
   {
    "duration": 4,
    "start_time": "2022-11-24T14:36:27.081Z"
   },
   {
    "duration": 204,
    "start_time": "2022-11-24T14:37:53.201Z"
   },
   {
    "duration": 26,
    "start_time": "2022-11-24T14:53:23.916Z"
   },
   {
    "duration": 96,
    "start_time": "2022-11-24T15:07:15.469Z"
   },
   {
    "duration": 100,
    "start_time": "2022-11-24T15:07:29.893Z"
   },
   {
    "duration": 4,
    "start_time": "2022-11-24T15:07:37.853Z"
   },
   {
    "duration": 4,
    "start_time": "2022-11-24T15:08:35.720Z"
   },
   {
    "duration": 8,
    "start_time": "2022-11-24T15:10:39.038Z"
   },
   {
    "duration": 21,
    "start_time": "2022-11-24T15:10:48.749Z"
   },
   {
    "duration": 14,
    "start_time": "2022-11-24T15:11:02.830Z"
   },
   {
    "duration": 12,
    "start_time": "2022-11-24T15:11:55.307Z"
   },
   {
    "duration": 14,
    "start_time": "2022-11-24T15:12:14.502Z"
   },
   {
    "duration": 14,
    "start_time": "2022-11-24T15:12:45.991Z"
   },
   {
    "duration": 14,
    "start_time": "2022-11-24T15:12:59.350Z"
   },
   {
    "duration": 14,
    "start_time": "2022-11-24T15:13:10.710Z"
   },
   {
    "duration": 14,
    "start_time": "2022-11-24T15:13:21.214Z"
   },
   {
    "duration": 14,
    "start_time": "2022-11-24T15:13:27.037Z"
   },
   {
    "duration": 12,
    "start_time": "2022-11-24T15:13:59.438Z"
   },
   {
    "duration": 4,
    "start_time": "2022-11-24T15:15:08.535Z"
   },
   {
    "duration": 4,
    "start_time": "2022-11-24T15:15:16.847Z"
   },
   {
    "duration": 12,
    "start_time": "2022-11-24T15:15:26.126Z"
   },
   {
    "duration": 4,
    "start_time": "2022-11-24T15:15:53.573Z"
   },
   {
    "duration": 478,
    "start_time": "2022-11-24T15:18:03.402Z"
   },
   {
    "duration": 4,
    "start_time": "2022-11-24T15:18:17.751Z"
   },
   {
    "duration": 12,
    "start_time": "2022-11-24T15:18:20.311Z"
   },
   {
    "duration": 19,
    "start_time": "2022-11-24T15:18:27.167Z"
   },
   {
    "duration": 34,
    "start_time": "2022-11-24T15:18:41.527Z"
   },
   {
    "duration": 1309,
    "start_time": "2022-11-24T15:19:14.170Z"
   },
   {
    "duration": 3,
    "start_time": "2022-11-24T15:19:15.481Z"
   },
   {
    "duration": 740,
    "start_time": "2022-11-24T15:19:15.485Z"
   },
   {
    "duration": 4,
    "start_time": "2022-11-24T15:19:16.227Z"
   },
   {
    "duration": 504,
    "start_time": "2022-11-24T15:19:16.232Z"
   },
   {
    "duration": 235,
    "start_time": "2022-11-24T15:19:16.738Z"
   },
   {
    "duration": 487,
    "start_time": "2022-11-24T15:19:16.974Z"
   },
   {
    "duration": 35,
    "start_time": "2022-11-24T15:19:17.463Z"
   },
   {
    "duration": 40,
    "start_time": "2022-11-24T15:19:17.500Z"
   },
   {
    "duration": 12,
    "start_time": "2022-11-24T15:19:17.542Z"
   },
   {
    "duration": 4,
    "start_time": "2022-11-24T15:19:21.318Z"
   },
   {
    "duration": 46,
    "start_time": "2022-11-24T15:20:10.759Z"
   },
   {
    "duration": 44,
    "start_time": "2022-11-24T15:20:22.423Z"
   },
   {
    "duration": 102,
    "start_time": "2022-11-24T15:21:07.303Z"
   },
   {
    "duration": 15,
    "start_time": "2022-11-24T15:21:18.703Z"
   },
   {
    "duration": 4,
    "start_time": "2022-11-24T15:21:30.143Z"
   },
   {
    "duration": 16,
    "start_time": "2022-11-24T15:21:36.750Z"
   },
   {
    "duration": 31,
    "start_time": "2022-11-24T15:21:45.231Z"
   },
   {
    "duration": 1251,
    "start_time": "2022-11-24T15:22:28.563Z"
   },
   {
    "duration": 2,
    "start_time": "2022-11-24T15:22:29.816Z"
   },
   {
    "duration": 716,
    "start_time": "2022-11-24T15:22:29.820Z"
   },
   {
    "duration": 4,
    "start_time": "2022-11-24T15:22:30.538Z"
   },
   {
    "duration": 505,
    "start_time": "2022-11-24T15:22:30.544Z"
   },
   {
    "duration": 228,
    "start_time": "2022-11-24T15:22:31.051Z"
   },
   {
    "duration": 535,
    "start_time": "2022-11-24T15:22:31.281Z"
   },
   {
    "duration": 42,
    "start_time": "2022-11-24T15:22:31.818Z"
   },
   {
    "duration": 29,
    "start_time": "2022-11-24T15:22:31.862Z"
   },
   {
    "duration": 35,
    "start_time": "2022-11-24T15:22:31.893Z"
   },
   {
    "duration": 5,
    "start_time": "2022-11-24T15:22:31.929Z"
   },
   {
    "duration": 123,
    "start_time": "2022-11-24T15:22:34.255Z"
   },
   {
    "duration": 1344,
    "start_time": "2022-11-24T15:23:17.290Z"
   },
   {
    "duration": 2,
    "start_time": "2022-11-24T15:23:18.636Z"
   },
   {
    "duration": 720,
    "start_time": "2022-11-24T15:23:18.640Z"
   },
   {
    "duration": 4,
    "start_time": "2022-11-24T15:23:19.362Z"
   },
   {
    "duration": 488,
    "start_time": "2022-11-24T15:23:19.367Z"
   },
   {
    "duration": 224,
    "start_time": "2022-11-24T15:23:19.857Z"
   },
   {
    "duration": 474,
    "start_time": "2022-11-24T15:23:20.083Z"
   },
   {
    "duration": 34,
    "start_time": "2022-11-24T15:23:20.558Z"
   },
   {
    "duration": 42,
    "start_time": "2022-11-24T15:23:20.594Z"
   },
   {
    "duration": 12,
    "start_time": "2022-11-24T15:23:20.638Z"
   },
   {
    "duration": 7,
    "start_time": "2022-11-24T15:23:20.652Z"
   },
   {
    "duration": 53,
    "start_time": "2022-11-24T15:24:14.991Z"
   },
   {
    "duration": 107,
    "start_time": "2022-11-24T16:21:28.728Z"
   },
   {
    "duration": 45,
    "start_time": "2022-11-24T16:22:22.616Z"
   },
   {
    "duration": 1358,
    "start_time": "2022-11-24T16:26:00.728Z"
   },
   {
    "duration": 3,
    "start_time": "2022-11-24T16:26:02.089Z"
   },
   {
    "duration": 702,
    "start_time": "2022-11-24T16:26:02.094Z"
   },
   {
    "duration": 4,
    "start_time": "2022-11-24T16:26:02.798Z"
   },
   {
    "duration": 487,
    "start_time": "2022-11-24T16:26:02.804Z"
   },
   {
    "duration": 220,
    "start_time": "2022-11-24T16:26:03.292Z"
   },
   {
    "duration": 471,
    "start_time": "2022-11-24T16:26:03.526Z"
   },
   {
    "duration": 45,
    "start_time": "2022-11-24T16:26:03.999Z"
   },
   {
    "duration": 25,
    "start_time": "2022-11-24T16:26:04.045Z"
   },
   {
    "duration": 13,
    "start_time": "2022-11-24T16:26:04.073Z"
   },
   {
    "duration": 6,
    "start_time": "2022-11-24T16:26:04.087Z"
   },
   {
    "duration": 113,
    "start_time": "2022-11-24T16:26:04.094Z"
   },
   {
    "duration": 0,
    "start_time": "2022-11-24T16:26:04.209Z"
   },
   {
    "duration": 0,
    "start_time": "2022-11-24T16:26:04.210Z"
   },
   {
    "duration": 73,
    "start_time": "2022-11-24T16:26:47.753Z"
   },
   {
    "duration": 16,
    "start_time": "2022-11-24T16:26:54.281Z"
   },
   {
    "duration": 1257,
    "start_time": "2022-11-24T16:27:06.124Z"
   },
   {
    "duration": 3,
    "start_time": "2022-11-24T16:27:07.383Z"
   },
   {
    "duration": 677,
    "start_time": "2022-11-24T16:27:07.388Z"
   },
   {
    "duration": 5,
    "start_time": "2022-11-24T16:27:08.067Z"
   },
   {
    "duration": 493,
    "start_time": "2022-11-24T16:27:08.073Z"
   },
   {
    "duration": 220,
    "start_time": "2022-11-24T16:27:08.568Z"
   },
   {
    "duration": 476,
    "start_time": "2022-11-24T16:27:08.790Z"
   },
   {
    "duration": 34,
    "start_time": "2022-11-24T16:27:09.268Z"
   },
   {
    "duration": 40,
    "start_time": "2022-11-24T16:27:09.303Z"
   },
   {
    "duration": 13,
    "start_time": "2022-11-24T16:27:09.345Z"
   },
   {
    "duration": 5,
    "start_time": "2022-11-24T16:27:09.360Z"
   },
   {
    "duration": 23,
    "start_time": "2022-11-24T16:27:09.367Z"
   },
   {
    "duration": 102,
    "start_time": "2022-11-24T16:28:26.986Z"
   },
   {
    "duration": 5,
    "start_time": "2022-11-24T16:28:35.498Z"
   },
   {
    "duration": 5,
    "start_time": "2022-11-24T16:28:58.130Z"
   },
   {
    "duration": 9,
    "start_time": "2022-11-24T16:29:18.439Z"
   },
   {
    "duration": 5,
    "start_time": "2022-11-24T16:35:03.595Z"
   },
   {
    "duration": 5,
    "start_time": "2022-11-24T16:35:10.050Z"
   },
   {
    "duration": 7,
    "start_time": "2022-11-24T16:35:16.842Z"
   },
   {
    "duration": 9,
    "start_time": "2022-11-24T16:35:21.442Z"
   },
   {
    "duration": 6,
    "start_time": "2022-11-24T16:35:56.739Z"
   },
   {
    "duration": 5,
    "start_time": "2022-11-24T16:36:10.923Z"
   },
   {
    "duration": 5,
    "start_time": "2022-11-24T16:36:14.715Z"
   },
   {
    "duration": 6,
    "start_time": "2022-11-24T16:36:22.514Z"
   },
   {
    "duration": 3,
    "start_time": "2022-11-24T16:38:57.547Z"
   },
   {
    "duration": 6,
    "start_time": "2022-11-24T16:39:06.419Z"
   },
   {
    "duration": 3,
    "start_time": "2022-11-24T16:39:25.387Z"
   },
   {
    "duration": 6,
    "start_time": "2022-11-24T16:39:28.187Z"
   },
   {
    "duration": 4,
    "start_time": "2022-11-24T16:39:36.931Z"
   },
   {
    "duration": 6,
    "start_time": "2022-11-24T16:39:38.419Z"
   },
   {
    "duration": 6,
    "start_time": "2022-11-24T16:39:42.931Z"
   },
   {
    "duration": 4,
    "start_time": "2022-11-24T16:40:22.151Z"
   },
   {
    "duration": 5,
    "start_time": "2022-11-24T16:40:24.051Z"
   },
   {
    "duration": 7,
    "start_time": "2022-11-24T16:40:28.364Z"
   },
   {
    "duration": 3,
    "start_time": "2022-11-24T16:40:43.580Z"
   },
   {
    "duration": 9,
    "start_time": "2022-11-24T16:40:45.563Z"
   },
   {
    "duration": 3,
    "start_time": "2022-11-24T16:40:50.859Z"
   },
   {
    "duration": 6,
    "start_time": "2022-11-24T16:40:52.275Z"
   },
   {
    "duration": 3,
    "start_time": "2022-11-24T16:41:13.403Z"
   },
   {
    "duration": 7,
    "start_time": "2022-11-24T16:41:15.483Z"
   },
   {
    "duration": 3,
    "start_time": "2022-11-24T16:43:25.971Z"
   },
   {
    "duration": 3,
    "start_time": "2022-11-24T16:43:37.835Z"
   },
   {
    "duration": 7,
    "start_time": "2022-11-24T16:43:39.651Z"
   },
   {
    "duration": 6,
    "start_time": "2022-11-24T16:43:43.955Z"
   },
   {
    "duration": 101,
    "start_time": "2022-11-24T16:44:34.220Z"
   },
   {
    "duration": 3,
    "start_time": "2022-11-24T16:44:47.148Z"
   },
   {
    "duration": 7,
    "start_time": "2022-11-24T16:45:30.532Z"
   },
   {
    "duration": 9,
    "start_time": "2022-11-24T16:45:45.397Z"
   },
   {
    "duration": 6,
    "start_time": "2022-11-24T16:45:52.588Z"
   },
   {
    "duration": 9,
    "start_time": "2022-11-24T16:46:22.805Z"
   },
   {
    "duration": 2,
    "start_time": "2022-11-24T16:46:26.061Z"
   },
   {
    "duration": 6,
    "start_time": "2022-11-24T16:46:27.580Z"
   },
   {
    "duration": 15,
    "start_time": "2022-11-24T16:58:11.760Z"
   },
   {
    "duration": 15,
    "start_time": "2022-11-24T16:58:56.560Z"
   },
   {
    "duration": 1345,
    "start_time": "2022-11-24T16:59:03.927Z"
   },
   {
    "duration": 3,
    "start_time": "2022-11-24T16:59:05.273Z"
   },
   {
    "duration": 706,
    "start_time": "2022-11-24T16:59:05.277Z"
   },
   {
    "duration": 4,
    "start_time": "2022-11-24T16:59:05.986Z"
   },
   {
    "duration": 483,
    "start_time": "2022-11-24T16:59:05.992Z"
   },
   {
    "duration": 219,
    "start_time": "2022-11-24T16:59:06.477Z"
   },
   {
    "duration": 479,
    "start_time": "2022-11-24T16:59:06.698Z"
   },
   {
    "duration": 47,
    "start_time": "2022-11-24T16:59:07.179Z"
   },
   {
    "duration": 26,
    "start_time": "2022-11-24T16:59:07.228Z"
   },
   {
    "duration": 40,
    "start_time": "2022-11-24T16:59:07.256Z"
   },
   {
    "duration": 30,
    "start_time": "2022-11-24T16:59:07.298Z"
   },
   {
    "duration": 23,
    "start_time": "2022-11-24T16:59:42.055Z"
   },
   {
    "duration": 5,
    "start_time": "2022-11-24T17:02:47.688Z"
   },
   {
    "duration": 215,
    "start_time": "2022-11-24T17:02:53.056Z"
   },
   {
    "duration": 200,
    "start_time": "2022-11-24T17:03:01.072Z"
   },
   {
    "duration": 521,
    "start_time": "2022-11-24T17:05:16.800Z"
   },
   {
    "duration": 11,
    "start_time": "2022-11-24T17:18:48.339Z"
   },
   {
    "duration": 5,
    "start_time": "2022-11-24T17:30:58.900Z"
   },
   {
    "duration": 12,
    "start_time": "2022-11-24T17:33:24.651Z"
   },
   {
    "duration": 1202,
    "start_time": "2022-11-24T17:41:27.284Z"
   },
   {
    "duration": 4,
    "start_time": "2022-11-24T17:41:28.488Z"
   },
   {
    "duration": 675,
    "start_time": "2022-11-24T17:41:28.493Z"
   },
   {
    "duration": 4,
    "start_time": "2022-11-24T17:41:29.170Z"
   },
   {
    "duration": 462,
    "start_time": "2022-11-24T17:41:29.175Z"
   },
   {
    "duration": 212,
    "start_time": "2022-11-24T17:41:29.638Z"
   },
   {
    "duration": 457,
    "start_time": "2022-11-24T17:41:29.852Z"
   },
   {
    "duration": 45,
    "start_time": "2022-11-24T17:41:30.310Z"
   },
   {
    "duration": 25,
    "start_time": "2022-11-24T17:41:30.356Z"
   },
   {
    "duration": 12,
    "start_time": "2022-11-24T17:41:30.383Z"
   },
   {
    "duration": 30,
    "start_time": "2022-11-24T17:41:30.396Z"
   },
   {
    "duration": 27,
    "start_time": "2022-11-24T17:41:30.428Z"
   },
   {
    "duration": 10,
    "start_time": "2022-11-24T17:41:30.457Z"
   },
   {
    "duration": 228,
    "start_time": "2022-11-24T17:41:30.469Z"
   },
   {
    "duration": 461,
    "start_time": "2022-11-24T17:41:30.698Z"
   },
   {
    "duration": 3,
    "start_time": "2022-11-24T17:41:31.160Z"
   },
   {
    "duration": 48,
    "start_time": "2022-11-24T17:41:31.164Z"
   },
   {
    "duration": 37,
    "start_time": "2022-11-24T17:41:31.214Z"
   },
   {
    "duration": 5,
    "start_time": "2022-11-24T17:41:41.526Z"
   },
   {
    "duration": 11,
    "start_time": "2022-11-24T17:41:57.772Z"
   },
   {
    "duration": 12,
    "start_time": "2022-11-24T17:48:29.005Z"
   },
   {
    "duration": 84,
    "start_time": "2022-11-24T17:48:45.709Z"
   },
   {
    "duration": 3,
    "start_time": "2022-11-24T17:51:00.560Z"
   },
   {
    "duration": 4,
    "start_time": "2022-11-24T17:51:36.254Z"
   },
   {
    "duration": 1183,
    "start_time": "2022-11-24T18:00:52.880Z"
   },
   {
    "duration": 1241,
    "start_time": "2022-11-24T18:01:11.951Z"
   },
   {
    "duration": 2,
    "start_time": "2022-11-24T18:01:13.194Z"
   },
   {
    "duration": 678,
    "start_time": "2022-11-24T18:01:13.198Z"
   },
   {
    "duration": 3,
    "start_time": "2022-11-24T18:01:13.878Z"
   },
   {
    "duration": 461,
    "start_time": "2022-11-24T18:01:13.882Z"
   },
   {
    "duration": 226,
    "start_time": "2022-11-24T18:01:14.345Z"
   },
   {
    "duration": 488,
    "start_time": "2022-11-24T18:01:14.572Z"
   },
   {
    "duration": 12,
    "start_time": "2022-11-24T18:01:33.856Z"
   },
   {
    "duration": 14,
    "start_time": "2022-11-24T18:01:38.145Z"
   },
   {
    "duration": 13,
    "start_time": "2022-11-24T18:01:53.657Z"
   },
   {
    "duration": 14,
    "start_time": "2022-11-24T18:01:58.336Z"
   },
   {
    "duration": 72,
    "start_time": "2022-11-24T18:02:01.609Z"
   },
   {
    "duration": 13,
    "start_time": "2022-11-24T18:02:07.665Z"
   },
   {
    "duration": 88,
    "start_time": "2022-11-24T18:03:34.929Z"
   },
   {
    "duration": 105,
    "start_time": "2022-11-24T18:04:06.108Z"
   },
   {
    "duration": 19,
    "start_time": "2022-11-24T18:04:59.226Z"
   },
   {
    "duration": 19,
    "start_time": "2022-11-24T18:05:05.058Z"
   },
   {
    "duration": 15,
    "start_time": "2022-11-24T18:05:18.204Z"
   },
   {
    "duration": 15,
    "start_time": "2022-11-24T18:05:27.106Z"
   },
   {
    "duration": 19,
    "start_time": "2022-11-24T18:06:40.058Z"
   },
   {
    "duration": 72,
    "start_time": "2022-11-24T18:06:53.964Z"
   },
   {
    "duration": 86,
    "start_time": "2022-11-24T18:07:12.586Z"
   },
   {
    "duration": 109,
    "start_time": "2022-11-24T18:07:49.108Z"
   },
   {
    "duration": 99,
    "start_time": "2022-11-24T18:08:12.294Z"
   },
   {
    "duration": 27,
    "start_time": "2022-11-24T18:08:57.009Z"
   },
   {
    "duration": 131,
    "start_time": "2022-11-24T18:09:40.482Z"
   },
   {
    "duration": 137,
    "start_time": "2022-11-24T18:10:13.608Z"
   },
   {
    "duration": 149,
    "start_time": "2022-11-24T18:10:30.704Z"
   },
   {
    "duration": 150,
    "start_time": "2022-11-24T18:10:39.720Z"
   },
   {
    "duration": 3,
    "start_time": "2022-11-24T18:12:08.881Z"
   },
   {
    "duration": 17,
    "start_time": "2022-11-24T18:12:13.300Z"
   },
   {
    "duration": 24,
    "start_time": "2022-11-24T18:12:24.587Z"
   },
   {
    "duration": 30,
    "start_time": "2022-11-24T18:12:38.163Z"
   },
   {
    "duration": 48,
    "start_time": "2022-11-24T18:12:47.300Z"
   },
   {
    "duration": 23,
    "start_time": "2022-11-24T18:13:05.707Z"
   },
   {
    "duration": 13,
    "start_time": "2022-11-24T18:14:24.045Z"
   },
   {
    "duration": 26,
    "start_time": "2022-11-24T18:15:15.332Z"
   },
   {
    "duration": 27,
    "start_time": "2022-11-24T18:15:28.716Z"
   },
   {
    "duration": 17,
    "start_time": "2022-11-24T18:15:46.060Z"
   },
   {
    "duration": 21,
    "start_time": "2022-11-24T18:16:21.436Z"
   },
   {
    "duration": 15,
    "start_time": "2022-11-24T18:16:38.358Z"
   },
   {
    "duration": 14,
    "start_time": "2022-11-24T18:16:45.132Z"
   },
   {
    "duration": 70,
    "start_time": "2022-11-24T18:16:54.604Z"
   },
   {
    "duration": 68,
    "start_time": "2022-11-24T18:17:26.935Z"
   },
   {
    "duration": 55,
    "start_time": "2022-11-24T18:17:35.558Z"
   },
   {
    "duration": 16,
    "start_time": "2022-11-24T18:18:02.789Z"
   },
   {
    "duration": 30,
    "start_time": "2022-11-24T18:18:17.957Z"
   },
   {
    "duration": 29,
    "start_time": "2022-11-24T18:18:47.032Z"
   },
   {
    "duration": 28,
    "start_time": "2022-11-24T18:19:08.909Z"
   },
   {
    "duration": 59,
    "start_time": "2022-11-24T18:20:02.981Z"
   },
   {
    "duration": 24,
    "start_time": "2022-11-24T18:20:42.407Z"
   },
   {
    "duration": 25,
    "start_time": "2022-11-24T18:20:51.766Z"
   },
   {
    "duration": 39,
    "start_time": "2022-11-24T18:24:31.350Z"
   },
   {
    "duration": 30,
    "start_time": "2022-11-24T18:25:12.694Z"
   },
   {
    "duration": 36,
    "start_time": "2022-11-24T18:25:38.239Z"
   },
   {
    "duration": 28,
    "start_time": "2022-11-24T18:26:06.662Z"
   },
   {
    "duration": 29,
    "start_time": "2022-11-24T18:26:13.737Z"
   },
   {
    "duration": 29,
    "start_time": "2022-11-24T18:26:16.518Z"
   },
   {
    "duration": 65,
    "start_time": "2022-11-24T18:26:20.118Z"
   },
   {
    "duration": 23,
    "start_time": "2022-11-24T18:26:33.016Z"
   },
   {
    "duration": 30,
    "start_time": "2022-11-24T18:27:43.733Z"
   },
   {
    "duration": 35,
    "start_time": "2022-11-24T18:27:52.822Z"
   },
   {
    "duration": 34,
    "start_time": "2022-11-24T18:28:19.470Z"
   },
   {
    "duration": 36,
    "start_time": "2022-11-24T18:28:40.166Z"
   },
   {
    "duration": 60,
    "start_time": "2022-11-24T18:29:01.111Z"
   },
   {
    "duration": 33,
    "start_time": "2022-11-24T18:29:52.455Z"
   },
   {
    "duration": 38,
    "start_time": "2022-11-24T18:30:51.886Z"
   },
   {
    "duration": 34,
    "start_time": "2022-11-24T18:31:22.390Z"
   },
   {
    "duration": 60,
    "start_time": "2022-11-24T18:31:26.165Z"
   },
   {
    "duration": 30,
    "start_time": "2022-11-24T18:31:52.991Z"
   },
   {
    "duration": 28,
    "start_time": "2022-11-24T18:32:03.774Z"
   },
   {
    "duration": 29,
    "start_time": "2022-11-24T18:32:20.197Z"
   },
   {
    "duration": 29,
    "start_time": "2022-11-24T18:32:31.101Z"
   },
   {
    "duration": 30,
    "start_time": "2022-11-24T18:32:35.405Z"
   },
   {
    "duration": 27,
    "start_time": "2022-11-24T18:32:46.366Z"
   },
   {
    "duration": 140,
    "start_time": "2022-11-24T18:33:01.318Z"
   },
   {
    "duration": 31,
    "start_time": "2022-11-24T18:33:21.806Z"
   },
   {
    "duration": 27,
    "start_time": "2022-11-24T18:33:29.710Z"
   },
   {
    "duration": 31,
    "start_time": "2022-11-24T18:33:41.660Z"
   },
   {
    "duration": 26,
    "start_time": "2022-11-24T18:34:39.286Z"
   },
   {
    "duration": 39,
    "start_time": "2022-11-24T18:35:01.006Z"
   },
   {
    "duration": 39,
    "start_time": "2022-11-24T18:35:57.487Z"
   },
   {
    "duration": 142,
    "start_time": "2022-11-24T18:36:04.838Z"
   },
   {
    "duration": 147,
    "start_time": "2022-11-24T18:36:13.718Z"
   },
   {
    "duration": 140,
    "start_time": "2022-11-24T18:36:48.942Z"
   },
   {
    "duration": 138,
    "start_time": "2022-11-24T18:37:22.878Z"
   },
   {
    "duration": 136,
    "start_time": "2022-11-24T18:37:52.437Z"
   },
   {
    "duration": 30,
    "start_time": "2022-11-24T18:39:38.967Z"
   },
   {
    "duration": 73,
    "start_time": "2022-11-24T18:40:12.062Z"
   },
   {
    "duration": 31,
    "start_time": "2022-11-24T18:40:22.136Z"
   },
   {
    "duration": 38,
    "start_time": "2022-11-24T18:40:40.391Z"
   },
   {
    "duration": 43,
    "start_time": "2022-11-24T18:42:27.878Z"
   },
   {
    "duration": 26,
    "start_time": "2022-11-24T18:43:00.566Z"
   },
   {
    "duration": 26,
    "start_time": "2022-11-24T18:43:26.934Z"
   },
   {
    "duration": 1248,
    "start_time": "2022-11-24T18:44:20.041Z"
   },
   {
    "duration": 3,
    "start_time": "2022-11-24T18:44:21.291Z"
   },
   {
    "duration": 688,
    "start_time": "2022-11-24T18:44:21.295Z"
   },
   {
    "duration": 4,
    "start_time": "2022-11-24T18:44:21.985Z"
   },
   {
    "duration": 461,
    "start_time": "2022-11-24T18:44:21.990Z"
   },
   {
    "duration": 217,
    "start_time": "2022-11-24T18:44:22.453Z"
   },
   {
    "duration": 465,
    "start_time": "2022-11-24T18:44:22.672Z"
   },
   {
    "duration": 41,
    "start_time": "2022-11-24T18:44:35.583Z"
   },
   {
    "duration": 8,
    "start_time": "2022-11-24T18:44:40.918Z"
   },
   {
    "duration": 6,
    "start_time": "2022-11-24T18:44:59.775Z"
   },
   {
    "duration": 97,
    "start_time": "2022-11-24T18:45:48.223Z"
   },
   {
    "duration": 11,
    "start_time": "2022-11-24T18:48:57.527Z"
   },
   {
    "duration": 72,
    "start_time": "2022-11-24T18:49:32.328Z"
   },
   {
    "duration": 375,
    "start_time": "2022-11-24T18:49:41.662Z"
   },
   {
    "duration": 15,
    "start_time": "2022-11-24T18:50:30.665Z"
   },
   {
    "duration": 14,
    "start_time": "2022-11-24T18:50:34.961Z"
   },
   {
    "duration": 440,
    "start_time": "2022-11-24T18:51:19.768Z"
   },
   {
    "duration": 3,
    "start_time": "2022-11-24T18:52:27.873Z"
   },
   {
    "duration": 4,
    "start_time": "2022-11-24T18:52:38.336Z"
   },
   {
    "duration": 160,
    "start_time": "2022-11-24T18:52:53.416Z"
   },
   {
    "duration": 217,
    "start_time": "2022-11-24T18:52:59.648Z"
   },
   {
    "duration": 67,
    "start_time": "2022-11-24T18:53:55.721Z"
   },
   {
    "duration": 79,
    "start_time": "2022-11-24T18:53:59.496Z"
   },
   {
    "duration": 3,
    "start_time": "2022-11-24T18:54:28.160Z"
   },
   {
    "duration": 4,
    "start_time": "2022-11-24T18:54:32.393Z"
   },
   {
    "duration": 3,
    "start_time": "2022-11-24T18:54:44.624Z"
   },
   {
    "duration": 4,
    "start_time": "2022-11-24T18:55:01.792Z"
   },
   {
    "duration": 9,
    "start_time": "2022-11-24T18:55:09.215Z"
   },
   {
    "duration": 7,
    "start_time": "2022-11-24T18:55:29.472Z"
   },
   {
    "duration": 16,
    "start_time": "2022-11-24T18:56:04.536Z"
   },
   {
    "duration": 18,
    "start_time": "2022-11-24T18:56:16.999Z"
   },
   {
    "duration": 9,
    "start_time": "2022-11-24T18:57:25.593Z"
   },
   {
    "duration": 8,
    "start_time": "2022-11-24T18:57:34.144Z"
   },
   {
    "duration": 11,
    "start_time": "2022-11-24T18:57:54.025Z"
   },
   {
    "duration": 15,
    "start_time": "2022-11-24T18:58:09.850Z"
   },
   {
    "duration": 15,
    "start_time": "2022-11-24T18:58:22.633Z"
   },
   {
    "duration": 9,
    "start_time": "2022-11-24T18:59:29.665Z"
   },
   {
    "duration": 9,
    "start_time": "2022-11-24T18:59:38.681Z"
   },
   {
    "duration": 10,
    "start_time": "2022-11-24T18:59:43.016Z"
   },
   {
    "duration": 16,
    "start_time": "2022-11-24T19:00:17.209Z"
   },
   {
    "duration": 16,
    "start_time": "2022-11-24T19:00:46.569Z"
   },
   {
    "duration": 10,
    "start_time": "2022-11-24T19:01:33.665Z"
   },
   {
    "duration": 36,
    "start_time": "2022-11-24T19:01:48.498Z"
   },
   {
    "duration": 26,
    "start_time": "2022-11-24T19:01:56.410Z"
   },
   {
    "duration": 13,
    "start_time": "2022-11-24T19:02:00.356Z"
   },
   {
    "duration": 4,
    "start_time": "2022-11-24T19:02:11.873Z"
   },
   {
    "duration": 23,
    "start_time": "2022-11-24T19:02:14.233Z"
   },
   {
    "duration": 6,
    "start_time": "2022-11-24T19:02:35.722Z"
   },
   {
    "duration": 206,
    "start_time": "2022-11-24T19:02:37.850Z"
   },
   {
    "duration": 515,
    "start_time": "2022-11-24T19:02:41.770Z"
   },
   {
    "duration": 3,
    "start_time": "2022-11-24T19:02:45.857Z"
   },
   {
    "duration": 3,
    "start_time": "2022-11-24T19:02:48.497Z"
   },
   {
    "duration": 13,
    "start_time": "2022-11-24T19:02:54.345Z"
   },
   {
    "duration": 4,
    "start_time": "2022-11-24T19:03:01.921Z"
   },
   {
    "duration": 11,
    "start_time": "2022-11-24T19:03:06.737Z"
   },
   {
    "duration": 13,
    "start_time": "2022-11-24T19:04:04.265Z"
   },
   {
    "duration": 4,
    "start_time": "2022-11-24T19:05:23.098Z"
   },
   {
    "duration": 5,
    "start_time": "2022-11-24T19:05:47.290Z"
   },
   {
    "duration": 6,
    "start_time": "2022-11-24T19:06:00.034Z"
   },
   {
    "duration": 6,
    "start_time": "2022-11-24T19:06:16.226Z"
   },
   {
    "duration": 1152,
    "start_time": "2022-11-24T19:13:02.541Z"
   },
   {
    "duration": 1348,
    "start_time": "2022-11-24T19:13:14.303Z"
   },
   {
    "duration": 4,
    "start_time": "2022-11-24T19:13:15.653Z"
   },
   {
    "duration": 680,
    "start_time": "2022-11-24T19:13:15.659Z"
   },
   {
    "duration": 4,
    "start_time": "2022-11-24T19:13:16.341Z"
   },
   {
    "duration": 465,
    "start_time": "2022-11-24T19:13:16.347Z"
   },
   {
    "duration": 229,
    "start_time": "2022-11-24T19:13:16.813Z"
   },
   {
    "duration": 466,
    "start_time": "2022-11-24T19:13:17.044Z"
   },
   {
    "duration": 15,
    "start_time": "2022-11-24T19:15:02.021Z"
   },
   {
    "duration": 12,
    "start_time": "2022-11-24T19:15:32.460Z"
   },
   {
    "duration": 12,
    "start_time": "2022-11-24T19:16:58.652Z"
   },
   {
    "duration": 12,
    "start_time": "2022-11-24T19:17:06.277Z"
   },
   {
    "duration": 12,
    "start_time": "2022-11-24T19:17:11.220Z"
   },
   {
    "duration": 12,
    "start_time": "2022-11-24T19:17:17.484Z"
   },
   {
    "duration": 7,
    "start_time": "2022-11-24T19:18:46.677Z"
   },
   {
    "duration": 17,
    "start_time": "2022-11-24T19:19:22.548Z"
   },
   {
    "duration": 34,
    "start_time": "2022-11-24T19:20:02.668Z"
   },
   {
    "duration": 26,
    "start_time": "2022-11-24T19:20:06.485Z"
   },
   {
    "duration": 8,
    "start_time": "2022-11-24T20:28:24.768Z"
   },
   {
    "duration": 21,
    "start_time": "2022-11-24T20:28:44.977Z"
   },
   {
    "duration": 22,
    "start_time": "2022-11-24T20:29:01.384Z"
   },
   {
    "duration": 11,
    "start_time": "2022-11-24T20:29:20.368Z"
   },
   {
    "duration": 99,
    "start_time": "2022-11-24T20:47:00.796Z"
   },
   {
    "duration": 6,
    "start_time": "2022-11-24T20:47:12.636Z"
   },
   {
    "duration": 1111,
    "start_time": "2022-11-24T20:47:16.684Z"
   },
   {
    "duration": 13,
    "start_time": "2022-11-24T20:47:27.996Z"
   },
   {
    "duration": 2,
    "start_time": "2022-11-24T20:48:45.580Z"
   },
   {
    "duration": 1265,
    "start_time": "2022-11-24T20:48:55.435Z"
   },
   {
    "duration": 3,
    "start_time": "2022-11-24T20:48:56.701Z"
   },
   {
    "duration": 623,
    "start_time": "2022-11-24T20:48:56.705Z"
   },
   {
    "duration": 4,
    "start_time": "2022-11-24T20:48:57.330Z"
   },
   {
    "duration": 447,
    "start_time": "2022-11-24T20:48:57.335Z"
   },
   {
    "duration": 205,
    "start_time": "2022-11-24T20:48:57.784Z"
   },
   {
    "duration": 438,
    "start_time": "2022-11-24T20:48:57.991Z"
   },
   {
    "duration": 13,
    "start_time": "2022-11-24T20:48:58.430Z"
   },
   {
    "duration": 10,
    "start_time": "2022-11-24T20:48:58.445Z"
   },
   {
    "duration": 13,
    "start_time": "2022-11-24T20:48:58.458Z"
   },
   {
    "duration": 6,
    "start_time": "2022-11-24T20:48:58.473Z"
   },
   {
    "duration": 46,
    "start_time": "2022-11-24T20:48:58.480Z"
   },
   {
    "duration": 34,
    "start_time": "2022-11-24T20:48:58.528Z"
   },
   {
    "duration": 24,
    "start_time": "2022-11-24T20:48:58.563Z"
   },
   {
    "duration": 11,
    "start_time": "2022-11-24T20:48:58.588Z"
   },
   {
    "duration": 3,
    "start_time": "2022-11-24T20:48:58.627Z"
   },
   {
    "duration": 25,
    "start_time": "2022-11-24T20:48:58.632Z"
   },
   {
    "duration": 7,
    "start_time": "2022-11-24T20:48:58.658Z"
   },
   {
    "duration": 219,
    "start_time": "2022-11-24T20:48:58.667Z"
   },
   {
    "duration": 512,
    "start_time": "2022-11-24T20:48:58.888Z"
   },
   {
    "duration": 3,
    "start_time": "2022-11-24T20:48:59.401Z"
   },
   {
    "duration": 9,
    "start_time": "2022-11-24T20:48:59.405Z"
   },
   {
    "duration": 15,
    "start_time": "2022-11-24T20:48:59.416Z"
   },
   {
    "duration": 7,
    "start_time": "2022-11-24T20:48:59.432Z"
   },
   {
    "duration": 15,
    "start_time": "2022-11-24T20:48:59.440Z"
   },
   {
    "duration": 13,
    "start_time": "2022-11-24T20:48:59.457Z"
   },
   {
    "duration": 8,
    "start_time": "2022-11-24T20:48:59.471Z"
   },
   {
    "duration": 16,
    "start_time": "2022-11-24T20:48:59.482Z"
   },
   {
    "duration": 24,
    "start_time": "2022-11-24T20:53:09.182Z"
   },
   {
    "duration": 92,
    "start_time": "2022-11-24T21:08:45.649Z"
   },
   {
    "duration": 5,
    "start_time": "2022-11-24T21:09:26.057Z"
   },
   {
    "duration": 214,
    "start_time": "2022-11-24T21:10:28.673Z"
   },
   {
    "duration": 68,
    "start_time": "2022-11-24T21:11:31.849Z"
   },
   {
    "duration": 123,
    "start_time": "2022-11-24T21:11:35.433Z"
   },
   {
    "duration": 119,
    "start_time": "2022-11-24T21:11:50.626Z"
   },
   {
    "duration": 4,
    "start_time": "2022-11-24T21:11:54.849Z"
   },
   {
    "duration": 14521,
    "start_time": "2022-11-24T21:12:10.803Z"
   },
   {
    "duration": 13777,
    "start_time": "2022-11-24T21:14:14.714Z"
   },
   {
    "duration": 4,
    "start_time": "2022-11-24T21:15:56.307Z"
   },
   {
    "duration": 2035,
    "start_time": "2022-11-24T21:16:26.194Z"
   },
   {
    "duration": 9956,
    "start_time": "2022-11-24T21:17:28.234Z"
   },
   {
    "duration": 5,
    "start_time": "2022-11-24T21:18:13.413Z"
   },
   {
    "duration": 1106,
    "start_time": "2022-11-24T21:18:33.149Z"
   },
   {
    "duration": 5,
    "start_time": "2022-11-24T21:18:56.547Z"
   },
   {
    "duration": 17283,
    "start_time": "2022-11-24T21:18:59.860Z"
   },
   {
    "duration": 6,
    "start_time": "2022-11-24T21:21:03.370Z"
   },
   {
    "duration": 17712,
    "start_time": "2022-11-24T21:21:05.762Z"
   },
   {
    "duration": 5,
    "start_time": "2022-11-24T21:22:16.106Z"
   },
   {
    "duration": 5,
    "start_time": "2022-11-24T21:22:57.771Z"
   },
   {
    "duration": 30384,
    "start_time": "2022-11-24T21:23:16.930Z"
   },
   {
    "duration": 32328,
    "start_time": "2022-11-24T21:25:30.242Z"
   },
   {
    "duration": 43856,
    "start_time": "2022-11-24T21:27:02.356Z"
   },
   {
    "duration": 32311,
    "start_time": "2022-11-24T21:29:40.115Z"
   },
   {
    "duration": 162319,
    "start_time": "2022-11-24T21:30:40.163Z"
   },
   {
    "duration": 316,
    "start_time": "2022-11-24T21:41:59.917Z"
   },
   {
    "duration": 1188,
    "start_time": "2022-11-24T21:42:55.342Z"
   },
   {
    "duration": 605,
    "start_time": "2022-11-24T21:43:25.325Z"
   },
   {
    "duration": 1123,
    "start_time": "2022-11-24T21:43:36.805Z"
   },
   {
    "duration": 96,
    "start_time": "2022-11-24T21:56:19.249Z"
   },
   {
    "duration": 7,
    "start_time": "2022-11-24T21:56:29.264Z"
   },
   {
    "duration": 88,
    "start_time": "2022-11-24T21:57:20.664Z"
   },
   {
    "duration": 168322,
    "start_time": "2022-11-24T21:57:24.167Z"
   },
   {
    "duration": 309142,
    "start_time": "2022-11-24T22:02:49.313Z"
   },
   {
    "duration": 7,
    "start_time": "2022-11-24T22:09:18.773Z"
   },
   {
    "duration": 1028,
    "start_time": "2022-11-24T22:09:52.385Z"
   },
   {
    "duration": 102654,
    "start_time": "2022-11-24T22:10:19.554Z"
   },
   {
    "duration": 295,
    "start_time": "2022-11-24T22:12:50.937Z"
   },
   {
    "duration": 777,
    "start_time": "2022-11-24T22:12:53.154Z"
   },
   {
    "duration": 339002,
    "start_time": "2022-11-24T22:13:30.442Z"
   },
   {
    "duration": 211359,
    "start_time": "2022-11-24T22:20:08.587Z"
   },
   {
    "duration": 126646,
    "start_time": "2022-11-24T22:25:10.932Z"
   },
   {
    "duration": 91203,
    "start_time": "2022-11-24T22:28:03.117Z"
   },
   {
    "duration": 165402,
    "start_time": "2022-11-24T22:31:34.693Z"
   },
   {
    "duration": 56135,
    "start_time": "2022-11-24T22:35:34.878Z"
   },
   {
    "duration": 30112,
    "start_time": "2022-11-24T22:36:58.918Z"
   },
   {
    "duration": 294,
    "start_time": "2022-11-24T22:38:08.438Z"
   },
   {
    "duration": 636,
    "start_time": "2022-11-24T22:38:11.398Z"
   },
   {
    "duration": 38631,
    "start_time": "2022-11-24T22:38:34.830Z"
   },
   {
    "duration": 99069,
    "start_time": "2022-11-24T22:40:02.799Z"
   },
   {
    "duration": 149666,
    "start_time": "2022-11-24T22:42:35.390Z"
   },
   {
    "duration": 882,
    "start_time": "2022-11-24T22:47:00.448Z"
   },
   {
    "duration": 125,
    "start_time": "2022-11-24T22:47:05.207Z"
   },
   {
    "duration": 211,
    "start_time": "2022-11-24T22:47:07.719Z"
   },
   {
    "duration": 518,
    "start_time": "2022-11-24T22:47:10.719Z"
   },
   {
    "duration": 347,
    "start_time": "2022-11-24T22:47:15.383Z"
   },
   {
    "duration": 456,
    "start_time": "2022-11-24T22:47:19.176Z"
   },
   {
    "duration": 442,
    "start_time": "2022-11-24T22:47:22.087Z"
   },
   {
    "duration": 610,
    "start_time": "2022-11-24T22:47:26.023Z"
   },
   {
    "duration": 530,
    "start_time": "2022-11-24T22:47:29.200Z"
   },
   {
    "duration": 1884,
    "start_time": "2022-11-24T22:47:33.143Z"
   },
   {
    "duration": 1132,
    "start_time": "2022-11-24T22:47:38.503Z"
   },
   {
    "duration": 1220,
    "start_time": "2022-11-24T22:47:43.007Z"
   },
   {
    "duration": 227,
    "start_time": "2022-11-24T22:47:46.608Z"
   },
   {
    "duration": 48127,
    "start_time": "2022-11-24T22:48:13.927Z"
   },
   {
    "duration": 53270,
    "start_time": "2022-11-24T22:49:52.016Z"
   },
   {
    "duration": 81048,
    "start_time": "2022-11-24T22:51:07.194Z"
   },
   {
    "duration": 92631,
    "start_time": "2022-11-24T22:52:49.080Z"
   },
   {
    "duration": 45405,
    "start_time": "2022-11-24T22:54:53.648Z"
   },
   {
    "duration": 10,
    "start_time": "2022-11-24T23:00:59.537Z"
   },
   {
    "duration": 8,
    "start_time": "2022-11-24T23:02:17.058Z"
   },
   {
    "duration": 81061,
    "start_time": "2022-11-24T23:02:30.291Z"
   },
   {
    "duration": 46710,
    "start_time": "2022-11-24T23:03:59.370Z"
   },
   {
    "duration": 7,
    "start_time": "2022-11-24T23:05:54.070Z"
   },
   {
    "duration": 12,
    "start_time": "2022-11-24T23:06:09.906Z"
   },
   {
    "duration": 3680,
    "start_time": "2022-11-24T23:07:16.244Z"
   },
   {
    "duration": 3426,
    "start_time": "2022-11-24T23:07:25.226Z"
   },
   {
    "duration": 3387,
    "start_time": "2022-11-24T23:07:29.908Z"
   },
   {
    "duration": 3389,
    "start_time": "2022-11-24T23:08:55.219Z"
   },
   {
    "duration": 0,
    "start_time": "2022-11-24T23:10:00.632Z"
   },
   {
    "duration": 3422,
    "start_time": "2022-11-24T23:10:57.179Z"
   },
   {
    "duration": 3,
    "start_time": "2022-11-24T23:11:43.523Z"
   },
   {
    "duration": 3,
    "start_time": "2022-11-24T23:11:45.995Z"
   },
   {
    "duration": 3547,
    "start_time": "2022-11-24T23:11:56.708Z"
   },
   {
    "duration": 3464,
    "start_time": "2022-11-24T23:12:10.348Z"
   },
   {
    "duration": 3448,
    "start_time": "2022-11-24T23:14:28.715Z"
   },
   {
    "duration": 3479,
    "start_time": "2022-11-24T23:15:33.612Z"
   },
   {
    "duration": 3,
    "start_time": "2022-11-24T23:16:12.300Z"
   },
   {
    "duration": 3,
    "start_time": "2022-11-24T23:16:14.610Z"
   },
   {
    "duration": 3489,
    "start_time": "2022-11-24T23:16:38.820Z"
   },
   {
    "duration": 2694,
    "start_time": "2022-11-24T23:17:05.267Z"
   },
   {
    "duration": 3482,
    "start_time": "2022-11-24T23:17:20.364Z"
   },
   {
    "duration": 3,
    "start_time": "2022-11-24T23:17:30.844Z"
   },
   {
    "duration": 3,
    "start_time": "2022-11-24T23:17:33.083Z"
   },
   {
    "duration": 3464,
    "start_time": "2022-11-24T23:19:10.781Z"
   },
   {
    "duration": 6,
    "start_time": "2022-11-25T00:00:26.436Z"
   },
   {
    "duration": 44,
    "start_time": "2022-11-26T12:13:07.760Z"
   },
   {
    "duration": 1473,
    "start_time": "2022-11-26T12:13:12.147Z"
   },
   {
    "duration": 3,
    "start_time": "2022-11-26T12:13:13.622Z"
   },
   {
    "duration": 1778,
    "start_time": "2022-11-26T12:13:13.627Z"
   },
   {
    "duration": 4,
    "start_time": "2022-11-26T12:13:15.407Z"
   },
   {
    "duration": 499,
    "start_time": "2022-11-26T12:13:15.412Z"
   },
   {
    "duration": 220,
    "start_time": "2022-11-26T12:13:15.912Z"
   },
   {
    "duration": 462,
    "start_time": "2022-11-26T12:13:16.134Z"
   },
   {
    "duration": 14,
    "start_time": "2022-11-26T12:13:16.597Z"
   },
   {
    "duration": 12,
    "start_time": "2022-11-26T12:13:16.613Z"
   },
   {
    "duration": 14,
    "start_time": "2022-11-26T12:13:16.627Z"
   },
   {
    "duration": 6,
    "start_time": "2022-11-26T12:13:16.643Z"
   },
   {
    "duration": 40,
    "start_time": "2022-11-26T12:13:16.651Z"
   },
   {
    "duration": 24,
    "start_time": "2022-11-26T12:13:26.261Z"
   },
   {
    "duration": 3,
    "start_time": "2022-11-26T12:20:17.667Z"
   },
   {
    "duration": 4,
    "start_time": "2022-11-26T12:20:17.672Z"
   },
   {
    "duration": 631,
    "start_time": "2022-11-26T12:20:17.678Z"
   },
   {
    "duration": 3,
    "start_time": "2022-11-26T12:20:18.311Z"
   },
   {
    "duration": 461,
    "start_time": "2022-11-26T12:20:18.316Z"
   },
   {
    "duration": 251,
    "start_time": "2022-11-26T12:20:18.779Z"
   },
   {
    "duration": 588,
    "start_time": "2022-11-26T12:20:19.032Z"
   },
   {
    "duration": 18,
    "start_time": "2022-11-26T12:20:19.622Z"
   },
   {
    "duration": 20,
    "start_time": "2022-11-26T12:20:19.643Z"
   },
   {
    "duration": 34,
    "start_time": "2022-11-26T12:20:19.665Z"
   },
   {
    "duration": 14,
    "start_time": "2022-11-26T12:20:19.700Z"
   },
   {
    "duration": 25,
    "start_time": "2022-11-26T12:20:19.716Z"
   },
   {
    "duration": 46,
    "start_time": "2022-11-26T12:20:19.744Z"
   },
   {
    "duration": 26,
    "start_time": "2022-11-26T12:20:19.794Z"
   },
   {
    "duration": 13,
    "start_time": "2022-11-26T12:20:19.823Z"
   },
   {
    "duration": 12,
    "start_time": "2022-11-26T12:20:19.839Z"
   },
   {
    "duration": 339,
    "start_time": "2022-11-26T12:20:19.853Z"
   },
   {
    "duration": 561,
    "start_time": "2022-11-26T12:20:20.194Z"
   },
   {
    "duration": 3,
    "start_time": "2022-11-26T12:20:20.757Z"
   },
   {
    "duration": 15,
    "start_time": "2022-11-26T12:20:20.762Z"
   },
   {
    "duration": 6,
    "start_time": "2022-11-26T12:20:20.780Z"
   },
   {
    "duration": 14,
    "start_time": "2022-11-26T12:20:20.788Z"
   },
   {
    "duration": 32,
    "start_time": "2022-11-26T12:20:20.804Z"
   },
   {
    "duration": 10,
    "start_time": "2022-11-26T12:20:20.838Z"
   },
   {
    "duration": 25,
    "start_time": "2022-11-26T12:20:20.850Z"
   },
   {
    "duration": 4,
    "start_time": "2022-11-26T12:20:41.486Z"
   },
   {
    "duration": 17,
    "start_time": "2022-11-26T12:20:44.121Z"
   },
   {
    "duration": 100,
    "start_time": "2022-11-26T12:22:16.792Z"
   },
   {
    "duration": 1315,
    "start_time": "2022-11-26T12:22:36.957Z"
   },
   {
    "duration": 2,
    "start_time": "2022-11-26T12:22:38.275Z"
   },
   {
    "duration": 614,
    "start_time": "2022-11-26T12:22:38.279Z"
   },
   {
    "duration": 4,
    "start_time": "2022-11-26T12:22:38.895Z"
   },
   {
    "duration": 479,
    "start_time": "2022-11-26T12:22:38.901Z"
   },
   {
    "duration": 232,
    "start_time": "2022-11-26T12:22:39.382Z"
   },
   {
    "duration": 488,
    "start_time": "2022-11-26T12:22:39.616Z"
   },
   {
    "duration": 15,
    "start_time": "2022-11-26T12:22:40.106Z"
   },
   {
    "duration": 21,
    "start_time": "2022-11-26T12:22:40.123Z"
   },
   {
    "duration": 32,
    "start_time": "2022-11-26T12:22:40.147Z"
   },
   {
    "duration": 8,
    "start_time": "2022-11-26T12:22:40.180Z"
   },
   {
    "duration": 17,
    "start_time": "2022-11-26T12:22:40.189Z"
   },
   {
    "duration": 23,
    "start_time": "2022-11-26T12:22:40.208Z"
   },
   {
    "duration": 48,
    "start_time": "2022-11-26T12:22:40.232Z"
   },
   {
    "duration": 12,
    "start_time": "2022-11-26T12:22:40.282Z"
   },
   {
    "duration": 6,
    "start_time": "2022-11-26T12:22:40.295Z"
   },
   {
    "duration": 237,
    "start_time": "2022-11-26T12:22:40.302Z"
   },
   {
    "duration": 638,
    "start_time": "2022-11-26T12:22:40.541Z"
   },
   {
    "duration": 3,
    "start_time": "2022-11-26T12:22:41.181Z"
   },
   {
    "duration": 10,
    "start_time": "2022-11-26T12:22:41.185Z"
   },
   {
    "duration": 6,
    "start_time": "2022-11-26T12:22:41.197Z"
   },
   {
    "duration": 22,
    "start_time": "2022-11-26T12:22:41.205Z"
   },
   {
    "duration": 21,
    "start_time": "2022-11-26T12:22:41.228Z"
   },
   {
    "duration": 11,
    "start_time": "2022-11-26T12:22:41.250Z"
   },
   {
    "duration": 18,
    "start_time": "2022-11-26T12:22:41.263Z"
   },
   {
    "duration": 3,
    "start_time": "2022-11-26T12:22:41.283Z"
   },
   {
    "duration": 24,
    "start_time": "2022-11-26T12:22:44.389Z"
   },
   {
    "duration": 114,
    "start_time": "2022-11-26T12:23:58.063Z"
   },
   {
    "duration": 1247,
    "start_time": "2022-11-26T12:24:07.309Z"
   },
   {
    "duration": 2,
    "start_time": "2022-11-26T12:24:08.558Z"
   },
   {
    "duration": 604,
    "start_time": "2022-11-26T12:24:08.562Z"
   },
   {
    "duration": 3,
    "start_time": "2022-11-26T12:24:09.168Z"
   },
   {
    "duration": 444,
    "start_time": "2022-11-26T12:24:09.173Z"
   },
   {
    "duration": 215,
    "start_time": "2022-11-26T12:24:09.619Z"
   },
   {
    "duration": 455,
    "start_time": "2022-11-26T12:24:09.836Z"
   },
   {
    "duration": 16,
    "start_time": "2022-11-26T12:24:10.292Z"
   },
   {
    "duration": 14,
    "start_time": "2022-11-26T12:24:10.310Z"
   },
   {
    "duration": 32,
    "start_time": "2022-11-26T12:24:10.327Z"
   },
   {
    "duration": 17,
    "start_time": "2022-11-26T12:24:10.361Z"
   },
   {
    "duration": 25,
    "start_time": "2022-11-26T12:24:10.380Z"
   },
   {
    "duration": 40,
    "start_time": "2022-11-26T12:24:10.407Z"
   },
   {
    "duration": 33,
    "start_time": "2022-11-26T12:24:10.449Z"
   },
   {
    "duration": 16,
    "start_time": "2022-11-26T12:24:10.484Z"
   },
   {
    "duration": 14,
    "start_time": "2022-11-26T12:24:10.502Z"
   },
   {
    "duration": 228,
    "start_time": "2022-11-26T12:24:10.519Z"
   },
   {
    "duration": 604,
    "start_time": "2022-11-26T12:24:10.749Z"
   },
   {
    "duration": 4,
    "start_time": "2022-11-26T12:24:11.355Z"
   },
   {
    "duration": 7,
    "start_time": "2022-11-26T12:24:11.361Z"
   },
   {
    "duration": 7,
    "start_time": "2022-11-26T12:24:11.381Z"
   },
   {
    "duration": 18,
    "start_time": "2022-11-26T12:24:11.390Z"
   },
   {
    "duration": 16,
    "start_time": "2022-11-26T12:24:11.410Z"
   },
   {
    "duration": 8,
    "start_time": "2022-11-26T12:24:11.428Z"
   },
   {
    "duration": 16,
    "start_time": "2022-11-26T12:24:11.437Z"
   },
   {
    "duration": 4,
    "start_time": "2022-11-26T12:24:11.455Z"
   },
   {
    "duration": 24,
    "start_time": "2022-11-26T12:24:26.790Z"
   },
   {
    "duration": 7,
    "start_time": "2022-11-26T12:24:48.288Z"
   },
   {
    "duration": 446,
    "start_time": "2022-11-26T12:25:27.206Z"
   },
   {
    "duration": 484,
    "start_time": "2022-11-26T12:26:47.094Z"
   },
   {
    "duration": 871,
    "start_time": "2022-11-26T12:26:58.816Z"
   },
   {
    "duration": 784,
    "start_time": "2022-11-26T12:27:37.302Z"
   },
   {
    "duration": 391,
    "start_time": "2022-11-26T12:27:55.489Z"
   },
   {
    "duration": 484,
    "start_time": "2022-11-26T12:28:09.767Z"
   },
   {
    "duration": 423,
    "start_time": "2022-11-26T12:28:13.823Z"
   },
   {
    "duration": 79,
    "start_time": "2022-11-26T12:30:12.639Z"
   },
   {
    "duration": 360,
    "start_time": "2022-11-26T12:30:17.753Z"
   },
   {
    "duration": 531,
    "start_time": "2022-11-26T12:30:25.608Z"
   },
   {
    "duration": 384,
    "start_time": "2022-11-26T12:30:50.783Z"
   },
   {
    "duration": 377,
    "start_time": "2022-11-26T12:32:08.985Z"
   },
   {
    "duration": 375,
    "start_time": "2022-11-26T12:32:27.615Z"
   },
   {
    "duration": 473,
    "start_time": "2022-11-26T12:32:36.592Z"
   },
   {
    "duration": 423,
    "start_time": "2022-11-26T12:32:42.344Z"
   },
   {
    "duration": 441,
    "start_time": "2022-11-26T12:33:03.977Z"
   },
   {
    "duration": 5,
    "start_time": "2022-11-26T12:33:16.818Z"
   },
   {
    "duration": 474,
    "start_time": "2022-11-26T12:33:19.753Z"
   },
   {
    "duration": 72,
    "start_time": "2022-11-26T12:33:57.881Z"
   },
   {
    "duration": 637,
    "start_time": "2022-11-26T12:34:02.400Z"
   },
   {
    "duration": 462,
    "start_time": "2022-11-26T12:34:41.077Z"
   },
   {
    "duration": 75,
    "start_time": "2022-11-26T12:36:31.553Z"
   },
   {
    "duration": 39,
    "start_time": "2022-11-26T12:36:37.793Z"
   },
   {
    "duration": 38,
    "start_time": "2022-11-26T12:36:43.456Z"
   },
   {
    "duration": 39,
    "start_time": "2022-11-26T12:36:53.033Z"
   },
   {
    "duration": 469,
    "start_time": "2022-11-26T12:37:09.289Z"
   },
   {
    "duration": 578,
    "start_time": "2022-11-26T12:37:24.481Z"
   },
   {
    "duration": 472,
    "start_time": "2022-11-26T12:37:44.323Z"
   },
   {
    "duration": 124,
    "start_time": "2022-11-26T12:49:06.171Z"
   },
   {
    "duration": 120,
    "start_time": "2022-11-26T12:49:31.866Z"
   },
   {
    "duration": 148,
    "start_time": "2022-11-26T12:50:06.923Z"
   },
   {
    "duration": 153,
    "start_time": "2022-11-26T12:50:14.188Z"
   },
   {
    "duration": 154,
    "start_time": "2022-11-26T12:50:43.370Z"
   },
   {
    "duration": 3,
    "start_time": "2022-11-26T12:51:19.155Z"
   },
   {
    "duration": 5,
    "start_time": "2022-11-26T13:07:21.910Z"
   },
   {
    "duration": 99,
    "start_time": "2022-11-26T13:07:33.533Z"
   },
   {
    "duration": 12,
    "start_time": "2022-11-26T13:18:17.968Z"
   },
   {
    "duration": 3,
    "start_time": "2022-11-26T13:18:22.087Z"
   },
   {
    "duration": 3,
    "start_time": "2022-11-26T13:20:23.255Z"
   },
   {
    "duration": 5,
    "start_time": "2022-11-26T13:20:27.719Z"
   },
   {
    "duration": 7,
    "start_time": "2022-11-26T13:20:31.407Z"
   },
   {
    "duration": 10,
    "start_time": "2022-11-26T13:20:37.991Z"
   },
   {
    "duration": 1546,
    "start_time": "2022-11-26T13:20:56.120Z"
   },
   {
    "duration": 3,
    "start_time": "2022-11-26T13:20:57.669Z"
   },
   {
    "duration": 611,
    "start_time": "2022-11-26T13:20:57.673Z"
   },
   {
    "duration": 4,
    "start_time": "2022-11-26T13:20:58.288Z"
   },
   {
    "duration": 513,
    "start_time": "2022-11-26T13:20:58.293Z"
   },
   {
    "duration": 246,
    "start_time": "2022-11-26T13:20:58.808Z"
   },
   {
    "duration": 506,
    "start_time": "2022-11-26T13:20:59.056Z"
   },
   {
    "duration": 25,
    "start_time": "2022-11-26T13:20:59.564Z"
   },
   {
    "duration": 13,
    "start_time": "2022-11-26T13:20:59.592Z"
   },
   {
    "duration": 254,
    "start_time": "2022-11-26T13:20:59.608Z"
   },
   {
    "duration": 14,
    "start_time": "2022-11-26T13:20:59.864Z"
   },
   {
    "duration": 22,
    "start_time": "2022-11-26T13:20:59.880Z"
   },
   {
    "duration": 26,
    "start_time": "2022-11-26T13:20:59.904Z"
   },
   {
    "duration": 46,
    "start_time": "2022-11-26T13:20:59.932Z"
   },
   {
    "duration": 13,
    "start_time": "2022-11-26T13:20:59.980Z"
   },
   {
    "duration": 5,
    "start_time": "2022-11-26T13:20:59.995Z"
   },
   {
    "duration": 250,
    "start_time": "2022-11-26T13:21:00.001Z"
   },
   {
    "duration": 631,
    "start_time": "2022-11-26T13:21:00.253Z"
   },
   {
    "duration": 196,
    "start_time": "2022-11-26T13:21:00.886Z"
   },
   {
    "duration": 3,
    "start_time": "2022-11-26T13:21:01.084Z"
   },
   {
    "duration": 35,
    "start_time": "2022-11-26T13:21:01.089Z"
   },
   {
    "duration": 26,
    "start_time": "2022-11-26T13:21:01.127Z"
   },
   {
    "duration": 14,
    "start_time": "2022-11-26T13:21:01.155Z"
   },
   {
    "duration": 18,
    "start_time": "2022-11-26T13:21:01.171Z"
   },
   {
    "duration": 32,
    "start_time": "2022-11-26T13:21:01.191Z"
   },
   {
    "duration": 25,
    "start_time": "2022-11-26T13:21:01.225Z"
   },
   {
    "duration": 24,
    "start_time": "2022-11-26T13:21:01.252Z"
   },
   {
    "duration": 12,
    "start_time": "2022-11-26T13:21:01.280Z"
   },
   {
    "duration": 40,
    "start_time": "2022-11-26T13:21:01.295Z"
   },
   {
    "duration": 34,
    "start_time": "2022-11-26T13:21:01.339Z"
   },
   {
    "duration": 25,
    "start_time": "2022-11-26T13:21:01.375Z"
   },
   {
    "duration": 65,
    "start_time": "2022-11-26T13:21:01.402Z"
   },
   {
    "duration": 34954,
    "start_time": "2022-11-26T13:21:06.017Z"
   },
   {
    "duration": 6,
    "start_time": "2022-11-26T13:22:01.353Z"
   },
   {
    "duration": 35298,
    "start_time": "2022-11-26T13:22:08.487Z"
   },
   {
    "duration": 26209,
    "start_time": "2022-11-26T13:23:04.848Z"
   },
   {
    "duration": 6,
    "start_time": "2022-11-26T13:24:32.000Z"
   },
   {
    "duration": 5,
    "start_time": "2022-11-26T13:25:24.152Z"
   },
   {
    "duration": 26485,
    "start_time": "2022-11-26T13:25:43.138Z"
   },
   {
    "duration": 3,
    "start_time": "2022-11-26T13:27:00.936Z"
   },
   {
    "duration": 5,
    "start_time": "2022-11-26T13:27:03.808Z"
   },
   {
    "duration": 26797,
    "start_time": "2022-11-26T13:27:10.439Z"
   },
   {
    "duration": 26231,
    "start_time": "2022-11-26T13:30:45.024Z"
   },
   {
    "duration": 4,
    "start_time": "2022-11-26T13:32:29.680Z"
   },
   {
    "duration": 26453,
    "start_time": "2022-11-26T13:32:35.457Z"
   },
   {
    "duration": 6,
    "start_time": "2022-11-26T13:33:13.607Z"
   },
   {
    "duration": 92,
    "start_time": "2022-11-26T13:33:59.648Z"
   },
   {
    "duration": 11,
    "start_time": "2022-11-26T13:34:14.281Z"
   },
   {
    "duration": 364,
    "start_time": "2022-11-26T13:34:29.921Z"
   },
   {
    "duration": 1225,
    "start_time": "2022-11-26T13:34:45.954Z"
   },
   {
    "duration": 2611,
    "start_time": "2022-11-26T13:35:16.929Z"
   },
   {
    "duration": 2422,
    "start_time": "2022-11-26T13:35:32.889Z"
   },
   {
    "duration": 3241,
    "start_time": "2022-11-26T13:35:48.833Z"
   },
   {
    "duration": 4,
    "start_time": "2022-11-26T13:36:58.057Z"
   },
   {
    "duration": 14,
    "start_time": "2022-11-26T13:37:36.434Z"
   },
   {
    "duration": 8,
    "start_time": "2022-11-26T13:37:56.966Z"
   },
   {
    "duration": 6,
    "start_time": "2022-11-26T13:38:12.418Z"
   },
   {
    "duration": 7,
    "start_time": "2022-11-26T13:38:16.345Z"
   },
   {
    "duration": 7,
    "start_time": "2022-11-26T13:38:20.585Z"
   },
   {
    "duration": 11,
    "start_time": "2022-11-26T13:38:34.612Z"
   },
   {
    "duration": 13,
    "start_time": "2022-11-26T13:39:19.996Z"
   },
   {
    "duration": 1353,
    "start_time": "2022-11-26T13:39:43.409Z"
   },
   {
    "duration": 3,
    "start_time": "2022-11-26T13:39:44.764Z"
   },
   {
    "duration": 630,
    "start_time": "2022-11-26T13:39:44.768Z"
   },
   {
    "duration": 3,
    "start_time": "2022-11-26T13:39:45.400Z"
   },
   {
    "duration": 478,
    "start_time": "2022-11-26T13:39:45.405Z"
   },
   {
    "duration": 217,
    "start_time": "2022-11-26T13:39:45.885Z"
   },
   {
    "duration": 462,
    "start_time": "2022-11-26T13:39:46.103Z"
   },
   {
    "duration": 23,
    "start_time": "2022-11-26T13:39:46.566Z"
   },
   {
    "duration": 13,
    "start_time": "2022-11-26T13:39:46.591Z"
   },
   {
    "duration": 16,
    "start_time": "2022-11-26T13:39:46.607Z"
   },
   {
    "duration": 8,
    "start_time": "2022-11-26T13:39:46.625Z"
   },
   {
    "duration": 49,
    "start_time": "2022-11-26T13:39:46.634Z"
   },
   {
    "duration": 23,
    "start_time": "2022-11-26T13:39:46.684Z"
   },
   {
    "duration": 20,
    "start_time": "2022-11-26T13:39:46.709Z"
   },
   {
    "duration": 11,
    "start_time": "2022-11-26T13:39:46.731Z"
   },
   {
    "duration": 35,
    "start_time": "2022-11-26T13:39:46.744Z"
   },
   {
    "duration": 219,
    "start_time": "2022-11-26T13:39:46.781Z"
   },
   {
    "duration": 547,
    "start_time": "2022-11-26T13:39:47.002Z"
   },
   {
    "duration": 148,
    "start_time": "2022-11-26T13:39:47.551Z"
   },
   {
    "duration": 4,
    "start_time": "2022-11-26T13:39:47.701Z"
   },
   {
    "duration": 12,
    "start_time": "2022-11-26T13:39:47.706Z"
   },
   {
    "duration": 15,
    "start_time": "2022-11-26T13:39:47.719Z"
   },
   {
    "duration": 6,
    "start_time": "2022-11-26T13:39:47.736Z"
   },
   {
    "duration": 8,
    "start_time": "2022-11-26T13:39:47.743Z"
   },
   {
    "duration": 17,
    "start_time": "2022-11-26T13:39:47.753Z"
   },
   {
    "duration": 31,
    "start_time": "2022-11-26T13:39:47.771Z"
   },
   {
    "duration": 8,
    "start_time": "2022-11-26T13:39:47.804Z"
   },
   {
    "duration": 18,
    "start_time": "2022-11-26T13:39:47.814Z"
   },
   {
    "duration": 9,
    "start_time": "2022-11-26T13:39:47.833Z"
   },
   {
    "duration": 27,
    "start_time": "2022-11-26T13:39:47.843Z"
   },
   {
    "duration": 21,
    "start_time": "2022-11-26T13:39:47.871Z"
   },
   {
    "duration": 15,
    "start_time": "2022-11-26T13:39:47.894Z"
   },
   {
    "duration": 46,
    "start_time": "2022-11-26T13:39:47.911Z"
   },
   {
    "duration": 3398,
    "start_time": "2022-11-26T13:40:45.364Z"
   },
   {
    "duration": 8,
    "start_time": "2022-11-26T13:42:01.619Z"
   },
   {
    "duration": 769,
    "start_time": "2022-11-26T13:42:11.387Z"
   },
   {
    "duration": 920,
    "start_time": "2022-11-26T13:42:26.883Z"
   },
   {
    "duration": 32993,
    "start_time": "2022-11-26T13:42:50.419Z"
   },
   {
    "duration": 57844,
    "start_time": "2022-11-26T13:44:02.804Z"
   },
   {
    "duration": 3,
    "start_time": "2022-11-26T13:45:50.987Z"
   },
   {
    "duration": 857,
    "start_time": "2022-11-26T13:45:59.124Z"
   },
   {
    "duration": 3,
    "start_time": "2022-11-26T13:46:32.619Z"
   },
   {
    "duration": 6,
    "start_time": "2022-11-26T13:47:39.244Z"
   },
   {
    "duration": 757,
    "start_time": "2022-11-26T13:47:44.996Z"
   },
   {
    "duration": 3117,
    "start_time": "2022-11-26T13:48:04.524Z"
   },
   {
    "duration": 5,
    "start_time": "2022-11-26T13:49:48.468Z"
   },
   {
    "duration": 182,
    "start_time": "2022-11-26T13:49:52.484Z"
   },
   {
    "duration": 4,
    "start_time": "2022-11-26T13:50:19.428Z"
   },
   {
    "duration": 5,
    "start_time": "2022-11-26T13:50:49.525Z"
   },
   {
    "duration": 3159,
    "start_time": "2022-11-26T13:50:54.997Z"
   },
   {
    "duration": 3,
    "start_time": "2022-11-26T13:53:40.317Z"
   },
   {
    "duration": 11,
    "start_time": "2022-11-26T13:54:04.844Z"
   },
   {
    "duration": 9,
    "start_time": "2022-11-26T13:54:15.548Z"
   },
   {
    "duration": 4,
    "start_time": "2022-11-26T13:54:23.613Z"
   },
   {
    "duration": 4,
    "start_time": "2022-11-26T13:54:29.036Z"
   },
   {
    "duration": 4,
    "start_time": "2022-11-26T13:55:42.581Z"
   },
   {
    "duration": 5,
    "start_time": "2022-11-26T13:56:06.889Z"
   },
   {
    "duration": 3271,
    "start_time": "2022-11-26T13:56:11.653Z"
   },
   {
    "duration": 6009,
    "start_time": "2022-11-26T13:56:22.662Z"
   },
   {
    "duration": 22049,
    "start_time": "2022-11-26T13:56:43.598Z"
   },
   {
    "duration": 6,
    "start_time": "2022-11-26T13:57:21.846Z"
   },
   {
    "duration": 21813,
    "start_time": "2022-11-26T13:57:31.133Z"
   },
   {
    "duration": 3,
    "start_time": "2022-11-26T13:58:16.440Z"
   },
   {
    "duration": 21432,
    "start_time": "2022-11-26T13:58:25.478Z"
   },
   {
    "duration": 11,
    "start_time": "2022-11-26T13:59:34.774Z"
   },
   {
    "duration": 8,
    "start_time": "2022-11-26T14:00:01.984Z"
   },
   {
    "duration": 21647,
    "start_time": "2022-11-26T14:00:07.599Z"
   },
   {
    "duration": 40304,
    "start_time": "2022-11-26T14:01:48.831Z"
   },
   {
    "duration": 57293,
    "start_time": "2022-11-26T14:04:04.512Z"
   },
   {
    "duration": 79447,
    "start_time": "2022-11-26T14:05:30.555Z"
   },
   {
    "duration": 385516,
    "start_time": "2022-11-26T14:07:21.521Z"
   },
   {
    "duration": 242988,
    "start_time": "2022-11-26T14:15:08.061Z"
   },
   {
    "duration": 50168,
    "start_time": "2022-11-26T14:19:48.844Z"
   },
   {
    "duration": 367603,
    "start_time": "2022-11-26T14:20:45.526Z"
   },
   {
    "duration": 484955,
    "start_time": "2022-11-26T14:26:58.023Z"
   },
   {
    "duration": 368,
    "start_time": "2022-11-26T14:36:29.016Z"
   },
   {
    "duration": 1306,
    "start_time": "2022-11-26T14:36:32.176Z"
   },
   {
    "duration": 12037,
    "start_time": "2022-11-26T14:38:23.774Z"
   },
   {
    "duration": 14259,
    "start_time": "2022-11-26T14:38:58.373Z"
   },
   {
    "duration": 12,
    "start_time": "2022-11-26T14:44:57.313Z"
   },
   {
    "duration": 241,
    "start_time": "2022-11-26T14:45:21.234Z"
   },
   {
    "duration": 212,
    "start_time": "2022-11-26T14:45:39.162Z"
   },
   {
    "duration": 5444,
    "start_time": "2022-11-26T14:46:14.323Z"
   },
   {
    "duration": 5230,
    "start_time": "2022-11-26T14:47:04.178Z"
   },
   {
    "duration": 5340,
    "start_time": "2022-11-26T14:47:15.257Z"
   },
   {
    "duration": 5254,
    "start_time": "2022-11-26T14:47:30.618Z"
   },
   {
    "duration": 1465,
    "start_time": "2022-11-26T14:47:59.257Z"
   },
   {
    "duration": 3,
    "start_time": "2022-11-26T14:48:00.724Z"
   },
   {
    "duration": 684,
    "start_time": "2022-11-26T14:48:00.728Z"
   },
   {
    "duration": 4,
    "start_time": "2022-11-26T14:48:01.414Z"
   },
   {
    "duration": 516,
    "start_time": "2022-11-26T14:48:01.419Z"
   },
   {
    "duration": 262,
    "start_time": "2022-11-26T14:48:01.937Z"
   },
   {
    "duration": 556,
    "start_time": "2022-11-26T14:48:02.201Z"
   },
   {
    "duration": 24,
    "start_time": "2022-11-26T14:48:02.759Z"
   },
   {
    "duration": 20,
    "start_time": "2022-11-26T14:48:02.785Z"
   },
   {
    "duration": 40,
    "start_time": "2022-11-26T14:48:02.809Z"
   },
   {
    "duration": 10,
    "start_time": "2022-11-26T14:48:02.851Z"
   },
   {
    "duration": 35,
    "start_time": "2022-11-26T14:48:02.863Z"
   },
   {
    "duration": 41,
    "start_time": "2022-11-26T14:48:02.899Z"
   },
   {
    "duration": 22,
    "start_time": "2022-11-26T14:48:02.942Z"
   },
   {
    "duration": 22,
    "start_time": "2022-11-26T14:48:02.966Z"
   },
   {
    "duration": 10,
    "start_time": "2022-11-26T14:48:02.990Z"
   },
   {
    "duration": 218,
    "start_time": "2022-11-26T14:48:03.002Z"
   },
   {
    "duration": 519,
    "start_time": "2022-11-26T14:48:03.222Z"
   },
   {
    "duration": 150,
    "start_time": "2022-11-26T14:48:03.742Z"
   },
   {
    "duration": 4,
    "start_time": "2022-11-26T14:48:03.893Z"
   },
   {
    "duration": 15,
    "start_time": "2022-11-26T14:48:03.899Z"
   },
   {
    "duration": 16,
    "start_time": "2022-11-26T14:48:03.916Z"
   },
   {
    "duration": 16,
    "start_time": "2022-11-26T14:48:03.935Z"
   },
   {
    "duration": 10,
    "start_time": "2022-11-26T14:48:03.952Z"
   },
   {
    "duration": 16,
    "start_time": "2022-11-26T14:48:03.964Z"
   },
   {
    "duration": 24,
    "start_time": "2022-11-26T14:48:03.982Z"
   },
   {
    "duration": 15,
    "start_time": "2022-11-26T14:48:04.008Z"
   },
   {
    "duration": 23,
    "start_time": "2022-11-26T14:48:04.027Z"
   },
   {
    "duration": 13,
    "start_time": "2022-11-26T14:48:04.052Z"
   },
   {
    "duration": 33,
    "start_time": "2022-11-26T14:48:04.067Z"
   },
   {
    "duration": 14,
    "start_time": "2022-11-26T14:48:04.102Z"
   },
   {
    "duration": 21,
    "start_time": "2022-11-26T14:48:04.118Z"
   },
   {
    "duration": 39,
    "start_time": "2022-11-26T14:48:04.140Z"
   },
   {
    "duration": 101,
    "start_time": "2022-11-26T14:48:11.923Z"
   },
   {
    "duration": 12312,
    "start_time": "2022-11-26T14:48:36.827Z"
   },
   {
    "duration": 234,
    "start_time": "2022-11-26T14:49:19.987Z"
   },
   {
    "duration": 213,
    "start_time": "2022-11-26T14:49:26.830Z"
   },
   {
    "duration": 215,
    "start_time": "2022-11-26T14:49:40.794Z"
   },
   {
    "duration": 227,
    "start_time": "2022-11-26T14:49:56.355Z"
   },
   {
    "duration": 209,
    "start_time": "2022-11-26T14:50:06.442Z"
   },
   {
    "duration": 204,
    "start_time": "2022-11-26T14:50:15.844Z"
   },
   {
    "duration": 205,
    "start_time": "2022-11-26T14:50:25.274Z"
   },
   {
    "duration": 198,
    "start_time": "2022-11-26T14:50:38.627Z"
   },
   {
    "duration": 11,
    "start_time": "2022-11-26T14:52:09.547Z"
   },
   {
    "duration": 13,
    "start_time": "2022-11-26T14:52:28.772Z"
   },
   {
    "duration": 216,
    "start_time": "2022-11-26T14:52:45.364Z"
   },
   {
    "duration": 209,
    "start_time": "2022-11-26T14:53:06.395Z"
   },
   {
    "duration": 12,
    "start_time": "2022-11-26T14:53:22.571Z"
   },
   {
    "duration": 3,
    "start_time": "2022-11-26T14:53:59.108Z"
   },
   {
    "duration": 3,
    "start_time": "2022-11-26T14:54:22.675Z"
   },
   {
    "duration": 4,
    "start_time": "2022-11-26T14:55:23.187Z"
   },
   {
    "duration": 213,
    "start_time": "2022-11-26T14:55:49.757Z"
   },
   {
    "duration": 242,
    "start_time": "2022-11-26T14:56:15.507Z"
   },
   {
    "duration": 219,
    "start_time": "2022-11-26T14:56:23.101Z"
   },
   {
    "duration": 215,
    "start_time": "2022-11-26T14:56:31.188Z"
   },
   {
    "duration": 209,
    "start_time": "2022-11-26T14:56:35.804Z"
   },
   {
    "duration": 232,
    "start_time": "2022-11-26T14:56:46.477Z"
   },
   {
    "duration": 232,
    "start_time": "2022-11-26T14:56:56.577Z"
   },
   {
    "duration": 254,
    "start_time": "2022-11-26T14:57:00.317Z"
   },
   {
    "duration": 3,
    "start_time": "2022-11-26T14:57:52.444Z"
   },
   {
    "duration": 243,
    "start_time": "2022-11-26T14:57:59.020Z"
   },
   {
    "duration": 219,
    "start_time": "2022-11-26T14:58:16.837Z"
   },
   {
    "duration": 206,
    "start_time": "2022-11-26T14:58:49.817Z"
   },
   {
    "duration": 8,
    "start_time": "2022-11-26T15:00:13.877Z"
   },
   {
    "duration": 4,
    "start_time": "2022-11-26T15:00:35.901Z"
   },
   {
    "duration": 5,
    "start_time": "2022-11-26T15:01:03.172Z"
   },
   {
    "duration": 3,
    "start_time": "2022-11-26T15:01:07.372Z"
   },
   {
    "duration": 5,
    "start_time": "2022-11-26T15:01:08.693Z"
   },
   {
    "duration": 4,
    "start_time": "2022-11-26T15:01:54.509Z"
   },
   {
    "duration": 6,
    "start_time": "2022-11-26T15:01:55.805Z"
   },
   {
    "duration": 223,
    "start_time": "2022-11-26T15:02:07.764Z"
   },
   {
    "duration": 4,
    "start_time": "2022-11-26T15:02:58.548Z"
   },
   {
    "duration": 238,
    "start_time": "2022-11-26T15:03:05.525Z"
   },
   {
    "duration": 3,
    "start_time": "2022-11-26T15:03:44.903Z"
   },
   {
    "duration": 7,
    "start_time": "2022-11-26T15:03:48.647Z"
   },
   {
    "duration": 249,
    "start_time": "2022-11-26T15:03:55.237Z"
   },
   {
    "duration": 73169,
    "start_time": "2022-11-26T15:04:28.197Z"
   },
   {
    "duration": 5390,
    "start_time": "2022-11-26T15:07:20.390Z"
   },
   {
    "duration": 3,
    "start_time": "2022-11-26T15:07:53.124Z"
   },
   {
    "duration": 3,
    "start_time": "2022-11-26T15:08:10.300Z"
   },
   {
    "duration": 3,
    "start_time": "2022-11-26T15:08:25.276Z"
   },
   {
    "duration": 5248,
    "start_time": "2022-11-26T15:08:33.243Z"
   },
   {
    "duration": 4,
    "start_time": "2022-11-26T15:12:30.099Z"
   },
   {
    "duration": 15,
    "start_time": "2022-11-26T15:17:08.498Z"
   },
   {
    "duration": 1435,
    "start_time": "2022-11-26T15:18:19.095Z"
   },
   {
    "duration": 3,
    "start_time": "2022-11-26T15:18:20.532Z"
   },
   {
    "duration": 703,
    "start_time": "2022-11-26T15:18:20.536Z"
   },
   {
    "duration": 4,
    "start_time": "2022-11-26T15:18:21.242Z"
   },
   {
    "duration": 535,
    "start_time": "2022-11-26T15:18:21.248Z"
   },
   {
    "duration": 234,
    "start_time": "2022-11-26T15:18:21.784Z"
   },
   {
    "duration": 445,
    "start_time": "2022-11-26T15:18:22.020Z"
   },
   {
    "duration": 22,
    "start_time": "2022-11-26T15:18:22.467Z"
   },
   {
    "duration": 13,
    "start_time": "2022-11-26T15:18:22.491Z"
   },
   {
    "duration": 15,
    "start_time": "2022-11-26T15:18:22.507Z"
   },
   {
    "duration": 9,
    "start_time": "2022-11-26T15:18:22.524Z"
   },
   {
    "duration": 48,
    "start_time": "2022-11-26T15:18:22.535Z"
   },
   {
    "duration": 27,
    "start_time": "2022-11-26T15:18:22.585Z"
   },
   {
    "duration": 23,
    "start_time": "2022-11-26T15:18:22.614Z"
   },
   {
    "duration": 43,
    "start_time": "2022-11-26T15:18:22.639Z"
   },
   {
    "duration": 6,
    "start_time": "2022-11-26T15:18:22.684Z"
   },
   {
    "duration": 224,
    "start_time": "2022-11-26T15:18:22.692Z"
   },
   {
    "duration": 550,
    "start_time": "2022-11-26T15:18:22.918Z"
   },
   {
    "duration": 175,
    "start_time": "2022-11-26T15:18:23.471Z"
   },
   {
    "duration": 3,
    "start_time": "2022-11-26T15:18:23.648Z"
   },
   {
    "duration": 9,
    "start_time": "2022-11-26T15:18:23.653Z"
   },
   {
    "duration": 7,
    "start_time": "2022-11-26T15:18:23.664Z"
   },
   {
    "duration": 3,
    "start_time": "2022-11-26T15:18:23.678Z"
   },
   {
    "duration": 7,
    "start_time": "2022-11-26T15:18:23.683Z"
   },
   {
    "duration": 10,
    "start_time": "2022-11-26T15:18:23.692Z"
   },
   {
    "duration": 17,
    "start_time": "2022-11-26T15:18:23.704Z"
   },
   {
    "duration": 10,
    "start_time": "2022-11-26T15:18:23.723Z"
   },
   {
    "duration": 15,
    "start_time": "2022-11-26T15:18:23.736Z"
   },
   {
    "duration": 4,
    "start_time": "2022-11-26T15:18:23.778Z"
   },
   {
    "duration": 28,
    "start_time": "2022-11-26T15:18:23.784Z"
   },
   {
    "duration": 13,
    "start_time": "2022-11-26T15:18:23.813Z"
   },
   {
    "duration": 12,
    "start_time": "2022-11-26T15:18:23.828Z"
   },
   {
    "duration": 58,
    "start_time": "2022-11-26T15:18:23.842Z"
   },
   {
    "duration": 110,
    "start_time": "2022-11-26T15:18:33.041Z"
   },
   {
    "duration": 3,
    "start_time": "2022-11-26T15:26:33.993Z"
   },
   {
    "duration": 53,
    "start_time": "2022-11-26T22:20:22.627Z"
   },
   {
    "duration": 1584,
    "start_time": "2022-11-26T22:25:10.273Z"
   },
   {
    "duration": 2,
    "start_time": "2022-11-26T22:25:11.860Z"
   },
   {
    "duration": 1934,
    "start_time": "2022-11-26T22:25:11.864Z"
   },
   {
    "duration": 4,
    "start_time": "2022-11-26T22:25:13.800Z"
   },
   {
    "duration": 520,
    "start_time": "2022-11-26T22:25:13.806Z"
   },
   {
    "duration": 238,
    "start_time": "2022-11-26T22:25:14.328Z"
   },
   {
    "duration": 499,
    "start_time": "2022-11-26T22:25:14.568Z"
   },
   {
    "duration": 21,
    "start_time": "2022-11-26T22:25:15.068Z"
   },
   {
    "duration": 14,
    "start_time": "2022-11-26T22:25:15.091Z"
   },
   {
    "duration": 18,
    "start_time": "2022-11-26T22:25:15.107Z"
   },
   {
    "duration": 32,
    "start_time": "2022-11-26T22:25:15.126Z"
   },
   {
    "duration": 19,
    "start_time": "2022-11-26T22:25:15.160Z"
   },
   {
    "duration": 30,
    "start_time": "2022-11-26T22:25:15.181Z"
   },
   {
    "duration": 53,
    "start_time": "2022-11-26T22:25:15.215Z"
   },
   {
    "duration": 14,
    "start_time": "2022-11-26T22:25:15.270Z"
   },
   {
    "duration": 5,
    "start_time": "2022-11-26T22:25:15.287Z"
   },
   {
    "duration": 275,
    "start_time": "2022-11-26T22:25:15.294Z"
   },
   {
    "duration": 598,
    "start_time": "2022-11-26T22:25:15.572Z"
   },
   {
    "duration": 182,
    "start_time": "2022-11-26T22:25:16.172Z"
   },
   {
    "duration": 5,
    "start_time": "2022-11-26T22:25:16.356Z"
   },
   {
    "duration": 9,
    "start_time": "2022-11-26T22:25:16.363Z"
   },
   {
    "duration": 5,
    "start_time": "2022-11-26T22:25:16.375Z"
   },
   {
    "duration": 9,
    "start_time": "2022-11-26T22:25:16.382Z"
   },
   {
    "duration": 14,
    "start_time": "2022-11-26T22:25:16.393Z"
   },
   {
    "duration": 41,
    "start_time": "2022-11-26T22:25:16.410Z"
   },
   {
    "duration": 4,
    "start_time": "2022-11-26T22:25:16.453Z"
   },
   {
    "duration": 17,
    "start_time": "2022-11-26T22:25:16.459Z"
   },
   {
    "duration": 6,
    "start_time": "2022-11-26T22:25:16.478Z"
   },
   {
    "duration": 28,
    "start_time": "2022-11-26T22:25:16.485Z"
   },
   {
    "duration": 38,
    "start_time": "2022-11-26T22:25:16.515Z"
   },
   {
    "duration": 13,
    "start_time": "2022-11-26T22:25:16.555Z"
   },
   {
    "duration": 38,
    "start_time": "2022-11-26T22:25:16.570Z"
   },
   {
    "duration": 1011,
    "start_time": "2022-11-26T22:26:35.840Z"
   },
   {
    "duration": 1534,
    "start_time": "2022-11-26T22:26:38.119Z"
   },
   {
    "duration": 14027,
    "start_time": "2022-11-26T22:26:52.875Z"
   },
   {
    "duration": 87160,
    "start_time": "2022-11-26T22:27:24.632Z"
   },
   {
    "duration": 5961,
    "start_time": "2022-11-26T22:28:51.794Z"
   },
   {
    "duration": 5982,
    "start_time": "2022-11-26T22:28:58.083Z"
   },
   {
    "duration": 77,
    "start_time": "2022-11-26T22:29:12.495Z"
   },
   {
    "duration": 7,
    "start_time": "2022-11-26T22:30:01.577Z"
   },
   {
    "duration": 8,
    "start_time": "2022-11-26T22:43:43.471Z"
   },
   {
    "duration": 74,
    "start_time": "2022-11-26T22:57:17.487Z"
   },
   {
    "duration": 5,
    "start_time": "2022-11-26T22:57:37.569Z"
   },
   {
    "duration": 14,
    "start_time": "2022-11-26T22:58:27.389Z"
   },
   {
    "duration": 4,
    "start_time": "2022-11-26T22:58:55.054Z"
   },
   {
    "duration": 7,
    "start_time": "2022-11-26T22:58:57.398Z"
   },
   {
    "duration": 9,
    "start_time": "2022-11-26T22:59:09.871Z"
   },
   {
    "duration": 8,
    "start_time": "2022-11-26T23:01:56.079Z"
   },
   {
    "duration": 18,
    "start_time": "2022-11-26T23:02:01.990Z"
   },
   {
    "duration": 13,
    "start_time": "2022-11-26T23:02:29.048Z"
   },
   {
    "duration": 5,
    "start_time": "2022-11-26T23:02:41.284Z"
   },
   {
    "duration": 11,
    "start_time": "2022-11-26T23:03:41.799Z"
   },
   {
    "duration": 1444,
    "start_time": "2022-11-26T23:04:02.846Z"
   },
   {
    "duration": 3,
    "start_time": "2022-11-26T23:04:04.292Z"
   },
   {
    "duration": 738,
    "start_time": "2022-11-26T23:04:04.296Z"
   },
   {
    "duration": 4,
    "start_time": "2022-11-26T23:04:05.036Z"
   },
   {
    "duration": 490,
    "start_time": "2022-11-26T23:04:05.051Z"
   },
   {
    "duration": 242,
    "start_time": "2022-11-26T23:04:05.543Z"
   },
   {
    "duration": 499,
    "start_time": "2022-11-26T23:04:05.787Z"
   },
   {
    "duration": 15,
    "start_time": "2022-11-26T23:04:06.288Z"
   },
   {
    "duration": 13,
    "start_time": "2022-11-26T23:04:06.305Z"
   },
   {
    "duration": 38,
    "start_time": "2022-11-26T23:04:06.320Z"
   },
   {
    "duration": 7,
    "start_time": "2022-11-26T23:04:06.360Z"
   },
   {
    "duration": 17,
    "start_time": "2022-11-26T23:04:06.369Z"
   },
   {
    "duration": 25,
    "start_time": "2022-11-26T23:04:06.388Z"
   },
   {
    "duration": 48,
    "start_time": "2022-11-26T23:04:06.414Z"
   },
   {
    "duration": 12,
    "start_time": "2022-11-26T23:04:06.463Z"
   },
   {
    "duration": 6,
    "start_time": "2022-11-26T23:04:06.476Z"
   },
   {
    "duration": 244,
    "start_time": "2022-11-26T23:04:06.484Z"
   },
   {
    "duration": 587,
    "start_time": "2022-11-26T23:04:06.729Z"
   },
   {
    "duration": 173,
    "start_time": "2022-11-26T23:04:07.317Z"
   },
   {
    "duration": 5,
    "start_time": "2022-11-26T23:04:19.497Z"
   },
   {
    "duration": 112,
    "start_time": "2022-11-26T23:04:23.352Z"
   },
   {
    "duration": 5,
    "start_time": "2022-11-26T23:05:02.269Z"
   },
   {
    "duration": 15,
    "start_time": "2022-11-26T23:05:04.625Z"
   },
   {
    "duration": 5,
    "start_time": "2022-11-26T23:05:08.897Z"
   },
   {
    "duration": 5,
    "start_time": "2022-11-26T23:05:11.625Z"
   },
   {
    "duration": 14,
    "start_time": "2022-11-26T23:05:22.257Z"
   },
   {
    "duration": 5,
    "start_time": "2022-11-26T23:05:31.625Z"
   },
   {
    "duration": 12,
    "start_time": "2022-11-26T23:05:33.341Z"
   },
   {
    "duration": 5,
    "start_time": "2022-11-26T23:06:00.273Z"
   },
   {
    "duration": 16,
    "start_time": "2022-11-26T23:06:03.330Z"
   },
   {
    "duration": 19,
    "start_time": "2022-11-26T23:06:11.417Z"
   },
   {
    "duration": 779,
    "start_time": "2022-11-26T23:06:23.297Z"
   },
   {
    "duration": 1124,
    "start_time": "2022-11-26T23:06:45.850Z"
   },
   {
    "duration": 969,
    "start_time": "2022-11-26T23:07:08.330Z"
   },
   {
    "duration": 1153,
    "start_time": "2022-11-26T23:08:19.707Z"
   },
   {
    "duration": 950,
    "start_time": "2022-11-26T23:08:39.818Z"
   },
   {
    "duration": 717,
    "start_time": "2022-11-26T23:09:00.594Z"
   },
   {
    "duration": 915,
    "start_time": "2022-11-26T23:09:16.578Z"
   },
   {
    "duration": 1047,
    "start_time": "2022-11-26T23:09:27.019Z"
   },
   {
    "duration": 1085,
    "start_time": "2022-11-26T23:09:39.019Z"
   },
   {
    "duration": 1245,
    "start_time": "2022-11-26T23:09:52.251Z"
   },
   {
    "duration": 17,
    "start_time": "2022-11-26T23:13:16.491Z"
   },
   {
    "duration": 15,
    "start_time": "2022-11-26T23:14:14.572Z"
   },
   {
    "duration": 17,
    "start_time": "2022-11-26T23:14:23.756Z"
   },
   {
    "duration": 12,
    "start_time": "2022-11-26T23:17:09.212Z"
   },
   {
    "duration": 20,
    "start_time": "2022-11-26T23:17:17.708Z"
   },
   {
    "duration": 17,
    "start_time": "2022-11-26T23:17:32.029Z"
   },
   {
    "duration": 15,
    "start_time": "2022-11-26T23:17:37.685Z"
   },
   {
    "duration": 14,
    "start_time": "2022-11-26T23:17:54.125Z"
   },
   {
    "duration": 19,
    "start_time": "2022-11-26T23:18:22.701Z"
   },
   {
    "duration": 21,
    "start_time": "2022-11-26T23:18:30.741Z"
   },
   {
    "duration": 20,
    "start_time": "2022-11-26T23:18:46.670Z"
   },
   {
    "duration": 5,
    "start_time": "2022-11-26T23:19:09.757Z"
   },
   {
    "duration": 16,
    "start_time": "2022-11-26T23:19:29.638Z"
   },
   {
    "duration": 17,
    "start_time": "2022-11-26T23:19:43.071Z"
   },
   {
    "duration": 102,
    "start_time": "2022-11-26T23:20:08.478Z"
   },
   {
    "duration": 28,
    "start_time": "2022-11-26T23:20:40.770Z"
   },
   {
    "duration": 13,
    "start_time": "2022-11-26T23:20:51.816Z"
   },
   {
    "duration": 17,
    "start_time": "2022-11-26T23:21:04.677Z"
   },
   {
    "duration": 17,
    "start_time": "2022-11-26T23:21:15.559Z"
   },
   {
    "duration": 4,
    "start_time": "2022-11-26T23:21:40.158Z"
   },
   {
    "duration": 4,
    "start_time": "2022-11-26T23:21:57.005Z"
   },
   {
    "duration": 4,
    "start_time": "2022-11-26T23:22:07.375Z"
   },
   {
    "duration": 1368,
    "start_time": "2022-11-26T23:22:33.109Z"
   },
   {
    "duration": 3,
    "start_time": "2022-11-26T23:22:34.478Z"
   },
   {
    "duration": 722,
    "start_time": "2022-11-26T23:22:34.483Z"
   },
   {
    "duration": 4,
    "start_time": "2022-11-26T23:22:35.208Z"
   },
   {
    "duration": 498,
    "start_time": "2022-11-26T23:22:35.213Z"
   },
   {
    "duration": 225,
    "start_time": "2022-11-26T23:22:35.713Z"
   },
   {
    "duration": 486,
    "start_time": "2022-11-26T23:22:35.940Z"
   },
   {
    "duration": 24,
    "start_time": "2022-11-26T23:22:36.427Z"
   },
   {
    "duration": 13,
    "start_time": "2022-11-26T23:22:36.452Z"
   },
   {
    "duration": 16,
    "start_time": "2022-11-26T23:22:36.468Z"
   },
   {
    "duration": 8,
    "start_time": "2022-11-26T23:22:36.486Z"
   },
   {
    "duration": 19,
    "start_time": "2022-11-26T23:22:36.495Z"
   },
   {
    "duration": 57,
    "start_time": "2022-11-26T23:22:36.515Z"
   },
   {
    "duration": 21,
    "start_time": "2022-11-26T23:22:36.574Z"
   },
   {
    "duration": 12,
    "start_time": "2022-11-26T23:22:36.596Z"
   },
   {
    "duration": 7,
    "start_time": "2022-11-26T23:22:36.609Z"
   },
   {
    "duration": 254,
    "start_time": "2022-11-26T23:22:36.618Z"
   },
   {
    "duration": 582,
    "start_time": "2022-11-26T23:22:36.874Z"
   },
   {
    "duration": 169,
    "start_time": "2022-11-26T23:22:37.457Z"
   },
   {
    "duration": 5,
    "start_time": "2022-11-26T23:22:37.628Z"
   },
   {
    "duration": 911,
    "start_time": "2022-11-26T23:22:37.634Z"
   },
   {
    "duration": 115,
    "start_time": "2022-11-26T23:23:44.169Z"
   },
   {
    "duration": 20,
    "start_time": "2022-11-26T23:23:46.070Z"
   },
   {
    "duration": 5,
    "start_time": "2022-11-26T23:23:49.021Z"
   },
   {
    "duration": 11,
    "start_time": "2022-11-26T23:25:10.918Z"
   },
   {
    "duration": 16,
    "start_time": "2022-11-26T23:26:48.552Z"
   },
   {
    "duration": 1438,
    "start_time": "2022-11-26T23:33:35.648Z"
   },
   {
    "duration": 3,
    "start_time": "2022-11-26T23:33:37.088Z"
   },
   {
    "duration": 715,
    "start_time": "2022-11-26T23:33:37.092Z"
   },
   {
    "duration": 4,
    "start_time": "2022-11-26T23:33:37.809Z"
   },
   {
    "duration": 492,
    "start_time": "2022-11-26T23:33:37.814Z"
   },
   {
    "duration": 251,
    "start_time": "2022-11-26T23:33:38.308Z"
   },
   {
    "duration": 497,
    "start_time": "2022-11-26T23:33:38.561Z"
   },
   {
    "duration": 20,
    "start_time": "2022-11-26T23:33:39.061Z"
   },
   {
    "duration": 12,
    "start_time": "2022-11-26T23:33:39.083Z"
   },
   {
    "duration": 16,
    "start_time": "2022-11-26T23:33:39.098Z"
   },
   {
    "duration": 36,
    "start_time": "2022-11-26T23:33:39.116Z"
   },
   {
    "duration": 25,
    "start_time": "2022-11-26T23:33:39.155Z"
   },
   {
    "duration": 36,
    "start_time": "2022-11-26T23:33:39.182Z"
   },
   {
    "duration": 41,
    "start_time": "2022-11-26T23:33:39.220Z"
   },
   {
    "duration": 12,
    "start_time": "2022-11-26T23:33:39.263Z"
   },
   {
    "duration": 5,
    "start_time": "2022-11-26T23:33:39.277Z"
   },
   {
    "duration": 266,
    "start_time": "2022-11-26T23:33:39.284Z"
   },
   {
    "duration": 766,
    "start_time": "2022-11-26T23:33:39.552Z"
   },
   {
    "duration": 191,
    "start_time": "2022-11-26T23:33:40.320Z"
   },
   {
    "duration": 9,
    "start_time": "2022-11-26T23:33:40.513Z"
   },
   {
    "duration": 1088,
    "start_time": "2022-11-26T23:33:40.524Z"
   },
   {
    "duration": 22,
    "start_time": "2022-11-26T23:33:41.615Z"
   },
   {
    "duration": 16,
    "start_time": "2022-11-26T23:33:41.651Z"
   },
   {
    "duration": 7,
    "start_time": "2022-11-26T23:33:41.669Z"
   },
   {
    "duration": 13,
    "start_time": "2022-11-26T23:33:41.679Z"
   },
   {
    "duration": 6,
    "start_time": "2022-11-26T23:33:41.695Z"
   },
   {
    "duration": 13,
    "start_time": "2022-11-26T23:33:41.704Z"
   },
   {
    "duration": 32,
    "start_time": "2022-11-26T23:33:41.722Z"
   },
   {
    "duration": 24,
    "start_time": "2022-11-26T23:33:41.757Z"
   },
   {
    "duration": 12,
    "start_time": "2022-11-26T23:33:41.783Z"
   },
   {
    "duration": 18,
    "start_time": "2022-11-26T23:33:41.798Z"
   },
   {
    "duration": 12,
    "start_time": "2022-11-26T23:33:41.818Z"
   },
   {
    "duration": 27,
    "start_time": "2022-11-26T23:33:41.850Z"
   },
   {
    "duration": 12,
    "start_time": "2022-11-26T23:33:41.878Z"
   },
   {
    "duration": 16,
    "start_time": "2022-11-26T23:33:41.892Z"
   },
   {
    "duration": 64,
    "start_time": "2022-11-26T23:33:41.910Z"
   },
   {
    "duration": 12762,
    "start_time": "2022-11-26T23:35:05.104Z"
   },
   {
    "duration": 15249,
    "start_time": "2022-11-26T23:35:45.905Z"
   },
   {
    "duration": 260662,
    "start_time": "2022-11-26T23:36:37.432Z"
   },
   {
    "duration": 48936,
    "start_time": "2022-11-26T23:42:04.954Z"
   },
   {
    "duration": 107787,
    "start_time": "2022-11-26T23:43:12.634Z"
   },
   {
    "duration": 157906,
    "start_time": "2022-11-26T23:45:51.331Z"
   },
   {
    "duration": 794,
    "start_time": "2022-11-26T23:49:55.571Z"
   },
   {
    "duration": 1381,
    "start_time": "2022-11-26T23:50:00.771Z"
   },
   {
    "duration": 2649,
    "start_time": "2022-11-26T23:53:55.780Z"
   },
   {
    "duration": 8,
    "start_time": "2022-11-26T23:54:18.652Z"
   }
  ],
  "kernelspec": {
   "display_name": "Python 3 (ipykernel)",
   "language": "python",
   "name": "python3"
  },
  "language_info": {
   "codemirror_mode": {
    "name": "ipython",
    "version": 3
   },
   "file_extension": ".py",
   "mimetype": "text/x-python",
   "name": "python",
   "nbconvert_exporter": "python",
   "pygments_lexer": "ipython3",
   "version": "3.9.5"
  },
  "toc": {
   "base_numbering": 1,
   "nav_menu": {},
   "number_sections": true,
   "sideBar": true,
   "skip_h1_title": true,
   "title_cell": "Содержание",
   "title_sidebar": "Contents",
   "toc_cell": true,
   "toc_position": {
    "height": "calc(100% - 180px)",
    "left": "10px",
    "top": "150px",
    "width": "327.391px"
   },
   "toc_section_display": true,
   "toc_window_display": true
  }
 },
 "nbformat": 4,
 "nbformat_minor": 2
}
